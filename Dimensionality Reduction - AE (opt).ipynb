{
 "cells": [
  {
   "cell_type": "code",
   "execution_count": 1,
   "metadata": {},
   "outputs": [],
   "source": [
    "import warnings\n",
    "warnings.simplefilter(action='ignore', category=UserWarning)\n",
    "\n",
    "import pandas as pd\n",
    "import numpy as np\n",
    "from datetime import datetime, timedelta\n",
    "import plotly.graph_objs as go\n",
    "import plotly.express as px\n",
    "from plotly.subplots import make_subplots\n",
    "import gzip\n",
    "from datetime import datetime, timedelta\n",
    "from statistics import mean\n",
    "from sklearn.neural_network import MLPClassifier\n",
    "from sklearn.ensemble import RandomForestClassifier\n",
    "import seaborn as sns\n",
    "import matplotlib.pyplot as plt\n",
    "from tensorflow.keras.models import Model, Sequential\n",
    "from tensorflow.keras.layers import Input, Dense, LeakyReLU, BatchNormalization, ReLU\n",
    "from tensorflow.keras.activations import sigmoid, tanh\n",
    "from tensorflow.keras.utils import plot_model\n",
    "\n",
    "from sklearn.preprocessing import MinMaxScaler\n",
    "\n",
    "from tqdm import tqdm\n",
    "import csv\n",
    "import random"
   ]
  },
  {
   "cell_type": "code",
   "execution_count": 2,
   "metadata": {},
   "outputs": [],
   "source": [
    "def retrieve_data(varname, filename):\n",
    "    df = pd.read_csv(filename)\n",
    "    df[\"Date\"] = pd.to_datetime(df[\"Date\"])\n",
    "    return df\n",
    "\n",
    "def create_classification_data(df, lookback):\n",
    "    rows = []\n",
    "    columns = ['Date', 'SP500_relative_change_perc_1'] # date and target\n",
    "    for i in range(1, lookback + 1):\n",
    "        new_columns = df.columns.tolist()[1:]\n",
    "        for x in range(len(new_columns)):\n",
    "            new_columns[x] = new_columns[x] + \"_t-\" + str(i)\n",
    "        columns = columns + new_columns\n",
    "        \n",
    "    for i, row in enumerate(df.iterrows()):\n",
    "        if i > lookback:\n",
    "            new_row = [row[1][0], row[1][2]]\n",
    "            for x in range(1, lookback + 1):\n",
    "                add_row = df.iloc[i - x].tolist()\n",
    "                new_row = new_row + add_row[1:]\n",
    "            rows.append(new_row)\n",
    "    df2 = pd.DataFrame(rows)\n",
    "    df2.columns = columns\n",
    "    return df2\n",
    "\n",
    "def create_train_val_test(df, year_val, year_test, perc_train=None):\n",
    "    if perc_train == None:\n",
    "        val = df[df['Date'].dt.year == year_val]\n",
    "        test = df[df['Date'].dt.year == year_test]\n",
    "        train = df[df['Date'].dt.year != year_val]\n",
    "        train = train[train['Date'].dt.year != year_test]\n",
    "    else:\n",
    "        train = df.head(round(len(df) * perc_train))\n",
    "        val = df.tail(len(df) - len(train))\n",
    "        test = val.tail(round(0.5 * len(val)))\n",
    "        val = df.head(len(val) - len(test))\n",
    "    \n",
    "    y_train = train['SP500_relative_change_perc_1']\n",
    "    x_train = train.drop(['SP500_relative_change_perc_1'], axis=1)\n",
    "    \n",
    "    y_val = val['SP500_relative_change_perc_1']\n",
    "    x_val = val.drop(['SP500_relative_change_perc_1'], axis=1)\n",
    "    \n",
    "    y_test = test['SP500_relative_change_perc_1']\n",
    "    x_test = test.drop(['SP500_relative_change_perc_1'], axis=1)\n",
    "    \n",
    "    return x_train, y_train, x_val, y_val, x_test, y_test\n",
    "\n",
    "def scale_data(x):\n",
    "    standard_scaler = MinMaxScaler()\n",
    "    x = x.drop([\"Date\"], axis=1)\n",
    "    x_scaled = pd.DataFrame(standard_scaler.fit_transform(x), columns=x.columns)\n",
    "    return x_scaled"
   ]
  },
  {
   "cell_type": "code",
   "execution_count": 11,
   "metadata": {},
   "outputs": [],
   "source": [
    "class AE(object):\n",
    "    def __init__(self, x, activation_functions, batch_sizes):\n",
    "        global x_train\n",
    "        global x_val\n",
    "        global epochs\n",
    "        \n",
    "        print(f\"x {x}\")\n",
    "        \n",
    "        self.x_train = x_train\n",
    "        self.x_val = x_val\n",
    "        self.epochs = epochs\n",
    "        \n",
    "        self.activation_function = activation_functions[x[0]]\n",
    "        \n",
    "        self.nodes1 = x[1]\n",
    "        self.nodes2 = x[2]\n",
    "        self.nodes3 = x[3]\n",
    "        \n",
    "        self.encoding_size = x[4]\n",
    "        \n",
    "        self.batch_normalization = x[5]\n",
    "        self.batch_size = batch_sizes[x[6]]\n",
    "        \n",
    "    def fit(self):\n",
    "        input_shape = x_train.shape[1]\n",
    "        visible = Input(shape=(input_shape,))\n",
    "        \n",
    "        # ENCODER\n",
    "        # encoder layer 1\n",
    "        encoder = Dense(self.nodes1)(visible)\n",
    "\n",
    "        # apply batch normalization\n",
    "        if self.batch_normalization == 1:\n",
    "            encoder = BatchNormalization()(encoder)\n",
    "\n",
    "        # activate layer\n",
    "        if self.activation_function == \"LeakyReLU\":\n",
    "            encoder = LeakyReLU()(encoder)\n",
    "        elif self.activation_function == \"ReLU\":\n",
    "            encoder = ReLU()(encoder)\n",
    "        elif self.activation_function == \"sigmoid\":\n",
    "            encoder = sigmoid(encoder)\n",
    "        elif self.activation_function == \"tanh\":\n",
    "            encoder = tanh(encoder)\n",
    "        \n",
    "        # encoder layer 2\n",
    "        if self.nodes2 > 0:\n",
    "            encoder = Dense(self.nodes2)(encoder)\n",
    "            \n",
    "            # apply batch normalization\n",
    "            if self.batch_normalization == 1:\n",
    "                encoder = BatchNormalization()(encoder)\n",
    "            \n",
    "            # activate layer\n",
    "            if self.activation_function == \"LeakyReLU\":\n",
    "                encoder = LeakyReLU()(encoder)\n",
    "            elif self.activation_function == \"ReLU\":\n",
    "                encoder = ReLU()(encoder)\n",
    "            elif self.activation_function == \"sigmoid\":\n",
    "                encoder = sigmoid(encoder)\n",
    "            elif self.activation_function == \"tanh\":\n",
    "                encoder = tanh(encoder)\n",
    "        \n",
    "        # encoder layer 3\n",
    "        if self.nodes3 > 0:\n",
    "            encoder = Dense(self.nodes3)(encoder)\n",
    "            \n",
    "            # apply batch normalization\n",
    "            if self.batch_normalization == 1:\n",
    "                encoder = BatchNormalization()(encoder)\n",
    "                \n",
    "            # activate layer\n",
    "            if self.activation_function == \"LeakyReLU\":\n",
    "                encoder = LeakyReLU()(encoder)\n",
    "            elif self.activation_function == \"ReLU\":\n",
    "                encoder = ReLU()(encoder)\n",
    "            elif self.activation_function == \"sigmoid\":\n",
    "                encoder = sigmoid(encoder)\n",
    "            elif self.activation_function == \"tanh\":\n",
    "                encoder = tanh(encoder)\n",
    "        \n",
    "        # ENCODING\n",
    "        encoding = Dense(self.encoding_size)(encoder) \n",
    "        \n",
    "        # DECODER\n",
    "        # decoder layer 1\n",
    "        if self.nodes3 > 0:\n",
    "            decoder = Dense(self.nodes3)(encoding)\n",
    "            \n",
    "            # apply batch normalization\n",
    "            if self.batch_normalization == 1:\n",
    "                decoder = BatchNormalization()(decoder)\n",
    "                \n",
    "            # activate layer\n",
    "            if self.activation_function == \"LeakyReLU\":\n",
    "                decoder = LeakyReLU()(decoder)\n",
    "            elif self.activation_function == \"ReLU\":\n",
    "                decoder = ReLU()(decoder)\n",
    "            elif self.activation_function == \"sigmoid\":\n",
    "                decoder = sigmoid(decoder)\n",
    "            elif self.activation_function == \"tanh\":\n",
    "                decoder = tanh(decoder)\n",
    "        \n",
    "        # decoder layer 2\n",
    "        if self.nodes2 > 0:\n",
    "            if self.nodes3 == 0:\n",
    "                decoder = Dense(self.nodes2)(encoding)\n",
    "            else:\n",
    "                decoder = Dense(self.nodes2)(decoder)\n",
    "            \n",
    "            # apply batch normalization\n",
    "            if self.batch_normalization == 1:\n",
    "                decoder = BatchNormalization()(decoder)\n",
    "                \n",
    "            # activate layer\n",
    "            if self.activation_function == \"LeakyReLU\":\n",
    "                decoder = LeakyReLU()(decoder)\n",
    "            elif self.activation_function == \"ReLU\":\n",
    "                decoder = ReLU()(decoder)\n",
    "            elif self.activation_function == \"sigmoid\":\n",
    "                decoder = sigmoid(decoder)\n",
    "            elif self.activation_function == \"tanh\":\n",
    "                decoder = tanh(decoder)\n",
    "        \n",
    "        # decoder layer 3\n",
    "        if self.nodes2 == 0 and self.nodes3 == 0:\n",
    "            decoder = Dense(self.nodes1)(encoding)\n",
    "        else:\n",
    "            decoder = Dense(self.nodes1)(decoder)\n",
    "\n",
    "        # apply batch normalization\n",
    "        if self.batch_normalization == 1:\n",
    "            decoder = BatchNormalization()(decoder)\n",
    "\n",
    "        # activate layer\n",
    "        if self.activation_function == \"LeakyReLU\":\n",
    "            decoder = LeakyReLU()(decoder)\n",
    "        elif self.activation_function == \"ReLU\":\n",
    "            decoder = ReLU()(decoder)\n",
    "        elif self.activation_function == \"sigmoid\":\n",
    "            decoder = sigmoid(decoder)\n",
    "        elif self.activation_function == \"tanh\":\n",
    "            decoder = tanh(decoder)\n",
    "            \n",
    "        output = Dense(input_shape, activation='linear')(decoder)\n",
    "        \n",
    "        model = Model(inputs=visible, outputs=output)\n",
    "        model.compile(optimizer='adam', loss='mse')\n",
    "        \n",
    "        history = model.fit(self.x_train, self.x_train, \n",
    "                    epochs=self.epochs, batch_size=self.batch_size, verbose=0, \n",
    "                    validation_data=(self.x_val, self.x_val))\n",
    "        \n",
    "        train_loss = history.history['loss'][-1]\n",
    "        val_loss = history.history['val_loss'][-1]\n",
    "        return train_loss, val_loss"
   ]
  },
  {
   "cell_type": "code",
   "execution_count": 21,
   "metadata": {},
   "outputs": [],
   "source": [
    "def calculate_fitness(x, train_loss, val_loss, input_size):\n",
    "    \"\"\"\n",
    "    nodes1 = x[1]\n",
    "    nodes2 = x[2]\n",
    "    nodes3 = x[3]\n",
    "\n",
    "    encoding_size = x[4] # goed als het kleiner is\n",
    "    \n",
    "    fitness = val_loss * (nodes1 + 2 * nodes2 + 3 * nodes3) * (encoding_size / input_size)\n",
    "    \"\"\"\n",
    "    nodes1 = x[1]\n",
    "    nodes2 = x[2]\n",
    "    nodes3 = x[3]\n",
    "\n",
    "    encoding_size = x[4] # goed als het kleiner is\n",
    "    \n",
    "    fitness = (val_loss ** 3) * (nodes1 + 2 * nodes2 + 3 * nodes3) * max(0.1, (encoding_size / input_size))\n",
    "    return fitness"
   ]
  },
  {
   "cell_type": "code",
   "execution_count": 26,
   "metadata": {},
   "outputs": [],
   "source": [
    "class EA(object):\n",
    "    def __init__(self, population_size, activation_functions, batch_sizes, variables):\n",
    "        self.population_size = population_size\n",
    "        self.a = 0.2\n",
    "        self.activation_functions = activation_functions\n",
    "        self.batch_sizes = batch_sizes\n",
    "        self.variables = variables\n",
    "        \n",
    "    def evaluate(self, x):\n",
    "        \"\"\"\n",
    "        include in fitness function\n",
    "            relative difference between train_loss and val_loss (smaller is better)\n",
    "            number of layers (smaller is better)\n",
    "            bottleneck size (smaller is better)\n",
    "            val_loss (smaller is better)\n",
    "        \n",
    "        \"\"\"\n",
    "        ae = AE(x, activation_functions, batch_sizes)\n",
    "        train_loss, val_loss = ae.fit()\n",
    "        fitness = calculate_fitness(x, train_loss, val_loss, self.variables)\n",
    "        return fitness\n",
    "    \n",
    "    def select_triple(self, candidate, population):\n",
    "        # select three random instances for differential evolution\n",
    "        x1, x2, x3 = np.random.choice(range(len(population))), np.random.choice(range(len(population))), np.random.choice(range(len(population)))\n",
    "        while candidate == x1 or candidate == x2 or candidate == x3 or x1 == x2 or x2 == x3 or x1 == x3:\n",
    "            # keep selecting new ones until candidate != x1 != x2 != x3\n",
    "            x1, x2, x3 = np.random.choice(range(len(population))), np.random.choice(range(len(population))), np.random.choice(range(len(population)))\n",
    "        return population[x1], population[x2], population[x3]\n",
    "    \n",
    "    def mutate(self, x1, x2, x3):\n",
    "        mutated = x1 + (self.a * (x3 - x2))\n",
    "        print(f\"mutated {mutated}\")\n",
    "        # activation function\n",
    "        mutated[0] = round(mutated[0])\n",
    "        mutated[0] = min(mutated[0], len(self.activation_functions) - 1)\n",
    "        mutated[0] = max(0, mutated[0])\n",
    "\n",
    "        # nodes layer 1\n",
    "        mutated[1] = round(mutated[1])\n",
    "        mutated[1] = max(1, mutated[1]) # must be at least one\n",
    "\n",
    "        # nodes layer 2\n",
    "        mutated[2] = round(mutated[2])\n",
    "        mutated[2] = max(0, mutated[2])\n",
    "\n",
    "        # nodes layer 3\n",
    "        mutated[3] = round(mutated[3])\n",
    "        mutated[3] = max(0, mutated[3])\n",
    "\n",
    "        # encoding size\n",
    "        mutated[4] = round(mutated[4])\n",
    "        mutated[4] = max(0, mutated[4])\n",
    "        mutated[4] = min(mutated[4], self.variables) # must be smaller than or equal to the number of variables  \n",
    "        mutated[4] = min(mutated[4], self.variables) # must be smaller than or equal to the number of variables  \n",
    "\n",
    "        # batch normalization  \n",
    "        mutated[5] = round(mutated[5])\n",
    "        mutated[5] = max(0, mutated[5])\n",
    "        mutated[5] = min(mutated[5], 1)\n",
    "\n",
    "        # batch size\n",
    "        mutated[6] = round(mutated[6])\n",
    "        mutated[6] = min(mutated[6], len(self.batch_sizes) - 1)\n",
    "        mutated[6] = max(0, mutated[6])\n",
    "        return mutated\n",
    "        \n",
    "    def recombine(self, candidate, mutation):\n",
    "        for i in range(candidate.shape[0]):\n",
    "            prob = np.random.randint(0, 2)\n",
    "            if prob == 1:\n",
    "                candidate[i] = mutation[i]\n",
    "        print(f\"candidate {candidate}\")\n",
    "        # nodes 3 can only be non-zero if nodes 2 is non-zero\n",
    "        if candidate[2] == 0:\n",
    "            candidate[3] = 0\n",
    "        # nodes per layer must be at least as large as the encoding size (or 0 for nodes2 and nodes3)\n",
    "        candidate[4] = max(0.1 * self.variables, candidate[4])\n",
    "        candidate[1] = max(candidate[1], candidate[4])\n",
    "\n",
    "        if candidate[2] < candidate[4]:\n",
    "            if candidate[2] <= 0.5 * candidate[4]:\n",
    "                candidate[2] = 0\n",
    "            else:\n",
    "                candidate[2] = candidate[4]\n",
    "        if candidate[3] < candidate[4]:\n",
    "            if candidate[3] <= 0.5 * candidate[4]:\n",
    "                candidate[3] = 0\n",
    "            else:\n",
    "                candidate[3] = candidate[4]\n",
    "        return candidate\n",
    "\n",
    "    def select(self, x_new, f_new, x_old, f_old):\n",
    "        x_cat = np.concatenate([x_new, x_old], 0)\n",
    "        f_cat = np.concatenate([f_new, f_old])\n",
    "        ind = np.argsort(f_cat)\n",
    "        x = x_cat[ind]\n",
    "        f = f_cat[ind]\n",
    "        return x[:self.population_size], f[:self.population_size]\n",
    "    \n",
    "    def step(self, x_old, f_old):\n",
    "        x = np.copy(x_old)\n",
    "        f = np.copy(f_old)\n",
    "        for i in tqdm(range(self.population_size), total=self.population_size):\n",
    "            # choose candidate\n",
    "            candidate = x[i]\n",
    "            # select 3 instances for differential evolution\n",
    "            x1, x2, x3 = self.select_triple(i, x)\n",
    "            # mutate 3 instances\n",
    "            mutated_triple = self.mutate(x1, x2, x3)\n",
    "            # recombine candidate with mutation\n",
    "            candidate = self.recombine(candidate, mutated_triple)\n",
    "            x[i] = candidate\n",
    "            # evaluate candidate solution\n",
    "            f_candidate = self.evaluate(candidate)\n",
    "            f[i] = f_candidate\n",
    "        # select survivors\n",
    "        x, f = self.select(x, f, x_old, f_old)\n",
    "        return x, f"
   ]
  },
  {
   "cell_type": "code",
   "execution_count": 27,
   "metadata": {},
   "outputs": [],
   "source": [
    "with open('AE output/optimization_output_15_04_2022.csv', mode='w', newline='') as output_file:\n",
    "    csv_writer = csv.writer(output_file, delimiter=',', quotechar='\"')\n",
    "    row = ['activation_function', 'layer1', 'layer2', 'layer3', 'encoding_size', \n",
    "            'batch_normalization', 'batch_size']\n",
    "#           'train_loss', 'val_loss', 'fitness']\n",
    "    csv_writer.writerow(row)"
   ]
  },
  {
   "cell_type": "code",
   "execution_count": 30,
   "metadata": {},
   "outputs": [],
   "source": [
    "def init_population(population_size, activation_functions, batch_sizes, variables):\n",
    "    # generate initial population\n",
    "    population = []\n",
    "    print(\"Creating initial population...\")\n",
    "    for i in tqdm(range(population_size), total=population_size):\n",
    "        activation_function = random.randint(0, len(activation_functions) - 1)\n",
    "        encoding_size = random.randint(0.1 * variables, variables)\n",
    "        nodes1 = random.randint(encoding_size, 2 * variables)\n",
    "        nodes2 = random.randint(encoding_size, 2 * variables)\n",
    "        nodes3 = random.randint(encoding_size, 2 * variables)\n",
    "        batch_normalization = random.randint(0,1)\n",
    "        batch_size = random.randint(0, len(batch_sizes) - 1)\n",
    "    \n",
    "        population.append(np.asarray([activation_function, nodes1, nodes2, nodes3, encoding_size, batch_normalization, batch_size], dtype='object'))\n",
    "    print(\"Initial population ready\")\n",
    "    return np.asarray(population)\n",
    "\n",
    "def evaluate_init_population(ea, x):\n",
    "    # evaluate initial population\n",
    "    f = []\n",
    "    print(\"Evaluating initial population...\")\n",
    "    for i in tqdm(range(x.shape[0]), total=x.shape[0]):\n",
    "        instance = x[i]\n",
    "        f.append(ea.evaluate(instance))\n",
    "    print(\"Evaluation initial population completed\")\n",
    "    return np.asarray(f)\n",
    "\n",
    "def print_best(x, activation_functions, batch_sizes, fitness):\n",
    "    print(f\"\\nMost suitable parameters -- Fitness of {fitness}:\")\n",
    "    print(f\"\\tActivation function:           \\t{activation_functions[x[0]]}\")\n",
    "    print(f\"\\tNodes layer 1:                 \\t{x[1]}\")\n",
    "    print(f\"\\tNodes layer 2:                 \\t{x[2]}\")\n",
    "    print(f\"\\tNodes layer 3:                 \\t{x[3]}\")\n",
    "    print(f\"\\tSize encoding layer:           \\t{x[4]}\")\n",
    "    print(f\"\\tBatch Normalization:           \\t{x[5]}\")\n",
    "    print(f\"\\tBatch Size:                    \\t{batch_sizes[x[6]]}\")\n",
    "\n",
    "def extract_population(population, activation_functions, batch_size):\n",
    "    with open('AE output/optimization_output_15_04_2022.csv', mode='a', newline='') as output_file:\n",
    "        csv_writer = csv.writer(output_file, delimiter=',', quotechar='\"')\n",
    "        for instance in population:\n",
    "            row = []\n",
    "            activation_function = activation_functions[instance[0]]\n",
    "\n",
    "            nodes1 = instance[1]\n",
    "            nodes2 = instance[2]\n",
    "            nodes3 = instance[3]\n",
    "\n",
    "            encoding_size = instance[4]\n",
    "\n",
    "            batch_normalization = instance[5]\n",
    "            batch_size = batch_sizes[instance[6]]\n",
    "            csv_writer.writerow([activation_function, nodes1, nodes2, nodes3, encoding_size, batch_normalization, batch_size])\n",
    "\n",
    "def plot_convergence(f_best):\n",
    "    fig1 = make_subplots(rows=1, cols=1, specs=[[{'type':'xy'}]])\n",
    "    \n",
    "    x_values = []\n",
    "    for i in range(len(f_best)):\n",
    "        x_values.append(i)\n",
    "    fig1.add_trace(go.Scatter(x=x_values, y=f_best, mode=\"lines\"), row=1, col=1)\n",
    "\n",
    "    fig1.update_layout(\n",
    "        title = f'Fitness Over Autoencoder Tuning Generations', \n",
    "        xaxis1 = dict(title_text = 'Generation'),\n",
    "        yaxis1 = dict(title_text = \"Fitness\")\n",
    "    )\n",
    "    fig1.write_image(\"Plots/opt autoencoder.png\")\n",
    "    fig1.show()\n",
    "\n",
    "def validate_best(x, ea):\n",
    "    print(\"\\nValidating solution...\")\n",
    "    ea.evaluate(x)\n",
    "    print(\"Solution validated\")"
   ]
  },
  {
   "cell_type": "code",
   "execution_count": 29,
   "metadata": {
    "scrolled": false
   },
   "outputs": [
    {
     "name": "stderr",
     "output_type": "stream",
     "text": [
      "100%|████████████████████████████████████████| 20/20 [00:00<00:00, 34721.06it/s]\n",
      "  0%|                                                    | 0/20 [00:00<?, ?it/s]"
     ]
    },
    {
     "name": "stdout",
     "output_type": "stream",
     "text": [
      "Input size: 1500\n",
      "Creating initial population...\n",
      "Initial population ready\n",
      "Evaluating initial population...\n",
      "x [2 2075 2278 1323 875 0 1]\n"
     ]
    },
    {
     "name": "stderr",
     "output_type": "stream",
     "text": [
      "\r",
      "  5%|██▏                                        | 1/20 [02:39<50:31, 159.57s/it]"
     ]
    },
    {
     "name": "stdout",
     "output_type": "stream",
     "text": [
      "x [2 1613 664 942 430 0 0]\n"
     ]
    },
    {
     "name": "stderr",
     "output_type": "stream",
     "text": [
      "\r",
      " 10%|████▎                                      | 2/20 [04:56<43:53, 146.32s/it]"
     ]
    },
    {
     "name": "stdout",
     "output_type": "stream",
     "text": [
      "x [1 1050 2520 875 646 1 2]\n"
     ]
    },
    {
     "name": "stderr",
     "output_type": "stream",
     "text": [
      "\r",
      " 15%|██████▍                                    | 3/20 [06:19<33:16, 117.46s/it]"
     ]
    },
    {
     "name": "stdout",
     "output_type": "stream",
     "text": [
      "x [1 2143 1260 1970 1209 1 1]\n"
     ]
    },
    {
     "name": "stderr",
     "output_type": "stream",
     "text": [
      "\r",
      " 20%|████████▌                                  | 4/20 [08:58<35:40, 133.76s/it]"
     ]
    },
    {
     "name": "stdout",
     "output_type": "stream",
     "text": [
      "x [3 1507 2859 2309 714 0 3]\n"
     ]
    },
    {
     "name": "stderr",
     "output_type": "stream",
     "text": [
      "\r",
      " 25%|██████████▊                                | 5/20 [10:48<31:19, 125.28s/it]"
     ]
    },
    {
     "name": "stdout",
     "output_type": "stream",
     "text": [
      "x [0 619 1830 1400 403 1 0]\n"
     ]
    },
    {
     "name": "stderr",
     "output_type": "stream",
     "text": [
      "\r",
      " 30%|████████████▉                              | 6/20 [13:31<32:11, 137.99s/it]"
     ]
    },
    {
     "name": "stdout",
     "output_type": "stream",
     "text": [
      "x [1 1096 2452 2352 733 1 3]\n"
     ]
    },
    {
     "name": "stderr",
     "output_type": "stream",
     "text": [
      "\r",
      " 35%|███████████████                            | 7/20 [15:18<27:42, 127.87s/it]"
     ]
    },
    {
     "name": "stdout",
     "output_type": "stream",
     "text": [
      "x [1 695 1729 1362 671 1 2]\n"
     ]
    },
    {
     "name": "stderr",
     "output_type": "stream",
     "text": [
      "\r",
      " 40%|█████████████████▏                         | 8/20 [16:29<21:57, 109.80s/it]"
     ]
    },
    {
     "name": "stdout",
     "output_type": "stream",
     "text": [
      "x [3 1197 1397 2010 1019 0 3]\n"
     ]
    },
    {
     "name": "stderr",
     "output_type": "stream",
     "text": [
      "\r",
      " 45%|███████████████████▊                        | 9/20 [17:27<17:10, 93.64s/it]"
     ]
    },
    {
     "name": "stdout",
     "output_type": "stream",
     "text": [
      "x [0 1604 2442 2885 363 0 1]\n"
     ]
    },
    {
     "name": "stderr",
     "output_type": "stream",
     "text": [
      "\r",
      " 50%|█████████████████████                     | 10/20 [20:30<20:13, 121.30s/it]"
     ]
    },
    {
     "name": "stdout",
     "output_type": "stream",
     "text": [
      "x [1 2244 1495 2445 1075 1 2]\n"
     ]
    },
    {
     "name": "stderr",
     "output_type": "stream",
     "text": [
      "\r",
      " 55%|███████████████████████                   | 11/20 [22:55<19:17, 128.58s/it]"
     ]
    },
    {
     "name": "stdout",
     "output_type": "stream",
     "text": [
      "x [0 2452 2834 2141 1424 1 3]\n"
     ]
    },
    {
     "name": "stderr",
     "output_type": "stream",
     "text": [
      "\r",
      " 60%|█████████████████████████▏                | 12/20 [25:33<18:19, 137.46s/it]"
     ]
    },
    {
     "name": "stdout",
     "output_type": "stream",
     "text": [
      "x [1 1617 2045 1169 1081 0 3]\n"
     ]
    },
    {
     "name": "stderr",
     "output_type": "stream",
     "text": [
      "\r",
      " 65%|███████████████████████████▎              | 13/20 [26:40<13:32, 116.12s/it]"
     ]
    },
    {
     "name": "stdout",
     "output_type": "stream",
     "text": [
      "x [0 2201 2776 2309 592 0 0]\n"
     ]
    },
    {
     "name": "stderr",
     "output_type": "stream",
     "text": [
      "\r",
      " 70%|█████████████████████████████▍            | 14/20 [35:33<24:11, 241.95s/it]"
     ]
    },
    {
     "name": "stdout",
     "output_type": "stream",
     "text": [
      "x [3 2361 2513 2910 836 1 3]\n"
     ]
    },
    {
     "name": "stderr",
     "output_type": "stream",
     "text": [
      "\r",
      " 75%|███████████████████████████████▌          | 15/20 [38:36<18:41, 224.33s/it]"
     ]
    },
    {
     "name": "stdout",
     "output_type": "stream",
     "text": [
      "x [1 943 2120 1754 225 0 0]\n"
     ]
    },
    {
     "name": "stderr",
     "output_type": "stream",
     "text": [
      "\r",
      " 80%|█████████████████████████████████▌        | 16/20 [42:18<14:53, 223.41s/it]"
     ]
    },
    {
     "name": "stdout",
     "output_type": "stream",
     "text": [
      "x [1 2227 1611 1426 1255 1 1]\n"
     ]
    },
    {
     "name": "stderr",
     "output_type": "stream",
     "text": [
      "\r",
      " 85%|███████████████████████████████████▋      | 17/20 [45:44<10:54, 218.16s/it]"
     ]
    },
    {
     "name": "stdout",
     "output_type": "stream",
     "text": [
      "x [2 2850 1827 1955 1434 1 3]\n"
     ]
    },
    {
     "name": "stderr",
     "output_type": "stream",
     "text": [
      "\r",
      " 90%|█████████████████████████████████████▊    | 18/20 [48:11<06:33, 196.95s/it]"
     ]
    },
    {
     "name": "stdout",
     "output_type": "stream",
     "text": [
      "x [2 2130 2752 2293 1034 1 1]\n"
     ]
    },
    {
     "name": "stderr",
     "output_type": "stream",
     "text": [
      "\r",
      " 95%|███████████████████████████████████████▉  | 19/20 [53:30<03:53, 233.67s/it]"
     ]
    },
    {
     "name": "stdout",
     "output_type": "stream",
     "text": [
      "x [3 2797 2510 1923 1458 0 3]\n"
     ]
    },
    {
     "name": "stderr",
     "output_type": "stream",
     "text": [
      "100%|██████████████████████████████████████████| 20/20 [55:51<00:00, 167.56s/it]\n",
      "  0%|                                                    | 0/20 [00:00<?, ?it/s]"
     ]
    },
    {
     "name": "stdout",
     "output_type": "stream",
     "text": [
      "Evaluation initial population completed\n",
      "--> STARTING EVOLUTION\n",
      "Generation: 0\tBest fitness: 0.06993639598549292\n",
      "mutated [1.0 1310.6 2068.6 1156.2 964.2 0.0 3.2]\n",
      "candidate [2 2075 2278 1156 875 0 1]\n",
      "x [2 2075 2278 1156 875 0 1]\n"
     ]
    },
    {
     "name": "stderr",
     "output_type": "stream",
     "text": [
      "\r",
      "  5%|██▏                                        | 1/20 [02:42<51:31, 162.69s/it]"
     ]
    },
    {
     "name": "stdout",
     "output_type": "stream",
     "text": [
      "mutated [1.0 1638.4 2125.0 993.2 1165.2 0.2 3.4]\n",
      "candidate [1 1613 664 993 430 0 0]\n",
      "x [1 1613 664 993 430 0 0]\n"
     ]
    },
    {
     "name": "stderr",
     "output_type": "stream",
     "text": [
      "\r",
      " 10%|████▎                                      | 2/20 [05:06<45:29, 151.66s/it]"
     ]
    },
    {
     "name": "stdout",
     "output_type": "stream",
     "text": [
      "mutated [1.8 2305.6 2928.2 2122.2 1005.2 1.0 0.6]\n",
      "candidate [1 1050 2520 875 1005 1 2]\n",
      "x [1 1050 2520 1005 1005 1 2]\n"
     ]
    },
    {
     "name": "stderr",
     "output_type": "stream",
     "text": [
      "\r",
      " 15%|██████▍                                    | 3/20 [06:42<35:44, 126.17s/it]"
     ]
    },
    {
     "name": "stdout",
     "output_type": "stream",
     "text": [
      "mutated [0.3999999999999999 1631.2 728.2 839.2 547.6 0.0 0.0]\n",
      "candidate [0 2143 1260 1970 1209 0 0]\n",
      "x [0 2143 1260 1970 1209 0 0]\n"
     ]
    },
    {
     "name": "stderr",
     "output_type": "stream",
     "text": [
      "\r",
      " 20%|████████▌                                  | 4/20 [10:48<46:18, 173.63s/it]"
     ]
    },
    {
     "name": "stdout",
     "output_type": "stream",
     "text": [
      "mutated [2.6 2219.6 2399.6 2913.0 791.0 0.8 2.4]\n",
      "candidate [3 1507 2400 2309 714 1 2]\n",
      "x [3 1507 2400 2309 714 1 2]\n"
     ]
    },
    {
     "name": "stderr",
     "output_type": "stream",
     "text": [
      "\r",
      " 25%|██████████▊                                | 5/20 [13:32<42:28, 169.91s/it]"
     ]
    },
    {
     "name": "stdout",
     "output_type": "stream",
     "text": [
      "mutated [1.2 1633.2 711.0 1088.0 403.2 0.2 0.4]\n",
      "candidate [1 1633 1830 1400 403 1 0]\n",
      "x [1 1633 1830 1400 403 1 0]\n"
     ]
    },
    {
     "name": "stderr",
     "output_type": "stream",
     "text": [
      "\r",
      " 30%|████████████▉                              | 6/20 [17:34<45:24, 194.57s/it]"
     ]
    },
    {
     "name": "stdout",
     "output_type": "stream",
     "text": [
      "mutated [3.0 2909.6 2138.8 1920.6 1343.0 -0.2 2.6]\n",
      "candidate [1 1096 2139 2352 1343 1 3]\n",
      "x [1 1343 2139 2352 1343 1 3]\n"
     ]
    },
    {
     "name": "stderr",
     "output_type": "stream",
     "text": [
      "\r",
      " 35%|███████████████                            | 7/20 [19:30<36:33, 168.69s/it]"
     ]
    },
    {
     "name": "stdout",
     "output_type": "stream",
     "text": [
      "mutated [3.0 2306.2 2531.8 3146.6 888.4 1.2 3.0]\n",
      "candidate [1 2306 2532 1362 888 1 2]\n",
      "x [1 2306 2532 1362 888 1 2]\n"
     ]
    },
    {
     "name": "stderr",
     "output_type": "stream",
     "text": [
      "\r",
      " 40%|█████████████████▏                         | 8/20 [22:14<33:28, 167.40s/it]"
     ]
    },
    {
     "name": "stdout",
     "output_type": "stream",
     "text": [
      "mutated [1.0 2233.0 1400.2 2217.6 1043.2 0.8 2.0]\n",
      "candidate [1 2233 1397 2218 1043 0 2]\n",
      "x [1 2233 1397 2218 1043 0 2]\n"
     ]
    },
    {
     "name": "stderr",
     "output_type": "stream",
     "text": [
      "\r",
      " 45%|███████████████████▎                       | 9/20 [24:03<27:19, 149.08s/it]"
     ]
    },
    {
     "name": "stdout",
     "output_type": "stream",
     "text": [
      "mutated [0.0 2317.6 2638.0 2388.0 471.6 0.0 -0.4]\n",
      "candidate [0 2318 2638 2885 472 0 1]\n",
      "x [0 2318 2638 2885 472 0 1]\n"
     ]
    },
    {
     "name": "stderr",
     "output_type": "stream",
     "text": [
      "\r",
      " 50%|█████████████████████                     | 10/20 [28:16<30:12, 181.27s/it]"
     ]
    },
    {
     "name": "stdout",
     "output_type": "stream",
     "text": [
      "mutated [3.2 2139.2 2374.0 2952.2 819.8 1.0 3.0]\n",
      "candidate [1 2139 1495 2445 1075 1 3]\n",
      "x [1 2139 1495 2445 1075 1 3]\n"
     ]
    },
    {
     "name": "stderr",
     "output_type": "stream",
     "text": [
      "\r",
      " 55%|███████████████████████                   | 11/20 [30:07<23:56, 159.60s/it]"
     ]
    },
    {
     "name": "stdout",
     "output_type": "stream",
     "text": [
      "mutated [-0.2 2076.4 2732.8 2203.2 556.2 0.0 -0.4]\n",
      "candidate [0 2076 2834 2141 556 0 0]\n",
      "x [0 2076 2834 2141 556 0 0]\n"
     ]
    },
    {
     "name": "stderr",
     "output_type": "stream",
     "text": [
      "\r",
      " 60%|█████████████████████████▏                | 12/20 [38:18<34:43, 260.46s/it]"
     ]
    },
    {
     "name": "stdout",
     "output_type": "stream",
     "text": [
      "mutated [-0.2 1942.6 2882.4 2215.0 471.2 0.2 -0.4]\n",
      "candidate [0 1617 2045 1169 1081 0 0]\n",
      "x [0 1617 2045 1169 1081 0 0]\n"
     ]
    },
    {
     "name": "stderr",
     "output_type": "stream",
     "text": [
      "\r",
      " 65%|███████████████████████████▎              | 13/20 [41:49<28:39, 245.63s/it]"
     ]
    },
    {
     "name": "stdout",
     "output_type": "stream",
     "text": [
      "mutated [3.0 1368.4 2026.4 2235.2 622.4 0.8 1.6]\n",
      "candidate [3 2201 2776 2309 622 1 2]\n",
      "x [3 2201 2776 2309 622 1 2]\n"
     ]
    },
    {
     "name": "stderr",
     "output_type": "stream",
     "text": [
      "\r",
      " 70%|█████████████████████████████▍            | 14/20 [45:09<23:10, 231.76s/it]"
     ]
    },
    {
     "name": "stdout",
     "output_type": "stream",
     "text": [
      "mutated [3.4 2437.8 3145.2 2495.0 827.6 1.0 2.6]\n",
      "candidate [3 2438 3145 2495 828 1 3]\n",
      "x [3 2438 3145 2495 828 1 3]\n"
     ]
    },
    {
     "name": "stderr",
     "output_type": "stream",
     "text": [
      "\r",
      " 75%|███████████████████████████████▌          | 15/20 [48:11<18:03, 216.75s/it]"
     ]
    },
    {
     "name": "stdout",
     "output_type": "stream",
     "text": [
      "mutated [-0.4 2097.2 2486.8 1877.8 499.2 -0.2 -0.4]\n",
      "candidate [0 943 2120 1754 225 0 0]\n",
      "x [0 943 2120 1754 225 0 0]\n"
     ]
    },
    {
     "name": "stderr",
     "output_type": "stream",
     "text": [
      "\r",
      " 80%|█████████████████████████████████▌        | 16/20 [51:33<14:08, 212.15s/it]"
     ]
    },
    {
     "name": "stdout",
     "output_type": "stream",
     "text": [
      "mutated [-0.2 1835.6 1793.0 1362.0 1121.8 -0.2 -0.4]\n",
      "candidate [0 2227 1793 1426 1122 1 1]\n",
      "x [0 2227 1793 1426 1122 1 1]\n"
     ]
    },
    {
     "name": "stderr",
     "output_type": "stream",
     "text": [
      "\r",
      " 85%|███████████████████████████████████▋      | 17/20 [54:51<10:23, 207.88s/it]"
     ]
    },
    {
     "name": "stdout",
     "output_type": "stream",
     "text": [
      "mutated [0.8 1633.6 393.0 978.0 431.8 -0.2 0.2]\n",
      "candidate [2 1634 1827 1955 1434 0 3]\n",
      "x [2 1634 1827 1955 1434 0 3]\n"
     ]
    },
    {
     "name": "stderr",
     "output_type": "stream",
     "text": [
      "\r",
      " 90%|█████████████████████████████████████▊    | 18/20 [56:13<05:40, 170.09s/it]"
     ]
    },
    {
     "name": "stdout",
     "output_type": "stream",
     "text": [
      "mutated [3.0 2339.6 3149.6 2382.8 713.6 1.2 2.4]\n",
      "candidate [3 2340 3150 2293 714 1 1]\n",
      "x [3 2340 3150 2293 714 1 1]\n"
     ]
    },
    {
     "name": "stderr",
     "output_type": "stream",
     "text": [
      "\r",
      " 95%|██████████████████████████████████████  | 19/20 [1:01:54<03:41, 221.57s/it]"
     ]
    },
    {
     "name": "stdout",
     "output_type": "stream",
     "text": [
      "mutated [3.2 2293.8 3099.2 2251.8 711.4 0.8 0.8]\n",
      "candidate [3 2294 2510 2252 1458 1 1]\n",
      "x [3 2294 2510 2252 1458 1 1]\n"
     ]
    },
    {
     "name": "stderr",
     "output_type": "stream",
     "text": [
      "100%|████████████████████████████████████████| 20/20 [1:06:22<00:00, 199.12s/it]\n",
      "  0%|                                                    | 0/20 [00:00<?, ?it/s]"
     ]
    },
    {
     "name": "stdout",
     "output_type": "stream",
     "text": [
      "[[0 619 1830 1400 403 1 0]\n",
      " [1 695 1729 1362 671 1 2]\n",
      " [1 1050 2520 875 646 1 2]\n",
      " [0 943 2120 1754 225 0 0]\n",
      " [2 2130 2752 2293 1034 1 1]\n",
      " [1 1633 1830 1400 403 1 0]\n",
      " [1 1050 2520 1005 1005 1 2]\n",
      " [2 2850 1827 1955 1434 1 3]\n",
      " [2 1613 664 942 430 0 0]\n",
      " [1 2143 1260 1970 1209 1 1]\n",
      " [0 1604 2442 2885 363 0 1]\n",
      " [1 2306 2532 1362 888 1 2]\n",
      " [1 1096 2452 2352 733 1 3]\n",
      " [1 2244 1495 2445 1075 1 2]\n",
      " [0 2318 2638 2885 472 0 1]\n",
      " [1 1617 2045 1169 1081 0 3]\n",
      " [0 2201 2776 2309 592 0 0]\n",
      " [0 2227 1793 1426 1122 1 1]\n",
      " [0 1617 2045 1169 1081 0 0]\n",
      " [0 2076 2834 2141 556 0 0]]\n",
      "Generation: 1\tBest fitness: 0.06993639598549292\n",
      "mutated [1.4 1767.0 1538.8 1237.6 444.0 1.0 0.0]\n",
      "candidate [1 1767 1539 1238 444 1 0]\n",
      "x [1 1767 1539 1238 444 1 0]\n"
     ]
    },
    {
     "name": "stderr",
     "output_type": "stream",
     "text": [
      "\r",
      "  5%|██                                       | 1/20 [03:49<1:12:40, 229.48s/it]"
     ]
    },
    {
     "name": "stdout",
     "output_type": "stream",
     "text": [
      "mutated [1.2 1204.8 2311.0 2470.6 842.2 1.0 3.2]\n",
      "candidate [1 695 2311 2471 671 1 2]\n",
      "x [1 695 2311 2471 671 1 2]\n"
     ]
    },
    {
     "name": "stderr",
     "output_type": "stream",
     "text": [
      "\r",
      " 10%|████▎                                      | 2/20 [05:51<49:53, 166.33s/it]"
     ]
    },
    {
     "name": "stdout",
     "output_type": "stream",
     "text": [
      "mutated [0.8 2206.6 2347.6 1183.4 761.8 1.0 1.8]\n",
      "candidate [1 1050 2520 1183 646 1 2]\n",
      "x [1 1050 2520 1183 646 1 2]\n"
     ]
    },
    {
     "name": "stderr",
     "output_type": "stream",
     "text": [
      "\r",
      " 15%|██████▍                                    | 3/20 [07:42<39:59, 141.16s/it]"
     ]
    },
    {
     "name": "stdout",
     "output_type": "stream",
     "text": [
      "mutated [0.2 1894.2 2807.8 2058.2 617.6 0.2 0.2]\n",
      "candidate [0 943 2120 1754 618 0 0]\n",
      "x [0 943 2120 1754 618 0 0]\n"
     ]
    },
    {
     "name": "stderr",
     "output_type": "stream",
     "text": [
      "\r",
      " 20%|████████▌                                  | 4/20 [11:43<48:09, 180.57s/it]"
     ]
    },
    {
     "name": "stdout",
     "output_type": "stream",
     "text": [
      "mutated [1.2 1266.6 2577.6 1326.4 844.0 1.0 2.6]\n",
      "candidate [2 2130 2578 1326 844 1 3]\n",
      "x [2 2130 2578 1326 844 1 3]\n"
     ]
    },
    {
     "name": "stderr",
     "output_type": "stream",
     "text": [
      "\r",
      " 25%|██████████▊                                | 5/20 [13:52<40:29, 161.97s/it]"
     ]
    },
    {
     "name": "stdout",
     "output_type": "stream",
     "text": [
      "mutated [0.2 1833.0 2056.6 1233.2 1048.8 0.0 0.2]\n",
      "candidate [1 1633 2057 1400 1049 0 0]\n",
      "x [1 1633 2057 1400 1049 0 0]\n"
     ]
    },
    {
     "name": "stderr",
     "output_type": "stream",
     "text": [
      "\r",
      " 30%|████████████▉                              | 6/20 [17:46<43:28, 186.34s/it]"
     ]
    },
    {
     "name": "stdout",
     "output_type": "stream",
     "text": [
      "mutated [1.2 1528.4 1889.6 1020.8 1179.6 0.0 3.0]\n",
      "candidate [1 1050 1890 1005 1005 1 3]\n",
      "x [1 1050 1890 1005 1005 1 3]\n"
     ]
    },
    {
     "name": "stderr",
     "output_type": "stream",
     "text": [
      "\r",
      " 35%|███████████████                            | 7/20 [18:55<32:02, 147.89s/it]"
     ]
    },
    {
     "name": "stdout",
     "output_type": "stream",
     "text": [
      "mutated [2.2 1499.6 759.0 944.8 343.0 0.2 0.4]\n",
      "candidate [2 1500 759 945 1434 0 3]\n",
      "x [2 1500 1434 1434 1434 0 3]\n"
     ]
    },
    {
     "name": "stderr",
     "output_type": "stream",
     "text": [
      "\r",
      " 40%|█████████████████▏                         | 8/20 [19:52<23:50, 119.20s/it]"
     ]
    },
    {
     "name": "stdout",
     "output_type": "stream",
     "text": [
      "mutated [1.0 2250.8 1458.6 1994.8 1297.8 1.0 1.4]\n",
      "candidate [2 2251 664 942 1298 0 1]\n",
      "x [2 2251 1298 1298 1298 0 1]\n"
     ]
    },
    {
     "name": "stderr",
     "output_type": "stream",
     "text": [
      "\r",
      " 45%|███████████████████▎                       | 9/20 [21:50<21:44, 118.61s/it]"
     ]
    },
    {
     "name": "stdout",
     "output_type": "stream",
     "text": [
      "mutated [0.8 1468.2 2173.2 1503.2 1083.8 -0.2 0.0]\n",
      "candidate [1 2143 1260 1970 1209 0 0]\n",
      "x [1 2143 1260 1970 1209 0 0]\n"
     ]
    },
    {
     "name": "stderr",
     "output_type": "stream",
     "text": [
      "\r",
      " 50%|█████████████████████                     | 10/20 [25:36<25:19, 151.98s/it]"
     ]
    },
    {
     "name": "stdout",
     "output_type": "stream",
     "text": [
      "mutated [1.2 2190.6 1474.0 2484.2 1273.0 0.8 2.6]\n",
      "candidate [1 2191 2442 2885 1273 1 1]\n",
      "x [1 2191 2442 2885 1273 1 1]\n"
     ]
    },
    {
     "name": "stderr",
     "output_type": "stream",
     "text": [
      "\r",
      " 55%|███████████████████████                   | 11/20 [30:53<30:22, 202.47s/it]"
     ]
    },
    {
     "name": "stdout",
     "output_type": "stream",
     "text": [
      "mutated [-0.4 2240.4 2061.0 1743.4 956.8 1.0 1.0]\n",
      "candidate [1 2306 2532 1743 888 1 2]\n",
      "x [1 2306 2532 1743 888 1 2]\n"
     ]
    },
    {
     "name": "stderr",
     "output_type": "stream",
     "text": [
      "\r",
      " 60%|█████████████████████████▏                | 12/20 [33:55<26:08, 196.10s/it]"
     ]
    },
    {
     "name": "stdout",
     "output_type": "stream",
     "text": [
      "mutated [0.8 1628.0 2291.8 1258.0 999.0 0.2 3.2]\n",
      "candidate [1 1628 2452 2352 999 1 3]\n",
      "x [1 1628 2452 2352 999 1 3]\n"
     ]
    },
    {
     "name": "stderr",
     "output_type": "stream",
     "text": [
      "\r",
      " 65%|███████████████████████████▎              | 13/20 [35:58<20:18, 174.00s/it]"
     ]
    },
    {
     "name": "stdout",
     "output_type": "stream",
     "text": [
      "mutated [1.0 1703.2 2396.2 2498.4 1152.0 0.8 3.0]\n",
      "candidate [1 2244 2396 2445 1152 1 3]\n",
      "x [1 2244 2396 2445 1152 1 3]\n"
     ]
    },
    {
     "name": "stderr",
     "output_type": "stream",
     "text": [
      "\r",
      " 70%|█████████████████████████████▍            | 14/20 [38:26<16:36, 166.13s/it]"
     ]
    },
    {
     "name": "stdout",
     "output_type": "stream",
     "text": [
      "mutated [1.2 603.2 2153.2 2276.6 776.0 1.0 2.6]\n",
      "candidate [0 603 2153 2277 472 0 1]\n",
      "x [0 603 2153 2277 472 0 1]\n"
     ]
    },
    {
     "name": "stderr",
     "output_type": "stream",
     "text": [
      "\r",
      " 75%|███████████████████████████████▌          | 15/20 [40:24<12:38, 151.66s/it]"
     ]
    },
    {
     "name": "stdout",
     "output_type": "stream",
     "text": [
      "mutated [1.4 1777.0 1243.4 1035.8 585.2 1.0 0.2]\n",
      "candidate [1 1777 1243 1036 1081 1 3]\n",
      "x [1 1777 1243 1081 1081 1 3]\n"
     ]
    },
    {
     "name": "stderr",
     "output_type": "stream",
     "text": [
      "\r",
      " 80%|█████████████████████████████████▌        | 16/20 [41:41<08:37, 129.28s/it]"
     ]
    },
    {
     "name": "stdout",
     "output_type": "stream",
     "text": [
      "mutated [-0.2 2205.4 1785.4 1560.4 1104.2 1.0 0.8]\n",
      "candidate [0 2201 1785 2309 1104 1 1]\n",
      "x [0 2201 1785 2309 1104 1 1]\n"
     ]
    },
    {
     "name": "stderr",
     "output_type": "stream",
     "text": [
      "\r",
      " 85%|███████████████████████████████████▋      | 17/20 [46:01<08:25, 168.34s/it]"
     ]
    },
    {
     "name": "stdout",
     "output_type": "stream",
     "text": [
      "mutated [1.0 1381.4 2124.0 1289.0 951.8 -0.2 -0.2]\n",
      "candidate [0 1381 2124 1289 952 0 0]\n",
      "x [0 1381 2124 1289 952 0 0]\n"
     ]
    },
    {
     "name": "stderr",
     "output_type": "stream",
     "text": [
      "\r",
      " 90%|█████████████████████████████████████▊    | 18/20 [49:35<06:04, 182.21s/it]"
     ]
    },
    {
     "name": "stdout",
     "output_type": "stream",
     "text": [
      "mutated [1.2 2339.6 2444.4 1803.8 1007.2 1.2 2.6]\n",
      "candidate [1 1617 2444 1169 1081 1 3]\n",
      "x [1 1617 2444 1169 1081 1 3]\n"
     ]
    },
    {
     "name": "stderr",
     "output_type": "stream",
     "text": [
      "\r",
      " 95%|███████████████████████████████████████▉  | 19/20 [52:26<02:58, 178.77s/it]"
     ]
    },
    {
     "name": "stdout",
     "output_type": "stream",
     "text": [
      "mutated [0.0 1962.2 1809.8 2056.6 1002.8 1.0 0.8]\n",
      "candidate [0 2076 1810 2141 556 1 1]\n",
      "x [0 2076 1810 2141 556 1 1]\n"
     ]
    },
    {
     "name": "stderr",
     "output_type": "stream",
     "text": [
      "100%|██████████████████████████████████████████| 20/20 [57:30<00:00, 172.54s/it]\n",
      "  0%|                                                    | 0/20 [00:00<?, ?it/s]"
     ]
    },
    {
     "name": "stdout",
     "output_type": "stream",
     "text": [
      "[[0 619 1830 1400 403 1 0]\n",
      " [2 2130 2578 1326 844 1 3]\n",
      " [1 695 1729 1362 671 1 2]\n",
      " [1 1050 2520 875 646 1 2]\n",
      " [0 943 2120 1754 225 0 0]\n",
      " [1 1767 1539 1238 444 1 0]\n",
      " [2 2130 2752 2293 1034 1 1]\n",
      " [1 1633 1830 1400 403 1 0]\n",
      " [1 1050 2520 1183 646 1 2]\n",
      " [1 2143 1260 1970 1209 0 0]\n",
      " [1 1050 2520 1005 1005 1 2]\n",
      " [1 695 2311 2471 671 1 2]\n",
      " [2 2850 1827 1955 1434 1 3]\n",
      " [0 603 2153 2277 472 0 1]\n",
      " [2 1613 664 942 430 0 0]\n",
      " [1 2143 1260 1970 1209 1 1]\n",
      " [0 1604 2442 2885 363 0 1]\n",
      " [1 2306 2532 1743 888 1 2]\n",
      " [0 2076 1810 2141 556 1 1]\n",
      " [1 1050 1890 1005 1005 1 3]]\n",
      "Generation: 2\tBest fitness: 0.06993639598549292\n",
      "mutated [-0.2 1803.4 1727.6 2143.2 423.4 0.8 0.6]\n",
      "candidate [0 619 1830 1400 423 1 0]\n",
      "x [0 619 1830 1400 423 1 0]\n"
     ]
    },
    {
     "name": "stderr",
     "output_type": "stream",
     "text": [
      "\r",
      "  5%|██                                       | 1/20 [04:10<1:19:18, 250.42s/it]"
     ]
    },
    {
     "name": "stdout",
     "output_type": "stream",
     "text": [
      "mutated [0.8 2231.6 1256.0 2118.2 1239.6 0.0 0.2]\n",
      "candidate [1 2130 1256 1326 844 0 3]\n",
      "x [1 2130 1256 1326 844 0 3]\n"
     ]
    },
    {
     "name": "stderr",
     "output_type": "stream",
     "text": [
      "\r",
      " 10%|████▎                                      | 2/20 [05:09<41:22, 137.92s/it]"
     ]
    },
    {
     "name": "stdout",
     "output_type": "stream",
     "text": [
      "mutated [1.0 2356.6 1194.0 1403.4 910.2 0.2 3.2]\n",
      "candidate [1 2357 1194 1403 910 0 3]\n",
      "x [1 2357 1194 1403 910 0 3]\n"
     ]
    },
    {
     "name": "stderr",
     "output_type": "stream",
     "text": [
      "\r",
      " 15%|██████▍                                    | 3/20 [06:13<29:29, 104.08s/it]"
     ]
    },
    {
     "name": "stdout",
     "output_type": "stream",
     "text": [
      "mutated [0.2 832.2 2135.6 1378.0 353.4 0.2 0.2]\n",
      "candidate [0 832 2136 875 353 0 2]\n",
      "x [0 832 2136 875 353 0 2]\n"
     ]
    },
    {
     "name": "stderr",
     "output_type": "stream",
     "text": [
      "\r",
      " 20%|████████▊                                   | 4/20 [06:58<21:33, 80.82s/it]"
     ]
    },
    {
     "name": "stdout",
     "output_type": "stream",
     "text": [
      "mutated [1.0 2156.8 1136.2 1281.4 931.8 0.0 3.0]\n",
      "candidate [0 2157 2120 1754 932 0 0]\n",
      "x [0 2157 2120 1754 932 0 0]\n"
     ]
    },
    {
     "name": "stderr",
     "output_type": "stream",
     "text": [
      "\r",
      " 25%|██████████▊                                | 5/20 [11:20<36:32, 146.18s/it]"
     ]
    },
    {
     "name": "stdout",
     "output_type": "stream",
     "text": [
      "mutated [0.2 862.4 1829.4 1511.0 629.2 1.0 0.6000000000000001]\n",
      "candidate [0 1767 1829 1511 444 1 0]\n",
      "x [0 1767 1829 1511 444 1 0]\n"
     ]
    },
    {
     "name": "stderr",
     "output_type": "stream",
     "text": [
      "\r",
      " 30%|████████████▉                              | 6/20 [15:32<42:30, 182.19s/it]"
     ]
    },
    {
     "name": "stdout",
     "output_type": "stream",
     "text": [
      "mutated [2.0 1323.4 874.2 1042.2 322.4 0.0 0.2]\n",
      "candidate [2 1323 874 1042 1034 1 0]\n",
      "x [2 1323 1034 1042 1034 1 0]\n"
     ]
    },
    {
     "name": "stderr",
     "output_type": "stream",
     "text": [
      "\r",
      " 35%|███████████████                            | 7/20 [17:30<34:55, 161.23s/it]"
     ]
    },
    {
     "name": "stdout",
     "output_type": "stream",
     "text": [
      "mutated [1.2 1106.2 1766.8 857.4 1075.8 0.8 3.4]\n",
      "candidate [1 1106 1767 857 403 1 0]\n",
      "x [1 1106 1767 857 403 1 0]\n"
     ]
    },
    {
     "name": "stderr",
     "output_type": "stream",
     "text": [
      "\r",
      " 40%|█████████████████▏                         | 8/20 [20:08<32:01, 160.08s/it]"
     ]
    },
    {
     "name": "stdout",
     "output_type": "stream",
     "text": [
      "mutated [0.6 2107.8 1317.0 1589.0 695.8 -0.2 2.6]\n",
      "candidate [1 2108 2520 1589 646 1 3]\n",
      "x [1 2108 2520 1589 646 1 3]\n"
     ]
    },
    {
     "name": "stderr",
     "output_type": "stream",
     "text": [
      "\r",
      " 45%|███████████████████▎                       | 9/20 [21:55<26:18, 143.46s/it]"
     ]
    },
    {
     "name": "stdout",
     "output_type": "stream",
     "text": [
      "mutated [0.0 2087.2 1659.4 2111.4 435.6 1.0 0.6]\n",
      "candidate [1 2143 1659 2111 436 1 1]\n",
      "x [1 2143 1659 2111 436 1 1]\n"
     ]
    },
    {
     "name": "stderr",
     "output_type": "stream",
     "text": [
      "\r",
      " 50%|█████████████████████                     | 10/20 [24:36<24:48, 148.82s/it]"
     ]
    },
    {
     "name": "stdout",
     "output_type": "stream",
     "text": [
      "mutated [1.4 2131.8 900.4 937.4 857.4 0.0 2.8]\n",
      "candidate [1 2132 900 1005 857 1 2]\n",
      "x [1 2132 900 1005 857 1 2]\n"
     ]
    },
    {
     "name": "stderr",
     "output_type": "stream",
     "text": [
      "\r",
      " 55%|███████████████████████                   | 11/20 [25:53<19:02, 126.91s/it]"
     ]
    },
    {
     "name": "stdout",
     "output_type": "stream",
     "text": [
      "mutated [1.0 2437.6 1590.4 2083.8 452.8 1.2 1.0]\n",
      "candidate [1 695 2311 2471 453 1 1]\n",
      "x [1 695 2311 2471 453 1 1]\n"
     ]
    },
    {
     "name": "stderr",
     "output_type": "stream",
     "text": [
      "\r",
      " 60%|█████████████████████████▏                | 12/20 [28:26<18:00, 135.02s/it]"
     ]
    },
    {
     "name": "stdout",
     "output_type": "stream",
     "text": [
      "mutated [1.0 2324.4 1316.6 1677.8 893.8 -0.2 3.2]\n",
      "candidate [2 2850 1827 1955 1434 0 3]\n",
      "x [2 2850 1827 1955 1434 0 3]\n"
     ]
    },
    {
     "name": "stderr",
     "output_type": "stream",
     "text": [
      "\r",
      " 65%|███████████████████████████▎              | 13/20 [30:05<14:28, 124.06s/it]"
     ]
    },
    {
     "name": "stdout",
     "output_type": "stream",
     "text": [
      "mutated [1.2 2194.2 2532.0 1510.0 762.4 1.0 3.6]\n",
      "candidate [0 603 2532 2277 762 1 1]\n",
      "x [0 762 2532 2277 762 1 1]\n"
     ]
    },
    {
     "name": "stderr",
     "output_type": "stream",
     "text": [
      "\r",
      " 70%|█████████████████████████████▍            | 14/20 [32:47<13:31, 135.32s/it]"
     ]
    },
    {
     "name": "stdout",
     "output_type": "stream",
     "text": [
      "mutated [1.2 2105.2 2427.8 1660.4 546.8 1.2 3.2]\n",
      "candidate [1 1613 2428 942 547 1 0]\n",
      "x [1 1613 2428 942 547 1 0]\n"
     ]
    },
    {
     "name": "stderr",
     "output_type": "stream",
     "text": [
      "\r",
      " 75%|███████████████████████████████▌          | 15/20 [37:16<14:39, 175.81s/it]"
     ]
    },
    {
     "name": "stdout",
     "output_type": "stream",
     "text": [
      "mutated [-0.2 621.6 2514.0 2505.4 657.0 0.8 0.8]\n",
      "candidate [0 2143 2514 1970 657 1 1]\n",
      "x [0 2143 2514 1970 657 1 1]\n"
     ]
    },
    {
     "name": "stderr",
     "output_type": "stream",
     "text": [
      "\r",
      " 80%|█████████████████████████████████▌        | 16/20 [41:03<12:45, 191.25s/it]"
     ]
    },
    {
     "name": "stdout",
     "output_type": "stream",
     "text": [
      "mutated [-0.2 813.0 1838.6 1656.8 453.6 1.0 0.2]\n",
      "candidate [0 1604 2442 1657 454 0 1]\n",
      "x [0 1604 2442 1657 454 0 1]\n"
     ]
    },
    {
     "name": "stderr",
     "output_type": "stream",
     "text": [
      "\r",
      " 85%|███████████████████████████████████▋      | 17/20 [43:12<08:37, 172.48s/it]"
     ]
    },
    {
     "name": "stdout",
     "output_type": "stream",
     "text": [
      "mutated [1.0 2183.2 2657.0 1680.8 688.6 1.0 3.2]\n",
      "candidate [1 2183 2532 1681 888 1 2]\n",
      "x [1 2183 2532 1681 888 1 2]\n"
     ]
    },
    {
     "name": "stderr",
     "output_type": "stream",
     "text": [
      "\r",
      " 90%|█████████████████████████████████████▊    | 18/20 [45:52<05:37, 168.80s/it]"
     ]
    },
    {
     "name": "stdout",
     "output_type": "stream",
     "text": [
      "mutated [1.0 2039.2 1964.6 2098.4 374.0 1.0 0.6]\n",
      "candidate [1 2076 1965 2141 374 1 1]\n",
      "x [1 2076 1965 2141 374 1 1]\n"
     ]
    },
    {
     "name": "stderr",
     "output_type": "stream",
     "text": [
      "\r",
      " 95%|███████████████████████████████████████▉  | 19/20 [49:02<02:54, 174.91s/it]"
     ]
    },
    {
     "name": "stdout",
     "output_type": "stream",
     "text": [
      "mutated [0.4 1022.6 1768.2 1616.0 639.2 1.0 0.2]\n",
      "candidate [1 1050 1768 1616 639 1 0]\n",
      "x [1 1050 1768 1616 639 1 0]\n"
     ]
    },
    {
     "name": "stderr",
     "output_type": "stream",
     "text": [
      "100%|██████████████████████████████████████████| 20/20 [52:42<00:00, 158.14s/it]\n",
      "  0%|                                                    | 0/20 [00:00<?, ?it/s]"
     ]
    },
    {
     "name": "stdout",
     "output_type": "stream",
     "text": [
      "[[2 1323 1034 1042 1034 1 0]\n",
      " [1 1106 1767 857 403 1 0]\n",
      " [0 619 1830 1400 403 1 0]\n",
      " [2 2130 2578 1326 844 1 3]\n",
      " [1 695 1729 1362 671 1 2]\n",
      " [1 1050 2520 875 646 1 2]\n",
      " [0 943 2120 1754 225 0 0]\n",
      " [1 2076 1965 2141 374 1 1]\n",
      " [0 1767 1829 1511 444 1 0]\n",
      " [1 1613 2428 942 547 1 0]\n",
      " [1 1767 1539 1238 444 1 0]\n",
      " [1 2143 1659 2111 436 1 1]\n",
      " [1 1050 1768 1616 639 1 0]\n",
      " [2 2130 2752 2293 1034 1 1]\n",
      " [0 832 2136 875 353 0 2]\n",
      " [1 695 2311 2471 453 1 1]\n",
      " [1 1633 1830 1400 403 1 0]\n",
      " [1 1050 2520 1183 646 1 2]\n",
      " [1 2143 1260 1970 1209 0 0]\n",
      " [1 1050 2520 1005 1005 1 2]]\n",
      "Generation: 3\tBest fitness: 0.05463085083667536\n",
      "mutated [2.0 2130.0 2728.4 1203.8 917.2 1.0 3.4]\n",
      "candidate [2 1323 2728 1042 917 1 0]\n",
      "x [2 1323 2728 1042 917 1 0]\n"
     ]
    },
    {
     "name": "stderr",
     "output_type": "stream",
     "text": [
      "\r",
      "  5%|██                                       | 1/20 [04:14<1:20:34, 254.45s/it]"
     ]
    },
    {
     "name": "stdout",
     "output_type": "stream",
     "text": [
      "mutated [1.0 979.0 2361.8 910.8 651.0 1.0 2.0]\n",
      "candidate [1 1106 2362 911 651 1 0]\n",
      "x [1 1106 2362 911 651 1 0]\n"
     ]
    },
    {
     "name": "stderr",
     "output_type": "stream",
     "text": [
      "\r",
      " 10%|████                                     | 2/20 [07:24<1:04:56, 216.44s/it]"
     ]
    },
    {
     "name": "stdout",
     "output_type": "stream",
     "text": [
      "mutated [0.0 761.0 2094.2 1168.2 242.6 0.0 1.8]\n",
      "candidate [0 761 1830 1168 243 1 2]\n",
      "x [0 761 1830 1168 243 1 2]\n"
     ]
    },
    {
     "name": "stderr",
     "output_type": "stream",
     "text": [
      "\r",
      " 15%|██████▍                                    | 3/20 [08:25<41:16, 145.70s/it]"
     ]
    },
    {
     "name": "stdout",
     "output_type": "stream",
     "text": [
      "mutated [1.2 1224.4 2520.0 1051.4 1037.0 1.0 1.6]\n",
      "candidate [1 1224 2520 1051 1037 1 3]\n",
      "x [1 1224 2520 1051 1037 1 3]\n"
     ]
    },
    {
     "name": "stderr",
     "output_type": "stream",
     "text": [
      "\r",
      " 20%|████████▌                                  | 4/20 [09:41<31:27, 117.98s/it]"
     ]
    },
    {
     "name": "stdout",
     "output_type": "stream",
     "text": [
      "mutated [1.0 974.8 2496.0 1008.4 647.6 1.0 1.8]\n",
      "candidate [1 695 1729 1362 648 1 2]\n",
      "x [1 695 1729 1362 648 1 2]\n"
     ]
    },
    {
     "name": "stderr",
     "output_type": "stream",
     "text": [
      "\r",
      " 25%|██████████▊                                | 5/20 [10:50<25:06, 100.42s/it]"
     ]
    },
    {
     "name": "stdout",
     "output_type": "stream",
     "text": [
      "mutated [0.8 1162.2 2492.8 925.0 1051.0 1.0 2.8]\n",
      "candidate [1 1162 2520 925 646 1 3]\n",
      "x [1 1162 2520 925 646 1 3]\n"
     ]
    },
    {
     "name": "stderr",
     "output_type": "stream",
     "text": [
      "\r",
      " 30%|█████████████▏                              | 6/20 [11:59<20:56, 89.76s/it]"
     ]
    },
    {
     "name": "stdout",
     "output_type": "stream",
     "text": [
      "mutated [1.0 2177.8 1260.0 1943.6 1287.2 0.0 0.2]\n",
      "candidate [1 943 2120 1754 1287 0 0]\n",
      "x [1 1287 2120 1754 1287 0 0]\n"
     ]
    },
    {
     "name": "stderr",
     "output_type": "stream",
     "text": [
      "\r",
      " 35%|███████████████                            | 7/20 [15:19<27:15, 125.80s/it]"
     ]
    },
    {
     "name": "stdout",
     "output_type": "stream",
     "text": [
      "mutated [1.0 2128.8 1597.8 2169.6 414.0 1.2 1.0]\n",
      "candidate [1 2129 1965 2170 374 1 1]\n",
      "x [1 2129 1965 2170 374 1 1]\n"
     ]
    },
    {
     "name": "stderr",
     "output_type": "stream",
     "text": [
      "\r",
      " 40%|█████████████████▏                         | 8/20 [18:26<29:03, 145.32s/it]"
     ]
    },
    {
     "name": "stdout",
     "output_type": "stream",
     "text": [
      "mutated [1.0 1254.6 2440.6 1256.8 949.6 1.0 2.2]\n",
      "candidate [1 1767 2441 1511 950 1 0]\n",
      "x [1 1767 2441 1511 950 1 0]\n"
     ]
    },
    {
     "name": "stderr",
     "output_type": "stream",
     "text": [
      "\r",
      " 45%|███████████████████▎                       | 9/20 [24:04<37:40, 205.52s/it]"
     ]
    },
    {
     "name": "stdout",
     "output_type": "stream",
     "text": [
      "mutated [0.8 1180.4 2593.6 902.8 979.8 0.8 3.4]\n",
      "candidate [1 1180 2428 942 980 1 0]\n",
      "x [1 1180 2428 980 980 1 0]\n"
     ]
    },
    {
     "name": "stderr",
     "output_type": "stream",
     "text": [
      "\r",
      " 50%|█████████████████████                     | 10/20 [27:08<33:08, 198.81s/it]"
     ]
    },
    {
     "name": "stdout",
     "output_type": "stream",
     "text": [
      "mutated [1.0 408.2 1798.2 1422.2 663.8 1.0 2.0]\n",
      "candidate [1 408 1798 1238 444 1 0]\n",
      "x [1 444 1798 1238 444 1 0]\n"
     ]
    },
    {
     "name": "stderr",
     "output_type": "stream",
     "text": [
      "\r",
      " 55%|███████████████████████                   | 11/20 [29:15<26:31, 176.80s/it]"
     ]
    },
    {
     "name": "stdout",
     "output_type": "stream",
     "text": [
      "mutated [1.0 1224.4 2440.2 989.4 778.8 0.8 -0.4]\n",
      "candidate [1 1224 2440 989 436 1 1]\n",
      "x [1 1224 2440 989 436 1 1]\n"
     ]
    },
    {
     "name": "stderr",
     "output_type": "stream",
     "text": [
      "\r",
      " 60%|█████████████████████████▏                | 12/20 [31:22<21:34, 161.84s/it]"
     ]
    },
    {
     "name": "stdout",
     "output_type": "stream",
     "text": [
      "mutated [1.0 2035.6 1923.2 2479.2 335.4 1.0 0.6]\n",
      "candidate [1 2036 1768 2479 639 1 0]\n",
      "x [1 2036 1768 2479 639 1 0]\n"
     ]
    },
    {
     "name": "stderr",
     "output_type": "stream",
     "text": [
      "\r",
      " 65%|███████████████████████████▎              | 13/20 [36:33<24:07, 206.76s/it]"
     ]
    },
    {
     "name": "stdout",
     "output_type": "stream",
     "text": [
      "mutated [0.0 690.0 1788.2 1461.2 132.6 1.0 1.8]\n",
      "candidate [0 2130 2752 1461 1034 1 1]\n",
      "x [0 2130 2752 1461 1034 1 1]\n"
     ]
    },
    {
     "name": "stderr",
     "output_type": "stream",
     "text": [
      "\r",
      " 70%|█████████████████████████████▍            | 14/20 [40:08<20:56, 209.42s/it]"
     ]
    },
    {
     "name": "stdout",
     "output_type": "stream",
     "text": [
      "mutated [0.0 797.2 1781.6 1336.6 370.2 0.8 2.0]\n",
      "candidate [0 832 1782 1337 370 0 2]\n",
      "x [0 832 1782 1337 370 0 2]\n"
     ]
    },
    {
     "name": "stderr",
     "output_type": "stream",
     "text": [
      "\r",
      " 75%|███████████████████████████████▌          | 15/20 [40:55<13:22, 160.41s/it]"
     ]
    },
    {
     "name": "stdout",
     "output_type": "stream",
     "text": [
      "mutated [0.0 1793.0 2718.6 1274.6 1048.0 1.0 0.8]\n",
      "candidate [0 695 2311 1275 453 1 1]\n",
      "x [0 695 2311 1275 453 1 1]\n"
     ]
    },
    {
     "name": "stderr",
     "output_type": "stream",
     "text": [
      "\r",
      " 80%|█████████████████████████████████▌        | 16/20 [42:44<09:39, 144.89s/it]"
     ]
    },
    {
     "name": "stdout",
     "output_type": "stream",
     "text": [
      "mutated [1.0 1309.4 2120.0 1702.4 1287.0 0.0 0.2]\n",
      "candidate [1 1309 2120 1702 403 0 0]\n",
      "x [1 1309 2120 1702 403 0 0]\n"
     ]
    },
    {
     "name": "stderr",
     "output_type": "stream",
     "text": [
      "\r",
      " 85%|███████████████████████████████████▋      | 17/20 [46:18<08:17, 165.80s/it]"
     ]
    },
    {
     "name": "stdout",
     "output_type": "stream",
     "text": [
      "mutated [1.2 1582.6 2147.0 1902.4 429.2 0.0 -0.2]\n",
      "candidate [1 1050 2147 1902 429 0 2]\n",
      "x [1 1050 2147 1902 429 0 2]\n"
     ]
    },
    {
     "name": "stderr",
     "output_type": "stream",
     "text": [
      "\r",
      " 90%|█████████████████████████████████████▊    | 18/20 [47:32<04:36, 138.22s/it]"
     ]
    },
    {
     "name": "stdout",
     "output_type": "stream",
     "text": [
      "mutated [1.0 1198.0 2463.8 1235.4 926.8 0.8 3.4]\n",
      "candidate [1 1198 2464 1970 927 1 3]\n",
      "x [1 1198 2464 1970 927 1 3]\n"
     ]
    },
    {
     "name": "stderr",
     "output_type": "stream",
     "text": [
      "\r",
      " 95%|███████████████████████████████████████▉  | 19/20 [49:06<02:04, 124.86s/it]"
     ]
    },
    {
     "name": "stdout",
     "output_type": "stream",
     "text": [
      "mutated [1.0 1227.6 2501.6 1062.0 1103.8 1.0 2.4]\n",
      "candidate [1 1050 2520 1062 1005 1 2]\n",
      "x [1 1050 2520 1062 1005 1 2]\n"
     ]
    },
    {
     "name": "stderr",
     "output_type": "stream",
     "text": [
      "100%|██████████████████████████████████████████| 20/20 [50:35<00:00, 151.77s/it]\n",
      "  0%|                                                    | 0/20 [00:00<?, ?it/s]"
     ]
    },
    {
     "name": "stdout",
     "output_type": "stream",
     "text": [
      "[[0 761 1830 1168 243 1 2]\n",
      " [1 444 1798 1238 444 1 0]\n",
      " [2 1323 1034 1042 1034 1 0]\n",
      " [1 1106 1767 857 403 1 0]\n",
      " [0 619 1830 1400 403 1 0]\n",
      " [1 1224 2440 989 436 1 1]\n",
      " [2 2130 2578 1326 844 1 3]\n",
      " [1 695 1729 1362 671 1 2]\n",
      " [1 1050 2520 875 646 1 2]\n",
      " [0 943 2120 1754 225 0 0]\n",
      " [1 2076 1965 2141 374 1 1]\n",
      " [2 1323 2728 1042 917 1 0]\n",
      " [1 695 1729 1362 648 1 2]\n",
      " [0 1767 1829 1511 444 1 0]\n",
      " [1 1613 2428 942 547 1 0]\n",
      " [1 1767 1539 1238 444 1 0]\n",
      " [1 2143 1659 2111 436 1 1]\n",
      " [1 1050 1768 1616 639 1 0]\n",
      " [2 2130 2752 2293 1034 1 1]\n",
      " [0 832 2136 875 353 0 2]]\n",
      "Generation: 4\tBest fitness: 0.04406497524582719\n",
      "mutated [2.0 1252.0 875.8 1139.4 1034.4 1.0 0.0]\n",
      "candidate [2 761 876 1168 1034 1 0]\n",
      "x [2 1034 1034 1168 1034 1 0]\n"
     ]
    },
    {
     "name": "stderr",
     "output_type": "stream",
     "text": [
      "\r",
      "  5%|██▏                                        | 1/20 [01:44<33:09, 104.73s/it]"
     ]
    },
    {
     "name": "stdout",
     "output_type": "stream",
     "text": [
      "mutated [0.8 1077.4 2601.4 777.6 587.0 0.8 2.0]\n",
      "candidate [1 444 2601 778 444 1 0]\n",
      "x [1 444 2601 778 444 1 0]\n"
     ]
    },
    {
     "name": "stderr",
     "output_type": "stream",
     "text": [
      "\r",
      " 10%|████▎                                      | 2/20 [03:57<36:24, 121.34s/it]"
     ]
    },
    {
     "name": "stdout",
     "output_type": "stream",
     "text": [
      "mutated [1.4 1189.0 1607.8 810.6 529.2 1.0 0.0]\n",
      "candidate [1 1323 1608 1042 529 1 0]\n",
      "x [1 1323 1608 1042 529 1 0]\n"
     ]
    },
    {
     "name": "stderr",
     "output_type": "stream",
     "text": [
      "\r",
      " 15%|██████▍                                    | 3/20 [06:40<39:46, 140.38s/it]"
     ]
    },
    {
     "name": "stdout",
     "output_type": "stream",
     "text": [
      "mutated [0.0 779.0 2109.8 1540.2 243.6 0.0 -0.2]\n",
      "candidate [1 1106 2110 1540 244 0 0]\n",
      "x [1 1106 2110 1540 244 0 0]\n"
     ]
    },
    {
     "name": "stderr",
     "output_type": "stream",
     "text": [
      "\r",
      " 20%|████████▌                                  | 4/20 [09:29<40:25, 151.60s/it]"
     ]
    },
    {
     "name": "stdout",
     "output_type": "stream",
     "text": [
      "mutated [2.2 945.2 989.8 1074.2 1051.0 1.0 0.0]\n",
      "candidate [0 619 1830 1074 403 1 0]\n",
      "x [0 619 1830 1074 403 1 0]\n"
     ]
    },
    {
     "name": "stderr",
     "output_type": "stream",
     "text": [
      "\r",
      " 25%|██████████▊                                | 5/20 [11:47<36:40, 146.69s/it]"
     ]
    },
    {
     "name": "stdout",
     "output_type": "stream",
     "text": [
      "mutated [0.2 950.0 1822.6 953.0 471.0 0.0 2.0]\n",
      "candidate [1 1224 2440 953 471 1 1]\n",
      "x [1 1224 2440 953 471 1 1]\n"
     ]
    },
    {
     "name": "stderr",
     "output_type": "stream",
     "text": [
      "\r",
      " 30%|████████████▉                              | 6/20 [13:55<32:45, 140.38s/it]"
     ]
    },
    {
     "name": "stdout",
     "output_type": "stream",
     "text": [
      "mutated [0.2 721.2 1995.0 1565.4 344.6 0.0 -0.2]\n",
      "candidate [2 2130 2578 1565 844 0 0]\n",
      "x [2 2130 2578 1565 844 0 0]\n"
     ]
    },
    {
     "name": "stderr",
     "output_type": "stream",
     "text": [
      "\r",
      " 35%|███████████████                            | 7/20 [18:43<40:50, 188.52s/it]"
     ]
    },
    {
     "name": "stdout",
     "output_type": "stream",
     "text": [
      "mutated [1.0 1161.6 1603.2 791.8 505.6 1.0 -0.2]\n",
      "candidate [1 1162 1729 792 506 1 0]\n",
      "x [1 1162 1729 792 506 1 0]\n"
     ]
    },
    {
     "name": "stderr",
     "output_type": "stream",
     "text": [
      "\r",
      " 40%|█████████████████▏                         | 8/20 [21:14<35:20, 176.68s/it]"
     ]
    },
    {
     "name": "stdout",
     "output_type": "stream",
     "text": [
      "mutated [2.0 1936.0 2781.0 2172.8 1008.0 0.8 0.8]\n",
      "candidate [2 1050 2781 875 1008 1 2]\n",
      "x [2 1050 2781 1008 1008 1 2]\n"
     ]
    },
    {
     "name": "stderr",
     "output_type": "stream",
     "text": [
      "\r",
      " 45%|███████████████████▎                       | 9/20 [22:46<27:30, 150.08s/it]"
     ]
    },
    {
     "name": "stdout",
     "output_type": "stream",
     "text": [
      "mutated [1.2 1166.0 2500.0 973.0 545.0 1.0 1.0]\n",
      "candidate [1 1166 2500 1754 545 1 0]\n",
      "x [1 1166 2500 1754 545 1 0]\n"
     ]
    },
    {
     "name": "stderr",
     "output_type": "stream",
     "text": [
      "\r",
      " 50%|█████████████████████                     | 10/20 [27:07<30:42, 184.30s/it]"
     ]
    },
    {
     "name": "stdout",
     "output_type": "stream",
     "text": [
      "mutated [2.0 2180.2 2403.6 1681.8 884.8 0.0 0.4]\n",
      "candidate [2 2180 2404 1682 374 1 1]\n",
      "x [2 2180 2404 1682 374 1 1]\n"
     ]
    },
    {
     "name": "stderr",
     "output_type": "stream",
     "text": [
      "\r",
      " 55%|███████████████████████                   | 11/20 [30:23<28:12, 188.10s/it]"
     ]
    },
    {
     "name": "stdout",
     "output_type": "stream",
     "text": [
      "mutated [2.2 1254.8 2909.4 1158.6 1166.0 1.2 2.2]\n",
      "candidate [2 1255 2728 1042 1166 1 2]\n",
      "x [2 1255 2728 1166 1166 1 2]\n"
     ]
    },
    {
     "name": "stderr",
     "output_type": "stream",
     "text": [
      "\r",
      " 60%|█████████████████████████▏                | 12/20 [32:13<21:52, 164.11s/it]"
     ]
    },
    {
     "name": "stdout",
     "output_type": "stream",
     "text": [
      "mutated [1.8 771.8 1129.4 920.8 1017.4 0.8 0.2]\n",
      "candidate [1 772 1129 921 1017 1 0]\n",
      "x [1 1017 1129 1017 1017 1 0]\n"
     ]
    },
    {
     "name": "stderr",
     "output_type": "stream",
     "text": [
      "\r",
      " 65%|███████████████████████████▎              | 13/20 [34:04<17:16, 148.08s/it]"
     ]
    },
    {
     "name": "stdout",
     "output_type": "stream",
     "text": [
      "mutated [1.8 1069.0 879.8 1227.2 1025.8 1.0 0.0]\n",
      "candidate [0 1069 1829 1227 444 1 0]\n",
      "x [0 1069 1829 1227 444 1 0]\n"
     ]
    },
    {
     "name": "stderr",
     "output_type": "stream",
     "text": [
      "\r",
      " 70%|█████████████████████████████▍            | 14/20 [36:58<15:36, 156.02s/it]"
     ]
    },
    {
     "name": "stdout",
     "output_type": "stream",
     "text": [
      "mutated [0.0 925.4 2003.4 1224.2 431.6 1.0 0.0]\n",
      "candidate [1 925 2428 1224 547 1 0]\n",
      "x [1 925 2428 1224 547 1 0]\n"
     ]
    },
    {
     "name": "stderr",
     "output_type": "stream",
     "text": [
      "\r",
      " 75%|███████████████████████████████▌          | 15/20 [40:18<14:06, 169.26s/it]"
     ]
    },
    {
     "name": "stdout",
     "output_type": "stream",
     "text": [
      "mutated [0.0 1111.6 1890.2 1187.2 434.0 0.8 0.4]\n",
      "candidate [0 1767 1890 1187 434 1 0]\n",
      "x [0 1767 1890 1187 434 1 0]\n"
     ]
    },
    {
     "name": "stderr",
     "output_type": "stream",
     "text": [
      "\r",
      " 80%|█████████████████████████████████▌        | 16/20 [44:32<12:58, 194.74s/it]"
     ]
    },
    {
     "name": "stdout",
     "output_type": "stream",
     "text": [
      "mutated [2.4 1116.6 1136.8 1267.0 1022.0 1.0 0.2]\n",
      "candidate [1 1117 1137 1267 436 1 1]\n",
      "x [1 1117 1137 1267 436 1 1]\n"
     ]
    },
    {
     "name": "stderr",
     "output_type": "stream",
     "text": [
      "\r",
      " 85%|███████████████████████████████████▋      | 17/20 [45:49<07:57, 159.32s/it]"
     ]
    },
    {
     "name": "stdout",
     "output_type": "stream",
     "text": [
      "mutated [2.2 900.0 2628.8 974.0 1124.6 1.0 2.0]\n",
      "candidate [2 1050 1768 1616 639 1 0]\n",
      "x [2 1050 1768 1616 639 1 0]\n"
     ]
    },
    {
     "name": "stderr",
     "output_type": "stream",
     "text": [
      "\r",
      " 90%|█████████████████████████████████████▊    | 18/20 [48:47<05:29, 164.82s/it]"
     ]
    },
    {
     "name": "stdout",
     "output_type": "stream",
     "text": [
      "mutated [0.8 1175.4 1602.8 722.2 465.4 1.0 0.2]\n",
      "candidate [2 1175 2752 2293 1034 1 0]\n",
      "x [2 1175 2752 2293 1034 1 0]\n"
     ]
    },
    {
     "name": "stderr",
     "output_type": "stream",
     "text": [
      "\r",
      " 95%|███████████████████████████████████████▉  | 19/20 [54:21<03:35, 215.71s/it]"
     ]
    },
    {
     "name": "stdout",
     "output_type": "stream",
     "text": [
      "mutated [0.0 403.0 1668.0 1084.2 362.0 1.2 0.0]\n",
      "candidate [0 832 2136 1084 362 0 0]\n",
      "x [0 832 2136 1084 362 0 0]\n"
     ]
    },
    {
     "name": "stderr",
     "output_type": "stream",
     "text": [
      "100%|██████████████████████████████████████████| 20/20 [56:43<00:00, 170.17s/it]\n",
      "  0%|                                                    | 0/20 [00:00<?, ?it/s]"
     ]
    },
    {
     "name": "stdout",
     "output_type": "stream",
     "text": [
      "[[2 2180 2404 1682 374 1 1]\n",
      " [1 444 2601 778 444 1 0]\n",
      " [0 761 1830 1168 243 1 2]\n",
      " [1 444 1798 1238 444 1 0]\n",
      " [2 1255 2728 1166 1166 1 2]\n",
      " [2 1050 2781 1008 1008 1 2]\n",
      " [2 1034 1034 1168 1034 1 0]\n",
      " [2 1323 1034 1042 1034 1 0]\n",
      " [1 1323 1608 1042 529 1 0]\n",
      " [1 1162 1729 792 506 1 0]\n",
      " [2 1050 1768 1616 639 1 0]\n",
      " [1 1117 1137 1267 436 1 1]\n",
      " [1 1106 1767 857 403 1 0]\n",
      " [0 619 1830 1400 403 1 0]\n",
      " [0 1069 1829 1227 444 1 0]\n",
      " [1 1224 2440 989 436 1 1]\n",
      " [2 2130 2578 1326 844 1 3]\n",
      " [1 695 1729 1362 671 1 2]\n",
      " [1 1050 2520 875 646 1 2]\n",
      " [1 1224 2440 953 471 1 1]]\n",
      "Generation: 5\tBest fitness: 0.03711457721540896\n",
      "mutated [2.2 1436.2 2755.6 1240.6 1240.6 1.0 2.4]\n",
      "candidate [2 2180 2756 1241 374 1 1]\n",
      "x [2 2180 2756 1241 374 1 1]\n"
     ]
    },
    {
     "name": "stderr",
     "output_type": "stream",
     "text": [
      "\r",
      "  5%|██                                       | 1/20 [03:38<1:09:07, 218.29s/it]"
     ]
    },
    {
     "name": "stdout",
     "output_type": "stream",
     "text": [
      "mutated [-0.2 640.0 1708.0 1257.4 229.4 1.0 1.8]\n",
      "candidate [0 444 2601 778 229 1 2]\n",
      "x [0 444 2601 778 229 1 2]\n"
     ]
    },
    {
     "name": "stderr",
     "output_type": "stream",
     "text": [
      "\r",
      " 10%|████▎                                      | 2/20 [04:31<36:17, 120.96s/it]"
     ]
    },
    {
     "name": "stdout",
     "output_type": "stream",
     "text": [
      "mutated [1.2 1112.2 1824.6 899.6 542.0 1.0 0.2]\n",
      "candidate [1 1112 1825 1168 542 1 0]\n",
      "x [1 1112 1825 1168 542 1 0]\n"
     ]
    },
    {
     "name": "stderr",
     "output_type": "stream",
     "text": [
      "\r",
      " 15%|██████▍                                    | 3/20 [07:20<40:33, 143.16s/it]"
     ]
    },
    {
     "name": "stdout",
     "output_type": "stream",
     "text": [
      "mutated [2.0 1084.8 1752.0 1638.8 597.0 1.0 -0.2]\n",
      "candidate [1 1085 1798 1639 444 1 0]\n",
      "x [1 1085 1798 1639 444 1 0]\n"
     ]
    },
    {
     "name": "stderr",
     "output_type": "stream",
     "text": [
      "\r",
      " 20%|████████▌                                  | 4/20 [10:32<43:16, 162.28s/it]"
     ]
    },
    {
     "name": "stdout",
     "output_type": "stream",
     "text": [
      "mutated [1.2 1325.0 1958.6 777.4 389.0 1.0 0.2]\n",
      "candidate [2 1325 2728 777 389 1 0]\n",
      "x [2 1325 2728 777 389 1 0]\n"
     ]
    },
    {
     "name": "stderr",
     "output_type": "stream",
     "text": [
      "\r",
      " 25%|██████████▊                                | 5/20 [14:30<47:23, 189.57s/it]"
     ]
    },
    {
     "name": "stdout",
     "output_type": "stream",
     "text": [
      "mutated [1.2 1345.2 2423.8 972.4 554.4 1.0 1.0]\n",
      "candidate [1 1050 2424 1008 1008 1 2]\n",
      "x [1 1050 2424 1008 1008 1 2]\n"
     ]
    },
    {
     "name": "stderr",
     "output_type": "stream",
     "text": [
      "\r",
      " 30%|████████████▉                              | 6/20 [15:51<35:37, 152.67s/it]"
     ]
    },
    {
     "name": "stdout",
     "output_type": "stream",
     "text": [
      "mutated [1.2 1444.2 1591.8 1061.4 612.4 1.0 0.0]\n",
      "candidate [1 1034 1034 1061 1034 1 0]\n",
      "x [1 1034 1034 1061 1034 1 0]\n"
     ]
    },
    {
     "name": "stderr",
     "output_type": "stream",
     "text": [
      "\r",
      " 35%|███████████████                            | 7/20 [17:35<29:38, 136.77s/it]"
     ]
    },
    {
     "name": "stdout",
     "output_type": "stream",
     "text": [
      "mutated [0.8 640.0 1687.4 1381.6 722.4 1.0 2.4]\n",
      "candidate [2 640 1687 1042 1034 1 0]\n",
      "x [2 1034 1687 1042 1034 1 0]\n"
     ]
    },
    {
     "name": "stderr",
     "output_type": "stream",
     "text": [
      "\r",
      " 40%|█████████████████▏                         | 8/20 [19:39<26:31, 132.61s/it]"
     ]
    },
    {
     "name": "stdout",
     "output_type": "stream",
     "text": [
      "mutated [0.6 1165.8 1741.2 714.2 467.0 1.0 0.0]\n",
      "candidate [1 1166 1608 714 529 1 0]\n",
      "x [1 1166 1608 714 529 1 0]\n"
     ]
    },
    {
     "name": "stderr",
     "output_type": "stream",
     "text": [
      "\r",
      " 45%|███████████████████▎                       | 9/20 [22:12<25:32, 139.28s/it]"
     ]
    },
    {
     "name": "stdout",
     "output_type": "stream",
     "text": [
      "mutated [2.0 1290.2 2724.8 788.0 496.4 1.0 0.2]\n",
      "candidate [2 1290 1729 792 496 1 0]\n",
      "x [2 1290 1729 792 496 1 0]\n"
     ]
    },
    {
     "name": "stderr",
     "output_type": "stream",
     "text": [
      "\r",
      " 50%|█████████████████████                     | 10/20 [24:57<24:31, 147.16s/it]"
     ]
    },
    {
     "name": "stdout",
     "output_type": "stream",
     "text": [
      "mutated [-0.4 756.8 1643.8 1258.8 449.8 1.0 -0.2]\n",
      "candidate [0 1050 1644 1616 639 1 0]\n",
      "x [0 1050 1644 1616 639 1 0]\n"
     ]
    },
    {
     "name": "stderr",
     "output_type": "stream",
     "text": [
      "\r",
      " 55%|███████████████████████                   | 11/20 [27:46<23:04, 153.86s/it]"
     ]
    },
    {
     "name": "stdout",
     "output_type": "stream",
     "text": [
      "mutated [1.0 1234.8 2396.6 898.2 433.4 1.0 1.0]\n",
      "candidate [1 1117 2397 1267 433 1 1]\n",
      "x [1 1117 2397 1267 433 1 1]\n"
     ]
    },
    {
     "name": "stderr",
     "output_type": "stream",
     "text": [
      "\r",
      " 60%|█████████████████████████▏                | 12/20 [30:02<19:47, 148.39s/it]"
     ]
    },
    {
     "name": "stdout",
     "output_type": "stream",
     "text": [
      "mutated [2.0 2235.8 2720.2 1244.2 804.0 1.0 2.8]\n",
      "candidate [2 1106 1767 857 403 1 0]\n",
      "x [2 1106 1767 857 403 1 0]\n"
     ]
    },
    {
     "name": "stderr",
     "output_type": "stream",
     "text": [
      "\r",
      " 65%|███████████████████████████▎              | 13/20 [32:41<17:41, 151.67s/it]"
     ]
    },
    {
     "name": "stdout",
     "output_type": "stream",
     "text": [
      "mutated [0.8 1182.6 1750.0 759.0 408.8 1.0 0.2]\n",
      "candidate [1 1183 1750 1400 403 1 0]\n",
      "x [1 1183 1750 1400 403 1 0]\n"
     ]
    },
    {
     "name": "stderr",
     "output_type": "stream",
     "text": [
      "\r",
      " 70%|█████████████████████████████▍            | 14/20 [35:34<15:47, 157.86s/it]"
     ]
    },
    {
     "name": "stdout",
     "output_type": "stream",
     "text": [
      "mutated [0.8 1227.2 2606.6 919.6 393.4 1.0 1.4]\n",
      "candidate [1 1227 2607 1227 444 1 1]\n",
      "x [1 1227 2607 1227 444 1 1]\n"
     ]
    },
    {
     "name": "stderr",
     "output_type": "stream",
     "text": [
      "\r",
      " 75%|███████████████████████████████▌          | 15/20 [38:02<12:55, 155.12s/it]"
     ]
    },
    {
     "name": "stdout",
     "output_type": "stream",
     "text": [
      "mutated [1.2 1153.0 1034.0 947.0 999.0 1.0 -0.4]\n",
      "candidate [1 1224 1034 947 436 1 0]\n",
      "x [1 1224 1034 947 436 1 0]\n"
     ]
    },
    {
     "name": "stderr",
     "output_type": "stream",
     "text": [
      "\r",
      " 80%|█████████████████████████████████▌        | 16/20 [40:05<09:40, 145.20s/it]"
     ]
    },
    {
     "name": "stdout",
     "output_type": "stream",
     "text": [
      "mutated [2.0 1312.6 2847.8 745.0 482.2 1.0 0.4]\n",
      "candidate [2 2130 2848 1326 844 1 0]\n",
      "x [2 2130 2848 1326 844 1 0]\n"
     ]
    },
    {
     "name": "stderr",
     "output_type": "stream",
     "text": [
      "\r",
      " 85%|███████████████████████████████████▋      | 17/20 [46:17<10:40, 213.56s/it]"
     ]
    },
    {
     "name": "stdout",
     "output_type": "stream",
     "text": [
      "mutated [1.0 1040.4 1153.8 986.6 1031.8 1.0 0.2]\n",
      "candidate [1 695 1154 987 671 1 0]\n",
      "x [1 695 1154 987 671 1 0]\n"
     ]
    },
    {
     "name": "stderr",
     "output_type": "stream",
     "text": [
      "\r",
      " 90%|█████████████████████████████████████▊    | 18/20 [47:52<05:55, 177.86s/it]"
     ]
    },
    {
     "name": "stdout",
     "output_type": "stream",
     "text": [
      "mutated [1.2 1085.4 2616.6 930.2 969.0 1.0 2.2]\n",
      "candidate [1 1085 2617 930 646 1 2]\n",
      "x [1 1085 2617 930 646 1 2]\n"
     ]
    },
    {
     "name": "stderr",
     "output_type": "stream",
     "text": [
      "\r",
      " 95%|███████████████████████████████████████▉  | 19/20 [49:16<02:29, 149.86s/it]"
     ]
    },
    {
     "name": "stdout",
     "output_type": "stream",
     "text": [
      "mutated [1.8 986.0 1826.0 1085.2 1136.4 1.0 0.4]\n",
      "candidate [2 1224 1826 1085 471 1 1]\n",
      "x [2 1224 1826 1085 471 1 1]\n"
     ]
    },
    {
     "name": "stderr",
     "output_type": "stream",
     "text": [
      "100%|██████████████████████████████████████████| 20/20 [51:01<00:00, 153.10s/it]\n",
      "  0%|                                                    | 0/20 [00:00<?, ?it/s]"
     ]
    },
    {
     "name": "stdout",
     "output_type": "stream",
     "text": [
      "[[2 1224 1826 1085 471 1 1]\n",
      " [2 1290 1729 792 496 1 0]\n",
      " [2 1325 2728 777 389 1 0]\n",
      " [2 2180 2756 1241 374 1 1]\n",
      " [2 1106 1767 857 403 1 0]\n",
      " [2 2180 2404 1682 374 1 1]\n",
      " [1 444 2601 778 444 1 0]\n",
      " [0 761 1830 1168 243 1 2]\n",
      " [1 444 1798 1238 444 1 0]\n",
      " [0 444 2601 778 229 1 2]\n",
      " [1 1166 1608 714 529 1 0]\n",
      " [2 1255 2728 1166 1166 1 2]\n",
      " [2 1050 2781 1008 1008 1 2]\n",
      " [2 1034 1034 1168 1034 1 0]\n",
      " [1 1183 1750 1400 403 1 0]\n",
      " [2 1034 1687 1042 1034 1 0]\n",
      " [2 1323 1034 1042 1034 1 0]\n",
      " [1 1323 1608 1042 529 1 0]\n",
      " [1 1162 1729 792 506 1 0]\n",
      " [2 1050 1768 1616 639 1 0]]\n",
      "Generation: 6\tBest fitness: 0.02262644716208526\n",
      "mutated [2.2 1602.2 2919.6 1166.6 1152.0 1.0 2.2]\n",
      "candidate [2 1224 2920 1167 471 1 2]\n",
      "x [2 1224 2920 1167 471 1 2]\n"
     ]
    },
    {
     "name": "stderr",
     "output_type": "stream",
     "text": [
      "\r",
      "  5%|██▏                                        | 1/20 [01:46<33:35, 106.06s/it]"
     ]
    },
    {
     "name": "stdout",
     "output_type": "stream",
     "text": [
      "mutated [1.2 432.8 1805.6 1251.0 423.4 1.0 0.0]\n",
      "candidate [2 433 1729 792 496 1 0]\n",
      "x [2 496 1729 792 496 1 0]\n"
     ]
    },
    {
     "name": "stderr",
     "output_type": "stream",
     "text": [
      "\r",
      " 10%|████▎                                      | 2/20 [03:25<30:33, 101.87s/it]"
     ]
    },
    {
     "name": "stdout",
     "output_type": "stream",
     "text": [
      "mutated [2.2 1494.4 1263.6 1081.8 1003.0 1.0 0.2]\n",
      "candidate [2 1325 1264 777 389 1 0]\n",
      "x [2 1325 1264 777 389 1 0]\n"
     ]
    },
    {
     "name": "stderr",
     "output_type": "stream",
     "text": [
      "\r",
      " 15%|██████▍                                    | 3/20 [05:50<34:27, 121.63s/it]"
     ]
    },
    {
     "name": "stdout",
     "output_type": "stream",
     "text": [
      "mutated [1.2 458.4 2796.6 731.2 596.6 1.0 0.4]\n",
      "candidate [1 2180 2756 731 374 1 0]\n",
      "x [1 2180 2756 731 374 1 0]\n"
     ]
    },
    {
     "name": "stderr",
     "output_type": "stream",
     "text": [
      "\r",
      " 20%|████████▌                                  | 4/20 [11:38<56:16, 211.05s/it]"
     ]
    },
    {
     "name": "stdout",
     "output_type": "stream",
     "text": [
      "mutated [2.0 1375.8 3119.8 1241.8 605.0 1.0 2.4]\n",
      "candidate [2 1376 3120 857 403 1 0]\n",
      "x [2 1376 3120 857 403 1 0]\n"
     ]
    },
    {
     "name": "stderr",
     "output_type": "stream",
     "text": [
      "\r",
      " 25%|██████████▊                                | 5/20 [16:00<57:21, 229.41s/it]"
     ]
    },
    {
     "name": "stdout",
     "output_type": "stream",
     "text": [
      "mutated [2.2 1571.2 2951.0 1157.6 500.0 1.0 1.6]\n",
      "candidate [2 1571 2404 1158 500 1 1]\n",
      "x [2 1571 2404 1158 500 1 1]\n"
     ]
    },
    {
     "name": "stderr",
     "output_type": "stream",
     "text": [
      "\r",
      " 30%|████████████▉                              | 6/20 [18:37<47:46, 204.73s/it]"
     ]
    },
    {
     "name": "stdout",
     "output_type": "stream",
     "text": [
      "mutated [2.0 451.8 1520.8 767.2 469.6 1.0 -0.4]\n",
      "candidate [1 452 2601 778 444 1 0]\n",
      "x [1 452 2601 778 444 1 0]\n"
     ]
    },
    {
     "name": "stderr",
     "output_type": "stream",
     "text": [
      "\r",
      " 35%|███████████████                            | 7/20 [20:48<39:08, 180.66s/it]"
     ]
    },
    {
     "name": "stdout",
     "output_type": "stream",
     "text": [
      "mutated [2.2 1687.4 2221.2 1210.8 618.0 1.0 1.0]\n",
      "candidate [2 761 2221 1211 243 1 1]\n",
      "x [2 761 2221 1211 243 1 1]\n"
     ]
    },
    {
     "name": "stderr",
     "output_type": "stream",
     "text": [
      "\r",
      " 40%|█████████████████▏                         | 8/20 [22:39<31:43, 158.62s/it]"
     ]
    },
    {
     "name": "stdout",
     "output_type": "stream",
     "text": [
      "mutated [2.0 1217.0 2350.8 1166.2 1278.6 1.0 1.6]\n",
      "candidate [2 1217 1798 1166 1279 1 0]\n",
      "x [2 1279 1798 1279 1279 1 0]\n"
     ]
    },
    {
     "name": "stderr",
     "output_type": "stream",
     "text": [
      "\r",
      " 45%|███████████████████▎                       | 9/20 [25:20<29:12, 159.32s/it]"
     ]
    },
    {
     "name": "stdout",
     "output_type": "stream",
     "text": [
      "mutated [1.8 1114.2 1588.6 958.2 1086.6 1.0 -0.2]\n",
      "candidate [0 1114 1589 778 1087 1 0]\n",
      "x [0 1114 1589 1087 1087 1 0]\n"
     ]
    },
    {
     "name": "stderr",
     "output_type": "stream",
     "text": [
      "\r",
      " 50%|█████████████████████                     | 10/20 [27:25<24:47, 148.71s/it]"
     ]
    },
    {
     "name": "stdout",
     "output_type": "stream",
     "text": [
      "mutated [2.0 1541.4 2981.0 907.0 510.6 1.0 0.0]\n",
      "candidate [2 1166 2981 714 529 1 0]\n",
      "x [2 1166 2981 714 529 1 0]\n"
     ]
    },
    {
     "name": "stderr",
     "output_type": "stream",
     "text": [
      "\r",
      " 55%|███████████████████████                   | 11/20 [31:08<25:43, 171.48s/it]"
     ]
    },
    {
     "name": "stdout",
     "output_type": "stream",
     "text": [
      "mutated [1.8 1263.2 1247.8 1105.8 902.0 1.0 0.0]\n",
      "candidate [2 1263 2728 1166 1166 1 0]\n",
      "x [2 1263 2728 1166 1166 1 0]\n"
     ]
    },
    {
     "name": "stderr",
     "output_type": "stream",
     "text": [
      "\r",
      " 60%|█████████████████████████▏                | 12/20 [35:06<25:32, 191.56s/it]"
     ]
    },
    {
     "name": "stdout",
     "output_type": "stream",
     "text": [
      "mutated [1.0 347.8 2473.8 869.6 471.8 1.0 -0.2]\n",
      "candidate [2 348 2474 1008 1008 1 0]\n",
      "x [2 1008 2474 1008 1008 1 0]\n"
     ]
    },
    {
     "name": "stderr",
     "output_type": "stream",
     "text": [
      "\r",
      " 65%|███████████████████████████▎              | 13/20 [37:49<21:21, 183.14s/it]"
     ]
    },
    {
     "name": "stdout",
     "output_type": "stream",
     "text": [
      "mutated [2.0 1539.4 2302.6 1216.8 595.8 1.0 1.0]\n",
      "candidate [2 1034 2303 1168 1034 1 0]\n",
      "x [2 1034 2303 1168 1034 1 0]\n"
     ]
    },
    {
     "name": "stderr",
     "output_type": "stream",
     "text": [
      "\r",
      " 70%|█████████████████████████████▍            | 14/20 [40:51<18:16, 182.76s/it]"
     ]
    },
    {
     "name": "stdout",
     "output_type": "stream",
     "text": [
      "mutated [1.0 1377.0 1864.0 865.2 506.8 1.0 0.2]\n",
      "candidate [1 1377 1750 865 507 1 0]\n",
      "x [1 1377 1750 865 507 1 0]\n"
     ]
    },
    {
     "name": "stderr",
     "output_type": "stream",
     "text": [
      "\r",
      " 75%|███████████████████████████████▌          | 15/20 [43:51<15:09, 181.98s/it]"
     ]
    },
    {
     "name": "stdout",
     "output_type": "stream",
     "text": [
      "mutated [1.0 1427.2 1735.2 950.4 501.2 1.0 0.2]\n",
      "candidate [1 1034 1735 1042 501 1 0]\n",
      "x [1 1034 1735 1042 501 1 0]\n"
     ]
    },
    {
     "name": "stderr",
     "output_type": "stream",
     "text": [
      "\r",
      " 80%|█████████████████████████████████▌        | 16/20 [46:22<11:30, 172.52s/it]"
     ]
    },
    {
     "name": "stdout",
     "output_type": "stream",
     "text": [
      "mutated [2.0 452.8 1639.8 760.2 603.4 1.0 -0.4]\n",
      "candidate [2 453 1034 760 603 1 0]\n",
      "x [2 603 1034 760 603 1 0]\n"
     ]
    },
    {
     "name": "stderr",
     "output_type": "stream",
     "text": [
      "\r",
      " 85%|███████████████████████████████████▋      | 17/20 [47:40<07:12, 144.06s/it]"
     ]
    },
    {
     "name": "stdout",
     "output_type": "stream",
     "text": [
      "mutated [1.8 1499.2 3025.8 787.8 455.8 1.0 -0.2]\n",
      "candidate [2 1499 3026 1042 456 1 0]\n",
      "x [2 1499 3026 1042 456 1 0]\n"
     ]
    },
    {
     "name": "stderr",
     "output_type": "stream",
     "text": [
      "\r",
      " 90%|█████████████████████████████████████▊    | 18/20 [52:42<06:23, 191.54s/it]"
     ]
    },
    {
     "name": "stdout",
     "output_type": "stream",
     "text": [
      "mutated [2.2 1544.8 3224.6 1066.8 589.0 1.0 0.0]\n",
      "candidate [2 1545 3225 792 589 1 0]\n",
      "x [2 1545 3225 792 589 1 0]\n"
     ]
    },
    {
     "name": "stderr",
     "output_type": "stream",
     "text": [
      "\r",
      " 95%|███████████████████████████████████████▉  | 19/20 [57:33<03:41, 221.52s/it]"
     ]
    },
    {
     "name": "stdout",
     "output_type": "stream",
     "text": [
      "mutated [1.0 606.6 3018.2 797.4 404.0 1.0 0.0]\n",
      "candidate [2 607 3018 797 404 1 0]\n",
      "x [2 607 3018 797 404 1 0]\n"
     ]
    },
    {
     "name": "stderr",
     "output_type": "stream",
     "text": [
      "100%|████████████████████████████████████████| 20/20 [1:00:03<00:00, 180.16s/it]\n",
      "  0%|                                                    | 0/20 [00:00<?, ?it/s]"
     ]
    },
    {
     "name": "stdout",
     "output_type": "stream",
     "text": [
      "[[2 761 2221 1211 243 1 1]\n",
      " [2 1325 1264 777 389 1 0]\n",
      " [2 603 1034 760 603 1 0]\n",
      " [2 1224 2920 1167 471 1 2]\n",
      " [2 1224 1826 1085 471 1 1]\n",
      " [2 496 1729 792 496 1 0]\n",
      " [2 1290 1729 792 496 1 0]\n",
      " [2 1325 2728 777 389 1 0]\n",
      " [2 607 3018 797 404 1 0]\n",
      " [2 1571 2404 1158 500 1 1]\n",
      " [2 2180 2756 1241 374 1 1]\n",
      " [2 1106 1767 857 403 1 0]\n",
      " [2 1376 3120 857 403 1 0]\n",
      " [2 2180 2404 1682 374 1 1]\n",
      " [2 1166 2981 714 529 1 0]\n",
      " [1 444 2601 778 444 1 0]\n",
      " [0 761 1830 1168 243 1 2]\n",
      " [1 444 1798 1238 444 1 0]\n",
      " [0 444 2601 778 229 1 2]\n",
      " [1 1166 1608 714 529 1 0]]\n",
      "Generation: 7\tBest fitness: 0.012639604238505688\n",
      "mutated [2.0 1468.6 2377.2 773.0 386.0 1.0 0.0]\n",
      "candidate [2 761 2221 1211 386 1 1]\n",
      "x [2 761 2221 1211 386 1 1]\n"
     ]
    },
    {
     "name": "stderr",
     "output_type": "stream",
     "text": [
      "\r",
      "  5%|██▏                                        | 1/20 [01:46<33:48, 106.76s/it]"
     ]
    },
    {
     "name": "stdout",
     "output_type": "stream",
     "text": [
      "mutated [0.0 680.0 1678.0 1267.4 214.4 1.0 2.2]\n",
      "candidate [0 1325 1678 777 214 1 2]\n",
      "x [0 1325 1678 777 214 1 2]\n"
     ]
    },
    {
     "name": "stderr",
     "output_type": "stream",
     "text": [
      "\r",
      " 10%|████▍                                       | 2/20 [02:50<24:21, 81.17s/it]"
     ]
    },
    {
     "name": "stdout",
     "output_type": "stream",
     "text": [
      "mutated [2.2 2336.0 2249.0 1743.4 379.4 1.0 1.2]\n",
      "candidate [2 2336 2249 1743 603 1 0]\n",
      "x [2 2336 2249 1743 603 1 0]\n"
     ]
    },
    {
     "name": "stderr",
     "output_type": "stream",
     "text": [
      "\r",
      " 15%|██████▏                                  | 3/20 [09:20<1:02:59, 222.30s/it]"
     ]
    },
    {
     "name": "stdout",
     "output_type": "stream",
     "text": [
      "mutated [2.0 2395.0 2539.0 1755.2 374.8 1.0 1.2]\n",
      "candidate [2 2395 2539 1755 471 1 1]\n",
      "x [2 2395 2539 1755 471 1 1]\n"
     ]
    },
    {
     "name": "stderr",
     "output_type": "stream",
     "text": [
      "\r",
      " 20%|████████▏                                | 4/20 [13:18<1:00:55, 228.44s/it]"
     ]
    },
    {
     "name": "stdout",
     "output_type": "stream",
     "text": [
      "mutated [1.6 1028.8 3159.4 676.2 374.0 1.0 0.2]\n",
      "candidate [2 1224 3159 1085 471 1 1]\n",
      "x [2 1224 3159 1085 471 1 1]\n"
     ]
    },
    {
     "name": "stderr",
     "output_type": "stream",
     "text": [
      "\r",
      " 25%|██████████▊                                | 5/20 [15:51<50:21, 201.41s/it]"
     ]
    },
    {
     "name": "stdout",
     "output_type": "stream",
     "text": [
      "mutated [2.0 1446.8 2728.0 881.8 363.8 1.0 0.0]\n",
      "candidate [2 1447 2728 792 364 1 0]\n",
      "x [2 1447 2728 792 364 1 0]\n"
     ]
    },
    {
     "name": "stderr",
     "output_type": "stream",
     "text": [
      "\r",
      " 30%|████████████▉                              | 6/20 [19:58<50:35, 216.81s/it]"
     ]
    },
    {
     "name": "stdout",
     "output_type": "stream",
     "text": [
      "mutated [1.8 1010.0 2708.8 744.6 523.6 1.0 -0.2]\n",
      "candidate [2 1290 2709 745 524 1 0]\n",
      "x [2 1290 2709 745 524 1 0]\n"
     ]
    },
    {
     "name": "stderr",
     "output_type": "stream",
     "text": [
      "\r",
      " 35%|███████████████                            | 7/20 [23:49<47:58, 221.42s/it]"
     ]
    },
    {
     "name": "stdout",
     "output_type": "stream",
     "text": [
      "mutated [2.0 2340.8 2612.8 1406.0 368.2 1.0 1.2]\n",
      "candidate [2 2341 2613 777 389 1 1]\n",
      "x [2 2341 2613 777 389 1 1]\n"
     ]
    },
    {
     "name": "stderr",
     "output_type": "stream",
     "text": [
      "\r",
      " 40%|█████████████████▏                         | 8/20 [27:15<43:18, 216.50s/it]"
     ]
    },
    {
     "name": "stdout",
     "output_type": "stream",
     "text": [
      "mutated [2.4 1053.2 3089.6 800.8 563.4 1.0 -0.2]\n",
      "candidate [2 607 3018 801 563 1 0]\n",
      "x [2 607 3018 801 563 1 0]\n"
     ]
    },
    {
     "name": "stderr",
     "output_type": "stream",
     "text": [
      "\r",
      " 45%|███████████████████▎                       | 9/20 [29:51<36:15, 197.75s/it]"
     ]
    },
    {
     "name": "stdout",
     "output_type": "stream",
     "text": [
      "mutated [2.0 1590.8 3247.4 1022.0 397.2 1.0 0.2]\n",
      "candidate [2 1571 2404 1022 397 1 0]\n",
      "x [2 1571 2404 1022 397 1 0]\n"
     ]
    },
    {
     "name": "stderr",
     "output_type": "stream",
     "text": [
      "\r",
      " 50%|█████████████████████                     | 10/20 [34:10<36:07, 216.73s/it]"
     ]
    },
    {
     "name": "stdout",
     "output_type": "stream",
     "text": [
      "mutated [-0.2 411.4 2517.6 773.4 205.2 1.0 2.0]\n",
      "candidate [2 2180 2756 1241 205 1 2]\n",
      "x [2 2180 2756 1241 205 1 2]\n"
     ]
    },
    {
     "name": "stderr",
     "output_type": "stream",
     "text": [
      "\r",
      " 55%|███████████████████████                   | 11/20 [36:28<28:51, 192.40s/it]"
     ]
    },
    {
     "name": "stdout",
     "output_type": "stream",
     "text": [
      "mutated [2.0 1497.8 3190.4 900.8 364.6 1.0 0.4]\n",
      "candidate [2 1498 3190 857 403 1 0]\n",
      "x [2 1498 3190 857 403 1 0]\n"
     ]
    },
    {
     "name": "stderr",
     "output_type": "stream",
     "text": [
      "\r",
      " 60%|█████████████████████████▏                | 12/20 [41:16<29:32, 221.56s/it]"
     ]
    },
    {
     "name": "stdout",
     "output_type": "stream",
     "text": [
      "mutated [0.0 1091.0 1824.4 571.2 199.2 1.0 2.0]\n",
      "candidate [2 1376 3120 571 199 1 0]\n",
      "x [2 1376 3120 571 199 1 0]\n"
     ]
    },
    {
     "name": "stderr",
     "output_type": "stream",
     "text": [
      "\r",
      " 65%|███████████████████████████▎              | 13/20 [45:25<26:49, 229.96s/it]"
     ]
    },
    {
     "name": "stdout",
     "output_type": "stream",
     "text": [
      "mutated [2.0 785.8 2156.2 1257.0 392.6 1.0 1.0]\n",
      "candidate [2 786 2156 1257 393 1 1]\n",
      "x [2 786 2156 1257 393 1 1]\n"
     ]
    },
    {
     "name": "stderr",
     "output_type": "stream",
     "text": [
      "\r",
      " 70%|█████████████████████████████▍            | 14/20 [47:17<19:25, 194.18s/it]"
     ]
    },
    {
     "name": "stdout",
     "output_type": "stream",
     "text": [
      "mutated [1.0 1133.8 1636.6 806.8 492.2 1.0 0.2]\n",
      "candidate [2 1166 1637 714 492 1 0]\n",
      "x [2 1166 1637 714 492 1 0]\n"
     ]
    },
    {
     "name": "stderr",
     "output_type": "stream",
     "text": [
      "\r",
      " 75%|███████████████████████████████▌          | 15/20 [49:48<15:06, 181.31s/it]"
     ]
    },
    {
     "name": "stdout",
     "output_type": "stream",
     "text": [
      "mutated [2.0 1382.6 2896.6 719.8 541.0 1.0 0.0]\n",
      "candidate [1 1383 2601 778 541 1 0]\n",
      "x [1 1383 2601 778 541 1 0]\n"
     ]
    },
    {
     "name": "stderr",
     "output_type": "stream",
     "text": [
      "\r",
      " 80%|█████████████████████████████████▌        | 16/20 [53:54<13:22, 200.61s/it]"
     ]
    },
    {
     "name": "stdout",
     "output_type": "stream",
     "text": [
      "mutated [1.0 297.4 1792.4 1148.2 475.8 1.0 -0.4]\n",
      "candidate [1 297 1830 1168 243 1 2]\n",
      "x [1 297 1830 1168 243 1 2]\n"
     ]
    },
    {
     "name": "stderr",
     "output_type": "stream",
     "text": [
      "\r",
      " 85%|███████████████████████████████████▋      | 17/20 [54:40<07:42, 154.28s/it]"
     ]
    },
    {
     "name": "stdout",
     "output_type": "stream",
     "text": [
      "mutated [1.8 1008.2 2901.0 1204.4 479.8 1.0 1.4]\n",
      "candidate [1 1008 1798 1204 444 1 1]\n",
      "x [1 1008 1798 1204 444 1 1]\n"
     ]
    },
    {
     "name": "stderr",
     "output_type": "stream",
     "text": [
      "\r",
      " 90%|█████████████████████████████████████▊    | 18/20 [56:19<04:35, 137.65s/it]"
     ]
    },
    {
     "name": "stdout",
     "output_type": "stream",
     "text": [
      "mutated [2.0 2509.8 2204.6 1652.2 660.2 1.0 -0.4]\n",
      "candidate [0 2510 2205 778 229 1 0]\n",
      "x [0 2510 2205 778 229 1 0]\n"
     ]
    },
    {
     "name": "stderr",
     "output_type": "stream",
     "text": [
      "\r",
      " 95%|██████████████████████████████████████  | 19/20 [1:01:40<03:12, 192.79s/it]"
     ]
    },
    {
     "name": "stdout",
     "output_type": "stream",
     "text": [
      "mutated [2.4 1712.0 3362.2 1052.6 454.4 1.0 -0.2]\n",
      "candidate [1 1166 1608 1053 454 1 0]\n",
      "x [1 1166 1608 1053 454 1 0]\n"
     ]
    },
    {
     "name": "stderr",
     "output_type": "stream",
     "text": [
      "100%|████████████████████████████████████████| 20/20 [1:04:20<00:00, 193.02s/it]\n",
      "  0%|                                                    | 0/20 [00:00<?, ?it/s]"
     ]
    },
    {
     "name": "stdout",
     "output_type": "stream",
     "text": [
      "[[2 2180 2756 1241 205 1 2]\n",
      " [2 761 2221 1211 243 1 1]\n",
      " [2 1376 3120 571 199 1 0]\n",
      " [2 1325 1264 777 389 1 0]\n",
      " [2 786 2156 1257 393 1 1]\n",
      " [2 603 1034 760 603 1 0]\n",
      " [2 761 2221 1211 386 1 1]\n",
      " [2 1224 2920 1167 471 1 2]\n",
      " [2 1224 1826 1085 471 1 1]\n",
      " [2 496 1729 792 496 1 0]\n",
      " [2 1166 1637 714 492 1 0]\n",
      " [2 1224 3159 1085 471 1 1]\n",
      " [2 1290 1729 792 496 1 0]\n",
      " [2 1447 2728 792 364 1 0]\n",
      " [2 1325 2728 777 389 1 0]\n",
      " [2 607 3018 797 404 1 0]\n",
      " [0 1325 1678 777 214 1 2]\n",
      " [2 1498 3190 857 403 1 0]\n",
      " [2 1571 2404 1158 500 1 1]\n",
      " [2 2180 2756 1241 374 1 1]]\n",
      "Generation: 8\tBest fitness: 0.010580744122333577\n",
      "mutated [2.0 905.4 2267.0 1214.4 343.2 1.0 1.0]\n",
      "candidate [2 2180 2756 1214 205 1 1]\n",
      "x [2 2180 2756 1214 205 1 1]\n"
     ]
    },
    {
     "name": "stderr",
     "output_type": "stream",
     "text": [
      "\r",
      "  5%|██                                       | 1/20 [03:38<1:09:05, 218.17s/it]"
     ]
    },
    {
     "name": "stdout",
     "output_type": "stream",
     "text": [
      "mutated [2.0 1334.6 1690.6 717.0 474.6 1.0 -0.4]\n",
      "candidate [2 1335 1691 1211 243 1 1]\n",
      "x [2 1335 1691 1211 243 1 1]\n"
     ]
    },
    {
     "name": "stderr",
     "output_type": "stream",
     "text": [
      "\r",
      " 10%|████▎                                      | 2/20 [05:27<46:12, 154.05s/it]"
     ]
    },
    {
     "name": "stdout",
     "output_type": "stream",
     "text": [
      "mutated [2.0 1347.4 2681.6 1224.6 484.4 1.0 2.2]\n",
      "candidate [2 1376 3120 571 199 1 2]\n",
      "x [2 1376 3120 571 199 1 2]\n"
     ]
    },
    {
     "name": "stderr",
     "output_type": "stream",
     "text": [
      "\r",
      " 15%|██████▍                                    | 3/20 [07:05<36:27, 128.68s/it]"
     ]
    },
    {
     "name": "stdout",
     "output_type": "stream",
     "text": [
      "mutated [2.0 1096.6 1740.2 715.8 486.2 1.0 0.2]\n",
      "candidate [2 1325 1264 777 486 1 0]\n",
      "x [2 1325 1264 777 486 1 0]\n"
     ]
    },
    {
     "name": "stderr",
     "output_type": "stream",
     "text": [
      "\r",
      " 20%|████████▌                                  | 4/20 [09:30<36:01, 135.12s/it]"
     ]
    },
    {
     "name": "stdout",
     "output_type": "stream",
     "text": [
      "mutated [2.4 1385.2 3298.6 943.8 437.4 1.0 -0.2]\n",
      "candidate [2 1385 3299 944 393 1 0]\n",
      "x [2 1385 3299 944 393 1 0]\n"
     ]
    },
    {
     "name": "stderr",
     "output_type": "stream",
     "text": [
      "\r",
      " 25%|██████████▊                                | 5/20 [14:22<47:55, 191.72s/it]"
     ]
    },
    {
     "name": "stdout",
     "output_type": "stream",
     "text": [
      "mutated [2.0 1595.8 2422.4 1173.6 500.8 1.0 1.0]\n",
      "candidate [2 603 2422 760 501 1 1]\n",
      "x [2 603 2422 760 501 1 1]\n"
     ]
    },
    {
     "name": "stderr",
     "output_type": "stream",
     "text": [
      "\r",
      " 30%|████████████▉                              | 6/20 [15:45<36:06, 154.77s/it]"
     ]
    },
    {
     "name": "stdout",
     "output_type": "stream",
     "text": [
      "mutated [2.0 1055.0 1613.0 1084.4 478.6 1.0 1.0]\n",
      "candidate [2 761 1613 1084 386 1 1]\n",
      "x [2 761 1613 1084 386 1 1]\n"
     ]
    },
    {
     "name": "stderr",
     "output_type": "stream",
     "text": [
      "\r",
      " 35%|███████████████                            | 7/20 [16:57<27:36, 127.46s/it]"
     ]
    },
    {
     "name": "stdout",
     "output_type": "stream",
     "text": [
      "mutated [2.0 652.2 2357.2 836.2 523.2 1.0 1.2]\n",
      "candidate [2 652 2357 836 523 1 1]\n",
      "x [2 652 2357 836 523 1 1]\n"
     ]
    },
    {
     "name": "stderr",
     "output_type": "stream",
     "text": [
      "\r",
      " 40%|█████████████████▏                         | 8/20 [18:28<23:12, 116.06s/it]"
     ]
    },
    {
     "name": "stdout",
     "output_type": "stream",
     "text": [
      "mutated [2.0 334.0 1570.8 777.2 473.2 1.0 0.0]\n",
      "candidate [2 334 1571 777 473 1 1]\n",
      "x [2 473 1571 777 473 1 1]\n"
     ]
    },
    {
     "name": "stderr",
     "output_type": "stream",
     "text": [
      "\r",
      " 45%|███████████████████▊                        | 9/20 [19:23<17:46, 96.96s/it]"
     ]
    },
    {
     "name": "stdout",
     "output_type": "stream",
     "text": [
      "mutated [2.0 1290.4 1777.2 1269.6 264.4 1.0 1.2]\n",
      "candidate [2 496 1777 1270 264 1 0]\n",
      "x [2 496 1777 1270 264 1 0]\n"
     ]
    },
    {
     "name": "stderr",
     "output_type": "stream",
     "text": [
      "\r",
      " 50%|█████████████████████                     | 10/20 [21:33<17:49, 106.99s/it]"
     ]
    },
    {
     "name": "stdout",
     "output_type": "stream",
     "text": [
      "mutated [2.0 885.2 1760.4 1149.0 380.0 1.0 1.0]\n",
      "candidate [2 885 1760 1149 492 1 1]\n",
      "x [2 885 1760 1149 492 1 1]\n"
     ]
    },
    {
     "name": "stderr",
     "output_type": "stream",
     "text": [
      "\r",
      " 55%|███████████████████████                   | 11/20 [23:04<15:19, 102.20s/it]"
     ]
    },
    {
     "name": "stdout",
     "output_type": "stream",
     "text": [
      "mutated [2.0 1481.0 2417.8 1145.6 549.8 1.0 1.0]\n",
      "candidate [2 1481 3159 1085 471 1 1]\n",
      "x [2 1481 3159 1085 471 1 1]\n"
     ]
    },
    {
     "name": "stderr",
     "output_type": "stream",
     "text": [
      "\r",
      " 60%|█████████████████████████▏                | 12/20 [26:00<16:37, 124.67s/it]"
     ]
    },
    {
     "name": "stdout",
     "output_type": "stream",
     "text": [
      "mutated [2.0 466.8 1483.4 1295.2 218.4 1.0 0.0]\n",
      "candidate [2 467 1729 1295 218 1 0]\n",
      "x [2 467 1729 1295 218 1 0]\n"
     ]
    },
    {
     "name": "stderr",
     "output_type": "stream",
     "text": [
      "\r",
      " 65%|███████████████████████████▎              | 13/20 [28:01<14:25, 123.59s/it]"
     ]
    },
    {
     "name": "stdout",
     "output_type": "stream",
     "text": [
      "mutated [2.0 782.4000000000001 1795.8 1391.2 192.6 1.0 0.0]\n",
      "candidate [2 782 2728 1391 364 1 0]\n",
      "x [2 782 2728 1391 364 1 0]\n"
     ]
    },
    {
     "name": "stderr",
     "output_type": "stream",
     "text": [
      "\r",
      " 70%|█████████████████████████████▍            | 14/20 [31:35<15:04, 150.71s/it]"
     ]
    },
    {
     "name": "stdout",
     "output_type": "stream",
     "text": [
      "mutated [2.4 545.2 1922.2 1346.2 321.2 1.0 -0.2]\n",
      "candidate [2 1325 1922 1346 321 1 0]\n",
      "x [2 1325 1922 1346 321 1 0]\n"
     ]
    },
    {
     "name": "stderr",
     "output_type": "stream",
     "text": [
      "\r",
      " 75%|███████████████████████████████▌          | 15/20 [34:46<13:34, 162.92s/it]"
     ]
    },
    {
     "name": "stdout",
     "output_type": "stream",
     "text": [
      "mutated [2.0 930.0 1826.0 1090.0 412.2 1.0 1.0]\n",
      "candidate [2 930 1826 797 404 1 1]\n",
      "x [2 930 1826 797 404 1 1]\n"
     ]
    },
    {
     "name": "stderr",
     "output_type": "stream",
     "text": [
      "\r",
      " 80%|█████████████████████████████████▌        | 16/20 [36:09<09:15, 138.82s/it]"
     ]
    },
    {
     "name": "stdout",
     "output_type": "stream",
     "text": [
      "mutated [2.0 926.8 2880.6 1338.0 299.2 1.0 0.2]\n",
      "candidate [2 1325 2881 1338 214 1 0]\n",
      "x [2 1325 2881 1338 214 1 0]\n"
     ]
    },
    {
     "name": "stderr",
     "output_type": "stream",
     "text": [
      "\r",
      " 85%|███████████████████████████████████▋      | 17/20 [40:33<08:50, 176.69s/it]"
     ]
    },
    {
     "name": "stdout",
     "output_type": "stream",
     "text": [
      "mutated [2.0 1416.4 1973.0 1350.0 307.2 1.0 0.0]\n",
      "candidate [2 1416 3190 857 403 1 0]\n",
      "x [2 1416 3190 857 403 1 0]\n"
     ]
    },
    {
     "name": "stderr",
     "output_type": "stream",
     "text": [
      "\r",
      " 90%|█████████████████████████████████████▊    | 18/20 [44:54<06:43, 201.96s/it]"
     ]
    },
    {
     "name": "stdout",
     "output_type": "stream",
     "text": [
      "mutated [2.0 1423.2 2194.0 1230.4 262.4 1.0 0.2]\n",
      "candidate [2 1571 2404 1230 262 1 1]\n",
      "x [2 1571 2404 1230 262 1 1]\n"
     ]
    },
    {
     "name": "stderr",
     "output_type": "stream",
     "text": [
      "\r",
      " 95%|███████████████████████████████████████▉  | 19/20 [47:34<03:09, 189.22s/it]"
     ]
    },
    {
     "name": "stdout",
     "output_type": "stream",
     "text": [
      "mutated [2.0 494.8 1422.2 826.6 445.6 1.0 1.0]\n",
      "candidate [2 2180 2756 1241 446 1 1]\n",
      "x [2 2180 2756 1241 446 1 1]\n"
     ]
    },
    {
     "name": "stderr",
     "output_type": "stream",
     "text": [
      "100%|██████████████████████████████████████████| 20/20 [51:00<00:00, 153.03s/it]\n",
      "  0%|                                                    | 0/20 [00:00<?, ?it/s]"
     ]
    },
    {
     "name": "stdout",
     "output_type": "stream",
     "text": [
      "[[2 1376 3120 571 199 1 2]\n",
      " [2 2180 2756 1241 205 1 2]\n",
      " [2 1335 1691 1211 243 1 1]\n",
      " [2 761 2221 1211 243 1 1]\n",
      " [2 467 1729 1295 218 1 0]\n",
      " [2 930 1826 797 404 1 1]\n",
      " [2 1376 3120 571 199 1 0]\n",
      " [2 761 1613 1084 386 1 1]\n",
      " [2 2180 2756 1214 205 1 1]\n",
      " [2 473 1571 777 473 1 1]\n",
      " [2 496 1777 1270 264 1 0]\n",
      " [2 1325 1264 777 389 1 0]\n",
      " [2 786 2156 1257 393 1 1]\n",
      " [2 603 1034 760 603 1 0]\n",
      " [2 761 2221 1211 386 1 1]\n",
      " [2 885 1760 1149 492 1 1]\n",
      " [2 1224 2920 1167 471 1 2]\n",
      " [2 1224 1826 1085 471 1 1]\n",
      " [2 603 2422 760 501 1 1]\n",
      " [2 1571 2404 1230 262 1 1]]\n",
      "Generation: 9\tBest fitness: 0.009165789444497849\n",
      "mutated [2.0 592.8 2050.8 801.2 539.0 1.0 1.0]\n",
      "candidate [2 1376 3120 801 199 1 1]\n",
      "x [2 1376 3120 801 199 1 1]\n"
     ]
    },
    {
     "name": "stderr",
     "output_type": "stream",
     "text": [
      "\r",
      "  5%|██▏                                        | 1/20 [02:19<44:15, 139.78s/it]"
     ]
    },
    {
     "name": "stdout",
     "output_type": "stream",
     "text": [
      "mutated [2.0 717.8 1049.6 785.4 574.4 1.0 0.0]\n",
      "candidate [2 718 1050 785 574 1 0]\n",
      "x [2 718 1050 785 574 1 0]\n"
     ]
    },
    {
     "name": "stderr",
     "output_type": "stream",
     "text": [
      "\r",
      " 10%|████▎                                      | 2/20 [03:46<32:34, 108.58s/it]"
     ]
    },
    {
     "name": "stdout",
     "output_type": "stream",
     "text": [
      "mutated [2.0 590.0 2030.4 1192.4 180.6 1.0 -0.2]\n",
      "candidate [2 1335 2030 1211 243 1 0]\n",
      "x [2 1335 2030 1211 243 1 0]\n"
     ]
    },
    {
     "name": "stderr",
     "output_type": "stream",
     "text": [
      "\r",
      " 15%|██████▍                                    | 3/20 [06:45<39:51, 140.67s/it]"
     ]
    },
    {
     "name": "stdout",
     "output_type": "stream",
     "text": [
      "mutated [2.0 1051.2 1801.4 1185.0 279.2 1.0 0.0]\n",
      "candidate [2 1051 1801 1185 243 1 1]\n",
      "x [2 1051 1801 1185 243 1 1]\n"
     ]
    },
    {
     "name": "stderr",
     "output_type": "stream",
     "text": [
      "\r",
      " 20%|████████▌                                  | 4/20 [08:25<33:16, 124.78s/it]"
     ]
    },
    {
     "name": "stdout",
     "output_type": "stream",
     "text": [
      "mutated [2.0 1441.4 3278.4 578.4 159.2 1.0 0.2]\n",
      "candidate [2 1441 3278 578 218 1 0]\n",
      "x [2 1441 3278 578 218 1 0]\n"
     ]
    },
    {
     "name": "stderr",
     "output_type": "stream",
     "text": [
      "\r",
      " 25%|██████████▊                                | 5/20 [12:29<41:55, 167.71s/it]"
     ]
    },
    {
     "name": "stdout",
     "output_type": "stream",
     "text": [
      "mutated [2.0 318.4 1431.4 814.8 533.4 1.0 1.2]\n",
      "candidate [2 930 1431 815 404 1 1]\n",
      "x [2 930 1431 815 404 1 1]\n"
     ]
    },
    {
     "name": "stderr",
     "output_type": "stream",
     "text": [
      "\r",
      " 30%|████████████▉                              | 6/20 [13:36<31:10, 133.59s/it]"
     ]
    },
    {
     "name": "stdout",
     "output_type": "stream",
     "text": [
      "mutated [2.0 341.4 1157.0 773.8 548.0 1.0 0.8]\n",
      "candidate [2 1376 3120 571 199 1 1]\n",
      "x [2 1376 3120 571 199 1 1]\n"
     ]
    },
    {
     "name": "stderr",
     "output_type": "stream",
     "text": [
      "\r",
      " 35%|███████████████                            | 7/20 [15:56<29:20, 135.45s/it]"
     ]
    },
    {
     "name": "stdout",
     "output_type": "stream",
     "text": [
      "mutated [2.0 1311.6 1978.8 1067.0 486.6 1.0 1.2]\n",
      "candidate [2 1312 1613 1084 386 1 1]\n",
      "x [2 1312 1613 1084 386 1 1]\n"
     ]
    },
    {
     "name": "stderr",
     "output_type": "stream",
     "text": [
      "\r",
      " 40%|█████████████████▏                         | 8/20 [17:28<24:18, 121.56s/it]"
     ]
    },
    {
     "name": "stdout",
     "output_type": "stream",
     "text": [
      "mutated [2.0 1390.0 1527.8 700.2 380.2 1.0 0.0]\n",
      "candidate [2 1390 2756 1214 380 1 1]\n",
      "x [2 1390 2756 1214 380 1 1]\n"
     ]
    },
    {
     "name": "stderr",
     "output_type": "stream",
     "text": [
      "\r",
      " 45%|███████████████████▎                       | 9/20 [19:59<24:01, 131.01s/it]"
     ]
    },
    {
     "name": "stdout",
     "output_type": "stream",
     "text": [
      "mutated [2.0 1316.8 1046.0 859.0 397.8 1.0 -0.2]\n",
      "candidate [2 1317 1571 777 473 1 0]\n",
      "x [2 1317 1571 777 473 1 0]\n"
     ]
    },
    {
     "name": "stderr",
     "output_type": "stream",
     "text": [
      "\r",
      " 50%|█████████████████████                     | 10/20 [22:45<23:37, 141.76s/it]"
     ]
    },
    {
     "name": "stdout",
     "output_type": "stream",
     "text": [
      "mutated [2.0 671.4 2067.6 1126.0 458.0 1.0 0.8]\n",
      "candidate [2 496 1777 1270 458 1 0]\n",
      "x [2 496 1777 1270 458 1 0]\n"
     ]
    },
    {
     "name": "stderr",
     "output_type": "stream",
     "text": [
      "\r",
      " 55%|███████████████████████                   | 11/20 [24:54<20:38, 137.66s/it]"
     ]
    },
    {
     "name": "stdout",
     "output_type": "stream",
     "text": [
      "mutated [2.0 1312.0 1890.6 1084.0 365.6 1.0 1.2]\n",
      "candidate [2 1325 1891 777 389 1 0]\n",
      "x [2 1325 1891 777 389 1 0]\n"
     ]
    },
    {
     "name": "stderr",
     "output_type": "stream",
     "text": [
      "\r",
      " 60%|█████████████████████████▏                | 12/20 [27:54<20:06, 150.75s/it]"
     ]
    },
    {
     "name": "stdout",
     "output_type": "stream",
     "text": [
      "mutated [2.0 1511.0 2298.6 1071.2 191.2 1.0 0.2]\n",
      "candidate [2 786 2299 1257 191 1 1]\n",
      "x [2 786 2299 1257 191 1 1]\n"
     ]
    },
    {
     "name": "stderr",
     "output_type": "stream",
     "text": [
      "\r",
      " 65%|███████████████████████████▎              | 13/20 [29:44<16:08, 138.37s/it]"
     ]
    },
    {
     "name": "stdout",
     "output_type": "stream",
     "text": [
      "mutated [2.0 862.8 1719.2 1123.8 537.6 1.0 1.2]\n",
      "candidate [2 603 1719 1124 603 1 0]\n",
      "x [2 603 1719 1124 603 1 0]\n"
     ]
    },
    {
     "name": "stderr",
     "output_type": "stream",
     "text": [
      "\r",
      " 70%|█████████████████████████████▍            | 14/20 [31:43<13:14, 132.36s/it]"
     ]
    },
    {
     "name": "stdout",
     "output_type": "stream",
     "text": [
      "mutated [2.0 1236.8 1758.0 1326.6 301.6 1.0 0.0]\n",
      "candidate [2 1237 1758 1327 302 1 1]\n",
      "x [2 1237 1758 1327 302 1 1]\n"
     ]
    },
    {
     "name": "stderr",
     "output_type": "stream",
     "text": [
      "\r",
      " 75%|███████████████████████████████▌          | 15/20 [33:35<10:32, 126.49s/it]"
     ]
    },
    {
     "name": "stdout",
     "output_type": "stream",
     "text": [
      "mutated [2.0 1194.0 1448.8 1221.2 384.4 1.0 1.0]\n",
      "candidate [2 885 1449 1149 492 1 1]\n",
      "x [2 885 1449 1149 492 1 1]\n"
     ]
    },
    {
     "name": "stderr",
     "output_type": "stream",
     "text": [
      "\r",
      " 80%|█████████████████████████████████▌        | 16/20 [34:52<07:25, 111.42s/it]"
     ]
    },
    {
     "name": "stdout",
     "output_type": "stream",
     "text": [
      "mutated [2.0 1374.0 3092.2 484.2 228.2 1.0 1.0]\n",
      "candidate [2 1224 2920 1167 228 1 1]\n",
      "x [2 1224 2920 1167 228 1 1]\n"
     ]
    },
    {
     "name": "stderr",
     "output_type": "stream",
     "text": [
      "\r",
      " 85%|███████████████████████████████████▋      | 17/20 [37:31<06:17, 125.79s/it]"
     ]
    },
    {
     "name": "stdout",
     "output_type": "stream",
     "text": [
      "mutated [2.0 854.6 1409.0 1222.2 497.8 1.0 1.0]\n",
      "candidate [2 1224 1409 1085 498 1 1]\n",
      "x [2 1224 1409 1085 498 1 1]\n"
     ]
    },
    {
     "name": "stderr",
     "output_type": "stream",
     "text": [
      "\r",
      " 90%|█████████████████████████████████████▊    | 18/20 [38:56<03:46, 113.47s/it]"
     ]
    },
    {
     "name": "stdout",
     "output_type": "stream",
     "text": [
      "mutated [2.0 1154.4 1620.2 688.0 451.4 1.0 -0.2]\n",
      "candidate [2 1154 1620 760 451 1 0]\n",
      "x [2 1154 1620 760 451 1 0]\n"
     ]
    },
    {
     "name": "stderr",
     "output_type": "stream",
     "text": [
      "\r",
      " 95%|███████████████████████████████████████▉  | 19/20 [41:31<02:05, 125.85s/it]"
     ]
    },
    {
     "name": "stdout",
     "output_type": "stream",
     "text": [
      "mutated [2.0 887.2 2370.8 1317.0 175.8 1.0 1.2]\n",
      "candidate [2 887 2371 1317 176 1 1]\n",
      "x [2 887 2371 1317 176 1 1]\n"
     ]
    },
    {
     "name": "stderr",
     "output_type": "stream",
     "text": [
      "100%|██████████████████████████████████████████| 20/20 [43:34<00:00, 130.73s/it]\n"
     ]
    },
    {
     "name": "stdout",
     "output_type": "stream",
     "text": [
      "[[2 1376 3120 571 199 1 2]\n",
      " [2 786 2299 1257 191 1 1]\n",
      " [2 2180 2756 1241 205 1 2]\n",
      " [2 887 2371 1317 176 1 1]\n",
      " [2 1237 1758 1327 302 1 1]\n",
      " [2 1376 3120 571 199 1 1]\n",
      " [2 1335 1691 1211 243 1 1]\n",
      " [2 1224 2920 1167 228 1 1]\n",
      " [2 761 2221 1211 243 1 1]\n",
      " [2 1376 3120 801 199 1 1]\n",
      " [2 1051 1801 1185 243 1 1]\n",
      " [2 467 1729 1295 218 1 0]\n",
      " [2 930 1826 797 404 1 1]\n",
      " [2 1441 3278 578 218 1 0]\n",
      " [2 1312 1613 1084 386 1 1]\n",
      " [2 1376 3120 571 199 1 0]\n",
      " [2 761 1613 1084 386 1 1]\n",
      " [2 2180 2756 1214 205 1 1]\n",
      " [2 473 1571 777 473 1 1]\n",
      " [2 496 1777 1270 264 1 0]]\n",
      "--> EVOLUTION FINISHED\n",
      "\n",
      "Elapsed time in minutes: 553.9306301666667\n",
      "[0.00916579 0.00953716 0.01058074 0.01077103 0.01181471 0.01183131\n",
      " 0.01253977 0.01260201 0.0126396  0.01269041 0.01342895 0.01400287\n",
      " 0.01532083 0.01605247 0.01621543 0.01624137 0.01646277 0.01699676\n",
      " 0.01705681 0.01776947]\n",
      "0.009165789444497849\n",
      "0\n",
      "\n",
      "Most suitable parameters -- Fitness of 0.009165789444497849:\n",
      "\tActivation function:           \tsigmoid\n",
      "\tNodes layer 1:                 \t1376\n",
      "\tNodes layer 2:                 \t3120\n",
      "\tNodes layer 3:                 \t571\n",
      "\tSize encoding layer:           \t199\n",
      "\tBatch Normalization:           \t1\n",
      "\tBatch Size:                    \t128\n",
      "\n",
      "Validating solution...\n",
      "x [2 1376 3120 571 199 1 2]\n",
      "Solution validated\n"
     ]
    },
    {
     "data": {
      "application/vnd.plotly.v1+json": {
       "config": {
        "plotlyServerURL": "https://plot.ly"
       },
       "data": [
        {
         "mode": "lines",
         "type": "scatter",
         "x": [
          0,
          1,
          2,
          3,
          4,
          5,
          6,
          7,
          8,
          9,
          10
         ],
         "xaxis": "x",
         "y": [
          0.06993639598549292,
          0.06993639598549292,
          0.06993639598549292,
          0.05463085083667536,
          0.04406497524582719,
          0.03711457721540896,
          0.02262644716208526,
          0.012639604238505688,
          0.010580744122333577,
          0.009165789444497849,
          0.009165789444497849
         ],
         "yaxis": "y"
        }
       ],
       "layout": {
        "template": {
         "data": {
          "bar": [
           {
            "error_x": {
             "color": "#2a3f5f"
            },
            "error_y": {
             "color": "#2a3f5f"
            },
            "marker": {
             "line": {
              "color": "#E5ECF6",
              "width": 0.5
             },
             "pattern": {
              "fillmode": "overlay",
              "size": 10,
              "solidity": 0.2
             }
            },
            "type": "bar"
           }
          ],
          "barpolar": [
           {
            "marker": {
             "line": {
              "color": "#E5ECF6",
              "width": 0.5
             },
             "pattern": {
              "fillmode": "overlay",
              "size": 10,
              "solidity": 0.2
             }
            },
            "type": "barpolar"
           }
          ],
          "carpet": [
           {
            "aaxis": {
             "endlinecolor": "#2a3f5f",
             "gridcolor": "white",
             "linecolor": "white",
             "minorgridcolor": "white",
             "startlinecolor": "#2a3f5f"
            },
            "baxis": {
             "endlinecolor": "#2a3f5f",
             "gridcolor": "white",
             "linecolor": "white",
             "minorgridcolor": "white",
             "startlinecolor": "#2a3f5f"
            },
            "type": "carpet"
           }
          ],
          "choropleth": [
           {
            "colorbar": {
             "outlinewidth": 0,
             "ticks": ""
            },
            "type": "choropleth"
           }
          ],
          "contour": [
           {
            "colorbar": {
             "outlinewidth": 0,
             "ticks": ""
            },
            "colorscale": [
             [
              0,
              "#0d0887"
             ],
             [
              0.1111111111111111,
              "#46039f"
             ],
             [
              0.2222222222222222,
              "#7201a8"
             ],
             [
              0.3333333333333333,
              "#9c179e"
             ],
             [
              0.4444444444444444,
              "#bd3786"
             ],
             [
              0.5555555555555556,
              "#d8576b"
             ],
             [
              0.6666666666666666,
              "#ed7953"
             ],
             [
              0.7777777777777778,
              "#fb9f3a"
             ],
             [
              0.8888888888888888,
              "#fdca26"
             ],
             [
              1,
              "#f0f921"
             ]
            ],
            "type": "contour"
           }
          ],
          "contourcarpet": [
           {
            "colorbar": {
             "outlinewidth": 0,
             "ticks": ""
            },
            "type": "contourcarpet"
           }
          ],
          "heatmap": [
           {
            "colorbar": {
             "outlinewidth": 0,
             "ticks": ""
            },
            "colorscale": [
             [
              0,
              "#0d0887"
             ],
             [
              0.1111111111111111,
              "#46039f"
             ],
             [
              0.2222222222222222,
              "#7201a8"
             ],
             [
              0.3333333333333333,
              "#9c179e"
             ],
             [
              0.4444444444444444,
              "#bd3786"
             ],
             [
              0.5555555555555556,
              "#d8576b"
             ],
             [
              0.6666666666666666,
              "#ed7953"
             ],
             [
              0.7777777777777778,
              "#fb9f3a"
             ],
             [
              0.8888888888888888,
              "#fdca26"
             ],
             [
              1,
              "#f0f921"
             ]
            ],
            "type": "heatmap"
           }
          ],
          "heatmapgl": [
           {
            "colorbar": {
             "outlinewidth": 0,
             "ticks": ""
            },
            "colorscale": [
             [
              0,
              "#0d0887"
             ],
             [
              0.1111111111111111,
              "#46039f"
             ],
             [
              0.2222222222222222,
              "#7201a8"
             ],
             [
              0.3333333333333333,
              "#9c179e"
             ],
             [
              0.4444444444444444,
              "#bd3786"
             ],
             [
              0.5555555555555556,
              "#d8576b"
             ],
             [
              0.6666666666666666,
              "#ed7953"
             ],
             [
              0.7777777777777778,
              "#fb9f3a"
             ],
             [
              0.8888888888888888,
              "#fdca26"
             ],
             [
              1,
              "#f0f921"
             ]
            ],
            "type": "heatmapgl"
           }
          ],
          "histogram": [
           {
            "marker": {
             "pattern": {
              "fillmode": "overlay",
              "size": 10,
              "solidity": 0.2
             }
            },
            "type": "histogram"
           }
          ],
          "histogram2d": [
           {
            "colorbar": {
             "outlinewidth": 0,
             "ticks": ""
            },
            "colorscale": [
             [
              0,
              "#0d0887"
             ],
             [
              0.1111111111111111,
              "#46039f"
             ],
             [
              0.2222222222222222,
              "#7201a8"
             ],
             [
              0.3333333333333333,
              "#9c179e"
             ],
             [
              0.4444444444444444,
              "#bd3786"
             ],
             [
              0.5555555555555556,
              "#d8576b"
             ],
             [
              0.6666666666666666,
              "#ed7953"
             ],
             [
              0.7777777777777778,
              "#fb9f3a"
             ],
             [
              0.8888888888888888,
              "#fdca26"
             ],
             [
              1,
              "#f0f921"
             ]
            ],
            "type": "histogram2d"
           }
          ],
          "histogram2dcontour": [
           {
            "colorbar": {
             "outlinewidth": 0,
             "ticks": ""
            },
            "colorscale": [
             [
              0,
              "#0d0887"
             ],
             [
              0.1111111111111111,
              "#46039f"
             ],
             [
              0.2222222222222222,
              "#7201a8"
             ],
             [
              0.3333333333333333,
              "#9c179e"
             ],
             [
              0.4444444444444444,
              "#bd3786"
             ],
             [
              0.5555555555555556,
              "#d8576b"
             ],
             [
              0.6666666666666666,
              "#ed7953"
             ],
             [
              0.7777777777777778,
              "#fb9f3a"
             ],
             [
              0.8888888888888888,
              "#fdca26"
             ],
             [
              1,
              "#f0f921"
             ]
            ],
            "type": "histogram2dcontour"
           }
          ],
          "mesh3d": [
           {
            "colorbar": {
             "outlinewidth": 0,
             "ticks": ""
            },
            "type": "mesh3d"
           }
          ],
          "parcoords": [
           {
            "line": {
             "colorbar": {
              "outlinewidth": 0,
              "ticks": ""
             }
            },
            "type": "parcoords"
           }
          ],
          "pie": [
           {
            "automargin": true,
            "type": "pie"
           }
          ],
          "scatter": [
           {
            "marker": {
             "colorbar": {
              "outlinewidth": 0,
              "ticks": ""
             }
            },
            "type": "scatter"
           }
          ],
          "scatter3d": [
           {
            "line": {
             "colorbar": {
              "outlinewidth": 0,
              "ticks": ""
             }
            },
            "marker": {
             "colorbar": {
              "outlinewidth": 0,
              "ticks": ""
             }
            },
            "type": "scatter3d"
           }
          ],
          "scattercarpet": [
           {
            "marker": {
             "colorbar": {
              "outlinewidth": 0,
              "ticks": ""
             }
            },
            "type": "scattercarpet"
           }
          ],
          "scattergeo": [
           {
            "marker": {
             "colorbar": {
              "outlinewidth": 0,
              "ticks": ""
             }
            },
            "type": "scattergeo"
           }
          ],
          "scattergl": [
           {
            "marker": {
             "colorbar": {
              "outlinewidth": 0,
              "ticks": ""
             }
            },
            "type": "scattergl"
           }
          ],
          "scattermapbox": [
           {
            "marker": {
             "colorbar": {
              "outlinewidth": 0,
              "ticks": ""
             }
            },
            "type": "scattermapbox"
           }
          ],
          "scatterpolar": [
           {
            "marker": {
             "colorbar": {
              "outlinewidth": 0,
              "ticks": ""
             }
            },
            "type": "scatterpolar"
           }
          ],
          "scatterpolargl": [
           {
            "marker": {
             "colorbar": {
              "outlinewidth": 0,
              "ticks": ""
             }
            },
            "type": "scatterpolargl"
           }
          ],
          "scatterternary": [
           {
            "marker": {
             "colorbar": {
              "outlinewidth": 0,
              "ticks": ""
             }
            },
            "type": "scatterternary"
           }
          ],
          "surface": [
           {
            "colorbar": {
             "outlinewidth": 0,
             "ticks": ""
            },
            "colorscale": [
             [
              0,
              "#0d0887"
             ],
             [
              0.1111111111111111,
              "#46039f"
             ],
             [
              0.2222222222222222,
              "#7201a8"
             ],
             [
              0.3333333333333333,
              "#9c179e"
             ],
             [
              0.4444444444444444,
              "#bd3786"
             ],
             [
              0.5555555555555556,
              "#d8576b"
             ],
             [
              0.6666666666666666,
              "#ed7953"
             ],
             [
              0.7777777777777778,
              "#fb9f3a"
             ],
             [
              0.8888888888888888,
              "#fdca26"
             ],
             [
              1,
              "#f0f921"
             ]
            ],
            "type": "surface"
           }
          ],
          "table": [
           {
            "cells": {
             "fill": {
              "color": "#EBF0F8"
             },
             "line": {
              "color": "white"
             }
            },
            "header": {
             "fill": {
              "color": "#C8D4E3"
             },
             "line": {
              "color": "white"
             }
            },
            "type": "table"
           }
          ]
         },
         "layout": {
          "annotationdefaults": {
           "arrowcolor": "#2a3f5f",
           "arrowhead": 0,
           "arrowwidth": 1
          },
          "autotypenumbers": "strict",
          "coloraxis": {
           "colorbar": {
            "outlinewidth": 0,
            "ticks": ""
           }
          },
          "colorscale": {
           "diverging": [
            [
             0,
             "#8e0152"
            ],
            [
             0.1,
             "#c51b7d"
            ],
            [
             0.2,
             "#de77ae"
            ],
            [
             0.3,
             "#f1b6da"
            ],
            [
             0.4,
             "#fde0ef"
            ],
            [
             0.5,
             "#f7f7f7"
            ],
            [
             0.6,
             "#e6f5d0"
            ],
            [
             0.7,
             "#b8e186"
            ],
            [
             0.8,
             "#7fbc41"
            ],
            [
             0.9,
             "#4d9221"
            ],
            [
             1,
             "#276419"
            ]
           ],
           "sequential": [
            [
             0,
             "#0d0887"
            ],
            [
             0.1111111111111111,
             "#46039f"
            ],
            [
             0.2222222222222222,
             "#7201a8"
            ],
            [
             0.3333333333333333,
             "#9c179e"
            ],
            [
             0.4444444444444444,
             "#bd3786"
            ],
            [
             0.5555555555555556,
             "#d8576b"
            ],
            [
             0.6666666666666666,
             "#ed7953"
            ],
            [
             0.7777777777777778,
             "#fb9f3a"
            ],
            [
             0.8888888888888888,
             "#fdca26"
            ],
            [
             1,
             "#f0f921"
            ]
           ],
           "sequentialminus": [
            [
             0,
             "#0d0887"
            ],
            [
             0.1111111111111111,
             "#46039f"
            ],
            [
             0.2222222222222222,
             "#7201a8"
            ],
            [
             0.3333333333333333,
             "#9c179e"
            ],
            [
             0.4444444444444444,
             "#bd3786"
            ],
            [
             0.5555555555555556,
             "#d8576b"
            ],
            [
             0.6666666666666666,
             "#ed7953"
            ],
            [
             0.7777777777777778,
             "#fb9f3a"
            ],
            [
             0.8888888888888888,
             "#fdca26"
            ],
            [
             1,
             "#f0f921"
            ]
           ]
          },
          "colorway": [
           "#636efa",
           "#EF553B",
           "#00cc96",
           "#ab63fa",
           "#FFA15A",
           "#19d3f3",
           "#FF6692",
           "#B6E880",
           "#FF97FF",
           "#FECB52"
          ],
          "font": {
           "color": "#2a3f5f"
          },
          "geo": {
           "bgcolor": "white",
           "lakecolor": "white",
           "landcolor": "#E5ECF6",
           "showlakes": true,
           "showland": true,
           "subunitcolor": "white"
          },
          "hoverlabel": {
           "align": "left"
          },
          "hovermode": "closest",
          "mapbox": {
           "style": "light"
          },
          "paper_bgcolor": "white",
          "plot_bgcolor": "#E5ECF6",
          "polar": {
           "angularaxis": {
            "gridcolor": "white",
            "linecolor": "white",
            "ticks": ""
           },
           "bgcolor": "#E5ECF6",
           "radialaxis": {
            "gridcolor": "white",
            "linecolor": "white",
            "ticks": ""
           }
          },
          "scene": {
           "xaxis": {
            "backgroundcolor": "#E5ECF6",
            "gridcolor": "white",
            "gridwidth": 2,
            "linecolor": "white",
            "showbackground": true,
            "ticks": "",
            "zerolinecolor": "white"
           },
           "yaxis": {
            "backgroundcolor": "#E5ECF6",
            "gridcolor": "white",
            "gridwidth": 2,
            "linecolor": "white",
            "showbackground": true,
            "ticks": "",
            "zerolinecolor": "white"
           },
           "zaxis": {
            "backgroundcolor": "#E5ECF6",
            "gridcolor": "white",
            "gridwidth": 2,
            "linecolor": "white",
            "showbackground": true,
            "ticks": "",
            "zerolinecolor": "white"
           }
          },
          "shapedefaults": {
           "line": {
            "color": "#2a3f5f"
           }
          },
          "ternary": {
           "aaxis": {
            "gridcolor": "white",
            "linecolor": "white",
            "ticks": ""
           },
           "baxis": {
            "gridcolor": "white",
            "linecolor": "white",
            "ticks": ""
           },
           "bgcolor": "#E5ECF6",
           "caxis": {
            "gridcolor": "white",
            "linecolor": "white",
            "ticks": ""
           }
          },
          "title": {
           "x": 0.05
          },
          "xaxis": {
           "automargin": true,
           "gridcolor": "white",
           "linecolor": "white",
           "ticks": "",
           "title": {
            "standoff": 15
           },
           "zerolinecolor": "white",
           "zerolinewidth": 2
          },
          "yaxis": {
           "automargin": true,
           "gridcolor": "white",
           "linecolor": "white",
           "ticks": "",
           "title": {
            "standoff": 15
           },
           "zerolinecolor": "white",
           "zerolinewidth": 2
          }
         }
        },
        "title": {
         "text": "Fitness Over Autoencoder Tuning Generations"
        },
        "xaxis": {
         "anchor": "y",
         "domain": [
          0,
          1
         ],
         "title": {
          "text": "Generation"
         }
        },
        "yaxis": {
         "anchor": "x",
         "domain": [
          0,
          1
         ],
         "title": {
          "text": "Validation Loss"
         }
        }
       }
      },
      "text/html": [
       "<div>                            <div id=\"24150526-7868-4a23-8f63-0ea8628a2a66\" class=\"plotly-graph-div\" style=\"height:525px; width:100%;\"></div>            <script type=\"text/javascript\">                require([\"plotly\"], function(Plotly) {                    window.PLOTLYENV=window.PLOTLYENV || {};                                    if (document.getElementById(\"24150526-7868-4a23-8f63-0ea8628a2a66\")) {                    Plotly.newPlot(                        \"24150526-7868-4a23-8f63-0ea8628a2a66\",                        [{\"mode\":\"lines\",\"type\":\"scatter\",\"x\":[0,1,2,3,4,5,6,7,8,9,10],\"xaxis\":\"x\",\"y\":[0.06993639598549292,0.06993639598549292,0.06993639598549292,0.05463085083667536,0.04406497524582719,0.03711457721540896,0.02262644716208526,0.012639604238505688,0.010580744122333577,0.009165789444497849,0.009165789444497849],\"yaxis\":\"y\"}],                        {\"template\":{\"data\":{\"bar\":[{\"error_x\":{\"color\":\"#2a3f5f\"},\"error_y\":{\"color\":\"#2a3f5f\"},\"marker\":{\"line\":{\"color\":\"#E5ECF6\",\"width\":0.5},\"pattern\":{\"fillmode\":\"overlay\",\"size\":10,\"solidity\":0.2}},\"type\":\"bar\"}],\"barpolar\":[{\"marker\":{\"line\":{\"color\":\"#E5ECF6\",\"width\":0.5},\"pattern\":{\"fillmode\":\"overlay\",\"size\":10,\"solidity\":0.2}},\"type\":\"barpolar\"}],\"carpet\":[{\"aaxis\":{\"endlinecolor\":\"#2a3f5f\",\"gridcolor\":\"white\",\"linecolor\":\"white\",\"minorgridcolor\":\"white\",\"startlinecolor\":\"#2a3f5f\"},\"baxis\":{\"endlinecolor\":\"#2a3f5f\",\"gridcolor\":\"white\",\"linecolor\":\"white\",\"minorgridcolor\":\"white\",\"startlinecolor\":\"#2a3f5f\"},\"type\":\"carpet\"}],\"choropleth\":[{\"colorbar\":{\"outlinewidth\":0,\"ticks\":\"\"},\"type\":\"choropleth\"}],\"contour\":[{\"colorbar\":{\"outlinewidth\":0,\"ticks\":\"\"},\"colorscale\":[[0.0,\"#0d0887\"],[0.1111111111111111,\"#46039f\"],[0.2222222222222222,\"#7201a8\"],[0.3333333333333333,\"#9c179e\"],[0.4444444444444444,\"#bd3786\"],[0.5555555555555556,\"#d8576b\"],[0.6666666666666666,\"#ed7953\"],[0.7777777777777778,\"#fb9f3a\"],[0.8888888888888888,\"#fdca26\"],[1.0,\"#f0f921\"]],\"type\":\"contour\"}],\"contourcarpet\":[{\"colorbar\":{\"outlinewidth\":0,\"ticks\":\"\"},\"type\":\"contourcarpet\"}],\"heatmap\":[{\"colorbar\":{\"outlinewidth\":0,\"ticks\":\"\"},\"colorscale\":[[0.0,\"#0d0887\"],[0.1111111111111111,\"#46039f\"],[0.2222222222222222,\"#7201a8\"],[0.3333333333333333,\"#9c179e\"],[0.4444444444444444,\"#bd3786\"],[0.5555555555555556,\"#d8576b\"],[0.6666666666666666,\"#ed7953\"],[0.7777777777777778,\"#fb9f3a\"],[0.8888888888888888,\"#fdca26\"],[1.0,\"#f0f921\"]],\"type\":\"heatmap\"}],\"heatmapgl\":[{\"colorbar\":{\"outlinewidth\":0,\"ticks\":\"\"},\"colorscale\":[[0.0,\"#0d0887\"],[0.1111111111111111,\"#46039f\"],[0.2222222222222222,\"#7201a8\"],[0.3333333333333333,\"#9c179e\"],[0.4444444444444444,\"#bd3786\"],[0.5555555555555556,\"#d8576b\"],[0.6666666666666666,\"#ed7953\"],[0.7777777777777778,\"#fb9f3a\"],[0.8888888888888888,\"#fdca26\"],[1.0,\"#f0f921\"]],\"type\":\"heatmapgl\"}],\"histogram\":[{\"marker\":{\"pattern\":{\"fillmode\":\"overlay\",\"size\":10,\"solidity\":0.2}},\"type\":\"histogram\"}],\"histogram2d\":[{\"colorbar\":{\"outlinewidth\":0,\"ticks\":\"\"},\"colorscale\":[[0.0,\"#0d0887\"],[0.1111111111111111,\"#46039f\"],[0.2222222222222222,\"#7201a8\"],[0.3333333333333333,\"#9c179e\"],[0.4444444444444444,\"#bd3786\"],[0.5555555555555556,\"#d8576b\"],[0.6666666666666666,\"#ed7953\"],[0.7777777777777778,\"#fb9f3a\"],[0.8888888888888888,\"#fdca26\"],[1.0,\"#f0f921\"]],\"type\":\"histogram2d\"}],\"histogram2dcontour\":[{\"colorbar\":{\"outlinewidth\":0,\"ticks\":\"\"},\"colorscale\":[[0.0,\"#0d0887\"],[0.1111111111111111,\"#46039f\"],[0.2222222222222222,\"#7201a8\"],[0.3333333333333333,\"#9c179e\"],[0.4444444444444444,\"#bd3786\"],[0.5555555555555556,\"#d8576b\"],[0.6666666666666666,\"#ed7953\"],[0.7777777777777778,\"#fb9f3a\"],[0.8888888888888888,\"#fdca26\"],[1.0,\"#f0f921\"]],\"type\":\"histogram2dcontour\"}],\"mesh3d\":[{\"colorbar\":{\"outlinewidth\":0,\"ticks\":\"\"},\"type\":\"mesh3d\"}],\"parcoords\":[{\"line\":{\"colorbar\":{\"outlinewidth\":0,\"ticks\":\"\"}},\"type\":\"parcoords\"}],\"pie\":[{\"automargin\":true,\"type\":\"pie\"}],\"scatter\":[{\"marker\":{\"colorbar\":{\"outlinewidth\":0,\"ticks\":\"\"}},\"type\":\"scatter\"}],\"scatter3d\":[{\"line\":{\"colorbar\":{\"outlinewidth\":0,\"ticks\":\"\"}},\"marker\":{\"colorbar\":{\"outlinewidth\":0,\"ticks\":\"\"}},\"type\":\"scatter3d\"}],\"scattercarpet\":[{\"marker\":{\"colorbar\":{\"outlinewidth\":0,\"ticks\":\"\"}},\"type\":\"scattercarpet\"}],\"scattergeo\":[{\"marker\":{\"colorbar\":{\"outlinewidth\":0,\"ticks\":\"\"}},\"type\":\"scattergeo\"}],\"scattergl\":[{\"marker\":{\"colorbar\":{\"outlinewidth\":0,\"ticks\":\"\"}},\"type\":\"scattergl\"}],\"scattermapbox\":[{\"marker\":{\"colorbar\":{\"outlinewidth\":0,\"ticks\":\"\"}},\"type\":\"scattermapbox\"}],\"scatterpolar\":[{\"marker\":{\"colorbar\":{\"outlinewidth\":0,\"ticks\":\"\"}},\"type\":\"scatterpolar\"}],\"scatterpolargl\":[{\"marker\":{\"colorbar\":{\"outlinewidth\":0,\"ticks\":\"\"}},\"type\":\"scatterpolargl\"}],\"scatterternary\":[{\"marker\":{\"colorbar\":{\"outlinewidth\":0,\"ticks\":\"\"}},\"type\":\"scatterternary\"}],\"surface\":[{\"colorbar\":{\"outlinewidth\":0,\"ticks\":\"\"},\"colorscale\":[[0.0,\"#0d0887\"],[0.1111111111111111,\"#46039f\"],[0.2222222222222222,\"#7201a8\"],[0.3333333333333333,\"#9c179e\"],[0.4444444444444444,\"#bd3786\"],[0.5555555555555556,\"#d8576b\"],[0.6666666666666666,\"#ed7953\"],[0.7777777777777778,\"#fb9f3a\"],[0.8888888888888888,\"#fdca26\"],[1.0,\"#f0f921\"]],\"type\":\"surface\"}],\"table\":[{\"cells\":{\"fill\":{\"color\":\"#EBF0F8\"},\"line\":{\"color\":\"white\"}},\"header\":{\"fill\":{\"color\":\"#C8D4E3\"},\"line\":{\"color\":\"white\"}},\"type\":\"table\"}]},\"layout\":{\"annotationdefaults\":{\"arrowcolor\":\"#2a3f5f\",\"arrowhead\":0,\"arrowwidth\":1},\"autotypenumbers\":\"strict\",\"coloraxis\":{\"colorbar\":{\"outlinewidth\":0,\"ticks\":\"\"}},\"colorscale\":{\"diverging\":[[0,\"#8e0152\"],[0.1,\"#c51b7d\"],[0.2,\"#de77ae\"],[0.3,\"#f1b6da\"],[0.4,\"#fde0ef\"],[0.5,\"#f7f7f7\"],[0.6,\"#e6f5d0\"],[0.7,\"#b8e186\"],[0.8,\"#7fbc41\"],[0.9,\"#4d9221\"],[1,\"#276419\"]],\"sequential\":[[0.0,\"#0d0887\"],[0.1111111111111111,\"#46039f\"],[0.2222222222222222,\"#7201a8\"],[0.3333333333333333,\"#9c179e\"],[0.4444444444444444,\"#bd3786\"],[0.5555555555555556,\"#d8576b\"],[0.6666666666666666,\"#ed7953\"],[0.7777777777777778,\"#fb9f3a\"],[0.8888888888888888,\"#fdca26\"],[1.0,\"#f0f921\"]],\"sequentialminus\":[[0.0,\"#0d0887\"],[0.1111111111111111,\"#46039f\"],[0.2222222222222222,\"#7201a8\"],[0.3333333333333333,\"#9c179e\"],[0.4444444444444444,\"#bd3786\"],[0.5555555555555556,\"#d8576b\"],[0.6666666666666666,\"#ed7953\"],[0.7777777777777778,\"#fb9f3a\"],[0.8888888888888888,\"#fdca26\"],[1.0,\"#f0f921\"]]},\"colorway\":[\"#636efa\",\"#EF553B\",\"#00cc96\",\"#ab63fa\",\"#FFA15A\",\"#19d3f3\",\"#FF6692\",\"#B6E880\",\"#FF97FF\",\"#FECB52\"],\"font\":{\"color\":\"#2a3f5f\"},\"geo\":{\"bgcolor\":\"white\",\"lakecolor\":\"white\",\"landcolor\":\"#E5ECF6\",\"showlakes\":true,\"showland\":true,\"subunitcolor\":\"white\"},\"hoverlabel\":{\"align\":\"left\"},\"hovermode\":\"closest\",\"mapbox\":{\"style\":\"light\"},\"paper_bgcolor\":\"white\",\"plot_bgcolor\":\"#E5ECF6\",\"polar\":{\"angularaxis\":{\"gridcolor\":\"white\",\"linecolor\":\"white\",\"ticks\":\"\"},\"bgcolor\":\"#E5ECF6\",\"radialaxis\":{\"gridcolor\":\"white\",\"linecolor\":\"white\",\"ticks\":\"\"}},\"scene\":{\"xaxis\":{\"backgroundcolor\":\"#E5ECF6\",\"gridcolor\":\"white\",\"gridwidth\":2,\"linecolor\":\"white\",\"showbackground\":true,\"ticks\":\"\",\"zerolinecolor\":\"white\"},\"yaxis\":{\"backgroundcolor\":\"#E5ECF6\",\"gridcolor\":\"white\",\"gridwidth\":2,\"linecolor\":\"white\",\"showbackground\":true,\"ticks\":\"\",\"zerolinecolor\":\"white\"},\"zaxis\":{\"backgroundcolor\":\"#E5ECF6\",\"gridcolor\":\"white\",\"gridwidth\":2,\"linecolor\":\"white\",\"showbackground\":true,\"ticks\":\"\",\"zerolinecolor\":\"white\"}},\"shapedefaults\":{\"line\":{\"color\":\"#2a3f5f\"}},\"ternary\":{\"aaxis\":{\"gridcolor\":\"white\",\"linecolor\":\"white\",\"ticks\":\"\"},\"baxis\":{\"gridcolor\":\"white\",\"linecolor\":\"white\",\"ticks\":\"\"},\"bgcolor\":\"#E5ECF6\",\"caxis\":{\"gridcolor\":\"white\",\"linecolor\":\"white\",\"ticks\":\"\"}},\"title\":{\"x\":0.05},\"xaxis\":{\"automargin\":true,\"gridcolor\":\"white\",\"linecolor\":\"white\",\"ticks\":\"\",\"title\":{\"standoff\":15},\"zerolinecolor\":\"white\",\"zerolinewidth\":2},\"yaxis\":{\"automargin\":true,\"gridcolor\":\"white\",\"linecolor\":\"white\",\"ticks\":\"\",\"title\":{\"standoff\":15},\"zerolinecolor\":\"white\",\"zerolinewidth\":2}}},\"title\":{\"text\":\"Fitness Over Autoencoder Tuning Generations\"},\"xaxis\":{\"anchor\":\"y\",\"domain\":[0.0,1.0],\"title\":{\"text\":\"Generation\"}},\"yaxis\":{\"anchor\":\"x\",\"domain\":[0.0,1.0],\"title\":{\"text\":\"Validation Loss\"}}},                        {\"responsive\": true}                    ).then(function(){\n",
       "                            \n",
       "var gd = document.getElementById('24150526-7868-4a23-8f63-0ea8628a2a66');\n",
       "var x = new MutationObserver(function (mutations, observer) {{\n",
       "        var display = window.getComputedStyle(gd).display;\n",
       "        if (!display || display === 'none') {{\n",
       "            console.log([gd, 'removed!']);\n",
       "            Plotly.purge(gd);\n",
       "            observer.disconnect();\n",
       "        }}\n",
       "}});\n",
       "\n",
       "// Listen for the removal of the full notebook cells\n",
       "var notebookContainer = gd.closest('#notebook-container');\n",
       "if (notebookContainer) {{\n",
       "    x.observe(notebookContainer, {childList: true});\n",
       "}}\n",
       "\n",
       "// Listen for the clearing of the current output cell\n",
       "var outputEl = gd.closest('.output');\n",
       "if (outputEl) {{\n",
       "    x.observe(outputEl, {childList: true});\n",
       "}}\n",
       "\n",
       "                        })                };                });            </script>        </div>"
      ]
     },
     "metadata": {},
     "output_type": "display_data"
    }
   ],
   "source": [
    "\"\"\"\n",
    "    instance = [activation function, --> one of list\n",
    "        nodes layer 1, --> integer, not 0\n",
    "        nodes layer 2, --> integer, may be 0\n",
    "        nodes layer 3, --> integer, may be 0\n",
    "        batch_normalization, --> binary integer\n",
    "        batch_size --> one of list\n",
    "        ]\n",
    "\"\"\"\n",
    "\n",
    "lookback = 5\n",
    "val_year = 2018\n",
    "test_year = 2019\n",
    "\n",
    "files = {\n",
    "    # varname: filename\n",
    "    \"S&P500\": \"Dataset v3/SP500_combined_data_20220412.csv\",\n",
    "}\n",
    "for file in files:\n",
    "    df = retrieve_data(file, files[file])\n",
    "\n",
    "df = create_classification_data(df, lookback)\n",
    "\n",
    "x_train, y_train, x_val, y_val, x_test, y_test = create_train_val_test(df, val_year, test_year)\n",
    "\n",
    "x_train = scale_data(x_train)\n",
    "x_val = scale_data(x_val)\n",
    "x_test = scale_data(x_test)\n",
    "\n",
    "variables = len(x_train.columns)\n",
    "print(f\"Input size: {variables}\")\n",
    "population_size = 20\n",
    "generations = 10\n",
    "epochs = 40\n",
    "activation_functions = ['ReLU', 'LeakyReLU', 'sigmoid', 'tanh']\n",
    "batch_sizes = [32, 64, 128, 256]\n",
    "\n",
    "ea = EA(population_size, activation_functions, batch_sizes, variables)\n",
    "x = init_population(population_size, activation_functions, batch_sizes, variables)\n",
    "f = evaluate_init_population(ea, x)\n",
    "\n",
    "populations = []\n",
    "populations.append(x)\n",
    "f_best = [f.min()]\n",
    "\n",
    "start_time = datetime.now()\n",
    "\n",
    "print(\"--> STARTING EVOLUTION\")\n",
    "early_stop = 0\n",
    "for i in range(generations):\n",
    "    print(f'Generation: {i}\\tBest fitness: {f.min()}')\n",
    "    x, f = ea.step(x, f)\n",
    "    print(x)\n",
    "    populations.append(x)\n",
    "\n",
    "    if f.min() < f_best[-1]:\n",
    "        f_best.append(f.min())\n",
    "        early_stop = 0\n",
    "    else:\n",
    "        f_best.append(f_best[-1])\n",
    "        early_stop += 1\n",
    "    extract_population(x, activation_functions, batch_sizes)\n",
    "    if early_stop == 3:\n",
    "        print(\"Early stop triggered at generation {i} after not improving fitness for three generations\")\n",
    "        break\n",
    "print(\"--> EVOLUTION FINISHED\")\n",
    "\n",
    "end_time = datetime.now()\n",
    "evolution_time = end_time - start_time\n",
    "evolution_time_seconds = evolution_time.total_seconds()\n",
    "print(f\"\\nElapsed time in minutes: {evolution_time_seconds/60}\")\n",
    "\n",
    "print(f)\n",
    "print(f.min())\n",
    "index_best_parameters = np.where(f == f.min())[0][0]\n",
    "print(index_best_parameters)\n",
    "print_best(x[index_best_parameters], activation_functions, batch_sizes, f.min())\n",
    "validate_best(x[index_best_parameters], ea)\n",
    "plot_convergence(f_best)"
   ]
  },
  {
   "cell_type": "code",
   "execution_count": 31,
   "metadata": {},
   "outputs": [
    {
     "data": {
      "application/vnd.plotly.v1+json": {
       "config": {
        "plotlyServerURL": "https://plot.ly"
       },
       "data": [
        {
         "mode": "lines",
         "type": "scatter",
         "x": [
          0,
          1,
          2,
          3,
          4,
          5,
          6,
          7,
          8,
          9,
          10
         ],
         "xaxis": "x",
         "y": [
          0.06993639598549292,
          0.06993639598549292,
          0.06993639598549292,
          0.05463085083667536,
          0.04406497524582719,
          0.03711457721540896,
          0.02262644716208526,
          0.012639604238505688,
          0.010580744122333577,
          0.009165789444497849,
          0.009165789444497849
         ],
         "yaxis": "y"
        }
       ],
       "layout": {
        "template": {
         "data": {
          "bar": [
           {
            "error_x": {
             "color": "#2a3f5f"
            },
            "error_y": {
             "color": "#2a3f5f"
            },
            "marker": {
             "line": {
              "color": "#E5ECF6",
              "width": 0.5
             },
             "pattern": {
              "fillmode": "overlay",
              "size": 10,
              "solidity": 0.2
             }
            },
            "type": "bar"
           }
          ],
          "barpolar": [
           {
            "marker": {
             "line": {
              "color": "#E5ECF6",
              "width": 0.5
             },
             "pattern": {
              "fillmode": "overlay",
              "size": 10,
              "solidity": 0.2
             }
            },
            "type": "barpolar"
           }
          ],
          "carpet": [
           {
            "aaxis": {
             "endlinecolor": "#2a3f5f",
             "gridcolor": "white",
             "linecolor": "white",
             "minorgridcolor": "white",
             "startlinecolor": "#2a3f5f"
            },
            "baxis": {
             "endlinecolor": "#2a3f5f",
             "gridcolor": "white",
             "linecolor": "white",
             "minorgridcolor": "white",
             "startlinecolor": "#2a3f5f"
            },
            "type": "carpet"
           }
          ],
          "choropleth": [
           {
            "colorbar": {
             "outlinewidth": 0,
             "ticks": ""
            },
            "type": "choropleth"
           }
          ],
          "contour": [
           {
            "colorbar": {
             "outlinewidth": 0,
             "ticks": ""
            },
            "colorscale": [
             [
              0,
              "#0d0887"
             ],
             [
              0.1111111111111111,
              "#46039f"
             ],
             [
              0.2222222222222222,
              "#7201a8"
             ],
             [
              0.3333333333333333,
              "#9c179e"
             ],
             [
              0.4444444444444444,
              "#bd3786"
             ],
             [
              0.5555555555555556,
              "#d8576b"
             ],
             [
              0.6666666666666666,
              "#ed7953"
             ],
             [
              0.7777777777777778,
              "#fb9f3a"
             ],
             [
              0.8888888888888888,
              "#fdca26"
             ],
             [
              1,
              "#f0f921"
             ]
            ],
            "type": "contour"
           }
          ],
          "contourcarpet": [
           {
            "colorbar": {
             "outlinewidth": 0,
             "ticks": ""
            },
            "type": "contourcarpet"
           }
          ],
          "heatmap": [
           {
            "colorbar": {
             "outlinewidth": 0,
             "ticks": ""
            },
            "colorscale": [
             [
              0,
              "#0d0887"
             ],
             [
              0.1111111111111111,
              "#46039f"
             ],
             [
              0.2222222222222222,
              "#7201a8"
             ],
             [
              0.3333333333333333,
              "#9c179e"
             ],
             [
              0.4444444444444444,
              "#bd3786"
             ],
             [
              0.5555555555555556,
              "#d8576b"
             ],
             [
              0.6666666666666666,
              "#ed7953"
             ],
             [
              0.7777777777777778,
              "#fb9f3a"
             ],
             [
              0.8888888888888888,
              "#fdca26"
             ],
             [
              1,
              "#f0f921"
             ]
            ],
            "type": "heatmap"
           }
          ],
          "heatmapgl": [
           {
            "colorbar": {
             "outlinewidth": 0,
             "ticks": ""
            },
            "colorscale": [
             [
              0,
              "#0d0887"
             ],
             [
              0.1111111111111111,
              "#46039f"
             ],
             [
              0.2222222222222222,
              "#7201a8"
             ],
             [
              0.3333333333333333,
              "#9c179e"
             ],
             [
              0.4444444444444444,
              "#bd3786"
             ],
             [
              0.5555555555555556,
              "#d8576b"
             ],
             [
              0.6666666666666666,
              "#ed7953"
             ],
             [
              0.7777777777777778,
              "#fb9f3a"
             ],
             [
              0.8888888888888888,
              "#fdca26"
             ],
             [
              1,
              "#f0f921"
             ]
            ],
            "type": "heatmapgl"
           }
          ],
          "histogram": [
           {
            "marker": {
             "pattern": {
              "fillmode": "overlay",
              "size": 10,
              "solidity": 0.2
             }
            },
            "type": "histogram"
           }
          ],
          "histogram2d": [
           {
            "colorbar": {
             "outlinewidth": 0,
             "ticks": ""
            },
            "colorscale": [
             [
              0,
              "#0d0887"
             ],
             [
              0.1111111111111111,
              "#46039f"
             ],
             [
              0.2222222222222222,
              "#7201a8"
             ],
             [
              0.3333333333333333,
              "#9c179e"
             ],
             [
              0.4444444444444444,
              "#bd3786"
             ],
             [
              0.5555555555555556,
              "#d8576b"
             ],
             [
              0.6666666666666666,
              "#ed7953"
             ],
             [
              0.7777777777777778,
              "#fb9f3a"
             ],
             [
              0.8888888888888888,
              "#fdca26"
             ],
             [
              1,
              "#f0f921"
             ]
            ],
            "type": "histogram2d"
           }
          ],
          "histogram2dcontour": [
           {
            "colorbar": {
             "outlinewidth": 0,
             "ticks": ""
            },
            "colorscale": [
             [
              0,
              "#0d0887"
             ],
             [
              0.1111111111111111,
              "#46039f"
             ],
             [
              0.2222222222222222,
              "#7201a8"
             ],
             [
              0.3333333333333333,
              "#9c179e"
             ],
             [
              0.4444444444444444,
              "#bd3786"
             ],
             [
              0.5555555555555556,
              "#d8576b"
             ],
             [
              0.6666666666666666,
              "#ed7953"
             ],
             [
              0.7777777777777778,
              "#fb9f3a"
             ],
             [
              0.8888888888888888,
              "#fdca26"
             ],
             [
              1,
              "#f0f921"
             ]
            ],
            "type": "histogram2dcontour"
           }
          ],
          "mesh3d": [
           {
            "colorbar": {
             "outlinewidth": 0,
             "ticks": ""
            },
            "type": "mesh3d"
           }
          ],
          "parcoords": [
           {
            "line": {
             "colorbar": {
              "outlinewidth": 0,
              "ticks": ""
             }
            },
            "type": "parcoords"
           }
          ],
          "pie": [
           {
            "automargin": true,
            "type": "pie"
           }
          ],
          "scatter": [
           {
            "marker": {
             "colorbar": {
              "outlinewidth": 0,
              "ticks": ""
             }
            },
            "type": "scatter"
           }
          ],
          "scatter3d": [
           {
            "line": {
             "colorbar": {
              "outlinewidth": 0,
              "ticks": ""
             }
            },
            "marker": {
             "colorbar": {
              "outlinewidth": 0,
              "ticks": ""
             }
            },
            "type": "scatter3d"
           }
          ],
          "scattercarpet": [
           {
            "marker": {
             "colorbar": {
              "outlinewidth": 0,
              "ticks": ""
             }
            },
            "type": "scattercarpet"
           }
          ],
          "scattergeo": [
           {
            "marker": {
             "colorbar": {
              "outlinewidth": 0,
              "ticks": ""
             }
            },
            "type": "scattergeo"
           }
          ],
          "scattergl": [
           {
            "marker": {
             "colorbar": {
              "outlinewidth": 0,
              "ticks": ""
             }
            },
            "type": "scattergl"
           }
          ],
          "scattermapbox": [
           {
            "marker": {
             "colorbar": {
              "outlinewidth": 0,
              "ticks": ""
             }
            },
            "type": "scattermapbox"
           }
          ],
          "scatterpolar": [
           {
            "marker": {
             "colorbar": {
              "outlinewidth": 0,
              "ticks": ""
             }
            },
            "type": "scatterpolar"
           }
          ],
          "scatterpolargl": [
           {
            "marker": {
             "colorbar": {
              "outlinewidth": 0,
              "ticks": ""
             }
            },
            "type": "scatterpolargl"
           }
          ],
          "scatterternary": [
           {
            "marker": {
             "colorbar": {
              "outlinewidth": 0,
              "ticks": ""
             }
            },
            "type": "scatterternary"
           }
          ],
          "surface": [
           {
            "colorbar": {
             "outlinewidth": 0,
             "ticks": ""
            },
            "colorscale": [
             [
              0,
              "#0d0887"
             ],
             [
              0.1111111111111111,
              "#46039f"
             ],
             [
              0.2222222222222222,
              "#7201a8"
             ],
             [
              0.3333333333333333,
              "#9c179e"
             ],
             [
              0.4444444444444444,
              "#bd3786"
             ],
             [
              0.5555555555555556,
              "#d8576b"
             ],
             [
              0.6666666666666666,
              "#ed7953"
             ],
             [
              0.7777777777777778,
              "#fb9f3a"
             ],
             [
              0.8888888888888888,
              "#fdca26"
             ],
             [
              1,
              "#f0f921"
             ]
            ],
            "type": "surface"
           }
          ],
          "table": [
           {
            "cells": {
             "fill": {
              "color": "#EBF0F8"
             },
             "line": {
              "color": "white"
             }
            },
            "header": {
             "fill": {
              "color": "#C8D4E3"
             },
             "line": {
              "color": "white"
             }
            },
            "type": "table"
           }
          ]
         },
         "layout": {
          "annotationdefaults": {
           "arrowcolor": "#2a3f5f",
           "arrowhead": 0,
           "arrowwidth": 1
          },
          "autotypenumbers": "strict",
          "coloraxis": {
           "colorbar": {
            "outlinewidth": 0,
            "ticks": ""
           }
          },
          "colorscale": {
           "diverging": [
            [
             0,
             "#8e0152"
            ],
            [
             0.1,
             "#c51b7d"
            ],
            [
             0.2,
             "#de77ae"
            ],
            [
             0.3,
             "#f1b6da"
            ],
            [
             0.4,
             "#fde0ef"
            ],
            [
             0.5,
             "#f7f7f7"
            ],
            [
             0.6,
             "#e6f5d0"
            ],
            [
             0.7,
             "#b8e186"
            ],
            [
             0.8,
             "#7fbc41"
            ],
            [
             0.9,
             "#4d9221"
            ],
            [
             1,
             "#276419"
            ]
           ],
           "sequential": [
            [
             0,
             "#0d0887"
            ],
            [
             0.1111111111111111,
             "#46039f"
            ],
            [
             0.2222222222222222,
             "#7201a8"
            ],
            [
             0.3333333333333333,
             "#9c179e"
            ],
            [
             0.4444444444444444,
             "#bd3786"
            ],
            [
             0.5555555555555556,
             "#d8576b"
            ],
            [
             0.6666666666666666,
             "#ed7953"
            ],
            [
             0.7777777777777778,
             "#fb9f3a"
            ],
            [
             0.8888888888888888,
             "#fdca26"
            ],
            [
             1,
             "#f0f921"
            ]
           ],
           "sequentialminus": [
            [
             0,
             "#0d0887"
            ],
            [
             0.1111111111111111,
             "#46039f"
            ],
            [
             0.2222222222222222,
             "#7201a8"
            ],
            [
             0.3333333333333333,
             "#9c179e"
            ],
            [
             0.4444444444444444,
             "#bd3786"
            ],
            [
             0.5555555555555556,
             "#d8576b"
            ],
            [
             0.6666666666666666,
             "#ed7953"
            ],
            [
             0.7777777777777778,
             "#fb9f3a"
            ],
            [
             0.8888888888888888,
             "#fdca26"
            ],
            [
             1,
             "#f0f921"
            ]
           ]
          },
          "colorway": [
           "#636efa",
           "#EF553B",
           "#00cc96",
           "#ab63fa",
           "#FFA15A",
           "#19d3f3",
           "#FF6692",
           "#B6E880",
           "#FF97FF",
           "#FECB52"
          ],
          "font": {
           "color": "#2a3f5f"
          },
          "geo": {
           "bgcolor": "white",
           "lakecolor": "white",
           "landcolor": "#E5ECF6",
           "showlakes": true,
           "showland": true,
           "subunitcolor": "white"
          },
          "hoverlabel": {
           "align": "left"
          },
          "hovermode": "closest",
          "mapbox": {
           "style": "light"
          },
          "paper_bgcolor": "white",
          "plot_bgcolor": "#E5ECF6",
          "polar": {
           "angularaxis": {
            "gridcolor": "white",
            "linecolor": "white",
            "ticks": ""
           },
           "bgcolor": "#E5ECF6",
           "radialaxis": {
            "gridcolor": "white",
            "linecolor": "white",
            "ticks": ""
           }
          },
          "scene": {
           "xaxis": {
            "backgroundcolor": "#E5ECF6",
            "gridcolor": "white",
            "gridwidth": 2,
            "linecolor": "white",
            "showbackground": true,
            "ticks": "",
            "zerolinecolor": "white"
           },
           "yaxis": {
            "backgroundcolor": "#E5ECF6",
            "gridcolor": "white",
            "gridwidth": 2,
            "linecolor": "white",
            "showbackground": true,
            "ticks": "",
            "zerolinecolor": "white"
           },
           "zaxis": {
            "backgroundcolor": "#E5ECF6",
            "gridcolor": "white",
            "gridwidth": 2,
            "linecolor": "white",
            "showbackground": true,
            "ticks": "",
            "zerolinecolor": "white"
           }
          },
          "shapedefaults": {
           "line": {
            "color": "#2a3f5f"
           }
          },
          "ternary": {
           "aaxis": {
            "gridcolor": "white",
            "linecolor": "white",
            "ticks": ""
           },
           "baxis": {
            "gridcolor": "white",
            "linecolor": "white",
            "ticks": ""
           },
           "bgcolor": "#E5ECF6",
           "caxis": {
            "gridcolor": "white",
            "linecolor": "white",
            "ticks": ""
           }
          },
          "title": {
           "x": 0.05
          },
          "xaxis": {
           "automargin": true,
           "gridcolor": "white",
           "linecolor": "white",
           "ticks": "",
           "title": {
            "standoff": 15
           },
           "zerolinecolor": "white",
           "zerolinewidth": 2
          },
          "yaxis": {
           "automargin": true,
           "gridcolor": "white",
           "linecolor": "white",
           "ticks": "",
           "title": {
            "standoff": 15
           },
           "zerolinecolor": "white",
           "zerolinewidth": 2
          }
         }
        },
        "title": {
         "text": "Fitness Over Autoencoder Tuning Generations"
        },
        "xaxis": {
         "anchor": "y",
         "domain": [
          0,
          1
         ],
         "title": {
          "text": "Generation"
         }
        },
        "yaxis": {
         "anchor": "x",
         "domain": [
          0,
          1
         ],
         "title": {
          "text": "Fitness"
         }
        }
       }
      },
      "text/html": [
       "<div>                            <div id=\"fe1fb50a-ee3b-4d12-990c-111460359b66\" class=\"plotly-graph-div\" style=\"height:525px; width:100%;\"></div>            <script type=\"text/javascript\">                require([\"plotly\"], function(Plotly) {                    window.PLOTLYENV=window.PLOTLYENV || {};                                    if (document.getElementById(\"fe1fb50a-ee3b-4d12-990c-111460359b66\")) {                    Plotly.newPlot(                        \"fe1fb50a-ee3b-4d12-990c-111460359b66\",                        [{\"mode\":\"lines\",\"type\":\"scatter\",\"x\":[0,1,2,3,4,5,6,7,8,9,10],\"xaxis\":\"x\",\"y\":[0.06993639598549292,0.06993639598549292,0.06993639598549292,0.05463085083667536,0.04406497524582719,0.03711457721540896,0.02262644716208526,0.012639604238505688,0.010580744122333577,0.009165789444497849,0.009165789444497849],\"yaxis\":\"y\"}],                        {\"template\":{\"data\":{\"bar\":[{\"error_x\":{\"color\":\"#2a3f5f\"},\"error_y\":{\"color\":\"#2a3f5f\"},\"marker\":{\"line\":{\"color\":\"#E5ECF6\",\"width\":0.5},\"pattern\":{\"fillmode\":\"overlay\",\"size\":10,\"solidity\":0.2}},\"type\":\"bar\"}],\"barpolar\":[{\"marker\":{\"line\":{\"color\":\"#E5ECF6\",\"width\":0.5},\"pattern\":{\"fillmode\":\"overlay\",\"size\":10,\"solidity\":0.2}},\"type\":\"barpolar\"}],\"carpet\":[{\"aaxis\":{\"endlinecolor\":\"#2a3f5f\",\"gridcolor\":\"white\",\"linecolor\":\"white\",\"minorgridcolor\":\"white\",\"startlinecolor\":\"#2a3f5f\"},\"baxis\":{\"endlinecolor\":\"#2a3f5f\",\"gridcolor\":\"white\",\"linecolor\":\"white\",\"minorgridcolor\":\"white\",\"startlinecolor\":\"#2a3f5f\"},\"type\":\"carpet\"}],\"choropleth\":[{\"colorbar\":{\"outlinewidth\":0,\"ticks\":\"\"},\"type\":\"choropleth\"}],\"contour\":[{\"colorbar\":{\"outlinewidth\":0,\"ticks\":\"\"},\"colorscale\":[[0.0,\"#0d0887\"],[0.1111111111111111,\"#46039f\"],[0.2222222222222222,\"#7201a8\"],[0.3333333333333333,\"#9c179e\"],[0.4444444444444444,\"#bd3786\"],[0.5555555555555556,\"#d8576b\"],[0.6666666666666666,\"#ed7953\"],[0.7777777777777778,\"#fb9f3a\"],[0.8888888888888888,\"#fdca26\"],[1.0,\"#f0f921\"]],\"type\":\"contour\"}],\"contourcarpet\":[{\"colorbar\":{\"outlinewidth\":0,\"ticks\":\"\"},\"type\":\"contourcarpet\"}],\"heatmap\":[{\"colorbar\":{\"outlinewidth\":0,\"ticks\":\"\"},\"colorscale\":[[0.0,\"#0d0887\"],[0.1111111111111111,\"#46039f\"],[0.2222222222222222,\"#7201a8\"],[0.3333333333333333,\"#9c179e\"],[0.4444444444444444,\"#bd3786\"],[0.5555555555555556,\"#d8576b\"],[0.6666666666666666,\"#ed7953\"],[0.7777777777777778,\"#fb9f3a\"],[0.8888888888888888,\"#fdca26\"],[1.0,\"#f0f921\"]],\"type\":\"heatmap\"}],\"heatmapgl\":[{\"colorbar\":{\"outlinewidth\":0,\"ticks\":\"\"},\"colorscale\":[[0.0,\"#0d0887\"],[0.1111111111111111,\"#46039f\"],[0.2222222222222222,\"#7201a8\"],[0.3333333333333333,\"#9c179e\"],[0.4444444444444444,\"#bd3786\"],[0.5555555555555556,\"#d8576b\"],[0.6666666666666666,\"#ed7953\"],[0.7777777777777778,\"#fb9f3a\"],[0.8888888888888888,\"#fdca26\"],[1.0,\"#f0f921\"]],\"type\":\"heatmapgl\"}],\"histogram\":[{\"marker\":{\"pattern\":{\"fillmode\":\"overlay\",\"size\":10,\"solidity\":0.2}},\"type\":\"histogram\"}],\"histogram2d\":[{\"colorbar\":{\"outlinewidth\":0,\"ticks\":\"\"},\"colorscale\":[[0.0,\"#0d0887\"],[0.1111111111111111,\"#46039f\"],[0.2222222222222222,\"#7201a8\"],[0.3333333333333333,\"#9c179e\"],[0.4444444444444444,\"#bd3786\"],[0.5555555555555556,\"#d8576b\"],[0.6666666666666666,\"#ed7953\"],[0.7777777777777778,\"#fb9f3a\"],[0.8888888888888888,\"#fdca26\"],[1.0,\"#f0f921\"]],\"type\":\"histogram2d\"}],\"histogram2dcontour\":[{\"colorbar\":{\"outlinewidth\":0,\"ticks\":\"\"},\"colorscale\":[[0.0,\"#0d0887\"],[0.1111111111111111,\"#46039f\"],[0.2222222222222222,\"#7201a8\"],[0.3333333333333333,\"#9c179e\"],[0.4444444444444444,\"#bd3786\"],[0.5555555555555556,\"#d8576b\"],[0.6666666666666666,\"#ed7953\"],[0.7777777777777778,\"#fb9f3a\"],[0.8888888888888888,\"#fdca26\"],[1.0,\"#f0f921\"]],\"type\":\"histogram2dcontour\"}],\"mesh3d\":[{\"colorbar\":{\"outlinewidth\":0,\"ticks\":\"\"},\"type\":\"mesh3d\"}],\"parcoords\":[{\"line\":{\"colorbar\":{\"outlinewidth\":0,\"ticks\":\"\"}},\"type\":\"parcoords\"}],\"pie\":[{\"automargin\":true,\"type\":\"pie\"}],\"scatter\":[{\"marker\":{\"colorbar\":{\"outlinewidth\":0,\"ticks\":\"\"}},\"type\":\"scatter\"}],\"scatter3d\":[{\"line\":{\"colorbar\":{\"outlinewidth\":0,\"ticks\":\"\"}},\"marker\":{\"colorbar\":{\"outlinewidth\":0,\"ticks\":\"\"}},\"type\":\"scatter3d\"}],\"scattercarpet\":[{\"marker\":{\"colorbar\":{\"outlinewidth\":0,\"ticks\":\"\"}},\"type\":\"scattercarpet\"}],\"scattergeo\":[{\"marker\":{\"colorbar\":{\"outlinewidth\":0,\"ticks\":\"\"}},\"type\":\"scattergeo\"}],\"scattergl\":[{\"marker\":{\"colorbar\":{\"outlinewidth\":0,\"ticks\":\"\"}},\"type\":\"scattergl\"}],\"scattermapbox\":[{\"marker\":{\"colorbar\":{\"outlinewidth\":0,\"ticks\":\"\"}},\"type\":\"scattermapbox\"}],\"scatterpolar\":[{\"marker\":{\"colorbar\":{\"outlinewidth\":0,\"ticks\":\"\"}},\"type\":\"scatterpolar\"}],\"scatterpolargl\":[{\"marker\":{\"colorbar\":{\"outlinewidth\":0,\"ticks\":\"\"}},\"type\":\"scatterpolargl\"}],\"scatterternary\":[{\"marker\":{\"colorbar\":{\"outlinewidth\":0,\"ticks\":\"\"}},\"type\":\"scatterternary\"}],\"surface\":[{\"colorbar\":{\"outlinewidth\":0,\"ticks\":\"\"},\"colorscale\":[[0.0,\"#0d0887\"],[0.1111111111111111,\"#46039f\"],[0.2222222222222222,\"#7201a8\"],[0.3333333333333333,\"#9c179e\"],[0.4444444444444444,\"#bd3786\"],[0.5555555555555556,\"#d8576b\"],[0.6666666666666666,\"#ed7953\"],[0.7777777777777778,\"#fb9f3a\"],[0.8888888888888888,\"#fdca26\"],[1.0,\"#f0f921\"]],\"type\":\"surface\"}],\"table\":[{\"cells\":{\"fill\":{\"color\":\"#EBF0F8\"},\"line\":{\"color\":\"white\"}},\"header\":{\"fill\":{\"color\":\"#C8D4E3\"},\"line\":{\"color\":\"white\"}},\"type\":\"table\"}]},\"layout\":{\"annotationdefaults\":{\"arrowcolor\":\"#2a3f5f\",\"arrowhead\":0,\"arrowwidth\":1},\"autotypenumbers\":\"strict\",\"coloraxis\":{\"colorbar\":{\"outlinewidth\":0,\"ticks\":\"\"}},\"colorscale\":{\"diverging\":[[0,\"#8e0152\"],[0.1,\"#c51b7d\"],[0.2,\"#de77ae\"],[0.3,\"#f1b6da\"],[0.4,\"#fde0ef\"],[0.5,\"#f7f7f7\"],[0.6,\"#e6f5d0\"],[0.7,\"#b8e186\"],[0.8,\"#7fbc41\"],[0.9,\"#4d9221\"],[1,\"#276419\"]],\"sequential\":[[0.0,\"#0d0887\"],[0.1111111111111111,\"#46039f\"],[0.2222222222222222,\"#7201a8\"],[0.3333333333333333,\"#9c179e\"],[0.4444444444444444,\"#bd3786\"],[0.5555555555555556,\"#d8576b\"],[0.6666666666666666,\"#ed7953\"],[0.7777777777777778,\"#fb9f3a\"],[0.8888888888888888,\"#fdca26\"],[1.0,\"#f0f921\"]],\"sequentialminus\":[[0.0,\"#0d0887\"],[0.1111111111111111,\"#46039f\"],[0.2222222222222222,\"#7201a8\"],[0.3333333333333333,\"#9c179e\"],[0.4444444444444444,\"#bd3786\"],[0.5555555555555556,\"#d8576b\"],[0.6666666666666666,\"#ed7953\"],[0.7777777777777778,\"#fb9f3a\"],[0.8888888888888888,\"#fdca26\"],[1.0,\"#f0f921\"]]},\"colorway\":[\"#636efa\",\"#EF553B\",\"#00cc96\",\"#ab63fa\",\"#FFA15A\",\"#19d3f3\",\"#FF6692\",\"#B6E880\",\"#FF97FF\",\"#FECB52\"],\"font\":{\"color\":\"#2a3f5f\"},\"geo\":{\"bgcolor\":\"white\",\"lakecolor\":\"white\",\"landcolor\":\"#E5ECF6\",\"showlakes\":true,\"showland\":true,\"subunitcolor\":\"white\"},\"hoverlabel\":{\"align\":\"left\"},\"hovermode\":\"closest\",\"mapbox\":{\"style\":\"light\"},\"paper_bgcolor\":\"white\",\"plot_bgcolor\":\"#E5ECF6\",\"polar\":{\"angularaxis\":{\"gridcolor\":\"white\",\"linecolor\":\"white\",\"ticks\":\"\"},\"bgcolor\":\"#E5ECF6\",\"radialaxis\":{\"gridcolor\":\"white\",\"linecolor\":\"white\",\"ticks\":\"\"}},\"scene\":{\"xaxis\":{\"backgroundcolor\":\"#E5ECF6\",\"gridcolor\":\"white\",\"gridwidth\":2,\"linecolor\":\"white\",\"showbackground\":true,\"ticks\":\"\",\"zerolinecolor\":\"white\"},\"yaxis\":{\"backgroundcolor\":\"#E5ECF6\",\"gridcolor\":\"white\",\"gridwidth\":2,\"linecolor\":\"white\",\"showbackground\":true,\"ticks\":\"\",\"zerolinecolor\":\"white\"},\"zaxis\":{\"backgroundcolor\":\"#E5ECF6\",\"gridcolor\":\"white\",\"gridwidth\":2,\"linecolor\":\"white\",\"showbackground\":true,\"ticks\":\"\",\"zerolinecolor\":\"white\"}},\"shapedefaults\":{\"line\":{\"color\":\"#2a3f5f\"}},\"ternary\":{\"aaxis\":{\"gridcolor\":\"white\",\"linecolor\":\"white\",\"ticks\":\"\"},\"baxis\":{\"gridcolor\":\"white\",\"linecolor\":\"white\",\"ticks\":\"\"},\"bgcolor\":\"#E5ECF6\",\"caxis\":{\"gridcolor\":\"white\",\"linecolor\":\"white\",\"ticks\":\"\"}},\"title\":{\"x\":0.05},\"xaxis\":{\"automargin\":true,\"gridcolor\":\"white\",\"linecolor\":\"white\",\"ticks\":\"\",\"title\":{\"standoff\":15},\"zerolinecolor\":\"white\",\"zerolinewidth\":2},\"yaxis\":{\"automargin\":true,\"gridcolor\":\"white\",\"linecolor\":\"white\",\"ticks\":\"\",\"title\":{\"standoff\":15},\"zerolinecolor\":\"white\",\"zerolinewidth\":2}}},\"title\":{\"text\":\"Fitness Over Autoencoder Tuning Generations\"},\"xaxis\":{\"anchor\":\"y\",\"domain\":[0.0,1.0],\"title\":{\"text\":\"Generation\"}},\"yaxis\":{\"anchor\":\"x\",\"domain\":[0.0,1.0],\"title\":{\"text\":\"Fitness\"}}},                        {\"responsive\": true}                    ).then(function(){\n",
       "                            \n",
       "var gd = document.getElementById('fe1fb50a-ee3b-4d12-990c-111460359b66');\n",
       "var x = new MutationObserver(function (mutations, observer) {{\n",
       "        var display = window.getComputedStyle(gd).display;\n",
       "        if (!display || display === 'none') {{\n",
       "            console.log([gd, 'removed!']);\n",
       "            Plotly.purge(gd);\n",
       "            observer.disconnect();\n",
       "        }}\n",
       "}});\n",
       "\n",
       "// Listen for the removal of the full notebook cells\n",
       "var notebookContainer = gd.closest('#notebook-container');\n",
       "if (notebookContainer) {{\n",
       "    x.observe(notebookContainer, {childList: true});\n",
       "}}\n",
       "\n",
       "// Listen for the clearing of the current output cell\n",
       "var outputEl = gd.closest('.output');\n",
       "if (outputEl) {{\n",
       "    x.observe(outputEl, {childList: true});\n",
       "}}\n",
       "\n",
       "                        })                };                });            </script>        </div>"
      ]
     },
     "metadata": {},
     "output_type": "display_data"
    }
   ],
   "source": [
    "plot_convergence(f_best)"
   ]
  },
  {
   "cell_type": "code",
   "execution_count": 38,
   "metadata": {
    "scrolled": false
   },
   "outputs": [
    {
     "name": "stdout",
     "output_type": "stream",
     "text": [
      "Epoch 1/100\n",
      "21/21 - 5s - loss: 0.1260 - val_loss: 0.0785\n",
      "Epoch 2/100\n",
      "21/21 - 3s - loss: 0.0184 - val_loss: 0.0589\n",
      "Epoch 3/100\n",
      "21/21 - 3s - loss: 0.0091 - val_loss: 0.0536\n",
      "Epoch 4/100\n",
      "21/21 - 2s - loss: 0.0072 - val_loss: 0.0507\n",
      "Epoch 5/100\n",
      "21/21 - 3s - loss: 0.0064 - val_loss: 0.0483\n",
      "Epoch 6/100\n",
      "21/21 - 3s - loss: 0.0060 - val_loss: 0.0461\n",
      "Epoch 7/100\n",
      "21/21 - 3s - loss: 0.0055 - val_loss: 0.0435\n",
      "Epoch 8/100\n",
      "21/21 - 3s - loss: 0.0052 - val_loss: 0.0435\n",
      "Epoch 9/100\n",
      "21/21 - 3s - loss: 0.0048 - val_loss: 0.0399\n",
      "Epoch 10/100\n",
      "21/21 - 3s - loss: 0.0044 - val_loss: 0.0378\n",
      "Epoch 11/100\n",
      "21/21 - 3s - loss: 0.0042 - val_loss: 0.0360\n",
      "Epoch 12/100\n",
      "21/21 - 4s - loss: 0.0042 - val_loss: 0.0341\n",
      "Epoch 13/100\n",
      "21/21 - 3s - loss: 0.0042 - val_loss: 0.0320\n",
      "Epoch 14/100\n",
      "21/21 - 3s - loss: 0.0039 - val_loss: 0.0291\n",
      "Epoch 15/100\n",
      "21/21 - 3s - loss: 0.0039 - val_loss: 0.0290\n",
      "Epoch 16/100\n",
      "21/21 - 3s - loss: 0.0036 - val_loss: 0.0280\n",
      "Epoch 17/100\n",
      "21/21 - 3s - loss: 0.0036 - val_loss: 0.0265\n",
      "Epoch 18/100\n",
      "21/21 - 3s - loss: 0.0034 - val_loss: 0.0271\n",
      "Epoch 19/100\n",
      "21/21 - 3s - loss: 0.0034 - val_loss: 0.0261\n",
      "Epoch 20/100\n",
      "21/21 - 3s - loss: 0.0033 - val_loss: 0.0249\n",
      "Epoch 21/100\n",
      "21/21 - 3s - loss: 0.0035 - val_loss: 0.0254\n",
      "Epoch 22/100\n",
      "21/21 - 3s - loss: 0.0037 - val_loss: 0.0261\n",
      "Epoch 23/100\n",
      "21/21 - 3s - loss: 0.0035 - val_loss: 0.0259\n",
      "Epoch 24/100\n",
      "21/21 - 3s - loss: 0.0032 - val_loss: 0.0224\n",
      "Epoch 25/100\n",
      "21/21 - 3s - loss: 0.0032 - val_loss: 0.0224\n",
      "Epoch 26/100\n",
      "21/21 - 3s - loss: 0.0033 - val_loss: 0.0215\n",
      "Epoch 27/100\n",
      "21/21 - 3s - loss: 0.0032 - val_loss: 0.0220\n",
      "Epoch 28/100\n",
      "21/21 - 3s - loss: 0.0032 - val_loss: 0.0212\n",
      "Epoch 29/100\n",
      "21/21 - 3s - loss: 0.0034 - val_loss: 0.0201\n",
      "Epoch 30/100\n",
      "21/21 - 3s - loss: 0.0032 - val_loss: 0.0191\n",
      "Epoch 31/100\n",
      "21/21 - 3s - loss: 0.0030 - val_loss: 0.0196\n",
      "Epoch 32/100\n",
      "21/21 - 3s - loss: 0.0032 - val_loss: 0.0202\n",
      "Epoch 33/100\n",
      "21/21 - 3s - loss: 0.0032 - val_loss: 0.0207\n",
      "Epoch 34/100\n",
      "21/21 - 3s - loss: 0.0030 - val_loss: 0.0209\n",
      "Epoch 35/100\n",
      "21/21 - 3s - loss: 0.0032 - val_loss: 0.0194\n",
      "Epoch 36/100\n",
      "21/21 - 3s - loss: 0.0031 - val_loss: 0.0183\n",
      "Epoch 37/100\n",
      "21/21 - 3s - loss: 0.0029 - val_loss: 0.0200\n",
      "Epoch 38/100\n",
      "21/21 - 2s - loss: 0.0029 - val_loss: 0.0201\n",
      "Epoch 39/100\n",
      "21/21 - 3s - loss: 0.0029 - val_loss: 0.0184\n",
      "Epoch 40/100\n",
      "21/21 - 3s - loss: 0.0031 - val_loss: 0.0196\n",
      "Epoch 41/100\n",
      "21/21 - 3s - loss: 0.0031 - val_loss: 0.0185\n",
      "Epoch 42/100\n",
      "21/21 - 3s - loss: 0.0027 - val_loss: 0.0188\n",
      "Epoch 43/100\n",
      "21/21 - 3s - loss: 0.0026 - val_loss: 0.0200\n",
      "Epoch 44/100\n",
      "21/21 - 3s - loss: 0.0029 - val_loss: 0.0212\n",
      "Epoch 45/100\n",
      "21/21 - 3s - loss: 0.0033 - val_loss: 0.0189\n",
      "Epoch 46/100\n",
      "21/21 - 3s - loss: 0.0031 - val_loss: 0.0189\n",
      "Epoch 47/100\n",
      "21/21 - 3s - loss: 0.0031 - val_loss: 0.0188\n",
      "Epoch 48/100\n",
      "21/21 - 2s - loss: 0.0027 - val_loss: 0.0175\n",
      "Epoch 49/100\n",
      "21/21 - 3s - loss: 0.0027 - val_loss: 0.0184\n",
      "Epoch 50/100\n",
      "21/21 - 2s - loss: 0.0027 - val_loss: 0.0178\n",
      "Epoch 51/100\n",
      "21/21 - 2s - loss: 0.0030 - val_loss: 0.0186\n",
      "Epoch 52/100\n",
      "21/21 - 2s - loss: 0.0030 - val_loss: 0.0182\n",
      "Epoch 53/100\n",
      "21/21 - 3s - loss: 0.0028 - val_loss: 0.0183\n",
      "Epoch 54/100\n",
      "21/21 - 2s - loss: 0.0029 - val_loss: 0.0196\n",
      "Epoch 55/100\n",
      "21/21 - 2s - loss: 0.0029 - val_loss: 0.0196\n",
      "Epoch 56/100\n",
      "21/21 - 2s - loss: 0.0027 - val_loss: 0.0197\n",
      "Epoch 57/100\n",
      "21/21 - 3s - loss: 0.0025 - val_loss: 0.0185\n",
      "Epoch 58/100\n",
      "21/21 - 3s - loss: 0.0032 - val_loss: 0.0198\n",
      "Epoch 59/100\n",
      "21/21 - 2s - loss: 0.0030 - val_loss: 0.0192\n",
      "Epoch 60/100\n",
      "21/21 - 2s - loss: 0.0027 - val_loss: 0.0190\n",
      "Epoch 61/100\n",
      "21/21 - 3s - loss: 0.0026 - val_loss: 0.0201\n",
      "Epoch 62/100\n",
      "21/21 - 2s - loss: 0.0026 - val_loss: 0.0185\n",
      "Epoch 63/100\n",
      "21/21 - 3s - loss: 0.0031 - val_loss: 0.0190\n",
      "Epoch 64/100\n",
      "21/21 - 3s - loss: 0.0029 - val_loss: 0.0186\n",
      "Epoch 65/100\n",
      "21/21 - 2s - loss: 0.0028 - val_loss: 0.0189\n",
      "Epoch 66/100\n",
      "21/21 - 3s - loss: 0.0030 - val_loss: 0.0186\n",
      "Epoch 67/100\n",
      "21/21 - 2s - loss: 0.0029 - val_loss: 0.0187\n",
      "Epoch 68/100\n",
      "21/21 - 2s - loss: 0.0028 - val_loss: 0.0172\n",
      "Epoch 69/100\n",
      "21/21 - 3s - loss: 0.0026 - val_loss: 0.0173\n",
      "Epoch 70/100\n",
      "21/21 - 3s - loss: 0.0031 - val_loss: 0.0194\n",
      "Epoch 71/100\n",
      "21/21 - 3s - loss: 0.0029 - val_loss: 0.0190\n",
      "Epoch 72/100\n",
      "21/21 - 3s - loss: 0.0025 - val_loss: 0.0180\n",
      "Epoch 73/100\n",
      "21/21 - 3s - loss: 0.0026 - val_loss: 0.0184\n",
      "Epoch 74/100\n",
      "21/21 - 3s - loss: 0.0026 - val_loss: 0.0184\n",
      "Epoch 75/100\n",
      "21/21 - 3s - loss: 0.0028 - val_loss: 0.0164\n",
      "Epoch 76/100\n",
      "21/21 - 3s - loss: 0.0025 - val_loss: 0.0175\n",
      "Epoch 77/100\n",
      "21/21 - 3s - loss: 0.0025 - val_loss: 0.0191\n",
      "Epoch 78/100\n",
      "21/21 - 3s - loss: 0.0030 - val_loss: 0.0188\n",
      "Epoch 79/100\n",
      "21/21 - 3s - loss: 0.0026 - val_loss: 0.0175\n",
      "Epoch 80/100\n",
      "21/21 - 3s - loss: 0.0026 - val_loss: 0.0179\n",
      "Epoch 81/100\n",
      "21/21 - 3s - loss: 0.0027 - val_loss: 0.0187\n",
      "Epoch 82/100\n",
      "21/21 - 2s - loss: 0.0025 - val_loss: 0.0180\n",
      "Epoch 83/100\n",
      "21/21 - 3s - loss: 0.0033 - val_loss: 0.0194\n",
      "Epoch 84/100\n",
      "21/21 - 3s - loss: 0.0028 - val_loss: 0.0175\n",
      "Epoch 85/100\n",
      "21/21 - 3s - loss: 0.0028 - val_loss: 0.0186\n",
      "Epoch 86/100\n",
      "21/21 - 3s - loss: 0.0028 - val_loss: 0.0180\n",
      "Epoch 87/100\n",
      "21/21 - 3s - loss: 0.0027 - val_loss: 0.0181\n",
      "Epoch 88/100\n",
      "21/21 - 3s - loss: 0.0028 - val_loss: 0.0197\n",
      "Epoch 89/100\n",
      "21/21 - 3s - loss: 0.0031 - val_loss: 0.0189\n",
      "Epoch 90/100\n",
      "21/21 - 3s - loss: 0.0028 - val_loss: 0.0178\n",
      "Epoch 91/100\n",
      "21/21 - 3s - loss: 0.0027 - val_loss: 0.0177\n",
      "Epoch 92/100\n",
      "21/21 - 3s - loss: 0.0028 - val_loss: 0.0181\n",
      "Epoch 93/100\n",
      "21/21 - 3s - loss: 0.0023 - val_loss: 0.0174\n",
      "Epoch 94/100\n",
      "21/21 - 3s - loss: 0.0027 - val_loss: 0.0169\n",
      "Epoch 95/100\n",
      "21/21 - 3s - loss: 0.0026 - val_loss: 0.0187\n",
      "Epoch 96/100\n",
      "21/21 - 3s - loss: 0.0026 - val_loss: 0.0180\n",
      "Epoch 97/100\n",
      "21/21 - 3s - loss: 0.0028 - val_loss: 0.0177\n",
      "Epoch 98/100\n",
      "21/21 - 3s - loss: 0.0023 - val_loss: 0.0169\n",
      "Epoch 99/100\n",
      "21/21 - 3s - loss: 0.0023 - val_loss: 0.0184\n",
      "Epoch 100/100\n",
      "21/21 - 3s - loss: 0.0028 - val_loss: 0.0178\n"
     ]
    },
    {
     "data": {
      "application/vnd.plotly.v1+json": {
       "config": {
        "plotlyServerURL": "https://plot.ly"
       },
       "data": [
        {
         "mode": "lines",
         "name": "Training Loss",
         "type": "scatter",
         "x": [
          0,
          1,
          2,
          3,
          4,
          5,
          6,
          7,
          8,
          9,
          10,
          11,
          12,
          13,
          14,
          15,
          16,
          17,
          18,
          19,
          20,
          21,
          22,
          23,
          24,
          25,
          26,
          27,
          28,
          29,
          30,
          31,
          32,
          33,
          34,
          35,
          36,
          37,
          38,
          39,
          40,
          41,
          42,
          43,
          44,
          45,
          46,
          47,
          48,
          49,
          50,
          51,
          52,
          53,
          54,
          55,
          56,
          57,
          58,
          59,
          60,
          61,
          62,
          63,
          64,
          65,
          66,
          67,
          68,
          69,
          70,
          71,
          72,
          73,
          74,
          75,
          76,
          77,
          78,
          79,
          80,
          81,
          82,
          83,
          84,
          85,
          86,
          87,
          88,
          89,
          90,
          91,
          92,
          93,
          94,
          95,
          96,
          97,
          98,
          99
         ],
         "xaxis": "x",
         "y": [
          0.1260281354188919,
          0.0184446070343256,
          0.009103997610509396,
          0.007179707754403353,
          0.006434795446693897,
          0.0059590451419353485,
          0.005515021737664938,
          0.0052433195523917675,
          0.004839794244617224,
          0.004448930267244577,
          0.004226562567055225,
          0.004198587499558926,
          0.004223829600960016,
          0.0038756246212869883,
          0.0038970320019870996,
          0.003568706102669239,
          0.0036088309716433287,
          0.0034103570505976677,
          0.003353801788762212,
          0.0032567016314715147,
          0.003462987020611763,
          0.0037067271769046783,
          0.0035255744587630033,
          0.003168450202792883,
          0.0031727529130876064,
          0.0032686926424503326,
          0.003209088696166873,
          0.003207190427929163,
          0.0034138523042201996,
          0.0031536873430013657,
          0.0029759672470390797,
          0.0031853721011430025,
          0.0031812095548957586,
          0.0029627892654389143,
          0.003202520776540041,
          0.0031293625943362713,
          0.0029419378843158484,
          0.002910734387114644,
          0.0029135353397578,
          0.0030747728887945414,
          0.003102913498878479,
          0.0026958331000059843,
          0.002577826613560319,
          0.0028883530758321285,
          0.0032524734269827604,
          0.003051482606679201,
          0.0030977355781942606,
          0.002745112171396613,
          0.002689318498596549,
          0.0026682447642087936,
          0.003026532009243965,
          0.002982475096359849,
          0.0027779475785791874,
          0.0028611698653548956,
          0.0029034640174359083,
          0.0026900656521320343,
          0.0025214985944330692,
          0.003241827944293618,
          0.002969451481476426,
          0.0026906640268862247,
          0.002621824387460947,
          0.0026076878421008587,
          0.0031272973865270615,
          0.002859370317310095,
          0.002829974051564932,
          0.0029879542998969555,
          0.0029383832588791847,
          0.0028195667546242476,
          0.0026335555594414473,
          0.00308044720441103,
          0.0029283638577908278,
          0.002470796462148428,
          0.0025953734293580055,
          0.0026026221457868814,
          0.002816182794049382,
          0.002450203290209174,
          0.002530974568799138,
          0.0029853289015591145,
          0.0025874085258692503,
          0.0025941834319382906,
          0.002686696592718363,
          0.002523294882848859,
          0.0033358565997332335,
          0.0028023996856063604,
          0.0028454840648919344,
          0.0028187681455165148,
          0.0026881354860961437,
          0.0028450367972254753,
          0.0031040431931614876,
          0.0028489131946116686,
          0.0027424416039139032,
          0.0028074178844690323,
          0.0022771607618778944,
          0.0026543843559920788,
          0.0025877614971250296,
          0.0025799626018851995,
          0.0028159087523818016,
          0.0023147466126829386,
          0.0022735665552318096,
          0.0028195702470839024
         ],
         "yaxis": "y"
        },
        {
         "mode": "lines",
         "name": "Validation Loss",
         "type": "scatter",
         "x": [
          0,
          1,
          2,
          3,
          4,
          5,
          6,
          7,
          8,
          9,
          10,
          11,
          12,
          13,
          14,
          15,
          16,
          17,
          18,
          19,
          20,
          21,
          22,
          23,
          24,
          25,
          26,
          27,
          28,
          29,
          30,
          31,
          32,
          33,
          34,
          35,
          36,
          37,
          38,
          39,
          40,
          41,
          42,
          43,
          44,
          45,
          46,
          47,
          48,
          49,
          50,
          51,
          52,
          53,
          54,
          55,
          56,
          57,
          58,
          59,
          60,
          61,
          62,
          63,
          64,
          65,
          66,
          67,
          68,
          69,
          70,
          71,
          72,
          73,
          74,
          75,
          76,
          77,
          78,
          79,
          80,
          81,
          82,
          83,
          84,
          85,
          86,
          87,
          88,
          89,
          90,
          91,
          92,
          93,
          94,
          95,
          96,
          97,
          98,
          99
         ],
         "xaxis": "x",
         "y": [
          0.07851861417293549,
          0.058867428451776505,
          0.05362644046545029,
          0.05069167539477348,
          0.04825723543763161,
          0.04614533111453056,
          0.04346095770597458,
          0.04350486025214195,
          0.03986585885286331,
          0.037841252982616425,
          0.035993315279483795,
          0.034086622297763824,
          0.03195655345916748,
          0.029067877680063248,
          0.028954850509762764,
          0.02801264077425003,
          0.026487896218895912,
          0.02713080309331417,
          0.0261498112231493,
          0.02494027651846409,
          0.025408169254660606,
          0.026101840659976006,
          0.02588578686118126,
          0.02238168567419052,
          0.022407574579119682,
          0.02150111086666584,
          0.022012725472450256,
          0.021239571273326874,
          0.020128967240452766,
          0.019112644717097282,
          0.019550111144781113,
          0.020213909447193146,
          0.020660828799009323,
          0.020902691408991814,
          0.019428974017500877,
          0.01828247867524624,
          0.02000453695654869,
          0.020069662481546402,
          0.01836562156677246,
          0.0196181982755661,
          0.018498549237847328,
          0.018787460401654243,
          0.01998724974691868,
          0.02124600112438202,
          0.01886698417365551,
          0.018908612430095673,
          0.018789781257510185,
          0.0174640454351902,
          0.018360745161771774,
          0.017792081460356712,
          0.018589813262224197,
          0.018187928944826126,
          0.01828501932322979,
          0.01961788535118103,
          0.019604746252298355,
          0.019733186811208725,
          0.018466664478182793,
          0.01981056109070778,
          0.019187504425644875,
          0.018970802426338196,
          0.020100094377994537,
          0.018527895212173462,
          0.018974829465150833,
          0.018593626096844673,
          0.01890987530350685,
          0.01855122298002243,
          0.018682904541492462,
          0.017249897122383118,
          0.01733427681028843,
          0.019409630447626114,
          0.01901918835937977,
          0.01802367903292179,
          0.018353473395109177,
          0.01844475232064724,
          0.016356229782104492,
          0.01749645546078682,
          0.01911519281566143,
          0.01875932887196541,
          0.01749703846871853,
          0.017894573509693146,
          0.018675336614251137,
          0.01801028847694397,
          0.019368501380085945,
          0.017455078661441803,
          0.01864217035472393,
          0.017970027402043343,
          0.01811165176331997,
          0.019687548279762268,
          0.018904322758316994,
          0.017757194116711617,
          0.01773896813392639,
          0.018108543008565903,
          0.017364513128995895,
          0.016910415142774582,
          0.018728118389844894,
          0.017991719767451286,
          0.01772606559097767,
          0.01686171256005764,
          0.01840835250914097,
          0.01776125282049179
         ],
         "yaxis": "y"
        }
       ],
       "layout": {
        "template": {
         "data": {
          "bar": [
           {
            "error_x": {
             "color": "#2a3f5f"
            },
            "error_y": {
             "color": "#2a3f5f"
            },
            "marker": {
             "line": {
              "color": "#E5ECF6",
              "width": 0.5
             },
             "pattern": {
              "fillmode": "overlay",
              "size": 10,
              "solidity": 0.2
             }
            },
            "type": "bar"
           }
          ],
          "barpolar": [
           {
            "marker": {
             "line": {
              "color": "#E5ECF6",
              "width": 0.5
             },
             "pattern": {
              "fillmode": "overlay",
              "size": 10,
              "solidity": 0.2
             }
            },
            "type": "barpolar"
           }
          ],
          "carpet": [
           {
            "aaxis": {
             "endlinecolor": "#2a3f5f",
             "gridcolor": "white",
             "linecolor": "white",
             "minorgridcolor": "white",
             "startlinecolor": "#2a3f5f"
            },
            "baxis": {
             "endlinecolor": "#2a3f5f",
             "gridcolor": "white",
             "linecolor": "white",
             "minorgridcolor": "white",
             "startlinecolor": "#2a3f5f"
            },
            "type": "carpet"
           }
          ],
          "choropleth": [
           {
            "colorbar": {
             "outlinewidth": 0,
             "ticks": ""
            },
            "type": "choropleth"
           }
          ],
          "contour": [
           {
            "colorbar": {
             "outlinewidth": 0,
             "ticks": ""
            },
            "colorscale": [
             [
              0,
              "#0d0887"
             ],
             [
              0.1111111111111111,
              "#46039f"
             ],
             [
              0.2222222222222222,
              "#7201a8"
             ],
             [
              0.3333333333333333,
              "#9c179e"
             ],
             [
              0.4444444444444444,
              "#bd3786"
             ],
             [
              0.5555555555555556,
              "#d8576b"
             ],
             [
              0.6666666666666666,
              "#ed7953"
             ],
             [
              0.7777777777777778,
              "#fb9f3a"
             ],
             [
              0.8888888888888888,
              "#fdca26"
             ],
             [
              1,
              "#f0f921"
             ]
            ],
            "type": "contour"
           }
          ],
          "contourcarpet": [
           {
            "colorbar": {
             "outlinewidth": 0,
             "ticks": ""
            },
            "type": "contourcarpet"
           }
          ],
          "heatmap": [
           {
            "colorbar": {
             "outlinewidth": 0,
             "ticks": ""
            },
            "colorscale": [
             [
              0,
              "#0d0887"
             ],
             [
              0.1111111111111111,
              "#46039f"
             ],
             [
              0.2222222222222222,
              "#7201a8"
             ],
             [
              0.3333333333333333,
              "#9c179e"
             ],
             [
              0.4444444444444444,
              "#bd3786"
             ],
             [
              0.5555555555555556,
              "#d8576b"
             ],
             [
              0.6666666666666666,
              "#ed7953"
             ],
             [
              0.7777777777777778,
              "#fb9f3a"
             ],
             [
              0.8888888888888888,
              "#fdca26"
             ],
             [
              1,
              "#f0f921"
             ]
            ],
            "type": "heatmap"
           }
          ],
          "heatmapgl": [
           {
            "colorbar": {
             "outlinewidth": 0,
             "ticks": ""
            },
            "colorscale": [
             [
              0,
              "#0d0887"
             ],
             [
              0.1111111111111111,
              "#46039f"
             ],
             [
              0.2222222222222222,
              "#7201a8"
             ],
             [
              0.3333333333333333,
              "#9c179e"
             ],
             [
              0.4444444444444444,
              "#bd3786"
             ],
             [
              0.5555555555555556,
              "#d8576b"
             ],
             [
              0.6666666666666666,
              "#ed7953"
             ],
             [
              0.7777777777777778,
              "#fb9f3a"
             ],
             [
              0.8888888888888888,
              "#fdca26"
             ],
             [
              1,
              "#f0f921"
             ]
            ],
            "type": "heatmapgl"
           }
          ],
          "histogram": [
           {
            "marker": {
             "pattern": {
              "fillmode": "overlay",
              "size": 10,
              "solidity": 0.2
             }
            },
            "type": "histogram"
           }
          ],
          "histogram2d": [
           {
            "colorbar": {
             "outlinewidth": 0,
             "ticks": ""
            },
            "colorscale": [
             [
              0,
              "#0d0887"
             ],
             [
              0.1111111111111111,
              "#46039f"
             ],
             [
              0.2222222222222222,
              "#7201a8"
             ],
             [
              0.3333333333333333,
              "#9c179e"
             ],
             [
              0.4444444444444444,
              "#bd3786"
             ],
             [
              0.5555555555555556,
              "#d8576b"
             ],
             [
              0.6666666666666666,
              "#ed7953"
             ],
             [
              0.7777777777777778,
              "#fb9f3a"
             ],
             [
              0.8888888888888888,
              "#fdca26"
             ],
             [
              1,
              "#f0f921"
             ]
            ],
            "type": "histogram2d"
           }
          ],
          "histogram2dcontour": [
           {
            "colorbar": {
             "outlinewidth": 0,
             "ticks": ""
            },
            "colorscale": [
             [
              0,
              "#0d0887"
             ],
             [
              0.1111111111111111,
              "#46039f"
             ],
             [
              0.2222222222222222,
              "#7201a8"
             ],
             [
              0.3333333333333333,
              "#9c179e"
             ],
             [
              0.4444444444444444,
              "#bd3786"
             ],
             [
              0.5555555555555556,
              "#d8576b"
             ],
             [
              0.6666666666666666,
              "#ed7953"
             ],
             [
              0.7777777777777778,
              "#fb9f3a"
             ],
             [
              0.8888888888888888,
              "#fdca26"
             ],
             [
              1,
              "#f0f921"
             ]
            ],
            "type": "histogram2dcontour"
           }
          ],
          "mesh3d": [
           {
            "colorbar": {
             "outlinewidth": 0,
             "ticks": ""
            },
            "type": "mesh3d"
           }
          ],
          "parcoords": [
           {
            "line": {
             "colorbar": {
              "outlinewidth": 0,
              "ticks": ""
             }
            },
            "type": "parcoords"
           }
          ],
          "pie": [
           {
            "automargin": true,
            "type": "pie"
           }
          ],
          "scatter": [
           {
            "marker": {
             "colorbar": {
              "outlinewidth": 0,
              "ticks": ""
             }
            },
            "type": "scatter"
           }
          ],
          "scatter3d": [
           {
            "line": {
             "colorbar": {
              "outlinewidth": 0,
              "ticks": ""
             }
            },
            "marker": {
             "colorbar": {
              "outlinewidth": 0,
              "ticks": ""
             }
            },
            "type": "scatter3d"
           }
          ],
          "scattercarpet": [
           {
            "marker": {
             "colorbar": {
              "outlinewidth": 0,
              "ticks": ""
             }
            },
            "type": "scattercarpet"
           }
          ],
          "scattergeo": [
           {
            "marker": {
             "colorbar": {
              "outlinewidth": 0,
              "ticks": ""
             }
            },
            "type": "scattergeo"
           }
          ],
          "scattergl": [
           {
            "marker": {
             "colorbar": {
              "outlinewidth": 0,
              "ticks": ""
             }
            },
            "type": "scattergl"
           }
          ],
          "scattermapbox": [
           {
            "marker": {
             "colorbar": {
              "outlinewidth": 0,
              "ticks": ""
             }
            },
            "type": "scattermapbox"
           }
          ],
          "scatterpolar": [
           {
            "marker": {
             "colorbar": {
              "outlinewidth": 0,
              "ticks": ""
             }
            },
            "type": "scatterpolar"
           }
          ],
          "scatterpolargl": [
           {
            "marker": {
             "colorbar": {
              "outlinewidth": 0,
              "ticks": ""
             }
            },
            "type": "scatterpolargl"
           }
          ],
          "scatterternary": [
           {
            "marker": {
             "colorbar": {
              "outlinewidth": 0,
              "ticks": ""
             }
            },
            "type": "scatterternary"
           }
          ],
          "surface": [
           {
            "colorbar": {
             "outlinewidth": 0,
             "ticks": ""
            },
            "colorscale": [
             [
              0,
              "#0d0887"
             ],
             [
              0.1111111111111111,
              "#46039f"
             ],
             [
              0.2222222222222222,
              "#7201a8"
             ],
             [
              0.3333333333333333,
              "#9c179e"
             ],
             [
              0.4444444444444444,
              "#bd3786"
             ],
             [
              0.5555555555555556,
              "#d8576b"
             ],
             [
              0.6666666666666666,
              "#ed7953"
             ],
             [
              0.7777777777777778,
              "#fb9f3a"
             ],
             [
              0.8888888888888888,
              "#fdca26"
             ],
             [
              1,
              "#f0f921"
             ]
            ],
            "type": "surface"
           }
          ],
          "table": [
           {
            "cells": {
             "fill": {
              "color": "#EBF0F8"
             },
             "line": {
              "color": "white"
             }
            },
            "header": {
             "fill": {
              "color": "#C8D4E3"
             },
             "line": {
              "color": "white"
             }
            },
            "type": "table"
           }
          ]
         },
         "layout": {
          "annotationdefaults": {
           "arrowcolor": "#2a3f5f",
           "arrowhead": 0,
           "arrowwidth": 1
          },
          "autotypenumbers": "strict",
          "coloraxis": {
           "colorbar": {
            "outlinewidth": 0,
            "ticks": ""
           }
          },
          "colorscale": {
           "diverging": [
            [
             0,
             "#8e0152"
            ],
            [
             0.1,
             "#c51b7d"
            ],
            [
             0.2,
             "#de77ae"
            ],
            [
             0.3,
             "#f1b6da"
            ],
            [
             0.4,
             "#fde0ef"
            ],
            [
             0.5,
             "#f7f7f7"
            ],
            [
             0.6,
             "#e6f5d0"
            ],
            [
             0.7,
             "#b8e186"
            ],
            [
             0.8,
             "#7fbc41"
            ],
            [
             0.9,
             "#4d9221"
            ],
            [
             1,
             "#276419"
            ]
           ],
           "sequential": [
            [
             0,
             "#0d0887"
            ],
            [
             0.1111111111111111,
             "#46039f"
            ],
            [
             0.2222222222222222,
             "#7201a8"
            ],
            [
             0.3333333333333333,
             "#9c179e"
            ],
            [
             0.4444444444444444,
             "#bd3786"
            ],
            [
             0.5555555555555556,
             "#d8576b"
            ],
            [
             0.6666666666666666,
             "#ed7953"
            ],
            [
             0.7777777777777778,
             "#fb9f3a"
            ],
            [
             0.8888888888888888,
             "#fdca26"
            ],
            [
             1,
             "#f0f921"
            ]
           ],
           "sequentialminus": [
            [
             0,
             "#0d0887"
            ],
            [
             0.1111111111111111,
             "#46039f"
            ],
            [
             0.2222222222222222,
             "#7201a8"
            ],
            [
             0.3333333333333333,
             "#9c179e"
            ],
            [
             0.4444444444444444,
             "#bd3786"
            ],
            [
             0.5555555555555556,
             "#d8576b"
            ],
            [
             0.6666666666666666,
             "#ed7953"
            ],
            [
             0.7777777777777778,
             "#fb9f3a"
            ],
            [
             0.8888888888888888,
             "#fdca26"
            ],
            [
             1,
             "#f0f921"
            ]
           ]
          },
          "colorway": [
           "#636efa",
           "#EF553B",
           "#00cc96",
           "#ab63fa",
           "#FFA15A",
           "#19d3f3",
           "#FF6692",
           "#B6E880",
           "#FF97FF",
           "#FECB52"
          ],
          "font": {
           "color": "#2a3f5f"
          },
          "geo": {
           "bgcolor": "white",
           "lakecolor": "white",
           "landcolor": "#E5ECF6",
           "showlakes": true,
           "showland": true,
           "subunitcolor": "white"
          },
          "hoverlabel": {
           "align": "left"
          },
          "hovermode": "closest",
          "mapbox": {
           "style": "light"
          },
          "paper_bgcolor": "white",
          "plot_bgcolor": "#E5ECF6",
          "polar": {
           "angularaxis": {
            "gridcolor": "white",
            "linecolor": "white",
            "ticks": ""
           },
           "bgcolor": "#E5ECF6",
           "radialaxis": {
            "gridcolor": "white",
            "linecolor": "white",
            "ticks": ""
           }
          },
          "scene": {
           "xaxis": {
            "backgroundcolor": "#E5ECF6",
            "gridcolor": "white",
            "gridwidth": 2,
            "linecolor": "white",
            "showbackground": true,
            "ticks": "",
            "zerolinecolor": "white"
           },
           "yaxis": {
            "backgroundcolor": "#E5ECF6",
            "gridcolor": "white",
            "gridwidth": 2,
            "linecolor": "white",
            "showbackground": true,
            "ticks": "",
            "zerolinecolor": "white"
           },
           "zaxis": {
            "backgroundcolor": "#E5ECF6",
            "gridcolor": "white",
            "gridwidth": 2,
            "linecolor": "white",
            "showbackground": true,
            "ticks": "",
            "zerolinecolor": "white"
           }
          },
          "shapedefaults": {
           "line": {
            "color": "#2a3f5f"
           }
          },
          "ternary": {
           "aaxis": {
            "gridcolor": "white",
            "linecolor": "white",
            "ticks": ""
           },
           "baxis": {
            "gridcolor": "white",
            "linecolor": "white",
            "ticks": ""
           },
           "bgcolor": "#E5ECF6",
           "caxis": {
            "gridcolor": "white",
            "linecolor": "white",
            "ticks": ""
           }
          },
          "title": {
           "x": 0.05
          },
          "xaxis": {
           "automargin": true,
           "gridcolor": "white",
           "linecolor": "white",
           "ticks": "",
           "title": {
            "standoff": 15
           },
           "zerolinecolor": "white",
           "zerolinewidth": 2
          },
          "yaxis": {
           "automargin": true,
           "gridcolor": "white",
           "linecolor": "white",
           "ticks": "",
           "title": {
            "standoff": 15
           },
           "zerolinecolor": "white",
           "zerolinewidth": 2
          }
         }
        },
        "title": {
         "text": "Training and Validation Loss Convergence"
        },
        "xaxis": {
         "anchor": "y",
         "domain": [
          0,
          1
         ],
         "title": {
          "text": "Epoch"
         }
        },
        "yaxis": {
         "anchor": "x",
         "domain": [
          0,
          1
         ],
         "title": {
          "text": "Loss"
         }
        }
       }
      },
      "text/html": [
       "<div>                            <div id=\"0ed2b3da-e011-45e2-873b-21ac8e04f0a8\" class=\"plotly-graph-div\" style=\"height:525px; width:100%;\"></div>            <script type=\"text/javascript\">                require([\"plotly\"], function(Plotly) {                    window.PLOTLYENV=window.PLOTLYENV || {};                                    if (document.getElementById(\"0ed2b3da-e011-45e2-873b-21ac8e04f0a8\")) {                    Plotly.newPlot(                        \"0ed2b3da-e011-45e2-873b-21ac8e04f0a8\",                        [{\"mode\":\"lines\",\"name\":\"Training Loss\",\"type\":\"scatter\",\"x\":[0,1,2,3,4,5,6,7,8,9,10,11,12,13,14,15,16,17,18,19,20,21,22,23,24,25,26,27,28,29,30,31,32,33,34,35,36,37,38,39,40,41,42,43,44,45,46,47,48,49,50,51,52,53,54,55,56,57,58,59,60,61,62,63,64,65,66,67,68,69,70,71,72,73,74,75,76,77,78,79,80,81,82,83,84,85,86,87,88,89,90,91,92,93,94,95,96,97,98,99],\"xaxis\":\"x\",\"y\":[0.1260281354188919,0.0184446070343256,0.009103997610509396,0.007179707754403353,0.006434795446693897,0.0059590451419353485,0.005515021737664938,0.0052433195523917675,0.004839794244617224,0.004448930267244577,0.004226562567055225,0.004198587499558926,0.004223829600960016,0.0038756246212869883,0.0038970320019870996,0.003568706102669239,0.0036088309716433287,0.0034103570505976677,0.003353801788762212,0.0032567016314715147,0.003462987020611763,0.0037067271769046783,0.0035255744587630033,0.003168450202792883,0.0031727529130876064,0.0032686926424503326,0.003209088696166873,0.003207190427929163,0.0034138523042201996,0.0031536873430013657,0.0029759672470390797,0.0031853721011430025,0.0031812095548957586,0.0029627892654389143,0.003202520776540041,0.0031293625943362713,0.0029419378843158484,0.002910734387114644,0.0029135353397578,0.0030747728887945414,0.003102913498878479,0.0026958331000059843,0.002577826613560319,0.0028883530758321285,0.0032524734269827604,0.003051482606679201,0.0030977355781942606,0.002745112171396613,0.002689318498596549,0.0026682447642087936,0.003026532009243965,0.002982475096359849,0.0027779475785791874,0.0028611698653548956,0.0029034640174359083,0.0026900656521320343,0.0025214985944330692,0.003241827944293618,0.002969451481476426,0.0026906640268862247,0.002621824387460947,0.0026076878421008587,0.0031272973865270615,0.002859370317310095,0.002829974051564932,0.0029879542998969555,0.0029383832588791847,0.0028195667546242476,0.0026335555594414473,0.00308044720441103,0.0029283638577908278,0.002470796462148428,0.0025953734293580055,0.0026026221457868814,0.002816182794049382,0.002450203290209174,0.002530974568799138,0.0029853289015591145,0.0025874085258692503,0.0025941834319382906,0.002686696592718363,0.002523294882848859,0.0033358565997332335,0.0028023996856063604,0.0028454840648919344,0.0028187681455165148,0.0026881354860961437,0.0028450367972254753,0.0031040431931614876,0.0028489131946116686,0.0027424416039139032,0.0028074178844690323,0.0022771607618778944,0.0026543843559920788,0.0025877614971250296,0.0025799626018851995,0.0028159087523818016,0.0023147466126829386,0.0022735665552318096,0.0028195702470839024],\"yaxis\":\"y\"},{\"mode\":\"lines\",\"name\":\"Validation Loss\",\"type\":\"scatter\",\"x\":[0,1,2,3,4,5,6,7,8,9,10,11,12,13,14,15,16,17,18,19,20,21,22,23,24,25,26,27,28,29,30,31,32,33,34,35,36,37,38,39,40,41,42,43,44,45,46,47,48,49,50,51,52,53,54,55,56,57,58,59,60,61,62,63,64,65,66,67,68,69,70,71,72,73,74,75,76,77,78,79,80,81,82,83,84,85,86,87,88,89,90,91,92,93,94,95,96,97,98,99],\"xaxis\":\"x\",\"y\":[0.07851861417293549,0.058867428451776505,0.05362644046545029,0.05069167539477348,0.04825723543763161,0.04614533111453056,0.04346095770597458,0.04350486025214195,0.03986585885286331,0.037841252982616425,0.035993315279483795,0.034086622297763824,0.03195655345916748,0.029067877680063248,0.028954850509762764,0.02801264077425003,0.026487896218895912,0.02713080309331417,0.0261498112231493,0.02494027651846409,0.025408169254660606,0.026101840659976006,0.02588578686118126,0.02238168567419052,0.022407574579119682,0.02150111086666584,0.022012725472450256,0.021239571273326874,0.020128967240452766,0.019112644717097282,0.019550111144781113,0.020213909447193146,0.020660828799009323,0.020902691408991814,0.019428974017500877,0.01828247867524624,0.02000453695654869,0.020069662481546402,0.01836562156677246,0.0196181982755661,0.018498549237847328,0.018787460401654243,0.01998724974691868,0.02124600112438202,0.01886698417365551,0.018908612430095673,0.018789781257510185,0.0174640454351902,0.018360745161771774,0.017792081460356712,0.018589813262224197,0.018187928944826126,0.01828501932322979,0.01961788535118103,0.019604746252298355,0.019733186811208725,0.018466664478182793,0.01981056109070778,0.019187504425644875,0.018970802426338196,0.020100094377994537,0.018527895212173462,0.018974829465150833,0.018593626096844673,0.01890987530350685,0.01855122298002243,0.018682904541492462,0.017249897122383118,0.01733427681028843,0.019409630447626114,0.01901918835937977,0.01802367903292179,0.018353473395109177,0.01844475232064724,0.016356229782104492,0.01749645546078682,0.01911519281566143,0.01875932887196541,0.01749703846871853,0.017894573509693146,0.018675336614251137,0.01801028847694397,0.019368501380085945,0.017455078661441803,0.01864217035472393,0.017970027402043343,0.01811165176331997,0.019687548279762268,0.018904322758316994,0.017757194116711617,0.01773896813392639,0.018108543008565903,0.017364513128995895,0.016910415142774582,0.018728118389844894,0.017991719767451286,0.01772606559097767,0.01686171256005764,0.01840835250914097,0.01776125282049179],\"yaxis\":\"y\"}],                        {\"template\":{\"data\":{\"bar\":[{\"error_x\":{\"color\":\"#2a3f5f\"},\"error_y\":{\"color\":\"#2a3f5f\"},\"marker\":{\"line\":{\"color\":\"#E5ECF6\",\"width\":0.5},\"pattern\":{\"fillmode\":\"overlay\",\"size\":10,\"solidity\":0.2}},\"type\":\"bar\"}],\"barpolar\":[{\"marker\":{\"line\":{\"color\":\"#E5ECF6\",\"width\":0.5},\"pattern\":{\"fillmode\":\"overlay\",\"size\":10,\"solidity\":0.2}},\"type\":\"barpolar\"}],\"carpet\":[{\"aaxis\":{\"endlinecolor\":\"#2a3f5f\",\"gridcolor\":\"white\",\"linecolor\":\"white\",\"minorgridcolor\":\"white\",\"startlinecolor\":\"#2a3f5f\"},\"baxis\":{\"endlinecolor\":\"#2a3f5f\",\"gridcolor\":\"white\",\"linecolor\":\"white\",\"minorgridcolor\":\"white\",\"startlinecolor\":\"#2a3f5f\"},\"type\":\"carpet\"}],\"choropleth\":[{\"colorbar\":{\"outlinewidth\":0,\"ticks\":\"\"},\"type\":\"choropleth\"}],\"contour\":[{\"colorbar\":{\"outlinewidth\":0,\"ticks\":\"\"},\"colorscale\":[[0.0,\"#0d0887\"],[0.1111111111111111,\"#46039f\"],[0.2222222222222222,\"#7201a8\"],[0.3333333333333333,\"#9c179e\"],[0.4444444444444444,\"#bd3786\"],[0.5555555555555556,\"#d8576b\"],[0.6666666666666666,\"#ed7953\"],[0.7777777777777778,\"#fb9f3a\"],[0.8888888888888888,\"#fdca26\"],[1.0,\"#f0f921\"]],\"type\":\"contour\"}],\"contourcarpet\":[{\"colorbar\":{\"outlinewidth\":0,\"ticks\":\"\"},\"type\":\"contourcarpet\"}],\"heatmap\":[{\"colorbar\":{\"outlinewidth\":0,\"ticks\":\"\"},\"colorscale\":[[0.0,\"#0d0887\"],[0.1111111111111111,\"#46039f\"],[0.2222222222222222,\"#7201a8\"],[0.3333333333333333,\"#9c179e\"],[0.4444444444444444,\"#bd3786\"],[0.5555555555555556,\"#d8576b\"],[0.6666666666666666,\"#ed7953\"],[0.7777777777777778,\"#fb9f3a\"],[0.8888888888888888,\"#fdca26\"],[1.0,\"#f0f921\"]],\"type\":\"heatmap\"}],\"heatmapgl\":[{\"colorbar\":{\"outlinewidth\":0,\"ticks\":\"\"},\"colorscale\":[[0.0,\"#0d0887\"],[0.1111111111111111,\"#46039f\"],[0.2222222222222222,\"#7201a8\"],[0.3333333333333333,\"#9c179e\"],[0.4444444444444444,\"#bd3786\"],[0.5555555555555556,\"#d8576b\"],[0.6666666666666666,\"#ed7953\"],[0.7777777777777778,\"#fb9f3a\"],[0.8888888888888888,\"#fdca26\"],[1.0,\"#f0f921\"]],\"type\":\"heatmapgl\"}],\"histogram\":[{\"marker\":{\"pattern\":{\"fillmode\":\"overlay\",\"size\":10,\"solidity\":0.2}},\"type\":\"histogram\"}],\"histogram2d\":[{\"colorbar\":{\"outlinewidth\":0,\"ticks\":\"\"},\"colorscale\":[[0.0,\"#0d0887\"],[0.1111111111111111,\"#46039f\"],[0.2222222222222222,\"#7201a8\"],[0.3333333333333333,\"#9c179e\"],[0.4444444444444444,\"#bd3786\"],[0.5555555555555556,\"#d8576b\"],[0.6666666666666666,\"#ed7953\"],[0.7777777777777778,\"#fb9f3a\"],[0.8888888888888888,\"#fdca26\"],[1.0,\"#f0f921\"]],\"type\":\"histogram2d\"}],\"histogram2dcontour\":[{\"colorbar\":{\"outlinewidth\":0,\"ticks\":\"\"},\"colorscale\":[[0.0,\"#0d0887\"],[0.1111111111111111,\"#46039f\"],[0.2222222222222222,\"#7201a8\"],[0.3333333333333333,\"#9c179e\"],[0.4444444444444444,\"#bd3786\"],[0.5555555555555556,\"#d8576b\"],[0.6666666666666666,\"#ed7953\"],[0.7777777777777778,\"#fb9f3a\"],[0.8888888888888888,\"#fdca26\"],[1.0,\"#f0f921\"]],\"type\":\"histogram2dcontour\"}],\"mesh3d\":[{\"colorbar\":{\"outlinewidth\":0,\"ticks\":\"\"},\"type\":\"mesh3d\"}],\"parcoords\":[{\"line\":{\"colorbar\":{\"outlinewidth\":0,\"ticks\":\"\"}},\"type\":\"parcoords\"}],\"pie\":[{\"automargin\":true,\"type\":\"pie\"}],\"scatter\":[{\"marker\":{\"colorbar\":{\"outlinewidth\":0,\"ticks\":\"\"}},\"type\":\"scatter\"}],\"scatter3d\":[{\"line\":{\"colorbar\":{\"outlinewidth\":0,\"ticks\":\"\"}},\"marker\":{\"colorbar\":{\"outlinewidth\":0,\"ticks\":\"\"}},\"type\":\"scatter3d\"}],\"scattercarpet\":[{\"marker\":{\"colorbar\":{\"outlinewidth\":0,\"ticks\":\"\"}},\"type\":\"scattercarpet\"}],\"scattergeo\":[{\"marker\":{\"colorbar\":{\"outlinewidth\":0,\"ticks\":\"\"}},\"type\":\"scattergeo\"}],\"scattergl\":[{\"marker\":{\"colorbar\":{\"outlinewidth\":0,\"ticks\":\"\"}},\"type\":\"scattergl\"}],\"scattermapbox\":[{\"marker\":{\"colorbar\":{\"outlinewidth\":0,\"ticks\":\"\"}},\"type\":\"scattermapbox\"}],\"scatterpolar\":[{\"marker\":{\"colorbar\":{\"outlinewidth\":0,\"ticks\":\"\"}},\"type\":\"scatterpolar\"}],\"scatterpolargl\":[{\"marker\":{\"colorbar\":{\"outlinewidth\":0,\"ticks\":\"\"}},\"type\":\"scatterpolargl\"}],\"scatterternary\":[{\"marker\":{\"colorbar\":{\"outlinewidth\":0,\"ticks\":\"\"}},\"type\":\"scatterternary\"}],\"surface\":[{\"colorbar\":{\"outlinewidth\":0,\"ticks\":\"\"},\"colorscale\":[[0.0,\"#0d0887\"],[0.1111111111111111,\"#46039f\"],[0.2222222222222222,\"#7201a8\"],[0.3333333333333333,\"#9c179e\"],[0.4444444444444444,\"#bd3786\"],[0.5555555555555556,\"#d8576b\"],[0.6666666666666666,\"#ed7953\"],[0.7777777777777778,\"#fb9f3a\"],[0.8888888888888888,\"#fdca26\"],[1.0,\"#f0f921\"]],\"type\":\"surface\"}],\"table\":[{\"cells\":{\"fill\":{\"color\":\"#EBF0F8\"},\"line\":{\"color\":\"white\"}},\"header\":{\"fill\":{\"color\":\"#C8D4E3\"},\"line\":{\"color\":\"white\"}},\"type\":\"table\"}]},\"layout\":{\"annotationdefaults\":{\"arrowcolor\":\"#2a3f5f\",\"arrowhead\":0,\"arrowwidth\":1},\"autotypenumbers\":\"strict\",\"coloraxis\":{\"colorbar\":{\"outlinewidth\":0,\"ticks\":\"\"}},\"colorscale\":{\"diverging\":[[0,\"#8e0152\"],[0.1,\"#c51b7d\"],[0.2,\"#de77ae\"],[0.3,\"#f1b6da\"],[0.4,\"#fde0ef\"],[0.5,\"#f7f7f7\"],[0.6,\"#e6f5d0\"],[0.7,\"#b8e186\"],[0.8,\"#7fbc41\"],[0.9,\"#4d9221\"],[1,\"#276419\"]],\"sequential\":[[0.0,\"#0d0887\"],[0.1111111111111111,\"#46039f\"],[0.2222222222222222,\"#7201a8\"],[0.3333333333333333,\"#9c179e\"],[0.4444444444444444,\"#bd3786\"],[0.5555555555555556,\"#d8576b\"],[0.6666666666666666,\"#ed7953\"],[0.7777777777777778,\"#fb9f3a\"],[0.8888888888888888,\"#fdca26\"],[1.0,\"#f0f921\"]],\"sequentialminus\":[[0.0,\"#0d0887\"],[0.1111111111111111,\"#46039f\"],[0.2222222222222222,\"#7201a8\"],[0.3333333333333333,\"#9c179e\"],[0.4444444444444444,\"#bd3786\"],[0.5555555555555556,\"#d8576b\"],[0.6666666666666666,\"#ed7953\"],[0.7777777777777778,\"#fb9f3a\"],[0.8888888888888888,\"#fdca26\"],[1.0,\"#f0f921\"]]},\"colorway\":[\"#636efa\",\"#EF553B\",\"#00cc96\",\"#ab63fa\",\"#FFA15A\",\"#19d3f3\",\"#FF6692\",\"#B6E880\",\"#FF97FF\",\"#FECB52\"],\"font\":{\"color\":\"#2a3f5f\"},\"geo\":{\"bgcolor\":\"white\",\"lakecolor\":\"white\",\"landcolor\":\"#E5ECF6\",\"showlakes\":true,\"showland\":true,\"subunitcolor\":\"white\"},\"hoverlabel\":{\"align\":\"left\"},\"hovermode\":\"closest\",\"mapbox\":{\"style\":\"light\"},\"paper_bgcolor\":\"white\",\"plot_bgcolor\":\"#E5ECF6\",\"polar\":{\"angularaxis\":{\"gridcolor\":\"white\",\"linecolor\":\"white\",\"ticks\":\"\"},\"bgcolor\":\"#E5ECF6\",\"radialaxis\":{\"gridcolor\":\"white\",\"linecolor\":\"white\",\"ticks\":\"\"}},\"scene\":{\"xaxis\":{\"backgroundcolor\":\"#E5ECF6\",\"gridcolor\":\"white\",\"gridwidth\":2,\"linecolor\":\"white\",\"showbackground\":true,\"ticks\":\"\",\"zerolinecolor\":\"white\"},\"yaxis\":{\"backgroundcolor\":\"#E5ECF6\",\"gridcolor\":\"white\",\"gridwidth\":2,\"linecolor\":\"white\",\"showbackground\":true,\"ticks\":\"\",\"zerolinecolor\":\"white\"},\"zaxis\":{\"backgroundcolor\":\"#E5ECF6\",\"gridcolor\":\"white\",\"gridwidth\":2,\"linecolor\":\"white\",\"showbackground\":true,\"ticks\":\"\",\"zerolinecolor\":\"white\"}},\"shapedefaults\":{\"line\":{\"color\":\"#2a3f5f\"}},\"ternary\":{\"aaxis\":{\"gridcolor\":\"white\",\"linecolor\":\"white\",\"ticks\":\"\"},\"baxis\":{\"gridcolor\":\"white\",\"linecolor\":\"white\",\"ticks\":\"\"},\"bgcolor\":\"#E5ECF6\",\"caxis\":{\"gridcolor\":\"white\",\"linecolor\":\"white\",\"ticks\":\"\"}},\"title\":{\"x\":0.05},\"xaxis\":{\"automargin\":true,\"gridcolor\":\"white\",\"linecolor\":\"white\",\"ticks\":\"\",\"title\":{\"standoff\":15},\"zerolinecolor\":\"white\",\"zerolinewidth\":2},\"yaxis\":{\"automargin\":true,\"gridcolor\":\"white\",\"linecolor\":\"white\",\"ticks\":\"\",\"title\":{\"standoff\":15},\"zerolinecolor\":\"white\",\"zerolinewidth\":2}}},\"title\":{\"text\":\"Training and Validation Loss Convergence\"},\"xaxis\":{\"anchor\":\"y\",\"domain\":[0.0,1.0],\"title\":{\"text\":\"Epoch\"}},\"yaxis\":{\"anchor\":\"x\",\"domain\":[0.0,1.0],\"title\":{\"text\":\"Loss\"}}},                        {\"responsive\": true}                    ).then(function(){\n",
       "                            \n",
       "var gd = document.getElementById('0ed2b3da-e011-45e2-873b-21ac8e04f0a8');\n",
       "var x = new MutationObserver(function (mutations, observer) {{\n",
       "        var display = window.getComputedStyle(gd).display;\n",
       "        if (!display || display === 'none') {{\n",
       "            console.log([gd, 'removed!']);\n",
       "            Plotly.purge(gd);\n",
       "            observer.disconnect();\n",
       "        }}\n",
       "}});\n",
       "\n",
       "// Listen for the removal of the full notebook cells\n",
       "var notebookContainer = gd.closest('#notebook-container');\n",
       "if (notebookContainer) {{\n",
       "    x.observe(notebookContainer, {childList: true});\n",
       "}}\n",
       "\n",
       "// Listen for the clearing of the current output cell\n",
       "var outputEl = gd.closest('.output');\n",
       "if (outputEl) {{\n",
       "    x.observe(outputEl, {childList: true});\n",
       "}}\n",
       "\n",
       "                        })                };                });            </script>        </div>"
      ]
     },
     "metadata": {},
     "output_type": "display_data"
    }
   ],
   "source": [
    "def plot_ae_convergence(train_loss, val_loss):\n",
    "    fig1 = make_subplots(rows=1, cols=1, specs=[[{'type':'xy'}]])\n",
    "    \n",
    "    x_values = []\n",
    "    for i in range(len(train_loss)):\n",
    "        x_values.append(i)\n",
    "    fig1.add_trace(go.Scatter(x=x_values, y=train_loss, name=\"Training Loss\", mode=\"lines\"), row=1, col=1)\n",
    "    fig1.add_trace(go.Scatter(x=x_values, y=val_loss, name=\"Validation Loss\", mode=\"lines\"), row=1, col=1)\n",
    "\n",
    "    fig1.update_layout(\n",
    "        title = f'Training and Validation Loss Convergence', \n",
    "        xaxis1 = dict(title_text = 'Epoch'),\n",
    "        yaxis1 = dict(title_text = \"Loss\")\n",
    "    )\n",
    "    fig1.write_image(\"Plots/autoencoder 2 convergence 100 epochs.png\")\n",
    "    fig1.show()\n",
    "\n",
    "activation_function = \"sigmoid\"\n",
    "nodes1 = 1376\n",
    "nodes2 = 3120\n",
    "nodes3 = 571\n",
    "encoding_size = 199\n",
    "\n",
    "nodes1 = 1592\n",
    "nodes2 = 1897\n",
    "nodes3 = 1323\n",
    "encoding_size = 1125\n",
    "\n",
    "epochs = 100\n",
    "batch_size = 128\n",
    "batch_normalization = 1\n",
    "\n",
    "input_shape = x_train.shape[1]\n",
    "visible = Input(shape=(input_shape,))\n",
    "\n",
    "# ENCODER\n",
    "# encoder layer 1\n",
    "encoder = Dense(nodes1)(visible)\n",
    "# apply batch normalization\n",
    "encoder = BatchNormalization()(encoder)\n",
    "# activate layer\n",
    "encoder = sigmoid(encoder)\n",
    "\n",
    "# encoder layer 2\n",
    "encoder = Dense(nodes2)(encoder)\n",
    "# apply batch normalization\n",
    "encoder = BatchNormalization()(encoder)\n",
    "# activate layer\n",
    "encoder = sigmoid(encoder)\n",
    "\n",
    "# encoder layer 3\n",
    "encoder = Dense(nodes3)(encoder)\n",
    "# apply batch normalization\n",
    "encoder = BatchNormalization()(encoder)\n",
    "# activate layer\n",
    "encoder = sigmoid(encoder)\n",
    "\n",
    "# ENCODING\n",
    "encoding = Dense(encoding_size)(encoder) \n",
    "\n",
    "# DECODER\n",
    "# decoder layer 1\n",
    "decoder = Dense(nodes3)(encoding)\n",
    "# apply batch normalization\n",
    "decoder = BatchNormalization()(decoder)\n",
    "# activate layer\n",
    "decoder = sigmoid(decoder)\n",
    "\n",
    "# decoder layer 2\n",
    "decoder = Dense(nodes2)(decoder)\n",
    "# apply batch normalization\n",
    "decoder = BatchNormalization()(decoder)\n",
    "# activate layer\n",
    "decoder = sigmoid(decoder)\n",
    "\n",
    "# decoder layer 3\n",
    "decoder = Dense(nodes1)(decoder)\n",
    "# apply batch normalization\n",
    "decoder = BatchNormalization()(decoder)\n",
    "# activate layer\n",
    "decoder = sigmoid(decoder)\n",
    "\n",
    "output = Dense(input_shape, activation='linear')(decoder)\n",
    "\n",
    "model = Model(inputs=visible, outputs=output)\n",
    "model.compile(optimizer='adam', loss='mse')\n",
    "\n",
    "history = model.fit(x_train, x_train, \n",
    "            epochs=epochs, batch_size=batch_size, verbose=2, \n",
    "            validation_data=(x_val, x_val))\n",
    "\n",
    "train_loss = history.history['loss']\n",
    "val_loss = history.history['val_loss']\n",
    "\n",
    "plot_ae_convergence(train_loss, val_loss)"
   ]
  },
  {
   "cell_type": "code",
   "execution_count": null,
   "metadata": {},
   "outputs": [],
   "source": []
  }
 ],
 "metadata": {
  "kernelspec": {
   "display_name": "Python 3 (ipykernel)",
   "language": "python",
   "name": "python3"
  },
  "language_info": {
   "codemirror_mode": {
    "name": "ipython",
    "version": 3
   },
   "file_extension": ".py",
   "mimetype": "text/x-python",
   "name": "python",
   "nbconvert_exporter": "python",
   "pygments_lexer": "ipython3",
   "version": "3.7.4"
  }
 },
 "nbformat": 4,
 "nbformat_minor": 2
}
