{
 "cells": [
  {
   "cell_type": "code",
   "execution_count": 1,
   "metadata": {},
   "outputs": [],
   "source": [
    "import warnings\n",
    "warnings.simplefilter(action='ignore', category=UserWarning)\n",
    "\n",
    "import pandas as pd\n",
    "import numpy as np\n",
    "from datetime import datetime, timedelta\n",
    "import plotly.graph_objs as go\n",
    "import plotly.express as px\n",
    "from plotly.subplots import make_subplots\n",
    "import gzip\n",
    "from datetime import datetime, timedelta\n",
    "from statistics import mean\n",
    "from sklearn.neural_network import MLPClassifier\n",
    "from sklearn.ensemble import RandomForestClassifier\n",
    "import seaborn as sns\n",
    "import matplotlib.pyplot as plt\n",
    "from tensorflow.keras.models import Model, Sequential\n",
    "from tensorflow.keras.layers import Input, Dense, LeakyReLU, BatchNormalization, ReLU\n",
    "from tensorflow.keras.activations import sigmoid, tanh\n",
    "from tensorflow.keras.utils import plot_model\n",
    "\n",
    "from sklearn.preprocessing import MinMaxScaler\n",
    "\n",
    "from tqdm import tqdm\n",
    "import csv\n",
    "import random"
   ]
  },
  {
   "cell_type": "code",
   "execution_count": 2,
   "metadata": {},
   "outputs": [],
   "source": [
    "def retrieve_data(varname, filename):\n",
    "    df = pd.read_csv(filename)\n",
    "    df[\"Date\"] = pd.to_datetime(df[\"Date\"])\n",
    "    return df\n",
    "\n",
    "def create_classification_data(df, lookback):\n",
    "    rows = []\n",
    "    columns = ['Date', 'SP500_relative_change_perc_1'] # date and target\n",
    "    for i in range(1, lookback + 1):\n",
    "        new_columns = df.columns.tolist()[1:]\n",
    "        for x in range(len(new_columns)):\n",
    "            new_columns[x] = new_columns[x] + \"_t-\" + str(i)\n",
    "        columns = columns + new_columns\n",
    "        \n",
    "    for i, row in enumerate(df.iterrows()):\n",
    "        if i > lookback:\n",
    "            new_row = [row[1][0], row[1][2]]\n",
    "            for x in range(1, lookback + 1):\n",
    "                add_row = df.iloc[i - x].tolist()\n",
    "                new_row = new_row + add_row[1:]\n",
    "            rows.append(new_row)\n",
    "    df2 = pd.DataFrame(rows)\n",
    "    df2.columns = columns\n",
    "    return df2\n",
    "\n",
    "def create_train_val_test(df, year_val, year_test, perc_train=None):\n",
    "    if perc_train == None:\n",
    "        val = df[df['Date'].dt.year == year_val]\n",
    "        test = df[df['Date'].dt.year == year_test]\n",
    "        train = df[df['Date'].dt.year != year_val]\n",
    "        train = train[train['Date'].dt.year != year_test]\n",
    "    else:\n",
    "        train = df.head(round(len(df) * perc_train))\n",
    "        val = df.tail(len(df) - len(train))\n",
    "        test = val.tail(round(0.5 * len(val)))\n",
    "        val = df.head(len(val) - len(test))\n",
    "    \n",
    "    y_train = train['SP500_relative_change_perc_1']\n",
    "    x_train = train.drop(['SP500_relative_change_perc_1'], axis=1)\n",
    "    \n",
    "    y_val = val['SP500_relative_change_perc_1']\n",
    "    x_val = val.drop(['SP500_relative_change_perc_1'], axis=1)\n",
    "    \n",
    "    y_test = test['SP500_relative_change_perc_1']\n",
    "    x_test = test.drop(['SP500_relative_change_perc_1'], axis=1)\n",
    "    \n",
    "    return x_train, y_train, x_val, y_val, x_test, y_test\n",
    "\n",
    "def scale_data(x):\n",
    "    standard_scaler = MinMaxScaler()\n",
    "    x = x.drop([\"Date\"], axis=1)\n",
    "    x_scaled = pd.DataFrame(standard_scaler.fit_transform(x), columns=x.columns)\n",
    "    return x_scaled"
   ]
  },
  {
   "cell_type": "code",
   "execution_count": 3,
   "metadata": {},
   "outputs": [],
   "source": [
    "class AE(object):\n",
    "    def __init__(self, x, activation_functions, batch_sizes, input_size=1500):\n",
    "        global x_train\n",
    "        global x_val\n",
    "        global epochs\n",
    "        \n",
    "        print(f\"x {x}\")\n",
    "        \n",
    "        self.x_train = x_train\n",
    "        self.x_val = x_val\n",
    "        self.epochs = epochs\n",
    "        \n",
    "        self.activation_function = \"sigmoid\"\n",
    "        \n",
    "        self.nodes1 = x[0]\n",
    "        self.nodes2 = x[1]\n",
    "        self.nodes3 = x[2]\n",
    "        \n",
    "        self.encoding_size = 0.75 * input_size\n",
    "        \n",
    "        self.batch_normalization = 1\n",
    "        self.batch_size = 128\n",
    "        \n",
    "    def fit(self):\n",
    "        input_shape = x_train.shape[1]\n",
    "        visible = Input(shape=(input_shape,))\n",
    "        \n",
    "        # ENCODER\n",
    "        # encoder layer 1\n",
    "        encoder = Dense(self.nodes1)(visible)\n",
    "\n",
    "        # apply batch normalization\n",
    "        if self.batch_normalization == 1:\n",
    "            encoder = BatchNormalization()(encoder)\n",
    "\n",
    "        # activate layer\n",
    "        if self.activation_function == \"LeakyReLU\":\n",
    "            encoder = LeakyReLU()(encoder)\n",
    "        elif self.activation_function == \"ReLU\":\n",
    "            encoder = ReLU()(encoder)\n",
    "        elif self.activation_function == \"sigmoid\":\n",
    "            encoder = sigmoid(encoder)\n",
    "        elif self.activation_function == \"tanh\":\n",
    "            encoder = tanh(encoder)\n",
    "        \n",
    "        # encoder layer 2\n",
    "        if self.nodes2 > 0:\n",
    "            encoder = Dense(self.nodes2)(encoder)\n",
    "            \n",
    "            # apply batch normalization\n",
    "            if self.batch_normalization == 1:\n",
    "                encoder = BatchNormalization()(encoder)\n",
    "            \n",
    "            # activate layer\n",
    "            if self.activation_function == \"LeakyReLU\":\n",
    "                encoder = LeakyReLU()(encoder)\n",
    "            elif self.activation_function == \"ReLU\":\n",
    "                encoder = ReLU()(encoder)\n",
    "            elif self.activation_function == \"sigmoid\":\n",
    "                encoder = sigmoid(encoder)\n",
    "            elif self.activation_function == \"tanh\":\n",
    "                encoder = tanh(encoder)\n",
    "        \n",
    "        # encoder layer 3\n",
    "        if self.nodes3 > 0:\n",
    "            encoder = Dense(self.nodes3)(encoder)\n",
    "            \n",
    "            # apply batch normalization\n",
    "            if self.batch_normalization == 1:\n",
    "                encoder = BatchNormalization()(encoder)\n",
    "                \n",
    "            # activate layer\n",
    "            if self.activation_function == \"LeakyReLU\":\n",
    "                encoder = LeakyReLU()(encoder)\n",
    "            elif self.activation_function == \"ReLU\":\n",
    "                encoder = ReLU()(encoder)\n",
    "            elif self.activation_function == \"sigmoid\":\n",
    "                encoder = sigmoid(encoder)\n",
    "            elif self.activation_function == \"tanh\":\n",
    "                encoder = tanh(encoder)\n",
    "        \n",
    "        # ENCODING\n",
    "        encoding = Dense(self.encoding_size)(encoder) \n",
    "        \n",
    "        # DECODER\n",
    "        # decoder layer 1\n",
    "        if self.nodes3 > 0:\n",
    "            decoder = Dense(self.nodes3)(encoding)\n",
    "            \n",
    "            # apply batch normalization\n",
    "            if self.batch_normalization == 1:\n",
    "                decoder = BatchNormalization()(decoder)\n",
    "                \n",
    "            # activate layer\n",
    "            if self.activation_function == \"LeakyReLU\":\n",
    "                decoder = LeakyReLU()(decoder)\n",
    "            elif self.activation_function == \"ReLU\":\n",
    "                decoder = ReLU()(decoder)\n",
    "            elif self.activation_function == \"sigmoid\":\n",
    "                decoder = sigmoid(decoder)\n",
    "            elif self.activation_function == \"tanh\":\n",
    "                decoder = tanh(decoder)\n",
    "        \n",
    "        # decoder layer 2\n",
    "        if self.nodes2 > 0:\n",
    "            if self.nodes3 == 0:\n",
    "                decoder = Dense(self.nodes2)(encoding)\n",
    "            else:\n",
    "                decoder = Dense(self.nodes2)(decoder)\n",
    "            \n",
    "            # apply batch normalization\n",
    "            if self.batch_normalization == 1:\n",
    "                decoder = BatchNormalization()(decoder)\n",
    "                \n",
    "            # activate layer\n",
    "            if self.activation_function == \"LeakyReLU\":\n",
    "                decoder = LeakyReLU()(decoder)\n",
    "            elif self.activation_function == \"ReLU\":\n",
    "                decoder = ReLU()(decoder)\n",
    "            elif self.activation_function == \"sigmoid\":\n",
    "                decoder = sigmoid(decoder)\n",
    "            elif self.activation_function == \"tanh\":\n",
    "                decoder = tanh(decoder)\n",
    "        \n",
    "        # decoder layer 3\n",
    "        if self.nodes2 == 0 and self.nodes3 == 0:\n",
    "            decoder = Dense(self.nodes1)(encoding)\n",
    "        else:\n",
    "            decoder = Dense(self.nodes1)(decoder)\n",
    "\n",
    "        # apply batch normalization\n",
    "        if self.batch_normalization == 1:\n",
    "            decoder = BatchNormalization()(decoder)\n",
    "\n",
    "        # activate layer\n",
    "        if self.activation_function == \"LeakyReLU\":\n",
    "            decoder = LeakyReLU()(decoder)\n",
    "        elif self.activation_function == \"ReLU\":\n",
    "            decoder = ReLU()(decoder)\n",
    "        elif self.activation_function == \"sigmoid\":\n",
    "            decoder = sigmoid(decoder)\n",
    "        elif self.activation_function == \"tanh\":\n",
    "            decoder = tanh(decoder)\n",
    "            \n",
    "        output = Dense(input_shape, activation='linear')(decoder)\n",
    "        \n",
    "        model = Model(inputs=visible, outputs=output)\n",
    "        model.compile(optimizer='adam', loss='mse')\n",
    "        \n",
    "        history = model.fit(self.x_train, self.x_train, \n",
    "                    epochs=self.epochs, batch_size=self.batch_size, verbose=0, \n",
    "                    validation_data=(self.x_val, self.x_val))\n",
    "        \n",
    "        train_loss = history.history['loss'][-1]\n",
    "        val_loss = history.history['val_loss'][-1]\n",
    "        return train_loss, val_loss"
   ]
  },
  {
   "cell_type": "code",
   "execution_count": 4,
   "metadata": {},
   "outputs": [],
   "source": [
    "def calculate_fitness(x, train_loss, val_loss, input_size):\n",
    "    \"\"\"\n",
    "    nodes1 = x[1]\n",
    "    nodes2 = x[2]\n",
    "    nodes3 = x[3]\n",
    "\n",
    "    encoding_size = x[4] # goed als het kleiner is\n",
    "    \n",
    "    fitness = val_loss * (nodes1 + 2 * nodes2 + 3 * nodes3) * (encoding_size / input_size)\n",
    "    \"\"\"\n",
    "#     nodes1 = x[1]\n",
    "#     nodes2 = x[2]\n",
    "#     nodes3 = x[3]\n",
    "\n",
    "#     encoding_size = x[4] # goed als het kleiner is\n",
    "    \n",
    "#     fitness = (val_loss ** 3) * (nodes1 + 2 * nodes2 + 3 * nodes3) * max(0.1, (encoding_size / input_size))\n",
    "    fitness = val_loss\n",
    "    return fitness"
   ]
  },
  {
   "cell_type": "code",
   "execution_count": 5,
   "metadata": {},
   "outputs": [],
   "source": [
    "class EA(object):\n",
    "    def __init__(self, population_size, activation_functions, batch_sizes, variables):\n",
    "        self.population_size = population_size\n",
    "        self.a = 0.2\n",
    "        self.activation_functions = activation_functions\n",
    "        self.batch_sizes = batch_sizes\n",
    "        self.variables = variables\n",
    "        \n",
    "    def evaluate(self, x):\n",
    "        \"\"\"\n",
    "        include in fitness function\n",
    "            relative difference between train_loss and val_loss (smaller is better)\n",
    "            number of layers (smaller is better)\n",
    "            bottleneck size (smaller is better)\n",
    "            val_loss (smaller is better)\n",
    "        \n",
    "        \"\"\"\n",
    "        ae = AE(x, activation_functions, batch_sizes)\n",
    "        train_loss, val_loss = ae.fit()\n",
    "        fitness = calculate_fitness(x, train_loss, val_loss, self.variables)\n",
    "        return fitness\n",
    "    \n",
    "    def select_triple(self, candidate, population):\n",
    "        # select three random instances for differential evolution\n",
    "        x1, x2, x3 = np.random.choice(range(len(population))), np.random.choice(range(len(population))), np.random.choice(range(len(population)))\n",
    "        while candidate == x1 or candidate == x2 or candidate == x3 or x1 == x2 or x2 == x3 or x1 == x3:\n",
    "            # keep selecting new ones until candidate != x1 != x2 != x3\n",
    "            x1, x2, x3 = np.random.choice(range(len(population))), np.random.choice(range(len(population))), np.random.choice(range(len(population)))\n",
    "        return population[x1], population[x2], population[x3]\n",
    "    \n",
    "    def mutate(self, x1, x2, x3):\n",
    "        mutated = x1 + (self.a * (x3 - x2))\n",
    "        print(f\"mutated {mutated}\")\n",
    "        # nodes layer 1\n",
    "        mutated[0] = round(mutated[0])\n",
    "        mutated[0] = max(1, mutated[0]) # must be at least one\n",
    "\n",
    "        # nodes layer 2\n",
    "        mutated[1] = round(mutated[1])\n",
    "        mutated[1] = max(0, mutated[1])\n",
    "\n",
    "        # nodes layer 3\n",
    "        mutated[2] = round(mutated[2])\n",
    "        mutated[2] = max(0, mutated[2])\n",
    "        return mutated\n",
    "        \n",
    "    def recombine(self, candidate, mutation):\n",
    "        for i in range(candidate.shape[0]):\n",
    "            prob = np.random.randint(0, 2)\n",
    "            if prob == 1:\n",
    "                candidate[i] = mutation[i]\n",
    "        print(f\"candidate {candidate}\")\n",
    "        # nodes 3 can only be non-zero if nodes 2 is non-zero\n",
    "        if candidate[1] == 0:\n",
    "            candidate[2] = 0\n",
    "        # nodes per layer must be at least as large as the encoding size (or 0 for nodes2 and nodes3)\n",
    "        candidate[1] = max(candidate[1], 0.75 * self.variables)\n",
    "\n",
    "        if candidate[1] < 0.75 * self.variables:\n",
    "            if candidate[1] <= 0.5 * 0.75 * self.variables:\n",
    "                candidate[1] = 0\n",
    "            else:\n",
    "                candidate[1] = 0.75 * self.variables\n",
    "        if candidate[2] < 0.75 * self.variables:\n",
    "            if candidate[2] <= 0.5 * 0.75 * self.variables:\n",
    "                candidate[2] = 0\n",
    "            else:\n",
    "                candidate[2] = 0.75 * self.variables\n",
    "        return candidate\n",
    "\n",
    "    def select(self, x_new, f_new, x_old, f_old):\n",
    "        x_cat = np.concatenate([x_new, x_old], 0)\n",
    "        f_cat = np.concatenate([f_new, f_old])\n",
    "        ind = np.argsort(f_cat)\n",
    "        x = x_cat[ind]\n",
    "        f = f_cat[ind]\n",
    "        return x[:self.population_size], f[:self.population_size]\n",
    "    \n",
    "    def step(self, x_old, f_old):\n",
    "        x = np.copy(x_old)\n",
    "        f = np.copy(f_old)\n",
    "        for i in tqdm(range(self.population_size), total=self.population_size):\n",
    "            # choose candidate\n",
    "            candidate = x[i]\n",
    "            # select 3 instances for differential evolution\n",
    "            x1, x2, x3 = self.select_triple(i, x)\n",
    "            # mutate 3 instances\n",
    "            mutated_triple = self.mutate(x1, x2, x3)\n",
    "            # recombine candidate with mutation\n",
    "            candidate = self.recombine(candidate, mutated_triple)\n",
    "            x[i] = candidate\n",
    "            # evaluate candidate solution\n",
    "            f_candidate = self.evaluate(candidate)\n",
    "            f[i] = f_candidate\n",
    "        # select survivors\n",
    "        x, f = self.select(x, f, x_old, f_old)\n",
    "        return x, f"
   ]
  },
  {
   "cell_type": "code",
   "execution_count": 6,
   "metadata": {},
   "outputs": [],
   "source": [
    "with open('AE output/optimization_output_15_04_2022.csv', mode='w', newline='') as output_file:\n",
    "    csv_writer = csv.writer(output_file, delimiter=',', quotechar='\"')\n",
    "    row = ['activation_function', 'layer1', 'layer2', 'layer3', 'encoding_size', \n",
    "            'batch_normalization', 'batch_size']\n",
    "#           'train_loss', 'val_loss', 'fitness']\n",
    "    csv_writer.writerow(row)"
   ]
  },
  {
   "cell_type": "code",
   "execution_count": 7,
   "metadata": {},
   "outputs": [],
   "source": [
    "def init_population(population_size, activation_functions, batch_sizes, variables):\n",
    "    # generate initial population\n",
    "    population = []\n",
    "    print(\"Creating initial population...\")\n",
    "    for i in tqdm(range(population_size), total=population_size):\n",
    "#         activation_function = random.randint(0, len(activation_functions) - 1)\n",
    "#         encoding_size = random.randint(0.1 * variables, variables)\n",
    "        encoding_size = 0.75 * variables\n",
    "        nodes1 = random.randint(encoding_size, 1.5 * variables)\n",
    "        nodes2 = random.randint(encoding_size, 1.5 * variables)\n",
    "        nodes3 = random.randint(encoding_size, variables)\n",
    "#         batch_normalization = random.randint(0,1)\n",
    "#         batch_size = random.randint(0, len(batch_sizes) - 1)\n",
    "        population.append(np.asarray([nodes1, nodes2, nodes3], dtype='object'))\n",
    "#         population.append(np.asarray([activation_function, nodes1, nodes2, nodes3, encoding_size, batch_normalization, batch_size], dtype='object'))\n",
    "    print(\"Initial population ready\")\n",
    "    return np.asarray(population)\n",
    "\n",
    "def evaluate_init_population(ea, x):\n",
    "    # evaluate initial population\n",
    "    f = []\n",
    "    print(\"Evaluating initial population...\")\n",
    "    for i in tqdm(range(x.shape[0]), total=x.shape[0]):\n",
    "        instance = x[i]\n",
    "        f.append(ea.evaluate(instance))\n",
    "    print(\"Evaluation initial population completed\")\n",
    "    return np.asarray(f)\n",
    "\n",
    "def print_best(x, activation_functions, batch_sizes, fitness):\n",
    "    print(f\"\\nMost suitable parameters -- Fitness of {fitness}:\")\n",
    "#     print(f\"\\tActivation function:           \\t{activation_functions[x[0]]}\")\n",
    "    print(f\"\\tNodes layer 1:                 \\t{x[0]}\")\n",
    "    print(f\"\\tNodes layer 2:                 \\t{x[1]}\")\n",
    "    print(f\"\\tNodes layer 3:                 \\t{x[2]}\")\n",
    "    print(f\"\\tSize encoding layer:           \\t{0.75 * 1500}\")\n",
    "#     print(f\"\\tBatch Normalization:           \\t{x[5]}\")\n",
    "#     print(f\"\\tBatch Size:                    \\t{batch_sizes[x[6]]}\")\n",
    "\n",
    "def extract_population(population, activation_functions, batch_size):\n",
    "    with open('AE output/optimization_output_15_04_2022.csv', mode='a', newline='') as output_file:\n",
    "        csv_writer = csv.writer(output_file, delimiter=',', quotechar='\"')\n",
    "        for instance in population:\n",
    "            row = []\n",
    "            activation_function = activation_functions[instance[0]]\n",
    "\n",
    "            nodes1 = instance[0]\n",
    "            nodes2 = instance[1]\n",
    "            nodes3 = instance[2]\n",
    "\n",
    "#             encoding_size = instance[4]\n",
    "\n",
    "#             batch_normalization = instance[5]\n",
    "#             batch_size = batch_sizes[instance[6]]\n",
    "#             csv_writer.writerow([activation_function, nodes1, nodes2, nodes3, encoding_size, batch_normalization, batch_size])\n",
    "\n",
    "def plot_convergence(f_best):\n",
    "    fig1 = make_subplots(rows=1, cols=1, specs=[[{'type':'xy'}]])\n",
    "    \n",
    "    x_values = []\n",
    "    for i in range(len(f_best)):\n",
    "        x_values.append(i)\n",
    "    fig1.add_trace(go.Scatter(x=x_values, y=f_best, mode=\"lines\"), row=1, col=1)\n",
    "\n",
    "    fig1.update_layout(\n",
    "        title = f'Fitness Over Autoencoder Tuning Generations', \n",
    "        xaxis1 = dict(title_text = 'Generation'),\n",
    "        yaxis1 = dict(title_text = \"Validation Loss\")\n",
    "    )\n",
    "    fig1.write_image(\"Plots/opt autoencoder.png\")\n",
    "    fig1.show()\n",
    "\n",
    "def validate_best(x, ea):\n",
    "    print(\"\\nValidating solution...\")\n",
    "    ea.evaluate(x)\n",
    "    print(\"Solution validated\")"
   ]
  },
  {
   "cell_type": "code",
   "execution_count": 10,
   "metadata": {
    "scrolled": false
   },
   "outputs": [
    {
     "name": "stderr",
     "output_type": "stream",
     "text": [
      "100%|████████████████████████████████████████| 20/20 [00:00<00:00, 26379.27it/s]\n",
      "  0%|                                                    | 0/20 [00:00<?, ?it/s]"
     ]
    },
    {
     "name": "stdout",
     "output_type": "stream",
     "text": [
      "Input size: 1500\n",
      "Creating initial population...\n",
      "Initial population ready\n",
      "Evaluating initial population...\n",
      "x [1592 1897 1323]\n"
     ]
    },
    {
     "name": "stderr",
     "output_type": "stream",
     "text": [
      "\r",
      "  5%|██▏                                        | 1/20 [01:57<37:16, 117.73s/it]"
     ]
    },
    {
     "name": "stdout",
     "output_type": "stream",
     "text": [
      "x [1989 1850 1240]\n"
     ]
    },
    {
     "name": "stderr",
     "output_type": "stream",
     "text": [
      "\r",
      " 10%|████▎                                      | 2/20 [03:51<34:37, 115.41s/it]"
     ]
    },
    {
     "name": "stdout",
     "output_type": "stream",
     "text": [
      "x [1774 2081 1198]\n"
     ]
    },
    {
     "name": "stderr",
     "output_type": "stream",
     "text": [
      "\r",
      " 15%|██████▍                                    | 3/20 [05:40<31:53, 112.54s/it]"
     ]
    },
    {
     "name": "stdout",
     "output_type": "stream",
     "text": [
      "x [2114 2240 1316]\n"
     ]
    },
    {
     "name": "stderr",
     "output_type": "stream",
     "text": [
      "\r",
      " 20%|████████▌                                  | 4/20 [07:56<32:25, 121.59s/it]"
     ]
    },
    {
     "name": "stdout",
     "output_type": "stream",
     "text": [
      "x [1526 1837 1454]\n"
     ]
    },
    {
     "name": "stderr",
     "output_type": "stream",
     "text": [
      "\r",
      " 25%|██████████▊                                | 5/20 [09:30<27:55, 111.71s/it]"
     ]
    },
    {
     "name": "stdout",
     "output_type": "stream",
     "text": [
      "x [2030 1422 1213]\n"
     ]
    },
    {
     "name": "stderr",
     "output_type": "stream",
     "text": [
      "\r",
      " 30%|████████████▉                              | 6/20 [11:07<24:57, 106.94s/it]"
     ]
    },
    {
     "name": "stdout",
     "output_type": "stream",
     "text": [
      "x [1479 1543 1478]\n"
     ]
    },
    {
     "name": "stderr",
     "output_type": "stream",
     "text": [
      "\r",
      " 35%|███████████████▍                            | 7/20 [12:30<21:25, 98.91s/it]"
     ]
    },
    {
     "name": "stdout",
     "output_type": "stream",
     "text": [
      "x [1751 1862 1408]\n"
     ]
    },
    {
     "name": "stderr",
     "output_type": "stream",
     "text": [
      "\r",
      " 40%|█████████████████▏                         | 8/20 [14:19<20:26, 102.20s/it]"
     ]
    },
    {
     "name": "stdout",
     "output_type": "stream",
     "text": [
      "x [1908 1156 1295]\n"
     ]
    },
    {
     "name": "stderr",
     "output_type": "stream",
     "text": [
      "\r",
      " 45%|███████████████████▊                        | 9/20 [15:42<17:39, 96.28s/it]"
     ]
    },
    {
     "name": "stdout",
     "output_type": "stream",
     "text": [
      "x [2083 1278 1303]\n"
     ]
    },
    {
     "name": "stderr",
     "output_type": "stream",
     "text": [
      "\r",
      " 50%|█████████████████████▌                     | 10/20 [17:19<16:02, 96.26s/it]"
     ]
    },
    {
     "name": "stdout",
     "output_type": "stream",
     "text": [
      "x [1705 2109 1433]\n"
     ]
    },
    {
     "name": "stderr",
     "output_type": "stream",
     "text": [
      "\r",
      " 55%|███████████████████████                   | 11/20 [19:17<15:27, 103.04s/it]"
     ]
    },
    {
     "name": "stdout",
     "output_type": "stream",
     "text": [
      "x [2156 1289 1376]\n"
     ]
    },
    {
     "name": "stderr",
     "output_type": "stream",
     "text": [
      "\r",
      " 60%|█████████████████████████▏                | 12/20 [21:06<13:59, 104.99s/it]"
     ]
    },
    {
     "name": "stdout",
     "output_type": "stream",
     "text": [
      "x [2155 1465 1459]\n"
     ]
    },
    {
     "name": "stderr",
     "output_type": "stream",
     "text": [
      "\r",
      " 65%|███████████████████████████▎              | 13/20 [22:50<12:11, 104.46s/it]"
     ]
    },
    {
     "name": "stdout",
     "output_type": "stream",
     "text": [
      "x [2020 1232 1460]\n"
     ]
    },
    {
     "name": "stderr",
     "output_type": "stream",
     "text": [
      "\r",
      " 70%|█████████████████████████████▍            | 14/20 [24:34<10:25, 104.28s/it]"
     ]
    },
    {
     "name": "stdout",
     "output_type": "stream",
     "text": [
      "x [1458 1421 1293]\n"
     ]
    },
    {
     "name": "stderr",
     "output_type": "stream",
     "text": [
      "\r",
      " 75%|████████████████████████████████▎          | 15/20 [25:58<08:12, 98.41s/it]"
     ]
    },
    {
     "name": "stdout",
     "output_type": "stream",
     "text": [
      "x [1945 1202 1181]\n"
     ]
    },
    {
     "name": "stderr",
     "output_type": "stream",
     "text": [
      "\r",
      " 80%|██████████████████████████████████▍        | 16/20 [27:27<06:21, 95.45s/it]"
     ]
    },
    {
     "name": "stdout",
     "output_type": "stream",
     "text": [
      "x [1755 1199 1225]\n"
     ]
    },
    {
     "name": "stderr",
     "output_type": "stream",
     "text": [
      "\r",
      " 85%|████████████████████████████████████▌      | 17/20 [28:52<04:37, 92.35s/it]"
     ]
    },
    {
     "name": "stdout",
     "output_type": "stream",
     "text": [
      "x [1242 1389 1268]\n"
     ]
    },
    {
     "name": "stderr",
     "output_type": "stream",
     "text": [
      "\r",
      " 90%|██████████████████████████████████████▋    | 18/20 [30:07<02:54, 87.06s/it]"
     ]
    },
    {
     "name": "stdout",
     "output_type": "stream",
     "text": [
      "x [1493 1432 1240]\n"
     ]
    },
    {
     "name": "stderr",
     "output_type": "stream",
     "text": [
      "\r",
      " 95%|████████████████████████████████████████▊  | 19/20 [31:32<01:26, 86.53s/it]"
     ]
    },
    {
     "name": "stdout",
     "output_type": "stream",
     "text": [
      "x [1375 1706 1247]\n"
     ]
    },
    {
     "name": "stderr",
     "output_type": "stream",
     "text": [
      "100%|███████████████████████████████████████████| 20/20 [33:10<00:00, 99.55s/it]\n",
      "  0%|                                                    | 0/20 [00:00<?, ?it/s]"
     ]
    },
    {
     "name": "stdout",
     "output_type": "stream",
     "text": [
      "Evaluation initial population completed\n",
      "--> STARTING EVOLUTION\n",
      "Generation: 0\tBest fitness: 0.01799594797194004\n",
      "mutated [1992.4 1216.8 1435.6]\n",
      "candidate [1592 1897 1323]\n",
      "x [1592 1897 1323]\n"
     ]
    },
    {
     "name": "stderr",
     "output_type": "stream",
     "text": [
      "\r",
      "  5%|██▏                                        | 1/20 [02:23<45:29, 143.68s/it]"
     ]
    },
    {
     "name": "stdout",
     "output_type": "stream",
     "text": [
      "mutated [2020.6 1363.2 1217.8]\n",
      "candidate [2021 1363 1240]\n",
      "x [2021 1363 1240]\n"
     ]
    },
    {
     "name": "stderr",
     "output_type": "stream",
     "text": [
      "\r",
      " 10%|████▎                                      | 2/20 [05:08<46:50, 156.14s/it]"
     ]
    },
    {
     "name": "stdout",
     "output_type": "stream",
     "text": [
      "mutated [1809.4 2177.6 1431.6]\n",
      "candidate [1809 2178 1198]\n",
      "x [1809 2178 1198]\n"
     ]
    },
    {
     "name": "stderr",
     "output_type": "stream",
     "text": [
      "\r",
      " 15%|██████▍                                    | 3/20 [08:38<51:11, 180.68s/it]"
     ]
    },
    {
     "name": "stdout",
     "output_type": "stream",
     "text": [
      "mutated [1674.4 2117.6 1419.0]\n",
      "candidate [1674 2118 1316]\n",
      "x [1674 2118 1316]\n"
     ]
    },
    {
     "name": "stderr",
     "output_type": "stream",
     "text": [
      "\r",
      " 20%|████████▌                                  | 4/20 [12:15<52:03, 195.22s/it]"
     ]
    },
    {
     "name": "stdout",
     "output_type": "stream",
     "text": [
      "mutated [1587.2 2023.6 1325.8]\n",
      "candidate [1587 2024 1326]\n",
      "x [1587 2024 1326]\n"
     ]
    },
    {
     "name": "stderr",
     "output_type": "stream",
     "text": [
      "\r",
      " 25%|██████████▊                                | 5/20 [15:37<49:24, 197.62s/it]"
     ]
    },
    {
     "name": "stdout",
     "output_type": "stream",
     "text": [
      "mutated [1934.2 1268.6 1249.8]\n",
      "candidate [2030 1269 1213]\n",
      "x [2030 1269 1213]\n"
     ]
    },
    {
     "name": "stderr",
     "output_type": "stream",
     "text": [
      "\r",
      " 30%|████████████▉                              | 6/20 [17:35<39:47, 170.51s/it]"
     ]
    },
    {
     "name": "stdout",
     "output_type": "stream",
     "text": [
      "mutated [1732.2 1743.6 1390.8]\n",
      "candidate [1479 1744 1391]\n",
      "x [1479 1744 1391]\n"
     ]
    },
    {
     "name": "stderr",
     "output_type": "stream",
     "text": [
      "\r",
      " 35%|███████████████                            | 7/20 [20:03<35:19, 163.00s/it]"
     ]
    },
    {
     "name": "stdout",
     "output_type": "stream",
     "text": [
      "mutated [2034.2 1333.6 1232.6]\n",
      "candidate [2034 1862 1233]\n",
      "x [2034 1862 1233]\n"
     ]
    },
    {
     "name": "stderr",
     "output_type": "stream",
     "text": [
      "\r",
      " 40%|█████████████████▏                         | 8/20 [24:11<38:01, 190.13s/it]"
     ]
    },
    {
     "name": "stdout",
     "output_type": "stream",
     "text": [
      "mutated [2052.4 1169.4 1175.6]\n",
      "candidate [2052 1156 1295]\n",
      "x [2052 1156 1295]\n"
     ]
    },
    {
     "name": "stderr",
     "output_type": "stream",
     "text": [
      "\r",
      " 45%|███████████████████▎                       | 9/20 [27:19<34:45, 189.60s/it]"
     ]
    },
    {
     "name": "stdout",
     "output_type": "stream",
     "text": [
      "mutated [1683.4 1858.2 1338.0]\n",
      "candidate [2083 1278 1338]\n",
      "x [2083 1278 1338]\n"
     ]
    },
    {
     "name": "stderr",
     "output_type": "stream",
     "text": [
      "\r",
      " 50%|█████████████████████                     | 10/20 [30:18<31:01, 186.13s/it]"
     ]
    },
    {
     "name": "stdout",
     "output_type": "stream",
     "text": [
      "mutated [1969.0 1378.8 1351.2]\n",
      "candidate [1705 2109 1433]\n",
      "x [1705 2109 1433]\n"
     ]
    },
    {
     "name": "stderr",
     "output_type": "stream",
     "text": [
      "\r",
      " 55%|███████████████████████                   | 11/20 [34:21<30:33, 203.68s/it]"
     ]
    },
    {
     "name": "stdout",
     "output_type": "stream",
     "text": [
      "mutated [1586.4 1711.4 1385.6]\n",
      "candidate [2156 1289 1386]\n",
      "x [2156 1289 1386]\n"
     ]
    },
    {
     "name": "stderr",
     "output_type": "stream",
     "text": [
      "\r",
      " 60%|█████████████████████████▏                | 12/20 [37:53<27:28, 206.00s/it]"
     ]
    },
    {
     "name": "stdout",
     "output_type": "stream",
     "text": [
      "mutated [1579.6 1273.6 1266.8]\n",
      "candidate [2155 1274 1267]\n",
      "x [2155 1274 1267]\n"
     ]
    },
    {
     "name": "stderr",
     "output_type": "stream",
     "text": [
      "\r",
      " 65%|███████████████████████████▎              | 13/20 [41:37<24:40, 211.53s/it]"
     ]
    },
    {
     "name": "stdout",
     "output_type": "stream",
     "text": [
      "mutated [1874.6 2193.8 1220.6]\n",
      "candidate [1875 2194 1221]\n",
      "x [1875 2194 1221]\n"
     ]
    },
    {
     "name": "stderr",
     "output_type": "stream",
     "text": [
      "\r",
      " 70%|█████████████████████████████▍            | 14/20 [45:57<22:37, 226.26s/it]"
     ]
    },
    {
     "name": "stdout",
     "output_type": "stream",
     "text": [
      "mutated [1532.2 2204.0 1298.0]\n",
      "candidate [1458 2204 1298]\n",
      "x [1458 2204 1298]\n"
     ]
    },
    {
     "name": "stderr",
     "output_type": "stream",
     "text": [
      "\r",
      " 75%|███████████████████████████████▌          | 15/20 [49:37<18:41, 224.22s/it]"
     ]
    },
    {
     "name": "stdout",
     "output_type": "stream",
     "text": [
      "mutated [2016.6 1475.0 1392.2]\n",
      "candidate [1945 1475 1181]\n",
      "x [1945 1475 1181]\n"
     ]
    },
    {
     "name": "stderr",
     "output_type": "stream",
     "text": [
      "\r",
      " 80%|█████████████████████████████████▌        | 16/20 [52:46<14:15, 213.89s/it]"
     ]
    },
    {
     "name": "stdout",
     "output_type": "stream",
     "text": [
      "mutated [1854.2 2251.0 1206.4]\n",
      "candidate [1854 1199 1225]\n",
      "x [1854 1199 1225]\n"
     ]
    },
    {
     "name": "stderr",
     "output_type": "stream",
     "text": [
      "\r",
      " 85%|███████████████████████████████████▋      | 17/20 [55:15<09:42, 194.30s/it]"
     ]
    },
    {
     "name": "stdout",
     "output_type": "stream",
     "text": [
      "mutated [1949.0 1414.2 1256.6]\n",
      "candidate [1949 1414 1257]\n",
      "x [1949 1414 1257]\n"
     ]
    },
    {
     "name": "stderr",
     "output_type": "stream",
     "text": [
      "\r",
      " 90%|█████████████████████████████████████▊    | 18/20 [58:01<06:11, 185.82s/it]"
     ]
    },
    {
     "name": "stdout",
     "output_type": "stream",
     "text": [
      "mutated [2198.0 1248.8 1403.2]\n",
      "candidate [1493 1432 1240]\n",
      "x [1493 1432 1240]\n"
     ]
    },
    {
     "name": "stderr",
     "output_type": "stream",
     "text": [
      "\r",
      " 95%|███████████████████████████████████████▉  | 19/20 [59:28<02:35, 155.97s/it]"
     ]
    },
    {
     "name": "stdout",
     "output_type": "stream",
     "text": [
      "mutated [1478.2 2044.0 1311.0]\n",
      "candidate [1478 1706 1247]\n",
      "x [1478 1706 1247]\n"
     ]
    },
    {
     "name": "stderr",
     "output_type": "stream",
     "text": [
      "100%|████████████████████████████████████████| 20/20 [1:02:09<00:00, 186.49s/it]\n",
      "  0%|                                                    | 0/20 [00:00<?, ?it/s]"
     ]
    },
    {
     "name": "stdout",
     "output_type": "stream",
     "text": [
      "[[1755 1199 1225]\n",
      " [1751 1862 1408]\n",
      " [1674 2118 1316]\n",
      " [1705 2109 1433]\n",
      " [1587 2024 1326]\n",
      " [1705 2109 1433]\n",
      " [1949 1414 1257]\n",
      " [1908 1156 1295]\n",
      " [1458 1421 1293]\n",
      " [2030 1422 1213]\n",
      " [1478 1706 1247]\n",
      " [1945 1202 1181]\n",
      " [2030 1269 1213]\n",
      " [2083 1278 1303]\n",
      " [1526 1837 1454]\n",
      " [1479 1744 1391]\n",
      " [1592 1897 1323]\n",
      " [2052 1156 1295]\n",
      " [1242 1389 1268]\n",
      " [2155 1465 1459]]\n",
      "Generation: 1\tBest fitness: 0.01799594797194004\n",
      "mutated [1775.6 1970.0 1404.6]\n",
      "candidate [1755 1199 1405]\n",
      "x [1755 1199 1405]\n"
     ]
    },
    {
     "name": "stderr",
     "output_type": "stream",
     "text": [
      "\r",
      "  5%|██▏                                        | 1/20 [02:31<47:49, 151.01s/it]"
     ]
    },
    {
     "name": "stdout",
     "output_type": "stream",
     "text": [
      "mutated [1289.8 1443.2 1286.0]\n",
      "candidate [1751 1862 1408]\n",
      "x [1751 1862 1408]\n"
     ]
    },
    {
     "name": "stderr",
     "output_type": "stream",
     "text": [
      "\r",
      " 10%|████▎                                      | 2/20 [05:42<52:26, 174.78s/it]"
     ]
    },
    {
     "name": "stdout",
     "output_type": "stream",
     "text": [
      "mutated [1956.0 974.6 1244.6]\n",
      "candidate [1674 2118 1245]\n",
      "x [1674 2118 1245]\n"
     ]
    },
    {
     "name": "stderr",
     "output_type": "stream",
     "text": [
      "\r",
      " 15%|██████▍                                    | 3/20 [08:47<50:52, 179.58s/it]"
     ]
    },
    {
     "name": "stdout",
     "output_type": "stream",
     "text": [
      "mutated [1678.4 2064.8 1261.4]\n",
      "candidate [1678 2109 1433]\n",
      "x [1678 2109 1433]\n"
     ]
    },
    {
     "name": "stderr",
     "output_type": "stream",
     "text": [
      "\r",
      " 20%|████████▌                                  | 4/20 [12:24<51:51, 194.45s/it]"
     ]
    },
    {
     "name": "stdout",
     "output_type": "stream",
     "text": [
      "mutated [2065.0 1518.0 1458.6]\n",
      "candidate [2065 2024 1326]\n",
      "x [2065 2024 1326]\n"
     ]
    },
    {
     "name": "stderr",
     "output_type": "stream",
     "text": [
      "\r",
      " 25%|██████████▊                                | 5/20 [16:45<54:35, 218.36s/it]"
     ]
    },
    {
     "name": "stdout",
     "output_type": "stream",
     "text": [
      "mutated [1969.4 1255.2 1164.6]\n",
      "candidate [1969 1255 1433]\n",
      "x [1969 1255 1433]\n"
     ]
    },
    {
     "name": "stderr",
     "output_type": "stream",
     "text": [
      "\r",
      " 30%|████████████▉                              | 6/20 [19:17<45:38, 195.64s/it]"
     ]
    },
    {
     "name": "stdout",
     "output_type": "stream",
     "text": [
      "mutated [1332.2 1495.4 1292.0]\n",
      "candidate [1949 1414 1292]\n",
      "x [1949 1414 1292]\n"
     ]
    },
    {
     "name": "stderr",
     "output_type": "stream",
     "text": [
      "\r",
      " 35%|███████████████                            | 7/20 [21:59<40:02, 184.80s/it]"
     ]
    },
    {
     "name": "stdout",
     "output_type": "stream",
     "text": [
      "mutated [1756.2 2090.2 1449.2]\n",
      "candidate [1908 1156 1449]\n",
      "x [1908 1156 1449]\n"
     ]
    },
    {
     "name": "stderr",
     "output_type": "stream",
     "text": [
      "\r",
      " 40%|█████████████████▏                         | 8/20 [25:06<37:04, 185.36s/it]"
     ]
    },
    {
     "name": "stdout",
     "output_type": "stream",
     "text": [
      "mutated [1552.2 1824.0 1314.6]\n",
      "candidate [1458 1421 1293]\n",
      "x [1458 1421 1293]\n"
     ]
    },
    {
     "name": "stderr",
     "output_type": "stream",
     "text": [
      "\r",
      " 45%|███████████████████▎                       | 9/20 [27:46<32:31, 177.41s/it]"
     ]
    },
    {
     "name": "stdout",
     "output_type": "stream",
     "text": [
      "mutated [1993.0 1328.6 1257.4]\n",
      "candidate [2030 1329 1257]\n",
      "x [2030 1329 1257]\n"
     ]
    },
    {
     "name": "stderr",
     "output_type": "stream",
     "text": [
      "\r",
      " 50%|█████████████████████                     | 10/20 [31:07<30:48, 184.81s/it]"
     ]
    },
    {
     "name": "stdout",
     "output_type": "stream",
     "text": [
      "mutated [1727.8 1740.0 1401.2]\n",
      "candidate [1478 1740 1401]\n",
      "x [1478 1740 1401]\n"
     ]
    },
    {
     "name": "stderr",
     "output_type": "stream",
     "text": [
      "\r",
      " 55%|███████████████████████                   | 11/20 [34:21<28:07, 187.53s/it]"
     ]
    },
    {
     "name": "stdout",
     "output_type": "stream",
     "text": [
      "mutated [1750.4 1981.8 1244.0]\n",
      "candidate [1750 1982 1181]\n",
      "x [1750 1982 1181]\n"
     ]
    },
    {
     "name": "stderr",
     "output_type": "stream",
     "text": [
      "\r",
      " 60%|█████████████████████████▏                | 12/20 [36:22<22:18, 167.27s/it]"
     ]
    },
    {
     "name": "stdout",
     "output_type": "stream",
     "text": [
      "mutated [1738.4 1218.8 1432.6]\n",
      "candidate [1738 1219 1433]\n",
      "x [1738 1219 1433]\n"
     ]
    },
    {
     "name": "stderr",
     "output_type": "stream",
     "text": [
      "\r",
      " 65%|███████████████████████████▎              | 13/20 [38:02<17:09, 147.08s/it]"
     ]
    },
    {
     "name": "stdout",
     "output_type": "stream",
     "text": [
      "mutated [1597.8 1691.0 1391.4]\n",
      "candidate [1598 1278 1303]\n",
      "x [1598 1278 1303]\n"
     ]
    },
    {
     "name": "stderr",
     "output_type": "stream",
     "text": [
      "\r",
      " 70%|█████████████████████████████▍            | 14/20 [39:32<12:59, 129.87s/it]"
     ]
    },
    {
     "name": "stdout",
     "output_type": "stream",
     "text": [
      "mutated [1804.6 2006.4 1182.4]\n",
      "candidate [1805 2006 1182]\n",
      "x [1805 2006 1182]\n"
     ]
    },
    {
     "name": "stderr",
     "output_type": "stream",
     "text": [
      "\r",
      " 75%|███████████████████████████████▌          | 15/20 [41:40<10:45, 129.18s/it]"
     ]
    },
    {
     "name": "stdout",
     "output_type": "stream",
     "text": [
      "mutated [2029.4 1089.8 1455.8]\n",
      "candidate [2029 1744 1456]\n",
      "x [2029 1744 1456]\n"
     ]
    },
    {
     "name": "stderr",
     "output_type": "stream",
     "text": [
      "\r",
      " 80%|█████████████████████████████████▌        | 16/20 [43:49<08:36, 129.15s/it]"
     ]
    },
    {
     "name": "stdout",
     "output_type": "stream",
     "text": [
      "mutated [1480.6 1868.6 1396.0]\n",
      "candidate [1592 1897 1323]\n",
      "x [1592 1897 1323]\n"
     ]
    },
    {
     "name": "stderr",
     "output_type": "stream",
     "text": [
      "\r",
      " 85%|███████████████████████████████████▋      | 17/20 [45:49<06:18, 126.23s/it]"
     ]
    },
    {
     "name": "stdout",
     "output_type": "stream",
     "text": [
      "mutated [1613.6 1194.0 1400.2]\n",
      "candidate [2052 1156 1400]\n",
      "x [2052 1156 1400]\n"
     ]
    },
    {
     "name": "stderr",
     "output_type": "stream",
     "text": [
      "\r",
      " 90%|█████████████████████████████████████▊    | 18/20 [47:40<04:03, 121.71s/it]"
     ]
    },
    {
     "name": "stdout",
     "output_type": "stream",
     "text": [
      "mutated [1734.6 1817.8 1423.6]\n",
      "candidate [1735 1389 1268]\n",
      "x [1735 1389 1268]\n"
     ]
    },
    {
     "name": "stderr",
     "output_type": "stream",
     "text": [
      "\r",
      " 95%|███████████████████████████████████████▉  | 19/20 [49:23<01:56, 116.07s/it]"
     ]
    },
    {
     "name": "stdout",
     "output_type": "stream",
     "text": [
      "mutated [1675.0 1990.4 1450.4]\n",
      "candidate [1675 1990 1450]\n",
      "x [1675 1990 1450]\n"
     ]
    },
    {
     "name": "stderr",
     "output_type": "stream",
     "text": [
      "100%|██████████████████████████████████████████| 20/20 [51:40<00:00, 155.02s/it]\n",
      "  0%|                                                    | 0/20 [00:00<?, ?it/s]"
     ]
    },
    {
     "name": "stdout",
     "output_type": "stream",
     "text": [
      "[[1592 1897 1323]\n",
      " [1755 1199 1225]\n",
      " [1751 1862 1408]\n",
      " [1751 1862 1408]\n",
      " [1674 2118 1316]\n",
      " [1705 2109 1433]\n",
      " [1587 2024 1326]\n",
      " [1908 1156 1449]\n",
      " [1949 1414 1292]\n",
      " [1705 2109 1433]\n",
      " [1949 1414 1257]\n",
      " [2030 1329 1257]\n",
      " [1908 1156 1295]\n",
      " [1458 1421 1293]\n",
      " [2030 1422 1213]\n",
      " [1478 1706 1247]\n",
      " [1945 1202 1181]\n",
      " [2030 1269 1213]\n",
      " [2083 1278 1303]\n",
      " [1526 1837 1454]]\n",
      "Generation: 2\tBest fitness: 0.017656367272138596\n",
      "mutated [1744.4 1227.8 1207.0]\n",
      "candidate [1592 1897 1323]\n",
      "x [1592 1897 1323]\n"
     ]
    },
    {
     "name": "stderr",
     "output_type": "stream",
     "text": [
      "\r",
      "  5%|██▏                                        | 1/20 [01:57<37:10, 117.41s/it]"
     ]
    },
    {
     "name": "stdout",
     "output_type": "stream",
     "text": [
      "mutated [1494.2 1689.0 1247.0]\n",
      "candidate [1494 1689 1225]\n",
      "x [1494 1689 1225]\n"
     ]
    },
    {
     "name": "stderr",
     "output_type": "stream",
     "text": [
      "\r",
      " 10%|████▎                                      | 2/20 [03:39<32:36, 108.69s/it]"
     ]
    },
    {
     "name": "stdout",
     "output_type": "stream",
     "text": [
      "mutated [1631.6 1807.4 1299.8]\n",
      "candidate [1632 1862 1408]\n",
      "x [1632 1862 1408]\n"
     ]
    },
    {
     "name": "stderr",
     "output_type": "stream",
     "text": [
      "\r",
      " 15%|██████▍                                    | 3/20 [05:37<31:53, 112.58s/it]"
     ]
    },
    {
     "name": "stdout",
     "output_type": "stream",
     "text": [
      "mutated [1394.6 1510.6 1323.2]\n",
      "candidate [1395 1511 1408]\n",
      "x [1395 1511 1408]\n"
     ]
    },
    {
     "name": "stderr",
     "output_type": "stream",
     "text": [
      "\r",
      " 20%|████████▌                                  | 4/20 [07:04<27:21, 102.58s/it]"
     ]
    },
    {
     "name": "stdout",
     "output_type": "stream",
     "text": [
      "mutated [1837.8 1255.4 1183.4]\n",
      "candidate [1838 1255 1183]\n",
      "x [1838 1255 1183]\n"
     ]
    },
    {
     "name": "stderr",
     "output_type": "stream",
     "text": [
      "\r",
      " 25%|███████████                                 | 5/20 [08:34<24:30, 98.03s/it]"
     ]
    },
    {
     "name": "stdout",
     "output_type": "stream",
     "text": [
      "mutated [1701.4 2024.2 1310.0]\n",
      "candidate [1705 2109 1433]\n",
      "x [1705 2109 1433]\n"
     ]
    },
    {
     "name": "stderr",
     "output_type": "stream",
     "text": [
      "\r",
      " 30%|████████████▉                              | 6/20 [10:40<25:05, 107.53s/it]"
     ]
    },
    {
     "name": "stdout",
     "output_type": "stream",
     "text": [
      "mutated [2093.2 1273.8 1207.4]\n",
      "candidate [1587 2024 1326]\n",
      "x [1587 2024 1326]\n"
     ]
    },
    {
     "name": "stderr",
     "output_type": "stream",
     "text": [
      "\r",
      " 35%|███████████████                            | 7/20 [12:31<23:31, 108.56s/it]"
     ]
    },
    {
     "name": "stdout",
     "output_type": "stream",
     "text": [
      "mutated [1583.8 2027.4 1330.4]\n",
      "candidate [1584 2027 1330]\n",
      "x [1584 2027 1330]\n"
     ]
    },
    {
     "name": "stderr",
     "output_type": "stream",
     "text": [
      "\r",
      " 40%|█████████████████▏                         | 8/20 [14:19<21:41, 108.43s/it]"
     ]
    },
    {
     "name": "stdout",
     "output_type": "stream",
     "text": [
      "mutated [1529.4 1324.4 1279.8]\n",
      "candidate [1529 1324 1280]\n",
      "x [1529 1324 1280]\n"
     ]
    },
    {
     "name": "stderr",
     "output_type": "stream",
     "text": [
      "\r",
      " 45%|███████████████████▊                        | 9/20 [15:38<18:11, 99.27s/it]"
     ]
    },
    {
     "name": "stdout",
     "output_type": "stream",
     "text": [
      "mutated [2060.8 1246.2 1288.2]\n",
      "candidate [2061 2109 1433]\n",
      "x [2061 2109 1433]\n"
     ]
    },
    {
     "name": "stderr",
     "output_type": "stream",
     "text": [
      "\r",
      " 50%|█████████████████████                     | 10/20 [17:52<18:19, 109.96s/it]"
     ]
    },
    {
     "name": "stdout",
     "output_type": "stream",
     "text": [
      "mutated [1352.8 1427.0 1366.4]\n",
      "candidate [1949 1427 1257]\n",
      "x [1949 1427 1257]\n"
     ]
    },
    {
     "name": "stderr",
     "output_type": "stream",
     "text": [
      "\r",
      " 55%|███████████████████████                   | 11/20 [19:32<16:03, 107.04s/it]"
     ]
    },
    {
     "name": "stdout",
     "output_type": "stream",
     "text": [
      "mutated [2060.0 2134.4 1433.6]\n",
      "candidate [2060 2134 1257]\n",
      "x [2060 2134 1257]\n"
     ]
    },
    {
     "name": "stderr",
     "output_type": "stream",
     "text": [
      "\r",
      " 60%|█████████████████████████▏                | 12/20 [21:43<15:14, 114.25s/it]"
     ]
    },
    {
     "name": "stdout",
     "output_type": "stream",
     "text": [
      "mutated [2063.4 1427.2 1241.0]\n",
      "candidate [1908 1427 1295]\n",
      "x [1908 1427 1295]\n"
     ]
    },
    {
     "name": "stderr",
     "output_type": "stream",
     "text": [
      "\r",
      " 65%|███████████████████████████▎              | 13/20 [23:16<12:34, 107.78s/it]"
     ]
    },
    {
     "name": "stdout",
     "output_type": "stream",
     "text": [
      "mutated [2001.4 1326.2 1281.8]\n",
      "candidate [1458 1421 1282]\n",
      "x [1458 1421 1282]\n"
     ]
    },
    {
     "name": "stderr",
     "output_type": "stream",
     "text": [
      "\r",
      " 70%|██████████████████████████████             | 14/20 [24:34<09:53, 98.95s/it]"
     ]
    },
    {
     "name": "stdout",
     "output_type": "stream",
     "text": [
      "mutated [1539.6 1851.2 1315.2]\n",
      "candidate [1540 1851 1315]\n",
      "x [1540 1851 1315]\n"
     ]
    },
    {
     "name": "stderr",
     "output_type": "stream",
     "text": [
      "\r",
      " 75%|████████████████████████████████▎          | 15/20 [26:10<08:10, 98.10s/it]"
     ]
    },
    {
     "name": "stdout",
     "output_type": "stream",
     "text": [
      "mutated [1570.0 2010.6 1319.6]\n",
      "candidate [1570 1706 1320]\n",
      "x [1570 1706 1320]\n"
     ]
    },
    {
     "name": "stderr",
     "output_type": "stream",
     "text": [
      "\r",
      " 80%|██████████████████████████████████▍        | 16/20 [27:47<06:30, 97.74s/it]"
     ]
    },
    {
     "name": "stdout",
     "output_type": "stream",
     "text": [
      "mutated [1924.6 1458.6 1273.4]\n",
      "candidate [1925 1202 1181]\n",
      "x [1925 1202 1181]\n"
     ]
    },
    {
     "name": "stderr",
     "output_type": "stream",
     "text": [
      "\r",
      " 85%|████████████████████████████████████▌      | 17/20 [29:17<04:45, 95.31s/it]"
     ]
    },
    {
     "name": "stdout",
     "output_type": "stream",
     "text": [
      "mutated [1501.8 1570.4 1368.6]\n",
      "candidate [1502 1269 1213]\n",
      "x [1502 1269 1213]\n"
     ]
    },
    {
     "name": "stderr",
     "output_type": "stream",
     "text": [
      "\r",
      " 90%|██████████████████████████████████████▋    | 18/20 [30:31<02:57, 88.76s/it]"
     ]
    },
    {
     "name": "stdout",
     "output_type": "stream",
     "text": [
      "mutated [1511.0 1236.6 1229.4]\n",
      "candidate [2083 1237 1229]\n",
      "x [2083 1237 1229]\n"
     ]
    },
    {
     "name": "stderr",
     "output_type": "stream",
     "text": [
      "\r",
      " 95%|████████████████████████████████████████▊  | 19/20 [32:01<01:29, 89.22s/it]"
     ]
    },
    {
     "name": "stdout",
     "output_type": "stream",
     "text": [
      "mutated [2057.2 2069.8 1255.0]\n",
      "candidate [2057 1837 1454]\n",
      "x [2057 1837 1454]\n"
     ]
    },
    {
     "name": "stderr",
     "output_type": "stream",
     "text": [
      "100%|██████████████████████████████████████████| 20/20 [33:58<00:00, 101.92s/it]\n",
      "  0%|                                                    | 0/20 [00:00<?, ?it/s]"
     ]
    },
    {
     "name": "stdout",
     "output_type": "stream",
     "text": [
      "[[1592 1897 1323]\n",
      " [1838 1255 1183]\n",
      " [2061 2109 1433]\n",
      " [1755 1199 1225]\n",
      " [1494 1689 1225]\n",
      " [2060 2134 1257]\n",
      " [1751 1862 1408]\n",
      " [1751 1862 1408]\n",
      " [1674 2118 1316]\n",
      " [1908 1427 1295]\n",
      " [1705 2109 1433]\n",
      " [1587 2024 1326]\n",
      " [1908 1156 1449]\n",
      " [1949 1414 1292]\n",
      " [1395 1511 1408]\n",
      " [1705 2109 1433]\n",
      " [1949 1414 1257]\n",
      " [2030 1329 1257]\n",
      " [1908 1156 1295]\n",
      " [1458 1421 1293]]\n",
      "Generation: 3\tBest fitness: 0.017656367272138596\n",
      "mutated [1724.8 1166.0 1176.6]\n",
      "candidate [1725 1166 1177]\n",
      "x [1725 1166 1177]\n"
     ]
    },
    {
     "name": "stderr",
     "output_type": "stream",
     "text": [
      "\r",
      "  5%|██▏                                         | 1/20 [01:14<23:44, 74.97s/it]"
     ]
    },
    {
     "name": "stdout",
     "output_type": "stream",
     "text": [
      "mutated [2011.2 2273.0 1285.2]\n",
      "candidate [2011 1255 1285]\n",
      "x [2011 1255 1285]\n"
     ]
    },
    {
     "name": "stderr",
     "output_type": "stream",
     "text": [
      "\r",
      " 10%|████▍                                       | 2/20 [02:47<25:40, 85.56s/it]"
     ]
    },
    {
     "name": "stdout",
     "output_type": "stream",
     "text": [
      "mutated [1846.0 1144.0 1238.4]\n",
      "candidate [2061 1144 1433]\n",
      "x [2061 1144 1433]\n"
     ]
    },
    {
     "name": "stderr",
     "output_type": "stream",
     "text": [
      "\r",
      " 15%|██████▌                                     | 3/20 [04:15<24:27, 86.34s/it]"
     ]
    },
    {
     "name": "stdout",
     "output_type": "stream",
     "text": [
      "mutated [1988.8 1111.0 1292.0]\n",
      "candidate [1989 1199 1225]\n",
      "x [1989 1199 1225]\n"
     ]
    },
    {
     "name": "stderr",
     "output_type": "stream",
     "text": [
      "\r",
      " 20%|████████▊                                   | 4/20 [05:46<23:29, 88.12s/it]"
     ]
    },
    {
     "name": "stdout",
     "output_type": "stream",
     "text": [
      "mutated [1743.4 2211.6 1416.6]\n",
      "candidate [1743 2212 1225]\n",
      "x [1743 2212 1225]\n"
     ]
    },
    {
     "name": "stderr",
     "output_type": "stream",
     "text": [
      "\r",
      " 25%|███████████                                 | 5/20 [07:42<24:35, 98.39s/it]"
     ]
    },
    {
     "name": "stdout",
     "output_type": "stream",
     "text": [
      "mutated [1662.4 2001.0 1421.8]\n",
      "candidate [2060 2001 1257]\n",
      "x [2060 2001 1257]\n"
     ]
    },
    {
     "name": "stderr",
     "output_type": "stream",
     "text": [
      "\r",
      " 30%|████████████▉                              | 6/20 [09:42<24:39, 105.69s/it]"
     ]
    },
    {
     "name": "stdout",
     "output_type": "stream",
     "text": [
      "mutated [1672.4 2188.0 1279.4]\n",
      "candidate [1672 1862 1279]\n",
      "x [1672 1862 1279]\n"
     ]
    },
    {
     "name": "stderr",
     "output_type": "stream",
     "text": [
      "\r",
      " 35%|███████████████                            | 7/20 [11:24<22:37, 104.46s/it]"
     ]
    },
    {
     "name": "stdout",
     "output_type": "stream",
     "text": [
      "mutated [2096.6 1999.0 1311.4]\n",
      "candidate [1751 1999 1408]\n",
      "x [1751 1999 1408]\n"
     ]
    },
    {
     "name": "stderr",
     "output_type": "stream",
     "text": [
      "\r",
      " 40%|█████████████████▏                         | 8/20 [13:20<21:38, 108.24s/it]"
     ]
    },
    {
     "name": "stdout",
     "output_type": "stream",
     "text": [
      "mutated [1774.8 1229.4 1444.0]\n",
      "candidate [1775 1229 1316]\n",
      "x [1775 1229 1316]\n"
     ]
    },
    {
     "name": "stderr",
     "output_type": "stream",
     "text": [
      "\r",
      " 45%|███████████████████▎                       | 9/20 [14:48<18:38, 101.67s/it]"
     ]
    },
    {
     "name": "stdout",
     "output_type": "stream",
     "text": [
      "mutated [1904.2 1141.2 1454.6]\n",
      "candidate [1904 1427 1455]\n",
      "x [1904 1427 1455]\n"
     ]
    },
    {
     "name": "stderr",
     "output_type": "stream",
     "text": [
      "\r",
      " 50%|█████████████████████▌                     | 10/20 [16:23<16:38, 99.87s/it]"
     ]
    },
    {
     "name": "stdout",
     "output_type": "stream",
     "text": [
      "mutated [1927.6 1448.4 1326.0]\n",
      "candidate [1928 1448 1433]\n",
      "x [1928 1448 1433]\n"
     ]
    },
    {
     "name": "stderr",
     "output_type": "stream",
     "text": [
      "\r",
      " 55%|███████████████████████▋                   | 11/20 [18:01<14:53, 99.29s/it]"
     ]
    },
    {
     "name": "stdout",
     "output_type": "stream",
     "text": [
      "mutated [2087.0 1483.4 1245.2]\n",
      "candidate [2087 1483 1326]\n",
      "x [2087 1483 1326]\n"
     ]
    },
    {
     "name": "stderr",
     "output_type": "stream",
     "text": [
      "\r",
      " 60%|█████████████████████████▏                | 12/20 [19:50<13:37, 102.14s/it]"
     ]
    },
    {
     "name": "stdout",
     "output_type": "stream",
     "text": [
      "mutated [1934.0 1582.4 1433.0]\n",
      "candidate [1908 1156 1433]\n",
      "x [1908 1156 1433]\n"
     ]
    },
    {
     "name": "stderr",
     "output_type": "stream",
     "text": [
      "\r",
      " 65%|███████████████████████████▉               | 13/20 [21:17<11:23, 97.65s/it]"
     ]
    },
    {
     "name": "stdout",
     "output_type": "stream",
     "text": [
      "mutated [1947.8 1358.6 1218.6]\n",
      "candidate [1948 1359 1292]\n",
      "x [1948 1359 1292]\n"
     ]
    },
    {
     "name": "stderr",
     "output_type": "stream",
     "text": [
      "\r",
      " 70%|██████████████████████████████             | 14/20 [22:56<09:47, 97.98s/it]"
     ]
    },
    {
     "name": "stdout",
     "output_type": "stream",
     "text": [
      "mutated [1954.2 1437.0 1326.6]\n",
      "candidate [1395 1437 1408]\n",
      "x [1395 1437 1408]\n"
     ]
    },
    {
     "name": "stderr",
     "output_type": "stream",
     "text": [
      "\r",
      " 75%|████████████████████████████████▎          | 15/20 [24:16<07:43, 92.69s/it]"
     ]
    },
    {
     "name": "stdout",
     "output_type": "stream",
     "text": [
      "mutated [1989.8 1031.6 1433.0]\n",
      "candidate [1990 2109 1433]\n",
      "x [1990 2109 1433]\n"
     ]
    },
    {
     "name": "stderr",
     "output_type": "stream",
     "text": [
      "\r",
      " 80%|█████████████████████████████████▌        | 16/20 [26:27<06:56, 104.10s/it]"
     ]
    },
    {
     "name": "stdout",
     "output_type": "stream",
     "text": [
      "mutated [1902.8 1467.6 1472.6]\n",
      "candidate [1949 1468 1473]\n",
      "x [1949 1468 1473]\n"
     ]
    },
    {
     "name": "stderr",
     "output_type": "stream",
     "text": [
      "\r",
      " 85%|███████████████████████████████████▋      | 17/20 [28:05<05:06, 102.28s/it]"
     ]
    },
    {
     "name": "stdout",
     "output_type": "stream",
     "text": [
      "mutated [1904.0 1173.8 1323.2]\n",
      "candidate [2030 1329 1323]\n",
      "x [2030 1329 1323]\n"
     ]
    },
    {
     "name": "stderr",
     "output_type": "stream",
     "text": [
      "\r",
      " 90%|█████████████████████████████████████▊    | 18/20 [29:52<03:27, 103.67s/it]"
     ]
    },
    {
     "name": "stdout",
     "output_type": "stream",
     "text": [
      "mutated [1759.0 1843.0 1386.0]\n",
      "candidate [1908 1156 1295]\n",
      "x [1908 1156 1295]\n"
     ]
    },
    {
     "name": "stderr",
     "output_type": "stream",
     "text": [
      "\r",
      " 95%|███████████████████████████████████████▉  | 19/20 [31:27<01:41, 101.14s/it]"
     ]
    },
    {
     "name": "stdout",
     "output_type": "stream",
     "text": [
      "mutated [1352.0 1261.0 1384.6]\n",
      "candidate [1352 1261 1385]\n",
      "x [1352 1261 1385]\n"
     ]
    },
    {
     "name": "stderr",
     "output_type": "stream",
     "text": [
      "100%|███████████████████████████████████████████| 20/20 [32:41<00:00, 98.07s/it]\n",
      "  0%|                                                    | 0/20 [00:00<?, ?it/s]"
     ]
    },
    {
     "name": "stdout",
     "output_type": "stream",
     "text": [
      "[[1592 1897 1323]\n",
      " [2030 1329 1323]\n",
      " [2087 1483 1326]\n",
      " [1838 1255 1183]\n",
      " [1743 2212 1225]\n",
      " [2061 2109 1433]\n",
      " [1755 1199 1225]\n",
      " [1494 1689 1225]\n",
      " [2060 2134 1257]\n",
      " [1751 1862 1408]\n",
      " [1751 1862 1408]\n",
      " [1674 2118 1316]\n",
      " [1908 1156 1433]\n",
      " [1908 1427 1295]\n",
      " [1705 2109 1433]\n",
      " [1587 2024 1326]\n",
      " [1352 1261 1385]\n",
      " [1908 1156 1449]\n",
      " [1949 1414 1292]\n",
      " [1395 1511 1408]]\n",
      "Generation: 4\tBest fitness: 0.017656367272138596\n",
      "mutated [2070.6 1192.6 1295.4]\n",
      "candidate [2071 1193 1295]\n",
      "x [2071 1193 1295]\n"
     ]
    },
    {
     "name": "stderr",
     "output_type": "stream",
     "text": [
      "\r",
      "  5%|██▏                                         | 1/20 [01:34<29:50, 94.21s/it]"
     ]
    },
    {
     "name": "stdout",
     "output_type": "stream",
     "text": [
      "mutated [1763.6 1249.0 1229.6]\n",
      "candidate [2030 1249 1230]\n",
      "x [2030 1249 1230]\n"
     ]
    },
    {
     "name": "stderr",
     "output_type": "stream",
     "text": [
      "\r",
      " 10%|████▍                                       | 2/20 [03:09<28:31, 95.08s/it]"
     ]
    },
    {
     "name": "stdout",
     "output_type": "stream",
     "text": [
      "mutated [1655.2 2004.4 1433.0]\n",
      "candidate [2087 2004 1433]\n",
      "x [2087 2004 1433]\n"
     ]
    },
    {
     "name": "stderr",
     "output_type": "stream",
     "text": [
      "\r",
      " 15%|██████▍                                    | 3/20 [05:16<30:59, 109.37s/it]"
     ]
    },
    {
     "name": "stdout",
     "output_type": "stream",
     "text": [
      "mutated [1877.8 1343.8 1292.0]\n",
      "candidate [1878 1255 1292]\n",
      "x [1878 1255 1292]\n"
     ]
    },
    {
     "name": "stderr",
     "output_type": "stream",
     "text": [
      "\r",
      " 20%|████████▌                                  | 4/20 [06:42<26:42, 100.16s/it]"
     ]
    },
    {
     "name": "stdout",
     "output_type": "stream",
     "text": [
      "mutated [1547.4 2113.6 1349.2]\n",
      "candidate [1547 2212 1225]\n",
      "x [1547 2212 1225]\n"
     ]
    },
    {
     "name": "stderr",
     "output_type": "stream",
     "text": [
      "\r",
      " 25%|██████████▊                                | 5/20 [08:38<26:27, 105.84s/it]"
     ]
    },
    {
     "name": "stdout",
     "output_type": "stream",
     "text": [
      "mutated [1988.4 996.4 1446.4]\n",
      "candidate [1988 2109 1446]\n",
      "x [1988 2109 1446]\n"
     ]
    },
    {
     "name": "stderr",
     "output_type": "stream",
     "text": [
      "\r",
      " 30%|████████████▉                              | 6/20 [10:49<26:44, 114.63s/it]"
     ]
    },
    {
     "name": "stdout",
     "output_type": "stream",
     "text": [
      "mutated [1593.8 2130.0 1420.2]\n",
      "candidate [1594 2130 1225]\n",
      "x [1594 2130 1225]\n"
     ]
    },
    {
     "name": "stderr",
     "output_type": "stream",
     "text": [
      "\r",
      " 35%|███████████████                            | 7/20 [12:39<24:28, 112.95s/it]"
     ]
    },
    {
     "name": "stdout",
     "output_type": "stream",
     "text": [
      "mutated [1319.2 1293.4 1368.6]\n",
      "candidate [1494 1689 1225]\n",
      "x [1494 1689 1225]\n"
     ]
    },
    {
     "name": "stderr",
     "output_type": "stream",
     "text": [
      "\r",
      " 40%|█████████████████▏                         | 8/20 [14:07<21:00, 105.01s/it]"
     ]
    },
    {
     "name": "stdout",
     "output_type": "stream",
     "text": [
      "mutated [1773.2 1458.8 1278.0]\n",
      "candidate [2060 1459 1278]\n",
      "x [2060 1459 1278]\n"
     ]
    },
    {
     "name": "stderr",
     "output_type": "stream",
     "text": [
      "\r",
      " 45%|███████████████████▎                       | 9/20 [15:54<19:21, 105.62s/it]"
     ]
    },
    {
     "name": "stdout",
     "output_type": "stream",
     "text": [
      "mutated [1997.4 2092.6 1446.0]\n",
      "candidate [1997 1862 1446]\n",
      "x [1997 1862 1446]\n"
     ]
    },
    {
     "name": "stderr",
     "output_type": "stream",
     "text": [
      "\r",
      " 50%|█████████████████████                     | 10/20 [17:54<18:19, 109.95s/it]"
     ]
    },
    {
     "name": "stdout",
     "output_type": "stream",
     "text": [
      "mutated [1550.8 1514.0 1238.4]\n",
      "candidate [1551 1514 1238]\n",
      "x [1551 1514 1238]\n"
     ]
    },
    {
     "name": "stderr",
     "output_type": "stream",
     "text": [
      "\r",
      " 55%|███████████████████████                   | 11/20 [19:18<15:19, 102.18s/it]"
     ]
    },
    {
     "name": "stdout",
     "output_type": "stream",
     "text": [
      "mutated [2141.2 1228.0 1242.8]\n",
      "candidate [2141 2118 1316]\n",
      "x [2141 2118 1316]\n"
     ]
    },
    {
     "name": "stderr",
     "output_type": "stream",
     "text": [
      "\r",
      " 60%|█████████████████████████▏                | 12/20 [21:31<14:52, 111.61s/it]"
     ]
    },
    {
     "name": "stdout",
     "output_type": "stream",
     "text": [
      "mutated [1924.8 1522.6 1300.6]\n",
      "candidate [1908 1523 1301]\n",
      "x [1908 1523 1301]\n"
     ]
    },
    {
     "name": "stderr",
     "output_type": "stream",
     "text": [
      "\r",
      " 65%|███████████████████████████▎              | 13/20 [23:08<12:30, 107.22s/it]"
     ]
    },
    {
     "name": "stdout",
     "output_type": "stream",
     "text": [
      "mutated [1846.0 1403.4 1296.0]\n",
      "candidate [1908 1403 1296]\n",
      "x [1908 1403 1296]\n"
     ]
    },
    {
     "name": "stderr",
     "output_type": "stream",
     "text": [
      "\r",
      " 70%|█████████████████████████████▍            | 14/20 [24:40<10:14, 102.38s/it]"
     ]
    },
    {
     "name": "stdout",
     "output_type": "stream",
     "text": [
      "mutated [1637.8 1675.4 1207.0]\n",
      "candidate [1705 1675 1433]\n",
      "x [1705 1675 1433]\n"
     ]
    },
    {
     "name": "stderr",
     "output_type": "stream",
     "text": [
      "\r",
      " 75%|███████████████████████████████▌          | 15/20 [26:21<08:30, 102.08s/it]"
     ]
    },
    {
     "name": "stdout",
     "output_type": "stream",
     "text": [
      "mutated [2011.2 1893.8 1446.0]\n",
      "candidate [2011 2024 1446]\n",
      "x [2011 2024 1446]\n"
     ]
    },
    {
     "name": "stderr",
     "output_type": "stream",
     "text": [
      "\r",
      " 80%|█████████████████████████████████▌        | 16/20 [28:25<07:14, 108.55s/it]"
     ]
    },
    {
     "name": "stdout",
     "output_type": "stream",
     "text": [
      "mutated [1578.0 1727.4 1468.6]\n",
      "candidate [1352 1261 1469]\n",
      "x [1352 1261 1469]\n"
     ]
    },
    {
     "name": "stderr",
     "output_type": "stream",
     "text": [
      "\r",
      " 85%|████████████████████████████████████▌      | 17/20 [29:40<04:56, 98.70s/it]"
     ]
    },
    {
     "name": "stdout",
     "output_type": "stream",
     "text": [
      "mutated [1485.0 1250.6 1443.0]\n",
      "candidate [1908 1251 1449]\n",
      "x [1908 1251 1449]\n"
     ]
    },
    {
     "name": "stderr",
     "output_type": "stream",
     "text": [
      "\r",
      " 90%|██████████████████████████████████████▋    | 18/20 [31:10<03:12, 96.01s/it]"
     ]
    },
    {
     "name": "stdout",
     "output_type": "stream",
     "text": [
      "mutated [2083.8 2056.0 1444.4]\n",
      "candidate [2084 1414 1444]\n",
      "x [2084 1414 1444]\n"
     ]
    },
    {
     "name": "stderr",
     "output_type": "stream",
     "text": [
      "\r",
      " 95%|████████████████████████████████████████▊  | 19/20 [32:52<01:37, 97.65s/it]"
     ]
    },
    {
     "name": "stdout",
     "output_type": "stream",
     "text": [
      "mutated [1980.6 1347.0 1399.8]\n",
      "candidate [1395 1511 1400]\n",
      "x [1395 1511 1400]\n"
     ]
    },
    {
     "name": "stderr",
     "output_type": "stream",
     "text": [
      "100%|██████████████████████████████████████████| 20/20 [34:17<00:00, 102.87s/it]\n"
     ]
    },
    {
     "name": "stdout",
     "output_type": "stream",
     "text": [
      "[[1592 1897 1323]\n",
      " [1594 2130 1225]\n",
      " [2030 1329 1323]\n",
      " [2087 1483 1326]\n",
      " [1395 1511 1400]\n",
      " [1838 1255 1183]\n",
      " [1743 2212 1225]\n",
      " [2061 2109 1433]\n",
      " [1755 1199 1225]\n",
      " [1494 1689 1225]\n",
      " [2060 2134 1257]\n",
      " [1751 1862 1408]\n",
      " [1878 1255 1292]\n",
      " [2011 2024 1446]\n",
      " [1751 1862 1408]\n",
      " [1674 2118 1316]\n",
      " [1908 1156 1433]\n",
      " [1908 1427 1295]\n",
      " [1705 2109 1433]\n",
      " [1587 2024 1326]]\n",
      "Early stop triggered at generation {i} after not improving fitness for three generations\n",
      "--> EVOLUTION FINISHED\n",
      "\n",
      "Elapsed time in minutes: 214.78683703333334\n",
      "[0.01765637 0.01766631 0.01770606 0.01780161 0.01790145 0.01791849\n",
      " 0.01794587 0.01799139 0.01799595 0.01801387 0.01803054 0.01803556\n",
      " 0.01807796 0.0180909  0.01814017 0.0181577  0.0182121  0.01821678\n",
      " 0.01821902 0.0182209 ]\n",
      "0.017656367272138596\n",
      "0\n",
      "\n",
      "Most suitable parameters -- Fitness of 0.017656367272138596:\n",
      "\tNodes layer 1:                 \t1592\n",
      "\tNodes layer 2:                 \t1897\n",
      "\tNodes layer 3:                 \t1323\n",
      "\tSize encoding layer:           \t1125.0\n",
      "\n",
      "Validating solution...\n",
      "x [1592 1897 1323]\n",
      "Solution validated\n"
     ]
    },
    {
     "data": {
      "application/vnd.plotly.v1+json": {
       "config": {
        "plotlyServerURL": "https://plot.ly"
       },
       "data": [
        {
         "mode": "lines",
         "type": "scatter",
         "x": [
          0,
          1,
          2,
          3,
          4,
          5
         ],
         "xaxis": "x",
         "y": [
          0.01799594797194004,
          0.01799594797194004,
          0.017656367272138596,
          0.017656367272138596,
          0.017656367272138596,
          0.017656367272138596
         ],
         "yaxis": "y"
        }
       ],
       "layout": {
        "template": {
         "data": {
          "bar": [
           {
            "error_x": {
             "color": "#2a3f5f"
            },
            "error_y": {
             "color": "#2a3f5f"
            },
            "marker": {
             "line": {
              "color": "#E5ECF6",
              "width": 0.5
             },
             "pattern": {
              "fillmode": "overlay",
              "size": 10,
              "solidity": 0.2
             }
            },
            "type": "bar"
           }
          ],
          "barpolar": [
           {
            "marker": {
             "line": {
              "color": "#E5ECF6",
              "width": 0.5
             },
             "pattern": {
              "fillmode": "overlay",
              "size": 10,
              "solidity": 0.2
             }
            },
            "type": "barpolar"
           }
          ],
          "carpet": [
           {
            "aaxis": {
             "endlinecolor": "#2a3f5f",
             "gridcolor": "white",
             "linecolor": "white",
             "minorgridcolor": "white",
             "startlinecolor": "#2a3f5f"
            },
            "baxis": {
             "endlinecolor": "#2a3f5f",
             "gridcolor": "white",
             "linecolor": "white",
             "minorgridcolor": "white",
             "startlinecolor": "#2a3f5f"
            },
            "type": "carpet"
           }
          ],
          "choropleth": [
           {
            "colorbar": {
             "outlinewidth": 0,
             "ticks": ""
            },
            "type": "choropleth"
           }
          ],
          "contour": [
           {
            "colorbar": {
             "outlinewidth": 0,
             "ticks": ""
            },
            "colorscale": [
             [
              0,
              "#0d0887"
             ],
             [
              0.1111111111111111,
              "#46039f"
             ],
             [
              0.2222222222222222,
              "#7201a8"
             ],
             [
              0.3333333333333333,
              "#9c179e"
             ],
             [
              0.4444444444444444,
              "#bd3786"
             ],
             [
              0.5555555555555556,
              "#d8576b"
             ],
             [
              0.6666666666666666,
              "#ed7953"
             ],
             [
              0.7777777777777778,
              "#fb9f3a"
             ],
             [
              0.8888888888888888,
              "#fdca26"
             ],
             [
              1,
              "#f0f921"
             ]
            ],
            "type": "contour"
           }
          ],
          "contourcarpet": [
           {
            "colorbar": {
             "outlinewidth": 0,
             "ticks": ""
            },
            "type": "contourcarpet"
           }
          ],
          "heatmap": [
           {
            "colorbar": {
             "outlinewidth": 0,
             "ticks": ""
            },
            "colorscale": [
             [
              0,
              "#0d0887"
             ],
             [
              0.1111111111111111,
              "#46039f"
             ],
             [
              0.2222222222222222,
              "#7201a8"
             ],
             [
              0.3333333333333333,
              "#9c179e"
             ],
             [
              0.4444444444444444,
              "#bd3786"
             ],
             [
              0.5555555555555556,
              "#d8576b"
             ],
             [
              0.6666666666666666,
              "#ed7953"
             ],
             [
              0.7777777777777778,
              "#fb9f3a"
             ],
             [
              0.8888888888888888,
              "#fdca26"
             ],
             [
              1,
              "#f0f921"
             ]
            ],
            "type": "heatmap"
           }
          ],
          "heatmapgl": [
           {
            "colorbar": {
             "outlinewidth": 0,
             "ticks": ""
            },
            "colorscale": [
             [
              0,
              "#0d0887"
             ],
             [
              0.1111111111111111,
              "#46039f"
             ],
             [
              0.2222222222222222,
              "#7201a8"
             ],
             [
              0.3333333333333333,
              "#9c179e"
             ],
             [
              0.4444444444444444,
              "#bd3786"
             ],
             [
              0.5555555555555556,
              "#d8576b"
             ],
             [
              0.6666666666666666,
              "#ed7953"
             ],
             [
              0.7777777777777778,
              "#fb9f3a"
             ],
             [
              0.8888888888888888,
              "#fdca26"
             ],
             [
              1,
              "#f0f921"
             ]
            ],
            "type": "heatmapgl"
           }
          ],
          "histogram": [
           {
            "marker": {
             "pattern": {
              "fillmode": "overlay",
              "size": 10,
              "solidity": 0.2
             }
            },
            "type": "histogram"
           }
          ],
          "histogram2d": [
           {
            "colorbar": {
             "outlinewidth": 0,
             "ticks": ""
            },
            "colorscale": [
             [
              0,
              "#0d0887"
             ],
             [
              0.1111111111111111,
              "#46039f"
             ],
             [
              0.2222222222222222,
              "#7201a8"
             ],
             [
              0.3333333333333333,
              "#9c179e"
             ],
             [
              0.4444444444444444,
              "#bd3786"
             ],
             [
              0.5555555555555556,
              "#d8576b"
             ],
             [
              0.6666666666666666,
              "#ed7953"
             ],
             [
              0.7777777777777778,
              "#fb9f3a"
             ],
             [
              0.8888888888888888,
              "#fdca26"
             ],
             [
              1,
              "#f0f921"
             ]
            ],
            "type": "histogram2d"
           }
          ],
          "histogram2dcontour": [
           {
            "colorbar": {
             "outlinewidth": 0,
             "ticks": ""
            },
            "colorscale": [
             [
              0,
              "#0d0887"
             ],
             [
              0.1111111111111111,
              "#46039f"
             ],
             [
              0.2222222222222222,
              "#7201a8"
             ],
             [
              0.3333333333333333,
              "#9c179e"
             ],
             [
              0.4444444444444444,
              "#bd3786"
             ],
             [
              0.5555555555555556,
              "#d8576b"
             ],
             [
              0.6666666666666666,
              "#ed7953"
             ],
             [
              0.7777777777777778,
              "#fb9f3a"
             ],
             [
              0.8888888888888888,
              "#fdca26"
             ],
             [
              1,
              "#f0f921"
             ]
            ],
            "type": "histogram2dcontour"
           }
          ],
          "mesh3d": [
           {
            "colorbar": {
             "outlinewidth": 0,
             "ticks": ""
            },
            "type": "mesh3d"
           }
          ],
          "parcoords": [
           {
            "line": {
             "colorbar": {
              "outlinewidth": 0,
              "ticks": ""
             }
            },
            "type": "parcoords"
           }
          ],
          "pie": [
           {
            "automargin": true,
            "type": "pie"
           }
          ],
          "scatter": [
           {
            "marker": {
             "colorbar": {
              "outlinewidth": 0,
              "ticks": ""
             }
            },
            "type": "scatter"
           }
          ],
          "scatter3d": [
           {
            "line": {
             "colorbar": {
              "outlinewidth": 0,
              "ticks": ""
             }
            },
            "marker": {
             "colorbar": {
              "outlinewidth": 0,
              "ticks": ""
             }
            },
            "type": "scatter3d"
           }
          ],
          "scattercarpet": [
           {
            "marker": {
             "colorbar": {
              "outlinewidth": 0,
              "ticks": ""
             }
            },
            "type": "scattercarpet"
           }
          ],
          "scattergeo": [
           {
            "marker": {
             "colorbar": {
              "outlinewidth": 0,
              "ticks": ""
             }
            },
            "type": "scattergeo"
           }
          ],
          "scattergl": [
           {
            "marker": {
             "colorbar": {
              "outlinewidth": 0,
              "ticks": ""
             }
            },
            "type": "scattergl"
           }
          ],
          "scattermapbox": [
           {
            "marker": {
             "colorbar": {
              "outlinewidth": 0,
              "ticks": ""
             }
            },
            "type": "scattermapbox"
           }
          ],
          "scatterpolar": [
           {
            "marker": {
             "colorbar": {
              "outlinewidth": 0,
              "ticks": ""
             }
            },
            "type": "scatterpolar"
           }
          ],
          "scatterpolargl": [
           {
            "marker": {
             "colorbar": {
              "outlinewidth": 0,
              "ticks": ""
             }
            },
            "type": "scatterpolargl"
           }
          ],
          "scatterternary": [
           {
            "marker": {
             "colorbar": {
              "outlinewidth": 0,
              "ticks": ""
             }
            },
            "type": "scatterternary"
           }
          ],
          "surface": [
           {
            "colorbar": {
             "outlinewidth": 0,
             "ticks": ""
            },
            "colorscale": [
             [
              0,
              "#0d0887"
             ],
             [
              0.1111111111111111,
              "#46039f"
             ],
             [
              0.2222222222222222,
              "#7201a8"
             ],
             [
              0.3333333333333333,
              "#9c179e"
             ],
             [
              0.4444444444444444,
              "#bd3786"
             ],
             [
              0.5555555555555556,
              "#d8576b"
             ],
             [
              0.6666666666666666,
              "#ed7953"
             ],
             [
              0.7777777777777778,
              "#fb9f3a"
             ],
             [
              0.8888888888888888,
              "#fdca26"
             ],
             [
              1,
              "#f0f921"
             ]
            ],
            "type": "surface"
           }
          ],
          "table": [
           {
            "cells": {
             "fill": {
              "color": "#EBF0F8"
             },
             "line": {
              "color": "white"
             }
            },
            "header": {
             "fill": {
              "color": "#C8D4E3"
             },
             "line": {
              "color": "white"
             }
            },
            "type": "table"
           }
          ]
         },
         "layout": {
          "annotationdefaults": {
           "arrowcolor": "#2a3f5f",
           "arrowhead": 0,
           "arrowwidth": 1
          },
          "autotypenumbers": "strict",
          "coloraxis": {
           "colorbar": {
            "outlinewidth": 0,
            "ticks": ""
           }
          },
          "colorscale": {
           "diverging": [
            [
             0,
             "#8e0152"
            ],
            [
             0.1,
             "#c51b7d"
            ],
            [
             0.2,
             "#de77ae"
            ],
            [
             0.3,
             "#f1b6da"
            ],
            [
             0.4,
             "#fde0ef"
            ],
            [
             0.5,
             "#f7f7f7"
            ],
            [
             0.6,
             "#e6f5d0"
            ],
            [
             0.7,
             "#b8e186"
            ],
            [
             0.8,
             "#7fbc41"
            ],
            [
             0.9,
             "#4d9221"
            ],
            [
             1,
             "#276419"
            ]
           ],
           "sequential": [
            [
             0,
             "#0d0887"
            ],
            [
             0.1111111111111111,
             "#46039f"
            ],
            [
             0.2222222222222222,
             "#7201a8"
            ],
            [
             0.3333333333333333,
             "#9c179e"
            ],
            [
             0.4444444444444444,
             "#bd3786"
            ],
            [
             0.5555555555555556,
             "#d8576b"
            ],
            [
             0.6666666666666666,
             "#ed7953"
            ],
            [
             0.7777777777777778,
             "#fb9f3a"
            ],
            [
             0.8888888888888888,
             "#fdca26"
            ],
            [
             1,
             "#f0f921"
            ]
           ],
           "sequentialminus": [
            [
             0,
             "#0d0887"
            ],
            [
             0.1111111111111111,
             "#46039f"
            ],
            [
             0.2222222222222222,
             "#7201a8"
            ],
            [
             0.3333333333333333,
             "#9c179e"
            ],
            [
             0.4444444444444444,
             "#bd3786"
            ],
            [
             0.5555555555555556,
             "#d8576b"
            ],
            [
             0.6666666666666666,
             "#ed7953"
            ],
            [
             0.7777777777777778,
             "#fb9f3a"
            ],
            [
             0.8888888888888888,
             "#fdca26"
            ],
            [
             1,
             "#f0f921"
            ]
           ]
          },
          "colorway": [
           "#636efa",
           "#EF553B",
           "#00cc96",
           "#ab63fa",
           "#FFA15A",
           "#19d3f3",
           "#FF6692",
           "#B6E880",
           "#FF97FF",
           "#FECB52"
          ],
          "font": {
           "color": "#2a3f5f"
          },
          "geo": {
           "bgcolor": "white",
           "lakecolor": "white",
           "landcolor": "#E5ECF6",
           "showlakes": true,
           "showland": true,
           "subunitcolor": "white"
          },
          "hoverlabel": {
           "align": "left"
          },
          "hovermode": "closest",
          "mapbox": {
           "style": "light"
          },
          "paper_bgcolor": "white",
          "plot_bgcolor": "#E5ECF6",
          "polar": {
           "angularaxis": {
            "gridcolor": "white",
            "linecolor": "white",
            "ticks": ""
           },
           "bgcolor": "#E5ECF6",
           "radialaxis": {
            "gridcolor": "white",
            "linecolor": "white",
            "ticks": ""
           }
          },
          "scene": {
           "xaxis": {
            "backgroundcolor": "#E5ECF6",
            "gridcolor": "white",
            "gridwidth": 2,
            "linecolor": "white",
            "showbackground": true,
            "ticks": "",
            "zerolinecolor": "white"
           },
           "yaxis": {
            "backgroundcolor": "#E5ECF6",
            "gridcolor": "white",
            "gridwidth": 2,
            "linecolor": "white",
            "showbackground": true,
            "ticks": "",
            "zerolinecolor": "white"
           },
           "zaxis": {
            "backgroundcolor": "#E5ECF6",
            "gridcolor": "white",
            "gridwidth": 2,
            "linecolor": "white",
            "showbackground": true,
            "ticks": "",
            "zerolinecolor": "white"
           }
          },
          "shapedefaults": {
           "line": {
            "color": "#2a3f5f"
           }
          },
          "ternary": {
           "aaxis": {
            "gridcolor": "white",
            "linecolor": "white",
            "ticks": ""
           },
           "baxis": {
            "gridcolor": "white",
            "linecolor": "white",
            "ticks": ""
           },
           "bgcolor": "#E5ECF6",
           "caxis": {
            "gridcolor": "white",
            "linecolor": "white",
            "ticks": ""
           }
          },
          "title": {
           "x": 0.05
          },
          "xaxis": {
           "automargin": true,
           "gridcolor": "white",
           "linecolor": "white",
           "ticks": "",
           "title": {
            "standoff": 15
           },
           "zerolinecolor": "white",
           "zerolinewidth": 2
          },
          "yaxis": {
           "automargin": true,
           "gridcolor": "white",
           "linecolor": "white",
           "ticks": "",
           "title": {
            "standoff": 15
           },
           "zerolinecolor": "white",
           "zerolinewidth": 2
          }
         }
        },
        "title": {
         "text": "Fitness Over Autoencoder Tuning Generations"
        },
        "xaxis": {
         "anchor": "y",
         "domain": [
          0,
          1
         ],
         "title": {
          "text": "Generation"
         }
        },
        "yaxis": {
         "anchor": "x",
         "domain": [
          0,
          1
         ],
         "title": {
          "text": "Validation Loss"
         }
        }
       }
      },
      "text/html": [
       "<div>                            <div id=\"5f3f8ac3-8d9b-4902-8c56-6bacd3954f2a\" class=\"plotly-graph-div\" style=\"height:525px; width:100%;\"></div>            <script type=\"text/javascript\">                require([\"plotly\"], function(Plotly) {                    window.PLOTLYENV=window.PLOTLYENV || {};                                    if (document.getElementById(\"5f3f8ac3-8d9b-4902-8c56-6bacd3954f2a\")) {                    Plotly.newPlot(                        \"5f3f8ac3-8d9b-4902-8c56-6bacd3954f2a\",                        [{\"mode\":\"lines\",\"type\":\"scatter\",\"x\":[0,1,2,3,4,5],\"xaxis\":\"x\",\"y\":[0.01799594797194004,0.01799594797194004,0.017656367272138596,0.017656367272138596,0.017656367272138596,0.017656367272138596],\"yaxis\":\"y\"}],                        {\"template\":{\"data\":{\"bar\":[{\"error_x\":{\"color\":\"#2a3f5f\"},\"error_y\":{\"color\":\"#2a3f5f\"},\"marker\":{\"line\":{\"color\":\"#E5ECF6\",\"width\":0.5},\"pattern\":{\"fillmode\":\"overlay\",\"size\":10,\"solidity\":0.2}},\"type\":\"bar\"}],\"barpolar\":[{\"marker\":{\"line\":{\"color\":\"#E5ECF6\",\"width\":0.5},\"pattern\":{\"fillmode\":\"overlay\",\"size\":10,\"solidity\":0.2}},\"type\":\"barpolar\"}],\"carpet\":[{\"aaxis\":{\"endlinecolor\":\"#2a3f5f\",\"gridcolor\":\"white\",\"linecolor\":\"white\",\"minorgridcolor\":\"white\",\"startlinecolor\":\"#2a3f5f\"},\"baxis\":{\"endlinecolor\":\"#2a3f5f\",\"gridcolor\":\"white\",\"linecolor\":\"white\",\"minorgridcolor\":\"white\",\"startlinecolor\":\"#2a3f5f\"},\"type\":\"carpet\"}],\"choropleth\":[{\"colorbar\":{\"outlinewidth\":0,\"ticks\":\"\"},\"type\":\"choropleth\"}],\"contour\":[{\"colorbar\":{\"outlinewidth\":0,\"ticks\":\"\"},\"colorscale\":[[0.0,\"#0d0887\"],[0.1111111111111111,\"#46039f\"],[0.2222222222222222,\"#7201a8\"],[0.3333333333333333,\"#9c179e\"],[0.4444444444444444,\"#bd3786\"],[0.5555555555555556,\"#d8576b\"],[0.6666666666666666,\"#ed7953\"],[0.7777777777777778,\"#fb9f3a\"],[0.8888888888888888,\"#fdca26\"],[1.0,\"#f0f921\"]],\"type\":\"contour\"}],\"contourcarpet\":[{\"colorbar\":{\"outlinewidth\":0,\"ticks\":\"\"},\"type\":\"contourcarpet\"}],\"heatmap\":[{\"colorbar\":{\"outlinewidth\":0,\"ticks\":\"\"},\"colorscale\":[[0.0,\"#0d0887\"],[0.1111111111111111,\"#46039f\"],[0.2222222222222222,\"#7201a8\"],[0.3333333333333333,\"#9c179e\"],[0.4444444444444444,\"#bd3786\"],[0.5555555555555556,\"#d8576b\"],[0.6666666666666666,\"#ed7953\"],[0.7777777777777778,\"#fb9f3a\"],[0.8888888888888888,\"#fdca26\"],[1.0,\"#f0f921\"]],\"type\":\"heatmap\"}],\"heatmapgl\":[{\"colorbar\":{\"outlinewidth\":0,\"ticks\":\"\"},\"colorscale\":[[0.0,\"#0d0887\"],[0.1111111111111111,\"#46039f\"],[0.2222222222222222,\"#7201a8\"],[0.3333333333333333,\"#9c179e\"],[0.4444444444444444,\"#bd3786\"],[0.5555555555555556,\"#d8576b\"],[0.6666666666666666,\"#ed7953\"],[0.7777777777777778,\"#fb9f3a\"],[0.8888888888888888,\"#fdca26\"],[1.0,\"#f0f921\"]],\"type\":\"heatmapgl\"}],\"histogram\":[{\"marker\":{\"pattern\":{\"fillmode\":\"overlay\",\"size\":10,\"solidity\":0.2}},\"type\":\"histogram\"}],\"histogram2d\":[{\"colorbar\":{\"outlinewidth\":0,\"ticks\":\"\"},\"colorscale\":[[0.0,\"#0d0887\"],[0.1111111111111111,\"#46039f\"],[0.2222222222222222,\"#7201a8\"],[0.3333333333333333,\"#9c179e\"],[0.4444444444444444,\"#bd3786\"],[0.5555555555555556,\"#d8576b\"],[0.6666666666666666,\"#ed7953\"],[0.7777777777777778,\"#fb9f3a\"],[0.8888888888888888,\"#fdca26\"],[1.0,\"#f0f921\"]],\"type\":\"histogram2d\"}],\"histogram2dcontour\":[{\"colorbar\":{\"outlinewidth\":0,\"ticks\":\"\"},\"colorscale\":[[0.0,\"#0d0887\"],[0.1111111111111111,\"#46039f\"],[0.2222222222222222,\"#7201a8\"],[0.3333333333333333,\"#9c179e\"],[0.4444444444444444,\"#bd3786\"],[0.5555555555555556,\"#d8576b\"],[0.6666666666666666,\"#ed7953\"],[0.7777777777777778,\"#fb9f3a\"],[0.8888888888888888,\"#fdca26\"],[1.0,\"#f0f921\"]],\"type\":\"histogram2dcontour\"}],\"mesh3d\":[{\"colorbar\":{\"outlinewidth\":0,\"ticks\":\"\"},\"type\":\"mesh3d\"}],\"parcoords\":[{\"line\":{\"colorbar\":{\"outlinewidth\":0,\"ticks\":\"\"}},\"type\":\"parcoords\"}],\"pie\":[{\"automargin\":true,\"type\":\"pie\"}],\"scatter\":[{\"marker\":{\"colorbar\":{\"outlinewidth\":0,\"ticks\":\"\"}},\"type\":\"scatter\"}],\"scatter3d\":[{\"line\":{\"colorbar\":{\"outlinewidth\":0,\"ticks\":\"\"}},\"marker\":{\"colorbar\":{\"outlinewidth\":0,\"ticks\":\"\"}},\"type\":\"scatter3d\"}],\"scattercarpet\":[{\"marker\":{\"colorbar\":{\"outlinewidth\":0,\"ticks\":\"\"}},\"type\":\"scattercarpet\"}],\"scattergeo\":[{\"marker\":{\"colorbar\":{\"outlinewidth\":0,\"ticks\":\"\"}},\"type\":\"scattergeo\"}],\"scattergl\":[{\"marker\":{\"colorbar\":{\"outlinewidth\":0,\"ticks\":\"\"}},\"type\":\"scattergl\"}],\"scattermapbox\":[{\"marker\":{\"colorbar\":{\"outlinewidth\":0,\"ticks\":\"\"}},\"type\":\"scattermapbox\"}],\"scatterpolar\":[{\"marker\":{\"colorbar\":{\"outlinewidth\":0,\"ticks\":\"\"}},\"type\":\"scatterpolar\"}],\"scatterpolargl\":[{\"marker\":{\"colorbar\":{\"outlinewidth\":0,\"ticks\":\"\"}},\"type\":\"scatterpolargl\"}],\"scatterternary\":[{\"marker\":{\"colorbar\":{\"outlinewidth\":0,\"ticks\":\"\"}},\"type\":\"scatterternary\"}],\"surface\":[{\"colorbar\":{\"outlinewidth\":0,\"ticks\":\"\"},\"colorscale\":[[0.0,\"#0d0887\"],[0.1111111111111111,\"#46039f\"],[0.2222222222222222,\"#7201a8\"],[0.3333333333333333,\"#9c179e\"],[0.4444444444444444,\"#bd3786\"],[0.5555555555555556,\"#d8576b\"],[0.6666666666666666,\"#ed7953\"],[0.7777777777777778,\"#fb9f3a\"],[0.8888888888888888,\"#fdca26\"],[1.0,\"#f0f921\"]],\"type\":\"surface\"}],\"table\":[{\"cells\":{\"fill\":{\"color\":\"#EBF0F8\"},\"line\":{\"color\":\"white\"}},\"header\":{\"fill\":{\"color\":\"#C8D4E3\"},\"line\":{\"color\":\"white\"}},\"type\":\"table\"}]},\"layout\":{\"annotationdefaults\":{\"arrowcolor\":\"#2a3f5f\",\"arrowhead\":0,\"arrowwidth\":1},\"autotypenumbers\":\"strict\",\"coloraxis\":{\"colorbar\":{\"outlinewidth\":0,\"ticks\":\"\"}},\"colorscale\":{\"diverging\":[[0,\"#8e0152\"],[0.1,\"#c51b7d\"],[0.2,\"#de77ae\"],[0.3,\"#f1b6da\"],[0.4,\"#fde0ef\"],[0.5,\"#f7f7f7\"],[0.6,\"#e6f5d0\"],[0.7,\"#b8e186\"],[0.8,\"#7fbc41\"],[0.9,\"#4d9221\"],[1,\"#276419\"]],\"sequential\":[[0.0,\"#0d0887\"],[0.1111111111111111,\"#46039f\"],[0.2222222222222222,\"#7201a8\"],[0.3333333333333333,\"#9c179e\"],[0.4444444444444444,\"#bd3786\"],[0.5555555555555556,\"#d8576b\"],[0.6666666666666666,\"#ed7953\"],[0.7777777777777778,\"#fb9f3a\"],[0.8888888888888888,\"#fdca26\"],[1.0,\"#f0f921\"]],\"sequentialminus\":[[0.0,\"#0d0887\"],[0.1111111111111111,\"#46039f\"],[0.2222222222222222,\"#7201a8\"],[0.3333333333333333,\"#9c179e\"],[0.4444444444444444,\"#bd3786\"],[0.5555555555555556,\"#d8576b\"],[0.6666666666666666,\"#ed7953\"],[0.7777777777777778,\"#fb9f3a\"],[0.8888888888888888,\"#fdca26\"],[1.0,\"#f0f921\"]]},\"colorway\":[\"#636efa\",\"#EF553B\",\"#00cc96\",\"#ab63fa\",\"#FFA15A\",\"#19d3f3\",\"#FF6692\",\"#B6E880\",\"#FF97FF\",\"#FECB52\"],\"font\":{\"color\":\"#2a3f5f\"},\"geo\":{\"bgcolor\":\"white\",\"lakecolor\":\"white\",\"landcolor\":\"#E5ECF6\",\"showlakes\":true,\"showland\":true,\"subunitcolor\":\"white\"},\"hoverlabel\":{\"align\":\"left\"},\"hovermode\":\"closest\",\"mapbox\":{\"style\":\"light\"},\"paper_bgcolor\":\"white\",\"plot_bgcolor\":\"#E5ECF6\",\"polar\":{\"angularaxis\":{\"gridcolor\":\"white\",\"linecolor\":\"white\",\"ticks\":\"\"},\"bgcolor\":\"#E5ECF6\",\"radialaxis\":{\"gridcolor\":\"white\",\"linecolor\":\"white\",\"ticks\":\"\"}},\"scene\":{\"xaxis\":{\"backgroundcolor\":\"#E5ECF6\",\"gridcolor\":\"white\",\"gridwidth\":2,\"linecolor\":\"white\",\"showbackground\":true,\"ticks\":\"\",\"zerolinecolor\":\"white\"},\"yaxis\":{\"backgroundcolor\":\"#E5ECF6\",\"gridcolor\":\"white\",\"gridwidth\":2,\"linecolor\":\"white\",\"showbackground\":true,\"ticks\":\"\",\"zerolinecolor\":\"white\"},\"zaxis\":{\"backgroundcolor\":\"#E5ECF6\",\"gridcolor\":\"white\",\"gridwidth\":2,\"linecolor\":\"white\",\"showbackground\":true,\"ticks\":\"\",\"zerolinecolor\":\"white\"}},\"shapedefaults\":{\"line\":{\"color\":\"#2a3f5f\"}},\"ternary\":{\"aaxis\":{\"gridcolor\":\"white\",\"linecolor\":\"white\",\"ticks\":\"\"},\"baxis\":{\"gridcolor\":\"white\",\"linecolor\":\"white\",\"ticks\":\"\"},\"bgcolor\":\"#E5ECF6\",\"caxis\":{\"gridcolor\":\"white\",\"linecolor\":\"white\",\"ticks\":\"\"}},\"title\":{\"x\":0.05},\"xaxis\":{\"automargin\":true,\"gridcolor\":\"white\",\"linecolor\":\"white\",\"ticks\":\"\",\"title\":{\"standoff\":15},\"zerolinecolor\":\"white\",\"zerolinewidth\":2},\"yaxis\":{\"automargin\":true,\"gridcolor\":\"white\",\"linecolor\":\"white\",\"ticks\":\"\",\"title\":{\"standoff\":15},\"zerolinecolor\":\"white\",\"zerolinewidth\":2}}},\"title\":{\"text\":\"Fitness Over Autoencoder Tuning Generations\"},\"xaxis\":{\"anchor\":\"y\",\"domain\":[0.0,1.0],\"title\":{\"text\":\"Generation\"}},\"yaxis\":{\"anchor\":\"x\",\"domain\":[0.0,1.0],\"title\":{\"text\":\"Validation Loss\"}}},                        {\"responsive\": true}                    ).then(function(){\n",
       "                            \n",
       "var gd = document.getElementById('5f3f8ac3-8d9b-4902-8c56-6bacd3954f2a');\n",
       "var x = new MutationObserver(function (mutations, observer) {{\n",
       "        var display = window.getComputedStyle(gd).display;\n",
       "        if (!display || display === 'none') {{\n",
       "            console.log([gd, 'removed!']);\n",
       "            Plotly.purge(gd);\n",
       "            observer.disconnect();\n",
       "        }}\n",
       "}});\n",
       "\n",
       "// Listen for the removal of the full notebook cells\n",
       "var notebookContainer = gd.closest('#notebook-container');\n",
       "if (notebookContainer) {{\n",
       "    x.observe(notebookContainer, {childList: true});\n",
       "}}\n",
       "\n",
       "// Listen for the clearing of the current output cell\n",
       "var outputEl = gd.closest('.output');\n",
       "if (outputEl) {{\n",
       "    x.observe(outputEl, {childList: true});\n",
       "}}\n",
       "\n",
       "                        })                };                });            </script>        </div>"
      ]
     },
     "metadata": {},
     "output_type": "display_data"
    }
   ],
   "source": [
    "\"\"\"\n",
    "    instance = [activation function, --> one of list\n",
    "        nodes layer 1, --> integer, not 0\n",
    "        nodes layer 2, --> integer, may be 0\n",
    "        nodes layer 3, --> integer, may be 0\n",
    "        batch_normalization, --> binary integer\n",
    "        batch_size --> one of list\n",
    "        ]\n",
    "\"\"\"\n",
    "\n",
    "lookback = 5\n",
    "val_year = 2018\n",
    "test_year = 2019\n",
    "\n",
    "files = {\n",
    "    # varname: filename\n",
    "    \"S&P500\": \"Dataset v3/SP500_combined_data_20220412.csv\",\n",
    "}\n",
    "for file in files:\n",
    "    df = retrieve_data(file, files[file])\n",
    "\n",
    "df = create_classification_data(df, lookback)\n",
    "\n",
    "x_train, y_train, x_val, y_val, x_test, y_test = create_train_val_test(df, val_year, test_year)\n",
    "\n",
    "x_train = scale_data(x_train)\n",
    "x_val = scale_data(x_val)\n",
    "x_test = scale_data(x_test)\n",
    "\n",
    "variables = len(x_train.columns)\n",
    "print(f\"Input size: {variables}\")\n",
    "population_size = 20\n",
    "generations = 10\n",
    "epochs = 40\n",
    "\n",
    "activation_functions = ['ReLU', 'LeakyReLU', 'sigmoid', 'tanh']\n",
    "batch_sizes = [32, 64, 128, 256]\n",
    "\n",
    "ea = EA(population_size, activation_functions, batch_sizes, variables)\n",
    "x = init_population(population_size, activation_functions, batch_sizes, variables)\n",
    "f = evaluate_init_population(ea, x)\n",
    "\n",
    "populations = []\n",
    "populations.append(x)\n",
    "f_best = [f.min()]\n",
    "\n",
    "start_time = datetime.now()\n",
    "\n",
    "print(\"--> STARTING EVOLUTION\")\n",
    "early_stop = 0\n",
    "for i in range(generations):\n",
    "    print(f'Generation: {i}\\tBest fitness: {f.min()}')\n",
    "    x, f = ea.step(x, f)\n",
    "    print(x)\n",
    "    populations.append(x)\n",
    "\n",
    "    if f.min() < f_best[-1]:\n",
    "        f_best.append(f.min())\n",
    "        early_stop = 0\n",
    "    else:\n",
    "        f_best.append(f_best[-1])\n",
    "        early_stop += 1\n",
    "#     extract_population(x, activation_functions, batch_sizes)\n",
    "    if early_stop == 3:\n",
    "        print(\"Early stop triggered at generation {i} after not improving fitness for three generations\")\n",
    "        break\n",
    "print(\"--> EVOLUTION FINISHED\")\n",
    "\n",
    "end_time = datetime.now()\n",
    "evolution_time = end_time - start_time\n",
    "evolution_time_seconds = evolution_time.total_seconds()\n",
    "print(f\"\\nElapsed time in minutes: {evolution_time_seconds/60}\")\n",
    "\n",
    "print(f)\n",
    "print(f.min())\n",
    "index_best_parameters = np.where(f == f.min())[0][0]\n",
    "print(index_best_parameters)\n",
    "print_best(x[index_best_parameters], activation_functions, batch_sizes, f.min())\n",
    "validate_best(x[index_best_parameters], ea)\n",
    "plot_convergence(f_best)"
   ]
  },
  {
   "cell_type": "code",
   "execution_count": null,
   "metadata": {},
   "outputs": [],
   "source": []
  },
  {
   "cell_type": "code",
   "execution_count": null,
   "metadata": {},
   "outputs": [],
   "source": []
  }
 ],
 "metadata": {
  "kernelspec": {
   "display_name": "Python 3 (ipykernel)",
   "language": "python",
   "name": "python3"
  },
  "language_info": {
   "codemirror_mode": {
    "name": "ipython",
    "version": 3
   },
   "file_extension": ".py",
   "mimetype": "text/x-python",
   "name": "python",
   "nbconvert_exporter": "python",
   "pygments_lexer": "ipython3",
   "version": "3.7.4"
  }
 },
 "nbformat": 4,
 "nbformat_minor": 2
}
