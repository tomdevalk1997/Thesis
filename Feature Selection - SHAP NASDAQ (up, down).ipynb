{
 "cells": [
  {
   "cell_type": "code",
   "execution_count": 1,
   "metadata": {},
   "outputs": [],
   "source": [
    "import warnings\n",
    "warnings.simplefilter(action='ignore', category=UserWarning)\n",
    "\n",
    "import pandas as pd\n",
    "import numpy as np\n",
    "from datetime import datetime, timedelta\n",
    "import plotly.graph_objs as go\n",
    "import plotly.express as px\n",
    "from plotly.subplots import make_subplots\n",
    "import gzip\n",
    "from datetime import datetime, timedelta\n",
    "from statistics import mean\n",
    "from sklearn.neural_network import MLPClassifier\n",
    "from sklearn.ensemble import RandomForestClassifier\n",
    "import seaborn as sns\n",
    "import matplotlib.pyplot as plt\n",
    "from tensorflow.keras.models import Model, Sequential\n",
    "from tensorflow.keras.layers import Input, Dense, LeakyReLU, BatchNormalization, ReLU\n",
    "from tensorflow.keras.utils import plot_model\n",
    "from sklearn.preprocessing import MinMaxScaler\n",
    "\n",
    "from probatus.feature_elimination import ShapRFECV\n",
    "from sklearn.model_selection import RandomizedSearchCV\n",
    "import lightgbm\n",
    "\n",
    "from sklearn.metrics import roc_auc_score\n",
    "\n",
    "from probatus.utils import (\n",
    "    BaseFitComputePlotClass,\n",
    "    assure_pandas_series,\n",
    "    calculate_shap_importance,\n",
    "    get_single_scorer,\n",
    "    preprocess_data,\n",
    "    preprocess_labels,\n",
    "    shap_calc,\n",
    ")\n",
    "\n",
    "from joblib import Parallel, delayed\n",
    "from sklearn.base import clone, is_classifier\n",
    "from sklearn.model_selection import check_cv\n",
    "from sklearn.model_selection._search import BaseSearchCV"
   ]
  },
  {
   "cell_type": "code",
   "execution_count": 2,
   "metadata": {},
   "outputs": [],
   "source": [
    "def retrieve_data(varname, filename):\n",
    "    if \"combined\" in filename:\n",
    "        df = pd.read_csv(filename)\n",
    "    else:\n",
    "        df = pd.read_csv(filename, index_col=0)\n",
    "    df[\"Date\"] = pd.to_datetime(df[\"Date\"])\n",
    "    return df"
   ]
  },
  {
   "cell_type": "code",
   "execution_count": 3,
   "metadata": {},
   "outputs": [],
   "source": [
    "files = {\n",
    "    # varname: filename\n",
    "    \"NASDAQ\": \"Dataset v3/nasdaq_combined_data_20220422.csv\",\n",
    "}\n",
    "for file in files:\n",
    "    df = retrieve_data(file, files[file])"
   ]
  },
  {
   "cell_type": "code",
   "execution_count": 4,
   "metadata": {},
   "outputs": [],
   "source": [
    "def create_classification_data(df, lookback, column):\n",
    "    rows = []\n",
    "    columns = ['Date', column] # Date and SP500_relative_change_perc_1 from t-0 are added first as target variables \n",
    "    # create column names based on original with the addition of t-i where i is lookback\n",
    "    for i in range(1, lookback + 1): # starts at 1 since we do not want t-0 variables apart from 'Date' and 'SP500_relative_change_perc_1'\n",
    "        new_columns = df.columns.tolist() # starts at 1 to exclude 'Date' column\n",
    "        for x in range(len(new_columns)):\n",
    "            new_columns[x] = new_columns[x] + \"_t-\" + str(i)\n",
    "        columns = columns + new_columns\n",
    "    \n",
    "    # create lookback data\n",
    "    for i, row in enumerate(df.iterrows()):\n",
    "        if i > lookback: # lookback cannot be determined for earlier rows\n",
    "            new_row = [row[1]['Date'], row[1][column]]\n",
    "#             new_row = [row[1][0], row[1][1]] # add target 'Date' and 'SP500_relative_change_perc_1 '\n",
    "            for x in range(1, lookback + 1): # starts at 1 since we do not want t-0 variables apart from 'Date' and 'SP500_relative_change_perc_1'\n",
    "                add_row = df.iloc[i - x].tolist() # starts at 1 to exclude 'Date' column\n",
    "                new_row = new_row + add_row\n",
    "            rows.append(new_row)\n",
    "    \n",
    "    df2 = pd.DataFrame(rows)\n",
    "    df2.columns = columns\n",
    "                       \n",
    "    for col in columns:\n",
    "        if col[:4] == \"Date\" and col != \"Date\":\n",
    "            df2 = df2.drop([col], axis=1)\n",
    "    return df2\n",
    "\n",
    "def create_train_val_test(df, year_val, year_test, perc_train=None):\n",
    "    # assumes years_train < year_val < year_test\n",
    "    df[\"Date\"] = pd.to_datetime(df[\"Date\"])\n",
    "        \n",
    "    val = df[df['Date'].dt.year == year_val]\n",
    "    test = df[df['Date'].dt.year == year_test]\n",
    "    train = df[df['Date'].dt.year < year_val]\n",
    "    y_train = train['NASDAQ_relative_change_perc_1']\n",
    "    x_train = train.drop(['NASDAQ_relative_change_perc_1'], axis=1)\n",
    "    \n",
    "    y_val = val['NASDAQ_relative_change_perc_1']\n",
    "    x_val = val.drop(['NASDAQ_relative_change_perc_1'], axis=1)\n",
    "    \n",
    "    y_test = test['NASDAQ_relative_change_perc_1']\n",
    "    x_test = test.drop(['NASDAQ_relative_change_perc_1'], axis=1)\n",
    "    \n",
    "    return x_train, y_train, x_val, y_val, x_test, y_test\n",
    "\n",
    "\n",
    "lookback = 12\n",
    "lookback = 3\n",
    "\n",
    "df = create_classification_data(df, lookback, 'NASDAQ_relative_change_perc_1')\n",
    "x_train, y_train, x_val, y_val, x_test, y_test = create_train_val_test(df, 2018, 2019)"
   ]
  },
  {
   "cell_type": "code",
   "execution_count": 5,
   "metadata": {},
   "outputs": [],
   "source": [
    "def scale_data(x):\n",
    "    standard_scaler = MinMaxScaler()\n",
    "    x_scaled = pd.DataFrame(standard_scaler.fit_transform(x), columns=x.columns)\n",
    "    return x_scaled\n",
    "\n",
    "def label_data(y):\n",
    "    positives = []\n",
    "    negatives = []\n",
    "    y = list(y)\n",
    "    \n",
    "    labels = []\n",
    "    for dev in y:\n",
    "        if dev >= 0:\n",
    "            labels.append(1)\n",
    "        else:\n",
    "            labels.append(0)\n",
    "    return labels\n",
    "\n",
    "y_train = label_data(y_train)\n",
    "y_val = label_data(y_val)\n",
    "y_test = label_data(y_test)\n",
    "\n",
    "train_date = x_train[['Date']]\n",
    "x_train = x_train.drop(['Date'], axis=1)\n",
    "val_date = x_val[['Date']]\n",
    "x_val = x_val.drop(['Date'], axis=1)\n",
    "test_date = x_test[['Date']]\n",
    "x_test = x_test.drop(['Date'], axis=1)\n",
    "\n",
    "x_train = scale_data(x_train)\n",
    "x_val = scale_data(x_val)\n",
    "x_test = scale_data(x_test)"
   ]
  },
  {
   "cell_type": "code",
   "execution_count": 6,
   "metadata": {},
   "outputs": [],
   "source": [
    "class ShapRFECV(BaseFitComputePlotClass):\n",
    "\n",
    "    def __init__(self, clf, step=1, min_features_to_select=1, cv=None, scoring=\"roc_auc\", n_jobs=-1, verbose=0, random_state=None):\n",
    "        self.clf = clf\n",
    "        if isinstance(self.clf, BaseSearchCV):\n",
    "            self.search_clf = True\n",
    "        else:\n",
    "            self.search_clf = False\n",
    "\n",
    "        if (isinstance(step, int) or isinstance(step, float)) and step > 0:\n",
    "            self.step = step\n",
    "        else:\n",
    "            raise (\n",
    "                ValueError(\n",
    "                    f\"The current value of step = {step} is not allowed. \"\n",
    "                    f\"It needs to be a positive integer or positive float.\"\n",
    "                )\n",
    "            )\n",
    "\n",
    "        if isinstance(min_features_to_select, int) and min_features_to_select > 0:\n",
    "            self.min_features_to_select = min_features_to_select\n",
    "        else:\n",
    "            raise (\n",
    "                ValueError(\n",
    "                    f\"The current value of min_features_to_select = {min_features_to_select} is not allowed. \"\n",
    "                    f\"It needs to be a greater than or equal to 0.\"\n",
    "                )\n",
    "            )\n",
    "\n",
    "        self.cv = cv\n",
    "        self.scorer = get_single_scorer(scoring)\n",
    "        self.random_state = random_state\n",
    "        self.n_jobs = n_jobs\n",
    "        self.report_df = pd.DataFrame([])\n",
    "        self.verbose = verbose\n",
    "\n",
    "    def _get_current_features_to_remove(self, shap_importance_df, columns_to_keep=None):\n",
    "        # Bounding the variable.\n",
    "        num_features_to_remove = 0\n",
    "\n",
    "        # If columns_to_keep is not None, exclude those columns and\n",
    "        # calculate features to remove.\n",
    "        if columns_to_keep is not None:\n",
    "            mask = shap_importance_df.index.isin(columns_to_keep)\n",
    "            shap_importance_df = shap_importance_df[~mask]\n",
    "\n",
    "        # If the step is an int remove n features.\n",
    "        if isinstance(self.step, int):\n",
    "            num_features_to_remove = self._calculate_number_of_features_to_remove(\n",
    "                current_num_of_features=shap_importance_df.shape[0],\n",
    "                num_features_to_remove=self.step,\n",
    "                min_num_features_to_keep=self.min_features_to_select,\n",
    "            )\n",
    "        # If the step is a float remove n * number features that are left, rounded down\n",
    "        elif isinstance(self.step, float):\n",
    "            current_step = int(np.floor(shap_importance_df.shape[0] * self.step))\n",
    "            # The step after rounding down should be at least 1\n",
    "            if current_step < 1:\n",
    "                current_step = 1\n",
    "\n",
    "            num_features_to_remove = self._calculate_number_of_features_to_remove(\n",
    "                current_num_of_features=shap_importance_df.shape[0],\n",
    "                num_features_to_remove=current_step,\n",
    "                min_num_features_to_keep=self.min_features_to_select,\n",
    "            )\n",
    "\n",
    "        if num_features_to_remove == 0:\n",
    "            return []\n",
    "        else:\n",
    "            return shap_importance_df.iloc[-num_features_to_remove:].index.tolist()\n",
    "\n",
    "    @staticmethod\n",
    "    def _calculate_number_of_features_to_remove(current_num_of_features, num_features_to_remove, min_num_features_to_keep):\n",
    "        num_features_after_removal = current_num_of_features - num_features_to_remove\n",
    "        if num_features_after_removal >= min_num_features_to_keep:\n",
    "            num_to_remove = num_features_to_remove\n",
    "        else:\n",
    "            # take all available features minus number of them that should stay\n",
    "            num_to_remove = current_num_of_features - min_num_features_to_keep\n",
    "        return num_to_remove\n",
    "\n",
    "    def _report_current_results( self, round_number, current_features_set, features_to_remove, train_metric_mean, train_metric_std, val_metric_mean, val_metric_std):\n",
    "        current_results = {\n",
    "            \"num_features\": len(current_features_set),\n",
    "            \"features_set\": None,\n",
    "            \"eliminated_features\": None,\n",
    "            \"train_metric_mean\": train_metric_mean,\n",
    "            \"train_metric_std\": train_metric_std,\n",
    "            \"val_metric_mean\": val_metric_mean,\n",
    "            \"val_metric_std\": val_metric_std,\n",
    "        }\n",
    "\n",
    "        current_row = pd.DataFrame(current_results, index=[round_number])\n",
    "        current_row[\"features_set\"] = [current_features_set]\n",
    "        current_row[\"eliminated_features\"] = [features_to_remove]\n",
    "\n",
    "        self.report_df = pd.concat([self.report_df, current_row], axis=0)\n",
    "\n",
    "    def _get_feature_shap_values_per_fold(self, x_train, y_train, x_val, y_val, clf, sample_weight=None, **shap_kwargs):\n",
    "#         X_train, X_val = X.iloc[train_index, :], X.iloc[val_index, :]\n",
    "#         y_train, y_val = y.iloc[train_index], y.iloc[val_index]\n",
    "\n",
    "        if sample_weight is not None:\n",
    "            clf = clf.fit(x_train, y_train, sample_weight=sample_weight.iloc[train_index])\n",
    "        else:\n",
    "            clf = clf.fit(x_train, y_train)\n",
    "\n",
    "        # Score the model\n",
    "        score_train = self.scorer.scorer(clf, x_train, y_train)\n",
    "        score_val = self.scorer.scorer(clf, x_val, y_val)\n",
    "\n",
    "        # Compute SHAP values\n",
    "        shap_values = shap_calc(clf, x_val, verbose=self.verbose, **shap_kwargs)\n",
    "        return shap_values, score_train, score_val\n",
    "\n",
    "#     def fit(self, X, y, sample_weight=None, columns_to_keep=None, column_names=None, groups=None, **shap_kwargs):\n",
    "    def fit(self, x_train, y_train, x_val, y_val, sample_weight=None, columns_to_keep=None, column_names=None, groups=None, **shap_kwargs):\n",
    "        # Set seed for results reproducibility\n",
    "        if self.random_state is not None:\n",
    "            np.random.seed(self.random_state)\n",
    "\n",
    "        # If to columns_to_keep is not provided, then initialise it by an empty string.\n",
    "        # If provided check if all the elements in columns_to_keep are of type string.\n",
    "        if columns_to_keep is None:\n",
    "            len_columns_to_keep = 0\n",
    "        else:\n",
    "            if all(isinstance(x, str) for x in columns_to_keep):\n",
    "                len_columns_to_keep = len(columns_to_keep)\n",
    "            else:\n",
    "                raise (\n",
    "                    ValueError(\n",
    "                        \"The current values of columns_to_keep are not allowed.All the elements should be strings.\"\n",
    "                    )\n",
    "                )\n",
    "\n",
    "        # If the columns_to_keep parameter is provided, check if they match the column names in the X.\n",
    "        if column_names is not None:\n",
    "            if all(x in column_names for x in list(x_train.columns)):\n",
    "                pass\n",
    "            else:\n",
    "                raise (ValueError(\"The column names in parameter columns_to_keep and column_names are not macthing.\"))\n",
    "\n",
    "        # Check that the total number of columns to select is less than total number of columns in the data.\n",
    "        # only when both parameters are provided.\n",
    "        if column_names is not None and columns_to_keep is not None:\n",
    "            if (self.min_features_to_select + len_columns_to_keep) > len(self.column_names):\n",
    "                raise ValueError(\n",
    "                    \"Minimum features to select is greater than number of features.\"\n",
    "                    \"Lower the value for min_features_to_select or number of columns in columns_to_keep\"\n",
    "                )\n",
    "\n",
    "        self.x_train, self.column_names = preprocess_data(x_train, X_name=\"x_train\", column_names=column_names, verbose=self.verbose)\n",
    "        self.x_val, self.column_names = preprocess_data(x_val, X_name=\"x_val\", column_names=column_names, verbose=self.verbose)\n",
    "        self.y_train = preprocess_labels(y_train, y_name=\"y_train\", index=self.x_train.index, verbose=self.verbose)\n",
    "        self.y_val = preprocess_labels(y_val, y_name=\"y_val\", index=self.x_val.index, verbose=self.verbose)\n",
    "        if sample_weight is not None:\n",
    "            if self.verbose > 0:\n",
    "                warnings.warn(\n",
    "                    \"sample_weight is passed only to the fit method of the model, not the evaluation metrics.\"\n",
    "                )\n",
    "            sample_weight = assure_pandas_series(sample_weight, index=self.x_train.index)\n",
    "        self.cv = check_cv(self.cv, self.y_train, classifier=is_classifier(self.clf))\n",
    "\n",
    "        remaining_features = current_features_set = self.column_names\n",
    "        round_number = 0\n",
    "\n",
    "        # Stop when stopping criteria is met.\n",
    "        stopping_criteria = np.max([self.min_features_to_select, len_columns_to_keep])\n",
    "\n",
    "        # Setting up the min_features_to_select parameter.\n",
    "        if columns_to_keep is None:\n",
    "            pass\n",
    "        else:\n",
    "            self.min_features_to_select = 0\n",
    "            # This ensures that, if columns_to_keep is provided ,\n",
    "            # the last features remaining are only the columns_to_keep.\n",
    "            if self.verbose > 50:\n",
    "                warnings.warn(f\"Minimum features to select : {stopping_criteria}\")\n",
    "\n",
    "        while len(current_features_set) > stopping_criteria:\n",
    "            round_number += 1\n",
    "\n",
    "            # Get current dataset info\n",
    "            current_features_set = remaining_features\n",
    "            if columns_to_keep is None:\n",
    "                remaining_removeable_features = list(set(current_features_set))\n",
    "            else:\n",
    "                remaining_removeable_features = list(set(current_features_set) | set(columns_to_keep))\n",
    "            current_x_train = self.x_train[remaining_removeable_features]\n",
    "            current_x_val = self.x_val[remaining_removeable_features]\n",
    "\n",
    "            # Set seed for results reproducibility\n",
    "            if self.random_state is not None:\n",
    "                np.random.seed(self.random_state)\n",
    "\n",
    "            # Optimize parameters\n",
    "            if self.search_clf:\n",
    "                current_search_clf = clone(self.clf).fit(current_x_train, self.y_train)\n",
    "                current_clf = current_search_clf.estimator.set_params(**current_search_clf.best_params_)\n",
    "            else:\n",
    "                current_clf = clone(self.clf)\n",
    "\n",
    "            # Perform CV to estimate feature importance with SHAP\n",
    "        \n",
    "            results_per_fold = self._get_feature_shap_values_per_fold(\n",
    "                    x_train=current_x_train,\n",
    "                    y_train=self.y_train,\n",
    "                    x_val=current_x_val,\n",
    "                    y_val=self.y_val,\n",
    "                    clf=current_clf,\n",
    "                    sample_weight=sample_weight,\n",
    "                    **shap_kwargs,\n",
    "                )\n",
    "            \n",
    "            shap_values = np.vstack([results_per_fold[0]])\n",
    "            scores_train = [results_per_fold[1]]\n",
    "            scores_val = [results_per_fold[2]]            \n",
    "\n",
    "            # Calculate the shap features with remaining features and features to keep.\n",
    "\n",
    "            shap_importance_df = calculate_shap_importance(shap_values, remaining_removeable_features)\n",
    "\n",
    "            # Get features to remove\n",
    "            features_to_remove = self._get_current_features_to_remove(\n",
    "                shap_importance_df, columns_to_keep=columns_to_keep\n",
    "            )\n",
    "            remaining_features = list(set(current_features_set) - set(features_to_remove))\n",
    "\n",
    "            # Report results\n",
    "            self._report_current_results(\n",
    "                round_number=round_number,\n",
    "                current_features_set=current_features_set,\n",
    "                features_to_remove=features_to_remove,\n",
    "                train_metric_mean=np.round(np.mean(scores_train), 3),\n",
    "                train_metric_std=np.round(np.std(scores_train), 3),\n",
    "                val_metric_mean=np.round(np.mean(scores_val), 3),\n",
    "                val_metric_std=np.round(np.std(scores_val), 3),\n",
    "            )\n",
    "            if self.verbose > 50:\n",
    "                print(\n",
    "                    f\"Round: {round_number}, Current number of features: {len(current_features_set)}, \"\n",
    "                    f'Current performance: Train {self.report_df.loc[round_number][\"train_metric_mean\"]} '\n",
    "                    f'+/- {self.report_df.loc[round_number][\"train_metric_std\"]}, CV Validation '\n",
    "                    f'{self.report_df.loc[round_number][\"val_metric_mean\"]} '\n",
    "                    f'+/- {self.report_df.loc[round_number][\"val_metric_std\"]}. \\n'\n",
    "                    f\"Features left: {remaining_features}. \"\n",
    "                    f\"Removed features at the end of the round: {features_to_remove}\"\n",
    "                )\n",
    "        self.fitted = True\n",
    "        return self\n",
    "\n",
    "    def compute(self):\n",
    "        self._check_if_fitted()\n",
    "        return self.report_df\n",
    "\n",
    "    def fit_compute(self, x_train, y_train, x_val, y_val, sample_weight=None, columns_to_keep=None, column_names=None, **shap_kwargs):\n",
    "        self.fit(x_train, y_train, x_val, y_val, sample_weight=sample_weight, columns_to_keep=columns_to_keep, column_names=column_names, **shap_kwargs)\n",
    "        return self.compute()\n",
    "    \n",
    "    def plot(self):\n",
    "        pass"
   ]
  },
  {
   "cell_type": "code",
   "execution_count": 7,
   "metadata": {},
   "outputs": [
    {
     "name": "stderr",
     "output_type": "stream",
     "text": [
      " 67%|██████████████████████████████               | 4/6 [01:42<00:51, 25.65s/it]\n"
     ]
    },
    {
     "ename": "KeyboardInterrupt",
     "evalue": "",
     "output_type": "error",
     "traceback": [
      "\u001b[0;31m---------------------------------------------------------------------------\u001b[0m",
      "\u001b[0;31mKeyboardInterrupt\u001b[0m                         Traceback (most recent call last)",
      "\u001b[0;32m/var/folders/jr/swvxxh453l3_0psw7xssft500000gn/T/ipykernel_49185/1454245328.py\u001b[0m in \u001b[0;36m<module>\u001b[0;34m\u001b[0m\n\u001b[1;32m     18\u001b[0m         \u001b[0;32mfor\u001b[0m \u001b[0mdepth\u001b[0m \u001b[0;32min\u001b[0m \u001b[0mmax_depths\u001b[0m\u001b[0;34m:\u001b[0m\u001b[0;34m\u001b[0m\u001b[0;34m\u001b[0m\u001b[0m\n\u001b[1;32m     19\u001b[0m             \u001b[0mclf\u001b[0m \u001b[0;34m=\u001b[0m \u001b[0mlightgbm\u001b[0m\u001b[0;34m.\u001b[0m\u001b[0mLGBMClassifier\u001b[0m\u001b[0;34m(\u001b[0m\u001b[0mmax_depth\u001b[0m\u001b[0;34m=\u001b[0m\u001b[0mdepth\u001b[0m\u001b[0;34m,\u001b[0m \u001b[0mn_estimators\u001b[0m\u001b[0;34m=\u001b[0m\u001b[0mest\u001b[0m\u001b[0;34m,\u001b[0m \u001b[0mnum_leaves\u001b[0m\u001b[0;34m=\u001b[0m\u001b[0mleav\u001b[0m\u001b[0;34m,\u001b[0m \u001b[0mclass_weight\u001b[0m\u001b[0;34m=\u001b[0m\u001b[0;34m'balanced'\u001b[0m\u001b[0;34m)\u001b[0m\u001b[0;34m\u001b[0m\u001b[0;34m\u001b[0m\u001b[0m\n\u001b[0;32m---> 20\u001b[0;31m             \u001b[0mclf\u001b[0m\u001b[0;34m.\u001b[0m\u001b[0mfit\u001b[0m\u001b[0;34m(\u001b[0m\u001b[0mx_train\u001b[0m\u001b[0;34m,\u001b[0m \u001b[0my_train\u001b[0m\u001b[0;34m,\u001b[0m \u001b[0meval_metric\u001b[0m\u001b[0;34m=\u001b[0m\u001b[0;34m'auc'\u001b[0m\u001b[0;34m)\u001b[0m\u001b[0;34m\u001b[0m\u001b[0;34m\u001b[0m\u001b[0m\n\u001b[0m\u001b[1;32m     21\u001b[0m             \u001b[0my_pred\u001b[0m \u001b[0;34m=\u001b[0m \u001b[0mclf\u001b[0m\u001b[0;34m.\u001b[0m\u001b[0mpredict\u001b[0m\u001b[0;34m(\u001b[0m\u001b[0mx_val\u001b[0m\u001b[0;34m)\u001b[0m\u001b[0;34m\u001b[0m\u001b[0;34m\u001b[0m\u001b[0m\n\u001b[1;32m     22\u001b[0m             \u001b[0mroc\u001b[0m \u001b[0;34m=\u001b[0m \u001b[0mroc_auc_score\u001b[0m\u001b[0;34m(\u001b[0m\u001b[0my_val\u001b[0m\u001b[0;34m,\u001b[0m \u001b[0my_pred\u001b[0m\u001b[0;34m)\u001b[0m\u001b[0;34m\u001b[0m\u001b[0;34m\u001b[0m\u001b[0m\n",
      "\u001b[0;32m/opt/anaconda3/lib/python3.7/site-packages/lightgbm/sklearn.py\u001b[0m in \u001b[0;36mfit\u001b[0;34m(self, X, y, sample_weight, init_score, eval_set, eval_names, eval_sample_weight, eval_class_weight, eval_init_score, eval_metric, early_stopping_rounds, verbose, feature_name, categorical_feature, callbacks, init_model)\u001b[0m\n\u001b[1;32m    893\u001b[0m                     \u001b[0meval_metric\u001b[0m\u001b[0;34m=\u001b[0m\u001b[0meval_metric\u001b[0m\u001b[0;34m,\u001b[0m \u001b[0mearly_stopping_rounds\u001b[0m\u001b[0;34m=\u001b[0m\u001b[0mearly_stopping_rounds\u001b[0m\u001b[0;34m,\u001b[0m\u001b[0;34m\u001b[0m\u001b[0;34m\u001b[0m\u001b[0m\n\u001b[1;32m    894\u001b[0m                     \u001b[0mverbose\u001b[0m\u001b[0;34m=\u001b[0m\u001b[0mverbose\u001b[0m\u001b[0;34m,\u001b[0m \u001b[0mfeature_name\u001b[0m\u001b[0;34m=\u001b[0m\u001b[0mfeature_name\u001b[0m\u001b[0;34m,\u001b[0m \u001b[0mcategorical_feature\u001b[0m\u001b[0;34m=\u001b[0m\u001b[0mcategorical_feature\u001b[0m\u001b[0;34m,\u001b[0m\u001b[0;34m\u001b[0m\u001b[0;34m\u001b[0m\u001b[0m\n\u001b[0;32m--> 895\u001b[0;31m                     callbacks=callbacks, init_model=init_model)\n\u001b[0m\u001b[1;32m    896\u001b[0m         \u001b[0;32mreturn\u001b[0m \u001b[0mself\u001b[0m\u001b[0;34m\u001b[0m\u001b[0;34m\u001b[0m\u001b[0m\n\u001b[1;32m    897\u001b[0m \u001b[0;34m\u001b[0m\u001b[0m\n",
      "\u001b[0;32m/opt/anaconda3/lib/python3.7/site-packages/lightgbm/sklearn.py\u001b[0m in \u001b[0;36mfit\u001b[0;34m(self, X, y, sample_weight, init_score, group, eval_set, eval_names, eval_sample_weight, eval_class_weight, eval_init_score, eval_group, eval_metric, early_stopping_rounds, verbose, feature_name, categorical_feature, callbacks, init_model)\u001b[0m\n\u001b[1;32m    686\u001b[0m                               \u001b[0mevals_result\u001b[0m\u001b[0;34m=\u001b[0m\u001b[0mevals_result\u001b[0m\u001b[0;34m,\u001b[0m \u001b[0mfobj\u001b[0m\u001b[0;34m=\u001b[0m\u001b[0mself\u001b[0m\u001b[0;34m.\u001b[0m\u001b[0m_fobj\u001b[0m\u001b[0;34m,\u001b[0m \u001b[0mfeval\u001b[0m\u001b[0;34m=\u001b[0m\u001b[0meval_metrics_callable\u001b[0m\u001b[0;34m,\u001b[0m\u001b[0;34m\u001b[0m\u001b[0;34m\u001b[0m\u001b[0m\n\u001b[1;32m    687\u001b[0m                               \u001b[0mverbose_eval\u001b[0m\u001b[0;34m=\u001b[0m\u001b[0mverbose\u001b[0m\u001b[0;34m,\u001b[0m \u001b[0mfeature_name\u001b[0m\u001b[0;34m=\u001b[0m\u001b[0mfeature_name\u001b[0m\u001b[0;34m,\u001b[0m\u001b[0;34m\u001b[0m\u001b[0;34m\u001b[0m\u001b[0m\n\u001b[0;32m--> 688\u001b[0;31m                               callbacks=callbacks, init_model=init_model)\n\u001b[0m\u001b[1;32m    689\u001b[0m \u001b[0;34m\u001b[0m\u001b[0m\n\u001b[1;32m    690\u001b[0m         \u001b[0;32mif\u001b[0m \u001b[0mevals_result\u001b[0m\u001b[0;34m:\u001b[0m\u001b[0;34m\u001b[0m\u001b[0;34m\u001b[0m\u001b[0m\n",
      "\u001b[0;32m/opt/anaconda3/lib/python3.7/site-packages/lightgbm/engine.py\u001b[0m in \u001b[0;36mtrain\u001b[0;34m(params, train_set, num_boost_round, valid_sets, valid_names, fobj, feval, init_model, feature_name, categorical_feature, early_stopping_rounds, evals_result, verbose_eval, learning_rates, keep_training_booster, callbacks)\u001b[0m\n\u001b[1;32m    226\u001b[0m     \u001b[0;31m# construct booster\u001b[0m\u001b[0;34m\u001b[0m\u001b[0;34m\u001b[0m\u001b[0;34m\u001b[0m\u001b[0m\n\u001b[1;32m    227\u001b[0m     \u001b[0;32mtry\u001b[0m\u001b[0;34m:\u001b[0m\u001b[0;34m\u001b[0m\u001b[0;34m\u001b[0m\u001b[0m\n\u001b[0;32m--> 228\u001b[0;31m         \u001b[0mbooster\u001b[0m \u001b[0;34m=\u001b[0m \u001b[0mBooster\u001b[0m\u001b[0;34m(\u001b[0m\u001b[0mparams\u001b[0m\u001b[0;34m=\u001b[0m\u001b[0mparams\u001b[0m\u001b[0;34m,\u001b[0m \u001b[0mtrain_set\u001b[0m\u001b[0;34m=\u001b[0m\u001b[0mtrain_set\u001b[0m\u001b[0;34m)\u001b[0m\u001b[0;34m\u001b[0m\u001b[0;34m\u001b[0m\u001b[0m\n\u001b[0m\u001b[1;32m    229\u001b[0m         \u001b[0;32mif\u001b[0m \u001b[0mis_valid_contain_train\u001b[0m\u001b[0;34m:\u001b[0m\u001b[0;34m\u001b[0m\u001b[0;34m\u001b[0m\u001b[0m\n\u001b[1;32m    230\u001b[0m             \u001b[0mbooster\u001b[0m\u001b[0;34m.\u001b[0m\u001b[0mset_train_data_name\u001b[0m\u001b[0;34m(\u001b[0m\u001b[0mtrain_data_name\u001b[0m\u001b[0;34m)\u001b[0m\u001b[0;34m\u001b[0m\u001b[0;34m\u001b[0m\u001b[0m\n",
      "\u001b[0;32m/opt/anaconda3/lib/python3.7/site-packages/lightgbm/basic.py\u001b[0m in \u001b[0;36m__init__\u001b[0;34m(self, params, train_set, model_file, model_str, silent)\u001b[0m\n\u001b[1;32m   2227\u001b[0m                 )\n\u001b[1;32m   2228\u001b[0m             \u001b[0;31m# construct booster object\u001b[0m\u001b[0;34m\u001b[0m\u001b[0;34m\u001b[0m\u001b[0;34m\u001b[0m\u001b[0m\n\u001b[0;32m-> 2229\u001b[0;31m             \u001b[0mtrain_set\u001b[0m\u001b[0;34m.\u001b[0m\u001b[0mconstruct\u001b[0m\u001b[0;34m(\u001b[0m\u001b[0;34m)\u001b[0m\u001b[0;34m\u001b[0m\u001b[0;34m\u001b[0m\u001b[0m\n\u001b[0m\u001b[1;32m   2230\u001b[0m             \u001b[0;31m# copy the parameters from train_set\u001b[0m\u001b[0;34m\u001b[0m\u001b[0;34m\u001b[0m\u001b[0;34m\u001b[0m\u001b[0m\n\u001b[1;32m   2231\u001b[0m             \u001b[0mparams\u001b[0m\u001b[0;34m.\u001b[0m\u001b[0mupdate\u001b[0m\u001b[0;34m(\u001b[0m\u001b[0mtrain_set\u001b[0m\u001b[0;34m.\u001b[0m\u001b[0mget_params\u001b[0m\u001b[0;34m(\u001b[0m\u001b[0;34m)\u001b[0m\u001b[0;34m)\u001b[0m\u001b[0;34m\u001b[0m\u001b[0;34m\u001b[0m\u001b[0m\n",
      "\u001b[0;32m/opt/anaconda3/lib/python3.7/site-packages/lightgbm/basic.py\u001b[0m in \u001b[0;36mconstruct\u001b[0;34m(self)\u001b[0m\n\u001b[1;32m   1470\u001b[0m                                 \u001b[0minit_score\u001b[0m\u001b[0;34m=\u001b[0m\u001b[0mself\u001b[0m\u001b[0;34m.\u001b[0m\u001b[0minit_score\u001b[0m\u001b[0;34m,\u001b[0m \u001b[0mpredictor\u001b[0m\u001b[0;34m=\u001b[0m\u001b[0mself\u001b[0m\u001b[0;34m.\u001b[0m\u001b[0m_predictor\u001b[0m\u001b[0;34m,\u001b[0m\u001b[0;34m\u001b[0m\u001b[0;34m\u001b[0m\u001b[0m\n\u001b[1;32m   1471\u001b[0m                                 \u001b[0msilent\u001b[0m\u001b[0;34m=\u001b[0m\u001b[0mself\u001b[0m\u001b[0;34m.\u001b[0m\u001b[0msilent\u001b[0m\u001b[0;34m,\u001b[0m \u001b[0mfeature_name\u001b[0m\u001b[0;34m=\u001b[0m\u001b[0mself\u001b[0m\u001b[0;34m.\u001b[0m\u001b[0mfeature_name\u001b[0m\u001b[0;34m,\u001b[0m\u001b[0;34m\u001b[0m\u001b[0;34m\u001b[0m\u001b[0m\n\u001b[0;32m-> 1472\u001b[0;31m                                 categorical_feature=self.categorical_feature, params=self.params)\n\u001b[0m\u001b[1;32m   1473\u001b[0m             \u001b[0;32mif\u001b[0m \u001b[0mself\u001b[0m\u001b[0;34m.\u001b[0m\u001b[0mfree_raw_data\u001b[0m\u001b[0;34m:\u001b[0m\u001b[0;34m\u001b[0m\u001b[0;34m\u001b[0m\u001b[0m\n\u001b[1;32m   1474\u001b[0m                 \u001b[0mself\u001b[0m\u001b[0;34m.\u001b[0m\u001b[0mdata\u001b[0m \u001b[0;34m=\u001b[0m \u001b[0;32mNone\u001b[0m\u001b[0;34m\u001b[0m\u001b[0;34m\u001b[0m\u001b[0m\n",
      "\u001b[0;32m/opt/anaconda3/lib/python3.7/site-packages/lightgbm/basic.py\u001b[0m in \u001b[0;36m_lazy_init\u001b[0;34m(self, data, label, reference, weight, group, init_score, predictor, silent, feature_name, categorical_feature, params)\u001b[0m\n\u001b[1;32m   1268\u001b[0m             \u001b[0mself\u001b[0m\u001b[0;34m.\u001b[0m\u001b[0m__init_from_csc\u001b[0m\u001b[0;34m(\u001b[0m\u001b[0mdata\u001b[0m\u001b[0;34m,\u001b[0m \u001b[0mparams_str\u001b[0m\u001b[0;34m,\u001b[0m \u001b[0mref_dataset\u001b[0m\u001b[0;34m)\u001b[0m\u001b[0;34m\u001b[0m\u001b[0;34m\u001b[0m\u001b[0m\n\u001b[1;32m   1269\u001b[0m         \u001b[0;32melif\u001b[0m \u001b[0misinstance\u001b[0m\u001b[0;34m(\u001b[0m\u001b[0mdata\u001b[0m\u001b[0;34m,\u001b[0m \u001b[0mnp\u001b[0m\u001b[0;34m.\u001b[0m\u001b[0mndarray\u001b[0m\u001b[0;34m)\u001b[0m\u001b[0;34m:\u001b[0m\u001b[0;34m\u001b[0m\u001b[0;34m\u001b[0m\u001b[0m\n\u001b[0;32m-> 1270\u001b[0;31m             \u001b[0mself\u001b[0m\u001b[0;34m.\u001b[0m\u001b[0m__init_from_np2d\u001b[0m\u001b[0;34m(\u001b[0m\u001b[0mdata\u001b[0m\u001b[0;34m,\u001b[0m \u001b[0mparams_str\u001b[0m\u001b[0;34m,\u001b[0m \u001b[0mref_dataset\u001b[0m\u001b[0;34m)\u001b[0m\u001b[0;34m\u001b[0m\u001b[0;34m\u001b[0m\u001b[0m\n\u001b[0m\u001b[1;32m   1271\u001b[0m         \u001b[0;32melif\u001b[0m \u001b[0misinstance\u001b[0m\u001b[0;34m(\u001b[0m\u001b[0mdata\u001b[0m\u001b[0;34m,\u001b[0m \u001b[0mlist\u001b[0m\u001b[0;34m)\u001b[0m \u001b[0;32mand\u001b[0m \u001b[0mlen\u001b[0m\u001b[0;34m(\u001b[0m\u001b[0mdata\u001b[0m\u001b[0;34m)\u001b[0m \u001b[0;34m>\u001b[0m \u001b[0;36m0\u001b[0m \u001b[0;32mand\u001b[0m \u001b[0mall\u001b[0m\u001b[0;34m(\u001b[0m\u001b[0misinstance\u001b[0m\u001b[0;34m(\u001b[0m\u001b[0mx\u001b[0m\u001b[0;34m,\u001b[0m \u001b[0mnp\u001b[0m\u001b[0;34m.\u001b[0m\u001b[0mndarray\u001b[0m\u001b[0;34m)\u001b[0m \u001b[0;32mfor\u001b[0m \u001b[0mx\u001b[0m \u001b[0;32min\u001b[0m \u001b[0mdata\u001b[0m\u001b[0;34m)\u001b[0m\u001b[0;34m:\u001b[0m\u001b[0;34m\u001b[0m\u001b[0;34m\u001b[0m\u001b[0m\n\u001b[1;32m   1272\u001b[0m             \u001b[0mself\u001b[0m\u001b[0;34m.\u001b[0m\u001b[0m__init_from_list_np2d\u001b[0m\u001b[0;34m(\u001b[0m\u001b[0mdata\u001b[0m\u001b[0;34m,\u001b[0m \u001b[0mparams_str\u001b[0m\u001b[0;34m,\u001b[0m \u001b[0mref_dataset\u001b[0m\u001b[0;34m)\u001b[0m\u001b[0;34m\u001b[0m\u001b[0;34m\u001b[0m\u001b[0m\n",
      "\u001b[0;32m/opt/anaconda3/lib/python3.7/site-packages/lightgbm/basic.py\u001b[0m in \u001b[0;36m__init_from_np2d\u001b[0;34m(self, mat, params_str, ref_dataset)\u001b[0m\n\u001b[1;32m   1318\u001b[0m             \u001b[0mc_str\u001b[0m\u001b[0;34m(\u001b[0m\u001b[0mparams_str\u001b[0m\u001b[0;34m)\u001b[0m\u001b[0;34m,\u001b[0m\u001b[0;34m\u001b[0m\u001b[0;34m\u001b[0m\u001b[0m\n\u001b[1;32m   1319\u001b[0m             \u001b[0mref_dataset\u001b[0m\u001b[0;34m,\u001b[0m\u001b[0;34m\u001b[0m\u001b[0;34m\u001b[0m\u001b[0m\n\u001b[0;32m-> 1320\u001b[0;31m             ctypes.byref(self.handle)))\n\u001b[0m\u001b[1;32m   1321\u001b[0m         \u001b[0;32mreturn\u001b[0m \u001b[0mself\u001b[0m\u001b[0;34m\u001b[0m\u001b[0;34m\u001b[0m\u001b[0m\n\u001b[1;32m   1322\u001b[0m \u001b[0;34m\u001b[0m\u001b[0m\n",
      "\u001b[0;31mKeyboardInterrupt\u001b[0m: "
     ]
    }
   ],
   "source": [
    "# clf = lightgbm.LGBMClassifier(max_depth=10, class_weight='balanced')\n",
    "# param_grid = {'n_estimators': [2, 5, 10, 20, 50], 'num_leaves': [3, 5, 7, 10, 15]}\n",
    "# search = RandomizedSearchCV(clf, param_grid, cv=2, scoring='roc_auc', refit=False)\n",
    "\n",
    "n_estimators = [2, 5, 10, 20, 50, 100]\n",
    "n_leaves = [3, 5, 7, 10, 15, 20]\n",
    "max_depths = [3, 5, 7, 10, 20]\n",
    "\n",
    "max_roc = 0\n",
    "max_estimators = 0\n",
    "max_leaves = 0\n",
    "max_depth = 0\n",
    "\n",
    "from tqdm import tqdm\n",
    "\n",
    "for est in tqdm(n_estimators):\n",
    "    for leav in n_leaves:\n",
    "        for depth in max_depths:\n",
    "            clf = lightgbm.LGBMClassifier(max_depth=depth, n_estimators=est, num_leaves=leav, class_weight='balanced')\n",
    "            clf.fit(x_train, y_train, eval_metric='auc')\n",
    "            y_pred = clf.predict(x_val)\n",
    "            roc = roc_auc_score(y_val, y_pred)\n",
    "            if roc > max_roc:\n",
    "                max_roc = roc\n",
    "                max_estimators = est\n",
    "                max_leaves = leav\n",
    "                max_depth = depth\n",
    "\n",
    "print(f\"Max ROC AUC Score: {max_roc}\")\n",
    "print(f\"Estimators: {max_estimators}\")\n",
    "print(f\"Leaves: {max_leaves}\")\n",
    "print(f\"Max Depth: {max_depth}\")"
   ]
  },
  {
   "cell_type": "code",
   "execution_count": null,
   "metadata": {},
   "outputs": [],
   "source": [
    "search_result = lightgbm.LGBMClassifier(max_depth=3, n_estimators=5, num_leaves=10, class_weight='balanced')\n",
    "\n",
    "shap_elimination = ShapRFECV(search_result, step=0.1, cv=10, scoring='roc_auc', n_jobs=3)\n",
    "report = shap_elimination.fit_compute(x_train, y_train, x_val, y_val)\n",
    "report"
   ]
  },
  {
   "cell_type": "code",
   "execution_count": null,
   "metadata": {},
   "outputs": [],
   "source": []
  },
  {
   "cell_type": "code",
   "execution_count": null,
   "metadata": {},
   "outputs": [],
   "source": []
  },
  {
   "cell_type": "code",
   "execution_count": null,
   "metadata": {
    "scrolled": false
   },
   "outputs": [],
   "source": [
    "def plot_performance(report_df, n_features=0, lookback=0):\n",
    "    fig1 = make_subplots(rows=1, cols=1, specs=[[{'type':'xy'}]])\n",
    "\n",
    "    x_ticks = list(reversed(report_df[\"num_features\"].tolist()))\n",
    "    x_ticks = report_df[\"num_features\"].tolist()\n",
    "    width = 2000\n",
    "    if lookback == 3:\n",
    "        # reduce plot to 31 features\n",
    "        width = 1000\n",
    "        report_df = report_df[report_df['num_features'] <= 31] # reduced\n",
    "#         report_df = report_df[report_df['num_features'] <= 53] # combined\n",
    "    elif lookback == 5:\n",
    "        # reduce plot to 41 features\n",
    "        width = 1000\n",
    "        report_df = report_df[report_df['num_features'] <= 41] # reduced\n",
    "#         report_df = report_df[report_df['num_features'] <= 57] # combined\n",
    "    elif lookback == 10:\n",
    "        # reduce plot to 98 features\n",
    "        width = 1000\n",
    "        report_df = report_df[report_df['num_features'] <= 49] # reduced\n",
    "#         report_df = report_df[report_df['num_features'] <= 28] # combined\n",
    "    elif lookback == 20:\n",
    "        # reduce plot to 116 features\n",
    "        width = 1000\n",
    "        report_df = report_df[report_df['num_features'] <= 44] # reduced\n",
    "#         report_df = report_df[report_df['num_features'] <= 24] # combined\n",
    "    \n",
    "    # Validation Score\n",
    "    fig1.add_trace(go.Scatter(x=report_df[\"num_features\"], y=report_df[\"val_metric_mean\"], mode=\"lines\", showlegend=False), row=1, col=1)\n",
    "    fig1.add_traces(go.Scatter(x=report_df[\"num_features\"], y=report_df[\"val_metric_mean\"] - report_df[\"val_metric_std\"],\n",
    "                              line = dict(color='rgba(0,0,0,0)'),\n",
    "                              fill='tonexty',\n",
    "                              showlegend=False,\n",
    "                              fillcolor=\"lightgray\"))\n",
    "    fig1.add_traces(go.Scatter(x=report_df[\"num_features\"], y=report_df[\"val_metric_mean\"] + report_df[\"val_metric_std\"],\n",
    "                              line = dict(color='rgba(0,0,0,0)'),\n",
    "                              fill='tonexty',\n",
    "                              showlegend=False,\n",
    "                              fillcolor=\"lightgray\"))\n",
    "    fig1.add_trace(go.Scatter(x=report_df[\"num_features\"], y=report_df[\"val_metric_mean\"], mode=\"lines\", line = dict(color='red'), name=\"Validation Score\"), row=1, col=1)\n",
    "    \n",
    "    # Train Score\n",
    "    fig1.add_trace(go.Scatter(x=report_df[\"num_features\"], y=report_df[\"train_metric_mean\"], mode=\"lines\", showlegend=False), row=1, col=1)\n",
    "    \n",
    "    fig1.add_traces(go.Scatter(x=report_df[\"num_features\"], y=report_df[\"train_metric_mean\"] - report_df[\"train_metric_std\"],\n",
    "                              line = dict(color='rgba(0,0,0,0)'),\n",
    "                              fill='tonexty',\n",
    "                              showlegend=False,\n",
    "                              fillcolor=\"lightgray\"))\n",
    "    fig1.add_traces(go.Scatter(x=report_df[\"num_features\"], y=report_df[\"train_metric_mean\"] + report_df[\"train_metric_std\"],\n",
    "                              line = dict(color='rgba(0,0,0,0)'),\n",
    "                              fill='tonexty',\n",
    "                              showlegend=False,\n",
    "                              fillcolor=\"lightgray\"))\n",
    "    fig1.add_trace(go.Scatter(x=report_df[\"num_features\"], y=report_df[\"train_metric_mean\"], mode=\"lines\", line = dict(color='blue'), name=\"Train Score\"), row=1, col=1)\n",
    "    \n",
    "    if n_features > 0:\n",
    "        fig1.add_vline(x=n_features, line_width=2, line_dash=\"dash\", line_color=\"green\")\n",
    "    fig1.update_layout(\n",
    "        title = f'Recursive Feature Elimination using SHAP Values for Lookback {lookback}', \n",
    "        xaxis1 = dict(title_text = 'Number of Features', \n",
    "                      autorange='reversed',\n",
    "                      tickmode='array', \n",
    "                      tickvals=x_ticks, \n",
    "                      ticktext=x_ticks, \n",
    "                      tickangle=0),\n",
    "        yaxis1 = dict(title_text = \"AUC\"),\n",
    "        width = width\n",
    "    )\n",
    "    fig1.write_image(f\"Plots/SHAP NASDAQ {lookback}.png\")\n",
    "    fig1.show()\n",
    "\n",
    "\n",
    "plot_performance(report)"
   ]
  },
  {
   "cell_type": "code",
   "execution_count": null,
   "metadata": {},
   "outputs": [],
   "source": [
    "report_df = shap_elimination.report_df\n",
    "num_features = 2\n",
    "report_df[report_df.num_features == num_features][\"features_set\"].values[0]"
   ]
  },
  {
   "cell_type": "code",
   "execution_count": null,
   "metadata": {},
   "outputs": [],
   "source": []
  },
  {
   "cell_type": "code",
   "execution_count": null,
   "metadata": {},
   "outputs": [],
   "source": []
  },
  {
   "cell_type": "code",
   "execution_count": null,
   "metadata": {},
   "outputs": [],
   "source": []
  },
  {
   "cell_type": "code",
   "execution_count": null,
   "metadata": {},
   "outputs": [],
   "source": []
  },
  {
   "cell_type": "code",
   "execution_count": null,
   "metadata": {},
   "outputs": [],
   "source": []
  },
  {
   "cell_type": "code",
   "execution_count": 9,
   "metadata": {
    "scrolled": false
   },
   "outputs": [
    {
     "name": "stderr",
     "output_type": "stream",
     "text": [
      "\r",
      "  0%|                                                     | 0/4 [00:00<?, ?it/s]"
     ]
    },
    {
     "name": "stdout",
     "output_type": "stream",
     "text": [
      "Lookback: 3\n",
      "Max ROC AUC Score: 0.5549300254452927\n",
      "Estimators: 50\n",
      "Leaves: 15\n",
      "Max Depth: 20\n"
     ]
    },
    {
     "name": "stderr",
     "output_type": "stream",
     "text": [
      "\r",
      " 25%|███████████                                 | 1/4 [05:47<17:22, 347.66s/it]"
     ]
    },
    {
     "name": "stdout",
     "output_type": "stream",
     "text": [
      "['NASDAQ_EMA50_t-2', 'HS50_relative_change_perc_5_t-1', 'WTIOil_F_relative_change_perc_5_t-2', 'Corn_F_relative_change_perc_5_t-3', 'USDCHF_relative_change_perc_1_t-2', 'Copper_F_relative_change_perc_1_t-3', 'NASDAQ_momentum_8_t-2', 'NASDAQ_MA50_t-1', 'SSE50_F_relative_change_perc_20_t-1', 'CAC40_Volume_t-1', 'NIKKEI225_relative_change_perc_10_t-2', 'AAPL_relative_change_perc_1_t-1', 'UK100_relative_change_perc_50_t-1', 'USDJPY_relative_change_perc_1_t-1', 'NIKKEI225_F_relative_change_perc_20_t-1', 'NaturalGas_F_relative_change_perc_20_t-3']\n",
      "Lookback: 5\n",
      "Max ROC AUC Score: 0.5536577608142493\n",
      "Estimators: 20\n",
      "Leaves: 10\n",
      "Max Depth: 3\n"
     ]
    },
    {
     "name": "stderr",
     "output_type": "stream",
     "text": [
      "\r",
      " 50%|██████████████████████                      | 2/4 [12:23<12:31, 375.74s/it]"
     ]
    },
    {
     "name": "stdout",
     "output_type": "stream",
     "text": [
      "['HS50_F_relative_change_perc_1_t-1', 'Corn_F_relative_change_perc_5_t-3', 'WTIOil_F_Volume_t-1', 'WTIOil_F_relative_change_perc_5_t-2', 'AUDUSD_relative_change_perc_1_t-4', 'GER30_relative_change_perc_50_t-4', 'NaturalGas_F_relative_change_perc_1_t-5', 'UK100_relative_change_perc_50_t-1', 'NASDAQ_F_relative_change_perc_1_t-4']\n",
      "Lookback: 10\n",
      "Max ROC AUC Score: 0.5504134860050891\n",
      "Estimators: 5\n",
      "Leaves: 7\n",
      "Max Depth: 3\n"
     ]
    },
    {
     "name": "stderr",
     "output_type": "stream",
     "text": [
      "\r",
      " 75%|█████████████████████████████████           | 3/4 [26:17<09:45, 585.09s/it]"
     ]
    },
    {
     "name": "stdout",
     "output_type": "stream",
     "text": [
      "['AAPL_relative_change_perc_50_t-8', 'NaturalGas_F_relative_change_perc_1_t-5', 'AUDUSD_relative_change_perc_10_t-7', 'NZDUSD_relative_change_perc_20_t-5', 'UK100_F_relative_change_perc_20_t-1', 'UK100_F_Volume_t-2', 'CAC40_F_relative_change_perc_1_t-9', 'MSFT_Volume_t-10', 'NaturalGas_F_Volume_t-2', 'NIKKEI225_relative_change_perc_50_t-7', 'NIKKEI225_F_relative_change_perc_20_t-1', 'NaturalGas_F_relative_change_perc_20_t-3', 'US30_relative_change_perc_20_t-3']\n",
      "Lookback: 20\n",
      "Max ROC AUC Score: 0.5372773536895674\n",
      "Estimators: 100\n",
      "Leaves: 10\n",
      "Max Depth: 7\n"
     ]
    },
    {
     "name": "stderr",
     "output_type": "stream",
     "text": [
      "100%|██████████████████████████████████████████| 4/4 [1:02:36<00:00, 939.18s/it]"
     ]
    },
    {
     "name": "stdout",
     "output_type": "stream",
     "text": [
      "['US30_F_relative_change_perc_5_t-19', 'AUDUSD_relative_change_perc_1_t-4', 'AUDUSD_relative_change_perc_10_t-7', 'GBPUSD_relative_change_perc_5_t-14', 'NIKKEI225_relative_change_perc_1_t-16', 'Corn_F_relative_change_perc_10_t-20', 'USDCHF_relative_change_perc_10_t-16', 'GER30_F_Volume_t-10', 'NASDAQ_F_relative_change_perc_1_t-1', 'USDCHF_relative_change_perc_5_t-4', 'HS50_relative_change_perc_1_t-20', 'USDJPY_relative_change_perc_5_t-18', 'AMZN_Volume_t-11', 'AMZN_relative_change_perc_50_t-17', 'MSFT_Volume_t-10']\n"
     ]
    },
    {
     "name": "stderr",
     "output_type": "stream",
     "text": [
      "\n"
     ]
    }
   ],
   "source": [
    "files = {\n",
    "    # varname: filename\n",
    "    \"NASDAQ\": \"Dataset v3/nasdaq_combined_data_20220422.csv\",\n",
    "}\n",
    "for file in files:\n",
    "    df = retrieve_data(file, files[file])\n",
    "    \n",
    "lookbacks = [3, 5, 10, 20]\n",
    "reports = []\n",
    "for lookback in tqdm(lookbacks):\n",
    "    print(f\"Lookback: {lookback}\")\n",
    "    for file in files:\n",
    "        df = retrieve_data(file, files[file])\n",
    "    df = create_classification_data(df, lookback, 'NASDAQ_relative_change_perc_1')\n",
    "    x_train, y_train, x_val, y_val, x_test, y_test = create_train_val_test(df, 2018, 2019)\n",
    "    \n",
    "    y_train = label_data(y_train)\n",
    "    y_val = label_data(y_val)\n",
    "    y_test = label_data(y_test)\n",
    "\n",
    "    train_date = x_train[['Date']]\n",
    "    x_train = x_train.drop(['Date'], axis=1)\n",
    "    val_date = x_val[['Date']]\n",
    "    x_val = x_val.drop(['Date'], axis=1)\n",
    "    test_date = x_test[['Date']]\n",
    "    x_test = x_test.drop(['Date'], axis=1)\n",
    "\n",
    "    x_train = scale_data(x_train)\n",
    "    x_val = scale_data(x_val)\n",
    "    x_test = scale_data(x_test)\n",
    "    \n",
    "    n_estimators = [2, 5, 10, 20, 50, 100]\n",
    "    n_leaves = [3, 5, 7, 10, 15, 20]\n",
    "    max_depths = [3, 5, 7, 10, 20]\n",
    "\n",
    "    max_roc = 0\n",
    "    max_estimators = 0\n",
    "    max_leaves = 0\n",
    "    max_depth = 0\n",
    "\n",
    "    for est in n_estimators:\n",
    "        for leav in n_leaves:\n",
    "            for depth in max_depths:\n",
    "                clf = lightgbm.LGBMClassifier(max_depth=depth, n_estimators=est, num_leaves=leav, class_weight='balanced')\n",
    "                clf.fit(x_train, y_train, eval_metric='auc')\n",
    "                y_pred = clf.predict(x_val)\n",
    "                roc = roc_auc_score(y_val, y_pred)\n",
    "                if roc > max_roc:\n",
    "                    max_roc = roc\n",
    "                    max_estimators = est\n",
    "                    max_leaves = leav\n",
    "                    max_depth = depth\n",
    "\n",
    "    print(f\"Max ROC AUC Score: {max_roc}\")\n",
    "    print(f\"Estimators: {max_estimators}\")\n",
    "    print(f\"Leaves: {max_leaves}\")\n",
    "    print(f\"Max Depth: {max_depth}\")\n",
    "\n",
    "    search_result = lightgbm.LGBMClassifier(max_depth=max_depth, n_estimators=max_estimators, num_leaves=max_leaves, class_weight='balanced')\n",
    "\n",
    "    shap_elimination = ShapRFECV(search_result, step=0.1, cv=10, scoring='roc_auc', n_jobs=3)\n",
    "    report = shap_elimination.fit_compute(x_train, y_train, x_val, y_val)\n",
    "    \n",
    "    if lookback == 3:\n",
    "        n_features = 16 # reduced\n",
    "#         n_features = 13 # combined\n",
    "    elif lookback == 5:\n",
    "        n_features = 9 # reduced\n",
    "#         n_features = 14 # combined\n",
    "    elif lookback == 10:\n",
    "        n_features = 13 # reduced\n",
    "#         n_features = 22 # combined\n",
    "    elif lookback == 20:\n",
    "        n_features = 15 # reduced\n",
    "#         n_features = 17 # combined\n",
    "        \n",
    "    subset = report[report.num_features == n_features][\"features_set\"].values[0]\n",
    "    print(subset)\n",
    "    \n",
    "#     plot_performance(report, n_features, lookback)\n",
    "    reports.append(report)\n"
   ]
  },
  {
   "cell_type": "code",
   "execution_count": 15,
   "metadata": {},
   "outputs": [
    {
     "name": "stdout",
     "output_type": "stream",
     "text": [
      "['NASDAQ_EMA50_t-2', 'SSE50_F_relative_change_perc_20_t-1', 'HS50_relative_change_perc_5_t-1', 'WTIOil_F_relative_change_perc_5_t-2', 'CAC40_Volume_t-1', 'UK100_relative_change_perc_50_t-1', 'USDCHF_relative_change_perc_1_t-2', 'NaturalGas_F_relative_change_perc_20_t-3']\n",
      "['WTIOil_F_relative_change_perc_5_t-2', 'Corn_F_relative_change_perc_5_t-3', 'AUDUSD_relative_change_perc_1_t-4', 'UK100_relative_change_perc_50_t-1', 'NaturalGas_F_relative_change_perc_1_t-5']\n",
      "['AAPL_relative_change_perc_50_t-8', 'NaturalGas_F_relative_change_perc_1_t-5', 'AUDUSD_relative_change_perc_10_t-7', 'NZDUSD_relative_change_perc_20_t-5', 'UK100_F_Volume_t-2', 'MSFT_Volume_t-10', 'NIKKEI225_F_relative_change_perc_20_t-1']\n",
      "['Corn_F_relative_change_perc_10_t-20', 'GER30_F_Volume_t-10', 'AUDUSD_relative_change_perc_1_t-4', 'GBPUSD_relative_change_perc_5_t-14', 'AMZN_Volume_t-11', 'MSFT_Volume_t-10']\n"
     ]
    },
    {
     "data": {
      "application/vnd.plotly.v1+json": {
       "config": {
        "plotlyServerURL": "https://plot.ly"
       },
       "data": [
        {
         "line": {
          "color": "#636EFF"
         },
         "mode": "lines",
         "name": "Lookback 3",
         "type": "scatter",
         "x": [
          48,
          44,
          40,
          36,
          33,
          30,
          27,
          25,
          23,
          21,
          19,
          18,
          17,
          16,
          15,
          14,
          13,
          12,
          11,
          10,
          9,
          8,
          7,
          6,
          5,
          4,
          3,
          2,
          1
         ],
         "xaxis": "x",
         "y": [
          0.501,
          0.527,
          0.529,
          0.543,
          0.537,
          0.53,
          0.572,
          0.572,
          0.542,
          0.545,
          0.557,
          0.564,
          0.534,
          0.591,
          0.592,
          0.583,
          0.61,
          0.585,
          0.601,
          0.58,
          0.581,
          0.579,
          0.559,
          0.547,
          0.543,
          0.542,
          0.526,
          0.488,
          0.555
         ],
         "yaxis": "y"
        },
        {
         "line": {
          "color": "#EF593B"
         },
         "mode": "lines",
         "name": "Lookback 5",
         "type": "scatter",
         "x": [
          47,
          43,
          39,
          36,
          33,
          30,
          27,
          25,
          23,
          21,
          19,
          18,
          17,
          16,
          15,
          14,
          13,
          12,
          11,
          10,
          9,
          8,
          7,
          6,
          5,
          4,
          3,
          2,
          1
         ],
         "xaxis": "x",
         "y": [
          0.507,
          0.524,
          0.534,
          0.531,
          0.529,
          0.519,
          0.542,
          0.512,
          0.529,
          0.527,
          0.528,
          0.512,
          0.53,
          0.539,
          0.534,
          0.555,
          0.541,
          0.552,
          0.518,
          0.521,
          0.528,
          0.55,
          0.533,
          0.533,
          0.526,
          0.492,
          0.538,
          0.548,
          0.564
         ],
         "yaxis": "y"
        },
        {
         "line": {
          "color": "#00CC96"
         },
         "mode": "lines",
         "name": "Lookback 10",
         "type": "scatter",
         "x": [
          49,
          45,
          41,
          37,
          34,
          31,
          28,
          26,
          24,
          22,
          20,
          18,
          17,
          16,
          15,
          14,
          13,
          12,
          11,
          10,
          9,
          8,
          7,
          6,
          5,
          4,
          3,
          2,
          1
         ],
         "xaxis": "x",
         "y": [
          0.548,
          0.548,
          0.548,
          0.548,
          0.548,
          0.548,
          0.548,
          0.543,
          0.54,
          0.55,
          0.531,
          0.519,
          0.52,
          0.501,
          0.501,
          0.501,
          0.497,
          0.472,
          0.471,
          0.47,
          0.473,
          0.484,
          0.492,
          0.488,
          0.483,
          0.453,
          0.438,
          0.467,
          0.48
         ],
         "yaxis": "y"
        },
        {
         "line": {
          "color": "#AB63FA"
         },
         "mode": "lines",
         "name": "Lookback 20",
         "type": "scatter",
         "x": [
          49,
          45,
          41,
          37,
          34,
          31,
          28,
          26,
          24,
          22,
          20,
          18,
          17,
          16,
          15,
          14,
          13,
          12,
          11,
          10,
          9,
          8,
          7,
          6,
          5,
          4,
          3,
          2,
          1
         ],
         "xaxis": "x",
         "y": [
          0.551,
          0.527,
          0.516,
          0.525,
          0.523,
          0.522,
          0.545,
          0.538,
          0.544,
          0.531,
          0.543,
          0.53,
          0.545,
          0.541,
          0.525,
          0.519,
          0.522,
          0.517,
          0.55,
          0.54,
          0.527,
          0.54,
          0.529,
          0.525,
          0.492,
          0.483,
          0.503,
          0.531,
          0.462
         ],
         "yaxis": "y"
        }
       ],
       "layout": {
        "shapes": [
         {
          "line": {
           "color": "#636EFF",
           "dash": "dash",
           "width": 2
          },
          "name": "3",
          "type": "line",
          "x0": 8,
          "x1": 8,
          "xref": "x",
          "y0": 0,
          "y1": 1,
          "yref": "y domain"
         },
         {
          "line": {
           "color": "#EF593B",
           "dash": "dash",
           "width": 2
          },
          "name": "5",
          "type": "line",
          "x0": 5,
          "x1": 5,
          "xref": "x",
          "y0": 0,
          "y1": 1,
          "yref": "y domain"
         },
         {
          "line": {
           "color": "#00CC96",
           "dash": "dash",
           "width": 2
          },
          "name": "10",
          "type": "line",
          "x0": 7,
          "x1": 7,
          "xref": "x",
          "y0": 0,
          "y1": 1,
          "yref": "y domain"
         },
         {
          "line": {
           "color": "#AB63FA",
           "dash": "dash",
           "width": 2
          },
          "name": "20",
          "type": "line",
          "x0": 6,
          "x1": 6,
          "xref": "x",
          "y0": 0,
          "y1": 1,
          "yref": "y domain"
         }
        ],
        "template": {
         "data": {
          "bar": [
           {
            "error_x": {
             "color": "#2a3f5f"
            },
            "error_y": {
             "color": "#2a3f5f"
            },
            "marker": {
             "line": {
              "color": "#E5ECF6",
              "width": 0.5
             },
             "pattern": {
              "fillmode": "overlay",
              "size": 10,
              "solidity": 0.2
             }
            },
            "type": "bar"
           }
          ],
          "barpolar": [
           {
            "marker": {
             "line": {
              "color": "#E5ECF6",
              "width": 0.5
             },
             "pattern": {
              "fillmode": "overlay",
              "size": 10,
              "solidity": 0.2
             }
            },
            "type": "barpolar"
           }
          ],
          "carpet": [
           {
            "aaxis": {
             "endlinecolor": "#2a3f5f",
             "gridcolor": "white",
             "linecolor": "white",
             "minorgridcolor": "white",
             "startlinecolor": "#2a3f5f"
            },
            "baxis": {
             "endlinecolor": "#2a3f5f",
             "gridcolor": "white",
             "linecolor": "white",
             "minorgridcolor": "white",
             "startlinecolor": "#2a3f5f"
            },
            "type": "carpet"
           }
          ],
          "choropleth": [
           {
            "colorbar": {
             "outlinewidth": 0,
             "ticks": ""
            },
            "type": "choropleth"
           }
          ],
          "contour": [
           {
            "colorbar": {
             "outlinewidth": 0,
             "ticks": ""
            },
            "colorscale": [
             [
              0,
              "#0d0887"
             ],
             [
              0.1111111111111111,
              "#46039f"
             ],
             [
              0.2222222222222222,
              "#7201a8"
             ],
             [
              0.3333333333333333,
              "#9c179e"
             ],
             [
              0.4444444444444444,
              "#bd3786"
             ],
             [
              0.5555555555555556,
              "#d8576b"
             ],
             [
              0.6666666666666666,
              "#ed7953"
             ],
             [
              0.7777777777777778,
              "#fb9f3a"
             ],
             [
              0.8888888888888888,
              "#fdca26"
             ],
             [
              1,
              "#f0f921"
             ]
            ],
            "type": "contour"
           }
          ],
          "contourcarpet": [
           {
            "colorbar": {
             "outlinewidth": 0,
             "ticks": ""
            },
            "type": "contourcarpet"
           }
          ],
          "heatmap": [
           {
            "colorbar": {
             "outlinewidth": 0,
             "ticks": ""
            },
            "colorscale": [
             [
              0,
              "#0d0887"
             ],
             [
              0.1111111111111111,
              "#46039f"
             ],
             [
              0.2222222222222222,
              "#7201a8"
             ],
             [
              0.3333333333333333,
              "#9c179e"
             ],
             [
              0.4444444444444444,
              "#bd3786"
             ],
             [
              0.5555555555555556,
              "#d8576b"
             ],
             [
              0.6666666666666666,
              "#ed7953"
             ],
             [
              0.7777777777777778,
              "#fb9f3a"
             ],
             [
              0.8888888888888888,
              "#fdca26"
             ],
             [
              1,
              "#f0f921"
             ]
            ],
            "type": "heatmap"
           }
          ],
          "heatmapgl": [
           {
            "colorbar": {
             "outlinewidth": 0,
             "ticks": ""
            },
            "colorscale": [
             [
              0,
              "#0d0887"
             ],
             [
              0.1111111111111111,
              "#46039f"
             ],
             [
              0.2222222222222222,
              "#7201a8"
             ],
             [
              0.3333333333333333,
              "#9c179e"
             ],
             [
              0.4444444444444444,
              "#bd3786"
             ],
             [
              0.5555555555555556,
              "#d8576b"
             ],
             [
              0.6666666666666666,
              "#ed7953"
             ],
             [
              0.7777777777777778,
              "#fb9f3a"
             ],
             [
              0.8888888888888888,
              "#fdca26"
             ],
             [
              1,
              "#f0f921"
             ]
            ],
            "type": "heatmapgl"
           }
          ],
          "histogram": [
           {
            "marker": {
             "pattern": {
              "fillmode": "overlay",
              "size": 10,
              "solidity": 0.2
             }
            },
            "type": "histogram"
           }
          ],
          "histogram2d": [
           {
            "colorbar": {
             "outlinewidth": 0,
             "ticks": ""
            },
            "colorscale": [
             [
              0,
              "#0d0887"
             ],
             [
              0.1111111111111111,
              "#46039f"
             ],
             [
              0.2222222222222222,
              "#7201a8"
             ],
             [
              0.3333333333333333,
              "#9c179e"
             ],
             [
              0.4444444444444444,
              "#bd3786"
             ],
             [
              0.5555555555555556,
              "#d8576b"
             ],
             [
              0.6666666666666666,
              "#ed7953"
             ],
             [
              0.7777777777777778,
              "#fb9f3a"
             ],
             [
              0.8888888888888888,
              "#fdca26"
             ],
             [
              1,
              "#f0f921"
             ]
            ],
            "type": "histogram2d"
           }
          ],
          "histogram2dcontour": [
           {
            "colorbar": {
             "outlinewidth": 0,
             "ticks": ""
            },
            "colorscale": [
             [
              0,
              "#0d0887"
             ],
             [
              0.1111111111111111,
              "#46039f"
             ],
             [
              0.2222222222222222,
              "#7201a8"
             ],
             [
              0.3333333333333333,
              "#9c179e"
             ],
             [
              0.4444444444444444,
              "#bd3786"
             ],
             [
              0.5555555555555556,
              "#d8576b"
             ],
             [
              0.6666666666666666,
              "#ed7953"
             ],
             [
              0.7777777777777778,
              "#fb9f3a"
             ],
             [
              0.8888888888888888,
              "#fdca26"
             ],
             [
              1,
              "#f0f921"
             ]
            ],
            "type": "histogram2dcontour"
           }
          ],
          "mesh3d": [
           {
            "colorbar": {
             "outlinewidth": 0,
             "ticks": ""
            },
            "type": "mesh3d"
           }
          ],
          "parcoords": [
           {
            "line": {
             "colorbar": {
              "outlinewidth": 0,
              "ticks": ""
             }
            },
            "type": "parcoords"
           }
          ],
          "pie": [
           {
            "automargin": true,
            "type": "pie"
           }
          ],
          "scatter": [
           {
            "marker": {
             "colorbar": {
              "outlinewidth": 0,
              "ticks": ""
             }
            },
            "type": "scatter"
           }
          ],
          "scatter3d": [
           {
            "line": {
             "colorbar": {
              "outlinewidth": 0,
              "ticks": ""
             }
            },
            "marker": {
             "colorbar": {
              "outlinewidth": 0,
              "ticks": ""
             }
            },
            "type": "scatter3d"
           }
          ],
          "scattercarpet": [
           {
            "marker": {
             "colorbar": {
              "outlinewidth": 0,
              "ticks": ""
             }
            },
            "type": "scattercarpet"
           }
          ],
          "scattergeo": [
           {
            "marker": {
             "colorbar": {
              "outlinewidth": 0,
              "ticks": ""
             }
            },
            "type": "scattergeo"
           }
          ],
          "scattergl": [
           {
            "marker": {
             "colorbar": {
              "outlinewidth": 0,
              "ticks": ""
             }
            },
            "type": "scattergl"
           }
          ],
          "scattermapbox": [
           {
            "marker": {
             "colorbar": {
              "outlinewidth": 0,
              "ticks": ""
             }
            },
            "type": "scattermapbox"
           }
          ],
          "scatterpolar": [
           {
            "marker": {
             "colorbar": {
              "outlinewidth": 0,
              "ticks": ""
             }
            },
            "type": "scatterpolar"
           }
          ],
          "scatterpolargl": [
           {
            "marker": {
             "colorbar": {
              "outlinewidth": 0,
              "ticks": ""
             }
            },
            "type": "scatterpolargl"
           }
          ],
          "scatterternary": [
           {
            "marker": {
             "colorbar": {
              "outlinewidth": 0,
              "ticks": ""
             }
            },
            "type": "scatterternary"
           }
          ],
          "surface": [
           {
            "colorbar": {
             "outlinewidth": 0,
             "ticks": ""
            },
            "colorscale": [
             [
              0,
              "#0d0887"
             ],
             [
              0.1111111111111111,
              "#46039f"
             ],
             [
              0.2222222222222222,
              "#7201a8"
             ],
             [
              0.3333333333333333,
              "#9c179e"
             ],
             [
              0.4444444444444444,
              "#bd3786"
             ],
             [
              0.5555555555555556,
              "#d8576b"
             ],
             [
              0.6666666666666666,
              "#ed7953"
             ],
             [
              0.7777777777777778,
              "#fb9f3a"
             ],
             [
              0.8888888888888888,
              "#fdca26"
             ],
             [
              1,
              "#f0f921"
             ]
            ],
            "type": "surface"
           }
          ],
          "table": [
           {
            "cells": {
             "fill": {
              "color": "#EBF0F8"
             },
             "line": {
              "color": "white"
             }
            },
            "header": {
             "fill": {
              "color": "#C8D4E3"
             },
             "line": {
              "color": "white"
             }
            },
            "type": "table"
           }
          ]
         },
         "layout": {
          "annotationdefaults": {
           "arrowcolor": "#2a3f5f",
           "arrowhead": 0,
           "arrowwidth": 1
          },
          "autotypenumbers": "strict",
          "coloraxis": {
           "colorbar": {
            "outlinewidth": 0,
            "ticks": ""
           }
          },
          "colorscale": {
           "diverging": [
            [
             0,
             "#8e0152"
            ],
            [
             0.1,
             "#c51b7d"
            ],
            [
             0.2,
             "#de77ae"
            ],
            [
             0.3,
             "#f1b6da"
            ],
            [
             0.4,
             "#fde0ef"
            ],
            [
             0.5,
             "#f7f7f7"
            ],
            [
             0.6,
             "#e6f5d0"
            ],
            [
             0.7,
             "#b8e186"
            ],
            [
             0.8,
             "#7fbc41"
            ],
            [
             0.9,
             "#4d9221"
            ],
            [
             1,
             "#276419"
            ]
           ],
           "sequential": [
            [
             0,
             "#0d0887"
            ],
            [
             0.1111111111111111,
             "#46039f"
            ],
            [
             0.2222222222222222,
             "#7201a8"
            ],
            [
             0.3333333333333333,
             "#9c179e"
            ],
            [
             0.4444444444444444,
             "#bd3786"
            ],
            [
             0.5555555555555556,
             "#d8576b"
            ],
            [
             0.6666666666666666,
             "#ed7953"
            ],
            [
             0.7777777777777778,
             "#fb9f3a"
            ],
            [
             0.8888888888888888,
             "#fdca26"
            ],
            [
             1,
             "#f0f921"
            ]
           ],
           "sequentialminus": [
            [
             0,
             "#0d0887"
            ],
            [
             0.1111111111111111,
             "#46039f"
            ],
            [
             0.2222222222222222,
             "#7201a8"
            ],
            [
             0.3333333333333333,
             "#9c179e"
            ],
            [
             0.4444444444444444,
             "#bd3786"
            ],
            [
             0.5555555555555556,
             "#d8576b"
            ],
            [
             0.6666666666666666,
             "#ed7953"
            ],
            [
             0.7777777777777778,
             "#fb9f3a"
            ],
            [
             0.8888888888888888,
             "#fdca26"
            ],
            [
             1,
             "#f0f921"
            ]
           ]
          },
          "colorway": [
           "#636efa",
           "#EF553B",
           "#00cc96",
           "#ab63fa",
           "#FFA15A",
           "#19d3f3",
           "#FF6692",
           "#B6E880",
           "#FF97FF",
           "#FECB52"
          ],
          "font": {
           "color": "#2a3f5f"
          },
          "geo": {
           "bgcolor": "white",
           "lakecolor": "white",
           "landcolor": "#E5ECF6",
           "showlakes": true,
           "showland": true,
           "subunitcolor": "white"
          },
          "hoverlabel": {
           "align": "left"
          },
          "hovermode": "closest",
          "mapbox": {
           "style": "light"
          },
          "paper_bgcolor": "white",
          "plot_bgcolor": "#E5ECF6",
          "polar": {
           "angularaxis": {
            "gridcolor": "white",
            "linecolor": "white",
            "ticks": ""
           },
           "bgcolor": "#E5ECF6",
           "radialaxis": {
            "gridcolor": "white",
            "linecolor": "white",
            "ticks": ""
           }
          },
          "scene": {
           "xaxis": {
            "backgroundcolor": "#E5ECF6",
            "gridcolor": "white",
            "gridwidth": 2,
            "linecolor": "white",
            "showbackground": true,
            "ticks": "",
            "zerolinecolor": "white"
           },
           "yaxis": {
            "backgroundcolor": "#E5ECF6",
            "gridcolor": "white",
            "gridwidth": 2,
            "linecolor": "white",
            "showbackground": true,
            "ticks": "",
            "zerolinecolor": "white"
           },
           "zaxis": {
            "backgroundcolor": "#E5ECF6",
            "gridcolor": "white",
            "gridwidth": 2,
            "linecolor": "white",
            "showbackground": true,
            "ticks": "",
            "zerolinecolor": "white"
           }
          },
          "shapedefaults": {
           "line": {
            "color": "#2a3f5f"
           }
          },
          "ternary": {
           "aaxis": {
            "gridcolor": "white",
            "linecolor": "white",
            "ticks": ""
           },
           "baxis": {
            "gridcolor": "white",
            "linecolor": "white",
            "ticks": ""
           },
           "bgcolor": "#E5ECF6",
           "caxis": {
            "gridcolor": "white",
            "linecolor": "white",
            "ticks": ""
           }
          },
          "title": {
           "x": 0.05
          },
          "xaxis": {
           "automargin": true,
           "gridcolor": "white",
           "linecolor": "white",
           "ticks": "",
           "title": {
            "standoff": 15
           },
           "zerolinecolor": "white",
           "zerolinewidth": 2
          },
          "yaxis": {
           "automargin": true,
           "gridcolor": "white",
           "linecolor": "white",
           "ticks": "",
           "title": {
            "standoff": 15
           },
           "zerolinecolor": "white",
           "zerolinewidth": 2
          }
         }
        },
        "title": {
         "text": "Recursive Feature Elimination using SHAP Values for NASDAQ Validation Data"
        },
        "width": 800,
        "xaxis": {
         "anchor": "y",
         "autorange": "reversed",
         "domain": [
          0,
          1
         ],
         "tickangle": 0,
         "tickmode": "array",
         "title": {
          "text": "Number of Features"
         }
        },
        "yaxis": {
         "anchor": "x",
         "domain": [
          0,
          1
         ],
         "title": {
          "text": "AUC"
         }
        }
       }
      },
      "text/html": [
       "<div>                            <div id=\"d65cf1c2-e4e1-44c3-87bf-844b27c27f6b\" class=\"plotly-graph-div\" style=\"height:525px; width:800px;\"></div>            <script type=\"text/javascript\">                require([\"plotly\"], function(Plotly) {                    window.PLOTLYENV=window.PLOTLYENV || {};                                    if (document.getElementById(\"d65cf1c2-e4e1-44c3-87bf-844b27c27f6b\")) {                    Plotly.newPlot(                        \"d65cf1c2-e4e1-44c3-87bf-844b27c27f6b\",                        [{\"line\":{\"color\":\"#636EFF\"},\"mode\":\"lines\",\"name\":\"Lookback 3\",\"type\":\"scatter\",\"x\":[48,44,40,36,33,30,27,25,23,21,19,18,17,16,15,14,13,12,11,10,9,8,7,6,5,4,3,2,1],\"xaxis\":\"x\",\"y\":[0.501,0.527,0.529,0.543,0.537,0.53,0.572,0.572,0.542,0.545,0.557,0.564,0.534,0.591,0.592,0.583,0.61,0.585,0.601,0.58,0.581,0.579,0.559,0.547,0.543,0.542,0.526,0.488,0.555],\"yaxis\":\"y\"},{\"line\":{\"color\":\"#EF593B\"},\"mode\":\"lines\",\"name\":\"Lookback 5\",\"type\":\"scatter\",\"x\":[47,43,39,36,33,30,27,25,23,21,19,18,17,16,15,14,13,12,11,10,9,8,7,6,5,4,3,2,1],\"xaxis\":\"x\",\"y\":[0.507,0.524,0.534,0.531,0.529,0.519,0.542,0.512,0.529,0.527,0.528,0.512,0.53,0.539,0.534,0.555,0.541,0.552,0.518,0.521,0.528,0.55,0.533,0.533,0.526,0.492,0.538,0.548,0.564],\"yaxis\":\"y\"},{\"line\":{\"color\":\"#00CC96\"},\"mode\":\"lines\",\"name\":\"Lookback 10\",\"type\":\"scatter\",\"x\":[49,45,41,37,34,31,28,26,24,22,20,18,17,16,15,14,13,12,11,10,9,8,7,6,5,4,3,2,1],\"xaxis\":\"x\",\"y\":[0.548,0.548,0.548,0.548,0.548,0.548,0.548,0.543,0.54,0.55,0.531,0.519,0.52,0.501,0.501,0.501,0.497,0.472,0.471,0.47,0.473,0.484,0.492,0.488,0.483,0.453,0.438,0.467,0.48],\"yaxis\":\"y\"},{\"line\":{\"color\":\"#AB63FA\"},\"mode\":\"lines\",\"name\":\"Lookback 20\",\"type\":\"scatter\",\"x\":[49,45,41,37,34,31,28,26,24,22,20,18,17,16,15,14,13,12,11,10,9,8,7,6,5,4,3,2,1],\"xaxis\":\"x\",\"y\":[0.551,0.527,0.516,0.525,0.523,0.522,0.545,0.538,0.544,0.531,0.543,0.53,0.545,0.541,0.525,0.519,0.522,0.517,0.55,0.54,0.527,0.54,0.529,0.525,0.492,0.483,0.503,0.531,0.462],\"yaxis\":\"y\"}],                        {\"shapes\":[{\"line\":{\"color\":\"#636EFF\",\"dash\":\"dash\",\"width\":2},\"name\":\"3\",\"type\":\"line\",\"x0\":8,\"x1\":8,\"xref\":\"x\",\"y0\":0,\"y1\":1,\"yref\":\"y domain\"},{\"line\":{\"color\":\"#EF593B\",\"dash\":\"dash\",\"width\":2},\"name\":\"5\",\"type\":\"line\",\"x0\":5,\"x1\":5,\"xref\":\"x\",\"y0\":0,\"y1\":1,\"yref\":\"y domain\"},{\"line\":{\"color\":\"#00CC96\",\"dash\":\"dash\",\"width\":2},\"name\":\"10\",\"type\":\"line\",\"x0\":7,\"x1\":7,\"xref\":\"x\",\"y0\":0,\"y1\":1,\"yref\":\"y domain\"},{\"line\":{\"color\":\"#AB63FA\",\"dash\":\"dash\",\"width\":2},\"name\":\"20\",\"type\":\"line\",\"x0\":6,\"x1\":6,\"xref\":\"x\",\"y0\":0,\"y1\":1,\"yref\":\"y domain\"}],\"template\":{\"data\":{\"bar\":[{\"error_x\":{\"color\":\"#2a3f5f\"},\"error_y\":{\"color\":\"#2a3f5f\"},\"marker\":{\"line\":{\"color\":\"#E5ECF6\",\"width\":0.5},\"pattern\":{\"fillmode\":\"overlay\",\"size\":10,\"solidity\":0.2}},\"type\":\"bar\"}],\"barpolar\":[{\"marker\":{\"line\":{\"color\":\"#E5ECF6\",\"width\":0.5},\"pattern\":{\"fillmode\":\"overlay\",\"size\":10,\"solidity\":0.2}},\"type\":\"barpolar\"}],\"carpet\":[{\"aaxis\":{\"endlinecolor\":\"#2a3f5f\",\"gridcolor\":\"white\",\"linecolor\":\"white\",\"minorgridcolor\":\"white\",\"startlinecolor\":\"#2a3f5f\"},\"baxis\":{\"endlinecolor\":\"#2a3f5f\",\"gridcolor\":\"white\",\"linecolor\":\"white\",\"minorgridcolor\":\"white\",\"startlinecolor\":\"#2a3f5f\"},\"type\":\"carpet\"}],\"choropleth\":[{\"colorbar\":{\"outlinewidth\":0,\"ticks\":\"\"},\"type\":\"choropleth\"}],\"contour\":[{\"colorbar\":{\"outlinewidth\":0,\"ticks\":\"\"},\"colorscale\":[[0.0,\"#0d0887\"],[0.1111111111111111,\"#46039f\"],[0.2222222222222222,\"#7201a8\"],[0.3333333333333333,\"#9c179e\"],[0.4444444444444444,\"#bd3786\"],[0.5555555555555556,\"#d8576b\"],[0.6666666666666666,\"#ed7953\"],[0.7777777777777778,\"#fb9f3a\"],[0.8888888888888888,\"#fdca26\"],[1.0,\"#f0f921\"]],\"type\":\"contour\"}],\"contourcarpet\":[{\"colorbar\":{\"outlinewidth\":0,\"ticks\":\"\"},\"type\":\"contourcarpet\"}],\"heatmap\":[{\"colorbar\":{\"outlinewidth\":0,\"ticks\":\"\"},\"colorscale\":[[0.0,\"#0d0887\"],[0.1111111111111111,\"#46039f\"],[0.2222222222222222,\"#7201a8\"],[0.3333333333333333,\"#9c179e\"],[0.4444444444444444,\"#bd3786\"],[0.5555555555555556,\"#d8576b\"],[0.6666666666666666,\"#ed7953\"],[0.7777777777777778,\"#fb9f3a\"],[0.8888888888888888,\"#fdca26\"],[1.0,\"#f0f921\"]],\"type\":\"heatmap\"}],\"heatmapgl\":[{\"colorbar\":{\"outlinewidth\":0,\"ticks\":\"\"},\"colorscale\":[[0.0,\"#0d0887\"],[0.1111111111111111,\"#46039f\"],[0.2222222222222222,\"#7201a8\"],[0.3333333333333333,\"#9c179e\"],[0.4444444444444444,\"#bd3786\"],[0.5555555555555556,\"#d8576b\"],[0.6666666666666666,\"#ed7953\"],[0.7777777777777778,\"#fb9f3a\"],[0.8888888888888888,\"#fdca26\"],[1.0,\"#f0f921\"]],\"type\":\"heatmapgl\"}],\"histogram\":[{\"marker\":{\"pattern\":{\"fillmode\":\"overlay\",\"size\":10,\"solidity\":0.2}},\"type\":\"histogram\"}],\"histogram2d\":[{\"colorbar\":{\"outlinewidth\":0,\"ticks\":\"\"},\"colorscale\":[[0.0,\"#0d0887\"],[0.1111111111111111,\"#46039f\"],[0.2222222222222222,\"#7201a8\"],[0.3333333333333333,\"#9c179e\"],[0.4444444444444444,\"#bd3786\"],[0.5555555555555556,\"#d8576b\"],[0.6666666666666666,\"#ed7953\"],[0.7777777777777778,\"#fb9f3a\"],[0.8888888888888888,\"#fdca26\"],[1.0,\"#f0f921\"]],\"type\":\"histogram2d\"}],\"histogram2dcontour\":[{\"colorbar\":{\"outlinewidth\":0,\"ticks\":\"\"},\"colorscale\":[[0.0,\"#0d0887\"],[0.1111111111111111,\"#46039f\"],[0.2222222222222222,\"#7201a8\"],[0.3333333333333333,\"#9c179e\"],[0.4444444444444444,\"#bd3786\"],[0.5555555555555556,\"#d8576b\"],[0.6666666666666666,\"#ed7953\"],[0.7777777777777778,\"#fb9f3a\"],[0.8888888888888888,\"#fdca26\"],[1.0,\"#f0f921\"]],\"type\":\"histogram2dcontour\"}],\"mesh3d\":[{\"colorbar\":{\"outlinewidth\":0,\"ticks\":\"\"},\"type\":\"mesh3d\"}],\"parcoords\":[{\"line\":{\"colorbar\":{\"outlinewidth\":0,\"ticks\":\"\"}},\"type\":\"parcoords\"}],\"pie\":[{\"automargin\":true,\"type\":\"pie\"}],\"scatter\":[{\"marker\":{\"colorbar\":{\"outlinewidth\":0,\"ticks\":\"\"}},\"type\":\"scatter\"}],\"scatter3d\":[{\"line\":{\"colorbar\":{\"outlinewidth\":0,\"ticks\":\"\"}},\"marker\":{\"colorbar\":{\"outlinewidth\":0,\"ticks\":\"\"}},\"type\":\"scatter3d\"}],\"scattercarpet\":[{\"marker\":{\"colorbar\":{\"outlinewidth\":0,\"ticks\":\"\"}},\"type\":\"scattercarpet\"}],\"scattergeo\":[{\"marker\":{\"colorbar\":{\"outlinewidth\":0,\"ticks\":\"\"}},\"type\":\"scattergeo\"}],\"scattergl\":[{\"marker\":{\"colorbar\":{\"outlinewidth\":0,\"ticks\":\"\"}},\"type\":\"scattergl\"}],\"scattermapbox\":[{\"marker\":{\"colorbar\":{\"outlinewidth\":0,\"ticks\":\"\"}},\"type\":\"scattermapbox\"}],\"scatterpolar\":[{\"marker\":{\"colorbar\":{\"outlinewidth\":0,\"ticks\":\"\"}},\"type\":\"scatterpolar\"}],\"scatterpolargl\":[{\"marker\":{\"colorbar\":{\"outlinewidth\":0,\"ticks\":\"\"}},\"type\":\"scatterpolargl\"}],\"scatterternary\":[{\"marker\":{\"colorbar\":{\"outlinewidth\":0,\"ticks\":\"\"}},\"type\":\"scatterternary\"}],\"surface\":[{\"colorbar\":{\"outlinewidth\":0,\"ticks\":\"\"},\"colorscale\":[[0.0,\"#0d0887\"],[0.1111111111111111,\"#46039f\"],[0.2222222222222222,\"#7201a8\"],[0.3333333333333333,\"#9c179e\"],[0.4444444444444444,\"#bd3786\"],[0.5555555555555556,\"#d8576b\"],[0.6666666666666666,\"#ed7953\"],[0.7777777777777778,\"#fb9f3a\"],[0.8888888888888888,\"#fdca26\"],[1.0,\"#f0f921\"]],\"type\":\"surface\"}],\"table\":[{\"cells\":{\"fill\":{\"color\":\"#EBF0F8\"},\"line\":{\"color\":\"white\"}},\"header\":{\"fill\":{\"color\":\"#C8D4E3\"},\"line\":{\"color\":\"white\"}},\"type\":\"table\"}]},\"layout\":{\"annotationdefaults\":{\"arrowcolor\":\"#2a3f5f\",\"arrowhead\":0,\"arrowwidth\":1},\"autotypenumbers\":\"strict\",\"coloraxis\":{\"colorbar\":{\"outlinewidth\":0,\"ticks\":\"\"}},\"colorscale\":{\"diverging\":[[0,\"#8e0152\"],[0.1,\"#c51b7d\"],[0.2,\"#de77ae\"],[0.3,\"#f1b6da\"],[0.4,\"#fde0ef\"],[0.5,\"#f7f7f7\"],[0.6,\"#e6f5d0\"],[0.7,\"#b8e186\"],[0.8,\"#7fbc41\"],[0.9,\"#4d9221\"],[1,\"#276419\"]],\"sequential\":[[0.0,\"#0d0887\"],[0.1111111111111111,\"#46039f\"],[0.2222222222222222,\"#7201a8\"],[0.3333333333333333,\"#9c179e\"],[0.4444444444444444,\"#bd3786\"],[0.5555555555555556,\"#d8576b\"],[0.6666666666666666,\"#ed7953\"],[0.7777777777777778,\"#fb9f3a\"],[0.8888888888888888,\"#fdca26\"],[1.0,\"#f0f921\"]],\"sequentialminus\":[[0.0,\"#0d0887\"],[0.1111111111111111,\"#46039f\"],[0.2222222222222222,\"#7201a8\"],[0.3333333333333333,\"#9c179e\"],[0.4444444444444444,\"#bd3786\"],[0.5555555555555556,\"#d8576b\"],[0.6666666666666666,\"#ed7953\"],[0.7777777777777778,\"#fb9f3a\"],[0.8888888888888888,\"#fdca26\"],[1.0,\"#f0f921\"]]},\"colorway\":[\"#636efa\",\"#EF553B\",\"#00cc96\",\"#ab63fa\",\"#FFA15A\",\"#19d3f3\",\"#FF6692\",\"#B6E880\",\"#FF97FF\",\"#FECB52\"],\"font\":{\"color\":\"#2a3f5f\"},\"geo\":{\"bgcolor\":\"white\",\"lakecolor\":\"white\",\"landcolor\":\"#E5ECF6\",\"showlakes\":true,\"showland\":true,\"subunitcolor\":\"white\"},\"hoverlabel\":{\"align\":\"left\"},\"hovermode\":\"closest\",\"mapbox\":{\"style\":\"light\"},\"paper_bgcolor\":\"white\",\"plot_bgcolor\":\"#E5ECF6\",\"polar\":{\"angularaxis\":{\"gridcolor\":\"white\",\"linecolor\":\"white\",\"ticks\":\"\"},\"bgcolor\":\"#E5ECF6\",\"radialaxis\":{\"gridcolor\":\"white\",\"linecolor\":\"white\",\"ticks\":\"\"}},\"scene\":{\"xaxis\":{\"backgroundcolor\":\"#E5ECF6\",\"gridcolor\":\"white\",\"gridwidth\":2,\"linecolor\":\"white\",\"showbackground\":true,\"ticks\":\"\",\"zerolinecolor\":\"white\"},\"yaxis\":{\"backgroundcolor\":\"#E5ECF6\",\"gridcolor\":\"white\",\"gridwidth\":2,\"linecolor\":\"white\",\"showbackground\":true,\"ticks\":\"\",\"zerolinecolor\":\"white\"},\"zaxis\":{\"backgroundcolor\":\"#E5ECF6\",\"gridcolor\":\"white\",\"gridwidth\":2,\"linecolor\":\"white\",\"showbackground\":true,\"ticks\":\"\",\"zerolinecolor\":\"white\"}},\"shapedefaults\":{\"line\":{\"color\":\"#2a3f5f\"}},\"ternary\":{\"aaxis\":{\"gridcolor\":\"white\",\"linecolor\":\"white\",\"ticks\":\"\"},\"baxis\":{\"gridcolor\":\"white\",\"linecolor\":\"white\",\"ticks\":\"\"},\"bgcolor\":\"#E5ECF6\",\"caxis\":{\"gridcolor\":\"white\",\"linecolor\":\"white\",\"ticks\":\"\"}},\"title\":{\"x\":0.05},\"xaxis\":{\"automargin\":true,\"gridcolor\":\"white\",\"linecolor\":\"white\",\"ticks\":\"\",\"title\":{\"standoff\":15},\"zerolinecolor\":\"white\",\"zerolinewidth\":2},\"yaxis\":{\"automargin\":true,\"gridcolor\":\"white\",\"linecolor\":\"white\",\"ticks\":\"\",\"title\":{\"standoff\":15},\"zerolinecolor\":\"white\",\"zerolinewidth\":2}}},\"title\":{\"text\":\"Recursive Feature Elimination using SHAP Values for NASDAQ Validation Data\"},\"width\":800,\"xaxis\":{\"anchor\":\"y\",\"autorange\":\"reversed\",\"domain\":[0.0,1.0],\"tickangle\":0,\"tickmode\":\"array\",\"title\":{\"text\":\"Number of Features\"}},\"yaxis\":{\"anchor\":\"x\",\"domain\":[0.0,1.0],\"title\":{\"text\":\"AUC\"}}},                        {\"responsive\": true}                    ).then(function(){\n",
       "                            \n",
       "var gd = document.getElementById('d65cf1c2-e4e1-44c3-87bf-844b27c27f6b');\n",
       "var x = new MutationObserver(function (mutations, observer) {{\n",
       "        var display = window.getComputedStyle(gd).display;\n",
       "        if (!display || display === 'none') {{\n",
       "            console.log([gd, 'removed!']);\n",
       "            Plotly.purge(gd);\n",
       "            observer.disconnect();\n",
       "        }}\n",
       "}});\n",
       "\n",
       "// Listen for the removal of the full notebook cells\n",
       "var notebookContainer = gd.closest('#notebook-container');\n",
       "if (notebookContainer) {{\n",
       "    x.observe(notebookContainer, {childList: true});\n",
       "}}\n",
       "\n",
       "// Listen for the clearing of the current output cell\n",
       "var outputEl = gd.closest('.output');\n",
       "if (outputEl) {{\n",
       "    x.observe(outputEl, {childList: true});\n",
       "}}\n",
       "\n",
       "                        })                };                });            </script>        </div>"
      ]
     },
     "metadata": {},
     "output_type": "display_data"
    },
    {
     "data": {
      "application/vnd.plotly.v1+json": {
       "config": {
        "plotlyServerURL": "https://plot.ly"
       },
       "data": [
        {
         "mode": "lines",
         "name": "Lookback 3",
         "type": "scatter",
         "x": [
          48,
          44,
          40,
          36,
          33,
          30,
          27,
          25,
          23,
          21,
          19,
          18,
          17,
          16,
          15,
          14,
          13,
          12,
          11,
          10,
          9,
          8,
          7,
          6,
          5,
          4,
          3,
          2,
          1
         ],
         "xaxis": "x",
         "y": [
          0.981,
          0.977,
          0.977,
          0.969,
          0.963,
          0.964,
          0.959,
          0.959,
          0.948,
          0.95,
          0.943,
          0.938,
          0.935,
          0.936,
          0.931,
          0.92,
          0.923,
          0.913,
          0.914,
          0.898,
          0.898,
          0.895,
          0.88,
          0.866,
          0.844,
          0.831,
          0.804,
          0.753,
          0.661
         ],
         "yaxis": "y"
        },
        {
         "mode": "lines",
         "name": "Lookback 5",
         "type": "scatter",
         "x": [
          47,
          43,
          39,
          36,
          33,
          30,
          27,
          25,
          23,
          21,
          19,
          18,
          17,
          16,
          15,
          14,
          13,
          12,
          11,
          10,
          9,
          8,
          7,
          6,
          5,
          4,
          3,
          2,
          1
         ],
         "xaxis": "x",
         "y": [
          0.812,
          0.8,
          0.802,
          0.792,
          0.79,
          0.781,
          0.771,
          0.769,
          0.759,
          0.756,
          0.745,
          0.743,
          0.739,
          0.725,
          0.714,
          0.715,
          0.706,
          0.704,
          0.698,
          0.703,
          0.695,
          0.691,
          0.677,
          0.669,
          0.663,
          0.645,
          0.633,
          0.612,
          0.587
         ],
         "yaxis": "y"
        },
        {
         "mode": "lines",
         "name": "Lookback 10",
         "type": "scatter",
         "x": [
          49,
          45,
          41,
          37,
          34,
          31,
          28,
          26,
          24,
          22,
          20,
          18,
          17,
          16,
          15,
          14,
          13,
          12,
          11,
          10,
          9,
          8,
          7,
          6,
          5,
          4,
          3,
          2,
          1
         ],
         "xaxis": "x",
         "y": [
          0.719,
          0.719,
          0.719,
          0.719,
          0.719,
          0.719,
          0.719,
          0.712,
          0.705,
          0.699,
          0.695,
          0.693,
          0.693,
          0.667,
          0.667,
          0.667,
          0.666,
          0.672,
          0.652,
          0.647,
          0.627,
          0.625,
          0.604,
          0.603,
          0.591,
          0.599,
          0.604,
          0.576,
          0.568
         ],
         "yaxis": "y"
        },
        {
         "mode": "lines",
         "name": "Lookback 20",
         "type": "scatter",
         "x": [
          49,
          45,
          41,
          37,
          34,
          31,
          28,
          26,
          24,
          22,
          20,
          18,
          17,
          16,
          15,
          14,
          13,
          12,
          11,
          10,
          9,
          8,
          7,
          6,
          5,
          4,
          3,
          2,
          1
         ],
         "xaxis": "x",
         "y": [
          0.984,
          0.98,
          0.981,
          0.977,
          0.974,
          0.973,
          0.966,
          0.957,
          0.963,
          0.954,
          0.949,
          0.947,
          0.944,
          0.945,
          0.941,
          0.944,
          0.939,
          0.935,
          0.93,
          0.924,
          0.914,
          0.905,
          0.887,
          0.89,
          0.863,
          0.836,
          0.807,
          0.758,
          0.659
         ],
         "yaxis": "y"
        }
       ],
       "layout": {
        "shapes": [
         {
          "line": {
           "color": "#636EFF",
           "dash": "dash",
           "width": 2
          },
          "name": "3",
          "type": "line",
          "x0": 8,
          "x1": 8,
          "xref": "x",
          "y0": 0,
          "y1": 1,
          "yref": "y domain"
         },
         {
          "line": {
           "color": "#EF593B",
           "dash": "dash",
           "width": 2
          },
          "name": "5",
          "type": "line",
          "x0": 5,
          "x1": 5,
          "xref": "x",
          "y0": 0,
          "y1": 1,
          "yref": "y domain"
         },
         {
          "line": {
           "color": "#00CC96",
           "dash": "dash",
           "width": 2
          },
          "name": "10",
          "type": "line",
          "x0": 7,
          "x1": 7,
          "xref": "x",
          "y0": 0,
          "y1": 1,
          "yref": "y domain"
         },
         {
          "line": {
           "color": "#AB63FA",
           "dash": "dash",
           "width": 2
          },
          "name": "20",
          "type": "line",
          "x0": 6,
          "x1": 6,
          "xref": "x",
          "y0": 0,
          "y1": 1,
          "yref": "y domain"
         }
        ],
        "template": {
         "data": {
          "bar": [
           {
            "error_x": {
             "color": "#2a3f5f"
            },
            "error_y": {
             "color": "#2a3f5f"
            },
            "marker": {
             "line": {
              "color": "#E5ECF6",
              "width": 0.5
             },
             "pattern": {
              "fillmode": "overlay",
              "size": 10,
              "solidity": 0.2
             }
            },
            "type": "bar"
           }
          ],
          "barpolar": [
           {
            "marker": {
             "line": {
              "color": "#E5ECF6",
              "width": 0.5
             },
             "pattern": {
              "fillmode": "overlay",
              "size": 10,
              "solidity": 0.2
             }
            },
            "type": "barpolar"
           }
          ],
          "carpet": [
           {
            "aaxis": {
             "endlinecolor": "#2a3f5f",
             "gridcolor": "white",
             "linecolor": "white",
             "minorgridcolor": "white",
             "startlinecolor": "#2a3f5f"
            },
            "baxis": {
             "endlinecolor": "#2a3f5f",
             "gridcolor": "white",
             "linecolor": "white",
             "minorgridcolor": "white",
             "startlinecolor": "#2a3f5f"
            },
            "type": "carpet"
           }
          ],
          "choropleth": [
           {
            "colorbar": {
             "outlinewidth": 0,
             "ticks": ""
            },
            "type": "choropleth"
           }
          ],
          "contour": [
           {
            "colorbar": {
             "outlinewidth": 0,
             "ticks": ""
            },
            "colorscale": [
             [
              0,
              "#0d0887"
             ],
             [
              0.1111111111111111,
              "#46039f"
             ],
             [
              0.2222222222222222,
              "#7201a8"
             ],
             [
              0.3333333333333333,
              "#9c179e"
             ],
             [
              0.4444444444444444,
              "#bd3786"
             ],
             [
              0.5555555555555556,
              "#d8576b"
             ],
             [
              0.6666666666666666,
              "#ed7953"
             ],
             [
              0.7777777777777778,
              "#fb9f3a"
             ],
             [
              0.8888888888888888,
              "#fdca26"
             ],
             [
              1,
              "#f0f921"
             ]
            ],
            "type": "contour"
           }
          ],
          "contourcarpet": [
           {
            "colorbar": {
             "outlinewidth": 0,
             "ticks": ""
            },
            "type": "contourcarpet"
           }
          ],
          "heatmap": [
           {
            "colorbar": {
             "outlinewidth": 0,
             "ticks": ""
            },
            "colorscale": [
             [
              0,
              "#0d0887"
             ],
             [
              0.1111111111111111,
              "#46039f"
             ],
             [
              0.2222222222222222,
              "#7201a8"
             ],
             [
              0.3333333333333333,
              "#9c179e"
             ],
             [
              0.4444444444444444,
              "#bd3786"
             ],
             [
              0.5555555555555556,
              "#d8576b"
             ],
             [
              0.6666666666666666,
              "#ed7953"
             ],
             [
              0.7777777777777778,
              "#fb9f3a"
             ],
             [
              0.8888888888888888,
              "#fdca26"
             ],
             [
              1,
              "#f0f921"
             ]
            ],
            "type": "heatmap"
           }
          ],
          "heatmapgl": [
           {
            "colorbar": {
             "outlinewidth": 0,
             "ticks": ""
            },
            "colorscale": [
             [
              0,
              "#0d0887"
             ],
             [
              0.1111111111111111,
              "#46039f"
             ],
             [
              0.2222222222222222,
              "#7201a8"
             ],
             [
              0.3333333333333333,
              "#9c179e"
             ],
             [
              0.4444444444444444,
              "#bd3786"
             ],
             [
              0.5555555555555556,
              "#d8576b"
             ],
             [
              0.6666666666666666,
              "#ed7953"
             ],
             [
              0.7777777777777778,
              "#fb9f3a"
             ],
             [
              0.8888888888888888,
              "#fdca26"
             ],
             [
              1,
              "#f0f921"
             ]
            ],
            "type": "heatmapgl"
           }
          ],
          "histogram": [
           {
            "marker": {
             "pattern": {
              "fillmode": "overlay",
              "size": 10,
              "solidity": 0.2
             }
            },
            "type": "histogram"
           }
          ],
          "histogram2d": [
           {
            "colorbar": {
             "outlinewidth": 0,
             "ticks": ""
            },
            "colorscale": [
             [
              0,
              "#0d0887"
             ],
             [
              0.1111111111111111,
              "#46039f"
             ],
             [
              0.2222222222222222,
              "#7201a8"
             ],
             [
              0.3333333333333333,
              "#9c179e"
             ],
             [
              0.4444444444444444,
              "#bd3786"
             ],
             [
              0.5555555555555556,
              "#d8576b"
             ],
             [
              0.6666666666666666,
              "#ed7953"
             ],
             [
              0.7777777777777778,
              "#fb9f3a"
             ],
             [
              0.8888888888888888,
              "#fdca26"
             ],
             [
              1,
              "#f0f921"
             ]
            ],
            "type": "histogram2d"
           }
          ],
          "histogram2dcontour": [
           {
            "colorbar": {
             "outlinewidth": 0,
             "ticks": ""
            },
            "colorscale": [
             [
              0,
              "#0d0887"
             ],
             [
              0.1111111111111111,
              "#46039f"
             ],
             [
              0.2222222222222222,
              "#7201a8"
             ],
             [
              0.3333333333333333,
              "#9c179e"
             ],
             [
              0.4444444444444444,
              "#bd3786"
             ],
             [
              0.5555555555555556,
              "#d8576b"
             ],
             [
              0.6666666666666666,
              "#ed7953"
             ],
             [
              0.7777777777777778,
              "#fb9f3a"
             ],
             [
              0.8888888888888888,
              "#fdca26"
             ],
             [
              1,
              "#f0f921"
             ]
            ],
            "type": "histogram2dcontour"
           }
          ],
          "mesh3d": [
           {
            "colorbar": {
             "outlinewidth": 0,
             "ticks": ""
            },
            "type": "mesh3d"
           }
          ],
          "parcoords": [
           {
            "line": {
             "colorbar": {
              "outlinewidth": 0,
              "ticks": ""
             }
            },
            "type": "parcoords"
           }
          ],
          "pie": [
           {
            "automargin": true,
            "type": "pie"
           }
          ],
          "scatter": [
           {
            "marker": {
             "colorbar": {
              "outlinewidth": 0,
              "ticks": ""
             }
            },
            "type": "scatter"
           }
          ],
          "scatter3d": [
           {
            "line": {
             "colorbar": {
              "outlinewidth": 0,
              "ticks": ""
             }
            },
            "marker": {
             "colorbar": {
              "outlinewidth": 0,
              "ticks": ""
             }
            },
            "type": "scatter3d"
           }
          ],
          "scattercarpet": [
           {
            "marker": {
             "colorbar": {
              "outlinewidth": 0,
              "ticks": ""
             }
            },
            "type": "scattercarpet"
           }
          ],
          "scattergeo": [
           {
            "marker": {
             "colorbar": {
              "outlinewidth": 0,
              "ticks": ""
             }
            },
            "type": "scattergeo"
           }
          ],
          "scattergl": [
           {
            "marker": {
             "colorbar": {
              "outlinewidth": 0,
              "ticks": ""
             }
            },
            "type": "scattergl"
           }
          ],
          "scattermapbox": [
           {
            "marker": {
             "colorbar": {
              "outlinewidth": 0,
              "ticks": ""
             }
            },
            "type": "scattermapbox"
           }
          ],
          "scatterpolar": [
           {
            "marker": {
             "colorbar": {
              "outlinewidth": 0,
              "ticks": ""
             }
            },
            "type": "scatterpolar"
           }
          ],
          "scatterpolargl": [
           {
            "marker": {
             "colorbar": {
              "outlinewidth": 0,
              "ticks": ""
             }
            },
            "type": "scatterpolargl"
           }
          ],
          "scatterternary": [
           {
            "marker": {
             "colorbar": {
              "outlinewidth": 0,
              "ticks": ""
             }
            },
            "type": "scatterternary"
           }
          ],
          "surface": [
           {
            "colorbar": {
             "outlinewidth": 0,
             "ticks": ""
            },
            "colorscale": [
             [
              0,
              "#0d0887"
             ],
             [
              0.1111111111111111,
              "#46039f"
             ],
             [
              0.2222222222222222,
              "#7201a8"
             ],
             [
              0.3333333333333333,
              "#9c179e"
             ],
             [
              0.4444444444444444,
              "#bd3786"
             ],
             [
              0.5555555555555556,
              "#d8576b"
             ],
             [
              0.6666666666666666,
              "#ed7953"
             ],
             [
              0.7777777777777778,
              "#fb9f3a"
             ],
             [
              0.8888888888888888,
              "#fdca26"
             ],
             [
              1,
              "#f0f921"
             ]
            ],
            "type": "surface"
           }
          ],
          "table": [
           {
            "cells": {
             "fill": {
              "color": "#EBF0F8"
             },
             "line": {
              "color": "white"
             }
            },
            "header": {
             "fill": {
              "color": "#C8D4E3"
             },
             "line": {
              "color": "white"
             }
            },
            "type": "table"
           }
          ]
         },
         "layout": {
          "annotationdefaults": {
           "arrowcolor": "#2a3f5f",
           "arrowhead": 0,
           "arrowwidth": 1
          },
          "autotypenumbers": "strict",
          "coloraxis": {
           "colorbar": {
            "outlinewidth": 0,
            "ticks": ""
           }
          },
          "colorscale": {
           "diverging": [
            [
             0,
             "#8e0152"
            ],
            [
             0.1,
             "#c51b7d"
            ],
            [
             0.2,
             "#de77ae"
            ],
            [
             0.3,
             "#f1b6da"
            ],
            [
             0.4,
             "#fde0ef"
            ],
            [
             0.5,
             "#f7f7f7"
            ],
            [
             0.6,
             "#e6f5d0"
            ],
            [
             0.7,
             "#b8e186"
            ],
            [
             0.8,
             "#7fbc41"
            ],
            [
             0.9,
             "#4d9221"
            ],
            [
             1,
             "#276419"
            ]
           ],
           "sequential": [
            [
             0,
             "#0d0887"
            ],
            [
             0.1111111111111111,
             "#46039f"
            ],
            [
             0.2222222222222222,
             "#7201a8"
            ],
            [
             0.3333333333333333,
             "#9c179e"
            ],
            [
             0.4444444444444444,
             "#bd3786"
            ],
            [
             0.5555555555555556,
             "#d8576b"
            ],
            [
             0.6666666666666666,
             "#ed7953"
            ],
            [
             0.7777777777777778,
             "#fb9f3a"
            ],
            [
             0.8888888888888888,
             "#fdca26"
            ],
            [
             1,
             "#f0f921"
            ]
           ],
           "sequentialminus": [
            [
             0,
             "#0d0887"
            ],
            [
             0.1111111111111111,
             "#46039f"
            ],
            [
             0.2222222222222222,
             "#7201a8"
            ],
            [
             0.3333333333333333,
             "#9c179e"
            ],
            [
             0.4444444444444444,
             "#bd3786"
            ],
            [
             0.5555555555555556,
             "#d8576b"
            ],
            [
             0.6666666666666666,
             "#ed7953"
            ],
            [
             0.7777777777777778,
             "#fb9f3a"
            ],
            [
             0.8888888888888888,
             "#fdca26"
            ],
            [
             1,
             "#f0f921"
            ]
           ]
          },
          "colorway": [
           "#636efa",
           "#EF553B",
           "#00cc96",
           "#ab63fa",
           "#FFA15A",
           "#19d3f3",
           "#FF6692",
           "#B6E880",
           "#FF97FF",
           "#FECB52"
          ],
          "font": {
           "color": "#2a3f5f"
          },
          "geo": {
           "bgcolor": "white",
           "lakecolor": "white",
           "landcolor": "#E5ECF6",
           "showlakes": true,
           "showland": true,
           "subunitcolor": "white"
          },
          "hoverlabel": {
           "align": "left"
          },
          "hovermode": "closest",
          "mapbox": {
           "style": "light"
          },
          "paper_bgcolor": "white",
          "plot_bgcolor": "#E5ECF6",
          "polar": {
           "angularaxis": {
            "gridcolor": "white",
            "linecolor": "white",
            "ticks": ""
           },
           "bgcolor": "#E5ECF6",
           "radialaxis": {
            "gridcolor": "white",
            "linecolor": "white",
            "ticks": ""
           }
          },
          "scene": {
           "xaxis": {
            "backgroundcolor": "#E5ECF6",
            "gridcolor": "white",
            "gridwidth": 2,
            "linecolor": "white",
            "showbackground": true,
            "ticks": "",
            "zerolinecolor": "white"
           },
           "yaxis": {
            "backgroundcolor": "#E5ECF6",
            "gridcolor": "white",
            "gridwidth": 2,
            "linecolor": "white",
            "showbackground": true,
            "ticks": "",
            "zerolinecolor": "white"
           },
           "zaxis": {
            "backgroundcolor": "#E5ECF6",
            "gridcolor": "white",
            "gridwidth": 2,
            "linecolor": "white",
            "showbackground": true,
            "ticks": "",
            "zerolinecolor": "white"
           }
          },
          "shapedefaults": {
           "line": {
            "color": "#2a3f5f"
           }
          },
          "ternary": {
           "aaxis": {
            "gridcolor": "white",
            "linecolor": "white",
            "ticks": ""
           },
           "baxis": {
            "gridcolor": "white",
            "linecolor": "white",
            "ticks": ""
           },
           "bgcolor": "#E5ECF6",
           "caxis": {
            "gridcolor": "white",
            "linecolor": "white",
            "ticks": ""
           }
          },
          "title": {
           "x": 0.05
          },
          "xaxis": {
           "automargin": true,
           "gridcolor": "white",
           "linecolor": "white",
           "ticks": "",
           "title": {
            "standoff": 15
           },
           "zerolinecolor": "white",
           "zerolinewidth": 2
          },
          "yaxis": {
           "automargin": true,
           "gridcolor": "white",
           "linecolor": "white",
           "ticks": "",
           "title": {
            "standoff": 15
           },
           "zerolinecolor": "white",
           "zerolinewidth": 2
          }
         }
        },
        "title": {
         "text": "Recursive Feature Elimination using SHAP Values for NASDAQ Training Data"
        },
        "width": 800,
        "xaxis": {
         "anchor": "y",
         "autorange": "reversed",
         "domain": [
          0,
          1
         ],
         "tickangle": 0,
         "tickmode": "array",
         "title": {
          "text": "Number of Features"
         }
        },
        "yaxis": {
         "anchor": "x",
         "domain": [
          0,
          1
         ],
         "title": {
          "text": "AUC"
         }
        }
       }
      },
      "text/html": [
       "<div>                            <div id=\"8e23e07b-6df9-4e94-8130-14a7cf98f0a8\" class=\"plotly-graph-div\" style=\"height:525px; width:800px;\"></div>            <script type=\"text/javascript\">                require([\"plotly\"], function(Plotly) {                    window.PLOTLYENV=window.PLOTLYENV || {};                                    if (document.getElementById(\"8e23e07b-6df9-4e94-8130-14a7cf98f0a8\")) {                    Plotly.newPlot(                        \"8e23e07b-6df9-4e94-8130-14a7cf98f0a8\",                        [{\"mode\":\"lines\",\"name\":\"Lookback 3\",\"type\":\"scatter\",\"x\":[48,44,40,36,33,30,27,25,23,21,19,18,17,16,15,14,13,12,11,10,9,8,7,6,5,4,3,2,1],\"xaxis\":\"x\",\"y\":[0.981,0.977,0.977,0.969,0.963,0.964,0.959,0.959,0.948,0.95,0.943,0.938,0.935,0.936,0.931,0.92,0.923,0.913,0.914,0.898,0.898,0.895,0.88,0.866,0.844,0.831,0.804,0.753,0.661],\"yaxis\":\"y\"},{\"mode\":\"lines\",\"name\":\"Lookback 5\",\"type\":\"scatter\",\"x\":[47,43,39,36,33,30,27,25,23,21,19,18,17,16,15,14,13,12,11,10,9,8,7,6,5,4,3,2,1],\"xaxis\":\"x\",\"y\":[0.812,0.8,0.802,0.792,0.79,0.781,0.771,0.769,0.759,0.756,0.745,0.743,0.739,0.725,0.714,0.715,0.706,0.704,0.698,0.703,0.695,0.691,0.677,0.669,0.663,0.645,0.633,0.612,0.587],\"yaxis\":\"y\"},{\"mode\":\"lines\",\"name\":\"Lookback 10\",\"type\":\"scatter\",\"x\":[49,45,41,37,34,31,28,26,24,22,20,18,17,16,15,14,13,12,11,10,9,8,7,6,5,4,3,2,1],\"xaxis\":\"x\",\"y\":[0.719,0.719,0.719,0.719,0.719,0.719,0.719,0.712,0.705,0.699,0.695,0.693,0.693,0.667,0.667,0.667,0.666,0.672,0.652,0.647,0.627,0.625,0.604,0.603,0.591,0.599,0.604,0.576,0.568],\"yaxis\":\"y\"},{\"mode\":\"lines\",\"name\":\"Lookback 20\",\"type\":\"scatter\",\"x\":[49,45,41,37,34,31,28,26,24,22,20,18,17,16,15,14,13,12,11,10,9,8,7,6,5,4,3,2,1],\"xaxis\":\"x\",\"y\":[0.984,0.98,0.981,0.977,0.974,0.973,0.966,0.957,0.963,0.954,0.949,0.947,0.944,0.945,0.941,0.944,0.939,0.935,0.93,0.924,0.914,0.905,0.887,0.89,0.863,0.836,0.807,0.758,0.659],\"yaxis\":\"y\"}],                        {\"shapes\":[{\"line\":{\"color\":\"#636EFF\",\"dash\":\"dash\",\"width\":2},\"name\":\"3\",\"type\":\"line\",\"x0\":8,\"x1\":8,\"xref\":\"x\",\"y0\":0,\"y1\":1,\"yref\":\"y domain\"},{\"line\":{\"color\":\"#EF593B\",\"dash\":\"dash\",\"width\":2},\"name\":\"5\",\"type\":\"line\",\"x0\":5,\"x1\":5,\"xref\":\"x\",\"y0\":0,\"y1\":1,\"yref\":\"y domain\"},{\"line\":{\"color\":\"#00CC96\",\"dash\":\"dash\",\"width\":2},\"name\":\"10\",\"type\":\"line\",\"x0\":7,\"x1\":7,\"xref\":\"x\",\"y0\":0,\"y1\":1,\"yref\":\"y domain\"},{\"line\":{\"color\":\"#AB63FA\",\"dash\":\"dash\",\"width\":2},\"name\":\"20\",\"type\":\"line\",\"x0\":6,\"x1\":6,\"xref\":\"x\",\"y0\":0,\"y1\":1,\"yref\":\"y domain\"}],\"template\":{\"data\":{\"bar\":[{\"error_x\":{\"color\":\"#2a3f5f\"},\"error_y\":{\"color\":\"#2a3f5f\"},\"marker\":{\"line\":{\"color\":\"#E5ECF6\",\"width\":0.5},\"pattern\":{\"fillmode\":\"overlay\",\"size\":10,\"solidity\":0.2}},\"type\":\"bar\"}],\"barpolar\":[{\"marker\":{\"line\":{\"color\":\"#E5ECF6\",\"width\":0.5},\"pattern\":{\"fillmode\":\"overlay\",\"size\":10,\"solidity\":0.2}},\"type\":\"barpolar\"}],\"carpet\":[{\"aaxis\":{\"endlinecolor\":\"#2a3f5f\",\"gridcolor\":\"white\",\"linecolor\":\"white\",\"minorgridcolor\":\"white\",\"startlinecolor\":\"#2a3f5f\"},\"baxis\":{\"endlinecolor\":\"#2a3f5f\",\"gridcolor\":\"white\",\"linecolor\":\"white\",\"minorgridcolor\":\"white\",\"startlinecolor\":\"#2a3f5f\"},\"type\":\"carpet\"}],\"choropleth\":[{\"colorbar\":{\"outlinewidth\":0,\"ticks\":\"\"},\"type\":\"choropleth\"}],\"contour\":[{\"colorbar\":{\"outlinewidth\":0,\"ticks\":\"\"},\"colorscale\":[[0.0,\"#0d0887\"],[0.1111111111111111,\"#46039f\"],[0.2222222222222222,\"#7201a8\"],[0.3333333333333333,\"#9c179e\"],[0.4444444444444444,\"#bd3786\"],[0.5555555555555556,\"#d8576b\"],[0.6666666666666666,\"#ed7953\"],[0.7777777777777778,\"#fb9f3a\"],[0.8888888888888888,\"#fdca26\"],[1.0,\"#f0f921\"]],\"type\":\"contour\"}],\"contourcarpet\":[{\"colorbar\":{\"outlinewidth\":0,\"ticks\":\"\"},\"type\":\"contourcarpet\"}],\"heatmap\":[{\"colorbar\":{\"outlinewidth\":0,\"ticks\":\"\"},\"colorscale\":[[0.0,\"#0d0887\"],[0.1111111111111111,\"#46039f\"],[0.2222222222222222,\"#7201a8\"],[0.3333333333333333,\"#9c179e\"],[0.4444444444444444,\"#bd3786\"],[0.5555555555555556,\"#d8576b\"],[0.6666666666666666,\"#ed7953\"],[0.7777777777777778,\"#fb9f3a\"],[0.8888888888888888,\"#fdca26\"],[1.0,\"#f0f921\"]],\"type\":\"heatmap\"}],\"heatmapgl\":[{\"colorbar\":{\"outlinewidth\":0,\"ticks\":\"\"},\"colorscale\":[[0.0,\"#0d0887\"],[0.1111111111111111,\"#46039f\"],[0.2222222222222222,\"#7201a8\"],[0.3333333333333333,\"#9c179e\"],[0.4444444444444444,\"#bd3786\"],[0.5555555555555556,\"#d8576b\"],[0.6666666666666666,\"#ed7953\"],[0.7777777777777778,\"#fb9f3a\"],[0.8888888888888888,\"#fdca26\"],[1.0,\"#f0f921\"]],\"type\":\"heatmapgl\"}],\"histogram\":[{\"marker\":{\"pattern\":{\"fillmode\":\"overlay\",\"size\":10,\"solidity\":0.2}},\"type\":\"histogram\"}],\"histogram2d\":[{\"colorbar\":{\"outlinewidth\":0,\"ticks\":\"\"},\"colorscale\":[[0.0,\"#0d0887\"],[0.1111111111111111,\"#46039f\"],[0.2222222222222222,\"#7201a8\"],[0.3333333333333333,\"#9c179e\"],[0.4444444444444444,\"#bd3786\"],[0.5555555555555556,\"#d8576b\"],[0.6666666666666666,\"#ed7953\"],[0.7777777777777778,\"#fb9f3a\"],[0.8888888888888888,\"#fdca26\"],[1.0,\"#f0f921\"]],\"type\":\"histogram2d\"}],\"histogram2dcontour\":[{\"colorbar\":{\"outlinewidth\":0,\"ticks\":\"\"},\"colorscale\":[[0.0,\"#0d0887\"],[0.1111111111111111,\"#46039f\"],[0.2222222222222222,\"#7201a8\"],[0.3333333333333333,\"#9c179e\"],[0.4444444444444444,\"#bd3786\"],[0.5555555555555556,\"#d8576b\"],[0.6666666666666666,\"#ed7953\"],[0.7777777777777778,\"#fb9f3a\"],[0.8888888888888888,\"#fdca26\"],[1.0,\"#f0f921\"]],\"type\":\"histogram2dcontour\"}],\"mesh3d\":[{\"colorbar\":{\"outlinewidth\":0,\"ticks\":\"\"},\"type\":\"mesh3d\"}],\"parcoords\":[{\"line\":{\"colorbar\":{\"outlinewidth\":0,\"ticks\":\"\"}},\"type\":\"parcoords\"}],\"pie\":[{\"automargin\":true,\"type\":\"pie\"}],\"scatter\":[{\"marker\":{\"colorbar\":{\"outlinewidth\":0,\"ticks\":\"\"}},\"type\":\"scatter\"}],\"scatter3d\":[{\"line\":{\"colorbar\":{\"outlinewidth\":0,\"ticks\":\"\"}},\"marker\":{\"colorbar\":{\"outlinewidth\":0,\"ticks\":\"\"}},\"type\":\"scatter3d\"}],\"scattercarpet\":[{\"marker\":{\"colorbar\":{\"outlinewidth\":0,\"ticks\":\"\"}},\"type\":\"scattercarpet\"}],\"scattergeo\":[{\"marker\":{\"colorbar\":{\"outlinewidth\":0,\"ticks\":\"\"}},\"type\":\"scattergeo\"}],\"scattergl\":[{\"marker\":{\"colorbar\":{\"outlinewidth\":0,\"ticks\":\"\"}},\"type\":\"scattergl\"}],\"scattermapbox\":[{\"marker\":{\"colorbar\":{\"outlinewidth\":0,\"ticks\":\"\"}},\"type\":\"scattermapbox\"}],\"scatterpolar\":[{\"marker\":{\"colorbar\":{\"outlinewidth\":0,\"ticks\":\"\"}},\"type\":\"scatterpolar\"}],\"scatterpolargl\":[{\"marker\":{\"colorbar\":{\"outlinewidth\":0,\"ticks\":\"\"}},\"type\":\"scatterpolargl\"}],\"scatterternary\":[{\"marker\":{\"colorbar\":{\"outlinewidth\":0,\"ticks\":\"\"}},\"type\":\"scatterternary\"}],\"surface\":[{\"colorbar\":{\"outlinewidth\":0,\"ticks\":\"\"},\"colorscale\":[[0.0,\"#0d0887\"],[0.1111111111111111,\"#46039f\"],[0.2222222222222222,\"#7201a8\"],[0.3333333333333333,\"#9c179e\"],[0.4444444444444444,\"#bd3786\"],[0.5555555555555556,\"#d8576b\"],[0.6666666666666666,\"#ed7953\"],[0.7777777777777778,\"#fb9f3a\"],[0.8888888888888888,\"#fdca26\"],[1.0,\"#f0f921\"]],\"type\":\"surface\"}],\"table\":[{\"cells\":{\"fill\":{\"color\":\"#EBF0F8\"},\"line\":{\"color\":\"white\"}},\"header\":{\"fill\":{\"color\":\"#C8D4E3\"},\"line\":{\"color\":\"white\"}},\"type\":\"table\"}]},\"layout\":{\"annotationdefaults\":{\"arrowcolor\":\"#2a3f5f\",\"arrowhead\":0,\"arrowwidth\":1},\"autotypenumbers\":\"strict\",\"coloraxis\":{\"colorbar\":{\"outlinewidth\":0,\"ticks\":\"\"}},\"colorscale\":{\"diverging\":[[0,\"#8e0152\"],[0.1,\"#c51b7d\"],[0.2,\"#de77ae\"],[0.3,\"#f1b6da\"],[0.4,\"#fde0ef\"],[0.5,\"#f7f7f7\"],[0.6,\"#e6f5d0\"],[0.7,\"#b8e186\"],[0.8,\"#7fbc41\"],[0.9,\"#4d9221\"],[1,\"#276419\"]],\"sequential\":[[0.0,\"#0d0887\"],[0.1111111111111111,\"#46039f\"],[0.2222222222222222,\"#7201a8\"],[0.3333333333333333,\"#9c179e\"],[0.4444444444444444,\"#bd3786\"],[0.5555555555555556,\"#d8576b\"],[0.6666666666666666,\"#ed7953\"],[0.7777777777777778,\"#fb9f3a\"],[0.8888888888888888,\"#fdca26\"],[1.0,\"#f0f921\"]],\"sequentialminus\":[[0.0,\"#0d0887\"],[0.1111111111111111,\"#46039f\"],[0.2222222222222222,\"#7201a8\"],[0.3333333333333333,\"#9c179e\"],[0.4444444444444444,\"#bd3786\"],[0.5555555555555556,\"#d8576b\"],[0.6666666666666666,\"#ed7953\"],[0.7777777777777778,\"#fb9f3a\"],[0.8888888888888888,\"#fdca26\"],[1.0,\"#f0f921\"]]},\"colorway\":[\"#636efa\",\"#EF553B\",\"#00cc96\",\"#ab63fa\",\"#FFA15A\",\"#19d3f3\",\"#FF6692\",\"#B6E880\",\"#FF97FF\",\"#FECB52\"],\"font\":{\"color\":\"#2a3f5f\"},\"geo\":{\"bgcolor\":\"white\",\"lakecolor\":\"white\",\"landcolor\":\"#E5ECF6\",\"showlakes\":true,\"showland\":true,\"subunitcolor\":\"white\"},\"hoverlabel\":{\"align\":\"left\"},\"hovermode\":\"closest\",\"mapbox\":{\"style\":\"light\"},\"paper_bgcolor\":\"white\",\"plot_bgcolor\":\"#E5ECF6\",\"polar\":{\"angularaxis\":{\"gridcolor\":\"white\",\"linecolor\":\"white\",\"ticks\":\"\"},\"bgcolor\":\"#E5ECF6\",\"radialaxis\":{\"gridcolor\":\"white\",\"linecolor\":\"white\",\"ticks\":\"\"}},\"scene\":{\"xaxis\":{\"backgroundcolor\":\"#E5ECF6\",\"gridcolor\":\"white\",\"gridwidth\":2,\"linecolor\":\"white\",\"showbackground\":true,\"ticks\":\"\",\"zerolinecolor\":\"white\"},\"yaxis\":{\"backgroundcolor\":\"#E5ECF6\",\"gridcolor\":\"white\",\"gridwidth\":2,\"linecolor\":\"white\",\"showbackground\":true,\"ticks\":\"\",\"zerolinecolor\":\"white\"},\"zaxis\":{\"backgroundcolor\":\"#E5ECF6\",\"gridcolor\":\"white\",\"gridwidth\":2,\"linecolor\":\"white\",\"showbackground\":true,\"ticks\":\"\",\"zerolinecolor\":\"white\"}},\"shapedefaults\":{\"line\":{\"color\":\"#2a3f5f\"}},\"ternary\":{\"aaxis\":{\"gridcolor\":\"white\",\"linecolor\":\"white\",\"ticks\":\"\"},\"baxis\":{\"gridcolor\":\"white\",\"linecolor\":\"white\",\"ticks\":\"\"},\"bgcolor\":\"#E5ECF6\",\"caxis\":{\"gridcolor\":\"white\",\"linecolor\":\"white\",\"ticks\":\"\"}},\"title\":{\"x\":0.05},\"xaxis\":{\"automargin\":true,\"gridcolor\":\"white\",\"linecolor\":\"white\",\"ticks\":\"\",\"title\":{\"standoff\":15},\"zerolinecolor\":\"white\",\"zerolinewidth\":2},\"yaxis\":{\"automargin\":true,\"gridcolor\":\"white\",\"linecolor\":\"white\",\"ticks\":\"\",\"title\":{\"standoff\":15},\"zerolinecolor\":\"white\",\"zerolinewidth\":2}}},\"title\":{\"text\":\"Recursive Feature Elimination using SHAP Values for NASDAQ Training Data\"},\"width\":800,\"xaxis\":{\"anchor\":\"y\",\"autorange\":\"reversed\",\"domain\":[0.0,1.0],\"tickangle\":0,\"tickmode\":\"array\",\"title\":{\"text\":\"Number of Features\"}},\"yaxis\":{\"anchor\":\"x\",\"domain\":[0.0,1.0],\"title\":{\"text\":\"AUC\"}}},                        {\"responsive\": true}                    ).then(function(){\n",
       "                            \n",
       "var gd = document.getElementById('8e23e07b-6df9-4e94-8130-14a7cf98f0a8');\n",
       "var x = new MutationObserver(function (mutations, observer) {{\n",
       "        var display = window.getComputedStyle(gd).display;\n",
       "        if (!display || display === 'none') {{\n",
       "            console.log([gd, 'removed!']);\n",
       "            Plotly.purge(gd);\n",
       "            observer.disconnect();\n",
       "        }}\n",
       "}});\n",
       "\n",
       "// Listen for the removal of the full notebook cells\n",
       "var notebookContainer = gd.closest('#notebook-container');\n",
       "if (notebookContainer) {{\n",
       "    x.observe(notebookContainer, {childList: true});\n",
       "}}\n",
       "\n",
       "// Listen for the clearing of the current output cell\n",
       "var outputEl = gd.closest('.output');\n",
       "if (outputEl) {{\n",
       "    x.observe(outputEl, {childList: true});\n",
       "}}\n",
       "\n",
       "                        })                };                });            </script>        </div>"
      ]
     },
     "metadata": {},
     "output_type": "display_data"
    }
   ],
   "source": [
    "def plot_performance_combined(reports, n_features=0, lookback=0):\n",
    "    fig1 = make_subplots(rows=1, cols=1, specs=[[{'type':'xy'}]])\n",
    "    \n",
    "    width = 800\n",
    "    \n",
    "    lookbacks = [3, 5, 10, 20]\n",
    "    nf = [8, 5, 7, 6]\n",
    "    colors = ['#636EFF', '#EF593B', '#00CC96', '#AB63FA']\n",
    "    \n",
    "    x_ticks = []\n",
    "    for i, report_df in enumerate(reports):\n",
    "        report_df = report_df[report_df['num_features'] <= 49]\n",
    "        x_ticks_current = report_df[\"num_features\"].tolist()\n",
    "        x_ticks = x_ticks + x_ticks_current\n",
    "        fig1.add_trace(go.Scatter(x=report_df[\"num_features\"], y=report_df[\"val_metric_mean\"], mode=\"lines\", line=dict(color=colors[i]), name=f\"Lookback {lookbacks[i]}\"), row=1, col=1)\n",
    "        fig1.add_vline(x=nf[i], line_width=2, line_dash=\"dash\", line_color=colors[i], name=lookbacks[i])\n",
    "        print(report_df[report_df.num_features == round(nf[i])][\"features_set\"].values[0])\n",
    "    x_ticks = list(dict.fromkeys(x_ticks))\n",
    "    x_ticks = x_ticks.sort()\n",
    "    fig1.update_layout(\n",
    "        title = f'Recursive Feature Elimination using SHAP Values for NASDAQ Validation Data', \n",
    "        xaxis1 = dict(title_text = 'Number of Features', \n",
    "                      autorange='reversed',\n",
    "                      tickmode='array', \n",
    "                      tickvals=x_ticks, \n",
    "                      ticktext=x_ticks, \n",
    "                      tickangle=0),\n",
    "        yaxis1 = dict(title_text = \"AUC\"),\n",
    "        width = width\n",
    "    )\n",
    "    fig1.write_image(f\"Plots/SHAP NASDAQ full direction validation.png\")\n",
    "    fig1.show()\n",
    "    \n",
    "    fig1 = make_subplots(rows=1, cols=1, specs=[[{'type':'xy'}]])\n",
    "    x_ticks = []\n",
    "    for i, report_df in enumerate(reports):\n",
    "        report_df = report_df[report_df['num_features'] <= 49]\n",
    "        x_ticks_current = report_df[\"num_features\"].tolist()\n",
    "        x_ticks = x_ticks + x_ticks_current\n",
    "        fig1.add_trace(go.Scatter(x=report_df[\"num_features\"], y=report_df[\"train_metric_mean\"], mode=\"lines\", name=f\"Lookback {lookbacks[i]}\"), row=1, col=1)\n",
    "        fig1.add_vline(x=nf[i], line_width=2, line_dash=\"dash\", line_color=colors[i], name=lookbacks[i])\n",
    "    x_ticks = list(dict.fromkeys(x_ticks))\n",
    "    x_ticks = x_ticks.sort()\n",
    "    fig1.update_layout(\n",
    "        title = f'Recursive Feature Elimination using SHAP Values for NASDAQ Training Data', \n",
    "        xaxis1 = dict(title_text = 'Number of Features', \n",
    "                      autorange='reversed',\n",
    "                      tickmode='array', \n",
    "                      tickvals=x_ticks, \n",
    "                      ticktext=x_ticks, \n",
    "                      tickangle=0),\n",
    "        yaxis1 = dict(title_text = \"AUC\"),\n",
    "        width = width\n",
    "    )\n",
    "    fig1.write_image(f\"Plots/SHAP NASDAQ full direction train.png\")\n",
    "    fig1.show()\n",
    "\n",
    "\n",
    "plot_performance_combined(reports)"
   ]
  },
  {
   "cell_type": "code",
   "execution_count": null,
   "metadata": {},
   "outputs": [],
   "source": []
  },
  {
   "cell_type": "code",
   "execution_count": null,
   "metadata": {},
   "outputs": [],
   "source": []
  },
  {
   "cell_type": "code",
   "execution_count": null,
   "metadata": {},
   "outputs": [],
   "source": []
  },
  {
   "cell_type": "code",
   "execution_count": null,
   "metadata": {},
   "outputs": [],
   "source": []
  },
  {
   "cell_type": "code",
   "execution_count": null,
   "metadata": {},
   "outputs": [],
   "source": []
  },
  {
   "cell_type": "code",
   "execution_count": null,
   "metadata": {},
   "outputs": [],
   "source": []
  },
  {
   "cell_type": "code",
   "execution_count": null,
   "metadata": {},
   "outputs": [],
   "source": []
  },
  {
   "cell_type": "code",
   "execution_count": null,
   "metadata": {},
   "outputs": [],
   "source": []
  },
  {
   "cell_type": "code",
   "execution_count": null,
   "metadata": {},
   "outputs": [],
   "source": []
  }
 ],
 "metadata": {
  "kernelspec": {
   "display_name": "Python 3 (ipykernel)",
   "language": "python",
   "name": "python3"
  },
  "language_info": {
   "codemirror_mode": {
    "name": "ipython",
    "version": 3
   },
   "file_extension": ".py",
   "mimetype": "text/x-python",
   "name": "python",
   "nbconvert_exporter": "python",
   "pygments_lexer": "ipython3",
   "version": "3.7.4"
  }
 },
 "nbformat": 4,
 "nbformat_minor": 2
}
