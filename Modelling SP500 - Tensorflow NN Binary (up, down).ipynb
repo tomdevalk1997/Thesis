{
 "cells": [
  {
   "cell_type": "code",
   "execution_count": 1,
   "metadata": {},
   "outputs": [],
   "source": [
    "import warnings\n",
    "warnings.simplefilter(action='ignore', category=UserWarning)\n",
    "\n",
    "import pandas as pd\n",
    "import numpy as np\n",
    "from datetime import datetime, timedelta\n",
    "import plotly.graph_objs as go\n",
    "import plotly.express as px\n",
    "from plotly.subplots import make_subplots\n",
    "import gzip\n",
    "from datetime import datetime, timedelta\n",
    "from statistics import mean, median\n",
    "from sklearn.neural_network import MLPClassifier\n",
    "from sklearn.ensemble import RandomForestClassifier\n",
    "import seaborn as sns\n",
    "import matplotlib.pyplot as plt\n",
    "\n",
    "import tensorflow\n",
    "import tensorflow.keras as tf\n",
    "from tensorflow.keras.models import Model, Sequential\n",
    "from tensorflow.keras.layers import Input, Dense, LSTM, Conv1D, Conv2D, Dropout\n",
    "from tensorflow.keras.activations import sigmoid, tanh\n",
    "from tensorflow.keras.utils import to_categorical\n",
    "\n",
    "from sklearn.preprocessing import MinMaxScaler\n",
    "\n",
    "from tqdm import tqdm\n",
    "import csv\n",
    "import random\n",
    "\n",
    "from sklearn.metrics import accuracy_score as accuracy\n",
    "from sklearn.metrics import precision_score as precision\n",
    "from sklearn.metrics import recall_score as recall\n",
    "from sklearn.metrics import f1_score as f1"
   ]
  },
  {
   "cell_type": "code",
   "execution_count": 2,
   "metadata": {},
   "outputs": [],
   "source": [
    "def retrieve_data(varname, filename):\n",
    "    df = pd.read_csv(filename, index_col=0)\n",
    "#     df = pd.read_csv(filename)\n",
    "    df[\"Date\"] = pd.to_datetime(df[\"Date\"])\n",
    "    return df\n",
    "\n",
    "def create_classification_data(df, lookback, features=[]):\n",
    "    rows = []\n",
    "    \n",
    "    if features != []:\n",
    "        df = df[features].copy()\n",
    "    columns = ['Date', 'SP500_relative_change_perc_1'] # Date and SP500_relative_change_perc_1 from t-0 are added first as target variables \n",
    "    \n",
    "    # create column names based on original with the addition of t-i where i is lookback\n",
    "    for i in range(1, lookback + 1): # starts at 1 since we do not want t-0 variables apart from 'Date' and 'SP500_relative_change_perc_1'\n",
    "        new_columns = df.columns.tolist()[1:] # starts at 1 to exclude 'Date' column\n",
    "        for x in range(len(new_columns)):\n",
    "            new_columns[x] = new_columns[x] + \"_t-\" + str(i)\n",
    "        columns = columns + new_columns\n",
    "    \n",
    "    # create lookback data\n",
    "    for i, row in enumerate(df.iterrows()):\n",
    "        if i > lookback: # lookback cannot be determined for earlier rows\n",
    "            new_row = [row[1][0], row[1][1]] # add target 'Date' and 'SP500_relative_change_perc_1 '\n",
    "            for x in range(1, lookback + 1): # starts at 1 since we do not want t-0 variables apart from 'Date' and 'SP500_relative_change_perc_1'\n",
    "                add_row = df.iloc[i - x].tolist()[1:] # starts at 1 to exclude 'Date' column\n",
    "                new_row = new_row + add_row\n",
    "            rows.append(new_row)\n",
    "    df2 = pd.DataFrame(rows)\n",
    "    df2.columns = columns\n",
    "    return df2\n",
    "\n",
    "def create_train_val_test(df, year_val, year_test, perc_train=None):\n",
    "    if perc_train == None:\n",
    "        # assumes years_train < year_val < year_test\n",
    "        df[\"Date\"] = pd.to_datetime(df[\"Date\"])\n",
    "        \n",
    "        val = df[df['Date'].dt.year == year_val]\n",
    "        test = df[df['Date'].dt.year == year_test]\n",
    "        train = df[df['Date'].dt.year < year_val]\n",
    "    else:\n",
    "        train = df.head(round(len(df) * perc_train))\n",
    "        val = df.tail(len(df) - len(train))\n",
    "        test = val.tail(round(0.5 * len(val)))\n",
    "        val = val.head(len(val) - len(test))\n",
    "    y_train = train['SP500_relative_change_perc_1']\n",
    "    x_train = train.drop(['SP500_relative_change_perc_1'], axis=1)\n",
    "    \n",
    "    y_val = val['SP500_relative_change_perc_1']\n",
    "    x_val = val.drop(['SP500_relative_change_perc_1'], axis=1)\n",
    "    \n",
    "    y_test = test['SP500_relative_change_perc_1']\n",
    "    x_test = test.drop(['SP500_relative_change_perc_1'], axis=1)\n",
    "    \n",
    "    return x_train, y_train, x_val, y_val, x_test, y_test\n",
    "\n",
    "def scale_data(x):\n",
    "    standard_scaler = MinMaxScaler()\n",
    "    x_scaled = pd.DataFrame(standard_scaler.fit_transform(x), columns=x.columns)\n",
    "    return x_scaled"
   ]
  },
  {
   "cell_type": "code",
   "execution_count": 3,
   "metadata": {
    "scrolled": false
   },
   "outputs": [],
   "source": [
    "lookback = 16\n",
    "val_year = 2018\n",
    "test_year = 2019\n",
    "\n",
    "files = {\n",
    "    # varname: filename\n",
    "    \"S&P500\": \"Dataset v3/SP500_reduced_data_20220425.csv\",\n",
    "#     \"S&P500\": \"Dataset v3/SP500_combined_data_20220422.csv\"\n",
    "}\n",
    "\n",
    "for file in files:\n",
    "    df = retrieve_data(file, files[file])\n",
    "\n",
    "df = create_classification_data(df, lookback, ['Date', 'SP500_relative_change_perc_1', 'SP500_stochastic_K_20', 'Gold_F_relative_change_perc_1'])\n",
    "\n",
    "x_train, y_train, x_val, y_val, x_test, y_test = create_train_val_test(df, val_year, test_year)"
   ]
  },
  {
   "cell_type": "code",
   "execution_count": 4,
   "metadata": {},
   "outputs": [],
   "source": [
    "def label_data(y):\n",
    "    positives = []\n",
    "    negatives = []\n",
    "    y = list(y)\n",
    "    \n",
    "    labels = []\n",
    "    for dev in y:\n",
    "        if dev >= 0:\n",
    "            labels.append(1)\n",
    "        else:\n",
    "            labels.append(0)\n",
    "    return labels\n",
    "# \n",
    "y_train = label_data(y_train)\n",
    "y_val = label_data(y_val)\n",
    "y_test = label_data(y_test)"
   ]
  },
  {
   "cell_type": "code",
   "execution_count": 5,
   "metadata": {},
   "outputs": [
    {
     "name": "stdout",
     "output_type": "stream",
     "text": [
      "Random baseline training set\n",
      "\tDistribution: [964, 1160]\n",
      "\tRandom baseline accuracy (majority class): 0.5461393596986818\n",
      "Random baseline validation set\n",
      "\tDistribution: [124, 127]\n",
      "\tRandom baseline accuracy (majority class): 0.5059760956175299\n",
      "Random baseline test set\n",
      "\tDistribution: [105, 147]\n",
      "\tRandom baseline accuracy (majority class): 0.5833333333333334\n"
     ]
    }
   ],
   "source": [
    "def random_baseline(y):\n",
    "    counts = [0, 0]\n",
    "    for i in y:\n",
    "        if i == 0:\n",
    "            counts[0] = counts[0] + 1\n",
    "        elif i == 1:\n",
    "            counts[1] = counts[1] + 1\n",
    "    print(f\"\\tDistribution: {counts}\")\n",
    "    print(f\"\\tRandom baseline accuracy (majority class): {counts[np.argmax(np.asarray(counts))]/ len(y)}\")\n",
    "    \n",
    "print(\"Random baseline training set\")\n",
    "random_baseline(y_train)\n",
    "print(\"Random baseline validation set\")\n",
    "random_baseline(y_val)\n",
    "print(\"Random baseline test set\")\n",
    "random_baseline(y_test)"
   ]
  },
  {
   "cell_type": "code",
   "execution_count": 6,
   "metadata": {},
   "outputs": [],
   "source": [
    "train_date = x_train[['Date']]\n",
    "x_train = x_train.drop(['Date'], axis=1)\n",
    "x_train = scale_data(x_train)\n",
    "\n",
    "val_date = x_val[['Date']]\n",
    "x_val = x_val.drop(['Date'], axis=1)\n",
    "x_val = scale_data(x_val)\n",
    "\n",
    "test_date = x_test[['Date']]\n",
    "x_test = x_test.drop(['Date'], axis=1)\n",
    "x_test = scale_data(x_test)"
   ]
  },
  {
   "cell_type": "code",
   "execution_count": 7,
   "metadata": {},
   "outputs": [
    {
     "name": "stdout",
     "output_type": "stream",
     "text": [
      "(2124, 48) (2124,)\n"
     ]
    }
   ],
   "source": [
    "x_train = np.asarray(x_train)\n",
    "x_val = np.asarray(x_val)\n",
    "x_test = np.asarray(x_test)\n",
    "\n",
    "y_train = np.asarray(y_train)\n",
    "y_val = np.asarray(y_val)\n",
    "y_test = np.asarray(y_test)\n",
    "\n",
    "print(x_train.shape, y_train.shape)"
   ]
  },
  {
   "cell_type": "code",
   "execution_count": 8,
   "metadata": {},
   "outputs": [],
   "source": [
    "x_train = x_train.reshape((x_train.shape[0], 1, x_train.shape[1]))\n",
    "x_val = x_val.reshape((x_val.shape[0], 1, x_val.shape[1]))\n",
    "x_test = x_test.reshape((x_test.shape[0], 1, x_test.shape[1]))\n",
    "\n",
    "# y_train = to_categorical(y_train, 1)\n",
    "# y_val = to_categorical(y_val, 1)\n",
    "# y_test = to_categorical(y_test, 1)\n",
    "\n",
    "y_train = y_train.reshape((y_train.shape[0], 1))\n",
    "y_val = y_val.reshape((y_val.shape[0], 1))\n",
    "y_test = y_test.reshape((y_test.shape[0], 1))"
   ]
  },
  {
   "cell_type": "code",
   "execution_count": 9,
   "metadata": {},
   "outputs": [
    {
     "name": "stdout",
     "output_type": "stream",
     "text": [
      "(2124, 1, 48) (2124, 1)\n",
      "(251, 1, 48) (251, 1)\n",
      "(252, 1, 48) (252, 1)\n"
     ]
    }
   ],
   "source": [
    "print(x_train.shape, y_train.shape)\n",
    "print(x_val.shape, y_val.shape)\n",
    "print(x_test.shape, y_test.shape)\n"
   ]
  },
  {
   "cell_type": "code",
   "execution_count": 10,
   "metadata": {
    "scrolled": true
   },
   "outputs": [
    {
     "name": "stderr",
     "output_type": "stream",
     "text": [
      "2022-05-15 08:59:34.338878: I tensorflow/compiler/jit/xla_cpu_device.cc:41] Not creating XLA devices, tf_xla_enable_xla_devices not set\n",
      "2022-05-15 08:59:34.348598: I tensorflow/core/platform/cpu_feature_guard.cc:142] This TensorFlow binary is optimized with oneAPI Deep Neural Network Library (oneDNN) to use the following CPU instructions in performance-critical operations:  AVX2 FMA\n",
      "To enable them in other operations, rebuild TensorFlow with the appropriate compiler flags.\n",
      "2022-05-15 08:59:34.578952: I tensorflow/compiler/mlir/mlir_graph_optimization_pass.cc:116] None of the MLIR optimization passes are enabled (registered 2)\n"
     ]
    },
    {
     "name": "stdout",
     "output_type": "stream",
     "text": [
      "Epoch 1/425\n",
      "34/34 [==============================] - 1s 19ms/step - loss: 0.6908 - acc: 0.5454 - val_loss: 0.6943 - val_acc: 0.4701\n",
      "Epoch 2/425\n",
      "34/34 [==============================] - 0s 3ms/step - loss: 0.6899 - acc: 0.5413 - val_loss: 0.6947 - val_acc: 0.4741\n",
      "Epoch 3/425\n",
      "34/34 [==============================] - 0s 2ms/step - loss: 0.6891 - acc: 0.5463 - val_loss: 0.6925 - val_acc: 0.5259\n",
      "Epoch 4/425\n",
      "34/34 [==============================] - 0s 3ms/step - loss: 0.6893 - acc: 0.5437 - val_loss: 0.6941 - val_acc: 0.5060\n",
      "Epoch 5/425\n",
      "34/34 [==============================] - 0s 2ms/step - loss: 0.6887 - acc: 0.5606 - val_loss: 0.6928 - val_acc: 0.5060\n",
      "Epoch 6/425\n",
      "34/34 [==============================] - 0s 2ms/step - loss: 0.6866 - acc: 0.5584 - val_loss: 0.6930 - val_acc: 0.5060\n",
      "Epoch 7/425\n",
      "34/34 [==============================] - 0s 2ms/step - loss: 0.6880 - acc: 0.5530 - val_loss: 0.6945 - val_acc: 0.5060\n",
      "Epoch 8/425\n",
      "34/34 [==============================] - 0s 2ms/step - loss: 0.6876 - acc: 0.5592 - val_loss: 0.6947 - val_acc: 0.5060\n",
      "Epoch 9/425\n",
      "34/34 [==============================] - 0s 2ms/step - loss: 0.6864 - acc: 0.5598 - val_loss: 0.6948 - val_acc: 0.5060\n",
      "Epoch 10/425\n",
      "34/34 [==============================] - 0s 2ms/step - loss: 0.6876 - acc: 0.5484 - val_loss: 0.6940 - val_acc: 0.5100\n",
      "Epoch 11/425\n",
      "34/34 [==============================] - 0s 2ms/step - loss: 0.6873 - acc: 0.5581 - val_loss: 0.6939 - val_acc: 0.5060\n",
      "Epoch 12/425\n",
      "34/34 [==============================] - 0s 5ms/step - loss: 0.6872 - acc: 0.5595 - val_loss: 0.6963 - val_acc: 0.5060\n",
      "Epoch 13/425\n",
      "34/34 [==============================] - 0s 2ms/step - loss: 0.6876 - acc: 0.5538 - val_loss: 0.6956 - val_acc: 0.5060\n",
      "Epoch 14/425\n",
      "34/34 [==============================] - 0s 2ms/step - loss: 0.6862 - acc: 0.5530 - val_loss: 0.6962 - val_acc: 0.5060\n",
      "Epoch 15/425\n",
      "34/34 [==============================] - 0s 3ms/step - loss: 0.6856 - acc: 0.5573 - val_loss: 0.6961 - val_acc: 0.5060\n",
      "Epoch 16/425\n",
      "34/34 [==============================] - 0s 2ms/step - loss: 0.6868 - acc: 0.5577 - val_loss: 0.6948 - val_acc: 0.5060\n",
      "Epoch 17/425\n",
      "34/34 [==============================] - 0s 2ms/step - loss: 0.6864 - acc: 0.5644 - val_loss: 0.6948 - val_acc: 0.5060\n",
      "Epoch 18/425\n",
      "34/34 [==============================] - 0s 2ms/step - loss: 0.6863 - acc: 0.5597 - val_loss: 0.6959 - val_acc: 0.5060\n",
      "Epoch 19/425\n",
      "34/34 [==============================] - 0s 2ms/step - loss: 0.6858 - acc: 0.5602 - val_loss: 0.6959 - val_acc: 0.5020\n",
      "Epoch 20/425\n",
      "34/34 [==============================] - 0s 2ms/step - loss: 0.6863 - acc: 0.5485 - val_loss: 0.6953 - val_acc: 0.5060\n",
      "Epoch 21/425\n",
      "34/34 [==============================] - 0s 2ms/step - loss: 0.6875 - acc: 0.5565 - val_loss: 0.6960 - val_acc: 0.5060\n",
      "Epoch 22/425\n",
      "34/34 [==============================] - 0s 2ms/step - loss: 0.6844 - acc: 0.5597 - val_loss: 0.6946 - val_acc: 0.5060\n",
      "Epoch 23/425\n",
      "34/34 [==============================] - 0s 2ms/step - loss: 0.6843 - acc: 0.5597 - val_loss: 0.6961 - val_acc: 0.5060\n",
      "Epoch 24/425\n",
      "34/34 [==============================] - 0s 2ms/step - loss: 0.6843 - acc: 0.5604 - val_loss: 0.6953 - val_acc: 0.5100\n",
      "Epoch 25/425\n",
      "34/34 [==============================] - 0s 2ms/step - loss: 0.6838 - acc: 0.5585 - val_loss: 0.6955 - val_acc: 0.5179\n",
      "Epoch 26/425\n",
      "34/34 [==============================] - 0s 2ms/step - loss: 0.6859 - acc: 0.5467 - val_loss: 0.6975 - val_acc: 0.5060\n",
      "Epoch 27/425\n",
      "34/34 [==============================] - 0s 2ms/step - loss: 0.6846 - acc: 0.5644 - val_loss: 0.6955 - val_acc: 0.5060\n",
      "Epoch 28/425\n",
      "34/34 [==============================] - 0s 2ms/step - loss: 0.6843 - acc: 0.5556 - val_loss: 0.6938 - val_acc: 0.5339\n",
      "Epoch 29/425\n",
      "34/34 [==============================] - 0s 3ms/step - loss: 0.6848 - acc: 0.5621 - val_loss: 0.6952 - val_acc: 0.5458\n",
      "Epoch 30/425\n",
      "34/34 [==============================] - 0s 2ms/step - loss: 0.6833 - acc: 0.5586 - val_loss: 0.6949 - val_acc: 0.5060\n",
      "Epoch 31/425\n",
      "34/34 [==============================] - 0s 2ms/step - loss: 0.6838 - acc: 0.5491 - val_loss: 0.6940 - val_acc: 0.5139\n",
      "Epoch 32/425\n",
      "34/34 [==============================] - 0s 2ms/step - loss: 0.6848 - acc: 0.5512 - val_loss: 0.6950 - val_acc: 0.5339\n",
      "Epoch 33/425\n",
      "34/34 [==============================] - 0s 5ms/step - loss: 0.6845 - acc: 0.5597 - val_loss: 0.6966 - val_acc: 0.5100\n",
      "Epoch 34/425\n",
      "34/34 [==============================] - 0s 2ms/step - loss: 0.6840 - acc: 0.5583 - val_loss: 0.6965 - val_acc: 0.5219\n",
      "Epoch 35/425\n",
      "34/34 [==============================] - 0s 2ms/step - loss: 0.6819 - acc: 0.5620 - val_loss: 0.6944 - val_acc: 0.5179\n",
      "Epoch 36/425\n",
      "34/34 [==============================] - 0s 2ms/step - loss: 0.6820 - acc: 0.5629 - val_loss: 0.6971 - val_acc: 0.5259\n",
      "Epoch 37/425\n",
      "34/34 [==============================] - 0s 2ms/step - loss: 0.6837 - acc: 0.5591 - val_loss: 0.6979 - val_acc: 0.5179\n",
      "Epoch 38/425\n",
      "34/34 [==============================] - 0s 2ms/step - loss: 0.6826 - acc: 0.5576 - val_loss: 0.6947 - val_acc: 0.5179\n",
      "Epoch 39/425\n",
      "34/34 [==============================] - 0s 2ms/step - loss: 0.6788 - acc: 0.5635 - val_loss: 0.6951 - val_acc: 0.5299\n",
      "Epoch 40/425\n",
      "34/34 [==============================] - 0s 2ms/step - loss: 0.6840 - acc: 0.5466 - val_loss: 0.6975 - val_acc: 0.5179\n",
      "Epoch 41/425\n",
      "34/34 [==============================] - 0s 2ms/step - loss: 0.6825 - acc: 0.5597 - val_loss: 0.6960 - val_acc: 0.5339\n",
      "Epoch 42/425\n",
      "34/34 [==============================] - 0s 3ms/step - loss: 0.6833 - acc: 0.5511 - val_loss: 0.6951 - val_acc: 0.5339\n",
      "Epoch 43/425\n",
      "34/34 [==============================] - 0s 3ms/step - loss: 0.6796 - acc: 0.5669 - val_loss: 0.6969 - val_acc: 0.5179\n",
      "Epoch 44/425\n",
      "34/34 [==============================] - 0s 4ms/step - loss: 0.6817 - acc: 0.5402 - val_loss: 0.6971 - val_acc: 0.5578\n",
      "Epoch 45/425\n",
      "34/34 [==============================] - 0s 2ms/step - loss: 0.6821 - acc: 0.5537 - val_loss: 0.6972 - val_acc: 0.5378\n",
      "Epoch 46/425\n",
      "34/34 [==============================] - 0s 2ms/step - loss: 0.6809 - acc: 0.5536 - val_loss: 0.6987 - val_acc: 0.5259\n",
      "Epoch 47/425\n",
      "34/34 [==============================] - 0s 2ms/step - loss: 0.6790 - acc: 0.5658 - val_loss: 0.6984 - val_acc: 0.5100\n",
      "Epoch 48/425\n",
      "34/34 [==============================] - 0s 2ms/step - loss: 0.6836 - acc: 0.5434 - val_loss: 0.6995 - val_acc: 0.5179\n",
      "Epoch 49/425\n",
      "34/34 [==============================] - 0s 2ms/step - loss: 0.6797 - acc: 0.5431 - val_loss: 0.7015 - val_acc: 0.5259\n",
      "Epoch 50/425\n",
      "34/34 [==============================] - 0s 2ms/step - loss: 0.6813 - acc: 0.5512 - val_loss: 0.6986 - val_acc: 0.5259\n",
      "Epoch 51/425\n",
      "34/34 [==============================] - 0s 2ms/step - loss: 0.6783 - acc: 0.5727 - val_loss: 0.7015 - val_acc: 0.5259\n",
      "Epoch 52/425\n",
      "34/34 [==============================] - 0s 2ms/step - loss: 0.6859 - acc: 0.5583 - val_loss: 0.6978 - val_acc: 0.5259\n",
      "Epoch 53/425\n",
      "34/34 [==============================] - 0s 2ms/step - loss: 0.6801 - acc: 0.5476 - val_loss: 0.6951 - val_acc: 0.5538\n",
      "Epoch 54/425\n",
      "34/34 [==============================] - 0s 2ms/step - loss: 0.6801 - acc: 0.5402 - val_loss: 0.7025 - val_acc: 0.5259\n",
      "Epoch 55/425\n",
      "34/34 [==============================] - 0s 2ms/step - loss: 0.6796 - acc: 0.5632 - val_loss: 0.7021 - val_acc: 0.5179\n",
      "Epoch 56/425\n",
      "34/34 [==============================] - 0s 2ms/step - loss: 0.6794 - acc: 0.5743 - val_loss: 0.6968 - val_acc: 0.5538\n",
      "Epoch 57/425\n",
      "34/34 [==============================] - 0s 2ms/step - loss: 0.6769 - acc: 0.5624 - val_loss: 0.6999 - val_acc: 0.5498\n",
      "Epoch 58/425\n",
      "34/34 [==============================] - 0s 2ms/step - loss: 0.6775 - acc: 0.5489 - val_loss: 0.6985 - val_acc: 0.5498\n",
      "Epoch 59/425\n",
      "34/34 [==============================] - 0s 2ms/step - loss: 0.6850 - acc: 0.5503 - val_loss: 0.6992 - val_acc: 0.5219\n",
      "Epoch 60/425\n",
      "34/34 [==============================] - 0s 2ms/step - loss: 0.6768 - acc: 0.5621 - val_loss: 0.6994 - val_acc: 0.5498\n",
      "Epoch 61/425\n",
      "34/34 [==============================] - 0s 2ms/step - loss: 0.6764 - acc: 0.5576 - val_loss: 0.7009 - val_acc: 0.5299\n",
      "Epoch 62/425\n",
      "34/34 [==============================] - 0s 3ms/step - loss: 0.6784 - acc: 0.5476 - val_loss: 0.7030 - val_acc: 0.5100\n",
      "Epoch 63/425\n"
     ]
    },
    {
     "name": "stdout",
     "output_type": "stream",
     "text": [
      "34/34 [==============================] - 0s 6ms/step - loss: 0.6788 - acc: 0.5543 - val_loss: 0.7007 - val_acc: 0.5259\n",
      "Epoch 64/425\n",
      "34/34 [==============================] - 0s 2ms/step - loss: 0.6767 - acc: 0.5634 - val_loss: 0.7055 - val_acc: 0.5339\n",
      "Epoch 65/425\n",
      "34/34 [==============================] - 0s 2ms/step - loss: 0.6800 - acc: 0.5648 - val_loss: 0.7053 - val_acc: 0.5100\n",
      "Epoch 66/425\n",
      "34/34 [==============================] - 0s 2ms/step - loss: 0.6773 - acc: 0.5614 - val_loss: 0.7009 - val_acc: 0.5100\n",
      "Epoch 67/425\n",
      "34/34 [==============================] - 0s 2ms/step - loss: 0.6768 - acc: 0.5466 - val_loss: 0.6990 - val_acc: 0.5697\n",
      "Epoch 68/425\n",
      "34/34 [==============================] - 0s 2ms/step - loss: 0.6761 - acc: 0.5532 - val_loss: 0.7024 - val_acc: 0.5458\n",
      "Epoch 69/425\n",
      "34/34 [==============================] - 0s 2ms/step - loss: 0.6765 - acc: 0.5636 - val_loss: 0.7023 - val_acc: 0.5259\n",
      "Epoch 70/425\n",
      "34/34 [==============================] - 0s 2ms/step - loss: 0.6771 - acc: 0.5484 - val_loss: 0.7038 - val_acc: 0.5139\n",
      "Epoch 71/425\n",
      "34/34 [==============================] - 0s 2ms/step - loss: 0.6757 - acc: 0.5725 - val_loss: 0.7008 - val_acc: 0.5259\n",
      "Epoch 72/425\n",
      "34/34 [==============================] - 0s 2ms/step - loss: 0.6744 - acc: 0.5490 - val_loss: 0.6999 - val_acc: 0.5259\n",
      "Epoch 73/425\n",
      "34/34 [==============================] - 0s 2ms/step - loss: 0.6739 - acc: 0.5552 - val_loss: 0.6996 - val_acc: 0.5299\n",
      "Epoch 74/425\n",
      "34/34 [==============================] - 0s 2ms/step - loss: 0.6764 - acc: 0.5567 - val_loss: 0.6992 - val_acc: 0.5020\n",
      "Epoch 75/425\n",
      "34/34 [==============================] - 0s 2ms/step - loss: 0.6765 - acc: 0.5653 - val_loss: 0.7015 - val_acc: 0.5498\n",
      "Epoch 76/425\n",
      "34/34 [==============================] - 0s 2ms/step - loss: 0.6764 - acc: 0.5698 - val_loss: 0.7014 - val_acc: 0.5339\n",
      "Epoch 77/425\n",
      "34/34 [==============================] - 0s 2ms/step - loss: 0.6688 - acc: 0.5713 - val_loss: 0.6995 - val_acc: 0.4980\n",
      "Epoch 78/425\n",
      "34/34 [==============================] - 0s 2ms/step - loss: 0.6750 - acc: 0.5502 - val_loss: 0.7020 - val_acc: 0.5100\n",
      "Epoch 79/425\n",
      "34/34 [==============================] - 0s 2ms/step - loss: 0.6710 - acc: 0.5604 - val_loss: 0.6984 - val_acc: 0.5498\n",
      "Epoch 80/425\n",
      "34/34 [==============================] - 0s 2ms/step - loss: 0.6751 - acc: 0.5658 - val_loss: 0.7021 - val_acc: 0.5219\n",
      "Epoch 81/425\n",
      "34/34 [==============================] - 0s 2ms/step - loss: 0.6766 - acc: 0.5556 - val_loss: 0.7036 - val_acc: 0.5339\n",
      "Epoch 82/425\n",
      "34/34 [==============================] - 0s 2ms/step - loss: 0.6714 - acc: 0.5526 - val_loss: 0.7072 - val_acc: 0.5299\n",
      "Epoch 83/425\n",
      "34/34 [==============================] - 0s 2ms/step - loss: 0.6708 - acc: 0.5626 - val_loss: 0.7055 - val_acc: 0.5139\n",
      "Epoch 84/425\n",
      "34/34 [==============================] - 0s 2ms/step - loss: 0.6667 - acc: 0.5696 - val_loss: 0.7008 - val_acc: 0.5378\n",
      "Epoch 85/425\n",
      "34/34 [==============================] - 0s 2ms/step - loss: 0.6748 - acc: 0.5660 - val_loss: 0.7028 - val_acc: 0.5538\n",
      "Epoch 86/425\n",
      "34/34 [==============================] - 0s 2ms/step - loss: 0.6658 - acc: 0.5814 - val_loss: 0.6971 - val_acc: 0.5299\n",
      "Epoch 87/425\n",
      "34/34 [==============================] - 0s 5ms/step - loss: 0.6711 - acc: 0.5661 - val_loss: 0.7055 - val_acc: 0.5538\n",
      "Epoch 88/425\n",
      "34/34 [==============================] - 0s 3ms/step - loss: 0.6748 - acc: 0.5351 - val_loss: 0.7124 - val_acc: 0.5618\n",
      "Epoch 89/425\n",
      "34/34 [==============================] - 0s 3ms/step - loss: 0.6719 - acc: 0.5801 - val_loss: 0.7138 - val_acc: 0.5418\n",
      "Epoch 90/425\n",
      "34/34 [==============================] - 0s 2ms/step - loss: 0.6632 - acc: 0.5655 - val_loss: 0.7060 - val_acc: 0.5100\n",
      "Epoch 91/425\n",
      "34/34 [==============================] - 0s 2ms/step - loss: 0.6627 - acc: 0.5760 - val_loss: 0.7085 - val_acc: 0.5259\n",
      "Epoch 92/425\n",
      "34/34 [==============================] - 0s 2ms/step - loss: 0.6699 - acc: 0.5656 - val_loss: 0.7080 - val_acc: 0.5179\n",
      "Epoch 93/425\n",
      "34/34 [==============================] - 0s 2ms/step - loss: 0.6664 - acc: 0.5573 - val_loss: 0.7085 - val_acc: 0.5378\n",
      "Epoch 94/425\n",
      "34/34 [==============================] - 0s 2ms/step - loss: 0.6656 - acc: 0.5508 - val_loss: 0.7091 - val_acc: 0.5378\n",
      "Epoch 95/425\n",
      "34/34 [==============================] - 0s 2ms/step - loss: 0.6702 - acc: 0.5418 - val_loss: 0.7113 - val_acc: 0.4861\n",
      "Epoch 96/425\n",
      "34/34 [==============================] - 0s 2ms/step - loss: 0.6661 - acc: 0.5587 - val_loss: 0.7198 - val_acc: 0.5179\n",
      "Epoch 97/425\n",
      "34/34 [==============================] - 0s 2ms/step - loss: 0.6662 - acc: 0.5542 - val_loss: 0.7053 - val_acc: 0.5538\n",
      "Epoch 98/425\n",
      "34/34 [==============================] - 0s 2ms/step - loss: 0.6636 - acc: 0.5705 - val_loss: 0.7093 - val_acc: 0.5100\n",
      "Epoch 99/425\n",
      "34/34 [==============================] - 0s 2ms/step - loss: 0.6747 - acc: 0.5561 - val_loss: 0.7132 - val_acc: 0.5060\n",
      "Epoch 100/425\n",
      "34/34 [==============================] - 0s 2ms/step - loss: 0.6680 - acc: 0.5570 - val_loss: 0.7120 - val_acc: 0.5139\n",
      "Epoch 101/425\n",
      "34/34 [==============================] - 0s 2ms/step - loss: 0.6664 - acc: 0.5550 - val_loss: 0.7056 - val_acc: 0.5139\n",
      "Epoch 102/425\n",
      "34/34 [==============================] - 0s 2ms/step - loss: 0.6669 - acc: 0.5489 - val_loss: 0.7123 - val_acc: 0.5259\n",
      "Epoch 103/425\n",
      "34/34 [==============================] - 0s 2ms/step - loss: 0.6630 - acc: 0.5684 - val_loss: 0.7158 - val_acc: 0.5219\n",
      "Epoch 104/425\n",
      "34/34 [==============================] - 0s 2ms/step - loss: 0.6676 - acc: 0.5569 - val_loss: 0.7107 - val_acc: 0.5339\n",
      "Epoch 105/425\n",
      "34/34 [==============================] - 0s 2ms/step - loss: 0.6522 - acc: 0.5718 - val_loss: 0.7136 - val_acc: 0.5219\n",
      "Epoch 106/425\n",
      "34/34 [==============================] - 0s 2ms/step - loss: 0.6614 - acc: 0.5717 - val_loss: 0.7184 - val_acc: 0.5100\n",
      "Epoch 107/425\n",
      "34/34 [==============================] - 0s 5ms/step - loss: 0.6601 - acc: 0.5816 - val_loss: 0.7134 - val_acc: 0.5458\n",
      "Epoch 108/425\n",
      "34/34 [==============================] - 0s 3ms/step - loss: 0.6652 - acc: 0.5704 - val_loss: 0.7216 - val_acc: 0.5100\n",
      "Epoch 109/425\n",
      "34/34 [==============================] - 0s 3ms/step - loss: 0.6616 - acc: 0.5569 - val_loss: 0.7237 - val_acc: 0.5458\n",
      "Epoch 110/425\n",
      "34/34 [==============================] - 0s 2ms/step - loss: 0.6614 - acc: 0.5765 - val_loss: 0.7150 - val_acc: 0.5418\n",
      "Epoch 111/425\n",
      "34/34 [==============================] - 0s 2ms/step - loss: 0.6589 - acc: 0.5889 - val_loss: 0.7183 - val_acc: 0.5139\n",
      "Epoch 112/425\n",
      "34/34 [==============================] - 0s 2ms/step - loss: 0.6616 - acc: 0.5681 - val_loss: 0.7192 - val_acc: 0.5219\n",
      "Epoch 113/425\n",
      "34/34 [==============================] - 0s 2ms/step - loss: 0.6567 - acc: 0.5655 - val_loss: 0.7242 - val_acc: 0.4980\n",
      "Epoch 114/425\n",
      "34/34 [==============================] - 0s 2ms/step - loss: 0.6658 - acc: 0.5750 - val_loss: 0.7302 - val_acc: 0.5418\n",
      "Epoch 115/425\n",
      "34/34 [==============================] - 0s 2ms/step - loss: 0.6610 - acc: 0.5658 - val_loss: 0.7221 - val_acc: 0.5378\n",
      "Epoch 116/425\n",
      "34/34 [==============================] - 0s 2ms/step - loss: 0.6639 - acc: 0.5495 - val_loss: 0.7180 - val_acc: 0.5020\n",
      "Epoch 117/425\n",
      "34/34 [==============================] - 0s 2ms/step - loss: 0.6596 - acc: 0.5582 - val_loss: 0.7247 - val_acc: 0.5299\n",
      "Epoch 118/425\n",
      "34/34 [==============================] - 0s 2ms/step - loss: 0.6556 - acc: 0.5636 - val_loss: 0.7289 - val_acc: 0.5179\n",
      "Epoch 119/425\n",
      "34/34 [==============================] - 0s 2ms/step - loss: 0.6544 - acc: 0.5656 - val_loss: 0.7297 - val_acc: 0.4821\n",
      "Epoch 120/425\n",
      "34/34 [==============================] - 0s 2ms/step - loss: 0.6498 - acc: 0.5890 - val_loss: 0.7367 - val_acc: 0.5259\n",
      "Epoch 121/425\n",
      "34/34 [==============================] - 0s 2ms/step - loss: 0.6577 - acc: 0.5788 - val_loss: 0.7413 - val_acc: 0.5179\n",
      "Epoch 122/425\n",
      "34/34 [==============================] - 0s 2ms/step - loss: 0.6540 - acc: 0.5807 - val_loss: 0.7300 - val_acc: 0.5060\n",
      "Epoch 123/425\n",
      "34/34 [==============================] - 0s 3ms/step - loss: 0.6617 - acc: 0.5513 - val_loss: 0.7390 - val_acc: 0.5299\n",
      "Epoch 124/425\n",
      "34/34 [==============================] - 0s 3ms/step - loss: 0.6619 - acc: 0.5725 - val_loss: 0.7346 - val_acc: 0.4861\n"
     ]
    },
    {
     "name": "stdout",
     "output_type": "stream",
     "text": [
      "Epoch 125/425\n",
      "34/34 [==============================] - 0s 3ms/step - loss: 0.6594 - acc: 0.5972 - val_loss: 0.7323 - val_acc: 0.5219\n",
      "Epoch 126/425\n",
      "34/34 [==============================] - 0s 3ms/step - loss: 0.6553 - acc: 0.5869 - val_loss: 0.7340 - val_acc: 0.5219\n",
      "Epoch 127/425\n",
      "34/34 [==============================] - 0s 3ms/step - loss: 0.6573 - acc: 0.5944 - val_loss: 0.7342 - val_acc: 0.5339\n",
      "Epoch 128/425\n",
      "34/34 [==============================] - 0s 3ms/step - loss: 0.6537 - acc: 0.5645 - val_loss: 0.7222 - val_acc: 0.4900\n",
      "Epoch 129/425\n",
      "34/34 [==============================] - 0s 3ms/step - loss: 0.6600 - acc: 0.5779 - val_loss: 0.7399 - val_acc: 0.4940\n",
      "Epoch 130/425\n",
      "34/34 [==============================] - 0s 3ms/step - loss: 0.6449 - acc: 0.5799 - val_loss: 0.7409 - val_acc: 0.5139\n",
      "Epoch 131/425\n",
      "34/34 [==============================] - 0s 3ms/step - loss: 0.6580 - acc: 0.5818 - val_loss: 0.7334 - val_acc: 0.4980\n",
      "Epoch 132/425\n",
      "34/34 [==============================] - 0s 4ms/step - loss: 0.6507 - acc: 0.5814 - val_loss: 0.7392 - val_acc: 0.5418\n",
      "Epoch 133/425\n",
      "34/34 [==============================] - 0s 3ms/step - loss: 0.6466 - acc: 0.5791 - val_loss: 0.7451 - val_acc: 0.5219\n",
      "Epoch 134/425\n",
      "34/34 [==============================] - 0s 3ms/step - loss: 0.6487 - acc: 0.5930 - val_loss: 0.7547 - val_acc: 0.5020\n",
      "Epoch 135/425\n",
      "34/34 [==============================] - 0s 2ms/step - loss: 0.6487 - acc: 0.5767 - val_loss: 0.7421 - val_acc: 0.5498\n",
      "Epoch 136/425\n",
      "34/34 [==============================] - 0s 3ms/step - loss: 0.6509 - acc: 0.5837 - val_loss: 0.7425 - val_acc: 0.5339\n",
      "Epoch 137/425\n",
      "34/34 [==============================] - 0s 6ms/step - loss: 0.6481 - acc: 0.5979 - val_loss: 0.7552 - val_acc: 0.5100\n",
      "Epoch 138/425\n",
      "34/34 [==============================] - 0s 3ms/step - loss: 0.6523 - acc: 0.5795 - val_loss: 0.7529 - val_acc: 0.4940\n",
      "Epoch 139/425\n",
      "34/34 [==============================] - 0s 3ms/step - loss: 0.6485 - acc: 0.5812 - val_loss: 0.7428 - val_acc: 0.4980\n",
      "Epoch 140/425\n",
      "34/34 [==============================] - 0s 3ms/step - loss: 0.6466 - acc: 0.5912 - val_loss: 0.7198 - val_acc: 0.5060\n",
      "Epoch 141/425\n",
      "34/34 [==============================] - 0s 3ms/step - loss: 0.6523 - acc: 0.5882 - val_loss: 0.7506 - val_acc: 0.5378\n",
      "Epoch 142/425\n",
      "34/34 [==============================] - 0s 3ms/step - loss: 0.6601 - acc: 0.5579 - val_loss: 0.7411 - val_acc: 0.4980\n",
      "Epoch 143/425\n",
      "34/34 [==============================] - 0s 4ms/step - loss: 0.6491 - acc: 0.5861 - val_loss: 0.7480 - val_acc: 0.5299\n",
      "Epoch 144/425\n",
      "34/34 [==============================] - 0s 4ms/step - loss: 0.6438 - acc: 0.5832 - val_loss: 0.7682 - val_acc: 0.5020\n",
      "Epoch 145/425\n",
      "34/34 [==============================] - 0s 4ms/step - loss: 0.6550 - acc: 0.5745 - val_loss: 0.7556 - val_acc: 0.5578\n",
      "Epoch 146/425\n",
      "34/34 [==============================] - 0s 3ms/step - loss: 0.6497 - acc: 0.5923 - val_loss: 0.7605 - val_acc: 0.5418\n",
      "Epoch 147/425\n",
      "34/34 [==============================] - 0s 3ms/step - loss: 0.6473 - acc: 0.5851 - val_loss: 0.7485 - val_acc: 0.5060\n",
      "Epoch 148/425\n",
      "34/34 [==============================] - 0s 3ms/step - loss: 0.6504 - acc: 0.5744 - val_loss: 0.7624 - val_acc: 0.5179\n",
      "Epoch 149/425\n",
      "34/34 [==============================] - 0s 3ms/step - loss: 0.6664 - acc: 0.5653 - val_loss: 0.7514 - val_acc: 0.5020\n",
      "Epoch 150/425\n",
      "34/34 [==============================] - 0s 3ms/step - loss: 0.6482 - acc: 0.5833 - val_loss: 0.7463 - val_acc: 0.5219\n",
      "Epoch 151/425\n",
      "34/34 [==============================] - 0s 4ms/step - loss: 0.6437 - acc: 0.5770 - val_loss: 0.7592 - val_acc: 0.5259\n",
      "Epoch 152/425\n",
      "34/34 [==============================] - 0s 3ms/step - loss: 0.6497 - acc: 0.5895 - val_loss: 0.7586 - val_acc: 0.5179\n",
      "Epoch 153/425\n",
      "34/34 [==============================] - 0s 3ms/step - loss: 0.6450 - acc: 0.5949 - val_loss: 0.7493 - val_acc: 0.5418\n",
      "Epoch 154/425\n",
      "34/34 [==============================] - 0s 3ms/step - loss: 0.6467 - acc: 0.6077 - val_loss: 0.7529 - val_acc: 0.5339\n",
      "Epoch 155/425\n",
      "34/34 [==============================] - 0s 3ms/step - loss: 0.6454 - acc: 0.5709 - val_loss: 0.7640 - val_acc: 0.5219\n",
      "Epoch 156/425\n",
      "34/34 [==============================] - 0s 3ms/step - loss: 0.6411 - acc: 0.5935 - val_loss: 0.7655 - val_acc: 0.5179\n",
      "Epoch 157/425\n",
      "34/34 [==============================] - 0s 4ms/step - loss: 0.6420 - acc: 0.5943 - val_loss: 0.7704 - val_acc: 0.5259\n",
      "Epoch 158/425\n",
      "34/34 [==============================] - 0s 4ms/step - loss: 0.6404 - acc: 0.6075 - val_loss: 0.7461 - val_acc: 0.5219\n",
      "Epoch 159/425\n",
      "34/34 [==============================] - 0s 3ms/step - loss: 0.6365 - acc: 0.5972 - val_loss: 0.7824 - val_acc: 0.5139\n",
      "Epoch 160/425\n",
      "34/34 [==============================] - 0s 4ms/step - loss: 0.6422 - acc: 0.5940 - val_loss: 0.7632 - val_acc: 0.5219\n",
      "Epoch 161/425\n",
      "34/34 [==============================] - 0s 6ms/step - loss: 0.6451 - acc: 0.5828 - val_loss: 0.7856 - val_acc: 0.5299\n",
      "Epoch 162/425\n",
      "34/34 [==============================] - 0s 2ms/step - loss: 0.6503 - acc: 0.5731 - val_loss: 0.7694 - val_acc: 0.5418\n",
      "Epoch 163/425\n",
      "34/34 [==============================] - 0s 3ms/step - loss: 0.6309 - acc: 0.6124 - val_loss: 0.7854 - val_acc: 0.5219\n",
      "Epoch 164/425\n",
      "34/34 [==============================] - 0s 3ms/step - loss: 0.6490 - acc: 0.5868 - val_loss: 0.7651 - val_acc: 0.5179\n",
      "Epoch 165/425\n",
      "34/34 [==============================] - 0s 3ms/step - loss: 0.6462 - acc: 0.6121 - val_loss: 0.7825 - val_acc: 0.5060\n",
      "Epoch 166/425\n",
      "34/34 [==============================] - 0s 3ms/step - loss: 0.6408 - acc: 0.5953 - val_loss: 0.7717 - val_acc: 0.5538\n",
      "Epoch 167/425\n",
      "34/34 [==============================] - 0s 4ms/step - loss: 0.6360 - acc: 0.6119 - val_loss: 0.7475 - val_acc: 0.5299\n",
      "Epoch 168/425\n",
      "34/34 [==============================] - 0s 4ms/step - loss: 0.6517 - acc: 0.5730 - val_loss: 0.7667 - val_acc: 0.5259\n",
      "Epoch 169/425\n",
      "34/34 [==============================] - 0s 3ms/step - loss: 0.6370 - acc: 0.5790 - val_loss: 0.7748 - val_acc: 0.5498\n",
      "Epoch 170/425\n",
      "34/34 [==============================] - 0s 4ms/step - loss: 0.6328 - acc: 0.5950 - val_loss: 0.7804 - val_acc: 0.5139\n",
      "Epoch 171/425\n",
      "34/34 [==============================] - 0s 3ms/step - loss: 0.6329 - acc: 0.5883 - val_loss: 0.7747 - val_acc: 0.5219\n",
      "Epoch 172/425\n",
      "34/34 [==============================] - 0s 3ms/step - loss: 0.6440 - acc: 0.5957 - val_loss: 0.7794 - val_acc: 0.5179\n",
      "Epoch 173/425\n",
      "34/34 [==============================] - 0s 3ms/step - loss: 0.6423 - acc: 0.6030 - val_loss: 0.7733 - val_acc: 0.5179\n",
      "Epoch 174/425\n",
      "34/34 [==============================] - 0s 3ms/step - loss: 0.6448 - acc: 0.5874 - val_loss: 0.7773 - val_acc: 0.5179\n",
      "Epoch 175/425\n",
      "34/34 [==============================] - 0s 3ms/step - loss: 0.6372 - acc: 0.5940 - val_loss: 0.7616 - val_acc: 0.5259\n",
      "Epoch 176/425\n",
      "34/34 [==============================] - 0s 3ms/step - loss: 0.6352 - acc: 0.6083 - val_loss: 0.7852 - val_acc: 0.5179\n",
      "Epoch 177/425\n",
      "34/34 [==============================] - 0s 3ms/step - loss: 0.6330 - acc: 0.6146 - val_loss: 0.7728 - val_acc: 0.5378\n",
      "Epoch 178/425\n",
      "34/34 [==============================] - 0s 3ms/step - loss: 0.6373 - acc: 0.5903 - val_loss: 0.7921 - val_acc: 0.5299\n",
      "Epoch 179/425\n",
      "34/34 [==============================] - 0s 3ms/step - loss: 0.6328 - acc: 0.5765 - val_loss: 0.7930 - val_acc: 0.4980\n",
      "Epoch 180/425\n",
      "34/34 [==============================] - 0s 3ms/step - loss: 0.6315 - acc: 0.6003 - val_loss: 0.7618 - val_acc: 0.5339\n",
      "Epoch 181/425\n",
      "34/34 [==============================] - 0s 6ms/step - loss: 0.6380 - acc: 0.5860 - val_loss: 0.7847 - val_acc: 0.5100\n",
      "Epoch 182/425\n",
      "34/34 [==============================] - 0s 3ms/step - loss: 0.6310 - acc: 0.6161 - val_loss: 0.7717 - val_acc: 0.5139\n",
      "Epoch 183/425\n",
      "34/34 [==============================] - 0s 4ms/step - loss: 0.6315 - acc: 0.5862 - val_loss: 0.7792 - val_acc: 0.5060\n",
      "Epoch 184/425\n",
      "34/34 [==============================] - 0s 3ms/step - loss: 0.6376 - acc: 0.5991 - val_loss: 0.7639 - val_acc: 0.5219\n",
      "Epoch 185/425\n",
      "34/34 [==============================] - 0s 3ms/step - loss: 0.6302 - acc: 0.6095 - val_loss: 0.7685 - val_acc: 0.5339\n",
      "Epoch 186/425\n"
     ]
    },
    {
     "name": "stdout",
     "output_type": "stream",
     "text": [
      "34/34 [==============================] - 0s 3ms/step - loss: 0.6309 - acc: 0.6053 - val_loss: 0.7554 - val_acc: 0.5259\n",
      "Epoch 187/425\n",
      "34/34 [==============================] - 0s 2ms/step - loss: 0.6338 - acc: 0.6019 - val_loss: 0.7661 - val_acc: 0.5219\n",
      "Epoch 188/425\n",
      "34/34 [==============================] - 0s 2ms/step - loss: 0.6288 - acc: 0.6185 - val_loss: 0.7593 - val_acc: 0.5378\n",
      "Epoch 189/425\n",
      "34/34 [==============================] - 0s 3ms/step - loss: 0.6442 - acc: 0.5966 - val_loss: 0.7757 - val_acc: 0.5179\n",
      "Epoch 190/425\n",
      "34/34 [==============================] - 0s 3ms/step - loss: 0.6278 - acc: 0.6163 - val_loss: 0.7812 - val_acc: 0.5259\n",
      "Epoch 191/425\n",
      "34/34 [==============================] - 0s 3ms/step - loss: 0.6304 - acc: 0.5989 - val_loss: 0.7905 - val_acc: 0.5219\n",
      "Epoch 192/425\n",
      "34/34 [==============================] - 0s 3ms/step - loss: 0.6345 - acc: 0.6064 - val_loss: 0.7669 - val_acc: 0.5498\n",
      "Epoch 193/425\n",
      "34/34 [==============================] - 0s 3ms/step - loss: 0.6495 - acc: 0.5913 - val_loss: 0.7510 - val_acc: 0.5498\n",
      "Epoch 194/425\n",
      "34/34 [==============================] - 0s 3ms/step - loss: 0.6214 - acc: 0.6148 - val_loss: 0.7936 - val_acc: 0.5100\n",
      "Epoch 195/425\n",
      "34/34 [==============================] - 0s 3ms/step - loss: 0.6294 - acc: 0.6088 - val_loss: 0.7567 - val_acc: 0.5418\n",
      "Epoch 196/425\n",
      "34/34 [==============================] - 0s 3ms/step - loss: 0.6438 - acc: 0.6035 - val_loss: 0.7816 - val_acc: 0.5458\n",
      "Epoch 197/425\n",
      "34/34 [==============================] - 0s 3ms/step - loss: 0.6252 - acc: 0.6128 - val_loss: 0.7762 - val_acc: 0.5578\n",
      "Epoch 198/425\n",
      "34/34 [==============================] - 0s 3ms/step - loss: 0.6334 - acc: 0.6055 - val_loss: 0.7807 - val_acc: 0.5458\n",
      "Epoch 199/425\n",
      "34/34 [==============================] - 0s 2ms/step - loss: 0.6256 - acc: 0.6050 - val_loss: 0.8092 - val_acc: 0.5259\n",
      "Epoch 200/425\n",
      "34/34 [==============================] - 0s 2ms/step - loss: 0.6274 - acc: 0.6043 - val_loss: 0.8016 - val_acc: 0.4900\n",
      "Epoch 201/425\n",
      "34/34 [==============================] - 0s 2ms/step - loss: 0.6310 - acc: 0.5891 - val_loss: 0.7959 - val_acc: 0.5618\n",
      "Epoch 202/425\n",
      "34/34 [==============================] - 0s 2ms/step - loss: 0.6272 - acc: 0.6017 - val_loss: 0.8083 - val_acc: 0.5219\n",
      "Epoch 203/425\n",
      "34/34 [==============================] - 0s 3ms/step - loss: 0.6248 - acc: 0.6267 - val_loss: 0.7881 - val_acc: 0.5538\n",
      "Epoch 204/425\n",
      "34/34 [==============================] - 0s 3ms/step - loss: 0.6308 - acc: 0.6118 - val_loss: 0.7713 - val_acc: 0.5299\n",
      "Epoch 205/425\n",
      "34/34 [==============================] - 0s 3ms/step - loss: 0.6315 - acc: 0.6144 - val_loss: 0.7802 - val_acc: 0.5458\n",
      "Epoch 206/425\n",
      "34/34 [==============================] - 0s 4ms/step - loss: 0.6197 - acc: 0.6083 - val_loss: 0.7814 - val_acc: 0.5339\n",
      "Epoch 207/425\n",
      "34/34 [==============================] - 0s 3ms/step - loss: 0.6251 - acc: 0.5940 - val_loss: 0.8009 - val_acc: 0.5618\n",
      "Epoch 208/425\n",
      "34/34 [==============================] - 0s 3ms/step - loss: 0.6250 - acc: 0.6040 - val_loss: 0.8309 - val_acc: 0.5378\n",
      "Epoch 209/425\n",
      "34/34 [==============================] - 0s 3ms/step - loss: 0.6449 - acc: 0.6078 - val_loss: 0.7847 - val_acc: 0.5259\n",
      "Epoch 210/425\n",
      "34/34 [==============================] - 0s 3ms/step - loss: 0.6224 - acc: 0.6226 - val_loss: 0.8173 - val_acc: 0.5339\n",
      "Epoch 211/425\n",
      "34/34 [==============================] - 0s 6ms/step - loss: 0.6336 - acc: 0.5962 - val_loss: 0.7988 - val_acc: 0.5060\n",
      "Epoch 212/425\n",
      "34/34 [==============================] - 0s 3ms/step - loss: 0.6333 - acc: 0.5976 - val_loss: 0.7877 - val_acc: 0.5378\n",
      "Epoch 213/425\n",
      "34/34 [==============================] - 0s 3ms/step - loss: 0.6404 - acc: 0.5901 - val_loss: 0.7967 - val_acc: 0.5299\n",
      "Epoch 214/425\n",
      "34/34 [==============================] - 0s 3ms/step - loss: 0.6253 - acc: 0.6008 - val_loss: 0.7898 - val_acc: 0.5618\n",
      "Epoch 215/425\n",
      "34/34 [==============================] - 0s 3ms/step - loss: 0.6223 - acc: 0.6127 - val_loss: 0.8080 - val_acc: 0.5139\n",
      "Epoch 216/425\n",
      "34/34 [==============================] - 0s 3ms/step - loss: 0.6201 - acc: 0.6258 - val_loss: 0.7936 - val_acc: 0.5100\n",
      "Epoch 217/425\n",
      "34/34 [==============================] - 0s 3ms/step - loss: 0.6208 - acc: 0.6198 - val_loss: 0.7923 - val_acc: 0.5339\n",
      "Epoch 218/425\n",
      "34/34 [==============================] - 0s 3ms/step - loss: 0.6346 - acc: 0.6054 - val_loss: 0.7904 - val_acc: 0.5259\n",
      "Epoch 219/425\n",
      "34/34 [==============================] - 0s 3ms/step - loss: 0.6278 - acc: 0.6185 - val_loss: 0.8115 - val_acc: 0.5378\n",
      "Epoch 220/425\n",
      "34/34 [==============================] - 0s 3ms/step - loss: 0.6241 - acc: 0.6016 - val_loss: 0.7859 - val_acc: 0.5777\n",
      "Epoch 221/425\n",
      "34/34 [==============================] - 0s 3ms/step - loss: 0.6199 - acc: 0.6133 - val_loss: 0.8018 - val_acc: 0.5139\n",
      "Epoch 222/425\n",
      "34/34 [==============================] - 0s 4ms/step - loss: 0.6193 - acc: 0.6076 - val_loss: 0.7921 - val_acc: 0.5259\n",
      "Epoch 223/425\n",
      "34/34 [==============================] - 0s 3ms/step - loss: 0.6205 - acc: 0.6199 - val_loss: 0.7883 - val_acc: 0.5339\n",
      "Epoch 224/425\n",
      "34/34 [==============================] - 0s 3ms/step - loss: 0.6165 - acc: 0.6217 - val_loss: 0.8162 - val_acc: 0.5139\n",
      "Epoch 225/425\n",
      "34/34 [==============================] - 0s 3ms/step - loss: 0.6224 - acc: 0.6081 - val_loss: 0.8218 - val_acc: 0.5538\n",
      "Epoch 226/425\n",
      "34/34 [==============================] - 0s 3ms/step - loss: 0.6147 - acc: 0.6284 - val_loss: 0.8099 - val_acc: 0.5100\n",
      "Epoch 227/425\n",
      "34/34 [==============================] - 0s 3ms/step - loss: 0.6391 - acc: 0.5966 - val_loss: 0.8066 - val_acc: 0.5299\n",
      "Epoch 228/425\n",
      "34/34 [==============================] - 0s 3ms/step - loss: 0.6117 - acc: 0.6182 - val_loss: 0.8166 - val_acc: 0.5139\n",
      "Epoch 229/425\n",
      "34/34 [==============================] - 0s 3ms/step - loss: 0.6252 - acc: 0.6030 - val_loss: 0.8032 - val_acc: 0.5139\n",
      "Epoch 230/425\n",
      "34/34 [==============================] - 0s 2ms/step - loss: 0.6204 - acc: 0.6261 - val_loss: 0.8236 - val_acc: 0.5139\n",
      "Epoch 231/425\n",
      "34/34 [==============================] - 0s 2ms/step - loss: 0.6163 - acc: 0.6237 - val_loss: 0.8112 - val_acc: 0.5299\n",
      "Epoch 232/425\n",
      "34/34 [==============================] - 0s 2ms/step - loss: 0.6200 - acc: 0.6085 - val_loss: 0.8369 - val_acc: 0.5100\n",
      "Epoch 233/425\n",
      "34/34 [==============================] - 0s 2ms/step - loss: 0.6260 - acc: 0.6172 - val_loss: 0.8193 - val_acc: 0.5179\n",
      "Epoch 234/425\n",
      "34/34 [==============================] - 0s 2ms/step - loss: 0.6214 - acc: 0.6147 - val_loss: 0.7873 - val_acc: 0.5179\n",
      "Epoch 235/425\n",
      "34/34 [==============================] - 0s 5ms/step - loss: 0.6153 - acc: 0.6344 - val_loss: 0.8446 - val_acc: 0.5299\n",
      "Epoch 236/425\n",
      "34/34 [==============================] - 0s 2ms/step - loss: 0.6244 - acc: 0.6306 - val_loss: 0.8133 - val_acc: 0.5060\n",
      "Epoch 237/425\n",
      "34/34 [==============================] - 0s 2ms/step - loss: 0.6305 - acc: 0.6165 - val_loss: 0.7932 - val_acc: 0.5378\n",
      "Epoch 238/425\n",
      "34/34 [==============================] - 0s 3ms/step - loss: 0.6237 - acc: 0.6292 - val_loss: 0.8254 - val_acc: 0.4861\n",
      "Epoch 239/425\n",
      "34/34 [==============================] - 0s 3ms/step - loss: 0.6094 - acc: 0.6237 - val_loss: 0.8073 - val_acc: 0.5339\n",
      "Epoch 240/425\n",
      "34/34 [==============================] - 0s 2ms/step - loss: 0.6133 - acc: 0.6338 - val_loss: 0.8243 - val_acc: 0.5339\n",
      "Epoch 241/425\n",
      "34/34 [==============================] - 0s 2ms/step - loss: 0.6179 - acc: 0.6189 - val_loss: 0.8193 - val_acc: 0.5139\n",
      "Epoch 242/425\n",
      "34/34 [==============================] - 0s 2ms/step - loss: 0.6181 - acc: 0.6346 - val_loss: 0.8566 - val_acc: 0.5139\n",
      "Epoch 243/425\n",
      "34/34 [==============================] - 0s 2ms/step - loss: 0.6131 - acc: 0.6214 - val_loss: 0.7915 - val_acc: 0.5498\n",
      "Epoch 244/425\n",
      "34/34 [==============================] - 0s 2ms/step - loss: 0.6089 - acc: 0.6167 - val_loss: 0.8219 - val_acc: 0.5618\n",
      "Epoch 245/425\n",
      "34/34 [==============================] - 0s 3ms/step - loss: 0.6093 - acc: 0.6297 - val_loss: 0.8400 - val_acc: 0.5299\n",
      "Epoch 246/425\n",
      "34/34 [==============================] - 0s 3ms/step - loss: 0.6259 - acc: 0.6199 - val_loss: 0.8101 - val_acc: 0.4980\n",
      "Epoch 247/425\n",
      "34/34 [==============================] - 0s 2ms/step - loss: 0.6202 - acc: 0.6269 - val_loss: 0.8091 - val_acc: 0.5418\n"
     ]
    },
    {
     "name": "stdout",
     "output_type": "stream",
     "text": [
      "Epoch 248/425\n",
      "34/34 [==============================] - 0s 2ms/step - loss: 0.6311 - acc: 0.6146 - val_loss: 0.8053 - val_acc: 0.4940\n",
      "Epoch 249/425\n",
      "34/34 [==============================] - 0s 2ms/step - loss: 0.6216 - acc: 0.6165 - val_loss: 0.8140 - val_acc: 0.5299\n",
      "Epoch 250/425\n",
      "34/34 [==============================] - 0s 2ms/step - loss: 0.6187 - acc: 0.6308 - val_loss: 0.8008 - val_acc: 0.5498\n",
      "Epoch 251/425\n",
      "34/34 [==============================] - 0s 3ms/step - loss: 0.6348 - acc: 0.5935 - val_loss: 0.8351 - val_acc: 0.5219\n",
      "Epoch 252/425\n",
      "34/34 [==============================] - 0s 2ms/step - loss: 0.6120 - acc: 0.6297 - val_loss: 0.8212 - val_acc: 0.4940\n",
      "Epoch 253/425\n",
      "34/34 [==============================] - 0s 3ms/step - loss: 0.6078 - acc: 0.6263 - val_loss: 0.8404 - val_acc: 0.5060\n",
      "Epoch 254/425\n",
      "34/34 [==============================] - 0s 3ms/step - loss: 0.6139 - acc: 0.6076 - val_loss: 0.8285 - val_acc: 0.5179\n",
      "Epoch 255/425\n",
      "34/34 [==============================] - 0s 3ms/step - loss: 0.6047 - acc: 0.6231 - val_loss: 0.8145 - val_acc: 0.5418\n",
      "Epoch 256/425\n",
      "34/34 [==============================] - 0s 6ms/step - loss: 0.6194 - acc: 0.6270 - val_loss: 0.8591 - val_acc: 0.5179\n",
      "Epoch 257/425\n",
      "34/34 [==============================] - 0s 3ms/step - loss: 0.6155 - acc: 0.6265 - val_loss: 0.8233 - val_acc: 0.5378\n",
      "Epoch 258/425\n",
      "34/34 [==============================] - 0s 2ms/step - loss: 0.6221 - acc: 0.6290 - val_loss: 0.8173 - val_acc: 0.5418\n",
      "Epoch 259/425\n",
      "34/34 [==============================] - 0s 2ms/step - loss: 0.6020 - acc: 0.6220 - val_loss: 0.8526 - val_acc: 0.5219\n",
      "Epoch 260/425\n",
      "34/34 [==============================] - 0s 2ms/step - loss: 0.6169 - acc: 0.6176 - val_loss: 0.8308 - val_acc: 0.5339\n",
      "Epoch 261/425\n",
      "34/34 [==============================] - 0s 2ms/step - loss: 0.6075 - acc: 0.6231 - val_loss: 0.8094 - val_acc: 0.5578\n",
      "Epoch 262/425\n",
      "34/34 [==============================] - 0s 2ms/step - loss: 0.6141 - acc: 0.6238 - val_loss: 0.8499 - val_acc: 0.5219\n",
      "Epoch 263/425\n",
      "34/34 [==============================] - 0s 2ms/step - loss: 0.6068 - acc: 0.6401 - val_loss: 0.8365 - val_acc: 0.5219\n",
      "Epoch 264/425\n",
      "34/34 [==============================] - 0s 2ms/step - loss: 0.6068 - acc: 0.6313 - val_loss: 0.8333 - val_acc: 0.5060\n",
      "Epoch 265/425\n",
      "34/34 [==============================] - 0s 2ms/step - loss: 0.6220 - acc: 0.6177 - val_loss: 0.8326 - val_acc: 0.5418\n",
      "Epoch 266/425\n",
      "34/34 [==============================] - 0s 2ms/step - loss: 0.6035 - acc: 0.6421 - val_loss: 0.8255 - val_acc: 0.5299\n",
      "Epoch 267/425\n",
      "34/34 [==============================] - 0s 3ms/step - loss: 0.6136 - acc: 0.6313 - val_loss: 0.8292 - val_acc: 0.5339\n",
      "Epoch 268/425\n",
      "34/34 [==============================] - 0s 3ms/step - loss: 0.6079 - acc: 0.6355 - val_loss: 0.8565 - val_acc: 0.5378\n",
      "Epoch 269/425\n",
      "34/34 [==============================] - 0s 3ms/step - loss: 0.6199 - acc: 0.6176 - val_loss: 0.8297 - val_acc: 0.5418\n",
      "Epoch 270/425\n",
      "34/34 [==============================] - 0s 3ms/step - loss: 0.6272 - acc: 0.6306 - val_loss: 0.8364 - val_acc: 0.5020\n",
      "Epoch 271/425\n",
      "34/34 [==============================] - 0s 3ms/step - loss: 0.6112 - acc: 0.6288 - val_loss: 0.8403 - val_acc: 0.5458\n",
      "Epoch 272/425\n",
      "34/34 [==============================] - 0s 3ms/step - loss: 0.6148 - acc: 0.6084 - val_loss: 0.8285 - val_acc: 0.5179\n",
      "Epoch 273/425\n",
      "34/34 [==============================] - 0s 3ms/step - loss: 0.6126 - acc: 0.6303 - val_loss: 0.8306 - val_acc: 0.5299\n",
      "Epoch 274/425\n",
      "34/34 [==============================] - 0s 3ms/step - loss: 0.6118 - acc: 0.6157 - val_loss: 0.8281 - val_acc: 0.5777\n",
      "Epoch 275/425\n",
      "34/34 [==============================] - 0s 3ms/step - loss: 0.6066 - acc: 0.6168 - val_loss: 0.8362 - val_acc: 0.5139\n",
      "Epoch 276/425\n",
      "34/34 [==============================] - 0s 2ms/step - loss: 0.6073 - acc: 0.6335 - val_loss: 0.8459 - val_acc: 0.5179\n",
      "Epoch 277/425\n",
      "34/34 [==============================] - 0s 3ms/step - loss: 0.6099 - acc: 0.6454 - val_loss: 0.8343 - val_acc: 0.5578\n",
      "Epoch 278/425\n",
      "34/34 [==============================] - 0s 3ms/step - loss: 0.6087 - acc: 0.6236 - val_loss: 0.8404 - val_acc: 0.5697\n",
      "Epoch 279/425\n",
      "34/34 [==============================] - 0s 3ms/step - loss: 0.6001 - acc: 0.6383 - val_loss: 0.8500 - val_acc: 0.5139\n",
      "Epoch 280/425\n",
      "34/34 [==============================] - 0s 3ms/step - loss: 0.6038 - acc: 0.6296 - val_loss: 0.8878 - val_acc: 0.4980\n",
      "Epoch 281/425\n",
      "34/34 [==============================] - 0s 3ms/step - loss: 0.6252 - acc: 0.6032 - val_loss: 0.8774 - val_acc: 0.5139\n",
      "Epoch 282/425\n",
      "34/34 [==============================] - 0s 3ms/step - loss: 0.6176 - acc: 0.6165 - val_loss: 0.8620 - val_acc: 0.5139\n",
      "Epoch 283/425\n",
      "34/34 [==============================] - 0s 3ms/step - loss: 0.6129 - acc: 0.6257 - val_loss: 0.8480 - val_acc: 0.5458\n",
      "Epoch 284/425\n",
      "34/34 [==============================] - 0s 3ms/step - loss: 0.6034 - acc: 0.6306 - val_loss: 0.8259 - val_acc: 0.5578\n",
      "Epoch 285/425\n",
      "34/34 [==============================] - 0s 5ms/step - loss: 0.6136 - acc: 0.6240 - val_loss: 0.8520 - val_acc: 0.5418\n",
      "Epoch 286/425\n",
      "34/34 [==============================] - 0s 3ms/step - loss: 0.6079 - acc: 0.6366 - val_loss: 0.8621 - val_acc: 0.5259\n",
      "Epoch 287/425\n",
      "34/34 [==============================] - 0s 3ms/step - loss: 0.6023 - acc: 0.6406 - val_loss: 0.8721 - val_acc: 0.5179\n",
      "Epoch 288/425\n",
      "34/34 [==============================] - 0s 6ms/step - loss: 0.6144 - acc: 0.6313 - val_loss: 0.8248 - val_acc: 0.5458\n",
      "Epoch 289/425\n",
      "34/34 [==============================] - 0s 4ms/step - loss: 0.6043 - acc: 0.6317 - val_loss: 0.8551 - val_acc: 0.5378\n",
      "Epoch 290/425\n",
      "34/34 [==============================] - 0s 3ms/step - loss: 0.5971 - acc: 0.6332 - val_loss: 0.8489 - val_acc: 0.5498\n",
      "Epoch 291/425\n",
      "34/34 [==============================] - 0s 2ms/step - loss: 0.6100 - acc: 0.6284 - val_loss: 0.8645 - val_acc: 0.5578\n",
      "Epoch 292/425\n",
      "34/34 [==============================] - 0s 3ms/step - loss: 0.5983 - acc: 0.6187 - val_loss: 0.8866 - val_acc: 0.5219\n",
      "Epoch 293/425\n",
      "34/34 [==============================] - 0s 2ms/step - loss: 0.6135 - acc: 0.6354 - val_loss: 0.8492 - val_acc: 0.5498\n",
      "Epoch 294/425\n",
      "34/34 [==============================] - 0s 3ms/step - loss: 0.6143 - acc: 0.6404 - val_loss: 0.8691 - val_acc: 0.5299\n",
      "Epoch 295/425\n",
      "34/34 [==============================] - 0s 3ms/step - loss: 0.6363 - acc: 0.6038 - val_loss: 0.8043 - val_acc: 0.5339\n",
      "Epoch 296/425\n",
      "34/34 [==============================] - 0s 3ms/step - loss: 0.6237 - acc: 0.6426 - val_loss: 0.7881 - val_acc: 0.5378\n",
      "Epoch 297/425\n",
      "34/34 [==============================] - 0s 3ms/step - loss: 0.6188 - acc: 0.6129 - val_loss: 0.8735 - val_acc: 0.5179\n",
      "Epoch 298/425\n",
      "34/34 [==============================] - 0s 3ms/step - loss: 0.6047 - acc: 0.6222 - val_loss: 0.8367 - val_acc: 0.5418\n",
      "Epoch 299/425\n",
      "34/34 [==============================] - 0s 4ms/step - loss: 0.6167 - acc: 0.6248 - val_loss: 0.8714 - val_acc: 0.5259\n",
      "Epoch 300/425\n",
      "34/34 [==============================] - 0s 3ms/step - loss: 0.6016 - acc: 0.6359 - val_loss: 0.8444 - val_acc: 0.5498\n",
      "Epoch 301/425\n",
      "34/34 [==============================] - 0s 3ms/step - loss: 0.6228 - acc: 0.6092 - val_loss: 0.7961 - val_acc: 0.5498\n",
      "Epoch 302/425\n",
      "34/34 [==============================] - 0s 3ms/step - loss: 0.6054 - acc: 0.6249 - val_loss: 0.8353 - val_acc: 0.5418\n",
      "Epoch 303/425\n",
      "34/34 [==============================] - 0s 4ms/step - loss: 0.5924 - acc: 0.6563 - val_loss: 0.8608 - val_acc: 0.5538\n",
      "Epoch 304/425\n",
      "34/34 [==============================] - 0s 4ms/step - loss: 0.6172 - acc: 0.6216 - val_loss: 0.8768 - val_acc: 0.5378\n",
      "Epoch 305/425\n",
      "34/34 [==============================] - 0s 3ms/step - loss: 0.5970 - acc: 0.6429 - val_loss: 0.8519 - val_acc: 0.5139\n",
      "Epoch 306/425\n",
      "34/34 [==============================] - 0s 3ms/step - loss: 0.5993 - acc: 0.6540 - val_loss: 0.8529 - val_acc: 0.5378\n",
      "Epoch 307/425\n",
      "34/34 [==============================] - 0s 3ms/step - loss: 0.5971 - acc: 0.6422 - val_loss: 0.8474 - val_acc: 0.5020\n",
      "Epoch 308/425\n",
      "34/34 [==============================] - 0s 3ms/step - loss: 0.6056 - acc: 0.6263 - val_loss: 0.8242 - val_acc: 0.5020\n",
      "Epoch 309/425\n"
     ]
    },
    {
     "name": "stdout",
     "output_type": "stream",
     "text": [
      "34/34 [==============================] - 0s 6ms/step - loss: 0.6063 - acc: 0.6343 - val_loss: 0.7962 - val_acc: 0.5100\n",
      "Epoch 310/425\n",
      "34/34 [==============================] - 0s 4ms/step - loss: 0.6077 - acc: 0.6264 - val_loss: 0.7723 - val_acc: 0.5817\n",
      "Epoch 311/425\n",
      "34/34 [==============================] - 0s 3ms/step - loss: 0.5973 - acc: 0.6433 - val_loss: 0.8086 - val_acc: 0.5378\n",
      "Epoch 312/425\n",
      "34/34 [==============================] - 0s 3ms/step - loss: 0.6029 - acc: 0.6314 - val_loss: 0.8597 - val_acc: 0.5378\n",
      "Epoch 313/425\n",
      "34/34 [==============================] - 0s 6ms/step - loss: 0.5947 - acc: 0.6555 - val_loss: 0.8813 - val_acc: 0.5538\n",
      "Epoch 314/425\n",
      "34/34 [==============================] - 0s 3ms/step - loss: 0.5932 - acc: 0.6408 - val_loss: 0.9106 - val_acc: 0.5418\n",
      "Epoch 315/425\n",
      "34/34 [==============================] - 0s 3ms/step - loss: 0.6029 - acc: 0.6209 - val_loss: 0.8768 - val_acc: 0.5339\n",
      "Epoch 316/425\n",
      "34/34 [==============================] - 0s 3ms/step - loss: 0.6129 - acc: 0.6341 - val_loss: 0.8778 - val_acc: 0.5139\n",
      "Epoch 317/425\n",
      "34/34 [==============================] - 0s 3ms/step - loss: 0.6053 - acc: 0.6452 - val_loss: 0.8595 - val_acc: 0.5578\n",
      "Epoch 318/425\n",
      "34/34 [==============================] - 0s 3ms/step - loss: 0.5968 - acc: 0.6398 - val_loss: 0.8633 - val_acc: 0.5219\n",
      "Epoch 319/425\n",
      "34/34 [==============================] - 0s 5ms/step - loss: 0.6026 - acc: 0.6394 - val_loss: 0.8721 - val_acc: 0.5378\n",
      "Epoch 320/425\n",
      "34/34 [==============================] - 0s 3ms/step - loss: 0.5967 - acc: 0.6322 - val_loss: 0.8656 - val_acc: 0.5299\n",
      "Epoch 321/425\n",
      "34/34 [==============================] - 0s 4ms/step - loss: 0.5925 - acc: 0.6359 - val_loss: 0.8438 - val_acc: 0.5538\n",
      "Epoch 322/425\n",
      "34/34 [==============================] - 0s 3ms/step - loss: 0.5943 - acc: 0.6446 - val_loss: 0.8436 - val_acc: 0.5219\n",
      "Epoch 323/425\n",
      "34/34 [==============================] - 0s 3ms/step - loss: 0.6008 - acc: 0.6406 - val_loss: 0.8861 - val_acc: 0.5378\n",
      "Epoch 324/425\n",
      "34/34 [==============================] - 0s 3ms/step - loss: 0.6086 - acc: 0.6290 - val_loss: 0.8570 - val_acc: 0.5578\n",
      "Epoch 325/425\n",
      "34/34 [==============================] - 0s 3ms/step - loss: 0.5961 - acc: 0.6501 - val_loss: 0.8801 - val_acc: 0.5259\n",
      "Epoch 326/425\n",
      "34/34 [==============================] - 0s 3ms/step - loss: 0.5995 - acc: 0.6233 - val_loss: 0.8760 - val_acc: 0.5498\n",
      "Epoch 327/425\n",
      "34/34 [==============================] - 0s 3ms/step - loss: 0.5846 - acc: 0.6565 - val_loss: 0.8755 - val_acc: 0.5219\n",
      "Epoch 328/425\n",
      "34/34 [==============================] - 0s 3ms/step - loss: 0.6011 - acc: 0.6369 - val_loss: 0.8685 - val_acc: 0.5458\n",
      "Epoch 329/425\n",
      "34/34 [==============================] - 0s 4ms/step - loss: 0.6159 - acc: 0.6053 - val_loss: 0.8976 - val_acc: 0.5259\n",
      "Epoch 330/425\n",
      "34/34 [==============================] - 0s 3ms/step - loss: 0.6135 - acc: 0.6207 - val_loss: 0.8960 - val_acc: 0.5418\n",
      "Epoch 331/425\n",
      "34/34 [==============================] - 0s 3ms/step - loss: 0.5948 - acc: 0.6331 - val_loss: 0.8889 - val_acc: 0.5618\n",
      "Epoch 332/425\n",
      "34/34 [==============================] - 0s 3ms/step - loss: 0.6044 - acc: 0.6217 - val_loss: 0.8741 - val_acc: 0.5697\n",
      "Epoch 333/425\n",
      "34/34 [==============================] - 0s 3ms/step - loss: 0.6028 - acc: 0.6429 - val_loss: 0.8505 - val_acc: 0.5458\n",
      "Epoch 334/425\n",
      "34/34 [==============================] - 0s 6ms/step - loss: 0.5885 - acc: 0.6364 - val_loss: 0.8920 - val_acc: 0.5498\n",
      "Epoch 335/425\n",
      "34/34 [==============================] - 0s 3ms/step - loss: 0.6133 - acc: 0.6297 - val_loss: 0.8464 - val_acc: 0.5737\n",
      "Epoch 336/425\n",
      "34/34 [==============================] - 0s 4ms/step - loss: 0.5940 - acc: 0.6409 - val_loss: 0.8857 - val_acc: 0.5219\n",
      "Epoch 337/425\n",
      "34/34 [==============================] - 0s 3ms/step - loss: 0.6168 - acc: 0.6165 - val_loss: 0.8918 - val_acc: 0.5458\n",
      "Epoch 338/425\n",
      "34/34 [==============================] - 0s 2ms/step - loss: 0.6052 - acc: 0.6345 - val_loss: 0.8576 - val_acc: 0.5020\n",
      "Epoch 339/425\n",
      "34/34 [==============================] - 0s 3ms/step - loss: 0.5923 - acc: 0.6509 - val_loss: 0.9032 - val_acc: 0.5458\n",
      "Epoch 340/425\n",
      "34/34 [==============================] - 0s 3ms/step - loss: 0.6177 - acc: 0.6194 - val_loss: 0.8136 - val_acc: 0.5697\n",
      "Epoch 341/425\n",
      "34/34 [==============================] - 0s 3ms/step - loss: 0.6015 - acc: 0.6282 - val_loss: 0.8393 - val_acc: 0.5458\n",
      "Epoch 342/425\n",
      "34/34 [==============================] - 0s 3ms/step - loss: 0.5870 - acc: 0.6476 - val_loss: 0.9043 - val_acc: 0.5578\n",
      "Epoch 343/425\n",
      "34/34 [==============================] - 0s 3ms/step - loss: 0.5902 - acc: 0.6436 - val_loss: 0.8342 - val_acc: 0.5618\n",
      "Epoch 344/425\n",
      "34/34 [==============================] - 0s 3ms/step - loss: 0.5928 - acc: 0.6383 - val_loss: 0.8738 - val_acc: 0.5418\n",
      "Epoch 345/425\n",
      "34/34 [==============================] - 0s 3ms/step - loss: 0.5945 - acc: 0.6388 - val_loss: 0.8650 - val_acc: 0.5538\n",
      "Epoch 346/425\n",
      "34/34 [==============================] - 0s 3ms/step - loss: 0.6042 - acc: 0.6378 - val_loss: 0.8932 - val_acc: 0.5657\n",
      "Epoch 347/425\n",
      "34/34 [==============================] - 0s 3ms/step - loss: 0.5906 - acc: 0.6309 - val_loss: 0.9197 - val_acc: 0.5259\n",
      "Epoch 348/425\n",
      "34/34 [==============================] - 0s 3ms/step - loss: 0.5928 - acc: 0.6291 - val_loss: 0.8559 - val_acc: 0.5418\n",
      "Epoch 349/425\n",
      "34/34 [==============================] - 0s 3ms/step - loss: 0.6030 - acc: 0.6288 - val_loss: 0.8942 - val_acc: 0.5179\n",
      "Epoch 350/425\n",
      "34/34 [==============================] - 0s 3ms/step - loss: 0.5930 - acc: 0.6337 - val_loss: 0.9068 - val_acc: 0.5060\n",
      "Epoch 351/425\n",
      "34/34 [==============================] - 0s 3ms/step - loss: 0.5949 - acc: 0.6311 - val_loss: 0.8797 - val_acc: 0.5378\n",
      "Epoch 352/425\n",
      "34/34 [==============================] - 0s 3ms/step - loss: 0.5948 - acc: 0.6588 - val_loss: 0.8965 - val_acc: 0.5339\n",
      "Epoch 353/425\n",
      "34/34 [==============================] - 0s 3ms/step - loss: 0.5968 - acc: 0.6555 - val_loss: 0.9016 - val_acc: 0.5139\n",
      "Epoch 354/425\n",
      "34/34 [==============================] - 0s 2ms/step - loss: 0.5988 - acc: 0.6319 - val_loss: 0.8846 - val_acc: 0.5618\n",
      "Epoch 355/425\n",
      "34/34 [==============================] - 0s 2ms/step - loss: 0.5970 - acc: 0.6377 - val_loss: 0.9106 - val_acc: 0.5139\n",
      "Epoch 356/425\n",
      "34/34 [==============================] - 0s 2ms/step - loss: 0.5944 - acc: 0.6262 - val_loss: 0.9004 - val_acc: 0.5498\n",
      "Epoch 357/425\n",
      "34/34 [==============================] - 0s 3ms/step - loss: 0.6022 - acc: 0.6541 - val_loss: 0.8880 - val_acc: 0.5578\n",
      "Epoch 358/425\n",
      "34/34 [==============================] - 0s 3ms/step - loss: 0.5895 - acc: 0.6463 - val_loss: 0.8743 - val_acc: 0.5259\n",
      "Epoch 359/425\n",
      "34/34 [==============================] - 0s 3ms/step - loss: 0.5940 - acc: 0.6466 - val_loss: 0.8785 - val_acc: 0.5299\n",
      "Epoch 360/425\n",
      "34/34 [==============================] - 0s 2ms/step - loss: 0.5957 - acc: 0.6395 - val_loss: 0.8988 - val_acc: 0.5896\n",
      "Epoch 361/425\n",
      "34/34 [==============================] - 0s 2ms/step - loss: 0.5894 - acc: 0.6437 - val_loss: 0.8899 - val_acc: 0.5498\n",
      "Epoch 362/425\n",
      "34/34 [==============================] - 0s 3ms/step - loss: 0.5832 - acc: 0.6445 - val_loss: 0.8444 - val_acc: 0.5458\n",
      "Epoch 363/425\n",
      "34/34 [==============================] - 0s 3ms/step - loss: 0.5908 - acc: 0.6502 - val_loss: 0.8172 - val_acc: 0.5100\n",
      "Epoch 364/425\n",
      "34/34 [==============================] - 0s 6ms/step - loss: 0.6016 - acc: 0.6305 - val_loss: 0.8669 - val_acc: 0.5618\n",
      "Epoch 365/425\n",
      "34/34 [==============================] - 0s 3ms/step - loss: 0.5965 - acc: 0.6370 - val_loss: 0.8746 - val_acc: 0.5219\n",
      "Epoch 366/425\n",
      "34/34 [==============================] - 0s 3ms/step - loss: 0.5993 - acc: 0.6496 - val_loss: 0.9113 - val_acc: 0.5538\n",
      "Epoch 367/425\n",
      "34/34 [==============================] - 0s 3ms/step - loss: 0.5976 - acc: 0.6497 - val_loss: 0.9099 - val_acc: 0.5339\n",
      "Epoch 368/425\n",
      "34/34 [==============================] - 0s 3ms/step - loss: 0.5929 - acc: 0.6441 - val_loss: 0.8747 - val_acc: 0.5418\n",
      "Epoch 369/425\n",
      "34/34 [==============================] - 0s 3ms/step - loss: 0.5933 - acc: 0.6345 - val_loss: 0.9074 - val_acc: 0.5339\n",
      "Epoch 370/425\n",
      "34/34 [==============================] - 0s 4ms/step - loss: 0.5911 - acc: 0.6471 - val_loss: 0.8828 - val_acc: 0.5139\n"
     ]
    },
    {
     "name": "stdout",
     "output_type": "stream",
     "text": [
      "Epoch 371/425\n",
      "34/34 [==============================] - 0s 3ms/step - loss: 0.5808 - acc: 0.6573 - val_loss: 0.8224 - val_acc: 0.5498\n",
      "Epoch 372/425\n",
      "34/34 [==============================] - 0s 3ms/step - loss: 0.5964 - acc: 0.6313 - val_loss: 0.8331 - val_acc: 0.5498\n",
      "Epoch 373/425\n",
      "34/34 [==============================] - 0s 2ms/step - loss: 0.5962 - acc: 0.6491 - val_loss: 0.8229 - val_acc: 0.5458\n",
      "Epoch 374/425\n",
      "34/34 [==============================] - 0s 3ms/step - loss: 0.5885 - acc: 0.6477 - val_loss: 0.8313 - val_acc: 0.5578\n",
      "Epoch 375/425\n",
      "34/34 [==============================] - 0s 3ms/step - loss: 0.5900 - acc: 0.6614 - val_loss: 0.8551 - val_acc: 0.5458\n",
      "Epoch 376/425\n",
      "34/34 [==============================] - 0s 2ms/step - loss: 0.5986 - acc: 0.6619 - val_loss: 0.8768 - val_acc: 0.5498\n",
      "Epoch 377/425\n",
      "34/34 [==============================] - 0s 4ms/step - loss: 0.6044 - acc: 0.6455 - val_loss: 0.8927 - val_acc: 0.5578\n",
      "Epoch 378/425\n",
      "34/34 [==============================] - 0s 3ms/step - loss: 0.5913 - acc: 0.6602 - val_loss: 0.9181 - val_acc: 0.5458\n",
      "Epoch 379/425\n",
      "34/34 [==============================] - 0s 3ms/step - loss: 0.6011 - acc: 0.6369 - val_loss: 0.9118 - val_acc: 0.5498\n",
      "Epoch 380/425\n",
      "34/34 [==============================] - 0s 3ms/step - loss: 0.5823 - acc: 0.6553 - val_loss: 0.8756 - val_acc: 0.5498\n",
      "Epoch 381/425\n",
      "34/34 [==============================] - 0s 4ms/step - loss: 0.5904 - acc: 0.6375 - val_loss: 0.8610 - val_acc: 0.5498\n",
      "Epoch 382/425\n",
      "34/34 [==============================] - 0s 3ms/step - loss: 0.6073 - acc: 0.6415 - val_loss: 0.8622 - val_acc: 0.5538\n",
      "Epoch 383/425\n",
      "34/34 [==============================] - 0s 3ms/step - loss: 0.5949 - acc: 0.6403 - val_loss: 0.8396 - val_acc: 0.5139\n",
      "Epoch 384/425\n",
      "34/34 [==============================] - 0s 2ms/step - loss: 0.5945 - acc: 0.6364 - val_loss: 0.8129 - val_acc: 0.5339\n",
      "Epoch 385/425\n",
      "34/34 [==============================] - 0s 2ms/step - loss: 0.5799 - acc: 0.6656 - val_loss: 0.8258 - val_acc: 0.5458\n",
      "Epoch 386/425\n",
      "34/34 [==============================] - 0s 2ms/step - loss: 0.5956 - acc: 0.6328 - val_loss: 0.8187 - val_acc: 0.5179\n",
      "Epoch 387/425\n",
      "34/34 [==============================] - 0s 2ms/step - loss: 0.5848 - acc: 0.6479 - val_loss: 0.8564 - val_acc: 0.5378\n",
      "Epoch 388/425\n",
      "34/34 [==============================] - 0s 6ms/step - loss: 0.5987 - acc: 0.6369 - val_loss: 0.8623 - val_acc: 0.5378\n",
      "Epoch 389/425\n",
      "34/34 [==============================] - 0s 2ms/step - loss: 0.5972 - acc: 0.6183 - val_loss: 0.8953 - val_acc: 0.5458\n",
      "Epoch 390/425\n",
      "34/34 [==============================] - 0s 2ms/step - loss: 0.5754 - acc: 0.6568 - val_loss: 0.8738 - val_acc: 0.5339\n",
      "Epoch 391/425\n",
      "34/34 [==============================] - 0s 3ms/step - loss: 0.5936 - acc: 0.6306 - val_loss: 0.8768 - val_acc: 0.5418\n",
      "Epoch 392/425\n",
      "34/34 [==============================] - 0s 3ms/step - loss: 0.5860 - acc: 0.6508 - val_loss: 0.9069 - val_acc: 0.5458\n",
      "Epoch 393/425\n",
      "34/34 [==============================] - 0s 3ms/step - loss: 0.5940 - acc: 0.6434 - val_loss: 0.9129 - val_acc: 0.5219\n",
      "Epoch 394/425\n",
      "34/34 [==============================] - 0s 3ms/step - loss: 0.6004 - acc: 0.6328 - val_loss: 0.8810 - val_acc: 0.5498\n",
      "Epoch 395/425\n",
      "34/34 [==============================] - 0s 3ms/step - loss: 0.5959 - acc: 0.6358 - val_loss: 0.8915 - val_acc: 0.5777\n",
      "Epoch 396/425\n",
      "34/34 [==============================] - 0s 3ms/step - loss: 0.5783 - acc: 0.6427 - val_loss: 0.8915 - val_acc: 0.5657\n",
      "Epoch 397/425\n",
      "34/34 [==============================] - 0s 4ms/step - loss: 0.5928 - acc: 0.6530 - val_loss: 0.8809 - val_acc: 0.5657\n",
      "Epoch 398/425\n",
      "34/34 [==============================] - 0s 3ms/step - loss: 0.5981 - acc: 0.6311 - val_loss: 0.8909 - val_acc: 0.5299\n",
      "Epoch 399/425\n",
      "34/34 [==============================] - 0s 3ms/step - loss: 0.5773 - acc: 0.6467 - val_loss: 0.9373 - val_acc: 0.5498\n",
      "Epoch 400/425\n",
      "34/34 [==============================] - 0s 2ms/step - loss: 0.6172 - acc: 0.6264 - val_loss: 0.8757 - val_acc: 0.5578\n",
      "Epoch 401/425\n",
      "34/34 [==============================] - 0s 2ms/step - loss: 0.6087 - acc: 0.6270 - val_loss: 0.8207 - val_acc: 0.5299\n",
      "Epoch 402/425\n",
      "34/34 [==============================] - 0s 2ms/step - loss: 0.5828 - acc: 0.6661 - val_loss: 0.8342 - val_acc: 0.5378\n",
      "Epoch 403/425\n",
      "34/34 [==============================] - 0s 2ms/step - loss: 0.5820 - acc: 0.6464 - val_loss: 0.8506 - val_acc: 0.5378\n",
      "Epoch 404/425\n",
      "34/34 [==============================] - 0s 2ms/step - loss: 0.5771 - acc: 0.6553 - val_loss: 0.8716 - val_acc: 0.5538\n",
      "Epoch 405/425\n",
      "34/34 [==============================] - 0s 2ms/step - loss: 0.5929 - acc: 0.6351 - val_loss: 0.8479 - val_acc: 0.5458\n",
      "Epoch 406/425\n",
      "34/34 [==============================] - 0s 2ms/step - loss: 0.5934 - acc: 0.6363 - val_loss: 0.8391 - val_acc: 0.5339\n",
      "Epoch 407/425\n",
      "34/34 [==============================] - 0s 2ms/step - loss: 0.5900 - acc: 0.6340 - val_loss: 0.8342 - val_acc: 0.5100\n",
      "Epoch 408/425\n",
      "34/34 [==============================] - 0s 6ms/step - loss: 0.5783 - acc: 0.6507 - val_loss: 0.8402 - val_acc: 0.5578\n",
      "Epoch 409/425\n",
      "34/34 [==============================] - 0s 2ms/step - loss: 0.5866 - acc: 0.6398 - val_loss: 0.8343 - val_acc: 0.5538\n",
      "Epoch 410/425\n",
      "34/34 [==============================] - 0s 3ms/step - loss: 0.6046 - acc: 0.6216 - val_loss: 0.8575 - val_acc: 0.5498\n",
      "Epoch 411/425\n",
      "34/34 [==============================] - 0s 3ms/step - loss: 0.5746 - acc: 0.6584 - val_loss: 0.8839 - val_acc: 0.5299\n",
      "Epoch 412/425\n",
      "34/34 [==============================] - 0s 2ms/step - loss: 0.5922 - acc: 0.6374 - val_loss: 0.8362 - val_acc: 0.4980\n",
      "Epoch 413/425\n",
      "34/34 [==============================] - 0s 3ms/step - loss: 0.6114 - acc: 0.6048 - val_loss: 0.8414 - val_acc: 0.5498\n",
      "Epoch 414/425\n",
      "34/34 [==============================] - 0s 2ms/step - loss: 0.5991 - acc: 0.6396 - val_loss: 0.8445 - val_acc: 0.5458\n",
      "Epoch 415/425\n",
      "34/34 [==============================] - 0s 2ms/step - loss: 0.5893 - acc: 0.6404 - val_loss: 0.8336 - val_acc: 0.5857\n",
      "Epoch 416/425\n",
      "34/34 [==============================] - 0s 3ms/step - loss: 0.5761 - acc: 0.6461 - val_loss: 0.8346 - val_acc: 0.5339\n",
      "Epoch 417/425\n",
      "34/34 [==============================] - 0s 3ms/step - loss: 0.5988 - acc: 0.6505 - val_loss: 0.8611 - val_acc: 0.5378\n",
      "Epoch 418/425\n",
      "34/34 [==============================] - 0s 3ms/step - loss: 0.5902 - acc: 0.6462 - val_loss: 0.8284 - val_acc: 0.5618\n",
      "Epoch 419/425\n",
      "34/34 [==============================] - 0s 3ms/step - loss: 0.5840 - acc: 0.6429 - val_loss: 0.8421 - val_acc: 0.5299\n",
      "Epoch 420/425\n",
      "34/34 [==============================] - 0s 4ms/step - loss: 0.5961 - acc: 0.6322 - val_loss: 0.8406 - val_acc: 0.5498\n",
      "Epoch 421/425\n",
      "34/34 [==============================] - 0s 3ms/step - loss: 0.5902 - acc: 0.6344 - val_loss: 0.8886 - val_acc: 0.5100\n",
      "Epoch 422/425\n",
      "34/34 [==============================] - 0s 3ms/step - loss: 0.5974 - acc: 0.6475 - val_loss: 0.8769 - val_acc: 0.5378\n",
      "Epoch 423/425\n",
      "34/34 [==============================] - 0s 3ms/step - loss: 0.5865 - acc: 0.6564 - val_loss: 0.8124 - val_acc: 0.5339\n",
      "Epoch 424/425\n",
      "34/34 [==============================] - 0s 3ms/step - loss: 0.5831 - acc: 0.6417 - val_loss: 0.8451 - val_acc: 0.5458\n",
      "Epoch 425/425\n",
      "34/34 [==============================] - 0s 4ms/step - loss: 0.5952 - acc: 0.6347 - val_loss: 0.8177 - val_acc: 0.5378\n"
     ]
    }
   ],
   "source": [
    "# RESULT OPT 3 LAYERS\n",
    "# tensorflow.random.set_seed(111)\n",
    "# np.random.seed(111)\n",
    "# random.seed(111)\n",
    "\n",
    "# epochs = 394\n",
    "# batch_size = 256\n",
    "# model = Sequential()\n",
    "# model.add(Dense(257, activation='sigmoid'))\n",
    "# model.add(Dropout(0.17))\n",
    "# model.add(Dense(199, activation='sigmoid'))\n",
    "# model.add(Dropout(0.25))\n",
    "# model.add(Dense(116, activation='sigmoid'))\n",
    "# model.add(Dense(1, activation='sigmoid'))\n",
    "\n",
    "# RESULT OPT 2 LAYERS\n",
    "# tensorflow.random.set_seed(111)\n",
    "# np.random.seed(111)\n",
    "# random.seed(111)\n",
    "\n",
    "# epochs = 364\n",
    "# batch_size = 128\n",
    "# model = Sequential()\n",
    "# model.add(Dense(17, activation='tanh'))\n",
    "# model.add(Dropout(0.17))\n",
    "# model.add(Dense(24, activation='tanh'))\n",
    "# model.add(Dense(1, activation='sigmoid'))\n",
    "\n",
    "# RESULT OPT 1 LAYER\n",
    "# tensorflow.random.set_seed(111)\n",
    "# np.random.seed(111)\n",
    "# random.seed(111)\n",
    "\n",
    "# epochs = 195\n",
    "# batch_size = 256\n",
    "# model = Sequential()\n",
    "# model.add(Dense(40, activation='sigmoid'))\n",
    "# model.add(Dropout(0.17))\n",
    "# # model.add(Dense(24, activation='tanh'))\n",
    "# model.add(Dense(1, activation='sigmoid'))\n",
    "\n",
    "# ANOTHER\n",
    "# tensorflow.random.set_seed(111)\n",
    "# np.random.seed(111)\n",
    "# random.seed(111)\n",
    "\n",
    "# epochs = 78\n",
    "# batch_size = 256\n",
    "# model = Sequential()\n",
    "# model.add(Dense(40, activation='sigmoid'))\n",
    "# model.add(Dropout(0.17))\n",
    "# # model.add(Dense(24, activation='tanh'))\n",
    "# model.add(Dense(1, activation='sigmoid'))\n",
    "\n",
    "# RESULTS OPT 3 LAYERS FEATURE SELECTION\n",
    "tensorflow.random.set_seed(111)\n",
    "np.random.seed(111)\n",
    "random.seed(111)\n",
    "\n",
    "epochs = 425\n",
    "batch_size = 64\n",
    "model = Sequential()\n",
    "model.add(Dense(29, activation='relu'))\n",
    "model.add(Dropout(0.27))\n",
    "model.add(Dense(112, activation='relu'))\n",
    "model.add(Dropout(0.15))\n",
    "model.add(Dense(249, activation='relu'))\n",
    "model.add(Dense(1, activation='sigmoid'))\n",
    "\n",
    "model.compile(optimizer='adam', loss='binary_crossentropy', metrics=[\"acc\"])\n",
    "history = model.fit(x_train, y_train, epochs=epochs, batch_size=batch_size, verbose=1, validation_data=(x_val, y_val), shuffle=False)"
   ]
  },
  {
   "cell_type": "code",
   "execution_count": 16,
   "metadata": {},
   "outputs": [
    {
     "name": "stdout",
     "output_type": "stream",
     "text": [
      "INFO:tensorflow:Assets written to: Models/SP500_NN_up-down_model/assets\n"
     ]
    }
   ],
   "source": [
    "model_file = \"Models/SP500_NN_up-down_model\"\n",
    "model.save(model_file)"
   ]
  },
  {
   "cell_type": "code",
   "execution_count": 17,
   "metadata": {},
   "outputs": [
    {
     "data": {
      "application/vnd.plotly.v1+json": {
       "config": {
        "plotlyServerURL": "https://plot.ly"
       },
       "data": [
        {
         "mode": "lines",
         "name": "Train Loss",
         "type": "scatter",
         "x": [
          0,
          1,
          2,
          3,
          4,
          5,
          6,
          7,
          8,
          9,
          10,
          11,
          12,
          13,
          14,
          15,
          16,
          17,
          18,
          19,
          20,
          21,
          22,
          23,
          24,
          25,
          26,
          27,
          28,
          29,
          30,
          31,
          32,
          33,
          34,
          35,
          36,
          37,
          38,
          39,
          40,
          41,
          42,
          43,
          44,
          45,
          46,
          47,
          48,
          49,
          50,
          51,
          52,
          53,
          54,
          55,
          56,
          57,
          58,
          59,
          60,
          61,
          62,
          63,
          64,
          65,
          66,
          67,
          68,
          69,
          70,
          71,
          72,
          73,
          74,
          75,
          76,
          77,
          78,
          79,
          80,
          81,
          82,
          83,
          84,
          85,
          86,
          87,
          88,
          89,
          90,
          91,
          92,
          93,
          94,
          95,
          96,
          97,
          98,
          99,
          100,
          101,
          102,
          103,
          104,
          105,
          106,
          107,
          108,
          109,
          110,
          111,
          112,
          113,
          114,
          115,
          116,
          117,
          118,
          119,
          120,
          121,
          122,
          123,
          124,
          125,
          126,
          127,
          128,
          129,
          130,
          131,
          132,
          133,
          134,
          135,
          136,
          137,
          138,
          139,
          140,
          141,
          142,
          143,
          144,
          145,
          146,
          147,
          148,
          149,
          150,
          151,
          152,
          153,
          154,
          155,
          156,
          157,
          158,
          159,
          160,
          161,
          162,
          163,
          164,
          165,
          166,
          167,
          168,
          169,
          170,
          171,
          172,
          173,
          174,
          175,
          176,
          177,
          178,
          179,
          180,
          181,
          182,
          183,
          184,
          185,
          186,
          187,
          188,
          189,
          190,
          191,
          192,
          193,
          194,
          195,
          196,
          197,
          198,
          199,
          200,
          201,
          202,
          203,
          204,
          205,
          206,
          207,
          208,
          209,
          210,
          211,
          212,
          213,
          214,
          215,
          216,
          217,
          218,
          219,
          220,
          221,
          222,
          223,
          224,
          225,
          226,
          227,
          228,
          229,
          230,
          231,
          232,
          233,
          234,
          235,
          236,
          237,
          238,
          239,
          240,
          241,
          242,
          243,
          244,
          245,
          246,
          247,
          248,
          249,
          250,
          251,
          252,
          253,
          254,
          255,
          256,
          257,
          258,
          259,
          260,
          261,
          262,
          263,
          264,
          265,
          266,
          267,
          268,
          269,
          270,
          271,
          272,
          273,
          274,
          275,
          276,
          277,
          278,
          279,
          280,
          281,
          282,
          283,
          284,
          285,
          286,
          287,
          288,
          289,
          290,
          291,
          292,
          293,
          294,
          295,
          296,
          297,
          298,
          299,
          300,
          301,
          302,
          303,
          304,
          305,
          306,
          307,
          308,
          309,
          310,
          311,
          312,
          313,
          314,
          315,
          316,
          317,
          318,
          319,
          320,
          321,
          322,
          323,
          324,
          325,
          326,
          327,
          328,
          329,
          330,
          331,
          332,
          333,
          334,
          335,
          336,
          337,
          338,
          339,
          340,
          341,
          342,
          343,
          344,
          345,
          346,
          347,
          348,
          349,
          350,
          351,
          352,
          353,
          354,
          355,
          356,
          357,
          358,
          359,
          360,
          361,
          362,
          363,
          364,
          365,
          366,
          367,
          368,
          369,
          370,
          371,
          372,
          373,
          374,
          375,
          376,
          377,
          378,
          379,
          380,
          381,
          382,
          383,
          384,
          385,
          386,
          387,
          388,
          389,
          390,
          391,
          392,
          393,
          394,
          395,
          396,
          397,
          398,
          399,
          400,
          401,
          402,
          403,
          404,
          405,
          406,
          407,
          408,
          409,
          410,
          411,
          412,
          413,
          414,
          415,
          416,
          417,
          418,
          419,
          420,
          421,
          422,
          423,
          424
         ],
         "xaxis": "x",
         "y": [
          0.6928247809410095,
          0.6917366981506348,
          0.6909263730049133,
          0.6903504729270935,
          0.6900514960289001,
          0.6892459988594055,
          0.6901249885559082,
          0.689063549041748,
          0.689287006855011,
          0.6887496113777161,
          0.6898885369300842,
          0.6885119676589966,
          0.6893332600593567,
          0.6882120370864868,
          0.6877959370613098,
          0.6884572505950928,
          0.6888339519500732,
          0.6882670521736145,
          0.6880591511726379,
          0.686942458152771,
          0.6885069608688354,
          0.6872190833091736,
          0.6863161325454712,
          0.6866263747215271,
          0.6862427592277527,
          0.6869896650314331,
          0.6874136924743652,
          0.6849809885025024,
          0.685968279838562,
          0.6871157288551331,
          0.6863621473312378,
          0.6861481666564941,
          0.6865127682685852,
          0.6855508685112,
          0.6845094561576843,
          0.6850707530975342,
          0.6861688494682312,
          0.6855273842811584,
          0.6828252077102661,
          0.6848052740097046,
          0.6851668357849121,
          0.6847482323646545,
          0.6822842359542847,
          0.6819081902503967,
          0.6823616623878479,
          0.6840196847915649,
          0.6828223466873169,
          0.6835570335388184,
          0.6820115447044373,
          0.6833112239837646,
          0.6796615123748779,
          0.6855295896530151,
          0.6834182143211365,
          0.6790896058082581,
          0.6819563508033752,
          0.6823086738586426,
          0.6807889938354492,
          0.6801454424858093,
          0.6847633719444275,
          0.6796069741249084,
          0.6785179972648621,
          0.6794790029525757,
          0.6816750168800354,
          0.67928546667099,
          0.681128740310669,
          0.6807122826576233,
          0.6789041757583618,
          0.6781312823295593,
          0.6761096119880676,
          0.6806269288063049,
          0.6790063381195068,
          0.6769010424613953,
          0.6771112680435181,
          0.6772193312644958,
          0.6785802841186523,
          0.678311288356781,
          0.6761192679405212,
          0.6765917539596558,
          0.6728553175926208,
          0.6756840944290161,
          0.6768444776535034,
          0.6762934923171997,
          0.6735585927963257,
          0.6746067404747009,
          0.6783825159072876,
          0.6704899072647095,
          0.6740987300872803,
          0.675416886806488,
          0.6718481183052063,
          0.669523298740387,
          0.6673545837402344,
          0.6715995073318481,
          0.6689393520355225,
          0.6672002673149109,
          0.6712756752967834,
          0.6680885553359985,
          0.6701695919036865,
          0.6654431223869324,
          0.672674298286438,
          0.6692034602165222,
          0.6703270673751831,
          0.6665757894515991,
          0.6636812090873718,
          0.6705011129379272,
          0.6587889194488525,
          0.66495680809021,
          0.6635406613349915,
          0.6675903797149658,
          0.6640853881835938,
          0.6626958250999451,
          0.6602161526679993,
          0.66297847032547,
          0.6561528444290161,
          0.6656298041343689,
          0.6615142226219177,
          0.6631731390953064,
          0.6618451476097107,
          0.6583288311958313,
          0.6577680110931396,
          0.6558938026428223,
          0.6565607190132141,
          0.6562963128089905,
          0.6581603288650513,
          0.6638891100883484,
          0.6658985614776611,
          0.659986674785614,
          0.6598773002624512,
          0.6604284644126892,
          0.6602407693862915,
          0.6510959267616272,
          0.656889021396637,
          0.6493309140205383,
          0.6493245959281921,
          0.6460514068603516,
          0.6520615816116333,
          0.6561537384986877,
          0.6505693793296814,
          0.6532530188560486,
          0.6506421566009521,
          0.6514133214950562,
          0.651214063167572,
          0.6567891836166382,
          0.6476026177406311,
          0.6486240029335022,
          0.6547721028327942,
          0.6531678438186646,
          0.650412380695343,
          0.648445188999176,
          0.6622707843780518,
          0.6474060416221619,
          0.6507808566093445,
          0.649806022644043,
          0.6501034498214722,
          0.6487258076667786,
          0.644791841506958,
          0.6456347703933716,
          0.6433145403862,
          0.6416312456130981,
          0.6372617483139038,
          0.6447402834892273,
          0.6478873491287231,
          0.6509470343589783,
          0.6396338939666748,
          0.6487506031990051,
          0.6491439938545227,
          0.6411630511283875,
          0.6415412425994873,
          0.6490582823753357,
          0.6411880850791931,
          0.6340480446815491,
          0.6385446190834045,
          0.6464241147041321,
          0.6456960439682007,
          0.6420237421989441,
          0.6422948241233826,
          0.6370741128921509,
          0.633139431476593,
          0.6371372938156128,
          0.6327102184295654,
          0.6352781653404236,
          0.6387351155281067,
          0.6354089379310608,
          0.6366639137268066,
          0.6382696032524109,
          0.6342505812644958,
          0.637650728225708,
          0.6328356862068176,
          0.6403428912162781,
          0.6430119276046753,
          0.6330680847167969,
          0.6276233196258545,
          0.6408364176750183,
          0.6464492678642273,
          0.628085732460022,
          0.6303685903549194,
          0.6419821381568909,
          0.6272223591804504,
          0.6335263252258301,
          0.6293063759803772,
          0.6252940893173218,
          0.630368709564209,
          0.6289492845535278,
          0.6283825039863586,
          0.6322228908538818,
          0.6333181262016296,
          0.6253426671028137,
          0.6254606246948242,
          0.6251950860023499,
          0.6395288705825806,
          0.6242914199829102,
          0.6290901303291321,
          0.6332129836082458,
          0.6424804925918579,
          0.6309812664985657,
          0.6295923590660095,
          0.6312894821166992,
          0.631043016910553,
          0.6323520541191101,
          0.6295895576477051,
          0.6240288019180298,
          0.6260513067245483,
          0.6213232278823853,
          0.6217222213745117,
          0.6170682311058044,
          0.6249849796295166,
          0.6213438510894775,
          0.6353369951248169,
          0.6204083561897278,
          0.6276804804801941,
          0.6208287477493286,
          0.6239326596260071,
          0.6202232241630554,
          0.6257277131080627,
          0.6228506565093994,
          0.6158134341239929,
          0.6266308426856995,
          0.6291464567184448,
          0.6301162838935852,
          0.6184033751487732,
          0.6228450536727905,
          0.6163007020950317,
          0.6167362928390503,
          0.616696834564209,
          0.6142039895057678,
          0.6143884062767029,
          0.6284734010696411,
          0.6244170665740967,
          0.6318658590316772,
          0.6186728477478027,
          0.6211206912994385,
          0.6275575160980225,
          0.6155447363853455,
          0.613726019859314,
          0.6206656694412231,
          0.6115188598632812,
          0.6218035817146301,
          0.6179851293563843,
          0.6291108727455139,
          0.6112200021743774,
          0.6214856505393982,
          0.619031548500061,
          0.6196378469467163,
          0.6096926331520081,
          0.6099046468734741,
          0.6246088743209839,
          0.6088064908981323,
          0.6212073564529419,
          0.6111258864402771,
          0.6233497858047485,
          0.6236953139305115,
          0.6126612424850464,
          0.6182205080986023,
          0.6163852214813232,
          0.6126677989959717,
          0.6081972718238831,
          0.613217294216156,
          0.6188709735870361,
          0.6059518456459045,
          0.6144108772277832,
          0.6131314039230347,
          0.6270167827606201,
          0.6285227537155151,
          0.6137530207633972,
          0.6070078611373901,
          0.6121277809143066,
          0.6139051914215088,
          0.609375536441803,
          0.6161425113677979,
          0.6087939739227295,
          0.6041674017906189,
          0.6158524751663208,
          0.6067826747894287,
          0.6145252585411072,
          0.6222130656242371,
          0.6370881795883179,
          0.6319421529769897,
          0.620875895023346,
          0.6074919700622559,
          0.6134613752365112,
          0.609505295753479,
          0.6237048506736755,
          0.6076259016990662,
          0.5981236100196838,
          0.621116578578949,
          0.6062716841697693,
          0.607437252998352,
          0.6058459877967834,
          0.6117637753486633,
          0.6132155656814575,
          0.6138169169425964,
          0.6083952188491821,
          0.6083561182022095,
          0.5979174971580505,
          0.6000162959098816,
          0.5996831059455872,
          0.6067516803741455,
          0.607167661190033,
          0.6054654717445374,
          0.601413905620575,
          0.5972133278846741,
          0.5996600389480591,
          0.5981916189193726,
          0.6024375557899475,
          0.6036777496337891,
          0.6058172583580017,
          0.606240451335907,
          0.5971382260322571,
          0.6090830564498901,
          0.6174325942993164,
          0.611823320388794,
          0.597327470779419,
          0.6113916635513306,
          0.605225682258606,
          0.5966398119926453,
          0.6159032583236694,
          0.608144998550415,
          0.6181489825248718,
          0.6137099862098694,
          0.5955543518066406,
          0.6206465363502502,
          0.6104550361633301,
          0.6015807390213013,
          0.6011654138565063,
          0.6006420850753784,
          0.5989278554916382,
          0.6019467115402222,
          0.5942679047584534,
          0.6057383418083191,
          0.609877347946167,
          0.602092444896698,
          0.5990004539489746,
          0.6026075482368469,
          0.6030747294425964,
          0.5973204970359802,
          0.6047623753547668,
          0.6073324680328369,
          0.6107236742973328,
          0.5954368710517883,
          0.6018205285072327,
          0.5977283716201782,
          0.5955502986907959,
          0.5898654460906982,
          0.602642834186554,
          0.5965123176574707,
          0.5931458473205566,
          0.6028879284858704,
          0.5982552170753479,
          0.5910104513168335,
          0.5948542356491089,
          0.604846179485321,
          0.5914349555969238,
          0.5971114039421082,
          0.5989184975624084,
          0.5951716303825378,
          0.5915988683700562,
          0.6012452244758606,
          0.6099931001663208,
          0.601170003414154,
          0.5967057347297668,
          0.5910177826881409,
          0.5985792279243469,
          0.6110976338386536,
          0.6010021567344666,
          0.5929017663002014,
          0.5935992002487183,
          0.598217248916626,
          0.5903527140617371,
          0.597446620464325,
          0.5948373079299927,
          0.5887444615364075,
          0.59930020570755,
          0.5890251398086548,
          0.5964117050170898,
          0.6073583960533142,
          0.5959354043006897,
          0.5885873436927795,
          0.5977826118469238,
          0.598198652267456,
          0.5844308137893677,
          0.6027725338935852,
          0.606544554233551,
          0.5876344442367554,
          0.5884550213813782,
          0.5878463983535767,
          0.5959208011627197,
          0.5993363857269287,
          0.5961310267448425,
          0.5901563763618469,
          0.590265154838562,
          0.6012900471687317,
          0.5809205770492554,
          0.5923348665237427,
          0.6087086200714111,
          0.6016260981559753,
          0.592771053314209,
          0.5781970024108887,
          0.6005340814590454,
          0.5925584435462952,
          0.5889370441436768,
          0.6044005155563354,
          0.5889534950256348,
          0.5989322662353516,
          0.5947735905647278,
          0.5821345448493958,
          0.6044700741767883
         ],
         "yaxis": "y"
        },
        {
         "mode": "lines",
         "name": "Validation Loss",
         "type": "scatter",
         "x": [
          0,
          1,
          2,
          3,
          4,
          5,
          6,
          7,
          8,
          9,
          10,
          11,
          12,
          13,
          14,
          15,
          16,
          17,
          18,
          19,
          20,
          21,
          22,
          23,
          24,
          25,
          26,
          27,
          28,
          29,
          30,
          31,
          32,
          33,
          34,
          35,
          36,
          37,
          38,
          39,
          40,
          41,
          42,
          43,
          44,
          45,
          46,
          47,
          48,
          49,
          50,
          51,
          52,
          53,
          54,
          55,
          56,
          57,
          58,
          59,
          60,
          61,
          62,
          63,
          64,
          65,
          66,
          67,
          68,
          69,
          70,
          71,
          72,
          73,
          74,
          75,
          76,
          77,
          78,
          79,
          80,
          81,
          82,
          83,
          84,
          85,
          86,
          87,
          88,
          89,
          90,
          91,
          92,
          93,
          94,
          95,
          96,
          97,
          98,
          99,
          100,
          101,
          102,
          103,
          104,
          105,
          106,
          107,
          108,
          109,
          110,
          111,
          112,
          113,
          114,
          115,
          116,
          117,
          118,
          119,
          120,
          121,
          122,
          123,
          124,
          125,
          126,
          127,
          128,
          129,
          130,
          131,
          132,
          133,
          134,
          135,
          136,
          137,
          138,
          139,
          140,
          141,
          142,
          143,
          144,
          145,
          146,
          147,
          148,
          149,
          150,
          151,
          152,
          153,
          154,
          155,
          156,
          157,
          158,
          159,
          160,
          161,
          162,
          163,
          164,
          165,
          166,
          167,
          168,
          169,
          170,
          171,
          172,
          173,
          174,
          175,
          176,
          177,
          178,
          179,
          180,
          181,
          182,
          183,
          184,
          185,
          186,
          187,
          188,
          189,
          190,
          191,
          192,
          193,
          194,
          195,
          196,
          197,
          198,
          199,
          200,
          201,
          202,
          203,
          204,
          205,
          206,
          207,
          208,
          209,
          210,
          211,
          212,
          213,
          214,
          215,
          216,
          217,
          218,
          219,
          220,
          221,
          222,
          223,
          224,
          225,
          226,
          227,
          228,
          229,
          230,
          231,
          232,
          233,
          234,
          235,
          236,
          237,
          238,
          239,
          240,
          241,
          242,
          243,
          244,
          245,
          246,
          247,
          248,
          249,
          250,
          251,
          252,
          253,
          254,
          255,
          256,
          257,
          258,
          259,
          260,
          261,
          262,
          263,
          264,
          265,
          266,
          267,
          268,
          269,
          270,
          271,
          272,
          273,
          274,
          275,
          276,
          277,
          278,
          279,
          280,
          281,
          282,
          283,
          284,
          285,
          286,
          287,
          288,
          289,
          290,
          291,
          292,
          293,
          294,
          295,
          296,
          297,
          298,
          299,
          300,
          301,
          302,
          303,
          304,
          305,
          306,
          307,
          308,
          309,
          310,
          311,
          312,
          313,
          314,
          315,
          316,
          317,
          318,
          319,
          320,
          321,
          322,
          323,
          324,
          325,
          326,
          327,
          328,
          329,
          330,
          331,
          332,
          333,
          334,
          335,
          336,
          337,
          338,
          339,
          340,
          341,
          342,
          343,
          344,
          345,
          346,
          347,
          348,
          349,
          350,
          351,
          352,
          353,
          354,
          355,
          356,
          357,
          358,
          359,
          360,
          361,
          362,
          363,
          364,
          365,
          366,
          367,
          368,
          369,
          370,
          371,
          372,
          373,
          374,
          375,
          376,
          377,
          378,
          379,
          380,
          381,
          382,
          383,
          384,
          385,
          386,
          387,
          388,
          389,
          390,
          391,
          392,
          393,
          394,
          395,
          396,
          397,
          398,
          399,
          400,
          401,
          402,
          403,
          404,
          405,
          406,
          407,
          408,
          409,
          410,
          411,
          412,
          413,
          414,
          415,
          416,
          417,
          418,
          419,
          420,
          421,
          422,
          423,
          424
         ],
         "xaxis": "x",
         "y": [
          0.6943452954292297,
          0.6946836113929749,
          0.6924688220024109,
          0.6940802335739136,
          0.6928420066833496,
          0.6929944157600403,
          0.6945077776908875,
          0.6947157979011536,
          0.694768488407135,
          0.6939792633056641,
          0.6939281821250916,
          0.6963198184967041,
          0.6955913305282593,
          0.6961523294448853,
          0.6960820555686951,
          0.6948327422142029,
          0.6947641372680664,
          0.6959463357925415,
          0.6958792805671692,
          0.695331335067749,
          0.6959862112998962,
          0.6946075558662415,
          0.696062445640564,
          0.6953251361846924,
          0.6954799890518188,
          0.6975030899047852,
          0.6955142021179199,
          0.6937777400016785,
          0.6952001452445984,
          0.6949033141136169,
          0.6939753890037537,
          0.6949670910835266,
          0.6965917348861694,
          0.6964977979660034,
          0.6944262981414795,
          0.6971109509468079,
          0.6979473233222961,
          0.6947078704833984,
          0.6950528621673584,
          0.6975203156471252,
          0.6960188746452332,
          0.6951409578323364,
          0.6968701481819153,
          0.6971355676651001,
          0.6972236037254333,
          0.6987022161483765,
          0.6983774304389954,
          0.6994980573654175,
          0.7015447020530701,
          0.6986234784126282,
          0.7014577388763428,
          0.6977680921554565,
          0.6951241493225098,
          0.7025496363639832,
          0.7021340727806091,
          0.6967586874961853,
          0.6999022960662842,
          0.6984779238700867,
          0.6991610527038574,
          0.6993969678878784,
          0.7009207010269165,
          0.7030144929885864,
          0.7006571888923645,
          0.705484926700592,
          0.7053182125091553,
          0.7008822560310364,
          0.6989684104919434,
          0.702373206615448,
          0.7022907733917236,
          0.7038136124610901,
          0.7008247375488281,
          0.6999037265777588,
          0.6995778679847717,
          0.6992301940917969,
          0.7014615535736084,
          0.7013769149780273,
          0.6994699239730835,
          0.7020059823989868,
          0.6983926892280579,
          0.7021093964576721,
          0.7035744786262512,
          0.707161009311676,
          0.7054656744003296,
          0.700782299041748,
          0.7028114199638367,
          0.6971472501754761,
          0.7054588198661804,
          0.7123910188674927,
          0.7138378620147705,
          0.705980658531189,
          0.7085237503051758,
          0.7080300450325012,
          0.7084959149360657,
          0.7090523838996887,
          0.7113125920295715,
          0.7198041081428528,
          0.7053374648094177,
          0.7093460559844971,
          0.7131845355033875,
          0.7119525074958801,
          0.7055577635765076,
          0.7122957110404968,
          0.7158496975898743,
          0.710676372051239,
          0.7135706543922424,
          0.718449592590332,
          0.7134429216384888,
          0.7215714454650879,
          0.7236798405647278,
          0.7150473594665527,
          0.7183242440223694,
          0.7191858887672424,
          0.7241767644882202,
          0.7301684617996216,
          0.7221220135688782,
          0.7179921269416809,
          0.724712073802948,
          0.7288757562637329,
          0.7296611666679382,
          0.7367090582847595,
          0.7412803769111633,
          0.7300282716751099,
          0.7390214800834656,
          0.7345594763755798,
          0.7323052287101746,
          0.7339709997177124,
          0.734229564666748,
          0.7221785187721252,
          0.7398762106895447,
          0.7408748865127563,
          0.7334117889404297,
          0.7391682863235474,
          0.7450684309005737,
          0.7547246217727661,
          0.7420509457588196,
          0.7425090074539185,
          0.7552173137664795,
          0.752868115901947,
          0.7427718043327332,
          0.7198368310928345,
          0.7505823969841003,
          0.7411143183708191,
          0.7479729056358337,
          0.7682194709777832,
          0.7555782198905945,
          0.7605287432670593,
          0.7484894394874573,
          0.7623957395553589,
          0.751369833946228,
          0.7463206052780151,
          0.7592368721961975,
          0.7586408853530884,
          0.7492671608924866,
          0.7529442310333252,
          0.7639585137367249,
          0.7655109763145447,
          0.7703753113746643,
          0.7461488246917725,
          0.7824319005012512,
          0.7632372379302979,
          0.7856231331825256,
          0.7693755626678467,
          0.7853641510009766,
          0.7651309967041016,
          0.7824503779411316,
          0.7716962695121765,
          0.7475073933601379,
          0.766669750213623,
          0.7747727632522583,
          0.7803725004196167,
          0.7747086882591248,
          0.7793942093849182,
          0.7732663154602051,
          0.7773003578186035,
          0.7615975737571716,
          0.7851832509040833,
          0.7728098630905151,
          0.7921270728111267,
          0.7929756045341492,
          0.7617769837379456,
          0.7846658825874329,
          0.7717147469520569,
          0.7792308330535889,
          0.7638776898384094,
          0.7685437202453613,
          0.7554468512535095,
          0.7660888433456421,
          0.7593190670013428,
          0.7756999135017395,
          0.7811833024024963,
          0.7905175685882568,
          0.7669196128845215,
          0.7510021924972534,
          0.7935899496078491,
          0.7567428946495056,
          0.7816309928894043,
          0.7761586904525757,
          0.7807256579399109,
          0.8092163801193237,
          0.8015541434288025,
          0.7959463596343994,
          0.8082674145698547,
          0.7881067395210266,
          0.7712926268577576,
          0.780229389667511,
          0.7814466953277588,
          0.8008823990821838,
          0.8309141397476196,
          0.7847438454627991,
          0.8173002004623413,
          0.7987620234489441,
          0.7876620888710022,
          0.7967024445533752,
          0.7898090481758118,
          0.8080272674560547,
          0.7935624718666077,
          0.7922846078872681,
          0.7903741598129272,
          0.8115481734275818,
          0.7859245538711548,
          0.8018203377723694,
          0.7920607924461365,
          0.7882672548294067,
          0.8161675930023193,
          0.8218128681182861,
          0.8098523616790771,
          0.8066486716270447,
          0.8165988922119141,
          0.803157389163971,
          0.8235843181610107,
          0.8112192153930664,
          0.8368986248970032,
          0.8192861676216125,
          0.7873005270957947,
          0.8445563316345215,
          0.8132686614990234,
          0.7931554317474365,
          0.8253713846206665,
          0.8073416948318481,
          0.82432621717453,
          0.8192911148071289,
          0.8565693497657776,
          0.7914892435073853,
          0.8218510746955872,
          0.8399550318717957,
          0.8101073503494263,
          0.8090912699699402,
          0.8053441643714905,
          0.8139585256576538,
          0.8007628917694092,
          0.8350988626480103,
          0.821214497089386,
          0.8404205441474915,
          0.8284662961959839,
          0.814521074295044,
          0.8590875864028931,
          0.8232887983322144,
          0.8172973990440369,
          0.8526330590248108,
          0.830819308757782,
          0.8093937635421753,
          0.8499394059181213,
          0.8364690542221069,
          0.8333041071891785,
          0.8325688242912292,
          0.8255181312561035,
          0.8292416334152222,
          0.8564953804016113,
          0.8296568989753723,
          0.836362898349762,
          0.8402617573738098,
          0.8285486102104187,
          0.8305913209915161,
          0.82811439037323,
          0.8361752033233643,
          0.8459259867668152,
          0.8343070149421692,
          0.8403823375701904,
          0.8499503135681152,
          0.887844979763031,
          0.8774310350418091,
          0.8619940876960754,
          0.8479829430580139,
          0.8258698582649231,
          0.8519665002822876,
          0.862134575843811,
          0.8721006512641907,
          0.8247613906860352,
          0.8550769090652466,
          0.8489089012145996,
          0.8644570708274841,
          0.8866177201271057,
          0.8492072820663452,
          0.8690742254257202,
          0.8042991161346436,
          0.7881114482879639,
          0.8734962940216064,
          0.8367093205451965,
          0.8714472651481628,
          0.8443777561187744,
          0.7960646748542786,
          0.8352956175804138,
          0.8608490824699402,
          0.8768473267555237,
          0.8519020676612854,
          0.8528521656990051,
          0.8473891615867615,
          0.8242133855819702,
          0.7961943745613098,
          0.772289514541626,
          0.8085809350013733,
          0.8596916794776917,
          0.8812503814697266,
          0.910645604133606,
          0.8767905831336975,
          0.8777876496315002,
          0.8594692945480347,
          0.8632634878158569,
          0.8720770478248596,
          0.8656095266342163,
          0.843802273273468,
          0.8435975909233093,
          0.8860862851142883,
          0.8569625020027161,
          0.8801155090332031,
          0.8759762048721313,
          0.875459611415863,
          0.8684780597686768,
          0.8976019620895386,
          0.8960394263267517,
          0.8888595104217529,
          0.8740724921226501,
          0.8504725098609924,
          0.892036497592926,
          0.8463505506515503,
          0.885697066783905,
          0.8917653560638428,
          0.8576396703720093,
          0.9031535387039185,
          0.8136305809020996,
          0.8393059968948364,
          0.9043091535568237,
          0.8341600894927979,
          0.8738396763801575,
          0.8649793863296509,
          0.8932167887687683,
          0.9197332859039307,
          0.8559463024139404,
          0.8941645622253418,
          0.9068115949630737,
          0.879688024520874,
          0.8964617848396301,
          0.9016111493110657,
          0.884575366973877,
          0.9105778336524963,
          0.9004342555999756,
          0.8880107402801514,
          0.874309778213501,
          0.8784865140914917,
          0.8987775444984436,
          0.8898932933807373,
          0.8444263339042664,
          0.817157506942749,
          0.8669412136077881,
          0.8746358156204224,
          0.9113207459449768,
          0.9098510146141052,
          0.8747369050979614,
          0.9074149131774902,
          0.8828035593032837,
          0.8224124908447266,
          0.8330711722373962,
          0.8229169249534607,
          0.8313167095184326,
          0.8550777435302734,
          0.8768255710601807,
          0.8926594853401184,
          0.9180650115013123,
          0.9118158221244812,
          0.8756463527679443,
          0.8609628677368164,
          0.8622390031814575,
          0.8396138548851013,
          0.8129064440727234,
          0.8257685899734497,
          0.8186622262001038,
          0.8563532829284668,
          0.8623390793800354,
          0.895294189453125,
          0.8737643361091614,
          0.8768235445022583,
          0.9068611264228821,
          0.9128656387329102,
          0.8809748888015747,
          0.8915147185325623,
          0.8915104269981384,
          0.8809077143669128,
          0.890948474407196,
          0.9372681975364685,
          0.8757042288780212,
          0.8206967115402222,
          0.8341871500015259,
          0.8505962491035461,
          0.8715972304344177,
          0.847947895526886,
          0.8391019701957703,
          0.8342114686965942,
          0.840222954750061,
          0.8342804312705994,
          0.8574570417404175,
          0.8838971853256226,
          0.8362048864364624,
          0.841443657875061,
          0.8444613814353943,
          0.8335696458816528,
          0.8346274495124817,
          0.8611264228820801,
          0.8284342288970947,
          0.8420737385749817,
          0.8405999541282654,
          0.8886309862136841,
          0.8769468069076538,
          0.8123900890350342,
          0.8450953364372253,
          0.8176756501197815
         ],
         "yaxis": "y"
        }
       ],
       "layout": {
        "template": {
         "data": {
          "bar": [
           {
            "error_x": {
             "color": "#2a3f5f"
            },
            "error_y": {
             "color": "#2a3f5f"
            },
            "marker": {
             "line": {
              "color": "#E5ECF6",
              "width": 0.5
             },
             "pattern": {
              "fillmode": "overlay",
              "size": 10,
              "solidity": 0.2
             }
            },
            "type": "bar"
           }
          ],
          "barpolar": [
           {
            "marker": {
             "line": {
              "color": "#E5ECF6",
              "width": 0.5
             },
             "pattern": {
              "fillmode": "overlay",
              "size": 10,
              "solidity": 0.2
             }
            },
            "type": "barpolar"
           }
          ],
          "carpet": [
           {
            "aaxis": {
             "endlinecolor": "#2a3f5f",
             "gridcolor": "white",
             "linecolor": "white",
             "minorgridcolor": "white",
             "startlinecolor": "#2a3f5f"
            },
            "baxis": {
             "endlinecolor": "#2a3f5f",
             "gridcolor": "white",
             "linecolor": "white",
             "minorgridcolor": "white",
             "startlinecolor": "#2a3f5f"
            },
            "type": "carpet"
           }
          ],
          "choropleth": [
           {
            "colorbar": {
             "outlinewidth": 0,
             "ticks": ""
            },
            "type": "choropleth"
           }
          ],
          "contour": [
           {
            "colorbar": {
             "outlinewidth": 0,
             "ticks": ""
            },
            "colorscale": [
             [
              0,
              "#0d0887"
             ],
             [
              0.1111111111111111,
              "#46039f"
             ],
             [
              0.2222222222222222,
              "#7201a8"
             ],
             [
              0.3333333333333333,
              "#9c179e"
             ],
             [
              0.4444444444444444,
              "#bd3786"
             ],
             [
              0.5555555555555556,
              "#d8576b"
             ],
             [
              0.6666666666666666,
              "#ed7953"
             ],
             [
              0.7777777777777778,
              "#fb9f3a"
             ],
             [
              0.8888888888888888,
              "#fdca26"
             ],
             [
              1,
              "#f0f921"
             ]
            ],
            "type": "contour"
           }
          ],
          "contourcarpet": [
           {
            "colorbar": {
             "outlinewidth": 0,
             "ticks": ""
            },
            "type": "contourcarpet"
           }
          ],
          "heatmap": [
           {
            "colorbar": {
             "outlinewidth": 0,
             "ticks": ""
            },
            "colorscale": [
             [
              0,
              "#0d0887"
             ],
             [
              0.1111111111111111,
              "#46039f"
             ],
             [
              0.2222222222222222,
              "#7201a8"
             ],
             [
              0.3333333333333333,
              "#9c179e"
             ],
             [
              0.4444444444444444,
              "#bd3786"
             ],
             [
              0.5555555555555556,
              "#d8576b"
             ],
             [
              0.6666666666666666,
              "#ed7953"
             ],
             [
              0.7777777777777778,
              "#fb9f3a"
             ],
             [
              0.8888888888888888,
              "#fdca26"
             ],
             [
              1,
              "#f0f921"
             ]
            ],
            "type": "heatmap"
           }
          ],
          "heatmapgl": [
           {
            "colorbar": {
             "outlinewidth": 0,
             "ticks": ""
            },
            "colorscale": [
             [
              0,
              "#0d0887"
             ],
             [
              0.1111111111111111,
              "#46039f"
             ],
             [
              0.2222222222222222,
              "#7201a8"
             ],
             [
              0.3333333333333333,
              "#9c179e"
             ],
             [
              0.4444444444444444,
              "#bd3786"
             ],
             [
              0.5555555555555556,
              "#d8576b"
             ],
             [
              0.6666666666666666,
              "#ed7953"
             ],
             [
              0.7777777777777778,
              "#fb9f3a"
             ],
             [
              0.8888888888888888,
              "#fdca26"
             ],
             [
              1,
              "#f0f921"
             ]
            ],
            "type": "heatmapgl"
           }
          ],
          "histogram": [
           {
            "marker": {
             "pattern": {
              "fillmode": "overlay",
              "size": 10,
              "solidity": 0.2
             }
            },
            "type": "histogram"
           }
          ],
          "histogram2d": [
           {
            "colorbar": {
             "outlinewidth": 0,
             "ticks": ""
            },
            "colorscale": [
             [
              0,
              "#0d0887"
             ],
             [
              0.1111111111111111,
              "#46039f"
             ],
             [
              0.2222222222222222,
              "#7201a8"
             ],
             [
              0.3333333333333333,
              "#9c179e"
             ],
             [
              0.4444444444444444,
              "#bd3786"
             ],
             [
              0.5555555555555556,
              "#d8576b"
             ],
             [
              0.6666666666666666,
              "#ed7953"
             ],
             [
              0.7777777777777778,
              "#fb9f3a"
             ],
             [
              0.8888888888888888,
              "#fdca26"
             ],
             [
              1,
              "#f0f921"
             ]
            ],
            "type": "histogram2d"
           }
          ],
          "histogram2dcontour": [
           {
            "colorbar": {
             "outlinewidth": 0,
             "ticks": ""
            },
            "colorscale": [
             [
              0,
              "#0d0887"
             ],
             [
              0.1111111111111111,
              "#46039f"
             ],
             [
              0.2222222222222222,
              "#7201a8"
             ],
             [
              0.3333333333333333,
              "#9c179e"
             ],
             [
              0.4444444444444444,
              "#bd3786"
             ],
             [
              0.5555555555555556,
              "#d8576b"
             ],
             [
              0.6666666666666666,
              "#ed7953"
             ],
             [
              0.7777777777777778,
              "#fb9f3a"
             ],
             [
              0.8888888888888888,
              "#fdca26"
             ],
             [
              1,
              "#f0f921"
             ]
            ],
            "type": "histogram2dcontour"
           }
          ],
          "mesh3d": [
           {
            "colorbar": {
             "outlinewidth": 0,
             "ticks": ""
            },
            "type": "mesh3d"
           }
          ],
          "parcoords": [
           {
            "line": {
             "colorbar": {
              "outlinewidth": 0,
              "ticks": ""
             }
            },
            "type": "parcoords"
           }
          ],
          "pie": [
           {
            "automargin": true,
            "type": "pie"
           }
          ],
          "scatter": [
           {
            "marker": {
             "colorbar": {
              "outlinewidth": 0,
              "ticks": ""
             }
            },
            "type": "scatter"
           }
          ],
          "scatter3d": [
           {
            "line": {
             "colorbar": {
              "outlinewidth": 0,
              "ticks": ""
             }
            },
            "marker": {
             "colorbar": {
              "outlinewidth": 0,
              "ticks": ""
             }
            },
            "type": "scatter3d"
           }
          ],
          "scattercarpet": [
           {
            "marker": {
             "colorbar": {
              "outlinewidth": 0,
              "ticks": ""
             }
            },
            "type": "scattercarpet"
           }
          ],
          "scattergeo": [
           {
            "marker": {
             "colorbar": {
              "outlinewidth": 0,
              "ticks": ""
             }
            },
            "type": "scattergeo"
           }
          ],
          "scattergl": [
           {
            "marker": {
             "colorbar": {
              "outlinewidth": 0,
              "ticks": ""
             }
            },
            "type": "scattergl"
           }
          ],
          "scattermapbox": [
           {
            "marker": {
             "colorbar": {
              "outlinewidth": 0,
              "ticks": ""
             }
            },
            "type": "scattermapbox"
           }
          ],
          "scatterpolar": [
           {
            "marker": {
             "colorbar": {
              "outlinewidth": 0,
              "ticks": ""
             }
            },
            "type": "scatterpolar"
           }
          ],
          "scatterpolargl": [
           {
            "marker": {
             "colorbar": {
              "outlinewidth": 0,
              "ticks": ""
             }
            },
            "type": "scatterpolargl"
           }
          ],
          "scatterternary": [
           {
            "marker": {
             "colorbar": {
              "outlinewidth": 0,
              "ticks": ""
             }
            },
            "type": "scatterternary"
           }
          ],
          "surface": [
           {
            "colorbar": {
             "outlinewidth": 0,
             "ticks": ""
            },
            "colorscale": [
             [
              0,
              "#0d0887"
             ],
             [
              0.1111111111111111,
              "#46039f"
             ],
             [
              0.2222222222222222,
              "#7201a8"
             ],
             [
              0.3333333333333333,
              "#9c179e"
             ],
             [
              0.4444444444444444,
              "#bd3786"
             ],
             [
              0.5555555555555556,
              "#d8576b"
             ],
             [
              0.6666666666666666,
              "#ed7953"
             ],
             [
              0.7777777777777778,
              "#fb9f3a"
             ],
             [
              0.8888888888888888,
              "#fdca26"
             ],
             [
              1,
              "#f0f921"
             ]
            ],
            "type": "surface"
           }
          ],
          "table": [
           {
            "cells": {
             "fill": {
              "color": "#EBF0F8"
             },
             "line": {
              "color": "white"
             }
            },
            "header": {
             "fill": {
              "color": "#C8D4E3"
             },
             "line": {
              "color": "white"
             }
            },
            "type": "table"
           }
          ]
         },
         "layout": {
          "annotationdefaults": {
           "arrowcolor": "#2a3f5f",
           "arrowhead": 0,
           "arrowwidth": 1
          },
          "autotypenumbers": "strict",
          "coloraxis": {
           "colorbar": {
            "outlinewidth": 0,
            "ticks": ""
           }
          },
          "colorscale": {
           "diverging": [
            [
             0,
             "#8e0152"
            ],
            [
             0.1,
             "#c51b7d"
            ],
            [
             0.2,
             "#de77ae"
            ],
            [
             0.3,
             "#f1b6da"
            ],
            [
             0.4,
             "#fde0ef"
            ],
            [
             0.5,
             "#f7f7f7"
            ],
            [
             0.6,
             "#e6f5d0"
            ],
            [
             0.7,
             "#b8e186"
            ],
            [
             0.8,
             "#7fbc41"
            ],
            [
             0.9,
             "#4d9221"
            ],
            [
             1,
             "#276419"
            ]
           ],
           "sequential": [
            [
             0,
             "#0d0887"
            ],
            [
             0.1111111111111111,
             "#46039f"
            ],
            [
             0.2222222222222222,
             "#7201a8"
            ],
            [
             0.3333333333333333,
             "#9c179e"
            ],
            [
             0.4444444444444444,
             "#bd3786"
            ],
            [
             0.5555555555555556,
             "#d8576b"
            ],
            [
             0.6666666666666666,
             "#ed7953"
            ],
            [
             0.7777777777777778,
             "#fb9f3a"
            ],
            [
             0.8888888888888888,
             "#fdca26"
            ],
            [
             1,
             "#f0f921"
            ]
           ],
           "sequentialminus": [
            [
             0,
             "#0d0887"
            ],
            [
             0.1111111111111111,
             "#46039f"
            ],
            [
             0.2222222222222222,
             "#7201a8"
            ],
            [
             0.3333333333333333,
             "#9c179e"
            ],
            [
             0.4444444444444444,
             "#bd3786"
            ],
            [
             0.5555555555555556,
             "#d8576b"
            ],
            [
             0.6666666666666666,
             "#ed7953"
            ],
            [
             0.7777777777777778,
             "#fb9f3a"
            ],
            [
             0.8888888888888888,
             "#fdca26"
            ],
            [
             1,
             "#f0f921"
            ]
           ]
          },
          "colorway": [
           "#636efa",
           "#EF553B",
           "#00cc96",
           "#ab63fa",
           "#FFA15A",
           "#19d3f3",
           "#FF6692",
           "#B6E880",
           "#FF97FF",
           "#FECB52"
          ],
          "font": {
           "color": "#2a3f5f"
          },
          "geo": {
           "bgcolor": "white",
           "lakecolor": "white",
           "landcolor": "#E5ECF6",
           "showlakes": true,
           "showland": true,
           "subunitcolor": "white"
          },
          "hoverlabel": {
           "align": "left"
          },
          "hovermode": "closest",
          "mapbox": {
           "style": "light"
          },
          "paper_bgcolor": "white",
          "plot_bgcolor": "#E5ECF6",
          "polar": {
           "angularaxis": {
            "gridcolor": "white",
            "linecolor": "white",
            "ticks": ""
           },
           "bgcolor": "#E5ECF6",
           "radialaxis": {
            "gridcolor": "white",
            "linecolor": "white",
            "ticks": ""
           }
          },
          "scene": {
           "xaxis": {
            "backgroundcolor": "#E5ECF6",
            "gridcolor": "white",
            "gridwidth": 2,
            "linecolor": "white",
            "showbackground": true,
            "ticks": "",
            "zerolinecolor": "white"
           },
           "yaxis": {
            "backgroundcolor": "#E5ECF6",
            "gridcolor": "white",
            "gridwidth": 2,
            "linecolor": "white",
            "showbackground": true,
            "ticks": "",
            "zerolinecolor": "white"
           },
           "zaxis": {
            "backgroundcolor": "#E5ECF6",
            "gridcolor": "white",
            "gridwidth": 2,
            "linecolor": "white",
            "showbackground": true,
            "ticks": "",
            "zerolinecolor": "white"
           }
          },
          "shapedefaults": {
           "line": {
            "color": "#2a3f5f"
           }
          },
          "ternary": {
           "aaxis": {
            "gridcolor": "white",
            "linecolor": "white",
            "ticks": ""
           },
           "baxis": {
            "gridcolor": "white",
            "linecolor": "white",
            "ticks": ""
           },
           "bgcolor": "#E5ECF6",
           "caxis": {
            "gridcolor": "white",
            "linecolor": "white",
            "ticks": ""
           }
          },
          "title": {
           "x": 0.05
          },
          "xaxis": {
           "automargin": true,
           "gridcolor": "white",
           "linecolor": "white",
           "ticks": "",
           "title": {
            "standoff": 15
           },
           "zerolinecolor": "white",
           "zerolinewidth": 2
          },
          "yaxis": {
           "automargin": true,
           "gridcolor": "white",
           "linecolor": "white",
           "ticks": "",
           "title": {
            "standoff": 15
           },
           "zerolinecolor": "white",
           "zerolinewidth": 2
          }
         }
        },
        "title": {
         "text": "Training and Validation Loss Convergence per Epoch"
        },
        "xaxis": {
         "anchor": "y",
         "domain": [
          0,
          1
         ],
         "title": {
          "text": "Epoch"
         }
        },
        "yaxis": {
         "anchor": "x",
         "domain": [
          0,
          1
         ],
         "title": {
          "text": "Loss"
         }
        }
       }
      },
      "text/html": [
       "<div>                            <div id=\"48d80c1d-f8eb-454e-9614-9974cb2bacdd\" class=\"plotly-graph-div\" style=\"height:525px; width:100%;\"></div>            <script type=\"text/javascript\">                require([\"plotly\"], function(Plotly) {                    window.PLOTLYENV=window.PLOTLYENV || {};                                    if (document.getElementById(\"48d80c1d-f8eb-454e-9614-9974cb2bacdd\")) {                    Plotly.newPlot(                        \"48d80c1d-f8eb-454e-9614-9974cb2bacdd\",                        [{\"mode\":\"lines\",\"name\":\"Train Loss\",\"type\":\"scatter\",\"x\":[0,1,2,3,4,5,6,7,8,9,10,11,12,13,14,15,16,17,18,19,20,21,22,23,24,25,26,27,28,29,30,31,32,33,34,35,36,37,38,39,40,41,42,43,44,45,46,47,48,49,50,51,52,53,54,55,56,57,58,59,60,61,62,63,64,65,66,67,68,69,70,71,72,73,74,75,76,77,78,79,80,81,82,83,84,85,86,87,88,89,90,91,92,93,94,95,96,97,98,99,100,101,102,103,104,105,106,107,108,109,110,111,112,113,114,115,116,117,118,119,120,121,122,123,124,125,126,127,128,129,130,131,132,133,134,135,136,137,138,139,140,141,142,143,144,145,146,147,148,149,150,151,152,153,154,155,156,157,158,159,160,161,162,163,164,165,166,167,168,169,170,171,172,173,174,175,176,177,178,179,180,181,182,183,184,185,186,187,188,189,190,191,192,193,194,195,196,197,198,199,200,201,202,203,204,205,206,207,208,209,210,211,212,213,214,215,216,217,218,219,220,221,222,223,224,225,226,227,228,229,230,231,232,233,234,235,236,237,238,239,240,241,242,243,244,245,246,247,248,249,250,251,252,253,254,255,256,257,258,259,260,261,262,263,264,265,266,267,268,269,270,271,272,273,274,275,276,277,278,279,280,281,282,283,284,285,286,287,288,289,290,291,292,293,294,295,296,297,298,299,300,301,302,303,304,305,306,307,308,309,310,311,312,313,314,315,316,317,318,319,320,321,322,323,324,325,326,327,328,329,330,331,332,333,334,335,336,337,338,339,340,341,342,343,344,345,346,347,348,349,350,351,352,353,354,355,356,357,358,359,360,361,362,363,364,365,366,367,368,369,370,371,372,373,374,375,376,377,378,379,380,381,382,383,384,385,386,387,388,389,390,391,392,393,394,395,396,397,398,399,400,401,402,403,404,405,406,407,408,409,410,411,412,413,414,415,416,417,418,419,420,421,422,423,424],\"xaxis\":\"x\",\"y\":[0.6928247809410095,0.6917366981506348,0.6909263730049133,0.6903504729270935,0.6900514960289001,0.6892459988594055,0.6901249885559082,0.689063549041748,0.689287006855011,0.6887496113777161,0.6898885369300842,0.6885119676589966,0.6893332600593567,0.6882120370864868,0.6877959370613098,0.6884572505950928,0.6888339519500732,0.6882670521736145,0.6880591511726379,0.686942458152771,0.6885069608688354,0.6872190833091736,0.6863161325454712,0.6866263747215271,0.6862427592277527,0.6869896650314331,0.6874136924743652,0.6849809885025024,0.685968279838562,0.6871157288551331,0.6863621473312378,0.6861481666564941,0.6865127682685852,0.6855508685112,0.6845094561576843,0.6850707530975342,0.6861688494682312,0.6855273842811584,0.6828252077102661,0.6848052740097046,0.6851668357849121,0.6847482323646545,0.6822842359542847,0.6819081902503967,0.6823616623878479,0.6840196847915649,0.6828223466873169,0.6835570335388184,0.6820115447044373,0.6833112239837646,0.6796615123748779,0.6855295896530151,0.6834182143211365,0.6790896058082581,0.6819563508033752,0.6823086738586426,0.6807889938354492,0.6801454424858093,0.6847633719444275,0.6796069741249084,0.6785179972648621,0.6794790029525757,0.6816750168800354,0.67928546667099,0.681128740310669,0.6807122826576233,0.6789041757583618,0.6781312823295593,0.6761096119880676,0.6806269288063049,0.6790063381195068,0.6769010424613953,0.6771112680435181,0.6772193312644958,0.6785802841186523,0.678311288356781,0.6761192679405212,0.6765917539596558,0.6728553175926208,0.6756840944290161,0.6768444776535034,0.6762934923171997,0.6735585927963257,0.6746067404747009,0.6783825159072876,0.6704899072647095,0.6740987300872803,0.675416886806488,0.6718481183052063,0.669523298740387,0.6673545837402344,0.6715995073318481,0.6689393520355225,0.6672002673149109,0.6712756752967834,0.6680885553359985,0.6701695919036865,0.6654431223869324,0.672674298286438,0.6692034602165222,0.6703270673751831,0.6665757894515991,0.6636812090873718,0.6705011129379272,0.6587889194488525,0.66495680809021,0.6635406613349915,0.6675903797149658,0.6640853881835938,0.6626958250999451,0.6602161526679993,0.66297847032547,0.6561528444290161,0.6656298041343689,0.6615142226219177,0.6631731390953064,0.6618451476097107,0.6583288311958313,0.6577680110931396,0.6558938026428223,0.6565607190132141,0.6562963128089905,0.6581603288650513,0.6638891100883484,0.6658985614776611,0.659986674785614,0.6598773002624512,0.6604284644126892,0.6602407693862915,0.6510959267616272,0.656889021396637,0.6493309140205383,0.6493245959281921,0.6460514068603516,0.6520615816116333,0.6561537384986877,0.6505693793296814,0.6532530188560486,0.6506421566009521,0.6514133214950562,0.651214063167572,0.6567891836166382,0.6476026177406311,0.6486240029335022,0.6547721028327942,0.6531678438186646,0.650412380695343,0.648445188999176,0.6622707843780518,0.6474060416221619,0.6507808566093445,0.649806022644043,0.6501034498214722,0.6487258076667786,0.644791841506958,0.6456347703933716,0.6433145403862,0.6416312456130981,0.6372617483139038,0.6447402834892273,0.6478873491287231,0.6509470343589783,0.6396338939666748,0.6487506031990051,0.6491439938545227,0.6411630511283875,0.6415412425994873,0.6490582823753357,0.6411880850791931,0.6340480446815491,0.6385446190834045,0.6464241147041321,0.6456960439682007,0.6420237421989441,0.6422948241233826,0.6370741128921509,0.633139431476593,0.6371372938156128,0.6327102184295654,0.6352781653404236,0.6387351155281067,0.6354089379310608,0.6366639137268066,0.6382696032524109,0.6342505812644958,0.637650728225708,0.6328356862068176,0.6403428912162781,0.6430119276046753,0.6330680847167969,0.6276233196258545,0.6408364176750183,0.6464492678642273,0.628085732460022,0.6303685903549194,0.6419821381568909,0.6272223591804504,0.6335263252258301,0.6293063759803772,0.6252940893173218,0.630368709564209,0.6289492845535278,0.6283825039863586,0.6322228908538818,0.6333181262016296,0.6253426671028137,0.6254606246948242,0.6251950860023499,0.6395288705825806,0.6242914199829102,0.6290901303291321,0.6332129836082458,0.6424804925918579,0.6309812664985657,0.6295923590660095,0.6312894821166992,0.631043016910553,0.6323520541191101,0.6295895576477051,0.6240288019180298,0.6260513067245483,0.6213232278823853,0.6217222213745117,0.6170682311058044,0.6249849796295166,0.6213438510894775,0.6353369951248169,0.6204083561897278,0.6276804804801941,0.6208287477493286,0.6239326596260071,0.6202232241630554,0.6257277131080627,0.6228506565093994,0.6158134341239929,0.6266308426856995,0.6291464567184448,0.6301162838935852,0.6184033751487732,0.6228450536727905,0.6163007020950317,0.6167362928390503,0.616696834564209,0.6142039895057678,0.6143884062767029,0.6284734010696411,0.6244170665740967,0.6318658590316772,0.6186728477478027,0.6211206912994385,0.6275575160980225,0.6155447363853455,0.613726019859314,0.6206656694412231,0.6115188598632812,0.6218035817146301,0.6179851293563843,0.6291108727455139,0.6112200021743774,0.6214856505393982,0.619031548500061,0.6196378469467163,0.6096926331520081,0.6099046468734741,0.6246088743209839,0.6088064908981323,0.6212073564529419,0.6111258864402771,0.6233497858047485,0.6236953139305115,0.6126612424850464,0.6182205080986023,0.6163852214813232,0.6126677989959717,0.6081972718238831,0.613217294216156,0.6188709735870361,0.6059518456459045,0.6144108772277832,0.6131314039230347,0.6270167827606201,0.6285227537155151,0.6137530207633972,0.6070078611373901,0.6121277809143066,0.6139051914215088,0.609375536441803,0.6161425113677979,0.6087939739227295,0.6041674017906189,0.6158524751663208,0.6067826747894287,0.6145252585411072,0.6222130656242371,0.6370881795883179,0.6319421529769897,0.620875895023346,0.6074919700622559,0.6134613752365112,0.609505295753479,0.6237048506736755,0.6076259016990662,0.5981236100196838,0.621116578578949,0.6062716841697693,0.607437252998352,0.6058459877967834,0.6117637753486633,0.6132155656814575,0.6138169169425964,0.6083952188491821,0.6083561182022095,0.5979174971580505,0.6000162959098816,0.5996831059455872,0.6067516803741455,0.607167661190033,0.6054654717445374,0.601413905620575,0.5972133278846741,0.5996600389480591,0.5981916189193726,0.6024375557899475,0.6036777496337891,0.6058172583580017,0.606240451335907,0.5971382260322571,0.6090830564498901,0.6174325942993164,0.611823320388794,0.597327470779419,0.6113916635513306,0.605225682258606,0.5966398119926453,0.6159032583236694,0.608144998550415,0.6181489825248718,0.6137099862098694,0.5955543518066406,0.6206465363502502,0.6104550361633301,0.6015807390213013,0.6011654138565063,0.6006420850753784,0.5989278554916382,0.6019467115402222,0.5942679047584534,0.6057383418083191,0.609877347946167,0.602092444896698,0.5990004539489746,0.6026075482368469,0.6030747294425964,0.5973204970359802,0.6047623753547668,0.6073324680328369,0.6107236742973328,0.5954368710517883,0.6018205285072327,0.5977283716201782,0.5955502986907959,0.5898654460906982,0.602642834186554,0.5965123176574707,0.5931458473205566,0.6028879284858704,0.5982552170753479,0.5910104513168335,0.5948542356491089,0.604846179485321,0.5914349555969238,0.5971114039421082,0.5989184975624084,0.5951716303825378,0.5915988683700562,0.6012452244758606,0.6099931001663208,0.601170003414154,0.5967057347297668,0.5910177826881409,0.5985792279243469,0.6110976338386536,0.6010021567344666,0.5929017663002014,0.5935992002487183,0.598217248916626,0.5903527140617371,0.597446620464325,0.5948373079299927,0.5887444615364075,0.59930020570755,0.5890251398086548,0.5964117050170898,0.6073583960533142,0.5959354043006897,0.5885873436927795,0.5977826118469238,0.598198652267456,0.5844308137893677,0.6027725338935852,0.606544554233551,0.5876344442367554,0.5884550213813782,0.5878463983535767,0.5959208011627197,0.5993363857269287,0.5961310267448425,0.5901563763618469,0.590265154838562,0.6012900471687317,0.5809205770492554,0.5923348665237427,0.6087086200714111,0.6016260981559753,0.592771053314209,0.5781970024108887,0.6005340814590454,0.5925584435462952,0.5889370441436768,0.6044005155563354,0.5889534950256348,0.5989322662353516,0.5947735905647278,0.5821345448493958,0.6044700741767883],\"yaxis\":\"y\"},{\"mode\":\"lines\",\"name\":\"Validation Loss\",\"type\":\"scatter\",\"x\":[0,1,2,3,4,5,6,7,8,9,10,11,12,13,14,15,16,17,18,19,20,21,22,23,24,25,26,27,28,29,30,31,32,33,34,35,36,37,38,39,40,41,42,43,44,45,46,47,48,49,50,51,52,53,54,55,56,57,58,59,60,61,62,63,64,65,66,67,68,69,70,71,72,73,74,75,76,77,78,79,80,81,82,83,84,85,86,87,88,89,90,91,92,93,94,95,96,97,98,99,100,101,102,103,104,105,106,107,108,109,110,111,112,113,114,115,116,117,118,119,120,121,122,123,124,125,126,127,128,129,130,131,132,133,134,135,136,137,138,139,140,141,142,143,144,145,146,147,148,149,150,151,152,153,154,155,156,157,158,159,160,161,162,163,164,165,166,167,168,169,170,171,172,173,174,175,176,177,178,179,180,181,182,183,184,185,186,187,188,189,190,191,192,193,194,195,196,197,198,199,200,201,202,203,204,205,206,207,208,209,210,211,212,213,214,215,216,217,218,219,220,221,222,223,224,225,226,227,228,229,230,231,232,233,234,235,236,237,238,239,240,241,242,243,244,245,246,247,248,249,250,251,252,253,254,255,256,257,258,259,260,261,262,263,264,265,266,267,268,269,270,271,272,273,274,275,276,277,278,279,280,281,282,283,284,285,286,287,288,289,290,291,292,293,294,295,296,297,298,299,300,301,302,303,304,305,306,307,308,309,310,311,312,313,314,315,316,317,318,319,320,321,322,323,324,325,326,327,328,329,330,331,332,333,334,335,336,337,338,339,340,341,342,343,344,345,346,347,348,349,350,351,352,353,354,355,356,357,358,359,360,361,362,363,364,365,366,367,368,369,370,371,372,373,374,375,376,377,378,379,380,381,382,383,384,385,386,387,388,389,390,391,392,393,394,395,396,397,398,399,400,401,402,403,404,405,406,407,408,409,410,411,412,413,414,415,416,417,418,419,420,421,422,423,424],\"xaxis\":\"x\",\"y\":[0.6943452954292297,0.6946836113929749,0.6924688220024109,0.6940802335739136,0.6928420066833496,0.6929944157600403,0.6945077776908875,0.6947157979011536,0.694768488407135,0.6939792633056641,0.6939281821250916,0.6963198184967041,0.6955913305282593,0.6961523294448853,0.6960820555686951,0.6948327422142029,0.6947641372680664,0.6959463357925415,0.6958792805671692,0.695331335067749,0.6959862112998962,0.6946075558662415,0.696062445640564,0.6953251361846924,0.6954799890518188,0.6975030899047852,0.6955142021179199,0.6937777400016785,0.6952001452445984,0.6949033141136169,0.6939753890037537,0.6949670910835266,0.6965917348861694,0.6964977979660034,0.6944262981414795,0.6971109509468079,0.6979473233222961,0.6947078704833984,0.6950528621673584,0.6975203156471252,0.6960188746452332,0.6951409578323364,0.6968701481819153,0.6971355676651001,0.6972236037254333,0.6987022161483765,0.6983774304389954,0.6994980573654175,0.7015447020530701,0.6986234784126282,0.7014577388763428,0.6977680921554565,0.6951241493225098,0.7025496363639832,0.7021340727806091,0.6967586874961853,0.6999022960662842,0.6984779238700867,0.6991610527038574,0.6993969678878784,0.7009207010269165,0.7030144929885864,0.7006571888923645,0.705484926700592,0.7053182125091553,0.7008822560310364,0.6989684104919434,0.702373206615448,0.7022907733917236,0.7038136124610901,0.7008247375488281,0.6999037265777588,0.6995778679847717,0.6992301940917969,0.7014615535736084,0.7013769149780273,0.6994699239730835,0.7020059823989868,0.6983926892280579,0.7021093964576721,0.7035744786262512,0.707161009311676,0.7054656744003296,0.700782299041748,0.7028114199638367,0.6971472501754761,0.7054588198661804,0.7123910188674927,0.7138378620147705,0.705980658531189,0.7085237503051758,0.7080300450325012,0.7084959149360657,0.7090523838996887,0.7113125920295715,0.7198041081428528,0.7053374648094177,0.7093460559844971,0.7131845355033875,0.7119525074958801,0.7055577635765076,0.7122957110404968,0.7158496975898743,0.710676372051239,0.7135706543922424,0.718449592590332,0.7134429216384888,0.7215714454650879,0.7236798405647278,0.7150473594665527,0.7183242440223694,0.7191858887672424,0.7241767644882202,0.7301684617996216,0.7221220135688782,0.7179921269416809,0.724712073802948,0.7288757562637329,0.7296611666679382,0.7367090582847595,0.7412803769111633,0.7300282716751099,0.7390214800834656,0.7345594763755798,0.7323052287101746,0.7339709997177124,0.734229564666748,0.7221785187721252,0.7398762106895447,0.7408748865127563,0.7334117889404297,0.7391682863235474,0.7450684309005737,0.7547246217727661,0.7420509457588196,0.7425090074539185,0.7552173137664795,0.752868115901947,0.7427718043327332,0.7198368310928345,0.7505823969841003,0.7411143183708191,0.7479729056358337,0.7682194709777832,0.7555782198905945,0.7605287432670593,0.7484894394874573,0.7623957395553589,0.751369833946228,0.7463206052780151,0.7592368721961975,0.7586408853530884,0.7492671608924866,0.7529442310333252,0.7639585137367249,0.7655109763145447,0.7703753113746643,0.7461488246917725,0.7824319005012512,0.7632372379302979,0.7856231331825256,0.7693755626678467,0.7853641510009766,0.7651309967041016,0.7824503779411316,0.7716962695121765,0.7475073933601379,0.766669750213623,0.7747727632522583,0.7803725004196167,0.7747086882591248,0.7793942093849182,0.7732663154602051,0.7773003578186035,0.7615975737571716,0.7851832509040833,0.7728098630905151,0.7921270728111267,0.7929756045341492,0.7617769837379456,0.7846658825874329,0.7717147469520569,0.7792308330535889,0.7638776898384094,0.7685437202453613,0.7554468512535095,0.7660888433456421,0.7593190670013428,0.7756999135017395,0.7811833024024963,0.7905175685882568,0.7669196128845215,0.7510021924972534,0.7935899496078491,0.7567428946495056,0.7816309928894043,0.7761586904525757,0.7807256579399109,0.8092163801193237,0.8015541434288025,0.7959463596343994,0.8082674145698547,0.7881067395210266,0.7712926268577576,0.780229389667511,0.7814466953277588,0.8008823990821838,0.8309141397476196,0.7847438454627991,0.8173002004623413,0.7987620234489441,0.7876620888710022,0.7967024445533752,0.7898090481758118,0.8080272674560547,0.7935624718666077,0.7922846078872681,0.7903741598129272,0.8115481734275818,0.7859245538711548,0.8018203377723694,0.7920607924461365,0.7882672548294067,0.8161675930023193,0.8218128681182861,0.8098523616790771,0.8066486716270447,0.8165988922119141,0.803157389163971,0.8235843181610107,0.8112192153930664,0.8368986248970032,0.8192861676216125,0.7873005270957947,0.8445563316345215,0.8132686614990234,0.7931554317474365,0.8253713846206665,0.8073416948318481,0.82432621717453,0.8192911148071289,0.8565693497657776,0.7914892435073853,0.8218510746955872,0.8399550318717957,0.8101073503494263,0.8090912699699402,0.8053441643714905,0.8139585256576538,0.8007628917694092,0.8350988626480103,0.821214497089386,0.8404205441474915,0.8284662961959839,0.814521074295044,0.8590875864028931,0.8232887983322144,0.8172973990440369,0.8526330590248108,0.830819308757782,0.8093937635421753,0.8499394059181213,0.8364690542221069,0.8333041071891785,0.8325688242912292,0.8255181312561035,0.8292416334152222,0.8564953804016113,0.8296568989753723,0.836362898349762,0.8402617573738098,0.8285486102104187,0.8305913209915161,0.82811439037323,0.8361752033233643,0.8459259867668152,0.8343070149421692,0.8403823375701904,0.8499503135681152,0.887844979763031,0.8774310350418091,0.8619940876960754,0.8479829430580139,0.8258698582649231,0.8519665002822876,0.862134575843811,0.8721006512641907,0.8247613906860352,0.8550769090652466,0.8489089012145996,0.8644570708274841,0.8866177201271057,0.8492072820663452,0.8690742254257202,0.8042991161346436,0.7881114482879639,0.8734962940216064,0.8367093205451965,0.8714472651481628,0.8443777561187744,0.7960646748542786,0.8352956175804138,0.8608490824699402,0.8768473267555237,0.8519020676612854,0.8528521656990051,0.8473891615867615,0.8242133855819702,0.7961943745613098,0.772289514541626,0.8085809350013733,0.8596916794776917,0.8812503814697266,0.910645604133606,0.8767905831336975,0.8777876496315002,0.8594692945480347,0.8632634878158569,0.8720770478248596,0.8656095266342163,0.843802273273468,0.8435975909233093,0.8860862851142883,0.8569625020027161,0.8801155090332031,0.8759762048721313,0.875459611415863,0.8684780597686768,0.8976019620895386,0.8960394263267517,0.8888595104217529,0.8740724921226501,0.8504725098609924,0.892036497592926,0.8463505506515503,0.885697066783905,0.8917653560638428,0.8576396703720093,0.9031535387039185,0.8136305809020996,0.8393059968948364,0.9043091535568237,0.8341600894927979,0.8738396763801575,0.8649793863296509,0.8932167887687683,0.9197332859039307,0.8559463024139404,0.8941645622253418,0.9068115949630737,0.879688024520874,0.8964617848396301,0.9016111493110657,0.884575366973877,0.9105778336524963,0.9004342555999756,0.8880107402801514,0.874309778213501,0.8784865140914917,0.8987775444984436,0.8898932933807373,0.8444263339042664,0.817157506942749,0.8669412136077881,0.8746358156204224,0.9113207459449768,0.9098510146141052,0.8747369050979614,0.9074149131774902,0.8828035593032837,0.8224124908447266,0.8330711722373962,0.8229169249534607,0.8313167095184326,0.8550777435302734,0.8768255710601807,0.8926594853401184,0.9180650115013123,0.9118158221244812,0.8756463527679443,0.8609628677368164,0.8622390031814575,0.8396138548851013,0.8129064440727234,0.8257685899734497,0.8186622262001038,0.8563532829284668,0.8623390793800354,0.895294189453125,0.8737643361091614,0.8768235445022583,0.9068611264228821,0.9128656387329102,0.8809748888015747,0.8915147185325623,0.8915104269981384,0.8809077143669128,0.890948474407196,0.9372681975364685,0.8757042288780212,0.8206967115402222,0.8341871500015259,0.8505962491035461,0.8715972304344177,0.847947895526886,0.8391019701957703,0.8342114686965942,0.840222954750061,0.8342804312705994,0.8574570417404175,0.8838971853256226,0.8362048864364624,0.841443657875061,0.8444613814353943,0.8335696458816528,0.8346274495124817,0.8611264228820801,0.8284342288970947,0.8420737385749817,0.8405999541282654,0.8886309862136841,0.8769468069076538,0.8123900890350342,0.8450953364372253,0.8176756501197815],\"yaxis\":\"y\"}],                        {\"template\":{\"data\":{\"bar\":[{\"error_x\":{\"color\":\"#2a3f5f\"},\"error_y\":{\"color\":\"#2a3f5f\"},\"marker\":{\"line\":{\"color\":\"#E5ECF6\",\"width\":0.5},\"pattern\":{\"fillmode\":\"overlay\",\"size\":10,\"solidity\":0.2}},\"type\":\"bar\"}],\"barpolar\":[{\"marker\":{\"line\":{\"color\":\"#E5ECF6\",\"width\":0.5},\"pattern\":{\"fillmode\":\"overlay\",\"size\":10,\"solidity\":0.2}},\"type\":\"barpolar\"}],\"carpet\":[{\"aaxis\":{\"endlinecolor\":\"#2a3f5f\",\"gridcolor\":\"white\",\"linecolor\":\"white\",\"minorgridcolor\":\"white\",\"startlinecolor\":\"#2a3f5f\"},\"baxis\":{\"endlinecolor\":\"#2a3f5f\",\"gridcolor\":\"white\",\"linecolor\":\"white\",\"minorgridcolor\":\"white\",\"startlinecolor\":\"#2a3f5f\"},\"type\":\"carpet\"}],\"choropleth\":[{\"colorbar\":{\"outlinewidth\":0,\"ticks\":\"\"},\"type\":\"choropleth\"}],\"contour\":[{\"colorbar\":{\"outlinewidth\":0,\"ticks\":\"\"},\"colorscale\":[[0.0,\"#0d0887\"],[0.1111111111111111,\"#46039f\"],[0.2222222222222222,\"#7201a8\"],[0.3333333333333333,\"#9c179e\"],[0.4444444444444444,\"#bd3786\"],[0.5555555555555556,\"#d8576b\"],[0.6666666666666666,\"#ed7953\"],[0.7777777777777778,\"#fb9f3a\"],[0.8888888888888888,\"#fdca26\"],[1.0,\"#f0f921\"]],\"type\":\"contour\"}],\"contourcarpet\":[{\"colorbar\":{\"outlinewidth\":0,\"ticks\":\"\"},\"type\":\"contourcarpet\"}],\"heatmap\":[{\"colorbar\":{\"outlinewidth\":0,\"ticks\":\"\"},\"colorscale\":[[0.0,\"#0d0887\"],[0.1111111111111111,\"#46039f\"],[0.2222222222222222,\"#7201a8\"],[0.3333333333333333,\"#9c179e\"],[0.4444444444444444,\"#bd3786\"],[0.5555555555555556,\"#d8576b\"],[0.6666666666666666,\"#ed7953\"],[0.7777777777777778,\"#fb9f3a\"],[0.8888888888888888,\"#fdca26\"],[1.0,\"#f0f921\"]],\"type\":\"heatmap\"}],\"heatmapgl\":[{\"colorbar\":{\"outlinewidth\":0,\"ticks\":\"\"},\"colorscale\":[[0.0,\"#0d0887\"],[0.1111111111111111,\"#46039f\"],[0.2222222222222222,\"#7201a8\"],[0.3333333333333333,\"#9c179e\"],[0.4444444444444444,\"#bd3786\"],[0.5555555555555556,\"#d8576b\"],[0.6666666666666666,\"#ed7953\"],[0.7777777777777778,\"#fb9f3a\"],[0.8888888888888888,\"#fdca26\"],[1.0,\"#f0f921\"]],\"type\":\"heatmapgl\"}],\"histogram\":[{\"marker\":{\"pattern\":{\"fillmode\":\"overlay\",\"size\":10,\"solidity\":0.2}},\"type\":\"histogram\"}],\"histogram2d\":[{\"colorbar\":{\"outlinewidth\":0,\"ticks\":\"\"},\"colorscale\":[[0.0,\"#0d0887\"],[0.1111111111111111,\"#46039f\"],[0.2222222222222222,\"#7201a8\"],[0.3333333333333333,\"#9c179e\"],[0.4444444444444444,\"#bd3786\"],[0.5555555555555556,\"#d8576b\"],[0.6666666666666666,\"#ed7953\"],[0.7777777777777778,\"#fb9f3a\"],[0.8888888888888888,\"#fdca26\"],[1.0,\"#f0f921\"]],\"type\":\"histogram2d\"}],\"histogram2dcontour\":[{\"colorbar\":{\"outlinewidth\":0,\"ticks\":\"\"},\"colorscale\":[[0.0,\"#0d0887\"],[0.1111111111111111,\"#46039f\"],[0.2222222222222222,\"#7201a8\"],[0.3333333333333333,\"#9c179e\"],[0.4444444444444444,\"#bd3786\"],[0.5555555555555556,\"#d8576b\"],[0.6666666666666666,\"#ed7953\"],[0.7777777777777778,\"#fb9f3a\"],[0.8888888888888888,\"#fdca26\"],[1.0,\"#f0f921\"]],\"type\":\"histogram2dcontour\"}],\"mesh3d\":[{\"colorbar\":{\"outlinewidth\":0,\"ticks\":\"\"},\"type\":\"mesh3d\"}],\"parcoords\":[{\"line\":{\"colorbar\":{\"outlinewidth\":0,\"ticks\":\"\"}},\"type\":\"parcoords\"}],\"pie\":[{\"automargin\":true,\"type\":\"pie\"}],\"scatter\":[{\"marker\":{\"colorbar\":{\"outlinewidth\":0,\"ticks\":\"\"}},\"type\":\"scatter\"}],\"scatter3d\":[{\"line\":{\"colorbar\":{\"outlinewidth\":0,\"ticks\":\"\"}},\"marker\":{\"colorbar\":{\"outlinewidth\":0,\"ticks\":\"\"}},\"type\":\"scatter3d\"}],\"scattercarpet\":[{\"marker\":{\"colorbar\":{\"outlinewidth\":0,\"ticks\":\"\"}},\"type\":\"scattercarpet\"}],\"scattergeo\":[{\"marker\":{\"colorbar\":{\"outlinewidth\":0,\"ticks\":\"\"}},\"type\":\"scattergeo\"}],\"scattergl\":[{\"marker\":{\"colorbar\":{\"outlinewidth\":0,\"ticks\":\"\"}},\"type\":\"scattergl\"}],\"scattermapbox\":[{\"marker\":{\"colorbar\":{\"outlinewidth\":0,\"ticks\":\"\"}},\"type\":\"scattermapbox\"}],\"scatterpolar\":[{\"marker\":{\"colorbar\":{\"outlinewidth\":0,\"ticks\":\"\"}},\"type\":\"scatterpolar\"}],\"scatterpolargl\":[{\"marker\":{\"colorbar\":{\"outlinewidth\":0,\"ticks\":\"\"}},\"type\":\"scatterpolargl\"}],\"scatterternary\":[{\"marker\":{\"colorbar\":{\"outlinewidth\":0,\"ticks\":\"\"}},\"type\":\"scatterternary\"}],\"surface\":[{\"colorbar\":{\"outlinewidth\":0,\"ticks\":\"\"},\"colorscale\":[[0.0,\"#0d0887\"],[0.1111111111111111,\"#46039f\"],[0.2222222222222222,\"#7201a8\"],[0.3333333333333333,\"#9c179e\"],[0.4444444444444444,\"#bd3786\"],[0.5555555555555556,\"#d8576b\"],[0.6666666666666666,\"#ed7953\"],[0.7777777777777778,\"#fb9f3a\"],[0.8888888888888888,\"#fdca26\"],[1.0,\"#f0f921\"]],\"type\":\"surface\"}],\"table\":[{\"cells\":{\"fill\":{\"color\":\"#EBF0F8\"},\"line\":{\"color\":\"white\"}},\"header\":{\"fill\":{\"color\":\"#C8D4E3\"},\"line\":{\"color\":\"white\"}},\"type\":\"table\"}]},\"layout\":{\"annotationdefaults\":{\"arrowcolor\":\"#2a3f5f\",\"arrowhead\":0,\"arrowwidth\":1},\"autotypenumbers\":\"strict\",\"coloraxis\":{\"colorbar\":{\"outlinewidth\":0,\"ticks\":\"\"}},\"colorscale\":{\"diverging\":[[0,\"#8e0152\"],[0.1,\"#c51b7d\"],[0.2,\"#de77ae\"],[0.3,\"#f1b6da\"],[0.4,\"#fde0ef\"],[0.5,\"#f7f7f7\"],[0.6,\"#e6f5d0\"],[0.7,\"#b8e186\"],[0.8,\"#7fbc41\"],[0.9,\"#4d9221\"],[1,\"#276419\"]],\"sequential\":[[0.0,\"#0d0887\"],[0.1111111111111111,\"#46039f\"],[0.2222222222222222,\"#7201a8\"],[0.3333333333333333,\"#9c179e\"],[0.4444444444444444,\"#bd3786\"],[0.5555555555555556,\"#d8576b\"],[0.6666666666666666,\"#ed7953\"],[0.7777777777777778,\"#fb9f3a\"],[0.8888888888888888,\"#fdca26\"],[1.0,\"#f0f921\"]],\"sequentialminus\":[[0.0,\"#0d0887\"],[0.1111111111111111,\"#46039f\"],[0.2222222222222222,\"#7201a8\"],[0.3333333333333333,\"#9c179e\"],[0.4444444444444444,\"#bd3786\"],[0.5555555555555556,\"#d8576b\"],[0.6666666666666666,\"#ed7953\"],[0.7777777777777778,\"#fb9f3a\"],[0.8888888888888888,\"#fdca26\"],[1.0,\"#f0f921\"]]},\"colorway\":[\"#636efa\",\"#EF553B\",\"#00cc96\",\"#ab63fa\",\"#FFA15A\",\"#19d3f3\",\"#FF6692\",\"#B6E880\",\"#FF97FF\",\"#FECB52\"],\"font\":{\"color\":\"#2a3f5f\"},\"geo\":{\"bgcolor\":\"white\",\"lakecolor\":\"white\",\"landcolor\":\"#E5ECF6\",\"showlakes\":true,\"showland\":true,\"subunitcolor\":\"white\"},\"hoverlabel\":{\"align\":\"left\"},\"hovermode\":\"closest\",\"mapbox\":{\"style\":\"light\"},\"paper_bgcolor\":\"white\",\"plot_bgcolor\":\"#E5ECF6\",\"polar\":{\"angularaxis\":{\"gridcolor\":\"white\",\"linecolor\":\"white\",\"ticks\":\"\"},\"bgcolor\":\"#E5ECF6\",\"radialaxis\":{\"gridcolor\":\"white\",\"linecolor\":\"white\",\"ticks\":\"\"}},\"scene\":{\"xaxis\":{\"backgroundcolor\":\"#E5ECF6\",\"gridcolor\":\"white\",\"gridwidth\":2,\"linecolor\":\"white\",\"showbackground\":true,\"ticks\":\"\",\"zerolinecolor\":\"white\"},\"yaxis\":{\"backgroundcolor\":\"#E5ECF6\",\"gridcolor\":\"white\",\"gridwidth\":2,\"linecolor\":\"white\",\"showbackground\":true,\"ticks\":\"\",\"zerolinecolor\":\"white\"},\"zaxis\":{\"backgroundcolor\":\"#E5ECF6\",\"gridcolor\":\"white\",\"gridwidth\":2,\"linecolor\":\"white\",\"showbackground\":true,\"ticks\":\"\",\"zerolinecolor\":\"white\"}},\"shapedefaults\":{\"line\":{\"color\":\"#2a3f5f\"}},\"ternary\":{\"aaxis\":{\"gridcolor\":\"white\",\"linecolor\":\"white\",\"ticks\":\"\"},\"baxis\":{\"gridcolor\":\"white\",\"linecolor\":\"white\",\"ticks\":\"\"},\"bgcolor\":\"#E5ECF6\",\"caxis\":{\"gridcolor\":\"white\",\"linecolor\":\"white\",\"ticks\":\"\"}},\"title\":{\"x\":0.05},\"xaxis\":{\"automargin\":true,\"gridcolor\":\"white\",\"linecolor\":\"white\",\"ticks\":\"\",\"title\":{\"standoff\":15},\"zerolinecolor\":\"white\",\"zerolinewidth\":2},\"yaxis\":{\"automargin\":true,\"gridcolor\":\"white\",\"linecolor\":\"white\",\"ticks\":\"\",\"title\":{\"standoff\":15},\"zerolinecolor\":\"white\",\"zerolinewidth\":2}}},\"title\":{\"text\":\"Training and Validation Loss Convergence per Epoch\"},\"xaxis\":{\"anchor\":\"y\",\"domain\":[0.0,1.0],\"title\":{\"text\":\"Epoch\"}},\"yaxis\":{\"anchor\":\"x\",\"domain\":[0.0,1.0],\"title\":{\"text\":\"Loss\"}}},                        {\"responsive\": true}                    ).then(function(){\n",
       "                            \n",
       "var gd = document.getElementById('48d80c1d-f8eb-454e-9614-9974cb2bacdd');\n",
       "var x = new MutationObserver(function (mutations, observer) {{\n",
       "        var display = window.getComputedStyle(gd).display;\n",
       "        if (!display || display === 'none') {{\n",
       "            console.log([gd, 'removed!']);\n",
       "            Plotly.purge(gd);\n",
       "            observer.disconnect();\n",
       "        }}\n",
       "}});\n",
       "\n",
       "// Listen for the removal of the full notebook cells\n",
       "var notebookContainer = gd.closest('#notebook-container');\n",
       "if (notebookContainer) {{\n",
       "    x.observe(notebookContainer, {childList: true});\n",
       "}}\n",
       "\n",
       "// Listen for the clearing of the current output cell\n",
       "var outputEl = gd.closest('.output');\n",
       "if (outputEl) {{\n",
       "    x.observe(outputEl, {childList: true});\n",
       "}}\n",
       "\n",
       "                        })                };                });            </script>        </div>"
      ]
     },
     "metadata": {},
     "output_type": "display_data"
    },
    {
     "data": {
      "application/vnd.plotly.v1+json": {
       "config": {
        "plotlyServerURL": "https://plot.ly"
       },
       "data": [
        {
         "mode": "lines",
         "name": "Training Accuracy",
         "type": "scatter",
         "x": [
          0,
          1,
          2,
          3,
          4,
          5,
          6,
          7,
          8,
          9,
          10,
          11,
          12,
          13,
          14,
          15,
          16,
          17,
          18,
          19,
          20,
          21,
          22,
          23,
          24,
          25,
          26,
          27,
          28,
          29,
          30,
          31,
          32,
          33,
          34,
          35,
          36,
          37,
          38,
          39,
          40,
          41,
          42,
          43,
          44,
          45,
          46,
          47,
          48,
          49,
          50,
          51,
          52,
          53,
          54,
          55,
          56,
          57,
          58,
          59,
          60,
          61,
          62,
          63,
          64,
          65,
          66,
          67,
          68,
          69,
          70,
          71,
          72,
          73,
          74,
          75,
          76,
          77,
          78,
          79,
          80,
          81,
          82,
          83,
          84,
          85,
          86,
          87,
          88,
          89,
          90,
          91,
          92,
          93,
          94,
          95,
          96,
          97,
          98,
          99,
          100,
          101,
          102,
          103,
          104,
          105,
          106,
          107,
          108,
          109,
          110,
          111,
          112,
          113,
          114,
          115,
          116,
          117,
          118,
          119,
          120,
          121,
          122,
          123,
          124,
          125,
          126,
          127,
          128,
          129,
          130,
          131,
          132,
          133,
          134,
          135,
          136,
          137,
          138,
          139,
          140,
          141,
          142,
          143,
          144,
          145,
          146,
          147,
          148,
          149,
          150,
          151,
          152,
          153,
          154,
          155,
          156,
          157,
          158,
          159,
          160,
          161,
          162,
          163,
          164,
          165,
          166,
          167,
          168,
          169,
          170,
          171,
          172,
          173,
          174,
          175,
          176,
          177,
          178,
          179,
          180,
          181,
          182,
          183,
          184,
          185,
          186,
          187,
          188,
          189,
          190,
          191,
          192,
          193,
          194,
          195,
          196,
          197,
          198,
          199,
          200,
          201,
          202,
          203,
          204,
          205,
          206,
          207,
          208,
          209,
          210,
          211,
          212,
          213,
          214,
          215,
          216,
          217,
          218,
          219,
          220,
          221,
          222,
          223,
          224,
          225,
          226,
          227,
          228,
          229,
          230,
          231,
          232,
          233,
          234,
          235,
          236,
          237,
          238,
          239,
          240,
          241,
          242,
          243,
          244,
          245,
          246,
          247,
          248,
          249,
          250,
          251,
          252,
          253,
          254,
          255,
          256,
          257,
          258,
          259,
          260,
          261,
          262,
          263,
          264,
          265,
          266,
          267,
          268,
          269,
          270,
          271,
          272,
          273,
          274,
          275,
          276,
          277,
          278,
          279,
          280,
          281,
          282,
          283,
          284,
          285,
          286,
          287,
          288,
          289,
          290,
          291,
          292,
          293,
          294,
          295,
          296,
          297,
          298,
          299,
          300,
          301,
          302,
          303,
          304,
          305,
          306,
          307,
          308,
          309,
          310,
          311,
          312,
          313,
          314,
          315,
          316,
          317,
          318,
          319,
          320,
          321,
          322,
          323,
          324,
          325,
          326,
          327,
          328,
          329,
          330,
          331,
          332,
          333,
          334,
          335,
          336,
          337,
          338,
          339,
          340,
          341,
          342,
          343,
          344,
          345,
          346,
          347,
          348,
          349,
          350,
          351,
          352,
          353,
          354,
          355,
          356,
          357,
          358,
          359,
          360,
          361,
          362,
          363,
          364,
          365,
          366,
          367,
          368,
          369,
          370,
          371,
          372,
          373,
          374,
          375,
          376,
          377,
          378,
          379,
          380,
          381,
          382,
          383,
          384,
          385,
          386,
          387,
          388,
          389,
          390,
          391,
          392,
          393,
          394,
          395,
          396,
          397,
          398,
          399,
          400,
          401,
          402,
          403,
          404,
          405,
          406,
          407,
          408,
          409,
          410,
          411,
          412,
          413,
          414,
          415,
          416,
          417,
          418,
          419,
          420,
          421,
          422,
          423,
          424
         ],
         "xaxis": "x",
         "y": [
          0.5301318168640137,
          0.5343691110610962,
          0.5324859023094177,
          0.543314516544342,
          0.5470809936523438,
          0.5475518107414246,
          0.5423728823661804,
          0.5461393594741821,
          0.5470809936523438,
          0.5404896140098572,
          0.5437853336334229,
          0.5461393594741821,
          0.5428436994552612,
          0.5428436994552612,
          0.5447269082069397,
          0.5451977252960205,
          0.5470809936523438,
          0.5461393594741821,
          0.5475518107414246,
          0.5437853336334229,
          0.5451977252960205,
          0.5466101765632629,
          0.5461393594741821,
          0.5470809936523438,
          0.543314516544342,
          0.5437853336334229,
          0.5499058365821838,
          0.5522598624229431,
          0.5546139478683472,
          0.5503766536712646,
          0.5447269082069397,
          0.5466101765632629,
          0.5461393594741821,
          0.5503766536712646,
          0.5532014966011047,
          0.5499058365821838,
          0.5489642024040222,
          0.549435019493103,
          0.5513182878494263,
          0.543314516544342,
          0.5461393594741821,
          0.5470809936523438,
          0.5569679737091064,
          0.5555555820465088,
          0.5546139478683472,
          0.5386064052581787,
          0.549435019493103,
          0.5461393594741821,
          0.5419020652770996,
          0.5461393594741821,
          0.5555555820465088,
          0.5423728823661804,
          0.5428436994552612,
          0.5461393594741821,
          0.5645009279251099,
          0.5630885362625122,
          0.5484933853149414,
          0.5451977252960205,
          0.5508474707603455,
          0.5564971566200256,
          0.5527306795120239,
          0.5484933853149414,
          0.5569679737091064,
          0.5607344508171082,
          0.5593220591545105,
          0.5536723136901855,
          0.5475518107414246,
          0.5564971566200256,
          0.5597928166389465,
          0.5480226278305054,
          0.5621469020843506,
          0.5560263395309448,
          0.5546139478683472,
          0.5532014966011047,
          0.5588512420654297,
          0.5546139478683472,
          0.5564971566200256,
          0.5597928166389465,
          0.5739171504974365,
          0.5635592937469482,
          0.5541431307792664,
          0.5437853336334229,
          0.5677965879440308,
          0.5616760849952698,
          0.5588512420654297,
          0.5725046992301941,
          0.5616760849952698,
          0.5513182878494263,
          0.5833333134651184,
          0.5649717450141907,
          0.5654425621032715,
          0.5607344508171082,
          0.5649717450141907,
          0.5602636337280273,
          0.5456685423851013,
          0.5663841962814331,
          0.5541431307792664,
          0.5767419934272766,
          0.5630885362625122,
          0.56732577085495,
          0.5532014966011047,
          0.5734463334083557,
          0.5626177191734314,
          0.5710923075675964,
          0.5668550133705139,
          0.5682674050331116,
          0.5805084705352783,
          0.5677965879440308,
          0.564030110836029,
          0.5800376534461975,
          0.590395450592041,
          0.5715630650520325,
          0.5880414247512817,
          0.5833333134651184,
          0.5668550133705139,
          0.5668550133705139,
          0.5710923075675964,
          0.5715630650520325,
          0.5687382221221924,
          0.5889830589294434,
          0.5819209218025208,
          0.5866289734840393,
          0.575800359249115,
          0.578154444694519,
          0.5856873989105225,
          0.5823917388916016,
          0.5946327447891235,
          0.5616760849952698,
          0.5743879675865173,
          0.5790960192680359,
          0.5894538760185242,
          0.5936911702156067,
          0.5795668363571167,
          0.6031073331832886,
          0.5908662676811218,
          0.5809792876243591,
          0.5889830589294434,
          0.5932203531265259,
          0.589924693107605,
          0.5955743789672852,
          0.5908662676811218,
          0.5786252617835999,
          0.5941619873046875,
          0.5847457647323608,
          0.5809792876243591,
          0.5889830589294434,
          0.5951035618782043,
          0.5941619873046875,
          0.5715630650520325,
          0.5998116731643677,
          0.5861582159996033,
          0.5941619873046875,
          0.5913370847702026,
          0.6016949415206909,
          0.5833333134651184,
          0.5894538760185242,
          0.590395450592041,
          0.6012241244316101,
          0.6016949415206909,
          0.6002824902534485,
          0.5979284644126892,
          0.5870997905731201,
          0.6092278957366943,
          0.596045196056366,
          0.6054614186286926,
          0.5993408560752869,
          0.604519784450531,
          0.5918079018592834,
          0.5875706076622009,
          0.6035781502723694,
          0.5974576473236084,
          0.5918079018592834,
          0.6016949415206909,
          0.6002824902534485,
          0.5969868302345276,
          0.6049906015396118,
          0.6111111044883728,
          0.6012241244316101,
          0.5951035618782043,
          0.5979284644126892,
          0.5927495360374451,
          0.6068738102912903,
          0.5932203531265259,
          0.6031073331832886,
          0.6078154444694519,
          0.6012241244316101,
          0.6096986532211304,
          0.6012241244316101,
          0.6026365160942078,
          0.6120527386665344,
          0.619114875793457,
          0.6007533073425293,
          0.596045196056366,
          0.6134651303291321,
          0.6134651303291321,
          0.6068738102912903,
          0.6205273270606995,
          0.6096986532211304,
          0.6111111044883728,
          0.6125235557556152,
          0.6068738102912903,
          0.6073446273803711,
          0.6275894641876221,
          0.6087570786476135,
          0.6134651303291321,
          0.612994372844696,
          0.6068738102912903,
          0.6040489673614502,
          0.6101694703102112,
          0.6177024245262146,
          0.6049906015396118,
          0.604519784450531,
          0.5946327447891235,
          0.6035781502723694,
          0.6059321761131287,
          0.6148775815963745,
          0.604519784450531,
          0.6186440587043762,
          0.6219397187232971,
          0.6078154444694519,
          0.6092278957366943,
          0.6082862615585327,
          0.624764621257782,
          0.6266478300094604,
          0.6031073331832886,
          0.6266478300094604,
          0.6087570786476135,
          0.6148775815963745,
          0.6087570786476135,
          0.6275894641876221,
          0.6153483986854553,
          0.6186440587043762,
          0.6224105358123779,
          0.6134651303291321,
          0.6327683329582214,
          0.6327683329582214,
          0.6120527386665344,
          0.6219397187232971,
          0.6200565099716187,
          0.6242938041687012,
          0.6172316670417786,
          0.6332391500473022,
          0.6144067645072937,
          0.6304143071174622,
          0.6238229870796204,
          0.6125235557556152,
          0.6205273270606995,
          0.6144067645072937,
          0.6228813529014587,
          0.6205273270606995,
          0.6064029932022095,
          0.6280602812767029,
          0.6238229870796204,
          0.6181732416152954,
          0.6181732416152954,
          0.6304143071174622,
          0.6177024245262146,
          0.6224105358123779,
          0.6195856928825378,
          0.6195856928825378,
          0.6120527386665344,
          0.6134651303291321,
          0.6322975754737854,
          0.6327683329582214,
          0.6195856928825378,
          0.6374764442443848,
          0.6177024245262146,
          0.6407721042633057,
          0.6158192157745361,
          0.6332391500473022,
          0.6299434900283813,
          0.6120527386665344,
          0.6228813529014587,
          0.6228813529014587,
          0.6224105358123779,
          0.6355932354927063,
          0.6275894641876221,
          0.6275894641876221,
          0.6351224184036255,
          0.6148775815963745,
          0.6096986532211304,
          0.6096986532211304,
          0.6285310983657837,
          0.6360640525817871,
          0.6242938041687012,
          0.6271186470985413,
          0.6285310983657837,
          0.6261770129203796,
          0.630885124206543,
          0.6322975754737854,
          0.6200565099716187,
          0.6172316670417786,
          0.6304143071174622,
          0.6322975754737854,
          0.6035781502723694,
          0.6219397187232971,
          0.612994372844696,
          0.630885124206543,
          0.6318267583847046,
          0.6285310983657837,
          0.6144067645072937,
          0.6290018558502197,
          0.6473634839057922,
          0.6200565099716187,
          0.6313559412956238,
          0.6426553726196289,
          0.6346516013145447,
          0.6290018558502197,
          0.6360640525817871,
          0.6228813529014587,
          0.6280602812767029,
          0.6332391500473022,
          0.651129961013794,
          0.6398305296897888,
          0.6346516013145447,
          0.6450093984603882,
          0.6388888955116272,
          0.6299434900283813,
          0.6374764442443848,
          0.6450093984603882,
          0.6346516013145447,
          0.645480215549469,
          0.6421845555305481,
          0.6483050584793091,
          0.6384180784225464,
          0.625235378742218,
          0.6403013467788696,
          0.6238229870796204,
          0.610640287399292,
          0.6233521699905396,
          0.630885124206543,
          0.6233521699905396,
          0.6379472613334656,
          0.6341807842254639,
          0.6261770129203796,
          0.6332391500473022,
          0.6224105358123779,
          0.6290018558502197,
          0.6497175097465515,
          0.6238229870796204,
          0.6261770129203796,
          0.6271186470985413,
          0.6341807842254639,
          0.6313559412956238,
          0.6332391500473022,
          0.6412429213523865,
          0.6332391500473022,
          0.6214689016342163,
          0.6280602812767029,
          0.6290018558502197,
          0.6384180784225464,
          0.6497175097465515,
          0.6426553726196289,
          0.6360640525817871,
          0.6388888955116272,
          0.6280602812767029,
          0.6407721042633057,
          0.6407721042633057,
          0.6473634839057922,
          0.6398305296897888,
          0.6497175097465515,
          0.6346516013145447,
          0.6398305296897888,
          0.6351224184036255,
          0.6407721042633057,
          0.6388888955116272,
          0.6468926668167114,
          0.6487758755683899,
          0.6360640525817871,
          0.6346516013145447,
          0.6553672552108765,
          0.6398305296897888,
          0.6572504639625549,
          0.647834300994873,
          0.659604549407959,
          0.6544256210327148,
          0.6337099671363831,
          0.6468926668167114,
          0.6421845555305481,
          0.6426553726196289,
          0.6365348696708679,
          0.6407721042633057,
          0.6379472613334656,
          0.6346516013145447,
          0.6506591439247131,
          0.6403013467788696,
          0.653954803943634,
          0.645480215549469,
          0.6313559412956238,
          0.6525423526763916,
          0.6224105358123779,
          0.6440678238868713,
          0.6492466926574707,
          0.6304143071174622,
          0.6388888955116272,
          0.6431261897087097,
          0.6412429213523865,
          0.6407721042633057,
          0.6581920981407166,
          0.6473634839057922,
          0.6459510326385498,
          0.6558380126953125,
          0.6384180784225464,
          0.6483050584793091,
          0.6374764442443848,
          0.6374764442443848,
          0.6275894641876221,
          0.6398305296897888,
          0.6403013467788696,
          0.624764621257782,
          0.6501883268356323,
          0.647834300994873,
          0.6167608499526978,
          0.6412429213523865,
          0.6426553726196289,
          0.6558380126953125,
          0.6473634839057922,
          0.6440678238868713,
          0.6412429213523865,
          0.6304143071174622,
          0.6440678238868713,
          0.6435970067977905,
          0.6431261897087097,
          0.6450093984603882,
          0.6318267583847046
         ],
         "yaxis": "y"
        },
        {
         "mode": "lines",
         "name": "Validation Accuracy",
         "type": "scatter",
         "x": [
          0,
          1,
          2,
          3,
          4,
          5,
          6,
          7,
          8,
          9,
          10,
          11,
          12,
          13,
          14,
          15,
          16,
          17,
          18,
          19,
          20,
          21,
          22,
          23,
          24,
          25,
          26,
          27,
          28,
          29,
          30,
          31,
          32,
          33,
          34,
          35,
          36,
          37,
          38,
          39,
          40,
          41,
          42,
          43,
          44,
          45,
          46,
          47,
          48,
          49,
          50,
          51,
          52,
          53,
          54,
          55,
          56,
          57,
          58,
          59,
          60,
          61,
          62,
          63,
          64,
          65,
          66,
          67,
          68,
          69,
          70,
          71,
          72,
          73,
          74,
          75,
          76,
          77,
          78,
          79,
          80,
          81,
          82,
          83,
          84,
          85,
          86,
          87,
          88,
          89,
          90,
          91,
          92,
          93,
          94,
          95,
          96,
          97,
          98,
          99,
          100,
          101,
          102,
          103,
          104,
          105,
          106,
          107,
          108,
          109,
          110,
          111,
          112,
          113,
          114,
          115,
          116,
          117,
          118,
          119,
          120,
          121,
          122,
          123,
          124,
          125,
          126,
          127,
          128,
          129,
          130,
          131,
          132,
          133,
          134,
          135,
          136,
          137,
          138,
          139,
          140,
          141,
          142,
          143,
          144,
          145,
          146,
          147,
          148,
          149,
          150,
          151,
          152,
          153,
          154,
          155,
          156,
          157,
          158,
          159,
          160,
          161,
          162,
          163,
          164,
          165,
          166,
          167,
          168,
          169,
          170,
          171,
          172,
          173,
          174,
          175,
          176,
          177,
          178,
          179,
          180,
          181,
          182,
          183,
          184,
          185,
          186,
          187,
          188,
          189,
          190,
          191,
          192,
          193,
          194,
          195,
          196,
          197,
          198,
          199,
          200,
          201,
          202,
          203,
          204,
          205,
          206,
          207,
          208,
          209,
          210,
          211,
          212,
          213,
          214,
          215,
          216,
          217,
          218,
          219,
          220,
          221,
          222,
          223,
          224,
          225,
          226,
          227,
          228,
          229,
          230,
          231,
          232,
          233,
          234,
          235,
          236,
          237,
          238,
          239,
          240,
          241,
          242,
          243,
          244,
          245,
          246,
          247,
          248,
          249,
          250,
          251,
          252,
          253,
          254,
          255,
          256,
          257,
          258,
          259,
          260,
          261,
          262,
          263,
          264,
          265,
          266,
          267,
          268,
          269,
          270,
          271,
          272,
          273,
          274,
          275,
          276,
          277,
          278,
          279,
          280,
          281,
          282,
          283,
          284,
          285,
          286,
          287,
          288,
          289,
          290,
          291,
          292,
          293,
          294,
          295,
          296,
          297,
          298,
          299,
          300,
          301,
          302,
          303,
          304,
          305,
          306,
          307,
          308,
          309,
          310,
          311,
          312,
          313,
          314,
          315,
          316,
          317,
          318,
          319,
          320,
          321,
          322,
          323,
          324,
          325,
          326,
          327,
          328,
          329,
          330,
          331,
          332,
          333,
          334,
          335,
          336,
          337,
          338,
          339,
          340,
          341,
          342,
          343,
          344,
          345,
          346,
          347,
          348,
          349,
          350,
          351,
          352,
          353,
          354,
          355,
          356,
          357,
          358,
          359,
          360,
          361,
          362,
          363,
          364,
          365,
          366,
          367,
          368,
          369,
          370,
          371,
          372,
          373,
          374,
          375,
          376,
          377,
          378,
          379,
          380,
          381,
          382,
          383,
          384,
          385,
          386,
          387,
          388,
          389,
          390,
          391,
          392,
          393,
          394,
          395,
          396,
          397,
          398,
          399,
          400,
          401,
          402,
          403,
          404,
          405,
          406,
          407,
          408,
          409,
          410,
          411,
          412,
          413,
          414,
          415,
          416,
          417,
          418,
          419,
          420,
          421,
          422,
          423,
          424
         ],
         "xaxis": "x",
         "y": [
          0.47011953592300415,
          0.4741035997867584,
          0.525896430015564,
          0.5059760808944702,
          0.5059760808944702,
          0.5059760808944702,
          0.5059760808944702,
          0.5059760808944702,
          0.5059760808944702,
          0.5099601745605469,
          0.5059760808944702,
          0.5059760808944702,
          0.5059760808944702,
          0.5059760808944702,
          0.5059760808944702,
          0.5059760808944702,
          0.5059760808944702,
          0.5059760808944702,
          0.5019920468330383,
          0.5059760808944702,
          0.5059760808944702,
          0.5059760808944702,
          0.5059760808944702,
          0.5099601745605469,
          0.5179283022880554,
          0.5059760808944702,
          0.5059760808944702,
          0.5338645577430725,
          0.5458167195320129,
          0.5059760808944702,
          0.5139442086219788,
          0.5338645577430725,
          0.5099601745605469,
          0.5219123363494873,
          0.5179283022880554,
          0.525896430015564,
          0.5179283022880554,
          0.5179283022880554,
          0.5298804640769958,
          0.5179283022880554,
          0.5338645577430725,
          0.5338645577430725,
          0.5179283022880554,
          0.5577689409255981,
          0.5378485918045044,
          0.525896430015564,
          0.5099601745605469,
          0.5179283022880554,
          0.525896430015564,
          0.525896430015564,
          0.525896430015564,
          0.525896430015564,
          0.5537848472595215,
          0.525896430015564,
          0.5179283022880554,
          0.5537848472595215,
          0.5498008131980896,
          0.5498008131980896,
          0.5219123363494873,
          0.5498008131980896,
          0.5298804640769958,
          0.5099601745605469,
          0.525896430015564,
          0.5338645577430725,
          0.5099601745605469,
          0.5099601745605469,
          0.5697211027145386,
          0.5458167195320129,
          0.525896430015564,
          0.5139442086219788,
          0.525896430015564,
          0.525896430015564,
          0.5298804640769958,
          0.5019920468330383,
          0.5498008131980896,
          0.5338645577430725,
          0.49800798296928406,
          0.5099601745605469,
          0.5498008131980896,
          0.5219123363494873,
          0.5338645577430725,
          0.5298804640769958,
          0.5139442086219788,
          0.5378485918045044,
          0.5537848472595215,
          0.5298804640769958,
          0.5537848472595215,
          0.56175297498703,
          0.541832685470581,
          0.5099601745605469,
          0.525896430015564,
          0.5179283022880554,
          0.5378485918045044,
          0.5378485918045044,
          0.48605579137802124,
          0.5179283022880554,
          0.5537848472595215,
          0.5099601745605469,
          0.5059760808944702,
          0.5139442086219788,
          0.5139442086219788,
          0.525896430015564,
          0.5219123363494873,
          0.5338645577430725,
          0.5219123363494873,
          0.5099601745605469,
          0.5458167195320129,
          0.5099601745605469,
          0.5458167195320129,
          0.541832685470581,
          0.5139442086219788,
          0.5219123363494873,
          0.49800798296928406,
          0.541832685470581,
          0.5378485918045044,
          0.5019920468330383,
          0.5298804640769958,
          0.5179283022880554,
          0.48207172751426697,
          0.525896430015564,
          0.5179283022880554,
          0.5059760808944702,
          0.5298804640769958,
          0.48605579137802124,
          0.5219123363494873,
          0.5219123363494873,
          0.5338645577430725,
          0.4900398552417755,
          0.4940239191055298,
          0.5139442086219788,
          0.49800798296928406,
          0.541832685470581,
          0.5219123363494873,
          0.5019920468330383,
          0.5498008131980896,
          0.5338645577430725,
          0.5099601745605469,
          0.4940239191055298,
          0.49800798296928406,
          0.5059760808944702,
          0.5378485918045044,
          0.49800798296928406,
          0.5298804640769958,
          0.5019920468330383,
          0.5577689409255981,
          0.541832685470581,
          0.5059760808944702,
          0.5179283022880554,
          0.5019920468330383,
          0.5219123363494873,
          0.525896430015564,
          0.5179283022880554,
          0.541832685470581,
          0.5338645577430725,
          0.5219123363494873,
          0.5179283022880554,
          0.525896430015564,
          0.5219123363494873,
          0.5139442086219788,
          0.5219123363494873,
          0.5298804640769958,
          0.541832685470581,
          0.5219123363494873,
          0.5179283022880554,
          0.5059760808944702,
          0.5537848472595215,
          0.5298804640769958,
          0.525896430015564,
          0.5498008131980896,
          0.5139442086219788,
          0.5219123363494873,
          0.5179283022880554,
          0.5179283022880554,
          0.5179283022880554,
          0.525896430015564,
          0.5179283022880554,
          0.5378485918045044,
          0.5298804640769958,
          0.49800798296928406,
          0.5338645577430725,
          0.5099601745605469,
          0.5139442086219788,
          0.5059760808944702,
          0.5219123363494873,
          0.5338645577430725,
          0.525896430015564,
          0.5219123363494873,
          0.5378485918045044,
          0.5179283022880554,
          0.525896430015564,
          0.5219123363494873,
          0.5498008131980896,
          0.5498008131980896,
          0.5099601745605469,
          0.541832685470581,
          0.5458167195320129,
          0.5577689409255981,
          0.5458167195320129,
          0.525896430015564,
          0.4900398552417755,
          0.56175297498703,
          0.5219123363494873,
          0.5537848472595215,
          0.5298804640769958,
          0.5458167195320129,
          0.5338645577430725,
          0.56175297498703,
          0.5378485918045044,
          0.525896430015564,
          0.5338645577430725,
          0.5059760808944702,
          0.5378485918045044,
          0.5298804640769958,
          0.56175297498703,
          0.5139442086219788,
          0.5099601745605469,
          0.5338645577430725,
          0.525896430015564,
          0.5378485918045044,
          0.5776892304420471,
          0.5139442086219788,
          0.525896430015564,
          0.5338645577430725,
          0.5139442086219788,
          0.5537848472595215,
          0.5099601745605469,
          0.5298804640769958,
          0.5139442086219788,
          0.5139442086219788,
          0.5139442086219788,
          0.5298804640769958,
          0.5099601745605469,
          0.5179283022880554,
          0.5179283022880554,
          0.5298804640769958,
          0.5059760808944702,
          0.5378485918045044,
          0.48605579137802124,
          0.5338645577430725,
          0.5338645577430725,
          0.5139442086219788,
          0.5139442086219788,
          0.5498008131980896,
          0.56175297498703,
          0.5298804640769958,
          0.49800798296928406,
          0.541832685470581,
          0.4940239191055298,
          0.5298804640769958,
          0.5498008131980896,
          0.5219123363494873,
          0.4940239191055298,
          0.5059760808944702,
          0.5179283022880554,
          0.541832685470581,
          0.5179283022880554,
          0.5378485918045044,
          0.541832685470581,
          0.5219123363494873,
          0.5338645577430725,
          0.5577689409255981,
          0.5219123363494873,
          0.5219123363494873,
          0.5059760808944702,
          0.541832685470581,
          0.5298804640769958,
          0.5338645577430725,
          0.5378485918045044,
          0.541832685470581,
          0.5019920468330383,
          0.5458167195320129,
          0.5179283022880554,
          0.5298804640769958,
          0.5776892304420471,
          0.5139442086219788,
          0.5179283022880554,
          0.5577689409255981,
          0.5697211027145386,
          0.5139442086219788,
          0.49800798296928406,
          0.5139442086219788,
          0.5139442086219788,
          0.5458167195320129,
          0.5577689409255981,
          0.541832685470581,
          0.525896430015564,
          0.5179283022880554,
          0.5458167195320129,
          0.5378485918045044,
          0.5498008131980896,
          0.5577689409255981,
          0.5219123363494873,
          0.5498008131980896,
          0.5298804640769958,
          0.5338645577430725,
          0.5378485918045044,
          0.5179283022880554,
          0.541832685470581,
          0.525896430015564,
          0.5498008131980896,
          0.5498008131980896,
          0.541832685470581,
          0.5537848472595215,
          0.5378485918045044,
          0.5139442086219788,
          0.5378485918045044,
          0.5019920468330383,
          0.5019920468330383,
          0.5099601745605469,
          0.5816733241081238,
          0.5378485918045044,
          0.5378485918045044,
          0.5537848472595215,
          0.541832685470581,
          0.5338645577430725,
          0.5139442086219788,
          0.5577689409255981,
          0.5219123363494873,
          0.5378485918045044,
          0.5298804640769958,
          0.5537848472595215,
          0.5219123363494873,
          0.5378485918045044,
          0.5577689409255981,
          0.525896430015564,
          0.5498008131980896,
          0.5219123363494873,
          0.5458167195320129,
          0.525896430015564,
          0.541832685470581,
          0.56175297498703,
          0.5697211027145386,
          0.5458167195320129,
          0.5498008131980896,
          0.5737051963806152,
          0.5219123363494873,
          0.5458167195320129,
          0.5019920468330383,
          0.5458167195320129,
          0.5697211027145386,
          0.5458167195320129,
          0.5577689409255981,
          0.56175297498703,
          0.541832685470581,
          0.5537848472595215,
          0.5657370686531067,
          0.525896430015564,
          0.541832685470581,
          0.5179283022880554,
          0.5059760808944702,
          0.5378485918045044,
          0.5338645577430725,
          0.5139442086219788,
          0.56175297498703,
          0.5139442086219788,
          0.5498008131980896,
          0.5577689409255981,
          0.525896430015564,
          0.5298804640769958,
          0.5896414518356323,
          0.5498008131980896,
          0.5458167195320129,
          0.5099601745605469,
          0.56175297498703,
          0.5219123363494873,
          0.5537848472595215,
          0.5338645577430725,
          0.541832685470581,
          0.5338645577430725,
          0.5139442086219788,
          0.5498008131980896,
          0.5498008131980896,
          0.5458167195320129,
          0.5577689409255981,
          0.5458167195320129,
          0.5498008131980896,
          0.5577689409255981,
          0.5458167195320129,
          0.5498008131980896,
          0.5498008131980896,
          0.5498008131980896,
          0.5537848472595215,
          0.5139442086219788,
          0.5338645577430725,
          0.5458167195320129,
          0.5179283022880554,
          0.5378485918045044,
          0.5378485918045044,
          0.5458167195320129,
          0.5338645577430725,
          0.541832685470581,
          0.5458167195320129,
          0.5219123363494873,
          0.5498008131980896,
          0.5776892304420471,
          0.5657370686531067,
          0.5657370686531067,
          0.5298804640769958,
          0.5498008131980896,
          0.5577689409255981,
          0.5298804640769958,
          0.5378485918045044,
          0.5378485918045044,
          0.5537848472595215,
          0.5458167195320129,
          0.5338645577430725,
          0.5099601745605469,
          0.5577689409255981,
          0.5537848472595215,
          0.5498008131980896,
          0.5298804640769958,
          0.49800798296928406,
          0.5498008131980896,
          0.5458167195320129,
          0.5856573581695557,
          0.5338645577430725,
          0.5378485918045044,
          0.56175297498703,
          0.5298804640769958,
          0.5498008131980896,
          0.5099601745605469,
          0.5378485918045044,
          0.5338645577430725,
          0.5458167195320129,
          0.5378485918045044
         ],
         "yaxis": "y"
        }
       ],
       "layout": {
        "template": {
         "data": {
          "bar": [
           {
            "error_x": {
             "color": "#2a3f5f"
            },
            "error_y": {
             "color": "#2a3f5f"
            },
            "marker": {
             "line": {
              "color": "#E5ECF6",
              "width": 0.5
             },
             "pattern": {
              "fillmode": "overlay",
              "size": 10,
              "solidity": 0.2
             }
            },
            "type": "bar"
           }
          ],
          "barpolar": [
           {
            "marker": {
             "line": {
              "color": "#E5ECF6",
              "width": 0.5
             },
             "pattern": {
              "fillmode": "overlay",
              "size": 10,
              "solidity": 0.2
             }
            },
            "type": "barpolar"
           }
          ],
          "carpet": [
           {
            "aaxis": {
             "endlinecolor": "#2a3f5f",
             "gridcolor": "white",
             "linecolor": "white",
             "minorgridcolor": "white",
             "startlinecolor": "#2a3f5f"
            },
            "baxis": {
             "endlinecolor": "#2a3f5f",
             "gridcolor": "white",
             "linecolor": "white",
             "minorgridcolor": "white",
             "startlinecolor": "#2a3f5f"
            },
            "type": "carpet"
           }
          ],
          "choropleth": [
           {
            "colorbar": {
             "outlinewidth": 0,
             "ticks": ""
            },
            "type": "choropleth"
           }
          ],
          "contour": [
           {
            "colorbar": {
             "outlinewidth": 0,
             "ticks": ""
            },
            "colorscale": [
             [
              0,
              "#0d0887"
             ],
             [
              0.1111111111111111,
              "#46039f"
             ],
             [
              0.2222222222222222,
              "#7201a8"
             ],
             [
              0.3333333333333333,
              "#9c179e"
             ],
             [
              0.4444444444444444,
              "#bd3786"
             ],
             [
              0.5555555555555556,
              "#d8576b"
             ],
             [
              0.6666666666666666,
              "#ed7953"
             ],
             [
              0.7777777777777778,
              "#fb9f3a"
             ],
             [
              0.8888888888888888,
              "#fdca26"
             ],
             [
              1,
              "#f0f921"
             ]
            ],
            "type": "contour"
           }
          ],
          "contourcarpet": [
           {
            "colorbar": {
             "outlinewidth": 0,
             "ticks": ""
            },
            "type": "contourcarpet"
           }
          ],
          "heatmap": [
           {
            "colorbar": {
             "outlinewidth": 0,
             "ticks": ""
            },
            "colorscale": [
             [
              0,
              "#0d0887"
             ],
             [
              0.1111111111111111,
              "#46039f"
             ],
             [
              0.2222222222222222,
              "#7201a8"
             ],
             [
              0.3333333333333333,
              "#9c179e"
             ],
             [
              0.4444444444444444,
              "#bd3786"
             ],
             [
              0.5555555555555556,
              "#d8576b"
             ],
             [
              0.6666666666666666,
              "#ed7953"
             ],
             [
              0.7777777777777778,
              "#fb9f3a"
             ],
             [
              0.8888888888888888,
              "#fdca26"
             ],
             [
              1,
              "#f0f921"
             ]
            ],
            "type": "heatmap"
           }
          ],
          "heatmapgl": [
           {
            "colorbar": {
             "outlinewidth": 0,
             "ticks": ""
            },
            "colorscale": [
             [
              0,
              "#0d0887"
             ],
             [
              0.1111111111111111,
              "#46039f"
             ],
             [
              0.2222222222222222,
              "#7201a8"
             ],
             [
              0.3333333333333333,
              "#9c179e"
             ],
             [
              0.4444444444444444,
              "#bd3786"
             ],
             [
              0.5555555555555556,
              "#d8576b"
             ],
             [
              0.6666666666666666,
              "#ed7953"
             ],
             [
              0.7777777777777778,
              "#fb9f3a"
             ],
             [
              0.8888888888888888,
              "#fdca26"
             ],
             [
              1,
              "#f0f921"
             ]
            ],
            "type": "heatmapgl"
           }
          ],
          "histogram": [
           {
            "marker": {
             "pattern": {
              "fillmode": "overlay",
              "size": 10,
              "solidity": 0.2
             }
            },
            "type": "histogram"
           }
          ],
          "histogram2d": [
           {
            "colorbar": {
             "outlinewidth": 0,
             "ticks": ""
            },
            "colorscale": [
             [
              0,
              "#0d0887"
             ],
             [
              0.1111111111111111,
              "#46039f"
             ],
             [
              0.2222222222222222,
              "#7201a8"
             ],
             [
              0.3333333333333333,
              "#9c179e"
             ],
             [
              0.4444444444444444,
              "#bd3786"
             ],
             [
              0.5555555555555556,
              "#d8576b"
             ],
             [
              0.6666666666666666,
              "#ed7953"
             ],
             [
              0.7777777777777778,
              "#fb9f3a"
             ],
             [
              0.8888888888888888,
              "#fdca26"
             ],
             [
              1,
              "#f0f921"
             ]
            ],
            "type": "histogram2d"
           }
          ],
          "histogram2dcontour": [
           {
            "colorbar": {
             "outlinewidth": 0,
             "ticks": ""
            },
            "colorscale": [
             [
              0,
              "#0d0887"
             ],
             [
              0.1111111111111111,
              "#46039f"
             ],
             [
              0.2222222222222222,
              "#7201a8"
             ],
             [
              0.3333333333333333,
              "#9c179e"
             ],
             [
              0.4444444444444444,
              "#bd3786"
             ],
             [
              0.5555555555555556,
              "#d8576b"
             ],
             [
              0.6666666666666666,
              "#ed7953"
             ],
             [
              0.7777777777777778,
              "#fb9f3a"
             ],
             [
              0.8888888888888888,
              "#fdca26"
             ],
             [
              1,
              "#f0f921"
             ]
            ],
            "type": "histogram2dcontour"
           }
          ],
          "mesh3d": [
           {
            "colorbar": {
             "outlinewidth": 0,
             "ticks": ""
            },
            "type": "mesh3d"
           }
          ],
          "parcoords": [
           {
            "line": {
             "colorbar": {
              "outlinewidth": 0,
              "ticks": ""
             }
            },
            "type": "parcoords"
           }
          ],
          "pie": [
           {
            "automargin": true,
            "type": "pie"
           }
          ],
          "scatter": [
           {
            "marker": {
             "colorbar": {
              "outlinewidth": 0,
              "ticks": ""
             }
            },
            "type": "scatter"
           }
          ],
          "scatter3d": [
           {
            "line": {
             "colorbar": {
              "outlinewidth": 0,
              "ticks": ""
             }
            },
            "marker": {
             "colorbar": {
              "outlinewidth": 0,
              "ticks": ""
             }
            },
            "type": "scatter3d"
           }
          ],
          "scattercarpet": [
           {
            "marker": {
             "colorbar": {
              "outlinewidth": 0,
              "ticks": ""
             }
            },
            "type": "scattercarpet"
           }
          ],
          "scattergeo": [
           {
            "marker": {
             "colorbar": {
              "outlinewidth": 0,
              "ticks": ""
             }
            },
            "type": "scattergeo"
           }
          ],
          "scattergl": [
           {
            "marker": {
             "colorbar": {
              "outlinewidth": 0,
              "ticks": ""
             }
            },
            "type": "scattergl"
           }
          ],
          "scattermapbox": [
           {
            "marker": {
             "colorbar": {
              "outlinewidth": 0,
              "ticks": ""
             }
            },
            "type": "scattermapbox"
           }
          ],
          "scatterpolar": [
           {
            "marker": {
             "colorbar": {
              "outlinewidth": 0,
              "ticks": ""
             }
            },
            "type": "scatterpolar"
           }
          ],
          "scatterpolargl": [
           {
            "marker": {
             "colorbar": {
              "outlinewidth": 0,
              "ticks": ""
             }
            },
            "type": "scatterpolargl"
           }
          ],
          "scatterternary": [
           {
            "marker": {
             "colorbar": {
              "outlinewidth": 0,
              "ticks": ""
             }
            },
            "type": "scatterternary"
           }
          ],
          "surface": [
           {
            "colorbar": {
             "outlinewidth": 0,
             "ticks": ""
            },
            "colorscale": [
             [
              0,
              "#0d0887"
             ],
             [
              0.1111111111111111,
              "#46039f"
             ],
             [
              0.2222222222222222,
              "#7201a8"
             ],
             [
              0.3333333333333333,
              "#9c179e"
             ],
             [
              0.4444444444444444,
              "#bd3786"
             ],
             [
              0.5555555555555556,
              "#d8576b"
             ],
             [
              0.6666666666666666,
              "#ed7953"
             ],
             [
              0.7777777777777778,
              "#fb9f3a"
             ],
             [
              0.8888888888888888,
              "#fdca26"
             ],
             [
              1,
              "#f0f921"
             ]
            ],
            "type": "surface"
           }
          ],
          "table": [
           {
            "cells": {
             "fill": {
              "color": "#EBF0F8"
             },
             "line": {
              "color": "white"
             }
            },
            "header": {
             "fill": {
              "color": "#C8D4E3"
             },
             "line": {
              "color": "white"
             }
            },
            "type": "table"
           }
          ]
         },
         "layout": {
          "annotationdefaults": {
           "arrowcolor": "#2a3f5f",
           "arrowhead": 0,
           "arrowwidth": 1
          },
          "autotypenumbers": "strict",
          "coloraxis": {
           "colorbar": {
            "outlinewidth": 0,
            "ticks": ""
           }
          },
          "colorscale": {
           "diverging": [
            [
             0,
             "#8e0152"
            ],
            [
             0.1,
             "#c51b7d"
            ],
            [
             0.2,
             "#de77ae"
            ],
            [
             0.3,
             "#f1b6da"
            ],
            [
             0.4,
             "#fde0ef"
            ],
            [
             0.5,
             "#f7f7f7"
            ],
            [
             0.6,
             "#e6f5d0"
            ],
            [
             0.7,
             "#b8e186"
            ],
            [
             0.8,
             "#7fbc41"
            ],
            [
             0.9,
             "#4d9221"
            ],
            [
             1,
             "#276419"
            ]
           ],
           "sequential": [
            [
             0,
             "#0d0887"
            ],
            [
             0.1111111111111111,
             "#46039f"
            ],
            [
             0.2222222222222222,
             "#7201a8"
            ],
            [
             0.3333333333333333,
             "#9c179e"
            ],
            [
             0.4444444444444444,
             "#bd3786"
            ],
            [
             0.5555555555555556,
             "#d8576b"
            ],
            [
             0.6666666666666666,
             "#ed7953"
            ],
            [
             0.7777777777777778,
             "#fb9f3a"
            ],
            [
             0.8888888888888888,
             "#fdca26"
            ],
            [
             1,
             "#f0f921"
            ]
           ],
           "sequentialminus": [
            [
             0,
             "#0d0887"
            ],
            [
             0.1111111111111111,
             "#46039f"
            ],
            [
             0.2222222222222222,
             "#7201a8"
            ],
            [
             0.3333333333333333,
             "#9c179e"
            ],
            [
             0.4444444444444444,
             "#bd3786"
            ],
            [
             0.5555555555555556,
             "#d8576b"
            ],
            [
             0.6666666666666666,
             "#ed7953"
            ],
            [
             0.7777777777777778,
             "#fb9f3a"
            ],
            [
             0.8888888888888888,
             "#fdca26"
            ],
            [
             1,
             "#f0f921"
            ]
           ]
          },
          "colorway": [
           "#636efa",
           "#EF553B",
           "#00cc96",
           "#ab63fa",
           "#FFA15A",
           "#19d3f3",
           "#FF6692",
           "#B6E880",
           "#FF97FF",
           "#FECB52"
          ],
          "font": {
           "color": "#2a3f5f"
          },
          "geo": {
           "bgcolor": "white",
           "lakecolor": "white",
           "landcolor": "#E5ECF6",
           "showlakes": true,
           "showland": true,
           "subunitcolor": "white"
          },
          "hoverlabel": {
           "align": "left"
          },
          "hovermode": "closest",
          "mapbox": {
           "style": "light"
          },
          "paper_bgcolor": "white",
          "plot_bgcolor": "#E5ECF6",
          "polar": {
           "angularaxis": {
            "gridcolor": "white",
            "linecolor": "white",
            "ticks": ""
           },
           "bgcolor": "#E5ECF6",
           "radialaxis": {
            "gridcolor": "white",
            "linecolor": "white",
            "ticks": ""
           }
          },
          "scene": {
           "xaxis": {
            "backgroundcolor": "#E5ECF6",
            "gridcolor": "white",
            "gridwidth": 2,
            "linecolor": "white",
            "showbackground": true,
            "ticks": "",
            "zerolinecolor": "white"
           },
           "yaxis": {
            "backgroundcolor": "#E5ECF6",
            "gridcolor": "white",
            "gridwidth": 2,
            "linecolor": "white",
            "showbackground": true,
            "ticks": "",
            "zerolinecolor": "white"
           },
           "zaxis": {
            "backgroundcolor": "#E5ECF6",
            "gridcolor": "white",
            "gridwidth": 2,
            "linecolor": "white",
            "showbackground": true,
            "ticks": "",
            "zerolinecolor": "white"
           }
          },
          "shapedefaults": {
           "line": {
            "color": "#2a3f5f"
           }
          },
          "ternary": {
           "aaxis": {
            "gridcolor": "white",
            "linecolor": "white",
            "ticks": ""
           },
           "baxis": {
            "gridcolor": "white",
            "linecolor": "white",
            "ticks": ""
           },
           "bgcolor": "#E5ECF6",
           "caxis": {
            "gridcolor": "white",
            "linecolor": "white",
            "ticks": ""
           }
          },
          "title": {
           "x": 0.05
          },
          "xaxis": {
           "automargin": true,
           "gridcolor": "white",
           "linecolor": "white",
           "ticks": "",
           "title": {
            "standoff": 15
           },
           "zerolinecolor": "white",
           "zerolinewidth": 2
          },
          "yaxis": {
           "automargin": true,
           "gridcolor": "white",
           "linecolor": "white",
           "ticks": "",
           "title": {
            "standoff": 15
           },
           "zerolinecolor": "white",
           "zerolinewidth": 2
          }
         }
        },
        "title": {
         "text": "Training and Validation Accuracy Convergence per Epoch"
        },
        "xaxis": {
         "anchor": "y",
         "domain": [
          0,
          1
         ],
         "title": {
          "text": "Epoch"
         }
        },
        "yaxis": {
         "anchor": "x",
         "domain": [
          0,
          1
         ],
         "title": {
          "text": "Accuracy"
         }
        }
       }
      },
      "text/html": [
       "<div>                            <div id=\"eae189bb-fdfd-4d1f-9dd2-5fd23eca880a\" class=\"plotly-graph-div\" style=\"height:525px; width:100%;\"></div>            <script type=\"text/javascript\">                require([\"plotly\"], function(Plotly) {                    window.PLOTLYENV=window.PLOTLYENV || {};                                    if (document.getElementById(\"eae189bb-fdfd-4d1f-9dd2-5fd23eca880a\")) {                    Plotly.newPlot(                        \"eae189bb-fdfd-4d1f-9dd2-5fd23eca880a\",                        [{\"mode\":\"lines\",\"name\":\"Training Accuracy\",\"type\":\"scatter\",\"x\":[0,1,2,3,4,5,6,7,8,9,10,11,12,13,14,15,16,17,18,19,20,21,22,23,24,25,26,27,28,29,30,31,32,33,34,35,36,37,38,39,40,41,42,43,44,45,46,47,48,49,50,51,52,53,54,55,56,57,58,59,60,61,62,63,64,65,66,67,68,69,70,71,72,73,74,75,76,77,78,79,80,81,82,83,84,85,86,87,88,89,90,91,92,93,94,95,96,97,98,99,100,101,102,103,104,105,106,107,108,109,110,111,112,113,114,115,116,117,118,119,120,121,122,123,124,125,126,127,128,129,130,131,132,133,134,135,136,137,138,139,140,141,142,143,144,145,146,147,148,149,150,151,152,153,154,155,156,157,158,159,160,161,162,163,164,165,166,167,168,169,170,171,172,173,174,175,176,177,178,179,180,181,182,183,184,185,186,187,188,189,190,191,192,193,194,195,196,197,198,199,200,201,202,203,204,205,206,207,208,209,210,211,212,213,214,215,216,217,218,219,220,221,222,223,224,225,226,227,228,229,230,231,232,233,234,235,236,237,238,239,240,241,242,243,244,245,246,247,248,249,250,251,252,253,254,255,256,257,258,259,260,261,262,263,264,265,266,267,268,269,270,271,272,273,274,275,276,277,278,279,280,281,282,283,284,285,286,287,288,289,290,291,292,293,294,295,296,297,298,299,300,301,302,303,304,305,306,307,308,309,310,311,312,313,314,315,316,317,318,319,320,321,322,323,324,325,326,327,328,329,330,331,332,333,334,335,336,337,338,339,340,341,342,343,344,345,346,347,348,349,350,351,352,353,354,355,356,357,358,359,360,361,362,363,364,365,366,367,368,369,370,371,372,373,374,375,376,377,378,379,380,381,382,383,384,385,386,387,388,389,390,391,392,393,394,395,396,397,398,399,400,401,402,403,404,405,406,407,408,409,410,411,412,413,414,415,416,417,418,419,420,421,422,423,424],\"xaxis\":\"x\",\"y\":[0.5301318168640137,0.5343691110610962,0.5324859023094177,0.543314516544342,0.5470809936523438,0.5475518107414246,0.5423728823661804,0.5461393594741821,0.5470809936523438,0.5404896140098572,0.5437853336334229,0.5461393594741821,0.5428436994552612,0.5428436994552612,0.5447269082069397,0.5451977252960205,0.5470809936523438,0.5461393594741821,0.5475518107414246,0.5437853336334229,0.5451977252960205,0.5466101765632629,0.5461393594741821,0.5470809936523438,0.543314516544342,0.5437853336334229,0.5499058365821838,0.5522598624229431,0.5546139478683472,0.5503766536712646,0.5447269082069397,0.5466101765632629,0.5461393594741821,0.5503766536712646,0.5532014966011047,0.5499058365821838,0.5489642024040222,0.549435019493103,0.5513182878494263,0.543314516544342,0.5461393594741821,0.5470809936523438,0.5569679737091064,0.5555555820465088,0.5546139478683472,0.5386064052581787,0.549435019493103,0.5461393594741821,0.5419020652770996,0.5461393594741821,0.5555555820465088,0.5423728823661804,0.5428436994552612,0.5461393594741821,0.5645009279251099,0.5630885362625122,0.5484933853149414,0.5451977252960205,0.5508474707603455,0.5564971566200256,0.5527306795120239,0.5484933853149414,0.5569679737091064,0.5607344508171082,0.5593220591545105,0.5536723136901855,0.5475518107414246,0.5564971566200256,0.5597928166389465,0.5480226278305054,0.5621469020843506,0.5560263395309448,0.5546139478683472,0.5532014966011047,0.5588512420654297,0.5546139478683472,0.5564971566200256,0.5597928166389465,0.5739171504974365,0.5635592937469482,0.5541431307792664,0.5437853336334229,0.5677965879440308,0.5616760849952698,0.5588512420654297,0.5725046992301941,0.5616760849952698,0.5513182878494263,0.5833333134651184,0.5649717450141907,0.5654425621032715,0.5607344508171082,0.5649717450141907,0.5602636337280273,0.5456685423851013,0.5663841962814331,0.5541431307792664,0.5767419934272766,0.5630885362625122,0.56732577085495,0.5532014966011047,0.5734463334083557,0.5626177191734314,0.5710923075675964,0.5668550133705139,0.5682674050331116,0.5805084705352783,0.5677965879440308,0.564030110836029,0.5800376534461975,0.590395450592041,0.5715630650520325,0.5880414247512817,0.5833333134651184,0.5668550133705139,0.5668550133705139,0.5710923075675964,0.5715630650520325,0.5687382221221924,0.5889830589294434,0.5819209218025208,0.5866289734840393,0.575800359249115,0.578154444694519,0.5856873989105225,0.5823917388916016,0.5946327447891235,0.5616760849952698,0.5743879675865173,0.5790960192680359,0.5894538760185242,0.5936911702156067,0.5795668363571167,0.6031073331832886,0.5908662676811218,0.5809792876243591,0.5889830589294434,0.5932203531265259,0.589924693107605,0.5955743789672852,0.5908662676811218,0.5786252617835999,0.5941619873046875,0.5847457647323608,0.5809792876243591,0.5889830589294434,0.5951035618782043,0.5941619873046875,0.5715630650520325,0.5998116731643677,0.5861582159996033,0.5941619873046875,0.5913370847702026,0.6016949415206909,0.5833333134651184,0.5894538760185242,0.590395450592041,0.6012241244316101,0.6016949415206909,0.6002824902534485,0.5979284644126892,0.5870997905731201,0.6092278957366943,0.596045196056366,0.6054614186286926,0.5993408560752869,0.604519784450531,0.5918079018592834,0.5875706076622009,0.6035781502723694,0.5974576473236084,0.5918079018592834,0.6016949415206909,0.6002824902534485,0.5969868302345276,0.6049906015396118,0.6111111044883728,0.6012241244316101,0.5951035618782043,0.5979284644126892,0.5927495360374451,0.6068738102912903,0.5932203531265259,0.6031073331832886,0.6078154444694519,0.6012241244316101,0.6096986532211304,0.6012241244316101,0.6026365160942078,0.6120527386665344,0.619114875793457,0.6007533073425293,0.596045196056366,0.6134651303291321,0.6134651303291321,0.6068738102912903,0.6205273270606995,0.6096986532211304,0.6111111044883728,0.6125235557556152,0.6068738102912903,0.6073446273803711,0.6275894641876221,0.6087570786476135,0.6134651303291321,0.612994372844696,0.6068738102912903,0.6040489673614502,0.6101694703102112,0.6177024245262146,0.6049906015396118,0.604519784450531,0.5946327447891235,0.6035781502723694,0.6059321761131287,0.6148775815963745,0.604519784450531,0.6186440587043762,0.6219397187232971,0.6078154444694519,0.6092278957366943,0.6082862615585327,0.624764621257782,0.6266478300094604,0.6031073331832886,0.6266478300094604,0.6087570786476135,0.6148775815963745,0.6087570786476135,0.6275894641876221,0.6153483986854553,0.6186440587043762,0.6224105358123779,0.6134651303291321,0.6327683329582214,0.6327683329582214,0.6120527386665344,0.6219397187232971,0.6200565099716187,0.6242938041687012,0.6172316670417786,0.6332391500473022,0.6144067645072937,0.6304143071174622,0.6238229870796204,0.6125235557556152,0.6205273270606995,0.6144067645072937,0.6228813529014587,0.6205273270606995,0.6064029932022095,0.6280602812767029,0.6238229870796204,0.6181732416152954,0.6181732416152954,0.6304143071174622,0.6177024245262146,0.6224105358123779,0.6195856928825378,0.6195856928825378,0.6120527386665344,0.6134651303291321,0.6322975754737854,0.6327683329582214,0.6195856928825378,0.6374764442443848,0.6177024245262146,0.6407721042633057,0.6158192157745361,0.6332391500473022,0.6299434900283813,0.6120527386665344,0.6228813529014587,0.6228813529014587,0.6224105358123779,0.6355932354927063,0.6275894641876221,0.6275894641876221,0.6351224184036255,0.6148775815963745,0.6096986532211304,0.6096986532211304,0.6285310983657837,0.6360640525817871,0.6242938041687012,0.6271186470985413,0.6285310983657837,0.6261770129203796,0.630885124206543,0.6322975754737854,0.6200565099716187,0.6172316670417786,0.6304143071174622,0.6322975754737854,0.6035781502723694,0.6219397187232971,0.612994372844696,0.630885124206543,0.6318267583847046,0.6285310983657837,0.6144067645072937,0.6290018558502197,0.6473634839057922,0.6200565099716187,0.6313559412956238,0.6426553726196289,0.6346516013145447,0.6290018558502197,0.6360640525817871,0.6228813529014587,0.6280602812767029,0.6332391500473022,0.651129961013794,0.6398305296897888,0.6346516013145447,0.6450093984603882,0.6388888955116272,0.6299434900283813,0.6374764442443848,0.6450093984603882,0.6346516013145447,0.645480215549469,0.6421845555305481,0.6483050584793091,0.6384180784225464,0.625235378742218,0.6403013467788696,0.6238229870796204,0.610640287399292,0.6233521699905396,0.630885124206543,0.6233521699905396,0.6379472613334656,0.6341807842254639,0.6261770129203796,0.6332391500473022,0.6224105358123779,0.6290018558502197,0.6497175097465515,0.6238229870796204,0.6261770129203796,0.6271186470985413,0.6341807842254639,0.6313559412956238,0.6332391500473022,0.6412429213523865,0.6332391500473022,0.6214689016342163,0.6280602812767029,0.6290018558502197,0.6384180784225464,0.6497175097465515,0.6426553726196289,0.6360640525817871,0.6388888955116272,0.6280602812767029,0.6407721042633057,0.6407721042633057,0.6473634839057922,0.6398305296897888,0.6497175097465515,0.6346516013145447,0.6398305296897888,0.6351224184036255,0.6407721042633057,0.6388888955116272,0.6468926668167114,0.6487758755683899,0.6360640525817871,0.6346516013145447,0.6553672552108765,0.6398305296897888,0.6572504639625549,0.647834300994873,0.659604549407959,0.6544256210327148,0.6337099671363831,0.6468926668167114,0.6421845555305481,0.6426553726196289,0.6365348696708679,0.6407721042633057,0.6379472613334656,0.6346516013145447,0.6506591439247131,0.6403013467788696,0.653954803943634,0.645480215549469,0.6313559412956238,0.6525423526763916,0.6224105358123779,0.6440678238868713,0.6492466926574707,0.6304143071174622,0.6388888955116272,0.6431261897087097,0.6412429213523865,0.6407721042633057,0.6581920981407166,0.6473634839057922,0.6459510326385498,0.6558380126953125,0.6384180784225464,0.6483050584793091,0.6374764442443848,0.6374764442443848,0.6275894641876221,0.6398305296897888,0.6403013467788696,0.624764621257782,0.6501883268356323,0.647834300994873,0.6167608499526978,0.6412429213523865,0.6426553726196289,0.6558380126953125,0.6473634839057922,0.6440678238868713,0.6412429213523865,0.6304143071174622,0.6440678238868713,0.6435970067977905,0.6431261897087097,0.6450093984603882,0.6318267583847046],\"yaxis\":\"y\"},{\"mode\":\"lines\",\"name\":\"Validation Accuracy\",\"type\":\"scatter\",\"x\":[0,1,2,3,4,5,6,7,8,9,10,11,12,13,14,15,16,17,18,19,20,21,22,23,24,25,26,27,28,29,30,31,32,33,34,35,36,37,38,39,40,41,42,43,44,45,46,47,48,49,50,51,52,53,54,55,56,57,58,59,60,61,62,63,64,65,66,67,68,69,70,71,72,73,74,75,76,77,78,79,80,81,82,83,84,85,86,87,88,89,90,91,92,93,94,95,96,97,98,99,100,101,102,103,104,105,106,107,108,109,110,111,112,113,114,115,116,117,118,119,120,121,122,123,124,125,126,127,128,129,130,131,132,133,134,135,136,137,138,139,140,141,142,143,144,145,146,147,148,149,150,151,152,153,154,155,156,157,158,159,160,161,162,163,164,165,166,167,168,169,170,171,172,173,174,175,176,177,178,179,180,181,182,183,184,185,186,187,188,189,190,191,192,193,194,195,196,197,198,199,200,201,202,203,204,205,206,207,208,209,210,211,212,213,214,215,216,217,218,219,220,221,222,223,224,225,226,227,228,229,230,231,232,233,234,235,236,237,238,239,240,241,242,243,244,245,246,247,248,249,250,251,252,253,254,255,256,257,258,259,260,261,262,263,264,265,266,267,268,269,270,271,272,273,274,275,276,277,278,279,280,281,282,283,284,285,286,287,288,289,290,291,292,293,294,295,296,297,298,299,300,301,302,303,304,305,306,307,308,309,310,311,312,313,314,315,316,317,318,319,320,321,322,323,324,325,326,327,328,329,330,331,332,333,334,335,336,337,338,339,340,341,342,343,344,345,346,347,348,349,350,351,352,353,354,355,356,357,358,359,360,361,362,363,364,365,366,367,368,369,370,371,372,373,374,375,376,377,378,379,380,381,382,383,384,385,386,387,388,389,390,391,392,393,394,395,396,397,398,399,400,401,402,403,404,405,406,407,408,409,410,411,412,413,414,415,416,417,418,419,420,421,422,423,424],\"xaxis\":\"x\",\"y\":[0.47011953592300415,0.4741035997867584,0.525896430015564,0.5059760808944702,0.5059760808944702,0.5059760808944702,0.5059760808944702,0.5059760808944702,0.5059760808944702,0.5099601745605469,0.5059760808944702,0.5059760808944702,0.5059760808944702,0.5059760808944702,0.5059760808944702,0.5059760808944702,0.5059760808944702,0.5059760808944702,0.5019920468330383,0.5059760808944702,0.5059760808944702,0.5059760808944702,0.5059760808944702,0.5099601745605469,0.5179283022880554,0.5059760808944702,0.5059760808944702,0.5338645577430725,0.5458167195320129,0.5059760808944702,0.5139442086219788,0.5338645577430725,0.5099601745605469,0.5219123363494873,0.5179283022880554,0.525896430015564,0.5179283022880554,0.5179283022880554,0.5298804640769958,0.5179283022880554,0.5338645577430725,0.5338645577430725,0.5179283022880554,0.5577689409255981,0.5378485918045044,0.525896430015564,0.5099601745605469,0.5179283022880554,0.525896430015564,0.525896430015564,0.525896430015564,0.525896430015564,0.5537848472595215,0.525896430015564,0.5179283022880554,0.5537848472595215,0.5498008131980896,0.5498008131980896,0.5219123363494873,0.5498008131980896,0.5298804640769958,0.5099601745605469,0.525896430015564,0.5338645577430725,0.5099601745605469,0.5099601745605469,0.5697211027145386,0.5458167195320129,0.525896430015564,0.5139442086219788,0.525896430015564,0.525896430015564,0.5298804640769958,0.5019920468330383,0.5498008131980896,0.5338645577430725,0.49800798296928406,0.5099601745605469,0.5498008131980896,0.5219123363494873,0.5338645577430725,0.5298804640769958,0.5139442086219788,0.5378485918045044,0.5537848472595215,0.5298804640769958,0.5537848472595215,0.56175297498703,0.541832685470581,0.5099601745605469,0.525896430015564,0.5179283022880554,0.5378485918045044,0.5378485918045044,0.48605579137802124,0.5179283022880554,0.5537848472595215,0.5099601745605469,0.5059760808944702,0.5139442086219788,0.5139442086219788,0.525896430015564,0.5219123363494873,0.5338645577430725,0.5219123363494873,0.5099601745605469,0.5458167195320129,0.5099601745605469,0.5458167195320129,0.541832685470581,0.5139442086219788,0.5219123363494873,0.49800798296928406,0.541832685470581,0.5378485918045044,0.5019920468330383,0.5298804640769958,0.5179283022880554,0.48207172751426697,0.525896430015564,0.5179283022880554,0.5059760808944702,0.5298804640769958,0.48605579137802124,0.5219123363494873,0.5219123363494873,0.5338645577430725,0.4900398552417755,0.4940239191055298,0.5139442086219788,0.49800798296928406,0.541832685470581,0.5219123363494873,0.5019920468330383,0.5498008131980896,0.5338645577430725,0.5099601745605469,0.4940239191055298,0.49800798296928406,0.5059760808944702,0.5378485918045044,0.49800798296928406,0.5298804640769958,0.5019920468330383,0.5577689409255981,0.541832685470581,0.5059760808944702,0.5179283022880554,0.5019920468330383,0.5219123363494873,0.525896430015564,0.5179283022880554,0.541832685470581,0.5338645577430725,0.5219123363494873,0.5179283022880554,0.525896430015564,0.5219123363494873,0.5139442086219788,0.5219123363494873,0.5298804640769958,0.541832685470581,0.5219123363494873,0.5179283022880554,0.5059760808944702,0.5537848472595215,0.5298804640769958,0.525896430015564,0.5498008131980896,0.5139442086219788,0.5219123363494873,0.5179283022880554,0.5179283022880554,0.5179283022880554,0.525896430015564,0.5179283022880554,0.5378485918045044,0.5298804640769958,0.49800798296928406,0.5338645577430725,0.5099601745605469,0.5139442086219788,0.5059760808944702,0.5219123363494873,0.5338645577430725,0.525896430015564,0.5219123363494873,0.5378485918045044,0.5179283022880554,0.525896430015564,0.5219123363494873,0.5498008131980896,0.5498008131980896,0.5099601745605469,0.541832685470581,0.5458167195320129,0.5577689409255981,0.5458167195320129,0.525896430015564,0.4900398552417755,0.56175297498703,0.5219123363494873,0.5537848472595215,0.5298804640769958,0.5458167195320129,0.5338645577430725,0.56175297498703,0.5378485918045044,0.525896430015564,0.5338645577430725,0.5059760808944702,0.5378485918045044,0.5298804640769958,0.56175297498703,0.5139442086219788,0.5099601745605469,0.5338645577430725,0.525896430015564,0.5378485918045044,0.5776892304420471,0.5139442086219788,0.525896430015564,0.5338645577430725,0.5139442086219788,0.5537848472595215,0.5099601745605469,0.5298804640769958,0.5139442086219788,0.5139442086219788,0.5139442086219788,0.5298804640769958,0.5099601745605469,0.5179283022880554,0.5179283022880554,0.5298804640769958,0.5059760808944702,0.5378485918045044,0.48605579137802124,0.5338645577430725,0.5338645577430725,0.5139442086219788,0.5139442086219788,0.5498008131980896,0.56175297498703,0.5298804640769958,0.49800798296928406,0.541832685470581,0.4940239191055298,0.5298804640769958,0.5498008131980896,0.5219123363494873,0.4940239191055298,0.5059760808944702,0.5179283022880554,0.541832685470581,0.5179283022880554,0.5378485918045044,0.541832685470581,0.5219123363494873,0.5338645577430725,0.5577689409255981,0.5219123363494873,0.5219123363494873,0.5059760808944702,0.541832685470581,0.5298804640769958,0.5338645577430725,0.5378485918045044,0.541832685470581,0.5019920468330383,0.5458167195320129,0.5179283022880554,0.5298804640769958,0.5776892304420471,0.5139442086219788,0.5179283022880554,0.5577689409255981,0.5697211027145386,0.5139442086219788,0.49800798296928406,0.5139442086219788,0.5139442086219788,0.5458167195320129,0.5577689409255981,0.541832685470581,0.525896430015564,0.5179283022880554,0.5458167195320129,0.5378485918045044,0.5498008131980896,0.5577689409255981,0.5219123363494873,0.5498008131980896,0.5298804640769958,0.5338645577430725,0.5378485918045044,0.5179283022880554,0.541832685470581,0.525896430015564,0.5498008131980896,0.5498008131980896,0.541832685470581,0.5537848472595215,0.5378485918045044,0.5139442086219788,0.5378485918045044,0.5019920468330383,0.5019920468330383,0.5099601745605469,0.5816733241081238,0.5378485918045044,0.5378485918045044,0.5537848472595215,0.541832685470581,0.5338645577430725,0.5139442086219788,0.5577689409255981,0.5219123363494873,0.5378485918045044,0.5298804640769958,0.5537848472595215,0.5219123363494873,0.5378485918045044,0.5577689409255981,0.525896430015564,0.5498008131980896,0.5219123363494873,0.5458167195320129,0.525896430015564,0.541832685470581,0.56175297498703,0.5697211027145386,0.5458167195320129,0.5498008131980896,0.5737051963806152,0.5219123363494873,0.5458167195320129,0.5019920468330383,0.5458167195320129,0.5697211027145386,0.5458167195320129,0.5577689409255981,0.56175297498703,0.541832685470581,0.5537848472595215,0.5657370686531067,0.525896430015564,0.541832685470581,0.5179283022880554,0.5059760808944702,0.5378485918045044,0.5338645577430725,0.5139442086219788,0.56175297498703,0.5139442086219788,0.5498008131980896,0.5577689409255981,0.525896430015564,0.5298804640769958,0.5896414518356323,0.5498008131980896,0.5458167195320129,0.5099601745605469,0.56175297498703,0.5219123363494873,0.5537848472595215,0.5338645577430725,0.541832685470581,0.5338645577430725,0.5139442086219788,0.5498008131980896,0.5498008131980896,0.5458167195320129,0.5577689409255981,0.5458167195320129,0.5498008131980896,0.5577689409255981,0.5458167195320129,0.5498008131980896,0.5498008131980896,0.5498008131980896,0.5537848472595215,0.5139442086219788,0.5338645577430725,0.5458167195320129,0.5179283022880554,0.5378485918045044,0.5378485918045044,0.5458167195320129,0.5338645577430725,0.541832685470581,0.5458167195320129,0.5219123363494873,0.5498008131980896,0.5776892304420471,0.5657370686531067,0.5657370686531067,0.5298804640769958,0.5498008131980896,0.5577689409255981,0.5298804640769958,0.5378485918045044,0.5378485918045044,0.5537848472595215,0.5458167195320129,0.5338645577430725,0.5099601745605469,0.5577689409255981,0.5537848472595215,0.5498008131980896,0.5298804640769958,0.49800798296928406,0.5498008131980896,0.5458167195320129,0.5856573581695557,0.5338645577430725,0.5378485918045044,0.56175297498703,0.5298804640769958,0.5498008131980896,0.5099601745605469,0.5378485918045044,0.5338645577430725,0.5458167195320129,0.5378485918045044],\"yaxis\":\"y\"}],                        {\"template\":{\"data\":{\"bar\":[{\"error_x\":{\"color\":\"#2a3f5f\"},\"error_y\":{\"color\":\"#2a3f5f\"},\"marker\":{\"line\":{\"color\":\"#E5ECF6\",\"width\":0.5},\"pattern\":{\"fillmode\":\"overlay\",\"size\":10,\"solidity\":0.2}},\"type\":\"bar\"}],\"barpolar\":[{\"marker\":{\"line\":{\"color\":\"#E5ECF6\",\"width\":0.5},\"pattern\":{\"fillmode\":\"overlay\",\"size\":10,\"solidity\":0.2}},\"type\":\"barpolar\"}],\"carpet\":[{\"aaxis\":{\"endlinecolor\":\"#2a3f5f\",\"gridcolor\":\"white\",\"linecolor\":\"white\",\"minorgridcolor\":\"white\",\"startlinecolor\":\"#2a3f5f\"},\"baxis\":{\"endlinecolor\":\"#2a3f5f\",\"gridcolor\":\"white\",\"linecolor\":\"white\",\"minorgridcolor\":\"white\",\"startlinecolor\":\"#2a3f5f\"},\"type\":\"carpet\"}],\"choropleth\":[{\"colorbar\":{\"outlinewidth\":0,\"ticks\":\"\"},\"type\":\"choropleth\"}],\"contour\":[{\"colorbar\":{\"outlinewidth\":0,\"ticks\":\"\"},\"colorscale\":[[0.0,\"#0d0887\"],[0.1111111111111111,\"#46039f\"],[0.2222222222222222,\"#7201a8\"],[0.3333333333333333,\"#9c179e\"],[0.4444444444444444,\"#bd3786\"],[0.5555555555555556,\"#d8576b\"],[0.6666666666666666,\"#ed7953\"],[0.7777777777777778,\"#fb9f3a\"],[0.8888888888888888,\"#fdca26\"],[1.0,\"#f0f921\"]],\"type\":\"contour\"}],\"contourcarpet\":[{\"colorbar\":{\"outlinewidth\":0,\"ticks\":\"\"},\"type\":\"contourcarpet\"}],\"heatmap\":[{\"colorbar\":{\"outlinewidth\":0,\"ticks\":\"\"},\"colorscale\":[[0.0,\"#0d0887\"],[0.1111111111111111,\"#46039f\"],[0.2222222222222222,\"#7201a8\"],[0.3333333333333333,\"#9c179e\"],[0.4444444444444444,\"#bd3786\"],[0.5555555555555556,\"#d8576b\"],[0.6666666666666666,\"#ed7953\"],[0.7777777777777778,\"#fb9f3a\"],[0.8888888888888888,\"#fdca26\"],[1.0,\"#f0f921\"]],\"type\":\"heatmap\"}],\"heatmapgl\":[{\"colorbar\":{\"outlinewidth\":0,\"ticks\":\"\"},\"colorscale\":[[0.0,\"#0d0887\"],[0.1111111111111111,\"#46039f\"],[0.2222222222222222,\"#7201a8\"],[0.3333333333333333,\"#9c179e\"],[0.4444444444444444,\"#bd3786\"],[0.5555555555555556,\"#d8576b\"],[0.6666666666666666,\"#ed7953\"],[0.7777777777777778,\"#fb9f3a\"],[0.8888888888888888,\"#fdca26\"],[1.0,\"#f0f921\"]],\"type\":\"heatmapgl\"}],\"histogram\":[{\"marker\":{\"pattern\":{\"fillmode\":\"overlay\",\"size\":10,\"solidity\":0.2}},\"type\":\"histogram\"}],\"histogram2d\":[{\"colorbar\":{\"outlinewidth\":0,\"ticks\":\"\"},\"colorscale\":[[0.0,\"#0d0887\"],[0.1111111111111111,\"#46039f\"],[0.2222222222222222,\"#7201a8\"],[0.3333333333333333,\"#9c179e\"],[0.4444444444444444,\"#bd3786\"],[0.5555555555555556,\"#d8576b\"],[0.6666666666666666,\"#ed7953\"],[0.7777777777777778,\"#fb9f3a\"],[0.8888888888888888,\"#fdca26\"],[1.0,\"#f0f921\"]],\"type\":\"histogram2d\"}],\"histogram2dcontour\":[{\"colorbar\":{\"outlinewidth\":0,\"ticks\":\"\"},\"colorscale\":[[0.0,\"#0d0887\"],[0.1111111111111111,\"#46039f\"],[0.2222222222222222,\"#7201a8\"],[0.3333333333333333,\"#9c179e\"],[0.4444444444444444,\"#bd3786\"],[0.5555555555555556,\"#d8576b\"],[0.6666666666666666,\"#ed7953\"],[0.7777777777777778,\"#fb9f3a\"],[0.8888888888888888,\"#fdca26\"],[1.0,\"#f0f921\"]],\"type\":\"histogram2dcontour\"}],\"mesh3d\":[{\"colorbar\":{\"outlinewidth\":0,\"ticks\":\"\"},\"type\":\"mesh3d\"}],\"parcoords\":[{\"line\":{\"colorbar\":{\"outlinewidth\":0,\"ticks\":\"\"}},\"type\":\"parcoords\"}],\"pie\":[{\"automargin\":true,\"type\":\"pie\"}],\"scatter\":[{\"marker\":{\"colorbar\":{\"outlinewidth\":0,\"ticks\":\"\"}},\"type\":\"scatter\"}],\"scatter3d\":[{\"line\":{\"colorbar\":{\"outlinewidth\":0,\"ticks\":\"\"}},\"marker\":{\"colorbar\":{\"outlinewidth\":0,\"ticks\":\"\"}},\"type\":\"scatter3d\"}],\"scattercarpet\":[{\"marker\":{\"colorbar\":{\"outlinewidth\":0,\"ticks\":\"\"}},\"type\":\"scattercarpet\"}],\"scattergeo\":[{\"marker\":{\"colorbar\":{\"outlinewidth\":0,\"ticks\":\"\"}},\"type\":\"scattergeo\"}],\"scattergl\":[{\"marker\":{\"colorbar\":{\"outlinewidth\":0,\"ticks\":\"\"}},\"type\":\"scattergl\"}],\"scattermapbox\":[{\"marker\":{\"colorbar\":{\"outlinewidth\":0,\"ticks\":\"\"}},\"type\":\"scattermapbox\"}],\"scatterpolar\":[{\"marker\":{\"colorbar\":{\"outlinewidth\":0,\"ticks\":\"\"}},\"type\":\"scatterpolar\"}],\"scatterpolargl\":[{\"marker\":{\"colorbar\":{\"outlinewidth\":0,\"ticks\":\"\"}},\"type\":\"scatterpolargl\"}],\"scatterternary\":[{\"marker\":{\"colorbar\":{\"outlinewidth\":0,\"ticks\":\"\"}},\"type\":\"scatterternary\"}],\"surface\":[{\"colorbar\":{\"outlinewidth\":0,\"ticks\":\"\"},\"colorscale\":[[0.0,\"#0d0887\"],[0.1111111111111111,\"#46039f\"],[0.2222222222222222,\"#7201a8\"],[0.3333333333333333,\"#9c179e\"],[0.4444444444444444,\"#bd3786\"],[0.5555555555555556,\"#d8576b\"],[0.6666666666666666,\"#ed7953\"],[0.7777777777777778,\"#fb9f3a\"],[0.8888888888888888,\"#fdca26\"],[1.0,\"#f0f921\"]],\"type\":\"surface\"}],\"table\":[{\"cells\":{\"fill\":{\"color\":\"#EBF0F8\"},\"line\":{\"color\":\"white\"}},\"header\":{\"fill\":{\"color\":\"#C8D4E3\"},\"line\":{\"color\":\"white\"}},\"type\":\"table\"}]},\"layout\":{\"annotationdefaults\":{\"arrowcolor\":\"#2a3f5f\",\"arrowhead\":0,\"arrowwidth\":1},\"autotypenumbers\":\"strict\",\"coloraxis\":{\"colorbar\":{\"outlinewidth\":0,\"ticks\":\"\"}},\"colorscale\":{\"diverging\":[[0,\"#8e0152\"],[0.1,\"#c51b7d\"],[0.2,\"#de77ae\"],[0.3,\"#f1b6da\"],[0.4,\"#fde0ef\"],[0.5,\"#f7f7f7\"],[0.6,\"#e6f5d0\"],[0.7,\"#b8e186\"],[0.8,\"#7fbc41\"],[0.9,\"#4d9221\"],[1,\"#276419\"]],\"sequential\":[[0.0,\"#0d0887\"],[0.1111111111111111,\"#46039f\"],[0.2222222222222222,\"#7201a8\"],[0.3333333333333333,\"#9c179e\"],[0.4444444444444444,\"#bd3786\"],[0.5555555555555556,\"#d8576b\"],[0.6666666666666666,\"#ed7953\"],[0.7777777777777778,\"#fb9f3a\"],[0.8888888888888888,\"#fdca26\"],[1.0,\"#f0f921\"]],\"sequentialminus\":[[0.0,\"#0d0887\"],[0.1111111111111111,\"#46039f\"],[0.2222222222222222,\"#7201a8\"],[0.3333333333333333,\"#9c179e\"],[0.4444444444444444,\"#bd3786\"],[0.5555555555555556,\"#d8576b\"],[0.6666666666666666,\"#ed7953\"],[0.7777777777777778,\"#fb9f3a\"],[0.8888888888888888,\"#fdca26\"],[1.0,\"#f0f921\"]]},\"colorway\":[\"#636efa\",\"#EF553B\",\"#00cc96\",\"#ab63fa\",\"#FFA15A\",\"#19d3f3\",\"#FF6692\",\"#B6E880\",\"#FF97FF\",\"#FECB52\"],\"font\":{\"color\":\"#2a3f5f\"},\"geo\":{\"bgcolor\":\"white\",\"lakecolor\":\"white\",\"landcolor\":\"#E5ECF6\",\"showlakes\":true,\"showland\":true,\"subunitcolor\":\"white\"},\"hoverlabel\":{\"align\":\"left\"},\"hovermode\":\"closest\",\"mapbox\":{\"style\":\"light\"},\"paper_bgcolor\":\"white\",\"plot_bgcolor\":\"#E5ECF6\",\"polar\":{\"angularaxis\":{\"gridcolor\":\"white\",\"linecolor\":\"white\",\"ticks\":\"\"},\"bgcolor\":\"#E5ECF6\",\"radialaxis\":{\"gridcolor\":\"white\",\"linecolor\":\"white\",\"ticks\":\"\"}},\"scene\":{\"xaxis\":{\"backgroundcolor\":\"#E5ECF6\",\"gridcolor\":\"white\",\"gridwidth\":2,\"linecolor\":\"white\",\"showbackground\":true,\"ticks\":\"\",\"zerolinecolor\":\"white\"},\"yaxis\":{\"backgroundcolor\":\"#E5ECF6\",\"gridcolor\":\"white\",\"gridwidth\":2,\"linecolor\":\"white\",\"showbackground\":true,\"ticks\":\"\",\"zerolinecolor\":\"white\"},\"zaxis\":{\"backgroundcolor\":\"#E5ECF6\",\"gridcolor\":\"white\",\"gridwidth\":2,\"linecolor\":\"white\",\"showbackground\":true,\"ticks\":\"\",\"zerolinecolor\":\"white\"}},\"shapedefaults\":{\"line\":{\"color\":\"#2a3f5f\"}},\"ternary\":{\"aaxis\":{\"gridcolor\":\"white\",\"linecolor\":\"white\",\"ticks\":\"\"},\"baxis\":{\"gridcolor\":\"white\",\"linecolor\":\"white\",\"ticks\":\"\"},\"bgcolor\":\"#E5ECF6\",\"caxis\":{\"gridcolor\":\"white\",\"linecolor\":\"white\",\"ticks\":\"\"}},\"title\":{\"x\":0.05},\"xaxis\":{\"automargin\":true,\"gridcolor\":\"white\",\"linecolor\":\"white\",\"ticks\":\"\",\"title\":{\"standoff\":15},\"zerolinecolor\":\"white\",\"zerolinewidth\":2},\"yaxis\":{\"automargin\":true,\"gridcolor\":\"white\",\"linecolor\":\"white\",\"ticks\":\"\",\"title\":{\"standoff\":15},\"zerolinecolor\":\"white\",\"zerolinewidth\":2}}},\"title\":{\"text\":\"Training and Validation Accuracy Convergence per Epoch\"},\"xaxis\":{\"anchor\":\"y\",\"domain\":[0.0,1.0],\"title\":{\"text\":\"Epoch\"}},\"yaxis\":{\"anchor\":\"x\",\"domain\":[0.0,1.0],\"title\":{\"text\":\"Accuracy\"}}},                        {\"responsive\": true}                    ).then(function(){\n",
       "                            \n",
       "var gd = document.getElementById('eae189bb-fdfd-4d1f-9dd2-5fd23eca880a');\n",
       "var x = new MutationObserver(function (mutations, observer) {{\n",
       "        var display = window.getComputedStyle(gd).display;\n",
       "        if (!display || display === 'none') {{\n",
       "            console.log([gd, 'removed!']);\n",
       "            Plotly.purge(gd);\n",
       "            observer.disconnect();\n",
       "        }}\n",
       "}});\n",
       "\n",
       "// Listen for the removal of the full notebook cells\n",
       "var notebookContainer = gd.closest('#notebook-container');\n",
       "if (notebookContainer) {{\n",
       "    x.observe(notebookContainer, {childList: true});\n",
       "}}\n",
       "\n",
       "// Listen for the clearing of the current output cell\n",
       "var outputEl = gd.closest('.output');\n",
       "if (outputEl) {{\n",
       "    x.observe(outputEl, {childList: true});\n",
       "}}\n",
       "\n",
       "                        })                };                });            </script>        </div>"
      ]
     },
     "metadata": {},
     "output_type": "display_data"
    }
   ],
   "source": [
    "def evaluate_convergence(history):\n",
    "    epochs = []\n",
    "    for i in range(len(history.history['loss'])):\n",
    "        epochs.append(i)\n",
    "    \n",
    "    train_loss = history.history['loss']\n",
    "    val_loss = history.history['val_loss']\n",
    "    fig1 = make_subplots(rows=1, cols=1, specs=[[{'type':'xy'}]])\n",
    "    fig1.add_trace(go.Scatter(x=epochs, y=train_loss, mode=\"lines\", name=\"Train Loss\"), row=1, col=1)\n",
    "    fig1.add_trace(go.Scatter(x=epochs, y=val_loss, mode=\"lines\", name=\"Validation Loss\"), row=1, col=1)\n",
    "    fig1.update_layout(\n",
    "        title = \"Training and Validation Loss Convergence per Epoch\", \n",
    "        xaxis1 = dict(title_text = \"Epoch\"),\n",
    "        yaxis1 = dict(title_text = \"Loss\"),\n",
    "    )\n",
    "#     fig1.write_image()\n",
    "    fig1.show()\n",
    "    \n",
    "    train_acc = history.history['acc']\n",
    "    val_acc = history.history['val_acc']\n",
    "    fig2 = make_subplots(rows=1, cols=1, specs=[[{'type':'xy'}]])\n",
    "    fig2.add_trace(go.Scatter(x=epochs, y=train_acc, mode=\"lines\", name=\"Training Accuracy\"), row=1, col=1)\n",
    "    fig2.add_trace(go.Scatter(x=epochs, y=val_acc, mode=\"lines\", name=\"Validation Accuracy\"), row=1, col=1)\n",
    "    fig2.update_layout(\n",
    "        title = \"Training and Validation Accuracy Convergence per Epoch\", \n",
    "        xaxis1 = dict(title_text = \"Epoch\"),\n",
    "        yaxis1 = dict(title_text = \"Accuracy\"),\n",
    "    )\n",
    "#     fig2.write_image()\n",
    "    fig2.show()\n",
    "    \n",
    "evaluate_convergence(history)"
   ]
  },
  {
   "cell_type": "code",
   "execution_count": 13,
   "metadata": {},
   "outputs": [
    {
     "name": "stdout",
     "output_type": "stream",
     "text": [
      "Training set evaluation\n",
      "\tAccuracy: 0.6624293785310734\n",
      "\tPrecision: 0.7474860335195531\n",
      "\tRecall: 0.5767241379310345\n",
      "\tF1-score: 0.6510948905109489\n",
      "Validation set evaluation\n",
      "\tAccuracy: 0.5378486055776892\n",
      "\tPrecision: 0.5447154471544715\n",
      "\tRecall: 0.5275590551181102\n",
      "\tF1-score: 0.536\n",
      "Test set evaluation\n",
      "\tAccuracy: 0.49206349206349204\n",
      "\tPrecision: 0.5629139072847682\n",
      "\tRecall: 0.5782312925170068\n",
      "\tF1-score: 0.5704697986577181\n"
     ]
    }
   ],
   "source": [
    "def evaluate(model, x, y):\n",
    "    y = y.tolist()\n",
    "    y_pred = model.predict(x)\n",
    "    y_pred = y_pred.round()\n",
    "    y_pred = y_pred.tolist()\n",
    "    \n",
    "    for i in range(len(y)):\n",
    "        y[i] = int(y[i][0])\n",
    "        y_pred[i] = int(y_pred[i][0][0])\n",
    "    \n",
    "    acc = accuracy(y, y_pred)\n",
    "    print(f\"\\tAccuracy: {acc}\")\n",
    "    \n",
    "    prec = precision(y, y_pred)\n",
    "    print(f\"\\tPrecision: {prec}\")\n",
    "    \n",
    "    rec = recall(y, y_pred)\n",
    "    print(f\"\\tRecall: {rec}\")\n",
    "    \n",
    "    f = f1(y, y_pred)\n",
    "    print(f\"\\tF1-score: {f}\")\n",
    "    \n",
    "print(\"Training set evaluation\")\n",
    "evaluate(model, x_train, y_train)\n",
    "print(\"Validation set evaluation\")\n",
    "evaluate(model, x_val, y_val)\n",
    "print(\"Test set evaluation\")\n",
    "evaluate(model, x_test, y_test)"
   ]
  },
  {
   "cell_type": "code",
   "execution_count": 14,
   "metadata": {},
   "outputs": [
    {
     "data": {
      "image/png": "[encoded data removed]",
      "text/plain": [
       "<Figure size 432x288 with 2 Axes>"
      ]
     },
     "metadata": {
      "needs_background": "light"
     },
     "output_type": "display_data"
    },
    {
     "data": {
      "image/png": "[encoded data removed]",
      "text/plain": [
       "<Figure size 432x288 with 2 Axes>"
      ]
     },
     "metadata": {
      "needs_background": "light"
     },
     "output_type": "display_data"
    }
   ],
   "source": [
    "def confusion_matrix(model, x, y):\n",
    "    y_pred = model.predict(x, batch_size=1)\n",
    "\n",
    "    originals = []\n",
    "    predictions = []\n",
    "\n",
    "    for i in range(len(y_pred)):\n",
    "        originals.append(y[i][0])\n",
    "        predictions.append(round(float(y_pred[i][0])))\n",
    "        \n",
    "    df = pd.DataFrame()\n",
    "    df['Actual'] = originals\n",
    "    df['Predicted'] = predictions\n",
    "    \n",
    "    conf_matrix = pd.crosstab(df['Actual'], df['Predicted'])\n",
    "    sns.heatmap(conf_matrix, annot=True, cmap='Blues')\n",
    "    plt.title(\"Confusion Matrix of Actual versus Predicted Labels\")\n",
    "    plt.show()\n",
    "    \n",
    "# confusion_matrix(model, x_train, y_train)\n",
    "confusion_matrix(model, x_val, y_val)\n",
    "confusion_matrix(model, x_test, y_test)"
   ]
  },
  {
   "cell_type": "code",
   "execution_count": null,
   "metadata": {},
   "outputs": [],
   "source": []
  },
  {
   "cell_type": "code",
   "execution_count": 15,
   "metadata": {},
   "outputs": [
    {
     "data": {
      "application/vnd.plotly.v1+json": {
       "config": {
        "plotlyServerURL": "https://plot.ly"
       },
       "data": [
        {
         "close": [
          "2695.81",
          "2713.06",
          "2723.99",
          "2743.15",
          "2747.71",
          "2751.29",
          "2748.23",
          "2767.56",
          "2786.24",
          "2776.42",
          "2802.56",
          "2798.03",
          "2810.30",
          "2832.97",
          "2839.13",
          "2837.54",
          "2839.25",
          "2872.87",
          "2853.53",
          "2822.43",
          "2823.81",
          "2821.98",
          "2762.13",
          "2648.94",
          "2695.14",
          "2681.66",
          "2581.00",
          "2619.55",
          "2656.00",
          "2662.94",
          "2698.63",
          "2731.20",
          "2732.22",
          "2716.26",
          "2701.33",
          "2703.96",
          "2747.30",
          "2779.60",
          "2744.28",
          "2713.83",
          "2677.67",
          "2691.25",
          "2720.94",
          "2728.12",
          "2726.80",
          "2738.97",
          "2786.57",
          "2783.02",
          "2765.31",
          "2749.48",
          "2747.33",
          "2752.01",
          "2712.92",
          "2716.94",
          "2711.93",
          "2643.69",
          "2588.26",
          "2658.55",
          "2612.62",
          "2605.00",
          "2640.87",
          "2581.88",
          "2614.45",
          "2644.69",
          "2662.84",
          "2604.47",
          "2613.16",
          "2656.87",
          "2642.19",
          "2663.99",
          "2656.30",
          "2677.84",
          "2706.39",
          "2708.64",
          "2693.13",
          "2670.14",
          "2670.29",
          "2634.56",
          "2639.40",
          "2666.94",
          "2669.91",
          "2648.05",
          "2654.80",
          "2635.67",
          "2629.73",
          "2663.42",
          "2672.63",
          "2671.92",
          "2697.79",
          "2723.07",
          "2727.72",
          "2730.13",
          "2711.45",
          "2722.46",
          "2720.13",
          "2712.97",
          "2733.01",
          "2724.44",
          "2733.29",
          "2727.76",
          "2721.33",
          "2689.86",
          "2724.01",
          "2705.27",
          "2734.62",
          "2746.87",
          "2748.80",
          "2772.35",
          "2770.37",
          "2779.03",
          "2782.00",
          "2786.85",
          "2775.63",
          "2782.49",
          "2779.66",
          "2773.75",
          "2762.59",
          "2767.32",
          "2749.76",
          "2754.88",
          "2717.07",
          "2723.06",
          "2699.63",
          "2716.31",
          "2718.37",
          "2726.71",
          "2713.22",
          "2736.61",
          "2759.82",
          "2784.17",
          "2793.84",
          "2774.02",
          "2798.29",
          "2801.31",
          "2798.43",
          "2809.55",
          "2815.62",
          "2804.49",
          "2801.83",
          "2806.98",
          "2820.40",
          "2846.07",
          "2837.44",
          "2818.82",
          "2802.60",
          "2816.29",
          "2813.36",
          "2827.22",
          "2840.35",
          "2850.40",
          "2858.45",
          "2857.70",
          "2853.58",
          "2833.28",
          "2821.93",
          "2839.96",
          "2818.37",
          "2840.69",
          "2850.13",
          "2857.05",
          "2862.96",
          "2861.82",
          "2856.98",
          "2874.69",
          "2896.74",
          "2897.52",
          "2914.04",
          "2901.13",
          "2901.52",
          "2896.72",
          "2888.60",
          "2878.05",
          "2871.68",
          "2877.13",
          "2887.89",
          "2888.92",
          "2904.18",
          "2904.98",
          "2888.80",
          "2904.31",
          "2907.95",
          "2930.75",
          "2929.67",
          "2919.37",
          "2915.56",
          "2905.97",
          "2914.00",
          "2913.98",
          "2924.59",
          "2923.43",
          "2925.51",
          "2901.61",
          "2885.57",
          "2884.43",
          "2880.34",
          "2785.68",
          "2728.37",
          "2767.13",
          "2750.79",
          "2809.92",
          "2809.21",
          "2768.78",
          "2767.78",
          "2755.88",
          "2740.69",
          "2656.10",
          "2705.57",
          "2658.69",
          "2641.25",
          "2682.63",
          "2711.74",
          "2740.37",
          "2723.06",
          "2738.31",
          "2755.45",
          "2813.89",
          "2806.83",
          "2781.01",
          "2726.22",
          "2722.18",
          "2701.58",
          "2730.20",
          "2736.27",
          "2690.73",
          "2641.89",
          "2649.93",
          "2632.56",
          "2673.45",
          "2682.17",
          "2743.79",
          "2737.76",
          "2760.17",
          "2790.37",
          "2700.06",
          "2695.95",
          "2633.08",
          "2637.72",
          "2636.78",
          "2651.07",
          "2650.54",
          "2599.95",
          "2545.94",
          "2546.16",
          "2506.96",
          "2467.42",
          "2416.62",
          "2351.10",
          "2467.70",
          "2488.83",
          "2485.74",
          "2506.85"
         ],
         "high": [
          "2695.89",
          "2714.37",
          "2729.29",
          "2743.45",
          "2748.51",
          "2759.14",
          "2750.80",
          "2767.56",
          "2787.85",
          "2807.54",
          "2807.04",
          "2805.83",
          "2810.33",
          "2833.03",
          "2842.24",
          "2852.97",
          "2848.56",
          "2872.87",
          "2870.62",
          "2837.75",
          "2839.26",
          "2835.96",
          "2808.92",
          "2763.39",
          "2701.04",
          "2727.67",
          "2685.27",
          "2638.67",
          "2672.61",
          "2668.84",
          "2702.10",
          "2731.51",
          "2754.42",
          "2737.60",
          "2747.75",
          "2731.26",
          "2747.76",
          "2780.64",
          "2789.15",
          "2761.52",
          "2730.89",
          "2696.25",
          "2728.09",
          "2732.08",
          "2730.60",
          "2740.45",
          "2786.57",
          "2796.98",
          "2801.90",
          "2777.11",
          "2763.03",
          "2761.85",
          "2741.38",
          "2724.22",
          "2739.14",
          "2695.68",
          "2657.67",
          "2661.36",
          "2674.78",
          "2632.65",
          "2659.07",
          "2638.30",
          "2619.14",
          "2649.86",
          "2672.08",
          "2656.88",
          "2653.55",
          "2665.45",
          "2661.43",
          "2674.72",
          "2680.26",
          "2686.49",
          "2713.34",
          "2717.49",
          "2702.84",
          "2693.94",
          "2682.86",
          "2683.55",
          "2645.30",
          "2676.48",
          "2677.35",
          "2682.92",
          "2655.27",
          "2660.87",
          "2637.14",
          "2670.93",
          "2683.35",
          "2676.34",
          "2701.27",
          "2726.11",
          "2732.86",
          "2742.10",
          "2718.59",
          "2727.76",
          "2731.96",
          "2719.50",
          "2739.19",
          "2742.24",
          "2733.33",
          "2731.97",
          "2727.36",
          "2710.67",
          "2729.34",
          "2722.50",
          "2736.93",
          "2749.16",
          "2752.61",
          "2772.39",
          "2779.90",
          "2779.39",
          "2790.21",
          "2789.80",
          "2791.47",
          "2789.06",
          "2782.81",
          "2774.99",
          "2765.05",
          "2774.86",
          "2769.28",
          "2764.17",
          "2742.94",
          "2732.91",
          "2746.09",
          "2724.34",
          "2743.26",
          "2727.26",
          "2736.58",
          "2737.83",
          "2764.41",
          "2784.65",
          "2795.58",
          "2785.91",
          "2799.22",
          "2804.53",
          "2803.71",
          "2814.19",
          "2816.76",
          "2812.05",
          "2809.70",
          "2808.61",
          "2829.99",
          "2848.03",
          "2845.57",
          "2843.17",
          "2821.74",
          "2824.46",
          "2825.83",
          "2829.91",
          "2840.38",
          "2853.29",
          "2863.43",
          "2862.44",
          "2862.48",
          "2842.20",
          "2843.40",
          "2843.11",
          "2827.95",
          "2850.49",
          "2855.63",
          "2859.76",
          "2873.23",
          "2867.54",
          "2868.78",
          "2876.16",
          "2898.25",
          "2903.77",
          "2916.50",
          "2912.46",
          "2906.32",
          "2900.18",
          "2894.21",
          "2892.05",
          "2883.81",
          "2886.93",
          "2892.52",
          "2894.65",
          "2906.76",
          "2908.30",
          "2904.65",
          "2911.17",
          "2912.36",
          "2934.80",
          "2940.91",
          "2923.79",
          "2923.95",
          "2931.15",
          "2927.22",
          "2920.53",
          "2937.06",
          "2931.42",
          "2939.86",
          "2919.78",
          "2909.64",
          "2889.45",
          "2894.83",
          "2874.02",
          "2795.14",
          "2775.77",
          "2775.99",
          "2813.46",
          "2816.94",
          "2806.04",
          "2797.77",
          "2778.94",
          "2753.59",
          "2742.59",
          "2722.70",
          "2692.38",
          "2706.85",
          "2685.43",
          "2736.69",
          "2741.67",
          "2756.55",
          "2744.27",
          "2756.82",
          "2815.15",
          "2814.75",
          "2794.10",
          "2775.99",
          "2754.60",
          "2746.80",
          "2735.38",
          "2746.75",
          "2733.16",
          "2669.44",
          "2670.73",
          "2647.55",
          "2674.35",
          "2682.53",
          "2744.00",
          "2753.75",
          "2760.88",
          "2800.18",
          "2785.93",
          "2696.15",
          "2708.54",
          "2647.51",
          "2674.35",
          "2685.44",
          "2670.19",
          "2635.07",
          "2601.13",
          "2573.99",
          "2585.29",
          "2509.63",
          "2504.41",
          "2410.34",
          "2467.76",
          "2489.10",
          "2520.27",
          "2509.24"
         ],
         "low": [
          "2682.36",
          "2697.77",
          "2719.07",
          "2727.92",
          "2737.60",
          "2747.86",
          "2736.06",
          "2752.78",
          "2769.64",
          "2768.64",
          "2778.38",
          "2792.56",
          "2798.08",
          "2808.12",
          "2830.59",
          "2824.81",
          "2830.94",
          "2846.18",
          "2851.48",
          "2818.27",
          "2813.04",
          "2812.70",
          "2759.97",
          "2638.17",
          "2593.07",
          "2681.33",
          "2580.56",
          "2532.69",
          "2622.45",
          "2637.08",
          "2648.87",
          "2689.82",
          "2725.11",
          "2706.76",
          "2701.29",
          "2697.77",
          "2713.74",
          "2753.78",
          "2744.22",
          "2713.54",
          "2659.65",
          "2647.32",
          "2675.75",
          "2711.26",
          "2701.74",
          "2722.65",
          "2751.54",
          "2779.26",
          "2758.68",
          "2744.38",
          "2741.47",
          "2749.97",
          "2694.59",
          "2710.05",
          "2709.79",
          "2641.59",
          "2585.89",
          "2601.81",
          "2596.12",
          "2593.06",
          "2609.72",
          "2553.80",
          "2575.49",
          "2573.61",
          "2649.58",
          "2586.27",
          "2610.79",
          "2635.78",
          "2639.25",
          "2653.83",
          "2645.05",
          "2665.16",
          "2692.05",
          "2703.63",
          "2681.90",
          "2660.61",
          "2657.99",
          "2617.32",
          "2612.67",
          "2647.16",
          "2659.01",
          "2648.04",
          "2625.41",
          "2631.70",
          "2594.62",
          "2615.32",
          "2664.70",
          "2655.20",
          "2674.14",
          "2704.54",
          "2717.45",
          "2725.47",
          "2701.91",
          "2712.17",
          "2711.36",
          "2709.18",
          "2725.70",
          "2721.88",
          "2709.54",
          "2707.38",
          "2714.99",
          "2676.81",
          "2702.43",
          "2700.68",
          "2718.70",
          "2740.54",
          "2739.51",
          "2748.46",
          "2760.16",
          "2763.59",
          "2780.17",
          "2778.78",
          "2774.65",
          "2776.52",
          "2761.73",
          "2757.12",
          "2743.19",
          "2763.91",
          "2744.39",
          "2752.68",
          "2698.67",
          "2715.60",
          "2699.38",
          "2691.99",
          "2718.03",
          "2698.95",
          "2711.16",
          "2716.02",
          "2733.52",
          "2768.51",
          "2786.24",
          "2770.77",
          "2781.53",
          "2791.69",
          "2793.39",
          "2789.24",
          "2805.89",
          "2799.77",
          "2800.01",
          "2795.14",
          "2811.12",
          "2817.73",
          "2835.26",
          "2808.34",
          "2798.11",
          "2808.06",
          "2805.85",
          "2796.34",
          "2827.37",
          "2835.98",
          "2855.92",
          "2853.09",
          "2851.98",
          "2825.81",
          "2819.88",
          "2826.58",
          "2802.49",
          "2831.44",
          "2833.73",
          "2850.62",
          "2861.32",
          "2856.05",
          "2854.03",
          "2862.35",
          "2884.69",
          "2893.50",
          "2898.40",
          "2895.22",
          "2891.73",
          "2885.13",
          "2876.92",
          "2867.29",
          "2864.12",
          "2875.94",
          "2866.78",
          "2879.20",
          "2896.39",
          "2895.77",
          "2886.16",
          "2890.43",
          "2903.82",
          "2919.73",
          "2927.11",
          "2912.63",
          "2913.70",
          "2903.28",
          "2909.27",
          "2907.50",
          "2917.91",
          "2919.37",
          "2921.36",
          "2883.92",
          "2869.29",
          "2862.08",
          "2874.27",
          "2784.86",
          "2710.51",
          "2729.44",
          "2749.03",
          "2766.91",
          "2781.81",
          "2755.18",
          "2760.27",
          "2749.22",
          "2691.43",
          "2651.89",
          "2667.84",
          "2628.16",
          "2603.54",
          "2635.34",
          "2705.60",
          "2708.85",
          "2700.44",
          "2717.94",
          "2737.08",
          "2774.13",
          "2794.99",
          "2764.24",
          "2722.00",
          "2714.98",
          "2685.75",
          "2670.75",
          "2712.16",
          "2681.09",
          "2631.52",
          "2649.82",
          "2631.09",
          "2649.97",
          "2655.89",
          "2684.38",
          "2722.94",
          "2732.76",
          "2773.38",
          "2697.18",
          "2621.53",
          "2623.14",
          "2583.23",
          "2621.30",
          "2650.26",
          "2637.27",
          "2593.84",
          "2530.54",
          "2528.71",
          "2488.96",
          "2441.18",
          "2408.55",
          "2351.10",
          "2346.58",
          "2397.94",
          "2472.89",
          "2482.82"
         ],
         "name": "Price",
         "open": [
          "2683.73",
          "2697.85",
          "2719.31",
          "2731.33",
          "2742.67",
          "2751.15",
          "2745.55",
          "2752.97",
          "2770.18",
          "2798.96",
          "2784.99",
          "2802.40",
          "2802.60",
          "2809.16",
          "2835.05",
          "2845.42",
          "2846.24",
          "2847.48",
          "2867.23",
          "2832.74",
          "2832.41",
          "2816.45",
          "2808.92",
          "2741.06",
          "2614.78",
          "2690.95",
          "2685.01",
          "2601.78",
          "2636.75",
          "2646.27",
          "2651.21",
          "2713.46",
          "2727.14",
          "2722.99",
          "2720.53",
          "2710.42",
          "2715.80",
          "2757.37",
          "2780.45",
          "2753.78",
          "2715.22",
          "2658.89",
          "2681.06",
          "2730.18",
          "2710.18",
          "2732.75",
          "2752.91",
          "2790.54",
          "2792.31",
          "2774.06",
          "2754.27",
          "2750.57",
          "2741.38",
          "2715.05",
          "2714.99",
          "2691.36",
          "2646.71",
          "2619.35",
          "2667.57",
          "2611.30",
          "2614.41",
          "2633.45",
          "2592.17",
          "2584.04",
          "2657.36",
          "2645.82",
          "2617.18",
          "2638.41",
          "2643.89",
          "2653.83",
          "2676.90",
          "2670.10",
          "2692.74",
          "2710.11",
          "2701.16",
          "2692.56",
          "2675.40",
          "2680.80",
          "2634.92",
          "2651.65",
          "2675.47",
          "2675.05",
          "2643.64",
          "2654.24",
          "2628.08",
          "2621.45",
          "2669.36",
          "2670.26",
          "2678.12",
          "2705.02",
          "2722.70",
          "2733.37",
          "2718.59",
          "2712.62",
          "2719.71",
          "2717.35",
          "2725.95",
          "2738.34",
          "2713.98",
          "2730.94",
          "2723.60",
          "2705.11",
          "2702.43",
          "2720.98",
          "2718.70",
          "2741.67",
          "2748.46",
          "2753.25",
          "2774.84",
          "2765.84",
          "2780.18",
          "2785.60",
          "2787.94",
          "2783.21",
          "2777.78",
          "2765.79",
          "2752.01",
          "2769.73",
          "2769.28",
          "2760.79",
          "2742.94",
          "2722.12",
          "2728.45",
          "2698.69",
          "2727.13",
          "2704.95",
          "2733.27",
          "2724.19",
          "2737.68",
          "2768.51",
          "2788.56",
          "2779.82",
          "2783.14",
          "2796.93",
          "2801.43",
          "2789.34",
          "2811.35",
          "2809.37",
          "2804.55",
          "2799.17",
          "2820.68",
          "2817.73",
          "2835.49",
          "2842.35",
          "2819.00",
          "2809.73",
          "2821.17",
          "2800.48",
          "2829.62",
          "2840.29",
          "2855.92",
          "2856.79",
          "2857.19",
          "2839.64",
          "2835.46",
          "2827.88",
          "2827.95",
          "2831.44",
          "2838.32",
          "2853.93",
          "2861.51",
          "2860.99",
          "2860.29",
          "2862.35",
          "2884.69",
          "2901.45",
          "2900.62",
          "2908.94",
          "2898.37",
          "2896.96",
          "2891.59",
          "2888.64",
          "2868.26",
          "2881.39",
          "2871.57",
          "2888.29",
          "2896.85",
          "2906.38",
          "2903.83",
          "2890.74",
          "2906.60",
          "2919.73",
          "2936.76",
          "2921.83",
          "2921.75",
          "2916.98",
          "2911.65",
          "2910.03",
          "2926.29",
          "2923.80",
          "2931.69",
          "2919.35",
          "2902.54",
          "2877.53",
          "2882.51",
          "2873.90",
          "2776.87",
          "2770.54",
          "2763.83",
          "2767.05",
          "2811.67",
          "2802.00",
          "2775.66",
          "2773.94",
          "2721.03",
          "2737.87",
          "2674.88",
          "2667.86",
          "2682.65",
          "2640.68",
          "2705.60",
          "2717.58",
          "2745.45",
          "2726.37",
          "2738.40",
          "2774.13",
          "2806.38",
          "2794.10",
          "2773.93",
          "2730.05",
          "2737.90",
          "2693.52",
          "2718.54",
          "2730.74",
          "2654.60",
          "2657.74",
          "2633.36",
          "2649.97",
          "2663.75",
          "2691.45",
          "2736.97",
          "2737.76",
          "2790.50",
          "2782.43",
          "2663.51",
          "2691.26",
          "2630.86",
          "2664.44",
          "2658.23",
          "2658.70",
          "2629.68",
          "2590.75",
          "2559.90",
          "2547.05",
          "2496.77",
          "2465.38",
          "2400.56",
          "2363.12",
          "2442.50",
          "2498.77",
          "2498.94"
         ],
         "type": "candlestick",
         "x": [
          "2018-01-02T00:00:00",
          "2018-01-03T00:00:00",
          "2018-01-04T00:00:00",
          "2018-01-05T00:00:00",
          "2018-01-08T00:00:00",
          "2018-01-09T00:00:00",
          "2018-01-10T00:00:00",
          "2018-01-11T00:00:00",
          "2018-01-12T00:00:00",
          "2018-01-16T00:00:00",
          "2018-01-17T00:00:00",
          "2018-01-18T00:00:00",
          "2018-01-19T00:00:00",
          "2018-01-22T00:00:00",
          "2018-01-23T00:00:00",
          "2018-01-24T00:00:00",
          "2018-01-25T00:00:00",
          "2018-01-26T00:00:00",
          "2018-01-29T00:00:00",
          "2018-01-30T00:00:00",
          "2018-01-31T00:00:00",
          "2018-02-01T00:00:00",
          "2018-02-02T00:00:00",
          "2018-02-05T00:00:00",
          "2018-02-06T00:00:00",
          "2018-02-07T00:00:00",
          "2018-02-08T00:00:00",
          "2018-02-09T00:00:00",
          "2018-02-12T00:00:00",
          "2018-02-13T00:00:00",
          "2018-02-14T00:00:00",
          "2018-02-15T00:00:00",
          "2018-02-16T00:00:00",
          "2018-02-20T00:00:00",
          "2018-02-21T00:00:00",
          "2018-02-22T00:00:00",
          "2018-02-23T00:00:00",
          "2018-02-26T00:00:00",
          "2018-02-27T00:00:00",
          "2018-02-28T00:00:00",
          "2018-03-01T00:00:00",
          "2018-03-02T00:00:00",
          "2018-03-05T00:00:00",
          "2018-03-06T00:00:00",
          "2018-03-07T00:00:00",
          "2018-03-08T00:00:00",
          "2018-03-09T00:00:00",
          "2018-03-12T00:00:00",
          "2018-03-13T00:00:00",
          "2018-03-14T00:00:00",
          "2018-03-15T00:00:00",
          "2018-03-16T00:00:00",
          "2018-03-19T00:00:00",
          "2018-03-20T00:00:00",
          "2018-03-21T00:00:00",
          "2018-03-22T00:00:00",
          "2018-03-23T00:00:00",
          "2018-03-26T00:00:00",
          "2018-03-27T00:00:00",
          "2018-03-28T00:00:00",
          "2018-03-29T00:00:00",
          "2018-04-02T00:00:00",
          "2018-04-03T00:00:00",
          "2018-04-04T00:00:00",
          "2018-04-05T00:00:00",
          "2018-04-06T00:00:00",
          "2018-04-09T00:00:00",
          "2018-04-10T00:00:00",
          "2018-04-11T00:00:00",
          "2018-04-12T00:00:00",
          "2018-04-13T00:00:00",
          "2018-04-16T00:00:00",
          "2018-04-17T00:00:00",
          "2018-04-18T00:00:00",
          "2018-04-19T00:00:00",
          "2018-04-20T00:00:00",
          "2018-04-23T00:00:00",
          "2018-04-24T00:00:00",
          "2018-04-25T00:00:00",
          "2018-04-26T00:00:00",
          "2018-04-27T00:00:00",
          "2018-04-30T00:00:00",
          "2018-05-01T00:00:00",
          "2018-05-02T00:00:00",
          "2018-05-03T00:00:00",
          "2018-05-04T00:00:00",
          "2018-05-07T00:00:00",
          "2018-05-08T00:00:00",
          "2018-05-09T00:00:00",
          "2018-05-10T00:00:00",
          "2018-05-11T00:00:00",
          "2018-05-14T00:00:00",
          "2018-05-15T00:00:00",
          "2018-05-16T00:00:00",
          "2018-05-17T00:00:00",
          "2018-05-18T00:00:00",
          "2018-05-21T00:00:00",
          "2018-05-22T00:00:00",
          "2018-05-23T00:00:00",
          "2018-05-24T00:00:00",
          "2018-05-25T00:00:00",
          "2018-05-29T00:00:00",
          "2018-05-30T00:00:00",
          "2018-05-31T00:00:00",
          "2018-06-01T00:00:00",
          "2018-06-04T00:00:00",
          "2018-06-05T00:00:00",
          "2018-06-06T00:00:00",
          "2018-06-07T00:00:00",
          "2018-06-08T00:00:00",
          "2018-06-11T00:00:00",
          "2018-06-12T00:00:00",
          "2018-06-13T00:00:00",
          "2018-06-14T00:00:00",
          "2018-06-15T00:00:00",
          "2018-06-18T00:00:00",
          "2018-06-19T00:00:00",
          "2018-06-20T00:00:00",
          "2018-06-21T00:00:00",
          "2018-06-22T00:00:00",
          "2018-06-25T00:00:00",
          "2018-06-26T00:00:00",
          "2018-06-27T00:00:00",
          "2018-06-28T00:00:00",
          "2018-06-29T00:00:00",
          "2018-07-02T00:00:00",
          "2018-07-03T00:00:00",
          "2018-07-05T00:00:00",
          "2018-07-06T00:00:00",
          "2018-07-09T00:00:00",
          "2018-07-10T00:00:00",
          "2018-07-11T00:00:00",
          "2018-07-12T00:00:00",
          "2018-07-13T00:00:00",
          "2018-07-16T00:00:00",
          "2018-07-17T00:00:00",
          "2018-07-18T00:00:00",
          "2018-07-19T00:00:00",
          "2018-07-20T00:00:00",
          "2018-07-23T00:00:00",
          "2018-07-24T00:00:00",
          "2018-07-25T00:00:00",
          "2018-07-26T00:00:00",
          "2018-07-27T00:00:00",
          "2018-07-30T00:00:00",
          "2018-07-31T00:00:00",
          "2018-08-01T00:00:00",
          "2018-08-02T00:00:00",
          "2018-08-03T00:00:00",
          "2018-08-06T00:00:00",
          "2018-08-07T00:00:00",
          "2018-08-08T00:00:00",
          "2018-08-09T00:00:00",
          "2018-08-10T00:00:00",
          "2018-08-13T00:00:00",
          "2018-08-14T00:00:00",
          "2018-08-15T00:00:00",
          "2018-08-16T00:00:00",
          "2018-08-17T00:00:00",
          "2018-08-20T00:00:00",
          "2018-08-21T00:00:00",
          "2018-08-22T00:00:00",
          "2018-08-23T00:00:00",
          "2018-08-24T00:00:00",
          "2018-08-27T00:00:00",
          "2018-08-28T00:00:00",
          "2018-08-29T00:00:00",
          "2018-08-30T00:00:00",
          "2018-08-31T00:00:00",
          "2018-09-04T00:00:00",
          "2018-09-05T00:00:00",
          "2018-09-06T00:00:00",
          "2018-09-07T00:00:00",
          "2018-09-10T00:00:00",
          "2018-09-11T00:00:00",
          "2018-09-12T00:00:00",
          "2018-09-13T00:00:00",
          "2018-09-14T00:00:00",
          "2018-09-17T00:00:00",
          "2018-09-18T00:00:00",
          "2018-09-19T00:00:00",
          "2018-09-20T00:00:00",
          "2018-09-21T00:00:00",
          "2018-09-24T00:00:00",
          "2018-09-25T00:00:00",
          "2018-09-26T00:00:00",
          "2018-09-27T00:00:00",
          "2018-09-28T00:00:00",
          "2018-10-01T00:00:00",
          "2018-10-02T00:00:00",
          "2018-10-03T00:00:00",
          "2018-10-04T00:00:00",
          "2018-10-05T00:00:00",
          "2018-10-08T00:00:00",
          "2018-10-09T00:00:00",
          "2018-10-10T00:00:00",
          "2018-10-11T00:00:00",
          "2018-10-12T00:00:00",
          "2018-10-15T00:00:00",
          "2018-10-16T00:00:00",
          "2018-10-17T00:00:00",
          "2018-10-18T00:00:00",
          "2018-10-19T00:00:00",
          "2018-10-22T00:00:00",
          "2018-10-23T00:00:00",
          "2018-10-24T00:00:00",
          "2018-10-25T00:00:00",
          "2018-10-26T00:00:00",
          "2018-10-29T00:00:00",
          "2018-10-30T00:00:00",
          "2018-10-31T00:00:00",
          "2018-11-01T00:00:00",
          "2018-11-02T00:00:00",
          "2018-11-05T00:00:00",
          "2018-11-06T00:00:00",
          "2018-11-07T00:00:00",
          "2018-11-08T00:00:00",
          "2018-11-09T00:00:00",
          "2018-11-12T00:00:00",
          "2018-11-13T00:00:00",
          "2018-11-14T00:00:00",
          "2018-11-15T00:00:00",
          "2018-11-16T00:00:00",
          "2018-11-19T00:00:00",
          "2018-11-20T00:00:00",
          "2018-11-21T00:00:00",
          "2018-11-23T00:00:00",
          "2018-11-26T00:00:00",
          "2018-11-27T00:00:00",
          "2018-11-28T00:00:00",
          "2018-11-29T00:00:00",
          "2018-11-30T00:00:00",
          "2018-12-03T00:00:00",
          "2018-12-04T00:00:00",
          "2018-12-06T00:00:00",
          "2018-12-07T00:00:00",
          "2018-12-10T00:00:00",
          "2018-12-11T00:00:00",
          "2018-12-12T00:00:00",
          "2018-12-13T00:00:00",
          "2018-12-14T00:00:00",
          "2018-12-17T00:00:00",
          "2018-12-18T00:00:00",
          "2018-12-19T00:00:00",
          "2018-12-20T00:00:00",
          "2018-12-21T00:00:00",
          "2018-12-24T00:00:00",
          "2018-12-26T00:00:00",
          "2018-12-27T00:00:00",
          "2018-12-28T00:00:00",
          "2018-12-31T00:00:00"
         ]
        },
        {
         "fill": "toself",
         "line": {
          "color": "green"
         },
         "mode": "lines",
         "name": "Correct Direction",
         "type": "scatter",
         "x": [
          "2018-01-01T21:36:00",
          "2018-01-02T00:00:00",
          "2018-01-02T02:24:00",
          "2018-01-01T21:36:00"
         ],
         "y": [
          2763.118125,
          2830.34625,
          2763.118125,
          2763.118125
         ]
        },
        {
         "fill": "toself",
         "line": {
          "color": "red"
         },
         "mode": "lines",
         "name": "Incorrect Direction",
         "type": "scatter",
         "x": [
          "2018-01-02T21:36:00",
          "2018-01-03T00:00:00",
          "2018-01-03T02:24:00",
          "2018-01-02T21:36:00"
         ],
         "y": [
          2630.541875,
          2563.31375,
          2630.541875,
          2630.541875
         ]
        },
        {
         "fill": "toself",
         "line": {
          "color": "red"
         },
         "mode": "lines",
         "showlegend": false,
         "type": "scatter",
         "x": [
          "2018-01-03T21:36:00",
          "2018-01-04T00:00:00",
          "2018-01-04T02:24:00",
          "2018-01-03T21:36:00"
         ],
         "y": [
          2651.841875,
          2584.61375,
          2651.841875,
          2651.841875
         ]
        },
        {
         "fill": "toself",
         "line": {
          "color": "green"
         },
         "mode": "lines",
         "showlegend": false,
         "type": "scatter",
         "x": [
          "2018-01-04T21:36:00",
          "2018-01-05T00:00:00",
          "2018-01-05T02:24:00",
          "2018-01-04T21:36:00"
         ],
         "y": [
          2810.678125,
          2877.90625,
          2810.678125,
          2810.678125
         ]
        },
        {
         "fill": "toself",
         "line": {
          "color": "red"
         },
         "mode": "lines",
         "showlegend": false,
         "type": "scatter",
         "x": [
          "2018-01-07T21:36:00",
          "2018-01-08T00:00:00",
          "2018-01-08T02:24:00",
          "2018-01-07T21:36:00"
         ],
         "y": [
          2670.371875,
          2603.1437499999997,
          2670.371875,
          2670.371875
         ]
        },
        {
         "fill": "toself",
         "line": {
          "color": "red"
         },
         "mode": "lines",
         "showlegend": false,
         "type": "scatter",
         "x": [
          "2018-01-08T21:36:00",
          "2018-01-09T00:00:00",
          "2018-01-09T02:24:00",
          "2018-01-08T21:36:00"
         ],
         "y": [
          2680.631875,
          2613.40375,
          2680.631875,
          2680.631875
         ]
        },
        {
         "fill": "toself",
         "line": {
          "color": "green"
         },
         "mode": "lines",
         "showlegend": false,
         "type": "scatter",
         "x": [
          "2018-01-09T21:36:00",
          "2018-01-10T00:00:00",
          "2018-01-10T02:24:00",
          "2018-01-09T21:36:00"
         ],
         "y": [
          2818.0281250000003,
          2885.2562500000004,
          2818.0281250000003,
          2818.0281250000003
         ]
        },
        {
         "fill": "toself",
         "line": {
          "color": "green"
         },
         "mode": "lines",
         "showlegend": false,
         "type": "scatter",
         "x": [
          "2018-01-10T21:36:00",
          "2018-01-11T00:00:00",
          "2018-01-11T02:24:00",
          "2018-01-10T21:36:00"
         ],
         "y": [
          2834.788125,
          2902.01625,
          2834.788125,
          2834.788125
         ]
        },
        {
         "fill": "toself",
         "line": {
          "color": "red"
         },
         "mode": "lines",
         "showlegend": false,
         "type": "scatter",
         "x": [
          "2018-01-11T21:36:00",
          "2018-01-12T00:00:00",
          "2018-01-12T02:24:00",
          "2018-01-11T21:36:00"
         ],
         "y": [
          2702.411875,
          2635.1837499999997,
          2702.411875,
          2702.411875
         ]
        },
        {
         "fill": "toself",
         "line": {
          "color": "green"
         },
         "mode": "lines",
         "showlegend": false,
         "type": "scatter",
         "x": [
          "2018-01-15T21:36:00",
          "2018-01-16T00:00:00",
          "2018-01-16T02:24:00",
          "2018-01-15T21:36:00"
         ],
         "y": [
          2701.411875,
          2634.1837499999997,
          2701.411875,
          2701.411875
         ]
        },
        {
         "fill": "toself",
         "line": {
          "color": "green"
         },
         "mode": "lines",
         "showlegend": false,
         "type": "scatter",
         "x": [
          "2018-01-16T21:36:00",
          "2018-01-17T00:00:00",
          "2018-01-17T02:24:00",
          "2018-01-16T21:36:00"
         ],
         "y": [
          2874.268125,
          2941.49625,
          2874.268125,
          2874.268125
         ]
        },
        {
         "fill": "toself",
         "line": {
          "color": "red"
         },
         "mode": "lines",
         "showlegend": false,
         "type": "scatter",
         "x": [
          "2018-01-17T21:36:00",
          "2018-01-18T00:00:00",
          "2018-01-18T02:24:00",
          "2018-01-17T21:36:00"
         ],
         "y": [
          2873.058125,
          2940.28625,
          2873.058125,
          2873.058125
         ]
        },
        {
         "fill": "toself",
         "line": {
          "color": "green"
         },
         "mode": "lines",
         "showlegend": false,
         "type": "scatter",
         "x": [
          "2018-01-18T21:36:00",
          "2018-01-19T00:00:00",
          "2018-01-19T02:24:00",
          "2018-01-18T21:36:00"
         ],
         "y": [
          2877.558125,
          2944.78625,
          2877.558125,
          2877.558125
         ]
        },
        {
         "fill": "toself",
         "line": {
          "color": "green"
         },
         "mode": "lines",
         "showlegend": false,
         "type": "scatter",
         "x": [
          "2018-01-21T21:36:00",
          "2018-01-22T00:00:00",
          "2018-01-22T02:24:00",
          "2018-01-21T21:36:00"
         ],
         "y": [
          2900.2581250000003,
          2967.4862500000004,
          2900.2581250000003,
          2900.2581250000003
         ]
        },
        {
         "fill": "toself",
         "line": {
          "color": "red"
         },
         "mode": "lines",
         "showlegend": false,
         "type": "scatter",
         "x": [
          "2018-01-22T21:36:00",
          "2018-01-23T00:00:00",
          "2018-01-23T02:24:00",
          "2018-01-22T21:36:00"
         ],
         "y": [
          2763.361875,
          2696.13375,
          2763.361875,
          2763.361875
         ]
        },
        {
         "fill": "toself",
         "line": {
          "color": "green"
         },
         "mode": "lines",
         "showlegend": false,
         "type": "scatter",
         "x": [
          "2018-01-23T21:36:00",
          "2018-01-24T00:00:00",
          "2018-01-24T02:24:00",
          "2018-01-23T21:36:00"
         ],
         "y": [
          2757.581875,
          2690.3537499999998,
          2757.581875,
          2757.581875
         ]
        },
        {
         "fill": "toself",
         "line": {
          "color": "green"
         },
         "mode": "lines",
         "showlegend": false,
         "type": "scatter",
         "x": [
          "2018-01-24T21:36:00",
          "2018-01-25T00:00:00",
          "2018-01-25T02:24:00",
          "2018-01-24T21:36:00"
         ],
         "y": [
          2763.711875,
          2696.48375,
          2763.711875,
          2763.711875
         ]
        },
        {
         "fill": "toself",
         "line": {
          "color": "green"
         },
         "mode": "lines",
         "showlegend": false,
         "type": "scatter",
         "x": [
          "2018-01-25T21:36:00",
          "2018-01-26T00:00:00",
          "2018-01-26T02:24:00",
          "2018-01-25T21:36:00"
         ],
         "y": [
          2940.098125,
          3007.32625,
          2940.098125,
          2940.098125
         ]
        },
        {
         "fill": "toself",
         "line": {
          "color": "green"
         },
         "mode": "lines",
         "showlegend": false,
         "type": "scatter",
         "x": [
          "2018-01-28T21:36:00",
          "2018-01-29T00:00:00",
          "2018-01-29T02:24:00",
          "2018-01-28T21:36:00"
         ],
         "y": [
          2784.251875,
          2717.02375,
          2784.251875,
          2784.251875
         ]
        },
        {
         "fill": "toself",
         "line": {
          "color": "red"
         },
         "mode": "lines",
         "showlegend": false,
         "type": "scatter",
         "x": [
          "2018-01-29T21:36:00",
          "2018-01-30T00:00:00",
          "2018-01-30T02:24:00",
          "2018-01-29T21:36:00"
         ],
         "y": [
          2904.978125,
          2972.20625,
          2904.978125,
          2904.978125
         ]
        },
        {
         "fill": "toself",
         "line": {
          "color": "red"
         },
         "mode": "lines",
         "showlegend": false,
         "type": "scatter",
         "x": [
          "2018-01-30T21:36:00",
          "2018-01-31T00:00:00",
          "2018-01-31T02:24:00",
          "2018-01-30T21:36:00"
         ],
         "y": [
          2906.4881250000003,
          2973.7162500000004,
          2906.4881250000003,
          2906.4881250000003
         ]
        },
        {
         "fill": "toself",
         "line": {
          "color": "green"
         },
         "mode": "lines",
         "showlegend": false,
         "type": "scatter",
         "x": [
          "2018-01-31T21:36:00",
          "2018-02-01T00:00:00",
          "2018-02-01T02:24:00",
          "2018-01-31T21:36:00"
         ],
         "y": [
          2903.188125,
          2970.41625,
          2903.188125,
          2903.188125
         ]
        },
        {
         "fill": "toself",
         "line": {
          "color": "red"
         },
         "mode": "lines",
         "showlegend": false,
         "type": "scatter",
         "x": [
          "2018-02-01T21:36:00",
          "2018-02-02T00:00:00",
          "2018-02-02T02:24:00",
          "2018-02-01T21:36:00"
         ],
         "y": [
          2876.148125,
          2943.3762500000003,
          2876.148125,
          2876.148125
         ]
        },
        {
         "fill": "toself",
         "line": {
          "color": "green"
         },
         "mode": "lines",
         "showlegend": false,
         "type": "scatter",
         "x": [
          "2018-02-04T21:36:00",
          "2018-02-05T00:00:00",
          "2018-02-05T02:24:00",
          "2018-02-04T21:36:00"
         ],
         "y": [
          2570.941875,
          2503.71375,
          2570.941875,
          2570.941875
         ]
        },
        {
         "fill": "toself",
         "line": {
          "color": "green"
         },
         "mode": "lines",
         "showlegend": false,
         "type": "scatter",
         "x": [
          "2018-02-05T21:36:00",
          "2018-02-06T00:00:00",
          "2018-02-06T02:24:00",
          "2018-02-05T21:36:00"
         ],
         "y": [
          2768.268125,
          2835.49625,
          2768.268125,
          2768.268125
         ]
        },
        {
         "fill": "toself",
         "line": {
          "color": "green"
         },
         "mode": "lines",
         "showlegend": false,
         "type": "scatter",
         "x": [
          "2018-02-06T21:36:00",
          "2018-02-07T00:00:00",
          "2018-02-07T02:24:00",
          "2018-02-06T21:36:00"
         ],
         "y": [
          2614.101875,
          2546.8737499999997,
          2614.101875,
          2614.101875
         ]
        },
        {
         "fill": "toself",
         "line": {
          "color": "red"
         },
         "mode": "lines",
         "showlegend": false,
         "type": "scatter",
         "x": [
          "2018-02-07T21:36:00",
          "2018-02-08T00:00:00",
          "2018-02-08T02:24:00",
          "2018-02-07T21:36:00"
         ],
         "y": [
          2752.498125,
          2819.72625,
          2752.498125,
          2752.498125
         ]
        },
        {
         "fill": "toself",
         "line": {
          "color": "green"
         },
         "mode": "lines",
         "showlegend": false,
         "type": "scatter",
         "x": [
          "2018-02-08T21:36:00",
          "2018-02-09T00:00:00",
          "2018-02-09T02:24:00",
          "2018-02-08T21:36:00"
         ],
         "y": [
          2705.898125,
          2773.1262500000003,
          2705.898125,
          2705.898125
         ]
        },
        {
         "fill": "toself",
         "line": {
          "color": "red"
         },
         "mode": "lines",
         "showlegend": false,
         "type": "scatter",
         "x": [
          "2018-02-11T21:36:00",
          "2018-02-12T00:00:00",
          "2018-02-12T02:24:00",
          "2018-02-11T21:36:00"
         ],
         "y": [
          2555.2218749999997,
          2487.9937499999996,
          2555.2218749999997,
          2555.2218749999997
         ]
        },
        {
         "fill": "toself",
         "line": {
          "color": "red"
         },
         "mode": "lines",
         "showlegend": false,
         "type": "scatter",
         "x": [
          "2018-02-12T21:36:00",
          "2018-02-13T00:00:00",
          "2018-02-13T02:24:00",
          "2018-02-12T21:36:00"
         ],
         "y": [
          2569.851875,
          2502.6237499999997,
          2569.851875,
          2569.851875
         ]
        },
        {
         "fill": "toself",
         "line": {
          "color": "green"
         },
         "mode": "lines",
         "showlegend": false,
         "type": "scatter",
         "x": [
          "2018-02-13T21:36:00",
          "2018-02-14T00:00:00",
          "2018-02-14T02:24:00",
          "2018-02-13T21:36:00"
         ],
         "y": [
          2769.328125,
          2836.55625,
          2769.328125,
          2769.328125
         ]
        },
        {
         "fill": "toself",
         "line": {
          "color": "green"
         },
         "mode": "lines",
         "showlegend": false,
         "type": "scatter",
         "x": [
          "2018-02-14T21:36:00",
          "2018-02-15T00:00:00",
          "2018-02-15T02:24:00",
          "2018-02-14T21:36:00"
         ],
         "y": [
          2798.7381250000003,
          2865.9662500000004,
          2798.7381250000003,
          2798.7381250000003
         ]
        },
        {
         "fill": "toself",
         "line": {
          "color": "red"
         },
         "mode": "lines",
         "showlegend": false,
         "type": "scatter",
         "x": [
          "2018-02-15T21:36:00",
          "2018-02-16T00:00:00",
          "2018-02-16T02:24:00",
          "2018-02-15T21:36:00"
         ],
         "y": [
          2657.881875,
          2590.65375,
          2657.881875,
          2657.881875
         ]
        },
        {
         "fill": "toself",
         "line": {
          "color": "red"
         },
         "mode": "lines",
         "showlegend": false,
         "type": "scatter",
         "x": [
          "2018-02-19T21:36:00",
          "2018-02-20T00:00:00",
          "2018-02-20T02:24:00",
          "2018-02-19T21:36:00"
         ],
         "y": [
          2804.828125,
          2872.05625,
          2804.828125,
          2804.828125
         ]
        },
        {
         "fill": "toself",
         "line": {
          "color": "red"
         },
         "mode": "lines",
         "showlegend": false,
         "type": "scatter",
         "x": [
          "2018-02-20T21:36:00",
          "2018-02-21T00:00:00",
          "2018-02-21T02:24:00",
          "2018-02-20T21:36:00"
         ],
         "y": [
          2814.978125,
          2882.20625,
          2814.978125,
          2814.978125
         ]
        },
        {
         "fill": "toself",
         "line": {
          "color": "red"
         },
         "mode": "lines",
         "showlegend": false,
         "type": "scatter",
         "x": [
          "2018-02-21T21:36:00",
          "2018-02-22T00:00:00",
          "2018-02-22T02:24:00",
          "2018-02-21T21:36:00"
         ],
         "y": [
          2798.4881250000003,
          2865.7162500000004,
          2798.4881250000003,
          2798.4881250000003
         ]
        },
        {
         "fill": "toself",
         "line": {
          "color": "green"
         },
         "mode": "lines",
         "showlegend": false,
         "type": "scatter",
         "x": [
          "2018-02-22T21:36:00",
          "2018-02-23T00:00:00",
          "2018-02-23T02:24:00",
          "2018-02-22T21:36:00"
         ],
         "y": [
          2814.9881250000003,
          2882.2162500000004,
          2814.9881250000003,
          2814.9881250000003
         ]
        },
        {
         "fill": "toself",
         "line": {
          "color": "green"
         },
         "mode": "lines",
         "showlegend": false,
         "type": "scatter",
         "x": [
          "2018-02-25T21:36:00",
          "2018-02-26T00:00:00",
          "2018-02-26T02:24:00",
          "2018-02-25T21:36:00"
         ],
         "y": [
          2847.868125,
          2915.09625,
          2847.868125,
          2847.868125
         ]
        },
        {
         "fill": "toself",
         "line": {
          "color": "red"
         },
         "mode": "lines",
         "showlegend": false,
         "type": "scatter",
         "x": [
          "2018-02-26T21:36:00",
          "2018-02-27T00:00:00",
          "2018-02-27T02:24:00",
          "2018-02-26T21:36:00"
         ],
         "y": [
          2856.378125,
          2923.6062500000003,
          2856.378125,
          2856.378125
         ]
        },
        {
         "fill": "toself",
         "line": {
          "color": "green"
         },
         "mode": "lines",
         "showlegend": false,
         "type": "scatter",
         "x": [
          "2018-02-27T21:36:00",
          "2018-02-28T00:00:00",
          "2018-02-28T02:24:00",
          "2018-02-27T21:36:00"
         ],
         "y": [
          2646.311875,
          2579.08375,
          2646.311875,
          2646.311875
         ]
        },
        {
         "fill": "toself",
         "line": {
          "color": "green"
         },
         "mode": "lines",
         "showlegend": false,
         "type": "scatter",
         "x": [
          "2018-02-28T21:36:00",
          "2018-03-01T00:00:00",
          "2018-03-01T02:24:00",
          "2018-02-28T21:36:00"
         ],
         "y": [
          2592.421875,
          2525.19375,
          2592.421875,
          2592.421875
         ]
        },
        {
         "fill": "toself",
         "line": {
          "color": "green"
         },
         "mode": "lines",
         "showlegend": false,
         "type": "scatter",
         "x": [
          "2018-03-01T21:36:00",
          "2018-03-02T00:00:00",
          "2018-03-02T02:24:00",
          "2018-03-01T21:36:00"
         ],
         "y": [
          2763.478125,
          2830.70625,
          2763.478125,
          2763.478125
         ]
        },
        {
         "fill": "toself",
         "line": {
          "color": "red"
         },
         "mode": "lines",
         "showlegend": false,
         "type": "scatter",
         "x": [
          "2018-03-04T21:36:00",
          "2018-03-05T00:00:00",
          "2018-03-05T02:24:00",
          "2018-03-04T21:36:00"
         ],
         "y": [
          2608.521875,
          2541.29375,
          2608.521875,
          2608.521875
         ]
        },
        {
         "fill": "toself",
         "line": {
          "color": "green"
         },
         "mode": "lines",
         "showlegend": false,
         "type": "scatter",
         "x": [
          "2018-03-05T21:36:00",
          "2018-03-06T00:00:00",
          "2018-03-06T02:24:00",
          "2018-03-05T21:36:00"
         ],
         "y": [
          2644.031875,
          2576.80375,
          2644.031875,
          2644.031875
         ]
        },
        {
         "fill": "toself",
         "line": {
          "color": "red"
         },
         "mode": "lines",
         "showlegend": false,
         "type": "scatter",
         "x": [
          "2018-03-06T21:36:00",
          "2018-03-07T00:00:00",
          "2018-03-07T02:24:00",
          "2018-03-06T21:36:00"
         ],
         "y": [
          2634.5118749999997,
          2567.2837499999996,
          2634.5118749999997,
          2634.5118749999997
         ]
        },
        {
         "fill": "toself",
         "line": {
          "color": "red"
         },
         "mode": "lines",
         "showlegend": false,
         "type": "scatter",
         "x": [
          "2018-03-07T21:36:00",
          "2018-03-08T00:00:00",
          "2018-03-08T02:24:00",
          "2018-03-07T21:36:00"
         ],
         "y": [
          2655.421875,
          2588.19375,
          2655.421875,
          2655.421875
         ]
        },
        {
         "fill": "toself",
         "line": {
          "color": "green"
         },
         "mode": "lines",
         "showlegend": false,
         "type": "scatter",
         "x": [
          "2018-03-08T21:36:00",
          "2018-03-09T00:00:00",
          "2018-03-09T02:24:00",
          "2018-03-08T21:36:00"
         ],
         "y": [
          2853.7981250000003,
          2921.0262500000003,
          2853.7981250000003,
          2853.7981250000003
         ]
        },
        {
         "fill": "toself",
         "line": {
          "color": "green"
         },
         "mode": "lines",
         "showlegend": false,
         "type": "scatter",
         "x": [
          "2018-03-11T21:36:00",
          "2018-03-12T00:00:00",
          "2018-03-12T02:24:00",
          "2018-03-11T21:36:00"
         ],
         "y": [
          2712.031875,
          2644.80375,
          2712.031875,
          2712.031875
         ]
        },
        {
         "fill": "toself",
         "line": {
          "color": "green"
         },
         "mode": "lines",
         "showlegend": false,
         "type": "scatter",
         "x": [
          "2018-03-12T21:36:00",
          "2018-03-13T00:00:00",
          "2018-03-13T02:24:00",
          "2018-03-12T21:36:00"
         ],
         "y": [
          2691.4518749999997,
          2624.2237499999997,
          2691.4518749999997,
          2691.4518749999997
         ]
        },
        {
         "fill": "toself",
         "line": {
          "color": "green"
         },
         "mode": "lines",
         "showlegend": false,
         "type": "scatter",
         "x": [
          "2018-03-13T21:36:00",
          "2018-03-14T00:00:00",
          "2018-03-14T02:24:00",
          "2018-03-13T21:36:00"
         ],
         "y": [
          2677.151875,
          2609.92375,
          2677.151875,
          2677.151875
         ]
        },
        {
         "fill": "toself",
         "line": {
          "color": "green"
         },
         "mode": "lines",
         "showlegend": false,
         "type": "scatter",
         "x": [
          "2018-03-14T21:36:00",
          "2018-03-15T00:00:00",
          "2018-03-15T02:24:00",
          "2018-03-14T21:36:00"
         ],
         "y": [
          2674.2418749999997,
          2607.0137499999996,
          2674.2418749999997,
          2674.2418749999997
         ]
        },
        {
         "fill": "toself",
         "line": {
          "color": "red"
         },
         "mode": "lines",
         "showlegend": false,
         "type": "scatter",
         "x": [
          "2018-03-15T21:36:00",
          "2018-03-16T00:00:00",
          "2018-03-16T02:24:00",
          "2018-03-15T21:36:00"
         ],
         "y": [
          2682.7418749999997,
          2615.5137499999996,
          2682.7418749999997,
          2682.7418749999997
         ]
        },
        {
         "fill": "toself",
         "line": {
          "color": "green"
         },
         "mode": "lines",
         "showlegend": false,
         "type": "scatter",
         "x": [
          "2018-03-18T21:36:00",
          "2018-03-19T00:00:00",
          "2018-03-19T02:24:00",
          "2018-03-18T21:36:00"
         ],
         "y": [
          2627.361875,
          2560.13375,
          2627.361875,
          2627.361875
         ]
        },
        {
         "fill": "toself",
         "line": {
          "color": "green"
         },
         "mode": "lines",
         "showlegend": false,
         "type": "scatter",
         "x": [
          "2018-03-19T21:36:00",
          "2018-03-20T00:00:00",
          "2018-03-20T02:24:00",
          "2018-03-19T21:36:00"
         ],
         "y": [
          2791.448125,
          2858.67625,
          2791.448125,
          2791.448125
         ]
        },
        {
         "fill": "toself",
         "line": {
          "color": "red"
         },
         "mode": "lines",
         "showlegend": false,
         "type": "scatter",
         "x": [
          "2018-03-20T21:36:00",
          "2018-03-21T00:00:00",
          "2018-03-21T02:24:00",
          "2018-03-20T21:36:00"
         ],
         "y": [
          2806.368125,
          2873.59625,
          2806.368125,
          2806.368125
         ]
        },
        {
         "fill": "toself",
         "line": {
          "color": "green"
         },
         "mode": "lines",
         "showlegend": false,
         "type": "scatter",
         "x": [
          "2018-03-21T21:36:00",
          "2018-03-22T00:00:00",
          "2018-03-22T02:24:00",
          "2018-03-21T21:36:00"
         ],
         "y": [
          2574.361875,
          2507.13375,
          2574.361875,
          2574.361875
         ]
        },
        {
         "fill": "toself",
         "line": {
          "color": "green"
         },
         "mode": "lines",
         "showlegend": false,
         "type": "scatter",
         "x": [
          "2018-03-22T21:36:00",
          "2018-03-23T00:00:00",
          "2018-03-23T02:24:00",
          "2018-03-22T21:36:00"
         ],
         "y": [
          2518.661875,
          2451.4337499999997,
          2518.661875,
          2518.661875
         ]
        },
        {
         "fill": "toself",
         "line": {
          "color": "red"
         },
         "mode": "lines",
         "showlegend": false,
         "type": "scatter",
         "x": [
          "2018-03-25T21:36:00",
          "2018-03-26T00:00:00",
          "2018-03-26T02:24:00",
          "2018-03-25T21:36:00"
         ],
         "y": [
          2534.581875,
          2467.3537499999998,
          2534.581875,
          2534.581875
         ]
        },
        {
         "fill": "toself",
         "line": {
          "color": "green"
         },
         "mode": "lines",
         "showlegend": false,
         "type": "scatter",
         "x": [
          "2018-03-26T21:36:00",
          "2018-03-27T00:00:00",
          "2018-03-27T02:24:00",
          "2018-03-26T21:36:00"
         ],
         "y": [
          2528.891875,
          2461.6637499999997,
          2528.891875,
          2528.891875
         ]
        },
        {
         "fill": "toself",
         "line": {
          "color": "green"
         },
         "mode": "lines",
         "showlegend": false,
         "type": "scatter",
         "x": [
          "2018-03-27T21:36:00",
          "2018-03-28T00:00:00",
          "2018-03-28T02:24:00",
          "2018-03-27T21:36:00"
         ],
         "y": [
          2525.831875,
          2458.6037499999998,
          2525.831875,
          2525.831875
         ]
        },
        {
         "fill": "toself",
         "line": {
          "color": "green"
         },
         "mode": "lines",
         "showlegend": false,
         "type": "scatter",
         "x": [
          "2018-03-28T21:36:00",
          "2018-03-29T00:00:00",
          "2018-03-29T02:24:00",
          "2018-03-28T21:36:00"
         ],
         "y": [
          2726.2981250000003,
          2793.5262500000003,
          2726.2981250000003,
          2726.2981250000003
         ]
        },
        {
         "fill": "toself",
         "line": {
          "color": "red"
         },
         "mode": "lines",
         "showlegend": false,
         "type": "scatter",
         "x": [
          "2018-04-01T21:36:00",
          "2018-04-02T00:00:00",
          "2018-04-02T02:24:00",
          "2018-04-01T21:36:00"
         ],
         "y": [
          2705.5281250000003,
          2772.7562500000004,
          2705.5281250000003,
          2705.5281250000003
         ]
        },
        {
         "fill": "toself",
         "line": {
          "color": "green"
         },
         "mode": "lines",
         "showlegend": false,
         "type": "scatter",
         "x": [
          "2018-04-02T21:36:00",
          "2018-04-03T00:00:00",
          "2018-04-03T02:24:00",
          "2018-04-02T21:36:00"
         ],
         "y": [
          2686.368125,
          2753.59625,
          2686.368125,
          2686.368125
         ]
        },
        {
         "fill": "toself",
         "line": {
          "color": "green"
         },
         "mode": "lines",
         "showlegend": false,
         "type": "scatter",
         "x": [
          "2018-04-03T21:36:00",
          "2018-04-04T00:00:00",
          "2018-04-04T02:24:00",
          "2018-04-03T21:36:00"
         ],
         "y": [
          2717.088125,
          2784.3162500000003,
          2717.088125,
          2717.088125
         ]
        },
        {
         "fill": "toself",
         "line": {
          "color": "red"
         },
         "mode": "lines",
         "showlegend": false,
         "type": "scatter",
         "x": [
          "2018-04-04T21:36:00",
          "2018-04-05T00:00:00",
          "2018-04-05T02:24:00",
          "2018-04-04T21:36:00"
         ],
         "y": [
          2582.351875,
          2515.1237499999997,
          2582.351875,
          2582.351875
         ]
        },
        {
         "fill": "toself",
         "line": {
          "color": "red"
         },
         "mode": "lines",
         "showlegend": false,
         "type": "scatter",
         "x": [
          "2018-04-05T21:36:00",
          "2018-04-06T00:00:00",
          "2018-04-06T02:24:00",
          "2018-04-05T21:36:00"
         ],
         "y": [
          2724.108125,
          2791.3362500000003,
          2724.108125,
          2724.108125
         ]
        },
        {
         "fill": "toself",
         "line": {
          "color": "red"
         },
         "mode": "lines",
         "showlegend": false,
         "type": "scatter",
         "x": [
          "2018-04-08T21:36:00",
          "2018-04-09T00:00:00",
          "2018-04-09T02:24:00",
          "2018-04-08T21:36:00"
         ],
         "y": [
          2720.7781250000003,
          2788.0062500000004,
          2720.7781250000003,
          2720.7781250000003
         ]
        },
        {
         "fill": "toself",
         "line": {
          "color": "red"
         },
         "mode": "lines",
         "showlegend": false,
         "type": "scatter",
         "x": [
          "2018-04-09T21:36:00",
          "2018-04-10T00:00:00",
          "2018-04-10T02:24:00",
          "2018-04-09T21:36:00"
         ],
         "y": [
          2568.551875,
          2501.32375,
          2568.551875,
          2568.551875
         ]
        },
        {
         "fill": "toself",
         "line": {
          "color": "red"
         },
         "mode": "lines",
         "showlegend": false,
         "type": "scatter",
         "x": [
          "2018-04-10T21:36:00",
          "2018-04-11T00:00:00",
          "2018-04-11T02:24:00",
          "2018-04-10T21:36:00"
         ],
         "y": [
          2728.658125,
          2795.88625,
          2728.658125,
          2728.658125
         ]
        },
        {
         "fill": "toself",
         "line": {
          "color": "green"
         },
         "mode": "lines",
         "showlegend": false,
         "type": "scatter",
         "x": [
          "2018-04-11T21:36:00",
          "2018-04-12T00:00:00",
          "2018-04-12T02:24:00",
          "2018-04-11T21:36:00"
         ],
         "y": [
          2741.948125,
          2809.17625,
          2741.948125,
          2741.948125
         ]
        },
        {
         "fill": "toself",
         "line": {
          "color": "red"
         },
         "mode": "lines",
         "showlegend": false,
         "type": "scatter",
         "x": [
          "2018-04-12T21:36:00",
          "2018-04-13T00:00:00",
          "2018-04-13T02:24:00",
          "2018-04-12T21:36:00"
         ],
         "y": [
          2747.4881250000003,
          2814.7162500000004,
          2747.4881250000003,
          2747.4881250000003
         ]
        },
        {
         "fill": "toself",
         "line": {
          "color": "red"
         },
         "mode": "lines",
         "showlegend": false,
         "type": "scatter",
         "x": [
          "2018-04-15T21:36:00",
          "2018-04-16T00:00:00",
          "2018-04-16T02:24:00",
          "2018-04-15T21:36:00"
         ],
         "y": [
          2597.9318749999998,
          2530.7037499999997,
          2597.9318749999998,
          2597.9318749999998
         ]
        },
        {
         "fill": "toself",
         "line": {
          "color": "red"
         },
         "mode": "lines",
         "showlegend": false,
         "type": "scatter",
         "x": [
          "2018-04-16T21:36:00",
          "2018-04-17T00:00:00",
          "2018-04-17T02:24:00",
          "2018-04-16T21:36:00"
         ],
         "y": [
          2624.821875,
          2557.59375,
          2624.821875,
          2624.821875
         ]
        },
        {
         "fill": "toself",
         "line": {
          "color": "red"
         },
         "mode": "lines",
         "showlegend": false,
         "type": "scatter",
         "x": [
          "2018-04-17T21:36:00",
          "2018-04-18T00:00:00",
          "2018-04-18T02:24:00",
          "2018-04-17T21:36:00"
         ],
         "y": [
          2784.718125,
          2851.94625,
          2784.718125,
          2784.718125
         ]
        },
        {
         "fill": "toself",
         "line": {
          "color": "red"
         },
         "mode": "lines",
         "showlegend": false,
         "type": "scatter",
         "x": [
          "2018-04-18T21:36:00",
          "2018-04-19T00:00:00",
          "2018-04-19T02:24:00",
          "2018-04-18T21:36:00"
         ],
         "y": [
          2770.0681250000002,
          2837.2962500000003,
          2770.0681250000002,
          2770.0681250000002
         ]
        },
        {
         "fill": "toself",
         "line": {
          "color": "green"
         },
         "mode": "lines",
         "showlegend": false,
         "type": "scatter",
         "x": [
          "2018-04-19T21:36:00",
          "2018-04-20T00:00:00",
          "2018-04-20T02:24:00",
          "2018-04-19T21:36:00"
         ],
         "y": [
          2593.381875,
          2526.15375,
          2593.381875,
          2593.381875
         ]
        },
        {
         "fill": "toself",
         "line": {
          "color": "green"
         },
         "mode": "lines",
         "showlegend": false,
         "type": "scatter",
         "x": [
          "2018-04-22T21:36:00",
          "2018-04-23T00:00:00",
          "2018-04-23T02:24:00",
          "2018-04-22T21:36:00"
         ],
         "y": [
          2590.7618749999997,
          2523.5337499999996,
          2590.7618749999997,
          2590.7618749999997
         ]
        },
        {
         "fill": "toself",
         "line": {
          "color": "green"
         },
         "mode": "lines",
         "showlegend": false,
         "type": "scatter",
         "x": [
          "2018-04-23T21:36:00",
          "2018-04-24T00:00:00",
          "2018-04-24T02:24:00",
          "2018-04-23T21:36:00"
         ],
         "y": [
          2550.091875,
          2482.86375,
          2550.091875,
          2550.091875
         ]
        },
        {
         "fill": "toself",
         "line": {
          "color": "red"
         },
         "mode": "lines",
         "showlegend": false,
         "type": "scatter",
         "x": [
          "2018-04-24T21:36:00",
          "2018-04-25T00:00:00",
          "2018-04-25T02:24:00",
          "2018-04-24T21:36:00"
         ],
         "y": [
          2545.441875,
          2478.21375,
          2545.441875,
          2545.441875
         ]
        },
        {
         "fill": "toself",
         "line": {
          "color": "green"
         },
         "mode": "lines",
         "showlegend": false,
         "type": "scatter",
         "x": [
          "2018-04-25T21:36:00",
          "2018-04-26T00:00:00",
          "2018-04-26T02:24:00",
          "2018-04-25T21:36:00"
         ],
         "y": [
          2743.708125,
          2810.93625,
          2743.708125,
          2743.708125
         ]
        },
        {
         "fill": "toself",
         "line": {
          "color": "green"
         },
         "mode": "lines",
         "showlegend": false,
         "type": "scatter",
         "x": [
          "2018-04-26T21:36:00",
          "2018-04-27T00:00:00",
          "2018-04-27T02:24:00",
          "2018-04-26T21:36:00"
         ],
         "y": [
          2591.781875,
          2524.55375,
          2591.781875,
          2591.781875
         ]
        },
        {
         "fill": "toself",
         "line": {
          "color": "green"
         },
         "mode": "lines",
         "showlegend": false,
         "type": "scatter",
         "x": [
          "2018-04-29T21:36:00",
          "2018-04-30T00:00:00",
          "2018-04-30T02:24:00",
          "2018-04-29T21:36:00"
         ],
         "y": [
          2580.811875,
          2513.58375,
          2580.811875,
          2580.811875
         ]
        },
        {
         "fill": "toself",
         "line": {
          "color": "green"
         },
         "mode": "lines",
         "showlegend": false,
         "type": "scatter",
         "x": [
          "2018-04-30T21:36:00",
          "2018-05-01T00:00:00",
          "2018-05-01T02:24:00",
          "2018-04-30T21:36:00"
         ],
         "y": [
          2722.498125,
          2789.72625,
          2722.498125,
          2722.498125
         ]
        },
        {
         "fill": "toself",
         "line": {
          "color": "green"
         },
         "mode": "lines",
         "showlegend": false,
         "type": "scatter",
         "x": [
          "2018-05-01T21:36:00",
          "2018-05-02T00:00:00",
          "2018-05-02T02:24:00",
          "2018-05-01T21:36:00"
         ],
         "y": [
          2564.4718749999997,
          2497.2437499999996,
          2564.4718749999997,
          2564.4718749999997
         ]
        },
        {
         "fill": "toself",
         "line": {
          "color": "red"
         },
         "mode": "lines",
         "showlegend": false,
         "type": "scatter",
         "x": [
          "2018-05-02T21:36:00",
          "2018-05-03T00:00:00",
          "2018-05-03T02:24:00",
          "2018-05-02T21:36:00"
         ],
         "y": [
          2527.391875,
          2460.1637499999997,
          2527.391875,
          2527.391875
         ]
        },
        {
         "fill": "toself",
         "line": {
          "color": "green"
         },
         "mode": "lines",
         "showlegend": false,
         "type": "scatter",
         "x": [
          "2018-05-03T21:36:00",
          "2018-05-04T00:00:00",
          "2018-05-04T02:24:00",
          "2018-05-03T21:36:00"
         ],
         "y": [
          2738.158125,
          2805.38625,
          2738.158125,
          2738.158125
         ]
        },
        {
         "fill": "toself",
         "line": {
          "color": "red"
         },
         "mode": "lines",
         "showlegend": false,
         "type": "scatter",
         "x": [
          "2018-05-06T21:36:00",
          "2018-05-07T00:00:00",
          "2018-05-07T02:24:00",
          "2018-05-06T21:36:00"
         ],
         "y": [
          2597.4718749999997,
          2530.2437499999996,
          2597.4718749999997,
          2597.4718749999997
         ]
        },
        {
         "fill": "toself",
         "line": {
          "color": "red"
         },
         "mode": "lines",
         "showlegend": false,
         "type": "scatter",
         "x": [
          "2018-05-07T21:36:00",
          "2018-05-08T00:00:00",
          "2018-05-08T02:24:00",
          "2018-05-07T21:36:00"
         ],
         "y": [
          2587.9718749999997,
          2520.7437499999996,
          2587.9718749999997,
          2587.9718749999997
         ]
        },
        {
         "fill": "toself",
         "line": {
          "color": "green"
         },
         "mode": "lines",
         "showlegend": false,
         "type": "scatter",
         "x": [
          "2018-05-08T21:36:00",
          "2018-05-09T00:00:00",
          "2018-05-09T02:24:00",
          "2018-05-08T21:36:00"
         ],
         "y": [
          2768.498125,
          2835.72625,
          2768.498125,
          2768.498125
         ]
        },
        {
         "fill": "toself",
         "line": {
          "color": "green"
         },
         "mode": "lines",
         "showlegend": false,
         "type": "scatter",
         "x": [
          "2018-05-09T21:36:00",
          "2018-05-10T00:00:00",
          "2018-05-10T02:24:00",
          "2018-05-09T21:36:00"
         ],
         "y": [
          2793.338125,
          2860.5662500000003,
          2793.338125,
          2793.338125
         ]
        },
        {
         "fill": "toself",
         "line": {
          "color": "green"
         },
         "mode": "lines",
         "showlegend": false,
         "type": "scatter",
         "x": [
          "2018-05-10T21:36:00",
          "2018-05-11T00:00:00",
          "2018-05-11T02:24:00",
          "2018-05-10T21:36:00"
         ],
         "y": [
          2800.088125,
          2867.3162500000003,
          2800.088125,
          2800.088125
         ]
        },
        {
         "fill": "toself",
         "line": {
          "color": "red"
         },
         "mode": "lines",
         "showlegend": false,
         "type": "scatter",
         "x": [
          "2018-05-13T21:36:00",
          "2018-05-14T00:00:00",
          "2018-05-14T02:24:00",
          "2018-05-13T21:36:00"
         ],
         "y": [
          2809.328125,
          2876.55625,
          2809.328125,
          2809.328125
         ]
        },
        {
         "fill": "toself",
         "line": {
          "color": "green"
         },
         "mode": "lines",
         "showlegend": false,
         "type": "scatter",
         "x": [
          "2018-05-14T21:36:00",
          "2018-05-15T00:00:00",
          "2018-05-15T02:24:00",
          "2018-05-14T21:36:00"
         ],
         "y": [
          2634.6818749999998,
          2567.4537499999997,
          2634.6818749999998,
          2634.6818749999998
         ]
        },
        {
         "fill": "toself",
         "line": {
          "color": "red"
         },
         "mode": "lines",
         "showlegend": false,
         "type": "scatter",
         "x": [
          "2018-05-15T21:36:00",
          "2018-05-16T00:00:00",
          "2018-05-16T02:24:00",
          "2018-05-15T21:36:00"
         ],
         "y": [
          2644.941875,
          2577.71375,
          2644.941875,
          2644.941875
         ]
        },
        {
         "fill": "toself",
         "line": {
          "color": "red"
         },
         "mode": "lines",
         "showlegend": false,
         "type": "scatter",
         "x": [
          "2018-05-16T21:36:00",
          "2018-05-17T00:00:00",
          "2018-05-17T02:24:00",
          "2018-05-16T21:36:00"
         ],
         "y": [
          2644.131875,
          2576.90375,
          2644.131875,
          2644.131875
         ]
        },
        {
         "fill": "toself",
         "line": {
          "color": "green"
         },
         "mode": "lines",
         "showlegend": false,
         "type": "scatter",
         "x": [
          "2018-05-17T21:36:00",
          "2018-05-18T00:00:00",
          "2018-05-18T02:24:00",
          "2018-05-17T21:36:00"
         ],
         "y": [
          2641.9518749999997,
          2574.7237499999997,
          2641.9518749999997,
          2641.9518749999997
         ]
        },
        {
         "fill": "toself",
         "line": {
          "color": "green"
         },
         "mode": "lines",
         "showlegend": false,
         "type": "scatter",
         "x": [
          "2018-05-20T21:36:00",
          "2018-05-21T00:00:00",
          "2018-05-21T02:24:00",
          "2018-05-20T21:36:00"
         ],
         "y": [
          2806.418125,
          2873.6462500000002,
          2806.418125,
          2806.418125
         ]
        },
        {
         "fill": "toself",
         "line": {
          "color": "red"
         },
         "mode": "lines",
         "showlegend": false,
         "type": "scatter",
         "x": [
          "2018-05-21T21:36:00",
          "2018-05-22T00:00:00",
          "2018-05-22T02:24:00",
          "2018-05-21T21:36:00"
         ],
         "y": [
          2809.468125,
          2876.69625,
          2809.468125,
          2809.468125
         ]
        },
        {
         "fill": "toself",
         "line": {
          "color": "red"
         },
         "mode": "lines",
         "showlegend": false,
         "type": "scatter",
         "x": [
          "2018-05-22T21:36:00",
          "2018-05-23T00:00:00",
          "2018-05-23T02:24:00",
          "2018-05-22T21:36:00"
         ],
         "y": [
          2642.311875,
          2575.08375,
          2642.311875,
          2642.311875
         ]
        },
        {
         "fill": "toself",
         "line": {
          "color": "red"
         },
         "mode": "lines",
         "showlegend": false,
         "type": "scatter",
         "x": [
          "2018-05-23T21:36:00",
          "2018-05-24T00:00:00",
          "2018-05-24T02:24:00",
          "2018-05-23T21:36:00"
         ],
         "y": [
          2799.198125,
          2866.42625,
          2799.198125,
          2799.198125
         ]
        },
        {
         "fill": "toself",
         "line": {
          "color": "red"
         },
         "mode": "lines",
         "showlegend": false,
         "type": "scatter",
         "x": [
          "2018-05-24T21:36:00",
          "2018-05-25T00:00:00",
          "2018-05-25T02:24:00",
          "2018-05-24T21:36:00"
         ],
         "y": [
          2794.588125,
          2861.8162500000003,
          2794.588125,
          2794.588125
         ]
        },
        {
         "fill": "toself",
         "line": {
          "color": "red"
         },
         "mode": "lines",
         "showlegend": false,
         "type": "scatter",
         "x": [
          "2018-05-28T21:36:00",
          "2018-05-29T00:00:00",
          "2018-05-29T02:24:00",
          "2018-05-28T21:36:00"
         ],
         "y": [
          2777.898125,
          2845.1262500000003,
          2777.898125,
          2777.898125
         ]
        },
        {
         "fill": "toself",
         "line": {
          "color": "red"
         },
         "mode": "lines",
         "showlegend": false,
         "type": "scatter",
         "x": [
          "2018-05-29T21:36:00",
          "2018-05-30T00:00:00",
          "2018-05-30T02:24:00",
          "2018-05-29T21:36:00"
         ],
         "y": [
          2635.2018749999997,
          2567.9737499999997,
          2635.2018749999997,
          2635.2018749999997
         ]
        },
        {
         "fill": "toself",
         "line": {
          "color": "green"
         },
         "mode": "lines",
         "showlegend": false,
         "type": "scatter",
         "x": [
          "2018-05-30T21:36:00",
          "2018-05-31T00:00:00",
          "2018-05-31T02:24:00",
          "2018-05-30T21:36:00"
         ],
         "y": [
          2633.4518749999997,
          2566.2237499999997,
          2633.4518749999997,
          2633.4518749999997
         ]
        },
        {
         "fill": "toself",
         "line": {
          "color": "red"
         },
         "mode": "lines",
         "showlegend": false,
         "type": "scatter",
         "x": [
          "2018-05-31T21:36:00",
          "2018-06-01T00:00:00",
          "2018-06-01T02:24:00",
          "2018-05-31T21:36:00"
         ],
         "y": [
          2651.4718749999997,
          2584.2437499999996,
          2651.4718749999997,
          2651.4718749999997
         ]
        },
        {
         "fill": "toself",
         "line": {
          "color": "green"
         },
         "mode": "lines",
         "showlegend": false,
         "type": "scatter",
         "x": [
          "2018-06-03T21:36:00",
          "2018-06-04T00:00:00",
          "2018-06-04T02:24:00",
          "2018-06-03T21:36:00"
         ],
         "y": [
          2816.388125,
          2883.61625,
          2816.388125,
          2816.388125
         ]
        },
        {
         "fill": "toself",
         "line": {
          "color": "green"
         },
         "mode": "lines",
         "showlegend": false,
         "type": "scatter",
         "x": [
          "2018-06-04T21:36:00",
          "2018-06-05T00:00:00",
          "2018-06-05T02:24:00",
          "2018-06-04T21:36:00"
         ],
         "y": [
          2819.838125,
          2887.0662500000003,
          2819.838125,
          2819.838125
         ]
        },
        {
         "fill": "toself",
         "line": {
          "color": "green"
         },
         "mode": "lines",
         "showlegend": false,
         "type": "scatter",
         "x": [
          "2018-06-05T21:36:00",
          "2018-06-06T00:00:00",
          "2018-06-06T02:24:00",
          "2018-06-05T21:36:00"
         ],
         "y": [
          2839.618125,
          2906.84625,
          2839.618125,
          2839.618125
         ]
        },
        {
         "fill": "toself",
         "line": {
          "color": "red"
         },
         "mode": "lines",
         "showlegend": false,
         "type": "scatter",
         "x": [
          "2018-06-06T21:36:00",
          "2018-06-07T00:00:00",
          "2018-06-07T02:24:00",
          "2018-06-06T21:36:00"
         ],
         "y": [
          2847.128125,
          2914.3562500000003,
          2847.128125,
          2847.128125
         ]
        },
        {
         "fill": "toself",
         "line": {
          "color": "green"
         },
         "mode": "lines",
         "showlegend": false,
         "type": "scatter",
         "x": [
          "2018-06-07T21:36:00",
          "2018-06-08T00:00:00",
          "2018-06-08T02:24:00",
          "2018-06-07T21:36:00"
         ],
         "y": [
          2846.618125,
          2913.84625,
          2846.618125,
          2846.618125
         ]
        },
        {
         "fill": "toself",
         "line": {
          "color": "red"
         },
         "mode": "lines",
         "showlegend": false,
         "type": "scatter",
         "x": [
          "2018-06-10T21:36:00",
          "2018-06-11T00:00:00",
          "2018-06-11T02:24:00",
          "2018-06-10T21:36:00"
         ],
         "y": [
          2712.941875,
          2645.71375,
          2712.941875,
          2712.941875
         ]
        },
        {
         "fill": "toself",
         "line": {
          "color": "red"
         },
         "mode": "lines",
         "showlegend": false,
         "type": "scatter",
         "x": [
          "2018-06-11T21:36:00",
          "2018-06-12T00:00:00",
          "2018-06-12T02:24:00",
          "2018-06-11T21:36:00"
         ],
         "y": [
          2711.551875,
          2644.32375,
          2711.551875,
          2711.551875
         ]
        },
        {
         "fill": "toself",
         "line": {
          "color": "green"
         },
         "mode": "lines",
         "showlegend": false,
         "type": "scatter",
         "x": [
          "2018-06-12T21:36:00",
          "2018-06-13T00:00:00",
          "2018-06-13T02:24:00",
          "2018-06-12T21:36:00"
         ],
         "y": [
          2707.421875,
          2640.19375,
          2707.421875,
          2707.421875
         ]
        },
        {
         "fill": "toself",
         "line": {
          "color": "red"
         },
         "mode": "lines",
         "showlegend": false,
         "type": "scatter",
         "x": [
          "2018-06-13T21:36:00",
          "2018-06-14T00:00:00",
          "2018-06-14T02:24:00",
          "2018-06-13T21:36:00"
         ],
         "y": [
          2856.288125,
          2923.51625,
          2856.288125,
          2856.288125
         ]
        },
        {
         "fill": "toself",
         "line": {
          "color": "green"
         },
         "mode": "lines",
         "showlegend": false,
         "type": "scatter",
         "x": [
          "2018-06-14T21:36:00",
          "2018-06-15T00:00:00",
          "2018-06-15T02:24:00",
          "2018-06-14T21:36:00"
         ],
         "y": [
          2850.038125,
          2917.26625,
          2850.038125,
          2850.038125
         ]
        },
        {
         "fill": "toself",
         "line": {
          "color": "green"
         },
         "mode": "lines",
         "showlegend": false,
         "type": "scatter",
         "x": [
          "2018-06-17T21:36:00",
          "2018-06-18T00:00:00",
          "2018-06-18T02:24:00",
          "2018-06-17T21:36:00"
         ],
         "y": [
          2842.218125,
          2909.44625,
          2842.218125,
          2842.218125
         ]
        },
        {
         "fill": "toself",
         "line": {
          "color": "green"
         },
         "mode": "lines",
         "showlegend": false,
         "type": "scatter",
         "x": [
          "2018-06-18T21:36:00",
          "2018-06-19T00:00:00",
          "2018-06-19T02:24:00",
          "2018-06-18T21:36:00"
         ],
         "y": [
          2832.2781250000003,
          2899.5062500000004,
          2832.2781250000003,
          2832.2781250000003
         ]
        },
        {
         "fill": "toself",
         "line": {
          "color": "red"
         },
         "mode": "lines",
         "showlegend": false,
         "type": "scatter",
         "x": [
          "2018-06-19T21:36:00",
          "2018-06-20T00:00:00",
          "2018-06-20T02:24:00",
          "2018-06-19T21:36:00"
         ],
         "y": [
          2842.088125,
          2909.3162500000003,
          2842.088125,
          2842.088125
         ]
        },
        {
         "fill": "toself",
         "line": {
          "color": "red"
         },
         "mode": "lines",
         "showlegend": false,
         "type": "scatter",
         "x": [
          "2018-06-20T21:36:00",
          "2018-06-21T00:00:00",
          "2018-06-21T02:24:00",
          "2018-06-20T21:36:00"
         ],
         "y": [
          2836.5081250000003,
          2903.7362500000004,
          2836.5081250000003,
          2836.5081250000003
         ]
        },
        {
         "fill": "toself",
         "line": {
          "color": "red"
         },
         "mode": "lines",
         "showlegend": false,
         "type": "scatter",
         "x": [
          "2018-06-21T21:36:00",
          "2018-06-22T00:00:00",
          "2018-06-22T02:24:00",
          "2018-06-21T21:36:00"
         ],
         "y": [
          2831.398125,
          2898.6262500000003,
          2831.398125,
          2831.398125
         ]
        },
        {
         "fill": "toself",
         "line": {
          "color": "red"
         },
         "mode": "lines",
         "showlegend": false,
         "type": "scatter",
         "x": [
          "2018-06-24T21:36:00",
          "2018-06-25T00:00:00",
          "2018-06-25T02:24:00",
          "2018-06-24T21:36:00"
         ],
         "y": [
          2810.168125,
          2877.3962500000002,
          2810.168125,
          2810.168125
         ]
        },
        {
         "fill": "toself",
         "line": {
          "color": "green"
         },
         "mode": "lines",
         "showlegend": false,
         "type": "scatter",
         "x": [
          "2018-06-25T21:36:00",
          "2018-06-26T00:00:00",
          "2018-06-26T02:24:00",
          "2018-06-25T21:36:00"
         ],
         "y": [
          2800.138125,
          2867.36625,
          2800.138125,
          2800.138125
         ]
        },
        {
         "fill": "toself",
         "line": {
          "color": "red"
         },
         "mode": "lines",
         "showlegend": false,
         "type": "scatter",
         "x": [
          "2018-06-26T21:36:00",
          "2018-06-27T00:00:00",
          "2018-06-27T02:24:00",
          "2018-06-26T21:36:00"
         ],
         "y": [
          2813.3181250000002,
          2880.5462500000003,
          2813.3181250000002,
          2813.3181250000002
         ]
        },
        {
         "fill": "toself",
         "line": {
          "color": "green"
         },
         "mode": "lines",
         "showlegend": false,
         "type": "scatter",
         "x": [
          "2018-06-27T21:36:00",
          "2018-06-28T00:00:00",
          "2018-06-28T02:24:00",
          "2018-06-27T21:36:00"
         ],
         "y": [
          2791.5681250000002,
          2858.7962500000003,
          2791.5681250000002,
          2791.5681250000002
         ]
        },
        {
         "fill": "toself",
         "line": {
          "color": "red"
         },
         "mode": "lines",
         "showlegend": false,
         "type": "scatter",
         "x": [
          "2018-06-28T21:36:00",
          "2018-06-29T00:00:00",
          "2018-06-29T02:24:00",
          "2018-06-28T21:36:00"
         ],
         "y": [
          2810.4881250000003,
          2877.7162500000004,
          2810.4881250000003,
          2810.4881250000003
         ]
        },
        {
         "fill": "toself",
         "line": {
          "color": "red"
         },
         "mode": "lines",
         "showlegend": false,
         "type": "scatter",
         "x": [
          "2018-07-01T21:36:00",
          "2018-07-02T00:00:00",
          "2018-07-02T02:24:00",
          "2018-07-01T21:36:00"
         ],
         "y": [
          2631.7218749999997,
          2564.4937499999996,
          2631.7218749999997,
          2631.7218749999997
         ]
        },
        {
         "fill": "toself",
         "line": {
          "color": "green"
         },
         "mode": "lines",
         "showlegend": false,
         "type": "scatter",
         "x": [
          "2018-07-02T21:36:00",
          "2018-07-03T00:00:00",
          "2018-07-03T02:24:00",
          "2018-07-02T21:36:00"
         ],
         "y": [
          2643.9318749999998,
          2576.7037499999997,
          2643.9318749999998,
          2643.9318749999998
         ]
        },
        {
         "fill": "toself",
         "line": {
          "color": "red"
         },
         "mode": "lines",
         "showlegend": false,
         "type": "scatter",
         "x": [
          "2018-07-04T21:36:00",
          "2018-07-05T00:00:00",
          "2018-07-05T02:24:00",
          "2018-07-04T21:36:00"
         ],
         "y": [
          2648.791875,
          2581.56375,
          2648.791875,
          2648.791875
         ]
        },
        {
         "fill": "toself",
         "line": {
          "color": "red"
         },
         "mode": "lines",
         "showlegend": false,
         "type": "scatter",
         "x": [
          "2018-07-05T21:36:00",
          "2018-07-06T00:00:00",
          "2018-07-06T02:24:00",
          "2018-07-05T21:36:00"
         ],
         "y": [
          2666.291875,
          2599.06375,
          2666.291875,
          2666.291875
         ]
        },
        {
         "fill": "toself",
         "line": {
          "color": "green"
         },
         "mode": "lines",
         "showlegend": false,
         "type": "scatter",
         "x": [
          "2018-07-08T21:36:00",
          "2018-07-09T00:00:00",
          "2018-07-09T02:24:00",
          "2018-07-08T21:36:00"
         ],
         "y": [
          2851.878125,
          2919.1062500000003,
          2851.878125,
          2851.878125
         ]
        },
        {
         "fill": "toself",
         "line": {
          "color": "red"
         },
         "mode": "lines",
         "showlegend": false,
         "type": "scatter",
         "x": [
          "2018-07-09T21:36:00",
          "2018-07-10T00:00:00",
          "2018-07-10T02:24:00",
          "2018-07-09T21:36:00"
         ],
         "y": [
          2719.0118749999997,
          2651.7837499999996,
          2719.0118749999997,
          2719.0118749999997
         ]
        },
        {
         "fill": "toself",
         "line": {
          "color": "green"
         },
         "mode": "lines",
         "showlegend": false,
         "type": "scatter",
         "x": [
          "2018-07-10T21:36:00",
          "2018-07-11T00:00:00",
          "2018-07-11T02:24:00",
          "2018-07-10T21:36:00"
         ],
         "y": [
          2703.541875,
          2636.31375,
          2703.541875,
          2703.541875
         ]
        },
        {
         "fill": "toself",
         "line": {
          "color": "red"
         },
         "mode": "lines",
         "showlegend": false,
         "type": "scatter",
         "x": [
          "2018-07-11T21:36:00",
          "2018-07-12T00:00:00",
          "2018-07-12T02:24:00",
          "2018-07-11T21:36:00"
         ],
         "y": [
          2714.301875,
          2647.07375,
          2714.301875,
          2714.301875
         ]
        },
        {
         "fill": "toself",
         "line": {
          "color": "green"
         },
         "mode": "lines",
         "showlegend": false,
         "type": "scatter",
         "x": [
          "2018-07-12T21:36:00",
          "2018-07-13T00:00:00",
          "2018-07-13T02:24:00",
          "2018-07-12T21:36:00"
         ],
         "y": [
          2871.7581250000003,
          2938.9862500000004,
          2871.7581250000003,
          2871.7581250000003
         ]
        },
        {
         "fill": "toself",
         "line": {
          "color": "green"
         },
         "mode": "lines",
         "showlegend": false,
         "type": "scatter",
         "x": [
          "2018-07-15T21:36:00",
          "2018-07-16T00:00:00",
          "2018-07-16T02:24:00",
          "2018-07-15T21:36:00"
         ],
         "y": [
          2726.161875,
          2658.9337499999997,
          2726.161875,
          2726.161875
         ]
        },
        {
         "fill": "toself",
         "line": {
          "color": "green"
         },
         "mode": "lines",
         "showlegend": false,
         "type": "scatter",
         "x": [
          "2018-07-16T21:36:00",
          "2018-07-17T00:00:00",
          "2018-07-17T02:24:00",
          "2018-07-16T21:36:00"
         ],
         "y": [
          2881.418125,
          2948.6462500000002,
          2881.418125,
          2881.418125
         ]
        },
        {
         "fill": "toself",
         "line": {
          "color": "red"
         },
         "mode": "lines",
         "showlegend": false,
         "type": "scatter",
         "x": [
          "2018-07-17T21:36:00",
          "2018-07-18T00:00:00",
          "2018-07-18T02:24:00",
          "2018-07-17T21:36:00"
         ],
         "y": [
          2738.661875,
          2671.4337499999997,
          2738.661875,
          2738.661875
         ]
        },
        {
         "fill": "toself",
         "line": {
          "color": "green"
         },
         "mode": "lines",
         "showlegend": false,
         "type": "scatter",
         "x": [
          "2018-07-18T21:36:00",
          "2018-07-19T00:00:00",
          "2018-07-19T02:24:00",
          "2018-07-18T21:36:00"
         ],
         "y": [
          2732.541875,
          2665.31375,
          2732.541875,
          2732.541875
         ]
        },
        {
         "fill": "toself",
         "line": {
          "color": "red"
         },
         "mode": "lines",
         "showlegend": false,
         "type": "scatter",
         "x": [
          "2018-07-19T21:36:00",
          "2018-07-20T00:00:00",
          "2018-07-20T02:24:00",
          "2018-07-19T21:36:00"
         ],
         "y": [
          2876.928125,
          2944.15625,
          2876.928125,
          2876.928125
         ]
        },
        {
         "fill": "toself",
         "line": {
          "color": "red"
         },
         "mode": "lines",
         "showlegend": false,
         "type": "scatter",
         "x": [
          "2018-07-22T21:36:00",
          "2018-07-23T00:00:00",
          "2018-07-23T02:24:00",
          "2018-07-22T21:36:00"
         ],
         "y": [
          2727.911875,
          2660.6837499999997,
          2727.911875,
          2727.911875
         ]
        },
        {
         "fill": "toself",
         "line": {
          "color": "red"
         },
         "mode": "lines",
         "showlegend": false,
         "type": "scatter",
         "x": [
          "2018-07-23T21:36:00",
          "2018-07-24T00:00:00",
          "2018-07-24T02:24:00",
          "2018-07-23T21:36:00"
         ],
         "y": [
          2897.218125,
          2964.44625,
          2897.218125,
          2897.218125
         ]
        },
        {
         "fill": "toself",
         "line": {
          "color": "green"
         },
         "mode": "lines",
         "showlegend": false,
         "type": "scatter",
         "x": [
          "2018-07-24T21:36:00",
          "2018-07-25T00:00:00",
          "2018-07-25T02:24:00",
          "2018-07-24T21:36:00"
         ],
         "y": [
          2915.2581250000003,
          2982.4862500000004,
          2915.2581250000003,
          2915.2581250000003
         ]
        },
        {
         "fill": "toself",
         "line": {
          "color": "green"
         },
         "mode": "lines",
         "showlegend": false,
         "type": "scatter",
         "x": [
          "2018-07-25T21:36:00",
          "2018-07-26T00:00:00",
          "2018-07-26T02:24:00",
          "2018-07-25T21:36:00"
         ],
         "y": [
          2912.7981250000003,
          2980.0262500000003,
          2912.7981250000003,
          2912.7981250000003
         ]
        },
        {
         "fill": "toself",
         "line": {
          "color": "red"
         },
         "mode": "lines",
         "showlegend": false,
         "type": "scatter",
         "x": [
          "2018-07-26T21:36:00",
          "2018-07-27T00:00:00",
          "2018-07-27T02:24:00",
          "2018-07-26T21:36:00"
         ],
         "y": [
          2910.398125,
          2977.6262500000003,
          2910.398125,
          2910.398125
         ]
        },
        {
         "fill": "toself",
         "line": {
          "color": "red"
         },
         "mode": "lines",
         "showlegend": false,
         "type": "scatter",
         "x": [
          "2018-07-29T21:36:00",
          "2018-07-30T00:00:00",
          "2018-07-30T02:24:00",
          "2018-07-29T21:36:00"
         ],
         "y": [
          2888.968125,
          2956.19625,
          2888.968125,
          2888.968125
         ]
        },
        {
         "fill": "toself",
         "line": {
          "color": "green"
         },
         "mode": "lines",
         "showlegend": false,
         "type": "scatter",
         "x": [
          "2018-07-30T21:36:00",
          "2018-07-31T00:00:00",
          "2018-07-31T02:24:00",
          "2018-07-30T21:36:00"
         ],
         "y": [
          2891.688125,
          2958.91625,
          2891.688125,
          2891.688125
         ]
        },
        {
         "fill": "toself",
         "line": {
          "color": "green"
         },
         "mode": "lines",
         "showlegend": false,
         "type": "scatter",
         "x": [
          "2018-07-31T21:36:00",
          "2018-08-01T00:00:00",
          "2018-08-01T02:24:00",
          "2018-07-31T21:36:00"
         ],
         "y": [
          2738.621875,
          2671.3937499999997,
          2738.621875,
          2738.621875
         ]
        },
        {
         "fill": "toself",
         "line": {
          "color": "green"
         },
         "mode": "lines",
         "showlegend": false,
         "type": "scatter",
         "x": [
          "2018-08-01T21:36:00",
          "2018-08-02T00:00:00",
          "2018-08-02T02:24:00",
          "2018-08-01T21:36:00"
         ],
         "y": [
          2897.138125,
          2964.36625,
          2897.138125,
          2897.138125
         ]
        },
        {
         "fill": "toself",
         "line": {
          "color": "green"
         },
         "mode": "lines",
         "showlegend": false,
         "type": "scatter",
         "x": [
          "2018-08-02T21:36:00",
          "2018-08-03T00:00:00",
          "2018-08-03T02:24:00",
          "2018-08-02T21:36:00"
         ],
         "y": [
          2907.608125,
          2974.8362500000003,
          2907.608125,
          2907.608125
         ]
        },
        {
         "fill": "toself",
         "line": {
          "color": "red"
         },
         "mode": "lines",
         "showlegend": false,
         "type": "scatter",
         "x": [
          "2018-08-05T21:36:00",
          "2018-08-06T00:00:00",
          "2018-08-06T02:24:00",
          "2018-08-05T21:36:00"
         ],
         "y": [
          2768.751875,
          2701.52375,
          2768.751875,
          2768.751875
         ]
        },
        {
         "fill": "toself",
         "line": {
          "color": "green"
         },
         "mode": "lines",
         "showlegend": false,
         "type": "scatter",
         "x": [
          "2018-08-06T21:36:00",
          "2018-08-07T00:00:00",
          "2018-08-07T02:24:00",
          "2018-08-06T21:36:00"
         ],
         "y": [
          2930.658125,
          2997.88625,
          2930.658125,
          2930.658125
         ]
        },
        {
         "fill": "toself",
         "line": {
          "color": "red"
         },
         "mode": "lines",
         "showlegend": false,
         "type": "scatter",
         "x": [
          "2018-08-07T21:36:00",
          "2018-08-08T00:00:00",
          "2018-08-08T02:24:00",
          "2018-08-07T21:36:00"
         ],
         "y": [
          2785.861875,
          2718.63375,
          2785.861875,
          2785.861875
         ]
        },
        {
         "fill": "toself",
         "line": {
          "color": "green"
         },
         "mode": "lines",
         "showlegend": false,
         "type": "scatter",
         "x": [
          "2018-08-08T21:36:00",
          "2018-08-09T00:00:00",
          "2018-08-09T02:24:00",
          "2018-08-08T21:36:00"
         ],
         "y": [
          2784.751875,
          2717.52375,
          2784.751875,
          2784.751875
         ]
        },
        {
         "fill": "toself",
         "line": {
          "color": "green"
         },
         "mode": "lines",
         "showlegend": false,
         "type": "scatter",
         "x": [
          "2018-08-09T21:36:00",
          "2018-08-10T00:00:00",
          "2018-08-10T02:24:00",
          "2018-08-09T21:36:00"
         ],
         "y": [
          2758.581875,
          2691.3537499999998,
          2758.581875,
          2758.581875
         ]
        },
        {
         "fill": "toself",
         "line": {
          "color": "red"
         },
         "mode": "lines",
         "showlegend": false,
         "type": "scatter",
         "x": [
          "2018-08-12T21:36:00",
          "2018-08-13T00:00:00",
          "2018-08-13T02:24:00",
          "2018-08-12T21:36:00"
         ],
         "y": [
          2910.628125,
          2977.8562500000003,
          2910.628125,
          2910.628125
         ]
        },
        {
         "fill": "toself",
         "line": {
          "color": "red"
         },
         "mode": "lines",
         "showlegend": false,
         "type": "scatter",
         "x": [
          "2018-08-13T21:36:00",
          "2018-08-14T00:00:00",
          "2018-08-14T02:24:00",
          "2018-08-13T21:36:00"
         ],
         "y": [
          2759.351875,
          2692.1237499999997,
          2759.351875,
          2759.351875
         ]
        },
        {
         "fill": "toself",
         "line": {
          "color": "green"
         },
         "mode": "lines",
         "showlegend": false,
         "type": "scatter",
         "x": [
          "2018-08-14T21:36:00",
          "2018-08-15T00:00:00",
          "2018-08-15T02:24:00",
          "2018-08-14T21:36:00"
         ],
         "y": [
          2735.2618749999997,
          2668.0337499999996,
          2735.2618749999997,
          2735.2618749999997
         ]
        },
        {
         "fill": "toself",
         "line": {
          "color": "green"
         },
         "mode": "lines",
         "showlegend": false,
         "type": "scatter",
         "x": [
          "2018-08-15T21:36:00",
          "2018-08-16T00:00:00",
          "2018-08-16T02:24:00",
          "2018-08-15T21:36:00"
         ],
         "y": [
          2917.718125,
          2984.94625,
          2917.718125,
          2917.718125
         ]
        },
        {
         "fill": "toself",
         "line": {
          "color": "red"
         },
         "mode": "lines",
         "showlegend": false,
         "type": "scatter",
         "x": [
          "2018-08-16T21:36:00",
          "2018-08-17T00:00:00",
          "2018-08-17T02:24:00",
          "2018-08-16T21:36:00"
         ],
         "y": [
          2766.501875,
          2699.27375,
          2766.501875,
          2766.501875
         ]
        },
        {
         "fill": "toself",
         "line": {
          "color": "green"
         },
         "mode": "lines",
         "showlegend": false,
         "type": "scatter",
         "x": [
          "2018-08-19T21:36:00",
          "2018-08-20T00:00:00",
          "2018-08-20T02:24:00",
          "2018-08-19T21:36:00"
         ],
         "y": [
          2926.9881250000003,
          2994.2162500000004,
          2926.9881250000003,
          2926.9881250000003
         ]
        },
        {
         "fill": "toself",
         "line": {
          "color": "green"
         },
         "mode": "lines",
         "showlegend": false,
         "type": "scatter",
         "x": [
          "2018-08-20T21:36:00",
          "2018-08-21T00:00:00",
          "2018-08-21T02:24:00",
          "2018-08-20T21:36:00"
         ],
         "y": [
          2940.458125,
          3007.68625,
          2940.458125,
          2940.458125
         ]
        },
        {
         "fill": "toself",
         "line": {
          "color": "red"
         },
         "mode": "lines",
         "showlegend": false,
         "type": "scatter",
         "x": [
          "2018-08-21T21:36:00",
          "2018-08-22T00:00:00",
          "2018-08-22T02:24:00",
          "2018-08-21T21:36:00"
         ],
         "y": [
          2788.821875,
          2721.59375,
          2788.821875,
          2788.821875
         ]
        },
        {
         "fill": "toself",
         "line": {
          "color": "green"
         },
         "mode": "lines",
         "showlegend": false,
         "type": "scatter",
         "x": [
          "2018-08-22T21:36:00",
          "2018-08-23T00:00:00",
          "2018-08-23T02:24:00",
          "2018-08-22T21:36:00"
         ],
         "y": [
          2786.801875,
          2719.57375,
          2786.801875,
          2786.801875
         ]
        },
        {
         "fill": "toself",
         "line": {
          "color": "red"
         },
         "mode": "lines",
         "showlegend": false,
         "type": "scatter",
         "x": [
          "2018-08-23T21:36:00",
          "2018-08-24T00:00:00",
          "2018-08-24T02:24:00",
          "2018-08-23T21:36:00"
         ],
         "y": [
          2795.121875,
          2727.8937499999997,
          2795.121875,
          2795.121875
         ]
        },
        {
         "fill": "toself",
         "line": {
          "color": "red"
         },
         "mode": "lines",
         "showlegend": false,
         "type": "scatter",
         "x": [
          "2018-08-26T21:36:00",
          "2018-08-27T00:00:00",
          "2018-08-27T02:24:00",
          "2018-08-26T21:36:00"
         ],
         "y": [
          2817.461875,
          2750.23375,
          2817.461875,
          2817.461875
         ]
        },
        {
         "fill": "toself",
         "line": {
          "color": "red"
         },
         "mode": "lines",
         "showlegend": false,
         "type": "scatter",
         "x": [
          "2018-08-27T21:36:00",
          "2018-08-28T00:00:00",
          "2018-08-28T02:24:00",
          "2018-08-27T21:36:00"
         ],
         "y": [
          2970.998125,
          3038.22625,
          2970.998125,
          2970.998125
         ]
        },
        {
         "fill": "toself",
         "line": {
          "color": "green"
         },
         "mode": "lines",
         "showlegend": false,
         "type": "scatter",
         "x": [
          "2018-08-28T21:36:00",
          "2018-08-29T00:00:00",
          "2018-08-29T02:24:00",
          "2018-08-28T21:36:00"
         ],
         "y": [
          2983.728125,
          3050.95625,
          2983.728125,
          2983.728125
         ]
        },
        {
         "fill": "toself",
         "line": {
          "color": "green"
         },
         "mode": "lines",
         "showlegend": false,
         "type": "scatter",
         "x": [
          "2018-08-29T21:36:00",
          "2018-08-30T00:00:00",
          "2018-08-30T02:24:00",
          "2018-08-29T21:36:00"
         ],
         "y": [
          2827.9918749999997,
          2760.7637499999996,
          2827.9918749999997,
          2827.9918749999997
         ]
        },
        {
         "fill": "toself",
         "line": {
          "color": "green"
         },
         "mode": "lines",
         "showlegend": false,
         "type": "scatter",
         "x": [
          "2018-08-30T21:36:00",
          "2018-08-31T00:00:00",
          "2018-08-31T02:24:00",
          "2018-08-30T21:36:00"
         ],
         "y": [
          2973.5481250000003,
          3040.7762500000003,
          2973.5481250000003,
          2973.5481250000003
         ]
        },
        {
         "fill": "toself",
         "line": {
          "color": "green"
         },
         "mode": "lines",
         "showlegend": false,
         "type": "scatter",
         "x": [
          "2018-09-03T21:36:00",
          "2018-09-04T00:00:00",
          "2018-09-04T02:24:00",
          "2018-09-03T21:36:00"
         ],
         "y": [
          2817.901875,
          2750.67375,
          2817.901875,
          2817.901875
         ]
        },
        {
         "fill": "toself",
         "line": {
          "color": "red"
         },
         "mode": "lines",
         "showlegend": false,
         "type": "scatter",
         "x": [
          "2018-09-04T21:36:00",
          "2018-09-05T00:00:00",
          "2018-09-05T02:24:00",
          "2018-09-04T21:36:00"
         ],
         "y": [
          2961.438125,
          3028.66625,
          2961.438125,
          2961.438125
         ]
        },
        {
         "fill": "toself",
         "line": {
          "color": "red"
         },
         "mode": "lines",
         "showlegend": false,
         "type": "scatter",
         "x": [
          "2018-09-05T21:36:00",
          "2018-09-06T00:00:00",
          "2018-09-06T02:24:00",
          "2018-09-05T21:36:00"
         ],
         "y": [
          2959.2781250000003,
          3026.5062500000004,
          2959.2781250000003,
          2959.2781250000003
         ]
        },
        {
         "fill": "toself",
         "line": {
          "color": "red"
         },
         "mode": "lines",
         "showlegend": false,
         "type": "scatter",
         "x": [
          "2018-09-06T21:36:00",
          "2018-09-07T00:00:00",
          "2018-09-07T02:24:00",
          "2018-09-06T21:36:00"
         ],
         "y": [
          2796.891875,
          2729.6637499999997,
          2796.891875,
          2796.891875
         ]
        },
        {
         "fill": "toself",
         "line": {
          "color": "red"
         },
         "mode": "lines",
         "showlegend": false,
         "type": "scatter",
         "x": [
          "2018-09-09T21:36:00",
          "2018-09-10T00:00:00",
          "2018-09-10T02:24:00",
          "2018-09-09T21:36:00"
         ],
         "y": [
          2954.158125,
          3021.38625,
          2954.158125,
          2954.158125
         ]
        },
        {
         "fill": "toself",
         "line": {
          "color": "green"
         },
         "mode": "lines",
         "showlegend": false,
         "type": "scatter",
         "x": [
          "2018-09-10T21:36:00",
          "2018-09-11T00:00:00",
          "2018-09-11T02:24:00",
          "2018-09-10T21:36:00"
         ],
         "y": [
          2959.748125,
          3026.97625,
          2959.748125,
          2959.748125
         ]
        },
        {
         "fill": "toself",
         "line": {
          "color": "red"
         },
         "mode": "lines",
         "showlegend": false,
         "type": "scatter",
         "x": [
          "2018-09-11T21:36:00",
          "2018-09-12T00:00:00",
          "2018-09-12T02:24:00",
          "2018-09-11T21:36:00"
         ],
         "y": [
          2811.9718749999997,
          2744.7437499999996,
          2811.9718749999997,
          2811.9718749999997
         ]
        },
        {
         "fill": "toself",
         "line": {
          "color": "red"
         },
         "mode": "lines",
         "showlegend": false,
         "type": "scatter",
         "x": [
          "2018-09-12T21:36:00",
          "2018-09-13T00:00:00",
          "2018-09-13T02:24:00",
          "2018-09-12T21:36:00"
         ],
         "y": [
          2829.161875,
          2761.9337499999997,
          2829.161875,
          2829.161875
         ]
        },
        {
         "fill": "toself",
         "line": {
          "color": "green"
         },
         "mode": "lines",
         "showlegend": false,
         "type": "scatter",
         "x": [
          "2018-09-13T21:36:00",
          "2018-09-14T00:00:00",
          "2018-09-14T02:24:00",
          "2018-09-13T21:36:00"
         ],
         "y": [
          2828.541875,
          2761.31375,
          2828.541875,
          2828.541875
         ]
        },
        {
         "fill": "toself",
         "line": {
          "color": "green"
         },
         "mode": "lines",
         "showlegend": false,
         "type": "scatter",
         "x": [
          "2018-09-16T21:36:00",
          "2018-09-17T00:00:00",
          "2018-09-17T02:24:00",
          "2018-09-16T21:36:00"
         ],
         "y": [
          2818.9318749999998,
          2751.7037499999997,
          2818.9318749999998,
          2818.9318749999998
         ]
        },
        {
         "fill": "toself",
         "line": {
          "color": "green"
         },
         "mode": "lines",
         "showlegend": false,
         "type": "scatter",
         "x": [
          "2018-09-17T21:36:00",
          "2018-09-18T00:00:00",
          "2018-09-18T02:24:00",
          "2018-09-17T21:36:00"
         ],
         "y": [
          2978.398125,
          3045.6262500000003,
          2978.398125,
          2978.398125
         ]
        },
        {
         "fill": "toself",
         "line": {
          "color": "red"
         },
         "mode": "lines",
         "showlegend": false,
         "type": "scatter",
         "x": [
          "2018-09-18T21:36:00",
          "2018-09-19T00:00:00",
          "2018-09-19T02:24:00",
          "2018-09-18T21:36:00"
         ],
         "y": [
          2836.591875,
          2769.36375,
          2836.591875,
          2836.591875
         ]
        },
        {
         "fill": "toself",
         "line": {
          "color": "red"
         },
         "mode": "lines",
         "showlegend": false,
         "type": "scatter",
         "x": [
          "2018-09-19T21:36:00",
          "2018-09-20T00:00:00",
          "2018-09-20T02:24:00",
          "2018-09-19T21:36:00"
         ],
         "y": [
          2852.501875,
          2785.27375,
          2852.501875,
          2852.501875
         ]
        },
        {
         "fill": "toself",
         "line": {
          "color": "green"
         },
         "mode": "lines",
         "showlegend": false,
         "type": "scatter",
         "x": [
          "2018-09-20T21:36:00",
          "2018-09-21T00:00:00",
          "2018-09-21T02:24:00",
          "2018-09-20T21:36:00"
         ],
         "y": [
          2859.881875,
          2792.65375,
          2859.881875,
          2859.881875
         ]
        },
        {
         "fill": "toself",
         "line": {
          "color": "green"
         },
         "mode": "lines",
         "showlegend": false,
         "type": "scatter",
         "x": [
          "2018-09-23T21:36:00",
          "2018-09-24T00:00:00",
          "2018-09-24T02:24:00",
          "2018-09-23T21:36:00"
         ],
         "y": [
          2845.401875,
          2778.17375,
          2845.401875,
          2845.401875
         ]
        },
        {
         "fill": "toself",
         "line": {
          "color": "green"
         },
         "mode": "lines",
         "showlegend": false,
         "type": "scatter",
         "x": [
          "2018-09-24T21:36:00",
          "2018-09-25T00:00:00",
          "2018-09-25T02:24:00",
          "2018-09-24T21:36:00"
         ],
         "y": [
          2846.4718749999997,
          2779.2437499999996,
          2846.4718749999997,
          2846.4718749999997
         ]
        },
        {
         "fill": "toself",
         "line": {
          "color": "red"
         },
         "mode": "lines",
         "showlegend": false,
         "type": "scatter",
         "x": [
          "2018-09-25T21:36:00",
          "2018-09-26T00:00:00",
          "2018-09-26T02:24:00",
          "2018-09-25T21:36:00"
         ],
         "y": [
          2998.378125,
          3065.6062500000003,
          2998.378125,
          2998.378125
         ]
        },
        {
         "fill": "toself",
         "line": {
          "color": "green"
         },
         "mode": "lines",
         "showlegend": false,
         "type": "scatter",
         "x": [
          "2018-09-26T21:36:00",
          "2018-09-27T00:00:00",
          "2018-09-27T02:24:00",
          "2018-09-26T21:36:00"
         ],
         "y": [
          2994.448125,
          3061.67625,
          2994.448125,
          2994.448125
         ]
        },
        {
         "fill": "toself",
         "line": {
          "color": "green"
         },
         "mode": "lines",
         "showlegend": false,
         "type": "scatter",
         "x": [
          "2018-09-27T21:36:00",
          "2018-09-28T00:00:00",
          "2018-09-28T02:24:00",
          "2018-09-27T21:36:00"
         ],
         "y": [
          2987.7581250000003,
          3054.9862500000004,
          2987.7581250000003,
          2987.7581250000003
         ]
        },
        {
         "fill": "toself",
         "line": {
          "color": "green"
         },
         "mode": "lines",
         "showlegend": false,
         "type": "scatter",
         "x": [
          "2018-09-30T21:36:00",
          "2018-10-01T00:00:00",
          "2018-10-01T02:24:00",
          "2018-09-30T21:36:00"
         ],
         "y": [
          2850.6818749999998,
          2783.4537499999997,
          2850.6818749999998,
          2850.6818749999998
         ]
        },
        {
         "fill": "toself",
         "line": {
          "color": "green"
         },
         "mode": "lines",
         "showlegend": false,
         "type": "scatter",
         "x": [
          "2018-10-01T21:36:00",
          "2018-10-02T00:00:00",
          "2018-10-02T02:24:00",
          "2018-10-01T21:36:00"
         ],
         "y": [
          2852.141875,
          2784.9137499999997,
          2852.141875,
          2852.141875
         ]
        },
        {
         "fill": "toself",
         "line": {
          "color": "green"
         },
         "mode": "lines",
         "showlegend": false,
         "type": "scatter",
         "x": [
          "2018-10-02T21:36:00",
          "2018-10-03T00:00:00",
          "2018-10-03T02:24:00",
          "2018-10-02T21:36:00"
         ],
         "y": [
          2854.131875,
          2786.90375,
          2854.131875,
          2854.131875
         ]
        },
        {
         "fill": "toself",
         "line": {
          "color": "green"
         },
         "mode": "lines",
         "showlegend": false,
         "type": "scatter",
         "x": [
          "2018-10-03T21:36:00",
          "2018-10-04T00:00:00",
          "2018-10-04T02:24:00",
          "2018-10-03T21:36:00"
         ],
         "y": [
          2816.691875,
          2749.46375,
          2816.691875,
          2816.691875
         ]
        },
        {
         "fill": "toself",
         "line": {
          "color": "red"
         },
         "mode": "lines",
         "showlegend": false,
         "type": "scatter",
         "x": [
          "2018-10-04T21:36:00",
          "2018-10-05T00:00:00",
          "2018-10-05T02:24:00",
          "2018-10-04T21:36:00"
         ],
         "y": [
          2976.868125,
          3044.09625,
          2976.868125,
          2976.868125
         ]
        },
        {
         "fill": "toself",
         "line": {
          "color": "green"
         },
         "mode": "lines",
         "showlegend": false,
         "type": "scatter",
         "x": [
          "2018-10-07T21:36:00",
          "2018-10-08T00:00:00",
          "2018-10-08T02:24:00",
          "2018-10-07T21:36:00"
         ],
         "y": [
          2956.678125,
          3023.90625,
          2956.678125,
          2956.678125
         ]
        },
        {
         "fill": "toself",
         "line": {
          "color": "green"
         },
         "mode": "lines",
         "showlegend": false,
         "type": "scatter",
         "x": [
          "2018-10-08T21:36:00",
          "2018-10-09T00:00:00",
          "2018-10-09T02:24:00",
          "2018-10-08T21:36:00"
         ],
         "y": [
          2807.041875,
          2739.81375,
          2807.041875,
          2807.041875
         ]
        },
        {
         "fill": "toself",
         "line": {
          "color": "green"
         },
         "mode": "lines",
         "showlegend": false,
         "type": "scatter",
         "x": [
          "2018-10-09T21:36:00",
          "2018-10-10T00:00:00",
          "2018-10-10T02:24:00",
          "2018-10-09T21:36:00"
         ],
         "y": [
          2717.631875,
          2650.40375,
          2717.631875,
          2717.631875
         ]
        },
        {
         "fill": "toself",
         "line": {
          "color": "red"
         },
         "mode": "lines",
         "showlegend": false,
         "type": "scatter",
         "x": [
          "2018-10-10T21:36:00",
          "2018-10-11T00:00:00",
          "2018-10-11T02:24:00",
          "2018-10-10T21:36:00"
         ],
         "y": [
          2862.368125,
          2929.59625,
          2862.368125,
          2862.368125
         ]
        },
        {
         "fill": "toself",
         "line": {
          "color": "green"
         },
         "mode": "lines",
         "showlegend": false,
         "type": "scatter",
         "x": [
          "2018-10-11T21:36:00",
          "2018-10-12T00:00:00",
          "2018-10-12T02:24:00",
          "2018-10-11T21:36:00"
         ],
         "y": [
          2662.211875,
          2594.98375,
          2662.211875,
          2662.211875
         ]
        },
        {
         "fill": "toself",
         "line": {
          "color": "green"
         },
         "mode": "lines",
         "showlegend": false,
         "type": "scatter",
         "x": [
          "2018-10-14T21:36:00",
          "2018-10-15T00:00:00",
          "2018-10-15T02:24:00",
          "2018-10-14T21:36:00"
         ],
         "y": [
          2681.801875,
          2614.57375,
          2681.801875,
          2681.801875
         ]
        },
        {
         "fill": "toself",
         "line": {
          "color": "green"
         },
         "mode": "lines",
         "showlegend": false,
         "type": "scatter",
         "x": [
          "2018-10-15T21:36:00",
          "2018-10-16T00:00:00",
          "2018-10-16T02:24:00",
          "2018-10-15T21:36:00"
         ],
         "y": [
          2880.688125,
          2947.91625,
          2880.688125,
          2880.688125
         ]
        },
        {
         "fill": "toself",
         "line": {
          "color": "green"
         },
         "mode": "lines",
         "showlegend": false,
         "type": "scatter",
         "x": [
          "2018-10-16T21:36:00",
          "2018-10-17T00:00:00",
          "2018-10-17T02:24:00",
          "2018-10-16T21:36:00"
         ],
         "y": [
          2714.581875,
          2647.3537499999998,
          2714.581875,
          2714.581875
         ]
        },
        {
         "fill": "toself",
         "line": {
          "color": "red"
         },
         "mode": "lines",
         "showlegend": false,
         "type": "scatter",
         "x": [
          "2018-10-17T21:36:00",
          "2018-10-18T00:00:00",
          "2018-10-18T02:24:00",
          "2018-10-17T21:36:00"
         ],
         "y": [
          2873.268125,
          2940.49625,
          2873.268125,
          2873.268125
         ]
        },
        {
         "fill": "toself",
         "line": {
          "color": "red"
         },
         "mode": "lines",
         "showlegend": false,
         "type": "scatter",
         "x": [
          "2018-10-18T21:36:00",
          "2018-10-19T00:00:00",
          "2018-10-19T02:24:00",
          "2018-10-18T21:36:00"
         ],
         "y": [
          2864.998125,
          2932.22625,
          2864.998125,
          2864.998125
         ]
        },
        {
         "fill": "toself",
         "line": {
          "color": "green"
         },
         "mode": "lines",
         "showlegend": false,
         "type": "scatter",
         "x": [
          "2018-10-21T21:36:00",
          "2018-10-22T00:00:00",
          "2018-10-22T02:24:00",
          "2018-10-21T21:36:00"
         ],
         "y": [
          2681.9918749999997,
          2614.7637499999996,
          2681.9918749999997,
          2681.9918749999997
         ]
        },
        {
         "fill": "toself",
         "line": {
          "color": "red"
         },
         "mode": "lines",
         "showlegend": false,
         "type": "scatter",
         "x": [
          "2018-10-22T21:36:00",
          "2018-10-23T00:00:00",
          "2018-10-23T02:24:00",
          "2018-10-22T21:36:00"
         ],
         "y": [
          2624.2018749999997,
          2556.9737499999997,
          2624.2018749999997,
          2624.2018749999997
         ]
        },
        {
         "fill": "toself",
         "line": {
          "color": "red"
         },
         "mode": "lines",
         "showlegend": false,
         "type": "scatter",
         "x": [
          "2018-10-23T21:36:00",
          "2018-10-24T00:00:00",
          "2018-10-24T02:24:00",
          "2018-10-23T21:36:00"
         ],
         "y": [
          2809.8181250000002,
          2877.0462500000003,
          2809.8181250000002,
          2809.8181250000002
         ]
        },
        {
         "fill": "toself",
         "line": {
          "color": "red"
         },
         "mode": "lines",
         "showlegend": false,
         "type": "scatter",
         "x": [
          "2018-10-24T21:36:00",
          "2018-10-25T00:00:00",
          "2018-10-25T02:24:00",
          "2018-10-24T21:36:00"
         ],
         "y": [
          2600.611875,
          2533.38375,
          2600.611875,
          2600.611875
         ]
        },
        {
         "fill": "toself",
         "line": {
          "color": "green"
         },
         "mode": "lines",
         "showlegend": false,
         "type": "scatter",
         "x": [
          "2018-10-25T21:36:00",
          "2018-10-26T00:00:00",
          "2018-10-26T02:24:00",
          "2018-10-25T21:36:00"
         ],
         "y": [
          2560.9318749999998,
          2493.7037499999997,
          2560.9318749999998,
          2560.9318749999998
         ]
        },
        {
         "fill": "toself",
         "line": {
          "color": "red"
         },
         "mode": "lines",
         "showlegend": false,
         "type": "scatter",
         "x": [
          "2018-10-28T21:36:00",
          "2018-10-29T00:00:00",
          "2018-10-29T02:24:00",
          "2018-10-28T21:36:00"
         ],
         "y": [
          2774.078125,
          2841.30625,
          2774.078125,
          2774.078125
         ]
        },
        {
         "fill": "toself",
         "line": {
          "color": "green"
         },
         "mode": "lines",
         "showlegend": false,
         "type": "scatter",
         "x": [
          "2018-10-29T21:36:00",
          "2018-10-30T00:00:00",
          "2018-10-30T02:24:00",
          "2018-10-29T21:36:00"
         ],
         "y": [
          2752.658125,
          2819.88625,
          2752.658125,
          2752.658125
         ]
        },
        {
         "fill": "toself",
         "line": {
          "color": "green"
         },
         "mode": "lines",
         "showlegend": false,
         "type": "scatter",
         "x": [
          "2018-10-30T21:36:00",
          "2018-10-31T00:00:00",
          "2018-10-31T02:24:00",
          "2018-10-30T21:36:00"
         ],
         "y": [
          2803.918125,
          2871.1462500000002,
          2803.918125,
          2803.918125
         ]
        },
        {
         "fill": "toself",
         "line": {
          "color": "red"
         },
         "mode": "lines",
         "showlegend": false,
         "type": "scatter",
         "x": [
          "2018-10-31T21:36:00",
          "2018-11-01T00:00:00",
          "2018-11-01T02:24:00",
          "2018-10-31T21:36:00"
         ],
         "y": [
          2641.621875,
          2574.3937499999997,
          2641.621875,
          2641.621875
         ]
        },
        {
         "fill": "toself",
         "line": {
          "color": "red"
         },
         "mode": "lines",
         "showlegend": false,
         "type": "scatter",
         "x": [
          "2018-11-01T21:36:00",
          "2018-11-02T00:00:00",
          "2018-11-02T02:24:00",
          "2018-11-01T21:36:00"
         ],
         "y": [
          2823.7781250000003,
          2891.0062500000004,
          2823.7781250000003,
          2823.7781250000003
         ]
        },
        {
         "fill": "toself",
         "line": {
          "color": "green"
         },
         "mode": "lines",
         "showlegend": false,
         "type": "scatter",
         "x": [
          "2018-11-04T21:36:00",
          "2018-11-05T00:00:00",
          "2018-11-05T02:24:00",
          "2018-11-04T21:36:00"
         ],
         "y": [
          2811.498125,
          2878.72625,
          2811.498125,
          2811.498125
         ]
        },
        {
         "fill": "toself",
         "line": {
          "color": "red"
         },
         "mode": "lines",
         "showlegend": false,
         "type": "scatter",
         "x": [
          "2018-11-05T21:36:00",
          "2018-11-06T00:00:00",
          "2018-11-06T02:24:00",
          "2018-11-05T21:36:00"
         ],
         "y": [
          2669.851875,
          2602.6237499999997,
          2669.851875,
          2669.851875
         ]
        },
        {
         "fill": "toself",
         "line": {
          "color": "red"
         },
         "mode": "lines",
         "showlegend": false,
         "type": "scatter",
         "x": [
          "2018-11-06T21:36:00",
          "2018-11-07T00:00:00",
          "2018-11-07T02:24:00",
          "2018-11-06T21:36:00"
         ],
         "y": [
          2706.901875,
          2639.67375,
          2706.901875,
          2706.901875
         ]
        },
        {
         "fill": "toself",
         "line": {
          "color": "green"
         },
         "mode": "lines",
         "showlegend": false,
         "type": "scatter",
         "x": [
          "2018-11-07T21:36:00",
          "2018-11-08T00:00:00",
          "2018-11-08T02:24:00",
          "2018-11-07T21:36:00"
         ],
         "y": [
          2881.978125,
          2949.20625,
          2881.978125,
          2881.978125
         ]
        },
        {
         "fill": "toself",
         "line": {
          "color": "green"
         },
         "mode": "lines",
         "showlegend": false,
         "type": "scatter",
         "x": [
          "2018-11-08T21:36:00",
          "2018-11-09T00:00:00",
          "2018-11-09T02:24:00",
          "2018-11-08T21:36:00"
         ],
         "y": [
          2697.0118749999997,
          2629.7837499999996,
          2697.0118749999997,
          2697.0118749999997
         ]
        },
        {
         "fill": "toself",
         "line": {
          "color": "red"
         },
         "mode": "lines",
         "showlegend": false,
         "type": "scatter",
         "x": [
          "2018-11-11T21:36:00",
          "2018-11-12T00:00:00",
          "2018-11-12T02:24:00",
          "2018-11-11T21:36:00"
         ],
         "y": [
          2843.218125,
          2910.44625,
          2843.218125,
          2843.218125
         ]
        },
        {
         "fill": "toself",
         "line": {
          "color": "green"
         },
         "mode": "lines",
         "showlegend": false,
         "type": "scatter",
         "x": [
          "2018-11-12T21:36:00",
          "2018-11-13T00:00:00",
          "2018-11-13T02:24:00",
          "2018-11-12T21:36:00"
         ],
         "y": [
          2647.751875,
          2580.52375,
          2647.751875,
          2647.751875
         ]
        },
        {
         "fill": "toself",
         "line": {
          "color": "red"
         },
         "mode": "lines",
         "showlegend": false,
         "type": "scatter",
         "x": [
          "2018-11-13T21:36:00",
          "2018-11-14T00:00:00",
          "2018-11-14T02:24:00",
          "2018-11-13T21:36:00"
         ],
         "y": [
          2814.0281250000003,
          2881.2562500000004,
          2814.0281250000003,
          2814.0281250000003
         ]
        },
        {
         "fill": "toself",
         "line": {
          "color": "green"
         },
         "mode": "lines",
         "showlegend": false,
         "type": "scatter",
         "x": [
          "2018-11-14T21:36:00",
          "2018-11-15T00:00:00",
          "2018-11-15T02:24:00",
          "2018-11-14T21:36:00"
         ],
         "y": [
          2802.608125,
          2869.8362500000003,
          2802.608125,
          2802.608125
         ]
        },
        {
         "fill": "toself",
         "line": {
          "color": "green"
         },
         "mode": "lines",
         "showlegend": false,
         "type": "scatter",
         "x": [
          "2018-11-15T21:36:00",
          "2018-11-16T00:00:00",
          "2018-11-16T02:24:00",
          "2018-11-15T21:36:00"
         ],
         "y": [
          2813.978125,
          2881.20625,
          2813.978125,
          2813.978125
         ]
        },
        {
         "fill": "toself",
         "line": {
          "color": "green"
         },
         "mode": "lines",
         "showlegend": false,
         "type": "scatter",
         "x": [
          "2018-11-18T21:36:00",
          "2018-11-19T00:00:00",
          "2018-11-19T02:24:00",
          "2018-11-18T21:36:00"
         ],
         "y": [
          2613.861875,
          2546.63375,
          2613.861875,
          2613.861875
         ]
        },
        {
         "fill": "toself",
         "line": {
          "color": "green"
         },
         "mode": "lines",
         "showlegend": false,
         "type": "scatter",
         "x": [
          "2018-11-19T21:36:00",
          "2018-11-20T00:00:00",
          "2018-11-20T02:24:00",
          "2018-11-19T21:36:00"
         ],
         "y": [
          2564.291875,
          2497.06375,
          2564.291875,
          2564.291875
         ]
        },
        {
         "fill": "toself",
         "line": {
          "color": "green"
         },
         "mode": "lines",
         "showlegend": false,
         "type": "scatter",
         "x": [
          "2018-11-20T21:36:00",
          "2018-11-21T00:00:00",
          "2018-11-21T02:24:00",
          "2018-11-20T21:36:00"
         ],
         "y": [
          2582.591875,
          2515.36375,
          2582.591875,
          2582.591875
         ]
        },
        {
         "fill": "toself",
         "line": {
          "color": "green"
         },
         "mode": "lines",
         "showlegend": false,
         "type": "scatter",
         "x": [
          "2018-11-22T21:36:00",
          "2018-11-23T00:00:00",
          "2018-11-23T02:24:00",
          "2018-11-22T21:36:00"
         ],
         "y": [
          2563.861875,
          2496.63375,
          2563.861875,
          2563.861875
         ]
        },
        {
         "fill": "toself",
         "line": {
          "color": "red"
         },
         "mode": "lines",
         "showlegend": false,
         "type": "scatter",
         "x": [
          "2018-11-25T21:36:00",
          "2018-11-26T00:00:00",
          "2018-11-26T02:24:00",
          "2018-11-25T21:36:00"
         ],
         "y": [
          2582.7418749999997,
          2515.5137499999996,
          2582.7418749999997,
          2582.7418749999997
         ]
        },
        {
         "fill": "toself",
         "line": {
          "color": "green"
         },
         "mode": "lines",
         "showlegend": false,
         "type": "scatter",
         "x": [
          "2018-11-26T21:36:00",
          "2018-11-27T00:00:00",
          "2018-11-27T02:24:00",
          "2018-11-26T21:36:00"
         ],
         "y": [
          2749.7581250000003,
          2816.9862500000004,
          2749.7581250000003,
          2749.7581250000003
         ]
        },
        {
         "fill": "toself",
         "line": {
          "color": "green"
         },
         "mode": "lines",
         "showlegend": false,
         "type": "scatter",
         "x": [
          "2018-11-27T21:36:00",
          "2018-11-28T00:00:00",
          "2018-11-28T02:24:00",
          "2018-11-27T21:36:00"
         ],
         "y": [
          2811.228125,
          2878.45625,
          2811.228125,
          2811.228125
         ]
        },
        {
         "fill": "toself",
         "line": {
          "color": "red"
         },
         "mode": "lines",
         "showlegend": false,
         "type": "scatter",
         "x": [
          "2018-11-28T21:36:00",
          "2018-11-29T00:00:00",
          "2018-11-29T02:24:00",
          "2018-11-28T21:36:00"
         ],
         "y": [
          2655.711875,
          2588.48375,
          2655.711875,
          2655.711875
         ]
        },
        {
         "fill": "toself",
         "line": {
          "color": "red"
         },
         "mode": "lines",
         "showlegend": false,
         "type": "scatter",
         "x": [
          "2018-11-29T21:36:00",
          "2018-11-30T00:00:00",
          "2018-11-30T02:24:00",
          "2018-11-29T21:36:00"
         ],
         "y": [
          2665.531875,
          2598.30375,
          2665.531875,
          2665.531875
         ]
        },
        {
         "fill": "toself",
         "line": {
          "color": "green"
         },
         "mode": "lines",
         "showlegend": false,
         "type": "scatter",
         "x": [
          "2018-12-02T21:36:00",
          "2018-12-03T00:00:00",
          "2018-12-03T02:24:00",
          "2018-12-02T21:36:00"
         ],
         "y": [
          2706.151875,
          2638.92375,
          2706.151875,
          2706.151875
         ]
        },
        {
         "fill": "toself",
         "line": {
          "color": "red"
         },
         "mode": "lines",
         "showlegend": false,
         "type": "scatter",
         "x": [
          "2018-12-03T21:36:00",
          "2018-12-04T00:00:00",
          "2018-12-04T02:24:00",
          "2018-12-03T21:36:00"
         ],
         "y": [
          2853.158125,
          2920.38625,
          2853.158125,
          2853.158125
         ]
        },
        {
         "fill": "toself",
         "line": {
          "color": "red"
         },
         "mode": "lines",
         "showlegend": false,
         "type": "scatter",
         "x": [
          "2018-12-05T21:36:00",
          "2018-12-06T00:00:00",
          "2018-12-06T02:24:00",
          "2018-12-05T21:36:00"
         ],
         "y": [
          2554.301875,
          2487.07375,
          2554.301875,
          2554.301875
         ]
        },
        {
         "fill": "toself",
         "line": {
          "color": "red"
         },
         "mode": "lines",
         "showlegend": false,
         "type": "scatter",
         "x": [
          "2018-12-06T21:36:00",
          "2018-12-07T00:00:00",
          "2018-12-07T02:24:00",
          "2018-12-06T21:36:00"
         ],
         "y": [
          2775.768125,
          2842.99625,
          2775.768125,
          2775.768125
         ]
        },
        {
         "fill": "toself",
         "line": {
          "color": "red"
         },
         "mode": "lines",
         "showlegend": false,
         "type": "scatter",
         "x": [
          "2018-12-09T21:36:00",
          "2018-12-10T00:00:00",
          "2018-12-10T02:24:00",
          "2018-12-09T21:36:00"
         ],
         "y": [
          2516.001875,
          2448.77375,
          2516.001875,
          2516.001875
         ]
        },
        {
         "fill": "toself",
         "line": {
          "color": "red"
         },
         "mode": "lines",
         "showlegend": false,
         "type": "scatter",
         "x": [
          "2018-12-10T21:36:00",
          "2018-12-11T00:00:00",
          "2018-12-11T02:24:00",
          "2018-12-10T21:36:00"
         ],
         "y": [
          2741.578125,
          2808.80625,
          2741.578125,
          2741.578125
         ]
        },
        {
         "fill": "toself",
         "line": {
          "color": "red"
         },
         "mode": "lines",
         "showlegend": false,
         "type": "scatter",
         "x": [
          "2018-12-11T21:36:00",
          "2018-12-12T00:00:00",
          "2018-12-12T02:24:00",
          "2018-12-11T21:36:00"
         ],
         "y": [
          2752.668125,
          2819.8962500000002,
          2752.668125,
          2752.668125
         ]
        },
        {
         "fill": "toself",
         "line": {
          "color": "green"
         },
         "mode": "lines",
         "showlegend": false,
         "type": "scatter",
         "x": [
          "2018-12-12T21:36:00",
          "2018-12-13T00:00:00",
          "2018-12-13T02:24:00",
          "2018-12-12T21:36:00"
         ],
         "y": [
          2570.041875,
          2502.81375,
          2570.041875,
          2570.041875
         ]
        },
        {
         "fill": "toself",
         "line": {
          "color": "green"
         },
         "mode": "lines",
         "showlegend": false,
         "type": "scatter",
         "x": [
          "2018-12-13T21:36:00",
          "2018-12-14T00:00:00",
          "2018-12-14T02:24:00",
          "2018-12-13T21:36:00"
         ],
         "y": [
          2526.611875,
          2459.38375,
          2526.611875,
          2526.611875
         ]
        },
        {
         "fill": "toself",
         "line": {
          "color": "green"
         },
         "mode": "lines",
         "showlegend": false,
         "type": "scatter",
         "x": [
          "2018-12-16T21:36:00",
          "2018-12-17T00:00:00",
          "2018-12-17T02:24:00",
          "2018-12-16T21:36:00"
         ],
         "y": [
          2463.311875,
          2396.08375,
          2463.311875,
          2463.311875
         ]
        },
        {
         "fill": "toself",
         "line": {
          "color": "red"
         },
         "mode": "lines",
         "showlegend": false,
         "type": "scatter",
         "x": [
          "2018-12-17T21:36:00",
          "2018-12-18T00:00:00",
          "2018-12-18T02:24:00",
          "2018-12-17T21:36:00"
         ],
         "y": [
          2641.218125,
          2708.44625,
          2641.218125,
          2641.218125
         ]
        },
        {
         "fill": "toself",
         "line": {
          "color": "red"
         },
         "mode": "lines",
         "showlegend": false,
         "type": "scatter",
         "x": [
          "2018-12-18T21:36:00",
          "2018-12-19T00:00:00",
          "2018-12-19T02:24:00",
          "2018-12-18T21:36:00"
         ],
         "y": [
          2652.518125,
          2719.74625,
          2652.518125,
          2652.518125
         ]
        },
        {
         "fill": "toself",
         "line": {
          "color": "green"
         },
         "mode": "lines",
         "showlegend": false,
         "type": "scatter",
         "x": [
          "2018-12-19T21:36:00",
          "2018-12-20T00:00:00",
          "2018-12-20T02:24:00",
          "2018-12-19T21:36:00"
         ],
         "y": [
          2373.9518749999997,
          2306.7237499999997,
          2373.9518749999997,
          2373.9518749999997
         ]
        },
        {
         "fill": "toself",
         "line": {
          "color": "green"
         },
         "mode": "lines",
         "showlegend": false,
         "type": "scatter",
         "x": [
          "2018-12-20T21:36:00",
          "2018-12-21T00:00:00",
          "2018-12-21T02:24:00",
          "2018-12-20T21:36:00"
         ],
         "y": [
          2341.321875,
          2274.09375,
          2341.321875,
          2341.321875
         ]
        },
        {
         "fill": "toself",
         "line": {
          "color": "green"
         },
         "mode": "lines",
         "showlegend": false,
         "type": "scatter",
         "x": [
          "2018-12-23T21:36:00",
          "2018-12-24T00:00:00",
          "2018-12-24T02:24:00",
          "2018-12-23T21:36:00"
         ],
         "y": [
          2283.871875,
          2216.6437499999997,
          2283.871875,
          2283.871875
         ]
        },
        {
         "fill": "toself",
         "line": {
          "color": "green"
         },
         "mode": "lines",
         "showlegend": false,
         "type": "scatter",
         "x": [
          "2018-12-25T21:36:00",
          "2018-12-26T00:00:00",
          "2018-12-26T02:24:00",
          "2018-12-25T21:36:00"
         ],
         "y": [
          2534.9881250000003,
          2602.2162500000004,
          2534.9881250000003,
          2534.9881250000003
         ]
        },
        {
         "fill": "toself",
         "line": {
          "color": "red"
         },
         "mode": "lines",
         "showlegend": false,
         "type": "scatter",
         "x": [
          "2018-12-26T21:36:00",
          "2018-12-27T00:00:00",
          "2018-12-27T02:24:00",
          "2018-12-26T21:36:00"
         ],
         "y": [
          2330.711875,
          2263.48375,
          2330.711875,
          2330.711875
         ]
        },
        {
         "fill": "toself",
         "line": {
          "color": "red"
         },
         "mode": "lines",
         "showlegend": false,
         "type": "scatter",
         "x": [
          "2018-12-27T21:36:00",
          "2018-12-28T00:00:00",
          "2018-12-28T02:24:00",
          "2018-12-27T21:36:00"
         ],
         "y": [
          2587.498125,
          2654.72625,
          2587.498125,
          2587.498125
         ]
        },
        {
         "fill": "toself",
         "line": {
          "color": "red"
         },
         "mode": "lines",
         "showlegend": false,
         "type": "scatter",
         "x": [
          "2018-12-30T21:36:00",
          "2018-12-31T00:00:00",
          "2018-12-31T02:24:00",
          "2018-12-30T21:36:00"
         ],
         "y": [
          2415.591875,
          2348.36375,
          2415.591875,
          2415.591875
         ]
        }
       ],
       "layout": {
        "height": 800,
        "template": {
         "data": {
          "bar": [
           {
            "error_x": {
             "color": "#2a3f5f"
            },
            "error_y": {
             "color": "#2a3f5f"
            },
            "marker": {
             "line": {
              "color": "#E5ECF6",
              "width": 0.5
             },
             "pattern": {
              "fillmode": "overlay",
              "size": 10,
              "solidity": 0.2
             }
            },
            "type": "bar"
           }
          ],
          "barpolar": [
           {
            "marker": {
             "line": {
              "color": "#E5ECF6",
              "width": 0.5
             },
             "pattern": {
              "fillmode": "overlay",
              "size": 10,
              "solidity": 0.2
             }
            },
            "type": "barpolar"
           }
          ],
          "carpet": [
           {
            "aaxis": {
             "endlinecolor": "#2a3f5f",
             "gridcolor": "white",
             "linecolor": "white",
             "minorgridcolor": "white",
             "startlinecolor": "#2a3f5f"
            },
            "baxis": {
             "endlinecolor": "#2a3f5f",
             "gridcolor": "white",
             "linecolor": "white",
             "minorgridcolor": "white",
             "startlinecolor": "#2a3f5f"
            },
            "type": "carpet"
           }
          ],
          "choropleth": [
           {
            "colorbar": {
             "outlinewidth": 0,
             "ticks": ""
            },
            "type": "choropleth"
           }
          ],
          "contour": [
           {
            "colorbar": {
             "outlinewidth": 0,
             "ticks": ""
            },
            "colorscale": [
             [
              0,
              "#0d0887"
             ],
             [
              0.1111111111111111,
              "#46039f"
             ],
             [
              0.2222222222222222,
              "#7201a8"
             ],
             [
              0.3333333333333333,
              "#9c179e"
             ],
             [
              0.4444444444444444,
              "#bd3786"
             ],
             [
              0.5555555555555556,
              "#d8576b"
             ],
             [
              0.6666666666666666,
              "#ed7953"
             ],
             [
              0.7777777777777778,
              "#fb9f3a"
             ],
             [
              0.8888888888888888,
              "#fdca26"
             ],
             [
              1,
              "#f0f921"
             ]
            ],
            "type": "contour"
           }
          ],
          "contourcarpet": [
           {
            "colorbar": {
             "outlinewidth": 0,
             "ticks": ""
            },
            "type": "contourcarpet"
           }
          ],
          "heatmap": [
           {
            "colorbar": {
             "outlinewidth": 0,
             "ticks": ""
            },
            "colorscale": [
             [
              0,
              "#0d0887"
             ],
             [
              0.1111111111111111,
              "#46039f"
             ],
             [
              0.2222222222222222,
              "#7201a8"
             ],
             [
              0.3333333333333333,
              "#9c179e"
             ],
             [
              0.4444444444444444,
              "#bd3786"
             ],
             [
              0.5555555555555556,
              "#d8576b"
             ],
             [
              0.6666666666666666,
              "#ed7953"
             ],
             [
              0.7777777777777778,
              "#fb9f3a"
             ],
             [
              0.8888888888888888,
              "#fdca26"
             ],
             [
              1,
              "#f0f921"
             ]
            ],
            "type": "heatmap"
           }
          ],
          "heatmapgl": [
           {
            "colorbar": {
             "outlinewidth": 0,
             "ticks": ""
            },
            "colorscale": [
             [
              0,
              "#0d0887"
             ],
             [
              0.1111111111111111,
              "#46039f"
             ],
             [
              0.2222222222222222,
              "#7201a8"
             ],
             [
              0.3333333333333333,
              "#9c179e"
             ],
             [
              0.4444444444444444,
              "#bd3786"
             ],
             [
              0.5555555555555556,
              "#d8576b"
             ],
             [
              0.6666666666666666,
              "#ed7953"
             ],
             [
              0.7777777777777778,
              "#fb9f3a"
             ],
             [
              0.8888888888888888,
              "#fdca26"
             ],
             [
              1,
              "#f0f921"
             ]
            ],
            "type": "heatmapgl"
           }
          ],
          "histogram": [
           {
            "marker": {
             "pattern": {
              "fillmode": "overlay",
              "size": 10,
              "solidity": 0.2
             }
            },
            "type": "histogram"
           }
          ],
          "histogram2d": [
           {
            "colorbar": {
             "outlinewidth": 0,
             "ticks": ""
            },
            "colorscale": [
             [
              0,
              "#0d0887"
             ],
             [
              0.1111111111111111,
              "#46039f"
             ],
             [
              0.2222222222222222,
              "#7201a8"
             ],
             [
              0.3333333333333333,
              "#9c179e"
             ],
             [
              0.4444444444444444,
              "#bd3786"
             ],
             [
              0.5555555555555556,
              "#d8576b"
             ],
             [
              0.6666666666666666,
              "#ed7953"
             ],
             [
              0.7777777777777778,
              "#fb9f3a"
             ],
             [
              0.8888888888888888,
              "#fdca26"
             ],
             [
              1,
              "#f0f921"
             ]
            ],
            "type": "histogram2d"
           }
          ],
          "histogram2dcontour": [
           {
            "colorbar": {
             "outlinewidth": 0,
             "ticks": ""
            },
            "colorscale": [
             [
              0,
              "#0d0887"
             ],
             [
              0.1111111111111111,
              "#46039f"
             ],
             [
              0.2222222222222222,
              "#7201a8"
             ],
             [
              0.3333333333333333,
              "#9c179e"
             ],
             [
              0.4444444444444444,
              "#bd3786"
             ],
             [
              0.5555555555555556,
              "#d8576b"
             ],
             [
              0.6666666666666666,
              "#ed7953"
             ],
             [
              0.7777777777777778,
              "#fb9f3a"
             ],
             [
              0.8888888888888888,
              "#fdca26"
             ],
             [
              1,
              "#f0f921"
             ]
            ],
            "type": "histogram2dcontour"
           }
          ],
          "mesh3d": [
           {
            "colorbar": {
             "outlinewidth": 0,
             "ticks": ""
            },
            "type": "mesh3d"
           }
          ],
          "parcoords": [
           {
            "line": {
             "colorbar": {
              "outlinewidth": 0,
              "ticks": ""
             }
            },
            "type": "parcoords"
           }
          ],
          "pie": [
           {
            "automargin": true,
            "type": "pie"
           }
          ],
          "scatter": [
           {
            "marker": {
             "colorbar": {
              "outlinewidth": 0,
              "ticks": ""
             }
            },
            "type": "scatter"
           }
          ],
          "scatter3d": [
           {
            "line": {
             "colorbar": {
              "outlinewidth": 0,
              "ticks": ""
             }
            },
            "marker": {
             "colorbar": {
              "outlinewidth": 0,
              "ticks": ""
             }
            },
            "type": "scatter3d"
           }
          ],
          "scattercarpet": [
           {
            "marker": {
             "colorbar": {
              "outlinewidth": 0,
              "ticks": ""
             }
            },
            "type": "scattercarpet"
           }
          ],
          "scattergeo": [
           {
            "marker": {
             "colorbar": {
              "outlinewidth": 0,
              "ticks": ""
             }
            },
            "type": "scattergeo"
           }
          ],
          "scattergl": [
           {
            "marker": {
             "colorbar": {
              "outlinewidth": 0,
              "ticks": ""
             }
            },
            "type": "scattergl"
           }
          ],
          "scattermapbox": [
           {
            "marker": {
             "colorbar": {
              "outlinewidth": 0,
              "ticks": ""
             }
            },
            "type": "scattermapbox"
           }
          ],
          "scatterpolar": [
           {
            "marker": {
             "colorbar": {
              "outlinewidth": 0,
              "ticks": ""
             }
            },
            "type": "scatterpolar"
           }
          ],
          "scatterpolargl": [
           {
            "marker": {
             "colorbar": {
              "outlinewidth": 0,
              "ticks": ""
             }
            },
            "type": "scatterpolargl"
           }
          ],
          "scatterternary": [
           {
            "marker": {
             "colorbar": {
              "outlinewidth": 0,
              "ticks": ""
             }
            },
            "type": "scatterternary"
           }
          ],
          "surface": [
           {
            "colorbar": {
             "outlinewidth": 0,
             "ticks": ""
            },
            "colorscale": [
             [
              0,
              "#0d0887"
             ],
             [
              0.1111111111111111,
              "#46039f"
             ],
             [
              0.2222222222222222,
              "#7201a8"
             ],
             [
              0.3333333333333333,
              "#9c179e"
             ],
             [
              0.4444444444444444,
              "#bd3786"
             ],
             [
              0.5555555555555556,
              "#d8576b"
             ],
             [
              0.6666666666666666,
              "#ed7953"
             ],
             [
              0.7777777777777778,
              "#fb9f3a"
             ],
             [
              0.8888888888888888,
              "#fdca26"
             ],
             [
              1,
              "#f0f921"
             ]
            ],
            "type": "surface"
           }
          ],
          "table": [
           {
            "cells": {
             "fill": {
              "color": "#EBF0F8"
             },
             "line": {
              "color": "white"
             }
            },
            "header": {
             "fill": {
              "color": "#C8D4E3"
             },
             "line": {
              "color": "white"
             }
            },
            "type": "table"
           }
          ]
         },
         "layout": {
          "annotationdefaults": {
           "arrowcolor": "#2a3f5f",
           "arrowhead": 0,
           "arrowwidth": 1
          },
          "autotypenumbers": "strict",
          "coloraxis": {
           "colorbar": {
            "outlinewidth": 0,
            "ticks": ""
           }
          },
          "colorscale": {
           "diverging": [
            [
             0,
             "#8e0152"
            ],
            [
             0.1,
             "#c51b7d"
            ],
            [
             0.2,
             "#de77ae"
            ],
            [
             0.3,
             "#f1b6da"
            ],
            [
             0.4,
             "#fde0ef"
            ],
            [
             0.5,
             "#f7f7f7"
            ],
            [
             0.6,
             "#e6f5d0"
            ],
            [
             0.7,
             "#b8e186"
            ],
            [
             0.8,
             "#7fbc41"
            ],
            [
             0.9,
             "#4d9221"
            ],
            [
             1,
             "#276419"
            ]
           ],
           "sequential": [
            [
             0,
             "#0d0887"
            ],
            [
             0.1111111111111111,
             "#46039f"
            ],
            [
             0.2222222222222222,
             "#7201a8"
            ],
            [
             0.3333333333333333,
             "#9c179e"
            ],
            [
             0.4444444444444444,
             "#bd3786"
            ],
            [
             0.5555555555555556,
             "#d8576b"
            ],
            [
             0.6666666666666666,
             "#ed7953"
            ],
            [
             0.7777777777777778,
             "#fb9f3a"
            ],
            [
             0.8888888888888888,
             "#fdca26"
            ],
            [
             1,
             "#f0f921"
            ]
           ],
           "sequentialminus": [
            [
             0,
             "#0d0887"
            ],
            [
             0.1111111111111111,
             "#46039f"
            ],
            [
             0.2222222222222222,
             "#7201a8"
            ],
            [
             0.3333333333333333,
             "#9c179e"
            ],
            [
             0.4444444444444444,
             "#bd3786"
            ],
            [
             0.5555555555555556,
             "#d8576b"
            ],
            [
             0.6666666666666666,
             "#ed7953"
            ],
            [
             0.7777777777777778,
             "#fb9f3a"
            ],
            [
             0.8888888888888888,
             "#fdca26"
            ],
            [
             1,
             "#f0f921"
            ]
           ]
          },
          "colorway": [
           "#636efa",
           "#EF553B",
           "#00cc96",
           "#ab63fa",
           "#FFA15A",
           "#19d3f3",
           "#FF6692",
           "#B6E880",
           "#FF97FF",
           "#FECB52"
          ],
          "font": {
           "color": "#2a3f5f"
          },
          "geo": {
           "bgcolor": "white",
           "lakecolor": "white",
           "landcolor": "#E5ECF6",
           "showlakes": true,
           "showland": true,
           "subunitcolor": "white"
          },
          "hoverlabel": {
           "align": "left"
          },
          "hovermode": "closest",
          "mapbox": {
           "style": "light"
          },
          "paper_bgcolor": "white",
          "plot_bgcolor": "#E5ECF6",
          "polar": {
           "angularaxis": {
            "gridcolor": "white",
            "linecolor": "white",
            "ticks": ""
           },
           "bgcolor": "#E5ECF6",
           "radialaxis": {
            "gridcolor": "white",
            "linecolor": "white",
            "ticks": ""
           }
          },
          "scene": {
           "xaxis": {
            "backgroundcolor": "#E5ECF6",
            "gridcolor": "white",
            "gridwidth": 2,
            "linecolor": "white",
            "showbackground": true,
            "ticks": "",
            "zerolinecolor": "white"
           },
           "yaxis": {
            "backgroundcolor": "#E5ECF6",
            "gridcolor": "white",
            "gridwidth": 2,
            "linecolor": "white",
            "showbackground": true,
            "ticks": "",
            "zerolinecolor": "white"
           },
           "zaxis": {
            "backgroundcolor": "#E5ECF6",
            "gridcolor": "white",
            "gridwidth": 2,
            "linecolor": "white",
            "showbackground": true,
            "ticks": "",
            "zerolinecolor": "white"
           }
          },
          "shapedefaults": {
           "line": {
            "color": "#2a3f5f"
           }
          },
          "ternary": {
           "aaxis": {
            "gridcolor": "white",
            "linecolor": "white",
            "ticks": ""
           },
           "baxis": {
            "gridcolor": "white",
            "linecolor": "white",
            "ticks": ""
           },
           "bgcolor": "#E5ECF6",
           "caxis": {
            "gridcolor": "white",
            "linecolor": "white",
            "ticks": ""
           }
          },
          "title": {
           "x": 0.05
          },
          "xaxis": {
           "automargin": true,
           "gridcolor": "white",
           "linecolor": "white",
           "ticks": "",
           "title": {
            "standoff": 15
           },
           "zerolinecolor": "white",
           "zerolinewidth": 2
          },
          "yaxis": {
           "automargin": true,
           "gridcolor": "white",
           "linecolor": "white",
           "ticks": "",
           "title": {
            "standoff": 15
           },
           "zerolinecolor": "white",
           "zerolinewidth": 2
          }
         }
        },
        "title": {
         "text": "Visualization of Validation Predictions"
        },
        "width": 1500,
        "xaxis": {
         "title": {
          "text": "Date"
         }
        },
        "yaxis": {
         "title": {
          "text": "Price"
         }
        }
       }
      },
      "text/html": [
       "<div>                            <div id=\"e32cca79-398d-4698-939b-3afe1f58db0a\" class=\"plotly-graph-div\" style=\"height:800px; width:1500px;\"></div>            <script type=\"text/javascript\">                require([\"plotly\"], function(Plotly) {                    window.PLOTLYENV=window.PLOTLYENV || {};                                    if (document.getElementById(\"e32cca79-398d-4698-939b-3afe1f58db0a\")) {                    Plotly.newPlot(                        \"e32cca79-398d-4698-939b-3afe1f58db0a\",                        [{\"close\":[\"2695.81\",\"2713.06\",\"2723.99\",\"2743.15\",\"2747.71\",\"2751.29\",\"2748.23\",\"2767.56\",\"2786.24\",\"2776.42\",\"2802.56\",\"2798.03\",\"2810.30\",\"2832.97\",\"2839.13\",\"2837.54\",\"2839.25\",\"2872.87\",\"2853.53\",\"2822.43\",\"2823.81\",\"2821.98\",\"2762.13\",\"2648.94\",\"2695.14\",\"2681.66\",\"2581.00\",\"2619.55\",\"2656.00\",\"2662.94\",\"2698.63\",\"2731.20\",\"2732.22\",\"2716.26\",\"2701.33\",\"2703.96\",\"2747.30\",\"2779.60\",\"2744.28\",\"2713.83\",\"2677.67\",\"2691.25\",\"2720.94\",\"2728.12\",\"2726.80\",\"2738.97\",\"2786.57\",\"2783.02\",\"2765.31\",\"2749.48\",\"2747.33\",\"2752.01\",\"2712.92\",\"2716.94\",\"2711.93\",\"2643.69\",\"2588.26\",\"2658.55\",\"2612.62\",\"2605.00\",\"2640.87\",\"2581.88\",\"2614.45\",\"2644.69\",\"2662.84\",\"2604.47\",\"2613.16\",\"2656.87\",\"2642.19\",\"2663.99\",\"2656.30\",\"2677.84\",\"2706.39\",\"2708.64\",\"2693.13\",\"2670.14\",\"2670.29\",\"2634.56\",\"2639.40\",\"2666.94\",\"2669.91\",\"2648.05\",\"2654.80\",\"2635.67\",\"2629.73\",\"2663.42\",\"2672.63\",\"2671.92\",\"2697.79\",\"2723.07\",\"2727.72\",\"2730.13\",\"2711.45\",\"2722.46\",\"2720.13\",\"2712.97\",\"2733.01\",\"2724.44\",\"2733.29\",\"2727.76\",\"2721.33\",\"2689.86\",\"2724.01\",\"2705.27\",\"2734.62\",\"2746.87\",\"2748.80\",\"2772.35\",\"2770.37\",\"2779.03\",\"2782.00\",\"2786.85\",\"2775.63\",\"2782.49\",\"2779.66\",\"2773.75\",\"2762.59\",\"2767.32\",\"2749.76\",\"2754.88\",\"2717.07\",\"2723.06\",\"2699.63\",\"2716.31\",\"2718.37\",\"2726.71\",\"2713.22\",\"2736.61\",\"2759.82\",\"2784.17\",\"2793.84\",\"2774.02\",\"2798.29\",\"2801.31\",\"2798.43\",\"2809.55\",\"2815.62\",\"2804.49\",\"2801.83\",\"2806.98\",\"2820.40\",\"2846.07\",\"2837.44\",\"2818.82\",\"2802.60\",\"2816.29\",\"2813.36\",\"2827.22\",\"2840.35\",\"2850.40\",\"2858.45\",\"2857.70\",\"2853.58\",\"2833.28\",\"2821.93\",\"2839.96\",\"2818.37\",\"2840.69\",\"2850.13\",\"2857.05\",\"2862.96\",\"2861.82\",\"2856.98\",\"2874.69\",\"2896.74\",\"2897.52\",\"2914.04\",\"2901.13\",\"2901.52\",\"2896.72\",\"2888.60\",\"2878.05\",\"2871.68\",\"2877.13\",\"2887.89\",\"2888.92\",\"2904.18\",\"2904.98\",\"2888.80\",\"2904.31\",\"2907.95\",\"2930.75\",\"2929.67\",\"2919.37\",\"2915.56\",\"2905.97\",\"2914.00\",\"2913.98\",\"2924.59\",\"2923.43\",\"2925.51\",\"2901.61\",\"2885.57\",\"2884.43\",\"2880.34\",\"2785.68\",\"2728.37\",\"2767.13\",\"2750.79\",\"2809.92\",\"2809.21\",\"2768.78\",\"2767.78\",\"2755.88\",\"2740.69\",\"2656.10\",\"2705.57\",\"2658.69\",\"2641.25\",\"2682.63\",\"2711.74\",\"2740.37\",\"2723.06\",\"2738.31\",\"2755.45\",\"2813.89\",\"2806.83\",\"2781.01\",\"2726.22\",\"2722.18\",\"2701.58\",\"2730.20\",\"2736.27\",\"2690.73\",\"2641.89\",\"2649.93\",\"2632.56\",\"2673.45\",\"2682.17\",\"2743.79\",\"2737.76\",\"2760.17\",\"2790.37\",\"2700.06\",\"2695.95\",\"2633.08\",\"2637.72\",\"2636.78\",\"2651.07\",\"2650.54\",\"2599.95\",\"2545.94\",\"2546.16\",\"2506.96\",\"2467.42\",\"2416.62\",\"2351.10\",\"2467.70\",\"2488.83\",\"2485.74\",\"2506.85\"],\"high\":[\"2695.89\",\"2714.37\",\"2729.29\",\"2743.45\",\"2748.51\",\"2759.14\",\"2750.80\",\"2767.56\",\"2787.85\",\"2807.54\",\"2807.04\",\"2805.83\",\"2810.33\",\"2833.03\",\"2842.24\",\"2852.97\",\"2848.56\",\"2872.87\",\"2870.62\",\"2837.75\",\"2839.26\",\"2835.96\",\"2808.92\",\"2763.39\",\"2701.04\",\"2727.67\",\"2685.27\",\"2638.67\",\"2672.61\",\"2668.84\",\"2702.10\",\"2731.51\",\"2754.42\",\"2737.60\",\"2747.75\",\"2731.26\",\"2747.76\",\"2780.64\",\"2789.15\",\"2761.52\",\"2730.89\",\"2696.25\",\"2728.09\",\"2732.08\",\"2730.60\",\"2740.45\",\"2786.57\",\"2796.98\",\"2801.90\",\"2777.11\",\"2763.03\",\"2761.85\",\"2741.38\",\"2724.22\",\"2739.14\",\"2695.68\",\"2657.67\",\"2661.36\",\"2674.78\",\"2632.65\",\"2659.07\",\"2638.30\",\"2619.14\",\"2649.86\",\"2672.08\",\"2656.88\",\"2653.55\",\"2665.45\",\"2661.43\",\"2674.72\",\"2680.26\",\"2686.49\",\"2713.34\",\"2717.49\",\"2702.84\",\"2693.94\",\"2682.86\",\"2683.55\",\"2645.30\",\"2676.48\",\"2677.35\",\"2682.92\",\"2655.27\",\"2660.87\",\"2637.14\",\"2670.93\",\"2683.35\",\"2676.34\",\"2701.27\",\"2726.11\",\"2732.86\",\"2742.10\",\"2718.59\",\"2727.76\",\"2731.96\",\"2719.50\",\"2739.19\",\"2742.24\",\"2733.33\",\"2731.97\",\"2727.36\",\"2710.67\",\"2729.34\",\"2722.50\",\"2736.93\",\"2749.16\",\"2752.61\",\"2772.39\",\"2779.90\",\"2779.39\",\"2790.21\",\"2789.80\",\"2791.47\",\"2789.06\",\"2782.81\",\"2774.99\",\"2765.05\",\"2774.86\",\"2769.28\",\"2764.17\",\"2742.94\",\"2732.91\",\"2746.09\",\"2724.34\",\"2743.26\",\"2727.26\",\"2736.58\",\"2737.83\",\"2764.41\",\"2784.65\",\"2795.58\",\"2785.91\",\"2799.22\",\"2804.53\",\"2803.71\",\"2814.19\",\"2816.76\",\"2812.05\",\"2809.70\",\"2808.61\",\"2829.99\",\"2848.03\",\"2845.57\",\"2843.17\",\"2821.74\",\"2824.46\",\"2825.83\",\"2829.91\",\"2840.38\",\"2853.29\",\"2863.43\",\"2862.44\",\"2862.48\",\"2842.20\",\"2843.40\",\"2843.11\",\"2827.95\",\"2850.49\",\"2855.63\",\"2859.76\",\"2873.23\",\"2867.54\",\"2868.78\",\"2876.16\",\"2898.25\",\"2903.77\",\"2916.50\",\"2912.46\",\"2906.32\",\"2900.18\",\"2894.21\",\"2892.05\",\"2883.81\",\"2886.93\",\"2892.52\",\"2894.65\",\"2906.76\",\"2908.30\",\"2904.65\",\"2911.17\",\"2912.36\",\"2934.80\",\"2940.91\",\"2923.79\",\"2923.95\",\"2931.15\",\"2927.22\",\"2920.53\",\"2937.06\",\"2931.42\",\"2939.86\",\"2919.78\",\"2909.64\",\"2889.45\",\"2894.83\",\"2874.02\",\"2795.14\",\"2775.77\",\"2775.99\",\"2813.46\",\"2816.94\",\"2806.04\",\"2797.77\",\"2778.94\",\"2753.59\",\"2742.59\",\"2722.70\",\"2692.38\",\"2706.85\",\"2685.43\",\"2736.69\",\"2741.67\",\"2756.55\",\"2744.27\",\"2756.82\",\"2815.15\",\"2814.75\",\"2794.10\",\"2775.99\",\"2754.60\",\"2746.80\",\"2735.38\",\"2746.75\",\"2733.16\",\"2669.44\",\"2670.73\",\"2647.55\",\"2674.35\",\"2682.53\",\"2744.00\",\"2753.75\",\"2760.88\",\"2800.18\",\"2785.93\",\"2696.15\",\"2708.54\",\"2647.51\",\"2674.35\",\"2685.44\",\"2670.19\",\"2635.07\",\"2601.13\",\"2573.99\",\"2585.29\",\"2509.63\",\"2504.41\",\"2410.34\",\"2467.76\",\"2489.10\",\"2520.27\",\"2509.24\"],\"low\":[\"2682.36\",\"2697.77\",\"2719.07\",\"2727.92\",\"2737.60\",\"2747.86\",\"2736.06\",\"2752.78\",\"2769.64\",\"2768.64\",\"2778.38\",\"2792.56\",\"2798.08\",\"2808.12\",\"2830.59\",\"2824.81\",\"2830.94\",\"2846.18\",\"2851.48\",\"2818.27\",\"2813.04\",\"2812.70\",\"2759.97\",\"2638.17\",\"2593.07\",\"2681.33\",\"2580.56\",\"2532.69\",\"2622.45\",\"2637.08\",\"2648.87\",\"2689.82\",\"2725.11\",\"2706.76\",\"2701.29\",\"2697.77\",\"2713.74\",\"2753.78\",\"2744.22\",\"2713.54\",\"2659.65\",\"2647.32\",\"2675.75\",\"2711.26\",\"2701.74\",\"2722.65\",\"2751.54\",\"2779.26\",\"2758.68\",\"2744.38\",\"2741.47\",\"2749.97\",\"2694.59\",\"2710.05\",\"2709.79\",\"2641.59\",\"2585.89\",\"2601.81\",\"2596.12\",\"2593.06\",\"2609.72\",\"2553.80\",\"2575.49\",\"2573.61\",\"2649.58\",\"2586.27\",\"2610.79\",\"2635.78\",\"2639.25\",\"2653.83\",\"2645.05\",\"2665.16\",\"2692.05\",\"2703.63\",\"2681.90\",\"2660.61\",\"2657.99\",\"2617.32\",\"2612.67\",\"2647.16\",\"2659.01\",\"2648.04\",\"2625.41\",\"2631.70\",\"2594.62\",\"2615.32\",\"2664.70\",\"2655.20\",\"2674.14\",\"2704.54\",\"2717.45\",\"2725.47\",\"2701.91\",\"2712.17\",\"2711.36\",\"2709.18\",\"2725.70\",\"2721.88\",\"2709.54\",\"2707.38\",\"2714.99\",\"2676.81\",\"2702.43\",\"2700.68\",\"2718.70\",\"2740.54\",\"2739.51\",\"2748.46\",\"2760.16\",\"2763.59\",\"2780.17\",\"2778.78\",\"2774.65\",\"2776.52\",\"2761.73\",\"2757.12\",\"2743.19\",\"2763.91\",\"2744.39\",\"2752.68\",\"2698.67\",\"2715.60\",\"2699.38\",\"2691.99\",\"2718.03\",\"2698.95\",\"2711.16\",\"2716.02\",\"2733.52\",\"2768.51\",\"2786.24\",\"2770.77\",\"2781.53\",\"2791.69\",\"2793.39\",\"2789.24\",\"2805.89\",\"2799.77\",\"2800.01\",\"2795.14\",\"2811.12\",\"2817.73\",\"2835.26\",\"2808.34\",\"2798.11\",\"2808.06\",\"2805.85\",\"2796.34\",\"2827.37\",\"2835.98\",\"2855.92\",\"2853.09\",\"2851.98\",\"2825.81\",\"2819.88\",\"2826.58\",\"2802.49\",\"2831.44\",\"2833.73\",\"2850.62\",\"2861.32\",\"2856.05\",\"2854.03\",\"2862.35\",\"2884.69\",\"2893.50\",\"2898.40\",\"2895.22\",\"2891.73\",\"2885.13\",\"2876.92\",\"2867.29\",\"2864.12\",\"2875.94\",\"2866.78\",\"2879.20\",\"2896.39\",\"2895.77\",\"2886.16\",\"2890.43\",\"2903.82\",\"2919.73\",\"2927.11\",\"2912.63\",\"2913.70\",\"2903.28\",\"2909.27\",\"2907.50\",\"2917.91\",\"2919.37\",\"2921.36\",\"2883.92\",\"2869.29\",\"2862.08\",\"2874.27\",\"2784.86\",\"2710.51\",\"2729.44\",\"2749.03\",\"2766.91\",\"2781.81\",\"2755.18\",\"2760.27\",\"2749.22\",\"2691.43\",\"2651.89\",\"2667.84\",\"2628.16\",\"2603.54\",\"2635.34\",\"2705.60\",\"2708.85\",\"2700.44\",\"2717.94\",\"2737.08\",\"2774.13\",\"2794.99\",\"2764.24\",\"2722.00\",\"2714.98\",\"2685.75\",\"2670.75\",\"2712.16\",\"2681.09\",\"2631.52\",\"2649.82\",\"2631.09\",\"2649.97\",\"2655.89\",\"2684.38\",\"2722.94\",\"2732.76\",\"2773.38\",\"2697.18\",\"2621.53\",\"2623.14\",\"2583.23\",\"2621.30\",\"2650.26\",\"2637.27\",\"2593.84\",\"2530.54\",\"2528.71\",\"2488.96\",\"2441.18\",\"2408.55\",\"2351.10\",\"2346.58\",\"2397.94\",\"2472.89\",\"2482.82\"],\"name\":\"Price\",\"open\":[\"2683.73\",\"2697.85\",\"2719.31\",\"2731.33\",\"2742.67\",\"2751.15\",\"2745.55\",\"2752.97\",\"2770.18\",\"2798.96\",\"2784.99\",\"2802.40\",\"2802.60\",\"2809.16\",\"2835.05\",\"2845.42\",\"2846.24\",\"2847.48\",\"2867.23\",\"2832.74\",\"2832.41\",\"2816.45\",\"2808.92\",\"2741.06\",\"2614.78\",\"2690.95\",\"2685.01\",\"2601.78\",\"2636.75\",\"2646.27\",\"2651.21\",\"2713.46\",\"2727.14\",\"2722.99\",\"2720.53\",\"2710.42\",\"2715.80\",\"2757.37\",\"2780.45\",\"2753.78\",\"2715.22\",\"2658.89\",\"2681.06\",\"2730.18\",\"2710.18\",\"2732.75\",\"2752.91\",\"2790.54\",\"2792.31\",\"2774.06\",\"2754.27\",\"2750.57\",\"2741.38\",\"2715.05\",\"2714.99\",\"2691.36\",\"2646.71\",\"2619.35\",\"2667.57\",\"2611.30\",\"2614.41\",\"2633.45\",\"2592.17\",\"2584.04\",\"2657.36\",\"2645.82\",\"2617.18\",\"2638.41\",\"2643.89\",\"2653.83\",\"2676.90\",\"2670.10\",\"2692.74\",\"2710.11\",\"2701.16\",\"2692.56\",\"2675.40\",\"2680.80\",\"2634.92\",\"2651.65\",\"2675.47\",\"2675.05\",\"2643.64\",\"2654.24\",\"2628.08\",\"2621.45\",\"2669.36\",\"2670.26\",\"2678.12\",\"2705.02\",\"2722.70\",\"2733.37\",\"2718.59\",\"2712.62\",\"2719.71\",\"2717.35\",\"2725.95\",\"2738.34\",\"2713.98\",\"2730.94\",\"2723.60\",\"2705.11\",\"2702.43\",\"2720.98\",\"2718.70\",\"2741.67\",\"2748.46\",\"2753.25\",\"2774.84\",\"2765.84\",\"2780.18\",\"2785.60\",\"2787.94\",\"2783.21\",\"2777.78\",\"2765.79\",\"2752.01\",\"2769.73\",\"2769.28\",\"2760.79\",\"2742.94\",\"2722.12\",\"2728.45\",\"2698.69\",\"2727.13\",\"2704.95\",\"2733.27\",\"2724.19\",\"2737.68\",\"2768.51\",\"2788.56\",\"2779.82\",\"2783.14\",\"2796.93\",\"2801.43\",\"2789.34\",\"2811.35\",\"2809.37\",\"2804.55\",\"2799.17\",\"2820.68\",\"2817.73\",\"2835.49\",\"2842.35\",\"2819.00\",\"2809.73\",\"2821.17\",\"2800.48\",\"2829.62\",\"2840.29\",\"2855.92\",\"2856.79\",\"2857.19\",\"2839.64\",\"2835.46\",\"2827.88\",\"2827.95\",\"2831.44\",\"2838.32\",\"2853.93\",\"2861.51\",\"2860.99\",\"2860.29\",\"2862.35\",\"2884.69\",\"2901.45\",\"2900.62\",\"2908.94\",\"2898.37\",\"2896.96\",\"2891.59\",\"2888.64\",\"2868.26\",\"2881.39\",\"2871.57\",\"2888.29\",\"2896.85\",\"2906.38\",\"2903.83\",\"2890.74\",\"2906.60\",\"2919.73\",\"2936.76\",\"2921.83\",\"2921.75\",\"2916.98\",\"2911.65\",\"2910.03\",\"2926.29\",\"2923.80\",\"2931.69\",\"2919.35\",\"2902.54\",\"2877.53\",\"2882.51\",\"2873.90\",\"2776.87\",\"2770.54\",\"2763.83\",\"2767.05\",\"2811.67\",\"2802.00\",\"2775.66\",\"2773.94\",\"2721.03\",\"2737.87\",\"2674.88\",\"2667.86\",\"2682.65\",\"2640.68\",\"2705.60\",\"2717.58\",\"2745.45\",\"2726.37\",\"2738.40\",\"2774.13\",\"2806.38\",\"2794.10\",\"2773.93\",\"2730.05\",\"2737.90\",\"2693.52\",\"2718.54\",\"2730.74\",\"2654.60\",\"2657.74\",\"2633.36\",\"2649.97\",\"2663.75\",\"2691.45\",\"2736.97\",\"2737.76\",\"2790.50\",\"2782.43\",\"2663.51\",\"2691.26\",\"2630.86\",\"2664.44\",\"2658.23\",\"2658.70\",\"2629.68\",\"2590.75\",\"2559.90\",\"2547.05\",\"2496.77\",\"2465.38\",\"2400.56\",\"2363.12\",\"2442.50\",\"2498.77\",\"2498.94\"],\"type\":\"candlestick\",\"x\":[\"2018-01-02T00:00:00\",\"2018-01-03T00:00:00\",\"2018-01-04T00:00:00\",\"2018-01-05T00:00:00\",\"2018-01-08T00:00:00\",\"2018-01-09T00:00:00\",\"2018-01-10T00:00:00\",\"2018-01-11T00:00:00\",\"2018-01-12T00:00:00\",\"2018-01-16T00:00:00\",\"2018-01-17T00:00:00\",\"2018-01-18T00:00:00\",\"2018-01-19T00:00:00\",\"2018-01-22T00:00:00\",\"2018-01-23T00:00:00\",\"2018-01-24T00:00:00\",\"2018-01-25T00:00:00\",\"2018-01-26T00:00:00\",\"2018-01-29T00:00:00\",\"2018-01-30T00:00:00\",\"2018-01-31T00:00:00\",\"2018-02-01T00:00:00\",\"2018-02-02T00:00:00\",\"2018-02-05T00:00:00\",\"2018-02-06T00:00:00\",\"2018-02-07T00:00:00\",\"2018-02-08T00:00:00\",\"2018-02-09T00:00:00\",\"2018-02-12T00:00:00\",\"2018-02-13T00:00:00\",\"2018-02-14T00:00:00\",\"2018-02-15T00:00:00\",\"2018-02-16T00:00:00\",\"2018-02-20T00:00:00\",\"2018-02-21T00:00:00\",\"2018-02-22T00:00:00\",\"2018-02-23T00:00:00\",\"2018-02-26T00:00:00\",\"2018-02-27T00:00:00\",\"2018-02-28T00:00:00\",\"2018-03-01T00:00:00\",\"2018-03-02T00:00:00\",\"2018-03-05T00:00:00\",\"2018-03-06T00:00:00\",\"2018-03-07T00:00:00\",\"2018-03-08T00:00:00\",\"2018-03-09T00:00:00\",\"2018-03-12T00:00:00\",\"2018-03-13T00:00:00\",\"2018-03-14T00:00:00\",\"2018-03-15T00:00:00\",\"2018-03-16T00:00:00\",\"2018-03-19T00:00:00\",\"2018-03-20T00:00:00\",\"2018-03-21T00:00:00\",\"2018-03-22T00:00:00\",\"2018-03-23T00:00:00\",\"2018-03-26T00:00:00\",\"2018-03-27T00:00:00\",\"2018-03-28T00:00:00\",\"2018-03-29T00:00:00\",\"2018-04-02T00:00:00\",\"2018-04-03T00:00:00\",\"2018-04-04T00:00:00\",\"2018-04-05T00:00:00\",\"2018-04-06T00:00:00\",\"2018-04-09T00:00:00\",\"2018-04-10T00:00:00\",\"2018-04-11T00:00:00\",\"2018-04-12T00:00:00\",\"2018-04-13T00:00:00\",\"2018-04-16T00:00:00\",\"2018-04-17T00:00:00\",\"2018-04-18T00:00:00\",\"2018-04-19T00:00:00\",\"2018-04-20T00:00:00\",\"2018-04-23T00:00:00\",\"2018-04-24T00:00:00\",\"2018-04-25T00:00:00\",\"2018-04-26T00:00:00\",\"2018-04-27T00:00:00\",\"2018-04-30T00:00:00\",\"2018-05-01T00:00:00\",\"2018-05-02T00:00:00\",\"2018-05-03T00:00:00\",\"2018-05-04T00:00:00\",\"2018-05-07T00:00:00\",\"2018-05-08T00:00:00\",\"2018-05-09T00:00:00\",\"2018-05-10T00:00:00\",\"2018-05-11T00:00:00\",\"2018-05-14T00:00:00\",\"2018-05-15T00:00:00\",\"2018-05-16T00:00:00\",\"2018-05-17T00:00:00\",\"2018-05-18T00:00:00\",\"2018-05-21T00:00:00\",\"2018-05-22T00:00:00\",\"2018-05-23T00:00:00\",\"2018-05-24T00:00:00\",\"2018-05-25T00:00:00\",\"2018-05-29T00:00:00\",\"2018-05-30T00:00:00\",\"2018-05-31T00:00:00\",\"2018-06-01T00:00:00\",\"2018-06-04T00:00:00\",\"2018-06-05T00:00:00\",\"2018-06-06T00:00:00\",\"2018-06-07T00:00:00\",\"2018-06-08T00:00:00\",\"2018-06-11T00:00:00\",\"2018-06-12T00:00:00\",\"2018-06-13T00:00:00\",\"2018-06-14T00:00:00\",\"2018-06-15T00:00:00\",\"2018-06-18T00:00:00\",\"2018-06-19T00:00:00\",\"2018-06-20T00:00:00\",\"2018-06-21T00:00:00\",\"2018-06-22T00:00:00\",\"2018-06-25T00:00:00\",\"2018-06-26T00:00:00\",\"2018-06-27T00:00:00\",\"2018-06-28T00:00:00\",\"2018-06-29T00:00:00\",\"2018-07-02T00:00:00\",\"2018-07-03T00:00:00\",\"2018-07-05T00:00:00\",\"2018-07-06T00:00:00\",\"2018-07-09T00:00:00\",\"2018-07-10T00:00:00\",\"2018-07-11T00:00:00\",\"2018-07-12T00:00:00\",\"2018-07-13T00:00:00\",\"2018-07-16T00:00:00\",\"2018-07-17T00:00:00\",\"2018-07-18T00:00:00\",\"2018-07-19T00:00:00\",\"2018-07-20T00:00:00\",\"2018-07-23T00:00:00\",\"2018-07-24T00:00:00\",\"2018-07-25T00:00:00\",\"2018-07-26T00:00:00\",\"2018-07-27T00:00:00\",\"2018-07-30T00:00:00\",\"2018-07-31T00:00:00\",\"2018-08-01T00:00:00\",\"2018-08-02T00:00:00\",\"2018-08-03T00:00:00\",\"2018-08-06T00:00:00\",\"2018-08-07T00:00:00\",\"2018-08-08T00:00:00\",\"2018-08-09T00:00:00\",\"2018-08-10T00:00:00\",\"2018-08-13T00:00:00\",\"2018-08-14T00:00:00\",\"2018-08-15T00:00:00\",\"2018-08-16T00:00:00\",\"2018-08-17T00:00:00\",\"2018-08-20T00:00:00\",\"2018-08-21T00:00:00\",\"2018-08-22T00:00:00\",\"2018-08-23T00:00:00\",\"2018-08-24T00:00:00\",\"2018-08-27T00:00:00\",\"2018-08-28T00:00:00\",\"2018-08-29T00:00:00\",\"2018-08-30T00:00:00\",\"2018-08-31T00:00:00\",\"2018-09-04T00:00:00\",\"2018-09-05T00:00:00\",\"2018-09-06T00:00:00\",\"2018-09-07T00:00:00\",\"2018-09-10T00:00:00\",\"2018-09-11T00:00:00\",\"2018-09-12T00:00:00\",\"2018-09-13T00:00:00\",\"2018-09-14T00:00:00\",\"2018-09-17T00:00:00\",\"2018-09-18T00:00:00\",\"2018-09-19T00:00:00\",\"2018-09-20T00:00:00\",\"2018-09-21T00:00:00\",\"2018-09-24T00:00:00\",\"2018-09-25T00:00:00\",\"2018-09-26T00:00:00\",\"2018-09-27T00:00:00\",\"2018-09-28T00:00:00\",\"2018-10-01T00:00:00\",\"2018-10-02T00:00:00\",\"2018-10-03T00:00:00\",\"2018-10-04T00:00:00\",\"2018-10-05T00:00:00\",\"2018-10-08T00:00:00\",\"2018-10-09T00:00:00\",\"2018-10-10T00:00:00\",\"2018-10-11T00:00:00\",\"2018-10-12T00:00:00\",\"2018-10-15T00:00:00\",\"2018-10-16T00:00:00\",\"2018-10-17T00:00:00\",\"2018-10-18T00:00:00\",\"2018-10-19T00:00:00\",\"2018-10-22T00:00:00\",\"2018-10-23T00:00:00\",\"2018-10-24T00:00:00\",\"2018-10-25T00:00:00\",\"2018-10-26T00:00:00\",\"2018-10-29T00:00:00\",\"2018-10-30T00:00:00\",\"2018-10-31T00:00:00\",\"2018-11-01T00:00:00\",\"2018-11-02T00:00:00\",\"2018-11-05T00:00:00\",\"2018-11-06T00:00:00\",\"2018-11-07T00:00:00\",\"2018-11-08T00:00:00\",\"2018-11-09T00:00:00\",\"2018-11-12T00:00:00\",\"2018-11-13T00:00:00\",\"2018-11-14T00:00:00\",\"2018-11-15T00:00:00\",\"2018-11-16T00:00:00\",\"2018-11-19T00:00:00\",\"2018-11-20T00:00:00\",\"2018-11-21T00:00:00\",\"2018-11-23T00:00:00\",\"2018-11-26T00:00:00\",\"2018-11-27T00:00:00\",\"2018-11-28T00:00:00\",\"2018-11-29T00:00:00\",\"2018-11-30T00:00:00\",\"2018-12-03T00:00:00\",\"2018-12-04T00:00:00\",\"2018-12-06T00:00:00\",\"2018-12-07T00:00:00\",\"2018-12-10T00:00:00\",\"2018-12-11T00:00:00\",\"2018-12-12T00:00:00\",\"2018-12-13T00:00:00\",\"2018-12-14T00:00:00\",\"2018-12-17T00:00:00\",\"2018-12-18T00:00:00\",\"2018-12-19T00:00:00\",\"2018-12-20T00:00:00\",\"2018-12-21T00:00:00\",\"2018-12-24T00:00:00\",\"2018-12-26T00:00:00\",\"2018-12-27T00:00:00\",\"2018-12-28T00:00:00\",\"2018-12-31T00:00:00\"]},{\"fill\":\"toself\",\"line\":{\"color\":\"green\"},\"mode\":\"lines\",\"name\":\"Correct Direction\",\"type\":\"scatter\",\"x\":[\"2018-01-01T21:36:00\",\"2018-01-02T00:00:00\",\"2018-01-02T02:24:00\",\"2018-01-01T21:36:00\"],\"y\":[2763.118125,2830.34625,2763.118125,2763.118125]},{\"fill\":\"toself\",\"line\":{\"color\":\"red\"},\"mode\":\"lines\",\"name\":\"Incorrect Direction\",\"type\":\"scatter\",\"x\":[\"2018-01-02T21:36:00\",\"2018-01-03T00:00:00\",\"2018-01-03T02:24:00\",\"2018-01-02T21:36:00\"],\"y\":[2630.541875,2563.31375,2630.541875,2630.541875]},{\"fill\":\"toself\",\"line\":{\"color\":\"red\"},\"mode\":\"lines\",\"showlegend\":false,\"type\":\"scatter\",\"x\":[\"2018-01-03T21:36:00\",\"2018-01-04T00:00:00\",\"2018-01-04T02:24:00\",\"2018-01-03T21:36:00\"],\"y\":[2651.841875,2584.61375,2651.841875,2651.841875]},{\"fill\":\"toself\",\"line\":{\"color\":\"green\"},\"mode\":\"lines\",\"showlegend\":false,\"type\":\"scatter\",\"x\":[\"2018-01-04T21:36:00\",\"2018-01-05T00:00:00\",\"2018-01-05T02:24:00\",\"2018-01-04T21:36:00\"],\"y\":[2810.678125,2877.90625,2810.678125,2810.678125]},{\"fill\":\"toself\",\"line\":{\"color\":\"red\"},\"mode\":\"lines\",\"showlegend\":false,\"type\":\"scatter\",\"x\":[\"2018-01-07T21:36:00\",\"2018-01-08T00:00:00\",\"2018-01-08T02:24:00\",\"2018-01-07T21:36:00\"],\"y\":[2670.371875,2603.1437499999997,2670.371875,2670.371875]},{\"fill\":\"toself\",\"line\":{\"color\":\"red\"},\"mode\":\"lines\",\"showlegend\":false,\"type\":\"scatter\",\"x\":[\"2018-01-08T21:36:00\",\"2018-01-09T00:00:00\",\"2018-01-09T02:24:00\",\"2018-01-08T21:36:00\"],\"y\":[2680.631875,2613.40375,2680.631875,2680.631875]},{\"fill\":\"toself\",\"line\":{\"color\":\"green\"},\"mode\":\"lines\",\"showlegend\":false,\"type\":\"scatter\",\"x\":[\"2018-01-09T21:36:00\",\"2018-01-10T00:00:00\",\"2018-01-10T02:24:00\",\"2018-01-09T21:36:00\"],\"y\":[2818.0281250000003,2885.2562500000004,2818.0281250000003,2818.0281250000003]},{\"fill\":\"toself\",\"line\":{\"color\":\"green\"},\"mode\":\"lines\",\"showlegend\":false,\"type\":\"scatter\",\"x\":[\"2018-01-10T21:36:00\",\"2018-01-11T00:00:00\",\"2018-01-11T02:24:00\",\"2018-01-10T21:36:00\"],\"y\":[2834.788125,2902.01625,2834.788125,2834.788125]},{\"fill\":\"toself\",\"line\":{\"color\":\"red\"},\"mode\":\"lines\",\"showlegend\":false,\"type\":\"scatter\",\"x\":[\"2018-01-11T21:36:00\",\"2018-01-12T00:00:00\",\"2018-01-12T02:24:00\",\"2018-01-11T21:36:00\"],\"y\":[2702.411875,2635.1837499999997,2702.411875,2702.411875]},{\"fill\":\"toself\",\"line\":{\"color\":\"green\"},\"mode\":\"lines\",\"showlegend\":false,\"type\":\"scatter\",\"x\":[\"2018-01-15T21:36:00\",\"2018-01-16T00:00:00\",\"2018-01-16T02:24:00\",\"2018-01-15T21:36:00\"],\"y\":[2701.411875,2634.1837499999997,2701.411875,2701.411875]},{\"fill\":\"toself\",\"line\":{\"color\":\"green\"},\"mode\":\"lines\",\"showlegend\":false,\"type\":\"scatter\",\"x\":[\"2018-01-16T21:36:00\",\"2018-01-17T00:00:00\",\"2018-01-17T02:24:00\",\"2018-01-16T21:36:00\"],\"y\":[2874.268125,2941.49625,2874.268125,2874.268125]},{\"fill\":\"toself\",\"line\":{\"color\":\"red\"},\"mode\":\"lines\",\"showlegend\":false,\"type\":\"scatter\",\"x\":[\"2018-01-17T21:36:00\",\"2018-01-18T00:00:00\",\"2018-01-18T02:24:00\",\"2018-01-17T21:36:00\"],\"y\":[2873.058125,2940.28625,2873.058125,2873.058125]},{\"fill\":\"toself\",\"line\":{\"color\":\"green\"},\"mode\":\"lines\",\"showlegend\":false,\"type\":\"scatter\",\"x\":[\"2018-01-18T21:36:00\",\"2018-01-19T00:00:00\",\"2018-01-19T02:24:00\",\"2018-01-18T21:36:00\"],\"y\":[2877.558125,2944.78625,2877.558125,2877.558125]},{\"fill\":\"toself\",\"line\":{\"color\":\"green\"},\"mode\":\"lines\",\"showlegend\":false,\"type\":\"scatter\",\"x\":[\"2018-01-21T21:36:00\",\"2018-01-22T00:00:00\",\"2018-01-22T02:24:00\",\"2018-01-21T21:36:00\"],\"y\":[2900.2581250000003,2967.4862500000004,2900.2581250000003,2900.2581250000003]},{\"fill\":\"toself\",\"line\":{\"color\":\"red\"},\"mode\":\"lines\",\"showlegend\":false,\"type\":\"scatter\",\"x\":[\"2018-01-22T21:36:00\",\"2018-01-23T00:00:00\",\"2018-01-23T02:24:00\",\"2018-01-22T21:36:00\"],\"y\":[2763.361875,2696.13375,2763.361875,2763.361875]},{\"fill\":\"toself\",\"line\":{\"color\":\"green\"},\"mode\":\"lines\",\"showlegend\":false,\"type\":\"scatter\",\"x\":[\"2018-01-23T21:36:00\",\"2018-01-24T00:00:00\",\"2018-01-24T02:24:00\",\"2018-01-23T21:36:00\"],\"y\":[2757.581875,2690.3537499999998,2757.581875,2757.581875]},{\"fill\":\"toself\",\"line\":{\"color\":\"green\"},\"mode\":\"lines\",\"showlegend\":false,\"type\":\"scatter\",\"x\":[\"2018-01-24T21:36:00\",\"2018-01-25T00:00:00\",\"2018-01-25T02:24:00\",\"2018-01-24T21:36:00\"],\"y\":[2763.711875,2696.48375,2763.711875,2763.711875]},{\"fill\":\"toself\",\"line\":{\"color\":\"green\"},\"mode\":\"lines\",\"showlegend\":false,\"type\":\"scatter\",\"x\":[\"2018-01-25T21:36:00\",\"2018-01-26T00:00:00\",\"2018-01-26T02:24:00\",\"2018-01-25T21:36:00\"],\"y\":[2940.098125,3007.32625,2940.098125,2940.098125]},{\"fill\":\"toself\",\"line\":{\"color\":\"green\"},\"mode\":\"lines\",\"showlegend\":false,\"type\":\"scatter\",\"x\":[\"2018-01-28T21:36:00\",\"2018-01-29T00:00:00\",\"2018-01-29T02:24:00\",\"2018-01-28T21:36:00\"],\"y\":[2784.251875,2717.02375,2784.251875,2784.251875]},{\"fill\":\"toself\",\"line\":{\"color\":\"red\"},\"mode\":\"lines\",\"showlegend\":false,\"type\":\"scatter\",\"x\":[\"2018-01-29T21:36:00\",\"2018-01-30T00:00:00\",\"2018-01-30T02:24:00\",\"2018-01-29T21:36:00\"],\"y\":[2904.978125,2972.20625,2904.978125,2904.978125]},{\"fill\":\"toself\",\"line\":{\"color\":\"red\"},\"mode\":\"lines\",\"showlegend\":false,\"type\":\"scatter\",\"x\":[\"2018-01-30T21:36:00\",\"2018-01-31T00:00:00\",\"2018-01-31T02:24:00\",\"2018-01-30T21:36:00\"],\"y\":[2906.4881250000003,2973.7162500000004,2906.4881250000003,2906.4881250000003]},{\"fill\":\"toself\",\"line\":{\"color\":\"green\"},\"mode\":\"lines\",\"showlegend\":false,\"type\":\"scatter\",\"x\":[\"2018-01-31T21:36:00\",\"2018-02-01T00:00:00\",\"2018-02-01T02:24:00\",\"2018-01-31T21:36:00\"],\"y\":[2903.188125,2970.41625,2903.188125,2903.188125]},{\"fill\":\"toself\",\"line\":{\"color\":\"red\"},\"mode\":\"lines\",\"showlegend\":false,\"type\":\"scatter\",\"x\":[\"2018-02-01T21:36:00\",\"2018-02-02T00:00:00\",\"2018-02-02T02:24:00\",\"2018-02-01T21:36:00\"],\"y\":[2876.148125,2943.3762500000003,2876.148125,2876.148125]},{\"fill\":\"toself\",\"line\":{\"color\":\"green\"},\"mode\":\"lines\",\"showlegend\":false,\"type\":\"scatter\",\"x\":[\"2018-02-04T21:36:00\",\"2018-02-05T00:00:00\",\"2018-02-05T02:24:00\",\"2018-02-04T21:36:00\"],\"y\":[2570.941875,2503.71375,2570.941875,2570.941875]},{\"fill\":\"toself\",\"line\":{\"color\":\"green\"},\"mode\":\"lines\",\"showlegend\":false,\"type\":\"scatter\",\"x\":[\"2018-02-05T21:36:00\",\"2018-02-06T00:00:00\",\"2018-02-06T02:24:00\",\"2018-02-05T21:36:00\"],\"y\":[2768.268125,2835.49625,2768.268125,2768.268125]},{\"fill\":\"toself\",\"line\":{\"color\":\"green\"},\"mode\":\"lines\",\"showlegend\":false,\"type\":\"scatter\",\"x\":[\"2018-02-06T21:36:00\",\"2018-02-07T00:00:00\",\"2018-02-07T02:24:00\",\"2018-02-06T21:36:00\"],\"y\":[2614.101875,2546.8737499999997,2614.101875,2614.101875]},{\"fill\":\"toself\",\"line\":{\"color\":\"red\"},\"mode\":\"lines\",\"showlegend\":false,\"type\":\"scatter\",\"x\":[\"2018-02-07T21:36:00\",\"2018-02-08T00:00:00\",\"2018-02-08T02:24:00\",\"2018-02-07T21:36:00\"],\"y\":[2752.498125,2819.72625,2752.498125,2752.498125]},{\"fill\":\"toself\",\"line\":{\"color\":\"green\"},\"mode\":\"lines\",\"showlegend\":false,\"type\":\"scatter\",\"x\":[\"2018-02-08T21:36:00\",\"2018-02-09T00:00:00\",\"2018-02-09T02:24:00\",\"2018-02-08T21:36:00\"],\"y\":[2705.898125,2773.1262500000003,2705.898125,2705.898125]},{\"fill\":\"toself\",\"line\":{\"color\":\"red\"},\"mode\":\"lines\",\"showlegend\":false,\"type\":\"scatter\",\"x\":[\"2018-02-11T21:36:00\",\"2018-02-12T00:00:00\",\"2018-02-12T02:24:00\",\"2018-02-11T21:36:00\"],\"y\":[2555.2218749999997,2487.9937499999996,2555.2218749999997,2555.2218749999997]},{\"fill\":\"toself\",\"line\":{\"color\":\"red\"},\"mode\":\"lines\",\"showlegend\":false,\"type\":\"scatter\",\"x\":[\"2018-02-12T21:36:00\",\"2018-02-13T00:00:00\",\"2018-02-13T02:24:00\",\"2018-02-12T21:36:00\"],\"y\":[2569.851875,2502.6237499999997,2569.851875,2569.851875]},{\"fill\":\"toself\",\"line\":{\"color\":\"green\"},\"mode\":\"lines\",\"showlegend\":false,\"type\":\"scatter\",\"x\":[\"2018-02-13T21:36:00\",\"2018-02-14T00:00:00\",\"2018-02-14T02:24:00\",\"2018-02-13T21:36:00\"],\"y\":[2769.328125,2836.55625,2769.328125,2769.328125]},{\"fill\":\"toself\",\"line\":{\"color\":\"green\"},\"mode\":\"lines\",\"showlegend\":false,\"type\":\"scatter\",\"x\":[\"2018-02-14T21:36:00\",\"2018-02-15T00:00:00\",\"2018-02-15T02:24:00\",\"2018-02-14T21:36:00\"],\"y\":[2798.7381250000003,2865.9662500000004,2798.7381250000003,2798.7381250000003]},{\"fill\":\"toself\",\"line\":{\"color\":\"red\"},\"mode\":\"lines\",\"showlegend\":false,\"type\":\"scatter\",\"x\":[\"2018-02-15T21:36:00\",\"2018-02-16T00:00:00\",\"2018-02-16T02:24:00\",\"2018-02-15T21:36:00\"],\"y\":[2657.881875,2590.65375,2657.881875,2657.881875]},{\"fill\":\"toself\",\"line\":{\"color\":\"red\"},\"mode\":\"lines\",\"showlegend\":false,\"type\":\"scatter\",\"x\":[\"2018-02-19T21:36:00\",\"2018-02-20T00:00:00\",\"2018-02-20T02:24:00\",\"2018-02-19T21:36:00\"],\"y\":[2804.828125,2872.05625,2804.828125,2804.828125]},{\"fill\":\"toself\",\"line\":{\"color\":\"red\"},\"mode\":\"lines\",\"showlegend\":false,\"type\":\"scatter\",\"x\":[\"2018-02-20T21:36:00\",\"2018-02-21T00:00:00\",\"2018-02-21T02:24:00\",\"2018-02-20T21:36:00\"],\"y\":[2814.978125,2882.20625,2814.978125,2814.978125]},{\"fill\":\"toself\",\"line\":{\"color\":\"red\"},\"mode\":\"lines\",\"showlegend\":false,\"type\":\"scatter\",\"x\":[\"2018-02-21T21:36:00\",\"2018-02-22T00:00:00\",\"2018-02-22T02:24:00\",\"2018-02-21T21:36:00\"],\"y\":[2798.4881250000003,2865.7162500000004,2798.4881250000003,2798.4881250000003]},{\"fill\":\"toself\",\"line\":{\"color\":\"green\"},\"mode\":\"lines\",\"showlegend\":false,\"type\":\"scatter\",\"x\":[\"2018-02-22T21:36:00\",\"2018-02-23T00:00:00\",\"2018-02-23T02:24:00\",\"2018-02-22T21:36:00\"],\"y\":[2814.9881250000003,2882.2162500000004,2814.9881250000003,2814.9881250000003]},{\"fill\":\"toself\",\"line\":{\"color\":\"green\"},\"mode\":\"lines\",\"showlegend\":false,\"type\":\"scatter\",\"x\":[\"2018-02-25T21:36:00\",\"2018-02-26T00:00:00\",\"2018-02-26T02:24:00\",\"2018-02-25T21:36:00\"],\"y\":[2847.868125,2915.09625,2847.868125,2847.868125]},{\"fill\":\"toself\",\"line\":{\"color\":\"red\"},\"mode\":\"lines\",\"showlegend\":false,\"type\":\"scatter\",\"x\":[\"2018-02-26T21:36:00\",\"2018-02-27T00:00:00\",\"2018-02-27T02:24:00\",\"2018-02-26T21:36:00\"],\"y\":[2856.378125,2923.6062500000003,2856.378125,2856.378125]},{\"fill\":\"toself\",\"line\":{\"color\":\"green\"},\"mode\":\"lines\",\"showlegend\":false,\"type\":\"scatter\",\"x\":[\"2018-02-27T21:36:00\",\"2018-02-28T00:00:00\",\"2018-02-28T02:24:00\",\"2018-02-27T21:36:00\"],\"y\":[2646.311875,2579.08375,2646.311875,2646.311875]},{\"fill\":\"toself\",\"line\":{\"color\":\"green\"},\"mode\":\"lines\",\"showlegend\":false,\"type\":\"scatter\",\"x\":[\"2018-02-28T21:36:00\",\"2018-03-01T00:00:00\",\"2018-03-01T02:24:00\",\"2018-02-28T21:36:00\"],\"y\":[2592.421875,2525.19375,2592.421875,2592.421875]},{\"fill\":\"toself\",\"line\":{\"color\":\"green\"},\"mode\":\"lines\",\"showlegend\":false,\"type\":\"scatter\",\"x\":[\"2018-03-01T21:36:00\",\"2018-03-02T00:00:00\",\"2018-03-02T02:24:00\",\"2018-03-01T21:36:00\"],\"y\":[2763.478125,2830.70625,2763.478125,2763.478125]},{\"fill\":\"toself\",\"line\":{\"color\":\"red\"},\"mode\":\"lines\",\"showlegend\":false,\"type\":\"scatter\",\"x\":[\"2018-03-04T21:36:00\",\"2018-03-05T00:00:00\",\"2018-03-05T02:24:00\",\"2018-03-04T21:36:00\"],\"y\":[2608.521875,2541.29375,2608.521875,2608.521875]},{\"fill\":\"toself\",\"line\":{\"color\":\"green\"},\"mode\":\"lines\",\"showlegend\":false,\"type\":\"scatter\",\"x\":[\"2018-03-05T21:36:00\",\"2018-03-06T00:00:00\",\"2018-03-06T02:24:00\",\"2018-03-05T21:36:00\"],\"y\":[2644.031875,2576.80375,2644.031875,2644.031875]},{\"fill\":\"toself\",\"line\":{\"color\":\"red\"},\"mode\":\"lines\",\"showlegend\":false,\"type\":\"scatter\",\"x\":[\"2018-03-06T21:36:00\",\"2018-03-07T00:00:00\",\"2018-03-07T02:24:00\",\"2018-03-06T21:36:00\"],\"y\":[2634.5118749999997,2567.2837499999996,2634.5118749999997,2634.5118749999997]},{\"fill\":\"toself\",\"line\":{\"color\":\"red\"},\"mode\":\"lines\",\"showlegend\":false,\"type\":\"scatter\",\"x\":[\"2018-03-07T21:36:00\",\"2018-03-08T00:00:00\",\"2018-03-08T02:24:00\",\"2018-03-07T21:36:00\"],\"y\":[2655.421875,2588.19375,2655.421875,2655.421875]},{\"fill\":\"toself\",\"line\":{\"color\":\"green\"},\"mode\":\"lines\",\"showlegend\":false,\"type\":\"scatter\",\"x\":[\"2018-03-08T21:36:00\",\"2018-03-09T00:00:00\",\"2018-03-09T02:24:00\",\"2018-03-08T21:36:00\"],\"y\":[2853.7981250000003,2921.0262500000003,2853.7981250000003,2853.7981250000003]},{\"fill\":\"toself\",\"line\":{\"color\":\"green\"},\"mode\":\"lines\",\"showlegend\":false,\"type\":\"scatter\",\"x\":[\"2018-03-11T21:36:00\",\"2018-03-12T00:00:00\",\"2018-03-12T02:24:00\",\"2018-03-11T21:36:00\"],\"y\":[2712.031875,2644.80375,2712.031875,2712.031875]},{\"fill\":\"toself\",\"line\":{\"color\":\"green\"},\"mode\":\"lines\",\"showlegend\":false,\"type\":\"scatter\",\"x\":[\"2018-03-12T21:36:00\",\"2018-03-13T00:00:00\",\"2018-03-13T02:24:00\",\"2018-03-12T21:36:00\"],\"y\":[2691.4518749999997,2624.2237499999997,2691.4518749999997,2691.4518749999997]},{\"fill\":\"toself\",\"line\":{\"color\":\"green\"},\"mode\":\"lines\",\"showlegend\":false,\"type\":\"scatter\",\"x\":[\"2018-03-13T21:36:00\",\"2018-03-14T00:00:00\",\"2018-03-14T02:24:00\",\"2018-03-13T21:36:00\"],\"y\":[2677.151875,2609.92375,2677.151875,2677.151875]},{\"fill\":\"toself\",\"line\":{\"color\":\"green\"},\"mode\":\"lines\",\"showlegend\":false,\"type\":\"scatter\",\"x\":[\"2018-03-14T21:36:00\",\"2018-03-15T00:00:00\",\"2018-03-15T02:24:00\",\"2018-03-14T21:36:00\"],\"y\":[2674.2418749999997,2607.0137499999996,2674.2418749999997,2674.2418749999997]},{\"fill\":\"toself\",\"line\":{\"color\":\"red\"},\"mode\":\"lines\",\"showlegend\":false,\"type\":\"scatter\",\"x\":[\"2018-03-15T21:36:00\",\"2018-03-16T00:00:00\",\"2018-03-16T02:24:00\",\"2018-03-15T21:36:00\"],\"y\":[2682.7418749999997,2615.5137499999996,2682.7418749999997,2682.7418749999997]},{\"fill\":\"toself\",\"line\":{\"color\":\"green\"},\"mode\":\"lines\",\"showlegend\":false,\"type\":\"scatter\",\"x\":[\"2018-03-18T21:36:00\",\"2018-03-19T00:00:00\",\"2018-03-19T02:24:00\",\"2018-03-18T21:36:00\"],\"y\":[2627.361875,2560.13375,2627.361875,2627.361875]},{\"fill\":\"toself\",\"line\":{\"color\":\"green\"},\"mode\":\"lines\",\"showlegend\":false,\"type\":\"scatter\",\"x\":[\"2018-03-19T21:36:00\",\"2018-03-20T00:00:00\",\"2018-03-20T02:24:00\",\"2018-03-19T21:36:00\"],\"y\":[2791.448125,2858.67625,2791.448125,2791.448125]},{\"fill\":\"toself\",\"line\":{\"color\":\"red\"},\"mode\":\"lines\",\"showlegend\":false,\"type\":\"scatter\",\"x\":[\"2018-03-20T21:36:00\",\"2018-03-21T00:00:00\",\"2018-03-21T02:24:00\",\"2018-03-20T21:36:00\"],\"y\":[2806.368125,2873.59625,2806.368125,2806.368125]},{\"fill\":\"toself\",\"line\":{\"color\":\"green\"},\"mode\":\"lines\",\"showlegend\":false,\"type\":\"scatter\",\"x\":[\"2018-03-21T21:36:00\",\"2018-03-22T00:00:00\",\"2018-03-22T02:24:00\",\"2018-03-21T21:36:00\"],\"y\":[2574.361875,2507.13375,2574.361875,2574.361875]},{\"fill\":\"toself\",\"line\":{\"color\":\"green\"},\"mode\":\"lines\",\"showlegend\":false,\"type\":\"scatter\",\"x\":[\"2018-03-22T21:36:00\",\"2018-03-23T00:00:00\",\"2018-03-23T02:24:00\",\"2018-03-22T21:36:00\"],\"y\":[2518.661875,2451.4337499999997,2518.661875,2518.661875]},{\"fill\":\"toself\",\"line\":{\"color\":\"red\"},\"mode\":\"lines\",\"showlegend\":false,\"type\":\"scatter\",\"x\":[\"2018-03-25T21:36:00\",\"2018-03-26T00:00:00\",\"2018-03-26T02:24:00\",\"2018-03-25T21:36:00\"],\"y\":[2534.581875,2467.3537499999998,2534.581875,2534.581875]},{\"fill\":\"toself\",\"line\":{\"color\":\"green\"},\"mode\":\"lines\",\"showlegend\":false,\"type\":\"scatter\",\"x\":[\"2018-03-26T21:36:00\",\"2018-03-27T00:00:00\",\"2018-03-27T02:24:00\",\"2018-03-26T21:36:00\"],\"y\":[2528.891875,2461.6637499999997,2528.891875,2528.891875]},{\"fill\":\"toself\",\"line\":{\"color\":\"green\"},\"mode\":\"lines\",\"showlegend\":false,\"type\":\"scatter\",\"x\":[\"2018-03-27T21:36:00\",\"2018-03-28T00:00:00\",\"2018-03-28T02:24:00\",\"2018-03-27T21:36:00\"],\"y\":[2525.831875,2458.6037499999998,2525.831875,2525.831875]},{\"fill\":\"toself\",\"line\":{\"color\":\"green\"},\"mode\":\"lines\",\"showlegend\":false,\"type\":\"scatter\",\"x\":[\"2018-03-28T21:36:00\",\"2018-03-29T00:00:00\",\"2018-03-29T02:24:00\",\"2018-03-28T21:36:00\"],\"y\":[2726.2981250000003,2793.5262500000003,2726.2981250000003,2726.2981250000003]},{\"fill\":\"toself\",\"line\":{\"color\":\"red\"},\"mode\":\"lines\",\"showlegend\":false,\"type\":\"scatter\",\"x\":[\"2018-04-01T21:36:00\",\"2018-04-02T00:00:00\",\"2018-04-02T02:24:00\",\"2018-04-01T21:36:00\"],\"y\":[2705.5281250000003,2772.7562500000004,2705.5281250000003,2705.5281250000003]},{\"fill\":\"toself\",\"line\":{\"color\":\"green\"},\"mode\":\"lines\",\"showlegend\":false,\"type\":\"scatter\",\"x\":[\"2018-04-02T21:36:00\",\"2018-04-03T00:00:00\",\"2018-04-03T02:24:00\",\"2018-04-02T21:36:00\"],\"y\":[2686.368125,2753.59625,2686.368125,2686.368125]},{\"fill\":\"toself\",\"line\":{\"color\":\"green\"},\"mode\":\"lines\",\"showlegend\":false,\"type\":\"scatter\",\"x\":[\"2018-04-03T21:36:00\",\"2018-04-04T00:00:00\",\"2018-04-04T02:24:00\",\"2018-04-03T21:36:00\"],\"y\":[2717.088125,2784.3162500000003,2717.088125,2717.088125]},{\"fill\":\"toself\",\"line\":{\"color\":\"red\"},\"mode\":\"lines\",\"showlegend\":false,\"type\":\"scatter\",\"x\":[\"2018-04-04T21:36:00\",\"2018-04-05T00:00:00\",\"2018-04-05T02:24:00\",\"2018-04-04T21:36:00\"],\"y\":[2582.351875,2515.1237499999997,2582.351875,2582.351875]},{\"fill\":\"toself\",\"line\":{\"color\":\"red\"},\"mode\":\"lines\",\"showlegend\":false,\"type\":\"scatter\",\"x\":[\"2018-04-05T21:36:00\",\"2018-04-06T00:00:00\",\"2018-04-06T02:24:00\",\"2018-04-05T21:36:00\"],\"y\":[2724.108125,2791.3362500000003,2724.108125,2724.108125]},{\"fill\":\"toself\",\"line\":{\"color\":\"red\"},\"mode\":\"lines\",\"showlegend\":false,\"type\":\"scatter\",\"x\":[\"2018-04-08T21:36:00\",\"2018-04-09T00:00:00\",\"2018-04-09T02:24:00\",\"2018-04-08T21:36:00\"],\"y\":[2720.7781250000003,2788.0062500000004,2720.7781250000003,2720.7781250000003]},{\"fill\":\"toself\",\"line\":{\"color\":\"red\"},\"mode\":\"lines\",\"showlegend\":false,\"type\":\"scatter\",\"x\":[\"2018-04-09T21:36:00\",\"2018-04-10T00:00:00\",\"2018-04-10T02:24:00\",\"2018-04-09T21:36:00\"],\"y\":[2568.551875,2501.32375,2568.551875,2568.551875]},{\"fill\":\"toself\",\"line\":{\"color\":\"red\"},\"mode\":\"lines\",\"showlegend\":false,\"type\":\"scatter\",\"x\":[\"2018-04-10T21:36:00\",\"2018-04-11T00:00:00\",\"2018-04-11T02:24:00\",\"2018-04-10T21:36:00\"],\"y\":[2728.658125,2795.88625,2728.658125,2728.658125]},{\"fill\":\"toself\",\"line\":{\"color\":\"green\"},\"mode\":\"lines\",\"showlegend\":false,\"type\":\"scatter\",\"x\":[\"2018-04-11T21:36:00\",\"2018-04-12T00:00:00\",\"2018-04-12T02:24:00\",\"2018-04-11T21:36:00\"],\"y\":[2741.948125,2809.17625,2741.948125,2741.948125]},{\"fill\":\"toself\",\"line\":{\"color\":\"red\"},\"mode\":\"lines\",\"showlegend\":false,\"type\":\"scatter\",\"x\":[\"2018-04-12T21:36:00\",\"2018-04-13T00:00:00\",\"2018-04-13T02:24:00\",\"2018-04-12T21:36:00\"],\"y\":[2747.4881250000003,2814.7162500000004,2747.4881250000003,2747.4881250000003]},{\"fill\":\"toself\",\"line\":{\"color\":\"red\"},\"mode\":\"lines\",\"showlegend\":false,\"type\":\"scatter\",\"x\":[\"2018-04-15T21:36:00\",\"2018-04-16T00:00:00\",\"2018-04-16T02:24:00\",\"2018-04-15T21:36:00\"],\"y\":[2597.9318749999998,2530.7037499999997,2597.9318749999998,2597.9318749999998]},{\"fill\":\"toself\",\"line\":{\"color\":\"red\"},\"mode\":\"lines\",\"showlegend\":false,\"type\":\"scatter\",\"x\":[\"2018-04-16T21:36:00\",\"2018-04-17T00:00:00\",\"2018-04-17T02:24:00\",\"2018-04-16T21:36:00\"],\"y\":[2624.821875,2557.59375,2624.821875,2624.821875]},{\"fill\":\"toself\",\"line\":{\"color\":\"red\"},\"mode\":\"lines\",\"showlegend\":false,\"type\":\"scatter\",\"x\":[\"2018-04-17T21:36:00\",\"2018-04-18T00:00:00\",\"2018-04-18T02:24:00\",\"2018-04-17T21:36:00\"],\"y\":[2784.718125,2851.94625,2784.718125,2784.718125]},{\"fill\":\"toself\",\"line\":{\"color\":\"red\"},\"mode\":\"lines\",\"showlegend\":false,\"type\":\"scatter\",\"x\":[\"2018-04-18T21:36:00\",\"2018-04-19T00:00:00\",\"2018-04-19T02:24:00\",\"2018-04-18T21:36:00\"],\"y\":[2770.0681250000002,2837.2962500000003,2770.0681250000002,2770.0681250000002]},{\"fill\":\"toself\",\"line\":{\"color\":\"green\"},\"mode\":\"lines\",\"showlegend\":false,\"type\":\"scatter\",\"x\":[\"2018-04-19T21:36:00\",\"2018-04-20T00:00:00\",\"2018-04-20T02:24:00\",\"2018-04-19T21:36:00\"],\"y\":[2593.381875,2526.15375,2593.381875,2593.381875]},{\"fill\":\"toself\",\"line\":{\"color\":\"green\"},\"mode\":\"lines\",\"showlegend\":false,\"type\":\"scatter\",\"x\":[\"2018-04-22T21:36:00\",\"2018-04-23T00:00:00\",\"2018-04-23T02:24:00\",\"2018-04-22T21:36:00\"],\"y\":[2590.7618749999997,2523.5337499999996,2590.7618749999997,2590.7618749999997]},{\"fill\":\"toself\",\"line\":{\"color\":\"green\"},\"mode\":\"lines\",\"showlegend\":false,\"type\":\"scatter\",\"x\":[\"2018-04-23T21:36:00\",\"2018-04-24T00:00:00\",\"2018-04-24T02:24:00\",\"2018-04-23T21:36:00\"],\"y\":[2550.091875,2482.86375,2550.091875,2550.091875]},{\"fill\":\"toself\",\"line\":{\"color\":\"red\"},\"mode\":\"lines\",\"showlegend\":false,\"type\":\"scatter\",\"x\":[\"2018-04-24T21:36:00\",\"2018-04-25T00:00:00\",\"2018-04-25T02:24:00\",\"2018-04-24T21:36:00\"],\"y\":[2545.441875,2478.21375,2545.441875,2545.441875]},{\"fill\":\"toself\",\"line\":{\"color\":\"green\"},\"mode\":\"lines\",\"showlegend\":false,\"type\":\"scatter\",\"x\":[\"2018-04-25T21:36:00\",\"2018-04-26T00:00:00\",\"2018-04-26T02:24:00\",\"2018-04-25T21:36:00\"],\"y\":[2743.708125,2810.93625,2743.708125,2743.708125]},{\"fill\":\"toself\",\"line\":{\"color\":\"green\"},\"mode\":\"lines\",\"showlegend\":false,\"type\":\"scatter\",\"x\":[\"2018-04-26T21:36:00\",\"2018-04-27T00:00:00\",\"2018-04-27T02:24:00\",\"2018-04-26T21:36:00\"],\"y\":[2591.781875,2524.55375,2591.781875,2591.781875]},{\"fill\":\"toself\",\"line\":{\"color\":\"green\"},\"mode\":\"lines\",\"showlegend\":false,\"type\":\"scatter\",\"x\":[\"2018-04-29T21:36:00\",\"2018-04-30T00:00:00\",\"2018-04-30T02:24:00\",\"2018-04-29T21:36:00\"],\"y\":[2580.811875,2513.58375,2580.811875,2580.811875]},{\"fill\":\"toself\",\"line\":{\"color\":\"green\"},\"mode\":\"lines\",\"showlegend\":false,\"type\":\"scatter\",\"x\":[\"2018-04-30T21:36:00\",\"2018-05-01T00:00:00\",\"2018-05-01T02:24:00\",\"2018-04-30T21:36:00\"],\"y\":[2722.498125,2789.72625,2722.498125,2722.498125]},{\"fill\":\"toself\",\"line\":{\"color\":\"green\"},\"mode\":\"lines\",\"showlegend\":false,\"type\":\"scatter\",\"x\":[\"2018-05-01T21:36:00\",\"2018-05-02T00:00:00\",\"2018-05-02T02:24:00\",\"2018-05-01T21:36:00\"],\"y\":[2564.4718749999997,2497.2437499999996,2564.4718749999997,2564.4718749999997]},{\"fill\":\"toself\",\"line\":{\"color\":\"red\"},\"mode\":\"lines\",\"showlegend\":false,\"type\":\"scatter\",\"x\":[\"2018-05-02T21:36:00\",\"2018-05-03T00:00:00\",\"2018-05-03T02:24:00\",\"2018-05-02T21:36:00\"],\"y\":[2527.391875,2460.1637499999997,2527.391875,2527.391875]},{\"fill\":\"toself\",\"line\":{\"color\":\"green\"},\"mode\":\"lines\",\"showlegend\":false,\"type\":\"scatter\",\"x\":[\"2018-05-03T21:36:00\",\"2018-05-04T00:00:00\",\"2018-05-04T02:24:00\",\"2018-05-03T21:36:00\"],\"y\":[2738.158125,2805.38625,2738.158125,2738.158125]},{\"fill\":\"toself\",\"line\":{\"color\":\"red\"},\"mode\":\"lines\",\"showlegend\":false,\"type\":\"scatter\",\"x\":[\"2018-05-06T21:36:00\",\"2018-05-07T00:00:00\",\"2018-05-07T02:24:00\",\"2018-05-06T21:36:00\"],\"y\":[2597.4718749999997,2530.2437499999996,2597.4718749999997,2597.4718749999997]},{\"fill\":\"toself\",\"line\":{\"color\":\"red\"},\"mode\":\"lines\",\"showlegend\":false,\"type\":\"scatter\",\"x\":[\"2018-05-07T21:36:00\",\"2018-05-08T00:00:00\",\"2018-05-08T02:24:00\",\"2018-05-07T21:36:00\"],\"y\":[2587.9718749999997,2520.7437499999996,2587.9718749999997,2587.9718749999997]},{\"fill\":\"toself\",\"line\":{\"color\":\"green\"},\"mode\":\"lines\",\"showlegend\":false,\"type\":\"scatter\",\"x\":[\"2018-05-08T21:36:00\",\"2018-05-09T00:00:00\",\"2018-05-09T02:24:00\",\"2018-05-08T21:36:00\"],\"y\":[2768.498125,2835.72625,2768.498125,2768.498125]},{\"fill\":\"toself\",\"line\":{\"color\":\"green\"},\"mode\":\"lines\",\"showlegend\":false,\"type\":\"scatter\",\"x\":[\"2018-05-09T21:36:00\",\"2018-05-10T00:00:00\",\"2018-05-10T02:24:00\",\"2018-05-09T21:36:00\"],\"y\":[2793.338125,2860.5662500000003,2793.338125,2793.338125]},{\"fill\":\"toself\",\"line\":{\"color\":\"green\"},\"mode\":\"lines\",\"showlegend\":false,\"type\":\"scatter\",\"x\":[\"2018-05-10T21:36:00\",\"2018-05-11T00:00:00\",\"2018-05-11T02:24:00\",\"2018-05-10T21:36:00\"],\"y\":[2800.088125,2867.3162500000003,2800.088125,2800.088125]},{\"fill\":\"toself\",\"line\":{\"color\":\"red\"},\"mode\":\"lines\",\"showlegend\":false,\"type\":\"scatter\",\"x\":[\"2018-05-13T21:36:00\",\"2018-05-14T00:00:00\",\"2018-05-14T02:24:00\",\"2018-05-13T21:36:00\"],\"y\":[2809.328125,2876.55625,2809.328125,2809.328125]},{\"fill\":\"toself\",\"line\":{\"color\":\"green\"},\"mode\":\"lines\",\"showlegend\":false,\"type\":\"scatter\",\"x\":[\"2018-05-14T21:36:00\",\"2018-05-15T00:00:00\",\"2018-05-15T02:24:00\",\"2018-05-14T21:36:00\"],\"y\":[2634.6818749999998,2567.4537499999997,2634.6818749999998,2634.6818749999998]},{\"fill\":\"toself\",\"line\":{\"color\":\"red\"},\"mode\":\"lines\",\"showlegend\":false,\"type\":\"scatter\",\"x\":[\"2018-05-15T21:36:00\",\"2018-05-16T00:00:00\",\"2018-05-16T02:24:00\",\"2018-05-15T21:36:00\"],\"y\":[2644.941875,2577.71375,2644.941875,2644.941875]},{\"fill\":\"toself\",\"line\":{\"color\":\"red\"},\"mode\":\"lines\",\"showlegend\":false,\"type\":\"scatter\",\"x\":[\"2018-05-16T21:36:00\",\"2018-05-17T00:00:00\",\"2018-05-17T02:24:00\",\"2018-05-16T21:36:00\"],\"y\":[2644.131875,2576.90375,2644.131875,2644.131875]},{\"fill\":\"toself\",\"line\":{\"color\":\"green\"},\"mode\":\"lines\",\"showlegend\":false,\"type\":\"scatter\",\"x\":[\"2018-05-17T21:36:00\",\"2018-05-18T00:00:00\",\"2018-05-18T02:24:00\",\"2018-05-17T21:36:00\"],\"y\":[2641.9518749999997,2574.7237499999997,2641.9518749999997,2641.9518749999997]},{\"fill\":\"toself\",\"line\":{\"color\":\"green\"},\"mode\":\"lines\",\"showlegend\":false,\"type\":\"scatter\",\"x\":[\"2018-05-20T21:36:00\",\"2018-05-21T00:00:00\",\"2018-05-21T02:24:00\",\"2018-05-20T21:36:00\"],\"y\":[2806.418125,2873.6462500000002,2806.418125,2806.418125]},{\"fill\":\"toself\",\"line\":{\"color\":\"red\"},\"mode\":\"lines\",\"showlegend\":false,\"type\":\"scatter\",\"x\":[\"2018-05-21T21:36:00\",\"2018-05-22T00:00:00\",\"2018-05-22T02:24:00\",\"2018-05-21T21:36:00\"],\"y\":[2809.468125,2876.69625,2809.468125,2809.468125]},{\"fill\":\"toself\",\"line\":{\"color\":\"red\"},\"mode\":\"lines\",\"showlegend\":false,\"type\":\"scatter\",\"x\":[\"2018-05-22T21:36:00\",\"2018-05-23T00:00:00\",\"2018-05-23T02:24:00\",\"2018-05-22T21:36:00\"],\"y\":[2642.311875,2575.08375,2642.311875,2642.311875]},{\"fill\":\"toself\",\"line\":{\"color\":\"red\"},\"mode\":\"lines\",\"showlegend\":false,\"type\":\"scatter\",\"x\":[\"2018-05-23T21:36:00\",\"2018-05-24T00:00:00\",\"2018-05-24T02:24:00\",\"2018-05-23T21:36:00\"],\"y\":[2799.198125,2866.42625,2799.198125,2799.198125]},{\"fill\":\"toself\",\"line\":{\"color\":\"red\"},\"mode\":\"lines\",\"showlegend\":false,\"type\":\"scatter\",\"x\":[\"2018-05-24T21:36:00\",\"2018-05-25T00:00:00\",\"2018-05-25T02:24:00\",\"2018-05-24T21:36:00\"],\"y\":[2794.588125,2861.8162500000003,2794.588125,2794.588125]},{\"fill\":\"toself\",\"line\":{\"color\":\"red\"},\"mode\":\"lines\",\"showlegend\":false,\"type\":\"scatter\",\"x\":[\"2018-05-28T21:36:00\",\"2018-05-29T00:00:00\",\"2018-05-29T02:24:00\",\"2018-05-28T21:36:00\"],\"y\":[2777.898125,2845.1262500000003,2777.898125,2777.898125]},{\"fill\":\"toself\",\"line\":{\"color\":\"red\"},\"mode\":\"lines\",\"showlegend\":false,\"type\":\"scatter\",\"x\":[\"2018-05-29T21:36:00\",\"2018-05-30T00:00:00\",\"2018-05-30T02:24:00\",\"2018-05-29T21:36:00\"],\"y\":[2635.2018749999997,2567.9737499999997,2635.2018749999997,2635.2018749999997]},{\"fill\":\"toself\",\"line\":{\"color\":\"green\"},\"mode\":\"lines\",\"showlegend\":false,\"type\":\"scatter\",\"x\":[\"2018-05-30T21:36:00\",\"2018-05-31T00:00:00\",\"2018-05-31T02:24:00\",\"2018-05-30T21:36:00\"],\"y\":[2633.4518749999997,2566.2237499999997,2633.4518749999997,2633.4518749999997]},{\"fill\":\"toself\",\"line\":{\"color\":\"red\"},\"mode\":\"lines\",\"showlegend\":false,\"type\":\"scatter\",\"x\":[\"2018-05-31T21:36:00\",\"2018-06-01T00:00:00\",\"2018-06-01T02:24:00\",\"2018-05-31T21:36:00\"],\"y\":[2651.4718749999997,2584.2437499999996,2651.4718749999997,2651.4718749999997]},{\"fill\":\"toself\",\"line\":{\"color\":\"green\"},\"mode\":\"lines\",\"showlegend\":false,\"type\":\"scatter\",\"x\":[\"2018-06-03T21:36:00\",\"2018-06-04T00:00:00\",\"2018-06-04T02:24:00\",\"2018-06-03T21:36:00\"],\"y\":[2816.388125,2883.61625,2816.388125,2816.388125]},{\"fill\":\"toself\",\"line\":{\"color\":\"green\"},\"mode\":\"lines\",\"showlegend\":false,\"type\":\"scatter\",\"x\":[\"2018-06-04T21:36:00\",\"2018-06-05T00:00:00\",\"2018-06-05T02:24:00\",\"2018-06-04T21:36:00\"],\"y\":[2819.838125,2887.0662500000003,2819.838125,2819.838125]},{\"fill\":\"toself\",\"line\":{\"color\":\"green\"},\"mode\":\"lines\",\"showlegend\":false,\"type\":\"scatter\",\"x\":[\"2018-06-05T21:36:00\",\"2018-06-06T00:00:00\",\"2018-06-06T02:24:00\",\"2018-06-05T21:36:00\"],\"y\":[2839.618125,2906.84625,2839.618125,2839.618125]},{\"fill\":\"toself\",\"line\":{\"color\":\"red\"},\"mode\":\"lines\",\"showlegend\":false,\"type\":\"scatter\",\"x\":[\"2018-06-06T21:36:00\",\"2018-06-07T00:00:00\",\"2018-06-07T02:24:00\",\"2018-06-06T21:36:00\"],\"y\":[2847.128125,2914.3562500000003,2847.128125,2847.128125]},{\"fill\":\"toself\",\"line\":{\"color\":\"green\"},\"mode\":\"lines\",\"showlegend\":false,\"type\":\"scatter\",\"x\":[\"2018-06-07T21:36:00\",\"2018-06-08T00:00:00\",\"2018-06-08T02:24:00\",\"2018-06-07T21:36:00\"],\"y\":[2846.618125,2913.84625,2846.618125,2846.618125]},{\"fill\":\"toself\",\"line\":{\"color\":\"red\"},\"mode\":\"lines\",\"showlegend\":false,\"type\":\"scatter\",\"x\":[\"2018-06-10T21:36:00\",\"2018-06-11T00:00:00\",\"2018-06-11T02:24:00\",\"2018-06-10T21:36:00\"],\"y\":[2712.941875,2645.71375,2712.941875,2712.941875]},{\"fill\":\"toself\",\"line\":{\"color\":\"red\"},\"mode\":\"lines\",\"showlegend\":false,\"type\":\"scatter\",\"x\":[\"2018-06-11T21:36:00\",\"2018-06-12T00:00:00\",\"2018-06-12T02:24:00\",\"2018-06-11T21:36:00\"],\"y\":[2711.551875,2644.32375,2711.551875,2711.551875]},{\"fill\":\"toself\",\"line\":{\"color\":\"green\"},\"mode\":\"lines\",\"showlegend\":false,\"type\":\"scatter\",\"x\":[\"2018-06-12T21:36:00\",\"2018-06-13T00:00:00\",\"2018-06-13T02:24:00\",\"2018-06-12T21:36:00\"],\"y\":[2707.421875,2640.19375,2707.421875,2707.421875]},{\"fill\":\"toself\",\"line\":{\"color\":\"red\"},\"mode\":\"lines\",\"showlegend\":false,\"type\":\"scatter\",\"x\":[\"2018-06-13T21:36:00\",\"2018-06-14T00:00:00\",\"2018-06-14T02:24:00\",\"2018-06-13T21:36:00\"],\"y\":[2856.288125,2923.51625,2856.288125,2856.288125]},{\"fill\":\"toself\",\"line\":{\"color\":\"green\"},\"mode\":\"lines\",\"showlegend\":false,\"type\":\"scatter\",\"x\":[\"2018-06-14T21:36:00\",\"2018-06-15T00:00:00\",\"2018-06-15T02:24:00\",\"2018-06-14T21:36:00\"],\"y\":[2850.038125,2917.26625,2850.038125,2850.038125]},{\"fill\":\"toself\",\"line\":{\"color\":\"green\"},\"mode\":\"lines\",\"showlegend\":false,\"type\":\"scatter\",\"x\":[\"2018-06-17T21:36:00\",\"2018-06-18T00:00:00\",\"2018-06-18T02:24:00\",\"2018-06-17T21:36:00\"],\"y\":[2842.218125,2909.44625,2842.218125,2842.218125]},{\"fill\":\"toself\",\"line\":{\"color\":\"green\"},\"mode\":\"lines\",\"showlegend\":false,\"type\":\"scatter\",\"x\":[\"2018-06-18T21:36:00\",\"2018-06-19T00:00:00\",\"2018-06-19T02:24:00\",\"2018-06-18T21:36:00\"],\"y\":[2832.2781250000003,2899.5062500000004,2832.2781250000003,2832.2781250000003]},{\"fill\":\"toself\",\"line\":{\"color\":\"red\"},\"mode\":\"lines\",\"showlegend\":false,\"type\":\"scatter\",\"x\":[\"2018-06-19T21:36:00\",\"2018-06-20T00:00:00\",\"2018-06-20T02:24:00\",\"2018-06-19T21:36:00\"],\"y\":[2842.088125,2909.3162500000003,2842.088125,2842.088125]},{\"fill\":\"toself\",\"line\":{\"color\":\"red\"},\"mode\":\"lines\",\"showlegend\":false,\"type\":\"scatter\",\"x\":[\"2018-06-20T21:36:00\",\"2018-06-21T00:00:00\",\"2018-06-21T02:24:00\",\"2018-06-20T21:36:00\"],\"y\":[2836.5081250000003,2903.7362500000004,2836.5081250000003,2836.5081250000003]},{\"fill\":\"toself\",\"line\":{\"color\":\"red\"},\"mode\":\"lines\",\"showlegend\":false,\"type\":\"scatter\",\"x\":[\"2018-06-21T21:36:00\",\"2018-06-22T00:00:00\",\"2018-06-22T02:24:00\",\"2018-06-21T21:36:00\"],\"y\":[2831.398125,2898.6262500000003,2831.398125,2831.398125]},{\"fill\":\"toself\",\"line\":{\"color\":\"red\"},\"mode\":\"lines\",\"showlegend\":false,\"type\":\"scatter\",\"x\":[\"2018-06-24T21:36:00\",\"2018-06-25T00:00:00\",\"2018-06-25T02:24:00\",\"2018-06-24T21:36:00\"],\"y\":[2810.168125,2877.3962500000002,2810.168125,2810.168125]},{\"fill\":\"toself\",\"line\":{\"color\":\"green\"},\"mode\":\"lines\",\"showlegend\":false,\"type\":\"scatter\",\"x\":[\"2018-06-25T21:36:00\",\"2018-06-26T00:00:00\",\"2018-06-26T02:24:00\",\"2018-06-25T21:36:00\"],\"y\":[2800.138125,2867.36625,2800.138125,2800.138125]},{\"fill\":\"toself\",\"line\":{\"color\":\"red\"},\"mode\":\"lines\",\"showlegend\":false,\"type\":\"scatter\",\"x\":[\"2018-06-26T21:36:00\",\"2018-06-27T00:00:00\",\"2018-06-27T02:24:00\",\"2018-06-26T21:36:00\"],\"y\":[2813.3181250000002,2880.5462500000003,2813.3181250000002,2813.3181250000002]},{\"fill\":\"toself\",\"line\":{\"color\":\"green\"},\"mode\":\"lines\",\"showlegend\":false,\"type\":\"scatter\",\"x\":[\"2018-06-27T21:36:00\",\"2018-06-28T00:00:00\",\"2018-06-28T02:24:00\",\"2018-06-27T21:36:00\"],\"y\":[2791.5681250000002,2858.7962500000003,2791.5681250000002,2791.5681250000002]},{\"fill\":\"toself\",\"line\":{\"color\":\"red\"},\"mode\":\"lines\",\"showlegend\":false,\"type\":\"scatter\",\"x\":[\"2018-06-28T21:36:00\",\"2018-06-29T00:00:00\",\"2018-06-29T02:24:00\",\"2018-06-28T21:36:00\"],\"y\":[2810.4881250000003,2877.7162500000004,2810.4881250000003,2810.4881250000003]},{\"fill\":\"toself\",\"line\":{\"color\":\"red\"},\"mode\":\"lines\",\"showlegend\":false,\"type\":\"scatter\",\"x\":[\"2018-07-01T21:36:00\",\"2018-07-02T00:00:00\",\"2018-07-02T02:24:00\",\"2018-07-01T21:36:00\"],\"y\":[2631.7218749999997,2564.4937499999996,2631.7218749999997,2631.7218749999997]},{\"fill\":\"toself\",\"line\":{\"color\":\"green\"},\"mode\":\"lines\",\"showlegend\":false,\"type\":\"scatter\",\"x\":[\"2018-07-02T21:36:00\",\"2018-07-03T00:00:00\",\"2018-07-03T02:24:00\",\"2018-07-02T21:36:00\"],\"y\":[2643.9318749999998,2576.7037499999997,2643.9318749999998,2643.9318749999998]},{\"fill\":\"toself\",\"line\":{\"color\":\"red\"},\"mode\":\"lines\",\"showlegend\":false,\"type\":\"scatter\",\"x\":[\"2018-07-04T21:36:00\",\"2018-07-05T00:00:00\",\"2018-07-05T02:24:00\",\"2018-07-04T21:36:00\"],\"y\":[2648.791875,2581.56375,2648.791875,2648.791875]},{\"fill\":\"toself\",\"line\":{\"color\":\"red\"},\"mode\":\"lines\",\"showlegend\":false,\"type\":\"scatter\",\"x\":[\"2018-07-05T21:36:00\",\"2018-07-06T00:00:00\",\"2018-07-06T02:24:00\",\"2018-07-05T21:36:00\"],\"y\":[2666.291875,2599.06375,2666.291875,2666.291875]},{\"fill\":\"toself\",\"line\":{\"color\":\"green\"},\"mode\":\"lines\",\"showlegend\":false,\"type\":\"scatter\",\"x\":[\"2018-07-08T21:36:00\",\"2018-07-09T00:00:00\",\"2018-07-09T02:24:00\",\"2018-07-08T21:36:00\"],\"y\":[2851.878125,2919.1062500000003,2851.878125,2851.878125]},{\"fill\":\"toself\",\"line\":{\"color\":\"red\"},\"mode\":\"lines\",\"showlegend\":false,\"type\":\"scatter\",\"x\":[\"2018-07-09T21:36:00\",\"2018-07-10T00:00:00\",\"2018-07-10T02:24:00\",\"2018-07-09T21:36:00\"],\"y\":[2719.0118749999997,2651.7837499999996,2719.0118749999997,2719.0118749999997]},{\"fill\":\"toself\",\"line\":{\"color\":\"green\"},\"mode\":\"lines\",\"showlegend\":false,\"type\":\"scatter\",\"x\":[\"2018-07-10T21:36:00\",\"2018-07-11T00:00:00\",\"2018-07-11T02:24:00\",\"2018-07-10T21:36:00\"],\"y\":[2703.541875,2636.31375,2703.541875,2703.541875]},{\"fill\":\"toself\",\"line\":{\"color\":\"red\"},\"mode\":\"lines\",\"showlegend\":false,\"type\":\"scatter\",\"x\":[\"2018-07-11T21:36:00\",\"2018-07-12T00:00:00\",\"2018-07-12T02:24:00\",\"2018-07-11T21:36:00\"],\"y\":[2714.301875,2647.07375,2714.301875,2714.301875]},{\"fill\":\"toself\",\"line\":{\"color\":\"green\"},\"mode\":\"lines\",\"showlegend\":false,\"type\":\"scatter\",\"x\":[\"2018-07-12T21:36:00\",\"2018-07-13T00:00:00\",\"2018-07-13T02:24:00\",\"2018-07-12T21:36:00\"],\"y\":[2871.7581250000003,2938.9862500000004,2871.7581250000003,2871.7581250000003]},{\"fill\":\"toself\",\"line\":{\"color\":\"green\"},\"mode\":\"lines\",\"showlegend\":false,\"type\":\"scatter\",\"x\":[\"2018-07-15T21:36:00\",\"2018-07-16T00:00:00\",\"2018-07-16T02:24:00\",\"2018-07-15T21:36:00\"],\"y\":[2726.161875,2658.9337499999997,2726.161875,2726.161875]},{\"fill\":\"toself\",\"line\":{\"color\":\"green\"},\"mode\":\"lines\",\"showlegend\":false,\"type\":\"scatter\",\"x\":[\"2018-07-16T21:36:00\",\"2018-07-17T00:00:00\",\"2018-07-17T02:24:00\",\"2018-07-16T21:36:00\"],\"y\":[2881.418125,2948.6462500000002,2881.418125,2881.418125]},{\"fill\":\"toself\",\"line\":{\"color\":\"red\"},\"mode\":\"lines\",\"showlegend\":false,\"type\":\"scatter\",\"x\":[\"2018-07-17T21:36:00\",\"2018-07-18T00:00:00\",\"2018-07-18T02:24:00\",\"2018-07-17T21:36:00\"],\"y\":[2738.661875,2671.4337499999997,2738.661875,2738.661875]},{\"fill\":\"toself\",\"line\":{\"color\":\"green\"},\"mode\":\"lines\",\"showlegend\":false,\"type\":\"scatter\",\"x\":[\"2018-07-18T21:36:00\",\"2018-07-19T00:00:00\",\"2018-07-19T02:24:00\",\"2018-07-18T21:36:00\"],\"y\":[2732.541875,2665.31375,2732.541875,2732.541875]},{\"fill\":\"toself\",\"line\":{\"color\":\"red\"},\"mode\":\"lines\",\"showlegend\":false,\"type\":\"scatter\",\"x\":[\"2018-07-19T21:36:00\",\"2018-07-20T00:00:00\",\"2018-07-20T02:24:00\",\"2018-07-19T21:36:00\"],\"y\":[2876.928125,2944.15625,2876.928125,2876.928125]},{\"fill\":\"toself\",\"line\":{\"color\":\"red\"},\"mode\":\"lines\",\"showlegend\":false,\"type\":\"scatter\",\"x\":[\"2018-07-22T21:36:00\",\"2018-07-23T00:00:00\",\"2018-07-23T02:24:00\",\"2018-07-22T21:36:00\"],\"y\":[2727.911875,2660.6837499999997,2727.911875,2727.911875]},{\"fill\":\"toself\",\"line\":{\"color\":\"red\"},\"mode\":\"lines\",\"showlegend\":false,\"type\":\"scatter\",\"x\":[\"2018-07-23T21:36:00\",\"2018-07-24T00:00:00\",\"2018-07-24T02:24:00\",\"2018-07-23T21:36:00\"],\"y\":[2897.218125,2964.44625,2897.218125,2897.218125]},{\"fill\":\"toself\",\"line\":{\"color\":\"green\"},\"mode\":\"lines\",\"showlegend\":false,\"type\":\"scatter\",\"x\":[\"2018-07-24T21:36:00\",\"2018-07-25T00:00:00\",\"2018-07-25T02:24:00\",\"2018-07-24T21:36:00\"],\"y\":[2915.2581250000003,2982.4862500000004,2915.2581250000003,2915.2581250000003]},{\"fill\":\"toself\",\"line\":{\"color\":\"green\"},\"mode\":\"lines\",\"showlegend\":false,\"type\":\"scatter\",\"x\":[\"2018-07-25T21:36:00\",\"2018-07-26T00:00:00\",\"2018-07-26T02:24:00\",\"2018-07-25T21:36:00\"],\"y\":[2912.7981250000003,2980.0262500000003,2912.7981250000003,2912.7981250000003]},{\"fill\":\"toself\",\"line\":{\"color\":\"red\"},\"mode\":\"lines\",\"showlegend\":false,\"type\":\"scatter\",\"x\":[\"2018-07-26T21:36:00\",\"2018-07-27T00:00:00\",\"2018-07-27T02:24:00\",\"2018-07-26T21:36:00\"],\"y\":[2910.398125,2977.6262500000003,2910.398125,2910.398125]},{\"fill\":\"toself\",\"line\":{\"color\":\"red\"},\"mode\":\"lines\",\"showlegend\":false,\"type\":\"scatter\",\"x\":[\"2018-07-29T21:36:00\",\"2018-07-30T00:00:00\",\"2018-07-30T02:24:00\",\"2018-07-29T21:36:00\"],\"y\":[2888.968125,2956.19625,2888.968125,2888.968125]},{\"fill\":\"toself\",\"line\":{\"color\":\"green\"},\"mode\":\"lines\",\"showlegend\":false,\"type\":\"scatter\",\"x\":[\"2018-07-30T21:36:00\",\"2018-07-31T00:00:00\",\"2018-07-31T02:24:00\",\"2018-07-30T21:36:00\"],\"y\":[2891.688125,2958.91625,2891.688125,2891.688125]},{\"fill\":\"toself\",\"line\":{\"color\":\"green\"},\"mode\":\"lines\",\"showlegend\":false,\"type\":\"scatter\",\"x\":[\"2018-07-31T21:36:00\",\"2018-08-01T00:00:00\",\"2018-08-01T02:24:00\",\"2018-07-31T21:36:00\"],\"y\":[2738.621875,2671.3937499999997,2738.621875,2738.621875]},{\"fill\":\"toself\",\"line\":{\"color\":\"green\"},\"mode\":\"lines\",\"showlegend\":false,\"type\":\"scatter\",\"x\":[\"2018-08-01T21:36:00\",\"2018-08-02T00:00:00\",\"2018-08-02T02:24:00\",\"2018-08-01T21:36:00\"],\"y\":[2897.138125,2964.36625,2897.138125,2897.138125]},{\"fill\":\"toself\",\"line\":{\"color\":\"green\"},\"mode\":\"lines\",\"showlegend\":false,\"type\":\"scatter\",\"x\":[\"2018-08-02T21:36:00\",\"2018-08-03T00:00:00\",\"2018-08-03T02:24:00\",\"2018-08-02T21:36:00\"],\"y\":[2907.608125,2974.8362500000003,2907.608125,2907.608125]},{\"fill\":\"toself\",\"line\":{\"color\":\"red\"},\"mode\":\"lines\",\"showlegend\":false,\"type\":\"scatter\",\"x\":[\"2018-08-05T21:36:00\",\"2018-08-06T00:00:00\",\"2018-08-06T02:24:00\",\"2018-08-05T21:36:00\"],\"y\":[2768.751875,2701.52375,2768.751875,2768.751875]},{\"fill\":\"toself\",\"line\":{\"color\":\"green\"},\"mode\":\"lines\",\"showlegend\":false,\"type\":\"scatter\",\"x\":[\"2018-08-06T21:36:00\",\"2018-08-07T00:00:00\",\"2018-08-07T02:24:00\",\"2018-08-06T21:36:00\"],\"y\":[2930.658125,2997.88625,2930.658125,2930.658125]},{\"fill\":\"toself\",\"line\":{\"color\":\"red\"},\"mode\":\"lines\",\"showlegend\":false,\"type\":\"scatter\",\"x\":[\"2018-08-07T21:36:00\",\"2018-08-08T00:00:00\",\"2018-08-08T02:24:00\",\"2018-08-07T21:36:00\"],\"y\":[2785.861875,2718.63375,2785.861875,2785.861875]},{\"fill\":\"toself\",\"line\":{\"color\":\"green\"},\"mode\":\"lines\",\"showlegend\":false,\"type\":\"scatter\",\"x\":[\"2018-08-08T21:36:00\",\"2018-08-09T00:00:00\",\"2018-08-09T02:24:00\",\"2018-08-08T21:36:00\"],\"y\":[2784.751875,2717.52375,2784.751875,2784.751875]},{\"fill\":\"toself\",\"line\":{\"color\":\"green\"},\"mode\":\"lines\",\"showlegend\":false,\"type\":\"scatter\",\"x\":[\"2018-08-09T21:36:00\",\"2018-08-10T00:00:00\",\"2018-08-10T02:24:00\",\"2018-08-09T21:36:00\"],\"y\":[2758.581875,2691.3537499999998,2758.581875,2758.581875]},{\"fill\":\"toself\",\"line\":{\"color\":\"red\"},\"mode\":\"lines\",\"showlegend\":false,\"type\":\"scatter\",\"x\":[\"2018-08-12T21:36:00\",\"2018-08-13T00:00:00\",\"2018-08-13T02:24:00\",\"2018-08-12T21:36:00\"],\"y\":[2910.628125,2977.8562500000003,2910.628125,2910.628125]},{\"fill\":\"toself\",\"line\":{\"color\":\"red\"},\"mode\":\"lines\",\"showlegend\":false,\"type\":\"scatter\",\"x\":[\"2018-08-13T21:36:00\",\"2018-08-14T00:00:00\",\"2018-08-14T02:24:00\",\"2018-08-13T21:36:00\"],\"y\":[2759.351875,2692.1237499999997,2759.351875,2759.351875]},{\"fill\":\"toself\",\"line\":{\"color\":\"green\"},\"mode\":\"lines\",\"showlegend\":false,\"type\":\"scatter\",\"x\":[\"2018-08-14T21:36:00\",\"2018-08-15T00:00:00\",\"2018-08-15T02:24:00\",\"2018-08-14T21:36:00\"],\"y\":[2735.2618749999997,2668.0337499999996,2735.2618749999997,2735.2618749999997]},{\"fill\":\"toself\",\"line\":{\"color\":\"green\"},\"mode\":\"lines\",\"showlegend\":false,\"type\":\"scatter\",\"x\":[\"2018-08-15T21:36:00\",\"2018-08-16T00:00:00\",\"2018-08-16T02:24:00\",\"2018-08-15T21:36:00\"],\"y\":[2917.718125,2984.94625,2917.718125,2917.718125]},{\"fill\":\"toself\",\"line\":{\"color\":\"red\"},\"mode\":\"lines\",\"showlegend\":false,\"type\":\"scatter\",\"x\":[\"2018-08-16T21:36:00\",\"2018-08-17T00:00:00\",\"2018-08-17T02:24:00\",\"2018-08-16T21:36:00\"],\"y\":[2766.501875,2699.27375,2766.501875,2766.501875]},{\"fill\":\"toself\",\"line\":{\"color\":\"green\"},\"mode\":\"lines\",\"showlegend\":false,\"type\":\"scatter\",\"x\":[\"2018-08-19T21:36:00\",\"2018-08-20T00:00:00\",\"2018-08-20T02:24:00\",\"2018-08-19T21:36:00\"],\"y\":[2926.9881250000003,2994.2162500000004,2926.9881250000003,2926.9881250000003]},{\"fill\":\"toself\",\"line\":{\"color\":\"green\"},\"mode\":\"lines\",\"showlegend\":false,\"type\":\"scatter\",\"x\":[\"2018-08-20T21:36:00\",\"2018-08-21T00:00:00\",\"2018-08-21T02:24:00\",\"2018-08-20T21:36:00\"],\"y\":[2940.458125,3007.68625,2940.458125,2940.458125]},{\"fill\":\"toself\",\"line\":{\"color\":\"red\"},\"mode\":\"lines\",\"showlegend\":false,\"type\":\"scatter\",\"x\":[\"2018-08-21T21:36:00\",\"2018-08-22T00:00:00\",\"2018-08-22T02:24:00\",\"2018-08-21T21:36:00\"],\"y\":[2788.821875,2721.59375,2788.821875,2788.821875]},{\"fill\":\"toself\",\"line\":{\"color\":\"green\"},\"mode\":\"lines\",\"showlegend\":false,\"type\":\"scatter\",\"x\":[\"2018-08-22T21:36:00\",\"2018-08-23T00:00:00\",\"2018-08-23T02:24:00\",\"2018-08-22T21:36:00\"],\"y\":[2786.801875,2719.57375,2786.801875,2786.801875]},{\"fill\":\"toself\",\"line\":{\"color\":\"red\"},\"mode\":\"lines\",\"showlegend\":false,\"type\":\"scatter\",\"x\":[\"2018-08-23T21:36:00\",\"2018-08-24T00:00:00\",\"2018-08-24T02:24:00\",\"2018-08-23T21:36:00\"],\"y\":[2795.121875,2727.8937499999997,2795.121875,2795.121875]},{\"fill\":\"toself\",\"line\":{\"color\":\"red\"},\"mode\":\"lines\",\"showlegend\":false,\"type\":\"scatter\",\"x\":[\"2018-08-26T21:36:00\",\"2018-08-27T00:00:00\",\"2018-08-27T02:24:00\",\"2018-08-26T21:36:00\"],\"y\":[2817.461875,2750.23375,2817.461875,2817.461875]},{\"fill\":\"toself\",\"line\":{\"color\":\"red\"},\"mode\":\"lines\",\"showlegend\":false,\"type\":\"scatter\",\"x\":[\"2018-08-27T21:36:00\",\"2018-08-28T00:00:00\",\"2018-08-28T02:24:00\",\"2018-08-27T21:36:00\"],\"y\":[2970.998125,3038.22625,2970.998125,2970.998125]},{\"fill\":\"toself\",\"line\":{\"color\":\"green\"},\"mode\":\"lines\",\"showlegend\":false,\"type\":\"scatter\",\"x\":[\"2018-08-28T21:36:00\",\"2018-08-29T00:00:00\",\"2018-08-29T02:24:00\",\"2018-08-28T21:36:00\"],\"y\":[2983.728125,3050.95625,2983.728125,2983.728125]},{\"fill\":\"toself\",\"line\":{\"color\":\"green\"},\"mode\":\"lines\",\"showlegend\":false,\"type\":\"scatter\",\"x\":[\"2018-08-29T21:36:00\",\"2018-08-30T00:00:00\",\"2018-08-30T02:24:00\",\"2018-08-29T21:36:00\"],\"y\":[2827.9918749999997,2760.7637499999996,2827.9918749999997,2827.9918749999997]},{\"fill\":\"toself\",\"line\":{\"color\":\"green\"},\"mode\":\"lines\",\"showlegend\":false,\"type\":\"scatter\",\"x\":[\"2018-08-30T21:36:00\",\"2018-08-31T00:00:00\",\"2018-08-31T02:24:00\",\"2018-08-30T21:36:00\"],\"y\":[2973.5481250000003,3040.7762500000003,2973.5481250000003,2973.5481250000003]},{\"fill\":\"toself\",\"line\":{\"color\":\"green\"},\"mode\":\"lines\",\"showlegend\":false,\"type\":\"scatter\",\"x\":[\"2018-09-03T21:36:00\",\"2018-09-04T00:00:00\",\"2018-09-04T02:24:00\",\"2018-09-03T21:36:00\"],\"y\":[2817.901875,2750.67375,2817.901875,2817.901875]},{\"fill\":\"toself\",\"line\":{\"color\":\"red\"},\"mode\":\"lines\",\"showlegend\":false,\"type\":\"scatter\",\"x\":[\"2018-09-04T21:36:00\",\"2018-09-05T00:00:00\",\"2018-09-05T02:24:00\",\"2018-09-04T21:36:00\"],\"y\":[2961.438125,3028.66625,2961.438125,2961.438125]},{\"fill\":\"toself\",\"line\":{\"color\":\"red\"},\"mode\":\"lines\",\"showlegend\":false,\"type\":\"scatter\",\"x\":[\"2018-09-05T21:36:00\",\"2018-09-06T00:00:00\",\"2018-09-06T02:24:00\",\"2018-09-05T21:36:00\"],\"y\":[2959.2781250000003,3026.5062500000004,2959.2781250000003,2959.2781250000003]},{\"fill\":\"toself\",\"line\":{\"color\":\"red\"},\"mode\":\"lines\",\"showlegend\":false,\"type\":\"scatter\",\"x\":[\"2018-09-06T21:36:00\",\"2018-09-07T00:00:00\",\"2018-09-07T02:24:00\",\"2018-09-06T21:36:00\"],\"y\":[2796.891875,2729.6637499999997,2796.891875,2796.891875]},{\"fill\":\"toself\",\"line\":{\"color\":\"red\"},\"mode\":\"lines\",\"showlegend\":false,\"type\":\"scatter\",\"x\":[\"2018-09-09T21:36:00\",\"2018-09-10T00:00:00\",\"2018-09-10T02:24:00\",\"2018-09-09T21:36:00\"],\"y\":[2954.158125,3021.38625,2954.158125,2954.158125]},{\"fill\":\"toself\",\"line\":{\"color\":\"green\"},\"mode\":\"lines\",\"showlegend\":false,\"type\":\"scatter\",\"x\":[\"2018-09-10T21:36:00\",\"2018-09-11T00:00:00\",\"2018-09-11T02:24:00\",\"2018-09-10T21:36:00\"],\"y\":[2959.748125,3026.97625,2959.748125,2959.748125]},{\"fill\":\"toself\",\"line\":{\"color\":\"red\"},\"mode\":\"lines\",\"showlegend\":false,\"type\":\"scatter\",\"x\":[\"2018-09-11T21:36:00\",\"2018-09-12T00:00:00\",\"2018-09-12T02:24:00\",\"2018-09-11T21:36:00\"],\"y\":[2811.9718749999997,2744.7437499999996,2811.9718749999997,2811.9718749999997]},{\"fill\":\"toself\",\"line\":{\"color\":\"red\"},\"mode\":\"lines\",\"showlegend\":false,\"type\":\"scatter\",\"x\":[\"2018-09-12T21:36:00\",\"2018-09-13T00:00:00\",\"2018-09-13T02:24:00\",\"2018-09-12T21:36:00\"],\"y\":[2829.161875,2761.9337499999997,2829.161875,2829.161875]},{\"fill\":\"toself\",\"line\":{\"color\":\"green\"},\"mode\":\"lines\",\"showlegend\":false,\"type\":\"scatter\",\"x\":[\"2018-09-13T21:36:00\",\"2018-09-14T00:00:00\",\"2018-09-14T02:24:00\",\"2018-09-13T21:36:00\"],\"y\":[2828.541875,2761.31375,2828.541875,2828.541875]},{\"fill\":\"toself\",\"line\":{\"color\":\"green\"},\"mode\":\"lines\",\"showlegend\":false,\"type\":\"scatter\",\"x\":[\"2018-09-16T21:36:00\",\"2018-09-17T00:00:00\",\"2018-09-17T02:24:00\",\"2018-09-16T21:36:00\"],\"y\":[2818.9318749999998,2751.7037499999997,2818.9318749999998,2818.9318749999998]},{\"fill\":\"toself\",\"line\":{\"color\":\"green\"},\"mode\":\"lines\",\"showlegend\":false,\"type\":\"scatter\",\"x\":[\"2018-09-17T21:36:00\",\"2018-09-18T00:00:00\",\"2018-09-18T02:24:00\",\"2018-09-17T21:36:00\"],\"y\":[2978.398125,3045.6262500000003,2978.398125,2978.398125]},{\"fill\":\"toself\",\"line\":{\"color\":\"red\"},\"mode\":\"lines\",\"showlegend\":false,\"type\":\"scatter\",\"x\":[\"2018-09-18T21:36:00\",\"2018-09-19T00:00:00\",\"2018-09-19T02:24:00\",\"2018-09-18T21:36:00\"],\"y\":[2836.591875,2769.36375,2836.591875,2836.591875]},{\"fill\":\"toself\",\"line\":{\"color\":\"red\"},\"mode\":\"lines\",\"showlegend\":false,\"type\":\"scatter\",\"x\":[\"2018-09-19T21:36:00\",\"2018-09-20T00:00:00\",\"2018-09-20T02:24:00\",\"2018-09-19T21:36:00\"],\"y\":[2852.501875,2785.27375,2852.501875,2852.501875]},{\"fill\":\"toself\",\"line\":{\"color\":\"green\"},\"mode\":\"lines\",\"showlegend\":false,\"type\":\"scatter\",\"x\":[\"2018-09-20T21:36:00\",\"2018-09-21T00:00:00\",\"2018-09-21T02:24:00\",\"2018-09-20T21:36:00\"],\"y\":[2859.881875,2792.65375,2859.881875,2859.881875]},{\"fill\":\"toself\",\"line\":{\"color\":\"green\"},\"mode\":\"lines\",\"showlegend\":false,\"type\":\"scatter\",\"x\":[\"2018-09-23T21:36:00\",\"2018-09-24T00:00:00\",\"2018-09-24T02:24:00\",\"2018-09-23T21:36:00\"],\"y\":[2845.401875,2778.17375,2845.401875,2845.401875]},{\"fill\":\"toself\",\"line\":{\"color\":\"green\"},\"mode\":\"lines\",\"showlegend\":false,\"type\":\"scatter\",\"x\":[\"2018-09-24T21:36:00\",\"2018-09-25T00:00:00\",\"2018-09-25T02:24:00\",\"2018-09-24T21:36:00\"],\"y\":[2846.4718749999997,2779.2437499999996,2846.4718749999997,2846.4718749999997]},{\"fill\":\"toself\",\"line\":{\"color\":\"red\"},\"mode\":\"lines\",\"showlegend\":false,\"type\":\"scatter\",\"x\":[\"2018-09-25T21:36:00\",\"2018-09-26T00:00:00\",\"2018-09-26T02:24:00\",\"2018-09-25T21:36:00\"],\"y\":[2998.378125,3065.6062500000003,2998.378125,2998.378125]},{\"fill\":\"toself\",\"line\":{\"color\":\"green\"},\"mode\":\"lines\",\"showlegend\":false,\"type\":\"scatter\",\"x\":[\"2018-09-26T21:36:00\",\"2018-09-27T00:00:00\",\"2018-09-27T02:24:00\",\"2018-09-26T21:36:00\"],\"y\":[2994.448125,3061.67625,2994.448125,2994.448125]},{\"fill\":\"toself\",\"line\":{\"color\":\"green\"},\"mode\":\"lines\",\"showlegend\":false,\"type\":\"scatter\",\"x\":[\"2018-09-27T21:36:00\",\"2018-09-28T00:00:00\",\"2018-09-28T02:24:00\",\"2018-09-27T21:36:00\"],\"y\":[2987.7581250000003,3054.9862500000004,2987.7581250000003,2987.7581250000003]},{\"fill\":\"toself\",\"line\":{\"color\":\"green\"},\"mode\":\"lines\",\"showlegend\":false,\"type\":\"scatter\",\"x\":[\"2018-09-30T21:36:00\",\"2018-10-01T00:00:00\",\"2018-10-01T02:24:00\",\"2018-09-30T21:36:00\"],\"y\":[2850.6818749999998,2783.4537499999997,2850.6818749999998,2850.6818749999998]},{\"fill\":\"toself\",\"line\":{\"color\":\"green\"},\"mode\":\"lines\",\"showlegend\":false,\"type\":\"scatter\",\"x\":[\"2018-10-01T21:36:00\",\"2018-10-02T00:00:00\",\"2018-10-02T02:24:00\",\"2018-10-01T21:36:00\"],\"y\":[2852.141875,2784.9137499999997,2852.141875,2852.141875]},{\"fill\":\"toself\",\"line\":{\"color\":\"green\"},\"mode\":\"lines\",\"showlegend\":false,\"type\":\"scatter\",\"x\":[\"2018-10-02T21:36:00\",\"2018-10-03T00:00:00\",\"2018-10-03T02:24:00\",\"2018-10-02T21:36:00\"],\"y\":[2854.131875,2786.90375,2854.131875,2854.131875]},{\"fill\":\"toself\",\"line\":{\"color\":\"green\"},\"mode\":\"lines\",\"showlegend\":false,\"type\":\"scatter\",\"x\":[\"2018-10-03T21:36:00\",\"2018-10-04T00:00:00\",\"2018-10-04T02:24:00\",\"2018-10-03T21:36:00\"],\"y\":[2816.691875,2749.46375,2816.691875,2816.691875]},{\"fill\":\"toself\",\"line\":{\"color\":\"red\"},\"mode\":\"lines\",\"showlegend\":false,\"type\":\"scatter\",\"x\":[\"2018-10-04T21:36:00\",\"2018-10-05T00:00:00\",\"2018-10-05T02:24:00\",\"2018-10-04T21:36:00\"],\"y\":[2976.868125,3044.09625,2976.868125,2976.868125]},{\"fill\":\"toself\",\"line\":{\"color\":\"green\"},\"mode\":\"lines\",\"showlegend\":false,\"type\":\"scatter\",\"x\":[\"2018-10-07T21:36:00\",\"2018-10-08T00:00:00\",\"2018-10-08T02:24:00\",\"2018-10-07T21:36:00\"],\"y\":[2956.678125,3023.90625,2956.678125,2956.678125]},{\"fill\":\"toself\",\"line\":{\"color\":\"green\"},\"mode\":\"lines\",\"showlegend\":false,\"type\":\"scatter\",\"x\":[\"2018-10-08T21:36:00\",\"2018-10-09T00:00:00\",\"2018-10-09T02:24:00\",\"2018-10-08T21:36:00\"],\"y\":[2807.041875,2739.81375,2807.041875,2807.041875]},{\"fill\":\"toself\",\"line\":{\"color\":\"green\"},\"mode\":\"lines\",\"showlegend\":false,\"type\":\"scatter\",\"x\":[\"2018-10-09T21:36:00\",\"2018-10-10T00:00:00\",\"2018-10-10T02:24:00\",\"2018-10-09T21:36:00\"],\"y\":[2717.631875,2650.40375,2717.631875,2717.631875]},{\"fill\":\"toself\",\"line\":{\"color\":\"red\"},\"mode\":\"lines\",\"showlegend\":false,\"type\":\"scatter\",\"x\":[\"2018-10-10T21:36:00\",\"2018-10-11T00:00:00\",\"2018-10-11T02:24:00\",\"2018-10-10T21:36:00\"],\"y\":[2862.368125,2929.59625,2862.368125,2862.368125]},{\"fill\":\"toself\",\"line\":{\"color\":\"green\"},\"mode\":\"lines\",\"showlegend\":false,\"type\":\"scatter\",\"x\":[\"2018-10-11T21:36:00\",\"2018-10-12T00:00:00\",\"2018-10-12T02:24:00\",\"2018-10-11T21:36:00\"],\"y\":[2662.211875,2594.98375,2662.211875,2662.211875]},{\"fill\":\"toself\",\"line\":{\"color\":\"green\"},\"mode\":\"lines\",\"showlegend\":false,\"type\":\"scatter\",\"x\":[\"2018-10-14T21:36:00\",\"2018-10-15T00:00:00\",\"2018-10-15T02:24:00\",\"2018-10-14T21:36:00\"],\"y\":[2681.801875,2614.57375,2681.801875,2681.801875]},{\"fill\":\"toself\",\"line\":{\"color\":\"green\"},\"mode\":\"lines\",\"showlegend\":false,\"type\":\"scatter\",\"x\":[\"2018-10-15T21:36:00\",\"2018-10-16T00:00:00\",\"2018-10-16T02:24:00\",\"2018-10-15T21:36:00\"],\"y\":[2880.688125,2947.91625,2880.688125,2880.688125]},{\"fill\":\"toself\",\"line\":{\"color\":\"green\"},\"mode\":\"lines\",\"showlegend\":false,\"type\":\"scatter\",\"x\":[\"2018-10-16T21:36:00\",\"2018-10-17T00:00:00\",\"2018-10-17T02:24:00\",\"2018-10-16T21:36:00\"],\"y\":[2714.581875,2647.3537499999998,2714.581875,2714.581875]},{\"fill\":\"toself\",\"line\":{\"color\":\"red\"},\"mode\":\"lines\",\"showlegend\":false,\"type\":\"scatter\",\"x\":[\"2018-10-17T21:36:00\",\"2018-10-18T00:00:00\",\"2018-10-18T02:24:00\",\"2018-10-17T21:36:00\"],\"y\":[2873.268125,2940.49625,2873.268125,2873.268125]},{\"fill\":\"toself\",\"line\":{\"color\":\"red\"},\"mode\":\"lines\",\"showlegend\":false,\"type\":\"scatter\",\"x\":[\"2018-10-18T21:36:00\",\"2018-10-19T00:00:00\",\"2018-10-19T02:24:00\",\"2018-10-18T21:36:00\"],\"y\":[2864.998125,2932.22625,2864.998125,2864.998125]},{\"fill\":\"toself\",\"line\":{\"color\":\"green\"},\"mode\":\"lines\",\"showlegend\":false,\"type\":\"scatter\",\"x\":[\"2018-10-21T21:36:00\",\"2018-10-22T00:00:00\",\"2018-10-22T02:24:00\",\"2018-10-21T21:36:00\"],\"y\":[2681.9918749999997,2614.7637499999996,2681.9918749999997,2681.9918749999997]},{\"fill\":\"toself\",\"line\":{\"color\":\"red\"},\"mode\":\"lines\",\"showlegend\":false,\"type\":\"scatter\",\"x\":[\"2018-10-22T21:36:00\",\"2018-10-23T00:00:00\",\"2018-10-23T02:24:00\",\"2018-10-22T21:36:00\"],\"y\":[2624.2018749999997,2556.9737499999997,2624.2018749999997,2624.2018749999997]},{\"fill\":\"toself\",\"line\":{\"color\":\"red\"},\"mode\":\"lines\",\"showlegend\":false,\"type\":\"scatter\",\"x\":[\"2018-10-23T21:36:00\",\"2018-10-24T00:00:00\",\"2018-10-24T02:24:00\",\"2018-10-23T21:36:00\"],\"y\":[2809.8181250000002,2877.0462500000003,2809.8181250000002,2809.8181250000002]},{\"fill\":\"toself\",\"line\":{\"color\":\"red\"},\"mode\":\"lines\",\"showlegend\":false,\"type\":\"scatter\",\"x\":[\"2018-10-24T21:36:00\",\"2018-10-25T00:00:00\",\"2018-10-25T02:24:00\",\"2018-10-24T21:36:00\"],\"y\":[2600.611875,2533.38375,2600.611875,2600.611875]},{\"fill\":\"toself\",\"line\":{\"color\":\"green\"},\"mode\":\"lines\",\"showlegend\":false,\"type\":\"scatter\",\"x\":[\"2018-10-25T21:36:00\",\"2018-10-26T00:00:00\",\"2018-10-26T02:24:00\",\"2018-10-25T21:36:00\"],\"y\":[2560.9318749999998,2493.7037499999997,2560.9318749999998,2560.9318749999998]},{\"fill\":\"toself\",\"line\":{\"color\":\"red\"},\"mode\":\"lines\",\"showlegend\":false,\"type\":\"scatter\",\"x\":[\"2018-10-28T21:36:00\",\"2018-10-29T00:00:00\",\"2018-10-29T02:24:00\",\"2018-10-28T21:36:00\"],\"y\":[2774.078125,2841.30625,2774.078125,2774.078125]},{\"fill\":\"toself\",\"line\":{\"color\":\"green\"},\"mode\":\"lines\",\"showlegend\":false,\"type\":\"scatter\",\"x\":[\"2018-10-29T21:36:00\",\"2018-10-30T00:00:00\",\"2018-10-30T02:24:00\",\"2018-10-29T21:36:00\"],\"y\":[2752.658125,2819.88625,2752.658125,2752.658125]},{\"fill\":\"toself\",\"line\":{\"color\":\"green\"},\"mode\":\"lines\",\"showlegend\":false,\"type\":\"scatter\",\"x\":[\"2018-10-30T21:36:00\",\"2018-10-31T00:00:00\",\"2018-10-31T02:24:00\",\"2018-10-30T21:36:00\"],\"y\":[2803.918125,2871.1462500000002,2803.918125,2803.918125]},{\"fill\":\"toself\",\"line\":{\"color\":\"red\"},\"mode\":\"lines\",\"showlegend\":false,\"type\":\"scatter\",\"x\":[\"2018-10-31T21:36:00\",\"2018-11-01T00:00:00\",\"2018-11-01T02:24:00\",\"2018-10-31T21:36:00\"],\"y\":[2641.621875,2574.3937499999997,2641.621875,2641.621875]},{\"fill\":\"toself\",\"line\":{\"color\":\"red\"},\"mode\":\"lines\",\"showlegend\":false,\"type\":\"scatter\",\"x\":[\"2018-11-01T21:36:00\",\"2018-11-02T00:00:00\",\"2018-11-02T02:24:00\",\"2018-11-01T21:36:00\"],\"y\":[2823.7781250000003,2891.0062500000004,2823.7781250000003,2823.7781250000003]},{\"fill\":\"toself\",\"line\":{\"color\":\"green\"},\"mode\":\"lines\",\"showlegend\":false,\"type\":\"scatter\",\"x\":[\"2018-11-04T21:36:00\",\"2018-11-05T00:00:00\",\"2018-11-05T02:24:00\",\"2018-11-04T21:36:00\"],\"y\":[2811.498125,2878.72625,2811.498125,2811.498125]},{\"fill\":\"toself\",\"line\":{\"color\":\"red\"},\"mode\":\"lines\",\"showlegend\":false,\"type\":\"scatter\",\"x\":[\"2018-11-05T21:36:00\",\"2018-11-06T00:00:00\",\"2018-11-06T02:24:00\",\"2018-11-05T21:36:00\"],\"y\":[2669.851875,2602.6237499999997,2669.851875,2669.851875]},{\"fill\":\"toself\",\"line\":{\"color\":\"red\"},\"mode\":\"lines\",\"showlegend\":false,\"type\":\"scatter\",\"x\":[\"2018-11-06T21:36:00\",\"2018-11-07T00:00:00\",\"2018-11-07T02:24:00\",\"2018-11-06T21:36:00\"],\"y\":[2706.901875,2639.67375,2706.901875,2706.901875]},{\"fill\":\"toself\",\"line\":{\"color\":\"green\"},\"mode\":\"lines\",\"showlegend\":false,\"type\":\"scatter\",\"x\":[\"2018-11-07T21:36:00\",\"2018-11-08T00:00:00\",\"2018-11-08T02:24:00\",\"2018-11-07T21:36:00\"],\"y\":[2881.978125,2949.20625,2881.978125,2881.978125]},{\"fill\":\"toself\",\"line\":{\"color\":\"green\"},\"mode\":\"lines\",\"showlegend\":false,\"type\":\"scatter\",\"x\":[\"2018-11-08T21:36:00\",\"2018-11-09T00:00:00\",\"2018-11-09T02:24:00\",\"2018-11-08T21:36:00\"],\"y\":[2697.0118749999997,2629.7837499999996,2697.0118749999997,2697.0118749999997]},{\"fill\":\"toself\",\"line\":{\"color\":\"red\"},\"mode\":\"lines\",\"showlegend\":false,\"type\":\"scatter\",\"x\":[\"2018-11-11T21:36:00\",\"2018-11-12T00:00:00\",\"2018-11-12T02:24:00\",\"2018-11-11T21:36:00\"],\"y\":[2843.218125,2910.44625,2843.218125,2843.218125]},{\"fill\":\"toself\",\"line\":{\"color\":\"green\"},\"mode\":\"lines\",\"showlegend\":false,\"type\":\"scatter\",\"x\":[\"2018-11-12T21:36:00\",\"2018-11-13T00:00:00\",\"2018-11-13T02:24:00\",\"2018-11-12T21:36:00\"],\"y\":[2647.751875,2580.52375,2647.751875,2647.751875]},{\"fill\":\"toself\",\"line\":{\"color\":\"red\"},\"mode\":\"lines\",\"showlegend\":false,\"type\":\"scatter\",\"x\":[\"2018-11-13T21:36:00\",\"2018-11-14T00:00:00\",\"2018-11-14T02:24:00\",\"2018-11-13T21:36:00\"],\"y\":[2814.0281250000003,2881.2562500000004,2814.0281250000003,2814.0281250000003]},{\"fill\":\"toself\",\"line\":{\"color\":\"green\"},\"mode\":\"lines\",\"showlegend\":false,\"type\":\"scatter\",\"x\":[\"2018-11-14T21:36:00\",\"2018-11-15T00:00:00\",\"2018-11-15T02:24:00\",\"2018-11-14T21:36:00\"],\"y\":[2802.608125,2869.8362500000003,2802.608125,2802.608125]},{\"fill\":\"toself\",\"line\":{\"color\":\"green\"},\"mode\":\"lines\",\"showlegend\":false,\"type\":\"scatter\",\"x\":[\"2018-11-15T21:36:00\",\"2018-11-16T00:00:00\",\"2018-11-16T02:24:00\",\"2018-11-15T21:36:00\"],\"y\":[2813.978125,2881.20625,2813.978125,2813.978125]},{\"fill\":\"toself\",\"line\":{\"color\":\"green\"},\"mode\":\"lines\",\"showlegend\":false,\"type\":\"scatter\",\"x\":[\"2018-11-18T21:36:00\",\"2018-11-19T00:00:00\",\"2018-11-19T02:24:00\",\"2018-11-18T21:36:00\"],\"y\":[2613.861875,2546.63375,2613.861875,2613.861875]},{\"fill\":\"toself\",\"line\":{\"color\":\"green\"},\"mode\":\"lines\",\"showlegend\":false,\"type\":\"scatter\",\"x\":[\"2018-11-19T21:36:00\",\"2018-11-20T00:00:00\",\"2018-11-20T02:24:00\",\"2018-11-19T21:36:00\"],\"y\":[2564.291875,2497.06375,2564.291875,2564.291875]},{\"fill\":\"toself\",\"line\":{\"color\":\"green\"},\"mode\":\"lines\",\"showlegend\":false,\"type\":\"scatter\",\"x\":[\"2018-11-20T21:36:00\",\"2018-11-21T00:00:00\",\"2018-11-21T02:24:00\",\"2018-11-20T21:36:00\"],\"y\":[2582.591875,2515.36375,2582.591875,2582.591875]},{\"fill\":\"toself\",\"line\":{\"color\":\"green\"},\"mode\":\"lines\",\"showlegend\":false,\"type\":\"scatter\",\"x\":[\"2018-11-22T21:36:00\",\"2018-11-23T00:00:00\",\"2018-11-23T02:24:00\",\"2018-11-22T21:36:00\"],\"y\":[2563.861875,2496.63375,2563.861875,2563.861875]},{\"fill\":\"toself\",\"line\":{\"color\":\"red\"},\"mode\":\"lines\",\"showlegend\":false,\"type\":\"scatter\",\"x\":[\"2018-11-25T21:36:00\",\"2018-11-26T00:00:00\",\"2018-11-26T02:24:00\",\"2018-11-25T21:36:00\"],\"y\":[2582.7418749999997,2515.5137499999996,2582.7418749999997,2582.7418749999997]},{\"fill\":\"toself\",\"line\":{\"color\":\"green\"},\"mode\":\"lines\",\"showlegend\":false,\"type\":\"scatter\",\"x\":[\"2018-11-26T21:36:00\",\"2018-11-27T00:00:00\",\"2018-11-27T02:24:00\",\"2018-11-26T21:36:00\"],\"y\":[2749.7581250000003,2816.9862500000004,2749.7581250000003,2749.7581250000003]},{\"fill\":\"toself\",\"line\":{\"color\":\"green\"},\"mode\":\"lines\",\"showlegend\":false,\"type\":\"scatter\",\"x\":[\"2018-11-27T21:36:00\",\"2018-11-28T00:00:00\",\"2018-11-28T02:24:00\",\"2018-11-27T21:36:00\"],\"y\":[2811.228125,2878.45625,2811.228125,2811.228125]},{\"fill\":\"toself\",\"line\":{\"color\":\"red\"},\"mode\":\"lines\",\"showlegend\":false,\"type\":\"scatter\",\"x\":[\"2018-11-28T21:36:00\",\"2018-11-29T00:00:00\",\"2018-11-29T02:24:00\",\"2018-11-28T21:36:00\"],\"y\":[2655.711875,2588.48375,2655.711875,2655.711875]},{\"fill\":\"toself\",\"line\":{\"color\":\"red\"},\"mode\":\"lines\",\"showlegend\":false,\"type\":\"scatter\",\"x\":[\"2018-11-29T21:36:00\",\"2018-11-30T00:00:00\",\"2018-11-30T02:24:00\",\"2018-11-29T21:36:00\"],\"y\":[2665.531875,2598.30375,2665.531875,2665.531875]},{\"fill\":\"toself\",\"line\":{\"color\":\"green\"},\"mode\":\"lines\",\"showlegend\":false,\"type\":\"scatter\",\"x\":[\"2018-12-02T21:36:00\",\"2018-12-03T00:00:00\",\"2018-12-03T02:24:00\",\"2018-12-02T21:36:00\"],\"y\":[2706.151875,2638.92375,2706.151875,2706.151875]},{\"fill\":\"toself\",\"line\":{\"color\":\"red\"},\"mode\":\"lines\",\"showlegend\":false,\"type\":\"scatter\",\"x\":[\"2018-12-03T21:36:00\",\"2018-12-04T00:00:00\",\"2018-12-04T02:24:00\",\"2018-12-03T21:36:00\"],\"y\":[2853.158125,2920.38625,2853.158125,2853.158125]},{\"fill\":\"toself\",\"line\":{\"color\":\"red\"},\"mode\":\"lines\",\"showlegend\":false,\"type\":\"scatter\",\"x\":[\"2018-12-05T21:36:00\",\"2018-12-06T00:00:00\",\"2018-12-06T02:24:00\",\"2018-12-05T21:36:00\"],\"y\":[2554.301875,2487.07375,2554.301875,2554.301875]},{\"fill\":\"toself\",\"line\":{\"color\":\"red\"},\"mode\":\"lines\",\"showlegend\":false,\"type\":\"scatter\",\"x\":[\"2018-12-06T21:36:00\",\"2018-12-07T00:00:00\",\"2018-12-07T02:24:00\",\"2018-12-06T21:36:00\"],\"y\":[2775.768125,2842.99625,2775.768125,2775.768125]},{\"fill\":\"toself\",\"line\":{\"color\":\"red\"},\"mode\":\"lines\",\"showlegend\":false,\"type\":\"scatter\",\"x\":[\"2018-12-09T21:36:00\",\"2018-12-10T00:00:00\",\"2018-12-10T02:24:00\",\"2018-12-09T21:36:00\"],\"y\":[2516.001875,2448.77375,2516.001875,2516.001875]},{\"fill\":\"toself\",\"line\":{\"color\":\"red\"},\"mode\":\"lines\",\"showlegend\":false,\"type\":\"scatter\",\"x\":[\"2018-12-10T21:36:00\",\"2018-12-11T00:00:00\",\"2018-12-11T02:24:00\",\"2018-12-10T21:36:00\"],\"y\":[2741.578125,2808.80625,2741.578125,2741.578125]},{\"fill\":\"toself\",\"line\":{\"color\":\"red\"},\"mode\":\"lines\",\"showlegend\":false,\"type\":\"scatter\",\"x\":[\"2018-12-11T21:36:00\",\"2018-12-12T00:00:00\",\"2018-12-12T02:24:00\",\"2018-12-11T21:36:00\"],\"y\":[2752.668125,2819.8962500000002,2752.668125,2752.668125]},{\"fill\":\"toself\",\"line\":{\"color\":\"green\"},\"mode\":\"lines\",\"showlegend\":false,\"type\":\"scatter\",\"x\":[\"2018-12-12T21:36:00\",\"2018-12-13T00:00:00\",\"2018-12-13T02:24:00\",\"2018-12-12T21:36:00\"],\"y\":[2570.041875,2502.81375,2570.041875,2570.041875]},{\"fill\":\"toself\",\"line\":{\"color\":\"green\"},\"mode\":\"lines\",\"showlegend\":false,\"type\":\"scatter\",\"x\":[\"2018-12-13T21:36:00\",\"2018-12-14T00:00:00\",\"2018-12-14T02:24:00\",\"2018-12-13T21:36:00\"],\"y\":[2526.611875,2459.38375,2526.611875,2526.611875]},{\"fill\":\"toself\",\"line\":{\"color\":\"green\"},\"mode\":\"lines\",\"showlegend\":false,\"type\":\"scatter\",\"x\":[\"2018-12-16T21:36:00\",\"2018-12-17T00:00:00\",\"2018-12-17T02:24:00\",\"2018-12-16T21:36:00\"],\"y\":[2463.311875,2396.08375,2463.311875,2463.311875]},{\"fill\":\"toself\",\"line\":{\"color\":\"red\"},\"mode\":\"lines\",\"showlegend\":false,\"type\":\"scatter\",\"x\":[\"2018-12-17T21:36:00\",\"2018-12-18T00:00:00\",\"2018-12-18T02:24:00\",\"2018-12-17T21:36:00\"],\"y\":[2641.218125,2708.44625,2641.218125,2641.218125]},{\"fill\":\"toself\",\"line\":{\"color\":\"red\"},\"mode\":\"lines\",\"showlegend\":false,\"type\":\"scatter\",\"x\":[\"2018-12-18T21:36:00\",\"2018-12-19T00:00:00\",\"2018-12-19T02:24:00\",\"2018-12-18T21:36:00\"],\"y\":[2652.518125,2719.74625,2652.518125,2652.518125]},{\"fill\":\"toself\",\"line\":{\"color\":\"green\"},\"mode\":\"lines\",\"showlegend\":false,\"type\":\"scatter\",\"x\":[\"2018-12-19T21:36:00\",\"2018-12-20T00:00:00\",\"2018-12-20T02:24:00\",\"2018-12-19T21:36:00\"],\"y\":[2373.9518749999997,2306.7237499999997,2373.9518749999997,2373.9518749999997]},{\"fill\":\"toself\",\"line\":{\"color\":\"green\"},\"mode\":\"lines\",\"showlegend\":false,\"type\":\"scatter\",\"x\":[\"2018-12-20T21:36:00\",\"2018-12-21T00:00:00\",\"2018-12-21T02:24:00\",\"2018-12-20T21:36:00\"],\"y\":[2341.321875,2274.09375,2341.321875,2341.321875]},{\"fill\":\"toself\",\"line\":{\"color\":\"green\"},\"mode\":\"lines\",\"showlegend\":false,\"type\":\"scatter\",\"x\":[\"2018-12-23T21:36:00\",\"2018-12-24T00:00:00\",\"2018-12-24T02:24:00\",\"2018-12-23T21:36:00\"],\"y\":[2283.871875,2216.6437499999997,2283.871875,2283.871875]},{\"fill\":\"toself\",\"line\":{\"color\":\"green\"},\"mode\":\"lines\",\"showlegend\":false,\"type\":\"scatter\",\"x\":[\"2018-12-25T21:36:00\",\"2018-12-26T00:00:00\",\"2018-12-26T02:24:00\",\"2018-12-25T21:36:00\"],\"y\":[2534.9881250000003,2602.2162500000004,2534.9881250000003,2534.9881250000003]},{\"fill\":\"toself\",\"line\":{\"color\":\"red\"},\"mode\":\"lines\",\"showlegend\":false,\"type\":\"scatter\",\"x\":[\"2018-12-26T21:36:00\",\"2018-12-27T00:00:00\",\"2018-12-27T02:24:00\",\"2018-12-26T21:36:00\"],\"y\":[2330.711875,2263.48375,2330.711875,2330.711875]},{\"fill\":\"toself\",\"line\":{\"color\":\"red\"},\"mode\":\"lines\",\"showlegend\":false,\"type\":\"scatter\",\"x\":[\"2018-12-27T21:36:00\",\"2018-12-28T00:00:00\",\"2018-12-28T02:24:00\",\"2018-12-27T21:36:00\"],\"y\":[2587.498125,2654.72625,2587.498125,2587.498125]},{\"fill\":\"toself\",\"line\":{\"color\":\"red\"},\"mode\":\"lines\",\"showlegend\":false,\"type\":\"scatter\",\"x\":[\"2018-12-30T21:36:00\",\"2018-12-31T00:00:00\",\"2018-12-31T02:24:00\",\"2018-12-30T21:36:00\"],\"y\":[2415.591875,2348.36375,2415.591875,2415.591875]}],                        {\"height\":800,\"template\":{\"data\":{\"bar\":[{\"error_x\":{\"color\":\"#2a3f5f\"},\"error_y\":{\"color\":\"#2a3f5f\"},\"marker\":{\"line\":{\"color\":\"#E5ECF6\",\"width\":0.5},\"pattern\":{\"fillmode\":\"overlay\",\"size\":10,\"solidity\":0.2}},\"type\":\"bar\"}],\"barpolar\":[{\"marker\":{\"line\":{\"color\":\"#E5ECF6\",\"width\":0.5},\"pattern\":{\"fillmode\":\"overlay\",\"size\":10,\"solidity\":0.2}},\"type\":\"barpolar\"}],\"carpet\":[{\"aaxis\":{\"endlinecolor\":\"#2a3f5f\",\"gridcolor\":\"white\",\"linecolor\":\"white\",\"minorgridcolor\":\"white\",\"startlinecolor\":\"#2a3f5f\"},\"baxis\":{\"endlinecolor\":\"#2a3f5f\",\"gridcolor\":\"white\",\"linecolor\":\"white\",\"minorgridcolor\":\"white\",\"startlinecolor\":\"#2a3f5f\"},\"type\":\"carpet\"}],\"choropleth\":[{\"colorbar\":{\"outlinewidth\":0,\"ticks\":\"\"},\"type\":\"choropleth\"}],\"contour\":[{\"colorbar\":{\"outlinewidth\":0,\"ticks\":\"\"},\"colorscale\":[[0.0,\"#0d0887\"],[0.1111111111111111,\"#46039f\"],[0.2222222222222222,\"#7201a8\"],[0.3333333333333333,\"#9c179e\"],[0.4444444444444444,\"#bd3786\"],[0.5555555555555556,\"#d8576b\"],[0.6666666666666666,\"#ed7953\"],[0.7777777777777778,\"#fb9f3a\"],[0.8888888888888888,\"#fdca26\"],[1.0,\"#f0f921\"]],\"type\":\"contour\"}],\"contourcarpet\":[{\"colorbar\":{\"outlinewidth\":0,\"ticks\":\"\"},\"type\":\"contourcarpet\"}],\"heatmap\":[{\"colorbar\":{\"outlinewidth\":0,\"ticks\":\"\"},\"colorscale\":[[0.0,\"#0d0887\"],[0.1111111111111111,\"#46039f\"],[0.2222222222222222,\"#7201a8\"],[0.3333333333333333,\"#9c179e\"],[0.4444444444444444,\"#bd3786\"],[0.5555555555555556,\"#d8576b\"],[0.6666666666666666,\"#ed7953\"],[0.7777777777777778,\"#fb9f3a\"],[0.8888888888888888,\"#fdca26\"],[1.0,\"#f0f921\"]],\"type\":\"heatmap\"}],\"heatmapgl\":[{\"colorbar\":{\"outlinewidth\":0,\"ticks\":\"\"},\"colorscale\":[[0.0,\"#0d0887\"],[0.1111111111111111,\"#46039f\"],[0.2222222222222222,\"#7201a8\"],[0.3333333333333333,\"#9c179e\"],[0.4444444444444444,\"#bd3786\"],[0.5555555555555556,\"#d8576b\"],[0.6666666666666666,\"#ed7953\"],[0.7777777777777778,\"#fb9f3a\"],[0.8888888888888888,\"#fdca26\"],[1.0,\"#f0f921\"]],\"type\":\"heatmapgl\"}],\"histogram\":[{\"marker\":{\"pattern\":{\"fillmode\":\"overlay\",\"size\":10,\"solidity\":0.2}},\"type\":\"histogram\"}],\"histogram2d\":[{\"colorbar\":{\"outlinewidth\":0,\"ticks\":\"\"},\"colorscale\":[[0.0,\"#0d0887\"],[0.1111111111111111,\"#46039f\"],[0.2222222222222222,\"#7201a8\"],[0.3333333333333333,\"#9c179e\"],[0.4444444444444444,\"#bd3786\"],[0.5555555555555556,\"#d8576b\"],[0.6666666666666666,\"#ed7953\"],[0.7777777777777778,\"#fb9f3a\"],[0.8888888888888888,\"#fdca26\"],[1.0,\"#f0f921\"]],\"type\":\"histogram2d\"}],\"histogram2dcontour\":[{\"colorbar\":{\"outlinewidth\":0,\"ticks\":\"\"},\"colorscale\":[[0.0,\"#0d0887\"],[0.1111111111111111,\"#46039f\"],[0.2222222222222222,\"#7201a8\"],[0.3333333333333333,\"#9c179e\"],[0.4444444444444444,\"#bd3786\"],[0.5555555555555556,\"#d8576b\"],[0.6666666666666666,\"#ed7953\"],[0.7777777777777778,\"#fb9f3a\"],[0.8888888888888888,\"#fdca26\"],[1.0,\"#f0f921\"]],\"type\":\"histogram2dcontour\"}],\"mesh3d\":[{\"colorbar\":{\"outlinewidth\":0,\"ticks\":\"\"},\"type\":\"mesh3d\"}],\"parcoords\":[{\"line\":{\"colorbar\":{\"outlinewidth\":0,\"ticks\":\"\"}},\"type\":\"parcoords\"}],\"pie\":[{\"automargin\":true,\"type\":\"pie\"}],\"scatter\":[{\"marker\":{\"colorbar\":{\"outlinewidth\":0,\"ticks\":\"\"}},\"type\":\"scatter\"}],\"scatter3d\":[{\"line\":{\"colorbar\":{\"outlinewidth\":0,\"ticks\":\"\"}},\"marker\":{\"colorbar\":{\"outlinewidth\":0,\"ticks\":\"\"}},\"type\":\"scatter3d\"}],\"scattercarpet\":[{\"marker\":{\"colorbar\":{\"outlinewidth\":0,\"ticks\":\"\"}},\"type\":\"scattercarpet\"}],\"scattergeo\":[{\"marker\":{\"colorbar\":{\"outlinewidth\":0,\"ticks\":\"\"}},\"type\":\"scattergeo\"}],\"scattergl\":[{\"marker\":{\"colorbar\":{\"outlinewidth\":0,\"ticks\":\"\"}},\"type\":\"scattergl\"}],\"scattermapbox\":[{\"marker\":{\"colorbar\":{\"outlinewidth\":0,\"ticks\":\"\"}},\"type\":\"scattermapbox\"}],\"scatterpolar\":[{\"marker\":{\"colorbar\":{\"outlinewidth\":0,\"ticks\":\"\"}},\"type\":\"scatterpolar\"}],\"scatterpolargl\":[{\"marker\":{\"colorbar\":{\"outlinewidth\":0,\"ticks\":\"\"}},\"type\":\"scatterpolargl\"}],\"scatterternary\":[{\"marker\":{\"colorbar\":{\"outlinewidth\":0,\"ticks\":\"\"}},\"type\":\"scatterternary\"}],\"surface\":[{\"colorbar\":{\"outlinewidth\":0,\"ticks\":\"\"},\"colorscale\":[[0.0,\"#0d0887\"],[0.1111111111111111,\"#46039f\"],[0.2222222222222222,\"#7201a8\"],[0.3333333333333333,\"#9c179e\"],[0.4444444444444444,\"#bd3786\"],[0.5555555555555556,\"#d8576b\"],[0.6666666666666666,\"#ed7953\"],[0.7777777777777778,\"#fb9f3a\"],[0.8888888888888888,\"#fdca26\"],[1.0,\"#f0f921\"]],\"type\":\"surface\"}],\"table\":[{\"cells\":{\"fill\":{\"color\":\"#EBF0F8\"},\"line\":{\"color\":\"white\"}},\"header\":{\"fill\":{\"color\":\"#C8D4E3\"},\"line\":{\"color\":\"white\"}},\"type\":\"table\"}]},\"layout\":{\"annotationdefaults\":{\"arrowcolor\":\"#2a3f5f\",\"arrowhead\":0,\"arrowwidth\":1},\"autotypenumbers\":\"strict\",\"coloraxis\":{\"colorbar\":{\"outlinewidth\":0,\"ticks\":\"\"}},\"colorscale\":{\"diverging\":[[0,\"#8e0152\"],[0.1,\"#c51b7d\"],[0.2,\"#de77ae\"],[0.3,\"#f1b6da\"],[0.4,\"#fde0ef\"],[0.5,\"#f7f7f7\"],[0.6,\"#e6f5d0\"],[0.7,\"#b8e186\"],[0.8,\"#7fbc41\"],[0.9,\"#4d9221\"],[1,\"#276419\"]],\"sequential\":[[0.0,\"#0d0887\"],[0.1111111111111111,\"#46039f\"],[0.2222222222222222,\"#7201a8\"],[0.3333333333333333,\"#9c179e\"],[0.4444444444444444,\"#bd3786\"],[0.5555555555555556,\"#d8576b\"],[0.6666666666666666,\"#ed7953\"],[0.7777777777777778,\"#fb9f3a\"],[0.8888888888888888,\"#fdca26\"],[1.0,\"#f0f921\"]],\"sequentialminus\":[[0.0,\"#0d0887\"],[0.1111111111111111,\"#46039f\"],[0.2222222222222222,\"#7201a8\"],[0.3333333333333333,\"#9c179e\"],[0.4444444444444444,\"#bd3786\"],[0.5555555555555556,\"#d8576b\"],[0.6666666666666666,\"#ed7953\"],[0.7777777777777778,\"#fb9f3a\"],[0.8888888888888888,\"#fdca26\"],[1.0,\"#f0f921\"]]},\"colorway\":[\"#636efa\",\"#EF553B\",\"#00cc96\",\"#ab63fa\",\"#FFA15A\",\"#19d3f3\",\"#FF6692\",\"#B6E880\",\"#FF97FF\",\"#FECB52\"],\"font\":{\"color\":\"#2a3f5f\"},\"geo\":{\"bgcolor\":\"white\",\"lakecolor\":\"white\",\"landcolor\":\"#E5ECF6\",\"showlakes\":true,\"showland\":true,\"subunitcolor\":\"white\"},\"hoverlabel\":{\"align\":\"left\"},\"hovermode\":\"closest\",\"mapbox\":{\"style\":\"light\"},\"paper_bgcolor\":\"white\",\"plot_bgcolor\":\"#E5ECF6\",\"polar\":{\"angularaxis\":{\"gridcolor\":\"white\",\"linecolor\":\"white\",\"ticks\":\"\"},\"bgcolor\":\"#E5ECF6\",\"radialaxis\":{\"gridcolor\":\"white\",\"linecolor\":\"white\",\"ticks\":\"\"}},\"scene\":{\"xaxis\":{\"backgroundcolor\":\"#E5ECF6\",\"gridcolor\":\"white\",\"gridwidth\":2,\"linecolor\":\"white\",\"showbackground\":true,\"ticks\":\"\",\"zerolinecolor\":\"white\"},\"yaxis\":{\"backgroundcolor\":\"#E5ECF6\",\"gridcolor\":\"white\",\"gridwidth\":2,\"linecolor\":\"white\",\"showbackground\":true,\"ticks\":\"\",\"zerolinecolor\":\"white\"},\"zaxis\":{\"backgroundcolor\":\"#E5ECF6\",\"gridcolor\":\"white\",\"gridwidth\":2,\"linecolor\":\"white\",\"showbackground\":true,\"ticks\":\"\",\"zerolinecolor\":\"white\"}},\"shapedefaults\":{\"line\":{\"color\":\"#2a3f5f\"}},\"ternary\":{\"aaxis\":{\"gridcolor\":\"white\",\"linecolor\":\"white\",\"ticks\":\"\"},\"baxis\":{\"gridcolor\":\"white\",\"linecolor\":\"white\",\"ticks\":\"\"},\"bgcolor\":\"#E5ECF6\",\"caxis\":{\"gridcolor\":\"white\",\"linecolor\":\"white\",\"ticks\":\"\"}},\"title\":{\"x\":0.05},\"xaxis\":{\"automargin\":true,\"gridcolor\":\"white\",\"linecolor\":\"white\",\"ticks\":\"\",\"title\":{\"standoff\":15},\"zerolinecolor\":\"white\",\"zerolinewidth\":2},\"yaxis\":{\"automargin\":true,\"gridcolor\":\"white\",\"linecolor\":\"white\",\"ticks\":\"\",\"title\":{\"standoff\":15},\"zerolinecolor\":\"white\",\"zerolinewidth\":2}}},\"title\":{\"text\":\"Visualization of Validation Predictions\"},\"width\":1500,\"xaxis\":{\"title\":{\"text\":\"Date\"}},\"yaxis\":{\"title\":{\"text\":\"Price\"}}},                        {\"responsive\": true}                    ).then(function(){\n",
       "                            \n",
       "var gd = document.getElementById('e32cca79-398d-4698-939b-3afe1f58db0a');\n",
       "var x = new MutationObserver(function (mutations, observer) {{\n",
       "        var display = window.getComputedStyle(gd).display;\n",
       "        if (!display || display === 'none') {{\n",
       "            console.log([gd, 'removed!']);\n",
       "            Plotly.purge(gd);\n",
       "            observer.disconnect();\n",
       "        }}\n",
       "}});\n",
       "\n",
       "// Listen for the removal of the full notebook cells\n",
       "var notebookContainer = gd.closest('#notebook-container');\n",
       "if (notebookContainer) {{\n",
       "    x.observe(notebookContainer, {childList: true});\n",
       "}}\n",
       "\n",
       "// Listen for the clearing of the current output cell\n",
       "var outputEl = gd.closest('.output');\n",
       "if (outputEl) {{\n",
       "    x.observe(outputEl, {childList: true});\n",
       "}}\n",
       "\n",
       "                        })                };                });            </script>        </div>"
      ]
     },
     "metadata": {},
     "output_type": "display_data"
    }
   ],
   "source": [
    "def retrieve_candles(filename, val_year, test_year):\n",
    "    df = pd.read_csv(filename)\n",
    "    df[\"Date\"] = pd.to_datetime(df[\"Date\"])\n",
    "    df.columns = [\"Date\", \"Close\", \"Open\", \"High\", \"Low\", \"Vol.\", \"Change%\"]\n",
    "    df = df.sort_values('Date', ascending=True)\n",
    "    \n",
    "    candles_val = df[df['Date'].dt.year == val_year]\n",
    "    candles_train = df[df['Date'].dt.year < val_year]\n",
    "    candles_train = candles_train[candles_train['Date'] > datetime(2009,7,10)]\n",
    "    \n",
    "    candles_train = candles_train.replace(',','', regex=True)\n",
    "    candles_val = candles_val.replace(',','', regex=True)\n",
    "\n",
    "    return candles_train, candles_val\n",
    "\n",
    "def plot_predictions_candles(x, y, df, dataset):\n",
    "    # PREDICTIONS LIJKEN NOG NIET GOED UITGELIJND MET CANDLES???\n",
    "    originals = []\n",
    "    predictions = []\n",
    "    y_pred = model.predict(x)\n",
    "    for i in range(len(y_pred)):\n",
    "        originals.append(y[i][0])\n",
    "        predictions.append(round(float(y_pred[i][0])))\n",
    "\n",
    "    fig = go.Figure()\n",
    "    fig.add_trace(go.Candlestick(x=df['Date'], open=df['Open'], high=df['High'], low=df['Low'], close=df['Close'], name=\"Price\"))\n",
    "    standard_factor = 0.5 * mean([float(df.iloc[0].tolist()[3]), float(df.iloc[0].tolist()[4])])\n",
    "    \n",
    "    green_legend = False\n",
    "    orange_legend = False\n",
    "    red_legend = False\n",
    "    \n",
    "    for i, row in enumerate(df.iterrows()):\n",
    "        pred_date = row[1][0].to_pydatetime()\n",
    "        pred_high = float(row[1][3])\n",
    "        pred_low = float(row[1][4])\n",
    "#         real_label = row[1][7]\n",
    "#         pred_label = row[1][8]\n",
    "        real_label = originals[i]\n",
    "        pred_label = predictions[i]\n",
    "        \n",
    "        start_shape = pred_date - timedelta(days=0.1)\n",
    "        end_shape = pred_date + timedelta(days=0.1)\n",
    "    \n",
    "        \n",
    "        if pred_label == 1:\n",
    "            extreme = pred_high + 0.1 * standard_factor\n",
    "            standard = pred_high + 0.05 * standard_factor\n",
    "#         elif pred_label == 2:\n",
    "#             extreme = pred_high + 0.2 * standard_factor\n",
    "#             standard = pred_high + 0.05 * standard_factor\n",
    "        elif pred_label == 0:\n",
    "            extreme = pred_low - 0.1 * standard_factor\n",
    "            standard = pred_low -  0.05 * standard_factor\n",
    "#         elif pred_label == -2:\n",
    "#             extreme = pred_low - 0.2 * standard_factor\n",
    "#             standard = pred_low - 0.05 * standard_factor\n",
    "            \n",
    "        if real_label == pred_label:\n",
    "            color = \"green\"\n",
    "#         elif np.sign(real_label) == np.sign(pred_label):\n",
    "#             color = \"orange\"\n",
    "        else:\n",
    "            color = \"red\"\n",
    "        \n",
    "        if real_label == pred_label and not green_legend:\n",
    "            green_legend = True\n",
    "            fig.add_trace(go.Scatter(x=[start_shape,pred_date,end_shape,start_shape], \n",
    "                                 y=[standard,extreme,standard,standard], \n",
    "                                 fill=\"toself\", name=\"Correct Direction\", mode=\"lines\", line=dict(color=color)))\n",
    "        \n",
    "#         elif np.sign(real_label) == np.sign(pred_label) and not orange_legend:\n",
    "#             orange_legend = True\n",
    "#             fig.add_trace(go.Scatter(x=[start_shape,pred_date,end_shape,start_shape], \n",
    "#                                  y=[standard,extreme,standard,standard], \n",
    "#                                  fill=\"toself\", name=\"Correct Direction / Inorrect Magnitude\", mode=\"lines\", line=dict(color=color)))\n",
    "        elif real_label != pred_label and not red_legend:\n",
    "            red_legend = True\n",
    "            fig.add_trace(go.Scatter(x=[start_shape,pred_date,end_shape,start_shape], \n",
    "                                 y=[standard,extreme,standard,standard], \n",
    "                                 fill=\"toself\", name=\"Incorrect Direction\", mode=\"lines\", line=dict(color=color)))\n",
    "        else:\n",
    "            fig.add_trace(go.Scatter(x=[start_shape,pred_date,end_shape,start_shape], \n",
    "                                 y=[standard,extreme,standard,standard], \n",
    "                                 fill=\"toself\", showlegend=False, mode=\"lines\", line=dict(color=color)))\n",
    "    \n",
    "    title = f\"Visualization of {dataset} Predictions\"\n",
    "    fig.update_xaxes(title_text=\"Date\")\n",
    "    fig.update_yaxes(title_text=\"Price\")\n",
    "    layout = dict(title=title, height=800, width=1500)\n",
    "    fig.update_layout(layout)\n",
    "#     config = dict({'scrollZoom': True})\n",
    "#     fig.show(config=config)\n",
    "    fig.show()\n",
    "\n",
    "filename = \"Dataset v3/Indices/S&P 500 Historical Data.csv\"\n",
    "candles_train, candles_val = retrieve_candles(filename, val_year, test_year) \n",
    "# plot_predictions_candles(x_train, y_train, candles_train, \"Training\")\n",
    "plot_predictions_candles(x_val, y_val, candles_val, \"Validation\")"
   ]
  },
  {
   "cell_type": "code",
   "execution_count": null,
   "metadata": {},
   "outputs": [],
   "source": []
  }
 ],
 "metadata": {
  "kernelspec": {
   "display_name": "Python 3 (ipykernel)",
   "language": "python",
   "name": "python3"
  },
  "language_info": {
   "codemirror_mode": {
    "name": "ipython",
    "version": 3
   },
   "file_extension": ".py",
   "mimetype": "text/x-python",
   "name": "python",
   "nbconvert_exporter": "python",
   "pygments_lexer": "ipython3",
   "version": "3.7.4"
  }
 },
 "nbformat": 4,
 "nbformat_minor": 2
}
