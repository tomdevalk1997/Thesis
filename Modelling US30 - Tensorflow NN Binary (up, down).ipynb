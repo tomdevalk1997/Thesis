{
 "cells": [
  {
   "cell_type": "code",
   "execution_count": 1,
   "metadata": {},
   "outputs": [],
   "source": [
    "import warnings\n",
    "warnings.simplefilter(action='ignore', category=UserWarning)\n",
    "\n",
    "import pandas as pd\n",
    "import numpy as np\n",
    "from datetime import datetime, timedelta\n",
    "import plotly.graph_objs as go\n",
    "import plotly.express as px\n",
    "from plotly.subplots import make_subplots\n",
    "import gzip\n",
    "from datetime import datetime, timedelta\n",
    "from statistics import mean, median\n",
    "from sklearn.neural_network import MLPClassifier\n",
    "from sklearn.ensemble import RandomForestClassifier\n",
    "import seaborn as sns\n",
    "import matplotlib.pyplot as plt\n",
    "\n",
    "import tensorflow\n",
    "import tensorflow.keras as tf\n",
    "from tensorflow.keras.models import Model, Sequential\n",
    "from tensorflow.keras.layers import Input, Dense, LSTM, Conv1D, Conv2D, Dropout\n",
    "from tensorflow.keras.activations import sigmoid, tanh\n",
    "from tensorflow.keras.utils import to_categorical\n",
    "\n",
    "from sklearn.preprocessing import MinMaxScaler\n",
    "\n",
    "from tqdm import tqdm\n",
    "import csv\n",
    "import random\n",
    "\n",
    "from sklearn.metrics import accuracy_score as accuracy\n",
    "from sklearn.metrics import precision_score as precision\n",
    "from sklearn.metrics import recall_score as recall\n",
    "from sklearn.metrics import f1_score as f1"
   ]
  },
  {
   "cell_type": "code",
   "execution_count": 2,
   "metadata": {},
   "outputs": [],
   "source": [
    "def retrieve_data(varname, filename):\n",
    "    df = pd.read_csv(filename, index_col=0)\n",
    "#     df = pd.read_csv(filename)\n",
    "    df[\"Date\"] = pd.to_datetime(df[\"Date\"])\n",
    "    return df\n",
    "\n",
    "def create_classification_data(df, lookback):\n",
    "    rows = []\n",
    "    columns = ['Date', 'US30_relative_change_perc_1'] # Date and SP500_relative_change_perc_1 from t-0 are added first as target variables \n",
    "    \n",
    "    # create column names based on original with the addition of t-i where i is lookback\n",
    "    for i in range(1, lookback + 1): # starts at 1 since we do not want t-0 variables apart from 'Date' and 'SP500_relative_change_perc_1'\n",
    "        new_columns = df.columns.tolist()[1:] # starts at 1 to exclude 'Date' column\n",
    "        for x in range(len(new_columns)):\n",
    "            new_columns[x] = new_columns[x] + \"_t-\" + str(i)\n",
    "        columns = columns + new_columns\n",
    "    \n",
    "    # create lookback data\n",
    "    for i, row in enumerate(df.iterrows()):\n",
    "        if i > lookback: # lookback cannot be determined for earlier rows\n",
    "            new_row = [row[1][0], row[1][1]] # add target 'Date' and 'SP500_relative_change_perc_1 '\n",
    "            for x in range(1, lookback + 1): # starts at 1 since we do not want t-0 variables apart from 'Date' and 'SP500_relative_change_perc_1'\n",
    "                add_row = df.iloc[i - x].tolist()[1:] # starts at 1 to exclude 'Date' column\n",
    "                new_row = new_row + add_row\n",
    "            rows.append(new_row)\n",
    "    df2 = pd.DataFrame(rows)\n",
    "    df2.columns = columns\n",
    "    return df2\n",
    "\n",
    "def create_train_val_test(df, year_val, year_test, perc_train=None):\n",
    "    if perc_train == None:\n",
    "        # assumes years_train < year_val < year_test\n",
    "        df[\"Date\"] = pd.to_datetime(df[\"Date\"])\n",
    "        \n",
    "        val = df[df['Date'].dt.year == year_val]\n",
    "        test = df[df['Date'].dt.year == year_test]\n",
    "        train = df[df['Date'].dt.year < year_val]\n",
    "    else:\n",
    "        train = df.head(round(len(df) * perc_train))\n",
    "        val = df.tail(len(df) - len(train))\n",
    "        test = val.tail(round(0.5 * len(val)))\n",
    "        val = df.head(len(val) - len(test))\n",
    "    y_train = train['US30_relative_change_perc_1']\n",
    "    x_train = train.drop(['US30_relative_change_perc_1'], axis=1)\n",
    "    \n",
    "    y_val = val['US30_relative_change_perc_1']\n",
    "    x_val = val.drop(['US30_relative_change_perc_1'], axis=1)\n",
    "    \n",
    "    y_test = test['US30_relative_change_perc_1']\n",
    "    x_test = test.drop(['US30_relative_change_perc_1'], axis=1)\n",
    "    \n",
    "    return x_train, y_train, x_val, y_val, x_test, y_test\n",
    "\n",
    "def scale_data(x):\n",
    "    standard_scaler = MinMaxScaler()\n",
    "    x = x.drop([\"Date\"], axis=1)\n",
    "    x_scaled = pd.DataFrame(standard_scaler.fit_transform(x), columns=x.columns)\n",
    "    return x_scaled"
   ]
  },
  {
   "cell_type": "code",
   "execution_count": 3,
   "metadata": {
    "scrolled": false
   },
   "outputs": [],
   "source": [
    "lookback = 10\n",
    "val_year = 2018\n",
    "test_year = 2019\n",
    "\n",
    "files = {\n",
    "    # varname: filename\n",
    "    \"US30\": \"Dataset v3/US30_reduced_data_20220425.csv\",\n",
    "#     \"S&P500\": \"Dataset v3/SP500_combined_data_20220422.csv\"\n",
    "}\n",
    "\n",
    "for file in files:\n",
    "    df = retrieve_data(file, files[file])\n",
    "\n",
    "df = create_classification_data(df, lookback)\n",
    "\n",
    "x_train, y_train, x_val, y_val, x_test, y_test = create_train_val_test(df, val_year, test_year)"
   ]
  },
  {
   "cell_type": "code",
   "execution_count": 4,
   "metadata": {},
   "outputs": [
    {
     "data": {
      "text/plain": [
       "0       0.003679\n",
       "1       0.011674\n",
       "2       0.007661\n",
       "3      -0.003493\n",
       "4       0.021051\n",
       "5       0.002992\n",
       "6       0.001696\n",
       "7      -0.001120\n",
       "8      -0.002378\n",
       "9       0.008996\n",
       "10      0.001857\n",
       "11      0.012308\n",
       "12      0.003785\n",
       "13     -0.003692\n",
       "14     -0.002256\n",
       "15      0.012056\n",
       "16     -0.003251\n",
       "17     -0.009950\n",
       "18      0.013593\n",
       "19      0.003835\n",
       "20     -0.008155\n",
       "21     -0.019166\n",
       "22      0.009150\n",
       "23      0.007654\n",
       "24      0.007706\n",
       "25      0.016913\n",
       "26      0.000326\n",
       "27      0.003163\n",
       "28      0.000515\n",
       "29      0.004087\n",
       "          ...   \n",
       "2100    0.003981\n",
       "2101   -0.003223\n",
       "2102    0.002551\n",
       "2103    0.003859\n",
       "2104   -0.003011\n",
       "2105    0.000222\n",
       "2106    0.001185\n",
       "2107    0.008953\n",
       "2108    0.002404\n",
       "2109    0.010767\n",
       "2110   -0.003037\n",
       "2111   -0.005489\n",
       "2112   -0.006344\n",
       "2113   -0.000701\n",
       "2114    0.003934\n",
       "2115    0.002716\n",
       "2116    0.001969\n",
       "2117    0.002120\n",
       "2118    0.002456\n",
       "2119   -0.004967\n",
       "2120    0.002686\n",
       "2121    0.002128\n",
       "2122   -0.003206\n",
       "2123   -0.004487\n",
       "2124    0.000163\n",
       "2125   -0.000403\n",
       "2126    0.001229\n",
       "2127    0.000314\n",
       "2128    0.001221\n",
       "2129   -0.005248\n",
       "Name: US30_relative_change_perc_1, Length: 2130, dtype: float64"
      ]
     },
     "execution_count": 4,
     "metadata": {},
     "output_type": "execute_result"
    }
   ],
   "source": [
    "y_train"
   ]
  },
  {
   "cell_type": "code",
   "execution_count": 5,
   "metadata": {},
   "outputs": [],
   "source": [
    "def label_data(y):\n",
    "    positives = []\n",
    "    negatives = []\n",
    "    y = list(y)\n",
    "#     for dev in y:\n",
    "#         if dev >= 0:\n",
    "#             positives.append(dev)\n",
    "#         else:\n",
    "#             negatives.append(dev)\n",
    "#     med_pos = median(positives)\n",
    "#     med_neg = median(negatives)\n",
    "    \n",
    "    labels = []\n",
    "    for dev in y:\n",
    "        if dev >= 0:\n",
    "            labels.append(1)\n",
    "#             if dev >= med_pos:\n",
    "#                 labels.append(2)\n",
    "#             else:\n",
    "#                 labels.append(1)\n",
    "        else:\n",
    "            labels.append(0)\n",
    "#             if dev <= med_neg:\n",
    "#                 labels.append(-2)\n",
    "#             else:\n",
    "#                 labels.append(-1)\n",
    "    return labels\n",
    "# \n",
    "y_train = label_data(y_train)\n",
    "y_val = label_data(y_val)\n",
    "y_test = label_data(y_test)"
   ]
  },
  {
   "cell_type": "code",
   "execution_count": 6,
   "metadata": {},
   "outputs": [
    {
     "name": "stdout",
     "output_type": "stream",
     "text": [
      "Random baseline training set\n",
      "\tDistribution: [966, 1164]\n",
      "\tRandom baseline accuracy (majority class): 0.5464788732394367\n",
      "Random baseline validation set\n",
      "\tDistribution: [116, 135]\n",
      "\tRandom baseline accuracy (majority class): 0.5378486055776892\n",
      "Random baseline test set\n",
      "\tDistribution: [116, 135]\n",
      "\tRandom baseline accuracy (majority class): 0.5378486055776892\n"
     ]
    }
   ],
   "source": [
    "def random_baseline(y):\n",
    "    counts = [0, 0]\n",
    "    for i in y:\n",
    "        if i == 0:\n",
    "            counts[0] = counts[0] + 1\n",
    "        elif i == 1:\n",
    "            counts[1] = counts[1] + 1\n",
    "    print(f\"\\tDistribution: {counts}\")\n",
    "    print(f\"\\tRandom baseline accuracy (majority class): {counts[np.argmax(np.asarray(counts))]/ len(y)}\")\n",
    "    \n",
    "print(\"Random baseline training set\")\n",
    "random_baseline(y_train)\n",
    "print(\"Random baseline validation set\")\n",
    "random_baseline(y_val)\n",
    "print(\"Random baseline test set\")\n",
    "random_baseline(y_val)"
   ]
  },
  {
   "cell_type": "code",
   "execution_count": 7,
   "metadata": {},
   "outputs": [],
   "source": [
    "train_date = x_train[['Date']]\n",
    "x_train = x_train.drop(['Date'], axis=1)\n",
    "\n",
    "val_date = x_val[['Date']]\n",
    "x_val = x_val.drop(['Date'], axis=1)\n",
    "\n",
    "test_date = x_test[['Date']]\n",
    "x_test = x_test.drop(['Date'], axis=1)"
   ]
  },
  {
   "cell_type": "code",
   "execution_count": 8,
   "metadata": {},
   "outputs": [
    {
     "name": "stdout",
     "output_type": "stream",
     "text": [
      "(2130, 180) (2130,)\n"
     ]
    }
   ],
   "source": [
    "x_train = np.asarray(x_train)\n",
    "x_val = np.asarray(x_val)\n",
    "x_test = np.asarray(x_test)\n",
    "\n",
    "y_train = np.asarray(y_train)\n",
    "y_val = np.asarray(y_val)\n",
    "y_test = np.asarray(y_test)\n",
    "\n",
    "print(x_train.shape, y_train.shape)"
   ]
  },
  {
   "cell_type": "code",
   "execution_count": 9,
   "metadata": {},
   "outputs": [],
   "source": [
    "x_train = x_train.reshape((x_train.shape[0], 1, x_train.shape[1]))\n",
    "x_val = x_val.reshape((x_val.shape[0], 1, x_val.shape[1]))\n",
    "x_test = x_test.reshape((x_test.shape[0], 1, x_test.shape[1]))\n",
    "\n",
    "# y_train = to_categorical(y_train, 1)\n",
    "# y_val = to_categorical(y_val, 1)\n",
    "# y_test = to_categorical(y_test, 1)\n",
    "\n",
    "y_train = y_train.reshape((y_train.shape[0], 1))\n",
    "y_val = y_val.reshape((y_val.shape[0], 1))\n",
    "y_test = y_test.reshape((y_test.shape[0], 1))"
   ]
  },
  {
   "cell_type": "code",
   "execution_count": 10,
   "metadata": {},
   "outputs": [
    {
     "name": "stdout",
     "output_type": "stream",
     "text": [
      "(2130, 1, 180) (2130, 1)\n",
      "(251, 1, 180) (251, 1)\n",
      "(252, 1, 180) (252, 1)\n"
     ]
    }
   ],
   "source": [
    "print(x_train.shape, y_train.shape)\n",
    "print(x_val.shape, y_val.shape)\n",
    "print(x_test.shape, y_test.shape)\n"
   ]
  },
  {
   "cell_type": "code",
   "execution_count": 22,
   "metadata": {
    "scrolled": true
   },
   "outputs": [
    {
     "name": "stdout",
     "output_type": "stream",
     "text": [
      "Epoch 1/21\n",
      "34/34 [==============================] - 1s 6ms/step - loss: 0.7506 - acc: 0.5576 - val_loss: 0.7083 - val_acc: 0.5299\n",
      "Epoch 2/21\n",
      "34/34 [==============================] - 0s 2ms/step - loss: 0.7077 - acc: 0.5426 - val_loss: 0.7071 - val_acc: 0.5179\n",
      "Epoch 3/21\n",
      "34/34 [==============================] - 0s 2ms/step - loss: 0.6980 - acc: 0.5638 - val_loss: 0.6962 - val_acc: 0.5378\n",
      "Epoch 4/21\n",
      "34/34 [==============================] - 0s 2ms/step - loss: 0.6882 - acc: 0.5461 - val_loss: 0.6995 - val_acc: 0.5299\n",
      "Epoch 5/21\n",
      "34/34 [==============================] - 0s 2ms/step - loss: 0.6954 - acc: 0.5420 - val_loss: 0.6968 - val_acc: 0.5498\n",
      "Epoch 6/21\n",
      "34/34 [==============================] - 0s 2ms/step - loss: 0.6919 - acc: 0.5537 - val_loss: 0.6996 - val_acc: 0.5339\n",
      "Epoch 7/21\n",
      "34/34 [==============================] - 0s 2ms/step - loss: 0.6833 - acc: 0.5658 - val_loss: 0.6907 - val_acc: 0.5418\n",
      "Epoch 8/21\n",
      "34/34 [==============================] - 0s 2ms/step - loss: 0.6925 - acc: 0.5512 - val_loss: 0.6981 - val_acc: 0.5498\n",
      "Epoch 9/21\n",
      "34/34 [==============================] - 0s 2ms/step - loss: 0.6806 - acc: 0.5715 - val_loss: 0.6984 - val_acc: 0.5259\n",
      "Epoch 10/21\n",
      "34/34 [==============================] - 0s 6ms/step - loss: 0.6818 - acc: 0.5680 - val_loss: 0.6968 - val_acc: 0.5299\n",
      "Epoch 11/21\n",
      "34/34 [==============================] - 0s 2ms/step - loss: 0.6802 - acc: 0.5508 - val_loss: 0.6954 - val_acc: 0.5458\n",
      "Epoch 12/21\n",
      "34/34 [==============================] - 0s 2ms/step - loss: 0.6829 - acc: 0.5551 - val_loss: 0.6972 - val_acc: 0.5458\n",
      "Epoch 13/21\n",
      "34/34 [==============================] - 0s 2ms/step - loss: 0.6741 - acc: 0.5842 - val_loss: 0.6931 - val_acc: 0.5339\n",
      "Epoch 14/21\n",
      "34/34 [==============================] - 0s 2ms/step - loss: 0.6696 - acc: 0.5819 - val_loss: 0.6965 - val_acc: 0.5458\n",
      "Epoch 15/21\n",
      "34/34 [==============================] - 0s 2ms/step - loss: 0.6727 - acc: 0.5863 - val_loss: 0.6906 - val_acc: 0.5618\n",
      "Epoch 16/21\n",
      "34/34 [==============================] - 0s 2ms/step - loss: 0.6679 - acc: 0.5843 - val_loss: 0.6982 - val_acc: 0.5538\n",
      "Epoch 17/21\n",
      "34/34 [==============================] - 0s 2ms/step - loss: 0.6764 - acc: 0.5858 - val_loss: 0.6914 - val_acc: 0.5538\n",
      "Epoch 18/21\n",
      "34/34 [==============================] - 0s 2ms/step - loss: 0.6668 - acc: 0.5970 - val_loss: 0.6983 - val_acc: 0.5697\n",
      "Epoch 19/21\n",
      "34/34 [==============================] - 0s 2ms/step - loss: 0.6710 - acc: 0.5911 - val_loss: 0.6929 - val_acc: 0.5538\n",
      "Epoch 20/21\n",
      "34/34 [==============================] - 0s 2ms/step - loss: 0.6663 - acc: 0.5765 - val_loss: 0.6831 - val_acc: 0.5857\n",
      "Epoch 21/21\n",
      "34/34 [==============================] - 0s 2ms/step - loss: 0.6715 - acc: 0.5800 - val_loss: 0.6935 - val_acc: 0.5817\n"
     ]
    }
   ],
   "source": [
    "# RESULT OPT 3 LAYERS\n",
    "# tensorflow.random.set_seed(111)\n",
    "# np.random.seed(111)\n",
    "# random.seed(111)\n",
    "# # lookback = 4\n",
    "# epochs = 288\n",
    "# batch_size = 256\n",
    "# epochs = 257\n",
    "# model = Sequential()\n",
    "# model.add(Dense(49, activation='sigmoid'))\n",
    "# model.add(Dropout(0.17))\n",
    "# model.add(Dense(19, activation='sigmoid'))\n",
    "# model.add(Dropout(0.06))\n",
    "# model.add(Dense(81, activation='sigmoid'))\n",
    "# model.add(Dense(1, activation='sigmoid'))\n",
    "\n",
    "# # RESULT OPT 2 LAYERS\n",
    "# tensorflow.random.set_seed(111)\n",
    "# np.random.seed(111)\n",
    "# random.seed(111)\n",
    "# # lookback = 3\n",
    "# epochs = 326\n",
    "# epochs = 500\n",
    "# epochs = 600\n",
    "# batch_size = 128\n",
    "# model = Sequential()\n",
    "# model.add(Dense(24, activation='sigmoid'))\n",
    "# model.add(Dropout(0.51))\n",
    "# model.add(Dense(49, activation='sigmoid'))\n",
    "# model.add(Dense(1, activation='sigmoid'))\n",
    "\n",
    "# # RESULT OPT 1 LAYER\n",
    "tensorflow.random.set_seed(111)\n",
    "np.random.seed(111)\n",
    "random.seed(111)\n",
    "# lookback = 10\n",
    "epochs = 359\n",
    "epochs = 21\n",
    "batch_size = 64\n",
    "model = Sequential()\n",
    "model.add(Dense(76, activation='sigmoid'))\n",
    "model.add(Dropout(0.17))\n",
    "model.add(Dense(1, activation='sigmoid'))\n",
    "\n",
    "model.compile(optimizer='adam', loss='binary_crossentropy', metrics=[\"acc\"])\n",
    "history = model.fit(x_train, y_train, epochs=epochs, batch_size=batch_size, verbose=1, validation_data=(x_val, y_val), shuffle=False)"
   ]
  },
  {
   "cell_type": "code",
   "execution_count": 27,
   "metadata": {},
   "outputs": [
    {
     "name": "stderr",
     "output_type": "stream",
     "text": [
      "2022-05-06 10:59:36.021867: W tensorflow/python/util/util.cc:348] Sets are not currently considered sequences, but this may change in the future, so consider avoiding using them.\n"
     ]
    },
    {
     "name": "stdout",
     "output_type": "stream",
     "text": [
      "INFO:tensorflow:Assets written to: Models/US30_NN_up-down_model/assets\n"
     ]
    }
   ],
   "source": [
    "model_file = \"Models/US30_NN_up-down_model\"\n",
    "model.save(model_file)"
   ]
  },
  {
   "cell_type": "code",
   "execution_count": 24,
   "metadata": {},
   "outputs": [
    {
     "data": {
      "application/vnd.plotly.v1+json": {
       "config": {
        "plotlyServerURL": "https://plot.ly"
       },
       "data": [
        {
         "mode": "lines",
         "name": "Train Loss",
         "type": "scatter",
         "x": [
          0,
          1,
          2,
          3,
          4,
          5,
          6,
          7,
          8,
          9,
          10,
          11,
          12,
          13,
          14,
          15,
          16,
          17,
          18,
          19,
          20
         ],
         "xaxis": "x",
         "y": [
          0.7613137364387512,
          0.7184062600135803,
          0.7031727433204651,
          0.6999289393424988,
          0.7015628218650818,
          0.6950994729995728,
          0.6832644939422607,
          0.6931962966918945,
          0.6814510822296143,
          0.6832068562507629,
          0.6814175248146057,
          0.6821300983428955,
          0.680312991142273,
          0.6731703877449036,
          0.678082287311554,
          0.6697542071342468,
          0.6771664619445801,
          0.6674503087997437,
          0.6720335483551025,
          0.6632052063941956,
          0.6701610684394836
         ],
         "yaxis": "y"
        },
        {
         "mode": "lines",
         "name": "Validation Loss",
         "type": "scatter",
         "x": [
          0,
          1,
          2,
          3,
          4,
          5,
          6,
          7,
          8,
          9,
          10,
          11,
          12,
          13,
          14,
          15,
          16,
          17,
          18,
          19,
          20
         ],
         "xaxis": "x",
         "y": [
          0.708258330821991,
          0.7071438431739807,
          0.6962059140205383,
          0.6995204091072083,
          0.6968442797660828,
          0.6996483206748962,
          0.6907265782356262,
          0.6980552077293396,
          0.6983545422554016,
          0.6968006491661072,
          0.695397138595581,
          0.6971930861473083,
          0.693120002746582,
          0.6965070366859436,
          0.6906311511993408,
          0.6981699466705322,
          0.6914275884628296,
          0.6983076333999634,
          0.6928809285163879,
          0.683113157749176,
          0.6934877038002014
         ],
         "yaxis": "y"
        }
       ],
       "layout": {
        "template": {
         "data": {
          "bar": [
           {
            "error_x": {
             "color": "#2a3f5f"
            },
            "error_y": {
             "color": "#2a3f5f"
            },
            "marker": {
             "line": {
              "color": "#E5ECF6",
              "width": 0.5
             },
             "pattern": {
              "fillmode": "overlay",
              "size": 10,
              "solidity": 0.2
             }
            },
            "type": "bar"
           }
          ],
          "barpolar": [
           {
            "marker": {
             "line": {
              "color": "#E5ECF6",
              "width": 0.5
             },
             "pattern": {
              "fillmode": "overlay",
              "size": 10,
              "solidity": 0.2
             }
            },
            "type": "barpolar"
           }
          ],
          "carpet": [
           {
            "aaxis": {
             "endlinecolor": "#2a3f5f",
             "gridcolor": "white",
             "linecolor": "white",
             "minorgridcolor": "white",
             "startlinecolor": "#2a3f5f"
            },
            "baxis": {
             "endlinecolor": "#2a3f5f",
             "gridcolor": "white",
             "linecolor": "white",
             "minorgridcolor": "white",
             "startlinecolor": "#2a3f5f"
            },
            "type": "carpet"
           }
          ],
          "choropleth": [
           {
            "colorbar": {
             "outlinewidth": 0,
             "ticks": ""
            },
            "type": "choropleth"
           }
          ],
          "contour": [
           {
            "colorbar": {
             "outlinewidth": 0,
             "ticks": ""
            },
            "colorscale": [
             [
              0,
              "#0d0887"
             ],
             [
              0.1111111111111111,
              "#46039f"
             ],
             [
              0.2222222222222222,
              "#7201a8"
             ],
             [
              0.3333333333333333,
              "#9c179e"
             ],
             [
              0.4444444444444444,
              "#bd3786"
             ],
             [
              0.5555555555555556,
              "#d8576b"
             ],
             [
              0.6666666666666666,
              "#ed7953"
             ],
             [
              0.7777777777777778,
              "#fb9f3a"
             ],
             [
              0.8888888888888888,
              "#fdca26"
             ],
             [
              1,
              "#f0f921"
             ]
            ],
            "type": "contour"
           }
          ],
          "contourcarpet": [
           {
            "colorbar": {
             "outlinewidth": 0,
             "ticks": ""
            },
            "type": "contourcarpet"
           }
          ],
          "heatmap": [
           {
            "colorbar": {
             "outlinewidth": 0,
             "ticks": ""
            },
            "colorscale": [
             [
              0,
              "#0d0887"
             ],
             [
              0.1111111111111111,
              "#46039f"
             ],
             [
              0.2222222222222222,
              "#7201a8"
             ],
             [
              0.3333333333333333,
              "#9c179e"
             ],
             [
              0.4444444444444444,
              "#bd3786"
             ],
             [
              0.5555555555555556,
              "#d8576b"
             ],
             [
              0.6666666666666666,
              "#ed7953"
             ],
             [
              0.7777777777777778,
              "#fb9f3a"
             ],
             [
              0.8888888888888888,
              "#fdca26"
             ],
             [
              1,
              "#f0f921"
             ]
            ],
            "type": "heatmap"
           }
          ],
          "heatmapgl": [
           {
            "colorbar": {
             "outlinewidth": 0,
             "ticks": ""
            },
            "colorscale": [
             [
              0,
              "#0d0887"
             ],
             [
              0.1111111111111111,
              "#46039f"
             ],
             [
              0.2222222222222222,
              "#7201a8"
             ],
             [
              0.3333333333333333,
              "#9c179e"
             ],
             [
              0.4444444444444444,
              "#bd3786"
             ],
             [
              0.5555555555555556,
              "#d8576b"
             ],
             [
              0.6666666666666666,
              "#ed7953"
             ],
             [
              0.7777777777777778,
              "#fb9f3a"
             ],
             [
              0.8888888888888888,
              "#fdca26"
             ],
             [
              1,
              "#f0f921"
             ]
            ],
            "type": "heatmapgl"
           }
          ],
          "histogram": [
           {
            "marker": {
             "pattern": {
              "fillmode": "overlay",
              "size": 10,
              "solidity": 0.2
             }
            },
            "type": "histogram"
           }
          ],
          "histogram2d": [
           {
            "colorbar": {
             "outlinewidth": 0,
             "ticks": ""
            },
            "colorscale": [
             [
              0,
              "#0d0887"
             ],
             [
              0.1111111111111111,
              "#46039f"
             ],
             [
              0.2222222222222222,
              "#7201a8"
             ],
             [
              0.3333333333333333,
              "#9c179e"
             ],
             [
              0.4444444444444444,
              "#bd3786"
             ],
             [
              0.5555555555555556,
              "#d8576b"
             ],
             [
              0.6666666666666666,
              "#ed7953"
             ],
             [
              0.7777777777777778,
              "#fb9f3a"
             ],
             [
              0.8888888888888888,
              "#fdca26"
             ],
             [
              1,
              "#f0f921"
             ]
            ],
            "type": "histogram2d"
           }
          ],
          "histogram2dcontour": [
           {
            "colorbar": {
             "outlinewidth": 0,
             "ticks": ""
            },
            "colorscale": [
             [
              0,
              "#0d0887"
             ],
             [
              0.1111111111111111,
              "#46039f"
             ],
             [
              0.2222222222222222,
              "#7201a8"
             ],
             [
              0.3333333333333333,
              "#9c179e"
             ],
             [
              0.4444444444444444,
              "#bd3786"
             ],
             [
              0.5555555555555556,
              "#d8576b"
             ],
             [
              0.6666666666666666,
              "#ed7953"
             ],
             [
              0.7777777777777778,
              "#fb9f3a"
             ],
             [
              0.8888888888888888,
              "#fdca26"
             ],
             [
              1,
              "#f0f921"
             ]
            ],
            "type": "histogram2dcontour"
           }
          ],
          "mesh3d": [
           {
            "colorbar": {
             "outlinewidth": 0,
             "ticks": ""
            },
            "type": "mesh3d"
           }
          ],
          "parcoords": [
           {
            "line": {
             "colorbar": {
              "outlinewidth": 0,
              "ticks": ""
             }
            },
            "type": "parcoords"
           }
          ],
          "pie": [
           {
            "automargin": true,
            "type": "pie"
           }
          ],
          "scatter": [
           {
            "marker": {
             "colorbar": {
              "outlinewidth": 0,
              "ticks": ""
             }
            },
            "type": "scatter"
           }
          ],
          "scatter3d": [
           {
            "line": {
             "colorbar": {
              "outlinewidth": 0,
              "ticks": ""
             }
            },
            "marker": {
             "colorbar": {
              "outlinewidth": 0,
              "ticks": ""
             }
            },
            "type": "scatter3d"
           }
          ],
          "scattercarpet": [
           {
            "marker": {
             "colorbar": {
              "outlinewidth": 0,
              "ticks": ""
             }
            },
            "type": "scattercarpet"
           }
          ],
          "scattergeo": [
           {
            "marker": {
             "colorbar": {
              "outlinewidth": 0,
              "ticks": ""
             }
            },
            "type": "scattergeo"
           }
          ],
          "scattergl": [
           {
            "marker": {
             "colorbar": {
              "outlinewidth": 0,
              "ticks": ""
             }
            },
            "type": "scattergl"
           }
          ],
          "scattermapbox": [
           {
            "marker": {
             "colorbar": {
              "outlinewidth": 0,
              "ticks": ""
             }
            },
            "type": "scattermapbox"
           }
          ],
          "scatterpolar": [
           {
            "marker": {
             "colorbar": {
              "outlinewidth": 0,
              "ticks": ""
             }
            },
            "type": "scatterpolar"
           }
          ],
          "scatterpolargl": [
           {
            "marker": {
             "colorbar": {
              "outlinewidth": 0,
              "ticks": ""
             }
            },
            "type": "scatterpolargl"
           }
          ],
          "scatterternary": [
           {
            "marker": {
             "colorbar": {
              "outlinewidth": 0,
              "ticks": ""
             }
            },
            "type": "scatterternary"
           }
          ],
          "surface": [
           {
            "colorbar": {
             "outlinewidth": 0,
             "ticks": ""
            },
            "colorscale": [
             [
              0,
              "#0d0887"
             ],
             [
              0.1111111111111111,
              "#46039f"
             ],
             [
              0.2222222222222222,
              "#7201a8"
             ],
             [
              0.3333333333333333,
              "#9c179e"
             ],
             [
              0.4444444444444444,
              "#bd3786"
             ],
             [
              0.5555555555555556,
              "#d8576b"
             ],
             [
              0.6666666666666666,
              "#ed7953"
             ],
             [
              0.7777777777777778,
              "#fb9f3a"
             ],
             [
              0.8888888888888888,
              "#fdca26"
             ],
             [
              1,
              "#f0f921"
             ]
            ],
            "type": "surface"
           }
          ],
          "table": [
           {
            "cells": {
             "fill": {
              "color": "#EBF0F8"
             },
             "line": {
              "color": "white"
             }
            },
            "header": {
             "fill": {
              "color": "#C8D4E3"
             },
             "line": {
              "color": "white"
             }
            },
            "type": "table"
           }
          ]
         },
         "layout": {
          "annotationdefaults": {
           "arrowcolor": "#2a3f5f",
           "arrowhead": 0,
           "arrowwidth": 1
          },
          "autotypenumbers": "strict",
          "coloraxis": {
           "colorbar": {
            "outlinewidth": 0,
            "ticks": ""
           }
          },
          "colorscale": {
           "diverging": [
            [
             0,
             "#8e0152"
            ],
            [
             0.1,
             "#c51b7d"
            ],
            [
             0.2,
             "#de77ae"
            ],
            [
             0.3,
             "#f1b6da"
            ],
            [
             0.4,
             "#fde0ef"
            ],
            [
             0.5,
             "#f7f7f7"
            ],
            [
             0.6,
             "#e6f5d0"
            ],
            [
             0.7,
             "#b8e186"
            ],
            [
             0.8,
             "#7fbc41"
            ],
            [
             0.9,
             "#4d9221"
            ],
            [
             1,
             "#276419"
            ]
           ],
           "sequential": [
            [
             0,
             "#0d0887"
            ],
            [
             0.1111111111111111,
             "#46039f"
            ],
            [
             0.2222222222222222,
             "#7201a8"
            ],
            [
             0.3333333333333333,
             "#9c179e"
            ],
            [
             0.4444444444444444,
             "#bd3786"
            ],
            [
             0.5555555555555556,
             "#d8576b"
            ],
            [
             0.6666666666666666,
             "#ed7953"
            ],
            [
             0.7777777777777778,
             "#fb9f3a"
            ],
            [
             0.8888888888888888,
             "#fdca26"
            ],
            [
             1,
             "#f0f921"
            ]
           ],
           "sequentialminus": [
            [
             0,
             "#0d0887"
            ],
            [
             0.1111111111111111,
             "#46039f"
            ],
            [
             0.2222222222222222,
             "#7201a8"
            ],
            [
             0.3333333333333333,
             "#9c179e"
            ],
            [
             0.4444444444444444,
             "#bd3786"
            ],
            [
             0.5555555555555556,
             "#d8576b"
            ],
            [
             0.6666666666666666,
             "#ed7953"
            ],
            [
             0.7777777777777778,
             "#fb9f3a"
            ],
            [
             0.8888888888888888,
             "#fdca26"
            ],
            [
             1,
             "#f0f921"
            ]
           ]
          },
          "colorway": [
           "#636efa",
           "#EF553B",
           "#00cc96",
           "#ab63fa",
           "#FFA15A",
           "#19d3f3",
           "#FF6692",
           "#B6E880",
           "#FF97FF",
           "#FECB52"
          ],
          "font": {
           "color": "#2a3f5f"
          },
          "geo": {
           "bgcolor": "white",
           "lakecolor": "white",
           "landcolor": "#E5ECF6",
           "showlakes": true,
           "showland": true,
           "subunitcolor": "white"
          },
          "hoverlabel": {
           "align": "left"
          },
          "hovermode": "closest",
          "mapbox": {
           "style": "light"
          },
          "paper_bgcolor": "white",
          "plot_bgcolor": "#E5ECF6",
          "polar": {
           "angularaxis": {
            "gridcolor": "white",
            "linecolor": "white",
            "ticks": ""
           },
           "bgcolor": "#E5ECF6",
           "radialaxis": {
            "gridcolor": "white",
            "linecolor": "white",
            "ticks": ""
           }
          },
          "scene": {
           "xaxis": {
            "backgroundcolor": "#E5ECF6",
            "gridcolor": "white",
            "gridwidth": 2,
            "linecolor": "white",
            "showbackground": true,
            "ticks": "",
            "zerolinecolor": "white"
           },
           "yaxis": {
            "backgroundcolor": "#E5ECF6",
            "gridcolor": "white",
            "gridwidth": 2,
            "linecolor": "white",
            "showbackground": true,
            "ticks": "",
            "zerolinecolor": "white"
           },
           "zaxis": {
            "backgroundcolor": "#E5ECF6",
            "gridcolor": "white",
            "gridwidth": 2,
            "linecolor": "white",
            "showbackground": true,
            "ticks": "",
            "zerolinecolor": "white"
           }
          },
          "shapedefaults": {
           "line": {
            "color": "#2a3f5f"
           }
          },
          "ternary": {
           "aaxis": {
            "gridcolor": "white",
            "linecolor": "white",
            "ticks": ""
           },
           "baxis": {
            "gridcolor": "white",
            "linecolor": "white",
            "ticks": ""
           },
           "bgcolor": "#E5ECF6",
           "caxis": {
            "gridcolor": "white",
            "linecolor": "white",
            "ticks": ""
           }
          },
          "title": {
           "x": 0.05
          },
          "xaxis": {
           "automargin": true,
           "gridcolor": "white",
           "linecolor": "white",
           "ticks": "",
           "title": {
            "standoff": 15
           },
           "zerolinecolor": "white",
           "zerolinewidth": 2
          },
          "yaxis": {
           "automargin": true,
           "gridcolor": "white",
           "linecolor": "white",
           "ticks": "",
           "title": {
            "standoff": 15
           },
           "zerolinecolor": "white",
           "zerolinewidth": 2
          }
         }
        },
        "title": {
         "text": "Training and Validation Loss Convergence per Epoch"
        },
        "xaxis": {
         "anchor": "y",
         "domain": [
          0,
          1
         ],
         "title": {
          "text": "Epoch"
         }
        },
        "yaxis": {
         "anchor": "x",
         "domain": [
          0,
          1
         ],
         "title": {
          "text": "Loss"
         }
        }
       }
      },
      "text/html": [
       "<div>                            <div id=\"71dfd735-e3b5-4bb7-b4a1-1d6b7fd1430b\" class=\"plotly-graph-div\" style=\"height:525px; width:100%;\"></div>            <script type=\"text/javascript\">                require([\"plotly\"], function(Plotly) {                    window.PLOTLYENV=window.PLOTLYENV || {};                                    if (document.getElementById(\"71dfd735-e3b5-4bb7-b4a1-1d6b7fd1430b\")) {                    Plotly.newPlot(                        \"71dfd735-e3b5-4bb7-b4a1-1d6b7fd1430b\",                        [{\"mode\":\"lines\",\"name\":\"Train Loss\",\"type\":\"scatter\",\"x\":[0,1,2,3,4,5,6,7,8,9,10,11,12,13,14,15,16,17,18,19,20],\"xaxis\":\"x\",\"y\":[0.7613137364387512,0.7184062600135803,0.7031727433204651,0.6999289393424988,0.7015628218650818,0.6950994729995728,0.6832644939422607,0.6931962966918945,0.6814510822296143,0.6832068562507629,0.6814175248146057,0.6821300983428955,0.680312991142273,0.6731703877449036,0.678082287311554,0.6697542071342468,0.6771664619445801,0.6674503087997437,0.6720335483551025,0.6632052063941956,0.6701610684394836],\"yaxis\":\"y\"},{\"mode\":\"lines\",\"name\":\"Validation Loss\",\"type\":\"scatter\",\"x\":[0,1,2,3,4,5,6,7,8,9,10,11,12,13,14,15,16,17,18,19,20],\"xaxis\":\"x\",\"y\":[0.708258330821991,0.7071438431739807,0.6962059140205383,0.6995204091072083,0.6968442797660828,0.6996483206748962,0.6907265782356262,0.6980552077293396,0.6983545422554016,0.6968006491661072,0.695397138595581,0.6971930861473083,0.693120002746582,0.6965070366859436,0.6906311511993408,0.6981699466705322,0.6914275884628296,0.6983076333999634,0.6928809285163879,0.683113157749176,0.6934877038002014],\"yaxis\":\"y\"}],                        {\"template\":{\"data\":{\"bar\":[{\"error_x\":{\"color\":\"#2a3f5f\"},\"error_y\":{\"color\":\"#2a3f5f\"},\"marker\":{\"line\":{\"color\":\"#E5ECF6\",\"width\":0.5},\"pattern\":{\"fillmode\":\"overlay\",\"size\":10,\"solidity\":0.2}},\"type\":\"bar\"}],\"barpolar\":[{\"marker\":{\"line\":{\"color\":\"#E5ECF6\",\"width\":0.5},\"pattern\":{\"fillmode\":\"overlay\",\"size\":10,\"solidity\":0.2}},\"type\":\"barpolar\"}],\"carpet\":[{\"aaxis\":{\"endlinecolor\":\"#2a3f5f\",\"gridcolor\":\"white\",\"linecolor\":\"white\",\"minorgridcolor\":\"white\",\"startlinecolor\":\"#2a3f5f\"},\"baxis\":{\"endlinecolor\":\"#2a3f5f\",\"gridcolor\":\"white\",\"linecolor\":\"white\",\"minorgridcolor\":\"white\",\"startlinecolor\":\"#2a3f5f\"},\"type\":\"carpet\"}],\"choropleth\":[{\"colorbar\":{\"outlinewidth\":0,\"ticks\":\"\"},\"type\":\"choropleth\"}],\"contour\":[{\"colorbar\":{\"outlinewidth\":0,\"ticks\":\"\"},\"colorscale\":[[0.0,\"#0d0887\"],[0.1111111111111111,\"#46039f\"],[0.2222222222222222,\"#7201a8\"],[0.3333333333333333,\"#9c179e\"],[0.4444444444444444,\"#bd3786\"],[0.5555555555555556,\"#d8576b\"],[0.6666666666666666,\"#ed7953\"],[0.7777777777777778,\"#fb9f3a\"],[0.8888888888888888,\"#fdca26\"],[1.0,\"#f0f921\"]],\"type\":\"contour\"}],\"contourcarpet\":[{\"colorbar\":{\"outlinewidth\":0,\"ticks\":\"\"},\"type\":\"contourcarpet\"}],\"heatmap\":[{\"colorbar\":{\"outlinewidth\":0,\"ticks\":\"\"},\"colorscale\":[[0.0,\"#0d0887\"],[0.1111111111111111,\"#46039f\"],[0.2222222222222222,\"#7201a8\"],[0.3333333333333333,\"#9c179e\"],[0.4444444444444444,\"#bd3786\"],[0.5555555555555556,\"#d8576b\"],[0.6666666666666666,\"#ed7953\"],[0.7777777777777778,\"#fb9f3a\"],[0.8888888888888888,\"#fdca26\"],[1.0,\"#f0f921\"]],\"type\":\"heatmap\"}],\"heatmapgl\":[{\"colorbar\":{\"outlinewidth\":0,\"ticks\":\"\"},\"colorscale\":[[0.0,\"#0d0887\"],[0.1111111111111111,\"#46039f\"],[0.2222222222222222,\"#7201a8\"],[0.3333333333333333,\"#9c179e\"],[0.4444444444444444,\"#bd3786\"],[0.5555555555555556,\"#d8576b\"],[0.6666666666666666,\"#ed7953\"],[0.7777777777777778,\"#fb9f3a\"],[0.8888888888888888,\"#fdca26\"],[1.0,\"#f0f921\"]],\"type\":\"heatmapgl\"}],\"histogram\":[{\"marker\":{\"pattern\":{\"fillmode\":\"overlay\",\"size\":10,\"solidity\":0.2}},\"type\":\"histogram\"}],\"histogram2d\":[{\"colorbar\":{\"outlinewidth\":0,\"ticks\":\"\"},\"colorscale\":[[0.0,\"#0d0887\"],[0.1111111111111111,\"#46039f\"],[0.2222222222222222,\"#7201a8\"],[0.3333333333333333,\"#9c179e\"],[0.4444444444444444,\"#bd3786\"],[0.5555555555555556,\"#d8576b\"],[0.6666666666666666,\"#ed7953\"],[0.7777777777777778,\"#fb9f3a\"],[0.8888888888888888,\"#fdca26\"],[1.0,\"#f0f921\"]],\"type\":\"histogram2d\"}],\"histogram2dcontour\":[{\"colorbar\":{\"outlinewidth\":0,\"ticks\":\"\"},\"colorscale\":[[0.0,\"#0d0887\"],[0.1111111111111111,\"#46039f\"],[0.2222222222222222,\"#7201a8\"],[0.3333333333333333,\"#9c179e\"],[0.4444444444444444,\"#bd3786\"],[0.5555555555555556,\"#d8576b\"],[0.6666666666666666,\"#ed7953\"],[0.7777777777777778,\"#fb9f3a\"],[0.8888888888888888,\"#fdca26\"],[1.0,\"#f0f921\"]],\"type\":\"histogram2dcontour\"}],\"mesh3d\":[{\"colorbar\":{\"outlinewidth\":0,\"ticks\":\"\"},\"type\":\"mesh3d\"}],\"parcoords\":[{\"line\":{\"colorbar\":{\"outlinewidth\":0,\"ticks\":\"\"}},\"type\":\"parcoords\"}],\"pie\":[{\"automargin\":true,\"type\":\"pie\"}],\"scatter\":[{\"marker\":{\"colorbar\":{\"outlinewidth\":0,\"ticks\":\"\"}},\"type\":\"scatter\"}],\"scatter3d\":[{\"line\":{\"colorbar\":{\"outlinewidth\":0,\"ticks\":\"\"}},\"marker\":{\"colorbar\":{\"outlinewidth\":0,\"ticks\":\"\"}},\"type\":\"scatter3d\"}],\"scattercarpet\":[{\"marker\":{\"colorbar\":{\"outlinewidth\":0,\"ticks\":\"\"}},\"type\":\"scattercarpet\"}],\"scattergeo\":[{\"marker\":{\"colorbar\":{\"outlinewidth\":0,\"ticks\":\"\"}},\"type\":\"scattergeo\"}],\"scattergl\":[{\"marker\":{\"colorbar\":{\"outlinewidth\":0,\"ticks\":\"\"}},\"type\":\"scattergl\"}],\"scattermapbox\":[{\"marker\":{\"colorbar\":{\"outlinewidth\":0,\"ticks\":\"\"}},\"type\":\"scattermapbox\"}],\"scatterpolar\":[{\"marker\":{\"colorbar\":{\"outlinewidth\":0,\"ticks\":\"\"}},\"type\":\"scatterpolar\"}],\"scatterpolargl\":[{\"marker\":{\"colorbar\":{\"outlinewidth\":0,\"ticks\":\"\"}},\"type\":\"scatterpolargl\"}],\"scatterternary\":[{\"marker\":{\"colorbar\":{\"outlinewidth\":0,\"ticks\":\"\"}},\"type\":\"scatterternary\"}],\"surface\":[{\"colorbar\":{\"outlinewidth\":0,\"ticks\":\"\"},\"colorscale\":[[0.0,\"#0d0887\"],[0.1111111111111111,\"#46039f\"],[0.2222222222222222,\"#7201a8\"],[0.3333333333333333,\"#9c179e\"],[0.4444444444444444,\"#bd3786\"],[0.5555555555555556,\"#d8576b\"],[0.6666666666666666,\"#ed7953\"],[0.7777777777777778,\"#fb9f3a\"],[0.8888888888888888,\"#fdca26\"],[1.0,\"#f0f921\"]],\"type\":\"surface\"}],\"table\":[{\"cells\":{\"fill\":{\"color\":\"#EBF0F8\"},\"line\":{\"color\":\"white\"}},\"header\":{\"fill\":{\"color\":\"#C8D4E3\"},\"line\":{\"color\":\"white\"}},\"type\":\"table\"}]},\"layout\":{\"annotationdefaults\":{\"arrowcolor\":\"#2a3f5f\",\"arrowhead\":0,\"arrowwidth\":1},\"autotypenumbers\":\"strict\",\"coloraxis\":{\"colorbar\":{\"outlinewidth\":0,\"ticks\":\"\"}},\"colorscale\":{\"diverging\":[[0,\"#8e0152\"],[0.1,\"#c51b7d\"],[0.2,\"#de77ae\"],[0.3,\"#f1b6da\"],[0.4,\"#fde0ef\"],[0.5,\"#f7f7f7\"],[0.6,\"#e6f5d0\"],[0.7,\"#b8e186\"],[0.8,\"#7fbc41\"],[0.9,\"#4d9221\"],[1,\"#276419\"]],\"sequential\":[[0.0,\"#0d0887\"],[0.1111111111111111,\"#46039f\"],[0.2222222222222222,\"#7201a8\"],[0.3333333333333333,\"#9c179e\"],[0.4444444444444444,\"#bd3786\"],[0.5555555555555556,\"#d8576b\"],[0.6666666666666666,\"#ed7953\"],[0.7777777777777778,\"#fb9f3a\"],[0.8888888888888888,\"#fdca26\"],[1.0,\"#f0f921\"]],\"sequentialminus\":[[0.0,\"#0d0887\"],[0.1111111111111111,\"#46039f\"],[0.2222222222222222,\"#7201a8\"],[0.3333333333333333,\"#9c179e\"],[0.4444444444444444,\"#bd3786\"],[0.5555555555555556,\"#d8576b\"],[0.6666666666666666,\"#ed7953\"],[0.7777777777777778,\"#fb9f3a\"],[0.8888888888888888,\"#fdca26\"],[1.0,\"#f0f921\"]]},\"colorway\":[\"#636efa\",\"#EF553B\",\"#00cc96\",\"#ab63fa\",\"#FFA15A\",\"#19d3f3\",\"#FF6692\",\"#B6E880\",\"#FF97FF\",\"#FECB52\"],\"font\":{\"color\":\"#2a3f5f\"},\"geo\":{\"bgcolor\":\"white\",\"lakecolor\":\"white\",\"landcolor\":\"#E5ECF6\",\"showlakes\":true,\"showland\":true,\"subunitcolor\":\"white\"},\"hoverlabel\":{\"align\":\"left\"},\"hovermode\":\"closest\",\"mapbox\":{\"style\":\"light\"},\"paper_bgcolor\":\"white\",\"plot_bgcolor\":\"#E5ECF6\",\"polar\":{\"angularaxis\":{\"gridcolor\":\"white\",\"linecolor\":\"white\",\"ticks\":\"\"},\"bgcolor\":\"#E5ECF6\",\"radialaxis\":{\"gridcolor\":\"white\",\"linecolor\":\"white\",\"ticks\":\"\"}},\"scene\":{\"xaxis\":{\"backgroundcolor\":\"#E5ECF6\",\"gridcolor\":\"white\",\"gridwidth\":2,\"linecolor\":\"white\",\"showbackground\":true,\"ticks\":\"\",\"zerolinecolor\":\"white\"},\"yaxis\":{\"backgroundcolor\":\"#E5ECF6\",\"gridcolor\":\"white\",\"gridwidth\":2,\"linecolor\":\"white\",\"showbackground\":true,\"ticks\":\"\",\"zerolinecolor\":\"white\"},\"zaxis\":{\"backgroundcolor\":\"#E5ECF6\",\"gridcolor\":\"white\",\"gridwidth\":2,\"linecolor\":\"white\",\"showbackground\":true,\"ticks\":\"\",\"zerolinecolor\":\"white\"}},\"shapedefaults\":{\"line\":{\"color\":\"#2a3f5f\"}},\"ternary\":{\"aaxis\":{\"gridcolor\":\"white\",\"linecolor\":\"white\",\"ticks\":\"\"},\"baxis\":{\"gridcolor\":\"white\",\"linecolor\":\"white\",\"ticks\":\"\"},\"bgcolor\":\"#E5ECF6\",\"caxis\":{\"gridcolor\":\"white\",\"linecolor\":\"white\",\"ticks\":\"\"}},\"title\":{\"x\":0.05},\"xaxis\":{\"automargin\":true,\"gridcolor\":\"white\",\"linecolor\":\"white\",\"ticks\":\"\",\"title\":{\"standoff\":15},\"zerolinecolor\":\"white\",\"zerolinewidth\":2},\"yaxis\":{\"automargin\":true,\"gridcolor\":\"white\",\"linecolor\":\"white\",\"ticks\":\"\",\"title\":{\"standoff\":15},\"zerolinecolor\":\"white\",\"zerolinewidth\":2}}},\"title\":{\"text\":\"Training and Validation Loss Convergence per Epoch\"},\"xaxis\":{\"anchor\":\"y\",\"domain\":[0.0,1.0],\"title\":{\"text\":\"Epoch\"}},\"yaxis\":{\"anchor\":\"x\",\"domain\":[0.0,1.0],\"title\":{\"text\":\"Loss\"}}},                        {\"responsive\": true}                    ).then(function(){\n",
       "                            \n",
       "var gd = document.getElementById('71dfd735-e3b5-4bb7-b4a1-1d6b7fd1430b');\n",
       "var x = new MutationObserver(function (mutations, observer) {{\n",
       "        var display = window.getComputedStyle(gd).display;\n",
       "        if (!display || display === 'none') {{\n",
       "            console.log([gd, 'removed!']);\n",
       "            Plotly.purge(gd);\n",
       "            observer.disconnect();\n",
       "        }}\n",
       "}});\n",
       "\n",
       "// Listen for the removal of the full notebook cells\n",
       "var notebookContainer = gd.closest('#notebook-container');\n",
       "if (notebookContainer) {{\n",
       "    x.observe(notebookContainer, {childList: true});\n",
       "}}\n",
       "\n",
       "// Listen for the clearing of the current output cell\n",
       "var outputEl = gd.closest('.output');\n",
       "if (outputEl) {{\n",
       "    x.observe(outputEl, {childList: true});\n",
       "}}\n",
       "\n",
       "                        })                };                });            </script>        </div>"
      ]
     },
     "metadata": {},
     "output_type": "display_data"
    },
    {
     "data": {
      "application/vnd.plotly.v1+json": {
       "config": {
        "plotlyServerURL": "https://plot.ly"
       },
       "data": [
        {
         "mode": "lines",
         "name": "Training Accuracy",
         "type": "scatter",
         "x": [
          0,
          1,
          2,
          3,
          4,
          5,
          6,
          7,
          8,
          9,
          10,
          11,
          12,
          13,
          14,
          15,
          16,
          17,
          18,
          19,
          20
         ],
         "xaxis": "x",
         "y": [
          0.531455397605896,
          0.5248826146125793,
          0.5446009635925293,
          0.5352112650871277,
          0.5361502170562744,
          0.5478873252868652,
          0.5624412894248962,
          0.5507042407989502,
          0.5708920359611511,
          0.5572770237922668,
          0.5535211563110352,
          0.562910795211792,
          0.5676056146621704,
          0.577464759349823,
          0.5746479034423828,
          0.5840375423431396,
          0.5849765539169312,
          0.5924882888793945,
          0.5849765539169312,
          0.5863849520683289,
          0.5835680961608887
         ],
         "yaxis": "y"
        },
        {
         "mode": "lines",
         "name": "Validation Accuracy",
         "type": "scatter",
         "x": [
          0,
          1,
          2,
          3,
          4,
          5,
          6,
          7,
          8,
          9,
          10,
          11,
          12,
          13,
          14,
          15,
          16,
          17,
          18,
          19,
          20
         ],
         "xaxis": "x",
         "y": [
          0.5298804640769958,
          0.5179283022880554,
          0.5378485918045044,
          0.5298804640769958,
          0.5498008131980896,
          0.5338645577430725,
          0.541832685470581,
          0.5498008131980896,
          0.525896430015564,
          0.5298804640769958,
          0.5458167195320129,
          0.5458167195320129,
          0.5338645577430725,
          0.5458167195320129,
          0.56175297498703,
          0.5537848472595215,
          0.5537848472595215,
          0.5697211027145386,
          0.5537848472595215,
          0.5856573581695557,
          0.5816733241081238
         ],
         "yaxis": "y"
        }
       ],
       "layout": {
        "template": {
         "data": {
          "bar": [
           {
            "error_x": {
             "color": "#2a3f5f"
            },
            "error_y": {
             "color": "#2a3f5f"
            },
            "marker": {
             "line": {
              "color": "#E5ECF6",
              "width": 0.5
             },
             "pattern": {
              "fillmode": "overlay",
              "size": 10,
              "solidity": 0.2
             }
            },
            "type": "bar"
           }
          ],
          "barpolar": [
           {
            "marker": {
             "line": {
              "color": "#E5ECF6",
              "width": 0.5
             },
             "pattern": {
              "fillmode": "overlay",
              "size": 10,
              "solidity": 0.2
             }
            },
            "type": "barpolar"
           }
          ],
          "carpet": [
           {
            "aaxis": {
             "endlinecolor": "#2a3f5f",
             "gridcolor": "white",
             "linecolor": "white",
             "minorgridcolor": "white",
             "startlinecolor": "#2a3f5f"
            },
            "baxis": {
             "endlinecolor": "#2a3f5f",
             "gridcolor": "white",
             "linecolor": "white",
             "minorgridcolor": "white",
             "startlinecolor": "#2a3f5f"
            },
            "type": "carpet"
           }
          ],
          "choropleth": [
           {
            "colorbar": {
             "outlinewidth": 0,
             "ticks": ""
            },
            "type": "choropleth"
           }
          ],
          "contour": [
           {
            "colorbar": {
             "outlinewidth": 0,
             "ticks": ""
            },
            "colorscale": [
             [
              0,
              "#0d0887"
             ],
             [
              0.1111111111111111,
              "#46039f"
             ],
             [
              0.2222222222222222,
              "#7201a8"
             ],
             [
              0.3333333333333333,
              "#9c179e"
             ],
             [
              0.4444444444444444,
              "#bd3786"
             ],
             [
              0.5555555555555556,
              "#d8576b"
             ],
             [
              0.6666666666666666,
              "#ed7953"
             ],
             [
              0.7777777777777778,
              "#fb9f3a"
             ],
             [
              0.8888888888888888,
              "#fdca26"
             ],
             [
              1,
              "#f0f921"
             ]
            ],
            "type": "contour"
           }
          ],
          "contourcarpet": [
           {
            "colorbar": {
             "outlinewidth": 0,
             "ticks": ""
            },
            "type": "contourcarpet"
           }
          ],
          "heatmap": [
           {
            "colorbar": {
             "outlinewidth": 0,
             "ticks": ""
            },
            "colorscale": [
             [
              0,
              "#0d0887"
             ],
             [
              0.1111111111111111,
              "#46039f"
             ],
             [
              0.2222222222222222,
              "#7201a8"
             ],
             [
              0.3333333333333333,
              "#9c179e"
             ],
             [
              0.4444444444444444,
              "#bd3786"
             ],
             [
              0.5555555555555556,
              "#d8576b"
             ],
             [
              0.6666666666666666,
              "#ed7953"
             ],
             [
              0.7777777777777778,
              "#fb9f3a"
             ],
             [
              0.8888888888888888,
              "#fdca26"
             ],
             [
              1,
              "#f0f921"
             ]
            ],
            "type": "heatmap"
           }
          ],
          "heatmapgl": [
           {
            "colorbar": {
             "outlinewidth": 0,
             "ticks": ""
            },
            "colorscale": [
             [
              0,
              "#0d0887"
             ],
             [
              0.1111111111111111,
              "#46039f"
             ],
             [
              0.2222222222222222,
              "#7201a8"
             ],
             [
              0.3333333333333333,
              "#9c179e"
             ],
             [
              0.4444444444444444,
              "#bd3786"
             ],
             [
              0.5555555555555556,
              "#d8576b"
             ],
             [
              0.6666666666666666,
              "#ed7953"
             ],
             [
              0.7777777777777778,
              "#fb9f3a"
             ],
             [
              0.8888888888888888,
              "#fdca26"
             ],
             [
              1,
              "#f0f921"
             ]
            ],
            "type": "heatmapgl"
           }
          ],
          "histogram": [
           {
            "marker": {
             "pattern": {
              "fillmode": "overlay",
              "size": 10,
              "solidity": 0.2
             }
            },
            "type": "histogram"
           }
          ],
          "histogram2d": [
           {
            "colorbar": {
             "outlinewidth": 0,
             "ticks": ""
            },
            "colorscale": [
             [
              0,
              "#0d0887"
             ],
             [
              0.1111111111111111,
              "#46039f"
             ],
             [
              0.2222222222222222,
              "#7201a8"
             ],
             [
              0.3333333333333333,
              "#9c179e"
             ],
             [
              0.4444444444444444,
              "#bd3786"
             ],
             [
              0.5555555555555556,
              "#d8576b"
             ],
             [
              0.6666666666666666,
              "#ed7953"
             ],
             [
              0.7777777777777778,
              "#fb9f3a"
             ],
             [
              0.8888888888888888,
              "#fdca26"
             ],
             [
              1,
              "#f0f921"
             ]
            ],
            "type": "histogram2d"
           }
          ],
          "histogram2dcontour": [
           {
            "colorbar": {
             "outlinewidth": 0,
             "ticks": ""
            },
            "colorscale": [
             [
              0,
              "#0d0887"
             ],
             [
              0.1111111111111111,
              "#46039f"
             ],
             [
              0.2222222222222222,
              "#7201a8"
             ],
             [
              0.3333333333333333,
              "#9c179e"
             ],
             [
              0.4444444444444444,
              "#bd3786"
             ],
             [
              0.5555555555555556,
              "#d8576b"
             ],
             [
              0.6666666666666666,
              "#ed7953"
             ],
             [
              0.7777777777777778,
              "#fb9f3a"
             ],
             [
              0.8888888888888888,
              "#fdca26"
             ],
             [
              1,
              "#f0f921"
             ]
            ],
            "type": "histogram2dcontour"
           }
          ],
          "mesh3d": [
           {
            "colorbar": {
             "outlinewidth": 0,
             "ticks": ""
            },
            "type": "mesh3d"
           }
          ],
          "parcoords": [
           {
            "line": {
             "colorbar": {
              "outlinewidth": 0,
              "ticks": ""
             }
            },
            "type": "parcoords"
           }
          ],
          "pie": [
           {
            "automargin": true,
            "type": "pie"
           }
          ],
          "scatter": [
           {
            "marker": {
             "colorbar": {
              "outlinewidth": 0,
              "ticks": ""
             }
            },
            "type": "scatter"
           }
          ],
          "scatter3d": [
           {
            "line": {
             "colorbar": {
              "outlinewidth": 0,
              "ticks": ""
             }
            },
            "marker": {
             "colorbar": {
              "outlinewidth": 0,
              "ticks": ""
             }
            },
            "type": "scatter3d"
           }
          ],
          "scattercarpet": [
           {
            "marker": {
             "colorbar": {
              "outlinewidth": 0,
              "ticks": ""
             }
            },
            "type": "scattercarpet"
           }
          ],
          "scattergeo": [
           {
            "marker": {
             "colorbar": {
              "outlinewidth": 0,
              "ticks": ""
             }
            },
            "type": "scattergeo"
           }
          ],
          "scattergl": [
           {
            "marker": {
             "colorbar": {
              "outlinewidth": 0,
              "ticks": ""
             }
            },
            "type": "scattergl"
           }
          ],
          "scattermapbox": [
           {
            "marker": {
             "colorbar": {
              "outlinewidth": 0,
              "ticks": ""
             }
            },
            "type": "scattermapbox"
           }
          ],
          "scatterpolar": [
           {
            "marker": {
             "colorbar": {
              "outlinewidth": 0,
              "ticks": ""
             }
            },
            "type": "scatterpolar"
           }
          ],
          "scatterpolargl": [
           {
            "marker": {
             "colorbar": {
              "outlinewidth": 0,
              "ticks": ""
             }
            },
            "type": "scatterpolargl"
           }
          ],
          "scatterternary": [
           {
            "marker": {
             "colorbar": {
              "outlinewidth": 0,
              "ticks": ""
             }
            },
            "type": "scatterternary"
           }
          ],
          "surface": [
           {
            "colorbar": {
             "outlinewidth": 0,
             "ticks": ""
            },
            "colorscale": [
             [
              0,
              "#0d0887"
             ],
             [
              0.1111111111111111,
              "#46039f"
             ],
             [
              0.2222222222222222,
              "#7201a8"
             ],
             [
              0.3333333333333333,
              "#9c179e"
             ],
             [
              0.4444444444444444,
              "#bd3786"
             ],
             [
              0.5555555555555556,
              "#d8576b"
             ],
             [
              0.6666666666666666,
              "#ed7953"
             ],
             [
              0.7777777777777778,
              "#fb9f3a"
             ],
             [
              0.8888888888888888,
              "#fdca26"
             ],
             [
              1,
              "#f0f921"
             ]
            ],
            "type": "surface"
           }
          ],
          "table": [
           {
            "cells": {
             "fill": {
              "color": "#EBF0F8"
             },
             "line": {
              "color": "white"
             }
            },
            "header": {
             "fill": {
              "color": "#C8D4E3"
             },
             "line": {
              "color": "white"
             }
            },
            "type": "table"
           }
          ]
         },
         "layout": {
          "annotationdefaults": {
           "arrowcolor": "#2a3f5f",
           "arrowhead": 0,
           "arrowwidth": 1
          },
          "autotypenumbers": "strict",
          "coloraxis": {
           "colorbar": {
            "outlinewidth": 0,
            "ticks": ""
           }
          },
          "colorscale": {
           "diverging": [
            [
             0,
             "#8e0152"
            ],
            [
             0.1,
             "#c51b7d"
            ],
            [
             0.2,
             "#de77ae"
            ],
            [
             0.3,
             "#f1b6da"
            ],
            [
             0.4,
             "#fde0ef"
            ],
            [
             0.5,
             "#f7f7f7"
            ],
            [
             0.6,
             "#e6f5d0"
            ],
            [
             0.7,
             "#b8e186"
            ],
            [
             0.8,
             "#7fbc41"
            ],
            [
             0.9,
             "#4d9221"
            ],
            [
             1,
             "#276419"
            ]
           ],
           "sequential": [
            [
             0,
             "#0d0887"
            ],
            [
             0.1111111111111111,
             "#46039f"
            ],
            [
             0.2222222222222222,
             "#7201a8"
            ],
            [
             0.3333333333333333,
             "#9c179e"
            ],
            [
             0.4444444444444444,
             "#bd3786"
            ],
            [
             0.5555555555555556,
             "#d8576b"
            ],
            [
             0.6666666666666666,
             "#ed7953"
            ],
            [
             0.7777777777777778,
             "#fb9f3a"
            ],
            [
             0.8888888888888888,
             "#fdca26"
            ],
            [
             1,
             "#f0f921"
            ]
           ],
           "sequentialminus": [
            [
             0,
             "#0d0887"
            ],
            [
             0.1111111111111111,
             "#46039f"
            ],
            [
             0.2222222222222222,
             "#7201a8"
            ],
            [
             0.3333333333333333,
             "#9c179e"
            ],
            [
             0.4444444444444444,
             "#bd3786"
            ],
            [
             0.5555555555555556,
             "#d8576b"
            ],
            [
             0.6666666666666666,
             "#ed7953"
            ],
            [
             0.7777777777777778,
             "#fb9f3a"
            ],
            [
             0.8888888888888888,
             "#fdca26"
            ],
            [
             1,
             "#f0f921"
            ]
           ]
          },
          "colorway": [
           "#636efa",
           "#EF553B",
           "#00cc96",
           "#ab63fa",
           "#FFA15A",
           "#19d3f3",
           "#FF6692",
           "#B6E880",
           "#FF97FF",
           "#FECB52"
          ],
          "font": {
           "color": "#2a3f5f"
          },
          "geo": {
           "bgcolor": "white",
           "lakecolor": "white",
           "landcolor": "#E5ECF6",
           "showlakes": true,
           "showland": true,
           "subunitcolor": "white"
          },
          "hoverlabel": {
           "align": "left"
          },
          "hovermode": "closest",
          "mapbox": {
           "style": "light"
          },
          "paper_bgcolor": "white",
          "plot_bgcolor": "#E5ECF6",
          "polar": {
           "angularaxis": {
            "gridcolor": "white",
            "linecolor": "white",
            "ticks": ""
           },
           "bgcolor": "#E5ECF6",
           "radialaxis": {
            "gridcolor": "white",
            "linecolor": "white",
            "ticks": ""
           }
          },
          "scene": {
           "xaxis": {
            "backgroundcolor": "#E5ECF6",
            "gridcolor": "white",
            "gridwidth": 2,
            "linecolor": "white",
            "showbackground": true,
            "ticks": "",
            "zerolinecolor": "white"
           },
           "yaxis": {
            "backgroundcolor": "#E5ECF6",
            "gridcolor": "white",
            "gridwidth": 2,
            "linecolor": "white",
            "showbackground": true,
            "ticks": "",
            "zerolinecolor": "white"
           },
           "zaxis": {
            "backgroundcolor": "#E5ECF6",
            "gridcolor": "white",
            "gridwidth": 2,
            "linecolor": "white",
            "showbackground": true,
            "ticks": "",
            "zerolinecolor": "white"
           }
          },
          "shapedefaults": {
           "line": {
            "color": "#2a3f5f"
           }
          },
          "ternary": {
           "aaxis": {
            "gridcolor": "white",
            "linecolor": "white",
            "ticks": ""
           },
           "baxis": {
            "gridcolor": "white",
            "linecolor": "white",
            "ticks": ""
           },
           "bgcolor": "#E5ECF6",
           "caxis": {
            "gridcolor": "white",
            "linecolor": "white",
            "ticks": ""
           }
          },
          "title": {
           "x": 0.05
          },
          "xaxis": {
           "automargin": true,
           "gridcolor": "white",
           "linecolor": "white",
           "ticks": "",
           "title": {
            "standoff": 15
           },
           "zerolinecolor": "white",
           "zerolinewidth": 2
          },
          "yaxis": {
           "automargin": true,
           "gridcolor": "white",
           "linecolor": "white",
           "ticks": "",
           "title": {
            "standoff": 15
           },
           "zerolinecolor": "white",
           "zerolinewidth": 2
          }
         }
        },
        "title": {
         "text": "Training and Validation Accuracy Convergence per Epoch"
        },
        "xaxis": {
         "anchor": "y",
         "domain": [
          0,
          1
         ],
         "title": {
          "text": "Epoch"
         }
        },
        "yaxis": {
         "anchor": "x",
         "domain": [
          0,
          1
         ],
         "title": {
          "text": "Accuracy"
         }
        }
       }
      },
      "text/html": [
       "<div>                            <div id=\"9259adf3-0dba-4df3-8b72-db322e120adb\" class=\"plotly-graph-div\" style=\"height:525px; width:100%;\"></div>            <script type=\"text/javascript\">                require([\"plotly\"], function(Plotly) {                    window.PLOTLYENV=window.PLOTLYENV || {};                                    if (document.getElementById(\"9259adf3-0dba-4df3-8b72-db322e120adb\")) {                    Plotly.newPlot(                        \"9259adf3-0dba-4df3-8b72-db322e120adb\",                        [{\"mode\":\"lines\",\"name\":\"Training Accuracy\",\"type\":\"scatter\",\"x\":[0,1,2,3,4,5,6,7,8,9,10,11,12,13,14,15,16,17,18,19,20],\"xaxis\":\"x\",\"y\":[0.531455397605896,0.5248826146125793,0.5446009635925293,0.5352112650871277,0.5361502170562744,0.5478873252868652,0.5624412894248962,0.5507042407989502,0.5708920359611511,0.5572770237922668,0.5535211563110352,0.562910795211792,0.5676056146621704,0.577464759349823,0.5746479034423828,0.5840375423431396,0.5849765539169312,0.5924882888793945,0.5849765539169312,0.5863849520683289,0.5835680961608887],\"yaxis\":\"y\"},{\"mode\":\"lines\",\"name\":\"Validation Accuracy\",\"type\":\"scatter\",\"x\":[0,1,2,3,4,5,6,7,8,9,10,11,12,13,14,15,16,17,18,19,20],\"xaxis\":\"x\",\"y\":[0.5298804640769958,0.5179283022880554,0.5378485918045044,0.5298804640769958,0.5498008131980896,0.5338645577430725,0.541832685470581,0.5498008131980896,0.525896430015564,0.5298804640769958,0.5458167195320129,0.5458167195320129,0.5338645577430725,0.5458167195320129,0.56175297498703,0.5537848472595215,0.5537848472595215,0.5697211027145386,0.5537848472595215,0.5856573581695557,0.5816733241081238],\"yaxis\":\"y\"}],                        {\"template\":{\"data\":{\"bar\":[{\"error_x\":{\"color\":\"#2a3f5f\"},\"error_y\":{\"color\":\"#2a3f5f\"},\"marker\":{\"line\":{\"color\":\"#E5ECF6\",\"width\":0.5},\"pattern\":{\"fillmode\":\"overlay\",\"size\":10,\"solidity\":0.2}},\"type\":\"bar\"}],\"barpolar\":[{\"marker\":{\"line\":{\"color\":\"#E5ECF6\",\"width\":0.5},\"pattern\":{\"fillmode\":\"overlay\",\"size\":10,\"solidity\":0.2}},\"type\":\"barpolar\"}],\"carpet\":[{\"aaxis\":{\"endlinecolor\":\"#2a3f5f\",\"gridcolor\":\"white\",\"linecolor\":\"white\",\"minorgridcolor\":\"white\",\"startlinecolor\":\"#2a3f5f\"},\"baxis\":{\"endlinecolor\":\"#2a3f5f\",\"gridcolor\":\"white\",\"linecolor\":\"white\",\"minorgridcolor\":\"white\",\"startlinecolor\":\"#2a3f5f\"},\"type\":\"carpet\"}],\"choropleth\":[{\"colorbar\":{\"outlinewidth\":0,\"ticks\":\"\"},\"type\":\"choropleth\"}],\"contour\":[{\"colorbar\":{\"outlinewidth\":0,\"ticks\":\"\"},\"colorscale\":[[0.0,\"#0d0887\"],[0.1111111111111111,\"#46039f\"],[0.2222222222222222,\"#7201a8\"],[0.3333333333333333,\"#9c179e\"],[0.4444444444444444,\"#bd3786\"],[0.5555555555555556,\"#d8576b\"],[0.6666666666666666,\"#ed7953\"],[0.7777777777777778,\"#fb9f3a\"],[0.8888888888888888,\"#fdca26\"],[1.0,\"#f0f921\"]],\"type\":\"contour\"}],\"contourcarpet\":[{\"colorbar\":{\"outlinewidth\":0,\"ticks\":\"\"},\"type\":\"contourcarpet\"}],\"heatmap\":[{\"colorbar\":{\"outlinewidth\":0,\"ticks\":\"\"},\"colorscale\":[[0.0,\"#0d0887\"],[0.1111111111111111,\"#46039f\"],[0.2222222222222222,\"#7201a8\"],[0.3333333333333333,\"#9c179e\"],[0.4444444444444444,\"#bd3786\"],[0.5555555555555556,\"#d8576b\"],[0.6666666666666666,\"#ed7953\"],[0.7777777777777778,\"#fb9f3a\"],[0.8888888888888888,\"#fdca26\"],[1.0,\"#f0f921\"]],\"type\":\"heatmap\"}],\"heatmapgl\":[{\"colorbar\":{\"outlinewidth\":0,\"ticks\":\"\"},\"colorscale\":[[0.0,\"#0d0887\"],[0.1111111111111111,\"#46039f\"],[0.2222222222222222,\"#7201a8\"],[0.3333333333333333,\"#9c179e\"],[0.4444444444444444,\"#bd3786\"],[0.5555555555555556,\"#d8576b\"],[0.6666666666666666,\"#ed7953\"],[0.7777777777777778,\"#fb9f3a\"],[0.8888888888888888,\"#fdca26\"],[1.0,\"#f0f921\"]],\"type\":\"heatmapgl\"}],\"histogram\":[{\"marker\":{\"pattern\":{\"fillmode\":\"overlay\",\"size\":10,\"solidity\":0.2}},\"type\":\"histogram\"}],\"histogram2d\":[{\"colorbar\":{\"outlinewidth\":0,\"ticks\":\"\"},\"colorscale\":[[0.0,\"#0d0887\"],[0.1111111111111111,\"#46039f\"],[0.2222222222222222,\"#7201a8\"],[0.3333333333333333,\"#9c179e\"],[0.4444444444444444,\"#bd3786\"],[0.5555555555555556,\"#d8576b\"],[0.6666666666666666,\"#ed7953\"],[0.7777777777777778,\"#fb9f3a\"],[0.8888888888888888,\"#fdca26\"],[1.0,\"#f0f921\"]],\"type\":\"histogram2d\"}],\"histogram2dcontour\":[{\"colorbar\":{\"outlinewidth\":0,\"ticks\":\"\"},\"colorscale\":[[0.0,\"#0d0887\"],[0.1111111111111111,\"#46039f\"],[0.2222222222222222,\"#7201a8\"],[0.3333333333333333,\"#9c179e\"],[0.4444444444444444,\"#bd3786\"],[0.5555555555555556,\"#d8576b\"],[0.6666666666666666,\"#ed7953\"],[0.7777777777777778,\"#fb9f3a\"],[0.8888888888888888,\"#fdca26\"],[1.0,\"#f0f921\"]],\"type\":\"histogram2dcontour\"}],\"mesh3d\":[{\"colorbar\":{\"outlinewidth\":0,\"ticks\":\"\"},\"type\":\"mesh3d\"}],\"parcoords\":[{\"line\":{\"colorbar\":{\"outlinewidth\":0,\"ticks\":\"\"}},\"type\":\"parcoords\"}],\"pie\":[{\"automargin\":true,\"type\":\"pie\"}],\"scatter\":[{\"marker\":{\"colorbar\":{\"outlinewidth\":0,\"ticks\":\"\"}},\"type\":\"scatter\"}],\"scatter3d\":[{\"line\":{\"colorbar\":{\"outlinewidth\":0,\"ticks\":\"\"}},\"marker\":{\"colorbar\":{\"outlinewidth\":0,\"ticks\":\"\"}},\"type\":\"scatter3d\"}],\"scattercarpet\":[{\"marker\":{\"colorbar\":{\"outlinewidth\":0,\"ticks\":\"\"}},\"type\":\"scattercarpet\"}],\"scattergeo\":[{\"marker\":{\"colorbar\":{\"outlinewidth\":0,\"ticks\":\"\"}},\"type\":\"scattergeo\"}],\"scattergl\":[{\"marker\":{\"colorbar\":{\"outlinewidth\":0,\"ticks\":\"\"}},\"type\":\"scattergl\"}],\"scattermapbox\":[{\"marker\":{\"colorbar\":{\"outlinewidth\":0,\"ticks\":\"\"}},\"type\":\"scattermapbox\"}],\"scatterpolar\":[{\"marker\":{\"colorbar\":{\"outlinewidth\":0,\"ticks\":\"\"}},\"type\":\"scatterpolar\"}],\"scatterpolargl\":[{\"marker\":{\"colorbar\":{\"outlinewidth\":0,\"ticks\":\"\"}},\"type\":\"scatterpolargl\"}],\"scatterternary\":[{\"marker\":{\"colorbar\":{\"outlinewidth\":0,\"ticks\":\"\"}},\"type\":\"scatterternary\"}],\"surface\":[{\"colorbar\":{\"outlinewidth\":0,\"ticks\":\"\"},\"colorscale\":[[0.0,\"#0d0887\"],[0.1111111111111111,\"#46039f\"],[0.2222222222222222,\"#7201a8\"],[0.3333333333333333,\"#9c179e\"],[0.4444444444444444,\"#bd3786\"],[0.5555555555555556,\"#d8576b\"],[0.6666666666666666,\"#ed7953\"],[0.7777777777777778,\"#fb9f3a\"],[0.8888888888888888,\"#fdca26\"],[1.0,\"#f0f921\"]],\"type\":\"surface\"}],\"table\":[{\"cells\":{\"fill\":{\"color\":\"#EBF0F8\"},\"line\":{\"color\":\"white\"}},\"header\":{\"fill\":{\"color\":\"#C8D4E3\"},\"line\":{\"color\":\"white\"}},\"type\":\"table\"}]},\"layout\":{\"annotationdefaults\":{\"arrowcolor\":\"#2a3f5f\",\"arrowhead\":0,\"arrowwidth\":1},\"autotypenumbers\":\"strict\",\"coloraxis\":{\"colorbar\":{\"outlinewidth\":0,\"ticks\":\"\"}},\"colorscale\":{\"diverging\":[[0,\"#8e0152\"],[0.1,\"#c51b7d\"],[0.2,\"#de77ae\"],[0.3,\"#f1b6da\"],[0.4,\"#fde0ef\"],[0.5,\"#f7f7f7\"],[0.6,\"#e6f5d0\"],[0.7,\"#b8e186\"],[0.8,\"#7fbc41\"],[0.9,\"#4d9221\"],[1,\"#276419\"]],\"sequential\":[[0.0,\"#0d0887\"],[0.1111111111111111,\"#46039f\"],[0.2222222222222222,\"#7201a8\"],[0.3333333333333333,\"#9c179e\"],[0.4444444444444444,\"#bd3786\"],[0.5555555555555556,\"#d8576b\"],[0.6666666666666666,\"#ed7953\"],[0.7777777777777778,\"#fb9f3a\"],[0.8888888888888888,\"#fdca26\"],[1.0,\"#f0f921\"]],\"sequentialminus\":[[0.0,\"#0d0887\"],[0.1111111111111111,\"#46039f\"],[0.2222222222222222,\"#7201a8\"],[0.3333333333333333,\"#9c179e\"],[0.4444444444444444,\"#bd3786\"],[0.5555555555555556,\"#d8576b\"],[0.6666666666666666,\"#ed7953\"],[0.7777777777777778,\"#fb9f3a\"],[0.8888888888888888,\"#fdca26\"],[1.0,\"#f0f921\"]]},\"colorway\":[\"#636efa\",\"#EF553B\",\"#00cc96\",\"#ab63fa\",\"#FFA15A\",\"#19d3f3\",\"#FF6692\",\"#B6E880\",\"#FF97FF\",\"#FECB52\"],\"font\":{\"color\":\"#2a3f5f\"},\"geo\":{\"bgcolor\":\"white\",\"lakecolor\":\"white\",\"landcolor\":\"#E5ECF6\",\"showlakes\":true,\"showland\":true,\"subunitcolor\":\"white\"},\"hoverlabel\":{\"align\":\"left\"},\"hovermode\":\"closest\",\"mapbox\":{\"style\":\"light\"},\"paper_bgcolor\":\"white\",\"plot_bgcolor\":\"#E5ECF6\",\"polar\":{\"angularaxis\":{\"gridcolor\":\"white\",\"linecolor\":\"white\",\"ticks\":\"\"},\"bgcolor\":\"#E5ECF6\",\"radialaxis\":{\"gridcolor\":\"white\",\"linecolor\":\"white\",\"ticks\":\"\"}},\"scene\":{\"xaxis\":{\"backgroundcolor\":\"#E5ECF6\",\"gridcolor\":\"white\",\"gridwidth\":2,\"linecolor\":\"white\",\"showbackground\":true,\"ticks\":\"\",\"zerolinecolor\":\"white\"},\"yaxis\":{\"backgroundcolor\":\"#E5ECF6\",\"gridcolor\":\"white\",\"gridwidth\":2,\"linecolor\":\"white\",\"showbackground\":true,\"ticks\":\"\",\"zerolinecolor\":\"white\"},\"zaxis\":{\"backgroundcolor\":\"#E5ECF6\",\"gridcolor\":\"white\",\"gridwidth\":2,\"linecolor\":\"white\",\"showbackground\":true,\"ticks\":\"\",\"zerolinecolor\":\"white\"}},\"shapedefaults\":{\"line\":{\"color\":\"#2a3f5f\"}},\"ternary\":{\"aaxis\":{\"gridcolor\":\"white\",\"linecolor\":\"white\",\"ticks\":\"\"},\"baxis\":{\"gridcolor\":\"white\",\"linecolor\":\"white\",\"ticks\":\"\"},\"bgcolor\":\"#E5ECF6\",\"caxis\":{\"gridcolor\":\"white\",\"linecolor\":\"white\",\"ticks\":\"\"}},\"title\":{\"x\":0.05},\"xaxis\":{\"automargin\":true,\"gridcolor\":\"white\",\"linecolor\":\"white\",\"ticks\":\"\",\"title\":{\"standoff\":15},\"zerolinecolor\":\"white\",\"zerolinewidth\":2},\"yaxis\":{\"automargin\":true,\"gridcolor\":\"white\",\"linecolor\":\"white\",\"ticks\":\"\",\"title\":{\"standoff\":15},\"zerolinecolor\":\"white\",\"zerolinewidth\":2}}},\"title\":{\"text\":\"Training and Validation Accuracy Convergence per Epoch\"},\"xaxis\":{\"anchor\":\"y\",\"domain\":[0.0,1.0],\"title\":{\"text\":\"Epoch\"}},\"yaxis\":{\"anchor\":\"x\",\"domain\":[0.0,1.0],\"title\":{\"text\":\"Accuracy\"}}},                        {\"responsive\": true}                    ).then(function(){\n",
       "                            \n",
       "var gd = document.getElementById('9259adf3-0dba-4df3-8b72-db322e120adb');\n",
       "var x = new MutationObserver(function (mutations, observer) {{\n",
       "        var display = window.getComputedStyle(gd).display;\n",
       "        if (!display || display === 'none') {{\n",
       "            console.log([gd, 'removed!']);\n",
       "            Plotly.purge(gd);\n",
       "            observer.disconnect();\n",
       "        }}\n",
       "}});\n",
       "\n",
       "// Listen for the removal of the full notebook cells\n",
       "var notebookContainer = gd.closest('#notebook-container');\n",
       "if (notebookContainer) {{\n",
       "    x.observe(notebookContainer, {childList: true});\n",
       "}}\n",
       "\n",
       "// Listen for the clearing of the current output cell\n",
       "var outputEl = gd.closest('.output');\n",
       "if (outputEl) {{\n",
       "    x.observe(outputEl, {childList: true});\n",
       "}}\n",
       "\n",
       "                        })                };                });            </script>        </div>"
      ]
     },
     "metadata": {},
     "output_type": "display_data"
    }
   ],
   "source": [
    "def evaluate_convergence(history):\n",
    "    epochs = []\n",
    "    for i in range(len(history.history['loss'])):\n",
    "        epochs.append(i)\n",
    "    \n",
    "    train_loss = history.history['loss']\n",
    "    val_loss = history.history['val_loss']\n",
    "    fig1 = make_subplots(rows=1, cols=1, specs=[[{'type':'xy'}]])\n",
    "    fig1.add_trace(go.Scatter(x=epochs, y=train_loss, mode=\"lines\", name=\"Train Loss\"), row=1, col=1)\n",
    "    fig1.add_trace(go.Scatter(x=epochs, y=val_loss, mode=\"lines\", name=\"Validation Loss\"), row=1, col=1)\n",
    "    fig1.update_layout(\n",
    "        title = \"Training and Validation Loss Convergence per Epoch\", \n",
    "        xaxis1 = dict(title_text = \"Epoch\"),\n",
    "        yaxis1 = dict(title_text = \"Loss\"),\n",
    "    )\n",
    "#     fig1.write_image()\n",
    "    fig1.show()\n",
    "    \n",
    "    train_acc = history.history['acc']\n",
    "    val_acc = history.history['val_acc']\n",
    "    fig2 = make_subplots(rows=1, cols=1, specs=[[{'type':'xy'}]])\n",
    "    fig2.add_trace(go.Scatter(x=epochs, y=train_acc, mode=\"lines\", name=\"Training Accuracy\"), row=1, col=1)\n",
    "    fig2.add_trace(go.Scatter(x=epochs, y=val_acc, mode=\"lines\", name=\"Validation Accuracy\"), row=1, col=1)\n",
    "    fig2.update_layout(\n",
    "        title = \"Training and Validation Accuracy Convergence per Epoch\", \n",
    "        xaxis1 = dict(title_text = \"Epoch\"),\n",
    "        yaxis1 = dict(title_text = \"Accuracy\"),\n",
    "    )\n",
    "#     fig2.write_image()\n",
    "    fig2.show()\n",
    "    \n",
    "evaluate_convergence(history)"
   ]
  },
  {
   "cell_type": "code",
   "execution_count": 25,
   "metadata": {},
   "outputs": [
    {
     "name": "stdout",
     "output_type": "stream",
     "text": [
      "Training set evaluation\n",
      "\tAccuracy: 0.6253521126760564\n",
      "\tPrecision: 0.6231493943472409\n",
      "\tRecall: 0.7955326460481099\n",
      "\tF1-score: 0.6988679245283018\n",
      "Validation set evaluation\n",
      "\tAccuracy: 0.5816733067729084\n",
      "\tPrecision: 0.5882352941176471\n",
      "\tRecall: 0.7407407407407407\n",
      "\tF1-score: 0.6557377049180328\n",
      "Test set evaluation\n",
      "\tAccuracy: 0.5317460317460317\n",
      "\tPrecision: 0.569060773480663\n",
      "\tRecall: 0.7202797202797203\n",
      "\tF1-score: 0.6358024691358024\n"
     ]
    }
   ],
   "source": [
    "def evaluate(model, x, y):\n",
    "    y = y.tolist()\n",
    "    y_pred = model.predict(x)\n",
    "    y_pred = y_pred.round()\n",
    "    y_pred = y_pred.tolist()\n",
    "    \n",
    "    for i in range(len(y)):\n",
    "        y[i] = int(y[i][0])\n",
    "        y_pred[i] = int(y_pred[i][0][0])\n",
    "    \n",
    "    acc = accuracy(y, y_pred)\n",
    "    print(f\"\\tAccuracy: {acc}\")\n",
    "    \n",
    "    prec = precision(y, y_pred)\n",
    "    print(f\"\\tPrecision: {prec}\")\n",
    "    \n",
    "    rec = recall(y, y_pred)\n",
    "    print(f\"\\tRecall: {rec}\")\n",
    "    \n",
    "    f = f1(y, y_pred)\n",
    "    print(f\"\\tF1-score: {f}\")\n",
    "    \n",
    "print(\"Training set evaluation\")\n",
    "evaluate(model, x_train, y_train)\n",
    "print(\"Validation set evaluation\")\n",
    "evaluate(model, x_val, y_val)\n",
    "print(\"Test set evaluation\")\n",
    "evaluate(model, x_test, y_test)"
   ]
  },
  {
   "cell_type": "code",
   "execution_count": 26,
   "metadata": {},
   "outputs": [
    {
     "data": {
      "image/png": "[encoded data removed]",
      "text/plain": [
       "<Figure size 432x288 with 2 Axes>"
      ]
     },
     "metadata": {
      "needs_background": "light"
     },
     "output_type": "display_data"
    },
    {
     "data": {
      "image/png": "[encoded data removed]",
      "text/plain": [
       "<Figure size 432x288 with 2 Axes>"
      ]
     },
     "metadata": {
      "needs_background": "light"
     },
     "output_type": "display_data"
    }
   ],
   "source": [
    "def confusion_matrix(model, x, y):\n",
    "    y_pred = model.predict(x, batch_size=1)\n",
    "\n",
    "    originals = []\n",
    "    predictions = []\n",
    "\n",
    "    for i in range(len(y_pred)):\n",
    "        originals.append(y[i][0])\n",
    "        predictions.append(round(float(y_pred[i][0])))\n",
    "        \n",
    "    df = pd.DataFrame()\n",
    "    df['Actual'] = originals\n",
    "    df['Predicted'] = predictions\n",
    "    \n",
    "    conf_matrix = pd.crosstab(df['Actual'], df['Predicted'])\n",
    "    sns.heatmap(conf_matrix, annot=True, cmap='Blues')\n",
    "    plt.title(\"Confusion Matrix of Actual versus Predicted Labels\")\n",
    "    plt.show()\n",
    "    \n",
    "# confusion_matrix(model, x_train, y_train)\n",
    "confusion_matrix(model, x_val, y_val)\n",
    "confusion_matrix(model, x_test, y_test)"
   ]
  },
  {
   "cell_type": "code",
   "execution_count": null,
   "metadata": {},
   "outputs": [],
   "source": []
  },
  {
   "cell_type": "code",
   "execution_count": 16,
   "metadata": {},
   "outputs": [
    {
     "data": {
      "application/vnd.plotly.v1+json": {
       "config": {
        "plotlyServerURL": "https://plot.ly"
       },
       "data": [
        {
         "close": [
          "2695.81",
          "2713.06",
          "2723.99",
          "2743.15",
          "2747.71",
          "2751.29",
          "2748.23",
          "2767.56",
          "2786.24",
          "2776.42",
          "2802.56",
          "2798.03",
          "2810.30",
          "2832.97",
          "2839.13",
          "2837.54",
          "2839.25",
          "2872.87",
          "2853.53",
          "2822.43",
          "2823.81",
          "2821.98",
          "2762.13",
          "2648.94",
          "2695.14",
          "2681.66",
          "2581.00",
          "2619.55",
          "2656.00",
          "2662.94",
          "2698.63",
          "2731.20",
          "2732.22",
          "2716.26",
          "2701.33",
          "2703.96",
          "2747.30",
          "2779.60",
          "2744.28",
          "2713.83",
          "2677.67",
          "2691.25",
          "2720.94",
          "2728.12",
          "2726.80",
          "2738.97",
          "2786.57",
          "2783.02",
          "2765.31",
          "2749.48",
          "2747.33",
          "2752.01",
          "2712.92",
          "2716.94",
          "2711.93",
          "2643.69",
          "2588.26",
          "2658.55",
          "2612.62",
          "2605.00",
          "2640.87",
          "2581.88",
          "2614.45",
          "2644.69",
          "2662.84",
          "2604.47",
          "2613.16",
          "2656.87",
          "2642.19",
          "2663.99",
          "2656.30",
          "2677.84",
          "2706.39",
          "2708.64",
          "2693.13",
          "2670.14",
          "2670.29",
          "2634.56",
          "2639.40",
          "2666.94",
          "2669.91",
          "2648.05",
          "2654.80",
          "2635.67",
          "2629.73",
          "2663.42",
          "2672.63",
          "2671.92",
          "2697.79",
          "2723.07",
          "2727.72",
          "2730.13",
          "2711.45",
          "2722.46",
          "2720.13",
          "2712.97",
          "2733.01",
          "2724.44",
          "2733.29",
          "2727.76",
          "2721.33",
          "2689.86",
          "2724.01",
          "2705.27",
          "2734.62",
          "2746.87",
          "2748.80",
          "2772.35",
          "2770.37",
          "2779.03",
          "2782.00",
          "2786.85",
          "2775.63",
          "2782.49",
          "2779.66",
          "2773.75",
          "2762.59",
          "2767.32",
          "2749.76",
          "2754.88",
          "2717.07",
          "2723.06",
          "2699.63",
          "2716.31",
          "2718.37",
          "2726.71",
          "2713.22",
          "2736.61",
          "2759.82",
          "2784.17",
          "2793.84",
          "2774.02",
          "2798.29",
          "2801.31",
          "2798.43",
          "2809.55",
          "2815.62",
          "2804.49",
          "2801.83",
          "2806.98",
          "2820.40",
          "2846.07",
          "2837.44",
          "2818.82",
          "2802.60",
          "2816.29",
          "2813.36",
          "2827.22",
          "2840.35",
          "2850.40",
          "2858.45",
          "2857.70",
          "2853.58",
          "2833.28",
          "2821.93",
          "2839.96",
          "2818.37",
          "2840.69",
          "2850.13",
          "2857.05",
          "2862.96",
          "2861.82",
          "2856.98",
          "2874.69",
          "2896.74",
          "2897.52",
          "2914.04",
          "2901.13",
          "2901.52",
          "2896.72",
          "2888.60",
          "2878.05",
          "2871.68",
          "2877.13",
          "2887.89",
          "2888.92",
          "2904.18",
          "2904.98",
          "2888.80",
          "2904.31",
          "2907.95",
          "2930.75",
          "2929.67",
          "2919.37",
          "2915.56",
          "2905.97",
          "2914.00",
          "2913.98",
          "2924.59",
          "2923.43",
          "2925.51",
          "2901.61",
          "2885.57",
          "2884.43",
          "2880.34",
          "2785.68",
          "2728.37",
          "2767.13",
          "2750.79",
          "2809.92",
          "2809.21",
          "2768.78",
          "2767.78",
          "2755.88",
          "2740.69",
          "2656.10",
          "2705.57",
          "2658.69",
          "2641.25",
          "2682.63",
          "2711.74",
          "2740.37",
          "2723.06",
          "2738.31",
          "2755.45",
          "2813.89",
          "2806.83",
          "2781.01",
          "2726.22",
          "2722.18",
          "2701.58",
          "2730.20",
          "2736.27",
          "2690.73",
          "2641.89",
          "2649.93",
          "2632.56",
          "2673.45",
          "2682.17",
          "2743.79",
          "2737.76",
          "2760.17",
          "2790.37",
          "2700.06",
          "2695.95",
          "2633.08",
          "2637.72",
          "2636.78",
          "2651.07",
          "2650.54",
          "2599.95",
          "2545.94",
          "2546.16",
          "2506.96",
          "2467.42",
          "2416.62",
          "2351.10",
          "2467.70",
          "2488.83",
          "2485.74",
          "2506.85"
         ],
         "high": [
          "2695.89",
          "2714.37",
          "2729.29",
          "2743.45",
          "2748.51",
          "2759.14",
          "2750.80",
          "2767.56",
          "2787.85",
          "2807.54",
          "2807.04",
          "2805.83",
          "2810.33",
          "2833.03",
          "2842.24",
          "2852.97",
          "2848.56",
          "2872.87",
          "2870.62",
          "2837.75",
          "2839.26",
          "2835.96",
          "2808.92",
          "2763.39",
          "2701.04",
          "2727.67",
          "2685.27",
          "2638.67",
          "2672.61",
          "2668.84",
          "2702.10",
          "2731.51",
          "2754.42",
          "2737.60",
          "2747.75",
          "2731.26",
          "2747.76",
          "2780.64",
          "2789.15",
          "2761.52",
          "2730.89",
          "2696.25",
          "2728.09",
          "2732.08",
          "2730.60",
          "2740.45",
          "2786.57",
          "2796.98",
          "2801.90",
          "2777.11",
          "2763.03",
          "2761.85",
          "2741.38",
          "2724.22",
          "2739.14",
          "2695.68",
          "2657.67",
          "2661.36",
          "2674.78",
          "2632.65",
          "2659.07",
          "2638.30",
          "2619.14",
          "2649.86",
          "2672.08",
          "2656.88",
          "2653.55",
          "2665.45",
          "2661.43",
          "2674.72",
          "2680.26",
          "2686.49",
          "2713.34",
          "2717.49",
          "2702.84",
          "2693.94",
          "2682.86",
          "2683.55",
          "2645.30",
          "2676.48",
          "2677.35",
          "2682.92",
          "2655.27",
          "2660.87",
          "2637.14",
          "2670.93",
          "2683.35",
          "2676.34",
          "2701.27",
          "2726.11",
          "2732.86",
          "2742.10",
          "2718.59",
          "2727.76",
          "2731.96",
          "2719.50",
          "2739.19",
          "2742.24",
          "2733.33",
          "2731.97",
          "2727.36",
          "2710.67",
          "2729.34",
          "2722.50",
          "2736.93",
          "2749.16",
          "2752.61",
          "2772.39",
          "2779.90",
          "2779.39",
          "2790.21",
          "2789.80",
          "2791.47",
          "2789.06",
          "2782.81",
          "2774.99",
          "2765.05",
          "2774.86",
          "2769.28",
          "2764.17",
          "2742.94",
          "2732.91",
          "2746.09",
          "2724.34",
          "2743.26",
          "2727.26",
          "2736.58",
          "2737.83",
          "2764.41",
          "2784.65",
          "2795.58",
          "2785.91",
          "2799.22",
          "2804.53",
          "2803.71",
          "2814.19",
          "2816.76",
          "2812.05",
          "2809.70",
          "2808.61",
          "2829.99",
          "2848.03",
          "2845.57",
          "2843.17",
          "2821.74",
          "2824.46",
          "2825.83",
          "2829.91",
          "2840.38",
          "2853.29",
          "2863.43",
          "2862.44",
          "2862.48",
          "2842.20",
          "2843.40",
          "2843.11",
          "2827.95",
          "2850.49",
          "2855.63",
          "2859.76",
          "2873.23",
          "2867.54",
          "2868.78",
          "2876.16",
          "2898.25",
          "2903.77",
          "2916.50",
          "2912.46",
          "2906.32",
          "2900.18",
          "2894.21",
          "2892.05",
          "2883.81",
          "2886.93",
          "2892.52",
          "2894.65",
          "2906.76",
          "2908.30",
          "2904.65",
          "2911.17",
          "2912.36",
          "2934.80",
          "2940.91",
          "2923.79",
          "2923.95",
          "2931.15",
          "2927.22",
          "2920.53",
          "2937.06",
          "2931.42",
          "2939.86",
          "2919.78",
          "2909.64",
          "2889.45",
          "2894.83",
          "2874.02",
          "2795.14",
          "2775.77",
          "2775.99",
          "2813.46",
          "2816.94",
          "2806.04",
          "2797.77",
          "2778.94",
          "2753.59",
          "2742.59",
          "2722.70",
          "2692.38",
          "2706.85",
          "2685.43",
          "2736.69",
          "2741.67",
          "2756.55",
          "2744.27",
          "2756.82",
          "2815.15",
          "2814.75",
          "2794.10",
          "2775.99",
          "2754.60",
          "2746.80",
          "2735.38",
          "2746.75",
          "2733.16",
          "2669.44",
          "2670.73",
          "2647.55",
          "2674.35",
          "2682.53",
          "2744.00",
          "2753.75",
          "2760.88",
          "2800.18",
          "2785.93",
          "2696.15",
          "2708.54",
          "2647.51",
          "2674.35",
          "2685.44",
          "2670.19",
          "2635.07",
          "2601.13",
          "2573.99",
          "2585.29",
          "2509.63",
          "2504.41",
          "2410.34",
          "2467.76",
          "2489.10",
          "2520.27",
          "2509.24"
         ],
         "low": [
          "2682.36",
          "2697.77",
          "2719.07",
          "2727.92",
          "2737.60",
          "2747.86",
          "2736.06",
          "2752.78",
          "2769.64",
          "2768.64",
          "2778.38",
          "2792.56",
          "2798.08",
          "2808.12",
          "2830.59",
          "2824.81",
          "2830.94",
          "2846.18",
          "2851.48",
          "2818.27",
          "2813.04",
          "2812.70",
          "2759.97",
          "2638.17",
          "2593.07",
          "2681.33",
          "2580.56",
          "2532.69",
          "2622.45",
          "2637.08",
          "2648.87",
          "2689.82",
          "2725.11",
          "2706.76",
          "2701.29",
          "2697.77",
          "2713.74",
          "2753.78",
          "2744.22",
          "2713.54",
          "2659.65",
          "2647.32",
          "2675.75",
          "2711.26",
          "2701.74",
          "2722.65",
          "2751.54",
          "2779.26",
          "2758.68",
          "2744.38",
          "2741.47",
          "2749.97",
          "2694.59",
          "2710.05",
          "2709.79",
          "2641.59",
          "2585.89",
          "2601.81",
          "2596.12",
          "2593.06",
          "2609.72",
          "2553.80",
          "2575.49",
          "2573.61",
          "2649.58",
          "2586.27",
          "2610.79",
          "2635.78",
          "2639.25",
          "2653.83",
          "2645.05",
          "2665.16",
          "2692.05",
          "2703.63",
          "2681.90",
          "2660.61",
          "2657.99",
          "2617.32",
          "2612.67",
          "2647.16",
          "2659.01",
          "2648.04",
          "2625.41",
          "2631.70",
          "2594.62",
          "2615.32",
          "2664.70",
          "2655.20",
          "2674.14",
          "2704.54",
          "2717.45",
          "2725.47",
          "2701.91",
          "2712.17",
          "2711.36",
          "2709.18",
          "2725.70",
          "2721.88",
          "2709.54",
          "2707.38",
          "2714.99",
          "2676.81",
          "2702.43",
          "2700.68",
          "2718.70",
          "2740.54",
          "2739.51",
          "2748.46",
          "2760.16",
          "2763.59",
          "2780.17",
          "2778.78",
          "2774.65",
          "2776.52",
          "2761.73",
          "2757.12",
          "2743.19",
          "2763.91",
          "2744.39",
          "2752.68",
          "2698.67",
          "2715.60",
          "2699.38",
          "2691.99",
          "2718.03",
          "2698.95",
          "2711.16",
          "2716.02",
          "2733.52",
          "2768.51",
          "2786.24",
          "2770.77",
          "2781.53",
          "2791.69",
          "2793.39",
          "2789.24",
          "2805.89",
          "2799.77",
          "2800.01",
          "2795.14",
          "2811.12",
          "2817.73",
          "2835.26",
          "2808.34",
          "2798.11",
          "2808.06",
          "2805.85",
          "2796.34",
          "2827.37",
          "2835.98",
          "2855.92",
          "2853.09",
          "2851.98",
          "2825.81",
          "2819.88",
          "2826.58",
          "2802.49",
          "2831.44",
          "2833.73",
          "2850.62",
          "2861.32",
          "2856.05",
          "2854.03",
          "2862.35",
          "2884.69",
          "2893.50",
          "2898.40",
          "2895.22",
          "2891.73",
          "2885.13",
          "2876.92",
          "2867.29",
          "2864.12",
          "2875.94",
          "2866.78",
          "2879.20",
          "2896.39",
          "2895.77",
          "2886.16",
          "2890.43",
          "2903.82",
          "2919.73",
          "2927.11",
          "2912.63",
          "2913.70",
          "2903.28",
          "2909.27",
          "2907.50",
          "2917.91",
          "2919.37",
          "2921.36",
          "2883.92",
          "2869.29",
          "2862.08",
          "2874.27",
          "2784.86",
          "2710.51",
          "2729.44",
          "2749.03",
          "2766.91",
          "2781.81",
          "2755.18",
          "2760.27",
          "2749.22",
          "2691.43",
          "2651.89",
          "2667.84",
          "2628.16",
          "2603.54",
          "2635.34",
          "2705.60",
          "2708.85",
          "2700.44",
          "2717.94",
          "2737.08",
          "2774.13",
          "2794.99",
          "2764.24",
          "2722.00",
          "2714.98",
          "2685.75",
          "2670.75",
          "2712.16",
          "2681.09",
          "2631.52",
          "2649.82",
          "2631.09",
          "2649.97",
          "2655.89",
          "2684.38",
          "2722.94",
          "2732.76",
          "2773.38",
          "2697.18",
          "2621.53",
          "2623.14",
          "2583.23",
          "2621.30",
          "2650.26",
          "2637.27",
          "2593.84",
          "2530.54",
          "2528.71",
          "2488.96",
          "2441.18",
          "2408.55",
          "2351.10",
          "2346.58",
          "2397.94",
          "2472.89",
          "2482.82"
         ],
         "name": "Price",
         "open": [
          "2683.73",
          "2697.85",
          "2719.31",
          "2731.33",
          "2742.67",
          "2751.15",
          "2745.55",
          "2752.97",
          "2770.18",
          "2798.96",
          "2784.99",
          "2802.40",
          "2802.60",
          "2809.16",
          "2835.05",
          "2845.42",
          "2846.24",
          "2847.48",
          "2867.23",
          "2832.74",
          "2832.41",
          "2816.45",
          "2808.92",
          "2741.06",
          "2614.78",
          "2690.95",
          "2685.01",
          "2601.78",
          "2636.75",
          "2646.27",
          "2651.21",
          "2713.46",
          "2727.14",
          "2722.99",
          "2720.53",
          "2710.42",
          "2715.80",
          "2757.37",
          "2780.45",
          "2753.78",
          "2715.22",
          "2658.89",
          "2681.06",
          "2730.18",
          "2710.18",
          "2732.75",
          "2752.91",
          "2790.54",
          "2792.31",
          "2774.06",
          "2754.27",
          "2750.57",
          "2741.38",
          "2715.05",
          "2714.99",
          "2691.36",
          "2646.71",
          "2619.35",
          "2667.57",
          "2611.30",
          "2614.41",
          "2633.45",
          "2592.17",
          "2584.04",
          "2657.36",
          "2645.82",
          "2617.18",
          "2638.41",
          "2643.89",
          "2653.83",
          "2676.90",
          "2670.10",
          "2692.74",
          "2710.11",
          "2701.16",
          "2692.56",
          "2675.40",
          "2680.80",
          "2634.92",
          "2651.65",
          "2675.47",
          "2675.05",
          "2643.64",
          "2654.24",
          "2628.08",
          "2621.45",
          "2669.36",
          "2670.26",
          "2678.12",
          "2705.02",
          "2722.70",
          "2733.37",
          "2718.59",
          "2712.62",
          "2719.71",
          "2717.35",
          "2725.95",
          "2738.34",
          "2713.98",
          "2730.94",
          "2723.60",
          "2705.11",
          "2702.43",
          "2720.98",
          "2718.70",
          "2741.67",
          "2748.46",
          "2753.25",
          "2774.84",
          "2765.84",
          "2780.18",
          "2785.60",
          "2787.94",
          "2783.21",
          "2777.78",
          "2765.79",
          "2752.01",
          "2769.73",
          "2769.28",
          "2760.79",
          "2742.94",
          "2722.12",
          "2728.45",
          "2698.69",
          "2727.13",
          "2704.95",
          "2733.27",
          "2724.19",
          "2737.68",
          "2768.51",
          "2788.56",
          "2779.82",
          "2783.14",
          "2796.93",
          "2801.43",
          "2789.34",
          "2811.35",
          "2809.37",
          "2804.55",
          "2799.17",
          "2820.68",
          "2817.73",
          "2835.49",
          "2842.35",
          "2819.00",
          "2809.73",
          "2821.17",
          "2800.48",
          "2829.62",
          "2840.29",
          "2855.92",
          "2856.79",
          "2857.19",
          "2839.64",
          "2835.46",
          "2827.88",
          "2827.95",
          "2831.44",
          "2838.32",
          "2853.93",
          "2861.51",
          "2860.99",
          "2860.29",
          "2862.35",
          "2884.69",
          "2901.45",
          "2900.62",
          "2908.94",
          "2898.37",
          "2896.96",
          "2891.59",
          "2888.64",
          "2868.26",
          "2881.39",
          "2871.57",
          "2888.29",
          "2896.85",
          "2906.38",
          "2903.83",
          "2890.74",
          "2906.60",
          "2919.73",
          "2936.76",
          "2921.83",
          "2921.75",
          "2916.98",
          "2911.65",
          "2910.03",
          "2926.29",
          "2923.80",
          "2931.69",
          "2919.35",
          "2902.54",
          "2877.53",
          "2882.51",
          "2873.90",
          "2776.87",
          "2770.54",
          "2763.83",
          "2767.05",
          "2811.67",
          "2802.00",
          "2775.66",
          "2773.94",
          "2721.03",
          "2737.87",
          "2674.88",
          "2667.86",
          "2682.65",
          "2640.68",
          "2705.60",
          "2717.58",
          "2745.45",
          "2726.37",
          "2738.40",
          "2774.13",
          "2806.38",
          "2794.10",
          "2773.93",
          "2730.05",
          "2737.90",
          "2693.52",
          "2718.54",
          "2730.74",
          "2654.60",
          "2657.74",
          "2633.36",
          "2649.97",
          "2663.75",
          "2691.45",
          "2736.97",
          "2737.76",
          "2790.50",
          "2782.43",
          "2663.51",
          "2691.26",
          "2630.86",
          "2664.44",
          "2658.23",
          "2658.70",
          "2629.68",
          "2590.75",
          "2559.90",
          "2547.05",
          "2496.77",
          "2465.38",
          "2400.56",
          "2363.12",
          "2442.50",
          "2498.77",
          "2498.94"
         ],
         "type": "candlestick",
         "x": [
          "2018-01-02T00:00:00",
          "2018-01-03T00:00:00",
          "2018-01-04T00:00:00",
          "2018-01-05T00:00:00",
          "2018-01-08T00:00:00",
          "2018-01-09T00:00:00",
          "2018-01-10T00:00:00",
          "2018-01-11T00:00:00",
          "2018-01-12T00:00:00",
          "2018-01-16T00:00:00",
          "2018-01-17T00:00:00",
          "2018-01-18T00:00:00",
          "2018-01-19T00:00:00",
          "2018-01-22T00:00:00",
          "2018-01-23T00:00:00",
          "2018-01-24T00:00:00",
          "2018-01-25T00:00:00",
          "2018-01-26T00:00:00",
          "2018-01-29T00:00:00",
          "2018-01-30T00:00:00",
          "2018-01-31T00:00:00",
          "2018-02-01T00:00:00",
          "2018-02-02T00:00:00",
          "2018-02-05T00:00:00",
          "2018-02-06T00:00:00",
          "2018-02-07T00:00:00",
          "2018-02-08T00:00:00",
          "2018-02-09T00:00:00",
          "2018-02-12T00:00:00",
          "2018-02-13T00:00:00",
          "2018-02-14T00:00:00",
          "2018-02-15T00:00:00",
          "2018-02-16T00:00:00",
          "2018-02-20T00:00:00",
          "2018-02-21T00:00:00",
          "2018-02-22T00:00:00",
          "2018-02-23T00:00:00",
          "2018-02-26T00:00:00",
          "2018-02-27T00:00:00",
          "2018-02-28T00:00:00",
          "2018-03-01T00:00:00",
          "2018-03-02T00:00:00",
          "2018-03-05T00:00:00",
          "2018-03-06T00:00:00",
          "2018-03-07T00:00:00",
          "2018-03-08T00:00:00",
          "2018-03-09T00:00:00",
          "2018-03-12T00:00:00",
          "2018-03-13T00:00:00",
          "2018-03-14T00:00:00",
          "2018-03-15T00:00:00",
          "2018-03-16T00:00:00",
          "2018-03-19T00:00:00",
          "2018-03-20T00:00:00",
          "2018-03-21T00:00:00",
          "2018-03-22T00:00:00",
          "2018-03-23T00:00:00",
          "2018-03-26T00:00:00",
          "2018-03-27T00:00:00",
          "2018-03-28T00:00:00",
          "2018-03-29T00:00:00",
          "2018-04-02T00:00:00",
          "2018-04-03T00:00:00",
          "2018-04-04T00:00:00",
          "2018-04-05T00:00:00",
          "2018-04-06T00:00:00",
          "2018-04-09T00:00:00",
          "2018-04-10T00:00:00",
          "2018-04-11T00:00:00",
          "2018-04-12T00:00:00",
          "2018-04-13T00:00:00",
          "2018-04-16T00:00:00",
          "2018-04-17T00:00:00",
          "2018-04-18T00:00:00",
          "2018-04-19T00:00:00",
          "2018-04-20T00:00:00",
          "2018-04-23T00:00:00",
          "2018-04-24T00:00:00",
          "2018-04-25T00:00:00",
          "2018-04-26T00:00:00",
          "2018-04-27T00:00:00",
          "2018-04-30T00:00:00",
          "2018-05-01T00:00:00",
          "2018-05-02T00:00:00",
          "2018-05-03T00:00:00",
          "2018-05-04T00:00:00",
          "2018-05-07T00:00:00",
          "2018-05-08T00:00:00",
          "2018-05-09T00:00:00",
          "2018-05-10T00:00:00",
          "2018-05-11T00:00:00",
          "2018-05-14T00:00:00",
          "2018-05-15T00:00:00",
          "2018-05-16T00:00:00",
          "2018-05-17T00:00:00",
          "2018-05-18T00:00:00",
          "2018-05-21T00:00:00",
          "2018-05-22T00:00:00",
          "2018-05-23T00:00:00",
          "2018-05-24T00:00:00",
          "2018-05-25T00:00:00",
          "2018-05-29T00:00:00",
          "2018-05-30T00:00:00",
          "2018-05-31T00:00:00",
          "2018-06-01T00:00:00",
          "2018-06-04T00:00:00",
          "2018-06-05T00:00:00",
          "2018-06-06T00:00:00",
          "2018-06-07T00:00:00",
          "2018-06-08T00:00:00",
          "2018-06-11T00:00:00",
          "2018-06-12T00:00:00",
          "2018-06-13T00:00:00",
          "2018-06-14T00:00:00",
          "2018-06-15T00:00:00",
          "2018-06-18T00:00:00",
          "2018-06-19T00:00:00",
          "2018-06-20T00:00:00",
          "2018-06-21T00:00:00",
          "2018-06-22T00:00:00",
          "2018-06-25T00:00:00",
          "2018-06-26T00:00:00",
          "2018-06-27T00:00:00",
          "2018-06-28T00:00:00",
          "2018-06-29T00:00:00",
          "2018-07-02T00:00:00",
          "2018-07-03T00:00:00",
          "2018-07-05T00:00:00",
          "2018-07-06T00:00:00",
          "2018-07-09T00:00:00",
          "2018-07-10T00:00:00",
          "2018-07-11T00:00:00",
          "2018-07-12T00:00:00",
          "2018-07-13T00:00:00",
          "2018-07-16T00:00:00",
          "2018-07-17T00:00:00",
          "2018-07-18T00:00:00",
          "2018-07-19T00:00:00",
          "2018-07-20T00:00:00",
          "2018-07-23T00:00:00",
          "2018-07-24T00:00:00",
          "2018-07-25T00:00:00",
          "2018-07-26T00:00:00",
          "2018-07-27T00:00:00",
          "2018-07-30T00:00:00",
          "2018-07-31T00:00:00",
          "2018-08-01T00:00:00",
          "2018-08-02T00:00:00",
          "2018-08-03T00:00:00",
          "2018-08-06T00:00:00",
          "2018-08-07T00:00:00",
          "2018-08-08T00:00:00",
          "2018-08-09T00:00:00",
          "2018-08-10T00:00:00",
          "2018-08-13T00:00:00",
          "2018-08-14T00:00:00",
          "2018-08-15T00:00:00",
          "2018-08-16T00:00:00",
          "2018-08-17T00:00:00",
          "2018-08-20T00:00:00",
          "2018-08-21T00:00:00",
          "2018-08-22T00:00:00",
          "2018-08-23T00:00:00",
          "2018-08-24T00:00:00",
          "2018-08-27T00:00:00",
          "2018-08-28T00:00:00",
          "2018-08-29T00:00:00",
          "2018-08-30T00:00:00",
          "2018-08-31T00:00:00",
          "2018-09-04T00:00:00",
          "2018-09-05T00:00:00",
          "2018-09-06T00:00:00",
          "2018-09-07T00:00:00",
          "2018-09-10T00:00:00",
          "2018-09-11T00:00:00",
          "2018-09-12T00:00:00",
          "2018-09-13T00:00:00",
          "2018-09-14T00:00:00",
          "2018-09-17T00:00:00",
          "2018-09-18T00:00:00",
          "2018-09-19T00:00:00",
          "2018-09-20T00:00:00",
          "2018-09-21T00:00:00",
          "2018-09-24T00:00:00",
          "2018-09-25T00:00:00",
          "2018-09-26T00:00:00",
          "2018-09-27T00:00:00",
          "2018-09-28T00:00:00",
          "2018-10-01T00:00:00",
          "2018-10-02T00:00:00",
          "2018-10-03T00:00:00",
          "2018-10-04T00:00:00",
          "2018-10-05T00:00:00",
          "2018-10-08T00:00:00",
          "2018-10-09T00:00:00",
          "2018-10-10T00:00:00",
          "2018-10-11T00:00:00",
          "2018-10-12T00:00:00",
          "2018-10-15T00:00:00",
          "2018-10-16T00:00:00",
          "2018-10-17T00:00:00",
          "2018-10-18T00:00:00",
          "2018-10-19T00:00:00",
          "2018-10-22T00:00:00",
          "2018-10-23T00:00:00",
          "2018-10-24T00:00:00",
          "2018-10-25T00:00:00",
          "2018-10-26T00:00:00",
          "2018-10-29T00:00:00",
          "2018-10-30T00:00:00",
          "2018-10-31T00:00:00",
          "2018-11-01T00:00:00",
          "2018-11-02T00:00:00",
          "2018-11-05T00:00:00",
          "2018-11-06T00:00:00",
          "2018-11-07T00:00:00",
          "2018-11-08T00:00:00",
          "2018-11-09T00:00:00",
          "2018-11-12T00:00:00",
          "2018-11-13T00:00:00",
          "2018-11-14T00:00:00",
          "2018-11-15T00:00:00",
          "2018-11-16T00:00:00",
          "2018-11-19T00:00:00",
          "2018-11-20T00:00:00",
          "2018-11-21T00:00:00",
          "2018-11-23T00:00:00",
          "2018-11-26T00:00:00",
          "2018-11-27T00:00:00",
          "2018-11-28T00:00:00",
          "2018-11-29T00:00:00",
          "2018-11-30T00:00:00",
          "2018-12-03T00:00:00",
          "2018-12-04T00:00:00",
          "2018-12-06T00:00:00",
          "2018-12-07T00:00:00",
          "2018-12-10T00:00:00",
          "2018-12-11T00:00:00",
          "2018-12-12T00:00:00",
          "2018-12-13T00:00:00",
          "2018-12-14T00:00:00",
          "2018-12-17T00:00:00",
          "2018-12-18T00:00:00",
          "2018-12-19T00:00:00",
          "2018-12-20T00:00:00",
          "2018-12-21T00:00:00",
          "2018-12-24T00:00:00",
          "2018-12-26T00:00:00",
          "2018-12-27T00:00:00",
          "2018-12-28T00:00:00",
          "2018-12-31T00:00:00"
         ]
        },
        {
         "fill": "toself",
         "line": {
          "color": "green"
         },
         "mode": "lines",
         "name": "Correct Direction",
         "type": "scatter",
         "x": [
          "2018-01-01T21:36:00",
          "2018-01-02T00:00:00",
          "2018-01-02T02:24:00",
          "2018-01-01T21:36:00"
         ],
         "y": [
          2763.118125,
          2830.34625,
          2763.118125,
          2763.118125
         ]
        },
        {
         "fill": "toself",
         "line": {
          "color": "green"
         },
         "mode": "lines",
         "showlegend": false,
         "type": "scatter",
         "x": [
          "2018-01-02T21:36:00",
          "2018-01-03T00:00:00",
          "2018-01-03T02:24:00",
          "2018-01-02T21:36:00"
         ],
         "y": [
          2781.598125,
          2848.82625,
          2781.598125,
          2781.598125
         ]
        },
        {
         "fill": "toself",
         "line": {
          "color": "green"
         },
         "mode": "lines",
         "showlegend": false,
         "type": "scatter",
         "x": [
          "2018-01-03T21:36:00",
          "2018-01-04T00:00:00",
          "2018-01-04T02:24:00",
          "2018-01-03T21:36:00"
         ],
         "y": [
          2796.518125,
          2863.74625,
          2796.518125,
          2796.518125
         ]
        },
        {
         "fill": "toself",
         "line": {
          "color": "green"
         },
         "mode": "lines",
         "showlegend": false,
         "type": "scatter",
         "x": [
          "2018-01-04T21:36:00",
          "2018-01-05T00:00:00",
          "2018-01-05T02:24:00",
          "2018-01-04T21:36:00"
         ],
         "y": [
          2810.678125,
          2877.90625,
          2810.678125,
          2810.678125
         ]
        },
        {
         "fill": "toself",
         "line": {
          "color": "red"
         },
         "mode": "lines",
         "name": "Incorrect Direction",
         "type": "scatter",
         "x": [
          "2018-01-07T21:36:00",
          "2018-01-08T00:00:00",
          "2018-01-08T02:24:00",
          "2018-01-07T21:36:00"
         ],
         "y": [
          2815.7381250000003,
          2882.9662500000004,
          2815.7381250000003,
          2815.7381250000003
         ]
        },
        {
         "fill": "toself",
         "line": {
          "color": "green"
         },
         "mode": "lines",
         "showlegend": false,
         "type": "scatter",
         "x": [
          "2018-01-08T21:36:00",
          "2018-01-09T00:00:00",
          "2018-01-09T02:24:00",
          "2018-01-08T21:36:00"
         ],
         "y": [
          2826.368125,
          2893.59625,
          2826.368125,
          2826.368125
         ]
        },
        {
         "fill": "toself",
         "line": {
          "color": "green"
         },
         "mode": "lines",
         "showlegend": false,
         "type": "scatter",
         "x": [
          "2018-01-09T21:36:00",
          "2018-01-10T00:00:00",
          "2018-01-10T02:24:00",
          "2018-01-09T21:36:00"
         ],
         "y": [
          2818.0281250000003,
          2885.2562500000004,
          2818.0281250000003,
          2818.0281250000003
         ]
        },
        {
         "fill": "toself",
         "line": {
          "color": "green"
         },
         "mode": "lines",
         "showlegend": false,
         "type": "scatter",
         "x": [
          "2018-01-10T21:36:00",
          "2018-01-11T00:00:00",
          "2018-01-11T02:24:00",
          "2018-01-10T21:36:00"
         ],
         "y": [
          2834.788125,
          2902.01625,
          2834.788125,
          2834.788125
         ]
        },
        {
         "fill": "toself",
         "line": {
          "color": "green"
         },
         "mode": "lines",
         "showlegend": false,
         "type": "scatter",
         "x": [
          "2018-01-11T21:36:00",
          "2018-01-12T00:00:00",
          "2018-01-12T02:24:00",
          "2018-01-11T21:36:00"
         ],
         "y": [
          2855.078125,
          2922.30625,
          2855.078125,
          2855.078125
         ]
        },
        {
         "fill": "toself",
         "line": {
          "color": "green"
         },
         "mode": "lines",
         "showlegend": false,
         "type": "scatter",
         "x": [
          "2018-01-15T21:36:00",
          "2018-01-16T00:00:00",
          "2018-01-16T02:24:00",
          "2018-01-15T21:36:00"
         ],
         "y": [
          2701.411875,
          2634.1837499999997,
          2701.411875,
          2701.411875
         ]
        },
        {
         "fill": "toself",
         "line": {
          "color": "green"
         },
         "mode": "lines",
         "showlegend": false,
         "type": "scatter",
         "x": [
          "2018-01-16T21:36:00",
          "2018-01-17T00:00:00",
          "2018-01-17T02:24:00",
          "2018-01-16T21:36:00"
         ],
         "y": [
          2874.268125,
          2941.49625,
          2874.268125,
          2874.268125
         ]
        },
        {
         "fill": "toself",
         "line": {
          "color": "red"
         },
         "mode": "lines",
         "showlegend": false,
         "type": "scatter",
         "x": [
          "2018-01-17T21:36:00",
          "2018-01-18T00:00:00",
          "2018-01-18T02:24:00",
          "2018-01-17T21:36:00"
         ],
         "y": [
          2873.058125,
          2940.28625,
          2873.058125,
          2873.058125
         ]
        },
        {
         "fill": "toself",
         "line": {
          "color": "red"
         },
         "mode": "lines",
         "showlegend": false,
         "type": "scatter",
         "x": [
          "2018-01-18T21:36:00",
          "2018-01-19T00:00:00",
          "2018-01-19T02:24:00",
          "2018-01-18T21:36:00"
         ],
         "y": [
          2730.851875,
          2663.6237499999997,
          2730.851875,
          2730.851875
         ]
        },
        {
         "fill": "toself",
         "line": {
          "color": "green"
         },
         "mode": "lines",
         "showlegend": false,
         "type": "scatter",
         "x": [
          "2018-01-21T21:36:00",
          "2018-01-22T00:00:00",
          "2018-01-22T02:24:00",
          "2018-01-21T21:36:00"
         ],
         "y": [
          2900.2581250000003,
          2967.4862500000004,
          2900.2581250000003,
          2900.2581250000003
         ]
        },
        {
         "fill": "toself",
         "line": {
          "color": "red"
         },
         "mode": "lines",
         "showlegend": false,
         "type": "scatter",
         "x": [
          "2018-01-22T21:36:00",
          "2018-01-23T00:00:00",
          "2018-01-23T02:24:00",
          "2018-01-22T21:36:00"
         ],
         "y": [
          2909.468125,
          2976.69625,
          2909.468125,
          2909.468125
         ]
        },
        {
         "fill": "toself",
         "line": {
          "color": "red"
         },
         "mode": "lines",
         "showlegend": false,
         "type": "scatter",
         "x": [
          "2018-01-23T21:36:00",
          "2018-01-24T00:00:00",
          "2018-01-24T02:24:00",
          "2018-01-23T21:36:00"
         ],
         "y": [
          2920.198125,
          2987.42625,
          2920.198125,
          2920.198125
         ]
        },
        {
         "fill": "toself",
         "line": {
          "color": "green"
         },
         "mode": "lines",
         "showlegend": false,
         "type": "scatter",
         "x": [
          "2018-01-24T21:36:00",
          "2018-01-25T00:00:00",
          "2018-01-25T02:24:00",
          "2018-01-24T21:36:00"
         ],
         "y": [
          2915.788125,
          2983.01625,
          2915.788125,
          2915.788125
         ]
        },
        {
         "fill": "toself",
         "line": {
          "color": "green"
         },
         "mode": "lines",
         "showlegend": false,
         "type": "scatter",
         "x": [
          "2018-01-25T21:36:00",
          "2018-01-26T00:00:00",
          "2018-01-26T02:24:00",
          "2018-01-25T21:36:00"
         ],
         "y": [
          2940.098125,
          3007.32625,
          2940.098125,
          2940.098125
         ]
        },
        {
         "fill": "toself",
         "line": {
          "color": "green"
         },
         "mode": "lines",
         "showlegend": false,
         "type": "scatter",
         "x": [
          "2018-01-28T21:36:00",
          "2018-01-29T00:00:00",
          "2018-01-29T02:24:00",
          "2018-01-28T21:36:00"
         ],
         "y": [
          2784.251875,
          2717.02375,
          2784.251875,
          2784.251875
         ]
        },
        {
         "fill": "toself",
         "line": {
          "color": "green"
         },
         "mode": "lines",
         "showlegend": false,
         "type": "scatter",
         "x": [
          "2018-01-29T21:36:00",
          "2018-01-30T00:00:00",
          "2018-01-30T02:24:00",
          "2018-01-29T21:36:00"
         ],
         "y": [
          2751.041875,
          2683.81375,
          2751.041875,
          2751.041875
         ]
        },
        {
         "fill": "toself",
         "line": {
          "color": "green"
         },
         "mode": "lines",
         "showlegend": false,
         "type": "scatter",
         "x": [
          "2018-01-30T21:36:00",
          "2018-01-31T00:00:00",
          "2018-01-31T02:24:00",
          "2018-01-30T21:36:00"
         ],
         "y": [
          2745.811875,
          2678.58375,
          2745.811875,
          2745.811875
         ]
        },
        {
         "fill": "toself",
         "line": {
          "color": "red"
         },
         "mode": "lines",
         "showlegend": false,
         "type": "scatter",
         "x": [
          "2018-01-31T21:36:00",
          "2018-02-01T00:00:00",
          "2018-02-01T02:24:00",
          "2018-01-31T21:36:00"
         ],
         "y": [
          2745.4718749999997,
          2678.2437499999996,
          2745.4718749999997,
          2745.4718749999997
         ]
        },
        {
         "fill": "toself",
         "line": {
          "color": "green"
         },
         "mode": "lines",
         "showlegend": false,
         "type": "scatter",
         "x": [
          "2018-02-01T21:36:00",
          "2018-02-02T00:00:00",
          "2018-02-02T02:24:00",
          "2018-02-01T21:36:00"
         ],
         "y": [
          2692.7418749999997,
          2625.5137499999996,
          2692.7418749999997,
          2692.7418749999997
         ]
        },
        {
         "fill": "toself",
         "line": {
          "color": "red"
         },
         "mode": "lines",
         "showlegend": false,
         "type": "scatter",
         "x": [
          "2018-02-04T21:36:00",
          "2018-02-05T00:00:00",
          "2018-02-05T02:24:00",
          "2018-02-04T21:36:00"
         ],
         "y": [
          2830.618125,
          2897.84625,
          2830.618125,
          2830.618125
         ]
        },
        {
         "fill": "toself",
         "line": {
          "color": "green"
         },
         "mode": "lines",
         "showlegend": false,
         "type": "scatter",
         "x": [
          "2018-02-05T21:36:00",
          "2018-02-06T00:00:00",
          "2018-02-06T02:24:00",
          "2018-02-05T21:36:00"
         ],
         "y": [
          2768.268125,
          2835.49625,
          2768.268125,
          2768.268125
         ]
        },
        {
         "fill": "toself",
         "line": {
          "color": "green"
         },
         "mode": "lines",
         "showlegend": false,
         "type": "scatter",
         "x": [
          "2018-02-06T21:36:00",
          "2018-02-07T00:00:00",
          "2018-02-07T02:24:00",
          "2018-02-06T21:36:00"
         ],
         "y": [
          2794.898125,
          2862.1262500000003,
          2794.898125,
          2794.898125
         ]
        },
        {
         "fill": "toself",
         "line": {
          "color": "green"
         },
         "mode": "lines",
         "showlegend": false,
         "type": "scatter",
         "x": [
          "2018-02-07T21:36:00",
          "2018-02-08T00:00:00",
          "2018-02-08T02:24:00",
          "2018-02-07T21:36:00"
         ],
         "y": [
          2513.331875,
          2446.1037499999998,
          2513.331875,
          2513.331875
         ]
        },
        {
         "fill": "toself",
         "line": {
          "color": "green"
         },
         "mode": "lines",
         "showlegend": false,
         "type": "scatter",
         "x": [
          "2018-02-08T21:36:00",
          "2018-02-09T00:00:00",
          "2018-02-09T02:24:00",
          "2018-02-08T21:36:00"
         ],
         "y": [
          2705.898125,
          2773.1262500000003,
          2705.898125,
          2705.898125
         ]
        },
        {
         "fill": "toself",
         "line": {
          "color": "red"
         },
         "mode": "lines",
         "showlegend": false,
         "type": "scatter",
         "x": [
          "2018-02-11T21:36:00",
          "2018-02-12T00:00:00",
          "2018-02-12T02:24:00",
          "2018-02-11T21:36:00"
         ],
         "y": [
          2555.2218749999997,
          2487.9937499999996,
          2555.2218749999997,
          2555.2218749999997
         ]
        },
        {
         "fill": "toself",
         "line": {
          "color": "red"
         },
         "mode": "lines",
         "showlegend": false,
         "type": "scatter",
         "x": [
          "2018-02-12T21:36:00",
          "2018-02-13T00:00:00",
          "2018-02-13T02:24:00",
          "2018-02-12T21:36:00"
         ],
         "y": [
          2569.851875,
          2502.6237499999997,
          2569.851875,
          2569.851875
         ]
        },
        {
         "fill": "toself",
         "line": {
          "color": "green"
         },
         "mode": "lines",
         "showlegend": false,
         "type": "scatter",
         "x": [
          "2018-02-13T21:36:00",
          "2018-02-14T00:00:00",
          "2018-02-14T02:24:00",
          "2018-02-13T21:36:00"
         ],
         "y": [
          2769.328125,
          2836.55625,
          2769.328125,
          2769.328125
         ]
        },
        {
         "fill": "toself",
         "line": {
          "color": "red"
         },
         "mode": "lines",
         "showlegend": false,
         "type": "scatter",
         "x": [
          "2018-02-14T21:36:00",
          "2018-02-15T00:00:00",
          "2018-02-15T02:24:00",
          "2018-02-14T21:36:00"
         ],
         "y": [
          2622.591875,
          2555.36375,
          2622.591875,
          2622.591875
         ]
        },
        {
         "fill": "toself",
         "line": {
          "color": "red"
         },
         "mode": "lines",
         "showlegend": false,
         "type": "scatter",
         "x": [
          "2018-02-15T21:36:00",
          "2018-02-16T00:00:00",
          "2018-02-16T02:24:00",
          "2018-02-15T21:36:00"
         ],
         "y": [
          2657.881875,
          2590.65375,
          2657.881875,
          2657.881875
         ]
        },
        {
         "fill": "toself",
         "line": {
          "color": "red"
         },
         "mode": "lines",
         "showlegend": false,
         "type": "scatter",
         "x": [
          "2018-02-19T21:36:00",
          "2018-02-20T00:00:00",
          "2018-02-20T02:24:00",
          "2018-02-19T21:36:00"
         ],
         "y": [
          2804.828125,
          2872.05625,
          2804.828125,
          2804.828125
         ]
        },
        {
         "fill": "toself",
         "line": {
          "color": "red"
         },
         "mode": "lines",
         "showlegend": false,
         "type": "scatter",
         "x": [
          "2018-02-20T21:36:00",
          "2018-02-21T00:00:00",
          "2018-02-21T02:24:00",
          "2018-02-20T21:36:00"
         ],
         "y": [
          2814.978125,
          2882.20625,
          2814.978125,
          2814.978125
         ]
        },
        {
         "fill": "toself",
         "line": {
          "color": "green"
         },
         "mode": "lines",
         "showlegend": false,
         "type": "scatter",
         "x": [
          "2018-02-21T21:36:00",
          "2018-02-22T00:00:00",
          "2018-02-22T02:24:00",
          "2018-02-21T21:36:00"
         ],
         "y": [
          2798.4881250000003,
          2865.7162500000004,
          2798.4881250000003,
          2798.4881250000003
         ]
        },
        {
         "fill": "toself",
         "line": {
          "color": "green"
         },
         "mode": "lines",
         "showlegend": false,
         "type": "scatter",
         "x": [
          "2018-02-22T21:36:00",
          "2018-02-23T00:00:00",
          "2018-02-23T02:24:00",
          "2018-02-22T21:36:00"
         ],
         "y": [
          2814.9881250000003,
          2882.2162500000004,
          2814.9881250000003,
          2814.9881250000003
         ]
        },
        {
         "fill": "toself",
         "line": {
          "color": "green"
         },
         "mode": "lines",
         "showlegend": false,
         "type": "scatter",
         "x": [
          "2018-02-25T21:36:00",
          "2018-02-26T00:00:00",
          "2018-02-26T02:24:00",
          "2018-02-25T21:36:00"
         ],
         "y": [
          2847.868125,
          2915.09625,
          2847.868125,
          2847.868125
         ]
        },
        {
         "fill": "toself",
         "line": {
          "color": "red"
         },
         "mode": "lines",
         "showlegend": false,
         "type": "scatter",
         "x": [
          "2018-02-26T21:36:00",
          "2018-02-27T00:00:00",
          "2018-02-27T02:24:00",
          "2018-02-26T21:36:00"
         ],
         "y": [
          2856.378125,
          2923.6062500000003,
          2856.378125,
          2856.378125
         ]
        },
        {
         "fill": "toself",
         "line": {
          "color": "green"
         },
         "mode": "lines",
         "showlegend": false,
         "type": "scatter",
         "x": [
          "2018-02-27T21:36:00",
          "2018-02-28T00:00:00",
          "2018-02-28T02:24:00",
          "2018-02-27T21:36:00"
         ],
         "y": [
          2646.311875,
          2579.08375,
          2646.311875,
          2646.311875
         ]
        },
        {
         "fill": "toself",
         "line": {
          "color": "red"
         },
         "mode": "lines",
         "showlegend": false,
         "type": "scatter",
         "x": [
          "2018-02-28T21:36:00",
          "2018-03-01T00:00:00",
          "2018-03-01T02:24:00",
          "2018-02-28T21:36:00"
         ],
         "y": [
          2798.118125,
          2865.34625,
          2798.118125,
          2798.118125
         ]
        },
        {
         "fill": "toself",
         "line": {
          "color": "green"
         },
         "mode": "lines",
         "showlegend": false,
         "type": "scatter",
         "x": [
          "2018-03-01T21:36:00",
          "2018-03-02T00:00:00",
          "2018-03-02T02:24:00",
          "2018-03-01T21:36:00"
         ],
         "y": [
          2763.478125,
          2830.70625,
          2763.478125,
          2763.478125
         ]
        },
        {
         "fill": "toself",
         "line": {
          "color": "green"
         },
         "mode": "lines",
         "showlegend": false,
         "type": "scatter",
         "x": [
          "2018-03-04T21:36:00",
          "2018-03-05T00:00:00",
          "2018-03-05T02:24:00",
          "2018-03-04T21:36:00"
         ],
         "y": [
          2795.3181250000002,
          2862.5462500000003,
          2795.3181250000002,
          2795.3181250000002
         ]
        },
        {
         "fill": "toself",
         "line": {
          "color": "green"
         },
         "mode": "lines",
         "showlegend": false,
         "type": "scatter",
         "x": [
          "2018-03-05T21:36:00",
          "2018-03-06T00:00:00",
          "2018-03-06T02:24:00",
          "2018-03-05T21:36:00"
         ],
         "y": [
          2644.031875,
          2576.80375,
          2644.031875,
          2644.031875
         ]
        },
        {
         "fill": "toself",
         "line": {
          "color": "green"
         },
         "mode": "lines",
         "showlegend": false,
         "type": "scatter",
         "x": [
          "2018-03-06T21:36:00",
          "2018-03-07T00:00:00",
          "2018-03-07T02:24:00",
          "2018-03-06T21:36:00"
         ],
         "y": [
          2797.828125,
          2865.05625,
          2797.828125,
          2797.828125
         ]
        },
        {
         "fill": "toself",
         "line": {
          "color": "green"
         },
         "mode": "lines",
         "showlegend": false,
         "type": "scatter",
         "x": [
          "2018-03-07T21:36:00",
          "2018-03-08T00:00:00",
          "2018-03-08T02:24:00",
          "2018-03-07T21:36:00"
         ],
         "y": [
          2807.678125,
          2874.90625,
          2807.678125,
          2807.678125
         ]
        },
        {
         "fill": "toself",
         "line": {
          "color": "green"
         },
         "mode": "lines",
         "showlegend": false,
         "type": "scatter",
         "x": [
          "2018-03-08T21:36:00",
          "2018-03-09T00:00:00",
          "2018-03-09T02:24:00",
          "2018-03-08T21:36:00"
         ],
         "y": [
          2853.7981250000003,
          2921.0262500000003,
          2853.7981250000003,
          2853.7981250000003
         ]
        },
        {
         "fill": "toself",
         "line": {
          "color": "red"
         },
         "mode": "lines",
         "showlegend": false,
         "type": "scatter",
         "x": [
          "2018-03-11T21:36:00",
          "2018-03-12T00:00:00",
          "2018-03-12T02:24:00",
          "2018-03-11T21:36:00"
         ],
         "y": [
          2864.208125,
          2931.43625,
          2864.208125,
          2864.208125
         ]
        },
        {
         "fill": "toself",
         "line": {
          "color": "red"
         },
         "mode": "lines",
         "showlegend": false,
         "type": "scatter",
         "x": [
          "2018-03-12T21:36:00",
          "2018-03-13T00:00:00",
          "2018-03-13T02:24:00",
          "2018-03-12T21:36:00"
         ],
         "y": [
          2869.128125,
          2936.3562500000003,
          2869.128125,
          2869.128125
         ]
        },
        {
         "fill": "toself",
         "line": {
          "color": "red"
         },
         "mode": "lines",
         "showlegend": false,
         "type": "scatter",
         "x": [
          "2018-03-13T21:36:00",
          "2018-03-14T00:00:00",
          "2018-03-14T02:24:00",
          "2018-03-13T21:36:00"
         ],
         "y": [
          2844.338125,
          2911.5662500000003,
          2844.338125,
          2844.338125
         ]
        },
        {
         "fill": "toself",
         "line": {
          "color": "green"
         },
         "mode": "lines",
         "showlegend": false,
         "type": "scatter",
         "x": [
          "2018-03-14T21:36:00",
          "2018-03-15T00:00:00",
          "2018-03-15T02:24:00",
          "2018-03-14T21:36:00"
         ],
         "y": [
          2830.2581250000003,
          2897.4862500000004,
          2830.2581250000003,
          2830.2581250000003
         ]
        },
        {
         "fill": "toself",
         "line": {
          "color": "green"
         },
         "mode": "lines",
         "showlegend": false,
         "type": "scatter",
         "x": [
          "2018-03-15T21:36:00",
          "2018-03-16T00:00:00",
          "2018-03-16T02:24:00",
          "2018-03-15T21:36:00"
         ],
         "y": [
          2829.078125,
          2896.30625,
          2829.078125,
          2829.078125
         ]
        },
        {
         "fill": "toself",
         "line": {
          "color": "green"
         },
         "mode": "lines",
         "showlegend": false,
         "type": "scatter",
         "x": [
          "2018-03-18T21:36:00",
          "2018-03-19T00:00:00",
          "2018-03-19T02:24:00",
          "2018-03-18T21:36:00"
         ],
         "y": [
          2627.361875,
          2560.13375,
          2627.361875,
          2627.361875
         ]
        },
        {
         "fill": "toself",
         "line": {
          "color": "red"
         },
         "mode": "lines",
         "showlegend": false,
         "type": "scatter",
         "x": [
          "2018-03-19T21:36:00",
          "2018-03-20T00:00:00",
          "2018-03-20T02:24:00",
          "2018-03-19T21:36:00"
         ],
         "y": [
          2642.821875,
          2575.59375,
          2642.821875,
          2642.821875
         ]
        },
        {
         "fill": "toself",
         "line": {
          "color": "red"
         },
         "mode": "lines",
         "showlegend": false,
         "type": "scatter",
         "x": [
          "2018-03-20T21:36:00",
          "2018-03-21T00:00:00",
          "2018-03-21T02:24:00",
          "2018-03-20T21:36:00"
         ],
         "y": [
          2806.368125,
          2873.59625,
          2806.368125,
          2806.368125
         ]
        },
        {
         "fill": "toself",
         "line": {
          "color": "red"
         },
         "mode": "lines",
         "showlegend": false,
         "type": "scatter",
         "x": [
          "2018-03-21T21:36:00",
          "2018-03-22T00:00:00",
          "2018-03-22T02:24:00",
          "2018-03-21T21:36:00"
         ],
         "y": [
          2762.908125,
          2830.13625,
          2762.908125,
          2762.908125
         ]
        },
        {
         "fill": "toself",
         "line": {
          "color": "green"
         },
         "mode": "lines",
         "showlegend": false,
         "type": "scatter",
         "x": [
          "2018-03-22T21:36:00",
          "2018-03-23T00:00:00",
          "2018-03-23T02:24:00",
          "2018-03-22T21:36:00"
         ],
         "y": [
          2518.661875,
          2451.4337499999997,
          2518.661875,
          2518.661875
         ]
        },
        {
         "fill": "toself",
         "line": {
          "color": "green"
         },
         "mode": "lines",
         "showlegend": false,
         "type": "scatter",
         "x": [
          "2018-03-25T21:36:00",
          "2018-03-26T00:00:00",
          "2018-03-26T02:24:00",
          "2018-03-25T21:36:00"
         ],
         "y": [
          2728.588125,
          2795.8162500000003,
          2728.588125,
          2728.588125
         ]
        },
        {
         "fill": "toself",
         "line": {
          "color": "green"
         },
         "mode": "lines",
         "showlegend": false,
         "type": "scatter",
         "x": [
          "2018-03-26T21:36:00",
          "2018-03-27T00:00:00",
          "2018-03-27T02:24:00",
          "2018-03-26T21:36:00"
         ],
         "y": [
          2528.891875,
          2461.6637499999997,
          2528.891875,
          2528.891875
         ]
        },
        {
         "fill": "toself",
         "line": {
          "color": "red"
         },
         "mode": "lines",
         "showlegend": false,
         "type": "scatter",
         "x": [
          "2018-03-27T21:36:00",
          "2018-03-28T00:00:00",
          "2018-03-28T02:24:00",
          "2018-03-27T21:36:00"
         ],
         "y": [
          2699.878125,
          2767.1062500000003,
          2699.878125,
          2699.878125
         ]
        },
        {
         "fill": "toself",
         "line": {
          "color": "red"
         },
         "mode": "lines",
         "showlegend": false,
         "type": "scatter",
         "x": [
          "2018-03-28T21:36:00",
          "2018-03-29T00:00:00",
          "2018-03-29T02:24:00",
          "2018-03-28T21:36:00"
         ],
         "y": [
          2542.4918749999997,
          2475.2637499999996,
          2542.4918749999997,
          2542.4918749999997
         ]
        },
        {
         "fill": "toself",
         "line": {
          "color": "green"
         },
         "mode": "lines",
         "showlegend": false,
         "type": "scatter",
         "x": [
          "2018-04-01T21:36:00",
          "2018-04-02T00:00:00",
          "2018-04-02T02:24:00",
          "2018-04-01T21:36:00"
         ],
         "y": [
          2486.571875,
          2419.34375,
          2486.571875,
          2486.571875
         ]
        },
        {
         "fill": "toself",
         "line": {
          "color": "green"
         },
         "mode": "lines",
         "showlegend": false,
         "type": "scatter",
         "x": [
          "2018-04-02T21:36:00",
          "2018-04-03T00:00:00",
          "2018-04-03T02:24:00",
          "2018-04-02T21:36:00"
         ],
         "y": [
          2686.368125,
          2753.59625,
          2686.368125,
          2686.368125
         ]
        },
        {
         "fill": "toself",
         "line": {
          "color": "red"
         },
         "mode": "lines",
         "showlegend": false,
         "type": "scatter",
         "x": [
          "2018-04-03T21:36:00",
          "2018-04-04T00:00:00",
          "2018-04-04T02:24:00",
          "2018-04-03T21:36:00"
         ],
         "y": [
          2506.381875,
          2439.15375,
          2506.381875,
          2506.381875
         ]
        },
        {
         "fill": "toself",
         "line": {
          "color": "red"
         },
         "mode": "lines",
         "showlegend": false,
         "type": "scatter",
         "x": [
          "2018-04-04T21:36:00",
          "2018-04-05T00:00:00",
          "2018-04-05T02:24:00",
          "2018-04-04T21:36:00"
         ],
         "y": [
          2582.351875,
          2515.1237499999997,
          2582.351875,
          2582.351875
         ]
        },
        {
         "fill": "toself",
         "line": {
          "color": "red"
         },
         "mode": "lines",
         "showlegend": false,
         "type": "scatter",
         "x": [
          "2018-04-05T21:36:00",
          "2018-04-06T00:00:00",
          "2018-04-06T02:24:00",
          "2018-04-05T21:36:00"
         ],
         "y": [
          2724.108125,
          2791.3362500000003,
          2724.108125,
          2724.108125
         ]
        },
        {
         "fill": "toself",
         "line": {
          "color": "red"
         },
         "mode": "lines",
         "showlegend": false,
         "type": "scatter",
         "x": [
          "2018-04-08T21:36:00",
          "2018-04-09T00:00:00",
          "2018-04-09T02:24:00",
          "2018-04-08T21:36:00"
         ],
         "y": [
          2720.7781250000003,
          2788.0062500000004,
          2720.7781250000003,
          2720.7781250000003
         ]
        },
        {
         "fill": "toself",
         "line": {
          "color": "red"
         },
         "mode": "lines",
         "showlegend": false,
         "type": "scatter",
         "x": [
          "2018-04-09T21:36:00",
          "2018-04-10T00:00:00",
          "2018-04-10T02:24:00",
          "2018-04-09T21:36:00"
         ],
         "y": [
          2568.551875,
          2501.32375,
          2568.551875,
          2568.551875
         ]
        },
        {
         "fill": "toself",
         "line": {
          "color": "green"
         },
         "mode": "lines",
         "showlegend": false,
         "type": "scatter",
         "x": [
          "2018-04-10T21:36:00",
          "2018-04-11T00:00:00",
          "2018-04-11T02:24:00",
          "2018-04-10T21:36:00"
         ],
         "y": [
          2572.021875,
          2504.79375,
          2572.021875,
          2572.021875
         ]
        },
        {
         "fill": "toself",
         "line": {
          "color": "green"
         },
         "mode": "lines",
         "showlegend": false,
         "type": "scatter",
         "x": [
          "2018-04-11T21:36:00",
          "2018-04-12T00:00:00",
          "2018-04-12T02:24:00",
          "2018-04-11T21:36:00"
         ],
         "y": [
          2741.948125,
          2809.17625,
          2741.948125,
          2741.948125
         ]
        },
        {
         "fill": "toself",
         "line": {
          "color": "red"
         },
         "mode": "lines",
         "showlegend": false,
         "type": "scatter",
         "x": [
          "2018-04-12T21:36:00",
          "2018-04-13T00:00:00",
          "2018-04-13T02:24:00",
          "2018-04-12T21:36:00"
         ],
         "y": [
          2747.4881250000003,
          2814.7162500000004,
          2747.4881250000003,
          2747.4881250000003
         ]
        },
        {
         "fill": "toself",
         "line": {
          "color": "green"
         },
         "mode": "lines",
         "showlegend": false,
         "type": "scatter",
         "x": [
          "2018-04-15T21:36:00",
          "2018-04-16T00:00:00",
          "2018-04-16T02:24:00",
          "2018-04-15T21:36:00"
         ],
         "y": [
          2753.718125,
          2820.94625,
          2753.718125,
          2753.718125
         ]
        },
        {
         "fill": "toself",
         "line": {
          "color": "green"
         },
         "mode": "lines",
         "showlegend": false,
         "type": "scatter",
         "x": [
          "2018-04-16T21:36:00",
          "2018-04-17T00:00:00",
          "2018-04-17T02:24:00",
          "2018-04-16T21:36:00"
         ],
         "y": [
          2780.5681250000002,
          2847.7962500000003,
          2780.5681250000002,
          2780.5681250000002
         ]
        },
        {
         "fill": "toself",
         "line": {
          "color": "red"
         },
         "mode": "lines",
         "showlegend": false,
         "type": "scatter",
         "x": [
          "2018-04-17T21:36:00",
          "2018-04-18T00:00:00",
          "2018-04-18T02:24:00",
          "2018-04-17T21:36:00"
         ],
         "y": [
          2784.718125,
          2851.94625,
          2784.718125,
          2784.718125
         ]
        },
        {
         "fill": "toself",
         "line": {
          "color": "red"
         },
         "mode": "lines",
         "showlegend": false,
         "type": "scatter",
         "x": [
          "2018-04-18T21:36:00",
          "2018-04-19T00:00:00",
          "2018-04-19T02:24:00",
          "2018-04-18T21:36:00"
         ],
         "y": [
          2770.0681250000002,
          2837.2962500000003,
          2770.0681250000002,
          2770.0681250000002
         ]
        },
        {
         "fill": "toself",
         "line": {
          "color": "red"
         },
         "mode": "lines",
         "showlegend": false,
         "type": "scatter",
         "x": [
          "2018-04-19T21:36:00",
          "2018-04-20T00:00:00",
          "2018-04-20T02:24:00",
          "2018-04-19T21:36:00"
         ],
         "y": [
          2761.168125,
          2828.3962500000002,
          2761.168125,
          2761.168125
         ]
        },
        {
         "fill": "toself",
         "line": {
          "color": "green"
         },
         "mode": "lines",
         "showlegend": false,
         "type": "scatter",
         "x": [
          "2018-04-22T21:36:00",
          "2018-04-23T00:00:00",
          "2018-04-23T02:24:00",
          "2018-04-22T21:36:00"
         ],
         "y": [
          2590.7618749999997,
          2523.5337499999996,
          2590.7618749999997,
          2590.7618749999997
         ]
        },
        {
         "fill": "toself",
         "line": {
          "color": "red"
         },
         "mode": "lines",
         "showlegend": false,
         "type": "scatter",
         "x": [
          "2018-04-23T21:36:00",
          "2018-04-24T00:00:00",
          "2018-04-24T02:24:00",
          "2018-04-23T21:36:00"
         ],
         "y": [
          2750.7781250000003,
          2818.0062500000004,
          2750.7781250000003,
          2750.7781250000003
         ]
        },
        {
         "fill": "toself",
         "line": {
          "color": "green"
         },
         "mode": "lines",
         "showlegend": false,
         "type": "scatter",
         "x": [
          "2018-04-24T21:36:00",
          "2018-04-25T00:00:00",
          "2018-04-25T02:24:00",
          "2018-04-24T21:36:00"
         ],
         "y": [
          2712.5281250000003,
          2779.7562500000004,
          2712.5281250000003,
          2712.5281250000003
         ]
        },
        {
         "fill": "toself",
         "line": {
          "color": "green"
         },
         "mode": "lines",
         "showlegend": false,
         "type": "scatter",
         "x": [
          "2018-04-25T21:36:00",
          "2018-04-26T00:00:00",
          "2018-04-26T02:24:00",
          "2018-04-25T21:36:00"
         ],
         "y": [
          2743.708125,
          2810.93625,
          2743.708125,
          2743.708125
         ]
        },
        {
         "fill": "toself",
         "line": {
          "color": "red"
         },
         "mode": "lines",
         "showlegend": false,
         "type": "scatter",
         "x": [
          "2018-04-26T21:36:00",
          "2018-04-27T00:00:00",
          "2018-04-27T02:24:00",
          "2018-04-26T21:36:00"
         ],
         "y": [
          2744.578125,
          2811.80625,
          2744.578125,
          2744.578125
         ]
        },
        {
         "fill": "toself",
         "line": {
          "color": "red"
         },
         "mode": "lines",
         "showlegend": false,
         "type": "scatter",
         "x": [
          "2018-04-29T21:36:00",
          "2018-04-30T00:00:00",
          "2018-04-30T02:24:00",
          "2018-04-29T21:36:00"
         ],
         "y": [
          2750.148125,
          2817.3762500000003,
          2750.148125,
          2750.148125
         ]
        },
        {
         "fill": "toself",
         "line": {
          "color": "green"
         },
         "mode": "lines",
         "showlegend": false,
         "type": "scatter",
         "x": [
          "2018-04-30T21:36:00",
          "2018-05-01T00:00:00",
          "2018-05-01T02:24:00",
          "2018-04-30T21:36:00"
         ],
         "y": [
          2558.1818749999998,
          2490.9537499999997,
          2558.1818749999998,
          2558.1818749999998
         ]
        },
        {
         "fill": "toself",
         "line": {
          "color": "green"
         },
         "mode": "lines",
         "showlegend": false,
         "type": "scatter",
         "x": [
          "2018-05-01T21:36:00",
          "2018-05-02T00:00:00",
          "2018-05-02T02:24:00",
          "2018-05-01T21:36:00"
         ],
         "y": [
          2564.4718749999997,
          2497.2437499999996,
          2564.4718749999997,
          2564.4718749999997
         ]
        },
        {
         "fill": "toself",
         "line": {
          "color": "green"
         },
         "mode": "lines",
         "showlegend": false,
         "type": "scatter",
         "x": [
          "2018-05-02T21:36:00",
          "2018-05-03T00:00:00",
          "2018-05-03T02:24:00",
          "2018-05-02T21:36:00"
         ],
         "y": [
          2704.368125,
          2771.59625,
          2704.368125,
          2704.368125
         ]
        },
        {
         "fill": "toself",
         "line": {
          "color": "red"
         },
         "mode": "lines",
         "showlegend": false,
         "type": "scatter",
         "x": [
          "2018-05-03T21:36:00",
          "2018-05-04T00:00:00",
          "2018-05-04T02:24:00",
          "2018-05-03T21:36:00"
         ],
         "y": [
          2548.091875,
          2480.86375,
          2548.091875,
          2548.091875
         ]
        },
        {
         "fill": "toself",
         "line": {
          "color": "red"
         },
         "mode": "lines",
         "showlegend": false,
         "type": "scatter",
         "x": [
          "2018-05-06T21:36:00",
          "2018-05-07T00:00:00",
          "2018-05-07T02:24:00",
          "2018-05-06T21:36:00"
         ],
         "y": [
          2597.4718749999997,
          2530.2437499999996,
          2597.4718749999997,
          2597.4718749999997
         ]
        },
        {
         "fill": "toself",
         "line": {
          "color": "green"
         },
         "mode": "lines",
         "showlegend": false,
         "type": "scatter",
         "x": [
          "2018-05-07T21:36:00",
          "2018-05-08T00:00:00",
          "2018-05-08T02:24:00",
          "2018-05-07T21:36:00"
         ],
         "y": [
          2743.5681250000002,
          2810.7962500000003,
          2743.5681250000002,
          2743.5681250000002
         ]
        },
        {
         "fill": "toself",
         "line": {
          "color": "green"
         },
         "mode": "lines",
         "showlegend": false,
         "type": "scatter",
         "x": [
          "2018-05-08T21:36:00",
          "2018-05-09T00:00:00",
          "2018-05-09T02:24:00",
          "2018-05-08T21:36:00"
         ],
         "y": [
          2768.498125,
          2835.72625,
          2768.498125,
          2768.498125
         ]
        },
        {
         "fill": "toself",
         "line": {
          "color": "green"
         },
         "mode": "lines",
         "showlegend": false,
         "type": "scatter",
         "x": [
          "2018-05-09T21:36:00",
          "2018-05-10T00:00:00",
          "2018-05-10T02:24:00",
          "2018-05-09T21:36:00"
         ],
         "y": [
          2793.338125,
          2860.5662500000003,
          2793.338125,
          2793.338125
         ]
        },
        {
         "fill": "toself",
         "line": {
          "color": "green"
         },
         "mode": "lines",
         "showlegend": false,
         "type": "scatter",
         "x": [
          "2018-05-10T21:36:00",
          "2018-05-11T00:00:00",
          "2018-05-11T02:24:00",
          "2018-05-10T21:36:00"
         ],
         "y": [
          2800.088125,
          2867.3162500000003,
          2800.088125,
          2800.088125
         ]
        },
        {
         "fill": "toself",
         "line": {
          "color": "green"
         },
         "mode": "lines",
         "showlegend": false,
         "type": "scatter",
         "x": [
          "2018-05-13T21:36:00",
          "2018-05-14T00:00:00",
          "2018-05-14T02:24:00",
          "2018-05-13T21:36:00"
         ],
         "y": [
          2809.328125,
          2876.55625,
          2809.328125,
          2809.328125
         ]
        },
        {
         "fill": "toself",
         "line": {
          "color": "red"
         },
         "mode": "lines",
         "showlegend": false,
         "type": "scatter",
         "x": [
          "2018-05-14T21:36:00",
          "2018-05-15T00:00:00",
          "2018-05-15T02:24:00",
          "2018-05-14T21:36:00"
         ],
         "y": [
          2785.8181250000002,
          2853.0462500000003,
          2785.8181250000002,
          2785.8181250000002
         ]
        },
        {
         "fill": "toself",
         "line": {
          "color": "green"
         },
         "mode": "lines",
         "showlegend": false,
         "type": "scatter",
         "x": [
          "2018-05-15T21:36:00",
          "2018-05-16T00:00:00",
          "2018-05-16T02:24:00",
          "2018-05-15T21:36:00"
         ],
         "y": [
          2794.9881250000003,
          2862.2162500000004,
          2794.9881250000003,
          2794.9881250000003
         ]
        },
        {
         "fill": "toself",
         "line": {
          "color": "green"
         },
         "mode": "lines",
         "showlegend": false,
         "type": "scatter",
         "x": [
          "2018-05-16T21:36:00",
          "2018-05-17T00:00:00",
          "2018-05-17T02:24:00",
          "2018-05-16T21:36:00"
         ],
         "y": [
          2644.131875,
          2576.90375,
          2644.131875,
          2644.131875
         ]
        },
        {
         "fill": "toself",
         "line": {
          "color": "green"
         },
         "mode": "lines",
         "showlegend": false,
         "type": "scatter",
         "x": [
          "2018-05-17T21:36:00",
          "2018-05-18T00:00:00",
          "2018-05-18T02:24:00",
          "2018-05-17T21:36:00"
         ],
         "y": [
          2786.728125,
          2853.95625,
          2786.728125,
          2786.728125
         ]
        },
        {
         "fill": "toself",
         "line": {
          "color": "green"
         },
         "mode": "lines",
         "showlegend": false,
         "type": "scatter",
         "x": [
          "2018-05-20T21:36:00",
          "2018-05-21T00:00:00",
          "2018-05-21T02:24:00",
          "2018-05-20T21:36:00"
         ],
         "y": [
          2806.418125,
          2873.6462500000002,
          2806.418125,
          2806.418125
         ]
        },
        {
         "fill": "toself",
         "line": {
          "color": "red"
         },
         "mode": "lines",
         "showlegend": false,
         "type": "scatter",
         "x": [
          "2018-05-21T21:36:00",
          "2018-05-22T00:00:00",
          "2018-05-22T02:24:00",
          "2018-05-21T21:36:00"
         ],
         "y": [
          2809.468125,
          2876.69625,
          2809.468125,
          2809.468125
         ]
        },
        {
         "fill": "toself",
         "line": {
          "color": "green"
         },
         "mode": "lines",
         "showlegend": false,
         "type": "scatter",
         "x": [
          "2018-05-22T21:36:00",
          "2018-05-23T00:00:00",
          "2018-05-23T02:24:00",
          "2018-05-22T21:36:00"
         ],
         "y": [
          2800.558125,
          2867.78625,
          2800.558125,
          2800.558125
         ]
        },
        {
         "fill": "toself",
         "line": {
          "color": "red"
         },
         "mode": "lines",
         "showlegend": false,
         "type": "scatter",
         "x": [
          "2018-05-23T21:36:00",
          "2018-05-24T00:00:00",
          "2018-05-24T02:24:00",
          "2018-05-23T21:36:00"
         ],
         "y": [
          2799.198125,
          2866.42625,
          2799.198125,
          2799.198125
         ]
        },
        {
         "fill": "toself",
         "line": {
          "color": "red"
         },
         "mode": "lines",
         "showlegend": false,
         "type": "scatter",
         "x": [
          "2018-05-24T21:36:00",
          "2018-05-25T00:00:00",
          "2018-05-25T02:24:00",
          "2018-05-24T21:36:00"
         ],
         "y": [
          2794.588125,
          2861.8162500000003,
          2794.588125,
          2794.588125
         ]
        },
        {
         "fill": "toself",
         "line": {
          "color": "red"
         },
         "mode": "lines",
         "showlegend": false,
         "type": "scatter",
         "x": [
          "2018-05-28T21:36:00",
          "2018-05-29T00:00:00",
          "2018-05-29T02:24:00",
          "2018-05-28T21:36:00"
         ],
         "y": [
          2777.898125,
          2845.1262500000003,
          2777.898125,
          2777.898125
         ]
        },
        {
         "fill": "toself",
         "line": {
          "color": "green"
         },
         "mode": "lines",
         "showlegend": false,
         "type": "scatter",
         "x": [
          "2018-05-29T21:36:00",
          "2018-05-30T00:00:00",
          "2018-05-30T02:24:00",
          "2018-05-29T21:36:00"
         ],
         "y": [
          2796.5681250000002,
          2863.7962500000003,
          2796.5681250000002,
          2796.5681250000002
         ]
        },
        {
         "fill": "toself",
         "line": {
          "color": "green"
         },
         "mode": "lines",
         "showlegend": false,
         "type": "scatter",
         "x": [
          "2018-05-30T21:36:00",
          "2018-05-31T00:00:00",
          "2018-05-31T02:24:00",
          "2018-05-30T21:36:00"
         ],
         "y": [
          2633.4518749999997,
          2566.2237499999997,
          2633.4518749999997,
          2633.4518749999997
         ]
        },
        {
         "fill": "toself",
         "line": {
          "color": "green"
         },
         "mode": "lines",
         "showlegend": false,
         "type": "scatter",
         "x": [
          "2018-05-31T21:36:00",
          "2018-06-01T00:00:00",
          "2018-06-01T02:24:00",
          "2018-05-31T21:36:00"
         ],
         "y": [
          2804.158125,
          2871.38625,
          2804.158125,
          2804.158125
         ]
        },
        {
         "fill": "toself",
         "line": {
          "color": "green"
         },
         "mode": "lines",
         "showlegend": false,
         "type": "scatter",
         "x": [
          "2018-06-03T21:36:00",
          "2018-06-04T00:00:00",
          "2018-06-04T02:24:00",
          "2018-06-03T21:36:00"
         ],
         "y": [
          2816.388125,
          2883.61625,
          2816.388125,
          2816.388125
         ]
        },
        {
         "fill": "toself",
         "line": {
          "color": "red"
         },
         "mode": "lines",
         "showlegend": false,
         "type": "scatter",
         "x": [
          "2018-06-04T21:36:00",
          "2018-06-05T00:00:00",
          "2018-06-05T02:24:00",
          "2018-06-04T21:36:00"
         ],
         "y": [
          2819.838125,
          2887.0662500000003,
          2819.838125,
          2819.838125
         ]
        },
        {
         "fill": "toself",
         "line": {
          "color": "green"
         },
         "mode": "lines",
         "showlegend": false,
         "type": "scatter",
         "x": [
          "2018-06-05T21:36:00",
          "2018-06-06T00:00:00",
          "2018-06-06T02:24:00",
          "2018-06-05T21:36:00"
         ],
         "y": [
          2839.618125,
          2906.84625,
          2839.618125,
          2839.618125
         ]
        },
        {
         "fill": "toself",
         "line": {
          "color": "green"
         },
         "mode": "lines",
         "showlegend": false,
         "type": "scatter",
         "x": [
          "2018-06-06T21:36:00",
          "2018-06-07T00:00:00",
          "2018-06-07T02:24:00",
          "2018-06-06T21:36:00"
         ],
         "y": [
          2847.128125,
          2914.3562500000003,
          2847.128125,
          2847.128125
         ]
        },
        {
         "fill": "toself",
         "line": {
          "color": "green"
         },
         "mode": "lines",
         "showlegend": false,
         "type": "scatter",
         "x": [
          "2018-06-07T21:36:00",
          "2018-06-08T00:00:00",
          "2018-06-08T02:24:00",
          "2018-06-07T21:36:00"
         ],
         "y": [
          2846.618125,
          2913.84625,
          2846.618125,
          2846.618125
         ]
        },
        {
         "fill": "toself",
         "line": {
          "color": "green"
         },
         "mode": "lines",
         "showlegend": false,
         "type": "scatter",
         "x": [
          "2018-06-10T21:36:00",
          "2018-06-11T00:00:00",
          "2018-06-11T02:24:00",
          "2018-06-10T21:36:00"
         ],
         "y": [
          2712.941875,
          2645.71375,
          2712.941875,
          2712.941875
         ]
        },
        {
         "fill": "toself",
         "line": {
          "color": "green"
         },
         "mode": "lines",
         "showlegend": false,
         "type": "scatter",
         "x": [
          "2018-06-11T21:36:00",
          "2018-06-12T00:00:00",
          "2018-06-12T02:24:00",
          "2018-06-11T21:36:00"
         ],
         "y": [
          2711.551875,
          2644.32375,
          2711.551875,
          2711.551875
         ]
        },
        {
         "fill": "toself",
         "line": {
          "color": "green"
         },
         "mode": "lines",
         "showlegend": false,
         "type": "scatter",
         "x": [
          "2018-06-12T21:36:00",
          "2018-06-13T00:00:00",
          "2018-06-13T02:24:00",
          "2018-06-12T21:36:00"
         ],
         "y": [
          2707.421875,
          2640.19375,
          2707.421875,
          2707.421875
         ]
        },
        {
         "fill": "toself",
         "line": {
          "color": "red"
         },
         "mode": "lines",
         "showlegend": false,
         "type": "scatter",
         "x": [
          "2018-06-13T21:36:00",
          "2018-06-14T00:00:00",
          "2018-06-14T02:24:00",
          "2018-06-13T21:36:00"
         ],
         "y": [
          2856.288125,
          2923.51625,
          2856.288125,
          2856.288125
         ]
        },
        {
         "fill": "toself",
         "line": {
          "color": "green"
         },
         "mode": "lines",
         "showlegend": false,
         "type": "scatter",
         "x": [
          "2018-06-14T21:36:00",
          "2018-06-15T00:00:00",
          "2018-06-15T02:24:00",
          "2018-06-14T21:36:00"
         ],
         "y": [
          2694.501875,
          2627.27375,
          2694.501875,
          2694.501875
         ]
        },
        {
         "fill": "toself",
         "line": {
          "color": "green"
         },
         "mode": "lines",
         "showlegend": false,
         "type": "scatter",
         "x": [
          "2018-06-17T21:36:00",
          "2018-06-18T00:00:00",
          "2018-06-18T02:24:00",
          "2018-06-17T21:36:00"
         ],
         "y": [
          2842.218125,
          2909.44625,
          2842.218125,
          2842.218125
         ]
        },
        {
         "fill": "toself",
         "line": {
          "color": "red"
         },
         "mode": "lines",
         "showlegend": false,
         "type": "scatter",
         "x": [
          "2018-06-18T21:36:00",
          "2018-06-19T00:00:00",
          "2018-06-19T02:24:00",
          "2018-06-18T21:36:00"
         ],
         "y": [
          2832.2781250000003,
          2899.5062500000004,
          2832.2781250000003,
          2832.2781250000003
         ]
        },
        {
         "fill": "toself",
         "line": {
          "color": "red"
         },
         "mode": "lines",
         "showlegend": false,
         "type": "scatter",
         "x": [
          "2018-06-19T21:36:00",
          "2018-06-20T00:00:00",
          "2018-06-20T02:24:00",
          "2018-06-19T21:36:00"
         ],
         "y": [
          2842.088125,
          2909.3162500000003,
          2842.088125,
          2842.088125
         ]
        },
        {
         "fill": "toself",
         "line": {
          "color": "green"
         },
         "mode": "lines",
         "showlegend": false,
         "type": "scatter",
         "x": [
          "2018-06-20T21:36:00",
          "2018-06-21T00:00:00",
          "2018-06-21T02:24:00",
          "2018-06-20T21:36:00"
         ],
         "y": [
          2677.161875,
          2609.9337499999997,
          2677.161875,
          2677.161875
         ]
        },
        {
         "fill": "toself",
         "line": {
          "color": "green"
         },
         "mode": "lines",
         "showlegend": false,
         "type": "scatter",
         "x": [
          "2018-06-21T21:36:00",
          "2018-06-22T00:00:00",
          "2018-06-22T02:24:00",
          "2018-06-21T21:36:00"
         ],
         "y": [
          2831.398125,
          2898.6262500000003,
          2831.398125,
          2831.398125
         ]
        },
        {
         "fill": "toself",
         "line": {
          "color": "green"
         },
         "mode": "lines",
         "showlegend": false,
         "type": "scatter",
         "x": [
          "2018-06-24T21:36:00",
          "2018-06-25T00:00:00",
          "2018-06-25T02:24:00",
          "2018-06-24T21:36:00"
         ],
         "y": [
          2631.441875,
          2564.21375,
          2631.441875,
          2631.441875
         ]
        },
        {
         "fill": "toself",
         "line": {
          "color": "red"
         },
         "mode": "lines",
         "showlegend": false,
         "type": "scatter",
         "x": [
          "2018-06-25T21:36:00",
          "2018-06-26T00:00:00",
          "2018-06-26T02:24:00",
          "2018-06-25T21:36:00"
         ],
         "y": [
          2648.371875,
          2581.1437499999997,
          2648.371875,
          2648.371875
         ]
        },
        {
         "fill": "toself",
         "line": {
          "color": "red"
         },
         "mode": "lines",
         "showlegend": false,
         "type": "scatter",
         "x": [
          "2018-06-26T21:36:00",
          "2018-06-27T00:00:00",
          "2018-06-27T02:24:00",
          "2018-06-26T21:36:00"
         ],
         "y": [
          2813.3181250000002,
          2880.5462500000003,
          2813.3181250000002,
          2813.3181250000002
         ]
        },
        {
         "fill": "toself",
         "line": {
          "color": "green"
         },
         "mode": "lines",
         "showlegend": false,
         "type": "scatter",
         "x": [
          "2018-06-27T21:36:00",
          "2018-06-28T00:00:00",
          "2018-06-28T02:24:00",
          "2018-06-27T21:36:00"
         ],
         "y": [
          2791.5681250000002,
          2858.7962500000003,
          2791.5681250000002,
          2791.5681250000002
         ]
        },
        {
         "fill": "toself",
         "line": {
          "color": "red"
         },
         "mode": "lines",
         "showlegend": false,
         "type": "scatter",
         "x": [
          "2018-06-28T21:36:00",
          "2018-06-29T00:00:00",
          "2018-06-29T02:24:00",
          "2018-06-28T21:36:00"
         ],
         "y": [
          2810.4881250000003,
          2877.7162500000004,
          2810.4881250000003,
          2810.4881250000003
         ]
        },
        {
         "fill": "toself",
         "line": {
          "color": "green"
         },
         "mode": "lines",
         "showlegend": false,
         "type": "scatter",
         "x": [
          "2018-07-01T21:36:00",
          "2018-07-02T00:00:00",
          "2018-07-02T02:24:00",
          "2018-07-01T21:36:00"
         ],
         "y": [
          2794.4881250000003,
          2861.7162500000004,
          2794.4881250000003,
          2794.4881250000003
         ]
        },
        {
         "fill": "toself",
         "line": {
          "color": "red"
         },
         "mode": "lines",
         "showlegend": false,
         "type": "scatter",
         "x": [
          "2018-07-02T21:36:00",
          "2018-07-03T00:00:00",
          "2018-07-03T02:24:00",
          "2018-07-02T21:36:00"
         ],
         "y": [
          2803.808125,
          2871.03625,
          2803.808125,
          2803.808125
         ]
        },
        {
         "fill": "toself",
         "line": {
          "color": "green"
         },
         "mode": "lines",
         "showlegend": false,
         "type": "scatter",
         "x": [
          "2018-07-04T21:36:00",
          "2018-07-05T00:00:00",
          "2018-07-05T02:24:00",
          "2018-07-04T21:36:00"
         ],
         "y": [
          2805.058125,
          2872.28625,
          2805.058125,
          2805.058125
         ]
        },
        {
         "fill": "toself",
         "line": {
          "color": "green"
         },
         "mode": "lines",
         "showlegend": false,
         "type": "scatter",
         "x": [
          "2018-07-05T21:36:00",
          "2018-07-06T00:00:00",
          "2018-07-06T02:24:00",
          "2018-07-05T21:36:00"
         ],
         "y": [
          2831.638125,
          2898.86625,
          2831.638125,
          2831.638125
         ]
        },
        {
         "fill": "toself",
         "line": {
          "color": "red"
         },
         "mode": "lines",
         "showlegend": false,
         "type": "scatter",
         "x": [
          "2018-07-08T21:36:00",
          "2018-07-09T00:00:00",
          "2018-07-09T02:24:00",
          "2018-07-08T21:36:00"
         ],
         "y": [
          2701.281875,
          2634.05375,
          2701.281875,
          2701.281875
         ]
        },
        {
         "fill": "toself",
         "line": {
          "color": "red"
         },
         "mode": "lines",
         "showlegend": false,
         "type": "scatter",
         "x": [
          "2018-07-09T21:36:00",
          "2018-07-10T00:00:00",
          "2018-07-10T02:24:00",
          "2018-07-09T21:36:00"
         ],
         "y": [
          2719.0118749999997,
          2651.7837499999996,
          2719.0118749999997,
          2719.0118749999997
         ]
        },
        {
         "fill": "toself",
         "line": {
          "color": "green"
         },
         "mode": "lines",
         "showlegend": false,
         "type": "scatter",
         "x": [
          "2018-07-10T21:36:00",
          "2018-07-11T00:00:00",
          "2018-07-11T02:24:00",
          "2018-07-10T21:36:00"
         ],
         "y": [
          2703.541875,
          2636.31375,
          2703.541875,
          2703.541875
         ]
        },
        {
         "fill": "toself",
         "line": {
          "color": "green"
         },
         "mode": "lines",
         "showlegend": false,
         "type": "scatter",
         "x": [
          "2018-07-11T21:36:00",
          "2018-07-12T00:00:00",
          "2018-07-12T02:24:00",
          "2018-07-11T21:36:00"
         ],
         "y": [
          2866.448125,
          2933.67625,
          2866.448125,
          2866.448125
         ]
        },
        {
         "fill": "toself",
         "line": {
          "color": "green"
         },
         "mode": "lines",
         "showlegend": false,
         "type": "scatter",
         "x": [
          "2018-07-12T21:36:00",
          "2018-07-13T00:00:00",
          "2018-07-13T02:24:00",
          "2018-07-12T21:36:00"
         ],
         "y": [
          2871.7581250000003,
          2938.9862500000004,
          2871.7581250000003,
          2871.7581250000003
         ]
        },
        {
         "fill": "toself",
         "line": {
          "color": "green"
         },
         "mode": "lines",
         "showlegend": false,
         "type": "scatter",
         "x": [
          "2018-07-15T21:36:00",
          "2018-07-16T00:00:00",
          "2018-07-16T02:24:00",
          "2018-07-15T21:36:00"
         ],
         "y": [
          2870.938125,
          2938.16625,
          2870.938125,
          2870.938125
         ]
        },
        {
         "fill": "toself",
         "line": {
          "color": "green"
         },
         "mode": "lines",
         "showlegend": false,
         "type": "scatter",
         "x": [
          "2018-07-16T21:36:00",
          "2018-07-17T00:00:00",
          "2018-07-17T02:24:00",
          "2018-07-16T21:36:00"
         ],
         "y": [
          2881.418125,
          2948.6462500000002,
          2881.418125,
          2881.418125
         ]
        },
        {
         "fill": "toself",
         "line": {
          "color": "green"
         },
         "mode": "lines",
         "showlegend": false,
         "type": "scatter",
         "x": [
          "2018-07-17T21:36:00",
          "2018-07-18T00:00:00",
          "2018-07-18T02:24:00",
          "2018-07-17T21:36:00"
         ],
         "y": [
          2883.9881250000003,
          2951.2162500000004,
          2883.9881250000003,
          2883.9881250000003
         ]
        },
        {
         "fill": "toself",
         "line": {
          "color": "red"
         },
         "mode": "lines",
         "showlegend": false,
         "type": "scatter",
         "x": [
          "2018-07-18T21:36:00",
          "2018-07-19T00:00:00",
          "2018-07-19T02:24:00",
          "2018-07-18T21:36:00"
         ],
         "y": [
          2879.2781250000003,
          2946.5062500000004,
          2879.2781250000003,
          2879.2781250000003
         ]
        },
        {
         "fill": "toself",
         "line": {
          "color": "green"
         },
         "mode": "lines",
         "showlegend": false,
         "type": "scatter",
         "x": [
          "2018-07-19T21:36:00",
          "2018-07-20T00:00:00",
          "2018-07-20T02:24:00",
          "2018-07-19T21:36:00"
         ],
         "y": [
          2876.928125,
          2944.15625,
          2876.928125,
          2876.928125
         ]
        },
        {
         "fill": "toself",
         "line": {
          "color": "green"
         },
         "mode": "lines",
         "showlegend": false,
         "type": "scatter",
         "x": [
          "2018-07-22T21:36:00",
          "2018-07-23T00:00:00",
          "2018-07-23T02:24:00",
          "2018-07-22T21:36:00"
         ],
         "y": [
          2875.838125,
          2943.0662500000003,
          2875.838125,
          2875.838125
         ]
        },
        {
         "fill": "toself",
         "line": {
          "color": "green"
         },
         "mode": "lines",
         "showlegend": false,
         "type": "scatter",
         "x": [
          "2018-07-23T21:36:00",
          "2018-07-24T00:00:00",
          "2018-07-24T02:24:00",
          "2018-07-23T21:36:00"
         ],
         "y": [
          2897.218125,
          2964.44625,
          2897.218125,
          2897.218125
         ]
        },
        {
         "fill": "toself",
         "line": {
          "color": "green"
         },
         "mode": "lines",
         "showlegend": false,
         "type": "scatter",
         "x": [
          "2018-07-24T21:36:00",
          "2018-07-25T00:00:00",
          "2018-07-25T02:24:00",
          "2018-07-24T21:36:00"
         ],
         "y": [
          2915.2581250000003,
          2982.4862500000004,
          2915.2581250000003,
          2915.2581250000003
         ]
        },
        {
         "fill": "toself",
         "line": {
          "color": "green"
         },
         "mode": "lines",
         "showlegend": false,
         "type": "scatter",
         "x": [
          "2018-07-25T21:36:00",
          "2018-07-26T00:00:00",
          "2018-07-26T02:24:00",
          "2018-07-25T21:36:00"
         ],
         "y": [
          2912.7981250000003,
          2980.0262500000003,
          2912.7981250000003,
          2912.7981250000003
         ]
        },
        {
         "fill": "toself",
         "line": {
          "color": "green"
         },
         "mode": "lines",
         "showlegend": false,
         "type": "scatter",
         "x": [
          "2018-07-26T21:36:00",
          "2018-07-27T00:00:00",
          "2018-07-27T02:24:00",
          "2018-07-26T21:36:00"
         ],
         "y": [
          2741.111875,
          2673.88375,
          2741.111875,
          2741.111875
         ]
        },
        {
         "fill": "toself",
         "line": {
          "color": "green"
         },
         "mode": "lines",
         "showlegend": false,
         "type": "scatter",
         "x": [
          "2018-07-29T21:36:00",
          "2018-07-30T00:00:00",
          "2018-07-30T02:24:00",
          "2018-07-29T21:36:00"
         ],
         "y": [
          2730.881875,
          2663.65375,
          2730.881875,
          2730.881875
         ]
        },
        {
         "fill": "toself",
         "line": {
          "color": "green"
         },
         "mode": "lines",
         "showlegend": false,
         "type": "scatter",
         "x": [
          "2018-07-30T21:36:00",
          "2018-07-31T00:00:00",
          "2018-07-31T02:24:00",
          "2018-07-30T21:36:00"
         ],
         "y": [
          2891.688125,
          2958.91625,
          2891.688125,
          2891.688125
         ]
        },
        {
         "fill": "toself",
         "line": {
          "color": "red"
         },
         "mode": "lines",
         "showlegend": false,
         "type": "scatter",
         "x": [
          "2018-07-31T21:36:00",
          "2018-08-01T00:00:00",
          "2018-08-01T02:24:00",
          "2018-07-31T21:36:00"
         ],
         "y": [
          2893.058125,
          2960.28625,
          2893.058125,
          2893.058125
         ]
        },
        {
         "fill": "toself",
         "line": {
          "color": "red"
         },
         "mode": "lines",
         "showlegend": false,
         "type": "scatter",
         "x": [
          "2018-08-01T21:36:00",
          "2018-08-02T00:00:00",
          "2018-08-02T02:24:00",
          "2018-08-01T21:36:00"
         ],
         "y": [
          2729.111875,
          2661.88375,
          2729.111875,
          2729.111875
         ]
        },
        {
         "fill": "toself",
         "line": {
          "color": "green"
         },
         "mode": "lines",
         "showlegend": false,
         "type": "scatter",
         "x": [
          "2018-08-02T21:36:00",
          "2018-08-03T00:00:00",
          "2018-08-03T02:24:00",
          "2018-08-02T21:36:00"
         ],
         "y": [
          2907.608125,
          2974.8362500000003,
          2907.608125,
          2907.608125
         ]
        },
        {
         "fill": "toself",
         "line": {
          "color": "red"
         },
         "mode": "lines",
         "showlegend": false,
         "type": "scatter",
         "x": [
          "2018-08-05T21:36:00",
          "2018-08-06T00:00:00",
          "2018-08-06T02:24:00",
          "2018-08-05T21:36:00"
         ],
         "y": [
          2768.751875,
          2701.52375,
          2768.751875,
          2768.751875
         ]
        },
        {
         "fill": "toself",
         "line": {
          "color": "green"
         },
         "mode": "lines",
         "showlegend": false,
         "type": "scatter",
         "x": [
          "2018-08-06T21:36:00",
          "2018-08-07T00:00:00",
          "2018-08-07T02:24:00",
          "2018-08-06T21:36:00"
         ],
         "y": [
          2930.658125,
          2997.88625,
          2930.658125,
          2930.658125
         ]
        },
        {
         "fill": "toself",
         "line": {
          "color": "green"
         },
         "mode": "lines",
         "showlegend": false,
         "type": "scatter",
         "x": [
          "2018-08-07T21:36:00",
          "2018-08-08T00:00:00",
          "2018-08-08T02:24:00",
          "2018-08-07T21:36:00"
         ],
         "y": [
          2785.861875,
          2718.63375,
          2785.861875,
          2785.861875
         ]
        },
        {
         "fill": "toself",
         "line": {
          "color": "red"
         },
         "mode": "lines",
         "showlegend": false,
         "type": "scatter",
         "x": [
          "2018-08-08T21:36:00",
          "2018-08-09T00:00:00",
          "2018-08-09T02:24:00",
          "2018-08-08T21:36:00"
         ],
         "y": [
          2929.708125,
          2996.93625,
          2929.708125,
          2929.708125
         ]
        },
        {
         "fill": "toself",
         "line": {
          "color": "red"
         },
         "mode": "lines",
         "showlegend": false,
         "type": "scatter",
         "x": [
          "2018-08-09T21:36:00",
          "2018-08-10T00:00:00",
          "2018-08-10T02:24:00",
          "2018-08-09T21:36:00"
         ],
         "y": [
          2909.428125,
          2976.65625,
          2909.428125,
          2909.428125
         ]
        },
        {
         "fill": "toself",
         "line": {
          "color": "red"
         },
         "mode": "lines",
         "showlegend": false,
         "type": "scatter",
         "x": [
          "2018-08-12T21:36:00",
          "2018-08-13T00:00:00",
          "2018-08-13T02:24:00",
          "2018-08-12T21:36:00"
         ],
         "y": [
          2910.628125,
          2977.8562500000003,
          2910.628125,
          2910.628125
         ]
        },
        {
         "fill": "toself",
         "line": {
          "color": "red"
         },
         "mode": "lines",
         "showlegend": false,
         "type": "scatter",
         "x": [
          "2018-08-13T21:36:00",
          "2018-08-14T00:00:00",
          "2018-08-14T02:24:00",
          "2018-08-13T21:36:00"
         ],
         "y": [
          2759.351875,
          2692.1237499999997,
          2759.351875,
          2759.351875
         ]
        },
        {
         "fill": "toself",
         "line": {
          "color": "green"
         },
         "mode": "lines",
         "showlegend": false,
         "type": "scatter",
         "x": [
          "2018-08-14T21:36:00",
          "2018-08-15T00:00:00",
          "2018-08-15T02:24:00",
          "2018-08-14T21:36:00"
         ],
         "y": [
          2735.2618749999997,
          2668.0337499999996,
          2735.2618749999997,
          2735.2618749999997
         ]
        },
        {
         "fill": "toself",
         "line": {
          "color": "red"
         },
         "mode": "lines",
         "showlegend": false,
         "type": "scatter",
         "x": [
          "2018-08-15T21:36:00",
          "2018-08-16T00:00:00",
          "2018-08-16T02:24:00",
          "2018-08-15T21:36:00"
         ],
         "y": [
          2764.211875,
          2696.98375,
          2764.211875,
          2764.211875
         ]
        },
        {
         "fill": "toself",
         "line": {
          "color": "green"
         },
         "mode": "lines",
         "showlegend": false,
         "type": "scatter",
         "x": [
          "2018-08-16T21:36:00",
          "2018-08-17T00:00:00",
          "2018-08-17T02:24:00",
          "2018-08-16T21:36:00"
         ],
         "y": [
          2922.858125,
          2990.0862500000003,
          2922.858125,
          2922.858125
         ]
        },
        {
         "fill": "toself",
         "line": {
          "color": "green"
         },
         "mode": "lines",
         "showlegend": false,
         "type": "scatter",
         "x": [
          "2018-08-19T21:36:00",
          "2018-08-20T00:00:00",
          "2018-08-20T02:24:00",
          "2018-08-19T21:36:00"
         ],
         "y": [
          2926.9881250000003,
          2994.2162500000004,
          2926.9881250000003,
          2926.9881250000003
         ]
        },
        {
         "fill": "toself",
         "line": {
          "color": "green"
         },
         "mode": "lines",
         "showlegend": false,
         "type": "scatter",
         "x": [
          "2018-08-20T21:36:00",
          "2018-08-21T00:00:00",
          "2018-08-21T02:24:00",
          "2018-08-20T21:36:00"
         ],
         "y": [
          2940.458125,
          3007.68625,
          2940.458125,
          2940.458125
         ]
        },
        {
         "fill": "toself",
         "line": {
          "color": "green"
         },
         "mode": "lines",
         "showlegend": false,
         "type": "scatter",
         "x": [
          "2018-08-21T21:36:00",
          "2018-08-22T00:00:00",
          "2018-08-22T02:24:00",
          "2018-08-21T21:36:00"
         ],
         "y": [
          2788.821875,
          2721.59375,
          2788.821875,
          2788.821875
         ]
        },
        {
         "fill": "toself",
         "line": {
          "color": "green"
         },
         "mode": "lines",
         "showlegend": false,
         "type": "scatter",
         "x": [
          "2018-08-22T21:36:00",
          "2018-08-23T00:00:00",
          "2018-08-23T02:24:00",
          "2018-08-22T21:36:00"
         ],
         "y": [
          2786.801875,
          2719.57375,
          2786.801875,
          2786.801875
         ]
        },
        {
         "fill": "toself",
         "line": {
          "color": "green"
         },
         "mode": "lines",
         "showlegend": false,
         "type": "scatter",
         "x": [
          "2018-08-23T21:36:00",
          "2018-08-24T00:00:00",
          "2018-08-24T02:24:00",
          "2018-08-23T21:36:00"
         ],
         "y": [
          2943.388125,
          3010.61625,
          2943.388125,
          2943.388125
         ]
        },
        {
         "fill": "toself",
         "line": {
          "color": "red"
         },
         "mode": "lines",
         "showlegend": false,
         "type": "scatter",
         "x": [
          "2018-08-26T21:36:00",
          "2018-08-27T00:00:00",
          "2018-08-27T02:24:00",
          "2018-08-26T21:36:00"
         ],
         "y": [
          2817.461875,
          2750.23375,
          2817.461875,
          2817.461875
         ]
        },
        {
         "fill": "toself",
         "line": {
          "color": "green"
         },
         "mode": "lines",
         "showlegend": false,
         "type": "scatter",
         "x": [
          "2018-08-27T21:36:00",
          "2018-08-28T00:00:00",
          "2018-08-28T02:24:00",
          "2018-08-27T21:36:00"
         ],
         "y": [
          2826.271875,
          2759.04375,
          2826.271875,
          2826.271875
         ]
        },
        {
         "fill": "toself",
         "line": {
          "color": "green"
         },
         "mode": "lines",
         "showlegend": false,
         "type": "scatter",
         "x": [
          "2018-08-28T21:36:00",
          "2018-08-29T00:00:00",
          "2018-08-29T02:24:00",
          "2018-08-28T21:36:00"
         ],
         "y": [
          2983.728125,
          3050.95625,
          2983.728125,
          2983.728125
         ]
        },
        {
         "fill": "toself",
         "line": {
          "color": "red"
         },
         "mode": "lines",
         "showlegend": false,
         "type": "scatter",
         "x": [
          "2018-08-29T21:36:00",
          "2018-08-30T00:00:00",
          "2018-08-30T02:24:00",
          "2018-08-29T21:36:00"
         ],
         "y": [
          2979.688125,
          3046.91625,
          2979.688125,
          2979.688125
         ]
        },
        {
         "fill": "toself",
         "line": {
          "color": "green"
         },
         "mode": "lines",
         "showlegend": false,
         "type": "scatter",
         "x": [
          "2018-08-30T21:36:00",
          "2018-08-31T00:00:00",
          "2018-08-31T02:24:00",
          "2018-08-30T21:36:00"
         ],
         "y": [
          2824.501875,
          2757.27375,
          2824.501875,
          2824.501875
         ]
        },
        {
         "fill": "toself",
         "line": {
          "color": "green"
         },
         "mode": "lines",
         "showlegend": false,
         "type": "scatter",
         "x": [
          "2018-09-03T21:36:00",
          "2018-09-04T00:00:00",
          "2018-09-04T02:24:00",
          "2018-09-03T21:36:00"
         ],
         "y": [
          2967.408125,
          3034.63625,
          2967.408125,
          2967.408125
         ]
        },
        {
         "fill": "toself",
         "line": {
          "color": "red"
         },
         "mode": "lines",
         "showlegend": false,
         "type": "scatter",
         "x": [
          "2018-09-04T21:36:00",
          "2018-09-05T00:00:00",
          "2018-09-05T02:24:00",
          "2018-09-04T21:36:00"
         ],
         "y": [
          2809.691875,
          2742.46375,
          2809.691875,
          2809.691875
         ]
        },
        {
         "fill": "toself",
         "line": {
          "color": "green"
         },
         "mode": "lines",
         "showlegend": false,
         "type": "scatter",
         "x": [
          "2018-09-05T21:36:00",
          "2018-09-06T00:00:00",
          "2018-09-06T02:24:00",
          "2018-09-05T21:36:00"
         ],
         "y": [
          2959.2781250000003,
          3026.5062500000004,
          2959.2781250000003,
          2959.2781250000003
         ]
        },
        {
         "fill": "toself",
         "line": {
          "color": "red"
         },
         "mode": "lines",
         "showlegend": false,
         "type": "scatter",
         "x": [
          "2018-09-06T21:36:00",
          "2018-09-07T00:00:00",
          "2018-09-07T02:24:00",
          "2018-09-06T21:36:00"
         ],
         "y": [
          2951.038125,
          3018.26625,
          2951.038125,
          2951.038125
         ]
        },
        {
         "fill": "toself",
         "line": {
          "color": "green"
         },
         "mode": "lines",
         "showlegend": false,
         "type": "scatter",
         "x": [
          "2018-09-09T21:36:00",
          "2018-09-10T00:00:00",
          "2018-09-10T02:24:00",
          "2018-09-09T21:36:00"
         ],
         "y": [
          2808.711875,
          2741.48375,
          2808.711875,
          2808.711875
         ]
        },
        {
         "fill": "toself",
         "line": {
          "color": "red"
         },
         "mode": "lines",
         "showlegend": false,
         "type": "scatter",
         "x": [
          "2018-09-10T21:36:00",
          "2018-09-11T00:00:00",
          "2018-09-11T02:24:00",
          "2018-09-10T21:36:00"
         ],
         "y": [
          2799.551875,
          2732.32375,
          2799.551875,
          2799.551875
         ]
        },
        {
         "fill": "toself",
         "line": {
          "color": "red"
         },
         "mode": "lines",
         "showlegend": false,
         "type": "scatter",
         "x": [
          "2018-09-11T21:36:00",
          "2018-09-12T00:00:00",
          "2018-09-12T02:24:00",
          "2018-09-11T21:36:00"
         ],
         "y": [
          2811.9718749999997,
          2744.7437499999996,
          2811.9718749999997,
          2811.9718749999997
         ]
        },
        {
         "fill": "toself",
         "line": {
          "color": "red"
         },
         "mode": "lines",
         "showlegend": false,
         "type": "scatter",
         "x": [
          "2018-09-12T21:36:00",
          "2018-09-13T00:00:00",
          "2018-09-13T02:24:00",
          "2018-09-12T21:36:00"
         ],
         "y": [
          2829.161875,
          2761.9337499999997,
          2829.161875,
          2829.161875
         ]
        },
        {
         "fill": "toself",
         "line": {
          "color": "green"
         },
         "mode": "lines",
         "showlegend": false,
         "type": "scatter",
         "x": [
          "2018-09-13T21:36:00",
          "2018-09-14T00:00:00",
          "2018-09-14T02:24:00",
          "2018-09-13T21:36:00"
         ],
         "y": [
          2828.541875,
          2761.31375,
          2828.541875,
          2828.541875
         ]
        },
        {
         "fill": "toself",
         "line": {
          "color": "red"
         },
         "mode": "lines",
         "showlegend": false,
         "type": "scatter",
         "x": [
          "2018-09-16T21:36:00",
          "2018-09-17T00:00:00",
          "2018-09-17T02:24:00",
          "2018-09-16T21:36:00"
         ],
         "y": [
          2971.878125,
          3039.1062500000003,
          2971.878125,
          2971.878125
         ]
        },
        {
         "fill": "toself",
         "line": {
          "color": "green"
         },
         "mode": "lines",
         "showlegend": false,
         "type": "scatter",
         "x": [
          "2018-09-17T21:36:00",
          "2018-09-18T00:00:00",
          "2018-09-18T02:24:00",
          "2018-09-17T21:36:00"
         ],
         "y": [
          2978.398125,
          3045.6262500000003,
          2978.398125,
          2978.398125
         ]
        },
        {
         "fill": "toself",
         "line": {
          "color": "green"
         },
         "mode": "lines",
         "showlegend": false,
         "type": "scatter",
         "x": [
          "2018-09-18T21:36:00",
          "2018-09-19T00:00:00",
          "2018-09-19T02:24:00",
          "2018-09-18T21:36:00"
         ],
         "y": [
          2979.588125,
          3046.8162500000003,
          2979.588125,
          2979.588125
         ]
        },
        {
         "fill": "toself",
         "line": {
          "color": "red"
         },
         "mode": "lines",
         "showlegend": false,
         "type": "scatter",
         "x": [
          "2018-09-19T21:36:00",
          "2018-09-20T00:00:00",
          "2018-09-20T02:24:00",
          "2018-09-19T21:36:00"
         ],
         "y": [
          2852.501875,
          2785.27375,
          2852.501875,
          2852.501875
         ]
        },
        {
         "fill": "toself",
         "line": {
          "color": "red"
         },
         "mode": "lines",
         "showlegend": false,
         "type": "scatter",
         "x": [
          "2018-09-20T21:36:00",
          "2018-09-21T00:00:00",
          "2018-09-21T02:24:00",
          "2018-09-20T21:36:00"
         ],
         "y": [
          2859.881875,
          2792.65375,
          2859.881875,
          2859.881875
         ]
        },
        {
         "fill": "toself",
         "line": {
          "color": "red"
         },
         "mode": "lines",
         "showlegend": false,
         "type": "scatter",
         "x": [
          "2018-09-23T21:36:00",
          "2018-09-24T00:00:00",
          "2018-09-24T02:24:00",
          "2018-09-23T21:36:00"
         ],
         "y": [
          2991.018125,
          3058.24625,
          2991.018125,
          2991.018125
         ]
        },
        {
         "fill": "toself",
         "line": {
          "color": "red"
         },
         "mode": "lines",
         "showlegend": false,
         "type": "scatter",
         "x": [
          "2018-09-24T21:36:00",
          "2018-09-25T00:00:00",
          "2018-09-25T02:24:00",
          "2018-09-24T21:36:00"
         ],
         "y": [
          2991.178125,
          3058.40625,
          2991.178125,
          2991.178125
         ]
        },
        {
         "fill": "toself",
         "line": {
          "color": "green"
         },
         "mode": "lines",
         "showlegend": false,
         "type": "scatter",
         "x": [
          "2018-09-25T21:36:00",
          "2018-09-26T00:00:00",
          "2018-09-26T02:24:00",
          "2018-09-25T21:36:00"
         ],
         "y": [
          2836.051875,
          2768.82375,
          2836.051875,
          2836.051875
         ]
        },
        {
         "fill": "toself",
         "line": {
          "color": "green"
         },
         "mode": "lines",
         "showlegend": false,
         "type": "scatter",
         "x": [
          "2018-09-26T21:36:00",
          "2018-09-27T00:00:00",
          "2018-09-27T02:24:00",
          "2018-09-26T21:36:00"
         ],
         "y": [
          2994.448125,
          3061.67625,
          2994.448125,
          2994.448125
         ]
        },
        {
         "fill": "toself",
         "line": {
          "color": "green"
         },
         "mode": "lines",
         "showlegend": false,
         "type": "scatter",
         "x": [
          "2018-09-27T21:36:00",
          "2018-09-28T00:00:00",
          "2018-09-28T02:24:00",
          "2018-09-27T21:36:00"
         ],
         "y": [
          2987.7581250000003,
          3054.9862500000004,
          2987.7581250000003,
          2987.7581250000003
         ]
        },
        {
         "fill": "toself",
         "line": {
          "color": "green"
         },
         "mode": "lines",
         "showlegend": false,
         "type": "scatter",
         "x": [
          "2018-09-30T21:36:00",
          "2018-10-01T00:00:00",
          "2018-10-01T02:24:00",
          "2018-09-30T21:36:00"
         ],
         "y": [
          3004.288125,
          3071.51625,
          3004.288125,
          3004.288125
         ]
        },
        {
         "fill": "toself",
         "line": {
          "color": "green"
         },
         "mode": "lines",
         "showlegend": false,
         "type": "scatter",
         "x": [
          "2018-10-01T21:36:00",
          "2018-10-02T00:00:00",
          "2018-10-02T02:24:00",
          "2018-10-01T21:36:00"
         ],
         "y": [
          2998.648125,
          3065.8762500000003,
          2998.648125,
          2998.648125
         ]
        },
        {
         "fill": "toself",
         "line": {
          "color": "green"
         },
         "mode": "lines",
         "showlegend": false,
         "type": "scatter",
         "x": [
          "2018-10-02T21:36:00",
          "2018-10-03T00:00:00",
          "2018-10-03T02:24:00",
          "2018-10-02T21:36:00"
         ],
         "y": [
          2854.131875,
          2786.90375,
          2854.131875,
          2854.131875
         ]
        },
        {
         "fill": "toself",
         "line": {
          "color": "green"
         },
         "mode": "lines",
         "showlegend": false,
         "type": "scatter",
         "x": [
          "2018-10-03T21:36:00",
          "2018-10-04T00:00:00",
          "2018-10-04T02:24:00",
          "2018-10-03T21:36:00"
         ],
         "y": [
          2816.691875,
          2749.46375,
          2816.691875,
          2816.691875
         ]
        },
        {
         "fill": "toself",
         "line": {
          "color": "red"
         },
         "mode": "lines",
         "showlegend": false,
         "type": "scatter",
         "x": [
          "2018-10-04T21:36:00",
          "2018-10-05T00:00:00",
          "2018-10-05T02:24:00",
          "2018-10-04T21:36:00"
         ],
         "y": [
          2976.868125,
          3044.09625,
          2976.868125,
          2976.868125
         ]
        },
        {
         "fill": "toself",
         "line": {
          "color": "green"
         },
         "mode": "lines",
         "showlegend": false,
         "type": "scatter",
         "x": [
          "2018-10-07T21:36:00",
          "2018-10-08T00:00:00",
          "2018-10-08T02:24:00",
          "2018-10-07T21:36:00"
         ],
         "y": [
          2956.678125,
          3023.90625,
          2956.678125,
          2956.678125
         ]
        },
        {
         "fill": "toself",
         "line": {
          "color": "red"
         },
         "mode": "lines",
         "showlegend": false,
         "type": "scatter",
         "x": [
          "2018-10-08T21:36:00",
          "2018-10-09T00:00:00",
          "2018-10-09T02:24:00",
          "2018-10-08T21:36:00"
         ],
         "y": [
          2962.058125,
          3029.28625,
          2962.058125,
          2962.058125
         ]
        },
        {
         "fill": "toself",
         "line": {
          "color": "green"
         },
         "mode": "lines",
         "showlegend": false,
         "type": "scatter",
         "x": [
          "2018-10-09T21:36:00",
          "2018-10-10T00:00:00",
          "2018-10-10T02:24:00",
          "2018-10-09T21:36:00"
         ],
         "y": [
          2717.631875,
          2650.40375,
          2717.631875,
          2717.631875
         ]
        },
        {
         "fill": "toself",
         "line": {
          "color": "red"
         },
         "mode": "lines",
         "showlegend": false,
         "type": "scatter",
         "x": [
          "2018-10-10T21:36:00",
          "2018-10-11T00:00:00",
          "2018-10-11T02:24:00",
          "2018-10-10T21:36:00"
         ],
         "y": [
          2862.368125,
          2929.59625,
          2862.368125,
          2862.368125
         ]
        },
        {
         "fill": "toself",
         "line": {
          "color": "red"
         },
         "mode": "lines",
         "showlegend": false,
         "type": "scatter",
         "x": [
          "2018-10-11T21:36:00",
          "2018-10-12T00:00:00",
          "2018-10-12T02:24:00",
          "2018-10-11T21:36:00"
         ],
         "y": [
          2842.998125,
          2910.22625,
          2842.998125,
          2842.998125
         ]
        },
        {
         "fill": "toself",
         "line": {
          "color": "green"
         },
         "mode": "lines",
         "showlegend": false,
         "type": "scatter",
         "x": [
          "2018-10-14T21:36:00",
          "2018-10-15T00:00:00",
          "2018-10-15T02:24:00",
          "2018-10-14T21:36:00"
         ],
         "y": [
          2681.801875,
          2614.57375,
          2681.801875,
          2681.801875
         ]
        },
        {
         "fill": "toself",
         "line": {
          "color": "green"
         },
         "mode": "lines",
         "showlegend": false,
         "type": "scatter",
         "x": [
          "2018-10-15T21:36:00",
          "2018-10-16T00:00:00",
          "2018-10-16T02:24:00",
          "2018-10-15T21:36:00"
         ],
         "y": [
          2880.688125,
          2947.91625,
          2880.688125,
          2880.688125
         ]
        },
        {
         "fill": "toself",
         "line": {
          "color": "green"
         },
         "mode": "lines",
         "showlegend": false,
         "type": "scatter",
         "x": [
          "2018-10-16T21:36:00",
          "2018-10-17T00:00:00",
          "2018-10-17T02:24:00",
          "2018-10-16T21:36:00"
         ],
         "y": [
          2884.168125,
          2951.3962500000002,
          2884.168125,
          2884.168125
         ]
        },
        {
         "fill": "toself",
         "line": {
          "color": "green"
         },
         "mode": "lines",
         "showlegend": false,
         "type": "scatter",
         "x": [
          "2018-10-17T21:36:00",
          "2018-10-18T00:00:00",
          "2018-10-18T02:24:00",
          "2018-10-17T21:36:00"
         ],
         "y": [
          2687.9518749999997,
          2620.7237499999997,
          2687.9518749999997,
          2687.9518749999997
         ]
        },
        {
         "fill": "toself",
         "line": {
          "color": "red"
         },
         "mode": "lines",
         "showlegend": false,
         "type": "scatter",
         "x": [
          "2018-10-18T21:36:00",
          "2018-10-19T00:00:00",
          "2018-10-19T02:24:00",
          "2018-10-18T21:36:00"
         ],
         "y": [
          2693.041875,
          2625.81375,
          2693.041875,
          2693.041875
         ]
        },
        {
         "fill": "toself",
         "line": {
          "color": "green"
         },
         "mode": "lines",
         "showlegend": false,
         "type": "scatter",
         "x": [
          "2018-10-21T21:36:00",
          "2018-10-22T00:00:00",
          "2018-10-22T02:24:00",
          "2018-10-21T21:36:00"
         ],
         "y": [
          2681.9918749999997,
          2614.7637499999996,
          2681.9918749999997,
          2681.9918749999997
         ]
        },
        {
         "fill": "toself",
         "line": {
          "color": "red"
         },
         "mode": "lines",
         "showlegend": false,
         "type": "scatter",
         "x": [
          "2018-10-22T21:36:00",
          "2018-10-23T00:00:00",
          "2018-10-23T02:24:00",
          "2018-10-22T21:36:00"
         ],
         "y": [
          2624.2018749999997,
          2556.9737499999997,
          2624.2018749999997,
          2624.2018749999997
         ]
        },
        {
         "fill": "toself",
         "line": {
          "color": "red"
         },
         "mode": "lines",
         "showlegend": false,
         "type": "scatter",
         "x": [
          "2018-10-23T21:36:00",
          "2018-10-24T00:00:00",
          "2018-10-24T02:24:00",
          "2018-10-23T21:36:00"
         ],
         "y": [
          2809.8181250000002,
          2877.0462500000003,
          2809.8181250000002,
          2809.8181250000002
         ]
        },
        {
         "fill": "toself",
         "line": {
          "color": "green"
         },
         "mode": "lines",
         "showlegend": false,
         "type": "scatter",
         "x": [
          "2018-10-24T21:36:00",
          "2018-10-25T00:00:00",
          "2018-10-25T02:24:00",
          "2018-10-24T21:36:00"
         ],
         "y": [
          2789.928125,
          2857.15625,
          2789.928125,
          2789.928125
         ]
        },
        {
         "fill": "toself",
         "line": {
          "color": "green"
         },
         "mode": "lines",
         "showlegend": false,
         "type": "scatter",
         "x": [
          "2018-10-25T21:36:00",
          "2018-10-26T00:00:00",
          "2018-10-26T02:24:00",
          "2018-10-25T21:36:00"
         ],
         "y": [
          2560.9318749999998,
          2493.7037499999997,
          2560.9318749999998,
          2560.9318749999998
         ]
        },
        {
         "fill": "toself",
         "line": {
          "color": "red"
         },
         "mode": "lines",
         "showlegend": false,
         "type": "scatter",
         "x": [
          "2018-10-28T21:36:00",
          "2018-10-29T00:00:00",
          "2018-10-29T02:24:00",
          "2018-10-28T21:36:00"
         ],
         "y": [
          2774.078125,
          2841.30625,
          2774.078125,
          2774.078125
         ]
        },
        {
         "fill": "toself",
         "line": {
          "color": "green"
         },
         "mode": "lines",
         "showlegend": false,
         "type": "scatter",
         "x": [
          "2018-10-29T21:36:00",
          "2018-10-30T00:00:00",
          "2018-10-30T02:24:00",
          "2018-10-29T21:36:00"
         ],
         "y": [
          2752.658125,
          2819.88625,
          2752.658125,
          2752.658125
         ]
        },
        {
         "fill": "toself",
         "line": {
          "color": "green"
         },
         "mode": "lines",
         "showlegend": false,
         "type": "scatter",
         "x": [
          "2018-10-30T21:36:00",
          "2018-10-31T00:00:00",
          "2018-10-31T02:24:00",
          "2018-10-30T21:36:00"
         ],
         "y": [
          2803.918125,
          2871.1462500000002,
          2803.918125,
          2803.918125
         ]
        },
        {
         "fill": "toself",
         "line": {
          "color": "green"
         },
         "mode": "lines",
         "showlegend": false,
         "type": "scatter",
         "x": [
          "2018-10-31T21:36:00",
          "2018-11-01T00:00:00",
          "2018-11-01T02:24:00",
          "2018-10-31T21:36:00"
         ],
         "y": [
          2808.898125,
          2876.1262500000003,
          2808.898125,
          2808.898125
         ]
        },
        {
         "fill": "toself",
         "line": {
          "color": "red"
         },
         "mode": "lines",
         "showlegend": false,
         "type": "scatter",
         "x": [
          "2018-11-01T21:36:00",
          "2018-11-02T00:00:00",
          "2018-11-02T02:24:00",
          "2018-11-01T21:36:00"
         ],
         "y": [
          2823.7781250000003,
          2891.0062500000004,
          2823.7781250000003,
          2823.7781250000003
         ]
        },
        {
         "fill": "toself",
         "line": {
          "color": "red"
         },
         "mode": "lines",
         "showlegend": false,
         "type": "scatter",
         "x": [
          "2018-11-04T21:36:00",
          "2018-11-05T00:00:00",
          "2018-11-05T02:24:00",
          "2018-11-04T21:36:00"
         ],
         "y": [
          2650.711875,
          2583.48375,
          2650.711875,
          2650.711875
         ]
        },
        {
         "fill": "toself",
         "line": {
          "color": "red"
         },
         "mode": "lines",
         "showlegend": false,
         "type": "scatter",
         "x": [
          "2018-11-05T21:36:00",
          "2018-11-06T00:00:00",
          "2018-11-06T02:24:00",
          "2018-11-05T21:36:00"
         ],
         "y": [
          2669.851875,
          2602.6237499999997,
          2669.851875,
          2669.851875
         ]
        },
        {
         "fill": "toself",
         "line": {
          "color": "red"
         },
         "mode": "lines",
         "showlegend": false,
         "type": "scatter",
         "x": [
          "2018-11-06T21:36:00",
          "2018-11-07T00:00:00",
          "2018-11-07T02:24:00",
          "2018-11-06T21:36:00"
         ],
         "y": [
          2706.901875,
          2639.67375,
          2706.901875,
          2706.901875
         ]
        },
        {
         "fill": "toself",
         "line": {
          "color": "green"
         },
         "mode": "lines",
         "showlegend": false,
         "type": "scatter",
         "x": [
          "2018-11-07T21:36:00",
          "2018-11-08T00:00:00",
          "2018-11-08T02:24:00",
          "2018-11-07T21:36:00"
         ],
         "y": [
          2881.978125,
          2949.20625,
          2881.978125,
          2881.978125
         ]
        },
        {
         "fill": "toself",
         "line": {
          "color": "red"
         },
         "mode": "lines",
         "showlegend": false,
         "type": "scatter",
         "x": [
          "2018-11-08T21:36:00",
          "2018-11-09T00:00:00",
          "2018-11-09T02:24:00",
          "2018-11-08T21:36:00"
         ],
         "y": [
          2861.328125,
          2928.55625,
          2861.328125,
          2861.328125
         ]
        },
        {
         "fill": "toself",
         "line": {
          "color": "red"
         },
         "mode": "lines",
         "showlegend": false,
         "type": "scatter",
         "x": [
          "2018-11-11T21:36:00",
          "2018-11-12T00:00:00",
          "2018-11-12T02:24:00",
          "2018-11-11T21:36:00"
         ],
         "y": [
          2843.218125,
          2910.44625,
          2843.218125,
          2843.218125
         ]
        },
        {
         "fill": "toself",
         "line": {
          "color": "red"
         },
         "mode": "lines",
         "showlegend": false,
         "type": "scatter",
         "x": [
          "2018-11-12T21:36:00",
          "2018-11-13T00:00:00",
          "2018-11-13T02:24:00",
          "2018-11-12T21:36:00"
         ],
         "y": [
          2821.828125,
          2889.05625,
          2821.828125,
          2821.828125
         ]
        },
        {
         "fill": "toself",
         "line": {
          "color": "red"
         },
         "mode": "lines",
         "showlegend": false,
         "type": "scatter",
         "x": [
          "2018-11-13T21:36:00",
          "2018-11-14T00:00:00",
          "2018-11-14T02:24:00",
          "2018-11-13T21:36:00"
         ],
         "y": [
          2814.0281250000003,
          2881.2562500000004,
          2814.0281250000003,
          2814.0281250000003
         ]
        },
        {
         "fill": "toself",
         "line": {
          "color": "green"
         },
         "mode": "lines",
         "showlegend": false,
         "type": "scatter",
         "x": [
          "2018-11-14T21:36:00",
          "2018-11-15T00:00:00",
          "2018-11-15T02:24:00",
          "2018-11-14T21:36:00"
         ],
         "y": [
          2802.608125,
          2869.8362500000003,
          2802.608125,
          2802.608125
         ]
        },
        {
         "fill": "toself",
         "line": {
          "color": "red"
         },
         "mode": "lines",
         "showlegend": false,
         "type": "scatter",
         "x": [
          "2018-11-15T21:36:00",
          "2018-11-16T00:00:00",
          "2018-11-16T02:24:00",
          "2018-11-15T21:36:00"
         ],
         "y": [
          2644.9318749999998,
          2577.7037499999997,
          2644.9318749999998,
          2644.9318749999998
         ]
        },
        {
         "fill": "toself",
         "line": {
          "color": "red"
         },
         "mode": "lines",
         "showlegend": false,
         "type": "scatter",
         "x": [
          "2018-11-18T21:36:00",
          "2018-11-19T00:00:00",
          "2018-11-19T02:24:00",
          "2018-11-18T21:36:00"
         ],
         "y": [
          2800.388125,
          2867.61625,
          2800.388125,
          2800.388125
         ]
        },
        {
         "fill": "toself",
         "line": {
          "color": "red"
         },
         "mode": "lines",
         "showlegend": false,
         "type": "scatter",
         "x": [
          "2018-11-19T21:36:00",
          "2018-11-20T00:00:00",
          "2018-11-20T02:24:00",
          "2018-11-19T21:36:00"
         ],
         "y": [
          2736.668125,
          2803.8962500000002,
          2736.668125,
          2736.668125
         ]
        },
        {
         "fill": "toself",
         "line": {
          "color": "green"
         },
         "mode": "lines",
         "showlegend": false,
         "type": "scatter",
         "x": [
          "2018-11-20T21:36:00",
          "2018-11-21T00:00:00",
          "2018-11-21T02:24:00",
          "2018-11-20T21:36:00"
         ],
         "y": [
          2582.591875,
          2515.36375,
          2582.591875,
          2582.591875
         ]
        },
        {
         "fill": "toself",
         "line": {
          "color": "red"
         },
         "mode": "lines",
         "showlegend": false,
         "type": "scatter",
         "x": [
          "2018-11-22T21:36:00",
          "2018-11-23T00:00:00",
          "2018-11-23T02:24:00",
          "2018-11-22T21:36:00"
         ],
         "y": [
          2714.7781250000003,
          2782.0062500000004,
          2714.7781250000003,
          2714.7781250000003
         ]
        },
        {
         "fill": "toself",
         "line": {
          "color": "green"
         },
         "mode": "lines",
         "showlegend": false,
         "type": "scatter",
         "x": [
          "2018-11-25T21:36:00",
          "2018-11-26T00:00:00",
          "2018-11-26T02:24:00",
          "2018-11-25T21:36:00"
         ],
         "y": [
          2741.578125,
          2808.80625,
          2741.578125,
          2741.578125
         ]
        },
        {
         "fill": "toself",
         "line": {
          "color": "green"
         },
         "mode": "lines",
         "showlegend": false,
         "type": "scatter",
         "x": [
          "2018-11-26T21:36:00",
          "2018-11-27T00:00:00",
          "2018-11-27T02:24:00",
          "2018-11-26T21:36:00"
         ],
         "y": [
          2749.7581250000003,
          2816.9862500000004,
          2749.7581250000003,
          2749.7581250000003
         ]
        },
        {
         "fill": "toself",
         "line": {
          "color": "green"
         },
         "mode": "lines",
         "showlegend": false,
         "type": "scatter",
         "x": [
          "2018-11-27T21:36:00",
          "2018-11-28T00:00:00",
          "2018-11-28T02:24:00",
          "2018-11-27T21:36:00"
         ],
         "y": [
          2811.228125,
          2878.45625,
          2811.228125,
          2811.228125
         ]
        },
        {
         "fill": "toself",
         "line": {
          "color": "green"
         },
         "mode": "lines",
         "showlegend": false,
         "type": "scatter",
         "x": [
          "2018-11-28T21:36:00",
          "2018-11-29T00:00:00",
          "2018-11-29T02:24:00",
          "2018-11-28T21:36:00"
         ],
         "y": [
          2655.711875,
          2588.48375,
          2655.711875,
          2655.711875
         ]
        },
        {
         "fill": "toself",
         "line": {
          "color": "green"
         },
         "mode": "lines",
         "showlegend": false,
         "type": "scatter",
         "x": [
          "2018-11-29T21:36:00",
          "2018-11-30T00:00:00",
          "2018-11-30T02:24:00",
          "2018-11-29T21:36:00"
         ],
         "y": [
          2828.108125,
          2895.3362500000003,
          2828.108125,
          2828.108125
         ]
        },
        {
         "fill": "toself",
         "line": {
          "color": "green"
         },
         "mode": "lines",
         "showlegend": false,
         "type": "scatter",
         "x": [
          "2018-12-02T21:36:00",
          "2018-12-03T00:00:00",
          "2018-12-03T02:24:00",
          "2018-12-02T21:36:00"
         ],
         "y": [
          2867.408125,
          2934.63625,
          2867.408125,
          2867.408125
         ]
        },
        {
         "fill": "toself",
         "line": {
          "color": "red"
         },
         "mode": "lines",
         "showlegend": false,
         "type": "scatter",
         "x": [
          "2018-12-03T21:36:00",
          "2018-12-04T00:00:00",
          "2018-12-04T02:24:00",
          "2018-12-03T21:36:00"
         ],
         "y": [
          2853.158125,
          2920.38625,
          2853.158125,
          2853.158125
         ]
        },
        {
         "fill": "toself",
         "line": {
          "color": "green"
         },
         "mode": "lines",
         "showlegend": false,
         "type": "scatter",
         "x": [
          "2018-12-05T21:36:00",
          "2018-12-06T00:00:00",
          "2018-12-06T02:24:00",
          "2018-12-05T21:36:00"
         ],
         "y": [
          2763.378125,
          2830.6062500000003,
          2763.378125,
          2763.378125
         ]
        },
        {
         "fill": "toself",
         "line": {
          "color": "green"
         },
         "mode": "lines",
         "showlegend": false,
         "type": "scatter",
         "x": [
          "2018-12-06T21:36:00",
          "2018-12-07T00:00:00",
          "2018-12-07T02:24:00",
          "2018-12-06T21:36:00"
         ],
         "y": [
          2555.911875,
          2488.6837499999997,
          2555.911875,
          2555.911875
         ]
        },
        {
         "fill": "toself",
         "line": {
          "color": "green"
         },
         "mode": "lines",
         "showlegend": false,
         "type": "scatter",
         "x": [
          "2018-12-09T21:36:00",
          "2018-12-10T00:00:00",
          "2018-12-10T02:24:00",
          "2018-12-09T21:36:00"
         ],
         "y": [
          2714.7381250000003,
          2781.9662500000004,
          2714.7381250000003,
          2714.7381250000003
         ]
        },
        {
         "fill": "toself",
         "line": {
          "color": "green"
         },
         "mode": "lines",
         "showlegend": false,
         "type": "scatter",
         "x": [
          "2018-12-10T21:36:00",
          "2018-12-11T00:00:00",
          "2018-12-11T02:24:00",
          "2018-12-10T21:36:00"
         ],
         "y": [
          2554.071875,
          2486.84375,
          2554.071875,
          2554.071875
         ]
        },
        {
         "fill": "toself",
         "line": {
          "color": "red"
         },
         "mode": "lines",
         "showlegend": false,
         "type": "scatter",
         "x": [
          "2018-12-11T21:36:00",
          "2018-12-12T00:00:00",
          "2018-12-12T02:24:00",
          "2018-12-11T21:36:00"
         ],
         "y": [
          2583.031875,
          2515.80375,
          2583.031875,
          2583.031875
         ]
        },
        {
         "fill": "toself",
         "line": {
          "color": "green"
         },
         "mode": "lines",
         "showlegend": false,
         "type": "scatter",
         "x": [
          "2018-12-12T21:36:00",
          "2018-12-13T00:00:00",
          "2018-12-13T02:24:00",
          "2018-12-12T21:36:00"
         ],
         "y": [
          2737.418125,
          2804.6462500000002,
          2737.418125,
          2737.418125
         ]
        },
        {
         "fill": "toself",
         "line": {
          "color": "red"
         },
         "mode": "lines",
         "showlegend": false,
         "type": "scatter",
         "x": [
          "2018-12-13T21:36:00",
          "2018-12-14T00:00:00",
          "2018-12-14T02:24:00",
          "2018-12-13T21:36:00"
         ],
         "y": [
          2702.2981250000003,
          2769.5262500000003,
          2702.2981250000003,
          2702.2981250000003
         ]
        },
        {
         "fill": "toself",
         "line": {
          "color": "green"
         },
         "mode": "lines",
         "showlegend": false,
         "type": "scatter",
         "x": [
          "2018-12-16T21:36:00",
          "2018-12-17T00:00:00",
          "2018-12-17T02:24:00",
          "2018-12-16T21:36:00"
         ],
         "y": [
          2463.311875,
          2396.08375,
          2463.311875,
          2463.311875
         ]
        },
        {
         "fill": "toself",
         "line": {
          "color": "red"
         },
         "mode": "lines",
         "showlegend": false,
         "type": "scatter",
         "x": [
          "2018-12-17T21:36:00",
          "2018-12-18T00:00:00",
          "2018-12-18T02:24:00",
          "2018-12-17T21:36:00"
         ],
         "y": [
          2641.218125,
          2708.44625,
          2641.218125,
          2641.218125
         ]
        },
        {
         "fill": "toself",
         "line": {
          "color": "red"
         },
         "mode": "lines",
         "showlegend": false,
         "type": "scatter",
         "x": [
          "2018-12-18T21:36:00",
          "2018-12-19T00:00:00",
          "2018-12-19T02:24:00",
          "2018-12-18T21:36:00"
         ],
         "y": [
          2652.518125,
          2719.74625,
          2652.518125,
          2652.518125
         ]
        },
        {
         "fill": "toself",
         "line": {
          "color": "green"
         },
         "mode": "lines",
         "showlegend": false,
         "type": "scatter",
         "x": [
          "2018-12-19T21:36:00",
          "2018-12-20T00:00:00",
          "2018-12-20T02:24:00",
          "2018-12-19T21:36:00"
         ],
         "y": [
          2373.9518749999997,
          2306.7237499999997,
          2373.9518749999997,
          2373.9518749999997
         ]
        },
        {
         "fill": "toself",
         "line": {
          "color": "red"
         },
         "mode": "lines",
         "showlegend": false,
         "type": "scatter",
         "x": [
          "2018-12-20T21:36:00",
          "2018-12-21T00:00:00",
          "2018-12-21T02:24:00",
          "2018-12-20T21:36:00"
         ],
         "y": [
          2571.638125,
          2638.86625,
          2571.638125,
          2571.638125
         ]
        },
        {
         "fill": "toself",
         "line": {
          "color": "red"
         },
         "mode": "lines",
         "showlegend": false,
         "type": "scatter",
         "x": [
          "2018-12-23T21:36:00",
          "2018-12-24T00:00:00",
          "2018-12-24T02:24:00",
          "2018-12-23T21:36:00"
         ],
         "y": [
          2477.5681250000002,
          2544.7962500000003,
          2477.5681250000002,
          2477.5681250000002
         ]
        },
        {
         "fill": "toself",
         "line": {
          "color": "green"
         },
         "mode": "lines",
         "showlegend": false,
         "type": "scatter",
         "x": [
          "2018-12-25T21:36:00",
          "2018-12-26T00:00:00",
          "2018-12-26T02:24:00",
          "2018-12-25T21:36:00"
         ],
         "y": [
          2534.9881250000003,
          2602.2162500000004,
          2534.9881250000003,
          2534.9881250000003
         ]
        },
        {
         "fill": "toself",
         "line": {
          "color": "red"
         },
         "mode": "lines",
         "showlegend": false,
         "type": "scatter",
         "x": [
          "2018-12-26T21:36:00",
          "2018-12-27T00:00:00",
          "2018-12-27T02:24:00",
          "2018-12-26T21:36:00"
         ],
         "y": [
          2330.711875,
          2263.48375,
          2330.711875,
          2330.711875
         ]
        },
        {
         "fill": "toself",
         "line": {
          "color": "red"
         },
         "mode": "lines",
         "showlegend": false,
         "type": "scatter",
         "x": [
          "2018-12-27T21:36:00",
          "2018-12-28T00:00:00",
          "2018-12-28T02:24:00",
          "2018-12-27T21:36:00"
         ],
         "y": [
          2587.498125,
          2654.72625,
          2587.498125,
          2587.498125
         ]
        },
        {
         "fill": "toself",
         "line": {
          "color": "green"
         },
         "mode": "lines",
         "showlegend": false,
         "type": "scatter",
         "x": [
          "2018-12-30T21:36:00",
          "2018-12-31T00:00:00",
          "2018-12-31T02:24:00",
          "2018-12-30T21:36:00"
         ],
         "y": [
          2576.468125,
          2643.69625,
          2576.468125,
          2576.468125
         ]
        }
       ],
       "layout": {
        "height": 800,
        "template": {
         "data": {
          "bar": [
           {
            "error_x": {
             "color": "#2a3f5f"
            },
            "error_y": {
             "color": "#2a3f5f"
            },
            "marker": {
             "line": {
              "color": "#E5ECF6",
              "width": 0.5
             },
             "pattern": {
              "fillmode": "overlay",
              "size": 10,
              "solidity": 0.2
             }
            },
            "type": "bar"
           }
          ],
          "barpolar": [
           {
            "marker": {
             "line": {
              "color": "#E5ECF6",
              "width": 0.5
             },
             "pattern": {
              "fillmode": "overlay",
              "size": 10,
              "solidity": 0.2
             }
            },
            "type": "barpolar"
           }
          ],
          "carpet": [
           {
            "aaxis": {
             "endlinecolor": "#2a3f5f",
             "gridcolor": "white",
             "linecolor": "white",
             "minorgridcolor": "white",
             "startlinecolor": "#2a3f5f"
            },
            "baxis": {
             "endlinecolor": "#2a3f5f",
             "gridcolor": "white",
             "linecolor": "white",
             "minorgridcolor": "white",
             "startlinecolor": "#2a3f5f"
            },
            "type": "carpet"
           }
          ],
          "choropleth": [
           {
            "colorbar": {
             "outlinewidth": 0,
             "ticks": ""
            },
            "type": "choropleth"
           }
          ],
          "contour": [
           {
            "colorbar": {
             "outlinewidth": 0,
             "ticks": ""
            },
            "colorscale": [
             [
              0,
              "#0d0887"
             ],
             [
              0.1111111111111111,
              "#46039f"
             ],
             [
              0.2222222222222222,
              "#7201a8"
             ],
             [
              0.3333333333333333,
              "#9c179e"
             ],
             [
              0.4444444444444444,
              "#bd3786"
             ],
             [
              0.5555555555555556,
              "#d8576b"
             ],
             [
              0.6666666666666666,
              "#ed7953"
             ],
             [
              0.7777777777777778,
              "#fb9f3a"
             ],
             [
              0.8888888888888888,
              "#fdca26"
             ],
             [
              1,
              "#f0f921"
             ]
            ],
            "type": "contour"
           }
          ],
          "contourcarpet": [
           {
            "colorbar": {
             "outlinewidth": 0,
             "ticks": ""
            },
            "type": "contourcarpet"
           }
          ],
          "heatmap": [
           {
            "colorbar": {
             "outlinewidth": 0,
             "ticks": ""
            },
            "colorscale": [
             [
              0,
              "#0d0887"
             ],
             [
              0.1111111111111111,
              "#46039f"
             ],
             [
              0.2222222222222222,
              "#7201a8"
             ],
             [
              0.3333333333333333,
              "#9c179e"
             ],
             [
              0.4444444444444444,
              "#bd3786"
             ],
             [
              0.5555555555555556,
              "#d8576b"
             ],
             [
              0.6666666666666666,
              "#ed7953"
             ],
             [
              0.7777777777777778,
              "#fb9f3a"
             ],
             [
              0.8888888888888888,
              "#fdca26"
             ],
             [
              1,
              "#f0f921"
             ]
            ],
            "type": "heatmap"
           }
          ],
          "heatmapgl": [
           {
            "colorbar": {
             "outlinewidth": 0,
             "ticks": ""
            },
            "colorscale": [
             [
              0,
              "#0d0887"
             ],
             [
              0.1111111111111111,
              "#46039f"
             ],
             [
              0.2222222222222222,
              "#7201a8"
             ],
             [
              0.3333333333333333,
              "#9c179e"
             ],
             [
              0.4444444444444444,
              "#bd3786"
             ],
             [
              0.5555555555555556,
              "#d8576b"
             ],
             [
              0.6666666666666666,
              "#ed7953"
             ],
             [
              0.7777777777777778,
              "#fb9f3a"
             ],
             [
              0.8888888888888888,
              "#fdca26"
             ],
             [
              1,
              "#f0f921"
             ]
            ],
            "type": "heatmapgl"
           }
          ],
          "histogram": [
           {
            "marker": {
             "pattern": {
              "fillmode": "overlay",
              "size": 10,
              "solidity": 0.2
             }
            },
            "type": "histogram"
           }
          ],
          "histogram2d": [
           {
            "colorbar": {
             "outlinewidth": 0,
             "ticks": ""
            },
            "colorscale": [
             [
              0,
              "#0d0887"
             ],
             [
              0.1111111111111111,
              "#46039f"
             ],
             [
              0.2222222222222222,
              "#7201a8"
             ],
             [
              0.3333333333333333,
              "#9c179e"
             ],
             [
              0.4444444444444444,
              "#bd3786"
             ],
             [
              0.5555555555555556,
              "#d8576b"
             ],
             [
              0.6666666666666666,
              "#ed7953"
             ],
             [
              0.7777777777777778,
              "#fb9f3a"
             ],
             [
              0.8888888888888888,
              "#fdca26"
             ],
             [
              1,
              "#f0f921"
             ]
            ],
            "type": "histogram2d"
           }
          ],
          "histogram2dcontour": [
           {
            "colorbar": {
             "outlinewidth": 0,
             "ticks": ""
            },
            "colorscale": [
             [
              0,
              "#0d0887"
             ],
             [
              0.1111111111111111,
              "#46039f"
             ],
             [
              0.2222222222222222,
              "#7201a8"
             ],
             [
              0.3333333333333333,
              "#9c179e"
             ],
             [
              0.4444444444444444,
              "#bd3786"
             ],
             [
              0.5555555555555556,
              "#d8576b"
             ],
             [
              0.6666666666666666,
              "#ed7953"
             ],
             [
              0.7777777777777778,
              "#fb9f3a"
             ],
             [
              0.8888888888888888,
              "#fdca26"
             ],
             [
              1,
              "#f0f921"
             ]
            ],
            "type": "histogram2dcontour"
           }
          ],
          "mesh3d": [
           {
            "colorbar": {
             "outlinewidth": 0,
             "ticks": ""
            },
            "type": "mesh3d"
           }
          ],
          "parcoords": [
           {
            "line": {
             "colorbar": {
              "outlinewidth": 0,
              "ticks": ""
             }
            },
            "type": "parcoords"
           }
          ],
          "pie": [
           {
            "automargin": true,
            "type": "pie"
           }
          ],
          "scatter": [
           {
            "marker": {
             "colorbar": {
              "outlinewidth": 0,
              "ticks": ""
             }
            },
            "type": "scatter"
           }
          ],
          "scatter3d": [
           {
            "line": {
             "colorbar": {
              "outlinewidth": 0,
              "ticks": ""
             }
            },
            "marker": {
             "colorbar": {
              "outlinewidth": 0,
              "ticks": ""
             }
            },
            "type": "scatter3d"
           }
          ],
          "scattercarpet": [
           {
            "marker": {
             "colorbar": {
              "outlinewidth": 0,
              "ticks": ""
             }
            },
            "type": "scattercarpet"
           }
          ],
          "scattergeo": [
           {
            "marker": {
             "colorbar": {
              "outlinewidth": 0,
              "ticks": ""
             }
            },
            "type": "scattergeo"
           }
          ],
          "scattergl": [
           {
            "marker": {
             "colorbar": {
              "outlinewidth": 0,
              "ticks": ""
             }
            },
            "type": "scattergl"
           }
          ],
          "scattermapbox": [
           {
            "marker": {
             "colorbar": {
              "outlinewidth": 0,
              "ticks": ""
             }
            },
            "type": "scattermapbox"
           }
          ],
          "scatterpolar": [
           {
            "marker": {
             "colorbar": {
              "outlinewidth": 0,
              "ticks": ""
             }
            },
            "type": "scatterpolar"
           }
          ],
          "scatterpolargl": [
           {
            "marker": {
             "colorbar": {
              "outlinewidth": 0,
              "ticks": ""
             }
            },
            "type": "scatterpolargl"
           }
          ],
          "scatterternary": [
           {
            "marker": {
             "colorbar": {
              "outlinewidth": 0,
              "ticks": ""
             }
            },
            "type": "scatterternary"
           }
          ],
          "surface": [
           {
            "colorbar": {
             "outlinewidth": 0,
             "ticks": ""
            },
            "colorscale": [
             [
              0,
              "#0d0887"
             ],
             [
              0.1111111111111111,
              "#46039f"
             ],
             [
              0.2222222222222222,
              "#7201a8"
             ],
             [
              0.3333333333333333,
              "#9c179e"
             ],
             [
              0.4444444444444444,
              "#bd3786"
             ],
             [
              0.5555555555555556,
              "#d8576b"
             ],
             [
              0.6666666666666666,
              "#ed7953"
             ],
             [
              0.7777777777777778,
              "#fb9f3a"
             ],
             [
              0.8888888888888888,
              "#fdca26"
             ],
             [
              1,
              "#f0f921"
             ]
            ],
            "type": "surface"
           }
          ],
          "table": [
           {
            "cells": {
             "fill": {
              "color": "#EBF0F8"
             },
             "line": {
              "color": "white"
             }
            },
            "header": {
             "fill": {
              "color": "#C8D4E3"
             },
             "line": {
              "color": "white"
             }
            },
            "type": "table"
           }
          ]
         },
         "layout": {
          "annotationdefaults": {
           "arrowcolor": "#2a3f5f",
           "arrowhead": 0,
           "arrowwidth": 1
          },
          "autotypenumbers": "strict",
          "coloraxis": {
           "colorbar": {
            "outlinewidth": 0,
            "ticks": ""
           }
          },
          "colorscale": {
           "diverging": [
            [
             0,
             "#8e0152"
            ],
            [
             0.1,
             "#c51b7d"
            ],
            [
             0.2,
             "#de77ae"
            ],
            [
             0.3,
             "#f1b6da"
            ],
            [
             0.4,
             "#fde0ef"
            ],
            [
             0.5,
             "#f7f7f7"
            ],
            [
             0.6,
             "#e6f5d0"
            ],
            [
             0.7,
             "#b8e186"
            ],
            [
             0.8,
             "#7fbc41"
            ],
            [
             0.9,
             "#4d9221"
            ],
            [
             1,
             "#276419"
            ]
           ],
           "sequential": [
            [
             0,
             "#0d0887"
            ],
            [
             0.1111111111111111,
             "#46039f"
            ],
            [
             0.2222222222222222,
             "#7201a8"
            ],
            [
             0.3333333333333333,
             "#9c179e"
            ],
            [
             0.4444444444444444,
             "#bd3786"
            ],
            [
             0.5555555555555556,
             "#d8576b"
            ],
            [
             0.6666666666666666,
             "#ed7953"
            ],
            [
             0.7777777777777778,
             "#fb9f3a"
            ],
            [
             0.8888888888888888,
             "#fdca26"
            ],
            [
             1,
             "#f0f921"
            ]
           ],
           "sequentialminus": [
            [
             0,
             "#0d0887"
            ],
            [
             0.1111111111111111,
             "#46039f"
            ],
            [
             0.2222222222222222,
             "#7201a8"
            ],
            [
             0.3333333333333333,
             "#9c179e"
            ],
            [
             0.4444444444444444,
             "#bd3786"
            ],
            [
             0.5555555555555556,
             "#d8576b"
            ],
            [
             0.6666666666666666,
             "#ed7953"
            ],
            [
             0.7777777777777778,
             "#fb9f3a"
            ],
            [
             0.8888888888888888,
             "#fdca26"
            ],
            [
             1,
             "#f0f921"
            ]
           ]
          },
          "colorway": [
           "#636efa",
           "#EF553B",
           "#00cc96",
           "#ab63fa",
           "#FFA15A",
           "#19d3f3",
           "#FF6692",
           "#B6E880",
           "#FF97FF",
           "#FECB52"
          ],
          "font": {
           "color": "#2a3f5f"
          },
          "geo": {
           "bgcolor": "white",
           "lakecolor": "white",
           "landcolor": "#E5ECF6",
           "showlakes": true,
           "showland": true,
           "subunitcolor": "white"
          },
          "hoverlabel": {
           "align": "left"
          },
          "hovermode": "closest",
          "mapbox": {
           "style": "light"
          },
          "paper_bgcolor": "white",
          "plot_bgcolor": "#E5ECF6",
          "polar": {
           "angularaxis": {
            "gridcolor": "white",
            "linecolor": "white",
            "ticks": ""
           },
           "bgcolor": "#E5ECF6",
           "radialaxis": {
            "gridcolor": "white",
            "linecolor": "white",
            "ticks": ""
           }
          },
          "scene": {
           "xaxis": {
            "backgroundcolor": "#E5ECF6",
            "gridcolor": "white",
            "gridwidth": 2,
            "linecolor": "white",
            "showbackground": true,
            "ticks": "",
            "zerolinecolor": "white"
           },
           "yaxis": {
            "backgroundcolor": "#E5ECF6",
            "gridcolor": "white",
            "gridwidth": 2,
            "linecolor": "white",
            "showbackground": true,
            "ticks": "",
            "zerolinecolor": "white"
           },
           "zaxis": {
            "backgroundcolor": "#E5ECF6",
            "gridcolor": "white",
            "gridwidth": 2,
            "linecolor": "white",
            "showbackground": true,
            "ticks": "",
            "zerolinecolor": "white"
           }
          },
          "shapedefaults": {
           "line": {
            "color": "#2a3f5f"
           }
          },
          "ternary": {
           "aaxis": {
            "gridcolor": "white",
            "linecolor": "white",
            "ticks": ""
           },
           "baxis": {
            "gridcolor": "white",
            "linecolor": "white",
            "ticks": ""
           },
           "bgcolor": "#E5ECF6",
           "caxis": {
            "gridcolor": "white",
            "linecolor": "white",
            "ticks": ""
           }
          },
          "title": {
           "x": 0.05
          },
          "xaxis": {
           "automargin": true,
           "gridcolor": "white",
           "linecolor": "white",
           "ticks": "",
           "title": {
            "standoff": 15
           },
           "zerolinecolor": "white",
           "zerolinewidth": 2
          },
          "yaxis": {
           "automargin": true,
           "gridcolor": "white",
           "linecolor": "white",
           "ticks": "",
           "title": {
            "standoff": 15
           },
           "zerolinecolor": "white",
           "zerolinewidth": 2
          }
         }
        },
        "title": {
         "text": "Visualization of Validation Predictions"
        },
        "width": 1500,
        "xaxis": {
         "title": {
          "text": "Date"
         }
        },
        "yaxis": {
         "title": {
          "text": "Price"
         }
        }
       }
      },
      "text/html": [
       "<div>                            <div id=\"4ce334bd-0337-4993-aa53-09580f17ba5e\" class=\"plotly-graph-div\" style=\"height:800px; width:1500px;\"></div>            <script type=\"text/javascript\">                require([\"plotly\"], function(Plotly) {                    window.PLOTLYENV=window.PLOTLYENV || {};                                    if (document.getElementById(\"4ce334bd-0337-4993-aa53-09580f17ba5e\")) {                    Plotly.newPlot(                        \"4ce334bd-0337-4993-aa53-09580f17ba5e\",                        [{\"close\":[\"2695.81\",\"2713.06\",\"2723.99\",\"2743.15\",\"2747.71\",\"2751.29\",\"2748.23\",\"2767.56\",\"2786.24\",\"2776.42\",\"2802.56\",\"2798.03\",\"2810.30\",\"2832.97\",\"2839.13\",\"2837.54\",\"2839.25\",\"2872.87\",\"2853.53\",\"2822.43\",\"2823.81\",\"2821.98\",\"2762.13\",\"2648.94\",\"2695.14\",\"2681.66\",\"2581.00\",\"2619.55\",\"2656.00\",\"2662.94\",\"2698.63\",\"2731.20\",\"2732.22\",\"2716.26\",\"2701.33\",\"2703.96\",\"2747.30\",\"2779.60\",\"2744.28\",\"2713.83\",\"2677.67\",\"2691.25\",\"2720.94\",\"2728.12\",\"2726.80\",\"2738.97\",\"2786.57\",\"2783.02\",\"2765.31\",\"2749.48\",\"2747.33\",\"2752.01\",\"2712.92\",\"2716.94\",\"2711.93\",\"2643.69\",\"2588.26\",\"2658.55\",\"2612.62\",\"2605.00\",\"2640.87\",\"2581.88\",\"2614.45\",\"2644.69\",\"2662.84\",\"2604.47\",\"2613.16\",\"2656.87\",\"2642.19\",\"2663.99\",\"2656.30\",\"2677.84\",\"2706.39\",\"2708.64\",\"2693.13\",\"2670.14\",\"2670.29\",\"2634.56\",\"2639.40\",\"2666.94\",\"2669.91\",\"2648.05\",\"2654.80\",\"2635.67\",\"2629.73\",\"2663.42\",\"2672.63\",\"2671.92\",\"2697.79\",\"2723.07\",\"2727.72\",\"2730.13\",\"2711.45\",\"2722.46\",\"2720.13\",\"2712.97\",\"2733.01\",\"2724.44\",\"2733.29\",\"2727.76\",\"2721.33\",\"2689.86\",\"2724.01\",\"2705.27\",\"2734.62\",\"2746.87\",\"2748.80\",\"2772.35\",\"2770.37\",\"2779.03\",\"2782.00\",\"2786.85\",\"2775.63\",\"2782.49\",\"2779.66\",\"2773.75\",\"2762.59\",\"2767.32\",\"2749.76\",\"2754.88\",\"2717.07\",\"2723.06\",\"2699.63\",\"2716.31\",\"2718.37\",\"2726.71\",\"2713.22\",\"2736.61\",\"2759.82\",\"2784.17\",\"2793.84\",\"2774.02\",\"2798.29\",\"2801.31\",\"2798.43\",\"2809.55\",\"2815.62\",\"2804.49\",\"2801.83\",\"2806.98\",\"2820.40\",\"2846.07\",\"2837.44\",\"2818.82\",\"2802.60\",\"2816.29\",\"2813.36\",\"2827.22\",\"2840.35\",\"2850.40\",\"2858.45\",\"2857.70\",\"2853.58\",\"2833.28\",\"2821.93\",\"2839.96\",\"2818.37\",\"2840.69\",\"2850.13\",\"2857.05\",\"2862.96\",\"2861.82\",\"2856.98\",\"2874.69\",\"2896.74\",\"2897.52\",\"2914.04\",\"2901.13\",\"2901.52\",\"2896.72\",\"2888.60\",\"2878.05\",\"2871.68\",\"2877.13\",\"2887.89\",\"2888.92\",\"2904.18\",\"2904.98\",\"2888.80\",\"2904.31\",\"2907.95\",\"2930.75\",\"2929.67\",\"2919.37\",\"2915.56\",\"2905.97\",\"2914.00\",\"2913.98\",\"2924.59\",\"2923.43\",\"2925.51\",\"2901.61\",\"2885.57\",\"2884.43\",\"2880.34\",\"2785.68\",\"2728.37\",\"2767.13\",\"2750.79\",\"2809.92\",\"2809.21\",\"2768.78\",\"2767.78\",\"2755.88\",\"2740.69\",\"2656.10\",\"2705.57\",\"2658.69\",\"2641.25\",\"2682.63\",\"2711.74\",\"2740.37\",\"2723.06\",\"2738.31\",\"2755.45\",\"2813.89\",\"2806.83\",\"2781.01\",\"2726.22\",\"2722.18\",\"2701.58\",\"2730.20\",\"2736.27\",\"2690.73\",\"2641.89\",\"2649.93\",\"2632.56\",\"2673.45\",\"2682.17\",\"2743.79\",\"2737.76\",\"2760.17\",\"2790.37\",\"2700.06\",\"2695.95\",\"2633.08\",\"2637.72\",\"2636.78\",\"2651.07\",\"2650.54\",\"2599.95\",\"2545.94\",\"2546.16\",\"2506.96\",\"2467.42\",\"2416.62\",\"2351.10\",\"2467.70\",\"2488.83\",\"2485.74\",\"2506.85\"],\"high\":[\"2695.89\",\"2714.37\",\"2729.29\",\"2743.45\",\"2748.51\",\"2759.14\",\"2750.80\",\"2767.56\",\"2787.85\",\"2807.54\",\"2807.04\",\"2805.83\",\"2810.33\",\"2833.03\",\"2842.24\",\"2852.97\",\"2848.56\",\"2872.87\",\"2870.62\",\"2837.75\",\"2839.26\",\"2835.96\",\"2808.92\",\"2763.39\",\"2701.04\",\"2727.67\",\"2685.27\",\"2638.67\",\"2672.61\",\"2668.84\",\"2702.10\",\"2731.51\",\"2754.42\",\"2737.60\",\"2747.75\",\"2731.26\",\"2747.76\",\"2780.64\",\"2789.15\",\"2761.52\",\"2730.89\",\"2696.25\",\"2728.09\",\"2732.08\",\"2730.60\",\"2740.45\",\"2786.57\",\"2796.98\",\"2801.90\",\"2777.11\",\"2763.03\",\"2761.85\",\"2741.38\",\"2724.22\",\"2739.14\",\"2695.68\",\"2657.67\",\"2661.36\",\"2674.78\",\"2632.65\",\"2659.07\",\"2638.30\",\"2619.14\",\"2649.86\",\"2672.08\",\"2656.88\",\"2653.55\",\"2665.45\",\"2661.43\",\"2674.72\",\"2680.26\",\"2686.49\",\"2713.34\",\"2717.49\",\"2702.84\",\"2693.94\",\"2682.86\",\"2683.55\",\"2645.30\",\"2676.48\",\"2677.35\",\"2682.92\",\"2655.27\",\"2660.87\",\"2637.14\",\"2670.93\",\"2683.35\",\"2676.34\",\"2701.27\",\"2726.11\",\"2732.86\",\"2742.10\",\"2718.59\",\"2727.76\",\"2731.96\",\"2719.50\",\"2739.19\",\"2742.24\",\"2733.33\",\"2731.97\",\"2727.36\",\"2710.67\",\"2729.34\",\"2722.50\",\"2736.93\",\"2749.16\",\"2752.61\",\"2772.39\",\"2779.90\",\"2779.39\",\"2790.21\",\"2789.80\",\"2791.47\",\"2789.06\",\"2782.81\",\"2774.99\",\"2765.05\",\"2774.86\",\"2769.28\",\"2764.17\",\"2742.94\",\"2732.91\",\"2746.09\",\"2724.34\",\"2743.26\",\"2727.26\",\"2736.58\",\"2737.83\",\"2764.41\",\"2784.65\",\"2795.58\",\"2785.91\",\"2799.22\",\"2804.53\",\"2803.71\",\"2814.19\",\"2816.76\",\"2812.05\",\"2809.70\",\"2808.61\",\"2829.99\",\"2848.03\",\"2845.57\",\"2843.17\",\"2821.74\",\"2824.46\",\"2825.83\",\"2829.91\",\"2840.38\",\"2853.29\",\"2863.43\",\"2862.44\",\"2862.48\",\"2842.20\",\"2843.40\",\"2843.11\",\"2827.95\",\"2850.49\",\"2855.63\",\"2859.76\",\"2873.23\",\"2867.54\",\"2868.78\",\"2876.16\",\"2898.25\",\"2903.77\",\"2916.50\",\"2912.46\",\"2906.32\",\"2900.18\",\"2894.21\",\"2892.05\",\"2883.81\",\"2886.93\",\"2892.52\",\"2894.65\",\"2906.76\",\"2908.30\",\"2904.65\",\"2911.17\",\"2912.36\",\"2934.80\",\"2940.91\",\"2923.79\",\"2923.95\",\"2931.15\",\"2927.22\",\"2920.53\",\"2937.06\",\"2931.42\",\"2939.86\",\"2919.78\",\"2909.64\",\"2889.45\",\"2894.83\",\"2874.02\",\"2795.14\",\"2775.77\",\"2775.99\",\"2813.46\",\"2816.94\",\"2806.04\",\"2797.77\",\"2778.94\",\"2753.59\",\"2742.59\",\"2722.70\",\"2692.38\",\"2706.85\",\"2685.43\",\"2736.69\",\"2741.67\",\"2756.55\",\"2744.27\",\"2756.82\",\"2815.15\",\"2814.75\",\"2794.10\",\"2775.99\",\"2754.60\",\"2746.80\",\"2735.38\",\"2746.75\",\"2733.16\",\"2669.44\",\"2670.73\",\"2647.55\",\"2674.35\",\"2682.53\",\"2744.00\",\"2753.75\",\"2760.88\",\"2800.18\",\"2785.93\",\"2696.15\",\"2708.54\",\"2647.51\",\"2674.35\",\"2685.44\",\"2670.19\",\"2635.07\",\"2601.13\",\"2573.99\",\"2585.29\",\"2509.63\",\"2504.41\",\"2410.34\",\"2467.76\",\"2489.10\",\"2520.27\",\"2509.24\"],\"low\":[\"2682.36\",\"2697.77\",\"2719.07\",\"2727.92\",\"2737.60\",\"2747.86\",\"2736.06\",\"2752.78\",\"2769.64\",\"2768.64\",\"2778.38\",\"2792.56\",\"2798.08\",\"2808.12\",\"2830.59\",\"2824.81\",\"2830.94\",\"2846.18\",\"2851.48\",\"2818.27\",\"2813.04\",\"2812.70\",\"2759.97\",\"2638.17\",\"2593.07\",\"2681.33\",\"2580.56\",\"2532.69\",\"2622.45\",\"2637.08\",\"2648.87\",\"2689.82\",\"2725.11\",\"2706.76\",\"2701.29\",\"2697.77\",\"2713.74\",\"2753.78\",\"2744.22\",\"2713.54\",\"2659.65\",\"2647.32\",\"2675.75\",\"2711.26\",\"2701.74\",\"2722.65\",\"2751.54\",\"2779.26\",\"2758.68\",\"2744.38\",\"2741.47\",\"2749.97\",\"2694.59\",\"2710.05\",\"2709.79\",\"2641.59\",\"2585.89\",\"2601.81\",\"2596.12\",\"2593.06\",\"2609.72\",\"2553.80\",\"2575.49\",\"2573.61\",\"2649.58\",\"2586.27\",\"2610.79\",\"2635.78\",\"2639.25\",\"2653.83\",\"2645.05\",\"2665.16\",\"2692.05\",\"2703.63\",\"2681.90\",\"2660.61\",\"2657.99\",\"2617.32\",\"2612.67\",\"2647.16\",\"2659.01\",\"2648.04\",\"2625.41\",\"2631.70\",\"2594.62\",\"2615.32\",\"2664.70\",\"2655.20\",\"2674.14\",\"2704.54\",\"2717.45\",\"2725.47\",\"2701.91\",\"2712.17\",\"2711.36\",\"2709.18\",\"2725.70\",\"2721.88\",\"2709.54\",\"2707.38\",\"2714.99\",\"2676.81\",\"2702.43\",\"2700.68\",\"2718.70\",\"2740.54\",\"2739.51\",\"2748.46\",\"2760.16\",\"2763.59\",\"2780.17\",\"2778.78\",\"2774.65\",\"2776.52\",\"2761.73\",\"2757.12\",\"2743.19\",\"2763.91\",\"2744.39\",\"2752.68\",\"2698.67\",\"2715.60\",\"2699.38\",\"2691.99\",\"2718.03\",\"2698.95\",\"2711.16\",\"2716.02\",\"2733.52\",\"2768.51\",\"2786.24\",\"2770.77\",\"2781.53\",\"2791.69\",\"2793.39\",\"2789.24\",\"2805.89\",\"2799.77\",\"2800.01\",\"2795.14\",\"2811.12\",\"2817.73\",\"2835.26\",\"2808.34\",\"2798.11\",\"2808.06\",\"2805.85\",\"2796.34\",\"2827.37\",\"2835.98\",\"2855.92\",\"2853.09\",\"2851.98\",\"2825.81\",\"2819.88\",\"2826.58\",\"2802.49\",\"2831.44\",\"2833.73\",\"2850.62\",\"2861.32\",\"2856.05\",\"2854.03\",\"2862.35\",\"2884.69\",\"2893.50\",\"2898.40\",\"2895.22\",\"2891.73\",\"2885.13\",\"2876.92\",\"2867.29\",\"2864.12\",\"2875.94\",\"2866.78\",\"2879.20\",\"2896.39\",\"2895.77\",\"2886.16\",\"2890.43\",\"2903.82\",\"2919.73\",\"2927.11\",\"2912.63\",\"2913.70\",\"2903.28\",\"2909.27\",\"2907.50\",\"2917.91\",\"2919.37\",\"2921.36\",\"2883.92\",\"2869.29\",\"2862.08\",\"2874.27\",\"2784.86\",\"2710.51\",\"2729.44\",\"2749.03\",\"2766.91\",\"2781.81\",\"2755.18\",\"2760.27\",\"2749.22\",\"2691.43\",\"2651.89\",\"2667.84\",\"2628.16\",\"2603.54\",\"2635.34\",\"2705.60\",\"2708.85\",\"2700.44\",\"2717.94\",\"2737.08\",\"2774.13\",\"2794.99\",\"2764.24\",\"2722.00\",\"2714.98\",\"2685.75\",\"2670.75\",\"2712.16\",\"2681.09\",\"2631.52\",\"2649.82\",\"2631.09\",\"2649.97\",\"2655.89\",\"2684.38\",\"2722.94\",\"2732.76\",\"2773.38\",\"2697.18\",\"2621.53\",\"2623.14\",\"2583.23\",\"2621.30\",\"2650.26\",\"2637.27\",\"2593.84\",\"2530.54\",\"2528.71\",\"2488.96\",\"2441.18\",\"2408.55\",\"2351.10\",\"2346.58\",\"2397.94\",\"2472.89\",\"2482.82\"],\"name\":\"Price\",\"open\":[\"2683.73\",\"2697.85\",\"2719.31\",\"2731.33\",\"2742.67\",\"2751.15\",\"2745.55\",\"2752.97\",\"2770.18\",\"2798.96\",\"2784.99\",\"2802.40\",\"2802.60\",\"2809.16\",\"2835.05\",\"2845.42\",\"2846.24\",\"2847.48\",\"2867.23\",\"2832.74\",\"2832.41\",\"2816.45\",\"2808.92\",\"2741.06\",\"2614.78\",\"2690.95\",\"2685.01\",\"2601.78\",\"2636.75\",\"2646.27\",\"2651.21\",\"2713.46\",\"2727.14\",\"2722.99\",\"2720.53\",\"2710.42\",\"2715.80\",\"2757.37\",\"2780.45\",\"2753.78\",\"2715.22\",\"2658.89\",\"2681.06\",\"2730.18\",\"2710.18\",\"2732.75\",\"2752.91\",\"2790.54\",\"2792.31\",\"2774.06\",\"2754.27\",\"2750.57\",\"2741.38\",\"2715.05\",\"2714.99\",\"2691.36\",\"2646.71\",\"2619.35\",\"2667.57\",\"2611.30\",\"2614.41\",\"2633.45\",\"2592.17\",\"2584.04\",\"2657.36\",\"2645.82\",\"2617.18\",\"2638.41\",\"2643.89\",\"2653.83\",\"2676.90\",\"2670.10\",\"2692.74\",\"2710.11\",\"2701.16\",\"2692.56\",\"2675.40\",\"2680.80\",\"2634.92\",\"2651.65\",\"2675.47\",\"2675.05\",\"2643.64\",\"2654.24\",\"2628.08\",\"2621.45\",\"2669.36\",\"2670.26\",\"2678.12\",\"2705.02\",\"2722.70\",\"2733.37\",\"2718.59\",\"2712.62\",\"2719.71\",\"2717.35\",\"2725.95\",\"2738.34\",\"2713.98\",\"2730.94\",\"2723.60\",\"2705.11\",\"2702.43\",\"2720.98\",\"2718.70\",\"2741.67\",\"2748.46\",\"2753.25\",\"2774.84\",\"2765.84\",\"2780.18\",\"2785.60\",\"2787.94\",\"2783.21\",\"2777.78\",\"2765.79\",\"2752.01\",\"2769.73\",\"2769.28\",\"2760.79\",\"2742.94\",\"2722.12\",\"2728.45\",\"2698.69\",\"2727.13\",\"2704.95\",\"2733.27\",\"2724.19\",\"2737.68\",\"2768.51\",\"2788.56\",\"2779.82\",\"2783.14\",\"2796.93\",\"2801.43\",\"2789.34\",\"2811.35\",\"2809.37\",\"2804.55\",\"2799.17\",\"2820.68\",\"2817.73\",\"2835.49\",\"2842.35\",\"2819.00\",\"2809.73\",\"2821.17\",\"2800.48\",\"2829.62\",\"2840.29\",\"2855.92\",\"2856.79\",\"2857.19\",\"2839.64\",\"2835.46\",\"2827.88\",\"2827.95\",\"2831.44\",\"2838.32\",\"2853.93\",\"2861.51\",\"2860.99\",\"2860.29\",\"2862.35\",\"2884.69\",\"2901.45\",\"2900.62\",\"2908.94\",\"2898.37\",\"2896.96\",\"2891.59\",\"2888.64\",\"2868.26\",\"2881.39\",\"2871.57\",\"2888.29\",\"2896.85\",\"2906.38\",\"2903.83\",\"2890.74\",\"2906.60\",\"2919.73\",\"2936.76\",\"2921.83\",\"2921.75\",\"2916.98\",\"2911.65\",\"2910.03\",\"2926.29\",\"2923.80\",\"2931.69\",\"2919.35\",\"2902.54\",\"2877.53\",\"2882.51\",\"2873.90\",\"2776.87\",\"2770.54\",\"2763.83\",\"2767.05\",\"2811.67\",\"2802.00\",\"2775.66\",\"2773.94\",\"2721.03\",\"2737.87\",\"2674.88\",\"2667.86\",\"2682.65\",\"2640.68\",\"2705.60\",\"2717.58\",\"2745.45\",\"2726.37\",\"2738.40\",\"2774.13\",\"2806.38\",\"2794.10\",\"2773.93\",\"2730.05\",\"2737.90\",\"2693.52\",\"2718.54\",\"2730.74\",\"2654.60\",\"2657.74\",\"2633.36\",\"2649.97\",\"2663.75\",\"2691.45\",\"2736.97\",\"2737.76\",\"2790.50\",\"2782.43\",\"2663.51\",\"2691.26\",\"2630.86\",\"2664.44\",\"2658.23\",\"2658.70\",\"2629.68\",\"2590.75\",\"2559.90\",\"2547.05\",\"2496.77\",\"2465.38\",\"2400.56\",\"2363.12\",\"2442.50\",\"2498.77\",\"2498.94\"],\"type\":\"candlestick\",\"x\":[\"2018-01-02T00:00:00\",\"2018-01-03T00:00:00\",\"2018-01-04T00:00:00\",\"2018-01-05T00:00:00\",\"2018-01-08T00:00:00\",\"2018-01-09T00:00:00\",\"2018-01-10T00:00:00\",\"2018-01-11T00:00:00\",\"2018-01-12T00:00:00\",\"2018-01-16T00:00:00\",\"2018-01-17T00:00:00\",\"2018-01-18T00:00:00\",\"2018-01-19T00:00:00\",\"2018-01-22T00:00:00\",\"2018-01-23T00:00:00\",\"2018-01-24T00:00:00\",\"2018-01-25T00:00:00\",\"2018-01-26T00:00:00\",\"2018-01-29T00:00:00\",\"2018-01-30T00:00:00\",\"2018-01-31T00:00:00\",\"2018-02-01T00:00:00\",\"2018-02-02T00:00:00\",\"2018-02-05T00:00:00\",\"2018-02-06T00:00:00\",\"2018-02-07T00:00:00\",\"2018-02-08T00:00:00\",\"2018-02-09T00:00:00\",\"2018-02-12T00:00:00\",\"2018-02-13T00:00:00\",\"2018-02-14T00:00:00\",\"2018-02-15T00:00:00\",\"2018-02-16T00:00:00\",\"2018-02-20T00:00:00\",\"2018-02-21T00:00:00\",\"2018-02-22T00:00:00\",\"2018-02-23T00:00:00\",\"2018-02-26T00:00:00\",\"2018-02-27T00:00:00\",\"2018-02-28T00:00:00\",\"2018-03-01T00:00:00\",\"2018-03-02T00:00:00\",\"2018-03-05T00:00:00\",\"2018-03-06T00:00:00\",\"2018-03-07T00:00:00\",\"2018-03-08T00:00:00\",\"2018-03-09T00:00:00\",\"2018-03-12T00:00:00\",\"2018-03-13T00:00:00\",\"2018-03-14T00:00:00\",\"2018-03-15T00:00:00\",\"2018-03-16T00:00:00\",\"2018-03-19T00:00:00\",\"2018-03-20T00:00:00\",\"2018-03-21T00:00:00\",\"2018-03-22T00:00:00\",\"2018-03-23T00:00:00\",\"2018-03-26T00:00:00\",\"2018-03-27T00:00:00\",\"2018-03-28T00:00:00\",\"2018-03-29T00:00:00\",\"2018-04-02T00:00:00\",\"2018-04-03T00:00:00\",\"2018-04-04T00:00:00\",\"2018-04-05T00:00:00\",\"2018-04-06T00:00:00\",\"2018-04-09T00:00:00\",\"2018-04-10T00:00:00\",\"2018-04-11T00:00:00\",\"2018-04-12T00:00:00\",\"2018-04-13T00:00:00\",\"2018-04-16T00:00:00\",\"2018-04-17T00:00:00\",\"2018-04-18T00:00:00\",\"2018-04-19T00:00:00\",\"2018-04-20T00:00:00\",\"2018-04-23T00:00:00\",\"2018-04-24T00:00:00\",\"2018-04-25T00:00:00\",\"2018-04-26T00:00:00\",\"2018-04-27T00:00:00\",\"2018-04-30T00:00:00\",\"2018-05-01T00:00:00\",\"2018-05-02T00:00:00\",\"2018-05-03T00:00:00\",\"2018-05-04T00:00:00\",\"2018-05-07T00:00:00\",\"2018-05-08T00:00:00\",\"2018-05-09T00:00:00\",\"2018-05-10T00:00:00\",\"2018-05-11T00:00:00\",\"2018-05-14T00:00:00\",\"2018-05-15T00:00:00\",\"2018-05-16T00:00:00\",\"2018-05-17T00:00:00\",\"2018-05-18T00:00:00\",\"2018-05-21T00:00:00\",\"2018-05-22T00:00:00\",\"2018-05-23T00:00:00\",\"2018-05-24T00:00:00\",\"2018-05-25T00:00:00\",\"2018-05-29T00:00:00\",\"2018-05-30T00:00:00\",\"2018-05-31T00:00:00\",\"2018-06-01T00:00:00\",\"2018-06-04T00:00:00\",\"2018-06-05T00:00:00\",\"2018-06-06T00:00:00\",\"2018-06-07T00:00:00\",\"2018-06-08T00:00:00\",\"2018-06-11T00:00:00\",\"2018-06-12T00:00:00\",\"2018-06-13T00:00:00\",\"2018-06-14T00:00:00\",\"2018-06-15T00:00:00\",\"2018-06-18T00:00:00\",\"2018-06-19T00:00:00\",\"2018-06-20T00:00:00\",\"2018-06-21T00:00:00\",\"2018-06-22T00:00:00\",\"2018-06-25T00:00:00\",\"2018-06-26T00:00:00\",\"2018-06-27T00:00:00\",\"2018-06-28T00:00:00\",\"2018-06-29T00:00:00\",\"2018-07-02T00:00:00\",\"2018-07-03T00:00:00\",\"2018-07-05T00:00:00\",\"2018-07-06T00:00:00\",\"2018-07-09T00:00:00\",\"2018-07-10T00:00:00\",\"2018-07-11T00:00:00\",\"2018-07-12T00:00:00\",\"2018-07-13T00:00:00\",\"2018-07-16T00:00:00\",\"2018-07-17T00:00:00\",\"2018-07-18T00:00:00\",\"2018-07-19T00:00:00\",\"2018-07-20T00:00:00\",\"2018-07-23T00:00:00\",\"2018-07-24T00:00:00\",\"2018-07-25T00:00:00\",\"2018-07-26T00:00:00\",\"2018-07-27T00:00:00\",\"2018-07-30T00:00:00\",\"2018-07-31T00:00:00\",\"2018-08-01T00:00:00\",\"2018-08-02T00:00:00\",\"2018-08-03T00:00:00\",\"2018-08-06T00:00:00\",\"2018-08-07T00:00:00\",\"2018-08-08T00:00:00\",\"2018-08-09T00:00:00\",\"2018-08-10T00:00:00\",\"2018-08-13T00:00:00\",\"2018-08-14T00:00:00\",\"2018-08-15T00:00:00\",\"2018-08-16T00:00:00\",\"2018-08-17T00:00:00\",\"2018-08-20T00:00:00\",\"2018-08-21T00:00:00\",\"2018-08-22T00:00:00\",\"2018-08-23T00:00:00\",\"2018-08-24T00:00:00\",\"2018-08-27T00:00:00\",\"2018-08-28T00:00:00\",\"2018-08-29T00:00:00\",\"2018-08-30T00:00:00\",\"2018-08-31T00:00:00\",\"2018-09-04T00:00:00\",\"2018-09-05T00:00:00\",\"2018-09-06T00:00:00\",\"2018-09-07T00:00:00\",\"2018-09-10T00:00:00\",\"2018-09-11T00:00:00\",\"2018-09-12T00:00:00\",\"2018-09-13T00:00:00\",\"2018-09-14T00:00:00\",\"2018-09-17T00:00:00\",\"2018-09-18T00:00:00\",\"2018-09-19T00:00:00\",\"2018-09-20T00:00:00\",\"2018-09-21T00:00:00\",\"2018-09-24T00:00:00\",\"2018-09-25T00:00:00\",\"2018-09-26T00:00:00\",\"2018-09-27T00:00:00\",\"2018-09-28T00:00:00\",\"2018-10-01T00:00:00\",\"2018-10-02T00:00:00\",\"2018-10-03T00:00:00\",\"2018-10-04T00:00:00\",\"2018-10-05T00:00:00\",\"2018-10-08T00:00:00\",\"2018-10-09T00:00:00\",\"2018-10-10T00:00:00\",\"2018-10-11T00:00:00\",\"2018-10-12T00:00:00\",\"2018-10-15T00:00:00\",\"2018-10-16T00:00:00\",\"2018-10-17T00:00:00\",\"2018-10-18T00:00:00\",\"2018-10-19T00:00:00\",\"2018-10-22T00:00:00\",\"2018-10-23T00:00:00\",\"2018-10-24T00:00:00\",\"2018-10-25T00:00:00\",\"2018-10-26T00:00:00\",\"2018-10-29T00:00:00\",\"2018-10-30T00:00:00\",\"2018-10-31T00:00:00\",\"2018-11-01T00:00:00\",\"2018-11-02T00:00:00\",\"2018-11-05T00:00:00\",\"2018-11-06T00:00:00\",\"2018-11-07T00:00:00\",\"2018-11-08T00:00:00\",\"2018-11-09T00:00:00\",\"2018-11-12T00:00:00\",\"2018-11-13T00:00:00\",\"2018-11-14T00:00:00\",\"2018-11-15T00:00:00\",\"2018-11-16T00:00:00\",\"2018-11-19T00:00:00\",\"2018-11-20T00:00:00\",\"2018-11-21T00:00:00\",\"2018-11-23T00:00:00\",\"2018-11-26T00:00:00\",\"2018-11-27T00:00:00\",\"2018-11-28T00:00:00\",\"2018-11-29T00:00:00\",\"2018-11-30T00:00:00\",\"2018-12-03T00:00:00\",\"2018-12-04T00:00:00\",\"2018-12-06T00:00:00\",\"2018-12-07T00:00:00\",\"2018-12-10T00:00:00\",\"2018-12-11T00:00:00\",\"2018-12-12T00:00:00\",\"2018-12-13T00:00:00\",\"2018-12-14T00:00:00\",\"2018-12-17T00:00:00\",\"2018-12-18T00:00:00\",\"2018-12-19T00:00:00\",\"2018-12-20T00:00:00\",\"2018-12-21T00:00:00\",\"2018-12-24T00:00:00\",\"2018-12-26T00:00:00\",\"2018-12-27T00:00:00\",\"2018-12-28T00:00:00\",\"2018-12-31T00:00:00\"]},{\"fill\":\"toself\",\"line\":{\"color\":\"green\"},\"mode\":\"lines\",\"name\":\"Correct Direction\",\"type\":\"scatter\",\"x\":[\"2018-01-01T21:36:00\",\"2018-01-02T00:00:00\",\"2018-01-02T02:24:00\",\"2018-01-01T21:36:00\"],\"y\":[2763.118125,2830.34625,2763.118125,2763.118125]},{\"fill\":\"toself\",\"line\":{\"color\":\"green\"},\"mode\":\"lines\",\"showlegend\":false,\"type\":\"scatter\",\"x\":[\"2018-01-02T21:36:00\",\"2018-01-03T00:00:00\",\"2018-01-03T02:24:00\",\"2018-01-02T21:36:00\"],\"y\":[2781.598125,2848.82625,2781.598125,2781.598125]},{\"fill\":\"toself\",\"line\":{\"color\":\"green\"},\"mode\":\"lines\",\"showlegend\":false,\"type\":\"scatter\",\"x\":[\"2018-01-03T21:36:00\",\"2018-01-04T00:00:00\",\"2018-01-04T02:24:00\",\"2018-01-03T21:36:00\"],\"y\":[2796.518125,2863.74625,2796.518125,2796.518125]},{\"fill\":\"toself\",\"line\":{\"color\":\"green\"},\"mode\":\"lines\",\"showlegend\":false,\"type\":\"scatter\",\"x\":[\"2018-01-04T21:36:00\",\"2018-01-05T00:00:00\",\"2018-01-05T02:24:00\",\"2018-01-04T21:36:00\"],\"y\":[2810.678125,2877.90625,2810.678125,2810.678125]},{\"fill\":\"toself\",\"line\":{\"color\":\"red\"},\"mode\":\"lines\",\"name\":\"Incorrect Direction\",\"type\":\"scatter\",\"x\":[\"2018-01-07T21:36:00\",\"2018-01-08T00:00:00\",\"2018-01-08T02:24:00\",\"2018-01-07T21:36:00\"],\"y\":[2815.7381250000003,2882.9662500000004,2815.7381250000003,2815.7381250000003]},{\"fill\":\"toself\",\"line\":{\"color\":\"green\"},\"mode\":\"lines\",\"showlegend\":false,\"type\":\"scatter\",\"x\":[\"2018-01-08T21:36:00\",\"2018-01-09T00:00:00\",\"2018-01-09T02:24:00\",\"2018-01-08T21:36:00\"],\"y\":[2826.368125,2893.59625,2826.368125,2826.368125]},{\"fill\":\"toself\",\"line\":{\"color\":\"green\"},\"mode\":\"lines\",\"showlegend\":false,\"type\":\"scatter\",\"x\":[\"2018-01-09T21:36:00\",\"2018-01-10T00:00:00\",\"2018-01-10T02:24:00\",\"2018-01-09T21:36:00\"],\"y\":[2818.0281250000003,2885.2562500000004,2818.0281250000003,2818.0281250000003]},{\"fill\":\"toself\",\"line\":{\"color\":\"green\"},\"mode\":\"lines\",\"showlegend\":false,\"type\":\"scatter\",\"x\":[\"2018-01-10T21:36:00\",\"2018-01-11T00:00:00\",\"2018-01-11T02:24:00\",\"2018-01-10T21:36:00\"],\"y\":[2834.788125,2902.01625,2834.788125,2834.788125]},{\"fill\":\"toself\",\"line\":{\"color\":\"green\"},\"mode\":\"lines\",\"showlegend\":false,\"type\":\"scatter\",\"x\":[\"2018-01-11T21:36:00\",\"2018-01-12T00:00:00\",\"2018-01-12T02:24:00\",\"2018-01-11T21:36:00\"],\"y\":[2855.078125,2922.30625,2855.078125,2855.078125]},{\"fill\":\"toself\",\"line\":{\"color\":\"green\"},\"mode\":\"lines\",\"showlegend\":false,\"type\":\"scatter\",\"x\":[\"2018-01-15T21:36:00\",\"2018-01-16T00:00:00\",\"2018-01-16T02:24:00\",\"2018-01-15T21:36:00\"],\"y\":[2701.411875,2634.1837499999997,2701.411875,2701.411875]},{\"fill\":\"toself\",\"line\":{\"color\":\"green\"},\"mode\":\"lines\",\"showlegend\":false,\"type\":\"scatter\",\"x\":[\"2018-01-16T21:36:00\",\"2018-01-17T00:00:00\",\"2018-01-17T02:24:00\",\"2018-01-16T21:36:00\"],\"y\":[2874.268125,2941.49625,2874.268125,2874.268125]},{\"fill\":\"toself\",\"line\":{\"color\":\"red\"},\"mode\":\"lines\",\"showlegend\":false,\"type\":\"scatter\",\"x\":[\"2018-01-17T21:36:00\",\"2018-01-18T00:00:00\",\"2018-01-18T02:24:00\",\"2018-01-17T21:36:00\"],\"y\":[2873.058125,2940.28625,2873.058125,2873.058125]},{\"fill\":\"toself\",\"line\":{\"color\":\"red\"},\"mode\":\"lines\",\"showlegend\":false,\"type\":\"scatter\",\"x\":[\"2018-01-18T21:36:00\",\"2018-01-19T00:00:00\",\"2018-01-19T02:24:00\",\"2018-01-18T21:36:00\"],\"y\":[2730.851875,2663.6237499999997,2730.851875,2730.851875]},{\"fill\":\"toself\",\"line\":{\"color\":\"green\"},\"mode\":\"lines\",\"showlegend\":false,\"type\":\"scatter\",\"x\":[\"2018-01-21T21:36:00\",\"2018-01-22T00:00:00\",\"2018-01-22T02:24:00\",\"2018-01-21T21:36:00\"],\"y\":[2900.2581250000003,2967.4862500000004,2900.2581250000003,2900.2581250000003]},{\"fill\":\"toself\",\"line\":{\"color\":\"red\"},\"mode\":\"lines\",\"showlegend\":false,\"type\":\"scatter\",\"x\":[\"2018-01-22T21:36:00\",\"2018-01-23T00:00:00\",\"2018-01-23T02:24:00\",\"2018-01-22T21:36:00\"],\"y\":[2909.468125,2976.69625,2909.468125,2909.468125]},{\"fill\":\"toself\",\"line\":{\"color\":\"red\"},\"mode\":\"lines\",\"showlegend\":false,\"type\":\"scatter\",\"x\":[\"2018-01-23T21:36:00\",\"2018-01-24T00:00:00\",\"2018-01-24T02:24:00\",\"2018-01-23T21:36:00\"],\"y\":[2920.198125,2987.42625,2920.198125,2920.198125]},{\"fill\":\"toself\",\"line\":{\"color\":\"green\"},\"mode\":\"lines\",\"showlegend\":false,\"type\":\"scatter\",\"x\":[\"2018-01-24T21:36:00\",\"2018-01-25T00:00:00\",\"2018-01-25T02:24:00\",\"2018-01-24T21:36:00\"],\"y\":[2915.788125,2983.01625,2915.788125,2915.788125]},{\"fill\":\"toself\",\"line\":{\"color\":\"green\"},\"mode\":\"lines\",\"showlegend\":false,\"type\":\"scatter\",\"x\":[\"2018-01-25T21:36:00\",\"2018-01-26T00:00:00\",\"2018-01-26T02:24:00\",\"2018-01-25T21:36:00\"],\"y\":[2940.098125,3007.32625,2940.098125,2940.098125]},{\"fill\":\"toself\",\"line\":{\"color\":\"green\"},\"mode\":\"lines\",\"showlegend\":false,\"type\":\"scatter\",\"x\":[\"2018-01-28T21:36:00\",\"2018-01-29T00:00:00\",\"2018-01-29T02:24:00\",\"2018-01-28T21:36:00\"],\"y\":[2784.251875,2717.02375,2784.251875,2784.251875]},{\"fill\":\"toself\",\"line\":{\"color\":\"green\"},\"mode\":\"lines\",\"showlegend\":false,\"type\":\"scatter\",\"x\":[\"2018-01-29T21:36:00\",\"2018-01-30T00:00:00\",\"2018-01-30T02:24:00\",\"2018-01-29T21:36:00\"],\"y\":[2751.041875,2683.81375,2751.041875,2751.041875]},{\"fill\":\"toself\",\"line\":{\"color\":\"green\"},\"mode\":\"lines\",\"showlegend\":false,\"type\":\"scatter\",\"x\":[\"2018-01-30T21:36:00\",\"2018-01-31T00:00:00\",\"2018-01-31T02:24:00\",\"2018-01-30T21:36:00\"],\"y\":[2745.811875,2678.58375,2745.811875,2745.811875]},{\"fill\":\"toself\",\"line\":{\"color\":\"red\"},\"mode\":\"lines\",\"showlegend\":false,\"type\":\"scatter\",\"x\":[\"2018-01-31T21:36:00\",\"2018-02-01T00:00:00\",\"2018-02-01T02:24:00\",\"2018-01-31T21:36:00\"],\"y\":[2745.4718749999997,2678.2437499999996,2745.4718749999997,2745.4718749999997]},{\"fill\":\"toself\",\"line\":{\"color\":\"green\"},\"mode\":\"lines\",\"showlegend\":false,\"type\":\"scatter\",\"x\":[\"2018-02-01T21:36:00\",\"2018-02-02T00:00:00\",\"2018-02-02T02:24:00\",\"2018-02-01T21:36:00\"],\"y\":[2692.7418749999997,2625.5137499999996,2692.7418749999997,2692.7418749999997]},{\"fill\":\"toself\",\"line\":{\"color\":\"red\"},\"mode\":\"lines\",\"showlegend\":false,\"type\":\"scatter\",\"x\":[\"2018-02-04T21:36:00\",\"2018-02-05T00:00:00\",\"2018-02-05T02:24:00\",\"2018-02-04T21:36:00\"],\"y\":[2830.618125,2897.84625,2830.618125,2830.618125]},{\"fill\":\"toself\",\"line\":{\"color\":\"green\"},\"mode\":\"lines\",\"showlegend\":false,\"type\":\"scatter\",\"x\":[\"2018-02-05T21:36:00\",\"2018-02-06T00:00:00\",\"2018-02-06T02:24:00\",\"2018-02-05T21:36:00\"],\"y\":[2768.268125,2835.49625,2768.268125,2768.268125]},{\"fill\":\"toself\",\"line\":{\"color\":\"green\"},\"mode\":\"lines\",\"showlegend\":false,\"type\":\"scatter\",\"x\":[\"2018-02-06T21:36:00\",\"2018-02-07T00:00:00\",\"2018-02-07T02:24:00\",\"2018-02-06T21:36:00\"],\"y\":[2794.898125,2862.1262500000003,2794.898125,2794.898125]},{\"fill\":\"toself\",\"line\":{\"color\":\"green\"},\"mode\":\"lines\",\"showlegend\":false,\"type\":\"scatter\",\"x\":[\"2018-02-07T21:36:00\",\"2018-02-08T00:00:00\",\"2018-02-08T02:24:00\",\"2018-02-07T21:36:00\"],\"y\":[2513.331875,2446.1037499999998,2513.331875,2513.331875]},{\"fill\":\"toself\",\"line\":{\"color\":\"green\"},\"mode\":\"lines\",\"showlegend\":false,\"type\":\"scatter\",\"x\":[\"2018-02-08T21:36:00\",\"2018-02-09T00:00:00\",\"2018-02-09T02:24:00\",\"2018-02-08T21:36:00\"],\"y\":[2705.898125,2773.1262500000003,2705.898125,2705.898125]},{\"fill\":\"toself\",\"line\":{\"color\":\"red\"},\"mode\":\"lines\",\"showlegend\":false,\"type\":\"scatter\",\"x\":[\"2018-02-11T21:36:00\",\"2018-02-12T00:00:00\",\"2018-02-12T02:24:00\",\"2018-02-11T21:36:00\"],\"y\":[2555.2218749999997,2487.9937499999996,2555.2218749999997,2555.2218749999997]},{\"fill\":\"toself\",\"line\":{\"color\":\"red\"},\"mode\":\"lines\",\"showlegend\":false,\"type\":\"scatter\",\"x\":[\"2018-02-12T21:36:00\",\"2018-02-13T00:00:00\",\"2018-02-13T02:24:00\",\"2018-02-12T21:36:00\"],\"y\":[2569.851875,2502.6237499999997,2569.851875,2569.851875]},{\"fill\":\"toself\",\"line\":{\"color\":\"green\"},\"mode\":\"lines\",\"showlegend\":false,\"type\":\"scatter\",\"x\":[\"2018-02-13T21:36:00\",\"2018-02-14T00:00:00\",\"2018-02-14T02:24:00\",\"2018-02-13T21:36:00\"],\"y\":[2769.328125,2836.55625,2769.328125,2769.328125]},{\"fill\":\"toself\",\"line\":{\"color\":\"red\"},\"mode\":\"lines\",\"showlegend\":false,\"type\":\"scatter\",\"x\":[\"2018-02-14T21:36:00\",\"2018-02-15T00:00:00\",\"2018-02-15T02:24:00\",\"2018-02-14T21:36:00\"],\"y\":[2622.591875,2555.36375,2622.591875,2622.591875]},{\"fill\":\"toself\",\"line\":{\"color\":\"red\"},\"mode\":\"lines\",\"showlegend\":false,\"type\":\"scatter\",\"x\":[\"2018-02-15T21:36:00\",\"2018-02-16T00:00:00\",\"2018-02-16T02:24:00\",\"2018-02-15T21:36:00\"],\"y\":[2657.881875,2590.65375,2657.881875,2657.881875]},{\"fill\":\"toself\",\"line\":{\"color\":\"red\"},\"mode\":\"lines\",\"showlegend\":false,\"type\":\"scatter\",\"x\":[\"2018-02-19T21:36:00\",\"2018-02-20T00:00:00\",\"2018-02-20T02:24:00\",\"2018-02-19T21:36:00\"],\"y\":[2804.828125,2872.05625,2804.828125,2804.828125]},{\"fill\":\"toself\",\"line\":{\"color\":\"red\"},\"mode\":\"lines\",\"showlegend\":false,\"type\":\"scatter\",\"x\":[\"2018-02-20T21:36:00\",\"2018-02-21T00:00:00\",\"2018-02-21T02:24:00\",\"2018-02-20T21:36:00\"],\"y\":[2814.978125,2882.20625,2814.978125,2814.978125]},{\"fill\":\"toself\",\"line\":{\"color\":\"green\"},\"mode\":\"lines\",\"showlegend\":false,\"type\":\"scatter\",\"x\":[\"2018-02-21T21:36:00\",\"2018-02-22T00:00:00\",\"2018-02-22T02:24:00\",\"2018-02-21T21:36:00\"],\"y\":[2798.4881250000003,2865.7162500000004,2798.4881250000003,2798.4881250000003]},{\"fill\":\"toself\",\"line\":{\"color\":\"green\"},\"mode\":\"lines\",\"showlegend\":false,\"type\":\"scatter\",\"x\":[\"2018-02-22T21:36:00\",\"2018-02-23T00:00:00\",\"2018-02-23T02:24:00\",\"2018-02-22T21:36:00\"],\"y\":[2814.9881250000003,2882.2162500000004,2814.9881250000003,2814.9881250000003]},{\"fill\":\"toself\",\"line\":{\"color\":\"green\"},\"mode\":\"lines\",\"showlegend\":false,\"type\":\"scatter\",\"x\":[\"2018-02-25T21:36:00\",\"2018-02-26T00:00:00\",\"2018-02-26T02:24:00\",\"2018-02-25T21:36:00\"],\"y\":[2847.868125,2915.09625,2847.868125,2847.868125]},{\"fill\":\"toself\",\"line\":{\"color\":\"red\"},\"mode\":\"lines\",\"showlegend\":false,\"type\":\"scatter\",\"x\":[\"2018-02-26T21:36:00\",\"2018-02-27T00:00:00\",\"2018-02-27T02:24:00\",\"2018-02-26T21:36:00\"],\"y\":[2856.378125,2923.6062500000003,2856.378125,2856.378125]},{\"fill\":\"toself\",\"line\":{\"color\":\"green\"},\"mode\":\"lines\",\"showlegend\":false,\"type\":\"scatter\",\"x\":[\"2018-02-27T21:36:00\",\"2018-02-28T00:00:00\",\"2018-02-28T02:24:00\",\"2018-02-27T21:36:00\"],\"y\":[2646.311875,2579.08375,2646.311875,2646.311875]},{\"fill\":\"toself\",\"line\":{\"color\":\"red\"},\"mode\":\"lines\",\"showlegend\":false,\"type\":\"scatter\",\"x\":[\"2018-02-28T21:36:00\",\"2018-03-01T00:00:00\",\"2018-03-01T02:24:00\",\"2018-02-28T21:36:00\"],\"y\":[2798.118125,2865.34625,2798.118125,2798.118125]},{\"fill\":\"toself\",\"line\":{\"color\":\"green\"},\"mode\":\"lines\",\"showlegend\":false,\"type\":\"scatter\",\"x\":[\"2018-03-01T21:36:00\",\"2018-03-02T00:00:00\",\"2018-03-02T02:24:00\",\"2018-03-01T21:36:00\"],\"y\":[2763.478125,2830.70625,2763.478125,2763.478125]},{\"fill\":\"toself\",\"line\":{\"color\":\"green\"},\"mode\":\"lines\",\"showlegend\":false,\"type\":\"scatter\",\"x\":[\"2018-03-04T21:36:00\",\"2018-03-05T00:00:00\",\"2018-03-05T02:24:00\",\"2018-03-04T21:36:00\"],\"y\":[2795.3181250000002,2862.5462500000003,2795.3181250000002,2795.3181250000002]},{\"fill\":\"toself\",\"line\":{\"color\":\"green\"},\"mode\":\"lines\",\"showlegend\":false,\"type\":\"scatter\",\"x\":[\"2018-03-05T21:36:00\",\"2018-03-06T00:00:00\",\"2018-03-06T02:24:00\",\"2018-03-05T21:36:00\"],\"y\":[2644.031875,2576.80375,2644.031875,2644.031875]},{\"fill\":\"toself\",\"line\":{\"color\":\"green\"},\"mode\":\"lines\",\"showlegend\":false,\"type\":\"scatter\",\"x\":[\"2018-03-06T21:36:00\",\"2018-03-07T00:00:00\",\"2018-03-07T02:24:00\",\"2018-03-06T21:36:00\"],\"y\":[2797.828125,2865.05625,2797.828125,2797.828125]},{\"fill\":\"toself\",\"line\":{\"color\":\"green\"},\"mode\":\"lines\",\"showlegend\":false,\"type\":\"scatter\",\"x\":[\"2018-03-07T21:36:00\",\"2018-03-08T00:00:00\",\"2018-03-08T02:24:00\",\"2018-03-07T21:36:00\"],\"y\":[2807.678125,2874.90625,2807.678125,2807.678125]},{\"fill\":\"toself\",\"line\":{\"color\":\"green\"},\"mode\":\"lines\",\"showlegend\":false,\"type\":\"scatter\",\"x\":[\"2018-03-08T21:36:00\",\"2018-03-09T00:00:00\",\"2018-03-09T02:24:00\",\"2018-03-08T21:36:00\"],\"y\":[2853.7981250000003,2921.0262500000003,2853.7981250000003,2853.7981250000003]},{\"fill\":\"toself\",\"line\":{\"color\":\"red\"},\"mode\":\"lines\",\"showlegend\":false,\"type\":\"scatter\",\"x\":[\"2018-03-11T21:36:00\",\"2018-03-12T00:00:00\",\"2018-03-12T02:24:00\",\"2018-03-11T21:36:00\"],\"y\":[2864.208125,2931.43625,2864.208125,2864.208125]},{\"fill\":\"toself\",\"line\":{\"color\":\"red\"},\"mode\":\"lines\",\"showlegend\":false,\"type\":\"scatter\",\"x\":[\"2018-03-12T21:36:00\",\"2018-03-13T00:00:00\",\"2018-03-13T02:24:00\",\"2018-03-12T21:36:00\"],\"y\":[2869.128125,2936.3562500000003,2869.128125,2869.128125]},{\"fill\":\"toself\",\"line\":{\"color\":\"red\"},\"mode\":\"lines\",\"showlegend\":false,\"type\":\"scatter\",\"x\":[\"2018-03-13T21:36:00\",\"2018-03-14T00:00:00\",\"2018-03-14T02:24:00\",\"2018-03-13T21:36:00\"],\"y\":[2844.338125,2911.5662500000003,2844.338125,2844.338125]},{\"fill\":\"toself\",\"line\":{\"color\":\"green\"},\"mode\":\"lines\",\"showlegend\":false,\"type\":\"scatter\",\"x\":[\"2018-03-14T21:36:00\",\"2018-03-15T00:00:00\",\"2018-03-15T02:24:00\",\"2018-03-14T21:36:00\"],\"y\":[2830.2581250000003,2897.4862500000004,2830.2581250000003,2830.2581250000003]},{\"fill\":\"toself\",\"line\":{\"color\":\"green\"},\"mode\":\"lines\",\"showlegend\":false,\"type\":\"scatter\",\"x\":[\"2018-03-15T21:36:00\",\"2018-03-16T00:00:00\",\"2018-03-16T02:24:00\",\"2018-03-15T21:36:00\"],\"y\":[2829.078125,2896.30625,2829.078125,2829.078125]},{\"fill\":\"toself\",\"line\":{\"color\":\"green\"},\"mode\":\"lines\",\"showlegend\":false,\"type\":\"scatter\",\"x\":[\"2018-03-18T21:36:00\",\"2018-03-19T00:00:00\",\"2018-03-19T02:24:00\",\"2018-03-18T21:36:00\"],\"y\":[2627.361875,2560.13375,2627.361875,2627.361875]},{\"fill\":\"toself\",\"line\":{\"color\":\"red\"},\"mode\":\"lines\",\"showlegend\":false,\"type\":\"scatter\",\"x\":[\"2018-03-19T21:36:00\",\"2018-03-20T00:00:00\",\"2018-03-20T02:24:00\",\"2018-03-19T21:36:00\"],\"y\":[2642.821875,2575.59375,2642.821875,2642.821875]},{\"fill\":\"toself\",\"line\":{\"color\":\"red\"},\"mode\":\"lines\",\"showlegend\":false,\"type\":\"scatter\",\"x\":[\"2018-03-20T21:36:00\",\"2018-03-21T00:00:00\",\"2018-03-21T02:24:00\",\"2018-03-20T21:36:00\"],\"y\":[2806.368125,2873.59625,2806.368125,2806.368125]},{\"fill\":\"toself\",\"line\":{\"color\":\"red\"},\"mode\":\"lines\",\"showlegend\":false,\"type\":\"scatter\",\"x\":[\"2018-03-21T21:36:00\",\"2018-03-22T00:00:00\",\"2018-03-22T02:24:00\",\"2018-03-21T21:36:00\"],\"y\":[2762.908125,2830.13625,2762.908125,2762.908125]},{\"fill\":\"toself\",\"line\":{\"color\":\"green\"},\"mode\":\"lines\",\"showlegend\":false,\"type\":\"scatter\",\"x\":[\"2018-03-22T21:36:00\",\"2018-03-23T00:00:00\",\"2018-03-23T02:24:00\",\"2018-03-22T21:36:00\"],\"y\":[2518.661875,2451.4337499999997,2518.661875,2518.661875]},{\"fill\":\"toself\",\"line\":{\"color\":\"green\"},\"mode\":\"lines\",\"showlegend\":false,\"type\":\"scatter\",\"x\":[\"2018-03-25T21:36:00\",\"2018-03-26T00:00:00\",\"2018-03-26T02:24:00\",\"2018-03-25T21:36:00\"],\"y\":[2728.588125,2795.8162500000003,2728.588125,2728.588125]},{\"fill\":\"toself\",\"line\":{\"color\":\"green\"},\"mode\":\"lines\",\"showlegend\":false,\"type\":\"scatter\",\"x\":[\"2018-03-26T21:36:00\",\"2018-03-27T00:00:00\",\"2018-03-27T02:24:00\",\"2018-03-26T21:36:00\"],\"y\":[2528.891875,2461.6637499999997,2528.891875,2528.891875]},{\"fill\":\"toself\",\"line\":{\"color\":\"red\"},\"mode\":\"lines\",\"showlegend\":false,\"type\":\"scatter\",\"x\":[\"2018-03-27T21:36:00\",\"2018-03-28T00:00:00\",\"2018-03-28T02:24:00\",\"2018-03-27T21:36:00\"],\"y\":[2699.878125,2767.1062500000003,2699.878125,2699.878125]},{\"fill\":\"toself\",\"line\":{\"color\":\"red\"},\"mode\":\"lines\",\"showlegend\":false,\"type\":\"scatter\",\"x\":[\"2018-03-28T21:36:00\",\"2018-03-29T00:00:00\",\"2018-03-29T02:24:00\",\"2018-03-28T21:36:00\"],\"y\":[2542.4918749999997,2475.2637499999996,2542.4918749999997,2542.4918749999997]},{\"fill\":\"toself\",\"line\":{\"color\":\"green\"},\"mode\":\"lines\",\"showlegend\":false,\"type\":\"scatter\",\"x\":[\"2018-04-01T21:36:00\",\"2018-04-02T00:00:00\",\"2018-04-02T02:24:00\",\"2018-04-01T21:36:00\"],\"y\":[2486.571875,2419.34375,2486.571875,2486.571875]},{\"fill\":\"toself\",\"line\":{\"color\":\"green\"},\"mode\":\"lines\",\"showlegend\":false,\"type\":\"scatter\",\"x\":[\"2018-04-02T21:36:00\",\"2018-04-03T00:00:00\",\"2018-04-03T02:24:00\",\"2018-04-02T21:36:00\"],\"y\":[2686.368125,2753.59625,2686.368125,2686.368125]},{\"fill\":\"toself\",\"line\":{\"color\":\"red\"},\"mode\":\"lines\",\"showlegend\":false,\"type\":\"scatter\",\"x\":[\"2018-04-03T21:36:00\",\"2018-04-04T00:00:00\",\"2018-04-04T02:24:00\",\"2018-04-03T21:36:00\"],\"y\":[2506.381875,2439.15375,2506.381875,2506.381875]},{\"fill\":\"toself\",\"line\":{\"color\":\"red\"},\"mode\":\"lines\",\"showlegend\":false,\"type\":\"scatter\",\"x\":[\"2018-04-04T21:36:00\",\"2018-04-05T00:00:00\",\"2018-04-05T02:24:00\",\"2018-04-04T21:36:00\"],\"y\":[2582.351875,2515.1237499999997,2582.351875,2582.351875]},{\"fill\":\"toself\",\"line\":{\"color\":\"red\"},\"mode\":\"lines\",\"showlegend\":false,\"type\":\"scatter\",\"x\":[\"2018-04-05T21:36:00\",\"2018-04-06T00:00:00\",\"2018-04-06T02:24:00\",\"2018-04-05T21:36:00\"],\"y\":[2724.108125,2791.3362500000003,2724.108125,2724.108125]},{\"fill\":\"toself\",\"line\":{\"color\":\"red\"},\"mode\":\"lines\",\"showlegend\":false,\"type\":\"scatter\",\"x\":[\"2018-04-08T21:36:00\",\"2018-04-09T00:00:00\",\"2018-04-09T02:24:00\",\"2018-04-08T21:36:00\"],\"y\":[2720.7781250000003,2788.0062500000004,2720.7781250000003,2720.7781250000003]},{\"fill\":\"toself\",\"line\":{\"color\":\"red\"},\"mode\":\"lines\",\"showlegend\":false,\"type\":\"scatter\",\"x\":[\"2018-04-09T21:36:00\",\"2018-04-10T00:00:00\",\"2018-04-10T02:24:00\",\"2018-04-09T21:36:00\"],\"y\":[2568.551875,2501.32375,2568.551875,2568.551875]},{\"fill\":\"toself\",\"line\":{\"color\":\"green\"},\"mode\":\"lines\",\"showlegend\":false,\"type\":\"scatter\",\"x\":[\"2018-04-10T21:36:00\",\"2018-04-11T00:00:00\",\"2018-04-11T02:24:00\",\"2018-04-10T21:36:00\"],\"y\":[2572.021875,2504.79375,2572.021875,2572.021875]},{\"fill\":\"toself\",\"line\":{\"color\":\"green\"},\"mode\":\"lines\",\"showlegend\":false,\"type\":\"scatter\",\"x\":[\"2018-04-11T21:36:00\",\"2018-04-12T00:00:00\",\"2018-04-12T02:24:00\",\"2018-04-11T21:36:00\"],\"y\":[2741.948125,2809.17625,2741.948125,2741.948125]},{\"fill\":\"toself\",\"line\":{\"color\":\"red\"},\"mode\":\"lines\",\"showlegend\":false,\"type\":\"scatter\",\"x\":[\"2018-04-12T21:36:00\",\"2018-04-13T00:00:00\",\"2018-04-13T02:24:00\",\"2018-04-12T21:36:00\"],\"y\":[2747.4881250000003,2814.7162500000004,2747.4881250000003,2747.4881250000003]},{\"fill\":\"toself\",\"line\":{\"color\":\"green\"},\"mode\":\"lines\",\"showlegend\":false,\"type\":\"scatter\",\"x\":[\"2018-04-15T21:36:00\",\"2018-04-16T00:00:00\",\"2018-04-16T02:24:00\",\"2018-04-15T21:36:00\"],\"y\":[2753.718125,2820.94625,2753.718125,2753.718125]},{\"fill\":\"toself\",\"line\":{\"color\":\"green\"},\"mode\":\"lines\",\"showlegend\":false,\"type\":\"scatter\",\"x\":[\"2018-04-16T21:36:00\",\"2018-04-17T00:00:00\",\"2018-04-17T02:24:00\",\"2018-04-16T21:36:00\"],\"y\":[2780.5681250000002,2847.7962500000003,2780.5681250000002,2780.5681250000002]},{\"fill\":\"toself\",\"line\":{\"color\":\"red\"},\"mode\":\"lines\",\"showlegend\":false,\"type\":\"scatter\",\"x\":[\"2018-04-17T21:36:00\",\"2018-04-18T00:00:00\",\"2018-04-18T02:24:00\",\"2018-04-17T21:36:00\"],\"y\":[2784.718125,2851.94625,2784.718125,2784.718125]},{\"fill\":\"toself\",\"line\":{\"color\":\"red\"},\"mode\":\"lines\",\"showlegend\":false,\"type\":\"scatter\",\"x\":[\"2018-04-18T21:36:00\",\"2018-04-19T00:00:00\",\"2018-04-19T02:24:00\",\"2018-04-18T21:36:00\"],\"y\":[2770.0681250000002,2837.2962500000003,2770.0681250000002,2770.0681250000002]},{\"fill\":\"toself\",\"line\":{\"color\":\"red\"},\"mode\":\"lines\",\"showlegend\":false,\"type\":\"scatter\",\"x\":[\"2018-04-19T21:36:00\",\"2018-04-20T00:00:00\",\"2018-04-20T02:24:00\",\"2018-04-19T21:36:00\"],\"y\":[2761.168125,2828.3962500000002,2761.168125,2761.168125]},{\"fill\":\"toself\",\"line\":{\"color\":\"green\"},\"mode\":\"lines\",\"showlegend\":false,\"type\":\"scatter\",\"x\":[\"2018-04-22T21:36:00\",\"2018-04-23T00:00:00\",\"2018-04-23T02:24:00\",\"2018-04-22T21:36:00\"],\"y\":[2590.7618749999997,2523.5337499999996,2590.7618749999997,2590.7618749999997]},{\"fill\":\"toself\",\"line\":{\"color\":\"red\"},\"mode\":\"lines\",\"showlegend\":false,\"type\":\"scatter\",\"x\":[\"2018-04-23T21:36:00\",\"2018-04-24T00:00:00\",\"2018-04-24T02:24:00\",\"2018-04-23T21:36:00\"],\"y\":[2750.7781250000003,2818.0062500000004,2750.7781250000003,2750.7781250000003]},{\"fill\":\"toself\",\"line\":{\"color\":\"green\"},\"mode\":\"lines\",\"showlegend\":false,\"type\":\"scatter\",\"x\":[\"2018-04-24T21:36:00\",\"2018-04-25T00:00:00\",\"2018-04-25T02:24:00\",\"2018-04-24T21:36:00\"],\"y\":[2712.5281250000003,2779.7562500000004,2712.5281250000003,2712.5281250000003]},{\"fill\":\"toself\",\"line\":{\"color\":\"green\"},\"mode\":\"lines\",\"showlegend\":false,\"type\":\"scatter\",\"x\":[\"2018-04-25T21:36:00\",\"2018-04-26T00:00:00\",\"2018-04-26T02:24:00\",\"2018-04-25T21:36:00\"],\"y\":[2743.708125,2810.93625,2743.708125,2743.708125]},{\"fill\":\"toself\",\"line\":{\"color\":\"red\"},\"mode\":\"lines\",\"showlegend\":false,\"type\":\"scatter\",\"x\":[\"2018-04-26T21:36:00\",\"2018-04-27T00:00:00\",\"2018-04-27T02:24:00\",\"2018-04-26T21:36:00\"],\"y\":[2744.578125,2811.80625,2744.578125,2744.578125]},{\"fill\":\"toself\",\"line\":{\"color\":\"red\"},\"mode\":\"lines\",\"showlegend\":false,\"type\":\"scatter\",\"x\":[\"2018-04-29T21:36:00\",\"2018-04-30T00:00:00\",\"2018-04-30T02:24:00\",\"2018-04-29T21:36:00\"],\"y\":[2750.148125,2817.3762500000003,2750.148125,2750.148125]},{\"fill\":\"toself\",\"line\":{\"color\":\"green\"},\"mode\":\"lines\",\"showlegend\":false,\"type\":\"scatter\",\"x\":[\"2018-04-30T21:36:00\",\"2018-05-01T00:00:00\",\"2018-05-01T02:24:00\",\"2018-04-30T21:36:00\"],\"y\":[2558.1818749999998,2490.9537499999997,2558.1818749999998,2558.1818749999998]},{\"fill\":\"toself\",\"line\":{\"color\":\"green\"},\"mode\":\"lines\",\"showlegend\":false,\"type\":\"scatter\",\"x\":[\"2018-05-01T21:36:00\",\"2018-05-02T00:00:00\",\"2018-05-02T02:24:00\",\"2018-05-01T21:36:00\"],\"y\":[2564.4718749999997,2497.2437499999996,2564.4718749999997,2564.4718749999997]},{\"fill\":\"toself\",\"line\":{\"color\":\"green\"},\"mode\":\"lines\",\"showlegend\":false,\"type\":\"scatter\",\"x\":[\"2018-05-02T21:36:00\",\"2018-05-03T00:00:00\",\"2018-05-03T02:24:00\",\"2018-05-02T21:36:00\"],\"y\":[2704.368125,2771.59625,2704.368125,2704.368125]},{\"fill\":\"toself\",\"line\":{\"color\":\"red\"},\"mode\":\"lines\",\"showlegend\":false,\"type\":\"scatter\",\"x\":[\"2018-05-03T21:36:00\",\"2018-05-04T00:00:00\",\"2018-05-04T02:24:00\",\"2018-05-03T21:36:00\"],\"y\":[2548.091875,2480.86375,2548.091875,2548.091875]},{\"fill\":\"toself\",\"line\":{\"color\":\"red\"},\"mode\":\"lines\",\"showlegend\":false,\"type\":\"scatter\",\"x\":[\"2018-05-06T21:36:00\",\"2018-05-07T00:00:00\",\"2018-05-07T02:24:00\",\"2018-05-06T21:36:00\"],\"y\":[2597.4718749999997,2530.2437499999996,2597.4718749999997,2597.4718749999997]},{\"fill\":\"toself\",\"line\":{\"color\":\"green\"},\"mode\":\"lines\",\"showlegend\":false,\"type\":\"scatter\",\"x\":[\"2018-05-07T21:36:00\",\"2018-05-08T00:00:00\",\"2018-05-08T02:24:00\",\"2018-05-07T21:36:00\"],\"y\":[2743.5681250000002,2810.7962500000003,2743.5681250000002,2743.5681250000002]},{\"fill\":\"toself\",\"line\":{\"color\":\"green\"},\"mode\":\"lines\",\"showlegend\":false,\"type\":\"scatter\",\"x\":[\"2018-05-08T21:36:00\",\"2018-05-09T00:00:00\",\"2018-05-09T02:24:00\",\"2018-05-08T21:36:00\"],\"y\":[2768.498125,2835.72625,2768.498125,2768.498125]},{\"fill\":\"toself\",\"line\":{\"color\":\"green\"},\"mode\":\"lines\",\"showlegend\":false,\"type\":\"scatter\",\"x\":[\"2018-05-09T21:36:00\",\"2018-05-10T00:00:00\",\"2018-05-10T02:24:00\",\"2018-05-09T21:36:00\"],\"y\":[2793.338125,2860.5662500000003,2793.338125,2793.338125]},{\"fill\":\"toself\",\"line\":{\"color\":\"green\"},\"mode\":\"lines\",\"showlegend\":false,\"type\":\"scatter\",\"x\":[\"2018-05-10T21:36:00\",\"2018-05-11T00:00:00\",\"2018-05-11T02:24:00\",\"2018-05-10T21:36:00\"],\"y\":[2800.088125,2867.3162500000003,2800.088125,2800.088125]},{\"fill\":\"toself\",\"line\":{\"color\":\"green\"},\"mode\":\"lines\",\"showlegend\":false,\"type\":\"scatter\",\"x\":[\"2018-05-13T21:36:00\",\"2018-05-14T00:00:00\",\"2018-05-14T02:24:00\",\"2018-05-13T21:36:00\"],\"y\":[2809.328125,2876.55625,2809.328125,2809.328125]},{\"fill\":\"toself\",\"line\":{\"color\":\"red\"},\"mode\":\"lines\",\"showlegend\":false,\"type\":\"scatter\",\"x\":[\"2018-05-14T21:36:00\",\"2018-05-15T00:00:00\",\"2018-05-15T02:24:00\",\"2018-05-14T21:36:00\"],\"y\":[2785.8181250000002,2853.0462500000003,2785.8181250000002,2785.8181250000002]},{\"fill\":\"toself\",\"line\":{\"color\":\"green\"},\"mode\":\"lines\",\"showlegend\":false,\"type\":\"scatter\",\"x\":[\"2018-05-15T21:36:00\",\"2018-05-16T00:00:00\",\"2018-05-16T02:24:00\",\"2018-05-15T21:36:00\"],\"y\":[2794.9881250000003,2862.2162500000004,2794.9881250000003,2794.9881250000003]},{\"fill\":\"toself\",\"line\":{\"color\":\"green\"},\"mode\":\"lines\",\"showlegend\":false,\"type\":\"scatter\",\"x\":[\"2018-05-16T21:36:00\",\"2018-05-17T00:00:00\",\"2018-05-17T02:24:00\",\"2018-05-16T21:36:00\"],\"y\":[2644.131875,2576.90375,2644.131875,2644.131875]},{\"fill\":\"toself\",\"line\":{\"color\":\"green\"},\"mode\":\"lines\",\"showlegend\":false,\"type\":\"scatter\",\"x\":[\"2018-05-17T21:36:00\",\"2018-05-18T00:00:00\",\"2018-05-18T02:24:00\",\"2018-05-17T21:36:00\"],\"y\":[2786.728125,2853.95625,2786.728125,2786.728125]},{\"fill\":\"toself\",\"line\":{\"color\":\"green\"},\"mode\":\"lines\",\"showlegend\":false,\"type\":\"scatter\",\"x\":[\"2018-05-20T21:36:00\",\"2018-05-21T00:00:00\",\"2018-05-21T02:24:00\",\"2018-05-20T21:36:00\"],\"y\":[2806.418125,2873.6462500000002,2806.418125,2806.418125]},{\"fill\":\"toself\",\"line\":{\"color\":\"red\"},\"mode\":\"lines\",\"showlegend\":false,\"type\":\"scatter\",\"x\":[\"2018-05-21T21:36:00\",\"2018-05-22T00:00:00\",\"2018-05-22T02:24:00\",\"2018-05-21T21:36:00\"],\"y\":[2809.468125,2876.69625,2809.468125,2809.468125]},{\"fill\":\"toself\",\"line\":{\"color\":\"green\"},\"mode\":\"lines\",\"showlegend\":false,\"type\":\"scatter\",\"x\":[\"2018-05-22T21:36:00\",\"2018-05-23T00:00:00\",\"2018-05-23T02:24:00\",\"2018-05-22T21:36:00\"],\"y\":[2800.558125,2867.78625,2800.558125,2800.558125]},{\"fill\":\"toself\",\"line\":{\"color\":\"red\"},\"mode\":\"lines\",\"showlegend\":false,\"type\":\"scatter\",\"x\":[\"2018-05-23T21:36:00\",\"2018-05-24T00:00:00\",\"2018-05-24T02:24:00\",\"2018-05-23T21:36:00\"],\"y\":[2799.198125,2866.42625,2799.198125,2799.198125]},{\"fill\":\"toself\",\"line\":{\"color\":\"red\"},\"mode\":\"lines\",\"showlegend\":false,\"type\":\"scatter\",\"x\":[\"2018-05-24T21:36:00\",\"2018-05-25T00:00:00\",\"2018-05-25T02:24:00\",\"2018-05-24T21:36:00\"],\"y\":[2794.588125,2861.8162500000003,2794.588125,2794.588125]},{\"fill\":\"toself\",\"line\":{\"color\":\"red\"},\"mode\":\"lines\",\"showlegend\":false,\"type\":\"scatter\",\"x\":[\"2018-05-28T21:36:00\",\"2018-05-29T00:00:00\",\"2018-05-29T02:24:00\",\"2018-05-28T21:36:00\"],\"y\":[2777.898125,2845.1262500000003,2777.898125,2777.898125]},{\"fill\":\"toself\",\"line\":{\"color\":\"green\"},\"mode\":\"lines\",\"showlegend\":false,\"type\":\"scatter\",\"x\":[\"2018-05-29T21:36:00\",\"2018-05-30T00:00:00\",\"2018-05-30T02:24:00\",\"2018-05-29T21:36:00\"],\"y\":[2796.5681250000002,2863.7962500000003,2796.5681250000002,2796.5681250000002]},{\"fill\":\"toself\",\"line\":{\"color\":\"green\"},\"mode\":\"lines\",\"showlegend\":false,\"type\":\"scatter\",\"x\":[\"2018-05-30T21:36:00\",\"2018-05-31T00:00:00\",\"2018-05-31T02:24:00\",\"2018-05-30T21:36:00\"],\"y\":[2633.4518749999997,2566.2237499999997,2633.4518749999997,2633.4518749999997]},{\"fill\":\"toself\",\"line\":{\"color\":\"green\"},\"mode\":\"lines\",\"showlegend\":false,\"type\":\"scatter\",\"x\":[\"2018-05-31T21:36:00\",\"2018-06-01T00:00:00\",\"2018-06-01T02:24:00\",\"2018-05-31T21:36:00\"],\"y\":[2804.158125,2871.38625,2804.158125,2804.158125]},{\"fill\":\"toself\",\"line\":{\"color\":\"green\"},\"mode\":\"lines\",\"showlegend\":false,\"type\":\"scatter\",\"x\":[\"2018-06-03T21:36:00\",\"2018-06-04T00:00:00\",\"2018-06-04T02:24:00\",\"2018-06-03T21:36:00\"],\"y\":[2816.388125,2883.61625,2816.388125,2816.388125]},{\"fill\":\"toself\",\"line\":{\"color\":\"red\"},\"mode\":\"lines\",\"showlegend\":false,\"type\":\"scatter\",\"x\":[\"2018-06-04T21:36:00\",\"2018-06-05T00:00:00\",\"2018-06-05T02:24:00\",\"2018-06-04T21:36:00\"],\"y\":[2819.838125,2887.0662500000003,2819.838125,2819.838125]},{\"fill\":\"toself\",\"line\":{\"color\":\"green\"},\"mode\":\"lines\",\"showlegend\":false,\"type\":\"scatter\",\"x\":[\"2018-06-05T21:36:00\",\"2018-06-06T00:00:00\",\"2018-06-06T02:24:00\",\"2018-06-05T21:36:00\"],\"y\":[2839.618125,2906.84625,2839.618125,2839.618125]},{\"fill\":\"toself\",\"line\":{\"color\":\"green\"},\"mode\":\"lines\",\"showlegend\":false,\"type\":\"scatter\",\"x\":[\"2018-06-06T21:36:00\",\"2018-06-07T00:00:00\",\"2018-06-07T02:24:00\",\"2018-06-06T21:36:00\"],\"y\":[2847.128125,2914.3562500000003,2847.128125,2847.128125]},{\"fill\":\"toself\",\"line\":{\"color\":\"green\"},\"mode\":\"lines\",\"showlegend\":false,\"type\":\"scatter\",\"x\":[\"2018-06-07T21:36:00\",\"2018-06-08T00:00:00\",\"2018-06-08T02:24:00\",\"2018-06-07T21:36:00\"],\"y\":[2846.618125,2913.84625,2846.618125,2846.618125]},{\"fill\":\"toself\",\"line\":{\"color\":\"green\"},\"mode\":\"lines\",\"showlegend\":false,\"type\":\"scatter\",\"x\":[\"2018-06-10T21:36:00\",\"2018-06-11T00:00:00\",\"2018-06-11T02:24:00\",\"2018-06-10T21:36:00\"],\"y\":[2712.941875,2645.71375,2712.941875,2712.941875]},{\"fill\":\"toself\",\"line\":{\"color\":\"green\"},\"mode\":\"lines\",\"showlegend\":false,\"type\":\"scatter\",\"x\":[\"2018-06-11T21:36:00\",\"2018-06-12T00:00:00\",\"2018-06-12T02:24:00\",\"2018-06-11T21:36:00\"],\"y\":[2711.551875,2644.32375,2711.551875,2711.551875]},{\"fill\":\"toself\",\"line\":{\"color\":\"green\"},\"mode\":\"lines\",\"showlegend\":false,\"type\":\"scatter\",\"x\":[\"2018-06-12T21:36:00\",\"2018-06-13T00:00:00\",\"2018-06-13T02:24:00\",\"2018-06-12T21:36:00\"],\"y\":[2707.421875,2640.19375,2707.421875,2707.421875]},{\"fill\":\"toself\",\"line\":{\"color\":\"red\"},\"mode\":\"lines\",\"showlegend\":false,\"type\":\"scatter\",\"x\":[\"2018-06-13T21:36:00\",\"2018-06-14T00:00:00\",\"2018-06-14T02:24:00\",\"2018-06-13T21:36:00\"],\"y\":[2856.288125,2923.51625,2856.288125,2856.288125]},{\"fill\":\"toself\",\"line\":{\"color\":\"green\"},\"mode\":\"lines\",\"showlegend\":false,\"type\":\"scatter\",\"x\":[\"2018-06-14T21:36:00\",\"2018-06-15T00:00:00\",\"2018-06-15T02:24:00\",\"2018-06-14T21:36:00\"],\"y\":[2694.501875,2627.27375,2694.501875,2694.501875]},{\"fill\":\"toself\",\"line\":{\"color\":\"green\"},\"mode\":\"lines\",\"showlegend\":false,\"type\":\"scatter\",\"x\":[\"2018-06-17T21:36:00\",\"2018-06-18T00:00:00\",\"2018-06-18T02:24:00\",\"2018-06-17T21:36:00\"],\"y\":[2842.218125,2909.44625,2842.218125,2842.218125]},{\"fill\":\"toself\",\"line\":{\"color\":\"red\"},\"mode\":\"lines\",\"showlegend\":false,\"type\":\"scatter\",\"x\":[\"2018-06-18T21:36:00\",\"2018-06-19T00:00:00\",\"2018-06-19T02:24:00\",\"2018-06-18T21:36:00\"],\"y\":[2832.2781250000003,2899.5062500000004,2832.2781250000003,2832.2781250000003]},{\"fill\":\"toself\",\"line\":{\"color\":\"red\"},\"mode\":\"lines\",\"showlegend\":false,\"type\":\"scatter\",\"x\":[\"2018-06-19T21:36:00\",\"2018-06-20T00:00:00\",\"2018-06-20T02:24:00\",\"2018-06-19T21:36:00\"],\"y\":[2842.088125,2909.3162500000003,2842.088125,2842.088125]},{\"fill\":\"toself\",\"line\":{\"color\":\"green\"},\"mode\":\"lines\",\"showlegend\":false,\"type\":\"scatter\",\"x\":[\"2018-06-20T21:36:00\",\"2018-06-21T00:00:00\",\"2018-06-21T02:24:00\",\"2018-06-20T21:36:00\"],\"y\":[2677.161875,2609.9337499999997,2677.161875,2677.161875]},{\"fill\":\"toself\",\"line\":{\"color\":\"green\"},\"mode\":\"lines\",\"showlegend\":false,\"type\":\"scatter\",\"x\":[\"2018-06-21T21:36:00\",\"2018-06-22T00:00:00\",\"2018-06-22T02:24:00\",\"2018-06-21T21:36:00\"],\"y\":[2831.398125,2898.6262500000003,2831.398125,2831.398125]},{\"fill\":\"toself\",\"line\":{\"color\":\"green\"},\"mode\":\"lines\",\"showlegend\":false,\"type\":\"scatter\",\"x\":[\"2018-06-24T21:36:00\",\"2018-06-25T00:00:00\",\"2018-06-25T02:24:00\",\"2018-06-24T21:36:00\"],\"y\":[2631.441875,2564.21375,2631.441875,2631.441875]},{\"fill\":\"toself\",\"line\":{\"color\":\"red\"},\"mode\":\"lines\",\"showlegend\":false,\"type\":\"scatter\",\"x\":[\"2018-06-25T21:36:00\",\"2018-06-26T00:00:00\",\"2018-06-26T02:24:00\",\"2018-06-25T21:36:00\"],\"y\":[2648.371875,2581.1437499999997,2648.371875,2648.371875]},{\"fill\":\"toself\",\"line\":{\"color\":\"red\"},\"mode\":\"lines\",\"showlegend\":false,\"type\":\"scatter\",\"x\":[\"2018-06-26T21:36:00\",\"2018-06-27T00:00:00\",\"2018-06-27T02:24:00\",\"2018-06-26T21:36:00\"],\"y\":[2813.3181250000002,2880.5462500000003,2813.3181250000002,2813.3181250000002]},{\"fill\":\"toself\",\"line\":{\"color\":\"green\"},\"mode\":\"lines\",\"showlegend\":false,\"type\":\"scatter\",\"x\":[\"2018-06-27T21:36:00\",\"2018-06-28T00:00:00\",\"2018-06-28T02:24:00\",\"2018-06-27T21:36:00\"],\"y\":[2791.5681250000002,2858.7962500000003,2791.5681250000002,2791.5681250000002]},{\"fill\":\"toself\",\"line\":{\"color\":\"red\"},\"mode\":\"lines\",\"showlegend\":false,\"type\":\"scatter\",\"x\":[\"2018-06-28T21:36:00\",\"2018-06-29T00:00:00\",\"2018-06-29T02:24:00\",\"2018-06-28T21:36:00\"],\"y\":[2810.4881250000003,2877.7162500000004,2810.4881250000003,2810.4881250000003]},{\"fill\":\"toself\",\"line\":{\"color\":\"green\"},\"mode\":\"lines\",\"showlegend\":false,\"type\":\"scatter\",\"x\":[\"2018-07-01T21:36:00\",\"2018-07-02T00:00:00\",\"2018-07-02T02:24:00\",\"2018-07-01T21:36:00\"],\"y\":[2794.4881250000003,2861.7162500000004,2794.4881250000003,2794.4881250000003]},{\"fill\":\"toself\",\"line\":{\"color\":\"red\"},\"mode\":\"lines\",\"showlegend\":false,\"type\":\"scatter\",\"x\":[\"2018-07-02T21:36:00\",\"2018-07-03T00:00:00\",\"2018-07-03T02:24:00\",\"2018-07-02T21:36:00\"],\"y\":[2803.808125,2871.03625,2803.808125,2803.808125]},{\"fill\":\"toself\",\"line\":{\"color\":\"green\"},\"mode\":\"lines\",\"showlegend\":false,\"type\":\"scatter\",\"x\":[\"2018-07-04T21:36:00\",\"2018-07-05T00:00:00\",\"2018-07-05T02:24:00\",\"2018-07-04T21:36:00\"],\"y\":[2805.058125,2872.28625,2805.058125,2805.058125]},{\"fill\":\"toself\",\"line\":{\"color\":\"green\"},\"mode\":\"lines\",\"showlegend\":false,\"type\":\"scatter\",\"x\":[\"2018-07-05T21:36:00\",\"2018-07-06T00:00:00\",\"2018-07-06T02:24:00\",\"2018-07-05T21:36:00\"],\"y\":[2831.638125,2898.86625,2831.638125,2831.638125]},{\"fill\":\"toself\",\"line\":{\"color\":\"red\"},\"mode\":\"lines\",\"showlegend\":false,\"type\":\"scatter\",\"x\":[\"2018-07-08T21:36:00\",\"2018-07-09T00:00:00\",\"2018-07-09T02:24:00\",\"2018-07-08T21:36:00\"],\"y\":[2701.281875,2634.05375,2701.281875,2701.281875]},{\"fill\":\"toself\",\"line\":{\"color\":\"red\"},\"mode\":\"lines\",\"showlegend\":false,\"type\":\"scatter\",\"x\":[\"2018-07-09T21:36:00\",\"2018-07-10T00:00:00\",\"2018-07-10T02:24:00\",\"2018-07-09T21:36:00\"],\"y\":[2719.0118749999997,2651.7837499999996,2719.0118749999997,2719.0118749999997]},{\"fill\":\"toself\",\"line\":{\"color\":\"green\"},\"mode\":\"lines\",\"showlegend\":false,\"type\":\"scatter\",\"x\":[\"2018-07-10T21:36:00\",\"2018-07-11T00:00:00\",\"2018-07-11T02:24:00\",\"2018-07-10T21:36:00\"],\"y\":[2703.541875,2636.31375,2703.541875,2703.541875]},{\"fill\":\"toself\",\"line\":{\"color\":\"green\"},\"mode\":\"lines\",\"showlegend\":false,\"type\":\"scatter\",\"x\":[\"2018-07-11T21:36:00\",\"2018-07-12T00:00:00\",\"2018-07-12T02:24:00\",\"2018-07-11T21:36:00\"],\"y\":[2866.448125,2933.67625,2866.448125,2866.448125]},{\"fill\":\"toself\",\"line\":{\"color\":\"green\"},\"mode\":\"lines\",\"showlegend\":false,\"type\":\"scatter\",\"x\":[\"2018-07-12T21:36:00\",\"2018-07-13T00:00:00\",\"2018-07-13T02:24:00\",\"2018-07-12T21:36:00\"],\"y\":[2871.7581250000003,2938.9862500000004,2871.7581250000003,2871.7581250000003]},{\"fill\":\"toself\",\"line\":{\"color\":\"green\"},\"mode\":\"lines\",\"showlegend\":false,\"type\":\"scatter\",\"x\":[\"2018-07-15T21:36:00\",\"2018-07-16T00:00:00\",\"2018-07-16T02:24:00\",\"2018-07-15T21:36:00\"],\"y\":[2870.938125,2938.16625,2870.938125,2870.938125]},{\"fill\":\"toself\",\"line\":{\"color\":\"green\"},\"mode\":\"lines\",\"showlegend\":false,\"type\":\"scatter\",\"x\":[\"2018-07-16T21:36:00\",\"2018-07-17T00:00:00\",\"2018-07-17T02:24:00\",\"2018-07-16T21:36:00\"],\"y\":[2881.418125,2948.6462500000002,2881.418125,2881.418125]},{\"fill\":\"toself\",\"line\":{\"color\":\"green\"},\"mode\":\"lines\",\"showlegend\":false,\"type\":\"scatter\",\"x\":[\"2018-07-17T21:36:00\",\"2018-07-18T00:00:00\",\"2018-07-18T02:24:00\",\"2018-07-17T21:36:00\"],\"y\":[2883.9881250000003,2951.2162500000004,2883.9881250000003,2883.9881250000003]},{\"fill\":\"toself\",\"line\":{\"color\":\"red\"},\"mode\":\"lines\",\"showlegend\":false,\"type\":\"scatter\",\"x\":[\"2018-07-18T21:36:00\",\"2018-07-19T00:00:00\",\"2018-07-19T02:24:00\",\"2018-07-18T21:36:00\"],\"y\":[2879.2781250000003,2946.5062500000004,2879.2781250000003,2879.2781250000003]},{\"fill\":\"toself\",\"line\":{\"color\":\"green\"},\"mode\":\"lines\",\"showlegend\":false,\"type\":\"scatter\",\"x\":[\"2018-07-19T21:36:00\",\"2018-07-20T00:00:00\",\"2018-07-20T02:24:00\",\"2018-07-19T21:36:00\"],\"y\":[2876.928125,2944.15625,2876.928125,2876.928125]},{\"fill\":\"toself\",\"line\":{\"color\":\"green\"},\"mode\":\"lines\",\"showlegend\":false,\"type\":\"scatter\",\"x\":[\"2018-07-22T21:36:00\",\"2018-07-23T00:00:00\",\"2018-07-23T02:24:00\",\"2018-07-22T21:36:00\"],\"y\":[2875.838125,2943.0662500000003,2875.838125,2875.838125]},{\"fill\":\"toself\",\"line\":{\"color\":\"green\"},\"mode\":\"lines\",\"showlegend\":false,\"type\":\"scatter\",\"x\":[\"2018-07-23T21:36:00\",\"2018-07-24T00:00:00\",\"2018-07-24T02:24:00\",\"2018-07-23T21:36:00\"],\"y\":[2897.218125,2964.44625,2897.218125,2897.218125]},{\"fill\":\"toself\",\"line\":{\"color\":\"green\"},\"mode\":\"lines\",\"showlegend\":false,\"type\":\"scatter\",\"x\":[\"2018-07-24T21:36:00\",\"2018-07-25T00:00:00\",\"2018-07-25T02:24:00\",\"2018-07-24T21:36:00\"],\"y\":[2915.2581250000003,2982.4862500000004,2915.2581250000003,2915.2581250000003]},{\"fill\":\"toself\",\"line\":{\"color\":\"green\"},\"mode\":\"lines\",\"showlegend\":false,\"type\":\"scatter\",\"x\":[\"2018-07-25T21:36:00\",\"2018-07-26T00:00:00\",\"2018-07-26T02:24:00\",\"2018-07-25T21:36:00\"],\"y\":[2912.7981250000003,2980.0262500000003,2912.7981250000003,2912.7981250000003]},{\"fill\":\"toself\",\"line\":{\"color\":\"green\"},\"mode\":\"lines\",\"showlegend\":false,\"type\":\"scatter\",\"x\":[\"2018-07-26T21:36:00\",\"2018-07-27T00:00:00\",\"2018-07-27T02:24:00\",\"2018-07-26T21:36:00\"],\"y\":[2741.111875,2673.88375,2741.111875,2741.111875]},{\"fill\":\"toself\",\"line\":{\"color\":\"green\"},\"mode\":\"lines\",\"showlegend\":false,\"type\":\"scatter\",\"x\":[\"2018-07-29T21:36:00\",\"2018-07-30T00:00:00\",\"2018-07-30T02:24:00\",\"2018-07-29T21:36:00\"],\"y\":[2730.881875,2663.65375,2730.881875,2730.881875]},{\"fill\":\"toself\",\"line\":{\"color\":\"green\"},\"mode\":\"lines\",\"showlegend\":false,\"type\":\"scatter\",\"x\":[\"2018-07-30T21:36:00\",\"2018-07-31T00:00:00\",\"2018-07-31T02:24:00\",\"2018-07-30T21:36:00\"],\"y\":[2891.688125,2958.91625,2891.688125,2891.688125]},{\"fill\":\"toself\",\"line\":{\"color\":\"red\"},\"mode\":\"lines\",\"showlegend\":false,\"type\":\"scatter\",\"x\":[\"2018-07-31T21:36:00\",\"2018-08-01T00:00:00\",\"2018-08-01T02:24:00\",\"2018-07-31T21:36:00\"],\"y\":[2893.058125,2960.28625,2893.058125,2893.058125]},{\"fill\":\"toself\",\"line\":{\"color\":\"red\"},\"mode\":\"lines\",\"showlegend\":false,\"type\":\"scatter\",\"x\":[\"2018-08-01T21:36:00\",\"2018-08-02T00:00:00\",\"2018-08-02T02:24:00\",\"2018-08-01T21:36:00\"],\"y\":[2729.111875,2661.88375,2729.111875,2729.111875]},{\"fill\":\"toself\",\"line\":{\"color\":\"green\"},\"mode\":\"lines\",\"showlegend\":false,\"type\":\"scatter\",\"x\":[\"2018-08-02T21:36:00\",\"2018-08-03T00:00:00\",\"2018-08-03T02:24:00\",\"2018-08-02T21:36:00\"],\"y\":[2907.608125,2974.8362500000003,2907.608125,2907.608125]},{\"fill\":\"toself\",\"line\":{\"color\":\"red\"},\"mode\":\"lines\",\"showlegend\":false,\"type\":\"scatter\",\"x\":[\"2018-08-05T21:36:00\",\"2018-08-06T00:00:00\",\"2018-08-06T02:24:00\",\"2018-08-05T21:36:00\"],\"y\":[2768.751875,2701.52375,2768.751875,2768.751875]},{\"fill\":\"toself\",\"line\":{\"color\":\"green\"},\"mode\":\"lines\",\"showlegend\":false,\"type\":\"scatter\",\"x\":[\"2018-08-06T21:36:00\",\"2018-08-07T00:00:00\",\"2018-08-07T02:24:00\",\"2018-08-06T21:36:00\"],\"y\":[2930.658125,2997.88625,2930.658125,2930.658125]},{\"fill\":\"toself\",\"line\":{\"color\":\"green\"},\"mode\":\"lines\",\"showlegend\":false,\"type\":\"scatter\",\"x\":[\"2018-08-07T21:36:00\",\"2018-08-08T00:00:00\",\"2018-08-08T02:24:00\",\"2018-08-07T21:36:00\"],\"y\":[2785.861875,2718.63375,2785.861875,2785.861875]},{\"fill\":\"toself\",\"line\":{\"color\":\"red\"},\"mode\":\"lines\",\"showlegend\":false,\"type\":\"scatter\",\"x\":[\"2018-08-08T21:36:00\",\"2018-08-09T00:00:00\",\"2018-08-09T02:24:00\",\"2018-08-08T21:36:00\"],\"y\":[2929.708125,2996.93625,2929.708125,2929.708125]},{\"fill\":\"toself\",\"line\":{\"color\":\"red\"},\"mode\":\"lines\",\"showlegend\":false,\"type\":\"scatter\",\"x\":[\"2018-08-09T21:36:00\",\"2018-08-10T00:00:00\",\"2018-08-10T02:24:00\",\"2018-08-09T21:36:00\"],\"y\":[2909.428125,2976.65625,2909.428125,2909.428125]},{\"fill\":\"toself\",\"line\":{\"color\":\"red\"},\"mode\":\"lines\",\"showlegend\":false,\"type\":\"scatter\",\"x\":[\"2018-08-12T21:36:00\",\"2018-08-13T00:00:00\",\"2018-08-13T02:24:00\",\"2018-08-12T21:36:00\"],\"y\":[2910.628125,2977.8562500000003,2910.628125,2910.628125]},{\"fill\":\"toself\",\"line\":{\"color\":\"red\"},\"mode\":\"lines\",\"showlegend\":false,\"type\":\"scatter\",\"x\":[\"2018-08-13T21:36:00\",\"2018-08-14T00:00:00\",\"2018-08-14T02:24:00\",\"2018-08-13T21:36:00\"],\"y\":[2759.351875,2692.1237499999997,2759.351875,2759.351875]},{\"fill\":\"toself\",\"line\":{\"color\":\"green\"},\"mode\":\"lines\",\"showlegend\":false,\"type\":\"scatter\",\"x\":[\"2018-08-14T21:36:00\",\"2018-08-15T00:00:00\",\"2018-08-15T02:24:00\",\"2018-08-14T21:36:00\"],\"y\":[2735.2618749999997,2668.0337499999996,2735.2618749999997,2735.2618749999997]},{\"fill\":\"toself\",\"line\":{\"color\":\"red\"},\"mode\":\"lines\",\"showlegend\":false,\"type\":\"scatter\",\"x\":[\"2018-08-15T21:36:00\",\"2018-08-16T00:00:00\",\"2018-08-16T02:24:00\",\"2018-08-15T21:36:00\"],\"y\":[2764.211875,2696.98375,2764.211875,2764.211875]},{\"fill\":\"toself\",\"line\":{\"color\":\"green\"},\"mode\":\"lines\",\"showlegend\":false,\"type\":\"scatter\",\"x\":[\"2018-08-16T21:36:00\",\"2018-08-17T00:00:00\",\"2018-08-17T02:24:00\",\"2018-08-16T21:36:00\"],\"y\":[2922.858125,2990.0862500000003,2922.858125,2922.858125]},{\"fill\":\"toself\",\"line\":{\"color\":\"green\"},\"mode\":\"lines\",\"showlegend\":false,\"type\":\"scatter\",\"x\":[\"2018-08-19T21:36:00\",\"2018-08-20T00:00:00\",\"2018-08-20T02:24:00\",\"2018-08-19T21:36:00\"],\"y\":[2926.9881250000003,2994.2162500000004,2926.9881250000003,2926.9881250000003]},{\"fill\":\"toself\",\"line\":{\"color\":\"green\"},\"mode\":\"lines\",\"showlegend\":false,\"type\":\"scatter\",\"x\":[\"2018-08-20T21:36:00\",\"2018-08-21T00:00:00\",\"2018-08-21T02:24:00\",\"2018-08-20T21:36:00\"],\"y\":[2940.458125,3007.68625,2940.458125,2940.458125]},{\"fill\":\"toself\",\"line\":{\"color\":\"green\"},\"mode\":\"lines\",\"showlegend\":false,\"type\":\"scatter\",\"x\":[\"2018-08-21T21:36:00\",\"2018-08-22T00:00:00\",\"2018-08-22T02:24:00\",\"2018-08-21T21:36:00\"],\"y\":[2788.821875,2721.59375,2788.821875,2788.821875]},{\"fill\":\"toself\",\"line\":{\"color\":\"green\"},\"mode\":\"lines\",\"showlegend\":false,\"type\":\"scatter\",\"x\":[\"2018-08-22T21:36:00\",\"2018-08-23T00:00:00\",\"2018-08-23T02:24:00\",\"2018-08-22T21:36:00\"],\"y\":[2786.801875,2719.57375,2786.801875,2786.801875]},{\"fill\":\"toself\",\"line\":{\"color\":\"green\"},\"mode\":\"lines\",\"showlegend\":false,\"type\":\"scatter\",\"x\":[\"2018-08-23T21:36:00\",\"2018-08-24T00:00:00\",\"2018-08-24T02:24:00\",\"2018-08-23T21:36:00\"],\"y\":[2943.388125,3010.61625,2943.388125,2943.388125]},{\"fill\":\"toself\",\"line\":{\"color\":\"red\"},\"mode\":\"lines\",\"showlegend\":false,\"type\":\"scatter\",\"x\":[\"2018-08-26T21:36:00\",\"2018-08-27T00:00:00\",\"2018-08-27T02:24:00\",\"2018-08-26T21:36:00\"],\"y\":[2817.461875,2750.23375,2817.461875,2817.461875]},{\"fill\":\"toself\",\"line\":{\"color\":\"green\"},\"mode\":\"lines\",\"showlegend\":false,\"type\":\"scatter\",\"x\":[\"2018-08-27T21:36:00\",\"2018-08-28T00:00:00\",\"2018-08-28T02:24:00\",\"2018-08-27T21:36:00\"],\"y\":[2826.271875,2759.04375,2826.271875,2826.271875]},{\"fill\":\"toself\",\"line\":{\"color\":\"green\"},\"mode\":\"lines\",\"showlegend\":false,\"type\":\"scatter\",\"x\":[\"2018-08-28T21:36:00\",\"2018-08-29T00:00:00\",\"2018-08-29T02:24:00\",\"2018-08-28T21:36:00\"],\"y\":[2983.728125,3050.95625,2983.728125,2983.728125]},{\"fill\":\"toself\",\"line\":{\"color\":\"red\"},\"mode\":\"lines\",\"showlegend\":false,\"type\":\"scatter\",\"x\":[\"2018-08-29T21:36:00\",\"2018-08-30T00:00:00\",\"2018-08-30T02:24:00\",\"2018-08-29T21:36:00\"],\"y\":[2979.688125,3046.91625,2979.688125,2979.688125]},{\"fill\":\"toself\",\"line\":{\"color\":\"green\"},\"mode\":\"lines\",\"showlegend\":false,\"type\":\"scatter\",\"x\":[\"2018-08-30T21:36:00\",\"2018-08-31T00:00:00\",\"2018-08-31T02:24:00\",\"2018-08-30T21:36:00\"],\"y\":[2824.501875,2757.27375,2824.501875,2824.501875]},{\"fill\":\"toself\",\"line\":{\"color\":\"green\"},\"mode\":\"lines\",\"showlegend\":false,\"type\":\"scatter\",\"x\":[\"2018-09-03T21:36:00\",\"2018-09-04T00:00:00\",\"2018-09-04T02:24:00\",\"2018-09-03T21:36:00\"],\"y\":[2967.408125,3034.63625,2967.408125,2967.408125]},{\"fill\":\"toself\",\"line\":{\"color\":\"red\"},\"mode\":\"lines\",\"showlegend\":false,\"type\":\"scatter\",\"x\":[\"2018-09-04T21:36:00\",\"2018-09-05T00:00:00\",\"2018-09-05T02:24:00\",\"2018-09-04T21:36:00\"],\"y\":[2809.691875,2742.46375,2809.691875,2809.691875]},{\"fill\":\"toself\",\"line\":{\"color\":\"green\"},\"mode\":\"lines\",\"showlegend\":false,\"type\":\"scatter\",\"x\":[\"2018-09-05T21:36:00\",\"2018-09-06T00:00:00\",\"2018-09-06T02:24:00\",\"2018-09-05T21:36:00\"],\"y\":[2959.2781250000003,3026.5062500000004,2959.2781250000003,2959.2781250000003]},{\"fill\":\"toself\",\"line\":{\"color\":\"red\"},\"mode\":\"lines\",\"showlegend\":false,\"type\":\"scatter\",\"x\":[\"2018-09-06T21:36:00\",\"2018-09-07T00:00:00\",\"2018-09-07T02:24:00\",\"2018-09-06T21:36:00\"],\"y\":[2951.038125,3018.26625,2951.038125,2951.038125]},{\"fill\":\"toself\",\"line\":{\"color\":\"green\"},\"mode\":\"lines\",\"showlegend\":false,\"type\":\"scatter\",\"x\":[\"2018-09-09T21:36:00\",\"2018-09-10T00:00:00\",\"2018-09-10T02:24:00\",\"2018-09-09T21:36:00\"],\"y\":[2808.711875,2741.48375,2808.711875,2808.711875]},{\"fill\":\"toself\",\"line\":{\"color\":\"red\"},\"mode\":\"lines\",\"showlegend\":false,\"type\":\"scatter\",\"x\":[\"2018-09-10T21:36:00\",\"2018-09-11T00:00:00\",\"2018-09-11T02:24:00\",\"2018-09-10T21:36:00\"],\"y\":[2799.551875,2732.32375,2799.551875,2799.551875]},{\"fill\":\"toself\",\"line\":{\"color\":\"red\"},\"mode\":\"lines\",\"showlegend\":false,\"type\":\"scatter\",\"x\":[\"2018-09-11T21:36:00\",\"2018-09-12T00:00:00\",\"2018-09-12T02:24:00\",\"2018-09-11T21:36:00\"],\"y\":[2811.9718749999997,2744.7437499999996,2811.9718749999997,2811.9718749999997]},{\"fill\":\"toself\",\"line\":{\"color\":\"red\"},\"mode\":\"lines\",\"showlegend\":false,\"type\":\"scatter\",\"x\":[\"2018-09-12T21:36:00\",\"2018-09-13T00:00:00\",\"2018-09-13T02:24:00\",\"2018-09-12T21:36:00\"],\"y\":[2829.161875,2761.9337499999997,2829.161875,2829.161875]},{\"fill\":\"toself\",\"line\":{\"color\":\"green\"},\"mode\":\"lines\",\"showlegend\":false,\"type\":\"scatter\",\"x\":[\"2018-09-13T21:36:00\",\"2018-09-14T00:00:00\",\"2018-09-14T02:24:00\",\"2018-09-13T21:36:00\"],\"y\":[2828.541875,2761.31375,2828.541875,2828.541875]},{\"fill\":\"toself\",\"line\":{\"color\":\"red\"},\"mode\":\"lines\",\"showlegend\":false,\"type\":\"scatter\",\"x\":[\"2018-09-16T21:36:00\",\"2018-09-17T00:00:00\",\"2018-09-17T02:24:00\",\"2018-09-16T21:36:00\"],\"y\":[2971.878125,3039.1062500000003,2971.878125,2971.878125]},{\"fill\":\"toself\",\"line\":{\"color\":\"green\"},\"mode\":\"lines\",\"showlegend\":false,\"type\":\"scatter\",\"x\":[\"2018-09-17T21:36:00\",\"2018-09-18T00:00:00\",\"2018-09-18T02:24:00\",\"2018-09-17T21:36:00\"],\"y\":[2978.398125,3045.6262500000003,2978.398125,2978.398125]},{\"fill\":\"toself\",\"line\":{\"color\":\"green\"},\"mode\":\"lines\",\"showlegend\":false,\"type\":\"scatter\",\"x\":[\"2018-09-18T21:36:00\",\"2018-09-19T00:00:00\",\"2018-09-19T02:24:00\",\"2018-09-18T21:36:00\"],\"y\":[2979.588125,3046.8162500000003,2979.588125,2979.588125]},{\"fill\":\"toself\",\"line\":{\"color\":\"red\"},\"mode\":\"lines\",\"showlegend\":false,\"type\":\"scatter\",\"x\":[\"2018-09-19T21:36:00\",\"2018-09-20T00:00:00\",\"2018-09-20T02:24:00\",\"2018-09-19T21:36:00\"],\"y\":[2852.501875,2785.27375,2852.501875,2852.501875]},{\"fill\":\"toself\",\"line\":{\"color\":\"red\"},\"mode\":\"lines\",\"showlegend\":false,\"type\":\"scatter\",\"x\":[\"2018-09-20T21:36:00\",\"2018-09-21T00:00:00\",\"2018-09-21T02:24:00\",\"2018-09-20T21:36:00\"],\"y\":[2859.881875,2792.65375,2859.881875,2859.881875]},{\"fill\":\"toself\",\"line\":{\"color\":\"red\"},\"mode\":\"lines\",\"showlegend\":false,\"type\":\"scatter\",\"x\":[\"2018-09-23T21:36:00\",\"2018-09-24T00:00:00\",\"2018-09-24T02:24:00\",\"2018-09-23T21:36:00\"],\"y\":[2991.018125,3058.24625,2991.018125,2991.018125]},{\"fill\":\"toself\",\"line\":{\"color\":\"red\"},\"mode\":\"lines\",\"showlegend\":false,\"type\":\"scatter\",\"x\":[\"2018-09-24T21:36:00\",\"2018-09-25T00:00:00\",\"2018-09-25T02:24:00\",\"2018-09-24T21:36:00\"],\"y\":[2991.178125,3058.40625,2991.178125,2991.178125]},{\"fill\":\"toself\",\"line\":{\"color\":\"green\"},\"mode\":\"lines\",\"showlegend\":false,\"type\":\"scatter\",\"x\":[\"2018-09-25T21:36:00\",\"2018-09-26T00:00:00\",\"2018-09-26T02:24:00\",\"2018-09-25T21:36:00\"],\"y\":[2836.051875,2768.82375,2836.051875,2836.051875]},{\"fill\":\"toself\",\"line\":{\"color\":\"green\"},\"mode\":\"lines\",\"showlegend\":false,\"type\":\"scatter\",\"x\":[\"2018-09-26T21:36:00\",\"2018-09-27T00:00:00\",\"2018-09-27T02:24:00\",\"2018-09-26T21:36:00\"],\"y\":[2994.448125,3061.67625,2994.448125,2994.448125]},{\"fill\":\"toself\",\"line\":{\"color\":\"green\"},\"mode\":\"lines\",\"showlegend\":false,\"type\":\"scatter\",\"x\":[\"2018-09-27T21:36:00\",\"2018-09-28T00:00:00\",\"2018-09-28T02:24:00\",\"2018-09-27T21:36:00\"],\"y\":[2987.7581250000003,3054.9862500000004,2987.7581250000003,2987.7581250000003]},{\"fill\":\"toself\",\"line\":{\"color\":\"green\"},\"mode\":\"lines\",\"showlegend\":false,\"type\":\"scatter\",\"x\":[\"2018-09-30T21:36:00\",\"2018-10-01T00:00:00\",\"2018-10-01T02:24:00\",\"2018-09-30T21:36:00\"],\"y\":[3004.288125,3071.51625,3004.288125,3004.288125]},{\"fill\":\"toself\",\"line\":{\"color\":\"green\"},\"mode\":\"lines\",\"showlegend\":false,\"type\":\"scatter\",\"x\":[\"2018-10-01T21:36:00\",\"2018-10-02T00:00:00\",\"2018-10-02T02:24:00\",\"2018-10-01T21:36:00\"],\"y\":[2998.648125,3065.8762500000003,2998.648125,2998.648125]},{\"fill\":\"toself\",\"line\":{\"color\":\"green\"},\"mode\":\"lines\",\"showlegend\":false,\"type\":\"scatter\",\"x\":[\"2018-10-02T21:36:00\",\"2018-10-03T00:00:00\",\"2018-10-03T02:24:00\",\"2018-10-02T21:36:00\"],\"y\":[2854.131875,2786.90375,2854.131875,2854.131875]},{\"fill\":\"toself\",\"line\":{\"color\":\"green\"},\"mode\":\"lines\",\"showlegend\":false,\"type\":\"scatter\",\"x\":[\"2018-10-03T21:36:00\",\"2018-10-04T00:00:00\",\"2018-10-04T02:24:00\",\"2018-10-03T21:36:00\"],\"y\":[2816.691875,2749.46375,2816.691875,2816.691875]},{\"fill\":\"toself\",\"line\":{\"color\":\"red\"},\"mode\":\"lines\",\"showlegend\":false,\"type\":\"scatter\",\"x\":[\"2018-10-04T21:36:00\",\"2018-10-05T00:00:00\",\"2018-10-05T02:24:00\",\"2018-10-04T21:36:00\"],\"y\":[2976.868125,3044.09625,2976.868125,2976.868125]},{\"fill\":\"toself\",\"line\":{\"color\":\"green\"},\"mode\":\"lines\",\"showlegend\":false,\"type\":\"scatter\",\"x\":[\"2018-10-07T21:36:00\",\"2018-10-08T00:00:00\",\"2018-10-08T02:24:00\",\"2018-10-07T21:36:00\"],\"y\":[2956.678125,3023.90625,2956.678125,2956.678125]},{\"fill\":\"toself\",\"line\":{\"color\":\"red\"},\"mode\":\"lines\",\"showlegend\":false,\"type\":\"scatter\",\"x\":[\"2018-10-08T21:36:00\",\"2018-10-09T00:00:00\",\"2018-10-09T02:24:00\",\"2018-10-08T21:36:00\"],\"y\":[2962.058125,3029.28625,2962.058125,2962.058125]},{\"fill\":\"toself\",\"line\":{\"color\":\"green\"},\"mode\":\"lines\",\"showlegend\":false,\"type\":\"scatter\",\"x\":[\"2018-10-09T21:36:00\",\"2018-10-10T00:00:00\",\"2018-10-10T02:24:00\",\"2018-10-09T21:36:00\"],\"y\":[2717.631875,2650.40375,2717.631875,2717.631875]},{\"fill\":\"toself\",\"line\":{\"color\":\"red\"},\"mode\":\"lines\",\"showlegend\":false,\"type\":\"scatter\",\"x\":[\"2018-10-10T21:36:00\",\"2018-10-11T00:00:00\",\"2018-10-11T02:24:00\",\"2018-10-10T21:36:00\"],\"y\":[2862.368125,2929.59625,2862.368125,2862.368125]},{\"fill\":\"toself\",\"line\":{\"color\":\"red\"},\"mode\":\"lines\",\"showlegend\":false,\"type\":\"scatter\",\"x\":[\"2018-10-11T21:36:00\",\"2018-10-12T00:00:00\",\"2018-10-12T02:24:00\",\"2018-10-11T21:36:00\"],\"y\":[2842.998125,2910.22625,2842.998125,2842.998125]},{\"fill\":\"toself\",\"line\":{\"color\":\"green\"},\"mode\":\"lines\",\"showlegend\":false,\"type\":\"scatter\",\"x\":[\"2018-10-14T21:36:00\",\"2018-10-15T00:00:00\",\"2018-10-15T02:24:00\",\"2018-10-14T21:36:00\"],\"y\":[2681.801875,2614.57375,2681.801875,2681.801875]},{\"fill\":\"toself\",\"line\":{\"color\":\"green\"},\"mode\":\"lines\",\"showlegend\":false,\"type\":\"scatter\",\"x\":[\"2018-10-15T21:36:00\",\"2018-10-16T00:00:00\",\"2018-10-16T02:24:00\",\"2018-10-15T21:36:00\"],\"y\":[2880.688125,2947.91625,2880.688125,2880.688125]},{\"fill\":\"toself\",\"line\":{\"color\":\"green\"},\"mode\":\"lines\",\"showlegend\":false,\"type\":\"scatter\",\"x\":[\"2018-10-16T21:36:00\",\"2018-10-17T00:00:00\",\"2018-10-17T02:24:00\",\"2018-10-16T21:36:00\"],\"y\":[2884.168125,2951.3962500000002,2884.168125,2884.168125]},{\"fill\":\"toself\",\"line\":{\"color\":\"green\"},\"mode\":\"lines\",\"showlegend\":false,\"type\":\"scatter\",\"x\":[\"2018-10-17T21:36:00\",\"2018-10-18T00:00:00\",\"2018-10-18T02:24:00\",\"2018-10-17T21:36:00\"],\"y\":[2687.9518749999997,2620.7237499999997,2687.9518749999997,2687.9518749999997]},{\"fill\":\"toself\",\"line\":{\"color\":\"red\"},\"mode\":\"lines\",\"showlegend\":false,\"type\":\"scatter\",\"x\":[\"2018-10-18T21:36:00\",\"2018-10-19T00:00:00\",\"2018-10-19T02:24:00\",\"2018-10-18T21:36:00\"],\"y\":[2693.041875,2625.81375,2693.041875,2693.041875]},{\"fill\":\"toself\",\"line\":{\"color\":\"green\"},\"mode\":\"lines\",\"showlegend\":false,\"type\":\"scatter\",\"x\":[\"2018-10-21T21:36:00\",\"2018-10-22T00:00:00\",\"2018-10-22T02:24:00\",\"2018-10-21T21:36:00\"],\"y\":[2681.9918749999997,2614.7637499999996,2681.9918749999997,2681.9918749999997]},{\"fill\":\"toself\",\"line\":{\"color\":\"red\"},\"mode\":\"lines\",\"showlegend\":false,\"type\":\"scatter\",\"x\":[\"2018-10-22T21:36:00\",\"2018-10-23T00:00:00\",\"2018-10-23T02:24:00\",\"2018-10-22T21:36:00\"],\"y\":[2624.2018749999997,2556.9737499999997,2624.2018749999997,2624.2018749999997]},{\"fill\":\"toself\",\"line\":{\"color\":\"red\"},\"mode\":\"lines\",\"showlegend\":false,\"type\":\"scatter\",\"x\":[\"2018-10-23T21:36:00\",\"2018-10-24T00:00:00\",\"2018-10-24T02:24:00\",\"2018-10-23T21:36:00\"],\"y\":[2809.8181250000002,2877.0462500000003,2809.8181250000002,2809.8181250000002]},{\"fill\":\"toself\",\"line\":{\"color\":\"green\"},\"mode\":\"lines\",\"showlegend\":false,\"type\":\"scatter\",\"x\":[\"2018-10-24T21:36:00\",\"2018-10-25T00:00:00\",\"2018-10-25T02:24:00\",\"2018-10-24T21:36:00\"],\"y\":[2789.928125,2857.15625,2789.928125,2789.928125]},{\"fill\":\"toself\",\"line\":{\"color\":\"green\"},\"mode\":\"lines\",\"showlegend\":false,\"type\":\"scatter\",\"x\":[\"2018-10-25T21:36:00\",\"2018-10-26T00:00:00\",\"2018-10-26T02:24:00\",\"2018-10-25T21:36:00\"],\"y\":[2560.9318749999998,2493.7037499999997,2560.9318749999998,2560.9318749999998]},{\"fill\":\"toself\",\"line\":{\"color\":\"red\"},\"mode\":\"lines\",\"showlegend\":false,\"type\":\"scatter\",\"x\":[\"2018-10-28T21:36:00\",\"2018-10-29T00:00:00\",\"2018-10-29T02:24:00\",\"2018-10-28T21:36:00\"],\"y\":[2774.078125,2841.30625,2774.078125,2774.078125]},{\"fill\":\"toself\",\"line\":{\"color\":\"green\"},\"mode\":\"lines\",\"showlegend\":false,\"type\":\"scatter\",\"x\":[\"2018-10-29T21:36:00\",\"2018-10-30T00:00:00\",\"2018-10-30T02:24:00\",\"2018-10-29T21:36:00\"],\"y\":[2752.658125,2819.88625,2752.658125,2752.658125]},{\"fill\":\"toself\",\"line\":{\"color\":\"green\"},\"mode\":\"lines\",\"showlegend\":false,\"type\":\"scatter\",\"x\":[\"2018-10-30T21:36:00\",\"2018-10-31T00:00:00\",\"2018-10-31T02:24:00\",\"2018-10-30T21:36:00\"],\"y\":[2803.918125,2871.1462500000002,2803.918125,2803.918125]},{\"fill\":\"toself\",\"line\":{\"color\":\"green\"},\"mode\":\"lines\",\"showlegend\":false,\"type\":\"scatter\",\"x\":[\"2018-10-31T21:36:00\",\"2018-11-01T00:00:00\",\"2018-11-01T02:24:00\",\"2018-10-31T21:36:00\"],\"y\":[2808.898125,2876.1262500000003,2808.898125,2808.898125]},{\"fill\":\"toself\",\"line\":{\"color\":\"red\"},\"mode\":\"lines\",\"showlegend\":false,\"type\":\"scatter\",\"x\":[\"2018-11-01T21:36:00\",\"2018-11-02T00:00:00\",\"2018-11-02T02:24:00\",\"2018-11-01T21:36:00\"],\"y\":[2823.7781250000003,2891.0062500000004,2823.7781250000003,2823.7781250000003]},{\"fill\":\"toself\",\"line\":{\"color\":\"red\"},\"mode\":\"lines\",\"showlegend\":false,\"type\":\"scatter\",\"x\":[\"2018-11-04T21:36:00\",\"2018-11-05T00:00:00\",\"2018-11-05T02:24:00\",\"2018-11-04T21:36:00\"],\"y\":[2650.711875,2583.48375,2650.711875,2650.711875]},{\"fill\":\"toself\",\"line\":{\"color\":\"red\"},\"mode\":\"lines\",\"showlegend\":false,\"type\":\"scatter\",\"x\":[\"2018-11-05T21:36:00\",\"2018-11-06T00:00:00\",\"2018-11-06T02:24:00\",\"2018-11-05T21:36:00\"],\"y\":[2669.851875,2602.6237499999997,2669.851875,2669.851875]},{\"fill\":\"toself\",\"line\":{\"color\":\"red\"},\"mode\":\"lines\",\"showlegend\":false,\"type\":\"scatter\",\"x\":[\"2018-11-06T21:36:00\",\"2018-11-07T00:00:00\",\"2018-11-07T02:24:00\",\"2018-11-06T21:36:00\"],\"y\":[2706.901875,2639.67375,2706.901875,2706.901875]},{\"fill\":\"toself\",\"line\":{\"color\":\"green\"},\"mode\":\"lines\",\"showlegend\":false,\"type\":\"scatter\",\"x\":[\"2018-11-07T21:36:00\",\"2018-11-08T00:00:00\",\"2018-11-08T02:24:00\",\"2018-11-07T21:36:00\"],\"y\":[2881.978125,2949.20625,2881.978125,2881.978125]},{\"fill\":\"toself\",\"line\":{\"color\":\"red\"},\"mode\":\"lines\",\"showlegend\":false,\"type\":\"scatter\",\"x\":[\"2018-11-08T21:36:00\",\"2018-11-09T00:00:00\",\"2018-11-09T02:24:00\",\"2018-11-08T21:36:00\"],\"y\":[2861.328125,2928.55625,2861.328125,2861.328125]},{\"fill\":\"toself\",\"line\":{\"color\":\"red\"},\"mode\":\"lines\",\"showlegend\":false,\"type\":\"scatter\",\"x\":[\"2018-11-11T21:36:00\",\"2018-11-12T00:00:00\",\"2018-11-12T02:24:00\",\"2018-11-11T21:36:00\"],\"y\":[2843.218125,2910.44625,2843.218125,2843.218125]},{\"fill\":\"toself\",\"line\":{\"color\":\"red\"},\"mode\":\"lines\",\"showlegend\":false,\"type\":\"scatter\",\"x\":[\"2018-11-12T21:36:00\",\"2018-11-13T00:00:00\",\"2018-11-13T02:24:00\",\"2018-11-12T21:36:00\"],\"y\":[2821.828125,2889.05625,2821.828125,2821.828125]},{\"fill\":\"toself\",\"line\":{\"color\":\"red\"},\"mode\":\"lines\",\"showlegend\":false,\"type\":\"scatter\",\"x\":[\"2018-11-13T21:36:00\",\"2018-11-14T00:00:00\",\"2018-11-14T02:24:00\",\"2018-11-13T21:36:00\"],\"y\":[2814.0281250000003,2881.2562500000004,2814.0281250000003,2814.0281250000003]},{\"fill\":\"toself\",\"line\":{\"color\":\"green\"},\"mode\":\"lines\",\"showlegend\":false,\"type\":\"scatter\",\"x\":[\"2018-11-14T21:36:00\",\"2018-11-15T00:00:00\",\"2018-11-15T02:24:00\",\"2018-11-14T21:36:00\"],\"y\":[2802.608125,2869.8362500000003,2802.608125,2802.608125]},{\"fill\":\"toself\",\"line\":{\"color\":\"red\"},\"mode\":\"lines\",\"showlegend\":false,\"type\":\"scatter\",\"x\":[\"2018-11-15T21:36:00\",\"2018-11-16T00:00:00\",\"2018-11-16T02:24:00\",\"2018-11-15T21:36:00\"],\"y\":[2644.9318749999998,2577.7037499999997,2644.9318749999998,2644.9318749999998]},{\"fill\":\"toself\",\"line\":{\"color\":\"red\"},\"mode\":\"lines\",\"showlegend\":false,\"type\":\"scatter\",\"x\":[\"2018-11-18T21:36:00\",\"2018-11-19T00:00:00\",\"2018-11-19T02:24:00\",\"2018-11-18T21:36:00\"],\"y\":[2800.388125,2867.61625,2800.388125,2800.388125]},{\"fill\":\"toself\",\"line\":{\"color\":\"red\"},\"mode\":\"lines\",\"showlegend\":false,\"type\":\"scatter\",\"x\":[\"2018-11-19T21:36:00\",\"2018-11-20T00:00:00\",\"2018-11-20T02:24:00\",\"2018-11-19T21:36:00\"],\"y\":[2736.668125,2803.8962500000002,2736.668125,2736.668125]},{\"fill\":\"toself\",\"line\":{\"color\":\"green\"},\"mode\":\"lines\",\"showlegend\":false,\"type\":\"scatter\",\"x\":[\"2018-11-20T21:36:00\",\"2018-11-21T00:00:00\",\"2018-11-21T02:24:00\",\"2018-11-20T21:36:00\"],\"y\":[2582.591875,2515.36375,2582.591875,2582.591875]},{\"fill\":\"toself\",\"line\":{\"color\":\"red\"},\"mode\":\"lines\",\"showlegend\":false,\"type\":\"scatter\",\"x\":[\"2018-11-22T21:36:00\",\"2018-11-23T00:00:00\",\"2018-11-23T02:24:00\",\"2018-11-22T21:36:00\"],\"y\":[2714.7781250000003,2782.0062500000004,2714.7781250000003,2714.7781250000003]},{\"fill\":\"toself\",\"line\":{\"color\":\"green\"},\"mode\":\"lines\",\"showlegend\":false,\"type\":\"scatter\",\"x\":[\"2018-11-25T21:36:00\",\"2018-11-26T00:00:00\",\"2018-11-26T02:24:00\",\"2018-11-25T21:36:00\"],\"y\":[2741.578125,2808.80625,2741.578125,2741.578125]},{\"fill\":\"toself\",\"line\":{\"color\":\"green\"},\"mode\":\"lines\",\"showlegend\":false,\"type\":\"scatter\",\"x\":[\"2018-11-26T21:36:00\",\"2018-11-27T00:00:00\",\"2018-11-27T02:24:00\",\"2018-11-26T21:36:00\"],\"y\":[2749.7581250000003,2816.9862500000004,2749.7581250000003,2749.7581250000003]},{\"fill\":\"toself\",\"line\":{\"color\":\"green\"},\"mode\":\"lines\",\"showlegend\":false,\"type\":\"scatter\",\"x\":[\"2018-11-27T21:36:00\",\"2018-11-28T00:00:00\",\"2018-11-28T02:24:00\",\"2018-11-27T21:36:00\"],\"y\":[2811.228125,2878.45625,2811.228125,2811.228125]},{\"fill\":\"toself\",\"line\":{\"color\":\"green\"},\"mode\":\"lines\",\"showlegend\":false,\"type\":\"scatter\",\"x\":[\"2018-11-28T21:36:00\",\"2018-11-29T00:00:00\",\"2018-11-29T02:24:00\",\"2018-11-28T21:36:00\"],\"y\":[2655.711875,2588.48375,2655.711875,2655.711875]},{\"fill\":\"toself\",\"line\":{\"color\":\"green\"},\"mode\":\"lines\",\"showlegend\":false,\"type\":\"scatter\",\"x\":[\"2018-11-29T21:36:00\",\"2018-11-30T00:00:00\",\"2018-11-30T02:24:00\",\"2018-11-29T21:36:00\"],\"y\":[2828.108125,2895.3362500000003,2828.108125,2828.108125]},{\"fill\":\"toself\",\"line\":{\"color\":\"green\"},\"mode\":\"lines\",\"showlegend\":false,\"type\":\"scatter\",\"x\":[\"2018-12-02T21:36:00\",\"2018-12-03T00:00:00\",\"2018-12-03T02:24:00\",\"2018-12-02T21:36:00\"],\"y\":[2867.408125,2934.63625,2867.408125,2867.408125]},{\"fill\":\"toself\",\"line\":{\"color\":\"red\"},\"mode\":\"lines\",\"showlegend\":false,\"type\":\"scatter\",\"x\":[\"2018-12-03T21:36:00\",\"2018-12-04T00:00:00\",\"2018-12-04T02:24:00\",\"2018-12-03T21:36:00\"],\"y\":[2853.158125,2920.38625,2853.158125,2853.158125]},{\"fill\":\"toself\",\"line\":{\"color\":\"green\"},\"mode\":\"lines\",\"showlegend\":false,\"type\":\"scatter\",\"x\":[\"2018-12-05T21:36:00\",\"2018-12-06T00:00:00\",\"2018-12-06T02:24:00\",\"2018-12-05T21:36:00\"],\"y\":[2763.378125,2830.6062500000003,2763.378125,2763.378125]},{\"fill\":\"toself\",\"line\":{\"color\":\"green\"},\"mode\":\"lines\",\"showlegend\":false,\"type\":\"scatter\",\"x\":[\"2018-12-06T21:36:00\",\"2018-12-07T00:00:00\",\"2018-12-07T02:24:00\",\"2018-12-06T21:36:00\"],\"y\":[2555.911875,2488.6837499999997,2555.911875,2555.911875]},{\"fill\":\"toself\",\"line\":{\"color\":\"green\"},\"mode\":\"lines\",\"showlegend\":false,\"type\":\"scatter\",\"x\":[\"2018-12-09T21:36:00\",\"2018-12-10T00:00:00\",\"2018-12-10T02:24:00\",\"2018-12-09T21:36:00\"],\"y\":[2714.7381250000003,2781.9662500000004,2714.7381250000003,2714.7381250000003]},{\"fill\":\"toself\",\"line\":{\"color\":\"green\"},\"mode\":\"lines\",\"showlegend\":false,\"type\":\"scatter\",\"x\":[\"2018-12-10T21:36:00\",\"2018-12-11T00:00:00\",\"2018-12-11T02:24:00\",\"2018-12-10T21:36:00\"],\"y\":[2554.071875,2486.84375,2554.071875,2554.071875]},{\"fill\":\"toself\",\"line\":{\"color\":\"red\"},\"mode\":\"lines\",\"showlegend\":false,\"type\":\"scatter\",\"x\":[\"2018-12-11T21:36:00\",\"2018-12-12T00:00:00\",\"2018-12-12T02:24:00\",\"2018-12-11T21:36:00\"],\"y\":[2583.031875,2515.80375,2583.031875,2583.031875]},{\"fill\":\"toself\",\"line\":{\"color\":\"green\"},\"mode\":\"lines\",\"showlegend\":false,\"type\":\"scatter\",\"x\":[\"2018-12-12T21:36:00\",\"2018-12-13T00:00:00\",\"2018-12-13T02:24:00\",\"2018-12-12T21:36:00\"],\"y\":[2737.418125,2804.6462500000002,2737.418125,2737.418125]},{\"fill\":\"toself\",\"line\":{\"color\":\"red\"},\"mode\":\"lines\",\"showlegend\":false,\"type\":\"scatter\",\"x\":[\"2018-12-13T21:36:00\",\"2018-12-14T00:00:00\",\"2018-12-14T02:24:00\",\"2018-12-13T21:36:00\"],\"y\":[2702.2981250000003,2769.5262500000003,2702.2981250000003,2702.2981250000003]},{\"fill\":\"toself\",\"line\":{\"color\":\"green\"},\"mode\":\"lines\",\"showlegend\":false,\"type\":\"scatter\",\"x\":[\"2018-12-16T21:36:00\",\"2018-12-17T00:00:00\",\"2018-12-17T02:24:00\",\"2018-12-16T21:36:00\"],\"y\":[2463.311875,2396.08375,2463.311875,2463.311875]},{\"fill\":\"toself\",\"line\":{\"color\":\"red\"},\"mode\":\"lines\",\"showlegend\":false,\"type\":\"scatter\",\"x\":[\"2018-12-17T21:36:00\",\"2018-12-18T00:00:00\",\"2018-12-18T02:24:00\",\"2018-12-17T21:36:00\"],\"y\":[2641.218125,2708.44625,2641.218125,2641.218125]},{\"fill\":\"toself\",\"line\":{\"color\":\"red\"},\"mode\":\"lines\",\"showlegend\":false,\"type\":\"scatter\",\"x\":[\"2018-12-18T21:36:00\",\"2018-12-19T00:00:00\",\"2018-12-19T02:24:00\",\"2018-12-18T21:36:00\"],\"y\":[2652.518125,2719.74625,2652.518125,2652.518125]},{\"fill\":\"toself\",\"line\":{\"color\":\"green\"},\"mode\":\"lines\",\"showlegend\":false,\"type\":\"scatter\",\"x\":[\"2018-12-19T21:36:00\",\"2018-12-20T00:00:00\",\"2018-12-20T02:24:00\",\"2018-12-19T21:36:00\"],\"y\":[2373.9518749999997,2306.7237499999997,2373.9518749999997,2373.9518749999997]},{\"fill\":\"toself\",\"line\":{\"color\":\"red\"},\"mode\":\"lines\",\"showlegend\":false,\"type\":\"scatter\",\"x\":[\"2018-12-20T21:36:00\",\"2018-12-21T00:00:00\",\"2018-12-21T02:24:00\",\"2018-12-20T21:36:00\"],\"y\":[2571.638125,2638.86625,2571.638125,2571.638125]},{\"fill\":\"toself\",\"line\":{\"color\":\"red\"},\"mode\":\"lines\",\"showlegend\":false,\"type\":\"scatter\",\"x\":[\"2018-12-23T21:36:00\",\"2018-12-24T00:00:00\",\"2018-12-24T02:24:00\",\"2018-12-23T21:36:00\"],\"y\":[2477.5681250000002,2544.7962500000003,2477.5681250000002,2477.5681250000002]},{\"fill\":\"toself\",\"line\":{\"color\":\"green\"},\"mode\":\"lines\",\"showlegend\":false,\"type\":\"scatter\",\"x\":[\"2018-12-25T21:36:00\",\"2018-12-26T00:00:00\",\"2018-12-26T02:24:00\",\"2018-12-25T21:36:00\"],\"y\":[2534.9881250000003,2602.2162500000004,2534.9881250000003,2534.9881250000003]},{\"fill\":\"toself\",\"line\":{\"color\":\"red\"},\"mode\":\"lines\",\"showlegend\":false,\"type\":\"scatter\",\"x\":[\"2018-12-26T21:36:00\",\"2018-12-27T00:00:00\",\"2018-12-27T02:24:00\",\"2018-12-26T21:36:00\"],\"y\":[2330.711875,2263.48375,2330.711875,2330.711875]},{\"fill\":\"toself\",\"line\":{\"color\":\"red\"},\"mode\":\"lines\",\"showlegend\":false,\"type\":\"scatter\",\"x\":[\"2018-12-27T21:36:00\",\"2018-12-28T00:00:00\",\"2018-12-28T02:24:00\",\"2018-12-27T21:36:00\"],\"y\":[2587.498125,2654.72625,2587.498125,2587.498125]},{\"fill\":\"toself\",\"line\":{\"color\":\"green\"},\"mode\":\"lines\",\"showlegend\":false,\"type\":\"scatter\",\"x\":[\"2018-12-30T21:36:00\",\"2018-12-31T00:00:00\",\"2018-12-31T02:24:00\",\"2018-12-30T21:36:00\"],\"y\":[2576.468125,2643.69625,2576.468125,2576.468125]}],                        {\"height\":800,\"template\":{\"data\":{\"bar\":[{\"error_x\":{\"color\":\"#2a3f5f\"},\"error_y\":{\"color\":\"#2a3f5f\"},\"marker\":{\"line\":{\"color\":\"#E5ECF6\",\"width\":0.5},\"pattern\":{\"fillmode\":\"overlay\",\"size\":10,\"solidity\":0.2}},\"type\":\"bar\"}],\"barpolar\":[{\"marker\":{\"line\":{\"color\":\"#E5ECF6\",\"width\":0.5},\"pattern\":{\"fillmode\":\"overlay\",\"size\":10,\"solidity\":0.2}},\"type\":\"barpolar\"}],\"carpet\":[{\"aaxis\":{\"endlinecolor\":\"#2a3f5f\",\"gridcolor\":\"white\",\"linecolor\":\"white\",\"minorgridcolor\":\"white\",\"startlinecolor\":\"#2a3f5f\"},\"baxis\":{\"endlinecolor\":\"#2a3f5f\",\"gridcolor\":\"white\",\"linecolor\":\"white\",\"minorgridcolor\":\"white\",\"startlinecolor\":\"#2a3f5f\"},\"type\":\"carpet\"}],\"choropleth\":[{\"colorbar\":{\"outlinewidth\":0,\"ticks\":\"\"},\"type\":\"choropleth\"}],\"contour\":[{\"colorbar\":{\"outlinewidth\":0,\"ticks\":\"\"},\"colorscale\":[[0.0,\"#0d0887\"],[0.1111111111111111,\"#46039f\"],[0.2222222222222222,\"#7201a8\"],[0.3333333333333333,\"#9c179e\"],[0.4444444444444444,\"#bd3786\"],[0.5555555555555556,\"#d8576b\"],[0.6666666666666666,\"#ed7953\"],[0.7777777777777778,\"#fb9f3a\"],[0.8888888888888888,\"#fdca26\"],[1.0,\"#f0f921\"]],\"type\":\"contour\"}],\"contourcarpet\":[{\"colorbar\":{\"outlinewidth\":0,\"ticks\":\"\"},\"type\":\"contourcarpet\"}],\"heatmap\":[{\"colorbar\":{\"outlinewidth\":0,\"ticks\":\"\"},\"colorscale\":[[0.0,\"#0d0887\"],[0.1111111111111111,\"#46039f\"],[0.2222222222222222,\"#7201a8\"],[0.3333333333333333,\"#9c179e\"],[0.4444444444444444,\"#bd3786\"],[0.5555555555555556,\"#d8576b\"],[0.6666666666666666,\"#ed7953\"],[0.7777777777777778,\"#fb9f3a\"],[0.8888888888888888,\"#fdca26\"],[1.0,\"#f0f921\"]],\"type\":\"heatmap\"}],\"heatmapgl\":[{\"colorbar\":{\"outlinewidth\":0,\"ticks\":\"\"},\"colorscale\":[[0.0,\"#0d0887\"],[0.1111111111111111,\"#46039f\"],[0.2222222222222222,\"#7201a8\"],[0.3333333333333333,\"#9c179e\"],[0.4444444444444444,\"#bd3786\"],[0.5555555555555556,\"#d8576b\"],[0.6666666666666666,\"#ed7953\"],[0.7777777777777778,\"#fb9f3a\"],[0.8888888888888888,\"#fdca26\"],[1.0,\"#f0f921\"]],\"type\":\"heatmapgl\"}],\"histogram\":[{\"marker\":{\"pattern\":{\"fillmode\":\"overlay\",\"size\":10,\"solidity\":0.2}},\"type\":\"histogram\"}],\"histogram2d\":[{\"colorbar\":{\"outlinewidth\":0,\"ticks\":\"\"},\"colorscale\":[[0.0,\"#0d0887\"],[0.1111111111111111,\"#46039f\"],[0.2222222222222222,\"#7201a8\"],[0.3333333333333333,\"#9c179e\"],[0.4444444444444444,\"#bd3786\"],[0.5555555555555556,\"#d8576b\"],[0.6666666666666666,\"#ed7953\"],[0.7777777777777778,\"#fb9f3a\"],[0.8888888888888888,\"#fdca26\"],[1.0,\"#f0f921\"]],\"type\":\"histogram2d\"}],\"histogram2dcontour\":[{\"colorbar\":{\"outlinewidth\":0,\"ticks\":\"\"},\"colorscale\":[[0.0,\"#0d0887\"],[0.1111111111111111,\"#46039f\"],[0.2222222222222222,\"#7201a8\"],[0.3333333333333333,\"#9c179e\"],[0.4444444444444444,\"#bd3786\"],[0.5555555555555556,\"#d8576b\"],[0.6666666666666666,\"#ed7953\"],[0.7777777777777778,\"#fb9f3a\"],[0.8888888888888888,\"#fdca26\"],[1.0,\"#f0f921\"]],\"type\":\"histogram2dcontour\"}],\"mesh3d\":[{\"colorbar\":{\"outlinewidth\":0,\"ticks\":\"\"},\"type\":\"mesh3d\"}],\"parcoords\":[{\"line\":{\"colorbar\":{\"outlinewidth\":0,\"ticks\":\"\"}},\"type\":\"parcoords\"}],\"pie\":[{\"automargin\":true,\"type\":\"pie\"}],\"scatter\":[{\"marker\":{\"colorbar\":{\"outlinewidth\":0,\"ticks\":\"\"}},\"type\":\"scatter\"}],\"scatter3d\":[{\"line\":{\"colorbar\":{\"outlinewidth\":0,\"ticks\":\"\"}},\"marker\":{\"colorbar\":{\"outlinewidth\":0,\"ticks\":\"\"}},\"type\":\"scatter3d\"}],\"scattercarpet\":[{\"marker\":{\"colorbar\":{\"outlinewidth\":0,\"ticks\":\"\"}},\"type\":\"scattercarpet\"}],\"scattergeo\":[{\"marker\":{\"colorbar\":{\"outlinewidth\":0,\"ticks\":\"\"}},\"type\":\"scattergeo\"}],\"scattergl\":[{\"marker\":{\"colorbar\":{\"outlinewidth\":0,\"ticks\":\"\"}},\"type\":\"scattergl\"}],\"scattermapbox\":[{\"marker\":{\"colorbar\":{\"outlinewidth\":0,\"ticks\":\"\"}},\"type\":\"scattermapbox\"}],\"scatterpolar\":[{\"marker\":{\"colorbar\":{\"outlinewidth\":0,\"ticks\":\"\"}},\"type\":\"scatterpolar\"}],\"scatterpolargl\":[{\"marker\":{\"colorbar\":{\"outlinewidth\":0,\"ticks\":\"\"}},\"type\":\"scatterpolargl\"}],\"scatterternary\":[{\"marker\":{\"colorbar\":{\"outlinewidth\":0,\"ticks\":\"\"}},\"type\":\"scatterternary\"}],\"surface\":[{\"colorbar\":{\"outlinewidth\":0,\"ticks\":\"\"},\"colorscale\":[[0.0,\"#0d0887\"],[0.1111111111111111,\"#46039f\"],[0.2222222222222222,\"#7201a8\"],[0.3333333333333333,\"#9c179e\"],[0.4444444444444444,\"#bd3786\"],[0.5555555555555556,\"#d8576b\"],[0.6666666666666666,\"#ed7953\"],[0.7777777777777778,\"#fb9f3a\"],[0.8888888888888888,\"#fdca26\"],[1.0,\"#f0f921\"]],\"type\":\"surface\"}],\"table\":[{\"cells\":{\"fill\":{\"color\":\"#EBF0F8\"},\"line\":{\"color\":\"white\"}},\"header\":{\"fill\":{\"color\":\"#C8D4E3\"},\"line\":{\"color\":\"white\"}},\"type\":\"table\"}]},\"layout\":{\"annotationdefaults\":{\"arrowcolor\":\"#2a3f5f\",\"arrowhead\":0,\"arrowwidth\":1},\"autotypenumbers\":\"strict\",\"coloraxis\":{\"colorbar\":{\"outlinewidth\":0,\"ticks\":\"\"}},\"colorscale\":{\"diverging\":[[0,\"#8e0152\"],[0.1,\"#c51b7d\"],[0.2,\"#de77ae\"],[0.3,\"#f1b6da\"],[0.4,\"#fde0ef\"],[0.5,\"#f7f7f7\"],[0.6,\"#e6f5d0\"],[0.7,\"#b8e186\"],[0.8,\"#7fbc41\"],[0.9,\"#4d9221\"],[1,\"#276419\"]],\"sequential\":[[0.0,\"#0d0887\"],[0.1111111111111111,\"#46039f\"],[0.2222222222222222,\"#7201a8\"],[0.3333333333333333,\"#9c179e\"],[0.4444444444444444,\"#bd3786\"],[0.5555555555555556,\"#d8576b\"],[0.6666666666666666,\"#ed7953\"],[0.7777777777777778,\"#fb9f3a\"],[0.8888888888888888,\"#fdca26\"],[1.0,\"#f0f921\"]],\"sequentialminus\":[[0.0,\"#0d0887\"],[0.1111111111111111,\"#46039f\"],[0.2222222222222222,\"#7201a8\"],[0.3333333333333333,\"#9c179e\"],[0.4444444444444444,\"#bd3786\"],[0.5555555555555556,\"#d8576b\"],[0.6666666666666666,\"#ed7953\"],[0.7777777777777778,\"#fb9f3a\"],[0.8888888888888888,\"#fdca26\"],[1.0,\"#f0f921\"]]},\"colorway\":[\"#636efa\",\"#EF553B\",\"#00cc96\",\"#ab63fa\",\"#FFA15A\",\"#19d3f3\",\"#FF6692\",\"#B6E880\",\"#FF97FF\",\"#FECB52\"],\"font\":{\"color\":\"#2a3f5f\"},\"geo\":{\"bgcolor\":\"white\",\"lakecolor\":\"white\",\"landcolor\":\"#E5ECF6\",\"showlakes\":true,\"showland\":true,\"subunitcolor\":\"white\"},\"hoverlabel\":{\"align\":\"left\"},\"hovermode\":\"closest\",\"mapbox\":{\"style\":\"light\"},\"paper_bgcolor\":\"white\",\"plot_bgcolor\":\"#E5ECF6\",\"polar\":{\"angularaxis\":{\"gridcolor\":\"white\",\"linecolor\":\"white\",\"ticks\":\"\"},\"bgcolor\":\"#E5ECF6\",\"radialaxis\":{\"gridcolor\":\"white\",\"linecolor\":\"white\",\"ticks\":\"\"}},\"scene\":{\"xaxis\":{\"backgroundcolor\":\"#E5ECF6\",\"gridcolor\":\"white\",\"gridwidth\":2,\"linecolor\":\"white\",\"showbackground\":true,\"ticks\":\"\",\"zerolinecolor\":\"white\"},\"yaxis\":{\"backgroundcolor\":\"#E5ECF6\",\"gridcolor\":\"white\",\"gridwidth\":2,\"linecolor\":\"white\",\"showbackground\":true,\"ticks\":\"\",\"zerolinecolor\":\"white\"},\"zaxis\":{\"backgroundcolor\":\"#E5ECF6\",\"gridcolor\":\"white\",\"gridwidth\":2,\"linecolor\":\"white\",\"showbackground\":true,\"ticks\":\"\",\"zerolinecolor\":\"white\"}},\"shapedefaults\":{\"line\":{\"color\":\"#2a3f5f\"}},\"ternary\":{\"aaxis\":{\"gridcolor\":\"white\",\"linecolor\":\"white\",\"ticks\":\"\"},\"baxis\":{\"gridcolor\":\"white\",\"linecolor\":\"white\",\"ticks\":\"\"},\"bgcolor\":\"#E5ECF6\",\"caxis\":{\"gridcolor\":\"white\",\"linecolor\":\"white\",\"ticks\":\"\"}},\"title\":{\"x\":0.05},\"xaxis\":{\"automargin\":true,\"gridcolor\":\"white\",\"linecolor\":\"white\",\"ticks\":\"\",\"title\":{\"standoff\":15},\"zerolinecolor\":\"white\",\"zerolinewidth\":2},\"yaxis\":{\"automargin\":true,\"gridcolor\":\"white\",\"linecolor\":\"white\",\"ticks\":\"\",\"title\":{\"standoff\":15},\"zerolinecolor\":\"white\",\"zerolinewidth\":2}}},\"title\":{\"text\":\"Visualization of Validation Predictions\"},\"width\":1500,\"xaxis\":{\"title\":{\"text\":\"Date\"}},\"yaxis\":{\"title\":{\"text\":\"Price\"}}},                        {\"responsive\": true}                    ).then(function(){\n",
       "                            \n",
       "var gd = document.getElementById('4ce334bd-0337-4993-aa53-09580f17ba5e');\n",
       "var x = new MutationObserver(function (mutations, observer) {{\n",
       "        var display = window.getComputedStyle(gd).display;\n",
       "        if (!display || display === 'none') {{\n",
       "            console.log([gd, 'removed!']);\n",
       "            Plotly.purge(gd);\n",
       "            observer.disconnect();\n",
       "        }}\n",
       "}});\n",
       "\n",
       "// Listen for the removal of the full notebook cells\n",
       "var notebookContainer = gd.closest('#notebook-container');\n",
       "if (notebookContainer) {{\n",
       "    x.observe(notebookContainer, {childList: true});\n",
       "}}\n",
       "\n",
       "// Listen for the clearing of the current output cell\n",
       "var outputEl = gd.closest('.output');\n",
       "if (outputEl) {{\n",
       "    x.observe(outputEl, {childList: true});\n",
       "}}\n",
       "\n",
       "                        })                };                });            </script>        </div>"
      ]
     },
     "metadata": {},
     "output_type": "display_data"
    }
   ],
   "source": [
    "def retrieve_candles(filename, val_year, test_year):\n",
    "    df = pd.read_csv(filename)\n",
    "    df[\"Date\"] = pd.to_datetime(df[\"Date\"])\n",
    "    df.columns = [\"Date\", \"Close\", \"Open\", \"High\", \"Low\", \"Vol.\", \"Change%\"]\n",
    "    df = df.sort_values('Date', ascending=True)\n",
    "    \n",
    "    candles_val = df[df['Date'].dt.year == val_year]\n",
    "    candles_train = df[df['Date'].dt.year < val_year]\n",
    "    candles_train = candles_train[candles_train['Date'] > datetime(2009,7,10)]\n",
    "    \n",
    "    candles_train = candles_train.replace(',','', regex=True)\n",
    "    candles_val = candles_val.replace(',','', regex=True)\n",
    "\n",
    "    return candles_train, candles_val\n",
    "\n",
    "def plot_predictions_candles(x, y, df, dataset):\n",
    "    # PREDICTIONS LIJKEN NOG NIET GOED UITGELIJND MET CANDLES???\n",
    "    originals = []\n",
    "    predictions = []\n",
    "    y_pred = model.predict(x)\n",
    "    for i in range(len(y_pred)):\n",
    "        originals.append(y[i][0])\n",
    "        predictions.append(round(float(y_pred[i][0])))\n",
    "\n",
    "    fig = go.Figure()\n",
    "    fig.add_trace(go.Candlestick(x=df['Date'], open=df['Open'], high=df['High'], low=df['Low'], close=df['Close'], name=\"Price\"))\n",
    "    standard_factor = 0.5 * mean([float(df.iloc[0].tolist()[3]), float(df.iloc[0].tolist()[4])])\n",
    "    \n",
    "    green_legend = False\n",
    "    orange_legend = False\n",
    "    red_legend = False\n",
    "    \n",
    "    for i, row in enumerate(df.iterrows()):\n",
    "        pred_date = row[1][0].to_pydatetime()\n",
    "        pred_high = float(row[1][3])\n",
    "        pred_low = float(row[1][4])\n",
    "#         real_label = row[1][7]\n",
    "#         pred_label = row[1][8]\n",
    "        real_label = originals[i]\n",
    "        pred_label = predictions[i]\n",
    "        \n",
    "        start_shape = pred_date - timedelta(days=0.1)\n",
    "        end_shape = pred_date + timedelta(days=0.1)\n",
    "    \n",
    "        \n",
    "        if pred_label == 1:\n",
    "            extreme = pred_high + 0.1 * standard_factor\n",
    "            standard = pred_high + 0.05 * standard_factor\n",
    "#         elif pred_label == 2:\n",
    "#             extreme = pred_high + 0.2 * standard_factor\n",
    "#             standard = pred_high + 0.05 * standard_factor\n",
    "        elif pred_label == 0:\n",
    "            extreme = pred_low - 0.1 * standard_factor\n",
    "            standard = pred_low -  0.05 * standard_factor\n",
    "#         elif pred_label == -2:\n",
    "#             extreme = pred_low - 0.2 * standard_factor\n",
    "#             standard = pred_low - 0.05 * standard_factor\n",
    "            \n",
    "        if real_label == pred_label:\n",
    "            color = \"green\"\n",
    "#         elif np.sign(real_label) == np.sign(pred_label):\n",
    "#             color = \"orange\"\n",
    "        else:\n",
    "            color = \"red\"\n",
    "        \n",
    "        if real_label == pred_label and not green_legend:\n",
    "            green_legend = True\n",
    "            fig.add_trace(go.Scatter(x=[start_shape,pred_date,end_shape,start_shape], \n",
    "                                 y=[standard,extreme,standard,standard], \n",
    "                                 fill=\"toself\", name=\"Correct Direction\", mode=\"lines\", line=dict(color=color)))\n",
    "        \n",
    "#         elif np.sign(real_label) == np.sign(pred_label) and not orange_legend:\n",
    "#             orange_legend = True\n",
    "#             fig.add_trace(go.Scatter(x=[start_shape,pred_date,end_shape,start_shape], \n",
    "#                                  y=[standard,extreme,standard,standard], \n",
    "#                                  fill=\"toself\", name=\"Correct Direction / Inorrect Magnitude\", mode=\"lines\", line=dict(color=color)))\n",
    "        elif real_label != pred_label and not red_legend:\n",
    "            red_legend = True\n",
    "            fig.add_trace(go.Scatter(x=[start_shape,pred_date,end_shape,start_shape], \n",
    "                                 y=[standard,extreme,standard,standard], \n",
    "                                 fill=\"toself\", name=\"Incorrect Direction\", mode=\"lines\", line=dict(color=color)))\n",
    "        else:\n",
    "            fig.add_trace(go.Scatter(x=[start_shape,pred_date,end_shape,start_shape], \n",
    "                                 y=[standard,extreme,standard,standard], \n",
    "                                 fill=\"toself\", showlegend=False, mode=\"lines\", line=dict(color=color)))\n",
    "    \n",
    "    title = f\"Visualization of {dataset} Predictions\"\n",
    "    fig.update_xaxes(title_text=\"Date\")\n",
    "    fig.update_yaxes(title_text=\"Price\")\n",
    "    layout = dict(title=title, height=800, width=1500)\n",
    "    fig.update_layout(layout)\n",
    "#     config = dict({'scrollZoom': True})\n",
    "#     fig.show(config=config)\n",
    "    fig.show()\n",
    "\n",
    "filename = \"Dataset v3/Indices/S&P 500 Historical Data.csv\"\n",
    "candles_train, candles_val = retrieve_candles(filename, val_year, test_year) \n",
    "# plot_predictions_candles(x_train, y_train, candles_train, \"Training\")\n",
    "plot_predictions_candles(x_val, y_val, candles_val, \"Validation\")"
   ]
  },
  {
   "cell_type": "code",
   "execution_count": null,
   "metadata": {},
   "outputs": [],
   "source": []
  }
 ],
 "metadata": {
  "kernelspec": {
   "display_name": "Python 3 (ipykernel)",
   "language": "python",
   "name": "python3"
  },
  "language_info": {
   "codemirror_mode": {
    "name": "ipython",
    "version": 3
   },
   "file_extension": ".py",
   "mimetype": "text/x-python",
   "name": "python",
   "nbconvert_exporter": "python",
   "pygments_lexer": "ipython3",
   "version": "3.7.4"
  }
 },
 "nbformat": 4,
 "nbformat_minor": 2
}
