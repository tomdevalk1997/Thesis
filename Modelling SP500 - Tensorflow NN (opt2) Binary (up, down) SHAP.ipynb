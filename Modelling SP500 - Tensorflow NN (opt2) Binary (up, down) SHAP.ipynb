{
 "cells": [
  {
   "cell_type": "code",
   "execution_count": 1,
   "metadata": {},
   "outputs": [],
   "source": [
    "import warnings\n",
    "warnings.simplefilter(action='ignore', category=UserWarning)\n",
    "\n",
    "import pandas as pd\n",
    "import numpy as np\n",
    "from datetime import datetime, timedelta\n",
    "import plotly.graph_objs as go\n",
    "import plotly.express as px\n",
    "from plotly.subplots import make_subplots\n",
    "import gzip\n",
    "from datetime import datetime, timedelta\n",
    "from statistics import mean, median\n",
    "from sklearn.neural_network import MLPClassifier\n",
    "from sklearn.ensemble import RandomForestClassifier\n",
    "import seaborn as sns\n",
    "import matplotlib.pyplot as plt\n",
    "\n",
    "import tensorflow\n",
    "import tensorflow.keras as tf\n",
    "from tensorflow.keras.models import Model, Sequential\n",
    "from tensorflow.keras.layers import Input, Dense, LeakyReLU, BatchNormalization, ReLU, LSTM, Conv1D, Conv2D, Dropout\n",
    "from tensorflow.keras.activations import sigmoid, tanh\n",
    "from tensorflow.keras.utils import to_categorical\n",
    "\n",
    "from sklearn.preprocessing import MinMaxScaler\n",
    "\n",
    "from tqdm import tqdm\n",
    "import csv\n",
    "import random\n",
    "\n",
    "from sklearn.metrics import accuracy_score as accuracy\n",
    "from sklearn.metrics import precision_score as precision\n",
    "from sklearn.metrics import recall_score as recall\n",
    "from sklearn.metrics import f1_score as f1"
   ]
  },
  {
   "cell_type": "code",
   "execution_count": 2,
   "metadata": {},
   "outputs": [],
   "source": [
    "def retrieve_data(varname, filename):\n",
    "    df = pd.read_csv(filename, index_col=0)\n",
    "#     df = pd.read_csv(filename)\n",
    "#     display(df)\n",
    "    df[\"Date\"] = pd.to_datetime(df[\"Date\"])\n",
    "    return df\n",
    "\n",
    "def create_classification_data(df, lookback):\n",
    "    rows = []\n",
    "\n",
    "    columns = ['Date', 'SP500_relative_change_perc_1'] # Date and SP500_relative_change_perc_1 from t-0 are added first as target variables \n",
    "    \n",
    "    # create column names based on original with the addition of t-i where i is lookback\n",
    "    for i in range(1, lookback + 1): # starts at 1 since we do not want t-0 variables apart from 'Date' and 'SP500_relative_change_perc_1'\n",
    "        new_columns = df.columns.tolist()[1:] # starts at 1 to exclude 'Date' column\n",
    "        for x in range(len(new_columns)):\n",
    "            new_columns[x] = new_columns[x] + \"_t-\" + str(i)\n",
    "        columns = columns + new_columns\n",
    "    \n",
    "    # create lookback data\n",
    "    for i, row in enumerate(df.iterrows()):\n",
    "        if i > lookback: # lookback cannot be determined for earlier rows\n",
    "            new_row = [row[1][0], row[1][1]] # add target 'Date' and 'SP500_relative_change_perc_1 '\n",
    "            for x in range(1, lookback + 1): # starts at 1 since we do not want t-0 variables apart from 'Date' and 'SP500_relative_change_perc_1'\n",
    "                add_row = df.iloc[i - x].tolist()[1:] # starts at 1 to exclude 'Date' column\n",
    "                new_row = new_row + add_row\n",
    "            rows.append(new_row)\n",
    "    df2 = pd.DataFrame(rows)\n",
    "    df2.columns = columns\n",
    "    return df2\n",
    "\n",
    "def create_train_val_test(df, year_val, year_test, perc_train=None):\n",
    "    if perc_train == None:\n",
    "        # assumes years_train < year_val < year_test\n",
    "        df[\"Date\"] = pd.to_datetime(df[\"Date\"])\n",
    "        \n",
    "        val = df[df['Date'].dt.year == year_val]\n",
    "        test = df[df['Date'].dt.year == year_test]\n",
    "        train = df[df['Date'].dt.year < year_val]\n",
    "    else:\n",
    "        train = df.head(round(len(df) * perc_train))\n",
    "        val = df.tail(len(df) - len(train))\n",
    "        test = val.tail(round(0.5 * len(val)))\n",
    "        val = val.head(len(val) - len(test))\n",
    "    y_train = train['SP500_relative_change_perc_1']\n",
    "    x_train = train.drop(['SP500_relative_change_perc_1'], axis=1)\n",
    "    \n",
    "    y_val = val['SP500_relative_change_perc_1']\n",
    "    x_val = val.drop(['SP500_relative_change_perc_1'], axis=1)\n",
    "    \n",
    "    y_test = test['SP500_relative_change_perc_1']\n",
    "    x_test = test.drop(['SP500_relative_change_perc_1'], axis=1)\n",
    "    \n",
    "    return x_train, y_train, x_val, y_val, x_test, y_test\n",
    "\n",
    "def scale_data(x):\n",
    "    standard_scaler = MinMaxScaler()\n",
    "    x_scaled = pd.DataFrame(standard_scaler.fit_transform(x), columns=x.columns)\n",
    "    return x_scaled"
   ]
  },
  {
   "cell_type": "code",
   "execution_count": 3,
   "metadata": {},
   "outputs": [],
   "source": [
    "def label_data(y):\n",
    "    positives = []\n",
    "    negatives = []\n",
    "    y = list(y)\n",
    "    \n",
    "    labels = []\n",
    "    for dev in y:\n",
    "        if dev >= 0:\n",
    "            labels.append(1)\n",
    "        else:\n",
    "            labels.append(0)\n",
    "    return labels"
   ]
  },
  {
   "cell_type": "code",
   "execution_count": 4,
   "metadata": {},
   "outputs": [],
   "source": [
    "class LSTM_model(object):\n",
    "    def __init__(self, x, activation_functions, batch_sizes, lookbacks): \n",
    "        self.activation_function = activation_functions[x[0]]\n",
    "        \n",
    "        self.dense1 = x[1]\n",
    "        self.dense2 = x[2]\n",
    "        self.dense3 = x[3]\n",
    "\n",
    "        self.dropout1 = x[4]\n",
    "        self.dropout2 = x[5]\n",
    "        \n",
    "        self.epochs = x[6]\n",
    "        self.batch_size = batch_sizes[x[7]]\n",
    "        \n",
    "        self.lookback = lookbacks[x[8]]\n",
    "        \n",
    "        \n",
    "    def fit(self):\n",
    "        global df\n",
    "\n",
    "        val_year = 2018\n",
    "        test_year = 2019\n",
    "\n",
    "        if self.lookback == 3:\n",
    "            features_set = ['SP500_stochastic_D_5_5_t-3', 'SP500_momentum_16_t-1', 'SP500_williams_R_10_t-1', 'SP500_williams_R_20_t-1', 'SP500_AD_MACD_12_26_t-3', 'SP500_stochastic_D_5_5_t-1', 'SP500_stochastic_K_50_t-3', 'SP500_F_relative_change_perc_1_t-3', 'SP500_stochastic_K_5_t-3', 'SP500_williams_R_5_t-1', 'Gold_F_relative_change_perc_1_t-2', 'SP500_stochastic_K_10_t-1', 'SP500_AD_oscillator_t-1', 'SP500_williams_R_10_t-2', 'SP500_momentum_8_t-1', 'SP500_stochastic_D_5_5_t-2']\n",
    "        elif self.lookback == 5:\n",
    "            features_set = ['SP500_momentum_16_t-1', 'SP500_williams_R_5_t-5', 'SP500_stochastic_K_50_t-5', 'SP500_williams_R_20_t-1', 'SP500_relative_change_perc_1_t-4', 'SP500_williams_R_50_t-3', 'SP500_AD_oscillator_t-4', 'SP500_stochastic_K_5_t-4', 'SP500_F_relative_change_perc_1_t-3', 'SP500_AD_oscillator_t-3', 'Silver_F_relative_change_perc_1_t-5', 'Gold_F_relative_change_perc_1_t-2', 'SP500_stochastic_K_50_t-4', 'SP500_williams_R_50_t-4', 'SP500_stochastic_K_10_t-1', 'Silver_F_relative_change_perc_1_t-4', 'SP500_AD_oscillator_t-1', 'SP500_williams_R_10_t-2', 'SP500_stochastic_K_5_t-2', 'SP500_stochastic_D_5_5_t-2', 'SP500_williams_R_20_t-3', 'Copper_F_relative_change_perc_1_t-4']\n",
    "        elif self.lookback == 10:\n",
    "            features_set = ['SP500_stochastic_K_50_t-5', 'SP500_williams_R_10_t-3', 'SP500_relative_change_perc_1_t-4', 'SP500_williams_R_50_t-3', 'Copper_F_relative_change_perc_1_t-7', 'SP500_stochastic_K_20_t-4', 'Gold_F_relative_change_perc_1_t-10', 'SP500_stochastic_K_5_t-4', 'SP500_momentum_16_t-7', 'SP500_stochastic_K_10_t-10', 'Silver_F_relative_change_perc_1_t-5', 'Gold_F_relative_change_perc_1_t-2', 'SP500_stochastic_K_50_t-4', 'SP500_williams_R_50_t-4', 'SP500_stochastic_K_10_t-1', 'SP500_stochastic_K_10_t-7', 'SP500_AD_oscillator_t-9', 'SP500_AD_oscillator_t-1', 'SP500_stochastic_K_5_t-2', 'Silver_F_relative_change_perc_1_t-10', 'SP500_stochastic_D_5_5_t-5', 'SP500_williams_R_10_t-7']\n",
    "        elif self.lookback == 20:\n",
    "            features_set = ['Silver_F_relative_change_perc_1_t-16', 'Copper_F_relative_change_perc_1_t-19', 'Gold_F_relative_change_perc_1_t-14', 'SP500_stochastic_K_50_t-13', 'Silver_F_relative_change_perc_1_t-5', 'SP500_AD_oscillator_t-6', 'SP500_F_relative_change_perc_1_t-13', 'SP500_AD_oscillator_t-17', 'Silver_F_relative_change_perc_1_t-8', 'SP500_stochastic_K_10_t-1', 'SP500_F_relative_change_perc_1_t-12', 'SP500_relative_change_perc_1_t-18', 'SP500_stochastic_K_5_t-6', 'SP500_stochastic_K_50_t-11', 'SP500_williams_R_5_t-5', 'SP500_williams_R_10_t-8', 'SP500_AD_oscillator_t-4', 'Copper_F_relative_change_perc_1_t-4', 'SP500_stochastic_K_10_t-10', 'SP500_williams_R_50_t-11', 'SP500_williams_R_50_t-4', 'SP500_momentum_8_t-20', 'SP500_momentum_8_t-4', 'SP500_stochastic_K_5_t-20', 'Silver_F_relative_change_perc_1_t-19', 'SP500_F_relative_change_perc_1_t-17', 'SP500_williams_R_5_t-18', 'SP500_F_relative_change_perc_1_t-10', 'SP500_momentum_8_t-14', 'Gold_F_relative_change_perc_1_t-10', 'SP500_stochastic_K_5_t-4', 'SP500_AD_oscillator_t-14', 'SP500_stochastic_K_50_t-4', 'Gold_F_relative_change_perc_1_t-8', 'SP500_stochastic_K_10_t-7', 'Silver_F_relative_change_perc_1_t-4', 'Silver_F_relative_change_perc_1_t-1', 'SP500_AD_oscillator_t-1', 'Copper_F_relative_change_perc_1_t-11', 'SP500_AD_oscillator_t-15', 'SP500_williams_R_10_t-11', 'SP500_stochastic_D_5_5_t-5', 'SP500_momentum_16_t-5', 'SP500_relative_change_perc_1_t-16', 'SP500_stochastic_K_50_t-5', 'SP500_stochastic_K_5_t-16', 'SP500_AD_MACD_12_26_t-8', 'SP500_momentum_16_t-7', 'Copper_F_relative_change_perc_1_t-6', 'SP500_stochastic_D_5_5_t-19', 'SP500_AD_oscillator_t-20', 'SP500_relative_change_perc_1_t-2', 'SP500_williams_R_50_t-14', 'SP500_stochastic_K_50_t-14', 'SP500_momentum_16_t-14', 'SP500_momentum_16_t-20', 'Gold_F_relative_change_perc_1_t-13', 'SP500_williams_R_5_t-6']\n",
    "        \n",
    "        features_set.insert(0, 'SP500_relative_change_perc_1')\n",
    "        features_set.insert(0, 'Date')\n",
    "        \n",
    "        df_class = create_classification_data(df, self.lookback)\n",
    "        df_class = df_class[features_set].copy()\n",
    "        x_train, y_train, x_val, y_val, x_test, y_test = create_train_val_test(df_class, val_year, test_year)\n",
    "\n",
    "\n",
    "        y_train = label_data(y_train)\n",
    "        y_val = label_data(y_val)\n",
    "        y_test = label_data(y_test)\n",
    "\n",
    "        train_date = x_train[['Date']]\n",
    "        x_train = x_train.drop(['Date'], axis=1)\n",
    "        val_date = x_val[['Date']]\n",
    "        x_val = x_val.drop(['Date'], axis=1)\n",
    "        test_date = x_test[['Date']]\n",
    "        x_test = x_test.drop(['Date'], axis=1)\n",
    "        \n",
    "        x_train = scale_data(x_train)\n",
    "        x_val = scale_data(x_val)\n",
    "        x_test = scale_data(x_test)\n",
    "\n",
    "        x_train = np.asarray(x_train)\n",
    "        x_val = np.asarray(x_val)\n",
    "        x_test = np.asarray(x_test)\n",
    "        y_train = np.asarray(y_train)\n",
    "        y_val = np.asarray(y_val)\n",
    "        y_test = np.asarray(y_test)\n",
    "\n",
    "        x_train = x_train.reshape((x_train.shape[0], 1, x_train.shape[1]))\n",
    "        x_val = x_val.reshape((x_val.shape[0], 1, x_val.shape[1]))\n",
    "        x_test = x_test.reshape((x_test.shape[0], 1, x_test.shape[1]))\n",
    "\n",
    "        y_train = y_train.reshape((y_train.shape[0], 1))\n",
    "        y_val = y_val.reshape((y_val.shape[0], 1))\n",
    "        y_test = y_test.reshape((y_test.shape[0], 1))\n",
    "\n",
    "        tensorflow.random.set_seed(111)\n",
    "        np.random.seed(111)\n",
    "        random.seed(111)\n",
    "        \n",
    "        model = Sequential()\n",
    "        model.add(Dense(self.dense1, activation=self.activation_function))\n",
    "        if self.dropout1 > 0:\n",
    "            model.add(Dropout(self.dropout1))\n",
    "        if self.dense2 > 0:\n",
    "            model.add(Dense(self.dense2, activation=self.activation_function))\n",
    "        if self.dropout2 > 0:\n",
    "            model.add(Dropout(self.dropout2))\n",
    "        if self.dense3 > 0:\n",
    "            model.add(Dense(self.dense3, activation=self.activation_function))\n",
    "        model.add(Dense(1, activation='sigmoid'))\n",
    "        \n",
    "        model.compile(optimizer='adam', loss='binary_crossentropy', metrics=[\"acc\"])\n",
    "        history = model.fit(x_train, y_train, epochs=self.epochs, batch_size=self.batch_size, verbose=0, validation_data=(x_val, y_val), shuffle=False)\n",
    "        \n",
    "#         val_loss = mean(history.history['val_acc'][-5:])\n",
    "        val_loss = mean(history.history['val_loss'][-5:])\n",
    "        return val_loss"
   ]
  },
  {
   "cell_type": "code",
   "execution_count": 5,
   "metadata": {},
   "outputs": [],
   "source": [
    "def calculate_fitness(val_loss, x):\n",
    "    fitness = val_loss\n",
    "    return fitness"
   ]
  },
  {
   "cell_type": "code",
   "execution_count": 6,
   "metadata": {},
   "outputs": [],
   "source": [
    "class EA(object):\n",
    "    def __init__(self, population_size, activation_functions, batch_sizes, lookbacks):\n",
    "        self.population_size = population_size\n",
    "        self.a = 0.2\n",
    "        self.activation_functions = activation_functions\n",
    "        self.batch_sizes = batch_sizes\n",
    "        self.lookbacks = lookbacks\n",
    "        \n",
    "    def evaluate(self, x):\n",
    "        \"\"\"\n",
    "        include in fitness function\n",
    "            relative difference between train_loss and val_loss (smaller is better)\n",
    "            number of layers (smaller is better)\n",
    "            bottleneck size (smaller is better)\n",
    "            val_loss (smaller is better)\n",
    "        \n",
    "        \"\"\"\n",
    "        lstm = LSTM_model(x, self.activation_functions, self.batch_sizes, self.lookbacks)\n",
    "        val_loss = lstm.fit()\n",
    "        fitness = calculate_fitness(val_loss, x)\n",
    "        return fitness\n",
    "    \n",
    "    def select_triple(self, candidate, population):\n",
    "        # select three random instances for differential evolution\n",
    "        x1, x2, x3 = np.random.choice(range(len(population))), np.random.choice(range(len(population))), np.random.choice(range(len(population)))\n",
    "        while candidate == x1 or candidate == x2 or candidate == x3 or x1 == x2 or x2 == x3 or x1 == x3:\n",
    "            # keep selecting new ones until candidate != x1 != x2 != x3\n",
    "            x1, x2, x3 = np.random.choice(range(len(population))), np.random.choice(range(len(population))), np.random.choice(range(len(population)))\n",
    "        return population[x1], population[x2], population[x3]\n",
    "    \n",
    "    def mutate(self, x1, x2, x3):\n",
    "        mutated = x1 + (self.a * (x3 - x2))\n",
    "    \n",
    "        # activation function\n",
    "        mutated[0] = round(mutated[0])\n",
    "        mutated[0] = min(mutated[0], len(self.activation_functions) - 1)\n",
    "        mutated[0] = max(0, mutated[0])\n",
    "        \n",
    "        # dense layer 1\n",
    "        mutated[1] = round(mutated[1])\n",
    "        mutated[1] = max(1, mutated[1]) # must be at least one\n",
    "\n",
    "        # dense layer 2\n",
    "        mutated[2] = round(mutated[2])\n",
    "        mutated[2] = max(0, mutated[2])\n",
    "\n",
    "        # dense layer 3\n",
    "        mutated[3] = round(mutated[3])\n",
    "        mutated[3] = max(0, mutated[3])\n",
    "        \n",
    "        # dropout layer 1\n",
    "        mutated[4] = max(0.05, mutated[4])\n",
    "        mutated[4] = min(0.95, mutated[4])\n",
    "        mutated[4] = round(mutated[4],2)\n",
    "        prob = np.random.randint(0, 2)\n",
    "        if prob == 1:\n",
    "            mutated[4] = round(random.uniform(0.05, 0.2),2)\n",
    "        \n",
    "        # dropout layer 2\n",
    "        mutated[5] = max(0.05, mutated[5])\n",
    "        mutated[5] = min(0.95, mutated[5])\n",
    "        mutated[5] = round(mutated[5],2)\n",
    "        prob = np.random.randint(0, 2)\n",
    "        if prob == 1:\n",
    "            mutated[5] = round(random.uniform(0.05, 0.2),2)\n",
    "        \n",
    "        # epochs\n",
    "        mutated[6] = round(mutated[6])\n",
    "        mutated[6] = max(6, mutated[6])\n",
    "\n",
    "        # batch size\n",
    "        mutated[7] = round(mutated[7])\n",
    "        mutated[7] = min(mutated[7], len(self.batch_sizes) - 1)\n",
    "        mutated[7] = max(0, mutated[7])\n",
    "        \n",
    "        mutated[8] = round(mutated[8])\n",
    "        mutated[8] = min(mutated[8], len(self.lookbacks) - 1)\n",
    "        mutated[8] = max(0, mutated[8])\n",
    "\n",
    "        return mutated\n",
    "        \n",
    "    def recombine(self, candidate, mutation):\n",
    "        for i in range(candidate.shape[0]):\n",
    "            prob = np.random.randint(0, 2)\n",
    "            if prob == 1:\n",
    "                candidate[i] = mutation[i]\n",
    "        return candidate\n",
    "\n",
    "    def select(self, x_new, f_new, x_old, f_old):\n",
    "        x_cat = np.concatenate([x_new, x_old], 0)\n",
    "        f_cat = np.concatenate([f_new, f_old])\n",
    "        ind = np.argsort(f_cat)\n",
    "        x = x_cat[ind]\n",
    "        f = f_cat[ind]\n",
    "#         return x[-self.population_size:], f[-self.population_size:]\n",
    "        return x[:self.population_size], f[:self.population_size]\n",
    "    \n",
    "    def step(self, x_old, f_old):\n",
    "        x = np.copy(x_old)\n",
    "        f = np.copy(f_old)\n",
    "        for i in tqdm(range(self.population_size), total=self.population_size):\n",
    "            # choose candidate\n",
    "            candidate = x[i]\n",
    "            # select 3 instances for differential evolution\n",
    "            x1, x2, x3 = self.select_triple(i, x)\n",
    "            # mutate 3 instances\n",
    "            mutated_triple = self.mutate(x1, x2, x3)\n",
    "            # recombine candidate with mutation\n",
    "            candidate = self.recombine(candidate, mutated_triple)\n",
    "            x[i] = candidate\n",
    "            # evaluate candidate solution\n",
    "            f_candidate = self.evaluate(candidate)\n",
    "            f[i] = f_candidate\n",
    "        # select survivors\n",
    "        x, f = self.select(x, f, x_old, f_old)\n",
    "        return x, f"
   ]
  },
  {
   "cell_type": "code",
   "execution_count": 7,
   "metadata": {},
   "outputs": [],
   "source": [
    "def init_population(population_size, activation_functions, batch_sizes, lookbacks):\n",
    "    # generate initial population\n",
    "    population = []\n",
    "    print(\"Creating initial population...\")\n",
    "    for i in tqdm(range(population_size), total=population_size):\n",
    "        activation_function = random.randint(0, len(activation_functions) - 1)\n",
    "        \n",
    "        lookback = random.randint(0, len(lookbacks) - 1)\n",
    "        \n",
    "        variables = lookbacks[lookback] * 18\n",
    "        \n",
    "        dense1 = random.randint(4, 1 * variables)\n",
    "        dense2 = random.randint(4, 1 * variables)\n",
    "        dense3 = random.randint(4, 1 * variables)\n",
    "        \n",
    "        dropout1 = round(random.uniform(0.05, 0.95),2)\n",
    "        dropout2 = round(random.uniform(0.05, 0.95),2)\n",
    "\n",
    "        epochs = random.randint(10, 500)\n",
    "        \n",
    "        batch_size = random.randint(0, len(batch_sizes) - 1)\n",
    "        \n",
    "\n",
    "        population.append(np.asarray([activation_function, dense1, dense2, dense3, dropout1, dropout2, epochs, batch_size, lookback], dtype='object'))\n",
    "    print(\"Initial population ready\")\n",
    "    return np.asarray(population)\n",
    "\n",
    "def evaluate_init_population(ea, x):\n",
    "    # evaluate initial population\n",
    "    f = []\n",
    "    print(\"Evaluating initial population...\")\n",
    "    for i in tqdm(range(x.shape[0]), total=x.shape[0]):\n",
    "        instance = x[i]\n",
    "        f.append(ea.evaluate(instance))\n",
    "    print(\"Evaluation initial population completed\")\n",
    "    return np.asarray(f)\n",
    "\n",
    "def print_best(x, activation_functions, batch_sizes, fitness, features):\n",
    "    print(f\"\\nMost suitable parameters -- Loss of {fitness}:\")\n",
    "    print(f\"\\tActivation function:           \\t{activation_functions[x[0]]}\")\n",
    "    print(f\"\\tDense nodes layer 1:           \\t{x[1]}\")\n",
    "    print(f\"\\tDense nodes layer 2:           \\t{x[2]}\")\n",
    "    print(f\"\\tDense nodes layer 1:           \\t{x[3]}\")\n",
    "    print(f\"\\tDropout layer 1:               \\t{x[4]}\")\n",
    "    print(f\"\\tDropout layer 2:               \\t{x[5]}\")\n",
    "    print(f\"\\tEpochs trained:                \\t{x[6]}\")\n",
    "    print(f\"\\tBatch Size:                    \\t{batch_sizes[x[7]]}\")\n",
    "    print(f\"\\tLookback:                      \\t{lookbacks[x[8]]}\")\n",
    "\n",
    "def plot_convergence(f_best):\n",
    "    fig1 = make_subplots(rows=1, cols=1, specs=[[{'type':'xy'}]])\n",
    "    \n",
    "    x_values = []\n",
    "    for i in range(len(f_best)):\n",
    "        x_values.append(i)\n",
    "    fig1.add_trace(go.Scatter(x=x_values, y=f_best, mode=\"lines\"), row=1, col=1)\n",
    "\n",
    "    fig1.update_layout(\n",
    "        title = f'Validation Accuracy Over NN Tuning Generations', \n",
    "        xaxis1 = dict(title_text = 'Generation'),\n",
    "        yaxis1 = dict(title_text = \"Validation Accuracy\")\n",
    "    )\n",
    "    fig1.write_image(\"Plots/opt nn-3 sp500 binary direction.png\")\n",
    "    fig1.show()\n",
    "\n",
    "def validate_best(x, ea):\n",
    "    print(\"\\nValidating solution...\")\n",
    "    ea.evaluate(x)\n",
    "    print(\"Solution validated\")"
   ]
  },
  {
   "cell_type": "code",
   "execution_count": 8,
   "metadata": {
    "scrolled": false
   },
   "outputs": [
    {
     "name": "stderr",
     "output_type": "stream",
     "text": [
      "100%|███████████████████████████████████████████████████████████████████████████████| 80/80 [00:00<00:00, 63743.22it/s]\n",
      "  0%|                                                                                           | 0/80 [00:00<?, ?it/s]"
     ]
    },
    {
     "name": "stdout",
     "output_type": "stream",
     "text": [
      "Creating initial population...\n",
      "Initial population ready\n",
      "[[0 340 325 278 0.5 0.59 37 0 3]\n",
      " [1 354 115 224 0.88 0.75 334 0 3]\n",
      " [1 88 69 9 0.17 0.53 286 0 1]\n",
      " [2 51 165 176 0.13 0.26 404 1 2]\n",
      " [0 89 58 57 0.7 0.07 144 2 1]\n",
      " [0 40 15 238 0.23 0.94 34 1 3]\n",
      " [2 9 49 4 0.17 0.9 282 2 0]\n",
      " [1 17 53 25 0.55 0.19 240 1 0]\n",
      " [0 89 64 57 0.72 0.14 50 1 1]\n",
      " [1 15 161 90 0.23 0.94 478 0 2]\n",
      " [2 41 51 13 0.89 0.6 273 1 0]\n",
      " [0 81 125 129 0.19 0.13 114 2 2]\n",
      " [1 32 34 82 0.14 0.85 185 2 2]\n",
      " [1 227 260 6 0.61 0.7 341 1 3]\n",
      " [0 8 25 35 0.59 0.74 248 1 0]\n",
      " [0 285 49 33 0.31 0.58 208 0 3]\n",
      " [1 84 76 54 0.94 0.48 313 1 1]\n",
      " [1 42 25 35 0.31 0.43 16 0 0]\n",
      " [0 208 174 190 0.39 0.28 451 1 3]\n",
      " [0 51 7 43 0.57 0.33 401 1 1]\n",
      " [0 20 15 36 0.88 0.86 328 2 0]\n",
      " [2 49 27 36 0.33 0.77 59 1 0]\n",
      " [0 19 8 27 0.55 0.12 304 1 0]\n",
      " [0 4 74 78 0.1 0.21 433 2 2]\n",
      " [0 80 120 90 0.78 0.53 386 1 2]\n",
      " [0 13 11 18 0.15 0.12 78 1 0]\n",
      " [1 93 21 101 0.38 0.13 128 0 2]\n",
      " [1 126 45 31 0.8 0.81 422 1 2]\n",
      " [0 126 6 124 0.66 0.68 445 0 2]\n",
      " [1 27 28 14 0.07 0.27 57 2 0]\n",
      " [2 105 50 124 0.68 0.57 314 1 2]\n",
      " [0 51 38 61 0.14 0.58 102 2 1]\n",
      " [1 87 36 70 0.71 0.47 165 1 1]\n",
      " [0 27 4 47 0.41 0.91 81 0 0]\n",
      " [0 172 231 60 0.53 0.45 408 0 3]\n",
      " [1 76 29 5 0.31 0.21 80 2 2]\n",
      " [2 122 30 51 0.6 0.6 296 1 2]\n",
      " [2 18 20 53 0.56 0.46 319 0 0]\n",
      " [0 74 55 63 0.4 0.07 439 0 1]\n",
      " [2 169 104 17 0.68 0.3 133 2 2]\n",
      " [1 9 15 8 0.44 0.14 105 1 0]\n",
      " [2 68 96 257 0.33 0.14 383 2 3]\n",
      " [2 5 54 37 0.75 0.2 376 0 1]\n",
      " [1 43 269 268 0.41 0.14 410 0 3]\n",
      " [2 30 11 50 0.17 0.36 190 1 0]\n",
      " [1 5 58 6 0.28 0.58 468 0 1]\n",
      " [1 20 40 28 0.23 0.71 409 1 0]\n",
      " [0 114 173 315 0.29 0.15 404 0 3]\n",
      " [2 16 20 6 0.2 0.28 132 2 0]\n",
      " [1 42 43 11 0.36 0.2 326 0 0]\n",
      " [2 43 286 124 0.37 0.59 288 0 3]\n",
      " [2 37 249 21 0.55 0.46 362 0 3]\n",
      " [1 328 4 170 0.16 0.9 500 0 3]\n",
      " [0 64 85 36 0.51 0.78 89 0 1]\n",
      " [0 112 85 199 0.93 0.46 266 0 3]\n",
      " [0 125 246 354 0.12 0.69 55 2 3]\n",
      " [2 20 21 22 0.95 0.93 386 0 0]\n",
      " [2 88 119 25 0.74 0.88 460 2 2]\n",
      " [0 182 39 6 0.27 0.89 118 0 3]\n",
      " [1 40 26 48 0.67 0.59 383 0 0]\n",
      " [0 37 14 57 0.12 0.88 474 2 1]\n",
      " [2 38 23 49 0.13 0.83 251 1 0]\n",
      " [1 61 155 42 0.9 0.55 92 0 2]\n",
      " [1 12 32 10 0.4 0.13 458 2 0]\n",
      " [0 25 63 82 0.83 0.51 189 2 1]\n",
      " [0 73 351 10 0.8 0.2 72 1 3]\n",
      " [0 86 93 8 0.56 0.65 76 0 2]\n",
      " [1 325 62 334 0.79 0.43 188 2 3]\n",
      " [2 161 52 142 0.58 0.36 220 2 2]\n",
      " [2 9 10 31 0.44 0.91 489 1 0]\n",
      " [2 158 88 143 0.55 0.56 204 2 2]\n",
      " [1 122 9 140 0.26 0.1 121 0 2]\n",
      " [0 6 42 33 0.86 0.28 435 1 0]\n",
      " [2 152 82 181 0.79 0.62 152 0 3]\n",
      " [0 45 86 24 0.15 0.46 180 1 1]\n",
      " [2 165 25 93 0.52 0.49 145 1 2]\n",
      " [2 299 252 337 0.94 0.71 19 0 3]\n",
      " [0 120 55 5 0.15 0.07 465 1 2]\n",
      " [1 27 14 51 0.63 0.51 166 1 0]\n",
      " [1 16 40 26 0.7 0.19 64 0 0]]\n",
      "Evaluating initial population...\n"
     ]
    },
    {
     "name": "stderr",
     "output_type": "stream",
     "text": [
      "2022-05-18 14:22:25.544687: I tensorflow/compiler/jit/xla_cpu_device.cc:41] Not creating XLA devices, tf_xla_enable_xla_devices not set\n",
      "2022-05-18 14:22:25.550862: I tensorflow/core/platform/cpu_feature_guard.cc:142] This TensorFlow binary is optimized with oneAPI Deep Neural Network Library (oneDNN) to use the following CPU instructions in performance-critical operations:  AVX2 FMA\n",
      "To enable them in other operations, rebuild TensorFlow with the appropriate compiler flags.\n",
      "2022-05-18 14:22:25.752528: I tensorflow/compiler/mlir/mlir_graph_optimization_pass.cc:116] None of the MLIR optimization passes are enabled (registered 2)\n",
      "100%|██████████████████████████████████████████████████████████████████████████████████| 80/80 [41:43<00:00, 31.29s/it]\n",
      "  0%|                                                                                           | 0/80 [00:00<?, ?it/s]"
     ]
    },
    {
     "name": "stdout",
     "output_type": "stream",
     "text": [
      "Evaluation initial population completed\n",
      "--> STARTING EVOLUTION\n",
      "Generation: 0\tBest fitness: 0.6933348298072814\n"
     ]
    },
    {
     "name": "stderr",
     "output_type": "stream",
     "text": [
      "100%|██████████████████████████████████████████████████████████████████████████████████| 80/80 [50:59<00:00, 38.24s/it]\n",
      "  0%|                                                                                           | 0/80 [00:00<?, ?it/s]"
     ]
    },
    {
     "name": "stdout",
     "output_type": "stream",
     "text": [
      "[[0 126 6 124 0.66 0.68 445 0 2]\n",
      " [1 354 115 224 0.88 0.75 334 0 3]\n",
      " [0 112 85 199 0.93 0.46 266 0 3]\n",
      " [0 40 15 238 0.23 0.94 34 1 3]\n",
      " [0 340 325 278 0.5 0.59 37 0 3]\n",
      " [0 1 93 8 0.56 0.65 76 1 2]\n",
      " [0 64 85 36 0.51 0.78 89 0 1]\n",
      " [0 27 4 47 0.41 0.91 81 0 0]\n",
      " [0 182 39 6 0.27 0.89 118 0 3]\n",
      " [2 299 252 337 0.94 0.71 19 0 3]\n",
      " [0 89 64 57 0.72 0.14 50 1 1]\n",
      " [0 125 246 354 0.12 0.69 55 2 3]\n",
      " [2 49 27 36 0.33 0.77 59 1 0]\n",
      " [0 19 6 0 0.93 0.46 340 0 3]\n",
      " [0 86 93 8 0.56 0.65 76 0 2]\n",
      " [0 8 25 35 0.59 0.74 248 1 0]\n",
      " [0 6 42 33 0.86 0.28 435 1 0]\n",
      " [0 19 6 0 0.27 0.89 340 0 3]\n",
      " [2 2 6 0 0.79 0.62 340 0 3]\n",
      " [0 6 6 0 0.53 0.45 340 0 3]\n",
      " [2 2 6 0 0.94 0.71 340 0 3]\n",
      " [0 80 120 90 0.78 0.53 386 1 2]\n",
      " [1 2 6 0 0.79 0.43 340 2 3]\n",
      " [0 73 351 10 0.8 0.2 72 1 3]\n",
      " [0 19 6 0 0.8 0.2 340 1 3]\n",
      " [1 55 6 0 0.88 0.75 340 0 3]\n",
      " [0 2 7 43 0.57 0.33 401 1 1]\n",
      " [2 20 21 22 0.95 0.93 386 0 0]\n",
      " [1 328 4 170 0.16 0.9 500 0 3]\n",
      " [0 45 86 24 0.15 0.46 180 1 1]\n",
      " [0 2 6 0 0.15 0.46 340 1 1]\n",
      " [0 13 11 18 0.15 0.12 78 1 0]\n",
      " [0 6 6 0 0.78 0.53 340 1 2]\n",
      " [0 19 6 0 0.51 0.78 340 0 1]\n",
      " [1 227 260 6 0.61 0.7 341 1 3]\n",
      " [0 6 6 0 0.66 0.68 340 0 2]\n",
      " [0 6 6 0 0.41 0.91 340 0 0]\n",
      " [2 19 6 0 0.95 0.93 340 0 0]\n",
      " [0 2 6 0 0.86 0.28 340 1 0]\n",
      " [0 19 8 27 0.55 0.12 304 1 0]\n",
      " [0 55 6 0 0.23 0.94 340 1 3]\n",
      " [0 81 125 129 0.19 0.13 114 2 2]\n",
      " [0 55 6 0 0.72 0.14 340 1 1]\n",
      " [2 2 6 0 0.44 0.91 340 1 0]\n",
      " [0 55 6 0 0.59 0.74 340 1 0]\n",
      " [1 6 6 0 0.8 0.81 340 1 2]\n",
      " [1 42 25 35 0.31 0.43 16 0 0]\n",
      " [0 20 15 36 0.88 0.86 328 2 0]\n",
      " [2 41 51 13 0.89 0.6 273 1 0]\n",
      " [0 6 6 0 0.55 0.12 340 1 0]\n",
      " [0 19 6 0 0.83 0.51 340 2 1]\n",
      " [1 55 6 0 0.94 0.48 340 1 1]\n",
      " [0 2 6 0 0.15 0.07 340 1 2]\n",
      " [0 25 63 82 0.83 0.51 189 2 1]\n",
      " [0 19 6 0 0.12 0.69 340 2 3]\n",
      " [0 55 6 0 0.5 0.59 340 0 3]\n",
      " [2 16 20 6 0.2 0.28 132 2 0]\n",
      " [1 325 62 334 0.79 0.43 188 2 3]\n",
      " [0 6 6 0 0.14 0.58 340 2 1]\n",
      " [0 51 38 61 0.14 0.58 102 2 1]\n",
      " [1 19 6 0 0.9 0.55 340 0 2]\n",
      " [2 19 6 0 0.74 0.88 340 2 2]\n",
      " [1 84 76 54 0.94 0.48 313 1 1]\n",
      " [0 89 58 57 0.7 0.07 144 2 1]\n",
      " [0 6 6 0 0.1 0.21 340 2 2]\n",
      " [2 2 6 0 0.55 0.56 340 2 2]\n",
      " [2 2 6 0 0.58 0.36 340 2 2]\n",
      " [0 37 14 57 0.12 0.88 474 2 1]\n",
      " [0 6 6 0 0.88 0.86 340 2 0]\n",
      " [0 6 6 0 0.15 0.12 340 1 0]\n",
      " [0 51 7 43 0.57 0.33 401 1 1]\n",
      " [0 55 6 0 0.7 0.07 340 2 1]\n",
      " [0 19 6 0 0.12 0.88 340 2 1]\n",
      " [1 126 45 31 0.8 0.81 422 1 2]\n",
      " [2 2 6 0 0.52 0.49 340 1 2]\n",
      " [1 6 6 0 0.71 0.47 340 1 1]\n",
      " [0 4 74 78 0.1 0.21 433 2 2]\n",
      " [1 55 6 0 0.23 0.94 340 0 2]\n",
      " [2 55 6 0 0.89 0.6 340 1 0]\n",
      " [1 2 6 0 0.63 0.51 340 1 0]]\n",
      "Generation: 1\tBest fitness: 0.6933348298072814\n"
     ]
    },
    {
     "name": "stderr",
     "output_type": "stream",
     "text": [
      "100%|██████████████████████████████████████████████████████████████████████████████████| 80/80 [48:36<00:00, 36.45s/it]\n",
      "  0%|                                                                                           | 0/80 [00:00<?, ?it/s]"
     ]
    },
    {
     "name": "stdout",
     "output_type": "stream",
     "text": [
      "[[0 126 6 124 0.66 0.68 445 0 2]\n",
      " [1 354 115 224 0.88 0.75 334 0 3]\n",
      " [0 112 85 199 0.93 0.46 266 0 3]\n",
      " [0 40 15 238 0.23 0.94 34 1 3]\n",
      " [0 340 325 278 0.5 0.59 37 0 3]\n",
      " [0 1 93 8 0.56 0.65 76 1 2]\n",
      " [0 64 85 36 0.51 0.78 89 0 1]\n",
      " [0 27 4 47 0.41 0.91 81 0 0]\n",
      " [0 182 39 6 0.27 0.89 118 0 3]\n",
      " [2 299 252 337 0.94 0.71 19 0 3]\n",
      " [0 89 64 57 0.72 0.14 50 1 1]\n",
      " [0 125 246 354 0.12 0.69 55 2 3]\n",
      " [2 49 27 36 0.33 0.77 59 1 0]\n",
      " [0 19 6 0 0.93 0.46 340 0 3]\n",
      " [0 1 0 0 0.5 0.59 385 0 3]\n",
      " [2 1 0 0 0.79 0.62 385 0 3]\n",
      " [0 86 93 8 0.56 0.65 76 0 2]\n",
      " [0 147 125 129 0.19 0.13 114 1 2]\n",
      " [1 1 0 0 0.88 0.75 385 0 3]\n",
      " [0 8 25 35 0.59 0.74 248 1 0]\n",
      " [0 1 0 0 0.27 0.89 385 0 3]\n",
      " [0 1 0 0 0.27 0.89 385 0 3]\n",
      " [0 6 42 33 0.86 0.28 435 1 0]\n",
      " [0 19 6 0 0.27 0.89 340 0 3]\n",
      " [0 1 0 0 0.93 0.46 385 0 3]\n",
      " [0 1 0 0 0.93 0.46 385 0 3]\n",
      " [2 2 6 0 0.79 0.62 340 0 3]\n",
      " [2 1 0 0 0.94 0.71 385 0 3]\n",
      " [0 6 6 0 0.53 0.45 340 0 3]\n",
      " [2 2 6 0 0.94 0.71 340 0 3]\n",
      " [0 80 120 90 0.78 0.53 386 1 2]\n",
      " [2 93 0 0 0.94 0.71 385 0 3]\n",
      " [1 2 6 0 0.79 0.43 340 2 3]\n",
      " [0 73 351 10 0.8 0.2 72 1 3]\n",
      " [0 19 6 0 0.8 0.2 340 1 3]\n",
      " [1 55 6 0 0.88 0.75 340 0 3]\n",
      " [0 2 7 43 0.57 0.33 401 1 1]\n",
      " [2 20 21 22 0.95 0.93 386 0 0]\n",
      " [1 328 4 170 0.16 0.9 500 0 3]\n",
      " [0 45 86 24 0.15 0.46 180 1 1]\n",
      " [0 2 6 0 0.15 0.46 340 1 1]\n",
      " [0 13 11 18 0.15 0.12 78 1 0]\n",
      " [0 1 0 0 0.51 0.78 385 0 1]\n",
      " [0 1 0 0 0.41 0.91 385 0 0]\n",
      " [0 6 6 0 0.78 0.53 340 1 2]\n",
      " [0 19 6 0 0.51 0.78 340 0 1]\n",
      " [1 227 260 6 0.61 0.7 341 1 3]\n",
      " [0 6 6 0 0.66 0.68 340 0 2]\n",
      " [0 6 6 0 0.41 0.91 340 0 0]\n",
      " [2 19 6 0 0.95 0.93 340 0 0]\n",
      " [0 2 6 0 0.86 0.28 340 1 0]\n",
      " [0 19 8 27 0.55 0.12 304 1 0]\n",
      " [0 55 6 0 0.23 0.94 340 1 3]\n",
      " [0 1 0 0 0.23 0.94 385 1 3]\n",
      " [0 81 125 129 0.19 0.13 114 2 2]\n",
      " [2 93 0 0 0.95 0.93 385 0 0]\n",
      " [2 93 0 0 0.95 0.93 385 0 0]\n",
      " [0 55 6 0 0.72 0.14 340 1 1]\n",
      " [0 1 0 0 0.59 0.74 385 1 0]\n",
      " [0 1 0 0 0.66 0.68 385 0 2]\n",
      " [0 1 0 0 0.72 0.14 385 1 1]\n",
      " [0 1 0 0 0.86 0.28 385 1 0]\n",
      " [2 1 0 0 0.33 0.77 385 1 0]\n",
      " [2 2 6 0 0.44 0.91 340 1 0]\n",
      " [0 55 6 0 0.59 0.74 340 1 0]\n",
      " [1 6 6 0 0.8 0.81 340 1 2]\n",
      " [0 1 0 0 0.56 0.65 385 0 2]\n",
      " [0 93 0 0 0.41 0.91 385 0 0]\n",
      " [0 1 0 0 0.56 0.65 385 1 2]\n",
      " [1 42 25 35 0.31 0.43 16 0 0]\n",
      " [0 20 15 36 0.88 0.86 328 2 0]\n",
      " [2 41 51 13 0.89 0.6 273 1 0]\n",
      " [0 6 6 0 0.55 0.12 340 1 0]\n",
      " [0 19 6 0 0.83 0.51 340 2 1]\n",
      " [0 93 0 0 0.23 0.94 385 1 3]\n",
      " [1 55 6 0 0.94 0.48 340 1 1]\n",
      " [0 2 6 0 0.15 0.07 340 1 2]\n",
      " [0 99 0 0 0.12 0.88 385 2 1]\n",
      " [0 99 0 0 0.12 0.88 385 2 1]\n",
      " [0 93 0 0 0.78 0.53 385 1 2]]\n",
      "Generation: 2\tBest fitness: 0.6933348298072814\n"
     ]
    },
    {
     "name": "stderr",
     "output_type": "stream",
     "text": [
      "100%|██████████████████████████████████████████████████████████████████████████████████| 80/80 [48:26<00:00, 36.33s/it]"
     ]
    },
    {
     "name": "stdout",
     "output_type": "stream",
     "text": [
      "[[0 126 6 124 0.66 0.68 445 0 2]\n",
      " [1 354 115 224 0.88 0.75 334 0 3]\n",
      " [0 112 85 199 0.93 0.46 266 0 3]\n",
      " [0 40 15 238 0.23 0.94 34 1 3]\n",
      " [0 340 325 278 0.5 0.59 37 0 3]\n",
      " [0 1 93 8 0.56 0.65 76 1 2]\n",
      " [0 64 85 36 0.51 0.78 89 0 1]\n",
      " [0 27 4 47 0.41 0.91 81 0 0]\n",
      " [0 182 39 6 0.27 0.89 118 0 3]\n",
      " [0 4 23 31 0.51 0.78 309 0 1]\n",
      " [0 4 23 31 0.51 0.78 309 0 1]\n",
      " [0 4 23 31 0.23 0.94 309 1 3]\n",
      " [0 4 23 31 0.23 0.94 309 1 3]\n",
      " [0 4 23 31 0.23 0.94 309 1 3]\n",
      " [0 6 23 31 0.93 0.46 309 0 3]\n",
      " [0 6 23 31 0.93 0.46 309 0 3]\n",
      " [0 4 23 31 0.41 0.91 309 0 0]\n",
      " [0 4 23 31 0.41 0.91 309 0 0]\n",
      " [0 4 23 31 0.41 0.91 309 0 0]\n",
      " [0 3 23 31 0.93 0.46 309 0 3]\n",
      " [0 3 23 31 0.93 0.46 309 0 3]\n",
      " [0 6 23 31 0.51 0.78 309 0 1]\n",
      " [0 3 23 31 0.27 0.89 309 0 3]\n",
      " [0 3 23 31 0.27 0.89 309 0 3]\n",
      " [0 3 23 31 0.27 0.89 309 0 3]\n",
      " [0 6 23 31 0.41 0.91 309 0 0]\n",
      " [0 6 23 31 0.56 0.65 309 0 2]\n",
      " [0 6 23 31 0.66 0.68 309 0 2]\n",
      " [0 6 23 31 0.27 0.89 309 0 3]\n",
      " [0 4 23 31 0.66 0.68 309 0 2]\n",
      " [0 4 23 31 0.66 0.68 309 0 2]\n",
      " [0 6 23 31 0.5 0.59 309 0 3]\n",
      " [0 6 23 31 0.5 0.59 309 0 3]\n",
      " [2 299 252 337 0.94 0.71 19 0 3]\n",
      " [0 89 64 57 0.72 0.14 50 1 1]\n",
      " [0 125 246 354 0.12 0.69 55 2 3]\n",
      " [0 6 23 31 0.23 0.94 309 1 3]\n",
      " [2 49 27 36 0.33 0.77 59 1 0]\n",
      " [0 3 23 31 0.53 0.45 309 0 3]\n",
      " [2 6 23 31 0.79 0.62 309 0 3]\n",
      " [0 19 6 0 0.93 0.46 340 0 3]\n",
      " [2 6 23 31 0.94 0.71 309 0 3]\n",
      " [0 4 23 31 0.59 0.74 309 1 0]\n",
      " [0 4 23 31 0.59 0.74 309 1 0]\n",
      " [0 6 23 31 0.56 0.65 309 1 2]\n",
      " [0 4 23 31 0.78 0.53 309 1 2]\n",
      " [0 4 23 31 0.78 0.53 309 1 2]\n",
      " [0 4 23 31 0.56 0.65 309 1 2]\n",
      " [0 1 0 0 0.5 0.59 385 0 3]\n",
      " [2 1 0 0 0.79 0.62 385 0 3]\n",
      " [2 3 23 31 0.94 0.71 309 0 3]\n",
      " [2 3 23 31 0.94 0.71 309 0 3]\n",
      " [2 3 23 31 0.94 0.71 309 0 3]\n",
      " [0 3 23 31 0.78 0.53 309 1 2]\n",
      " [2 3 23 31 0.79 0.62 309 0 3]\n",
      " [0 86 93 8 0.56 0.65 76 0 2]\n",
      " [0 147 125 129 0.19 0.13 114 1 2]\n",
      " [1 3 23 31 0.79 0.43 309 2 3]\n",
      " [1 1 0 0 0.88 0.75 385 0 3]\n",
      " [0 5 25 35 0.59 0.74 248 1 0]\n",
      " [0 8 25 35 0.59 0.74 248 1 0]\n",
      " [0 3 23 31 0.8 0.2 309 1 3]\n",
      " [0 3 23 31 0.8 0.2 309 1 3]\n",
      " [0 1 0 0 0.27 0.89 385 0 3]\n",
      " [0 1 0 0 0.27 0.89 385 0 3]\n",
      " [1 3 23 31 0.88 0.75 309 0 3]\n",
      " [0 6 42 33 0.86 0.28 435 1 0]\n",
      " [0 19 6 0 0.27 0.89 340 0 3]\n",
      " [0 1 0 0 0.93 0.46 385 0 3]\n",
      " [0 1 0 0 0.93 0.46 385 0 3]\n",
      " [2 2 6 0 0.79 0.62 340 0 3]\n",
      " [2 1 0 0 0.94 0.71 385 0 3]\n",
      " [0 3 23 31 0.15 0.46 309 1 1]\n",
      " [0 3 23 31 0.15 0.46 309 1 1]\n",
      " [0 6 6 0 0.53 0.45 340 0 3]\n",
      " [2 2 6 0 0.94 0.71 340 0 3]\n",
      " [0 3 23 31 0.57 0.33 309 1 1]\n",
      " [0 4 23 31 0.86 0.28 309 1 0]\n",
      " [0 4 23 31 0.86 0.28 309 1 0]\n",
      " [0 3 23 31 0.86 0.28 309 1 0]]\n",
      "Early stop triggered at generation {i} after not improving fitness for three generations\n",
      "--> EVOLUTION FINISHED\n",
      "\n",
      "Elapsed time in minutes: 148.0233466\n",
      "[0.69333483 0.69339539 0.69423898 0.69429948 0.6943669  0.6949145\n",
      " 0.69492452 0.69512384 0.6951257  0.69513083 0.69513083 0.69519285\n",
      " 0.69519285 0.69519285 0.6952208  0.6952208  0.6952222  0.6952222\n",
      " 0.6952222  0.69523996 0.69523996 0.69525709 0.69527553 0.69527553\n",
      " 0.69527553 0.69530108 0.69532211 0.69532356 0.69532983 0.69535087\n",
      " 0.69535087 0.69536413 0.69536413 0.69540023 0.69549667 0.69551923\n",
      " 0.69555037 0.6956363  0.69571424 0.69576908 0.69582957 0.69583514\n",
      " 0.69587188 0.69587188 0.69588155 0.69588494 0.69588494 0.6958985\n",
      " 0.69591024 0.69592583 0.69594073 0.69594073 0.69594073 0.69594319\n",
      " 0.69594605 0.69597497 0.69599274 0.69601121 0.69604315 0.69604335\n",
      " 0.6960465  0.69604723 0.69604723 0.69605068 0.69605068 0.69605687\n",
      " 0.69607935 0.69609108 0.6960958  0.6960958  0.69609821 0.69610238\n",
      " 0.6961066  0.6961066  0.69611181 0.69611949 0.69612843 0.69613105\n",
      " 0.69613105 0.69613235]\n",
      "0.6933348298072814\n",
      "0\n"
     ]
    },
    {
     "name": "stderr",
     "output_type": "stream",
     "text": [
      "\n"
     ]
    },
    {
     "ename": "NameError",
     "evalue": "name 'features' is not defined",
     "output_type": "error",
     "traceback": [
      "\u001b[0;31m---------------------------------------------------------------------------\u001b[0m",
      "\u001b[0;31mNameError\u001b[0m                                 Traceback (most recent call last)",
      "\u001b[0;32m/var/folders/jr/swvxxh453l3_0psw7xssft500000gn/T/ipykernel_56459/3592841731.py\u001b[0m in \u001b[0;36m<module>\u001b[0;34m\u001b[0m\n\u001b[1;32m     52\u001b[0m \u001b[0mprint\u001b[0m\u001b[0;34m(\u001b[0m\u001b[0mindex_best_parameters\u001b[0m\u001b[0;34m)\u001b[0m\u001b[0;34m\u001b[0m\u001b[0;34m\u001b[0m\u001b[0m\n\u001b[1;32m     53\u001b[0m \u001b[0;31m# print_best(x[index_best_parameters], activation_functions, batch_sizes, f.max(), features)\u001b[0m\u001b[0;34m\u001b[0m\u001b[0;34m\u001b[0m\u001b[0;34m\u001b[0m\u001b[0m\n\u001b[0;32m---> 54\u001b[0;31m \u001b[0mprint_best\u001b[0m\u001b[0;34m(\u001b[0m\u001b[0mx\u001b[0m\u001b[0;34m[\u001b[0m\u001b[0mindex_best_parameters\u001b[0m\u001b[0;34m]\u001b[0m\u001b[0;34m,\u001b[0m \u001b[0mactivation_functions\u001b[0m\u001b[0;34m,\u001b[0m \u001b[0mbatch_sizes\u001b[0m\u001b[0;34m,\u001b[0m \u001b[0mf\u001b[0m\u001b[0;34m.\u001b[0m\u001b[0mmin\u001b[0m\u001b[0;34m(\u001b[0m\u001b[0;34m)\u001b[0m\u001b[0;34m,\u001b[0m \u001b[0mfeatures\u001b[0m\u001b[0;34m)\u001b[0m\u001b[0;34m\u001b[0m\u001b[0;34m\u001b[0m\u001b[0m\n\u001b[0m\u001b[1;32m     55\u001b[0m \u001b[0mvalidate_best\u001b[0m\u001b[0;34m(\u001b[0m\u001b[0mx\u001b[0m\u001b[0;34m[\u001b[0m\u001b[0mindex_best_parameters\u001b[0m\u001b[0;34m]\u001b[0m\u001b[0;34m,\u001b[0m \u001b[0mea\u001b[0m\u001b[0;34m)\u001b[0m\u001b[0;34m\u001b[0m\u001b[0;34m\u001b[0m\u001b[0m\n\u001b[1;32m     56\u001b[0m \u001b[0mplot_convergence\u001b[0m\u001b[0;34m(\u001b[0m\u001b[0mf_best\u001b[0m\u001b[0;34m)\u001b[0m\u001b[0;34m\u001b[0m\u001b[0;34m\u001b[0m\u001b[0m\n",
      "\u001b[0;31mNameError\u001b[0m: name 'features' is not defined"
     ]
    }
   ],
   "source": [
    "df = retrieve_data(\"SP500\", \"Dataset v3/SP500_reduced_data_20220425.csv\")\n",
    "\n",
    "population_size = 80\n",
    "generations = 10\n",
    "lookbacks = [3, 5, 10, 20]\n",
    "activation_functions = ['sigmoid', 'tanh', 'relu']\n",
    "batch_sizes = [64, 128, 256]\n",
    "\n",
    "ea = EA(population_size, activation_functions, batch_sizes, lookbacks)\n",
    "x = init_population(population_size, activation_functions, batch_sizes, lookbacks)\n",
    "print(x)\n",
    "f = evaluate_init_population(ea, x)\n",
    "\n",
    "populations = []\n",
    "populations.append(x)\n",
    "# f_best = [f.max()]\n",
    "f_best = [f.min()]\n",
    "\n",
    "start_time = datetime.now()\n",
    "\n",
    "print(\"--> STARTING EVOLUTION\")\n",
    "early_stop = 0\n",
    "for i in range(generations):\n",
    "#     print(f'Generation: {i}\\tBest fitness: {f.max()}')\n",
    "    print(f'Generation: {i}\\tBest fitness: {f.min()}')\n",
    "    x, f = ea.step(x, f)\n",
    "    print(x)\n",
    "    populations.append(x)\n",
    "\n",
    "#     if f.max() > f_best[-1]:\n",
    "    if f.min() < f_best[-1]:\n",
    "#         f_best.append(f.max())\n",
    "        f_best.append(f.min())\n",
    "        early_stop = 0\n",
    "    else:\n",
    "        f_best.append(f_best[-1])\n",
    "        early_stop += 1\n",
    "    if early_stop == 3:\n",
    "        print(\"Early stop triggered at generation {i} after not improving fitness for three generations\")\n",
    "        break\n",
    "print(\"--> EVOLUTION FINISHED\")\n",
    "\n",
    "end_time = datetime.now()\n",
    "evolution_time = end_time - start_time\n",
    "evolution_time_seconds = evolution_time.total_seconds()\n",
    "print(f\"\\nElapsed time in minutes: {evolution_time_seconds/60}\")\n",
    "\n",
    "print(f)\n",
    "print(f.min())\n",
    "# index_best_parameters = np.where(f == f.max())[0][0]\n",
    "index_best_parameters = np.where(f == f.min())[0][0]\n",
    "print(index_best_parameters)\n",
    "# print_best(x[index_best_parameters], activation_functions, batch_sizes, f.max(), features)\n",
    "print_best(x[index_best_parameters], activation_functions, batch_sizes, f.min(), lookbacks)\n",
    "validate_best(x[index_best_parameters], ea)\n",
    "plot_convergence(f_best)"
   ]
  },
  {
   "cell_type": "code",
   "execution_count": 10,
   "metadata": {},
   "outputs": [
    {
     "name": "stdout",
     "output_type": "stream",
     "text": [
      "0\n",
      "\n",
      "Most suitable parameters -- Loss of 0.6961323499679566:\n",
      "\tActivation function:           \tsigmoid\n",
      "\tDense nodes layer 1:           \t126\n",
      "\tDense nodes layer 2:           \t6\n",
      "\tDense nodes layer 1:           \t124\n",
      "\tDropout layer 1:               \t0.66\n",
      "\tDropout layer 2:               \t0.68\n",
      "\tEpochs trained:                \t445\n",
      "\tBatch Size:                    \t64\n",
      "\tLookback:                      \t10\n",
      "\n",
      "Validating solution...\n",
      "Solution validated\n"
     ]
    },
    {
     "data": {
      "application/vnd.plotly.v1+json": {
       "config": {
        "plotlyServerURL": "https://plot.ly"
       },
       "data": [
        {
         "mode": "lines",
         "type": "scatter",
         "x": [
          0,
          1,
          2,
          3
         ],
         "xaxis": "x",
         "y": [
          0.6933348298072814,
          0.6933348298072814,
          0.6933348298072814,
          0.6933348298072814
         ],
         "yaxis": "y"
        }
       ],
       "layout": {
        "template": {
         "data": {
          "bar": [
           {
            "error_x": {
             "color": "#2a3f5f"
            },
            "error_y": {
             "color": "#2a3f5f"
            },
            "marker": {
             "line": {
              "color": "#E5ECF6",
              "width": 0.5
             },
             "pattern": {
              "fillmode": "overlay",
              "size": 10,
              "solidity": 0.2
             }
            },
            "type": "bar"
           }
          ],
          "barpolar": [
           {
            "marker": {
             "line": {
              "color": "#E5ECF6",
              "width": 0.5
             },
             "pattern": {
              "fillmode": "overlay",
              "size": 10,
              "solidity": 0.2
             }
            },
            "type": "barpolar"
           }
          ],
          "carpet": [
           {
            "aaxis": {
             "endlinecolor": "#2a3f5f",
             "gridcolor": "white",
             "linecolor": "white",
             "minorgridcolor": "white",
             "startlinecolor": "#2a3f5f"
            },
            "baxis": {
             "endlinecolor": "#2a3f5f",
             "gridcolor": "white",
             "linecolor": "white",
             "minorgridcolor": "white",
             "startlinecolor": "#2a3f5f"
            },
            "type": "carpet"
           }
          ],
          "choropleth": [
           {
            "colorbar": {
             "outlinewidth": 0,
             "ticks": ""
            },
            "type": "choropleth"
           }
          ],
          "contour": [
           {
            "colorbar": {
             "outlinewidth": 0,
             "ticks": ""
            },
            "colorscale": [
             [
              0,
              "#0d0887"
             ],
             [
              0.1111111111111111,
              "#46039f"
             ],
             [
              0.2222222222222222,
              "#7201a8"
             ],
             [
              0.3333333333333333,
              "#9c179e"
             ],
             [
              0.4444444444444444,
              "#bd3786"
             ],
             [
              0.5555555555555556,
              "#d8576b"
             ],
             [
              0.6666666666666666,
              "#ed7953"
             ],
             [
              0.7777777777777778,
              "#fb9f3a"
             ],
             [
              0.8888888888888888,
              "#fdca26"
             ],
             [
              1,
              "#f0f921"
             ]
            ],
            "type": "contour"
           }
          ],
          "contourcarpet": [
           {
            "colorbar": {
             "outlinewidth": 0,
             "ticks": ""
            },
            "type": "contourcarpet"
           }
          ],
          "heatmap": [
           {
            "colorbar": {
             "outlinewidth": 0,
             "ticks": ""
            },
            "colorscale": [
             [
              0,
              "#0d0887"
             ],
             [
              0.1111111111111111,
              "#46039f"
             ],
             [
              0.2222222222222222,
              "#7201a8"
             ],
             [
              0.3333333333333333,
              "#9c179e"
             ],
             [
              0.4444444444444444,
              "#bd3786"
             ],
             [
              0.5555555555555556,
              "#d8576b"
             ],
             [
              0.6666666666666666,
              "#ed7953"
             ],
             [
              0.7777777777777778,
              "#fb9f3a"
             ],
             [
              0.8888888888888888,
              "#fdca26"
             ],
             [
              1,
              "#f0f921"
             ]
            ],
            "type": "heatmap"
           }
          ],
          "heatmapgl": [
           {
            "colorbar": {
             "outlinewidth": 0,
             "ticks": ""
            },
            "colorscale": [
             [
              0,
              "#0d0887"
             ],
             [
              0.1111111111111111,
              "#46039f"
             ],
             [
              0.2222222222222222,
              "#7201a8"
             ],
             [
              0.3333333333333333,
              "#9c179e"
             ],
             [
              0.4444444444444444,
              "#bd3786"
             ],
             [
              0.5555555555555556,
              "#d8576b"
             ],
             [
              0.6666666666666666,
              "#ed7953"
             ],
             [
              0.7777777777777778,
              "#fb9f3a"
             ],
             [
              0.8888888888888888,
              "#fdca26"
             ],
             [
              1,
              "#f0f921"
             ]
            ],
            "type": "heatmapgl"
           }
          ],
          "histogram": [
           {
            "marker": {
             "pattern": {
              "fillmode": "overlay",
              "size": 10,
              "solidity": 0.2
             }
            },
            "type": "histogram"
           }
          ],
          "histogram2d": [
           {
            "colorbar": {
             "outlinewidth": 0,
             "ticks": ""
            },
            "colorscale": [
             [
              0,
              "#0d0887"
             ],
             [
              0.1111111111111111,
              "#46039f"
             ],
             [
              0.2222222222222222,
              "#7201a8"
             ],
             [
              0.3333333333333333,
              "#9c179e"
             ],
             [
              0.4444444444444444,
              "#bd3786"
             ],
             [
              0.5555555555555556,
              "#d8576b"
             ],
             [
              0.6666666666666666,
              "#ed7953"
             ],
             [
              0.7777777777777778,
              "#fb9f3a"
             ],
             [
              0.8888888888888888,
              "#fdca26"
             ],
             [
              1,
              "#f0f921"
             ]
            ],
            "type": "histogram2d"
           }
          ],
          "histogram2dcontour": [
           {
            "colorbar": {
             "outlinewidth": 0,
             "ticks": ""
            },
            "colorscale": [
             [
              0,
              "#0d0887"
             ],
             [
              0.1111111111111111,
              "#46039f"
             ],
             [
              0.2222222222222222,
              "#7201a8"
             ],
             [
              0.3333333333333333,
              "#9c179e"
             ],
             [
              0.4444444444444444,
              "#bd3786"
             ],
             [
              0.5555555555555556,
              "#d8576b"
             ],
             [
              0.6666666666666666,
              "#ed7953"
             ],
             [
              0.7777777777777778,
              "#fb9f3a"
             ],
             [
              0.8888888888888888,
              "#fdca26"
             ],
             [
              1,
              "#f0f921"
             ]
            ],
            "type": "histogram2dcontour"
           }
          ],
          "mesh3d": [
           {
            "colorbar": {
             "outlinewidth": 0,
             "ticks": ""
            },
            "type": "mesh3d"
           }
          ],
          "parcoords": [
           {
            "line": {
             "colorbar": {
              "outlinewidth": 0,
              "ticks": ""
             }
            },
            "type": "parcoords"
           }
          ],
          "pie": [
           {
            "automargin": true,
            "type": "pie"
           }
          ],
          "scatter": [
           {
            "marker": {
             "colorbar": {
              "outlinewidth": 0,
              "ticks": ""
             }
            },
            "type": "scatter"
           }
          ],
          "scatter3d": [
           {
            "line": {
             "colorbar": {
              "outlinewidth": 0,
              "ticks": ""
             }
            },
            "marker": {
             "colorbar": {
              "outlinewidth": 0,
              "ticks": ""
             }
            },
            "type": "scatter3d"
           }
          ],
          "scattercarpet": [
           {
            "marker": {
             "colorbar": {
              "outlinewidth": 0,
              "ticks": ""
             }
            },
            "type": "scattercarpet"
           }
          ],
          "scattergeo": [
           {
            "marker": {
             "colorbar": {
              "outlinewidth": 0,
              "ticks": ""
             }
            },
            "type": "scattergeo"
           }
          ],
          "scattergl": [
           {
            "marker": {
             "colorbar": {
              "outlinewidth": 0,
              "ticks": ""
             }
            },
            "type": "scattergl"
           }
          ],
          "scattermapbox": [
           {
            "marker": {
             "colorbar": {
              "outlinewidth": 0,
              "ticks": ""
             }
            },
            "type": "scattermapbox"
           }
          ],
          "scatterpolar": [
           {
            "marker": {
             "colorbar": {
              "outlinewidth": 0,
              "ticks": ""
             }
            },
            "type": "scatterpolar"
           }
          ],
          "scatterpolargl": [
           {
            "marker": {
             "colorbar": {
              "outlinewidth": 0,
              "ticks": ""
             }
            },
            "type": "scatterpolargl"
           }
          ],
          "scatterternary": [
           {
            "marker": {
             "colorbar": {
              "outlinewidth": 0,
              "ticks": ""
             }
            },
            "type": "scatterternary"
           }
          ],
          "surface": [
           {
            "colorbar": {
             "outlinewidth": 0,
             "ticks": ""
            },
            "colorscale": [
             [
              0,
              "#0d0887"
             ],
             [
              0.1111111111111111,
              "#46039f"
             ],
             [
              0.2222222222222222,
              "#7201a8"
             ],
             [
              0.3333333333333333,
              "#9c179e"
             ],
             [
              0.4444444444444444,
              "#bd3786"
             ],
             [
              0.5555555555555556,
              "#d8576b"
             ],
             [
              0.6666666666666666,
              "#ed7953"
             ],
             [
              0.7777777777777778,
              "#fb9f3a"
             ],
             [
              0.8888888888888888,
              "#fdca26"
             ],
             [
              1,
              "#f0f921"
             ]
            ],
            "type": "surface"
           }
          ],
          "table": [
           {
            "cells": {
             "fill": {
              "color": "#EBF0F8"
             },
             "line": {
              "color": "white"
             }
            },
            "header": {
             "fill": {
              "color": "#C8D4E3"
             },
             "line": {
              "color": "white"
             }
            },
            "type": "table"
           }
          ]
         },
         "layout": {
          "annotationdefaults": {
           "arrowcolor": "#2a3f5f",
           "arrowhead": 0,
           "arrowwidth": 1
          },
          "autotypenumbers": "strict",
          "coloraxis": {
           "colorbar": {
            "outlinewidth": 0,
            "ticks": ""
           }
          },
          "colorscale": {
           "diverging": [
            [
             0,
             "#8e0152"
            ],
            [
             0.1,
             "#c51b7d"
            ],
            [
             0.2,
             "#de77ae"
            ],
            [
             0.3,
             "#f1b6da"
            ],
            [
             0.4,
             "#fde0ef"
            ],
            [
             0.5,
             "#f7f7f7"
            ],
            [
             0.6,
             "#e6f5d0"
            ],
            [
             0.7,
             "#b8e186"
            ],
            [
             0.8,
             "#7fbc41"
            ],
            [
             0.9,
             "#4d9221"
            ],
            [
             1,
             "#276419"
            ]
           ],
           "sequential": [
            [
             0,
             "#0d0887"
            ],
            [
             0.1111111111111111,
             "#46039f"
            ],
            [
             0.2222222222222222,
             "#7201a8"
            ],
            [
             0.3333333333333333,
             "#9c179e"
            ],
            [
             0.4444444444444444,
             "#bd3786"
            ],
            [
             0.5555555555555556,
             "#d8576b"
            ],
            [
             0.6666666666666666,
             "#ed7953"
            ],
            [
             0.7777777777777778,
             "#fb9f3a"
            ],
            [
             0.8888888888888888,
             "#fdca26"
            ],
            [
             1,
             "#f0f921"
            ]
           ],
           "sequentialminus": [
            [
             0,
             "#0d0887"
            ],
            [
             0.1111111111111111,
             "#46039f"
            ],
            [
             0.2222222222222222,
             "#7201a8"
            ],
            [
             0.3333333333333333,
             "#9c179e"
            ],
            [
             0.4444444444444444,
             "#bd3786"
            ],
            [
             0.5555555555555556,
             "#d8576b"
            ],
            [
             0.6666666666666666,
             "#ed7953"
            ],
            [
             0.7777777777777778,
             "#fb9f3a"
            ],
            [
             0.8888888888888888,
             "#fdca26"
            ],
            [
             1,
             "#f0f921"
            ]
           ]
          },
          "colorway": [
           "#636efa",
           "#EF553B",
           "#00cc96",
           "#ab63fa",
           "#FFA15A",
           "#19d3f3",
           "#FF6692",
           "#B6E880",
           "#FF97FF",
           "#FECB52"
          ],
          "font": {
           "color": "#2a3f5f"
          },
          "geo": {
           "bgcolor": "white",
           "lakecolor": "white",
           "landcolor": "#E5ECF6",
           "showlakes": true,
           "showland": true,
           "subunitcolor": "white"
          },
          "hoverlabel": {
           "align": "left"
          },
          "hovermode": "closest",
          "mapbox": {
           "style": "light"
          },
          "paper_bgcolor": "white",
          "plot_bgcolor": "#E5ECF6",
          "polar": {
           "angularaxis": {
            "gridcolor": "white",
            "linecolor": "white",
            "ticks": ""
           },
           "bgcolor": "#E5ECF6",
           "radialaxis": {
            "gridcolor": "white",
            "linecolor": "white",
            "ticks": ""
           }
          },
          "scene": {
           "xaxis": {
            "backgroundcolor": "#E5ECF6",
            "gridcolor": "white",
            "gridwidth": 2,
            "linecolor": "white",
            "showbackground": true,
            "ticks": "",
            "zerolinecolor": "white"
           },
           "yaxis": {
            "backgroundcolor": "#E5ECF6",
            "gridcolor": "white",
            "gridwidth": 2,
            "linecolor": "white",
            "showbackground": true,
            "ticks": "",
            "zerolinecolor": "white"
           },
           "zaxis": {
            "backgroundcolor": "#E5ECF6",
            "gridcolor": "white",
            "gridwidth": 2,
            "linecolor": "white",
            "showbackground": true,
            "ticks": "",
            "zerolinecolor": "white"
           }
          },
          "shapedefaults": {
           "line": {
            "color": "#2a3f5f"
           }
          },
          "ternary": {
           "aaxis": {
            "gridcolor": "white",
            "linecolor": "white",
            "ticks": ""
           },
           "baxis": {
            "gridcolor": "white",
            "linecolor": "white",
            "ticks": ""
           },
           "bgcolor": "#E5ECF6",
           "caxis": {
            "gridcolor": "white",
            "linecolor": "white",
            "ticks": ""
           }
          },
          "title": {
           "x": 0.05
          },
          "xaxis": {
           "automargin": true,
           "gridcolor": "white",
           "linecolor": "white",
           "ticks": "",
           "title": {
            "standoff": 15
           },
           "zerolinecolor": "white",
           "zerolinewidth": 2
          },
          "yaxis": {
           "automargin": true,
           "gridcolor": "white",
           "linecolor": "white",
           "ticks": "",
           "title": {
            "standoff": 15
           },
           "zerolinecolor": "white",
           "zerolinewidth": 2
          }
         }
        },
        "title": {
         "text": "Validation Accuracy Over NN Tuning Generations"
        },
        "xaxis": {
         "anchor": "y",
         "domain": [
          0,
          1
         ],
         "title": {
          "text": "Generation"
         }
        },
        "yaxis": {
         "anchor": "x",
         "domain": [
          0,
          1
         ],
         "title": {
          "text": "Validation Accuracy"
         }
        }
       }
      },
      "text/html": [
       "<div>                            <div id=\"ee549400-58de-41b2-b367-eda649fa71fa\" class=\"plotly-graph-div\" style=\"height:525px; width:100%;\"></div>            <script type=\"text/javascript\">                require([\"plotly\"], function(Plotly) {                    window.PLOTLYENV=window.PLOTLYENV || {};                                    if (document.getElementById(\"ee549400-58de-41b2-b367-eda649fa71fa\")) {                    Plotly.newPlot(                        \"ee549400-58de-41b2-b367-eda649fa71fa\",                        [{\"mode\":\"lines\",\"type\":\"scatter\",\"x\":[0,1,2,3],\"xaxis\":\"x\",\"y\":[0.6933348298072814,0.6933348298072814,0.6933348298072814,0.6933348298072814],\"yaxis\":\"y\"}],                        {\"template\":{\"data\":{\"bar\":[{\"error_x\":{\"color\":\"#2a3f5f\"},\"error_y\":{\"color\":\"#2a3f5f\"},\"marker\":{\"line\":{\"color\":\"#E5ECF6\",\"width\":0.5},\"pattern\":{\"fillmode\":\"overlay\",\"size\":10,\"solidity\":0.2}},\"type\":\"bar\"}],\"barpolar\":[{\"marker\":{\"line\":{\"color\":\"#E5ECF6\",\"width\":0.5},\"pattern\":{\"fillmode\":\"overlay\",\"size\":10,\"solidity\":0.2}},\"type\":\"barpolar\"}],\"carpet\":[{\"aaxis\":{\"endlinecolor\":\"#2a3f5f\",\"gridcolor\":\"white\",\"linecolor\":\"white\",\"minorgridcolor\":\"white\",\"startlinecolor\":\"#2a3f5f\"},\"baxis\":{\"endlinecolor\":\"#2a3f5f\",\"gridcolor\":\"white\",\"linecolor\":\"white\",\"minorgridcolor\":\"white\",\"startlinecolor\":\"#2a3f5f\"},\"type\":\"carpet\"}],\"choropleth\":[{\"colorbar\":{\"outlinewidth\":0,\"ticks\":\"\"},\"type\":\"choropleth\"}],\"contour\":[{\"colorbar\":{\"outlinewidth\":0,\"ticks\":\"\"},\"colorscale\":[[0.0,\"#0d0887\"],[0.1111111111111111,\"#46039f\"],[0.2222222222222222,\"#7201a8\"],[0.3333333333333333,\"#9c179e\"],[0.4444444444444444,\"#bd3786\"],[0.5555555555555556,\"#d8576b\"],[0.6666666666666666,\"#ed7953\"],[0.7777777777777778,\"#fb9f3a\"],[0.8888888888888888,\"#fdca26\"],[1.0,\"#f0f921\"]],\"type\":\"contour\"}],\"contourcarpet\":[{\"colorbar\":{\"outlinewidth\":0,\"ticks\":\"\"},\"type\":\"contourcarpet\"}],\"heatmap\":[{\"colorbar\":{\"outlinewidth\":0,\"ticks\":\"\"},\"colorscale\":[[0.0,\"#0d0887\"],[0.1111111111111111,\"#46039f\"],[0.2222222222222222,\"#7201a8\"],[0.3333333333333333,\"#9c179e\"],[0.4444444444444444,\"#bd3786\"],[0.5555555555555556,\"#d8576b\"],[0.6666666666666666,\"#ed7953\"],[0.7777777777777778,\"#fb9f3a\"],[0.8888888888888888,\"#fdca26\"],[1.0,\"#f0f921\"]],\"type\":\"heatmap\"}],\"heatmapgl\":[{\"colorbar\":{\"outlinewidth\":0,\"ticks\":\"\"},\"colorscale\":[[0.0,\"#0d0887\"],[0.1111111111111111,\"#46039f\"],[0.2222222222222222,\"#7201a8\"],[0.3333333333333333,\"#9c179e\"],[0.4444444444444444,\"#bd3786\"],[0.5555555555555556,\"#d8576b\"],[0.6666666666666666,\"#ed7953\"],[0.7777777777777778,\"#fb9f3a\"],[0.8888888888888888,\"#fdca26\"],[1.0,\"#f0f921\"]],\"type\":\"heatmapgl\"}],\"histogram\":[{\"marker\":{\"pattern\":{\"fillmode\":\"overlay\",\"size\":10,\"solidity\":0.2}},\"type\":\"histogram\"}],\"histogram2d\":[{\"colorbar\":{\"outlinewidth\":0,\"ticks\":\"\"},\"colorscale\":[[0.0,\"#0d0887\"],[0.1111111111111111,\"#46039f\"],[0.2222222222222222,\"#7201a8\"],[0.3333333333333333,\"#9c179e\"],[0.4444444444444444,\"#bd3786\"],[0.5555555555555556,\"#d8576b\"],[0.6666666666666666,\"#ed7953\"],[0.7777777777777778,\"#fb9f3a\"],[0.8888888888888888,\"#fdca26\"],[1.0,\"#f0f921\"]],\"type\":\"histogram2d\"}],\"histogram2dcontour\":[{\"colorbar\":{\"outlinewidth\":0,\"ticks\":\"\"},\"colorscale\":[[0.0,\"#0d0887\"],[0.1111111111111111,\"#46039f\"],[0.2222222222222222,\"#7201a8\"],[0.3333333333333333,\"#9c179e\"],[0.4444444444444444,\"#bd3786\"],[0.5555555555555556,\"#d8576b\"],[0.6666666666666666,\"#ed7953\"],[0.7777777777777778,\"#fb9f3a\"],[0.8888888888888888,\"#fdca26\"],[1.0,\"#f0f921\"]],\"type\":\"histogram2dcontour\"}],\"mesh3d\":[{\"colorbar\":{\"outlinewidth\":0,\"ticks\":\"\"},\"type\":\"mesh3d\"}],\"parcoords\":[{\"line\":{\"colorbar\":{\"outlinewidth\":0,\"ticks\":\"\"}},\"type\":\"parcoords\"}],\"pie\":[{\"automargin\":true,\"type\":\"pie\"}],\"scatter\":[{\"marker\":{\"colorbar\":{\"outlinewidth\":0,\"ticks\":\"\"}},\"type\":\"scatter\"}],\"scatter3d\":[{\"line\":{\"colorbar\":{\"outlinewidth\":0,\"ticks\":\"\"}},\"marker\":{\"colorbar\":{\"outlinewidth\":0,\"ticks\":\"\"}},\"type\":\"scatter3d\"}],\"scattercarpet\":[{\"marker\":{\"colorbar\":{\"outlinewidth\":0,\"ticks\":\"\"}},\"type\":\"scattercarpet\"}],\"scattergeo\":[{\"marker\":{\"colorbar\":{\"outlinewidth\":0,\"ticks\":\"\"}},\"type\":\"scattergeo\"}],\"scattergl\":[{\"marker\":{\"colorbar\":{\"outlinewidth\":0,\"ticks\":\"\"}},\"type\":\"scattergl\"}],\"scattermapbox\":[{\"marker\":{\"colorbar\":{\"outlinewidth\":0,\"ticks\":\"\"}},\"type\":\"scattermapbox\"}],\"scatterpolar\":[{\"marker\":{\"colorbar\":{\"outlinewidth\":0,\"ticks\":\"\"}},\"type\":\"scatterpolar\"}],\"scatterpolargl\":[{\"marker\":{\"colorbar\":{\"outlinewidth\":0,\"ticks\":\"\"}},\"type\":\"scatterpolargl\"}],\"scatterternary\":[{\"marker\":{\"colorbar\":{\"outlinewidth\":0,\"ticks\":\"\"}},\"type\":\"scatterternary\"}],\"surface\":[{\"colorbar\":{\"outlinewidth\":0,\"ticks\":\"\"},\"colorscale\":[[0.0,\"#0d0887\"],[0.1111111111111111,\"#46039f\"],[0.2222222222222222,\"#7201a8\"],[0.3333333333333333,\"#9c179e\"],[0.4444444444444444,\"#bd3786\"],[0.5555555555555556,\"#d8576b\"],[0.6666666666666666,\"#ed7953\"],[0.7777777777777778,\"#fb9f3a\"],[0.8888888888888888,\"#fdca26\"],[1.0,\"#f0f921\"]],\"type\":\"surface\"}],\"table\":[{\"cells\":{\"fill\":{\"color\":\"#EBF0F8\"},\"line\":{\"color\":\"white\"}},\"header\":{\"fill\":{\"color\":\"#C8D4E3\"},\"line\":{\"color\":\"white\"}},\"type\":\"table\"}]},\"layout\":{\"annotationdefaults\":{\"arrowcolor\":\"#2a3f5f\",\"arrowhead\":0,\"arrowwidth\":1},\"autotypenumbers\":\"strict\",\"coloraxis\":{\"colorbar\":{\"outlinewidth\":0,\"ticks\":\"\"}},\"colorscale\":{\"diverging\":[[0,\"#8e0152\"],[0.1,\"#c51b7d\"],[0.2,\"#de77ae\"],[0.3,\"#f1b6da\"],[0.4,\"#fde0ef\"],[0.5,\"#f7f7f7\"],[0.6,\"#e6f5d0\"],[0.7,\"#b8e186\"],[0.8,\"#7fbc41\"],[0.9,\"#4d9221\"],[1,\"#276419\"]],\"sequential\":[[0.0,\"#0d0887\"],[0.1111111111111111,\"#46039f\"],[0.2222222222222222,\"#7201a8\"],[0.3333333333333333,\"#9c179e\"],[0.4444444444444444,\"#bd3786\"],[0.5555555555555556,\"#d8576b\"],[0.6666666666666666,\"#ed7953\"],[0.7777777777777778,\"#fb9f3a\"],[0.8888888888888888,\"#fdca26\"],[1.0,\"#f0f921\"]],\"sequentialminus\":[[0.0,\"#0d0887\"],[0.1111111111111111,\"#46039f\"],[0.2222222222222222,\"#7201a8\"],[0.3333333333333333,\"#9c179e\"],[0.4444444444444444,\"#bd3786\"],[0.5555555555555556,\"#d8576b\"],[0.6666666666666666,\"#ed7953\"],[0.7777777777777778,\"#fb9f3a\"],[0.8888888888888888,\"#fdca26\"],[1.0,\"#f0f921\"]]},\"colorway\":[\"#636efa\",\"#EF553B\",\"#00cc96\",\"#ab63fa\",\"#FFA15A\",\"#19d3f3\",\"#FF6692\",\"#B6E880\",\"#FF97FF\",\"#FECB52\"],\"font\":{\"color\":\"#2a3f5f\"},\"geo\":{\"bgcolor\":\"white\",\"lakecolor\":\"white\",\"landcolor\":\"#E5ECF6\",\"showlakes\":true,\"showland\":true,\"subunitcolor\":\"white\"},\"hoverlabel\":{\"align\":\"left\"},\"hovermode\":\"closest\",\"mapbox\":{\"style\":\"light\"},\"paper_bgcolor\":\"white\",\"plot_bgcolor\":\"#E5ECF6\",\"polar\":{\"angularaxis\":{\"gridcolor\":\"white\",\"linecolor\":\"white\",\"ticks\":\"\"},\"bgcolor\":\"#E5ECF6\",\"radialaxis\":{\"gridcolor\":\"white\",\"linecolor\":\"white\",\"ticks\":\"\"}},\"scene\":{\"xaxis\":{\"backgroundcolor\":\"#E5ECF6\",\"gridcolor\":\"white\",\"gridwidth\":2,\"linecolor\":\"white\",\"showbackground\":true,\"ticks\":\"\",\"zerolinecolor\":\"white\"},\"yaxis\":{\"backgroundcolor\":\"#E5ECF6\",\"gridcolor\":\"white\",\"gridwidth\":2,\"linecolor\":\"white\",\"showbackground\":true,\"ticks\":\"\",\"zerolinecolor\":\"white\"},\"zaxis\":{\"backgroundcolor\":\"#E5ECF6\",\"gridcolor\":\"white\",\"gridwidth\":2,\"linecolor\":\"white\",\"showbackground\":true,\"ticks\":\"\",\"zerolinecolor\":\"white\"}},\"shapedefaults\":{\"line\":{\"color\":\"#2a3f5f\"}},\"ternary\":{\"aaxis\":{\"gridcolor\":\"white\",\"linecolor\":\"white\",\"ticks\":\"\"},\"baxis\":{\"gridcolor\":\"white\",\"linecolor\":\"white\",\"ticks\":\"\"},\"bgcolor\":\"#E5ECF6\",\"caxis\":{\"gridcolor\":\"white\",\"linecolor\":\"white\",\"ticks\":\"\"}},\"title\":{\"x\":0.05},\"xaxis\":{\"automargin\":true,\"gridcolor\":\"white\",\"linecolor\":\"white\",\"ticks\":\"\",\"title\":{\"standoff\":15},\"zerolinecolor\":\"white\",\"zerolinewidth\":2},\"yaxis\":{\"automargin\":true,\"gridcolor\":\"white\",\"linecolor\":\"white\",\"ticks\":\"\",\"title\":{\"standoff\":15},\"zerolinecolor\":\"white\",\"zerolinewidth\":2}}},\"title\":{\"text\":\"Validation Accuracy Over NN Tuning Generations\"},\"xaxis\":{\"anchor\":\"y\",\"domain\":[0.0,1.0],\"title\":{\"text\":\"Generation\"}},\"yaxis\":{\"anchor\":\"x\",\"domain\":[0.0,1.0],\"title\":{\"text\":\"Validation Accuracy\"}}},                        {\"responsive\": true}                    ).then(function(){\n",
       "                            \n",
       "var gd = document.getElementById('ee549400-58de-41b2-b367-eda649fa71fa');\n",
       "var x = new MutationObserver(function (mutations, observer) {{\n",
       "        var display = window.getComputedStyle(gd).display;\n",
       "        if (!display || display === 'none') {{\n",
       "            console.log([gd, 'removed!']);\n",
       "            Plotly.purge(gd);\n",
       "            observer.disconnect();\n",
       "        }}\n",
       "}});\n",
       "\n",
       "// Listen for the removal of the full notebook cells\n",
       "var notebookContainer = gd.closest('#notebook-container');\n",
       "if (notebookContainer) {{\n",
       "    x.observe(notebookContainer, {childList: true});\n",
       "}}\n",
       "\n",
       "// Listen for the clearing of the current output cell\n",
       "var outputEl = gd.closest('.output');\n",
       "if (outputEl) {{\n",
       "    x.observe(outputEl, {childList: true});\n",
       "}}\n",
       "\n",
       "                        })                };                });            </script>        </div>"
      ]
     },
     "metadata": {},
     "output_type": "display_data"
    }
   ],
   "source": [
    "index_best_parameters = np.where(f == f.min())[0][0]\n",
    "print(index_best_parameters)\n",
    "print_best(x[index_best_parameters], activation_functions, batch_sizes, f.max(), lookbacks)\n",
    "validate_best(x[index_best_parameters], ea)\n",
    "plot_convergence(f_best)"
   ]
  },
  {
   "cell_type": "code",
   "execution_count": null,
   "metadata": {},
   "outputs": [],
   "source": []
  },
  {
   "cell_type": "code",
   "execution_count": null,
   "metadata": {},
   "outputs": [],
   "source": []
  },
  {
   "cell_type": "code",
   "execution_count": null,
   "metadata": {},
   "outputs": [],
   "source": []
  }
 ],
 "metadata": {
  "kernelspec": {
   "display_name": "Python 3 (ipykernel)",
   "language": "python",
   "name": "python3"
  },
  "language_info": {
   "codemirror_mode": {
    "name": "ipython",
    "version": 3
   },
   "file_extension": ".py",
   "mimetype": "text/x-python",
   "name": "python",
   "nbconvert_exporter": "python",
   "pygments_lexer": "ipython3",
   "version": "3.7.4"
  }
 },
 "nbformat": 4,
 "nbformat_minor": 2
}
