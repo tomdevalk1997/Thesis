{
 "cells": [
  {
   "cell_type": "code",
   "execution_count": 1,
   "metadata": {},
   "outputs": [],
   "source": [
    "import warnings\n",
    "warnings.simplefilter(action='ignore', category=UserWarning)\n",
    "\n",
    "import pandas as pd\n",
    "import numpy as np\n",
    "from datetime import datetime, timedelta\n",
    "import plotly.graph_objs as go\n",
    "import plotly.express as px\n",
    "from plotly.subplots import make_subplots\n",
    "import gzip\n",
    "from datetime import datetime, timedelta\n",
    "from statistics import mean, median\n",
    "from sklearn.neural_network import MLPClassifier\n",
    "from sklearn.ensemble import RandomForestClassifier\n",
    "import seaborn as sns\n",
    "import matplotlib.pyplot as plt\n",
    "\n",
    "import tensorflow\n",
    "import tensorflow.keras as tf\n",
    "from tensorflow.keras.models import Model, Sequential\n",
    "from tensorflow.keras.layers import Input, Dense, LSTM, Conv1D, Conv2D, Dropout\n",
    "from tensorflow.keras.activations import sigmoid, tanh\n",
    "from tensorflow.keras.utils import to_categorical\n",
    "\n",
    "from sklearn.preprocessing import MinMaxScaler\n",
    "\n",
    "from tqdm import tqdm\n",
    "import csv\n",
    "import random\n",
    "\n",
    "from sklearn.metrics import accuracy_score as accuracy\n",
    "from sklearn.metrics import precision_score as precision\n",
    "from sklearn.metrics import recall_score as recall\n",
    "from sklearn.metrics import f1_score as f1"
   ]
  },
  {
   "cell_type": "code",
   "execution_count": 18,
   "metadata": {},
   "outputs": [],
   "source": [
    "def retrieve_data(varname, filename):\n",
    "    df = pd.read_csv(filename, index_col=0)\n",
    "#     df = pd.read_csv(filename)\n",
    "    df[\"Date\"] = pd.to_datetime(df[\"Date\"])\n",
    "    return df\n",
    "\n",
    "def create_classification_data(df, lookback):\n",
    "    rows = []\n",
    "    columns = ['Date', 'NASDAQ_relative_change_perc_1'] # Date and SP500_relative_change_perc_1 from t-0 are added first as target variables \n",
    "    \n",
    "    # create column names based on original with the addition of t-i where i is lookback\n",
    "    for i in range(1, lookback + 1): # starts at 1 since we do not want t-0 variables apart from 'Date' and 'SP500_relative_change_perc_1'\n",
    "        new_columns = df.columns.tolist()[1:] # starts at 1 to exclude 'Date' column\n",
    "        for x in range(len(new_columns)):\n",
    "            new_columns[x] = new_columns[x] + \"_t-\" + str(i)\n",
    "        columns = columns + new_columns\n",
    "    \n",
    "    # create lookback data\n",
    "    for i, row in enumerate(df.iterrows()):\n",
    "        if i > lookback: # lookback cannot be determined for earlier rows\n",
    "            new_row = [row[1][0], row[1][1]] # add target 'Date' and 'SP500_relative_change_perc_1 '\n",
    "            for x in range(1, lookback + 1): # starts at 1 since we do not want t-0 variables apart from 'Date' and 'SP500_relative_change_perc_1'\n",
    "                add_row = df.iloc[i - x].tolist()[1:] # starts at 1 to exclude 'Date' column\n",
    "                new_row = new_row + add_row\n",
    "            rows.append(new_row)\n",
    "    df2 = pd.DataFrame(rows)\n",
    "    df2.columns = columns\n",
    "    return df2\n",
    "\n",
    "def create_train_val_test(df, year_val, year_test, perc_train=None):\n",
    "    if perc_train == None:\n",
    "        # assumes years_train < year_val < year_test\n",
    "        df[\"Date\"] = pd.to_datetime(df[\"Date\"])\n",
    "        \n",
    "        val = df[df['Date'].dt.year == year_val]\n",
    "        test = df[df['Date'].dt.year == year_test]\n",
    "        train = df[df['Date'].dt.year < year_val]\n",
    "    else:\n",
    "        train = df.head(round(len(df) * perc_train))\n",
    "        val = df.tail(len(df) - len(train))\n",
    "        test = val.tail(round(0.5 * len(val)))\n",
    "        val = df.head(len(val) - len(test))\n",
    "    y_train = train['NASDAQ_relative_change_perc_1']\n",
    "    x_train = train.drop(['NASDAQ_relative_change_perc_1'], axis=1)\n",
    "    \n",
    "    y_val = val['NASDAQ_relative_change_perc_1']\n",
    "    x_val = val.drop(['NASDAQ_relative_change_perc_1'], axis=1)\n",
    "    \n",
    "    y_test = test['NASDAQ_relative_change_perc_1']\n",
    "    x_test = test.drop(['NASDAQ_relative_change_perc_1'], axis=1)\n",
    "    \n",
    "    return x_train, y_train, x_val, y_val, x_test, y_test\n",
    "\n",
    "def scale_data(x):\n",
    "    standard_scaler = MinMaxScaler()\n",
    "    x = x.drop([\"Date\"], axis=1)\n",
    "    x_scaled = pd.DataFrame(standard_scaler.fit_transform(x), columns=x.columns)\n",
    "    return x_scaled"
   ]
  },
  {
   "cell_type": "code",
   "execution_count": 32,
   "metadata": {
    "scrolled": false
   },
   "outputs": [],
   "source": [
    "lookback = 10\n",
    "val_year = 2018\n",
    "test_year = 2019\n",
    "\n",
    "files = {\n",
    "    # varname: filename\n",
    "    \"NASDAQ\": \"Dataset v3/NASDAQ_reduced_data_20220425.csv\",\n",
    "#     \"S&P500\": \"Dataset v3/SP500_combined_data_20220422.csv\"\n",
    "}\n",
    "\n",
    "for file in files:\n",
    "    df = retrieve_data(file, files[file])\n",
    "\n",
    "df = create_classification_data(df, lookback)\n",
    "\n",
    "x_train, y_train, x_val, y_val, x_test, y_test = create_train_val_test(df, val_year, test_year)"
   ]
  },
  {
   "cell_type": "code",
   "execution_count": 33,
   "metadata": {},
   "outputs": [
    {
     "data": {
      "text/plain": [
       "0       0.003351\n",
       "1       0.006484\n",
       "2      -0.000621\n",
       "3       0.009194\n",
       "4       0.025268\n",
       "5       0.011697\n",
       "6       0.001664\n",
       "7       0.009324\n",
       "8       0.001242\n",
       "9      -0.000962\n",
       "10     -0.001121\n",
       "11      0.005134\n",
       "12      0.007479\n",
       "13     -0.010623\n",
       "14     -0.013030\n",
       "15      0.001627\n",
       "16      0.000402\n",
       "17     -0.007723\n",
       "18      0.014090\n",
       "19      0.000040\n",
       "20     -0.010106\n",
       "21     -0.009434\n",
       "22      0.007920\n",
       "23      0.018543\n",
       "24      0.011003\n",
       "25      0.010374\n",
       "26     -0.004013\n",
       "27     -0.000671\n",
       "28      0.001549\n",
       "29      0.003176\n",
       "          ...   \n",
       "2100    0.007557\n",
       "2101   -0.001716\n",
       "2102    0.000211\n",
       "2103    0.006148\n",
       "2104   -0.000316\n",
       "2105    0.001607\n",
       "2106   -0.001653\n",
       "2107    0.002704\n",
       "2108   -0.012000\n",
       "2109    0.003089\n",
       "2110    0.000519\n",
       "2111   -0.017655\n",
       "2112    0.000454\n",
       "2113    0.005089\n",
       "2114    0.003994\n",
       "2115   -0.002895\n",
       "2116    0.004007\n",
       "2117   -0.001513\n",
       "2118   -0.000670\n",
       "2119   -0.004481\n",
       "2120    0.009464\n",
       "2121    0.002057\n",
       "2122   -0.003919\n",
       "2123   -0.004334\n",
       "2124   -0.001078\n",
       "2125    0.000279\n",
       "2126    0.001058\n",
       "2127   -0.000304\n",
       "2128   -0.000463\n",
       "2129   -0.007078\n",
       "Name: NASDAQ_relative_change_perc_1, Length: 2130, dtype: float64"
      ]
     },
     "execution_count": 33,
     "metadata": {},
     "output_type": "execute_result"
    }
   ],
   "source": [
    "y_train"
   ]
  },
  {
   "cell_type": "code",
   "execution_count": 34,
   "metadata": {},
   "outputs": [],
   "source": [
    "def label_data(y):\n",
    "    positives = []\n",
    "    negatives = []\n",
    "    y = list(y)\n",
    "#     for dev in y:\n",
    "#         if dev >= 0:\n",
    "#             positives.append(dev)\n",
    "#         else:\n",
    "#             negatives.append(dev)\n",
    "#     med_pos = median(positives)\n",
    "#     med_neg = median(negatives)\n",
    "    \n",
    "    labels = []\n",
    "    for dev in y:\n",
    "        if dev >= 0:\n",
    "            labels.append(1)\n",
    "#             if dev >= med_pos:\n",
    "#                 labels.append(2)\n",
    "#             else:\n",
    "#                 labels.append(1)\n",
    "        else:\n",
    "            labels.append(0)\n",
    "#             if dev <= med_neg:\n",
    "#                 labels.append(-2)\n",
    "#             else:\n",
    "#                 labels.append(-1)\n",
    "    return labels\n",
    "# \n",
    "y_train = label_data(y_train)\n",
    "y_val = label_data(y_val)\n",
    "y_test = label_data(y_test)"
   ]
  },
  {
   "cell_type": "code",
   "execution_count": 35,
   "metadata": {},
   "outputs": [
    {
     "name": "stdout",
     "output_type": "stream",
     "text": [
      "Random baseline training set\n",
      "\tDistribution: [948, 1182]\n",
      "\tRandom baseline accuracy (majority class): 0.5549295774647888\n",
      "Random baseline validation set\n",
      "\tDistribution: [120, 131]\n",
      "\tRandom baseline accuracy (majority class): 0.5219123505976095\n",
      "Random baseline test set\n",
      "\tDistribution: [120, 131]\n",
      "\tRandom baseline accuracy (majority class): 0.5219123505976095\n"
     ]
    }
   ],
   "source": [
    "def random_baseline(y):\n",
    "    counts = [0, 0]\n",
    "    for i in y:\n",
    "        if i == 0:\n",
    "            counts[0] = counts[0] + 1\n",
    "        elif i == 1:\n",
    "            counts[1] = counts[1] + 1\n",
    "    print(f\"\\tDistribution: {counts}\")\n",
    "    print(f\"\\tRandom baseline accuracy (majority class): {counts[np.argmax(np.asarray(counts))]/ len(y)}\")\n",
    "    \n",
    "print(\"Random baseline training set\")\n",
    "random_baseline(y_train)\n",
    "print(\"Random baseline validation set\")\n",
    "random_baseline(y_val)\n",
    "print(\"Random baseline test set\")\n",
    "random_baseline(y_val)"
   ]
  },
  {
   "cell_type": "code",
   "execution_count": 36,
   "metadata": {},
   "outputs": [],
   "source": [
    "train_date = x_train[['Date']]\n",
    "x_train = x_train.drop(['Date'], axis=1)\n",
    "\n",
    "val_date = x_val[['Date']]\n",
    "x_val = x_val.drop(['Date'], axis=1)\n",
    "\n",
    "test_date = x_test[['Date']]\n",
    "x_test = x_test.drop(['Date'], axis=1)"
   ]
  },
  {
   "cell_type": "code",
   "execution_count": 37,
   "metadata": {},
   "outputs": [
    {
     "name": "stdout",
     "output_type": "stream",
     "text": [
      "(2130, 180) (2130,)\n"
     ]
    }
   ],
   "source": [
    "x_train = np.asarray(x_train)\n",
    "x_val = np.asarray(x_val)\n",
    "x_test = np.asarray(x_test)\n",
    "\n",
    "y_train = np.asarray(y_train)\n",
    "y_val = np.asarray(y_val)\n",
    "y_test = np.asarray(y_test)\n",
    "\n",
    "print(x_train.shape, y_train.shape)"
   ]
  },
  {
   "cell_type": "code",
   "execution_count": 38,
   "metadata": {},
   "outputs": [],
   "source": [
    "x_train = x_train.reshape((x_train.shape[0], 1, x_train.shape[1]))\n",
    "x_val = x_val.reshape((x_val.shape[0], 1, x_val.shape[1]))\n",
    "x_test = x_test.reshape((x_test.shape[0], 1, x_test.shape[1]))\n",
    "\n",
    "# y_train = to_categorical(y_train, 1)\n",
    "# y_val = to_categorical(y_val, 1)\n",
    "# y_test = to_categorical(y_test, 1)\n",
    "\n",
    "y_train = y_train.reshape((y_train.shape[0], 1))\n",
    "y_val = y_val.reshape((y_val.shape[0], 1))\n",
    "y_test = y_test.reshape((y_test.shape[0], 1))"
   ]
  },
  {
   "cell_type": "code",
   "execution_count": 39,
   "metadata": {},
   "outputs": [
    {
     "name": "stdout",
     "output_type": "stream",
     "text": [
      "(2130, 1, 180) (2130, 1)\n",
      "(251, 1, 180) (251, 1)\n",
      "(252, 1, 180) (252, 1)\n"
     ]
    }
   ],
   "source": [
    "print(x_train.shape, y_train.shape)\n",
    "print(x_val.shape, y_val.shape)\n",
    "print(x_test.shape, y_test.shape)\n"
   ]
  },
  {
   "cell_type": "code",
   "execution_count": 55,
   "metadata": {
    "scrolled": true
   },
   "outputs": [
    {
     "name": "stdout",
     "output_type": "stream",
     "text": [
      "Epoch 1/51\n",
      "34/34 [==============================] - 1s 6ms/step - loss: 0.9164 - acc: 0.5055 - val_loss: 0.7569 - val_acc: 0.5100\n",
      "Epoch 2/51\n",
      "34/34 [==============================] - 0s 2ms/step - loss: 0.7088 - acc: 0.5593 - val_loss: 0.7358 - val_acc: 0.4821\n",
      "Epoch 3/51\n",
      "34/34 [==============================] - 0s 2ms/step - loss: 0.6534 - acc: 0.6266 - val_loss: 0.7264 - val_acc: 0.5418\n",
      "Epoch 4/51\n",
      "34/34 [==============================] - 0s 2ms/step - loss: 0.6316 - acc: 0.6329 - val_loss: 0.7123 - val_acc: 0.5418\n",
      "Epoch 5/51\n",
      "34/34 [==============================] - 0s 2ms/step - loss: 0.6175 - acc: 0.6355 - val_loss: 0.7183 - val_acc: 0.5339\n",
      "Epoch 6/51\n",
      "34/34 [==============================] - 0s 2ms/step - loss: 0.5768 - acc: 0.6921 - val_loss: 0.7105 - val_acc: 0.5418\n",
      "Epoch 7/51\n",
      "34/34 [==============================] - 0s 2ms/step - loss: 0.5511 - acc: 0.7183 - val_loss: 0.6974 - val_acc: 0.5697\n",
      "Epoch 8/51\n",
      "34/34 [==============================] - 0s 2ms/step - loss: 0.5688 - acc: 0.7092 - val_loss: 0.7106 - val_acc: 0.5896\n",
      "Epoch 9/51\n",
      "34/34 [==============================] - 0s 2ms/step - loss: 0.5514 - acc: 0.7149 - val_loss: 0.7024 - val_acc: 0.5418\n",
      "Epoch 10/51\n",
      "34/34 [==============================] - 0s 2ms/step - loss: 0.5295 - acc: 0.7460 - val_loss: 0.7021 - val_acc: 0.5618\n",
      "Epoch 11/51\n",
      "34/34 [==============================] - 0s 2ms/step - loss: 0.5369 - acc: 0.7377 - val_loss: 0.7375 - val_acc: 0.5259\n",
      "Epoch 12/51\n",
      "34/34 [==============================] - 0s 2ms/step - loss: 0.5365 - acc: 0.7258 - val_loss: 0.7121 - val_acc: 0.5378\n",
      "Epoch 13/51\n",
      "34/34 [==============================] - 0s 2ms/step - loss: 0.5267 - acc: 0.7461 - val_loss: 0.7196 - val_acc: 0.5339\n",
      "Epoch 14/51\n",
      "34/34 [==============================] - 0s 2ms/step - loss: 0.5198 - acc: 0.7506 - val_loss: 0.7146 - val_acc: 0.5618\n",
      "Epoch 15/51\n",
      "34/34 [==============================] - 0s 2ms/step - loss: 0.5226 - acc: 0.7507 - val_loss: 0.7067 - val_acc: 0.5657\n",
      "Epoch 16/51\n",
      "34/34 [==============================] - 0s 2ms/step - loss: 0.5010 - acc: 0.7669 - val_loss: 0.7254 - val_acc: 0.5578\n",
      "Epoch 17/51\n",
      "34/34 [==============================] - 0s 2ms/step - loss: 0.4982 - acc: 0.7792 - val_loss: 0.7209 - val_acc: 0.5378\n",
      "Epoch 18/51\n",
      "34/34 [==============================] - 0s 2ms/step - loss: 0.4846 - acc: 0.7813 - val_loss: 0.7105 - val_acc: 0.5697\n",
      "Epoch 19/51\n",
      "34/34 [==============================] - 0s 2ms/step - loss: 0.4839 - acc: 0.7716 - val_loss: 0.7341 - val_acc: 0.5657\n",
      "Epoch 20/51\n",
      "34/34 [==============================] - 0s 2ms/step - loss: 0.4759 - acc: 0.7793 - val_loss: 0.7436 - val_acc: 0.5618\n",
      "Epoch 21/51\n",
      "34/34 [==============================] - 0s 5ms/step - loss: 0.4804 - acc: 0.7832 - val_loss: 0.7415 - val_acc: 0.5697\n",
      "Epoch 22/51\n",
      "34/34 [==============================] - 0s 2ms/step - loss: 0.4901 - acc: 0.7687 - val_loss: 0.7311 - val_acc: 0.5777\n",
      "Epoch 23/51\n",
      "34/34 [==============================] - 0s 2ms/step - loss: 0.4684 - acc: 0.7750 - val_loss: 0.7292 - val_acc: 0.5418\n",
      "Epoch 24/51\n",
      "34/34 [==============================] - 0s 2ms/step - loss: 0.4751 - acc: 0.7796 - val_loss: 0.7073 - val_acc: 0.5857\n",
      "Epoch 25/51\n",
      "34/34 [==============================] - 0s 2ms/step - loss: 0.4585 - acc: 0.7969 - val_loss: 0.7311 - val_acc: 0.5777\n",
      "Epoch 26/51\n",
      "34/34 [==============================] - 0s 2ms/step - loss: 0.4642 - acc: 0.7953 - val_loss: 0.6999 - val_acc: 0.5857\n",
      "Epoch 27/51\n",
      "34/34 [==============================] - 0s 2ms/step - loss: 0.4487 - acc: 0.7901 - val_loss: 0.7408 - val_acc: 0.5578\n",
      "Epoch 28/51\n",
      "34/34 [==============================] - 0s 2ms/step - loss: 0.4227 - acc: 0.8179 - val_loss: 0.7083 - val_acc: 0.5936\n",
      "Epoch 29/51\n",
      "34/34 [==============================] - 0s 2ms/step - loss: 0.4455 - acc: 0.8008 - val_loss: 0.7319 - val_acc: 0.5418\n",
      "Epoch 30/51\n",
      "34/34 [==============================] - 0s 2ms/step - loss: 0.4456 - acc: 0.7891 - val_loss: 0.7381 - val_acc: 0.5976\n",
      "Epoch 31/51\n",
      "34/34 [==============================] - 0s 3ms/step - loss: 0.4372 - acc: 0.8037 - val_loss: 0.7481 - val_acc: 0.5817\n",
      "Epoch 32/51\n",
      "34/34 [==============================] - 0s 3ms/step - loss: 0.4242 - acc: 0.8070 - val_loss: 0.7465 - val_acc: 0.5339\n",
      "Epoch 33/51\n",
      "34/34 [==============================] - 0s 2ms/step - loss: 0.4383 - acc: 0.7996 - val_loss: 0.7482 - val_acc: 0.5618\n",
      "Epoch 34/51\n",
      "34/34 [==============================] - 0s 2ms/step - loss: 0.4171 - acc: 0.8055 - val_loss: 0.7633 - val_acc: 0.5618\n",
      "Epoch 35/51\n",
      "34/34 [==============================] - 0s 2ms/step - loss: 0.4250 - acc: 0.8089 - val_loss: 0.7753 - val_acc: 0.5697\n",
      "Epoch 36/51\n",
      "34/34 [==============================] - 0s 2ms/step - loss: 0.4144 - acc: 0.8206 - val_loss: 0.8286 - val_acc: 0.5299\n",
      "Epoch 37/51\n",
      "34/34 [==============================] - 0s 2ms/step - loss: 0.4297 - acc: 0.7960 - val_loss: 0.7583 - val_acc: 0.5936\n",
      "Epoch 38/51\n",
      "34/34 [==============================] - 0s 3ms/step - loss: 0.4186 - acc: 0.8149 - val_loss: 0.7831 - val_acc: 0.5657\n",
      "Epoch 39/51\n",
      "34/34 [==============================] - 0s 2ms/step - loss: 0.4178 - acc: 0.8108 - val_loss: 0.7689 - val_acc: 0.5378\n",
      "Epoch 40/51\n",
      "34/34 [==============================] - 0s 4ms/step - loss: 0.4000 - acc: 0.8235 - val_loss: 0.7362 - val_acc: 0.5896\n",
      "Epoch 41/51\n",
      "34/34 [==============================] - 0s 3ms/step - loss: 0.3929 - acc: 0.8277 - val_loss: 0.7514 - val_acc: 0.5896\n",
      "Epoch 42/51\n",
      "34/34 [==============================] - 0s 3ms/step - loss: 0.4113 - acc: 0.8095 - val_loss: 0.7613 - val_acc: 0.5498\n",
      "Epoch 43/51\n",
      "34/34 [==============================] - 0s 3ms/step - loss: 0.4046 - acc: 0.8182 - val_loss: 0.7718 - val_acc: 0.5896\n",
      "Epoch 44/51\n",
      "34/34 [==============================] - 0s 3ms/step - loss: 0.4047 - acc: 0.8192 - val_loss: 0.7586 - val_acc: 0.6016\n",
      "Epoch 45/51\n",
      "34/34 [==============================] - 0s 3ms/step - loss: 0.4095 - acc: 0.8126 - val_loss: 0.7421 - val_acc: 0.5737\n",
      "Epoch 46/51\n",
      "34/34 [==============================] - 0s 2ms/step - loss: 0.3893 - acc: 0.8353 - val_loss: 0.8010 - val_acc: 0.5618\n",
      "Epoch 47/51\n",
      "34/34 [==============================] - 0s 5ms/step - loss: 0.3709 - acc: 0.8428 - val_loss: 0.7620 - val_acc: 0.5857\n",
      "Epoch 48/51\n",
      "34/34 [==============================] - 0s 2ms/step - loss: 0.3802 - acc: 0.8318 - val_loss: 0.7820 - val_acc: 0.5418\n",
      "Epoch 49/51\n",
      "34/34 [==============================] - 0s 2ms/step - loss: 0.3926 - acc: 0.8304 - val_loss: 0.7263 - val_acc: 0.5737\n",
      "Epoch 50/51\n",
      "34/34 [==============================] - 0s 2ms/step - loss: 0.3729 - acc: 0.8301 - val_loss: 0.7531 - val_acc: 0.5737\n",
      "Epoch 51/51\n",
      "34/34 [==============================] - 0s 2ms/step - loss: 0.3900 - acc: 0.8112 - val_loss: 0.7437 - val_acc: 0.6215\n"
     ]
    }
   ],
   "source": [
    "# RESULT OPT 3 LAYERS\n",
    "# tensorflow.random.set_seed(111)\n",
    "# np.random.seed(111)\n",
    "# random.seed(111)\n",
    "# # lookback = 4\n",
    "# epochs = 390\n",
    "# batch_size = 64\n",
    "# model = Sequential()\n",
    "# model.add(Dense(239, activation='sigmoid'))\n",
    "# model.add(Dropout(0.17))\n",
    "# model.add(Dense(353, activation='sigmoid'))\n",
    "# model.add(Dropout(0.95))\n",
    "# model.add(Dense(73, activation='sigmoid'))\n",
    "# model.add(Dense(1, activation='sigmoid'))\n",
    "\n",
    "# # RESULT OPT 2 LAYERS\n",
    "# tensorflow.random.set_seed(111)\n",
    "# np.random.seed(111)\n",
    "# random.seed(111)\n",
    "# # lookback = 15\n",
    "# epochs = 429\n",
    "# batch_size = 64\n",
    "# model = Sequential()\n",
    "# model.add(Dense(264, activation='sigmoid'))\n",
    "# model.add(Dropout(0.52))\n",
    "# model.add(Dense(88, activation='sigmoid'))\n",
    "# model.add(Dense(1, activation='sigmoid'))\n",
    "\n",
    "# # RESULT OPT 1 LAYER\n",
    "tensorflow.random.set_seed(111)\n",
    "np.random.seed(111)\n",
    "random.seed(111)\n",
    "# lookback = 10\n",
    "epochs = 248\n",
    "epochs = 51\n",
    "batch_size = 64\n",
    "model = Sequential()\n",
    "model.add(Dense(420, activation='tanh'))\n",
    "model.add(Dropout(0.17))\n",
    "model.add(Dense(1, activation='sigmoid'))\n",
    "\n",
    "\n",
    "model.compile(optimizer='adam', loss='binary_crossentropy', metrics=[\"acc\"])\n",
    "history = model.fit(x_train, y_train, epochs=epochs, batch_size=batch_size, verbose=1, validation_data=(x_val, y_val), shuffle=False)"
   ]
  },
  {
   "cell_type": "code",
   "execution_count": 56,
   "metadata": {},
   "outputs": [
    {
     "name": "stderr",
     "output_type": "stream",
     "text": [
      "2022-05-06 10:43:35.241140: W tensorflow/python/util/util.cc:348] Sets are not currently considered sequences, but this may change in the future, so consider avoiding using them.\n"
     ]
    },
    {
     "name": "stdout",
     "output_type": "stream",
     "text": [
      "INFO:tensorflow:Assets written to: Models/NASDAQ_NN_up-down_model/assets\n"
     ]
    }
   ],
   "source": [
    "model_file = \"Models/NASDAQ_NN_up-down_model\"\n",
    "model.save(model_file)"
   ]
  },
  {
   "cell_type": "code",
   "execution_count": 52,
   "metadata": {},
   "outputs": [
    {
     "data": {
      "application/vnd.plotly.v1+json": {
       "config": {
        "plotlyServerURL": "https://plot.ly"
       },
       "data": [
        {
         "mode": "lines",
         "name": "Train Loss",
         "type": "scatter",
         "x": [
          0,
          1,
          2,
          3,
          4,
          5,
          6,
          7
         ],
         "xaxis": "x",
         "y": [
          0.8468275666236877,
          0.7140728831291199,
          0.6521077156066895,
          0.6391701698303223,
          0.6090656518936157,
          0.5823648571968079,
          0.5604348182678223,
          0.5579249262809753
         ],
         "yaxis": "y"
        },
        {
         "mode": "lines",
         "name": "Validation Loss",
         "type": "scatter",
         "x": [
          0,
          1,
          2,
          3,
          4,
          5,
          6,
          7
         ],
         "xaxis": "x",
         "y": [
          0.7568899393081665,
          0.735826313495636,
          0.7264383435249329,
          0.7123255729675293,
          0.7182738184928894,
          0.7104507088661194,
          0.6974301934242249,
          0.7105588912963867
         ],
         "yaxis": "y"
        }
       ],
       "layout": {
        "template": {
         "data": {
          "bar": [
           {
            "error_x": {
             "color": "#2a3f5f"
            },
            "error_y": {
             "color": "#2a3f5f"
            },
            "marker": {
             "line": {
              "color": "#E5ECF6",
              "width": 0.5
             },
             "pattern": {
              "fillmode": "overlay",
              "size": 10,
              "solidity": 0.2
             }
            },
            "type": "bar"
           }
          ],
          "barpolar": [
           {
            "marker": {
             "line": {
              "color": "#E5ECF6",
              "width": 0.5
             },
             "pattern": {
              "fillmode": "overlay",
              "size": 10,
              "solidity": 0.2
             }
            },
            "type": "barpolar"
           }
          ],
          "carpet": [
           {
            "aaxis": {
             "endlinecolor": "#2a3f5f",
             "gridcolor": "white",
             "linecolor": "white",
             "minorgridcolor": "white",
             "startlinecolor": "#2a3f5f"
            },
            "baxis": {
             "endlinecolor": "#2a3f5f",
             "gridcolor": "white",
             "linecolor": "white",
             "minorgridcolor": "white",
             "startlinecolor": "#2a3f5f"
            },
            "type": "carpet"
           }
          ],
          "choropleth": [
           {
            "colorbar": {
             "outlinewidth": 0,
             "ticks": ""
            },
            "type": "choropleth"
           }
          ],
          "contour": [
           {
            "colorbar": {
             "outlinewidth": 0,
             "ticks": ""
            },
            "colorscale": [
             [
              0,
              "#0d0887"
             ],
             [
              0.1111111111111111,
              "#46039f"
             ],
             [
              0.2222222222222222,
              "#7201a8"
             ],
             [
              0.3333333333333333,
              "#9c179e"
             ],
             [
              0.4444444444444444,
              "#bd3786"
             ],
             [
              0.5555555555555556,
              "#d8576b"
             ],
             [
              0.6666666666666666,
              "#ed7953"
             ],
             [
              0.7777777777777778,
              "#fb9f3a"
             ],
             [
              0.8888888888888888,
              "#fdca26"
             ],
             [
              1,
              "#f0f921"
             ]
            ],
            "type": "contour"
           }
          ],
          "contourcarpet": [
           {
            "colorbar": {
             "outlinewidth": 0,
             "ticks": ""
            },
            "type": "contourcarpet"
           }
          ],
          "heatmap": [
           {
            "colorbar": {
             "outlinewidth": 0,
             "ticks": ""
            },
            "colorscale": [
             [
              0,
              "#0d0887"
             ],
             [
              0.1111111111111111,
              "#46039f"
             ],
             [
              0.2222222222222222,
              "#7201a8"
             ],
             [
              0.3333333333333333,
              "#9c179e"
             ],
             [
              0.4444444444444444,
              "#bd3786"
             ],
             [
              0.5555555555555556,
              "#d8576b"
             ],
             [
              0.6666666666666666,
              "#ed7953"
             ],
             [
              0.7777777777777778,
              "#fb9f3a"
             ],
             [
              0.8888888888888888,
              "#fdca26"
             ],
             [
              1,
              "#f0f921"
             ]
            ],
            "type": "heatmap"
           }
          ],
          "heatmapgl": [
           {
            "colorbar": {
             "outlinewidth": 0,
             "ticks": ""
            },
            "colorscale": [
             [
              0,
              "#0d0887"
             ],
             [
              0.1111111111111111,
              "#46039f"
             ],
             [
              0.2222222222222222,
              "#7201a8"
             ],
             [
              0.3333333333333333,
              "#9c179e"
             ],
             [
              0.4444444444444444,
              "#bd3786"
             ],
             [
              0.5555555555555556,
              "#d8576b"
             ],
             [
              0.6666666666666666,
              "#ed7953"
             ],
             [
              0.7777777777777778,
              "#fb9f3a"
             ],
             [
              0.8888888888888888,
              "#fdca26"
             ],
             [
              1,
              "#f0f921"
             ]
            ],
            "type": "heatmapgl"
           }
          ],
          "histogram": [
           {
            "marker": {
             "pattern": {
              "fillmode": "overlay",
              "size": 10,
              "solidity": 0.2
             }
            },
            "type": "histogram"
           }
          ],
          "histogram2d": [
           {
            "colorbar": {
             "outlinewidth": 0,
             "ticks": ""
            },
            "colorscale": [
             [
              0,
              "#0d0887"
             ],
             [
              0.1111111111111111,
              "#46039f"
             ],
             [
              0.2222222222222222,
              "#7201a8"
             ],
             [
              0.3333333333333333,
              "#9c179e"
             ],
             [
              0.4444444444444444,
              "#bd3786"
             ],
             [
              0.5555555555555556,
              "#d8576b"
             ],
             [
              0.6666666666666666,
              "#ed7953"
             ],
             [
              0.7777777777777778,
              "#fb9f3a"
             ],
             [
              0.8888888888888888,
              "#fdca26"
             ],
             [
              1,
              "#f0f921"
             ]
            ],
            "type": "histogram2d"
           }
          ],
          "histogram2dcontour": [
           {
            "colorbar": {
             "outlinewidth": 0,
             "ticks": ""
            },
            "colorscale": [
             [
              0,
              "#0d0887"
             ],
             [
              0.1111111111111111,
              "#46039f"
             ],
             [
              0.2222222222222222,
              "#7201a8"
             ],
             [
              0.3333333333333333,
              "#9c179e"
             ],
             [
              0.4444444444444444,
              "#bd3786"
             ],
             [
              0.5555555555555556,
              "#d8576b"
             ],
             [
              0.6666666666666666,
              "#ed7953"
             ],
             [
              0.7777777777777778,
              "#fb9f3a"
             ],
             [
              0.8888888888888888,
              "#fdca26"
             ],
             [
              1,
              "#f0f921"
             ]
            ],
            "type": "histogram2dcontour"
           }
          ],
          "mesh3d": [
           {
            "colorbar": {
             "outlinewidth": 0,
             "ticks": ""
            },
            "type": "mesh3d"
           }
          ],
          "parcoords": [
           {
            "line": {
             "colorbar": {
              "outlinewidth": 0,
              "ticks": ""
             }
            },
            "type": "parcoords"
           }
          ],
          "pie": [
           {
            "automargin": true,
            "type": "pie"
           }
          ],
          "scatter": [
           {
            "marker": {
             "colorbar": {
              "outlinewidth": 0,
              "ticks": ""
             }
            },
            "type": "scatter"
           }
          ],
          "scatter3d": [
           {
            "line": {
             "colorbar": {
              "outlinewidth": 0,
              "ticks": ""
             }
            },
            "marker": {
             "colorbar": {
              "outlinewidth": 0,
              "ticks": ""
             }
            },
            "type": "scatter3d"
           }
          ],
          "scattercarpet": [
           {
            "marker": {
             "colorbar": {
              "outlinewidth": 0,
              "ticks": ""
             }
            },
            "type": "scattercarpet"
           }
          ],
          "scattergeo": [
           {
            "marker": {
             "colorbar": {
              "outlinewidth": 0,
              "ticks": ""
             }
            },
            "type": "scattergeo"
           }
          ],
          "scattergl": [
           {
            "marker": {
             "colorbar": {
              "outlinewidth": 0,
              "ticks": ""
             }
            },
            "type": "scattergl"
           }
          ],
          "scattermapbox": [
           {
            "marker": {
             "colorbar": {
              "outlinewidth": 0,
              "ticks": ""
             }
            },
            "type": "scattermapbox"
           }
          ],
          "scatterpolar": [
           {
            "marker": {
             "colorbar": {
              "outlinewidth": 0,
              "ticks": ""
             }
            },
            "type": "scatterpolar"
           }
          ],
          "scatterpolargl": [
           {
            "marker": {
             "colorbar": {
              "outlinewidth": 0,
              "ticks": ""
             }
            },
            "type": "scatterpolargl"
           }
          ],
          "scatterternary": [
           {
            "marker": {
             "colorbar": {
              "outlinewidth": 0,
              "ticks": ""
             }
            },
            "type": "scatterternary"
           }
          ],
          "surface": [
           {
            "colorbar": {
             "outlinewidth": 0,
             "ticks": ""
            },
            "colorscale": [
             [
              0,
              "#0d0887"
             ],
             [
              0.1111111111111111,
              "#46039f"
             ],
             [
              0.2222222222222222,
              "#7201a8"
             ],
             [
              0.3333333333333333,
              "#9c179e"
             ],
             [
              0.4444444444444444,
              "#bd3786"
             ],
             [
              0.5555555555555556,
              "#d8576b"
             ],
             [
              0.6666666666666666,
              "#ed7953"
             ],
             [
              0.7777777777777778,
              "#fb9f3a"
             ],
             [
              0.8888888888888888,
              "#fdca26"
             ],
             [
              1,
              "#f0f921"
             ]
            ],
            "type": "surface"
           }
          ],
          "table": [
           {
            "cells": {
             "fill": {
              "color": "#EBF0F8"
             },
             "line": {
              "color": "white"
             }
            },
            "header": {
             "fill": {
              "color": "#C8D4E3"
             },
             "line": {
              "color": "white"
             }
            },
            "type": "table"
           }
          ]
         },
         "layout": {
          "annotationdefaults": {
           "arrowcolor": "#2a3f5f",
           "arrowhead": 0,
           "arrowwidth": 1
          },
          "autotypenumbers": "strict",
          "coloraxis": {
           "colorbar": {
            "outlinewidth": 0,
            "ticks": ""
           }
          },
          "colorscale": {
           "diverging": [
            [
             0,
             "#8e0152"
            ],
            [
             0.1,
             "#c51b7d"
            ],
            [
             0.2,
             "#de77ae"
            ],
            [
             0.3,
             "#f1b6da"
            ],
            [
             0.4,
             "#fde0ef"
            ],
            [
             0.5,
             "#f7f7f7"
            ],
            [
             0.6,
             "#e6f5d0"
            ],
            [
             0.7,
             "#b8e186"
            ],
            [
             0.8,
             "#7fbc41"
            ],
            [
             0.9,
             "#4d9221"
            ],
            [
             1,
             "#276419"
            ]
           ],
           "sequential": [
            [
             0,
             "#0d0887"
            ],
            [
             0.1111111111111111,
             "#46039f"
            ],
            [
             0.2222222222222222,
             "#7201a8"
            ],
            [
             0.3333333333333333,
             "#9c179e"
            ],
            [
             0.4444444444444444,
             "#bd3786"
            ],
            [
             0.5555555555555556,
             "#d8576b"
            ],
            [
             0.6666666666666666,
             "#ed7953"
            ],
            [
             0.7777777777777778,
             "#fb9f3a"
            ],
            [
             0.8888888888888888,
             "#fdca26"
            ],
            [
             1,
             "#f0f921"
            ]
           ],
           "sequentialminus": [
            [
             0,
             "#0d0887"
            ],
            [
             0.1111111111111111,
             "#46039f"
            ],
            [
             0.2222222222222222,
             "#7201a8"
            ],
            [
             0.3333333333333333,
             "#9c179e"
            ],
            [
             0.4444444444444444,
             "#bd3786"
            ],
            [
             0.5555555555555556,
             "#d8576b"
            ],
            [
             0.6666666666666666,
             "#ed7953"
            ],
            [
             0.7777777777777778,
             "#fb9f3a"
            ],
            [
             0.8888888888888888,
             "#fdca26"
            ],
            [
             1,
             "#f0f921"
            ]
           ]
          },
          "colorway": [
           "#636efa",
           "#EF553B",
           "#00cc96",
           "#ab63fa",
           "#FFA15A",
           "#19d3f3",
           "#FF6692",
           "#B6E880",
           "#FF97FF",
           "#FECB52"
          ],
          "font": {
           "color": "#2a3f5f"
          },
          "geo": {
           "bgcolor": "white",
           "lakecolor": "white",
           "landcolor": "#E5ECF6",
           "showlakes": true,
           "showland": true,
           "subunitcolor": "white"
          },
          "hoverlabel": {
           "align": "left"
          },
          "hovermode": "closest",
          "mapbox": {
           "style": "light"
          },
          "paper_bgcolor": "white",
          "plot_bgcolor": "#E5ECF6",
          "polar": {
           "angularaxis": {
            "gridcolor": "white",
            "linecolor": "white",
            "ticks": ""
           },
           "bgcolor": "#E5ECF6",
           "radialaxis": {
            "gridcolor": "white",
            "linecolor": "white",
            "ticks": ""
           }
          },
          "scene": {
           "xaxis": {
            "backgroundcolor": "#E5ECF6",
            "gridcolor": "white",
            "gridwidth": 2,
            "linecolor": "white",
            "showbackground": true,
            "ticks": "",
            "zerolinecolor": "white"
           },
           "yaxis": {
            "backgroundcolor": "#E5ECF6",
            "gridcolor": "white",
            "gridwidth": 2,
            "linecolor": "white",
            "showbackground": true,
            "ticks": "",
            "zerolinecolor": "white"
           },
           "zaxis": {
            "backgroundcolor": "#E5ECF6",
            "gridcolor": "white",
            "gridwidth": 2,
            "linecolor": "white",
            "showbackground": true,
            "ticks": "",
            "zerolinecolor": "white"
           }
          },
          "shapedefaults": {
           "line": {
            "color": "#2a3f5f"
           }
          },
          "ternary": {
           "aaxis": {
            "gridcolor": "white",
            "linecolor": "white",
            "ticks": ""
           },
           "baxis": {
            "gridcolor": "white",
            "linecolor": "white",
            "ticks": ""
           },
           "bgcolor": "#E5ECF6",
           "caxis": {
            "gridcolor": "white",
            "linecolor": "white",
            "ticks": ""
           }
          },
          "title": {
           "x": 0.05
          },
          "xaxis": {
           "automargin": true,
           "gridcolor": "white",
           "linecolor": "white",
           "ticks": "",
           "title": {
            "standoff": 15
           },
           "zerolinecolor": "white",
           "zerolinewidth": 2
          },
          "yaxis": {
           "automargin": true,
           "gridcolor": "white",
           "linecolor": "white",
           "ticks": "",
           "title": {
            "standoff": 15
           },
           "zerolinecolor": "white",
           "zerolinewidth": 2
          }
         }
        },
        "title": {
         "text": "Training and Validation Loss Convergence per Epoch"
        },
        "xaxis": {
         "anchor": "y",
         "domain": [
          0,
          1
         ],
         "title": {
          "text": "Epoch"
         }
        },
        "yaxis": {
         "anchor": "x",
         "domain": [
          0,
          1
         ],
         "title": {
          "text": "Loss"
         }
        }
       }
      },
      "text/html": [
       "<div>                            <div id=\"9316fc98-642b-446b-a3c9-6abe14c022f0\" class=\"plotly-graph-div\" style=\"height:525px; width:100%;\"></div>            <script type=\"text/javascript\">                require([\"plotly\"], function(Plotly) {                    window.PLOTLYENV=window.PLOTLYENV || {};                                    if (document.getElementById(\"9316fc98-642b-446b-a3c9-6abe14c022f0\")) {                    Plotly.newPlot(                        \"9316fc98-642b-446b-a3c9-6abe14c022f0\",                        [{\"mode\":\"lines\",\"name\":\"Train Loss\",\"type\":\"scatter\",\"x\":[0,1,2,3,4,5,6,7],\"xaxis\":\"x\",\"y\":[0.8468275666236877,0.7140728831291199,0.6521077156066895,0.6391701698303223,0.6090656518936157,0.5823648571968079,0.5604348182678223,0.5579249262809753],\"yaxis\":\"y\"},{\"mode\":\"lines\",\"name\":\"Validation Loss\",\"type\":\"scatter\",\"x\":[0,1,2,3,4,5,6,7],\"xaxis\":\"x\",\"y\":[0.7568899393081665,0.735826313495636,0.7264383435249329,0.7123255729675293,0.7182738184928894,0.7104507088661194,0.6974301934242249,0.7105588912963867],\"yaxis\":\"y\"}],                        {\"template\":{\"data\":{\"bar\":[{\"error_x\":{\"color\":\"#2a3f5f\"},\"error_y\":{\"color\":\"#2a3f5f\"},\"marker\":{\"line\":{\"color\":\"#E5ECF6\",\"width\":0.5},\"pattern\":{\"fillmode\":\"overlay\",\"size\":10,\"solidity\":0.2}},\"type\":\"bar\"}],\"barpolar\":[{\"marker\":{\"line\":{\"color\":\"#E5ECF6\",\"width\":0.5},\"pattern\":{\"fillmode\":\"overlay\",\"size\":10,\"solidity\":0.2}},\"type\":\"barpolar\"}],\"carpet\":[{\"aaxis\":{\"endlinecolor\":\"#2a3f5f\",\"gridcolor\":\"white\",\"linecolor\":\"white\",\"minorgridcolor\":\"white\",\"startlinecolor\":\"#2a3f5f\"},\"baxis\":{\"endlinecolor\":\"#2a3f5f\",\"gridcolor\":\"white\",\"linecolor\":\"white\",\"minorgridcolor\":\"white\",\"startlinecolor\":\"#2a3f5f\"},\"type\":\"carpet\"}],\"choropleth\":[{\"colorbar\":{\"outlinewidth\":0,\"ticks\":\"\"},\"type\":\"choropleth\"}],\"contour\":[{\"colorbar\":{\"outlinewidth\":0,\"ticks\":\"\"},\"colorscale\":[[0.0,\"#0d0887\"],[0.1111111111111111,\"#46039f\"],[0.2222222222222222,\"#7201a8\"],[0.3333333333333333,\"#9c179e\"],[0.4444444444444444,\"#bd3786\"],[0.5555555555555556,\"#d8576b\"],[0.6666666666666666,\"#ed7953\"],[0.7777777777777778,\"#fb9f3a\"],[0.8888888888888888,\"#fdca26\"],[1.0,\"#f0f921\"]],\"type\":\"contour\"}],\"contourcarpet\":[{\"colorbar\":{\"outlinewidth\":0,\"ticks\":\"\"},\"type\":\"contourcarpet\"}],\"heatmap\":[{\"colorbar\":{\"outlinewidth\":0,\"ticks\":\"\"},\"colorscale\":[[0.0,\"#0d0887\"],[0.1111111111111111,\"#46039f\"],[0.2222222222222222,\"#7201a8\"],[0.3333333333333333,\"#9c179e\"],[0.4444444444444444,\"#bd3786\"],[0.5555555555555556,\"#d8576b\"],[0.6666666666666666,\"#ed7953\"],[0.7777777777777778,\"#fb9f3a\"],[0.8888888888888888,\"#fdca26\"],[1.0,\"#f0f921\"]],\"type\":\"heatmap\"}],\"heatmapgl\":[{\"colorbar\":{\"outlinewidth\":0,\"ticks\":\"\"},\"colorscale\":[[0.0,\"#0d0887\"],[0.1111111111111111,\"#46039f\"],[0.2222222222222222,\"#7201a8\"],[0.3333333333333333,\"#9c179e\"],[0.4444444444444444,\"#bd3786\"],[0.5555555555555556,\"#d8576b\"],[0.6666666666666666,\"#ed7953\"],[0.7777777777777778,\"#fb9f3a\"],[0.8888888888888888,\"#fdca26\"],[1.0,\"#f0f921\"]],\"type\":\"heatmapgl\"}],\"histogram\":[{\"marker\":{\"pattern\":{\"fillmode\":\"overlay\",\"size\":10,\"solidity\":0.2}},\"type\":\"histogram\"}],\"histogram2d\":[{\"colorbar\":{\"outlinewidth\":0,\"ticks\":\"\"},\"colorscale\":[[0.0,\"#0d0887\"],[0.1111111111111111,\"#46039f\"],[0.2222222222222222,\"#7201a8\"],[0.3333333333333333,\"#9c179e\"],[0.4444444444444444,\"#bd3786\"],[0.5555555555555556,\"#d8576b\"],[0.6666666666666666,\"#ed7953\"],[0.7777777777777778,\"#fb9f3a\"],[0.8888888888888888,\"#fdca26\"],[1.0,\"#f0f921\"]],\"type\":\"histogram2d\"}],\"histogram2dcontour\":[{\"colorbar\":{\"outlinewidth\":0,\"ticks\":\"\"},\"colorscale\":[[0.0,\"#0d0887\"],[0.1111111111111111,\"#46039f\"],[0.2222222222222222,\"#7201a8\"],[0.3333333333333333,\"#9c179e\"],[0.4444444444444444,\"#bd3786\"],[0.5555555555555556,\"#d8576b\"],[0.6666666666666666,\"#ed7953\"],[0.7777777777777778,\"#fb9f3a\"],[0.8888888888888888,\"#fdca26\"],[1.0,\"#f0f921\"]],\"type\":\"histogram2dcontour\"}],\"mesh3d\":[{\"colorbar\":{\"outlinewidth\":0,\"ticks\":\"\"},\"type\":\"mesh3d\"}],\"parcoords\":[{\"line\":{\"colorbar\":{\"outlinewidth\":0,\"ticks\":\"\"}},\"type\":\"parcoords\"}],\"pie\":[{\"automargin\":true,\"type\":\"pie\"}],\"scatter\":[{\"marker\":{\"colorbar\":{\"outlinewidth\":0,\"ticks\":\"\"}},\"type\":\"scatter\"}],\"scatter3d\":[{\"line\":{\"colorbar\":{\"outlinewidth\":0,\"ticks\":\"\"}},\"marker\":{\"colorbar\":{\"outlinewidth\":0,\"ticks\":\"\"}},\"type\":\"scatter3d\"}],\"scattercarpet\":[{\"marker\":{\"colorbar\":{\"outlinewidth\":0,\"ticks\":\"\"}},\"type\":\"scattercarpet\"}],\"scattergeo\":[{\"marker\":{\"colorbar\":{\"outlinewidth\":0,\"ticks\":\"\"}},\"type\":\"scattergeo\"}],\"scattergl\":[{\"marker\":{\"colorbar\":{\"outlinewidth\":0,\"ticks\":\"\"}},\"type\":\"scattergl\"}],\"scattermapbox\":[{\"marker\":{\"colorbar\":{\"outlinewidth\":0,\"ticks\":\"\"}},\"type\":\"scattermapbox\"}],\"scatterpolar\":[{\"marker\":{\"colorbar\":{\"outlinewidth\":0,\"ticks\":\"\"}},\"type\":\"scatterpolar\"}],\"scatterpolargl\":[{\"marker\":{\"colorbar\":{\"outlinewidth\":0,\"ticks\":\"\"}},\"type\":\"scatterpolargl\"}],\"scatterternary\":[{\"marker\":{\"colorbar\":{\"outlinewidth\":0,\"ticks\":\"\"}},\"type\":\"scatterternary\"}],\"surface\":[{\"colorbar\":{\"outlinewidth\":0,\"ticks\":\"\"},\"colorscale\":[[0.0,\"#0d0887\"],[0.1111111111111111,\"#46039f\"],[0.2222222222222222,\"#7201a8\"],[0.3333333333333333,\"#9c179e\"],[0.4444444444444444,\"#bd3786\"],[0.5555555555555556,\"#d8576b\"],[0.6666666666666666,\"#ed7953\"],[0.7777777777777778,\"#fb9f3a\"],[0.8888888888888888,\"#fdca26\"],[1.0,\"#f0f921\"]],\"type\":\"surface\"}],\"table\":[{\"cells\":{\"fill\":{\"color\":\"#EBF0F8\"},\"line\":{\"color\":\"white\"}},\"header\":{\"fill\":{\"color\":\"#C8D4E3\"},\"line\":{\"color\":\"white\"}},\"type\":\"table\"}]},\"layout\":{\"annotationdefaults\":{\"arrowcolor\":\"#2a3f5f\",\"arrowhead\":0,\"arrowwidth\":1},\"autotypenumbers\":\"strict\",\"coloraxis\":{\"colorbar\":{\"outlinewidth\":0,\"ticks\":\"\"}},\"colorscale\":{\"diverging\":[[0,\"#8e0152\"],[0.1,\"#c51b7d\"],[0.2,\"#de77ae\"],[0.3,\"#f1b6da\"],[0.4,\"#fde0ef\"],[0.5,\"#f7f7f7\"],[0.6,\"#e6f5d0\"],[0.7,\"#b8e186\"],[0.8,\"#7fbc41\"],[0.9,\"#4d9221\"],[1,\"#276419\"]],\"sequential\":[[0.0,\"#0d0887\"],[0.1111111111111111,\"#46039f\"],[0.2222222222222222,\"#7201a8\"],[0.3333333333333333,\"#9c179e\"],[0.4444444444444444,\"#bd3786\"],[0.5555555555555556,\"#d8576b\"],[0.6666666666666666,\"#ed7953\"],[0.7777777777777778,\"#fb9f3a\"],[0.8888888888888888,\"#fdca26\"],[1.0,\"#f0f921\"]],\"sequentialminus\":[[0.0,\"#0d0887\"],[0.1111111111111111,\"#46039f\"],[0.2222222222222222,\"#7201a8\"],[0.3333333333333333,\"#9c179e\"],[0.4444444444444444,\"#bd3786\"],[0.5555555555555556,\"#d8576b\"],[0.6666666666666666,\"#ed7953\"],[0.7777777777777778,\"#fb9f3a\"],[0.8888888888888888,\"#fdca26\"],[1.0,\"#f0f921\"]]},\"colorway\":[\"#636efa\",\"#EF553B\",\"#00cc96\",\"#ab63fa\",\"#FFA15A\",\"#19d3f3\",\"#FF6692\",\"#B6E880\",\"#FF97FF\",\"#FECB52\"],\"font\":{\"color\":\"#2a3f5f\"},\"geo\":{\"bgcolor\":\"white\",\"lakecolor\":\"white\",\"landcolor\":\"#E5ECF6\",\"showlakes\":true,\"showland\":true,\"subunitcolor\":\"white\"},\"hoverlabel\":{\"align\":\"left\"},\"hovermode\":\"closest\",\"mapbox\":{\"style\":\"light\"},\"paper_bgcolor\":\"white\",\"plot_bgcolor\":\"#E5ECF6\",\"polar\":{\"angularaxis\":{\"gridcolor\":\"white\",\"linecolor\":\"white\",\"ticks\":\"\"},\"bgcolor\":\"#E5ECF6\",\"radialaxis\":{\"gridcolor\":\"white\",\"linecolor\":\"white\",\"ticks\":\"\"}},\"scene\":{\"xaxis\":{\"backgroundcolor\":\"#E5ECF6\",\"gridcolor\":\"white\",\"gridwidth\":2,\"linecolor\":\"white\",\"showbackground\":true,\"ticks\":\"\",\"zerolinecolor\":\"white\"},\"yaxis\":{\"backgroundcolor\":\"#E5ECF6\",\"gridcolor\":\"white\",\"gridwidth\":2,\"linecolor\":\"white\",\"showbackground\":true,\"ticks\":\"\",\"zerolinecolor\":\"white\"},\"zaxis\":{\"backgroundcolor\":\"#E5ECF6\",\"gridcolor\":\"white\",\"gridwidth\":2,\"linecolor\":\"white\",\"showbackground\":true,\"ticks\":\"\",\"zerolinecolor\":\"white\"}},\"shapedefaults\":{\"line\":{\"color\":\"#2a3f5f\"}},\"ternary\":{\"aaxis\":{\"gridcolor\":\"white\",\"linecolor\":\"white\",\"ticks\":\"\"},\"baxis\":{\"gridcolor\":\"white\",\"linecolor\":\"white\",\"ticks\":\"\"},\"bgcolor\":\"#E5ECF6\",\"caxis\":{\"gridcolor\":\"white\",\"linecolor\":\"white\",\"ticks\":\"\"}},\"title\":{\"x\":0.05},\"xaxis\":{\"automargin\":true,\"gridcolor\":\"white\",\"linecolor\":\"white\",\"ticks\":\"\",\"title\":{\"standoff\":15},\"zerolinecolor\":\"white\",\"zerolinewidth\":2},\"yaxis\":{\"automargin\":true,\"gridcolor\":\"white\",\"linecolor\":\"white\",\"ticks\":\"\",\"title\":{\"standoff\":15},\"zerolinecolor\":\"white\",\"zerolinewidth\":2}}},\"title\":{\"text\":\"Training and Validation Loss Convergence per Epoch\"},\"xaxis\":{\"anchor\":\"y\",\"domain\":[0.0,1.0],\"title\":{\"text\":\"Epoch\"}},\"yaxis\":{\"anchor\":\"x\",\"domain\":[0.0,1.0],\"title\":{\"text\":\"Loss\"}}},                        {\"responsive\": true}                    ).then(function(){\n",
       "                            \n",
       "var gd = document.getElementById('9316fc98-642b-446b-a3c9-6abe14c022f0');\n",
       "var x = new MutationObserver(function (mutations, observer) {{\n",
       "        var display = window.getComputedStyle(gd).display;\n",
       "        if (!display || display === 'none') {{\n",
       "            console.log([gd, 'removed!']);\n",
       "            Plotly.purge(gd);\n",
       "            observer.disconnect();\n",
       "        }}\n",
       "}});\n",
       "\n",
       "// Listen for the removal of the full notebook cells\n",
       "var notebookContainer = gd.closest('#notebook-container');\n",
       "if (notebookContainer) {{\n",
       "    x.observe(notebookContainer, {childList: true});\n",
       "}}\n",
       "\n",
       "// Listen for the clearing of the current output cell\n",
       "var outputEl = gd.closest('.output');\n",
       "if (outputEl) {{\n",
       "    x.observe(outputEl, {childList: true});\n",
       "}}\n",
       "\n",
       "                        })                };                });            </script>        </div>"
      ]
     },
     "metadata": {},
     "output_type": "display_data"
    },
    {
     "data": {
      "application/vnd.plotly.v1+json": {
       "config": {
        "plotlyServerURL": "https://plot.ly"
       },
       "data": [
        {
         "mode": "lines",
         "name": "Training Accuracy",
         "type": "scatter",
         "x": [
          0,
          1,
          2,
          3,
          4,
          5,
          6,
          7
         ],
         "xaxis": "x",
         "y": [
          0.5051643252372742,
          0.5558685660362244,
          0.6192488074302673,
          0.6300469636917114,
          0.6511737108230591,
          0.6835680603981018,
          0.7065727710723877,
          0.7126760482788086
         ],
         "yaxis": "y"
        },
        {
         "mode": "lines",
         "name": "Validation Accuracy",
         "type": "scatter",
         "x": [
          0,
          1,
          2,
          3,
          4,
          5,
          6,
          7
         ],
         "xaxis": "x",
         "y": [
          0.5099601745605469,
          0.48207172751426697,
          0.541832685470581,
          0.541832685470581,
          0.5338645577430725,
          0.541832685470581,
          0.5697211027145386,
          0.5896414518356323
         ],
         "yaxis": "y"
        }
       ],
       "layout": {
        "template": {
         "data": {
          "bar": [
           {
            "error_x": {
             "color": "#2a3f5f"
            },
            "error_y": {
             "color": "#2a3f5f"
            },
            "marker": {
             "line": {
              "color": "#E5ECF6",
              "width": 0.5
             },
             "pattern": {
              "fillmode": "overlay",
              "size": 10,
              "solidity": 0.2
             }
            },
            "type": "bar"
           }
          ],
          "barpolar": [
           {
            "marker": {
             "line": {
              "color": "#E5ECF6",
              "width": 0.5
             },
             "pattern": {
              "fillmode": "overlay",
              "size": 10,
              "solidity": 0.2
             }
            },
            "type": "barpolar"
           }
          ],
          "carpet": [
           {
            "aaxis": {
             "endlinecolor": "#2a3f5f",
             "gridcolor": "white",
             "linecolor": "white",
             "minorgridcolor": "white",
             "startlinecolor": "#2a3f5f"
            },
            "baxis": {
             "endlinecolor": "#2a3f5f",
             "gridcolor": "white",
             "linecolor": "white",
             "minorgridcolor": "white",
             "startlinecolor": "#2a3f5f"
            },
            "type": "carpet"
           }
          ],
          "choropleth": [
           {
            "colorbar": {
             "outlinewidth": 0,
             "ticks": ""
            },
            "type": "choropleth"
           }
          ],
          "contour": [
           {
            "colorbar": {
             "outlinewidth": 0,
             "ticks": ""
            },
            "colorscale": [
             [
              0,
              "#0d0887"
             ],
             [
              0.1111111111111111,
              "#46039f"
             ],
             [
              0.2222222222222222,
              "#7201a8"
             ],
             [
              0.3333333333333333,
              "#9c179e"
             ],
             [
              0.4444444444444444,
              "#bd3786"
             ],
             [
              0.5555555555555556,
              "#d8576b"
             ],
             [
              0.6666666666666666,
              "#ed7953"
             ],
             [
              0.7777777777777778,
              "#fb9f3a"
             ],
             [
              0.8888888888888888,
              "#fdca26"
             ],
             [
              1,
              "#f0f921"
             ]
            ],
            "type": "contour"
           }
          ],
          "contourcarpet": [
           {
            "colorbar": {
             "outlinewidth": 0,
             "ticks": ""
            },
            "type": "contourcarpet"
           }
          ],
          "heatmap": [
           {
            "colorbar": {
             "outlinewidth": 0,
             "ticks": ""
            },
            "colorscale": [
             [
              0,
              "#0d0887"
             ],
             [
              0.1111111111111111,
              "#46039f"
             ],
             [
              0.2222222222222222,
              "#7201a8"
             ],
             [
              0.3333333333333333,
              "#9c179e"
             ],
             [
              0.4444444444444444,
              "#bd3786"
             ],
             [
              0.5555555555555556,
              "#d8576b"
             ],
             [
              0.6666666666666666,
              "#ed7953"
             ],
             [
              0.7777777777777778,
              "#fb9f3a"
             ],
             [
              0.8888888888888888,
              "#fdca26"
             ],
             [
              1,
              "#f0f921"
             ]
            ],
            "type": "heatmap"
           }
          ],
          "heatmapgl": [
           {
            "colorbar": {
             "outlinewidth": 0,
             "ticks": ""
            },
            "colorscale": [
             [
              0,
              "#0d0887"
             ],
             [
              0.1111111111111111,
              "#46039f"
             ],
             [
              0.2222222222222222,
              "#7201a8"
             ],
             [
              0.3333333333333333,
              "#9c179e"
             ],
             [
              0.4444444444444444,
              "#bd3786"
             ],
             [
              0.5555555555555556,
              "#d8576b"
             ],
             [
              0.6666666666666666,
              "#ed7953"
             ],
             [
              0.7777777777777778,
              "#fb9f3a"
             ],
             [
              0.8888888888888888,
              "#fdca26"
             ],
             [
              1,
              "#f0f921"
             ]
            ],
            "type": "heatmapgl"
           }
          ],
          "histogram": [
           {
            "marker": {
             "pattern": {
              "fillmode": "overlay",
              "size": 10,
              "solidity": 0.2
             }
            },
            "type": "histogram"
           }
          ],
          "histogram2d": [
           {
            "colorbar": {
             "outlinewidth": 0,
             "ticks": ""
            },
            "colorscale": [
             [
              0,
              "#0d0887"
             ],
             [
              0.1111111111111111,
              "#46039f"
             ],
             [
              0.2222222222222222,
              "#7201a8"
             ],
             [
              0.3333333333333333,
              "#9c179e"
             ],
             [
              0.4444444444444444,
              "#bd3786"
             ],
             [
              0.5555555555555556,
              "#d8576b"
             ],
             [
              0.6666666666666666,
              "#ed7953"
             ],
             [
              0.7777777777777778,
              "#fb9f3a"
             ],
             [
              0.8888888888888888,
              "#fdca26"
             ],
             [
              1,
              "#f0f921"
             ]
            ],
            "type": "histogram2d"
           }
          ],
          "histogram2dcontour": [
           {
            "colorbar": {
             "outlinewidth": 0,
             "ticks": ""
            },
            "colorscale": [
             [
              0,
              "#0d0887"
             ],
             [
              0.1111111111111111,
              "#46039f"
             ],
             [
              0.2222222222222222,
              "#7201a8"
             ],
             [
              0.3333333333333333,
              "#9c179e"
             ],
             [
              0.4444444444444444,
              "#bd3786"
             ],
             [
              0.5555555555555556,
              "#d8576b"
             ],
             [
              0.6666666666666666,
              "#ed7953"
             ],
             [
              0.7777777777777778,
              "#fb9f3a"
             ],
             [
              0.8888888888888888,
              "#fdca26"
             ],
             [
              1,
              "#f0f921"
             ]
            ],
            "type": "histogram2dcontour"
           }
          ],
          "mesh3d": [
           {
            "colorbar": {
             "outlinewidth": 0,
             "ticks": ""
            },
            "type": "mesh3d"
           }
          ],
          "parcoords": [
           {
            "line": {
             "colorbar": {
              "outlinewidth": 0,
              "ticks": ""
             }
            },
            "type": "parcoords"
           }
          ],
          "pie": [
           {
            "automargin": true,
            "type": "pie"
           }
          ],
          "scatter": [
           {
            "marker": {
             "colorbar": {
              "outlinewidth": 0,
              "ticks": ""
             }
            },
            "type": "scatter"
           }
          ],
          "scatter3d": [
           {
            "line": {
             "colorbar": {
              "outlinewidth": 0,
              "ticks": ""
             }
            },
            "marker": {
             "colorbar": {
              "outlinewidth": 0,
              "ticks": ""
             }
            },
            "type": "scatter3d"
           }
          ],
          "scattercarpet": [
           {
            "marker": {
             "colorbar": {
              "outlinewidth": 0,
              "ticks": ""
             }
            },
            "type": "scattercarpet"
           }
          ],
          "scattergeo": [
           {
            "marker": {
             "colorbar": {
              "outlinewidth": 0,
              "ticks": ""
             }
            },
            "type": "scattergeo"
           }
          ],
          "scattergl": [
           {
            "marker": {
             "colorbar": {
              "outlinewidth": 0,
              "ticks": ""
             }
            },
            "type": "scattergl"
           }
          ],
          "scattermapbox": [
           {
            "marker": {
             "colorbar": {
              "outlinewidth": 0,
              "ticks": ""
             }
            },
            "type": "scattermapbox"
           }
          ],
          "scatterpolar": [
           {
            "marker": {
             "colorbar": {
              "outlinewidth": 0,
              "ticks": ""
             }
            },
            "type": "scatterpolar"
           }
          ],
          "scatterpolargl": [
           {
            "marker": {
             "colorbar": {
              "outlinewidth": 0,
              "ticks": ""
             }
            },
            "type": "scatterpolargl"
           }
          ],
          "scatterternary": [
           {
            "marker": {
             "colorbar": {
              "outlinewidth": 0,
              "ticks": ""
             }
            },
            "type": "scatterternary"
           }
          ],
          "surface": [
           {
            "colorbar": {
             "outlinewidth": 0,
             "ticks": ""
            },
            "colorscale": [
             [
              0,
              "#0d0887"
             ],
             [
              0.1111111111111111,
              "#46039f"
             ],
             [
              0.2222222222222222,
              "#7201a8"
             ],
             [
              0.3333333333333333,
              "#9c179e"
             ],
             [
              0.4444444444444444,
              "#bd3786"
             ],
             [
              0.5555555555555556,
              "#d8576b"
             ],
             [
              0.6666666666666666,
              "#ed7953"
             ],
             [
              0.7777777777777778,
              "#fb9f3a"
             ],
             [
              0.8888888888888888,
              "#fdca26"
             ],
             [
              1,
              "#f0f921"
             ]
            ],
            "type": "surface"
           }
          ],
          "table": [
           {
            "cells": {
             "fill": {
              "color": "#EBF0F8"
             },
             "line": {
              "color": "white"
             }
            },
            "header": {
             "fill": {
              "color": "#C8D4E3"
             },
             "line": {
              "color": "white"
             }
            },
            "type": "table"
           }
          ]
         },
         "layout": {
          "annotationdefaults": {
           "arrowcolor": "#2a3f5f",
           "arrowhead": 0,
           "arrowwidth": 1
          },
          "autotypenumbers": "strict",
          "coloraxis": {
           "colorbar": {
            "outlinewidth": 0,
            "ticks": ""
           }
          },
          "colorscale": {
           "diverging": [
            [
             0,
             "#8e0152"
            ],
            [
             0.1,
             "#c51b7d"
            ],
            [
             0.2,
             "#de77ae"
            ],
            [
             0.3,
             "#f1b6da"
            ],
            [
             0.4,
             "#fde0ef"
            ],
            [
             0.5,
             "#f7f7f7"
            ],
            [
             0.6,
             "#e6f5d0"
            ],
            [
             0.7,
             "#b8e186"
            ],
            [
             0.8,
             "#7fbc41"
            ],
            [
             0.9,
             "#4d9221"
            ],
            [
             1,
             "#276419"
            ]
           ],
           "sequential": [
            [
             0,
             "#0d0887"
            ],
            [
             0.1111111111111111,
             "#46039f"
            ],
            [
             0.2222222222222222,
             "#7201a8"
            ],
            [
             0.3333333333333333,
             "#9c179e"
            ],
            [
             0.4444444444444444,
             "#bd3786"
            ],
            [
             0.5555555555555556,
             "#d8576b"
            ],
            [
             0.6666666666666666,
             "#ed7953"
            ],
            [
             0.7777777777777778,
             "#fb9f3a"
            ],
            [
             0.8888888888888888,
             "#fdca26"
            ],
            [
             1,
             "#f0f921"
            ]
           ],
           "sequentialminus": [
            [
             0,
             "#0d0887"
            ],
            [
             0.1111111111111111,
             "#46039f"
            ],
            [
             0.2222222222222222,
             "#7201a8"
            ],
            [
             0.3333333333333333,
             "#9c179e"
            ],
            [
             0.4444444444444444,
             "#bd3786"
            ],
            [
             0.5555555555555556,
             "#d8576b"
            ],
            [
             0.6666666666666666,
             "#ed7953"
            ],
            [
             0.7777777777777778,
             "#fb9f3a"
            ],
            [
             0.8888888888888888,
             "#fdca26"
            ],
            [
             1,
             "#f0f921"
            ]
           ]
          },
          "colorway": [
           "#636efa",
           "#EF553B",
           "#00cc96",
           "#ab63fa",
           "#FFA15A",
           "#19d3f3",
           "#FF6692",
           "#B6E880",
           "#FF97FF",
           "#FECB52"
          ],
          "font": {
           "color": "#2a3f5f"
          },
          "geo": {
           "bgcolor": "white",
           "lakecolor": "white",
           "landcolor": "#E5ECF6",
           "showlakes": true,
           "showland": true,
           "subunitcolor": "white"
          },
          "hoverlabel": {
           "align": "left"
          },
          "hovermode": "closest",
          "mapbox": {
           "style": "light"
          },
          "paper_bgcolor": "white",
          "plot_bgcolor": "#E5ECF6",
          "polar": {
           "angularaxis": {
            "gridcolor": "white",
            "linecolor": "white",
            "ticks": ""
           },
           "bgcolor": "#E5ECF6",
           "radialaxis": {
            "gridcolor": "white",
            "linecolor": "white",
            "ticks": ""
           }
          },
          "scene": {
           "xaxis": {
            "backgroundcolor": "#E5ECF6",
            "gridcolor": "white",
            "gridwidth": 2,
            "linecolor": "white",
            "showbackground": true,
            "ticks": "",
            "zerolinecolor": "white"
           },
           "yaxis": {
            "backgroundcolor": "#E5ECF6",
            "gridcolor": "white",
            "gridwidth": 2,
            "linecolor": "white",
            "showbackground": true,
            "ticks": "",
            "zerolinecolor": "white"
           },
           "zaxis": {
            "backgroundcolor": "#E5ECF6",
            "gridcolor": "white",
            "gridwidth": 2,
            "linecolor": "white",
            "showbackground": true,
            "ticks": "",
            "zerolinecolor": "white"
           }
          },
          "shapedefaults": {
           "line": {
            "color": "#2a3f5f"
           }
          },
          "ternary": {
           "aaxis": {
            "gridcolor": "white",
            "linecolor": "white",
            "ticks": ""
           },
           "baxis": {
            "gridcolor": "white",
            "linecolor": "white",
            "ticks": ""
           },
           "bgcolor": "#E5ECF6",
           "caxis": {
            "gridcolor": "white",
            "linecolor": "white",
            "ticks": ""
           }
          },
          "title": {
           "x": 0.05
          },
          "xaxis": {
           "automargin": true,
           "gridcolor": "white",
           "linecolor": "white",
           "ticks": "",
           "title": {
            "standoff": 15
           },
           "zerolinecolor": "white",
           "zerolinewidth": 2
          },
          "yaxis": {
           "automargin": true,
           "gridcolor": "white",
           "linecolor": "white",
           "ticks": "",
           "title": {
            "standoff": 15
           },
           "zerolinecolor": "white",
           "zerolinewidth": 2
          }
         }
        },
        "title": {
         "text": "Training and Validation Accuracy Convergence per Epoch"
        },
        "xaxis": {
         "anchor": "y",
         "domain": [
          0,
          1
         ],
         "title": {
          "text": "Epoch"
         }
        },
        "yaxis": {
         "anchor": "x",
         "domain": [
          0,
          1
         ],
         "title": {
          "text": "Accuracy"
         }
        }
       }
      },
      "text/html": [
       "<div>                            <div id=\"8d8028ca-d687-4990-b670-c7c300c73f3f\" class=\"plotly-graph-div\" style=\"height:525px; width:100%;\"></div>            <script type=\"text/javascript\">                require([\"plotly\"], function(Plotly) {                    window.PLOTLYENV=window.PLOTLYENV || {};                                    if (document.getElementById(\"8d8028ca-d687-4990-b670-c7c300c73f3f\")) {                    Plotly.newPlot(                        \"8d8028ca-d687-4990-b670-c7c300c73f3f\",                        [{\"mode\":\"lines\",\"name\":\"Training Accuracy\",\"type\":\"scatter\",\"x\":[0,1,2,3,4,5,6,7],\"xaxis\":\"x\",\"y\":[0.5051643252372742,0.5558685660362244,0.6192488074302673,0.6300469636917114,0.6511737108230591,0.6835680603981018,0.7065727710723877,0.7126760482788086],\"yaxis\":\"y\"},{\"mode\":\"lines\",\"name\":\"Validation Accuracy\",\"type\":\"scatter\",\"x\":[0,1,2,3,4,5,6,7],\"xaxis\":\"x\",\"y\":[0.5099601745605469,0.48207172751426697,0.541832685470581,0.541832685470581,0.5338645577430725,0.541832685470581,0.5697211027145386,0.5896414518356323],\"yaxis\":\"y\"}],                        {\"template\":{\"data\":{\"bar\":[{\"error_x\":{\"color\":\"#2a3f5f\"},\"error_y\":{\"color\":\"#2a3f5f\"},\"marker\":{\"line\":{\"color\":\"#E5ECF6\",\"width\":0.5},\"pattern\":{\"fillmode\":\"overlay\",\"size\":10,\"solidity\":0.2}},\"type\":\"bar\"}],\"barpolar\":[{\"marker\":{\"line\":{\"color\":\"#E5ECF6\",\"width\":0.5},\"pattern\":{\"fillmode\":\"overlay\",\"size\":10,\"solidity\":0.2}},\"type\":\"barpolar\"}],\"carpet\":[{\"aaxis\":{\"endlinecolor\":\"#2a3f5f\",\"gridcolor\":\"white\",\"linecolor\":\"white\",\"minorgridcolor\":\"white\",\"startlinecolor\":\"#2a3f5f\"},\"baxis\":{\"endlinecolor\":\"#2a3f5f\",\"gridcolor\":\"white\",\"linecolor\":\"white\",\"minorgridcolor\":\"white\",\"startlinecolor\":\"#2a3f5f\"},\"type\":\"carpet\"}],\"choropleth\":[{\"colorbar\":{\"outlinewidth\":0,\"ticks\":\"\"},\"type\":\"choropleth\"}],\"contour\":[{\"colorbar\":{\"outlinewidth\":0,\"ticks\":\"\"},\"colorscale\":[[0.0,\"#0d0887\"],[0.1111111111111111,\"#46039f\"],[0.2222222222222222,\"#7201a8\"],[0.3333333333333333,\"#9c179e\"],[0.4444444444444444,\"#bd3786\"],[0.5555555555555556,\"#d8576b\"],[0.6666666666666666,\"#ed7953\"],[0.7777777777777778,\"#fb9f3a\"],[0.8888888888888888,\"#fdca26\"],[1.0,\"#f0f921\"]],\"type\":\"contour\"}],\"contourcarpet\":[{\"colorbar\":{\"outlinewidth\":0,\"ticks\":\"\"},\"type\":\"contourcarpet\"}],\"heatmap\":[{\"colorbar\":{\"outlinewidth\":0,\"ticks\":\"\"},\"colorscale\":[[0.0,\"#0d0887\"],[0.1111111111111111,\"#46039f\"],[0.2222222222222222,\"#7201a8\"],[0.3333333333333333,\"#9c179e\"],[0.4444444444444444,\"#bd3786\"],[0.5555555555555556,\"#d8576b\"],[0.6666666666666666,\"#ed7953\"],[0.7777777777777778,\"#fb9f3a\"],[0.8888888888888888,\"#fdca26\"],[1.0,\"#f0f921\"]],\"type\":\"heatmap\"}],\"heatmapgl\":[{\"colorbar\":{\"outlinewidth\":0,\"ticks\":\"\"},\"colorscale\":[[0.0,\"#0d0887\"],[0.1111111111111111,\"#46039f\"],[0.2222222222222222,\"#7201a8\"],[0.3333333333333333,\"#9c179e\"],[0.4444444444444444,\"#bd3786\"],[0.5555555555555556,\"#d8576b\"],[0.6666666666666666,\"#ed7953\"],[0.7777777777777778,\"#fb9f3a\"],[0.8888888888888888,\"#fdca26\"],[1.0,\"#f0f921\"]],\"type\":\"heatmapgl\"}],\"histogram\":[{\"marker\":{\"pattern\":{\"fillmode\":\"overlay\",\"size\":10,\"solidity\":0.2}},\"type\":\"histogram\"}],\"histogram2d\":[{\"colorbar\":{\"outlinewidth\":0,\"ticks\":\"\"},\"colorscale\":[[0.0,\"#0d0887\"],[0.1111111111111111,\"#46039f\"],[0.2222222222222222,\"#7201a8\"],[0.3333333333333333,\"#9c179e\"],[0.4444444444444444,\"#bd3786\"],[0.5555555555555556,\"#d8576b\"],[0.6666666666666666,\"#ed7953\"],[0.7777777777777778,\"#fb9f3a\"],[0.8888888888888888,\"#fdca26\"],[1.0,\"#f0f921\"]],\"type\":\"histogram2d\"}],\"histogram2dcontour\":[{\"colorbar\":{\"outlinewidth\":0,\"ticks\":\"\"},\"colorscale\":[[0.0,\"#0d0887\"],[0.1111111111111111,\"#46039f\"],[0.2222222222222222,\"#7201a8\"],[0.3333333333333333,\"#9c179e\"],[0.4444444444444444,\"#bd3786\"],[0.5555555555555556,\"#d8576b\"],[0.6666666666666666,\"#ed7953\"],[0.7777777777777778,\"#fb9f3a\"],[0.8888888888888888,\"#fdca26\"],[1.0,\"#f0f921\"]],\"type\":\"histogram2dcontour\"}],\"mesh3d\":[{\"colorbar\":{\"outlinewidth\":0,\"ticks\":\"\"},\"type\":\"mesh3d\"}],\"parcoords\":[{\"line\":{\"colorbar\":{\"outlinewidth\":0,\"ticks\":\"\"}},\"type\":\"parcoords\"}],\"pie\":[{\"automargin\":true,\"type\":\"pie\"}],\"scatter\":[{\"marker\":{\"colorbar\":{\"outlinewidth\":0,\"ticks\":\"\"}},\"type\":\"scatter\"}],\"scatter3d\":[{\"line\":{\"colorbar\":{\"outlinewidth\":0,\"ticks\":\"\"}},\"marker\":{\"colorbar\":{\"outlinewidth\":0,\"ticks\":\"\"}},\"type\":\"scatter3d\"}],\"scattercarpet\":[{\"marker\":{\"colorbar\":{\"outlinewidth\":0,\"ticks\":\"\"}},\"type\":\"scattercarpet\"}],\"scattergeo\":[{\"marker\":{\"colorbar\":{\"outlinewidth\":0,\"ticks\":\"\"}},\"type\":\"scattergeo\"}],\"scattergl\":[{\"marker\":{\"colorbar\":{\"outlinewidth\":0,\"ticks\":\"\"}},\"type\":\"scattergl\"}],\"scattermapbox\":[{\"marker\":{\"colorbar\":{\"outlinewidth\":0,\"ticks\":\"\"}},\"type\":\"scattermapbox\"}],\"scatterpolar\":[{\"marker\":{\"colorbar\":{\"outlinewidth\":0,\"ticks\":\"\"}},\"type\":\"scatterpolar\"}],\"scatterpolargl\":[{\"marker\":{\"colorbar\":{\"outlinewidth\":0,\"ticks\":\"\"}},\"type\":\"scatterpolargl\"}],\"scatterternary\":[{\"marker\":{\"colorbar\":{\"outlinewidth\":0,\"ticks\":\"\"}},\"type\":\"scatterternary\"}],\"surface\":[{\"colorbar\":{\"outlinewidth\":0,\"ticks\":\"\"},\"colorscale\":[[0.0,\"#0d0887\"],[0.1111111111111111,\"#46039f\"],[0.2222222222222222,\"#7201a8\"],[0.3333333333333333,\"#9c179e\"],[0.4444444444444444,\"#bd3786\"],[0.5555555555555556,\"#d8576b\"],[0.6666666666666666,\"#ed7953\"],[0.7777777777777778,\"#fb9f3a\"],[0.8888888888888888,\"#fdca26\"],[1.0,\"#f0f921\"]],\"type\":\"surface\"}],\"table\":[{\"cells\":{\"fill\":{\"color\":\"#EBF0F8\"},\"line\":{\"color\":\"white\"}},\"header\":{\"fill\":{\"color\":\"#C8D4E3\"},\"line\":{\"color\":\"white\"}},\"type\":\"table\"}]},\"layout\":{\"annotationdefaults\":{\"arrowcolor\":\"#2a3f5f\",\"arrowhead\":0,\"arrowwidth\":1},\"autotypenumbers\":\"strict\",\"coloraxis\":{\"colorbar\":{\"outlinewidth\":0,\"ticks\":\"\"}},\"colorscale\":{\"diverging\":[[0,\"#8e0152\"],[0.1,\"#c51b7d\"],[0.2,\"#de77ae\"],[0.3,\"#f1b6da\"],[0.4,\"#fde0ef\"],[0.5,\"#f7f7f7\"],[0.6,\"#e6f5d0\"],[0.7,\"#b8e186\"],[0.8,\"#7fbc41\"],[0.9,\"#4d9221\"],[1,\"#276419\"]],\"sequential\":[[0.0,\"#0d0887\"],[0.1111111111111111,\"#46039f\"],[0.2222222222222222,\"#7201a8\"],[0.3333333333333333,\"#9c179e\"],[0.4444444444444444,\"#bd3786\"],[0.5555555555555556,\"#d8576b\"],[0.6666666666666666,\"#ed7953\"],[0.7777777777777778,\"#fb9f3a\"],[0.8888888888888888,\"#fdca26\"],[1.0,\"#f0f921\"]],\"sequentialminus\":[[0.0,\"#0d0887\"],[0.1111111111111111,\"#46039f\"],[0.2222222222222222,\"#7201a8\"],[0.3333333333333333,\"#9c179e\"],[0.4444444444444444,\"#bd3786\"],[0.5555555555555556,\"#d8576b\"],[0.6666666666666666,\"#ed7953\"],[0.7777777777777778,\"#fb9f3a\"],[0.8888888888888888,\"#fdca26\"],[1.0,\"#f0f921\"]]},\"colorway\":[\"#636efa\",\"#EF553B\",\"#00cc96\",\"#ab63fa\",\"#FFA15A\",\"#19d3f3\",\"#FF6692\",\"#B6E880\",\"#FF97FF\",\"#FECB52\"],\"font\":{\"color\":\"#2a3f5f\"},\"geo\":{\"bgcolor\":\"white\",\"lakecolor\":\"white\",\"landcolor\":\"#E5ECF6\",\"showlakes\":true,\"showland\":true,\"subunitcolor\":\"white\"},\"hoverlabel\":{\"align\":\"left\"},\"hovermode\":\"closest\",\"mapbox\":{\"style\":\"light\"},\"paper_bgcolor\":\"white\",\"plot_bgcolor\":\"#E5ECF6\",\"polar\":{\"angularaxis\":{\"gridcolor\":\"white\",\"linecolor\":\"white\",\"ticks\":\"\"},\"bgcolor\":\"#E5ECF6\",\"radialaxis\":{\"gridcolor\":\"white\",\"linecolor\":\"white\",\"ticks\":\"\"}},\"scene\":{\"xaxis\":{\"backgroundcolor\":\"#E5ECF6\",\"gridcolor\":\"white\",\"gridwidth\":2,\"linecolor\":\"white\",\"showbackground\":true,\"ticks\":\"\",\"zerolinecolor\":\"white\"},\"yaxis\":{\"backgroundcolor\":\"#E5ECF6\",\"gridcolor\":\"white\",\"gridwidth\":2,\"linecolor\":\"white\",\"showbackground\":true,\"ticks\":\"\",\"zerolinecolor\":\"white\"},\"zaxis\":{\"backgroundcolor\":\"#E5ECF6\",\"gridcolor\":\"white\",\"gridwidth\":2,\"linecolor\":\"white\",\"showbackground\":true,\"ticks\":\"\",\"zerolinecolor\":\"white\"}},\"shapedefaults\":{\"line\":{\"color\":\"#2a3f5f\"}},\"ternary\":{\"aaxis\":{\"gridcolor\":\"white\",\"linecolor\":\"white\",\"ticks\":\"\"},\"baxis\":{\"gridcolor\":\"white\",\"linecolor\":\"white\",\"ticks\":\"\"},\"bgcolor\":\"#E5ECF6\",\"caxis\":{\"gridcolor\":\"white\",\"linecolor\":\"white\",\"ticks\":\"\"}},\"title\":{\"x\":0.05},\"xaxis\":{\"automargin\":true,\"gridcolor\":\"white\",\"linecolor\":\"white\",\"ticks\":\"\",\"title\":{\"standoff\":15},\"zerolinecolor\":\"white\",\"zerolinewidth\":2},\"yaxis\":{\"automargin\":true,\"gridcolor\":\"white\",\"linecolor\":\"white\",\"ticks\":\"\",\"title\":{\"standoff\":15},\"zerolinecolor\":\"white\",\"zerolinewidth\":2}}},\"title\":{\"text\":\"Training and Validation Accuracy Convergence per Epoch\"},\"xaxis\":{\"anchor\":\"y\",\"domain\":[0.0,1.0],\"title\":{\"text\":\"Epoch\"}},\"yaxis\":{\"anchor\":\"x\",\"domain\":[0.0,1.0],\"title\":{\"text\":\"Accuracy\"}}},                        {\"responsive\": true}                    ).then(function(){\n",
       "                            \n",
       "var gd = document.getElementById('8d8028ca-d687-4990-b670-c7c300c73f3f');\n",
       "var x = new MutationObserver(function (mutations, observer) {{\n",
       "        var display = window.getComputedStyle(gd).display;\n",
       "        if (!display || display === 'none') {{\n",
       "            console.log([gd, 'removed!']);\n",
       "            Plotly.purge(gd);\n",
       "            observer.disconnect();\n",
       "        }}\n",
       "}});\n",
       "\n",
       "// Listen for the removal of the full notebook cells\n",
       "var notebookContainer = gd.closest('#notebook-container');\n",
       "if (notebookContainer) {{\n",
       "    x.observe(notebookContainer, {childList: true});\n",
       "}}\n",
       "\n",
       "// Listen for the clearing of the current output cell\n",
       "var outputEl = gd.closest('.output');\n",
       "if (outputEl) {{\n",
       "    x.observe(outputEl, {childList: true});\n",
       "}}\n",
       "\n",
       "                        })                };                });            </script>        </div>"
      ]
     },
     "metadata": {},
     "output_type": "display_data"
    }
   ],
   "source": [
    "def evaluate_convergence(history):\n",
    "    epochs = []\n",
    "    for i in range(len(history.history['loss'])):\n",
    "        epochs.append(i)\n",
    "    \n",
    "    train_loss = history.history['loss']\n",
    "    val_loss = history.history['val_loss']\n",
    "    fig1 = make_subplots(rows=1, cols=1, specs=[[{'type':'xy'}]])\n",
    "    fig1.add_trace(go.Scatter(x=epochs, y=train_loss, mode=\"lines\", name=\"Train Loss\"), row=1, col=1)\n",
    "    fig1.add_trace(go.Scatter(x=epochs, y=val_loss, mode=\"lines\", name=\"Validation Loss\"), row=1, col=1)\n",
    "    fig1.update_layout(\n",
    "        title = \"Training and Validation Loss Convergence per Epoch\", \n",
    "        xaxis1 = dict(title_text = \"Epoch\"),\n",
    "        yaxis1 = dict(title_text = \"Loss\"),\n",
    "    )\n",
    "#     fig1.write_image()\n",
    "    fig1.show()\n",
    "    \n",
    "    train_acc = history.history['acc']\n",
    "    val_acc = history.history['val_acc']\n",
    "    fig2 = make_subplots(rows=1, cols=1, specs=[[{'type':'xy'}]])\n",
    "    fig2.add_trace(go.Scatter(x=epochs, y=train_acc, mode=\"lines\", name=\"Training Accuracy\"), row=1, col=1)\n",
    "    fig2.add_trace(go.Scatter(x=epochs, y=val_acc, mode=\"lines\", name=\"Validation Accuracy\"), row=1, col=1)\n",
    "    fig2.update_layout(\n",
    "        title = \"Training and Validation Accuracy Convergence per Epoch\", \n",
    "        xaxis1 = dict(title_text = \"Epoch\"),\n",
    "        yaxis1 = dict(title_text = \"Accuracy\"),\n",
    "    )\n",
    "#     fig2.write_image()\n",
    "    fig2.show()\n",
    "    \n",
    "evaluate_convergence(history)"
   ]
  },
  {
   "cell_type": "code",
   "execution_count": 53,
   "metadata": {},
   "outputs": [
    {
     "name": "stdout",
     "output_type": "stream",
     "text": [
      "Training set evaluation\n",
      "\tAccuracy: 0.8244131455399061\n",
      "\tPrecision: 0.7927536231884058\n",
      "\tRecall: 0.9255499153976311\n",
      "\tF1-score: 0.8540202966432475\n",
      "Validation set evaluation\n",
      "\tAccuracy: 0.5896414342629482\n",
      "\tPrecision: 0.5909090909090909\n",
      "\tRecall: 0.6946564885496184\n",
      "\tF1-score: 0.6385964912280702\n",
      "Test set evaluation\n",
      "\tAccuracy: 0.5\n",
      "\tPrecision: 0.538961038961039\n",
      "\tRecall: 0.6014492753623188\n",
      "\tF1-score: 0.5684931506849316\n"
     ]
    }
   ],
   "source": [
    "def evaluate(model, x, y):\n",
    "    y = y.tolist()\n",
    "    y_pred = model.predict(x)\n",
    "    y_pred = y_pred.round()\n",
    "    y_pred = y_pred.tolist()\n",
    "    \n",
    "    for i in range(len(y)):\n",
    "        y[i] = int(y[i][0])\n",
    "        y_pred[i] = int(y_pred[i][0][0])\n",
    "    \n",
    "    acc = accuracy(y, y_pred)\n",
    "    print(f\"\\tAccuracy: {acc}\")\n",
    "    \n",
    "    prec = precision(y, y_pred)\n",
    "    print(f\"\\tPrecision: {prec}\")\n",
    "    \n",
    "    rec = recall(y, y_pred)\n",
    "    print(f\"\\tRecall: {rec}\")\n",
    "    \n",
    "    f = f1(y, y_pred)\n",
    "    print(f\"\\tF1-score: {f}\")\n",
    "    \n",
    "print(\"Training set evaluation\")\n",
    "evaluate(model, x_train, y_train)\n",
    "print(\"Validation set evaluation\")\n",
    "evaluate(model, x_val, y_val)\n",
    "print(\"Test set evaluation\")\n",
    "evaluate(model, x_test, y_test)"
   ]
  },
  {
   "cell_type": "code",
   "execution_count": 54,
   "metadata": {},
   "outputs": [
    {
     "data": {
      "image/png": "[encoded data removed]",
      "text/plain": [
       "<Figure size 432x288 with 2 Axes>"
      ]
     },
     "metadata": {
      "needs_background": "light"
     },
     "output_type": "display_data"
    },
    {
     "data": {
      "image/png": "[encoded data removed]",
      "text/plain": [
       "<Figure size 432x288 with 2 Axes>"
      ]
     },
     "metadata": {
      "needs_background": "light"
     },
     "output_type": "display_data"
    }
   ],
   "source": [
    "def confusion_matrix(model, x, y):\n",
    "    y_pred = model.predict(x, batch_size=1)\n",
    "\n",
    "    originals = []\n",
    "    predictions = []\n",
    "\n",
    "    for i in range(len(y_pred)):\n",
    "        originals.append(y[i][0])\n",
    "        predictions.append(round(float(y_pred[i][0])))\n",
    "        \n",
    "    df = pd.DataFrame()\n",
    "    df['Actual'] = originals\n",
    "    df['Predicted'] = predictions\n",
    "    \n",
    "    conf_matrix = pd.crosstab(df['Actual'], df['Predicted'])\n",
    "    sns.heatmap(conf_matrix, annot=True, cmap='Blues')\n",
    "    plt.title(\"Confusion Matrix of Actual versus Predicted Labels\")\n",
    "    plt.show()\n",
    "    \n",
    "# confusion_matrix(model, x_train, y_train)\n",
    "confusion_matrix(model, x_val, y_val)\n",
    "confusion_matrix(model, x_test, y_test)"
   ]
  },
  {
   "cell_type": "code",
   "execution_count": null,
   "metadata": {},
   "outputs": [],
   "source": []
  },
  {
   "cell_type": "code",
   "execution_count": 16,
   "metadata": {},
   "outputs": [
    {
     "data": {
      "application/vnd.plotly.v1+json": {
       "config": {
        "plotlyServerURL": "https://plot.ly"
       },
       "data": [
        {
         "close": [
          "2695.81",
          "2713.06",
          "2723.99",
          "2743.15",
          "2747.71",
          "2751.29",
          "2748.23",
          "2767.56",
          "2786.24",
          "2776.42",
          "2802.56",
          "2798.03",
          "2810.30",
          "2832.97",
          "2839.13",
          "2837.54",
          "2839.25",
          "2872.87",
          "2853.53",
          "2822.43",
          "2823.81",
          "2821.98",
          "2762.13",
          "2648.94",
          "2695.14",
          "2681.66",
          "2581.00",
          "2619.55",
          "2656.00",
          "2662.94",
          "2698.63",
          "2731.20",
          "2732.22",
          "2716.26",
          "2701.33",
          "2703.96",
          "2747.30",
          "2779.60",
          "2744.28",
          "2713.83",
          "2677.67",
          "2691.25",
          "2720.94",
          "2728.12",
          "2726.80",
          "2738.97",
          "2786.57",
          "2783.02",
          "2765.31",
          "2749.48",
          "2747.33",
          "2752.01",
          "2712.92",
          "2716.94",
          "2711.93",
          "2643.69",
          "2588.26",
          "2658.55",
          "2612.62",
          "2605.00",
          "2640.87",
          "2581.88",
          "2614.45",
          "2644.69",
          "2662.84",
          "2604.47",
          "2613.16",
          "2656.87",
          "2642.19",
          "2663.99",
          "2656.30",
          "2677.84",
          "2706.39",
          "2708.64",
          "2693.13",
          "2670.14",
          "2670.29",
          "2634.56",
          "2639.40",
          "2666.94",
          "2669.91",
          "2648.05",
          "2654.80",
          "2635.67",
          "2629.73",
          "2663.42",
          "2672.63",
          "2671.92",
          "2697.79",
          "2723.07",
          "2727.72",
          "2730.13",
          "2711.45",
          "2722.46",
          "2720.13",
          "2712.97",
          "2733.01",
          "2724.44",
          "2733.29",
          "2727.76",
          "2721.33",
          "2689.86",
          "2724.01",
          "2705.27",
          "2734.62",
          "2746.87",
          "2748.80",
          "2772.35",
          "2770.37",
          "2779.03",
          "2782.00",
          "2786.85",
          "2775.63",
          "2782.49",
          "2779.66",
          "2773.75",
          "2762.59",
          "2767.32",
          "2749.76",
          "2754.88",
          "2717.07",
          "2723.06",
          "2699.63",
          "2716.31",
          "2718.37",
          "2726.71",
          "2713.22",
          "2736.61",
          "2759.82",
          "2784.17",
          "2793.84",
          "2774.02",
          "2798.29",
          "2801.31",
          "2798.43",
          "2809.55",
          "2815.62",
          "2804.49",
          "2801.83",
          "2806.98",
          "2820.40",
          "2846.07",
          "2837.44",
          "2818.82",
          "2802.60",
          "2816.29",
          "2813.36",
          "2827.22",
          "2840.35",
          "2850.40",
          "2858.45",
          "2857.70",
          "2853.58",
          "2833.28",
          "2821.93",
          "2839.96",
          "2818.37",
          "2840.69",
          "2850.13",
          "2857.05",
          "2862.96",
          "2861.82",
          "2856.98",
          "2874.69",
          "2896.74",
          "2897.52",
          "2914.04",
          "2901.13",
          "2901.52",
          "2896.72",
          "2888.60",
          "2878.05",
          "2871.68",
          "2877.13",
          "2887.89",
          "2888.92",
          "2904.18",
          "2904.98",
          "2888.80",
          "2904.31",
          "2907.95",
          "2930.75",
          "2929.67",
          "2919.37",
          "2915.56",
          "2905.97",
          "2914.00",
          "2913.98",
          "2924.59",
          "2923.43",
          "2925.51",
          "2901.61",
          "2885.57",
          "2884.43",
          "2880.34",
          "2785.68",
          "2728.37",
          "2767.13",
          "2750.79",
          "2809.92",
          "2809.21",
          "2768.78",
          "2767.78",
          "2755.88",
          "2740.69",
          "2656.10",
          "2705.57",
          "2658.69",
          "2641.25",
          "2682.63",
          "2711.74",
          "2740.37",
          "2723.06",
          "2738.31",
          "2755.45",
          "2813.89",
          "2806.83",
          "2781.01",
          "2726.22",
          "2722.18",
          "2701.58",
          "2730.20",
          "2736.27",
          "2690.73",
          "2641.89",
          "2649.93",
          "2632.56",
          "2673.45",
          "2682.17",
          "2743.79",
          "2737.76",
          "2760.17",
          "2790.37",
          "2700.06",
          "2695.95",
          "2633.08",
          "2637.72",
          "2636.78",
          "2651.07",
          "2650.54",
          "2599.95",
          "2545.94",
          "2546.16",
          "2506.96",
          "2467.42",
          "2416.62",
          "2351.10",
          "2467.70",
          "2488.83",
          "2485.74",
          "2506.85"
         ],
         "high": [
          "2695.89",
          "2714.37",
          "2729.29",
          "2743.45",
          "2748.51",
          "2759.14",
          "2750.80",
          "2767.56",
          "2787.85",
          "2807.54",
          "2807.04",
          "2805.83",
          "2810.33",
          "2833.03",
          "2842.24",
          "2852.97",
          "2848.56",
          "2872.87",
          "2870.62",
          "2837.75",
          "2839.26",
          "2835.96",
          "2808.92",
          "2763.39",
          "2701.04",
          "2727.67",
          "2685.27",
          "2638.67",
          "2672.61",
          "2668.84",
          "2702.10",
          "2731.51",
          "2754.42",
          "2737.60",
          "2747.75",
          "2731.26",
          "2747.76",
          "2780.64",
          "2789.15",
          "2761.52",
          "2730.89",
          "2696.25",
          "2728.09",
          "2732.08",
          "2730.60",
          "2740.45",
          "2786.57",
          "2796.98",
          "2801.90",
          "2777.11",
          "2763.03",
          "2761.85",
          "2741.38",
          "2724.22",
          "2739.14",
          "2695.68",
          "2657.67",
          "2661.36",
          "2674.78",
          "2632.65",
          "2659.07",
          "2638.30",
          "2619.14",
          "2649.86",
          "2672.08",
          "2656.88",
          "2653.55",
          "2665.45",
          "2661.43",
          "2674.72",
          "2680.26",
          "2686.49",
          "2713.34",
          "2717.49",
          "2702.84",
          "2693.94",
          "2682.86",
          "2683.55",
          "2645.30",
          "2676.48",
          "2677.35",
          "2682.92",
          "2655.27",
          "2660.87",
          "2637.14",
          "2670.93",
          "2683.35",
          "2676.34",
          "2701.27",
          "2726.11",
          "2732.86",
          "2742.10",
          "2718.59",
          "2727.76",
          "2731.96",
          "2719.50",
          "2739.19",
          "2742.24",
          "2733.33",
          "2731.97",
          "2727.36",
          "2710.67",
          "2729.34",
          "2722.50",
          "2736.93",
          "2749.16",
          "2752.61",
          "2772.39",
          "2779.90",
          "2779.39",
          "2790.21",
          "2789.80",
          "2791.47",
          "2789.06",
          "2782.81",
          "2774.99",
          "2765.05",
          "2774.86",
          "2769.28",
          "2764.17",
          "2742.94",
          "2732.91",
          "2746.09",
          "2724.34",
          "2743.26",
          "2727.26",
          "2736.58",
          "2737.83",
          "2764.41",
          "2784.65",
          "2795.58",
          "2785.91",
          "2799.22",
          "2804.53",
          "2803.71",
          "2814.19",
          "2816.76",
          "2812.05",
          "2809.70",
          "2808.61",
          "2829.99",
          "2848.03",
          "2845.57",
          "2843.17",
          "2821.74",
          "2824.46",
          "2825.83",
          "2829.91",
          "2840.38",
          "2853.29",
          "2863.43",
          "2862.44",
          "2862.48",
          "2842.20",
          "2843.40",
          "2843.11",
          "2827.95",
          "2850.49",
          "2855.63",
          "2859.76",
          "2873.23",
          "2867.54",
          "2868.78",
          "2876.16",
          "2898.25",
          "2903.77",
          "2916.50",
          "2912.46",
          "2906.32",
          "2900.18",
          "2894.21",
          "2892.05",
          "2883.81",
          "2886.93",
          "2892.52",
          "2894.65",
          "2906.76",
          "2908.30",
          "2904.65",
          "2911.17",
          "2912.36",
          "2934.80",
          "2940.91",
          "2923.79",
          "2923.95",
          "2931.15",
          "2927.22",
          "2920.53",
          "2937.06",
          "2931.42",
          "2939.86",
          "2919.78",
          "2909.64",
          "2889.45",
          "2894.83",
          "2874.02",
          "2795.14",
          "2775.77",
          "2775.99",
          "2813.46",
          "2816.94",
          "2806.04",
          "2797.77",
          "2778.94",
          "2753.59",
          "2742.59",
          "2722.70",
          "2692.38",
          "2706.85",
          "2685.43",
          "2736.69",
          "2741.67",
          "2756.55",
          "2744.27",
          "2756.82",
          "2815.15",
          "2814.75",
          "2794.10",
          "2775.99",
          "2754.60",
          "2746.80",
          "2735.38",
          "2746.75",
          "2733.16",
          "2669.44",
          "2670.73",
          "2647.55",
          "2674.35",
          "2682.53",
          "2744.00",
          "2753.75",
          "2760.88",
          "2800.18",
          "2785.93",
          "2696.15",
          "2708.54",
          "2647.51",
          "2674.35",
          "2685.44",
          "2670.19",
          "2635.07",
          "2601.13",
          "2573.99",
          "2585.29",
          "2509.63",
          "2504.41",
          "2410.34",
          "2467.76",
          "2489.10",
          "2520.27",
          "2509.24"
         ],
         "low": [
          "2682.36",
          "2697.77",
          "2719.07",
          "2727.92",
          "2737.60",
          "2747.86",
          "2736.06",
          "2752.78",
          "2769.64",
          "2768.64",
          "2778.38",
          "2792.56",
          "2798.08",
          "2808.12",
          "2830.59",
          "2824.81",
          "2830.94",
          "2846.18",
          "2851.48",
          "2818.27",
          "2813.04",
          "2812.70",
          "2759.97",
          "2638.17",
          "2593.07",
          "2681.33",
          "2580.56",
          "2532.69",
          "2622.45",
          "2637.08",
          "2648.87",
          "2689.82",
          "2725.11",
          "2706.76",
          "2701.29",
          "2697.77",
          "2713.74",
          "2753.78",
          "2744.22",
          "2713.54",
          "2659.65",
          "2647.32",
          "2675.75",
          "2711.26",
          "2701.74",
          "2722.65",
          "2751.54",
          "2779.26",
          "2758.68",
          "2744.38",
          "2741.47",
          "2749.97",
          "2694.59",
          "2710.05",
          "2709.79",
          "2641.59",
          "2585.89",
          "2601.81",
          "2596.12",
          "2593.06",
          "2609.72",
          "2553.80",
          "2575.49",
          "2573.61",
          "2649.58",
          "2586.27",
          "2610.79",
          "2635.78",
          "2639.25",
          "2653.83",
          "2645.05",
          "2665.16",
          "2692.05",
          "2703.63",
          "2681.90",
          "2660.61",
          "2657.99",
          "2617.32",
          "2612.67",
          "2647.16",
          "2659.01",
          "2648.04",
          "2625.41",
          "2631.70",
          "2594.62",
          "2615.32",
          "2664.70",
          "2655.20",
          "2674.14",
          "2704.54",
          "2717.45",
          "2725.47",
          "2701.91",
          "2712.17",
          "2711.36",
          "2709.18",
          "2725.70",
          "2721.88",
          "2709.54",
          "2707.38",
          "2714.99",
          "2676.81",
          "2702.43",
          "2700.68",
          "2718.70",
          "2740.54",
          "2739.51",
          "2748.46",
          "2760.16",
          "2763.59",
          "2780.17",
          "2778.78",
          "2774.65",
          "2776.52",
          "2761.73",
          "2757.12",
          "2743.19",
          "2763.91",
          "2744.39",
          "2752.68",
          "2698.67",
          "2715.60",
          "2699.38",
          "2691.99",
          "2718.03",
          "2698.95",
          "2711.16",
          "2716.02",
          "2733.52",
          "2768.51",
          "2786.24",
          "2770.77",
          "2781.53",
          "2791.69",
          "2793.39",
          "2789.24",
          "2805.89",
          "2799.77",
          "2800.01",
          "2795.14",
          "2811.12",
          "2817.73",
          "2835.26",
          "2808.34",
          "2798.11",
          "2808.06",
          "2805.85",
          "2796.34",
          "2827.37",
          "2835.98",
          "2855.92",
          "2853.09",
          "2851.98",
          "2825.81",
          "2819.88",
          "2826.58",
          "2802.49",
          "2831.44",
          "2833.73",
          "2850.62",
          "2861.32",
          "2856.05",
          "2854.03",
          "2862.35",
          "2884.69",
          "2893.50",
          "2898.40",
          "2895.22",
          "2891.73",
          "2885.13",
          "2876.92",
          "2867.29",
          "2864.12",
          "2875.94",
          "2866.78",
          "2879.20",
          "2896.39",
          "2895.77",
          "2886.16",
          "2890.43",
          "2903.82",
          "2919.73",
          "2927.11",
          "2912.63",
          "2913.70",
          "2903.28",
          "2909.27",
          "2907.50",
          "2917.91",
          "2919.37",
          "2921.36",
          "2883.92",
          "2869.29",
          "2862.08",
          "2874.27",
          "2784.86",
          "2710.51",
          "2729.44",
          "2749.03",
          "2766.91",
          "2781.81",
          "2755.18",
          "2760.27",
          "2749.22",
          "2691.43",
          "2651.89",
          "2667.84",
          "2628.16",
          "2603.54",
          "2635.34",
          "2705.60",
          "2708.85",
          "2700.44",
          "2717.94",
          "2737.08",
          "2774.13",
          "2794.99",
          "2764.24",
          "2722.00",
          "2714.98",
          "2685.75",
          "2670.75",
          "2712.16",
          "2681.09",
          "2631.52",
          "2649.82",
          "2631.09",
          "2649.97",
          "2655.89",
          "2684.38",
          "2722.94",
          "2732.76",
          "2773.38",
          "2697.18",
          "2621.53",
          "2623.14",
          "2583.23",
          "2621.30",
          "2650.26",
          "2637.27",
          "2593.84",
          "2530.54",
          "2528.71",
          "2488.96",
          "2441.18",
          "2408.55",
          "2351.10",
          "2346.58",
          "2397.94",
          "2472.89",
          "2482.82"
         ],
         "name": "Price",
         "open": [
          "2683.73",
          "2697.85",
          "2719.31",
          "2731.33",
          "2742.67",
          "2751.15",
          "2745.55",
          "2752.97",
          "2770.18",
          "2798.96",
          "2784.99",
          "2802.40",
          "2802.60",
          "2809.16",
          "2835.05",
          "2845.42",
          "2846.24",
          "2847.48",
          "2867.23",
          "2832.74",
          "2832.41",
          "2816.45",
          "2808.92",
          "2741.06",
          "2614.78",
          "2690.95",
          "2685.01",
          "2601.78",
          "2636.75",
          "2646.27",
          "2651.21",
          "2713.46",
          "2727.14",
          "2722.99",
          "2720.53",
          "2710.42",
          "2715.80",
          "2757.37",
          "2780.45",
          "2753.78",
          "2715.22",
          "2658.89",
          "2681.06",
          "2730.18",
          "2710.18",
          "2732.75",
          "2752.91",
          "2790.54",
          "2792.31",
          "2774.06",
          "2754.27",
          "2750.57",
          "2741.38",
          "2715.05",
          "2714.99",
          "2691.36",
          "2646.71",
          "2619.35",
          "2667.57",
          "2611.30",
          "2614.41",
          "2633.45",
          "2592.17",
          "2584.04",
          "2657.36",
          "2645.82",
          "2617.18",
          "2638.41",
          "2643.89",
          "2653.83",
          "2676.90",
          "2670.10",
          "2692.74",
          "2710.11",
          "2701.16",
          "2692.56",
          "2675.40",
          "2680.80",
          "2634.92",
          "2651.65",
          "2675.47",
          "2675.05",
          "2643.64",
          "2654.24",
          "2628.08",
          "2621.45",
          "2669.36",
          "2670.26",
          "2678.12",
          "2705.02",
          "2722.70",
          "2733.37",
          "2718.59",
          "2712.62",
          "2719.71",
          "2717.35",
          "2725.95",
          "2738.34",
          "2713.98",
          "2730.94",
          "2723.60",
          "2705.11",
          "2702.43",
          "2720.98",
          "2718.70",
          "2741.67",
          "2748.46",
          "2753.25",
          "2774.84",
          "2765.84",
          "2780.18",
          "2785.60",
          "2787.94",
          "2783.21",
          "2777.78",
          "2765.79",
          "2752.01",
          "2769.73",
          "2769.28",
          "2760.79",
          "2742.94",
          "2722.12",
          "2728.45",
          "2698.69",
          "2727.13",
          "2704.95",
          "2733.27",
          "2724.19",
          "2737.68",
          "2768.51",
          "2788.56",
          "2779.82",
          "2783.14",
          "2796.93",
          "2801.43",
          "2789.34",
          "2811.35",
          "2809.37",
          "2804.55",
          "2799.17",
          "2820.68",
          "2817.73",
          "2835.49",
          "2842.35",
          "2819.00",
          "2809.73",
          "2821.17",
          "2800.48",
          "2829.62",
          "2840.29",
          "2855.92",
          "2856.79",
          "2857.19",
          "2839.64",
          "2835.46",
          "2827.88",
          "2827.95",
          "2831.44",
          "2838.32",
          "2853.93",
          "2861.51",
          "2860.99",
          "2860.29",
          "2862.35",
          "2884.69",
          "2901.45",
          "2900.62",
          "2908.94",
          "2898.37",
          "2896.96",
          "2891.59",
          "2888.64",
          "2868.26",
          "2881.39",
          "2871.57",
          "2888.29",
          "2896.85",
          "2906.38",
          "2903.83",
          "2890.74",
          "2906.60",
          "2919.73",
          "2936.76",
          "2921.83",
          "2921.75",
          "2916.98",
          "2911.65",
          "2910.03",
          "2926.29",
          "2923.80",
          "2931.69",
          "2919.35",
          "2902.54",
          "2877.53",
          "2882.51",
          "2873.90",
          "2776.87",
          "2770.54",
          "2763.83",
          "2767.05",
          "2811.67",
          "2802.00",
          "2775.66",
          "2773.94",
          "2721.03",
          "2737.87",
          "2674.88",
          "2667.86",
          "2682.65",
          "2640.68",
          "2705.60",
          "2717.58",
          "2745.45",
          "2726.37",
          "2738.40",
          "2774.13",
          "2806.38",
          "2794.10",
          "2773.93",
          "2730.05",
          "2737.90",
          "2693.52",
          "2718.54",
          "2730.74",
          "2654.60",
          "2657.74",
          "2633.36",
          "2649.97",
          "2663.75",
          "2691.45",
          "2736.97",
          "2737.76",
          "2790.50",
          "2782.43",
          "2663.51",
          "2691.26",
          "2630.86",
          "2664.44",
          "2658.23",
          "2658.70",
          "2629.68",
          "2590.75",
          "2559.90",
          "2547.05",
          "2496.77",
          "2465.38",
          "2400.56",
          "2363.12",
          "2442.50",
          "2498.77",
          "2498.94"
         ],
         "type": "candlestick",
         "x": [
          "2018-01-02T00:00:00",
          "2018-01-03T00:00:00",
          "2018-01-04T00:00:00",
          "2018-01-05T00:00:00",
          "2018-01-08T00:00:00",
          "2018-01-09T00:00:00",
          "2018-01-10T00:00:00",
          "2018-01-11T00:00:00",
          "2018-01-12T00:00:00",
          "2018-01-16T00:00:00",
          "2018-01-17T00:00:00",
          "2018-01-18T00:00:00",
          "2018-01-19T00:00:00",
          "2018-01-22T00:00:00",
          "2018-01-23T00:00:00",
          "2018-01-24T00:00:00",
          "2018-01-25T00:00:00",
          "2018-01-26T00:00:00",
          "2018-01-29T00:00:00",
          "2018-01-30T00:00:00",
          "2018-01-31T00:00:00",
          "2018-02-01T00:00:00",
          "2018-02-02T00:00:00",
          "2018-02-05T00:00:00",
          "2018-02-06T00:00:00",
          "2018-02-07T00:00:00",
          "2018-02-08T00:00:00",
          "2018-02-09T00:00:00",
          "2018-02-12T00:00:00",
          "2018-02-13T00:00:00",
          "2018-02-14T00:00:00",
          "2018-02-15T00:00:00",
          "2018-02-16T00:00:00",
          "2018-02-20T00:00:00",
          "2018-02-21T00:00:00",
          "2018-02-22T00:00:00",
          "2018-02-23T00:00:00",
          "2018-02-26T00:00:00",
          "2018-02-27T00:00:00",
          "2018-02-28T00:00:00",
          "2018-03-01T00:00:00",
          "2018-03-02T00:00:00",
          "2018-03-05T00:00:00",
          "2018-03-06T00:00:00",
          "2018-03-07T00:00:00",
          "2018-03-08T00:00:00",
          "2018-03-09T00:00:00",
          "2018-03-12T00:00:00",
          "2018-03-13T00:00:00",
          "2018-03-14T00:00:00",
          "2018-03-15T00:00:00",
          "2018-03-16T00:00:00",
          "2018-03-19T00:00:00",
          "2018-03-20T00:00:00",
          "2018-03-21T00:00:00",
          "2018-03-22T00:00:00",
          "2018-03-23T00:00:00",
          "2018-03-26T00:00:00",
          "2018-03-27T00:00:00",
          "2018-03-28T00:00:00",
          "2018-03-29T00:00:00",
          "2018-04-02T00:00:00",
          "2018-04-03T00:00:00",
          "2018-04-04T00:00:00",
          "2018-04-05T00:00:00",
          "2018-04-06T00:00:00",
          "2018-04-09T00:00:00",
          "2018-04-10T00:00:00",
          "2018-04-11T00:00:00",
          "2018-04-12T00:00:00",
          "2018-04-13T00:00:00",
          "2018-04-16T00:00:00",
          "2018-04-17T00:00:00",
          "2018-04-18T00:00:00",
          "2018-04-19T00:00:00",
          "2018-04-20T00:00:00",
          "2018-04-23T00:00:00",
          "2018-04-24T00:00:00",
          "2018-04-25T00:00:00",
          "2018-04-26T00:00:00",
          "2018-04-27T00:00:00",
          "2018-04-30T00:00:00",
          "2018-05-01T00:00:00",
          "2018-05-02T00:00:00",
          "2018-05-03T00:00:00",
          "2018-05-04T00:00:00",
          "2018-05-07T00:00:00",
          "2018-05-08T00:00:00",
          "2018-05-09T00:00:00",
          "2018-05-10T00:00:00",
          "2018-05-11T00:00:00",
          "2018-05-14T00:00:00",
          "2018-05-15T00:00:00",
          "2018-05-16T00:00:00",
          "2018-05-17T00:00:00",
          "2018-05-18T00:00:00",
          "2018-05-21T00:00:00",
          "2018-05-22T00:00:00",
          "2018-05-23T00:00:00",
          "2018-05-24T00:00:00",
          "2018-05-25T00:00:00",
          "2018-05-29T00:00:00",
          "2018-05-30T00:00:00",
          "2018-05-31T00:00:00",
          "2018-06-01T00:00:00",
          "2018-06-04T00:00:00",
          "2018-06-05T00:00:00",
          "2018-06-06T00:00:00",
          "2018-06-07T00:00:00",
          "2018-06-08T00:00:00",
          "2018-06-11T00:00:00",
          "2018-06-12T00:00:00",
          "2018-06-13T00:00:00",
          "2018-06-14T00:00:00",
          "2018-06-15T00:00:00",
          "2018-06-18T00:00:00",
          "2018-06-19T00:00:00",
          "2018-06-20T00:00:00",
          "2018-06-21T00:00:00",
          "2018-06-22T00:00:00",
          "2018-06-25T00:00:00",
          "2018-06-26T00:00:00",
          "2018-06-27T00:00:00",
          "2018-06-28T00:00:00",
          "2018-06-29T00:00:00",
          "2018-07-02T00:00:00",
          "2018-07-03T00:00:00",
          "2018-07-05T00:00:00",
          "2018-07-06T00:00:00",
          "2018-07-09T00:00:00",
          "2018-07-10T00:00:00",
          "2018-07-11T00:00:00",
          "2018-07-12T00:00:00",
          "2018-07-13T00:00:00",
          "2018-07-16T00:00:00",
          "2018-07-17T00:00:00",
          "2018-07-18T00:00:00",
          "2018-07-19T00:00:00",
          "2018-07-20T00:00:00",
          "2018-07-23T00:00:00",
          "2018-07-24T00:00:00",
          "2018-07-25T00:00:00",
          "2018-07-26T00:00:00",
          "2018-07-27T00:00:00",
          "2018-07-30T00:00:00",
          "2018-07-31T00:00:00",
          "2018-08-01T00:00:00",
          "2018-08-02T00:00:00",
          "2018-08-03T00:00:00",
          "2018-08-06T00:00:00",
          "2018-08-07T00:00:00",
          "2018-08-08T00:00:00",
          "2018-08-09T00:00:00",
          "2018-08-10T00:00:00",
          "2018-08-13T00:00:00",
          "2018-08-14T00:00:00",
          "2018-08-15T00:00:00",
          "2018-08-16T00:00:00",
          "2018-08-17T00:00:00",
          "2018-08-20T00:00:00",
          "2018-08-21T00:00:00",
          "2018-08-22T00:00:00",
          "2018-08-23T00:00:00",
          "2018-08-24T00:00:00",
          "2018-08-27T00:00:00",
          "2018-08-28T00:00:00",
          "2018-08-29T00:00:00",
          "2018-08-30T00:00:00",
          "2018-08-31T00:00:00",
          "2018-09-04T00:00:00",
          "2018-09-05T00:00:00",
          "2018-09-06T00:00:00",
          "2018-09-07T00:00:00",
          "2018-09-10T00:00:00",
          "2018-09-11T00:00:00",
          "2018-09-12T00:00:00",
          "2018-09-13T00:00:00",
          "2018-09-14T00:00:00",
          "2018-09-17T00:00:00",
          "2018-09-18T00:00:00",
          "2018-09-19T00:00:00",
          "2018-09-20T00:00:00",
          "2018-09-21T00:00:00",
          "2018-09-24T00:00:00",
          "2018-09-25T00:00:00",
          "2018-09-26T00:00:00",
          "2018-09-27T00:00:00",
          "2018-09-28T00:00:00",
          "2018-10-01T00:00:00",
          "2018-10-02T00:00:00",
          "2018-10-03T00:00:00",
          "2018-10-04T00:00:00",
          "2018-10-05T00:00:00",
          "2018-10-08T00:00:00",
          "2018-10-09T00:00:00",
          "2018-10-10T00:00:00",
          "2018-10-11T00:00:00",
          "2018-10-12T00:00:00",
          "2018-10-15T00:00:00",
          "2018-10-16T00:00:00",
          "2018-10-17T00:00:00",
          "2018-10-18T00:00:00",
          "2018-10-19T00:00:00",
          "2018-10-22T00:00:00",
          "2018-10-23T00:00:00",
          "2018-10-24T00:00:00",
          "2018-10-25T00:00:00",
          "2018-10-26T00:00:00",
          "2018-10-29T00:00:00",
          "2018-10-30T00:00:00",
          "2018-10-31T00:00:00",
          "2018-11-01T00:00:00",
          "2018-11-02T00:00:00",
          "2018-11-05T00:00:00",
          "2018-11-06T00:00:00",
          "2018-11-07T00:00:00",
          "2018-11-08T00:00:00",
          "2018-11-09T00:00:00",
          "2018-11-12T00:00:00",
          "2018-11-13T00:00:00",
          "2018-11-14T00:00:00",
          "2018-11-15T00:00:00",
          "2018-11-16T00:00:00",
          "2018-11-19T00:00:00",
          "2018-11-20T00:00:00",
          "2018-11-21T00:00:00",
          "2018-11-23T00:00:00",
          "2018-11-26T00:00:00",
          "2018-11-27T00:00:00",
          "2018-11-28T00:00:00",
          "2018-11-29T00:00:00",
          "2018-11-30T00:00:00",
          "2018-12-03T00:00:00",
          "2018-12-04T00:00:00",
          "2018-12-06T00:00:00",
          "2018-12-07T00:00:00",
          "2018-12-10T00:00:00",
          "2018-12-11T00:00:00",
          "2018-12-12T00:00:00",
          "2018-12-13T00:00:00",
          "2018-12-14T00:00:00",
          "2018-12-17T00:00:00",
          "2018-12-18T00:00:00",
          "2018-12-19T00:00:00",
          "2018-12-20T00:00:00",
          "2018-12-21T00:00:00",
          "2018-12-24T00:00:00",
          "2018-12-26T00:00:00",
          "2018-12-27T00:00:00",
          "2018-12-28T00:00:00",
          "2018-12-31T00:00:00"
         ]
        },
        {
         "fill": "toself",
         "line": {
          "color": "red"
         },
         "mode": "lines",
         "name": "Incorrect Direction",
         "type": "scatter",
         "x": [
          "2018-01-01T21:36:00",
          "2018-01-02T00:00:00",
          "2018-01-02T02:24:00",
          "2018-01-01T21:36:00"
         ],
         "y": [
          2615.131875,
          2547.90375,
          2615.131875,
          2615.131875
         ]
        },
        {
         "fill": "toself",
         "line": {
          "color": "green"
         },
         "mode": "lines",
         "name": "Correct Direction",
         "type": "scatter",
         "x": [
          "2018-01-02T21:36:00",
          "2018-01-03T00:00:00",
          "2018-01-03T02:24:00",
          "2018-01-02T21:36:00"
         ],
         "y": [
          2781.598125,
          2848.82625,
          2781.598125,
          2781.598125
         ]
        },
        {
         "fill": "toself",
         "line": {
          "color": "green"
         },
         "mode": "lines",
         "showlegend": false,
         "type": "scatter",
         "x": [
          "2018-01-03T21:36:00",
          "2018-01-04T00:00:00",
          "2018-01-04T02:24:00",
          "2018-01-03T21:36:00"
         ],
         "y": [
          2651.841875,
          2584.61375,
          2651.841875,
          2651.841875
         ]
        },
        {
         "fill": "toself",
         "line": {
          "color": "green"
         },
         "mode": "lines",
         "showlegend": false,
         "type": "scatter",
         "x": [
          "2018-01-04T21:36:00",
          "2018-01-05T00:00:00",
          "2018-01-05T02:24:00",
          "2018-01-04T21:36:00"
         ],
         "y": [
          2810.678125,
          2877.90625,
          2810.678125,
          2810.678125
         ]
        },
        {
         "fill": "toself",
         "line": {
          "color": "green"
         },
         "mode": "lines",
         "showlegend": false,
         "type": "scatter",
         "x": [
          "2018-01-07T21:36:00",
          "2018-01-08T00:00:00",
          "2018-01-08T02:24:00",
          "2018-01-07T21:36:00"
         ],
         "y": [
          2815.7381250000003,
          2882.9662500000004,
          2815.7381250000003,
          2815.7381250000003
         ]
        },
        {
         "fill": "toself",
         "line": {
          "color": "red"
         },
         "mode": "lines",
         "showlegend": false,
         "type": "scatter",
         "x": [
          "2018-01-08T21:36:00",
          "2018-01-09T00:00:00",
          "2018-01-09T02:24:00",
          "2018-01-08T21:36:00"
         ],
         "y": [
          2826.368125,
          2893.59625,
          2826.368125,
          2826.368125
         ]
        },
        {
         "fill": "toself",
         "line": {
          "color": "red"
         },
         "mode": "lines",
         "showlegend": false,
         "type": "scatter",
         "x": [
          "2018-01-09T21:36:00",
          "2018-01-10T00:00:00",
          "2018-01-10T02:24:00",
          "2018-01-09T21:36:00"
         ],
         "y": [
          2668.831875,
          2601.6037499999998,
          2668.831875,
          2668.831875
         ]
        },
        {
         "fill": "toself",
         "line": {
          "color": "green"
         },
         "mode": "lines",
         "showlegend": false,
         "type": "scatter",
         "x": [
          "2018-01-10T21:36:00",
          "2018-01-11T00:00:00",
          "2018-01-11T02:24:00",
          "2018-01-10T21:36:00"
         ],
         "y": [
          2834.788125,
          2902.01625,
          2834.788125,
          2834.788125
         ]
        },
        {
         "fill": "toself",
         "line": {
          "color": "red"
         },
         "mode": "lines",
         "showlegend": false,
         "type": "scatter",
         "x": [
          "2018-01-11T21:36:00",
          "2018-01-12T00:00:00",
          "2018-01-12T02:24:00",
          "2018-01-11T21:36:00"
         ],
         "y": [
          2702.411875,
          2635.1837499999997,
          2702.411875,
          2702.411875
         ]
        },
        {
         "fill": "toself",
         "line": {
          "color": "green"
         },
         "mode": "lines",
         "showlegend": false,
         "type": "scatter",
         "x": [
          "2018-01-15T21:36:00",
          "2018-01-16T00:00:00",
          "2018-01-16T02:24:00",
          "2018-01-15T21:36:00"
         ],
         "y": [
          2701.411875,
          2634.1837499999997,
          2701.411875,
          2701.411875
         ]
        },
        {
         "fill": "toself",
         "line": {
          "color": "green"
         },
         "mode": "lines",
         "showlegend": false,
         "type": "scatter",
         "x": [
          "2018-01-16T21:36:00",
          "2018-01-17T00:00:00",
          "2018-01-17T02:24:00",
          "2018-01-16T21:36:00"
         ],
         "y": [
          2874.268125,
          2941.49625,
          2874.268125,
          2874.268125
         ]
        },
        {
         "fill": "toself",
         "line": {
          "color": "green"
         },
         "mode": "lines",
         "showlegend": false,
         "type": "scatter",
         "x": [
          "2018-01-17T21:36:00",
          "2018-01-18T00:00:00",
          "2018-01-18T02:24:00",
          "2018-01-17T21:36:00"
         ],
         "y": [
          2873.058125,
          2940.28625,
          2873.058125,
          2873.058125
         ]
        },
        {
         "fill": "toself",
         "line": {
          "color": "green"
         },
         "mode": "lines",
         "showlegend": false,
         "type": "scatter",
         "x": [
          "2018-01-18T21:36:00",
          "2018-01-19T00:00:00",
          "2018-01-19T02:24:00",
          "2018-01-18T21:36:00"
         ],
         "y": [
          2877.558125,
          2944.78625,
          2877.558125,
          2877.558125
         ]
        },
        {
         "fill": "toself",
         "line": {
          "color": "green"
         },
         "mode": "lines",
         "showlegend": false,
         "type": "scatter",
         "x": [
          "2018-01-21T21:36:00",
          "2018-01-22T00:00:00",
          "2018-01-22T02:24:00",
          "2018-01-21T21:36:00"
         ],
         "y": [
          2900.2581250000003,
          2967.4862500000004,
          2900.2581250000003,
          2900.2581250000003
         ]
        },
        {
         "fill": "toself",
         "line": {
          "color": "green"
         },
         "mode": "lines",
         "showlegend": false,
         "type": "scatter",
         "x": [
          "2018-01-22T21:36:00",
          "2018-01-23T00:00:00",
          "2018-01-23T02:24:00",
          "2018-01-22T21:36:00"
         ],
         "y": [
          2909.468125,
          2976.69625,
          2909.468125,
          2909.468125
         ]
        },
        {
         "fill": "toself",
         "line": {
          "color": "red"
         },
         "mode": "lines",
         "showlegend": false,
         "type": "scatter",
         "x": [
          "2018-01-23T21:36:00",
          "2018-01-24T00:00:00",
          "2018-01-24T02:24:00",
          "2018-01-23T21:36:00"
         ],
         "y": [
          2920.198125,
          2987.42625,
          2920.198125,
          2920.198125
         ]
        },
        {
         "fill": "toself",
         "line": {
          "color": "green"
         },
         "mode": "lines",
         "showlegend": false,
         "type": "scatter",
         "x": [
          "2018-01-24T21:36:00",
          "2018-01-25T00:00:00",
          "2018-01-25T02:24:00",
          "2018-01-24T21:36:00"
         ],
         "y": [
          2763.711875,
          2696.48375,
          2763.711875,
          2763.711875
         ]
        },
        {
         "fill": "toself",
         "line": {
          "color": "green"
         },
         "mode": "lines",
         "showlegend": false,
         "type": "scatter",
         "x": [
          "2018-01-25T21:36:00",
          "2018-01-26T00:00:00",
          "2018-01-26T02:24:00",
          "2018-01-25T21:36:00"
         ],
         "y": [
          2940.098125,
          3007.32625,
          2940.098125,
          2940.098125
         ]
        },
        {
         "fill": "toself",
         "line": {
          "color": "green"
         },
         "mode": "lines",
         "showlegend": false,
         "type": "scatter",
         "x": [
          "2018-01-28T21:36:00",
          "2018-01-29T00:00:00",
          "2018-01-29T02:24:00",
          "2018-01-28T21:36:00"
         ],
         "y": [
          2784.251875,
          2717.02375,
          2784.251875,
          2784.251875
         ]
        },
        {
         "fill": "toself",
         "line": {
          "color": "green"
         },
         "mode": "lines",
         "showlegend": false,
         "type": "scatter",
         "x": [
          "2018-01-29T21:36:00",
          "2018-01-30T00:00:00",
          "2018-01-30T02:24:00",
          "2018-01-29T21:36:00"
         ],
         "y": [
          2904.978125,
          2972.20625,
          2904.978125,
          2904.978125
         ]
        },
        {
         "fill": "toself",
         "line": {
          "color": "red"
         },
         "mode": "lines",
         "showlegend": false,
         "type": "scatter",
         "x": [
          "2018-01-30T21:36:00",
          "2018-01-31T00:00:00",
          "2018-01-31T02:24:00",
          "2018-01-30T21:36:00"
         ],
         "y": [
          2906.4881250000003,
          2973.7162500000004,
          2906.4881250000003,
          2906.4881250000003
         ]
        },
        {
         "fill": "toself",
         "line": {
          "color": "red"
         },
         "mode": "lines",
         "showlegend": false,
         "type": "scatter",
         "x": [
          "2018-01-31T21:36:00",
          "2018-02-01T00:00:00",
          "2018-02-01T02:24:00",
          "2018-01-31T21:36:00"
         ],
         "y": [
          2745.4718749999997,
          2678.2437499999996,
          2745.4718749999997,
          2745.4718749999997
         ]
        },
        {
         "fill": "toself",
         "line": {
          "color": "green"
         },
         "mode": "lines",
         "showlegend": false,
         "type": "scatter",
         "x": [
          "2018-02-01T21:36:00",
          "2018-02-02T00:00:00",
          "2018-02-02T02:24:00",
          "2018-02-01T21:36:00"
         ],
         "y": [
          2692.7418749999997,
          2625.5137499999996,
          2692.7418749999997,
          2692.7418749999997
         ]
        },
        {
         "fill": "toself",
         "line": {
          "color": "red"
         },
         "mode": "lines",
         "showlegend": false,
         "type": "scatter",
         "x": [
          "2018-02-04T21:36:00",
          "2018-02-05T00:00:00",
          "2018-02-05T02:24:00",
          "2018-02-04T21:36:00"
         ],
         "y": [
          2830.618125,
          2897.84625,
          2830.618125,
          2830.618125
         ]
        },
        {
         "fill": "toself",
         "line": {
          "color": "red"
         },
         "mode": "lines",
         "showlegend": false,
         "type": "scatter",
         "x": [
          "2018-02-05T21:36:00",
          "2018-02-06T00:00:00",
          "2018-02-06T02:24:00",
          "2018-02-05T21:36:00"
         ],
         "y": [
          2525.841875,
          2458.61375,
          2525.841875,
          2525.841875
         ]
        },
        {
         "fill": "toself",
         "line": {
          "color": "red"
         },
         "mode": "lines",
         "showlegend": false,
         "type": "scatter",
         "x": [
          "2018-02-06T21:36:00",
          "2018-02-07T00:00:00",
          "2018-02-07T02:24:00",
          "2018-02-06T21:36:00"
         ],
         "y": [
          2794.898125,
          2862.1262500000003,
          2794.898125,
          2794.898125
         ]
        },
        {
         "fill": "toself",
         "line": {
          "color": "red"
         },
         "mode": "lines",
         "showlegend": false,
         "type": "scatter",
         "x": [
          "2018-02-07T21:36:00",
          "2018-02-08T00:00:00",
          "2018-02-08T02:24:00",
          "2018-02-07T21:36:00"
         ],
         "y": [
          2752.498125,
          2819.72625,
          2752.498125,
          2752.498125
         ]
        },
        {
         "fill": "toself",
         "line": {
          "color": "red"
         },
         "mode": "lines",
         "showlegend": false,
         "type": "scatter",
         "x": [
          "2018-02-08T21:36:00",
          "2018-02-09T00:00:00",
          "2018-02-09T02:24:00",
          "2018-02-08T21:36:00"
         ],
         "y": [
          2465.461875,
          2398.23375,
          2465.461875,
          2465.461875
         ]
        },
        {
         "fill": "toself",
         "line": {
          "color": "green"
         },
         "mode": "lines",
         "showlegend": false,
         "type": "scatter",
         "x": [
          "2018-02-11T21:36:00",
          "2018-02-12T00:00:00",
          "2018-02-12T02:24:00",
          "2018-02-11T21:36:00"
         ],
         "y": [
          2739.838125,
          2807.0662500000003,
          2739.838125,
          2739.838125
         ]
        },
        {
         "fill": "toself",
         "line": {
          "color": "green"
         },
         "mode": "lines",
         "showlegend": false,
         "type": "scatter",
         "x": [
          "2018-02-12T21:36:00",
          "2018-02-13T00:00:00",
          "2018-02-13T02:24:00",
          "2018-02-12T21:36:00"
         ],
         "y": [
          2736.0681250000002,
          2803.2962500000003,
          2736.0681250000002,
          2736.0681250000002
         ]
        },
        {
         "fill": "toself",
         "line": {
          "color": "green"
         },
         "mode": "lines",
         "showlegend": false,
         "type": "scatter",
         "x": [
          "2018-02-13T21:36:00",
          "2018-02-14T00:00:00",
          "2018-02-14T02:24:00",
          "2018-02-13T21:36:00"
         ],
         "y": [
          2769.328125,
          2836.55625,
          2769.328125,
          2769.328125
         ]
        },
        {
         "fill": "toself",
         "line": {
          "color": "green"
         },
         "mode": "lines",
         "showlegend": false,
         "type": "scatter",
         "x": [
          "2018-02-14T21:36:00",
          "2018-02-15T00:00:00",
          "2018-02-15T02:24:00",
          "2018-02-14T21:36:00"
         ],
         "y": [
          2798.7381250000003,
          2865.9662500000004,
          2798.7381250000003,
          2798.7381250000003
         ]
        },
        {
         "fill": "toself",
         "line": {
          "color": "green"
         },
         "mode": "lines",
         "showlegend": false,
         "type": "scatter",
         "x": [
          "2018-02-15T21:36:00",
          "2018-02-16T00:00:00",
          "2018-02-16T02:24:00",
          "2018-02-15T21:36:00"
         ],
         "y": [
          2821.648125,
          2888.8762500000003,
          2821.648125,
          2821.648125
         ]
        },
        {
         "fill": "toself",
         "line": {
          "color": "red"
         },
         "mode": "lines",
         "showlegend": false,
         "type": "scatter",
         "x": [
          "2018-02-19T21:36:00",
          "2018-02-20T00:00:00",
          "2018-02-20T02:24:00",
          "2018-02-19T21:36:00"
         ],
         "y": [
          2639.531875,
          2572.30375,
          2639.531875,
          2639.531875
         ]
        },
        {
         "fill": "toself",
         "line": {
          "color": "green"
         },
         "mode": "lines",
         "showlegend": false,
         "type": "scatter",
         "x": [
          "2018-02-20T21:36:00",
          "2018-02-21T00:00:00",
          "2018-02-21T02:24:00",
          "2018-02-20T21:36:00"
         ],
         "y": [
          2634.061875,
          2566.83375,
          2634.061875,
          2634.061875
         ]
        },
        {
         "fill": "toself",
         "line": {
          "color": "green"
         },
         "mode": "lines",
         "showlegend": false,
         "type": "scatter",
         "x": [
          "2018-02-21T21:36:00",
          "2018-02-22T00:00:00",
          "2018-02-22T02:24:00",
          "2018-02-21T21:36:00"
         ],
         "y": [
          2630.541875,
          2563.31375,
          2630.541875,
          2630.541875
         ]
        },
        {
         "fill": "toself",
         "line": {
          "color": "green"
         },
         "mode": "lines",
         "showlegend": false,
         "type": "scatter",
         "x": [
          "2018-02-22T21:36:00",
          "2018-02-23T00:00:00",
          "2018-02-23T02:24:00",
          "2018-02-22T21:36:00"
         ],
         "y": [
          2814.9881250000003,
          2882.2162500000004,
          2814.9881250000003,
          2814.9881250000003
         ]
        },
        {
         "fill": "toself",
         "line": {
          "color": "red"
         },
         "mode": "lines",
         "showlegend": false,
         "type": "scatter",
         "x": [
          "2018-02-25T21:36:00",
          "2018-02-26T00:00:00",
          "2018-02-26T02:24:00",
          "2018-02-25T21:36:00"
         ],
         "y": [
          2686.551875,
          2619.32375,
          2686.551875,
          2686.551875
         ]
        },
        {
         "fill": "toself",
         "line": {
          "color": "red"
         },
         "mode": "lines",
         "showlegend": false,
         "type": "scatter",
         "x": [
          "2018-02-26T21:36:00",
          "2018-02-27T00:00:00",
          "2018-02-27T02:24:00",
          "2018-02-26T21:36:00"
         ],
         "y": [
          2856.378125,
          2923.6062500000003,
          2856.378125,
          2856.378125
         ]
        },
        {
         "fill": "toself",
         "line": {
          "color": "green"
         },
         "mode": "lines",
         "showlegend": false,
         "type": "scatter",
         "x": [
          "2018-02-27T21:36:00",
          "2018-02-28T00:00:00",
          "2018-02-28T02:24:00",
          "2018-02-27T21:36:00"
         ],
         "y": [
          2646.311875,
          2579.08375,
          2646.311875,
          2646.311875
         ]
        },
        {
         "fill": "toself",
         "line": {
          "color": "red"
         },
         "mode": "lines",
         "showlegend": false,
         "type": "scatter",
         "x": [
          "2018-02-28T21:36:00",
          "2018-03-01T00:00:00",
          "2018-03-01T02:24:00",
          "2018-02-28T21:36:00"
         ],
         "y": [
          2798.118125,
          2865.34625,
          2798.118125,
          2798.118125
         ]
        },
        {
         "fill": "toself",
         "line": {
          "color": "red"
         },
         "mode": "lines",
         "showlegend": false,
         "type": "scatter",
         "x": [
          "2018-03-01T21:36:00",
          "2018-03-02T00:00:00",
          "2018-03-02T02:24:00",
          "2018-03-01T21:36:00"
         ],
         "y": [
          2580.091875,
          2512.86375,
          2580.091875,
          2580.091875
         ]
        },
        {
         "fill": "toself",
         "line": {
          "color": "green"
         },
         "mode": "lines",
         "showlegend": false,
         "type": "scatter",
         "x": [
          "2018-03-04T21:36:00",
          "2018-03-05T00:00:00",
          "2018-03-05T02:24:00",
          "2018-03-04T21:36:00"
         ],
         "y": [
          2795.3181250000002,
          2862.5462500000003,
          2795.3181250000002,
          2795.3181250000002
         ]
        },
        {
         "fill": "toself",
         "line": {
          "color": "green"
         },
         "mode": "lines",
         "showlegend": false,
         "type": "scatter",
         "x": [
          "2018-03-05T21:36:00",
          "2018-03-06T00:00:00",
          "2018-03-06T02:24:00",
          "2018-03-05T21:36:00"
         ],
         "y": [
          2799.308125,
          2866.53625,
          2799.308125,
          2799.308125
         ]
        },
        {
         "fill": "toself",
         "line": {
          "color": "green"
         },
         "mode": "lines",
         "showlegend": false,
         "type": "scatter",
         "x": [
          "2018-03-06T21:36:00",
          "2018-03-07T00:00:00",
          "2018-03-07T02:24:00",
          "2018-03-06T21:36:00"
         ],
         "y": [
          2797.828125,
          2865.05625,
          2797.828125,
          2797.828125
         ]
        },
        {
         "fill": "toself",
         "line": {
          "color": "green"
         },
         "mode": "lines",
         "showlegend": false,
         "type": "scatter",
         "x": [
          "2018-03-07T21:36:00",
          "2018-03-08T00:00:00",
          "2018-03-08T02:24:00",
          "2018-03-07T21:36:00"
         ],
         "y": [
          2807.678125,
          2874.90625,
          2807.678125,
          2807.678125
         ]
        },
        {
         "fill": "toself",
         "line": {
          "color": "green"
         },
         "mode": "lines",
         "showlegend": false,
         "type": "scatter",
         "x": [
          "2018-03-08T21:36:00",
          "2018-03-09T00:00:00",
          "2018-03-09T02:24:00",
          "2018-03-08T21:36:00"
         ],
         "y": [
          2853.7981250000003,
          2921.0262500000003,
          2853.7981250000003,
          2853.7981250000003
         ]
        },
        {
         "fill": "toself",
         "line": {
          "color": "green"
         },
         "mode": "lines",
         "showlegend": false,
         "type": "scatter",
         "x": [
          "2018-03-11T21:36:00",
          "2018-03-12T00:00:00",
          "2018-03-12T02:24:00",
          "2018-03-11T21:36:00"
         ],
         "y": [
          2864.208125,
          2931.43625,
          2864.208125,
          2864.208125
         ]
        },
        {
         "fill": "toself",
         "line": {
          "color": "red"
         },
         "mode": "lines",
         "showlegend": false,
         "type": "scatter",
         "x": [
          "2018-03-12T21:36:00",
          "2018-03-13T00:00:00",
          "2018-03-13T02:24:00",
          "2018-03-12T21:36:00"
         ],
         "y": [
          2869.128125,
          2936.3562500000003,
          2869.128125,
          2869.128125
         ]
        },
        {
         "fill": "toself",
         "line": {
          "color": "green"
         },
         "mode": "lines",
         "showlegend": false,
         "type": "scatter",
         "x": [
          "2018-03-13T21:36:00",
          "2018-03-14T00:00:00",
          "2018-03-14T02:24:00",
          "2018-03-13T21:36:00"
         ],
         "y": [
          2677.151875,
          2609.92375,
          2677.151875,
          2677.151875
         ]
        },
        {
         "fill": "toself",
         "line": {
          "color": "green"
         },
         "mode": "lines",
         "showlegend": false,
         "type": "scatter",
         "x": [
          "2018-03-14T21:36:00",
          "2018-03-15T00:00:00",
          "2018-03-15T02:24:00",
          "2018-03-14T21:36:00"
         ],
         "y": [
          2674.2418749999997,
          2607.0137499999996,
          2674.2418749999997,
          2674.2418749999997
         ]
        },
        {
         "fill": "toself",
         "line": {
          "color": "red"
         },
         "mode": "lines",
         "showlegend": false,
         "type": "scatter",
         "x": [
          "2018-03-15T21:36:00",
          "2018-03-16T00:00:00",
          "2018-03-16T02:24:00",
          "2018-03-15T21:36:00"
         ],
         "y": [
          2829.078125,
          2896.30625,
          2829.078125,
          2829.078125
         ]
        },
        {
         "fill": "toself",
         "line": {
          "color": "green"
         },
         "mode": "lines",
         "showlegend": false,
         "type": "scatter",
         "x": [
          "2018-03-18T21:36:00",
          "2018-03-19T00:00:00",
          "2018-03-19T02:24:00",
          "2018-03-18T21:36:00"
         ],
         "y": [
          2627.361875,
          2560.13375,
          2627.361875,
          2627.361875
         ]
        },
        {
         "fill": "toself",
         "line": {
          "color": "red"
         },
         "mode": "lines",
         "showlegend": false,
         "type": "scatter",
         "x": [
          "2018-03-19T21:36:00",
          "2018-03-20T00:00:00",
          "2018-03-20T02:24:00",
          "2018-03-19T21:36:00"
         ],
         "y": [
          2642.821875,
          2575.59375,
          2642.821875,
          2642.821875
         ]
        },
        {
         "fill": "toself",
         "line": {
          "color": "green"
         },
         "mode": "lines",
         "showlegend": false,
         "type": "scatter",
         "x": [
          "2018-03-20T21:36:00",
          "2018-03-21T00:00:00",
          "2018-03-21T02:24:00",
          "2018-03-20T21:36:00"
         ],
         "y": [
          2642.561875,
          2575.33375,
          2642.561875,
          2642.561875
         ]
        },
        {
         "fill": "toself",
         "line": {
          "color": "green"
         },
         "mode": "lines",
         "showlegend": false,
         "type": "scatter",
         "x": [
          "2018-03-21T21:36:00",
          "2018-03-22T00:00:00",
          "2018-03-22T02:24:00",
          "2018-03-21T21:36:00"
         ],
         "y": [
          2574.361875,
          2507.13375,
          2574.361875,
          2574.361875
         ]
        },
        {
         "fill": "toself",
         "line": {
          "color": "green"
         },
         "mode": "lines",
         "showlegend": false,
         "type": "scatter",
         "x": [
          "2018-03-22T21:36:00",
          "2018-03-23T00:00:00",
          "2018-03-23T02:24:00",
          "2018-03-22T21:36:00"
         ],
         "y": [
          2518.661875,
          2451.4337499999997,
          2518.661875,
          2518.661875
         ]
        },
        {
         "fill": "toself",
         "line": {
          "color": "green"
         },
         "mode": "lines",
         "showlegend": false,
         "type": "scatter",
         "x": [
          "2018-03-25T21:36:00",
          "2018-03-26T00:00:00",
          "2018-03-26T02:24:00",
          "2018-03-25T21:36:00"
         ],
         "y": [
          2728.588125,
          2795.8162500000003,
          2728.588125,
          2728.588125
         ]
        },
        {
         "fill": "toself",
         "line": {
          "color": "red"
         },
         "mode": "lines",
         "showlegend": false,
         "type": "scatter",
         "x": [
          "2018-03-26T21:36:00",
          "2018-03-27T00:00:00",
          "2018-03-27T02:24:00",
          "2018-03-26T21:36:00"
         ],
         "y": [
          2742.0081250000003,
          2809.2362500000004,
          2742.0081250000003,
          2742.0081250000003
         ]
        },
        {
         "fill": "toself",
         "line": {
          "color": "red"
         },
         "mode": "lines",
         "showlegend": false,
         "type": "scatter",
         "x": [
          "2018-03-27T21:36:00",
          "2018-03-28T00:00:00",
          "2018-03-28T02:24:00",
          "2018-03-27T21:36:00"
         ],
         "y": [
          2699.878125,
          2767.1062500000003,
          2699.878125,
          2699.878125
         ]
        },
        {
         "fill": "toself",
         "line": {
          "color": "red"
         },
         "mode": "lines",
         "showlegend": false,
         "type": "scatter",
         "x": [
          "2018-03-28T21:36:00",
          "2018-03-29T00:00:00",
          "2018-03-29T02:24:00",
          "2018-03-28T21:36:00"
         ],
         "y": [
          2542.4918749999997,
          2475.2637499999996,
          2542.4918749999997,
          2542.4918749999997
         ]
        },
        {
         "fill": "toself",
         "line": {
          "color": "red"
         },
         "mode": "lines",
         "showlegend": false,
         "type": "scatter",
         "x": [
          "2018-04-01T21:36:00",
          "2018-04-02T00:00:00",
          "2018-04-02T02:24:00",
          "2018-04-01T21:36:00"
         ],
         "y": [
          2705.5281250000003,
          2772.7562500000004,
          2705.5281250000003,
          2705.5281250000003
         ]
        },
        {
         "fill": "toself",
         "line": {
          "color": "red"
         },
         "mode": "lines",
         "showlegend": false,
         "type": "scatter",
         "x": [
          "2018-04-02T21:36:00",
          "2018-04-03T00:00:00",
          "2018-04-03T02:24:00",
          "2018-04-02T21:36:00"
         ],
         "y": [
          2508.2618749999997,
          2441.0337499999996,
          2508.2618749999997,
          2508.2618749999997
         ]
        },
        {
         "fill": "toself",
         "line": {
          "color": "red"
         },
         "mode": "lines",
         "showlegend": false,
         "type": "scatter",
         "x": [
          "2018-04-03T21:36:00",
          "2018-04-04T00:00:00",
          "2018-04-04T02:24:00",
          "2018-04-03T21:36:00"
         ],
         "y": [
          2506.381875,
          2439.15375,
          2506.381875,
          2506.381875
         ]
        },
        {
         "fill": "toself",
         "line": {
          "color": "red"
         },
         "mode": "lines",
         "showlegend": false,
         "type": "scatter",
         "x": [
          "2018-04-04T21:36:00",
          "2018-04-05T00:00:00",
          "2018-04-05T02:24:00",
          "2018-04-04T21:36:00"
         ],
         "y": [
          2739.308125,
          2806.53625,
          2739.308125,
          2739.308125
         ]
        },
        {
         "fill": "toself",
         "line": {
          "color": "red"
         },
         "mode": "lines",
         "showlegend": false,
         "type": "scatter",
         "x": [
          "2018-04-05T21:36:00",
          "2018-04-06T00:00:00",
          "2018-04-06T02:24:00",
          "2018-04-05T21:36:00"
         ],
         "y": [
          2724.108125,
          2791.3362500000003,
          2724.108125,
          2724.108125
         ]
        },
        {
         "fill": "toself",
         "line": {
          "color": "red"
         },
         "mode": "lines",
         "showlegend": false,
         "type": "scatter",
         "x": [
          "2018-04-08T21:36:00",
          "2018-04-09T00:00:00",
          "2018-04-09T02:24:00",
          "2018-04-08T21:36:00"
         ],
         "y": [
          2720.7781250000003,
          2788.0062500000004,
          2720.7781250000003,
          2720.7781250000003
         ]
        },
        {
         "fill": "toself",
         "line": {
          "color": "green"
         },
         "mode": "lines",
         "showlegend": false,
         "type": "scatter",
         "x": [
          "2018-04-09T21:36:00",
          "2018-04-10T00:00:00",
          "2018-04-10T02:24:00",
          "2018-04-09T21:36:00"
         ],
         "y": [
          2732.678125,
          2799.90625,
          2732.678125,
          2732.678125
         ]
        },
        {
         "fill": "toself",
         "line": {
          "color": "red"
         },
         "mode": "lines",
         "showlegend": false,
         "type": "scatter",
         "x": [
          "2018-04-10T21:36:00",
          "2018-04-11T00:00:00",
          "2018-04-11T02:24:00",
          "2018-04-10T21:36:00"
         ],
         "y": [
          2572.021875,
          2504.79375,
          2572.021875,
          2572.021875
         ]
        },
        {
         "fill": "toself",
         "line": {
          "color": "red"
         },
         "mode": "lines",
         "showlegend": false,
         "type": "scatter",
         "x": [
          "2018-04-11T21:36:00",
          "2018-04-12T00:00:00",
          "2018-04-12T02:24:00",
          "2018-04-11T21:36:00"
         ],
         "y": [
          2586.601875,
          2519.3737499999997,
          2586.601875,
          2586.601875
         ]
        },
        {
         "fill": "toself",
         "line": {
          "color": "green"
         },
         "mode": "lines",
         "showlegend": false,
         "type": "scatter",
         "x": [
          "2018-04-12T21:36:00",
          "2018-04-13T00:00:00",
          "2018-04-13T02:24:00",
          "2018-04-12T21:36:00"
         ],
         "y": [
          2577.821875,
          2510.59375,
          2577.821875,
          2577.821875
         ]
        },
        {
         "fill": "toself",
         "line": {
          "color": "green"
         },
         "mode": "lines",
         "showlegend": false,
         "type": "scatter",
         "x": [
          "2018-04-15T21:36:00",
          "2018-04-16T00:00:00",
          "2018-04-16T02:24:00",
          "2018-04-15T21:36:00"
         ],
         "y": [
          2753.718125,
          2820.94625,
          2753.718125,
          2753.718125
         ]
        },
        {
         "fill": "toself",
         "line": {
          "color": "red"
         },
         "mode": "lines",
         "showlegend": false,
         "type": "scatter",
         "x": [
          "2018-04-16T21:36:00",
          "2018-04-17T00:00:00",
          "2018-04-17T02:24:00",
          "2018-04-16T21:36:00"
         ],
         "y": [
          2624.821875,
          2557.59375,
          2624.821875,
          2624.821875
         ]
        },
        {
         "fill": "toself",
         "line": {
          "color": "green"
         },
         "mode": "lines",
         "showlegend": false,
         "type": "scatter",
         "x": [
          "2018-04-17T21:36:00",
          "2018-04-18T00:00:00",
          "2018-04-18T02:24:00",
          "2018-04-17T21:36:00"
         ],
         "y": [
          2784.718125,
          2851.94625,
          2784.718125,
          2784.718125
         ]
        },
        {
         "fill": "toself",
         "line": {
          "color": "red"
         },
         "mode": "lines",
         "showlegend": false,
         "type": "scatter",
         "x": [
          "2018-04-18T21:36:00",
          "2018-04-19T00:00:00",
          "2018-04-19T02:24:00",
          "2018-04-18T21:36:00"
         ],
         "y": [
          2770.0681250000002,
          2837.2962500000003,
          2770.0681250000002,
          2770.0681250000002
         ]
        },
        {
         "fill": "toself",
         "line": {
          "color": "green"
         },
         "mode": "lines",
         "showlegend": false,
         "type": "scatter",
         "x": [
          "2018-04-19T21:36:00",
          "2018-04-20T00:00:00",
          "2018-04-20T02:24:00",
          "2018-04-19T21:36:00"
         ],
         "y": [
          2593.381875,
          2526.15375,
          2593.381875,
          2593.381875
         ]
        },
        {
         "fill": "toself",
         "line": {
          "color": "green"
         },
         "mode": "lines",
         "showlegend": false,
         "type": "scatter",
         "x": [
          "2018-04-22T21:36:00",
          "2018-04-23T00:00:00",
          "2018-04-23T02:24:00",
          "2018-04-22T21:36:00"
         ],
         "y": [
          2590.7618749999997,
          2523.5337499999996,
          2590.7618749999997,
          2590.7618749999997
         ]
        },
        {
         "fill": "toself",
         "line": {
          "color": "green"
         },
         "mode": "lines",
         "showlegend": false,
         "type": "scatter",
         "x": [
          "2018-04-23T21:36:00",
          "2018-04-24T00:00:00",
          "2018-04-24T02:24:00",
          "2018-04-23T21:36:00"
         ],
         "y": [
          2550.091875,
          2482.86375,
          2550.091875,
          2550.091875
         ]
        },
        {
         "fill": "toself",
         "line": {
          "color": "green"
         },
         "mode": "lines",
         "showlegend": false,
         "type": "scatter",
         "x": [
          "2018-04-24T21:36:00",
          "2018-04-25T00:00:00",
          "2018-04-25T02:24:00",
          "2018-04-24T21:36:00"
         ],
         "y": [
          2545.441875,
          2478.21375,
          2545.441875,
          2545.441875
         ]
        },
        {
         "fill": "toself",
         "line": {
          "color": "green"
         },
         "mode": "lines",
         "showlegend": false,
         "type": "scatter",
         "x": [
          "2018-04-25T21:36:00",
          "2018-04-26T00:00:00",
          "2018-04-26T02:24:00",
          "2018-04-25T21:36:00"
         ],
         "y": [
          2743.708125,
          2810.93625,
          2743.708125,
          2743.708125
         ]
        },
        {
         "fill": "toself",
         "line": {
          "color": "red"
         },
         "mode": "lines",
         "showlegend": false,
         "type": "scatter",
         "x": [
          "2018-04-26T21:36:00",
          "2018-04-27T00:00:00",
          "2018-04-27T02:24:00",
          "2018-04-26T21:36:00"
         ],
         "y": [
          2744.578125,
          2811.80625,
          2744.578125,
          2744.578125
         ]
        },
        {
         "fill": "toself",
         "line": {
          "color": "green"
         },
         "mode": "lines",
         "showlegend": false,
         "type": "scatter",
         "x": [
          "2018-04-29T21:36:00",
          "2018-04-30T00:00:00",
          "2018-04-30T02:24:00",
          "2018-04-29T21:36:00"
         ],
         "y": [
          2580.811875,
          2513.58375,
          2580.811875,
          2580.811875
         ]
        },
        {
         "fill": "toself",
         "line": {
          "color": "red"
         },
         "mode": "lines",
         "showlegend": false,
         "type": "scatter",
         "x": [
          "2018-04-30T21:36:00",
          "2018-05-01T00:00:00",
          "2018-05-01T02:24:00",
          "2018-04-30T21:36:00"
         ],
         "y": [
          2558.1818749999998,
          2490.9537499999997,
          2558.1818749999998,
          2558.1818749999998
         ]
        },
        {
         "fill": "toself",
         "line": {
          "color": "red"
         },
         "mode": "lines",
         "showlegend": false,
         "type": "scatter",
         "x": [
          "2018-05-01T21:36:00",
          "2018-05-02T00:00:00",
          "2018-05-02T02:24:00",
          "2018-05-01T21:36:00"
         ],
         "y": [
          2728.098125,
          2795.32625,
          2728.098125,
          2728.098125
         ]
        },
        {
         "fill": "toself",
         "line": {
          "color": "red"
         },
         "mode": "lines",
         "showlegend": false,
         "type": "scatter",
         "x": [
          "2018-05-02T21:36:00",
          "2018-05-03T00:00:00",
          "2018-05-03T02:24:00",
          "2018-05-02T21:36:00"
         ],
         "y": [
          2527.391875,
          2460.1637499999997,
          2527.391875,
          2527.391875
         ]
        },
        {
         "fill": "toself",
         "line": {
          "color": "green"
         },
         "mode": "lines",
         "showlegend": false,
         "type": "scatter",
         "x": [
          "2018-05-03T21:36:00",
          "2018-05-04T00:00:00",
          "2018-05-04T02:24:00",
          "2018-05-03T21:36:00"
         ],
         "y": [
          2738.158125,
          2805.38625,
          2738.158125,
          2738.158125
         ]
        },
        {
         "fill": "toself",
         "line": {
          "color": "green"
         },
         "mode": "lines",
         "showlegend": false,
         "type": "scatter",
         "x": [
          "2018-05-06T21:36:00",
          "2018-05-07T00:00:00",
          "2018-05-07T02:24:00",
          "2018-05-06T21:36:00"
         ],
         "y": [
          2750.578125,
          2817.80625,
          2750.578125,
          2750.578125
         ]
        },
        {
         "fill": "toself",
         "line": {
          "color": "green"
         },
         "mode": "lines",
         "showlegend": false,
         "type": "scatter",
         "x": [
          "2018-05-07T21:36:00",
          "2018-05-08T00:00:00",
          "2018-05-08T02:24:00",
          "2018-05-07T21:36:00"
         ],
         "y": [
          2743.5681250000002,
          2810.7962500000003,
          2743.5681250000002,
          2743.5681250000002
         ]
        },
        {
         "fill": "toself",
         "line": {
          "color": "red"
         },
         "mode": "lines",
         "showlegend": false,
         "type": "scatter",
         "x": [
          "2018-05-08T21:36:00",
          "2018-05-09T00:00:00",
          "2018-05-09T02:24:00",
          "2018-05-08T21:36:00"
         ],
         "y": [
          2606.911875,
          2539.6837499999997,
          2606.911875,
          2606.911875
         ]
        },
        {
         "fill": "toself",
         "line": {
          "color": "green"
         },
         "mode": "lines",
         "showlegend": false,
         "type": "scatter",
         "x": [
          "2018-05-09T21:36:00",
          "2018-05-10T00:00:00",
          "2018-05-10T02:24:00",
          "2018-05-09T21:36:00"
         ],
         "y": [
          2793.338125,
          2860.5662500000003,
          2793.338125,
          2793.338125
         ]
        },
        {
         "fill": "toself",
         "line": {
          "color": "green"
         },
         "mode": "lines",
         "showlegend": false,
         "type": "scatter",
         "x": [
          "2018-05-10T21:36:00",
          "2018-05-11T00:00:00",
          "2018-05-11T02:24:00",
          "2018-05-10T21:36:00"
         ],
         "y": [
          2800.088125,
          2867.3162500000003,
          2800.088125,
          2800.088125
         ]
        },
        {
         "fill": "toself",
         "line": {
          "color": "green"
         },
         "mode": "lines",
         "showlegend": false,
         "type": "scatter",
         "x": [
          "2018-05-13T21:36:00",
          "2018-05-14T00:00:00",
          "2018-05-14T02:24:00",
          "2018-05-13T21:36:00"
         ],
         "y": [
          2658.2418749999997,
          2591.0137499999996,
          2658.2418749999997,
          2658.2418749999997
         ]
        },
        {
         "fill": "toself",
         "line": {
          "color": "green"
         },
         "mode": "lines",
         "showlegend": false,
         "type": "scatter",
         "x": [
          "2018-05-14T21:36:00",
          "2018-05-15T00:00:00",
          "2018-05-15T02:24:00",
          "2018-05-14T21:36:00"
         ],
         "y": [
          2634.6818749999998,
          2567.4537499999997,
          2634.6818749999998,
          2634.6818749999998
         ]
        },
        {
         "fill": "toself",
         "line": {
          "color": "red"
         },
         "mode": "lines",
         "showlegend": false,
         "type": "scatter",
         "x": [
          "2018-05-15T21:36:00",
          "2018-05-16T00:00:00",
          "2018-05-16T02:24:00",
          "2018-05-15T21:36:00"
         ],
         "y": [
          2644.941875,
          2577.71375,
          2644.941875,
          2644.941875
         ]
        },
        {
         "fill": "toself",
         "line": {
          "color": "red"
         },
         "mode": "lines",
         "showlegend": false,
         "type": "scatter",
         "x": [
          "2018-05-16T21:36:00",
          "2018-05-17T00:00:00",
          "2018-05-17T02:24:00",
          "2018-05-16T21:36:00"
         ],
         "y": [
          2644.131875,
          2576.90375,
          2644.131875,
          2644.131875
         ]
        },
        {
         "fill": "toself",
         "line": {
          "color": "red"
         },
         "mode": "lines",
         "showlegend": false,
         "type": "scatter",
         "x": [
          "2018-05-17T21:36:00",
          "2018-05-18T00:00:00",
          "2018-05-18T02:24:00",
          "2018-05-17T21:36:00"
         ],
         "y": [
          2786.728125,
          2853.95625,
          2786.728125,
          2786.728125
         ]
        },
        {
         "fill": "toself",
         "line": {
          "color": "red"
         },
         "mode": "lines",
         "showlegend": false,
         "type": "scatter",
         "x": [
          "2018-05-20T21:36:00",
          "2018-05-21T00:00:00",
          "2018-05-21T02:24:00",
          "2018-05-20T21:36:00"
         ],
         "y": [
          2806.418125,
          2873.6462500000002,
          2806.418125,
          2806.418125
         ]
        },
        {
         "fill": "toself",
         "line": {
          "color": "green"
         },
         "mode": "lines",
         "showlegend": false,
         "type": "scatter",
         "x": [
          "2018-05-21T21:36:00",
          "2018-05-22T00:00:00",
          "2018-05-22T02:24:00",
          "2018-05-21T21:36:00"
         ],
         "y": [
          2654.651875,
          2587.42375,
          2654.651875,
          2654.651875
         ]
        },
        {
         "fill": "toself",
         "line": {
          "color": "green"
         },
         "mode": "lines",
         "showlegend": false,
         "type": "scatter",
         "x": [
          "2018-05-22T21:36:00",
          "2018-05-23T00:00:00",
          "2018-05-23T02:24:00",
          "2018-05-22T21:36:00"
         ],
         "y": [
          2800.558125,
          2867.78625,
          2800.558125,
          2800.558125
         ]
        },
        {
         "fill": "toself",
         "line": {
          "color": "green"
         },
         "mode": "lines",
         "showlegend": false,
         "type": "scatter",
         "x": [
          "2018-05-23T21:36:00",
          "2018-05-24T00:00:00",
          "2018-05-24T02:24:00",
          "2018-05-23T21:36:00"
         ],
         "y": [
          2799.198125,
          2866.42625,
          2799.198125,
          2799.198125
         ]
        },
        {
         "fill": "toself",
         "line": {
          "color": "green"
         },
         "mode": "lines",
         "showlegend": false,
         "type": "scatter",
         "x": [
          "2018-05-24T21:36:00",
          "2018-05-25T00:00:00",
          "2018-05-25T02:24:00",
          "2018-05-24T21:36:00"
         ],
         "y": [
          2794.588125,
          2861.8162500000003,
          2794.588125,
          2794.588125
         ]
        },
        {
         "fill": "toself",
         "line": {
          "color": "red"
         },
         "mode": "lines",
         "showlegend": false,
         "type": "scatter",
         "x": [
          "2018-05-28T21:36:00",
          "2018-05-29T00:00:00",
          "2018-05-29T02:24:00",
          "2018-05-28T21:36:00"
         ],
         "y": [
          2777.898125,
          2845.1262500000003,
          2777.898125,
          2777.898125
         ]
        },
        {
         "fill": "toself",
         "line": {
          "color": "red"
         },
         "mode": "lines",
         "showlegend": false,
         "type": "scatter",
         "x": [
          "2018-05-29T21:36:00",
          "2018-05-30T00:00:00",
          "2018-05-30T02:24:00",
          "2018-05-29T21:36:00"
         ],
         "y": [
          2635.2018749999997,
          2567.9737499999997,
          2635.2018749999997,
          2635.2018749999997
         ]
        },
        {
         "fill": "toself",
         "line": {
          "color": "green"
         },
         "mode": "lines",
         "showlegend": false,
         "type": "scatter",
         "x": [
          "2018-05-30T21:36:00",
          "2018-05-31T00:00:00",
          "2018-05-31T02:24:00",
          "2018-05-30T21:36:00"
         ],
         "y": [
          2633.4518749999997,
          2566.2237499999997,
          2633.4518749999997,
          2633.4518749999997
         ]
        },
        {
         "fill": "toself",
         "line": {
          "color": "green"
         },
         "mode": "lines",
         "showlegend": false,
         "type": "scatter",
         "x": [
          "2018-05-31T21:36:00",
          "2018-06-01T00:00:00",
          "2018-06-01T02:24:00",
          "2018-05-31T21:36:00"
         ],
         "y": [
          2804.158125,
          2871.38625,
          2804.158125,
          2804.158125
         ]
        },
        {
         "fill": "toself",
         "line": {
          "color": "green"
         },
         "mode": "lines",
         "showlegend": false,
         "type": "scatter",
         "x": [
          "2018-06-03T21:36:00",
          "2018-06-04T00:00:00",
          "2018-06-04T02:24:00",
          "2018-06-03T21:36:00"
         ],
         "y": [
          2816.388125,
          2883.61625,
          2816.388125,
          2816.388125
         ]
        },
        {
         "fill": "toself",
         "line": {
          "color": "green"
         },
         "mode": "lines",
         "showlegend": false,
         "type": "scatter",
         "x": [
          "2018-06-04T21:36:00",
          "2018-06-05T00:00:00",
          "2018-06-05T02:24:00",
          "2018-06-04T21:36:00"
         ],
         "y": [
          2819.838125,
          2887.0662500000003,
          2819.838125,
          2819.838125
         ]
        },
        {
         "fill": "toself",
         "line": {
          "color": "green"
         },
         "mode": "lines",
         "showlegend": false,
         "type": "scatter",
         "x": [
          "2018-06-05T21:36:00",
          "2018-06-06T00:00:00",
          "2018-06-06T02:24:00",
          "2018-06-05T21:36:00"
         ],
         "y": [
          2839.618125,
          2906.84625,
          2839.618125,
          2839.618125
         ]
        },
        {
         "fill": "toself",
         "line": {
          "color": "red"
         },
         "mode": "lines",
         "showlegend": false,
         "type": "scatter",
         "x": [
          "2018-06-06T21:36:00",
          "2018-06-07T00:00:00",
          "2018-06-07T02:24:00",
          "2018-06-06T21:36:00"
         ],
         "y": [
          2847.128125,
          2914.3562500000003,
          2847.128125,
          2847.128125
         ]
        },
        {
         "fill": "toself",
         "line": {
          "color": "green"
         },
         "mode": "lines",
         "showlegend": false,
         "type": "scatter",
         "x": [
          "2018-06-07T21:36:00",
          "2018-06-08T00:00:00",
          "2018-06-08T02:24:00",
          "2018-06-07T21:36:00"
         ],
         "y": [
          2846.618125,
          2913.84625,
          2846.618125,
          2846.618125
         ]
        },
        {
         "fill": "toself",
         "line": {
          "color": "red"
         },
         "mode": "lines",
         "showlegend": false,
         "type": "scatter",
         "x": [
          "2018-06-10T21:36:00",
          "2018-06-11T00:00:00",
          "2018-06-11T02:24:00",
          "2018-06-10T21:36:00"
         ],
         "y": [
          2712.941875,
          2645.71375,
          2712.941875,
          2712.941875
         ]
        },
        {
         "fill": "toself",
         "line": {
          "color": "green"
         },
         "mode": "lines",
         "showlegend": false,
         "type": "scatter",
         "x": [
          "2018-06-11T21:36:00",
          "2018-06-12T00:00:00",
          "2018-06-12T02:24:00",
          "2018-06-11T21:36:00"
         ],
         "y": [
          2857.0281250000003,
          2924.2562500000004,
          2857.0281250000003,
          2857.0281250000003
         ]
        },
        {
         "fill": "toself",
         "line": {
          "color": "green"
         },
         "mode": "lines",
         "showlegend": false,
         "type": "scatter",
         "x": [
          "2018-06-12T21:36:00",
          "2018-06-13T00:00:00",
          "2018-06-13T02:24:00",
          "2018-06-12T21:36:00"
         ],
         "y": [
          2707.421875,
          2640.19375,
          2707.421875,
          2707.421875
         ]
        },
        {
         "fill": "toself",
         "line": {
          "color": "green"
         },
         "mode": "lines",
         "showlegend": false,
         "type": "scatter",
         "x": [
          "2018-06-13T21:36:00",
          "2018-06-14T00:00:00",
          "2018-06-14T02:24:00",
          "2018-06-13T21:36:00"
         ],
         "y": [
          2856.288125,
          2923.51625,
          2856.288125,
          2856.288125
         ]
        },
        {
         "fill": "toself",
         "line": {
          "color": "green"
         },
         "mode": "lines",
         "showlegend": false,
         "type": "scatter",
         "x": [
          "2018-06-14T21:36:00",
          "2018-06-15T00:00:00",
          "2018-06-15T02:24:00",
          "2018-06-14T21:36:00"
         ],
         "y": [
          2850.038125,
          2917.26625,
          2850.038125,
          2850.038125
         ]
        },
        {
         "fill": "toself",
         "line": {
          "color": "green"
         },
         "mode": "lines",
         "showlegend": false,
         "type": "scatter",
         "x": [
          "2018-06-17T21:36:00",
          "2018-06-18T00:00:00",
          "2018-06-18T02:24:00",
          "2018-06-17T21:36:00"
         ],
         "y": [
          2842.218125,
          2909.44625,
          2842.218125,
          2842.218125
         ]
        },
        {
         "fill": "toself",
         "line": {
          "color": "red"
         },
         "mode": "lines",
         "showlegend": false,
         "type": "scatter",
         "x": [
          "2018-06-18T21:36:00",
          "2018-06-19T00:00:00",
          "2018-06-19T02:24:00",
          "2018-06-18T21:36:00"
         ],
         "y": [
          2675.961875,
          2608.73375,
          2675.961875,
          2675.961875
         ]
        },
        {
         "fill": "toself",
         "line": {
          "color": "red"
         },
         "mode": "lines",
         "showlegend": false,
         "type": "scatter",
         "x": [
          "2018-06-19T21:36:00",
          "2018-06-20T00:00:00",
          "2018-06-20T02:24:00",
          "2018-06-19T21:36:00"
         ],
         "y": [
          2696.6818749999998,
          2629.4537499999997,
          2696.6818749999998,
          2696.6818749999998
         ]
        },
        {
         "fill": "toself",
         "line": {
          "color": "green"
         },
         "mode": "lines",
         "showlegend": false,
         "type": "scatter",
         "x": [
          "2018-06-20T21:36:00",
          "2018-06-21T00:00:00",
          "2018-06-21T02:24:00",
          "2018-06-20T21:36:00"
         ],
         "y": [
          2677.161875,
          2609.9337499999997,
          2677.161875,
          2677.161875
         ]
        },
        {
         "fill": "toself",
         "line": {
          "color": "red"
         },
         "mode": "lines",
         "showlegend": false,
         "type": "scatter",
         "x": [
          "2018-06-21T21:36:00",
          "2018-06-22T00:00:00",
          "2018-06-22T02:24:00",
          "2018-06-21T21:36:00"
         ],
         "y": [
          2831.398125,
          2898.6262500000003,
          2831.398125,
          2831.398125
         ]
        },
        {
         "fill": "toself",
         "line": {
          "color": "green"
         },
         "mode": "lines",
         "showlegend": false,
         "type": "scatter",
         "x": [
          "2018-06-24T21:36:00",
          "2018-06-25T00:00:00",
          "2018-06-25T02:24:00",
          "2018-06-24T21:36:00"
         ],
         "y": [
          2631.441875,
          2564.21375,
          2631.441875,
          2631.441875
         ]
        },
        {
         "fill": "toself",
         "line": {
          "color": "red"
         },
         "mode": "lines",
         "showlegend": false,
         "type": "scatter",
         "x": [
          "2018-06-25T21:36:00",
          "2018-06-26T00:00:00",
          "2018-06-26T02:24:00",
          "2018-06-25T21:36:00"
         ],
         "y": [
          2648.371875,
          2581.1437499999997,
          2648.371875,
          2648.371875
         ]
        },
        {
         "fill": "toself",
         "line": {
          "color": "green"
         },
         "mode": "lines",
         "showlegend": false,
         "type": "scatter",
         "x": [
          "2018-06-26T21:36:00",
          "2018-06-27T00:00:00",
          "2018-06-27T02:24:00",
          "2018-06-26T21:36:00"
         ],
         "y": [
          2632.151875,
          2564.92375,
          2632.151875,
          2632.151875
         ]
        },
        {
         "fill": "toself",
         "line": {
          "color": "red"
         },
         "mode": "lines",
         "showlegend": false,
         "type": "scatter",
         "x": [
          "2018-06-27T21:36:00",
          "2018-06-28T00:00:00",
          "2018-06-28T02:24:00",
          "2018-06-27T21:36:00"
         ],
         "y": [
          2624.7618749999997,
          2557.5337499999996,
          2624.7618749999997,
          2624.7618749999997
         ]
        },
        {
         "fill": "toself",
         "line": {
          "color": "red"
         },
         "mode": "lines",
         "showlegend": false,
         "type": "scatter",
         "x": [
          "2018-06-28T21:36:00",
          "2018-06-29T00:00:00",
          "2018-06-29T02:24:00",
          "2018-06-28T21:36:00"
         ],
         "y": [
          2810.4881250000003,
          2877.7162500000004,
          2810.4881250000003,
          2810.4881250000003
         ]
        },
        {
         "fill": "toself",
         "line": {
          "color": "green"
         },
         "mode": "lines",
         "showlegend": false,
         "type": "scatter",
         "x": [
          "2018-07-01T21:36:00",
          "2018-07-02T00:00:00",
          "2018-07-02T02:24:00",
          "2018-07-01T21:36:00"
         ],
         "y": [
          2794.4881250000003,
          2861.7162500000004,
          2794.4881250000003,
          2794.4881250000003
         ]
        },
        {
         "fill": "toself",
         "line": {
          "color": "red"
         },
         "mode": "lines",
         "showlegend": false,
         "type": "scatter",
         "x": [
          "2018-07-02T21:36:00",
          "2018-07-03T00:00:00",
          "2018-07-03T02:24:00",
          "2018-07-02T21:36:00"
         ],
         "y": [
          2803.808125,
          2871.03625,
          2803.808125,
          2803.808125
         ]
        },
        {
         "fill": "toself",
         "line": {
          "color": "red"
         },
         "mode": "lines",
         "showlegend": false,
         "type": "scatter",
         "x": [
          "2018-07-04T21:36:00",
          "2018-07-05T00:00:00",
          "2018-07-05T02:24:00",
          "2018-07-04T21:36:00"
         ],
         "y": [
          2648.791875,
          2581.56375,
          2648.791875,
          2648.791875
         ]
        },
        {
         "fill": "toself",
         "line": {
          "color": "red"
         },
         "mode": "lines",
         "showlegend": false,
         "type": "scatter",
         "x": [
          "2018-07-05T21:36:00",
          "2018-07-06T00:00:00",
          "2018-07-06T02:24:00",
          "2018-07-05T21:36:00"
         ],
         "y": [
          2666.291875,
          2599.06375,
          2666.291875,
          2666.291875
         ]
        },
        {
         "fill": "toself",
         "line": {
          "color": "green"
         },
         "mode": "lines",
         "showlegend": false,
         "type": "scatter",
         "x": [
          "2018-07-08T21:36:00",
          "2018-07-09T00:00:00",
          "2018-07-09T02:24:00",
          "2018-07-08T21:36:00"
         ],
         "y": [
          2851.878125,
          2919.1062500000003,
          2851.878125,
          2851.878125
         ]
        },
        {
         "fill": "toself",
         "line": {
          "color": "red"
         },
         "mode": "lines",
         "showlegend": false,
         "type": "scatter",
         "x": [
          "2018-07-09T21:36:00",
          "2018-07-10T00:00:00",
          "2018-07-10T02:24:00",
          "2018-07-09T21:36:00"
         ],
         "y": [
          2862.808125,
          2930.03625,
          2862.808125,
          2862.808125
         ]
        },
        {
         "fill": "toself",
         "line": {
          "color": "green"
         },
         "mode": "lines",
         "showlegend": false,
         "type": "scatter",
         "x": [
          "2018-07-10T21:36:00",
          "2018-07-11T00:00:00",
          "2018-07-11T02:24:00",
          "2018-07-10T21:36:00"
         ],
         "y": [
          2853.138125,
          2920.36625,
          2853.138125,
          2853.138125
         ]
        },
        {
         "fill": "toself",
         "line": {
          "color": "green"
         },
         "mode": "lines",
         "showlegend": false,
         "type": "scatter",
         "x": [
          "2018-07-11T21:36:00",
          "2018-07-12T00:00:00",
          "2018-07-12T02:24:00",
          "2018-07-11T21:36:00"
         ],
         "y": [
          2866.448125,
          2933.67625,
          2866.448125,
          2866.448125
         ]
        },
        {
         "fill": "toself",
         "line": {
          "color": "green"
         },
         "mode": "lines",
         "showlegend": false,
         "type": "scatter",
         "x": [
          "2018-07-12T21:36:00",
          "2018-07-13T00:00:00",
          "2018-07-13T02:24:00",
          "2018-07-12T21:36:00"
         ],
         "y": [
          2724.461875,
          2657.23375,
          2724.461875,
          2724.461875
         ]
        },
        {
         "fill": "toself",
         "line": {
          "color": "red"
         },
         "mode": "lines",
         "showlegend": false,
         "type": "scatter",
         "x": [
          "2018-07-15T21:36:00",
          "2018-07-16T00:00:00",
          "2018-07-16T02:24:00",
          "2018-07-15T21:36:00"
         ],
         "y": [
          2870.938125,
          2938.16625,
          2870.938125,
          2870.938125
         ]
        },
        {
         "fill": "toself",
         "line": {
          "color": "red"
         },
         "mode": "lines",
         "showlegend": false,
         "type": "scatter",
         "x": [
          "2018-07-16T21:36:00",
          "2018-07-17T00:00:00",
          "2018-07-17T02:24:00",
          "2018-07-16T21:36:00"
         ],
         "y": [
          2722.0118749999997,
          2654.7837499999996,
          2722.0118749999997,
          2722.0118749999997
         ]
        },
        {
         "fill": "toself",
         "line": {
          "color": "red"
         },
         "mode": "lines",
         "showlegend": false,
         "type": "scatter",
         "x": [
          "2018-07-17T21:36:00",
          "2018-07-18T00:00:00",
          "2018-07-18T02:24:00",
          "2018-07-17T21:36:00"
         ],
         "y": [
          2883.9881250000003,
          2951.2162500000004,
          2883.9881250000003,
          2883.9881250000003
         ]
        },
        {
         "fill": "toself",
         "line": {
          "color": "red"
         },
         "mode": "lines",
         "showlegend": false,
         "type": "scatter",
         "x": [
          "2018-07-18T21:36:00",
          "2018-07-19T00:00:00",
          "2018-07-19T02:24:00",
          "2018-07-18T21:36:00"
         ],
         "y": [
          2879.2781250000003,
          2946.5062500000004,
          2879.2781250000003,
          2879.2781250000003
         ]
        },
        {
         "fill": "toself",
         "line": {
          "color": "red"
         },
         "mode": "lines",
         "showlegend": false,
         "type": "scatter",
         "x": [
          "2018-07-19T21:36:00",
          "2018-07-20T00:00:00",
          "2018-07-20T02:24:00",
          "2018-07-19T21:36:00"
         ],
         "y": [
          2876.928125,
          2944.15625,
          2876.928125,
          2876.928125
         ]
        },
        {
         "fill": "toself",
         "line": {
          "color": "red"
         },
         "mode": "lines",
         "showlegend": false,
         "type": "scatter",
         "x": [
          "2018-07-22T21:36:00",
          "2018-07-23T00:00:00",
          "2018-07-23T02:24:00",
          "2018-07-22T21:36:00"
         ],
         "y": [
          2727.911875,
          2660.6837499999997,
          2727.911875,
          2727.911875
         ]
        },
        {
         "fill": "toself",
         "line": {
          "color": "green"
         },
         "mode": "lines",
         "showlegend": false,
         "type": "scatter",
         "x": [
          "2018-07-23T21:36:00",
          "2018-07-24T00:00:00",
          "2018-07-24T02:24:00",
          "2018-07-23T21:36:00"
         ],
         "y": [
          2743.891875,
          2676.6637499999997,
          2743.891875,
          2743.891875
         ]
        },
        {
         "fill": "toself",
         "line": {
          "color": "green"
         },
         "mode": "lines",
         "showlegend": false,
         "type": "scatter",
         "x": [
          "2018-07-24T21:36:00",
          "2018-07-25T00:00:00",
          "2018-07-25T02:24:00",
          "2018-07-24T21:36:00"
         ],
         "y": [
          2915.2581250000003,
          2982.4862500000004,
          2915.2581250000003,
          2915.2581250000003
         ]
        },
        {
         "fill": "toself",
         "line": {
          "color": "green"
         },
         "mode": "lines",
         "showlegend": false,
         "type": "scatter",
         "x": [
          "2018-07-25T21:36:00",
          "2018-07-26T00:00:00",
          "2018-07-26T02:24:00",
          "2018-07-25T21:36:00"
         ],
         "y": [
          2912.7981250000003,
          2980.0262500000003,
          2912.7981250000003,
          2912.7981250000003
         ]
        },
        {
         "fill": "toself",
         "line": {
          "color": "green"
         },
         "mode": "lines",
         "showlegend": false,
         "type": "scatter",
         "x": [
          "2018-07-26T21:36:00",
          "2018-07-27T00:00:00",
          "2018-07-27T02:24:00",
          "2018-07-26T21:36:00"
         ],
         "y": [
          2741.111875,
          2673.88375,
          2741.111875,
          2741.111875
         ]
        },
        {
         "fill": "toself",
         "line": {
          "color": "green"
         },
         "mode": "lines",
         "showlegend": false,
         "type": "scatter",
         "x": [
          "2018-07-29T21:36:00",
          "2018-07-30T00:00:00",
          "2018-07-30T02:24:00",
          "2018-07-29T21:36:00"
         ],
         "y": [
          2730.881875,
          2663.65375,
          2730.881875,
          2730.881875
         ]
        },
        {
         "fill": "toself",
         "line": {
          "color": "red"
         },
         "mode": "lines",
         "showlegend": false,
         "type": "scatter",
         "x": [
          "2018-07-30T21:36:00",
          "2018-07-31T00:00:00",
          "2018-07-31T02:24:00",
          "2018-07-30T21:36:00"
         ],
         "y": [
          2740.831875,
          2673.6037499999998,
          2740.831875,
          2740.831875
         ]
        },
        {
         "fill": "toself",
         "line": {
          "color": "red"
         },
         "mode": "lines",
         "showlegend": false,
         "type": "scatter",
         "x": [
          "2018-07-31T21:36:00",
          "2018-08-01T00:00:00",
          "2018-08-01T02:24:00",
          "2018-07-31T21:36:00"
         ],
         "y": [
          2738.621875,
          2671.3937499999997,
          2738.621875,
          2738.621875
         ]
        },
        {
         "fill": "toself",
         "line": {
          "color": "green"
         },
         "mode": "lines",
         "showlegend": false,
         "type": "scatter",
         "x": [
          "2018-08-01T21:36:00",
          "2018-08-02T00:00:00",
          "2018-08-02T02:24:00",
          "2018-08-01T21:36:00"
         ],
         "y": [
          2897.138125,
          2964.36625,
          2897.138125,
          2897.138125
         ]
        },
        {
         "fill": "toself",
         "line": {
          "color": "red"
         },
         "mode": "lines",
         "showlegend": false,
         "type": "scatter",
         "x": [
          "2018-08-02T21:36:00",
          "2018-08-03T00:00:00",
          "2018-08-03T02:24:00",
          "2018-08-02T21:36:00"
         ],
         "y": [
          2907.608125,
          2974.8362500000003,
          2907.608125,
          2907.608125
         ]
        },
        {
         "fill": "toself",
         "line": {
          "color": "green"
         },
         "mode": "lines",
         "showlegend": false,
         "type": "scatter",
         "x": [
          "2018-08-05T21:36:00",
          "2018-08-06T00:00:00",
          "2018-08-06T02:24:00",
          "2018-08-05T21:36:00"
         ],
         "y": [
          2920.518125,
          2987.74625,
          2920.518125,
          2920.518125
         ]
        },
        {
         "fill": "toself",
         "line": {
          "color": "green"
         },
         "mode": "lines",
         "showlegend": false,
         "type": "scatter",
         "x": [
          "2018-08-06T21:36:00",
          "2018-08-07T00:00:00",
          "2018-08-07T02:24:00",
          "2018-08-06T21:36:00"
         ],
         "y": [
          2930.658125,
          2997.88625,
          2930.658125,
          2930.658125
         ]
        },
        {
         "fill": "toself",
         "line": {
          "color": "green"
         },
         "mode": "lines",
         "showlegend": false,
         "type": "scatter",
         "x": [
          "2018-08-07T21:36:00",
          "2018-08-08T00:00:00",
          "2018-08-08T02:24:00",
          "2018-08-07T21:36:00"
         ],
         "y": [
          2929.668125,
          2996.8962500000002,
          2929.668125,
          2929.668125
         ]
        },
        {
         "fill": "toself",
         "line": {
          "color": "green"
         },
         "mode": "lines",
         "showlegend": false,
         "type": "scatter",
         "x": [
          "2018-08-08T21:36:00",
          "2018-08-09T00:00:00",
          "2018-08-09T02:24:00",
          "2018-08-08T21:36:00"
         ],
         "y": [
          2929.708125,
          2996.93625,
          2929.708125,
          2929.708125
         ]
        },
        {
         "fill": "toself",
         "line": {
          "color": "green"
         },
         "mode": "lines",
         "showlegend": false,
         "type": "scatter",
         "x": [
          "2018-08-09T21:36:00",
          "2018-08-10T00:00:00",
          "2018-08-10T02:24:00",
          "2018-08-09T21:36:00"
         ],
         "y": [
          2909.428125,
          2976.65625,
          2909.428125,
          2909.428125
         ]
        },
        {
         "fill": "toself",
         "line": {
          "color": "green"
         },
         "mode": "lines",
         "showlegend": false,
         "type": "scatter",
         "x": [
          "2018-08-12T21:36:00",
          "2018-08-13T00:00:00",
          "2018-08-13T02:24:00",
          "2018-08-12T21:36:00"
         ],
         "y": [
          2752.651875,
          2685.42375,
          2752.651875,
          2752.651875
         ]
        },
        {
         "fill": "toself",
         "line": {
          "color": "green"
         },
         "mode": "lines",
         "showlegend": false,
         "type": "scatter",
         "x": [
          "2018-08-13T21:36:00",
          "2018-08-14T00:00:00",
          "2018-08-14T02:24:00",
          "2018-08-13T21:36:00"
         ],
         "y": [
          2910.338125,
          2977.5662500000003,
          2910.338125,
          2910.338125
         ]
        },
        {
         "fill": "toself",
         "line": {
          "color": "green"
         },
         "mode": "lines",
         "showlegend": false,
         "type": "scatter",
         "x": [
          "2018-08-14T21:36:00",
          "2018-08-15T00:00:00",
          "2018-08-15T02:24:00",
          "2018-08-14T21:36:00"
         ],
         "y": [
          2735.2618749999997,
          2668.0337499999996,
          2735.2618749999997,
          2735.2618749999997
         ]
        },
        {
         "fill": "toself",
         "line": {
          "color": "green"
         },
         "mode": "lines",
         "showlegend": false,
         "type": "scatter",
         "x": [
          "2018-08-15T21:36:00",
          "2018-08-16T00:00:00",
          "2018-08-16T02:24:00",
          "2018-08-15T21:36:00"
         ],
         "y": [
          2764.211875,
          2696.98375,
          2764.211875,
          2764.211875
         ]
        },
        {
         "fill": "toself",
         "line": {
          "color": "green"
         },
         "mode": "lines",
         "showlegend": false,
         "type": "scatter",
         "x": [
          "2018-08-16T21:36:00",
          "2018-08-17T00:00:00",
          "2018-08-17T02:24:00",
          "2018-08-16T21:36:00"
         ],
         "y": [
          2922.858125,
          2990.0862500000003,
          2922.858125,
          2922.858125
         ]
        },
        {
         "fill": "toself",
         "line": {
          "color": "green"
         },
         "mode": "lines",
         "showlegend": false,
         "type": "scatter",
         "x": [
          "2018-08-19T21:36:00",
          "2018-08-20T00:00:00",
          "2018-08-20T02:24:00",
          "2018-08-19T21:36:00"
         ],
         "y": [
          2783.391875,
          2716.1637499999997,
          2783.391875,
          2783.391875
         ]
        },
        {
         "fill": "toself",
         "line": {
          "color": "green"
         },
         "mode": "lines",
         "showlegend": false,
         "type": "scatter",
         "x": [
          "2018-08-20T21:36:00",
          "2018-08-21T00:00:00",
          "2018-08-21T02:24:00",
          "2018-08-20T21:36:00"
         ],
         "y": [
          2940.458125,
          3007.68625,
          2940.458125,
          2940.458125
         ]
        },
        {
         "fill": "toself",
         "line": {
          "color": "green"
         },
         "mode": "lines",
         "showlegend": false,
         "type": "scatter",
         "x": [
          "2018-08-21T21:36:00",
          "2018-08-22T00:00:00",
          "2018-08-22T02:24:00",
          "2018-08-21T21:36:00"
         ],
         "y": [
          2934.768125,
          3001.99625,
          2934.768125,
          2934.768125
         ]
        },
        {
         "fill": "toself",
         "line": {
          "color": "red"
         },
         "mode": "lines",
         "showlegend": false,
         "type": "scatter",
         "x": [
          "2018-08-22T21:36:00",
          "2018-08-23T00:00:00",
          "2018-08-23T02:24:00",
          "2018-08-22T21:36:00"
         ],
         "y": [
          2936.0081250000003,
          3003.2362500000004,
          2936.0081250000003,
          2936.0081250000003
         ]
        },
        {
         "fill": "toself",
         "line": {
          "color": "green"
         },
         "mode": "lines",
         "showlegend": false,
         "type": "scatter",
         "x": [
          "2018-08-23T21:36:00",
          "2018-08-24T00:00:00",
          "2018-08-24T02:24:00",
          "2018-08-23T21:36:00"
         ],
         "y": [
          2943.388125,
          3010.61625,
          2943.388125,
          2943.388125
         ]
        },
        {
         "fill": "toself",
         "line": {
          "color": "green"
         },
         "mode": "lines",
         "showlegend": false,
         "type": "scatter",
         "x": [
          "2018-08-26T21:36:00",
          "2018-08-27T00:00:00",
          "2018-08-27T02:24:00",
          "2018-08-26T21:36:00"
         ],
         "y": [
          2965.478125,
          3032.70625,
          2965.478125,
          2965.478125
         ]
        },
        {
         "fill": "toself",
         "line": {
          "color": "red"
         },
         "mode": "lines",
         "showlegend": false,
         "type": "scatter",
         "x": [
          "2018-08-27T21:36:00",
          "2018-08-28T00:00:00",
          "2018-08-28T02:24:00",
          "2018-08-27T21:36:00"
         ],
         "y": [
          2970.998125,
          3038.22625,
          2970.998125,
          2970.998125
         ]
        },
        {
         "fill": "toself",
         "line": {
          "color": "green"
         },
         "mode": "lines",
         "showlegend": false,
         "type": "scatter",
         "x": [
          "2018-08-28T21:36:00",
          "2018-08-29T00:00:00",
          "2018-08-29T02:24:00",
          "2018-08-28T21:36:00"
         ],
         "y": [
          2983.728125,
          3050.95625,
          2983.728125,
          2983.728125
         ]
        },
        {
         "fill": "toself",
         "line": {
          "color": "green"
         },
         "mode": "lines",
         "showlegend": false,
         "type": "scatter",
         "x": [
          "2018-08-29T21:36:00",
          "2018-08-30T00:00:00",
          "2018-08-30T02:24:00",
          "2018-08-29T21:36:00"
         ],
         "y": [
          2827.9918749999997,
          2760.7637499999996,
          2827.9918749999997,
          2827.9918749999997
         ]
        },
        {
         "fill": "toself",
         "line": {
          "color": "green"
         },
         "mode": "lines",
         "showlegend": false,
         "type": "scatter",
         "x": [
          "2018-08-30T21:36:00",
          "2018-08-31T00:00:00",
          "2018-08-31T02:24:00",
          "2018-08-30T21:36:00"
         ],
         "y": [
          2973.5481250000003,
          3040.7762500000003,
          2973.5481250000003,
          2973.5481250000003
         ]
        },
        {
         "fill": "toself",
         "line": {
          "color": "red"
         },
         "mode": "lines",
         "showlegend": false,
         "type": "scatter",
         "x": [
          "2018-09-03T21:36:00",
          "2018-09-04T00:00:00",
          "2018-09-04T02:24:00",
          "2018-09-03T21:36:00"
         ],
         "y": [
          2817.901875,
          2750.67375,
          2817.901875,
          2817.901875
         ]
        },
        {
         "fill": "toself",
         "line": {
          "color": "red"
         },
         "mode": "lines",
         "showlegend": false,
         "type": "scatter",
         "x": [
          "2018-09-04T21:36:00",
          "2018-09-05T00:00:00",
          "2018-09-05T02:24:00",
          "2018-09-04T21:36:00"
         ],
         "y": [
          2961.438125,
          3028.66625,
          2961.438125,
          2961.438125
         ]
        },
        {
         "fill": "toself",
         "line": {
          "color": "red"
         },
         "mode": "lines",
         "showlegend": false,
         "type": "scatter",
         "x": [
          "2018-09-05T21:36:00",
          "2018-09-06T00:00:00",
          "2018-09-06T02:24:00",
          "2018-09-05T21:36:00"
         ],
         "y": [
          2959.2781250000003,
          3026.5062500000004,
          2959.2781250000003,
          2959.2781250000003
         ]
        },
        {
         "fill": "toself",
         "line": {
          "color": "green"
         },
         "mode": "lines",
         "showlegend": false,
         "type": "scatter",
         "x": [
          "2018-09-06T21:36:00",
          "2018-09-07T00:00:00",
          "2018-09-07T02:24:00",
          "2018-09-06T21:36:00"
         ],
         "y": [
          2951.038125,
          3018.26625,
          2951.038125,
          2951.038125
         ]
        },
        {
         "fill": "toself",
         "line": {
          "color": "red"
         },
         "mode": "lines",
         "showlegend": false,
         "type": "scatter",
         "x": [
          "2018-09-09T21:36:00",
          "2018-09-10T00:00:00",
          "2018-09-10T02:24:00",
          "2018-09-09T21:36:00"
         ],
         "y": [
          2954.158125,
          3021.38625,
          2954.158125,
          2954.158125
         ]
        },
        {
         "fill": "toself",
         "line": {
          "color": "red"
         },
         "mode": "lines",
         "showlegend": false,
         "type": "scatter",
         "x": [
          "2018-09-10T21:36:00",
          "2018-09-11T00:00:00",
          "2018-09-11T02:24:00",
          "2018-09-10T21:36:00"
         ],
         "y": [
          2799.551875,
          2732.32375,
          2799.551875,
          2799.551875
         ]
        },
        {
         "fill": "toself",
         "line": {
          "color": "red"
         },
         "mode": "lines",
         "showlegend": false,
         "type": "scatter",
         "x": [
          "2018-09-11T21:36:00",
          "2018-09-12T00:00:00",
          "2018-09-12T02:24:00",
          "2018-09-11T21:36:00"
         ],
         "y": [
          2961.878125,
          3029.1062500000003,
          2961.878125,
          2961.878125
         ]
        },
        {
         "fill": "toself",
         "line": {
          "color": "red"
         },
         "mode": "lines",
         "showlegend": false,
         "type": "scatter",
         "x": [
          "2018-09-12T21:36:00",
          "2018-09-13T00:00:00",
          "2018-09-13T02:24:00",
          "2018-09-12T21:36:00"
         ],
         "y": [
          2829.161875,
          2761.9337499999997,
          2829.161875,
          2829.161875
         ]
        },
        {
         "fill": "toself",
         "line": {
          "color": "green"
         },
         "mode": "lines",
         "showlegend": false,
         "type": "scatter",
         "x": [
          "2018-09-13T21:36:00",
          "2018-09-14T00:00:00",
          "2018-09-14T02:24:00",
          "2018-09-13T21:36:00"
         ],
         "y": [
          2828.541875,
          2761.31375,
          2828.541875,
          2828.541875
         ]
        },
        {
         "fill": "toself",
         "line": {
          "color": "red"
         },
         "mode": "lines",
         "showlegend": false,
         "type": "scatter",
         "x": [
          "2018-09-16T21:36:00",
          "2018-09-17T00:00:00",
          "2018-09-17T02:24:00",
          "2018-09-16T21:36:00"
         ],
         "y": [
          2971.878125,
          3039.1062500000003,
          2971.878125,
          2971.878125
         ]
        },
        {
         "fill": "toself",
         "line": {
          "color": "red"
         },
         "mode": "lines",
         "showlegend": false,
         "type": "scatter",
         "x": [
          "2018-09-17T21:36:00",
          "2018-09-18T00:00:00",
          "2018-09-18T02:24:00",
          "2018-09-17T21:36:00"
         ],
         "y": [
          2823.2018749999997,
          2755.9737499999997,
          2823.2018749999997,
          2823.2018749999997
         ]
        },
        {
         "fill": "toself",
         "line": {
          "color": "green"
         },
         "mode": "lines",
         "showlegend": false,
         "type": "scatter",
         "x": [
          "2018-09-18T21:36:00",
          "2018-09-19T00:00:00",
          "2018-09-19T02:24:00",
          "2018-09-18T21:36:00"
         ],
         "y": [
          2836.591875,
          2769.36375,
          2836.591875,
          2836.591875
         ]
        },
        {
         "fill": "toself",
         "line": {
          "color": "red"
         },
         "mode": "lines",
         "showlegend": false,
         "type": "scatter",
         "x": [
          "2018-09-19T21:36:00",
          "2018-09-20T00:00:00",
          "2018-09-20T02:24:00",
          "2018-09-19T21:36:00"
         ],
         "y": [
          2852.501875,
          2785.27375,
          2852.501875,
          2852.501875
         ]
        },
        {
         "fill": "toself",
         "line": {
          "color": "red"
         },
         "mode": "lines",
         "showlegend": false,
         "type": "scatter",
         "x": [
          "2018-09-20T21:36:00",
          "2018-09-21T00:00:00",
          "2018-09-21T02:24:00",
          "2018-09-20T21:36:00"
         ],
         "y": [
          3008.138125,
          3075.36625,
          3008.138125,
          3008.138125
         ]
        },
        {
         "fill": "toself",
         "line": {
          "color": "red"
         },
         "mode": "lines",
         "showlegend": false,
         "type": "scatter",
         "x": [
          "2018-09-23T21:36:00",
          "2018-09-24T00:00:00",
          "2018-09-24T02:24:00",
          "2018-09-23T21:36:00"
         ],
         "y": [
          2845.401875,
          2778.17375,
          2845.401875,
          2845.401875
         ]
        },
        {
         "fill": "toself",
         "line": {
          "color": "red"
         },
         "mode": "lines",
         "showlegend": false,
         "type": "scatter",
         "x": [
          "2018-09-24T21:36:00",
          "2018-09-25T00:00:00",
          "2018-09-25T02:24:00",
          "2018-09-24T21:36:00"
         ],
         "y": [
          2846.4718749999997,
          2779.2437499999996,
          2846.4718749999997,
          2846.4718749999997
         ]
        },
        {
         "fill": "toself",
         "line": {
          "color": "red"
         },
         "mode": "lines",
         "showlegend": false,
         "type": "scatter",
         "x": [
          "2018-09-25T21:36:00",
          "2018-09-26T00:00:00",
          "2018-09-26T02:24:00",
          "2018-09-25T21:36:00"
         ],
         "y": [
          2998.378125,
          3065.6062500000003,
          2998.378125,
          2998.378125
         ]
        },
        {
         "fill": "toself",
         "line": {
          "color": "green"
         },
         "mode": "lines",
         "showlegend": false,
         "type": "scatter",
         "x": [
          "2018-09-26T21:36:00",
          "2018-09-27T00:00:00",
          "2018-09-27T02:24:00",
          "2018-09-26T21:36:00"
         ],
         "y": [
          2994.448125,
          3061.67625,
          2994.448125,
          2994.448125
         ]
        },
        {
         "fill": "toself",
         "line": {
          "color": "green"
         },
         "mode": "lines",
         "showlegend": false,
         "type": "scatter",
         "x": [
          "2018-09-27T21:36:00",
          "2018-09-28T00:00:00",
          "2018-09-28T02:24:00",
          "2018-09-27T21:36:00"
         ],
         "y": [
          2987.7581250000003,
          3054.9862500000004,
          2987.7581250000003,
          2987.7581250000003
         ]
        },
        {
         "fill": "toself",
         "line": {
          "color": "red"
         },
         "mode": "lines",
         "showlegend": false,
         "type": "scatter",
         "x": [
          "2018-09-30T21:36:00",
          "2018-10-01T00:00:00",
          "2018-10-01T02:24:00",
          "2018-09-30T21:36:00"
         ],
         "y": [
          3004.288125,
          3071.51625,
          3004.288125,
          3004.288125
         ]
        },
        {
         "fill": "toself",
         "line": {
          "color": "red"
         },
         "mode": "lines",
         "showlegend": false,
         "type": "scatter",
         "x": [
          "2018-10-01T21:36:00",
          "2018-10-02T00:00:00",
          "2018-10-02T02:24:00",
          "2018-10-01T21:36:00"
         ],
         "y": [
          2998.648125,
          3065.8762500000003,
          2998.648125,
          2998.648125
         ]
        },
        {
         "fill": "toself",
         "line": {
          "color": "red"
         },
         "mode": "lines",
         "showlegend": false,
         "type": "scatter",
         "x": [
          "2018-10-02T21:36:00",
          "2018-10-03T00:00:00",
          "2018-10-03T02:24:00",
          "2018-10-02T21:36:00"
         ],
         "y": [
          3007.088125,
          3074.3162500000003,
          3007.088125,
          3007.088125
         ]
        },
        {
         "fill": "toself",
         "line": {
          "color": "green"
         },
         "mode": "lines",
         "showlegend": false,
         "type": "scatter",
         "x": [
          "2018-10-03T21:36:00",
          "2018-10-04T00:00:00",
          "2018-10-04T02:24:00",
          "2018-10-03T21:36:00"
         ],
         "y": [
          2816.691875,
          2749.46375,
          2816.691875,
          2816.691875
         ]
        },
        {
         "fill": "toself",
         "line": {
          "color": "green"
         },
         "mode": "lines",
         "showlegend": false,
         "type": "scatter",
         "x": [
          "2018-10-04T21:36:00",
          "2018-10-05T00:00:00",
          "2018-10-05T02:24:00",
          "2018-10-04T21:36:00"
         ],
         "y": [
          2802.061875,
          2734.83375,
          2802.061875,
          2802.061875
         ]
        },
        {
         "fill": "toself",
         "line": {
          "color": "red"
         },
         "mode": "lines",
         "showlegend": false,
         "type": "scatter",
         "x": [
          "2018-10-07T21:36:00",
          "2018-10-08T00:00:00",
          "2018-10-08T02:24:00",
          "2018-10-07T21:36:00"
         ],
         "y": [
          2956.678125,
          3023.90625,
          2956.678125,
          2956.678125
         ]
        },
        {
         "fill": "toself",
         "line": {
          "color": "red"
         },
         "mode": "lines",
         "showlegend": false,
         "type": "scatter",
         "x": [
          "2018-10-08T21:36:00",
          "2018-10-09T00:00:00",
          "2018-10-09T02:24:00",
          "2018-10-08T21:36:00"
         ],
         "y": [
          2807.041875,
          2739.81375,
          2807.041875,
          2807.041875
         ]
        },
        {
         "fill": "toself",
         "line": {
          "color": "red"
         },
         "mode": "lines",
         "showlegend": false,
         "type": "scatter",
         "x": [
          "2018-10-09T21:36:00",
          "2018-10-10T00:00:00",
          "2018-10-10T02:24:00",
          "2018-10-09T21:36:00"
         ],
         "y": [
          2941.248125,
          3008.47625,
          2941.248125,
          2941.248125
         ]
        },
        {
         "fill": "toself",
         "line": {
          "color": "green"
         },
         "mode": "lines",
         "showlegend": false,
         "type": "scatter",
         "x": [
          "2018-10-10T21:36:00",
          "2018-10-11T00:00:00",
          "2018-10-11T02:24:00",
          "2018-10-10T21:36:00"
         ],
         "y": [
          2643.281875,
          2576.05375,
          2643.281875,
          2643.281875
         ]
        },
        {
         "fill": "toself",
         "line": {
          "color": "green"
         },
         "mode": "lines",
         "showlegend": false,
         "type": "scatter",
         "x": [
          "2018-10-11T21:36:00",
          "2018-10-12T00:00:00",
          "2018-10-12T02:24:00",
          "2018-10-11T21:36:00"
         ],
         "y": [
          2662.211875,
          2594.98375,
          2662.211875,
          2662.211875
         ]
        },
        {
         "fill": "toself",
         "line": {
          "color": "red"
         },
         "mode": "lines",
         "showlegend": false,
         "type": "scatter",
         "x": [
          "2018-10-14T21:36:00",
          "2018-10-15T00:00:00",
          "2018-10-15T02:24:00",
          "2018-10-14T21:36:00"
         ],
         "y": [
          2843.218125,
          2910.44625,
          2843.218125,
          2843.218125
         ]
        },
        {
         "fill": "toself",
         "line": {
          "color": "green"
         },
         "mode": "lines",
         "showlegend": false,
         "type": "scatter",
         "x": [
          "2018-10-15T21:36:00",
          "2018-10-16T00:00:00",
          "2018-10-16T02:24:00",
          "2018-10-15T21:36:00"
         ],
         "y": [
          2880.688125,
          2947.91625,
          2880.688125,
          2880.688125
         ]
        },
        {
         "fill": "toself",
         "line": {
          "color": "green"
         },
         "mode": "lines",
         "showlegend": false,
         "type": "scatter",
         "x": [
          "2018-10-16T21:36:00",
          "2018-10-17T00:00:00",
          "2018-10-17T02:24:00",
          "2018-10-16T21:36:00"
         ],
         "y": [
          2714.581875,
          2647.3537499999998,
          2714.581875,
          2714.581875
         ]
        },
        {
         "fill": "toself",
         "line": {
          "color": "red"
         },
         "mode": "lines",
         "showlegend": false,
         "type": "scatter",
         "x": [
          "2018-10-17T21:36:00",
          "2018-10-18T00:00:00",
          "2018-10-18T02:24:00",
          "2018-10-17T21:36:00"
         ],
         "y": [
          2873.268125,
          2940.49625,
          2873.268125,
          2873.268125
         ]
        },
        {
         "fill": "toself",
         "line": {
          "color": "red"
         },
         "mode": "lines",
         "showlegend": false,
         "type": "scatter",
         "x": [
          "2018-10-18T21:36:00",
          "2018-10-19T00:00:00",
          "2018-10-19T02:24:00",
          "2018-10-18T21:36:00"
         ],
         "y": [
          2864.998125,
          2932.22625,
          2864.998125,
          2864.998125
         ]
        },
        {
         "fill": "toself",
         "line": {
          "color": "green"
         },
         "mode": "lines",
         "showlegend": false,
         "type": "scatter",
         "x": [
          "2018-10-21T21:36:00",
          "2018-10-22T00:00:00",
          "2018-10-22T02:24:00",
          "2018-10-21T21:36:00"
         ],
         "y": [
          2681.9918749999997,
          2614.7637499999996,
          2681.9918749999997,
          2681.9918749999997
         ]
        },
        {
         "fill": "toself",
         "line": {
          "color": "green"
         },
         "mode": "lines",
         "showlegend": false,
         "type": "scatter",
         "x": [
          "2018-10-22T21:36:00",
          "2018-10-23T00:00:00",
          "2018-10-23T02:24:00",
          "2018-10-22T21:36:00"
         ],
         "y": [
          2820.8181250000002,
          2888.0462500000003,
          2820.8181250000002,
          2820.8181250000002
         ]
        },
        {
         "fill": "toself",
         "line": {
          "color": "green"
         },
         "mode": "lines",
         "showlegend": false,
         "type": "scatter",
         "x": [
          "2018-10-23T21:36:00",
          "2018-10-24T00:00:00",
          "2018-10-24T02:24:00",
          "2018-10-23T21:36:00"
         ],
         "y": [
          2584.661875,
          2517.4337499999997,
          2584.661875,
          2584.661875
         ]
        },
        {
         "fill": "toself",
         "line": {
          "color": "green"
         },
         "mode": "lines",
         "showlegend": false,
         "type": "scatter",
         "x": [
          "2018-10-24T21:36:00",
          "2018-10-25T00:00:00",
          "2018-10-25T02:24:00",
          "2018-10-24T21:36:00"
         ],
         "y": [
          2789.928125,
          2857.15625,
          2789.928125,
          2789.928125
         ]
        },
        {
         "fill": "toself",
         "line": {
          "color": "green"
         },
         "mode": "lines",
         "showlegend": false,
         "type": "scatter",
         "x": [
          "2018-10-25T21:36:00",
          "2018-10-26T00:00:00",
          "2018-10-26T02:24:00",
          "2018-10-25T21:36:00"
         ],
         "y": [
          2759.608125,
          2826.8362500000003,
          2759.608125,
          2759.608125
         ]
        },
        {
         "fill": "toself",
         "line": {
          "color": "red"
         },
         "mode": "lines",
         "showlegend": false,
         "type": "scatter",
         "x": [
          "2018-10-28T21:36:00",
          "2018-10-29T00:00:00",
          "2018-10-29T02:24:00",
          "2018-10-28T21:36:00"
         ],
         "y": [
          2774.078125,
          2841.30625,
          2774.078125,
          2774.078125
         ]
        },
        {
         "fill": "toself",
         "line": {
          "color": "red"
         },
         "mode": "lines",
         "showlegend": false,
         "type": "scatter",
         "x": [
          "2018-10-29T21:36:00",
          "2018-10-30T00:00:00",
          "2018-10-30T02:24:00",
          "2018-10-29T21:36:00"
         ],
         "y": [
          2568.111875,
          2500.88375,
          2568.111875,
          2568.111875
         ]
        },
        {
         "fill": "toself",
         "line": {
          "color": "green"
         },
         "mode": "lines",
         "showlegend": false,
         "type": "scatter",
         "x": [
          "2018-10-30T21:36:00",
          "2018-10-31T00:00:00",
          "2018-10-31T02:24:00",
          "2018-10-30T21:36:00"
         ],
         "y": [
          2803.918125,
          2871.1462500000002,
          2803.918125,
          2803.918125
         ]
        },
        {
         "fill": "toself",
         "line": {
          "color": "green"
         },
         "mode": "lines",
         "showlegend": false,
         "type": "scatter",
         "x": [
          "2018-10-31T21:36:00",
          "2018-11-01T00:00:00",
          "2018-11-01T02:24:00",
          "2018-10-31T21:36:00"
         ],
         "y": [
          2808.898125,
          2876.1262500000003,
          2808.898125,
          2808.898125
         ]
        },
        {
         "fill": "toself",
         "line": {
          "color": "red"
         },
         "mode": "lines",
         "showlegend": false,
         "type": "scatter",
         "x": [
          "2018-11-01T21:36:00",
          "2018-11-02T00:00:00",
          "2018-11-02T02:24:00",
          "2018-11-01T21:36:00"
         ],
         "y": [
          2823.7781250000003,
          2891.0062500000004,
          2823.7781250000003,
          2823.7781250000003
         ]
        },
        {
         "fill": "toself",
         "line": {
          "color": "green"
         },
         "mode": "lines",
         "showlegend": false,
         "type": "scatter",
         "x": [
          "2018-11-04T21:36:00",
          "2018-11-05T00:00:00",
          "2018-11-05T02:24:00",
          "2018-11-04T21:36:00"
         ],
         "y": [
          2650.711875,
          2583.48375,
          2650.711875,
          2650.711875
         ]
        },
        {
         "fill": "toself",
         "line": {
          "color": "green"
         },
         "mode": "lines",
         "showlegend": false,
         "type": "scatter",
         "x": [
          "2018-11-05T21:36:00",
          "2018-11-06T00:00:00",
          "2018-11-06T02:24:00",
          "2018-11-05T21:36:00"
         ],
         "y": [
          2824.0481250000003,
          2891.2762500000003,
          2824.0481250000003,
          2824.0481250000003
         ]
        },
        {
         "fill": "toself",
         "line": {
          "color": "green"
         },
         "mode": "lines",
         "showlegend": false,
         "type": "scatter",
         "x": [
          "2018-11-06T21:36:00",
          "2018-11-07T00:00:00",
          "2018-11-07T02:24:00",
          "2018-11-06T21:36:00"
         ],
         "y": [
          2882.378125,
          2949.6062500000003,
          2882.378125,
          2882.378125
         ]
        },
        {
         "fill": "toself",
         "line": {
          "color": "red"
         },
         "mode": "lines",
         "showlegend": false,
         "type": "scatter",
         "x": [
          "2018-11-07T21:36:00",
          "2018-11-08T00:00:00",
          "2018-11-08T02:24:00",
          "2018-11-07T21:36:00"
         ],
         "y": [
          2881.978125,
          2949.20625,
          2881.978125,
          2881.978125
         ]
        },
        {
         "fill": "toself",
         "line": {
          "color": "green"
         },
         "mode": "lines",
         "showlegend": false,
         "type": "scatter",
         "x": [
          "2018-11-08T21:36:00",
          "2018-11-09T00:00:00",
          "2018-11-09T02:24:00",
          "2018-11-08T21:36:00"
         ],
         "y": [
          2697.0118749999997,
          2629.7837499999996,
          2697.0118749999997,
          2697.0118749999997
         ]
        },
        {
         "fill": "toself",
         "line": {
          "color": "green"
         },
         "mode": "lines",
         "showlegend": false,
         "type": "scatter",
         "x": [
          "2018-11-11T21:36:00",
          "2018-11-12T00:00:00",
          "2018-11-12T02:24:00",
          "2018-11-11T21:36:00"
         ],
         "y": [
          2654.771875,
          2587.54375,
          2654.771875,
          2654.771875
         ]
        },
        {
         "fill": "toself",
         "line": {
          "color": "green"
         },
         "mode": "lines",
         "showlegend": false,
         "type": "scatter",
         "x": [
          "2018-11-12T21:36:00",
          "2018-11-13T00:00:00",
          "2018-11-13T02:24:00",
          "2018-11-12T21:36:00"
         ],
         "y": [
          2647.751875,
          2580.52375,
          2647.751875,
          2647.751875
         ]
        },
        {
         "fill": "toself",
         "line": {
          "color": "green"
         },
         "mode": "lines",
         "showlegend": false,
         "type": "scatter",
         "x": [
          "2018-11-13T21:36:00",
          "2018-11-14T00:00:00",
          "2018-11-14T02:24:00",
          "2018-11-13T21:36:00"
         ],
         "y": [
          2618.521875,
          2551.29375,
          2618.521875,
          2618.521875
         ]
        },
        {
         "fill": "toself",
         "line": {
          "color": "red"
         },
         "mode": "lines",
         "showlegend": false,
         "type": "scatter",
         "x": [
          "2018-11-14T21:36:00",
          "2018-11-15T00:00:00",
          "2018-11-15T02:24:00",
          "2018-11-14T21:36:00"
         ],
         "y": [
          2603.521875,
          2536.29375,
          2603.521875,
          2603.521875
         ]
        },
        {
         "fill": "toself",
         "line": {
          "color": "green"
         },
         "mode": "lines",
         "showlegend": false,
         "type": "scatter",
         "x": [
          "2018-11-15T21:36:00",
          "2018-11-16T00:00:00",
          "2018-11-16T02:24:00",
          "2018-11-15T21:36:00"
         ],
         "y": [
          2813.978125,
          2881.20625,
          2813.978125,
          2813.978125
         ]
        },
        {
         "fill": "toself",
         "line": {
          "color": "green"
         },
         "mode": "lines",
         "showlegend": false,
         "type": "scatter",
         "x": [
          "2018-11-18T21:36:00",
          "2018-11-19T00:00:00",
          "2018-11-19T02:24:00",
          "2018-11-18T21:36:00"
         ],
         "y": [
          2613.861875,
          2546.63375,
          2613.861875,
          2613.861875
         ]
        },
        {
         "fill": "toself",
         "line": {
          "color": "red"
         },
         "mode": "lines",
         "showlegend": false,
         "type": "scatter",
         "x": [
          "2018-11-19T21:36:00",
          "2018-11-20T00:00:00",
          "2018-11-20T02:24:00",
          "2018-11-19T21:36:00"
         ],
         "y": [
          2564.291875,
          2497.06375,
          2564.291875,
          2564.291875
         ]
        },
        {
         "fill": "toself",
         "line": {
          "color": "red"
         },
         "mode": "lines",
         "showlegend": false,
         "type": "scatter",
         "x": [
          "2018-11-20T21:36:00",
          "2018-11-21T00:00:00",
          "2018-11-21T02:24:00",
          "2018-11-20T21:36:00"
         ],
         "y": [
          2737.958125,
          2805.18625,
          2737.958125,
          2737.958125
         ]
        },
        {
         "fill": "toself",
         "line": {
          "color": "green"
         },
         "mode": "lines",
         "showlegend": false,
         "type": "scatter",
         "x": [
          "2018-11-22T21:36:00",
          "2018-11-23T00:00:00",
          "2018-11-23T02:24:00",
          "2018-11-22T21:36:00"
         ],
         "y": [
          2714.7781250000003,
          2782.0062500000004,
          2714.7781250000003,
          2714.7781250000003
         ]
        },
        {
         "fill": "toself",
         "line": {
          "color": "green"
         },
         "mode": "lines",
         "showlegend": false,
         "type": "scatter",
         "x": [
          "2018-11-25T21:36:00",
          "2018-11-26T00:00:00",
          "2018-11-26T02:24:00",
          "2018-11-25T21:36:00"
         ],
         "y": [
          2741.578125,
          2808.80625,
          2741.578125,
          2741.578125
         ]
        },
        {
         "fill": "toself",
         "line": {
          "color": "green"
         },
         "mode": "lines",
         "showlegend": false,
         "type": "scatter",
         "x": [
          "2018-11-26T21:36:00",
          "2018-11-27T00:00:00",
          "2018-11-27T02:24:00",
          "2018-11-26T21:36:00"
         ],
         "y": [
          2749.7581250000003,
          2816.9862500000004,
          2749.7581250000003,
          2749.7581250000003
         ]
        },
        {
         "fill": "toself",
         "line": {
          "color": "green"
         },
         "mode": "lines",
         "showlegend": false,
         "type": "scatter",
         "x": [
          "2018-11-27T21:36:00",
          "2018-11-28T00:00:00",
          "2018-11-28T02:24:00",
          "2018-11-27T21:36:00"
         ],
         "y": [
          2811.228125,
          2878.45625,
          2811.228125,
          2811.228125
         ]
        },
        {
         "fill": "toself",
         "line": {
          "color": "green"
         },
         "mode": "lines",
         "showlegend": false,
         "type": "scatter",
         "x": [
          "2018-11-28T21:36:00",
          "2018-11-29T00:00:00",
          "2018-11-29T02:24:00",
          "2018-11-28T21:36:00"
         ],
         "y": [
          2820.978125,
          2888.20625,
          2820.978125,
          2820.978125
         ]
        },
        {
         "fill": "toself",
         "line": {
          "color": "green"
         },
         "mode": "lines",
         "showlegend": false,
         "type": "scatter",
         "x": [
          "2018-11-29T21:36:00",
          "2018-11-30T00:00:00",
          "2018-11-30T02:24:00",
          "2018-11-29T21:36:00"
         ],
         "y": [
          2828.108125,
          2895.3362500000003,
          2828.108125,
          2828.108125
         ]
        },
        {
         "fill": "toself",
         "line": {
          "color": "red"
         },
         "mode": "lines",
         "showlegend": false,
         "type": "scatter",
         "x": [
          "2018-12-02T21:36:00",
          "2018-12-03T00:00:00",
          "2018-12-03T02:24:00",
          "2018-12-02T21:36:00"
         ],
         "y": [
          2867.408125,
          2934.63625,
          2867.408125,
          2867.408125
         ]
        },
        {
         "fill": "toself",
         "line": {
          "color": "red"
         },
         "mode": "lines",
         "showlegend": false,
         "type": "scatter",
         "x": [
          "2018-12-03T21:36:00",
          "2018-12-04T00:00:00",
          "2018-12-04T02:24:00",
          "2018-12-03T21:36:00"
         ],
         "y": [
          2853.158125,
          2920.38625,
          2853.158125,
          2853.158125
         ]
        },
        {
         "fill": "toself",
         "line": {
          "color": "red"
         },
         "mode": "lines",
         "showlegend": false,
         "type": "scatter",
         "x": [
          "2018-12-05T21:36:00",
          "2018-12-06T00:00:00",
          "2018-12-06T02:24:00",
          "2018-12-05T21:36:00"
         ],
         "y": [
          2554.301875,
          2487.07375,
          2554.301875,
          2554.301875
         ]
        },
        {
         "fill": "toself",
         "line": {
          "color": "green"
         },
         "mode": "lines",
         "showlegend": false,
         "type": "scatter",
         "x": [
          "2018-12-06T21:36:00",
          "2018-12-07T00:00:00",
          "2018-12-07T02:24:00",
          "2018-12-06T21:36:00"
         ],
         "y": [
          2555.911875,
          2488.6837499999997,
          2555.911875,
          2555.911875
         ]
        },
        {
         "fill": "toself",
         "line": {
          "color": "red"
         },
         "mode": "lines",
         "showlegend": false,
         "type": "scatter",
         "x": [
          "2018-12-09T21:36:00",
          "2018-12-10T00:00:00",
          "2018-12-10T02:24:00",
          "2018-12-09T21:36:00"
         ],
         "y": [
          2516.001875,
          2448.77375,
          2516.001875,
          2516.001875
         ]
        },
        {
         "fill": "toself",
         "line": {
          "color": "red"
         },
         "mode": "lines",
         "showlegend": false,
         "type": "scatter",
         "x": [
          "2018-12-10T21:36:00",
          "2018-12-11T00:00:00",
          "2018-12-11T02:24:00",
          "2018-12-10T21:36:00"
         ],
         "y": [
          2741.578125,
          2808.80625,
          2741.578125,
          2741.578125
         ]
        },
        {
         "fill": "toself",
         "line": {
          "color": "green"
         },
         "mode": "lines",
         "showlegend": false,
         "type": "scatter",
         "x": [
          "2018-12-11T21:36:00",
          "2018-12-12T00:00:00",
          "2018-12-12T02:24:00",
          "2018-12-11T21:36:00"
         ],
         "y": [
          2583.031875,
          2515.80375,
          2583.031875,
          2583.031875
         ]
        },
        {
         "fill": "toself",
         "line": {
          "color": "red"
         },
         "mode": "lines",
         "showlegend": false,
         "type": "scatter",
         "x": [
          "2018-12-12T21:36:00",
          "2018-12-13T00:00:00",
          "2018-12-13T02:24:00",
          "2018-12-12T21:36:00"
         ],
         "y": [
          2737.418125,
          2804.6462500000002,
          2737.418125,
          2737.418125
         ]
        },
        {
         "fill": "toself",
         "line": {
          "color": "red"
         },
         "mode": "lines",
         "showlegend": false,
         "type": "scatter",
         "x": [
          "2018-12-13T21:36:00",
          "2018-12-14T00:00:00",
          "2018-12-14T02:24:00",
          "2018-12-13T21:36:00"
         ],
         "y": [
          2702.2981250000003,
          2769.5262500000003,
          2702.2981250000003,
          2702.2981250000003
         ]
        },
        {
         "fill": "toself",
         "line": {
          "color": "red"
         },
         "mode": "lines",
         "showlegend": false,
         "type": "scatter",
         "x": [
          "2018-12-16T21:36:00",
          "2018-12-17T00:00:00",
          "2018-12-17T02:24:00",
          "2018-12-16T21:36:00"
         ],
         "y": [
          2668.358125,
          2735.5862500000003,
          2668.358125,
          2668.358125
         ]
        },
        {
         "fill": "toself",
         "line": {
          "color": "green"
         },
         "mode": "lines",
         "showlegend": false,
         "type": "scatter",
         "x": [
          "2018-12-17T21:36:00",
          "2018-12-18T00:00:00",
          "2018-12-18T02:24:00",
          "2018-12-17T21:36:00"
         ],
         "y": [
          2461.481875,
          2394.25375,
          2461.481875,
          2461.481875
         ]
        },
        {
         "fill": "toself",
         "line": {
          "color": "red"
         },
         "mode": "lines",
         "showlegend": false,
         "type": "scatter",
         "x": [
          "2018-12-18T21:36:00",
          "2018-12-19T00:00:00",
          "2018-12-19T02:24:00",
          "2018-12-18T21:36:00"
         ],
         "y": [
          2652.518125,
          2719.74625,
          2652.518125,
          2652.518125
         ]
        },
        {
         "fill": "toself",
         "line": {
          "color": "green"
         },
         "mode": "lines",
         "showlegend": false,
         "type": "scatter",
         "x": [
          "2018-12-19T21:36:00",
          "2018-12-20T00:00:00",
          "2018-12-20T02:24:00",
          "2018-12-19T21:36:00"
         ],
         "y": [
          2373.9518749999997,
          2306.7237499999997,
          2373.9518749999997,
          2373.9518749999997
         ]
        },
        {
         "fill": "toself",
         "line": {
          "color": "green"
         },
         "mode": "lines",
         "showlegend": false,
         "type": "scatter",
         "x": [
          "2018-12-20T21:36:00",
          "2018-12-21T00:00:00",
          "2018-12-21T02:24:00",
          "2018-12-20T21:36:00"
         ],
         "y": [
          2341.321875,
          2274.09375,
          2341.321875,
          2341.321875
         ]
        },
        {
         "fill": "toself",
         "line": {
          "color": "green"
         },
         "mode": "lines",
         "showlegend": false,
         "type": "scatter",
         "x": [
          "2018-12-23T21:36:00",
          "2018-12-24T00:00:00",
          "2018-12-24T02:24:00",
          "2018-12-23T21:36:00"
         ],
         "y": [
          2283.871875,
          2216.6437499999997,
          2283.871875,
          2283.871875
         ]
        },
        {
         "fill": "toself",
         "line": {
          "color": "red"
         },
         "mode": "lines",
         "showlegend": false,
         "type": "scatter",
         "x": [
          "2018-12-25T21:36:00",
          "2018-12-26T00:00:00",
          "2018-12-26T02:24:00",
          "2018-12-25T21:36:00"
         ],
         "y": [
          2279.351875,
          2212.1237499999997,
          2279.351875,
          2279.351875
         ]
        },
        {
         "fill": "toself",
         "line": {
          "color": "green"
         },
         "mode": "lines",
         "showlegend": false,
         "type": "scatter",
         "x": [
          "2018-12-26T21:36:00",
          "2018-12-27T00:00:00",
          "2018-12-27T02:24:00",
          "2018-12-26T21:36:00"
         ],
         "y": [
          2556.328125,
          2623.55625,
          2556.328125,
          2556.328125
         ]
        },
        {
         "fill": "toself",
         "line": {
          "color": "red"
         },
         "mode": "lines",
         "showlegend": false,
         "type": "scatter",
         "x": [
          "2018-12-27T21:36:00",
          "2018-12-28T00:00:00",
          "2018-12-28T02:24:00",
          "2018-12-27T21:36:00"
         ],
         "y": [
          2587.498125,
          2654.72625,
          2587.498125,
          2587.498125
         ]
        },
        {
         "fill": "toself",
         "line": {
          "color": "red"
         },
         "mode": "lines",
         "showlegend": false,
         "type": "scatter",
         "x": [
          "2018-12-30T21:36:00",
          "2018-12-31T00:00:00",
          "2018-12-31T02:24:00",
          "2018-12-30T21:36:00"
         ],
         "y": [
          2576.468125,
          2643.69625,
          2576.468125,
          2576.468125
         ]
        }
       ],
       "layout": {
        "height": 800,
        "template": {
         "data": {
          "bar": [
           {
            "error_x": {
             "color": "#2a3f5f"
            },
            "error_y": {
             "color": "#2a3f5f"
            },
            "marker": {
             "line": {
              "color": "#E5ECF6",
              "width": 0.5
             },
             "pattern": {
              "fillmode": "overlay",
              "size": 10,
              "solidity": 0.2
             }
            },
            "type": "bar"
           }
          ],
          "barpolar": [
           {
            "marker": {
             "line": {
              "color": "#E5ECF6",
              "width": 0.5
             },
             "pattern": {
              "fillmode": "overlay",
              "size": 10,
              "solidity": 0.2
             }
            },
            "type": "barpolar"
           }
          ],
          "carpet": [
           {
            "aaxis": {
             "endlinecolor": "#2a3f5f",
             "gridcolor": "white",
             "linecolor": "white",
             "minorgridcolor": "white",
             "startlinecolor": "#2a3f5f"
            },
            "baxis": {
             "endlinecolor": "#2a3f5f",
             "gridcolor": "white",
             "linecolor": "white",
             "minorgridcolor": "white",
             "startlinecolor": "#2a3f5f"
            },
            "type": "carpet"
           }
          ],
          "choropleth": [
           {
            "colorbar": {
             "outlinewidth": 0,
             "ticks": ""
            },
            "type": "choropleth"
           }
          ],
          "contour": [
           {
            "colorbar": {
             "outlinewidth": 0,
             "ticks": ""
            },
            "colorscale": [
             [
              0,
              "#0d0887"
             ],
             [
              0.1111111111111111,
              "#46039f"
             ],
             [
              0.2222222222222222,
              "#7201a8"
             ],
             [
              0.3333333333333333,
              "#9c179e"
             ],
             [
              0.4444444444444444,
              "#bd3786"
             ],
             [
              0.5555555555555556,
              "#d8576b"
             ],
             [
              0.6666666666666666,
              "#ed7953"
             ],
             [
              0.7777777777777778,
              "#fb9f3a"
             ],
             [
              0.8888888888888888,
              "#fdca26"
             ],
             [
              1,
              "#f0f921"
             ]
            ],
            "type": "contour"
           }
          ],
          "contourcarpet": [
           {
            "colorbar": {
             "outlinewidth": 0,
             "ticks": ""
            },
            "type": "contourcarpet"
           }
          ],
          "heatmap": [
           {
            "colorbar": {
             "outlinewidth": 0,
             "ticks": ""
            },
            "colorscale": [
             [
              0,
              "#0d0887"
             ],
             [
              0.1111111111111111,
              "#46039f"
             ],
             [
              0.2222222222222222,
              "#7201a8"
             ],
             [
              0.3333333333333333,
              "#9c179e"
             ],
             [
              0.4444444444444444,
              "#bd3786"
             ],
             [
              0.5555555555555556,
              "#d8576b"
             ],
             [
              0.6666666666666666,
              "#ed7953"
             ],
             [
              0.7777777777777778,
              "#fb9f3a"
             ],
             [
              0.8888888888888888,
              "#fdca26"
             ],
             [
              1,
              "#f0f921"
             ]
            ],
            "type": "heatmap"
           }
          ],
          "heatmapgl": [
           {
            "colorbar": {
             "outlinewidth": 0,
             "ticks": ""
            },
            "colorscale": [
             [
              0,
              "#0d0887"
             ],
             [
              0.1111111111111111,
              "#46039f"
             ],
             [
              0.2222222222222222,
              "#7201a8"
             ],
             [
              0.3333333333333333,
              "#9c179e"
             ],
             [
              0.4444444444444444,
              "#bd3786"
             ],
             [
              0.5555555555555556,
              "#d8576b"
             ],
             [
              0.6666666666666666,
              "#ed7953"
             ],
             [
              0.7777777777777778,
              "#fb9f3a"
             ],
             [
              0.8888888888888888,
              "#fdca26"
             ],
             [
              1,
              "#f0f921"
             ]
            ],
            "type": "heatmapgl"
           }
          ],
          "histogram": [
           {
            "marker": {
             "pattern": {
              "fillmode": "overlay",
              "size": 10,
              "solidity": 0.2
             }
            },
            "type": "histogram"
           }
          ],
          "histogram2d": [
           {
            "colorbar": {
             "outlinewidth": 0,
             "ticks": ""
            },
            "colorscale": [
             [
              0,
              "#0d0887"
             ],
             [
              0.1111111111111111,
              "#46039f"
             ],
             [
              0.2222222222222222,
              "#7201a8"
             ],
             [
              0.3333333333333333,
              "#9c179e"
             ],
             [
              0.4444444444444444,
              "#bd3786"
             ],
             [
              0.5555555555555556,
              "#d8576b"
             ],
             [
              0.6666666666666666,
              "#ed7953"
             ],
             [
              0.7777777777777778,
              "#fb9f3a"
             ],
             [
              0.8888888888888888,
              "#fdca26"
             ],
             [
              1,
              "#f0f921"
             ]
            ],
            "type": "histogram2d"
           }
          ],
          "histogram2dcontour": [
           {
            "colorbar": {
             "outlinewidth": 0,
             "ticks": ""
            },
            "colorscale": [
             [
              0,
              "#0d0887"
             ],
             [
              0.1111111111111111,
              "#46039f"
             ],
             [
              0.2222222222222222,
              "#7201a8"
             ],
             [
              0.3333333333333333,
              "#9c179e"
             ],
             [
              0.4444444444444444,
              "#bd3786"
             ],
             [
              0.5555555555555556,
              "#d8576b"
             ],
             [
              0.6666666666666666,
              "#ed7953"
             ],
             [
              0.7777777777777778,
              "#fb9f3a"
             ],
             [
              0.8888888888888888,
              "#fdca26"
             ],
             [
              1,
              "#f0f921"
             ]
            ],
            "type": "histogram2dcontour"
           }
          ],
          "mesh3d": [
           {
            "colorbar": {
             "outlinewidth": 0,
             "ticks": ""
            },
            "type": "mesh3d"
           }
          ],
          "parcoords": [
           {
            "line": {
             "colorbar": {
              "outlinewidth": 0,
              "ticks": ""
             }
            },
            "type": "parcoords"
           }
          ],
          "pie": [
           {
            "automargin": true,
            "type": "pie"
           }
          ],
          "scatter": [
           {
            "marker": {
             "colorbar": {
              "outlinewidth": 0,
              "ticks": ""
             }
            },
            "type": "scatter"
           }
          ],
          "scatter3d": [
           {
            "line": {
             "colorbar": {
              "outlinewidth": 0,
              "ticks": ""
             }
            },
            "marker": {
             "colorbar": {
              "outlinewidth": 0,
              "ticks": ""
             }
            },
            "type": "scatter3d"
           }
          ],
          "scattercarpet": [
           {
            "marker": {
             "colorbar": {
              "outlinewidth": 0,
              "ticks": ""
             }
            },
            "type": "scattercarpet"
           }
          ],
          "scattergeo": [
           {
            "marker": {
             "colorbar": {
              "outlinewidth": 0,
              "ticks": ""
             }
            },
            "type": "scattergeo"
           }
          ],
          "scattergl": [
           {
            "marker": {
             "colorbar": {
              "outlinewidth": 0,
              "ticks": ""
             }
            },
            "type": "scattergl"
           }
          ],
          "scattermapbox": [
           {
            "marker": {
             "colorbar": {
              "outlinewidth": 0,
              "ticks": ""
             }
            },
            "type": "scattermapbox"
           }
          ],
          "scatterpolar": [
           {
            "marker": {
             "colorbar": {
              "outlinewidth": 0,
              "ticks": ""
             }
            },
            "type": "scatterpolar"
           }
          ],
          "scatterpolargl": [
           {
            "marker": {
             "colorbar": {
              "outlinewidth": 0,
              "ticks": ""
             }
            },
            "type": "scatterpolargl"
           }
          ],
          "scatterternary": [
           {
            "marker": {
             "colorbar": {
              "outlinewidth": 0,
              "ticks": ""
             }
            },
            "type": "scatterternary"
           }
          ],
          "surface": [
           {
            "colorbar": {
             "outlinewidth": 0,
             "ticks": ""
            },
            "colorscale": [
             [
              0,
              "#0d0887"
             ],
             [
              0.1111111111111111,
              "#46039f"
             ],
             [
              0.2222222222222222,
              "#7201a8"
             ],
             [
              0.3333333333333333,
              "#9c179e"
             ],
             [
              0.4444444444444444,
              "#bd3786"
             ],
             [
              0.5555555555555556,
              "#d8576b"
             ],
             [
              0.6666666666666666,
              "#ed7953"
             ],
             [
              0.7777777777777778,
              "#fb9f3a"
             ],
             [
              0.8888888888888888,
              "#fdca26"
             ],
             [
              1,
              "#f0f921"
             ]
            ],
            "type": "surface"
           }
          ],
          "table": [
           {
            "cells": {
             "fill": {
              "color": "#EBF0F8"
             },
             "line": {
              "color": "white"
             }
            },
            "header": {
             "fill": {
              "color": "#C8D4E3"
             },
             "line": {
              "color": "white"
             }
            },
            "type": "table"
           }
          ]
         },
         "layout": {
          "annotationdefaults": {
           "arrowcolor": "#2a3f5f",
           "arrowhead": 0,
           "arrowwidth": 1
          },
          "autotypenumbers": "strict",
          "coloraxis": {
           "colorbar": {
            "outlinewidth": 0,
            "ticks": ""
           }
          },
          "colorscale": {
           "diverging": [
            [
             0,
             "#8e0152"
            ],
            [
             0.1,
             "#c51b7d"
            ],
            [
             0.2,
             "#de77ae"
            ],
            [
             0.3,
             "#f1b6da"
            ],
            [
             0.4,
             "#fde0ef"
            ],
            [
             0.5,
             "#f7f7f7"
            ],
            [
             0.6,
             "#e6f5d0"
            ],
            [
             0.7,
             "#b8e186"
            ],
            [
             0.8,
             "#7fbc41"
            ],
            [
             0.9,
             "#4d9221"
            ],
            [
             1,
             "#276419"
            ]
           ],
           "sequential": [
            [
             0,
             "#0d0887"
            ],
            [
             0.1111111111111111,
             "#46039f"
            ],
            [
             0.2222222222222222,
             "#7201a8"
            ],
            [
             0.3333333333333333,
             "#9c179e"
            ],
            [
             0.4444444444444444,
             "#bd3786"
            ],
            [
             0.5555555555555556,
             "#d8576b"
            ],
            [
             0.6666666666666666,
             "#ed7953"
            ],
            [
             0.7777777777777778,
             "#fb9f3a"
            ],
            [
             0.8888888888888888,
             "#fdca26"
            ],
            [
             1,
             "#f0f921"
            ]
           ],
           "sequentialminus": [
            [
             0,
             "#0d0887"
            ],
            [
             0.1111111111111111,
             "#46039f"
            ],
            [
             0.2222222222222222,
             "#7201a8"
            ],
            [
             0.3333333333333333,
             "#9c179e"
            ],
            [
             0.4444444444444444,
             "#bd3786"
            ],
            [
             0.5555555555555556,
             "#d8576b"
            ],
            [
             0.6666666666666666,
             "#ed7953"
            ],
            [
             0.7777777777777778,
             "#fb9f3a"
            ],
            [
             0.8888888888888888,
             "#fdca26"
            ],
            [
             1,
             "#f0f921"
            ]
           ]
          },
          "colorway": [
           "#636efa",
           "#EF553B",
           "#00cc96",
           "#ab63fa",
           "#FFA15A",
           "#19d3f3",
           "#FF6692",
           "#B6E880",
           "#FF97FF",
           "#FECB52"
          ],
          "font": {
           "color": "#2a3f5f"
          },
          "geo": {
           "bgcolor": "white",
           "lakecolor": "white",
           "landcolor": "#E5ECF6",
           "showlakes": true,
           "showland": true,
           "subunitcolor": "white"
          },
          "hoverlabel": {
           "align": "left"
          },
          "hovermode": "closest",
          "mapbox": {
           "style": "light"
          },
          "paper_bgcolor": "white",
          "plot_bgcolor": "#E5ECF6",
          "polar": {
           "angularaxis": {
            "gridcolor": "white",
            "linecolor": "white",
            "ticks": ""
           },
           "bgcolor": "#E5ECF6",
           "radialaxis": {
            "gridcolor": "white",
            "linecolor": "white",
            "ticks": ""
           }
          },
          "scene": {
           "xaxis": {
            "backgroundcolor": "#E5ECF6",
            "gridcolor": "white",
            "gridwidth": 2,
            "linecolor": "white",
            "showbackground": true,
            "ticks": "",
            "zerolinecolor": "white"
           },
           "yaxis": {
            "backgroundcolor": "#E5ECF6",
            "gridcolor": "white",
            "gridwidth": 2,
            "linecolor": "white",
            "showbackground": true,
            "ticks": "",
            "zerolinecolor": "white"
           },
           "zaxis": {
            "backgroundcolor": "#E5ECF6",
            "gridcolor": "white",
            "gridwidth": 2,
            "linecolor": "white",
            "showbackground": true,
            "ticks": "",
            "zerolinecolor": "white"
           }
          },
          "shapedefaults": {
           "line": {
            "color": "#2a3f5f"
           }
          },
          "ternary": {
           "aaxis": {
            "gridcolor": "white",
            "linecolor": "white",
            "ticks": ""
           },
           "baxis": {
            "gridcolor": "white",
            "linecolor": "white",
            "ticks": ""
           },
           "bgcolor": "#E5ECF6",
           "caxis": {
            "gridcolor": "white",
            "linecolor": "white",
            "ticks": ""
           }
          },
          "title": {
           "x": 0.05
          },
          "xaxis": {
           "automargin": true,
           "gridcolor": "white",
           "linecolor": "white",
           "ticks": "",
           "title": {
            "standoff": 15
           },
           "zerolinecolor": "white",
           "zerolinewidth": 2
          },
          "yaxis": {
           "automargin": true,
           "gridcolor": "white",
           "linecolor": "white",
           "ticks": "",
           "title": {
            "standoff": 15
           },
           "zerolinecolor": "white",
           "zerolinewidth": 2
          }
         }
        },
        "title": {
         "text": "Visualization of Validation Predictions"
        },
        "width": 1500,
        "xaxis": {
         "title": {
          "text": "Date"
         }
        },
        "yaxis": {
         "title": {
          "text": "Price"
         }
        }
       }
      },
      "text/html": [
       "<div>                            <div id=\"18bbd1fb-c272-4bf0-8b29-2b4c7f1d3f27\" class=\"plotly-graph-div\" style=\"height:800px; width:1500px;\"></div>            <script type=\"text/javascript\">                require([\"plotly\"], function(Plotly) {                    window.PLOTLYENV=window.PLOTLYENV || {};                                    if (document.getElementById(\"18bbd1fb-c272-4bf0-8b29-2b4c7f1d3f27\")) {                    Plotly.newPlot(                        \"18bbd1fb-c272-4bf0-8b29-2b4c7f1d3f27\",                        [{\"close\":[\"2695.81\",\"2713.06\",\"2723.99\",\"2743.15\",\"2747.71\",\"2751.29\",\"2748.23\",\"2767.56\",\"2786.24\",\"2776.42\",\"2802.56\",\"2798.03\",\"2810.30\",\"2832.97\",\"2839.13\",\"2837.54\",\"2839.25\",\"2872.87\",\"2853.53\",\"2822.43\",\"2823.81\",\"2821.98\",\"2762.13\",\"2648.94\",\"2695.14\",\"2681.66\",\"2581.00\",\"2619.55\",\"2656.00\",\"2662.94\",\"2698.63\",\"2731.20\",\"2732.22\",\"2716.26\",\"2701.33\",\"2703.96\",\"2747.30\",\"2779.60\",\"2744.28\",\"2713.83\",\"2677.67\",\"2691.25\",\"2720.94\",\"2728.12\",\"2726.80\",\"2738.97\",\"2786.57\",\"2783.02\",\"2765.31\",\"2749.48\",\"2747.33\",\"2752.01\",\"2712.92\",\"2716.94\",\"2711.93\",\"2643.69\",\"2588.26\",\"2658.55\",\"2612.62\",\"2605.00\",\"2640.87\",\"2581.88\",\"2614.45\",\"2644.69\",\"2662.84\",\"2604.47\",\"2613.16\",\"2656.87\",\"2642.19\",\"2663.99\",\"2656.30\",\"2677.84\",\"2706.39\",\"2708.64\",\"2693.13\",\"2670.14\",\"2670.29\",\"2634.56\",\"2639.40\",\"2666.94\",\"2669.91\",\"2648.05\",\"2654.80\",\"2635.67\",\"2629.73\",\"2663.42\",\"2672.63\",\"2671.92\",\"2697.79\",\"2723.07\",\"2727.72\",\"2730.13\",\"2711.45\",\"2722.46\",\"2720.13\",\"2712.97\",\"2733.01\",\"2724.44\",\"2733.29\",\"2727.76\",\"2721.33\",\"2689.86\",\"2724.01\",\"2705.27\",\"2734.62\",\"2746.87\",\"2748.80\",\"2772.35\",\"2770.37\",\"2779.03\",\"2782.00\",\"2786.85\",\"2775.63\",\"2782.49\",\"2779.66\",\"2773.75\",\"2762.59\",\"2767.32\",\"2749.76\",\"2754.88\",\"2717.07\",\"2723.06\",\"2699.63\",\"2716.31\",\"2718.37\",\"2726.71\",\"2713.22\",\"2736.61\",\"2759.82\",\"2784.17\",\"2793.84\",\"2774.02\",\"2798.29\",\"2801.31\",\"2798.43\",\"2809.55\",\"2815.62\",\"2804.49\",\"2801.83\",\"2806.98\",\"2820.40\",\"2846.07\",\"2837.44\",\"2818.82\",\"2802.60\",\"2816.29\",\"2813.36\",\"2827.22\",\"2840.35\",\"2850.40\",\"2858.45\",\"2857.70\",\"2853.58\",\"2833.28\",\"2821.93\",\"2839.96\",\"2818.37\",\"2840.69\",\"2850.13\",\"2857.05\",\"2862.96\",\"2861.82\",\"2856.98\",\"2874.69\",\"2896.74\",\"2897.52\",\"2914.04\",\"2901.13\",\"2901.52\",\"2896.72\",\"2888.60\",\"2878.05\",\"2871.68\",\"2877.13\",\"2887.89\",\"2888.92\",\"2904.18\",\"2904.98\",\"2888.80\",\"2904.31\",\"2907.95\",\"2930.75\",\"2929.67\",\"2919.37\",\"2915.56\",\"2905.97\",\"2914.00\",\"2913.98\",\"2924.59\",\"2923.43\",\"2925.51\",\"2901.61\",\"2885.57\",\"2884.43\",\"2880.34\",\"2785.68\",\"2728.37\",\"2767.13\",\"2750.79\",\"2809.92\",\"2809.21\",\"2768.78\",\"2767.78\",\"2755.88\",\"2740.69\",\"2656.10\",\"2705.57\",\"2658.69\",\"2641.25\",\"2682.63\",\"2711.74\",\"2740.37\",\"2723.06\",\"2738.31\",\"2755.45\",\"2813.89\",\"2806.83\",\"2781.01\",\"2726.22\",\"2722.18\",\"2701.58\",\"2730.20\",\"2736.27\",\"2690.73\",\"2641.89\",\"2649.93\",\"2632.56\",\"2673.45\",\"2682.17\",\"2743.79\",\"2737.76\",\"2760.17\",\"2790.37\",\"2700.06\",\"2695.95\",\"2633.08\",\"2637.72\",\"2636.78\",\"2651.07\",\"2650.54\",\"2599.95\",\"2545.94\",\"2546.16\",\"2506.96\",\"2467.42\",\"2416.62\",\"2351.10\",\"2467.70\",\"2488.83\",\"2485.74\",\"2506.85\"],\"high\":[\"2695.89\",\"2714.37\",\"2729.29\",\"2743.45\",\"2748.51\",\"2759.14\",\"2750.80\",\"2767.56\",\"2787.85\",\"2807.54\",\"2807.04\",\"2805.83\",\"2810.33\",\"2833.03\",\"2842.24\",\"2852.97\",\"2848.56\",\"2872.87\",\"2870.62\",\"2837.75\",\"2839.26\",\"2835.96\",\"2808.92\",\"2763.39\",\"2701.04\",\"2727.67\",\"2685.27\",\"2638.67\",\"2672.61\",\"2668.84\",\"2702.10\",\"2731.51\",\"2754.42\",\"2737.60\",\"2747.75\",\"2731.26\",\"2747.76\",\"2780.64\",\"2789.15\",\"2761.52\",\"2730.89\",\"2696.25\",\"2728.09\",\"2732.08\",\"2730.60\",\"2740.45\",\"2786.57\",\"2796.98\",\"2801.90\",\"2777.11\",\"2763.03\",\"2761.85\",\"2741.38\",\"2724.22\",\"2739.14\",\"2695.68\",\"2657.67\",\"2661.36\",\"2674.78\",\"2632.65\",\"2659.07\",\"2638.30\",\"2619.14\",\"2649.86\",\"2672.08\",\"2656.88\",\"2653.55\",\"2665.45\",\"2661.43\",\"2674.72\",\"2680.26\",\"2686.49\",\"2713.34\",\"2717.49\",\"2702.84\",\"2693.94\",\"2682.86\",\"2683.55\",\"2645.30\",\"2676.48\",\"2677.35\",\"2682.92\",\"2655.27\",\"2660.87\",\"2637.14\",\"2670.93\",\"2683.35\",\"2676.34\",\"2701.27\",\"2726.11\",\"2732.86\",\"2742.10\",\"2718.59\",\"2727.76\",\"2731.96\",\"2719.50\",\"2739.19\",\"2742.24\",\"2733.33\",\"2731.97\",\"2727.36\",\"2710.67\",\"2729.34\",\"2722.50\",\"2736.93\",\"2749.16\",\"2752.61\",\"2772.39\",\"2779.90\",\"2779.39\",\"2790.21\",\"2789.80\",\"2791.47\",\"2789.06\",\"2782.81\",\"2774.99\",\"2765.05\",\"2774.86\",\"2769.28\",\"2764.17\",\"2742.94\",\"2732.91\",\"2746.09\",\"2724.34\",\"2743.26\",\"2727.26\",\"2736.58\",\"2737.83\",\"2764.41\",\"2784.65\",\"2795.58\",\"2785.91\",\"2799.22\",\"2804.53\",\"2803.71\",\"2814.19\",\"2816.76\",\"2812.05\",\"2809.70\",\"2808.61\",\"2829.99\",\"2848.03\",\"2845.57\",\"2843.17\",\"2821.74\",\"2824.46\",\"2825.83\",\"2829.91\",\"2840.38\",\"2853.29\",\"2863.43\",\"2862.44\",\"2862.48\",\"2842.20\",\"2843.40\",\"2843.11\",\"2827.95\",\"2850.49\",\"2855.63\",\"2859.76\",\"2873.23\",\"2867.54\",\"2868.78\",\"2876.16\",\"2898.25\",\"2903.77\",\"2916.50\",\"2912.46\",\"2906.32\",\"2900.18\",\"2894.21\",\"2892.05\",\"2883.81\",\"2886.93\",\"2892.52\",\"2894.65\",\"2906.76\",\"2908.30\",\"2904.65\",\"2911.17\",\"2912.36\",\"2934.80\",\"2940.91\",\"2923.79\",\"2923.95\",\"2931.15\",\"2927.22\",\"2920.53\",\"2937.06\",\"2931.42\",\"2939.86\",\"2919.78\",\"2909.64\",\"2889.45\",\"2894.83\",\"2874.02\",\"2795.14\",\"2775.77\",\"2775.99\",\"2813.46\",\"2816.94\",\"2806.04\",\"2797.77\",\"2778.94\",\"2753.59\",\"2742.59\",\"2722.70\",\"2692.38\",\"2706.85\",\"2685.43\",\"2736.69\",\"2741.67\",\"2756.55\",\"2744.27\",\"2756.82\",\"2815.15\",\"2814.75\",\"2794.10\",\"2775.99\",\"2754.60\",\"2746.80\",\"2735.38\",\"2746.75\",\"2733.16\",\"2669.44\",\"2670.73\",\"2647.55\",\"2674.35\",\"2682.53\",\"2744.00\",\"2753.75\",\"2760.88\",\"2800.18\",\"2785.93\",\"2696.15\",\"2708.54\",\"2647.51\",\"2674.35\",\"2685.44\",\"2670.19\",\"2635.07\",\"2601.13\",\"2573.99\",\"2585.29\",\"2509.63\",\"2504.41\",\"2410.34\",\"2467.76\",\"2489.10\",\"2520.27\",\"2509.24\"],\"low\":[\"2682.36\",\"2697.77\",\"2719.07\",\"2727.92\",\"2737.60\",\"2747.86\",\"2736.06\",\"2752.78\",\"2769.64\",\"2768.64\",\"2778.38\",\"2792.56\",\"2798.08\",\"2808.12\",\"2830.59\",\"2824.81\",\"2830.94\",\"2846.18\",\"2851.48\",\"2818.27\",\"2813.04\",\"2812.70\",\"2759.97\",\"2638.17\",\"2593.07\",\"2681.33\",\"2580.56\",\"2532.69\",\"2622.45\",\"2637.08\",\"2648.87\",\"2689.82\",\"2725.11\",\"2706.76\",\"2701.29\",\"2697.77\",\"2713.74\",\"2753.78\",\"2744.22\",\"2713.54\",\"2659.65\",\"2647.32\",\"2675.75\",\"2711.26\",\"2701.74\",\"2722.65\",\"2751.54\",\"2779.26\",\"2758.68\",\"2744.38\",\"2741.47\",\"2749.97\",\"2694.59\",\"2710.05\",\"2709.79\",\"2641.59\",\"2585.89\",\"2601.81\",\"2596.12\",\"2593.06\",\"2609.72\",\"2553.80\",\"2575.49\",\"2573.61\",\"2649.58\",\"2586.27\",\"2610.79\",\"2635.78\",\"2639.25\",\"2653.83\",\"2645.05\",\"2665.16\",\"2692.05\",\"2703.63\",\"2681.90\",\"2660.61\",\"2657.99\",\"2617.32\",\"2612.67\",\"2647.16\",\"2659.01\",\"2648.04\",\"2625.41\",\"2631.70\",\"2594.62\",\"2615.32\",\"2664.70\",\"2655.20\",\"2674.14\",\"2704.54\",\"2717.45\",\"2725.47\",\"2701.91\",\"2712.17\",\"2711.36\",\"2709.18\",\"2725.70\",\"2721.88\",\"2709.54\",\"2707.38\",\"2714.99\",\"2676.81\",\"2702.43\",\"2700.68\",\"2718.70\",\"2740.54\",\"2739.51\",\"2748.46\",\"2760.16\",\"2763.59\",\"2780.17\",\"2778.78\",\"2774.65\",\"2776.52\",\"2761.73\",\"2757.12\",\"2743.19\",\"2763.91\",\"2744.39\",\"2752.68\",\"2698.67\",\"2715.60\",\"2699.38\",\"2691.99\",\"2718.03\",\"2698.95\",\"2711.16\",\"2716.02\",\"2733.52\",\"2768.51\",\"2786.24\",\"2770.77\",\"2781.53\",\"2791.69\",\"2793.39\",\"2789.24\",\"2805.89\",\"2799.77\",\"2800.01\",\"2795.14\",\"2811.12\",\"2817.73\",\"2835.26\",\"2808.34\",\"2798.11\",\"2808.06\",\"2805.85\",\"2796.34\",\"2827.37\",\"2835.98\",\"2855.92\",\"2853.09\",\"2851.98\",\"2825.81\",\"2819.88\",\"2826.58\",\"2802.49\",\"2831.44\",\"2833.73\",\"2850.62\",\"2861.32\",\"2856.05\",\"2854.03\",\"2862.35\",\"2884.69\",\"2893.50\",\"2898.40\",\"2895.22\",\"2891.73\",\"2885.13\",\"2876.92\",\"2867.29\",\"2864.12\",\"2875.94\",\"2866.78\",\"2879.20\",\"2896.39\",\"2895.77\",\"2886.16\",\"2890.43\",\"2903.82\",\"2919.73\",\"2927.11\",\"2912.63\",\"2913.70\",\"2903.28\",\"2909.27\",\"2907.50\",\"2917.91\",\"2919.37\",\"2921.36\",\"2883.92\",\"2869.29\",\"2862.08\",\"2874.27\",\"2784.86\",\"2710.51\",\"2729.44\",\"2749.03\",\"2766.91\",\"2781.81\",\"2755.18\",\"2760.27\",\"2749.22\",\"2691.43\",\"2651.89\",\"2667.84\",\"2628.16\",\"2603.54\",\"2635.34\",\"2705.60\",\"2708.85\",\"2700.44\",\"2717.94\",\"2737.08\",\"2774.13\",\"2794.99\",\"2764.24\",\"2722.00\",\"2714.98\",\"2685.75\",\"2670.75\",\"2712.16\",\"2681.09\",\"2631.52\",\"2649.82\",\"2631.09\",\"2649.97\",\"2655.89\",\"2684.38\",\"2722.94\",\"2732.76\",\"2773.38\",\"2697.18\",\"2621.53\",\"2623.14\",\"2583.23\",\"2621.30\",\"2650.26\",\"2637.27\",\"2593.84\",\"2530.54\",\"2528.71\",\"2488.96\",\"2441.18\",\"2408.55\",\"2351.10\",\"2346.58\",\"2397.94\",\"2472.89\",\"2482.82\"],\"name\":\"Price\",\"open\":[\"2683.73\",\"2697.85\",\"2719.31\",\"2731.33\",\"2742.67\",\"2751.15\",\"2745.55\",\"2752.97\",\"2770.18\",\"2798.96\",\"2784.99\",\"2802.40\",\"2802.60\",\"2809.16\",\"2835.05\",\"2845.42\",\"2846.24\",\"2847.48\",\"2867.23\",\"2832.74\",\"2832.41\",\"2816.45\",\"2808.92\",\"2741.06\",\"2614.78\",\"2690.95\",\"2685.01\",\"2601.78\",\"2636.75\",\"2646.27\",\"2651.21\",\"2713.46\",\"2727.14\",\"2722.99\",\"2720.53\",\"2710.42\",\"2715.80\",\"2757.37\",\"2780.45\",\"2753.78\",\"2715.22\",\"2658.89\",\"2681.06\",\"2730.18\",\"2710.18\",\"2732.75\",\"2752.91\",\"2790.54\",\"2792.31\",\"2774.06\",\"2754.27\",\"2750.57\",\"2741.38\",\"2715.05\",\"2714.99\",\"2691.36\",\"2646.71\",\"2619.35\",\"2667.57\",\"2611.30\",\"2614.41\",\"2633.45\",\"2592.17\",\"2584.04\",\"2657.36\",\"2645.82\",\"2617.18\",\"2638.41\",\"2643.89\",\"2653.83\",\"2676.90\",\"2670.10\",\"2692.74\",\"2710.11\",\"2701.16\",\"2692.56\",\"2675.40\",\"2680.80\",\"2634.92\",\"2651.65\",\"2675.47\",\"2675.05\",\"2643.64\",\"2654.24\",\"2628.08\",\"2621.45\",\"2669.36\",\"2670.26\",\"2678.12\",\"2705.02\",\"2722.70\",\"2733.37\",\"2718.59\",\"2712.62\",\"2719.71\",\"2717.35\",\"2725.95\",\"2738.34\",\"2713.98\",\"2730.94\",\"2723.60\",\"2705.11\",\"2702.43\",\"2720.98\",\"2718.70\",\"2741.67\",\"2748.46\",\"2753.25\",\"2774.84\",\"2765.84\",\"2780.18\",\"2785.60\",\"2787.94\",\"2783.21\",\"2777.78\",\"2765.79\",\"2752.01\",\"2769.73\",\"2769.28\",\"2760.79\",\"2742.94\",\"2722.12\",\"2728.45\",\"2698.69\",\"2727.13\",\"2704.95\",\"2733.27\",\"2724.19\",\"2737.68\",\"2768.51\",\"2788.56\",\"2779.82\",\"2783.14\",\"2796.93\",\"2801.43\",\"2789.34\",\"2811.35\",\"2809.37\",\"2804.55\",\"2799.17\",\"2820.68\",\"2817.73\",\"2835.49\",\"2842.35\",\"2819.00\",\"2809.73\",\"2821.17\",\"2800.48\",\"2829.62\",\"2840.29\",\"2855.92\",\"2856.79\",\"2857.19\",\"2839.64\",\"2835.46\",\"2827.88\",\"2827.95\",\"2831.44\",\"2838.32\",\"2853.93\",\"2861.51\",\"2860.99\",\"2860.29\",\"2862.35\",\"2884.69\",\"2901.45\",\"2900.62\",\"2908.94\",\"2898.37\",\"2896.96\",\"2891.59\",\"2888.64\",\"2868.26\",\"2881.39\",\"2871.57\",\"2888.29\",\"2896.85\",\"2906.38\",\"2903.83\",\"2890.74\",\"2906.60\",\"2919.73\",\"2936.76\",\"2921.83\",\"2921.75\",\"2916.98\",\"2911.65\",\"2910.03\",\"2926.29\",\"2923.80\",\"2931.69\",\"2919.35\",\"2902.54\",\"2877.53\",\"2882.51\",\"2873.90\",\"2776.87\",\"2770.54\",\"2763.83\",\"2767.05\",\"2811.67\",\"2802.00\",\"2775.66\",\"2773.94\",\"2721.03\",\"2737.87\",\"2674.88\",\"2667.86\",\"2682.65\",\"2640.68\",\"2705.60\",\"2717.58\",\"2745.45\",\"2726.37\",\"2738.40\",\"2774.13\",\"2806.38\",\"2794.10\",\"2773.93\",\"2730.05\",\"2737.90\",\"2693.52\",\"2718.54\",\"2730.74\",\"2654.60\",\"2657.74\",\"2633.36\",\"2649.97\",\"2663.75\",\"2691.45\",\"2736.97\",\"2737.76\",\"2790.50\",\"2782.43\",\"2663.51\",\"2691.26\",\"2630.86\",\"2664.44\",\"2658.23\",\"2658.70\",\"2629.68\",\"2590.75\",\"2559.90\",\"2547.05\",\"2496.77\",\"2465.38\",\"2400.56\",\"2363.12\",\"2442.50\",\"2498.77\",\"2498.94\"],\"type\":\"candlestick\",\"x\":[\"2018-01-02T00:00:00\",\"2018-01-03T00:00:00\",\"2018-01-04T00:00:00\",\"2018-01-05T00:00:00\",\"2018-01-08T00:00:00\",\"2018-01-09T00:00:00\",\"2018-01-10T00:00:00\",\"2018-01-11T00:00:00\",\"2018-01-12T00:00:00\",\"2018-01-16T00:00:00\",\"2018-01-17T00:00:00\",\"2018-01-18T00:00:00\",\"2018-01-19T00:00:00\",\"2018-01-22T00:00:00\",\"2018-01-23T00:00:00\",\"2018-01-24T00:00:00\",\"2018-01-25T00:00:00\",\"2018-01-26T00:00:00\",\"2018-01-29T00:00:00\",\"2018-01-30T00:00:00\",\"2018-01-31T00:00:00\",\"2018-02-01T00:00:00\",\"2018-02-02T00:00:00\",\"2018-02-05T00:00:00\",\"2018-02-06T00:00:00\",\"2018-02-07T00:00:00\",\"2018-02-08T00:00:00\",\"2018-02-09T00:00:00\",\"2018-02-12T00:00:00\",\"2018-02-13T00:00:00\",\"2018-02-14T00:00:00\",\"2018-02-15T00:00:00\",\"2018-02-16T00:00:00\",\"2018-02-20T00:00:00\",\"2018-02-21T00:00:00\",\"2018-02-22T00:00:00\",\"2018-02-23T00:00:00\",\"2018-02-26T00:00:00\",\"2018-02-27T00:00:00\",\"2018-02-28T00:00:00\",\"2018-03-01T00:00:00\",\"2018-03-02T00:00:00\",\"2018-03-05T00:00:00\",\"2018-03-06T00:00:00\",\"2018-03-07T00:00:00\",\"2018-03-08T00:00:00\",\"2018-03-09T00:00:00\",\"2018-03-12T00:00:00\",\"2018-03-13T00:00:00\",\"2018-03-14T00:00:00\",\"2018-03-15T00:00:00\",\"2018-03-16T00:00:00\",\"2018-03-19T00:00:00\",\"2018-03-20T00:00:00\",\"2018-03-21T00:00:00\",\"2018-03-22T00:00:00\",\"2018-03-23T00:00:00\",\"2018-03-26T00:00:00\",\"2018-03-27T00:00:00\",\"2018-03-28T00:00:00\",\"2018-03-29T00:00:00\",\"2018-04-02T00:00:00\",\"2018-04-03T00:00:00\",\"2018-04-04T00:00:00\",\"2018-04-05T00:00:00\",\"2018-04-06T00:00:00\",\"2018-04-09T00:00:00\",\"2018-04-10T00:00:00\",\"2018-04-11T00:00:00\",\"2018-04-12T00:00:00\",\"2018-04-13T00:00:00\",\"2018-04-16T00:00:00\",\"2018-04-17T00:00:00\",\"2018-04-18T00:00:00\",\"2018-04-19T00:00:00\",\"2018-04-20T00:00:00\",\"2018-04-23T00:00:00\",\"2018-04-24T00:00:00\",\"2018-04-25T00:00:00\",\"2018-04-26T00:00:00\",\"2018-04-27T00:00:00\",\"2018-04-30T00:00:00\",\"2018-05-01T00:00:00\",\"2018-05-02T00:00:00\",\"2018-05-03T00:00:00\",\"2018-05-04T00:00:00\",\"2018-05-07T00:00:00\",\"2018-05-08T00:00:00\",\"2018-05-09T00:00:00\",\"2018-05-10T00:00:00\",\"2018-05-11T00:00:00\",\"2018-05-14T00:00:00\",\"2018-05-15T00:00:00\",\"2018-05-16T00:00:00\",\"2018-05-17T00:00:00\",\"2018-05-18T00:00:00\",\"2018-05-21T00:00:00\",\"2018-05-22T00:00:00\",\"2018-05-23T00:00:00\",\"2018-05-24T00:00:00\",\"2018-05-25T00:00:00\",\"2018-05-29T00:00:00\",\"2018-05-30T00:00:00\",\"2018-05-31T00:00:00\",\"2018-06-01T00:00:00\",\"2018-06-04T00:00:00\",\"2018-06-05T00:00:00\",\"2018-06-06T00:00:00\",\"2018-06-07T00:00:00\",\"2018-06-08T00:00:00\",\"2018-06-11T00:00:00\",\"2018-06-12T00:00:00\",\"2018-06-13T00:00:00\",\"2018-06-14T00:00:00\",\"2018-06-15T00:00:00\",\"2018-06-18T00:00:00\",\"2018-06-19T00:00:00\",\"2018-06-20T00:00:00\",\"2018-06-21T00:00:00\",\"2018-06-22T00:00:00\",\"2018-06-25T00:00:00\",\"2018-06-26T00:00:00\",\"2018-06-27T00:00:00\",\"2018-06-28T00:00:00\",\"2018-06-29T00:00:00\",\"2018-07-02T00:00:00\",\"2018-07-03T00:00:00\",\"2018-07-05T00:00:00\",\"2018-07-06T00:00:00\",\"2018-07-09T00:00:00\",\"2018-07-10T00:00:00\",\"2018-07-11T00:00:00\",\"2018-07-12T00:00:00\",\"2018-07-13T00:00:00\",\"2018-07-16T00:00:00\",\"2018-07-17T00:00:00\",\"2018-07-18T00:00:00\",\"2018-07-19T00:00:00\",\"2018-07-20T00:00:00\",\"2018-07-23T00:00:00\",\"2018-07-24T00:00:00\",\"2018-07-25T00:00:00\",\"2018-07-26T00:00:00\",\"2018-07-27T00:00:00\",\"2018-07-30T00:00:00\",\"2018-07-31T00:00:00\",\"2018-08-01T00:00:00\",\"2018-08-02T00:00:00\",\"2018-08-03T00:00:00\",\"2018-08-06T00:00:00\",\"2018-08-07T00:00:00\",\"2018-08-08T00:00:00\",\"2018-08-09T00:00:00\",\"2018-08-10T00:00:00\",\"2018-08-13T00:00:00\",\"2018-08-14T00:00:00\",\"2018-08-15T00:00:00\",\"2018-08-16T00:00:00\",\"2018-08-17T00:00:00\",\"2018-08-20T00:00:00\",\"2018-08-21T00:00:00\",\"2018-08-22T00:00:00\",\"2018-08-23T00:00:00\",\"2018-08-24T00:00:00\",\"2018-08-27T00:00:00\",\"2018-08-28T00:00:00\",\"2018-08-29T00:00:00\",\"2018-08-30T00:00:00\",\"2018-08-31T00:00:00\",\"2018-09-04T00:00:00\",\"2018-09-05T00:00:00\",\"2018-09-06T00:00:00\",\"2018-09-07T00:00:00\",\"2018-09-10T00:00:00\",\"2018-09-11T00:00:00\",\"2018-09-12T00:00:00\",\"2018-09-13T00:00:00\",\"2018-09-14T00:00:00\",\"2018-09-17T00:00:00\",\"2018-09-18T00:00:00\",\"2018-09-19T00:00:00\",\"2018-09-20T00:00:00\",\"2018-09-21T00:00:00\",\"2018-09-24T00:00:00\",\"2018-09-25T00:00:00\",\"2018-09-26T00:00:00\",\"2018-09-27T00:00:00\",\"2018-09-28T00:00:00\",\"2018-10-01T00:00:00\",\"2018-10-02T00:00:00\",\"2018-10-03T00:00:00\",\"2018-10-04T00:00:00\",\"2018-10-05T00:00:00\",\"2018-10-08T00:00:00\",\"2018-10-09T00:00:00\",\"2018-10-10T00:00:00\",\"2018-10-11T00:00:00\",\"2018-10-12T00:00:00\",\"2018-10-15T00:00:00\",\"2018-10-16T00:00:00\",\"2018-10-17T00:00:00\",\"2018-10-18T00:00:00\",\"2018-10-19T00:00:00\",\"2018-10-22T00:00:00\",\"2018-10-23T00:00:00\",\"2018-10-24T00:00:00\",\"2018-10-25T00:00:00\",\"2018-10-26T00:00:00\",\"2018-10-29T00:00:00\",\"2018-10-30T00:00:00\",\"2018-10-31T00:00:00\",\"2018-11-01T00:00:00\",\"2018-11-02T00:00:00\",\"2018-11-05T00:00:00\",\"2018-11-06T00:00:00\",\"2018-11-07T00:00:00\",\"2018-11-08T00:00:00\",\"2018-11-09T00:00:00\",\"2018-11-12T00:00:00\",\"2018-11-13T00:00:00\",\"2018-11-14T00:00:00\",\"2018-11-15T00:00:00\",\"2018-11-16T00:00:00\",\"2018-11-19T00:00:00\",\"2018-11-20T00:00:00\",\"2018-11-21T00:00:00\",\"2018-11-23T00:00:00\",\"2018-11-26T00:00:00\",\"2018-11-27T00:00:00\",\"2018-11-28T00:00:00\",\"2018-11-29T00:00:00\",\"2018-11-30T00:00:00\",\"2018-12-03T00:00:00\",\"2018-12-04T00:00:00\",\"2018-12-06T00:00:00\",\"2018-12-07T00:00:00\",\"2018-12-10T00:00:00\",\"2018-12-11T00:00:00\",\"2018-12-12T00:00:00\",\"2018-12-13T00:00:00\",\"2018-12-14T00:00:00\",\"2018-12-17T00:00:00\",\"2018-12-18T00:00:00\",\"2018-12-19T00:00:00\",\"2018-12-20T00:00:00\",\"2018-12-21T00:00:00\",\"2018-12-24T00:00:00\",\"2018-12-26T00:00:00\",\"2018-12-27T00:00:00\",\"2018-12-28T00:00:00\",\"2018-12-31T00:00:00\"]},{\"fill\":\"toself\",\"line\":{\"color\":\"red\"},\"mode\":\"lines\",\"name\":\"Incorrect Direction\",\"type\":\"scatter\",\"x\":[\"2018-01-01T21:36:00\",\"2018-01-02T00:00:00\",\"2018-01-02T02:24:00\",\"2018-01-01T21:36:00\"],\"y\":[2615.131875,2547.90375,2615.131875,2615.131875]},{\"fill\":\"toself\",\"line\":{\"color\":\"green\"},\"mode\":\"lines\",\"name\":\"Correct Direction\",\"type\":\"scatter\",\"x\":[\"2018-01-02T21:36:00\",\"2018-01-03T00:00:00\",\"2018-01-03T02:24:00\",\"2018-01-02T21:36:00\"],\"y\":[2781.598125,2848.82625,2781.598125,2781.598125]},{\"fill\":\"toself\",\"line\":{\"color\":\"green\"},\"mode\":\"lines\",\"showlegend\":false,\"type\":\"scatter\",\"x\":[\"2018-01-03T21:36:00\",\"2018-01-04T00:00:00\",\"2018-01-04T02:24:00\",\"2018-01-03T21:36:00\"],\"y\":[2651.841875,2584.61375,2651.841875,2651.841875]},{\"fill\":\"toself\",\"line\":{\"color\":\"green\"},\"mode\":\"lines\",\"showlegend\":false,\"type\":\"scatter\",\"x\":[\"2018-01-04T21:36:00\",\"2018-01-05T00:00:00\",\"2018-01-05T02:24:00\",\"2018-01-04T21:36:00\"],\"y\":[2810.678125,2877.90625,2810.678125,2810.678125]},{\"fill\":\"toself\",\"line\":{\"color\":\"green\"},\"mode\":\"lines\",\"showlegend\":false,\"type\":\"scatter\",\"x\":[\"2018-01-07T21:36:00\",\"2018-01-08T00:00:00\",\"2018-01-08T02:24:00\",\"2018-01-07T21:36:00\"],\"y\":[2815.7381250000003,2882.9662500000004,2815.7381250000003,2815.7381250000003]},{\"fill\":\"toself\",\"line\":{\"color\":\"red\"},\"mode\":\"lines\",\"showlegend\":false,\"type\":\"scatter\",\"x\":[\"2018-01-08T21:36:00\",\"2018-01-09T00:00:00\",\"2018-01-09T02:24:00\",\"2018-01-08T21:36:00\"],\"y\":[2826.368125,2893.59625,2826.368125,2826.368125]},{\"fill\":\"toself\",\"line\":{\"color\":\"red\"},\"mode\":\"lines\",\"showlegend\":false,\"type\":\"scatter\",\"x\":[\"2018-01-09T21:36:00\",\"2018-01-10T00:00:00\",\"2018-01-10T02:24:00\",\"2018-01-09T21:36:00\"],\"y\":[2668.831875,2601.6037499999998,2668.831875,2668.831875]},{\"fill\":\"toself\",\"line\":{\"color\":\"green\"},\"mode\":\"lines\",\"showlegend\":false,\"type\":\"scatter\",\"x\":[\"2018-01-10T21:36:00\",\"2018-01-11T00:00:00\",\"2018-01-11T02:24:00\",\"2018-01-10T21:36:00\"],\"y\":[2834.788125,2902.01625,2834.788125,2834.788125]},{\"fill\":\"toself\",\"line\":{\"color\":\"red\"},\"mode\":\"lines\",\"showlegend\":false,\"type\":\"scatter\",\"x\":[\"2018-01-11T21:36:00\",\"2018-01-12T00:00:00\",\"2018-01-12T02:24:00\",\"2018-01-11T21:36:00\"],\"y\":[2702.411875,2635.1837499999997,2702.411875,2702.411875]},{\"fill\":\"toself\",\"line\":{\"color\":\"green\"},\"mode\":\"lines\",\"showlegend\":false,\"type\":\"scatter\",\"x\":[\"2018-01-15T21:36:00\",\"2018-01-16T00:00:00\",\"2018-01-16T02:24:00\",\"2018-01-15T21:36:00\"],\"y\":[2701.411875,2634.1837499999997,2701.411875,2701.411875]},{\"fill\":\"toself\",\"line\":{\"color\":\"green\"},\"mode\":\"lines\",\"showlegend\":false,\"type\":\"scatter\",\"x\":[\"2018-01-16T21:36:00\",\"2018-01-17T00:00:00\",\"2018-01-17T02:24:00\",\"2018-01-16T21:36:00\"],\"y\":[2874.268125,2941.49625,2874.268125,2874.268125]},{\"fill\":\"toself\",\"line\":{\"color\":\"green\"},\"mode\":\"lines\",\"showlegend\":false,\"type\":\"scatter\",\"x\":[\"2018-01-17T21:36:00\",\"2018-01-18T00:00:00\",\"2018-01-18T02:24:00\",\"2018-01-17T21:36:00\"],\"y\":[2873.058125,2940.28625,2873.058125,2873.058125]},{\"fill\":\"toself\",\"line\":{\"color\":\"green\"},\"mode\":\"lines\",\"showlegend\":false,\"type\":\"scatter\",\"x\":[\"2018-01-18T21:36:00\",\"2018-01-19T00:00:00\",\"2018-01-19T02:24:00\",\"2018-01-18T21:36:00\"],\"y\":[2877.558125,2944.78625,2877.558125,2877.558125]},{\"fill\":\"toself\",\"line\":{\"color\":\"green\"},\"mode\":\"lines\",\"showlegend\":false,\"type\":\"scatter\",\"x\":[\"2018-01-21T21:36:00\",\"2018-01-22T00:00:00\",\"2018-01-22T02:24:00\",\"2018-01-21T21:36:00\"],\"y\":[2900.2581250000003,2967.4862500000004,2900.2581250000003,2900.2581250000003]},{\"fill\":\"toself\",\"line\":{\"color\":\"green\"},\"mode\":\"lines\",\"showlegend\":false,\"type\":\"scatter\",\"x\":[\"2018-01-22T21:36:00\",\"2018-01-23T00:00:00\",\"2018-01-23T02:24:00\",\"2018-01-22T21:36:00\"],\"y\":[2909.468125,2976.69625,2909.468125,2909.468125]},{\"fill\":\"toself\",\"line\":{\"color\":\"red\"},\"mode\":\"lines\",\"showlegend\":false,\"type\":\"scatter\",\"x\":[\"2018-01-23T21:36:00\",\"2018-01-24T00:00:00\",\"2018-01-24T02:24:00\",\"2018-01-23T21:36:00\"],\"y\":[2920.198125,2987.42625,2920.198125,2920.198125]},{\"fill\":\"toself\",\"line\":{\"color\":\"green\"},\"mode\":\"lines\",\"showlegend\":false,\"type\":\"scatter\",\"x\":[\"2018-01-24T21:36:00\",\"2018-01-25T00:00:00\",\"2018-01-25T02:24:00\",\"2018-01-24T21:36:00\"],\"y\":[2763.711875,2696.48375,2763.711875,2763.711875]},{\"fill\":\"toself\",\"line\":{\"color\":\"green\"},\"mode\":\"lines\",\"showlegend\":false,\"type\":\"scatter\",\"x\":[\"2018-01-25T21:36:00\",\"2018-01-26T00:00:00\",\"2018-01-26T02:24:00\",\"2018-01-25T21:36:00\"],\"y\":[2940.098125,3007.32625,2940.098125,2940.098125]},{\"fill\":\"toself\",\"line\":{\"color\":\"green\"},\"mode\":\"lines\",\"showlegend\":false,\"type\":\"scatter\",\"x\":[\"2018-01-28T21:36:00\",\"2018-01-29T00:00:00\",\"2018-01-29T02:24:00\",\"2018-01-28T21:36:00\"],\"y\":[2784.251875,2717.02375,2784.251875,2784.251875]},{\"fill\":\"toself\",\"line\":{\"color\":\"green\"},\"mode\":\"lines\",\"showlegend\":false,\"type\":\"scatter\",\"x\":[\"2018-01-29T21:36:00\",\"2018-01-30T00:00:00\",\"2018-01-30T02:24:00\",\"2018-01-29T21:36:00\"],\"y\":[2904.978125,2972.20625,2904.978125,2904.978125]},{\"fill\":\"toself\",\"line\":{\"color\":\"red\"},\"mode\":\"lines\",\"showlegend\":false,\"type\":\"scatter\",\"x\":[\"2018-01-30T21:36:00\",\"2018-01-31T00:00:00\",\"2018-01-31T02:24:00\",\"2018-01-30T21:36:00\"],\"y\":[2906.4881250000003,2973.7162500000004,2906.4881250000003,2906.4881250000003]},{\"fill\":\"toself\",\"line\":{\"color\":\"red\"},\"mode\":\"lines\",\"showlegend\":false,\"type\":\"scatter\",\"x\":[\"2018-01-31T21:36:00\",\"2018-02-01T00:00:00\",\"2018-02-01T02:24:00\",\"2018-01-31T21:36:00\"],\"y\":[2745.4718749999997,2678.2437499999996,2745.4718749999997,2745.4718749999997]},{\"fill\":\"toself\",\"line\":{\"color\":\"green\"},\"mode\":\"lines\",\"showlegend\":false,\"type\":\"scatter\",\"x\":[\"2018-02-01T21:36:00\",\"2018-02-02T00:00:00\",\"2018-02-02T02:24:00\",\"2018-02-01T21:36:00\"],\"y\":[2692.7418749999997,2625.5137499999996,2692.7418749999997,2692.7418749999997]},{\"fill\":\"toself\",\"line\":{\"color\":\"red\"},\"mode\":\"lines\",\"showlegend\":false,\"type\":\"scatter\",\"x\":[\"2018-02-04T21:36:00\",\"2018-02-05T00:00:00\",\"2018-02-05T02:24:00\",\"2018-02-04T21:36:00\"],\"y\":[2830.618125,2897.84625,2830.618125,2830.618125]},{\"fill\":\"toself\",\"line\":{\"color\":\"red\"},\"mode\":\"lines\",\"showlegend\":false,\"type\":\"scatter\",\"x\":[\"2018-02-05T21:36:00\",\"2018-02-06T00:00:00\",\"2018-02-06T02:24:00\",\"2018-02-05T21:36:00\"],\"y\":[2525.841875,2458.61375,2525.841875,2525.841875]},{\"fill\":\"toself\",\"line\":{\"color\":\"red\"},\"mode\":\"lines\",\"showlegend\":false,\"type\":\"scatter\",\"x\":[\"2018-02-06T21:36:00\",\"2018-02-07T00:00:00\",\"2018-02-07T02:24:00\",\"2018-02-06T21:36:00\"],\"y\":[2794.898125,2862.1262500000003,2794.898125,2794.898125]},{\"fill\":\"toself\",\"line\":{\"color\":\"red\"},\"mode\":\"lines\",\"showlegend\":false,\"type\":\"scatter\",\"x\":[\"2018-02-07T21:36:00\",\"2018-02-08T00:00:00\",\"2018-02-08T02:24:00\",\"2018-02-07T21:36:00\"],\"y\":[2752.498125,2819.72625,2752.498125,2752.498125]},{\"fill\":\"toself\",\"line\":{\"color\":\"red\"},\"mode\":\"lines\",\"showlegend\":false,\"type\":\"scatter\",\"x\":[\"2018-02-08T21:36:00\",\"2018-02-09T00:00:00\",\"2018-02-09T02:24:00\",\"2018-02-08T21:36:00\"],\"y\":[2465.461875,2398.23375,2465.461875,2465.461875]},{\"fill\":\"toself\",\"line\":{\"color\":\"green\"},\"mode\":\"lines\",\"showlegend\":false,\"type\":\"scatter\",\"x\":[\"2018-02-11T21:36:00\",\"2018-02-12T00:00:00\",\"2018-02-12T02:24:00\",\"2018-02-11T21:36:00\"],\"y\":[2739.838125,2807.0662500000003,2739.838125,2739.838125]},{\"fill\":\"toself\",\"line\":{\"color\":\"green\"},\"mode\":\"lines\",\"showlegend\":false,\"type\":\"scatter\",\"x\":[\"2018-02-12T21:36:00\",\"2018-02-13T00:00:00\",\"2018-02-13T02:24:00\",\"2018-02-12T21:36:00\"],\"y\":[2736.0681250000002,2803.2962500000003,2736.0681250000002,2736.0681250000002]},{\"fill\":\"toself\",\"line\":{\"color\":\"green\"},\"mode\":\"lines\",\"showlegend\":false,\"type\":\"scatter\",\"x\":[\"2018-02-13T21:36:00\",\"2018-02-14T00:00:00\",\"2018-02-14T02:24:00\",\"2018-02-13T21:36:00\"],\"y\":[2769.328125,2836.55625,2769.328125,2769.328125]},{\"fill\":\"toself\",\"line\":{\"color\":\"green\"},\"mode\":\"lines\",\"showlegend\":false,\"type\":\"scatter\",\"x\":[\"2018-02-14T21:36:00\",\"2018-02-15T00:00:00\",\"2018-02-15T02:24:00\",\"2018-02-14T21:36:00\"],\"y\":[2798.7381250000003,2865.9662500000004,2798.7381250000003,2798.7381250000003]},{\"fill\":\"toself\",\"line\":{\"color\":\"green\"},\"mode\":\"lines\",\"showlegend\":false,\"type\":\"scatter\",\"x\":[\"2018-02-15T21:36:00\",\"2018-02-16T00:00:00\",\"2018-02-16T02:24:00\",\"2018-02-15T21:36:00\"],\"y\":[2821.648125,2888.8762500000003,2821.648125,2821.648125]},{\"fill\":\"toself\",\"line\":{\"color\":\"red\"},\"mode\":\"lines\",\"showlegend\":false,\"type\":\"scatter\",\"x\":[\"2018-02-19T21:36:00\",\"2018-02-20T00:00:00\",\"2018-02-20T02:24:00\",\"2018-02-19T21:36:00\"],\"y\":[2639.531875,2572.30375,2639.531875,2639.531875]},{\"fill\":\"toself\",\"line\":{\"color\":\"green\"},\"mode\":\"lines\",\"showlegend\":false,\"type\":\"scatter\",\"x\":[\"2018-02-20T21:36:00\",\"2018-02-21T00:00:00\",\"2018-02-21T02:24:00\",\"2018-02-20T21:36:00\"],\"y\":[2634.061875,2566.83375,2634.061875,2634.061875]},{\"fill\":\"toself\",\"line\":{\"color\":\"green\"},\"mode\":\"lines\",\"showlegend\":false,\"type\":\"scatter\",\"x\":[\"2018-02-21T21:36:00\",\"2018-02-22T00:00:00\",\"2018-02-22T02:24:00\",\"2018-02-21T21:36:00\"],\"y\":[2630.541875,2563.31375,2630.541875,2630.541875]},{\"fill\":\"toself\",\"line\":{\"color\":\"green\"},\"mode\":\"lines\",\"showlegend\":false,\"type\":\"scatter\",\"x\":[\"2018-02-22T21:36:00\",\"2018-02-23T00:00:00\",\"2018-02-23T02:24:00\",\"2018-02-22T21:36:00\"],\"y\":[2814.9881250000003,2882.2162500000004,2814.9881250000003,2814.9881250000003]},{\"fill\":\"toself\",\"line\":{\"color\":\"red\"},\"mode\":\"lines\",\"showlegend\":false,\"type\":\"scatter\",\"x\":[\"2018-02-25T21:36:00\",\"2018-02-26T00:00:00\",\"2018-02-26T02:24:00\",\"2018-02-25T21:36:00\"],\"y\":[2686.551875,2619.32375,2686.551875,2686.551875]},{\"fill\":\"toself\",\"line\":{\"color\":\"red\"},\"mode\":\"lines\",\"showlegend\":false,\"type\":\"scatter\",\"x\":[\"2018-02-26T21:36:00\",\"2018-02-27T00:00:00\",\"2018-02-27T02:24:00\",\"2018-02-26T21:36:00\"],\"y\":[2856.378125,2923.6062500000003,2856.378125,2856.378125]},{\"fill\":\"toself\",\"line\":{\"color\":\"green\"},\"mode\":\"lines\",\"showlegend\":false,\"type\":\"scatter\",\"x\":[\"2018-02-27T21:36:00\",\"2018-02-28T00:00:00\",\"2018-02-28T02:24:00\",\"2018-02-27T21:36:00\"],\"y\":[2646.311875,2579.08375,2646.311875,2646.311875]},{\"fill\":\"toself\",\"line\":{\"color\":\"red\"},\"mode\":\"lines\",\"showlegend\":false,\"type\":\"scatter\",\"x\":[\"2018-02-28T21:36:00\",\"2018-03-01T00:00:00\",\"2018-03-01T02:24:00\",\"2018-02-28T21:36:00\"],\"y\":[2798.118125,2865.34625,2798.118125,2798.118125]},{\"fill\":\"toself\",\"line\":{\"color\":\"red\"},\"mode\":\"lines\",\"showlegend\":false,\"type\":\"scatter\",\"x\":[\"2018-03-01T21:36:00\",\"2018-03-02T00:00:00\",\"2018-03-02T02:24:00\",\"2018-03-01T21:36:00\"],\"y\":[2580.091875,2512.86375,2580.091875,2580.091875]},{\"fill\":\"toself\",\"line\":{\"color\":\"green\"},\"mode\":\"lines\",\"showlegend\":false,\"type\":\"scatter\",\"x\":[\"2018-03-04T21:36:00\",\"2018-03-05T00:00:00\",\"2018-03-05T02:24:00\",\"2018-03-04T21:36:00\"],\"y\":[2795.3181250000002,2862.5462500000003,2795.3181250000002,2795.3181250000002]},{\"fill\":\"toself\",\"line\":{\"color\":\"green\"},\"mode\":\"lines\",\"showlegend\":false,\"type\":\"scatter\",\"x\":[\"2018-03-05T21:36:00\",\"2018-03-06T00:00:00\",\"2018-03-06T02:24:00\",\"2018-03-05T21:36:00\"],\"y\":[2799.308125,2866.53625,2799.308125,2799.308125]},{\"fill\":\"toself\",\"line\":{\"color\":\"green\"},\"mode\":\"lines\",\"showlegend\":false,\"type\":\"scatter\",\"x\":[\"2018-03-06T21:36:00\",\"2018-03-07T00:00:00\",\"2018-03-07T02:24:00\",\"2018-03-06T21:36:00\"],\"y\":[2797.828125,2865.05625,2797.828125,2797.828125]},{\"fill\":\"toself\",\"line\":{\"color\":\"green\"},\"mode\":\"lines\",\"showlegend\":false,\"type\":\"scatter\",\"x\":[\"2018-03-07T21:36:00\",\"2018-03-08T00:00:00\",\"2018-03-08T02:24:00\",\"2018-03-07T21:36:00\"],\"y\":[2807.678125,2874.90625,2807.678125,2807.678125]},{\"fill\":\"toself\",\"line\":{\"color\":\"green\"},\"mode\":\"lines\",\"showlegend\":false,\"type\":\"scatter\",\"x\":[\"2018-03-08T21:36:00\",\"2018-03-09T00:00:00\",\"2018-03-09T02:24:00\",\"2018-03-08T21:36:00\"],\"y\":[2853.7981250000003,2921.0262500000003,2853.7981250000003,2853.7981250000003]},{\"fill\":\"toself\",\"line\":{\"color\":\"green\"},\"mode\":\"lines\",\"showlegend\":false,\"type\":\"scatter\",\"x\":[\"2018-03-11T21:36:00\",\"2018-03-12T00:00:00\",\"2018-03-12T02:24:00\",\"2018-03-11T21:36:00\"],\"y\":[2864.208125,2931.43625,2864.208125,2864.208125]},{\"fill\":\"toself\",\"line\":{\"color\":\"red\"},\"mode\":\"lines\",\"showlegend\":false,\"type\":\"scatter\",\"x\":[\"2018-03-12T21:36:00\",\"2018-03-13T00:00:00\",\"2018-03-13T02:24:00\",\"2018-03-12T21:36:00\"],\"y\":[2869.128125,2936.3562500000003,2869.128125,2869.128125]},{\"fill\":\"toself\",\"line\":{\"color\":\"green\"},\"mode\":\"lines\",\"showlegend\":false,\"type\":\"scatter\",\"x\":[\"2018-03-13T21:36:00\",\"2018-03-14T00:00:00\",\"2018-03-14T02:24:00\",\"2018-03-13T21:36:00\"],\"y\":[2677.151875,2609.92375,2677.151875,2677.151875]},{\"fill\":\"toself\",\"line\":{\"color\":\"green\"},\"mode\":\"lines\",\"showlegend\":false,\"type\":\"scatter\",\"x\":[\"2018-03-14T21:36:00\",\"2018-03-15T00:00:00\",\"2018-03-15T02:24:00\",\"2018-03-14T21:36:00\"],\"y\":[2674.2418749999997,2607.0137499999996,2674.2418749999997,2674.2418749999997]},{\"fill\":\"toself\",\"line\":{\"color\":\"red\"},\"mode\":\"lines\",\"showlegend\":false,\"type\":\"scatter\",\"x\":[\"2018-03-15T21:36:00\",\"2018-03-16T00:00:00\",\"2018-03-16T02:24:00\",\"2018-03-15T21:36:00\"],\"y\":[2829.078125,2896.30625,2829.078125,2829.078125]},{\"fill\":\"toself\",\"line\":{\"color\":\"green\"},\"mode\":\"lines\",\"showlegend\":false,\"type\":\"scatter\",\"x\":[\"2018-03-18T21:36:00\",\"2018-03-19T00:00:00\",\"2018-03-19T02:24:00\",\"2018-03-18T21:36:00\"],\"y\":[2627.361875,2560.13375,2627.361875,2627.361875]},{\"fill\":\"toself\",\"line\":{\"color\":\"red\"},\"mode\":\"lines\",\"showlegend\":false,\"type\":\"scatter\",\"x\":[\"2018-03-19T21:36:00\",\"2018-03-20T00:00:00\",\"2018-03-20T02:24:00\",\"2018-03-19T21:36:00\"],\"y\":[2642.821875,2575.59375,2642.821875,2642.821875]},{\"fill\":\"toself\",\"line\":{\"color\":\"green\"},\"mode\":\"lines\",\"showlegend\":false,\"type\":\"scatter\",\"x\":[\"2018-03-20T21:36:00\",\"2018-03-21T00:00:00\",\"2018-03-21T02:24:00\",\"2018-03-20T21:36:00\"],\"y\":[2642.561875,2575.33375,2642.561875,2642.561875]},{\"fill\":\"toself\",\"line\":{\"color\":\"green\"},\"mode\":\"lines\",\"showlegend\":false,\"type\":\"scatter\",\"x\":[\"2018-03-21T21:36:00\",\"2018-03-22T00:00:00\",\"2018-03-22T02:24:00\",\"2018-03-21T21:36:00\"],\"y\":[2574.361875,2507.13375,2574.361875,2574.361875]},{\"fill\":\"toself\",\"line\":{\"color\":\"green\"},\"mode\":\"lines\",\"showlegend\":false,\"type\":\"scatter\",\"x\":[\"2018-03-22T21:36:00\",\"2018-03-23T00:00:00\",\"2018-03-23T02:24:00\",\"2018-03-22T21:36:00\"],\"y\":[2518.661875,2451.4337499999997,2518.661875,2518.661875]},{\"fill\":\"toself\",\"line\":{\"color\":\"green\"},\"mode\":\"lines\",\"showlegend\":false,\"type\":\"scatter\",\"x\":[\"2018-03-25T21:36:00\",\"2018-03-26T00:00:00\",\"2018-03-26T02:24:00\",\"2018-03-25T21:36:00\"],\"y\":[2728.588125,2795.8162500000003,2728.588125,2728.588125]},{\"fill\":\"toself\",\"line\":{\"color\":\"red\"},\"mode\":\"lines\",\"showlegend\":false,\"type\":\"scatter\",\"x\":[\"2018-03-26T21:36:00\",\"2018-03-27T00:00:00\",\"2018-03-27T02:24:00\",\"2018-03-26T21:36:00\"],\"y\":[2742.0081250000003,2809.2362500000004,2742.0081250000003,2742.0081250000003]},{\"fill\":\"toself\",\"line\":{\"color\":\"red\"},\"mode\":\"lines\",\"showlegend\":false,\"type\":\"scatter\",\"x\":[\"2018-03-27T21:36:00\",\"2018-03-28T00:00:00\",\"2018-03-28T02:24:00\",\"2018-03-27T21:36:00\"],\"y\":[2699.878125,2767.1062500000003,2699.878125,2699.878125]},{\"fill\":\"toself\",\"line\":{\"color\":\"red\"},\"mode\":\"lines\",\"showlegend\":false,\"type\":\"scatter\",\"x\":[\"2018-03-28T21:36:00\",\"2018-03-29T00:00:00\",\"2018-03-29T02:24:00\",\"2018-03-28T21:36:00\"],\"y\":[2542.4918749999997,2475.2637499999996,2542.4918749999997,2542.4918749999997]},{\"fill\":\"toself\",\"line\":{\"color\":\"red\"},\"mode\":\"lines\",\"showlegend\":false,\"type\":\"scatter\",\"x\":[\"2018-04-01T21:36:00\",\"2018-04-02T00:00:00\",\"2018-04-02T02:24:00\",\"2018-04-01T21:36:00\"],\"y\":[2705.5281250000003,2772.7562500000004,2705.5281250000003,2705.5281250000003]},{\"fill\":\"toself\",\"line\":{\"color\":\"red\"},\"mode\":\"lines\",\"showlegend\":false,\"type\":\"scatter\",\"x\":[\"2018-04-02T21:36:00\",\"2018-04-03T00:00:00\",\"2018-04-03T02:24:00\",\"2018-04-02T21:36:00\"],\"y\":[2508.2618749999997,2441.0337499999996,2508.2618749999997,2508.2618749999997]},{\"fill\":\"toself\",\"line\":{\"color\":\"red\"},\"mode\":\"lines\",\"showlegend\":false,\"type\":\"scatter\",\"x\":[\"2018-04-03T21:36:00\",\"2018-04-04T00:00:00\",\"2018-04-04T02:24:00\",\"2018-04-03T21:36:00\"],\"y\":[2506.381875,2439.15375,2506.381875,2506.381875]},{\"fill\":\"toself\",\"line\":{\"color\":\"red\"},\"mode\":\"lines\",\"showlegend\":false,\"type\":\"scatter\",\"x\":[\"2018-04-04T21:36:00\",\"2018-04-05T00:00:00\",\"2018-04-05T02:24:00\",\"2018-04-04T21:36:00\"],\"y\":[2739.308125,2806.53625,2739.308125,2739.308125]},{\"fill\":\"toself\",\"line\":{\"color\":\"red\"},\"mode\":\"lines\",\"showlegend\":false,\"type\":\"scatter\",\"x\":[\"2018-04-05T21:36:00\",\"2018-04-06T00:00:00\",\"2018-04-06T02:24:00\",\"2018-04-05T21:36:00\"],\"y\":[2724.108125,2791.3362500000003,2724.108125,2724.108125]},{\"fill\":\"toself\",\"line\":{\"color\":\"red\"},\"mode\":\"lines\",\"showlegend\":false,\"type\":\"scatter\",\"x\":[\"2018-04-08T21:36:00\",\"2018-04-09T00:00:00\",\"2018-04-09T02:24:00\",\"2018-04-08T21:36:00\"],\"y\":[2720.7781250000003,2788.0062500000004,2720.7781250000003,2720.7781250000003]},{\"fill\":\"toself\",\"line\":{\"color\":\"green\"},\"mode\":\"lines\",\"showlegend\":false,\"type\":\"scatter\",\"x\":[\"2018-04-09T21:36:00\",\"2018-04-10T00:00:00\",\"2018-04-10T02:24:00\",\"2018-04-09T21:36:00\"],\"y\":[2732.678125,2799.90625,2732.678125,2732.678125]},{\"fill\":\"toself\",\"line\":{\"color\":\"red\"},\"mode\":\"lines\",\"showlegend\":false,\"type\":\"scatter\",\"x\":[\"2018-04-10T21:36:00\",\"2018-04-11T00:00:00\",\"2018-04-11T02:24:00\",\"2018-04-10T21:36:00\"],\"y\":[2572.021875,2504.79375,2572.021875,2572.021875]},{\"fill\":\"toself\",\"line\":{\"color\":\"red\"},\"mode\":\"lines\",\"showlegend\":false,\"type\":\"scatter\",\"x\":[\"2018-04-11T21:36:00\",\"2018-04-12T00:00:00\",\"2018-04-12T02:24:00\",\"2018-04-11T21:36:00\"],\"y\":[2586.601875,2519.3737499999997,2586.601875,2586.601875]},{\"fill\":\"toself\",\"line\":{\"color\":\"green\"},\"mode\":\"lines\",\"showlegend\":false,\"type\":\"scatter\",\"x\":[\"2018-04-12T21:36:00\",\"2018-04-13T00:00:00\",\"2018-04-13T02:24:00\",\"2018-04-12T21:36:00\"],\"y\":[2577.821875,2510.59375,2577.821875,2577.821875]},{\"fill\":\"toself\",\"line\":{\"color\":\"green\"},\"mode\":\"lines\",\"showlegend\":false,\"type\":\"scatter\",\"x\":[\"2018-04-15T21:36:00\",\"2018-04-16T00:00:00\",\"2018-04-16T02:24:00\",\"2018-04-15T21:36:00\"],\"y\":[2753.718125,2820.94625,2753.718125,2753.718125]},{\"fill\":\"toself\",\"line\":{\"color\":\"red\"},\"mode\":\"lines\",\"showlegend\":false,\"type\":\"scatter\",\"x\":[\"2018-04-16T21:36:00\",\"2018-04-17T00:00:00\",\"2018-04-17T02:24:00\",\"2018-04-16T21:36:00\"],\"y\":[2624.821875,2557.59375,2624.821875,2624.821875]},{\"fill\":\"toself\",\"line\":{\"color\":\"green\"},\"mode\":\"lines\",\"showlegend\":false,\"type\":\"scatter\",\"x\":[\"2018-04-17T21:36:00\",\"2018-04-18T00:00:00\",\"2018-04-18T02:24:00\",\"2018-04-17T21:36:00\"],\"y\":[2784.718125,2851.94625,2784.718125,2784.718125]},{\"fill\":\"toself\",\"line\":{\"color\":\"red\"},\"mode\":\"lines\",\"showlegend\":false,\"type\":\"scatter\",\"x\":[\"2018-04-18T21:36:00\",\"2018-04-19T00:00:00\",\"2018-04-19T02:24:00\",\"2018-04-18T21:36:00\"],\"y\":[2770.0681250000002,2837.2962500000003,2770.0681250000002,2770.0681250000002]},{\"fill\":\"toself\",\"line\":{\"color\":\"green\"},\"mode\":\"lines\",\"showlegend\":false,\"type\":\"scatter\",\"x\":[\"2018-04-19T21:36:00\",\"2018-04-20T00:00:00\",\"2018-04-20T02:24:00\",\"2018-04-19T21:36:00\"],\"y\":[2593.381875,2526.15375,2593.381875,2593.381875]},{\"fill\":\"toself\",\"line\":{\"color\":\"green\"},\"mode\":\"lines\",\"showlegend\":false,\"type\":\"scatter\",\"x\":[\"2018-04-22T21:36:00\",\"2018-04-23T00:00:00\",\"2018-04-23T02:24:00\",\"2018-04-22T21:36:00\"],\"y\":[2590.7618749999997,2523.5337499999996,2590.7618749999997,2590.7618749999997]},{\"fill\":\"toself\",\"line\":{\"color\":\"green\"},\"mode\":\"lines\",\"showlegend\":false,\"type\":\"scatter\",\"x\":[\"2018-04-23T21:36:00\",\"2018-04-24T00:00:00\",\"2018-04-24T02:24:00\",\"2018-04-23T21:36:00\"],\"y\":[2550.091875,2482.86375,2550.091875,2550.091875]},{\"fill\":\"toself\",\"line\":{\"color\":\"green\"},\"mode\":\"lines\",\"showlegend\":false,\"type\":\"scatter\",\"x\":[\"2018-04-24T21:36:00\",\"2018-04-25T00:00:00\",\"2018-04-25T02:24:00\",\"2018-04-24T21:36:00\"],\"y\":[2545.441875,2478.21375,2545.441875,2545.441875]},{\"fill\":\"toself\",\"line\":{\"color\":\"green\"},\"mode\":\"lines\",\"showlegend\":false,\"type\":\"scatter\",\"x\":[\"2018-04-25T21:36:00\",\"2018-04-26T00:00:00\",\"2018-04-26T02:24:00\",\"2018-04-25T21:36:00\"],\"y\":[2743.708125,2810.93625,2743.708125,2743.708125]},{\"fill\":\"toself\",\"line\":{\"color\":\"red\"},\"mode\":\"lines\",\"showlegend\":false,\"type\":\"scatter\",\"x\":[\"2018-04-26T21:36:00\",\"2018-04-27T00:00:00\",\"2018-04-27T02:24:00\",\"2018-04-26T21:36:00\"],\"y\":[2744.578125,2811.80625,2744.578125,2744.578125]},{\"fill\":\"toself\",\"line\":{\"color\":\"green\"},\"mode\":\"lines\",\"showlegend\":false,\"type\":\"scatter\",\"x\":[\"2018-04-29T21:36:00\",\"2018-04-30T00:00:00\",\"2018-04-30T02:24:00\",\"2018-04-29T21:36:00\"],\"y\":[2580.811875,2513.58375,2580.811875,2580.811875]},{\"fill\":\"toself\",\"line\":{\"color\":\"red\"},\"mode\":\"lines\",\"showlegend\":false,\"type\":\"scatter\",\"x\":[\"2018-04-30T21:36:00\",\"2018-05-01T00:00:00\",\"2018-05-01T02:24:00\",\"2018-04-30T21:36:00\"],\"y\":[2558.1818749999998,2490.9537499999997,2558.1818749999998,2558.1818749999998]},{\"fill\":\"toself\",\"line\":{\"color\":\"red\"},\"mode\":\"lines\",\"showlegend\":false,\"type\":\"scatter\",\"x\":[\"2018-05-01T21:36:00\",\"2018-05-02T00:00:00\",\"2018-05-02T02:24:00\",\"2018-05-01T21:36:00\"],\"y\":[2728.098125,2795.32625,2728.098125,2728.098125]},{\"fill\":\"toself\",\"line\":{\"color\":\"red\"},\"mode\":\"lines\",\"showlegend\":false,\"type\":\"scatter\",\"x\":[\"2018-05-02T21:36:00\",\"2018-05-03T00:00:00\",\"2018-05-03T02:24:00\",\"2018-05-02T21:36:00\"],\"y\":[2527.391875,2460.1637499999997,2527.391875,2527.391875]},{\"fill\":\"toself\",\"line\":{\"color\":\"green\"},\"mode\":\"lines\",\"showlegend\":false,\"type\":\"scatter\",\"x\":[\"2018-05-03T21:36:00\",\"2018-05-04T00:00:00\",\"2018-05-04T02:24:00\",\"2018-05-03T21:36:00\"],\"y\":[2738.158125,2805.38625,2738.158125,2738.158125]},{\"fill\":\"toself\",\"line\":{\"color\":\"green\"},\"mode\":\"lines\",\"showlegend\":false,\"type\":\"scatter\",\"x\":[\"2018-05-06T21:36:00\",\"2018-05-07T00:00:00\",\"2018-05-07T02:24:00\",\"2018-05-06T21:36:00\"],\"y\":[2750.578125,2817.80625,2750.578125,2750.578125]},{\"fill\":\"toself\",\"line\":{\"color\":\"green\"},\"mode\":\"lines\",\"showlegend\":false,\"type\":\"scatter\",\"x\":[\"2018-05-07T21:36:00\",\"2018-05-08T00:00:00\",\"2018-05-08T02:24:00\",\"2018-05-07T21:36:00\"],\"y\":[2743.5681250000002,2810.7962500000003,2743.5681250000002,2743.5681250000002]},{\"fill\":\"toself\",\"line\":{\"color\":\"red\"},\"mode\":\"lines\",\"showlegend\":false,\"type\":\"scatter\",\"x\":[\"2018-05-08T21:36:00\",\"2018-05-09T00:00:00\",\"2018-05-09T02:24:00\",\"2018-05-08T21:36:00\"],\"y\":[2606.911875,2539.6837499999997,2606.911875,2606.911875]},{\"fill\":\"toself\",\"line\":{\"color\":\"green\"},\"mode\":\"lines\",\"showlegend\":false,\"type\":\"scatter\",\"x\":[\"2018-05-09T21:36:00\",\"2018-05-10T00:00:00\",\"2018-05-10T02:24:00\",\"2018-05-09T21:36:00\"],\"y\":[2793.338125,2860.5662500000003,2793.338125,2793.338125]},{\"fill\":\"toself\",\"line\":{\"color\":\"green\"},\"mode\":\"lines\",\"showlegend\":false,\"type\":\"scatter\",\"x\":[\"2018-05-10T21:36:00\",\"2018-05-11T00:00:00\",\"2018-05-11T02:24:00\",\"2018-05-10T21:36:00\"],\"y\":[2800.088125,2867.3162500000003,2800.088125,2800.088125]},{\"fill\":\"toself\",\"line\":{\"color\":\"green\"},\"mode\":\"lines\",\"showlegend\":false,\"type\":\"scatter\",\"x\":[\"2018-05-13T21:36:00\",\"2018-05-14T00:00:00\",\"2018-05-14T02:24:00\",\"2018-05-13T21:36:00\"],\"y\":[2658.2418749999997,2591.0137499999996,2658.2418749999997,2658.2418749999997]},{\"fill\":\"toself\",\"line\":{\"color\":\"green\"},\"mode\":\"lines\",\"showlegend\":false,\"type\":\"scatter\",\"x\":[\"2018-05-14T21:36:00\",\"2018-05-15T00:00:00\",\"2018-05-15T02:24:00\",\"2018-05-14T21:36:00\"],\"y\":[2634.6818749999998,2567.4537499999997,2634.6818749999998,2634.6818749999998]},{\"fill\":\"toself\",\"line\":{\"color\":\"red\"},\"mode\":\"lines\",\"showlegend\":false,\"type\":\"scatter\",\"x\":[\"2018-05-15T21:36:00\",\"2018-05-16T00:00:00\",\"2018-05-16T02:24:00\",\"2018-05-15T21:36:00\"],\"y\":[2644.941875,2577.71375,2644.941875,2644.941875]},{\"fill\":\"toself\",\"line\":{\"color\":\"red\"},\"mode\":\"lines\",\"showlegend\":false,\"type\":\"scatter\",\"x\":[\"2018-05-16T21:36:00\",\"2018-05-17T00:00:00\",\"2018-05-17T02:24:00\",\"2018-05-16T21:36:00\"],\"y\":[2644.131875,2576.90375,2644.131875,2644.131875]},{\"fill\":\"toself\",\"line\":{\"color\":\"red\"},\"mode\":\"lines\",\"showlegend\":false,\"type\":\"scatter\",\"x\":[\"2018-05-17T21:36:00\",\"2018-05-18T00:00:00\",\"2018-05-18T02:24:00\",\"2018-05-17T21:36:00\"],\"y\":[2786.728125,2853.95625,2786.728125,2786.728125]},{\"fill\":\"toself\",\"line\":{\"color\":\"red\"},\"mode\":\"lines\",\"showlegend\":false,\"type\":\"scatter\",\"x\":[\"2018-05-20T21:36:00\",\"2018-05-21T00:00:00\",\"2018-05-21T02:24:00\",\"2018-05-20T21:36:00\"],\"y\":[2806.418125,2873.6462500000002,2806.418125,2806.418125]},{\"fill\":\"toself\",\"line\":{\"color\":\"green\"},\"mode\":\"lines\",\"showlegend\":false,\"type\":\"scatter\",\"x\":[\"2018-05-21T21:36:00\",\"2018-05-22T00:00:00\",\"2018-05-22T02:24:00\",\"2018-05-21T21:36:00\"],\"y\":[2654.651875,2587.42375,2654.651875,2654.651875]},{\"fill\":\"toself\",\"line\":{\"color\":\"green\"},\"mode\":\"lines\",\"showlegend\":false,\"type\":\"scatter\",\"x\":[\"2018-05-22T21:36:00\",\"2018-05-23T00:00:00\",\"2018-05-23T02:24:00\",\"2018-05-22T21:36:00\"],\"y\":[2800.558125,2867.78625,2800.558125,2800.558125]},{\"fill\":\"toself\",\"line\":{\"color\":\"green\"},\"mode\":\"lines\",\"showlegend\":false,\"type\":\"scatter\",\"x\":[\"2018-05-23T21:36:00\",\"2018-05-24T00:00:00\",\"2018-05-24T02:24:00\",\"2018-05-23T21:36:00\"],\"y\":[2799.198125,2866.42625,2799.198125,2799.198125]},{\"fill\":\"toself\",\"line\":{\"color\":\"green\"},\"mode\":\"lines\",\"showlegend\":false,\"type\":\"scatter\",\"x\":[\"2018-05-24T21:36:00\",\"2018-05-25T00:00:00\",\"2018-05-25T02:24:00\",\"2018-05-24T21:36:00\"],\"y\":[2794.588125,2861.8162500000003,2794.588125,2794.588125]},{\"fill\":\"toself\",\"line\":{\"color\":\"red\"},\"mode\":\"lines\",\"showlegend\":false,\"type\":\"scatter\",\"x\":[\"2018-05-28T21:36:00\",\"2018-05-29T00:00:00\",\"2018-05-29T02:24:00\",\"2018-05-28T21:36:00\"],\"y\":[2777.898125,2845.1262500000003,2777.898125,2777.898125]},{\"fill\":\"toself\",\"line\":{\"color\":\"red\"},\"mode\":\"lines\",\"showlegend\":false,\"type\":\"scatter\",\"x\":[\"2018-05-29T21:36:00\",\"2018-05-30T00:00:00\",\"2018-05-30T02:24:00\",\"2018-05-29T21:36:00\"],\"y\":[2635.2018749999997,2567.9737499999997,2635.2018749999997,2635.2018749999997]},{\"fill\":\"toself\",\"line\":{\"color\":\"green\"},\"mode\":\"lines\",\"showlegend\":false,\"type\":\"scatter\",\"x\":[\"2018-05-30T21:36:00\",\"2018-05-31T00:00:00\",\"2018-05-31T02:24:00\",\"2018-05-30T21:36:00\"],\"y\":[2633.4518749999997,2566.2237499999997,2633.4518749999997,2633.4518749999997]},{\"fill\":\"toself\",\"line\":{\"color\":\"green\"},\"mode\":\"lines\",\"showlegend\":false,\"type\":\"scatter\",\"x\":[\"2018-05-31T21:36:00\",\"2018-06-01T00:00:00\",\"2018-06-01T02:24:00\",\"2018-05-31T21:36:00\"],\"y\":[2804.158125,2871.38625,2804.158125,2804.158125]},{\"fill\":\"toself\",\"line\":{\"color\":\"green\"},\"mode\":\"lines\",\"showlegend\":false,\"type\":\"scatter\",\"x\":[\"2018-06-03T21:36:00\",\"2018-06-04T00:00:00\",\"2018-06-04T02:24:00\",\"2018-06-03T21:36:00\"],\"y\":[2816.388125,2883.61625,2816.388125,2816.388125]},{\"fill\":\"toself\",\"line\":{\"color\":\"green\"},\"mode\":\"lines\",\"showlegend\":false,\"type\":\"scatter\",\"x\":[\"2018-06-04T21:36:00\",\"2018-06-05T00:00:00\",\"2018-06-05T02:24:00\",\"2018-06-04T21:36:00\"],\"y\":[2819.838125,2887.0662500000003,2819.838125,2819.838125]},{\"fill\":\"toself\",\"line\":{\"color\":\"green\"},\"mode\":\"lines\",\"showlegend\":false,\"type\":\"scatter\",\"x\":[\"2018-06-05T21:36:00\",\"2018-06-06T00:00:00\",\"2018-06-06T02:24:00\",\"2018-06-05T21:36:00\"],\"y\":[2839.618125,2906.84625,2839.618125,2839.618125]},{\"fill\":\"toself\",\"line\":{\"color\":\"red\"},\"mode\":\"lines\",\"showlegend\":false,\"type\":\"scatter\",\"x\":[\"2018-06-06T21:36:00\",\"2018-06-07T00:00:00\",\"2018-06-07T02:24:00\",\"2018-06-06T21:36:00\"],\"y\":[2847.128125,2914.3562500000003,2847.128125,2847.128125]},{\"fill\":\"toself\",\"line\":{\"color\":\"green\"},\"mode\":\"lines\",\"showlegend\":false,\"type\":\"scatter\",\"x\":[\"2018-06-07T21:36:00\",\"2018-06-08T00:00:00\",\"2018-06-08T02:24:00\",\"2018-06-07T21:36:00\"],\"y\":[2846.618125,2913.84625,2846.618125,2846.618125]},{\"fill\":\"toself\",\"line\":{\"color\":\"red\"},\"mode\":\"lines\",\"showlegend\":false,\"type\":\"scatter\",\"x\":[\"2018-06-10T21:36:00\",\"2018-06-11T00:00:00\",\"2018-06-11T02:24:00\",\"2018-06-10T21:36:00\"],\"y\":[2712.941875,2645.71375,2712.941875,2712.941875]},{\"fill\":\"toself\",\"line\":{\"color\":\"green\"},\"mode\":\"lines\",\"showlegend\":false,\"type\":\"scatter\",\"x\":[\"2018-06-11T21:36:00\",\"2018-06-12T00:00:00\",\"2018-06-12T02:24:00\",\"2018-06-11T21:36:00\"],\"y\":[2857.0281250000003,2924.2562500000004,2857.0281250000003,2857.0281250000003]},{\"fill\":\"toself\",\"line\":{\"color\":\"green\"},\"mode\":\"lines\",\"showlegend\":false,\"type\":\"scatter\",\"x\":[\"2018-06-12T21:36:00\",\"2018-06-13T00:00:00\",\"2018-06-13T02:24:00\",\"2018-06-12T21:36:00\"],\"y\":[2707.421875,2640.19375,2707.421875,2707.421875]},{\"fill\":\"toself\",\"line\":{\"color\":\"green\"},\"mode\":\"lines\",\"showlegend\":false,\"type\":\"scatter\",\"x\":[\"2018-06-13T21:36:00\",\"2018-06-14T00:00:00\",\"2018-06-14T02:24:00\",\"2018-06-13T21:36:00\"],\"y\":[2856.288125,2923.51625,2856.288125,2856.288125]},{\"fill\":\"toself\",\"line\":{\"color\":\"green\"},\"mode\":\"lines\",\"showlegend\":false,\"type\":\"scatter\",\"x\":[\"2018-06-14T21:36:00\",\"2018-06-15T00:00:00\",\"2018-06-15T02:24:00\",\"2018-06-14T21:36:00\"],\"y\":[2850.038125,2917.26625,2850.038125,2850.038125]},{\"fill\":\"toself\",\"line\":{\"color\":\"green\"},\"mode\":\"lines\",\"showlegend\":false,\"type\":\"scatter\",\"x\":[\"2018-06-17T21:36:00\",\"2018-06-18T00:00:00\",\"2018-06-18T02:24:00\",\"2018-06-17T21:36:00\"],\"y\":[2842.218125,2909.44625,2842.218125,2842.218125]},{\"fill\":\"toself\",\"line\":{\"color\":\"red\"},\"mode\":\"lines\",\"showlegend\":false,\"type\":\"scatter\",\"x\":[\"2018-06-18T21:36:00\",\"2018-06-19T00:00:00\",\"2018-06-19T02:24:00\",\"2018-06-18T21:36:00\"],\"y\":[2675.961875,2608.73375,2675.961875,2675.961875]},{\"fill\":\"toself\",\"line\":{\"color\":\"red\"},\"mode\":\"lines\",\"showlegend\":false,\"type\":\"scatter\",\"x\":[\"2018-06-19T21:36:00\",\"2018-06-20T00:00:00\",\"2018-06-20T02:24:00\",\"2018-06-19T21:36:00\"],\"y\":[2696.6818749999998,2629.4537499999997,2696.6818749999998,2696.6818749999998]},{\"fill\":\"toself\",\"line\":{\"color\":\"green\"},\"mode\":\"lines\",\"showlegend\":false,\"type\":\"scatter\",\"x\":[\"2018-06-20T21:36:00\",\"2018-06-21T00:00:00\",\"2018-06-21T02:24:00\",\"2018-06-20T21:36:00\"],\"y\":[2677.161875,2609.9337499999997,2677.161875,2677.161875]},{\"fill\":\"toself\",\"line\":{\"color\":\"red\"},\"mode\":\"lines\",\"showlegend\":false,\"type\":\"scatter\",\"x\":[\"2018-06-21T21:36:00\",\"2018-06-22T00:00:00\",\"2018-06-22T02:24:00\",\"2018-06-21T21:36:00\"],\"y\":[2831.398125,2898.6262500000003,2831.398125,2831.398125]},{\"fill\":\"toself\",\"line\":{\"color\":\"green\"},\"mode\":\"lines\",\"showlegend\":false,\"type\":\"scatter\",\"x\":[\"2018-06-24T21:36:00\",\"2018-06-25T00:00:00\",\"2018-06-25T02:24:00\",\"2018-06-24T21:36:00\"],\"y\":[2631.441875,2564.21375,2631.441875,2631.441875]},{\"fill\":\"toself\",\"line\":{\"color\":\"red\"},\"mode\":\"lines\",\"showlegend\":false,\"type\":\"scatter\",\"x\":[\"2018-06-25T21:36:00\",\"2018-06-26T00:00:00\",\"2018-06-26T02:24:00\",\"2018-06-25T21:36:00\"],\"y\":[2648.371875,2581.1437499999997,2648.371875,2648.371875]},{\"fill\":\"toself\",\"line\":{\"color\":\"green\"},\"mode\":\"lines\",\"showlegend\":false,\"type\":\"scatter\",\"x\":[\"2018-06-26T21:36:00\",\"2018-06-27T00:00:00\",\"2018-06-27T02:24:00\",\"2018-06-26T21:36:00\"],\"y\":[2632.151875,2564.92375,2632.151875,2632.151875]},{\"fill\":\"toself\",\"line\":{\"color\":\"red\"},\"mode\":\"lines\",\"showlegend\":false,\"type\":\"scatter\",\"x\":[\"2018-06-27T21:36:00\",\"2018-06-28T00:00:00\",\"2018-06-28T02:24:00\",\"2018-06-27T21:36:00\"],\"y\":[2624.7618749999997,2557.5337499999996,2624.7618749999997,2624.7618749999997]},{\"fill\":\"toself\",\"line\":{\"color\":\"red\"},\"mode\":\"lines\",\"showlegend\":false,\"type\":\"scatter\",\"x\":[\"2018-06-28T21:36:00\",\"2018-06-29T00:00:00\",\"2018-06-29T02:24:00\",\"2018-06-28T21:36:00\"],\"y\":[2810.4881250000003,2877.7162500000004,2810.4881250000003,2810.4881250000003]},{\"fill\":\"toself\",\"line\":{\"color\":\"green\"},\"mode\":\"lines\",\"showlegend\":false,\"type\":\"scatter\",\"x\":[\"2018-07-01T21:36:00\",\"2018-07-02T00:00:00\",\"2018-07-02T02:24:00\",\"2018-07-01T21:36:00\"],\"y\":[2794.4881250000003,2861.7162500000004,2794.4881250000003,2794.4881250000003]},{\"fill\":\"toself\",\"line\":{\"color\":\"red\"},\"mode\":\"lines\",\"showlegend\":false,\"type\":\"scatter\",\"x\":[\"2018-07-02T21:36:00\",\"2018-07-03T00:00:00\",\"2018-07-03T02:24:00\",\"2018-07-02T21:36:00\"],\"y\":[2803.808125,2871.03625,2803.808125,2803.808125]},{\"fill\":\"toself\",\"line\":{\"color\":\"red\"},\"mode\":\"lines\",\"showlegend\":false,\"type\":\"scatter\",\"x\":[\"2018-07-04T21:36:00\",\"2018-07-05T00:00:00\",\"2018-07-05T02:24:00\",\"2018-07-04T21:36:00\"],\"y\":[2648.791875,2581.56375,2648.791875,2648.791875]},{\"fill\":\"toself\",\"line\":{\"color\":\"red\"},\"mode\":\"lines\",\"showlegend\":false,\"type\":\"scatter\",\"x\":[\"2018-07-05T21:36:00\",\"2018-07-06T00:00:00\",\"2018-07-06T02:24:00\",\"2018-07-05T21:36:00\"],\"y\":[2666.291875,2599.06375,2666.291875,2666.291875]},{\"fill\":\"toself\",\"line\":{\"color\":\"green\"},\"mode\":\"lines\",\"showlegend\":false,\"type\":\"scatter\",\"x\":[\"2018-07-08T21:36:00\",\"2018-07-09T00:00:00\",\"2018-07-09T02:24:00\",\"2018-07-08T21:36:00\"],\"y\":[2851.878125,2919.1062500000003,2851.878125,2851.878125]},{\"fill\":\"toself\",\"line\":{\"color\":\"red\"},\"mode\":\"lines\",\"showlegend\":false,\"type\":\"scatter\",\"x\":[\"2018-07-09T21:36:00\",\"2018-07-10T00:00:00\",\"2018-07-10T02:24:00\",\"2018-07-09T21:36:00\"],\"y\":[2862.808125,2930.03625,2862.808125,2862.808125]},{\"fill\":\"toself\",\"line\":{\"color\":\"green\"},\"mode\":\"lines\",\"showlegend\":false,\"type\":\"scatter\",\"x\":[\"2018-07-10T21:36:00\",\"2018-07-11T00:00:00\",\"2018-07-11T02:24:00\",\"2018-07-10T21:36:00\"],\"y\":[2853.138125,2920.36625,2853.138125,2853.138125]},{\"fill\":\"toself\",\"line\":{\"color\":\"green\"},\"mode\":\"lines\",\"showlegend\":false,\"type\":\"scatter\",\"x\":[\"2018-07-11T21:36:00\",\"2018-07-12T00:00:00\",\"2018-07-12T02:24:00\",\"2018-07-11T21:36:00\"],\"y\":[2866.448125,2933.67625,2866.448125,2866.448125]},{\"fill\":\"toself\",\"line\":{\"color\":\"green\"},\"mode\":\"lines\",\"showlegend\":false,\"type\":\"scatter\",\"x\":[\"2018-07-12T21:36:00\",\"2018-07-13T00:00:00\",\"2018-07-13T02:24:00\",\"2018-07-12T21:36:00\"],\"y\":[2724.461875,2657.23375,2724.461875,2724.461875]},{\"fill\":\"toself\",\"line\":{\"color\":\"red\"},\"mode\":\"lines\",\"showlegend\":false,\"type\":\"scatter\",\"x\":[\"2018-07-15T21:36:00\",\"2018-07-16T00:00:00\",\"2018-07-16T02:24:00\",\"2018-07-15T21:36:00\"],\"y\":[2870.938125,2938.16625,2870.938125,2870.938125]},{\"fill\":\"toself\",\"line\":{\"color\":\"red\"},\"mode\":\"lines\",\"showlegend\":false,\"type\":\"scatter\",\"x\":[\"2018-07-16T21:36:00\",\"2018-07-17T00:00:00\",\"2018-07-17T02:24:00\",\"2018-07-16T21:36:00\"],\"y\":[2722.0118749999997,2654.7837499999996,2722.0118749999997,2722.0118749999997]},{\"fill\":\"toself\",\"line\":{\"color\":\"red\"},\"mode\":\"lines\",\"showlegend\":false,\"type\":\"scatter\",\"x\":[\"2018-07-17T21:36:00\",\"2018-07-18T00:00:00\",\"2018-07-18T02:24:00\",\"2018-07-17T21:36:00\"],\"y\":[2883.9881250000003,2951.2162500000004,2883.9881250000003,2883.9881250000003]},{\"fill\":\"toself\",\"line\":{\"color\":\"red\"},\"mode\":\"lines\",\"showlegend\":false,\"type\":\"scatter\",\"x\":[\"2018-07-18T21:36:00\",\"2018-07-19T00:00:00\",\"2018-07-19T02:24:00\",\"2018-07-18T21:36:00\"],\"y\":[2879.2781250000003,2946.5062500000004,2879.2781250000003,2879.2781250000003]},{\"fill\":\"toself\",\"line\":{\"color\":\"red\"},\"mode\":\"lines\",\"showlegend\":false,\"type\":\"scatter\",\"x\":[\"2018-07-19T21:36:00\",\"2018-07-20T00:00:00\",\"2018-07-20T02:24:00\",\"2018-07-19T21:36:00\"],\"y\":[2876.928125,2944.15625,2876.928125,2876.928125]},{\"fill\":\"toself\",\"line\":{\"color\":\"red\"},\"mode\":\"lines\",\"showlegend\":false,\"type\":\"scatter\",\"x\":[\"2018-07-22T21:36:00\",\"2018-07-23T00:00:00\",\"2018-07-23T02:24:00\",\"2018-07-22T21:36:00\"],\"y\":[2727.911875,2660.6837499999997,2727.911875,2727.911875]},{\"fill\":\"toself\",\"line\":{\"color\":\"green\"},\"mode\":\"lines\",\"showlegend\":false,\"type\":\"scatter\",\"x\":[\"2018-07-23T21:36:00\",\"2018-07-24T00:00:00\",\"2018-07-24T02:24:00\",\"2018-07-23T21:36:00\"],\"y\":[2743.891875,2676.6637499999997,2743.891875,2743.891875]},{\"fill\":\"toself\",\"line\":{\"color\":\"green\"},\"mode\":\"lines\",\"showlegend\":false,\"type\":\"scatter\",\"x\":[\"2018-07-24T21:36:00\",\"2018-07-25T00:00:00\",\"2018-07-25T02:24:00\",\"2018-07-24T21:36:00\"],\"y\":[2915.2581250000003,2982.4862500000004,2915.2581250000003,2915.2581250000003]},{\"fill\":\"toself\",\"line\":{\"color\":\"green\"},\"mode\":\"lines\",\"showlegend\":false,\"type\":\"scatter\",\"x\":[\"2018-07-25T21:36:00\",\"2018-07-26T00:00:00\",\"2018-07-26T02:24:00\",\"2018-07-25T21:36:00\"],\"y\":[2912.7981250000003,2980.0262500000003,2912.7981250000003,2912.7981250000003]},{\"fill\":\"toself\",\"line\":{\"color\":\"green\"},\"mode\":\"lines\",\"showlegend\":false,\"type\":\"scatter\",\"x\":[\"2018-07-26T21:36:00\",\"2018-07-27T00:00:00\",\"2018-07-27T02:24:00\",\"2018-07-26T21:36:00\"],\"y\":[2741.111875,2673.88375,2741.111875,2741.111875]},{\"fill\":\"toself\",\"line\":{\"color\":\"green\"},\"mode\":\"lines\",\"showlegend\":false,\"type\":\"scatter\",\"x\":[\"2018-07-29T21:36:00\",\"2018-07-30T00:00:00\",\"2018-07-30T02:24:00\",\"2018-07-29T21:36:00\"],\"y\":[2730.881875,2663.65375,2730.881875,2730.881875]},{\"fill\":\"toself\",\"line\":{\"color\":\"red\"},\"mode\":\"lines\",\"showlegend\":false,\"type\":\"scatter\",\"x\":[\"2018-07-30T21:36:00\",\"2018-07-31T00:00:00\",\"2018-07-31T02:24:00\",\"2018-07-30T21:36:00\"],\"y\":[2740.831875,2673.6037499999998,2740.831875,2740.831875]},{\"fill\":\"toself\",\"line\":{\"color\":\"red\"},\"mode\":\"lines\",\"showlegend\":false,\"type\":\"scatter\",\"x\":[\"2018-07-31T21:36:00\",\"2018-08-01T00:00:00\",\"2018-08-01T02:24:00\",\"2018-07-31T21:36:00\"],\"y\":[2738.621875,2671.3937499999997,2738.621875,2738.621875]},{\"fill\":\"toself\",\"line\":{\"color\":\"green\"},\"mode\":\"lines\",\"showlegend\":false,\"type\":\"scatter\",\"x\":[\"2018-08-01T21:36:00\",\"2018-08-02T00:00:00\",\"2018-08-02T02:24:00\",\"2018-08-01T21:36:00\"],\"y\":[2897.138125,2964.36625,2897.138125,2897.138125]},{\"fill\":\"toself\",\"line\":{\"color\":\"red\"},\"mode\":\"lines\",\"showlegend\":false,\"type\":\"scatter\",\"x\":[\"2018-08-02T21:36:00\",\"2018-08-03T00:00:00\",\"2018-08-03T02:24:00\",\"2018-08-02T21:36:00\"],\"y\":[2907.608125,2974.8362500000003,2907.608125,2907.608125]},{\"fill\":\"toself\",\"line\":{\"color\":\"green\"},\"mode\":\"lines\",\"showlegend\":false,\"type\":\"scatter\",\"x\":[\"2018-08-05T21:36:00\",\"2018-08-06T00:00:00\",\"2018-08-06T02:24:00\",\"2018-08-05T21:36:00\"],\"y\":[2920.518125,2987.74625,2920.518125,2920.518125]},{\"fill\":\"toself\",\"line\":{\"color\":\"green\"},\"mode\":\"lines\",\"showlegend\":false,\"type\":\"scatter\",\"x\":[\"2018-08-06T21:36:00\",\"2018-08-07T00:00:00\",\"2018-08-07T02:24:00\",\"2018-08-06T21:36:00\"],\"y\":[2930.658125,2997.88625,2930.658125,2930.658125]},{\"fill\":\"toself\",\"line\":{\"color\":\"green\"},\"mode\":\"lines\",\"showlegend\":false,\"type\":\"scatter\",\"x\":[\"2018-08-07T21:36:00\",\"2018-08-08T00:00:00\",\"2018-08-08T02:24:00\",\"2018-08-07T21:36:00\"],\"y\":[2929.668125,2996.8962500000002,2929.668125,2929.668125]},{\"fill\":\"toself\",\"line\":{\"color\":\"green\"},\"mode\":\"lines\",\"showlegend\":false,\"type\":\"scatter\",\"x\":[\"2018-08-08T21:36:00\",\"2018-08-09T00:00:00\",\"2018-08-09T02:24:00\",\"2018-08-08T21:36:00\"],\"y\":[2929.708125,2996.93625,2929.708125,2929.708125]},{\"fill\":\"toself\",\"line\":{\"color\":\"green\"},\"mode\":\"lines\",\"showlegend\":false,\"type\":\"scatter\",\"x\":[\"2018-08-09T21:36:00\",\"2018-08-10T00:00:00\",\"2018-08-10T02:24:00\",\"2018-08-09T21:36:00\"],\"y\":[2909.428125,2976.65625,2909.428125,2909.428125]},{\"fill\":\"toself\",\"line\":{\"color\":\"green\"},\"mode\":\"lines\",\"showlegend\":false,\"type\":\"scatter\",\"x\":[\"2018-08-12T21:36:00\",\"2018-08-13T00:00:00\",\"2018-08-13T02:24:00\",\"2018-08-12T21:36:00\"],\"y\":[2752.651875,2685.42375,2752.651875,2752.651875]},{\"fill\":\"toself\",\"line\":{\"color\":\"green\"},\"mode\":\"lines\",\"showlegend\":false,\"type\":\"scatter\",\"x\":[\"2018-08-13T21:36:00\",\"2018-08-14T00:00:00\",\"2018-08-14T02:24:00\",\"2018-08-13T21:36:00\"],\"y\":[2910.338125,2977.5662500000003,2910.338125,2910.338125]},{\"fill\":\"toself\",\"line\":{\"color\":\"green\"},\"mode\":\"lines\",\"showlegend\":false,\"type\":\"scatter\",\"x\":[\"2018-08-14T21:36:00\",\"2018-08-15T00:00:00\",\"2018-08-15T02:24:00\",\"2018-08-14T21:36:00\"],\"y\":[2735.2618749999997,2668.0337499999996,2735.2618749999997,2735.2618749999997]},{\"fill\":\"toself\",\"line\":{\"color\":\"green\"},\"mode\":\"lines\",\"showlegend\":false,\"type\":\"scatter\",\"x\":[\"2018-08-15T21:36:00\",\"2018-08-16T00:00:00\",\"2018-08-16T02:24:00\",\"2018-08-15T21:36:00\"],\"y\":[2764.211875,2696.98375,2764.211875,2764.211875]},{\"fill\":\"toself\",\"line\":{\"color\":\"green\"},\"mode\":\"lines\",\"showlegend\":false,\"type\":\"scatter\",\"x\":[\"2018-08-16T21:36:00\",\"2018-08-17T00:00:00\",\"2018-08-17T02:24:00\",\"2018-08-16T21:36:00\"],\"y\":[2922.858125,2990.0862500000003,2922.858125,2922.858125]},{\"fill\":\"toself\",\"line\":{\"color\":\"green\"},\"mode\":\"lines\",\"showlegend\":false,\"type\":\"scatter\",\"x\":[\"2018-08-19T21:36:00\",\"2018-08-20T00:00:00\",\"2018-08-20T02:24:00\",\"2018-08-19T21:36:00\"],\"y\":[2783.391875,2716.1637499999997,2783.391875,2783.391875]},{\"fill\":\"toself\",\"line\":{\"color\":\"green\"},\"mode\":\"lines\",\"showlegend\":false,\"type\":\"scatter\",\"x\":[\"2018-08-20T21:36:00\",\"2018-08-21T00:00:00\",\"2018-08-21T02:24:00\",\"2018-08-20T21:36:00\"],\"y\":[2940.458125,3007.68625,2940.458125,2940.458125]},{\"fill\":\"toself\",\"line\":{\"color\":\"green\"},\"mode\":\"lines\",\"showlegend\":false,\"type\":\"scatter\",\"x\":[\"2018-08-21T21:36:00\",\"2018-08-22T00:00:00\",\"2018-08-22T02:24:00\",\"2018-08-21T21:36:00\"],\"y\":[2934.768125,3001.99625,2934.768125,2934.768125]},{\"fill\":\"toself\",\"line\":{\"color\":\"red\"},\"mode\":\"lines\",\"showlegend\":false,\"type\":\"scatter\",\"x\":[\"2018-08-22T21:36:00\",\"2018-08-23T00:00:00\",\"2018-08-23T02:24:00\",\"2018-08-22T21:36:00\"],\"y\":[2936.0081250000003,3003.2362500000004,2936.0081250000003,2936.0081250000003]},{\"fill\":\"toself\",\"line\":{\"color\":\"green\"},\"mode\":\"lines\",\"showlegend\":false,\"type\":\"scatter\",\"x\":[\"2018-08-23T21:36:00\",\"2018-08-24T00:00:00\",\"2018-08-24T02:24:00\",\"2018-08-23T21:36:00\"],\"y\":[2943.388125,3010.61625,2943.388125,2943.388125]},{\"fill\":\"toself\",\"line\":{\"color\":\"green\"},\"mode\":\"lines\",\"showlegend\":false,\"type\":\"scatter\",\"x\":[\"2018-08-26T21:36:00\",\"2018-08-27T00:00:00\",\"2018-08-27T02:24:00\",\"2018-08-26T21:36:00\"],\"y\":[2965.478125,3032.70625,2965.478125,2965.478125]},{\"fill\":\"toself\",\"line\":{\"color\":\"red\"},\"mode\":\"lines\",\"showlegend\":false,\"type\":\"scatter\",\"x\":[\"2018-08-27T21:36:00\",\"2018-08-28T00:00:00\",\"2018-08-28T02:24:00\",\"2018-08-27T21:36:00\"],\"y\":[2970.998125,3038.22625,2970.998125,2970.998125]},{\"fill\":\"toself\",\"line\":{\"color\":\"green\"},\"mode\":\"lines\",\"showlegend\":false,\"type\":\"scatter\",\"x\":[\"2018-08-28T21:36:00\",\"2018-08-29T00:00:00\",\"2018-08-29T02:24:00\",\"2018-08-28T21:36:00\"],\"y\":[2983.728125,3050.95625,2983.728125,2983.728125]},{\"fill\":\"toself\",\"line\":{\"color\":\"green\"},\"mode\":\"lines\",\"showlegend\":false,\"type\":\"scatter\",\"x\":[\"2018-08-29T21:36:00\",\"2018-08-30T00:00:00\",\"2018-08-30T02:24:00\",\"2018-08-29T21:36:00\"],\"y\":[2827.9918749999997,2760.7637499999996,2827.9918749999997,2827.9918749999997]},{\"fill\":\"toself\",\"line\":{\"color\":\"green\"},\"mode\":\"lines\",\"showlegend\":false,\"type\":\"scatter\",\"x\":[\"2018-08-30T21:36:00\",\"2018-08-31T00:00:00\",\"2018-08-31T02:24:00\",\"2018-08-30T21:36:00\"],\"y\":[2973.5481250000003,3040.7762500000003,2973.5481250000003,2973.5481250000003]},{\"fill\":\"toself\",\"line\":{\"color\":\"red\"},\"mode\":\"lines\",\"showlegend\":false,\"type\":\"scatter\",\"x\":[\"2018-09-03T21:36:00\",\"2018-09-04T00:00:00\",\"2018-09-04T02:24:00\",\"2018-09-03T21:36:00\"],\"y\":[2817.901875,2750.67375,2817.901875,2817.901875]},{\"fill\":\"toself\",\"line\":{\"color\":\"red\"},\"mode\":\"lines\",\"showlegend\":false,\"type\":\"scatter\",\"x\":[\"2018-09-04T21:36:00\",\"2018-09-05T00:00:00\",\"2018-09-05T02:24:00\",\"2018-09-04T21:36:00\"],\"y\":[2961.438125,3028.66625,2961.438125,2961.438125]},{\"fill\":\"toself\",\"line\":{\"color\":\"red\"},\"mode\":\"lines\",\"showlegend\":false,\"type\":\"scatter\",\"x\":[\"2018-09-05T21:36:00\",\"2018-09-06T00:00:00\",\"2018-09-06T02:24:00\",\"2018-09-05T21:36:00\"],\"y\":[2959.2781250000003,3026.5062500000004,2959.2781250000003,2959.2781250000003]},{\"fill\":\"toself\",\"line\":{\"color\":\"green\"},\"mode\":\"lines\",\"showlegend\":false,\"type\":\"scatter\",\"x\":[\"2018-09-06T21:36:00\",\"2018-09-07T00:00:00\",\"2018-09-07T02:24:00\",\"2018-09-06T21:36:00\"],\"y\":[2951.038125,3018.26625,2951.038125,2951.038125]},{\"fill\":\"toself\",\"line\":{\"color\":\"red\"},\"mode\":\"lines\",\"showlegend\":false,\"type\":\"scatter\",\"x\":[\"2018-09-09T21:36:00\",\"2018-09-10T00:00:00\",\"2018-09-10T02:24:00\",\"2018-09-09T21:36:00\"],\"y\":[2954.158125,3021.38625,2954.158125,2954.158125]},{\"fill\":\"toself\",\"line\":{\"color\":\"red\"},\"mode\":\"lines\",\"showlegend\":false,\"type\":\"scatter\",\"x\":[\"2018-09-10T21:36:00\",\"2018-09-11T00:00:00\",\"2018-09-11T02:24:00\",\"2018-09-10T21:36:00\"],\"y\":[2799.551875,2732.32375,2799.551875,2799.551875]},{\"fill\":\"toself\",\"line\":{\"color\":\"red\"},\"mode\":\"lines\",\"showlegend\":false,\"type\":\"scatter\",\"x\":[\"2018-09-11T21:36:00\",\"2018-09-12T00:00:00\",\"2018-09-12T02:24:00\",\"2018-09-11T21:36:00\"],\"y\":[2961.878125,3029.1062500000003,2961.878125,2961.878125]},{\"fill\":\"toself\",\"line\":{\"color\":\"red\"},\"mode\":\"lines\",\"showlegend\":false,\"type\":\"scatter\",\"x\":[\"2018-09-12T21:36:00\",\"2018-09-13T00:00:00\",\"2018-09-13T02:24:00\",\"2018-09-12T21:36:00\"],\"y\":[2829.161875,2761.9337499999997,2829.161875,2829.161875]},{\"fill\":\"toself\",\"line\":{\"color\":\"green\"},\"mode\":\"lines\",\"showlegend\":false,\"type\":\"scatter\",\"x\":[\"2018-09-13T21:36:00\",\"2018-09-14T00:00:00\",\"2018-09-14T02:24:00\",\"2018-09-13T21:36:00\"],\"y\":[2828.541875,2761.31375,2828.541875,2828.541875]},{\"fill\":\"toself\",\"line\":{\"color\":\"red\"},\"mode\":\"lines\",\"showlegend\":false,\"type\":\"scatter\",\"x\":[\"2018-09-16T21:36:00\",\"2018-09-17T00:00:00\",\"2018-09-17T02:24:00\",\"2018-09-16T21:36:00\"],\"y\":[2971.878125,3039.1062500000003,2971.878125,2971.878125]},{\"fill\":\"toself\",\"line\":{\"color\":\"red\"},\"mode\":\"lines\",\"showlegend\":false,\"type\":\"scatter\",\"x\":[\"2018-09-17T21:36:00\",\"2018-09-18T00:00:00\",\"2018-09-18T02:24:00\",\"2018-09-17T21:36:00\"],\"y\":[2823.2018749999997,2755.9737499999997,2823.2018749999997,2823.2018749999997]},{\"fill\":\"toself\",\"line\":{\"color\":\"green\"},\"mode\":\"lines\",\"showlegend\":false,\"type\":\"scatter\",\"x\":[\"2018-09-18T21:36:00\",\"2018-09-19T00:00:00\",\"2018-09-19T02:24:00\",\"2018-09-18T21:36:00\"],\"y\":[2836.591875,2769.36375,2836.591875,2836.591875]},{\"fill\":\"toself\",\"line\":{\"color\":\"red\"},\"mode\":\"lines\",\"showlegend\":false,\"type\":\"scatter\",\"x\":[\"2018-09-19T21:36:00\",\"2018-09-20T00:00:00\",\"2018-09-20T02:24:00\",\"2018-09-19T21:36:00\"],\"y\":[2852.501875,2785.27375,2852.501875,2852.501875]},{\"fill\":\"toself\",\"line\":{\"color\":\"red\"},\"mode\":\"lines\",\"showlegend\":false,\"type\":\"scatter\",\"x\":[\"2018-09-20T21:36:00\",\"2018-09-21T00:00:00\",\"2018-09-21T02:24:00\",\"2018-09-20T21:36:00\"],\"y\":[3008.138125,3075.36625,3008.138125,3008.138125]},{\"fill\":\"toself\",\"line\":{\"color\":\"red\"},\"mode\":\"lines\",\"showlegend\":false,\"type\":\"scatter\",\"x\":[\"2018-09-23T21:36:00\",\"2018-09-24T00:00:00\",\"2018-09-24T02:24:00\",\"2018-09-23T21:36:00\"],\"y\":[2845.401875,2778.17375,2845.401875,2845.401875]},{\"fill\":\"toself\",\"line\":{\"color\":\"red\"},\"mode\":\"lines\",\"showlegend\":false,\"type\":\"scatter\",\"x\":[\"2018-09-24T21:36:00\",\"2018-09-25T00:00:00\",\"2018-09-25T02:24:00\",\"2018-09-24T21:36:00\"],\"y\":[2846.4718749999997,2779.2437499999996,2846.4718749999997,2846.4718749999997]},{\"fill\":\"toself\",\"line\":{\"color\":\"red\"},\"mode\":\"lines\",\"showlegend\":false,\"type\":\"scatter\",\"x\":[\"2018-09-25T21:36:00\",\"2018-09-26T00:00:00\",\"2018-09-26T02:24:00\",\"2018-09-25T21:36:00\"],\"y\":[2998.378125,3065.6062500000003,2998.378125,2998.378125]},{\"fill\":\"toself\",\"line\":{\"color\":\"green\"},\"mode\":\"lines\",\"showlegend\":false,\"type\":\"scatter\",\"x\":[\"2018-09-26T21:36:00\",\"2018-09-27T00:00:00\",\"2018-09-27T02:24:00\",\"2018-09-26T21:36:00\"],\"y\":[2994.448125,3061.67625,2994.448125,2994.448125]},{\"fill\":\"toself\",\"line\":{\"color\":\"green\"},\"mode\":\"lines\",\"showlegend\":false,\"type\":\"scatter\",\"x\":[\"2018-09-27T21:36:00\",\"2018-09-28T00:00:00\",\"2018-09-28T02:24:00\",\"2018-09-27T21:36:00\"],\"y\":[2987.7581250000003,3054.9862500000004,2987.7581250000003,2987.7581250000003]},{\"fill\":\"toself\",\"line\":{\"color\":\"red\"},\"mode\":\"lines\",\"showlegend\":false,\"type\":\"scatter\",\"x\":[\"2018-09-30T21:36:00\",\"2018-10-01T00:00:00\",\"2018-10-01T02:24:00\",\"2018-09-30T21:36:00\"],\"y\":[3004.288125,3071.51625,3004.288125,3004.288125]},{\"fill\":\"toself\",\"line\":{\"color\":\"red\"},\"mode\":\"lines\",\"showlegend\":false,\"type\":\"scatter\",\"x\":[\"2018-10-01T21:36:00\",\"2018-10-02T00:00:00\",\"2018-10-02T02:24:00\",\"2018-10-01T21:36:00\"],\"y\":[2998.648125,3065.8762500000003,2998.648125,2998.648125]},{\"fill\":\"toself\",\"line\":{\"color\":\"red\"},\"mode\":\"lines\",\"showlegend\":false,\"type\":\"scatter\",\"x\":[\"2018-10-02T21:36:00\",\"2018-10-03T00:00:00\",\"2018-10-03T02:24:00\",\"2018-10-02T21:36:00\"],\"y\":[3007.088125,3074.3162500000003,3007.088125,3007.088125]},{\"fill\":\"toself\",\"line\":{\"color\":\"green\"},\"mode\":\"lines\",\"showlegend\":false,\"type\":\"scatter\",\"x\":[\"2018-10-03T21:36:00\",\"2018-10-04T00:00:00\",\"2018-10-04T02:24:00\",\"2018-10-03T21:36:00\"],\"y\":[2816.691875,2749.46375,2816.691875,2816.691875]},{\"fill\":\"toself\",\"line\":{\"color\":\"green\"},\"mode\":\"lines\",\"showlegend\":false,\"type\":\"scatter\",\"x\":[\"2018-10-04T21:36:00\",\"2018-10-05T00:00:00\",\"2018-10-05T02:24:00\",\"2018-10-04T21:36:00\"],\"y\":[2802.061875,2734.83375,2802.061875,2802.061875]},{\"fill\":\"toself\",\"line\":{\"color\":\"red\"},\"mode\":\"lines\",\"showlegend\":false,\"type\":\"scatter\",\"x\":[\"2018-10-07T21:36:00\",\"2018-10-08T00:00:00\",\"2018-10-08T02:24:00\",\"2018-10-07T21:36:00\"],\"y\":[2956.678125,3023.90625,2956.678125,2956.678125]},{\"fill\":\"toself\",\"line\":{\"color\":\"red\"},\"mode\":\"lines\",\"showlegend\":false,\"type\":\"scatter\",\"x\":[\"2018-10-08T21:36:00\",\"2018-10-09T00:00:00\",\"2018-10-09T02:24:00\",\"2018-10-08T21:36:00\"],\"y\":[2807.041875,2739.81375,2807.041875,2807.041875]},{\"fill\":\"toself\",\"line\":{\"color\":\"red\"},\"mode\":\"lines\",\"showlegend\":false,\"type\":\"scatter\",\"x\":[\"2018-10-09T21:36:00\",\"2018-10-10T00:00:00\",\"2018-10-10T02:24:00\",\"2018-10-09T21:36:00\"],\"y\":[2941.248125,3008.47625,2941.248125,2941.248125]},{\"fill\":\"toself\",\"line\":{\"color\":\"green\"},\"mode\":\"lines\",\"showlegend\":false,\"type\":\"scatter\",\"x\":[\"2018-10-10T21:36:00\",\"2018-10-11T00:00:00\",\"2018-10-11T02:24:00\",\"2018-10-10T21:36:00\"],\"y\":[2643.281875,2576.05375,2643.281875,2643.281875]},{\"fill\":\"toself\",\"line\":{\"color\":\"green\"},\"mode\":\"lines\",\"showlegend\":false,\"type\":\"scatter\",\"x\":[\"2018-10-11T21:36:00\",\"2018-10-12T00:00:00\",\"2018-10-12T02:24:00\",\"2018-10-11T21:36:00\"],\"y\":[2662.211875,2594.98375,2662.211875,2662.211875]},{\"fill\":\"toself\",\"line\":{\"color\":\"red\"},\"mode\":\"lines\",\"showlegend\":false,\"type\":\"scatter\",\"x\":[\"2018-10-14T21:36:00\",\"2018-10-15T00:00:00\",\"2018-10-15T02:24:00\",\"2018-10-14T21:36:00\"],\"y\":[2843.218125,2910.44625,2843.218125,2843.218125]},{\"fill\":\"toself\",\"line\":{\"color\":\"green\"},\"mode\":\"lines\",\"showlegend\":false,\"type\":\"scatter\",\"x\":[\"2018-10-15T21:36:00\",\"2018-10-16T00:00:00\",\"2018-10-16T02:24:00\",\"2018-10-15T21:36:00\"],\"y\":[2880.688125,2947.91625,2880.688125,2880.688125]},{\"fill\":\"toself\",\"line\":{\"color\":\"green\"},\"mode\":\"lines\",\"showlegend\":false,\"type\":\"scatter\",\"x\":[\"2018-10-16T21:36:00\",\"2018-10-17T00:00:00\",\"2018-10-17T02:24:00\",\"2018-10-16T21:36:00\"],\"y\":[2714.581875,2647.3537499999998,2714.581875,2714.581875]},{\"fill\":\"toself\",\"line\":{\"color\":\"red\"},\"mode\":\"lines\",\"showlegend\":false,\"type\":\"scatter\",\"x\":[\"2018-10-17T21:36:00\",\"2018-10-18T00:00:00\",\"2018-10-18T02:24:00\",\"2018-10-17T21:36:00\"],\"y\":[2873.268125,2940.49625,2873.268125,2873.268125]},{\"fill\":\"toself\",\"line\":{\"color\":\"red\"},\"mode\":\"lines\",\"showlegend\":false,\"type\":\"scatter\",\"x\":[\"2018-10-18T21:36:00\",\"2018-10-19T00:00:00\",\"2018-10-19T02:24:00\",\"2018-10-18T21:36:00\"],\"y\":[2864.998125,2932.22625,2864.998125,2864.998125]},{\"fill\":\"toself\",\"line\":{\"color\":\"green\"},\"mode\":\"lines\",\"showlegend\":false,\"type\":\"scatter\",\"x\":[\"2018-10-21T21:36:00\",\"2018-10-22T00:00:00\",\"2018-10-22T02:24:00\",\"2018-10-21T21:36:00\"],\"y\":[2681.9918749999997,2614.7637499999996,2681.9918749999997,2681.9918749999997]},{\"fill\":\"toself\",\"line\":{\"color\":\"green\"},\"mode\":\"lines\",\"showlegend\":false,\"type\":\"scatter\",\"x\":[\"2018-10-22T21:36:00\",\"2018-10-23T00:00:00\",\"2018-10-23T02:24:00\",\"2018-10-22T21:36:00\"],\"y\":[2820.8181250000002,2888.0462500000003,2820.8181250000002,2820.8181250000002]},{\"fill\":\"toself\",\"line\":{\"color\":\"green\"},\"mode\":\"lines\",\"showlegend\":false,\"type\":\"scatter\",\"x\":[\"2018-10-23T21:36:00\",\"2018-10-24T00:00:00\",\"2018-10-24T02:24:00\",\"2018-10-23T21:36:00\"],\"y\":[2584.661875,2517.4337499999997,2584.661875,2584.661875]},{\"fill\":\"toself\",\"line\":{\"color\":\"green\"},\"mode\":\"lines\",\"showlegend\":false,\"type\":\"scatter\",\"x\":[\"2018-10-24T21:36:00\",\"2018-10-25T00:00:00\",\"2018-10-25T02:24:00\",\"2018-10-24T21:36:00\"],\"y\":[2789.928125,2857.15625,2789.928125,2789.928125]},{\"fill\":\"toself\",\"line\":{\"color\":\"green\"},\"mode\":\"lines\",\"showlegend\":false,\"type\":\"scatter\",\"x\":[\"2018-10-25T21:36:00\",\"2018-10-26T00:00:00\",\"2018-10-26T02:24:00\",\"2018-10-25T21:36:00\"],\"y\":[2759.608125,2826.8362500000003,2759.608125,2759.608125]},{\"fill\":\"toself\",\"line\":{\"color\":\"red\"},\"mode\":\"lines\",\"showlegend\":false,\"type\":\"scatter\",\"x\":[\"2018-10-28T21:36:00\",\"2018-10-29T00:00:00\",\"2018-10-29T02:24:00\",\"2018-10-28T21:36:00\"],\"y\":[2774.078125,2841.30625,2774.078125,2774.078125]},{\"fill\":\"toself\",\"line\":{\"color\":\"red\"},\"mode\":\"lines\",\"showlegend\":false,\"type\":\"scatter\",\"x\":[\"2018-10-29T21:36:00\",\"2018-10-30T00:00:00\",\"2018-10-30T02:24:00\",\"2018-10-29T21:36:00\"],\"y\":[2568.111875,2500.88375,2568.111875,2568.111875]},{\"fill\":\"toself\",\"line\":{\"color\":\"green\"},\"mode\":\"lines\",\"showlegend\":false,\"type\":\"scatter\",\"x\":[\"2018-10-30T21:36:00\",\"2018-10-31T00:00:00\",\"2018-10-31T02:24:00\",\"2018-10-30T21:36:00\"],\"y\":[2803.918125,2871.1462500000002,2803.918125,2803.918125]},{\"fill\":\"toself\",\"line\":{\"color\":\"green\"},\"mode\":\"lines\",\"showlegend\":false,\"type\":\"scatter\",\"x\":[\"2018-10-31T21:36:00\",\"2018-11-01T00:00:00\",\"2018-11-01T02:24:00\",\"2018-10-31T21:36:00\"],\"y\":[2808.898125,2876.1262500000003,2808.898125,2808.898125]},{\"fill\":\"toself\",\"line\":{\"color\":\"red\"},\"mode\":\"lines\",\"showlegend\":false,\"type\":\"scatter\",\"x\":[\"2018-11-01T21:36:00\",\"2018-11-02T00:00:00\",\"2018-11-02T02:24:00\",\"2018-11-01T21:36:00\"],\"y\":[2823.7781250000003,2891.0062500000004,2823.7781250000003,2823.7781250000003]},{\"fill\":\"toself\",\"line\":{\"color\":\"green\"},\"mode\":\"lines\",\"showlegend\":false,\"type\":\"scatter\",\"x\":[\"2018-11-04T21:36:00\",\"2018-11-05T00:00:00\",\"2018-11-05T02:24:00\",\"2018-11-04T21:36:00\"],\"y\":[2650.711875,2583.48375,2650.711875,2650.711875]},{\"fill\":\"toself\",\"line\":{\"color\":\"green\"},\"mode\":\"lines\",\"showlegend\":false,\"type\":\"scatter\",\"x\":[\"2018-11-05T21:36:00\",\"2018-11-06T00:00:00\",\"2018-11-06T02:24:00\",\"2018-11-05T21:36:00\"],\"y\":[2824.0481250000003,2891.2762500000003,2824.0481250000003,2824.0481250000003]},{\"fill\":\"toself\",\"line\":{\"color\":\"green\"},\"mode\":\"lines\",\"showlegend\":false,\"type\":\"scatter\",\"x\":[\"2018-11-06T21:36:00\",\"2018-11-07T00:00:00\",\"2018-11-07T02:24:00\",\"2018-11-06T21:36:00\"],\"y\":[2882.378125,2949.6062500000003,2882.378125,2882.378125]},{\"fill\":\"toself\",\"line\":{\"color\":\"red\"},\"mode\":\"lines\",\"showlegend\":false,\"type\":\"scatter\",\"x\":[\"2018-11-07T21:36:00\",\"2018-11-08T00:00:00\",\"2018-11-08T02:24:00\",\"2018-11-07T21:36:00\"],\"y\":[2881.978125,2949.20625,2881.978125,2881.978125]},{\"fill\":\"toself\",\"line\":{\"color\":\"green\"},\"mode\":\"lines\",\"showlegend\":false,\"type\":\"scatter\",\"x\":[\"2018-11-08T21:36:00\",\"2018-11-09T00:00:00\",\"2018-11-09T02:24:00\",\"2018-11-08T21:36:00\"],\"y\":[2697.0118749999997,2629.7837499999996,2697.0118749999997,2697.0118749999997]},{\"fill\":\"toself\",\"line\":{\"color\":\"green\"},\"mode\":\"lines\",\"showlegend\":false,\"type\":\"scatter\",\"x\":[\"2018-11-11T21:36:00\",\"2018-11-12T00:00:00\",\"2018-11-12T02:24:00\",\"2018-11-11T21:36:00\"],\"y\":[2654.771875,2587.54375,2654.771875,2654.771875]},{\"fill\":\"toself\",\"line\":{\"color\":\"green\"},\"mode\":\"lines\",\"showlegend\":false,\"type\":\"scatter\",\"x\":[\"2018-11-12T21:36:00\",\"2018-11-13T00:00:00\",\"2018-11-13T02:24:00\",\"2018-11-12T21:36:00\"],\"y\":[2647.751875,2580.52375,2647.751875,2647.751875]},{\"fill\":\"toself\",\"line\":{\"color\":\"green\"},\"mode\":\"lines\",\"showlegend\":false,\"type\":\"scatter\",\"x\":[\"2018-11-13T21:36:00\",\"2018-11-14T00:00:00\",\"2018-11-14T02:24:00\",\"2018-11-13T21:36:00\"],\"y\":[2618.521875,2551.29375,2618.521875,2618.521875]},{\"fill\":\"toself\",\"line\":{\"color\":\"red\"},\"mode\":\"lines\",\"showlegend\":false,\"type\":\"scatter\",\"x\":[\"2018-11-14T21:36:00\",\"2018-11-15T00:00:00\",\"2018-11-15T02:24:00\",\"2018-11-14T21:36:00\"],\"y\":[2603.521875,2536.29375,2603.521875,2603.521875]},{\"fill\":\"toself\",\"line\":{\"color\":\"green\"},\"mode\":\"lines\",\"showlegend\":false,\"type\":\"scatter\",\"x\":[\"2018-11-15T21:36:00\",\"2018-11-16T00:00:00\",\"2018-11-16T02:24:00\",\"2018-11-15T21:36:00\"],\"y\":[2813.978125,2881.20625,2813.978125,2813.978125]},{\"fill\":\"toself\",\"line\":{\"color\":\"green\"},\"mode\":\"lines\",\"showlegend\":false,\"type\":\"scatter\",\"x\":[\"2018-11-18T21:36:00\",\"2018-11-19T00:00:00\",\"2018-11-19T02:24:00\",\"2018-11-18T21:36:00\"],\"y\":[2613.861875,2546.63375,2613.861875,2613.861875]},{\"fill\":\"toself\",\"line\":{\"color\":\"red\"},\"mode\":\"lines\",\"showlegend\":false,\"type\":\"scatter\",\"x\":[\"2018-11-19T21:36:00\",\"2018-11-20T00:00:00\",\"2018-11-20T02:24:00\",\"2018-11-19T21:36:00\"],\"y\":[2564.291875,2497.06375,2564.291875,2564.291875]},{\"fill\":\"toself\",\"line\":{\"color\":\"red\"},\"mode\":\"lines\",\"showlegend\":false,\"type\":\"scatter\",\"x\":[\"2018-11-20T21:36:00\",\"2018-11-21T00:00:00\",\"2018-11-21T02:24:00\",\"2018-11-20T21:36:00\"],\"y\":[2737.958125,2805.18625,2737.958125,2737.958125]},{\"fill\":\"toself\",\"line\":{\"color\":\"green\"},\"mode\":\"lines\",\"showlegend\":false,\"type\":\"scatter\",\"x\":[\"2018-11-22T21:36:00\",\"2018-11-23T00:00:00\",\"2018-11-23T02:24:00\",\"2018-11-22T21:36:00\"],\"y\":[2714.7781250000003,2782.0062500000004,2714.7781250000003,2714.7781250000003]},{\"fill\":\"toself\",\"line\":{\"color\":\"green\"},\"mode\":\"lines\",\"showlegend\":false,\"type\":\"scatter\",\"x\":[\"2018-11-25T21:36:00\",\"2018-11-26T00:00:00\",\"2018-11-26T02:24:00\",\"2018-11-25T21:36:00\"],\"y\":[2741.578125,2808.80625,2741.578125,2741.578125]},{\"fill\":\"toself\",\"line\":{\"color\":\"green\"},\"mode\":\"lines\",\"showlegend\":false,\"type\":\"scatter\",\"x\":[\"2018-11-26T21:36:00\",\"2018-11-27T00:00:00\",\"2018-11-27T02:24:00\",\"2018-11-26T21:36:00\"],\"y\":[2749.7581250000003,2816.9862500000004,2749.7581250000003,2749.7581250000003]},{\"fill\":\"toself\",\"line\":{\"color\":\"green\"},\"mode\":\"lines\",\"showlegend\":false,\"type\":\"scatter\",\"x\":[\"2018-11-27T21:36:00\",\"2018-11-28T00:00:00\",\"2018-11-28T02:24:00\",\"2018-11-27T21:36:00\"],\"y\":[2811.228125,2878.45625,2811.228125,2811.228125]},{\"fill\":\"toself\",\"line\":{\"color\":\"green\"},\"mode\":\"lines\",\"showlegend\":false,\"type\":\"scatter\",\"x\":[\"2018-11-28T21:36:00\",\"2018-11-29T00:00:00\",\"2018-11-29T02:24:00\",\"2018-11-28T21:36:00\"],\"y\":[2820.978125,2888.20625,2820.978125,2820.978125]},{\"fill\":\"toself\",\"line\":{\"color\":\"green\"},\"mode\":\"lines\",\"showlegend\":false,\"type\":\"scatter\",\"x\":[\"2018-11-29T21:36:00\",\"2018-11-30T00:00:00\",\"2018-11-30T02:24:00\",\"2018-11-29T21:36:00\"],\"y\":[2828.108125,2895.3362500000003,2828.108125,2828.108125]},{\"fill\":\"toself\",\"line\":{\"color\":\"red\"},\"mode\":\"lines\",\"showlegend\":false,\"type\":\"scatter\",\"x\":[\"2018-12-02T21:36:00\",\"2018-12-03T00:00:00\",\"2018-12-03T02:24:00\",\"2018-12-02T21:36:00\"],\"y\":[2867.408125,2934.63625,2867.408125,2867.408125]},{\"fill\":\"toself\",\"line\":{\"color\":\"red\"},\"mode\":\"lines\",\"showlegend\":false,\"type\":\"scatter\",\"x\":[\"2018-12-03T21:36:00\",\"2018-12-04T00:00:00\",\"2018-12-04T02:24:00\",\"2018-12-03T21:36:00\"],\"y\":[2853.158125,2920.38625,2853.158125,2853.158125]},{\"fill\":\"toself\",\"line\":{\"color\":\"red\"},\"mode\":\"lines\",\"showlegend\":false,\"type\":\"scatter\",\"x\":[\"2018-12-05T21:36:00\",\"2018-12-06T00:00:00\",\"2018-12-06T02:24:00\",\"2018-12-05T21:36:00\"],\"y\":[2554.301875,2487.07375,2554.301875,2554.301875]},{\"fill\":\"toself\",\"line\":{\"color\":\"green\"},\"mode\":\"lines\",\"showlegend\":false,\"type\":\"scatter\",\"x\":[\"2018-12-06T21:36:00\",\"2018-12-07T00:00:00\",\"2018-12-07T02:24:00\",\"2018-12-06T21:36:00\"],\"y\":[2555.911875,2488.6837499999997,2555.911875,2555.911875]},{\"fill\":\"toself\",\"line\":{\"color\":\"red\"},\"mode\":\"lines\",\"showlegend\":false,\"type\":\"scatter\",\"x\":[\"2018-12-09T21:36:00\",\"2018-12-10T00:00:00\",\"2018-12-10T02:24:00\",\"2018-12-09T21:36:00\"],\"y\":[2516.001875,2448.77375,2516.001875,2516.001875]},{\"fill\":\"toself\",\"line\":{\"color\":\"red\"},\"mode\":\"lines\",\"showlegend\":false,\"type\":\"scatter\",\"x\":[\"2018-12-10T21:36:00\",\"2018-12-11T00:00:00\",\"2018-12-11T02:24:00\",\"2018-12-10T21:36:00\"],\"y\":[2741.578125,2808.80625,2741.578125,2741.578125]},{\"fill\":\"toself\",\"line\":{\"color\":\"green\"},\"mode\":\"lines\",\"showlegend\":false,\"type\":\"scatter\",\"x\":[\"2018-12-11T21:36:00\",\"2018-12-12T00:00:00\",\"2018-12-12T02:24:00\",\"2018-12-11T21:36:00\"],\"y\":[2583.031875,2515.80375,2583.031875,2583.031875]},{\"fill\":\"toself\",\"line\":{\"color\":\"red\"},\"mode\":\"lines\",\"showlegend\":false,\"type\":\"scatter\",\"x\":[\"2018-12-12T21:36:00\",\"2018-12-13T00:00:00\",\"2018-12-13T02:24:00\",\"2018-12-12T21:36:00\"],\"y\":[2737.418125,2804.6462500000002,2737.418125,2737.418125]},{\"fill\":\"toself\",\"line\":{\"color\":\"red\"},\"mode\":\"lines\",\"showlegend\":false,\"type\":\"scatter\",\"x\":[\"2018-12-13T21:36:00\",\"2018-12-14T00:00:00\",\"2018-12-14T02:24:00\",\"2018-12-13T21:36:00\"],\"y\":[2702.2981250000003,2769.5262500000003,2702.2981250000003,2702.2981250000003]},{\"fill\":\"toself\",\"line\":{\"color\":\"red\"},\"mode\":\"lines\",\"showlegend\":false,\"type\":\"scatter\",\"x\":[\"2018-12-16T21:36:00\",\"2018-12-17T00:00:00\",\"2018-12-17T02:24:00\",\"2018-12-16T21:36:00\"],\"y\":[2668.358125,2735.5862500000003,2668.358125,2668.358125]},{\"fill\":\"toself\",\"line\":{\"color\":\"green\"},\"mode\":\"lines\",\"showlegend\":false,\"type\":\"scatter\",\"x\":[\"2018-12-17T21:36:00\",\"2018-12-18T00:00:00\",\"2018-12-18T02:24:00\",\"2018-12-17T21:36:00\"],\"y\":[2461.481875,2394.25375,2461.481875,2461.481875]},{\"fill\":\"toself\",\"line\":{\"color\":\"red\"},\"mode\":\"lines\",\"showlegend\":false,\"type\":\"scatter\",\"x\":[\"2018-12-18T21:36:00\",\"2018-12-19T00:00:00\",\"2018-12-19T02:24:00\",\"2018-12-18T21:36:00\"],\"y\":[2652.518125,2719.74625,2652.518125,2652.518125]},{\"fill\":\"toself\",\"line\":{\"color\":\"green\"},\"mode\":\"lines\",\"showlegend\":false,\"type\":\"scatter\",\"x\":[\"2018-12-19T21:36:00\",\"2018-12-20T00:00:00\",\"2018-12-20T02:24:00\",\"2018-12-19T21:36:00\"],\"y\":[2373.9518749999997,2306.7237499999997,2373.9518749999997,2373.9518749999997]},{\"fill\":\"toself\",\"line\":{\"color\":\"green\"},\"mode\":\"lines\",\"showlegend\":false,\"type\":\"scatter\",\"x\":[\"2018-12-20T21:36:00\",\"2018-12-21T00:00:00\",\"2018-12-21T02:24:00\",\"2018-12-20T21:36:00\"],\"y\":[2341.321875,2274.09375,2341.321875,2341.321875]},{\"fill\":\"toself\",\"line\":{\"color\":\"green\"},\"mode\":\"lines\",\"showlegend\":false,\"type\":\"scatter\",\"x\":[\"2018-12-23T21:36:00\",\"2018-12-24T00:00:00\",\"2018-12-24T02:24:00\",\"2018-12-23T21:36:00\"],\"y\":[2283.871875,2216.6437499999997,2283.871875,2283.871875]},{\"fill\":\"toself\",\"line\":{\"color\":\"red\"},\"mode\":\"lines\",\"showlegend\":false,\"type\":\"scatter\",\"x\":[\"2018-12-25T21:36:00\",\"2018-12-26T00:00:00\",\"2018-12-26T02:24:00\",\"2018-12-25T21:36:00\"],\"y\":[2279.351875,2212.1237499999997,2279.351875,2279.351875]},{\"fill\":\"toself\",\"line\":{\"color\":\"green\"},\"mode\":\"lines\",\"showlegend\":false,\"type\":\"scatter\",\"x\":[\"2018-12-26T21:36:00\",\"2018-12-27T00:00:00\",\"2018-12-27T02:24:00\",\"2018-12-26T21:36:00\"],\"y\":[2556.328125,2623.55625,2556.328125,2556.328125]},{\"fill\":\"toself\",\"line\":{\"color\":\"red\"},\"mode\":\"lines\",\"showlegend\":false,\"type\":\"scatter\",\"x\":[\"2018-12-27T21:36:00\",\"2018-12-28T00:00:00\",\"2018-12-28T02:24:00\",\"2018-12-27T21:36:00\"],\"y\":[2587.498125,2654.72625,2587.498125,2587.498125]},{\"fill\":\"toself\",\"line\":{\"color\":\"red\"},\"mode\":\"lines\",\"showlegend\":false,\"type\":\"scatter\",\"x\":[\"2018-12-30T21:36:00\",\"2018-12-31T00:00:00\",\"2018-12-31T02:24:00\",\"2018-12-30T21:36:00\"],\"y\":[2576.468125,2643.69625,2576.468125,2576.468125]}],                        {\"height\":800,\"template\":{\"data\":{\"bar\":[{\"error_x\":{\"color\":\"#2a3f5f\"},\"error_y\":{\"color\":\"#2a3f5f\"},\"marker\":{\"line\":{\"color\":\"#E5ECF6\",\"width\":0.5},\"pattern\":{\"fillmode\":\"overlay\",\"size\":10,\"solidity\":0.2}},\"type\":\"bar\"}],\"barpolar\":[{\"marker\":{\"line\":{\"color\":\"#E5ECF6\",\"width\":0.5},\"pattern\":{\"fillmode\":\"overlay\",\"size\":10,\"solidity\":0.2}},\"type\":\"barpolar\"}],\"carpet\":[{\"aaxis\":{\"endlinecolor\":\"#2a3f5f\",\"gridcolor\":\"white\",\"linecolor\":\"white\",\"minorgridcolor\":\"white\",\"startlinecolor\":\"#2a3f5f\"},\"baxis\":{\"endlinecolor\":\"#2a3f5f\",\"gridcolor\":\"white\",\"linecolor\":\"white\",\"minorgridcolor\":\"white\",\"startlinecolor\":\"#2a3f5f\"},\"type\":\"carpet\"}],\"choropleth\":[{\"colorbar\":{\"outlinewidth\":0,\"ticks\":\"\"},\"type\":\"choropleth\"}],\"contour\":[{\"colorbar\":{\"outlinewidth\":0,\"ticks\":\"\"},\"colorscale\":[[0.0,\"#0d0887\"],[0.1111111111111111,\"#46039f\"],[0.2222222222222222,\"#7201a8\"],[0.3333333333333333,\"#9c179e\"],[0.4444444444444444,\"#bd3786\"],[0.5555555555555556,\"#d8576b\"],[0.6666666666666666,\"#ed7953\"],[0.7777777777777778,\"#fb9f3a\"],[0.8888888888888888,\"#fdca26\"],[1.0,\"#f0f921\"]],\"type\":\"contour\"}],\"contourcarpet\":[{\"colorbar\":{\"outlinewidth\":0,\"ticks\":\"\"},\"type\":\"contourcarpet\"}],\"heatmap\":[{\"colorbar\":{\"outlinewidth\":0,\"ticks\":\"\"},\"colorscale\":[[0.0,\"#0d0887\"],[0.1111111111111111,\"#46039f\"],[0.2222222222222222,\"#7201a8\"],[0.3333333333333333,\"#9c179e\"],[0.4444444444444444,\"#bd3786\"],[0.5555555555555556,\"#d8576b\"],[0.6666666666666666,\"#ed7953\"],[0.7777777777777778,\"#fb9f3a\"],[0.8888888888888888,\"#fdca26\"],[1.0,\"#f0f921\"]],\"type\":\"heatmap\"}],\"heatmapgl\":[{\"colorbar\":{\"outlinewidth\":0,\"ticks\":\"\"},\"colorscale\":[[0.0,\"#0d0887\"],[0.1111111111111111,\"#46039f\"],[0.2222222222222222,\"#7201a8\"],[0.3333333333333333,\"#9c179e\"],[0.4444444444444444,\"#bd3786\"],[0.5555555555555556,\"#d8576b\"],[0.6666666666666666,\"#ed7953\"],[0.7777777777777778,\"#fb9f3a\"],[0.8888888888888888,\"#fdca26\"],[1.0,\"#f0f921\"]],\"type\":\"heatmapgl\"}],\"histogram\":[{\"marker\":{\"pattern\":{\"fillmode\":\"overlay\",\"size\":10,\"solidity\":0.2}},\"type\":\"histogram\"}],\"histogram2d\":[{\"colorbar\":{\"outlinewidth\":0,\"ticks\":\"\"},\"colorscale\":[[0.0,\"#0d0887\"],[0.1111111111111111,\"#46039f\"],[0.2222222222222222,\"#7201a8\"],[0.3333333333333333,\"#9c179e\"],[0.4444444444444444,\"#bd3786\"],[0.5555555555555556,\"#d8576b\"],[0.6666666666666666,\"#ed7953\"],[0.7777777777777778,\"#fb9f3a\"],[0.8888888888888888,\"#fdca26\"],[1.0,\"#f0f921\"]],\"type\":\"histogram2d\"}],\"histogram2dcontour\":[{\"colorbar\":{\"outlinewidth\":0,\"ticks\":\"\"},\"colorscale\":[[0.0,\"#0d0887\"],[0.1111111111111111,\"#46039f\"],[0.2222222222222222,\"#7201a8\"],[0.3333333333333333,\"#9c179e\"],[0.4444444444444444,\"#bd3786\"],[0.5555555555555556,\"#d8576b\"],[0.6666666666666666,\"#ed7953\"],[0.7777777777777778,\"#fb9f3a\"],[0.8888888888888888,\"#fdca26\"],[1.0,\"#f0f921\"]],\"type\":\"histogram2dcontour\"}],\"mesh3d\":[{\"colorbar\":{\"outlinewidth\":0,\"ticks\":\"\"},\"type\":\"mesh3d\"}],\"parcoords\":[{\"line\":{\"colorbar\":{\"outlinewidth\":0,\"ticks\":\"\"}},\"type\":\"parcoords\"}],\"pie\":[{\"automargin\":true,\"type\":\"pie\"}],\"scatter\":[{\"marker\":{\"colorbar\":{\"outlinewidth\":0,\"ticks\":\"\"}},\"type\":\"scatter\"}],\"scatter3d\":[{\"line\":{\"colorbar\":{\"outlinewidth\":0,\"ticks\":\"\"}},\"marker\":{\"colorbar\":{\"outlinewidth\":0,\"ticks\":\"\"}},\"type\":\"scatter3d\"}],\"scattercarpet\":[{\"marker\":{\"colorbar\":{\"outlinewidth\":0,\"ticks\":\"\"}},\"type\":\"scattercarpet\"}],\"scattergeo\":[{\"marker\":{\"colorbar\":{\"outlinewidth\":0,\"ticks\":\"\"}},\"type\":\"scattergeo\"}],\"scattergl\":[{\"marker\":{\"colorbar\":{\"outlinewidth\":0,\"ticks\":\"\"}},\"type\":\"scattergl\"}],\"scattermapbox\":[{\"marker\":{\"colorbar\":{\"outlinewidth\":0,\"ticks\":\"\"}},\"type\":\"scattermapbox\"}],\"scatterpolar\":[{\"marker\":{\"colorbar\":{\"outlinewidth\":0,\"ticks\":\"\"}},\"type\":\"scatterpolar\"}],\"scatterpolargl\":[{\"marker\":{\"colorbar\":{\"outlinewidth\":0,\"ticks\":\"\"}},\"type\":\"scatterpolargl\"}],\"scatterternary\":[{\"marker\":{\"colorbar\":{\"outlinewidth\":0,\"ticks\":\"\"}},\"type\":\"scatterternary\"}],\"surface\":[{\"colorbar\":{\"outlinewidth\":0,\"ticks\":\"\"},\"colorscale\":[[0.0,\"#0d0887\"],[0.1111111111111111,\"#46039f\"],[0.2222222222222222,\"#7201a8\"],[0.3333333333333333,\"#9c179e\"],[0.4444444444444444,\"#bd3786\"],[0.5555555555555556,\"#d8576b\"],[0.6666666666666666,\"#ed7953\"],[0.7777777777777778,\"#fb9f3a\"],[0.8888888888888888,\"#fdca26\"],[1.0,\"#f0f921\"]],\"type\":\"surface\"}],\"table\":[{\"cells\":{\"fill\":{\"color\":\"#EBF0F8\"},\"line\":{\"color\":\"white\"}},\"header\":{\"fill\":{\"color\":\"#C8D4E3\"},\"line\":{\"color\":\"white\"}},\"type\":\"table\"}]},\"layout\":{\"annotationdefaults\":{\"arrowcolor\":\"#2a3f5f\",\"arrowhead\":0,\"arrowwidth\":1},\"autotypenumbers\":\"strict\",\"coloraxis\":{\"colorbar\":{\"outlinewidth\":0,\"ticks\":\"\"}},\"colorscale\":{\"diverging\":[[0,\"#8e0152\"],[0.1,\"#c51b7d\"],[0.2,\"#de77ae\"],[0.3,\"#f1b6da\"],[0.4,\"#fde0ef\"],[0.5,\"#f7f7f7\"],[0.6,\"#e6f5d0\"],[0.7,\"#b8e186\"],[0.8,\"#7fbc41\"],[0.9,\"#4d9221\"],[1,\"#276419\"]],\"sequential\":[[0.0,\"#0d0887\"],[0.1111111111111111,\"#46039f\"],[0.2222222222222222,\"#7201a8\"],[0.3333333333333333,\"#9c179e\"],[0.4444444444444444,\"#bd3786\"],[0.5555555555555556,\"#d8576b\"],[0.6666666666666666,\"#ed7953\"],[0.7777777777777778,\"#fb9f3a\"],[0.8888888888888888,\"#fdca26\"],[1.0,\"#f0f921\"]],\"sequentialminus\":[[0.0,\"#0d0887\"],[0.1111111111111111,\"#46039f\"],[0.2222222222222222,\"#7201a8\"],[0.3333333333333333,\"#9c179e\"],[0.4444444444444444,\"#bd3786\"],[0.5555555555555556,\"#d8576b\"],[0.6666666666666666,\"#ed7953\"],[0.7777777777777778,\"#fb9f3a\"],[0.8888888888888888,\"#fdca26\"],[1.0,\"#f0f921\"]]},\"colorway\":[\"#636efa\",\"#EF553B\",\"#00cc96\",\"#ab63fa\",\"#FFA15A\",\"#19d3f3\",\"#FF6692\",\"#B6E880\",\"#FF97FF\",\"#FECB52\"],\"font\":{\"color\":\"#2a3f5f\"},\"geo\":{\"bgcolor\":\"white\",\"lakecolor\":\"white\",\"landcolor\":\"#E5ECF6\",\"showlakes\":true,\"showland\":true,\"subunitcolor\":\"white\"},\"hoverlabel\":{\"align\":\"left\"},\"hovermode\":\"closest\",\"mapbox\":{\"style\":\"light\"},\"paper_bgcolor\":\"white\",\"plot_bgcolor\":\"#E5ECF6\",\"polar\":{\"angularaxis\":{\"gridcolor\":\"white\",\"linecolor\":\"white\",\"ticks\":\"\"},\"bgcolor\":\"#E5ECF6\",\"radialaxis\":{\"gridcolor\":\"white\",\"linecolor\":\"white\",\"ticks\":\"\"}},\"scene\":{\"xaxis\":{\"backgroundcolor\":\"#E5ECF6\",\"gridcolor\":\"white\",\"gridwidth\":2,\"linecolor\":\"white\",\"showbackground\":true,\"ticks\":\"\",\"zerolinecolor\":\"white\"},\"yaxis\":{\"backgroundcolor\":\"#E5ECF6\",\"gridcolor\":\"white\",\"gridwidth\":2,\"linecolor\":\"white\",\"showbackground\":true,\"ticks\":\"\",\"zerolinecolor\":\"white\"},\"zaxis\":{\"backgroundcolor\":\"#E5ECF6\",\"gridcolor\":\"white\",\"gridwidth\":2,\"linecolor\":\"white\",\"showbackground\":true,\"ticks\":\"\",\"zerolinecolor\":\"white\"}},\"shapedefaults\":{\"line\":{\"color\":\"#2a3f5f\"}},\"ternary\":{\"aaxis\":{\"gridcolor\":\"white\",\"linecolor\":\"white\",\"ticks\":\"\"},\"baxis\":{\"gridcolor\":\"white\",\"linecolor\":\"white\",\"ticks\":\"\"},\"bgcolor\":\"#E5ECF6\",\"caxis\":{\"gridcolor\":\"white\",\"linecolor\":\"white\",\"ticks\":\"\"}},\"title\":{\"x\":0.05},\"xaxis\":{\"automargin\":true,\"gridcolor\":\"white\",\"linecolor\":\"white\",\"ticks\":\"\",\"title\":{\"standoff\":15},\"zerolinecolor\":\"white\",\"zerolinewidth\":2},\"yaxis\":{\"automargin\":true,\"gridcolor\":\"white\",\"linecolor\":\"white\",\"ticks\":\"\",\"title\":{\"standoff\":15},\"zerolinecolor\":\"white\",\"zerolinewidth\":2}}},\"title\":{\"text\":\"Visualization of Validation Predictions\"},\"width\":1500,\"xaxis\":{\"title\":{\"text\":\"Date\"}},\"yaxis\":{\"title\":{\"text\":\"Price\"}}},                        {\"responsive\": true}                    ).then(function(){\n",
       "                            \n",
       "var gd = document.getElementById('18bbd1fb-c272-4bf0-8b29-2b4c7f1d3f27');\n",
       "var x = new MutationObserver(function (mutations, observer) {{\n",
       "        var display = window.getComputedStyle(gd).display;\n",
       "        if (!display || display === 'none') {{\n",
       "            console.log([gd, 'removed!']);\n",
       "            Plotly.purge(gd);\n",
       "            observer.disconnect();\n",
       "        }}\n",
       "}});\n",
       "\n",
       "// Listen for the removal of the full notebook cells\n",
       "var notebookContainer = gd.closest('#notebook-container');\n",
       "if (notebookContainer) {{\n",
       "    x.observe(notebookContainer, {childList: true});\n",
       "}}\n",
       "\n",
       "// Listen for the clearing of the current output cell\n",
       "var outputEl = gd.closest('.output');\n",
       "if (outputEl) {{\n",
       "    x.observe(outputEl, {childList: true});\n",
       "}}\n",
       "\n",
       "                        })                };                });            </script>        </div>"
      ]
     },
     "metadata": {},
     "output_type": "display_data"
    }
   ],
   "source": [
    "def retrieve_candles(filename, val_year, test_year):\n",
    "    df = pd.read_csv(filename)\n",
    "    df[\"Date\"] = pd.to_datetime(df[\"Date\"])\n",
    "    df.columns = [\"Date\", \"Close\", \"Open\", \"High\", \"Low\", \"Vol.\", \"Change%\"]\n",
    "    df = df.sort_values('Date', ascending=True)\n",
    "    \n",
    "    candles_val = df[df['Date'].dt.year == val_year]\n",
    "    candles_train = df[df['Date'].dt.year < val_year]\n",
    "    candles_train = candles_train[candles_train['Date'] > datetime(2009,7,10)]\n",
    "    \n",
    "    candles_train = candles_train.replace(',','', regex=True)\n",
    "    candles_val = candles_val.replace(',','', regex=True)\n",
    "\n",
    "    return candles_train, candles_val\n",
    "\n",
    "def plot_predictions_candles(x, y, df, dataset):\n",
    "    # PREDICTIONS LIJKEN NOG NIET GOED UITGELIJND MET CANDLES???\n",
    "    originals = []\n",
    "    predictions = []\n",
    "    y_pred = model.predict(x)\n",
    "    for i in range(len(y_pred)):\n",
    "        originals.append(y[i][0])\n",
    "        predictions.append(round(float(y_pred[i][0])))\n",
    "\n",
    "    fig = go.Figure()\n",
    "    fig.add_trace(go.Candlestick(x=df['Date'], open=df['Open'], high=df['High'], low=df['Low'], close=df['Close'], name=\"Price\"))\n",
    "    standard_factor = 0.5 * mean([float(df.iloc[0].tolist()[3]), float(df.iloc[0].tolist()[4])])\n",
    "    \n",
    "    green_legend = False\n",
    "    orange_legend = False\n",
    "    red_legend = False\n",
    "    \n",
    "    for i, row in enumerate(df.iterrows()):\n",
    "        pred_date = row[1][0].to_pydatetime()\n",
    "        pred_high = float(row[1][3])\n",
    "        pred_low = float(row[1][4])\n",
    "#         real_label = row[1][7]\n",
    "#         pred_label = row[1][8]\n",
    "        real_label = originals[i]\n",
    "        pred_label = predictions[i]\n",
    "        \n",
    "        start_shape = pred_date - timedelta(days=0.1)\n",
    "        end_shape = pred_date + timedelta(days=0.1)\n",
    "    \n",
    "        \n",
    "        if pred_label == 1:\n",
    "            extreme = pred_high + 0.1 * standard_factor\n",
    "            standard = pred_high + 0.05 * standard_factor\n",
    "#         elif pred_label == 2:\n",
    "#             extreme = pred_high + 0.2 * standard_factor\n",
    "#             standard = pred_high + 0.05 * standard_factor\n",
    "        elif pred_label == 0:\n",
    "            extreme = pred_low - 0.1 * standard_factor\n",
    "            standard = pred_low -  0.05 * standard_factor\n",
    "#         elif pred_label == -2:\n",
    "#             extreme = pred_low - 0.2 * standard_factor\n",
    "#             standard = pred_low - 0.05 * standard_factor\n",
    "            \n",
    "        if real_label == pred_label:\n",
    "            color = \"green\"\n",
    "#         elif np.sign(real_label) == np.sign(pred_label):\n",
    "#             color = \"orange\"\n",
    "        else:\n",
    "            color = \"red\"\n",
    "        \n",
    "        if real_label == pred_label and not green_legend:\n",
    "            green_legend = True\n",
    "            fig.add_trace(go.Scatter(x=[start_shape,pred_date,end_shape,start_shape], \n",
    "                                 y=[standard,extreme,standard,standard], \n",
    "                                 fill=\"toself\", name=\"Correct Direction\", mode=\"lines\", line=dict(color=color)))\n",
    "        \n",
    "#         elif np.sign(real_label) == np.sign(pred_label) and not orange_legend:\n",
    "#             orange_legend = True\n",
    "#             fig.add_trace(go.Scatter(x=[start_shape,pred_date,end_shape,start_shape], \n",
    "#                                  y=[standard,extreme,standard,standard], \n",
    "#                                  fill=\"toself\", name=\"Correct Direction / Inorrect Magnitude\", mode=\"lines\", line=dict(color=color)))\n",
    "        elif real_label != pred_label and not red_legend:\n",
    "            red_legend = True\n",
    "            fig.add_trace(go.Scatter(x=[start_shape,pred_date,end_shape,start_shape], \n",
    "                                 y=[standard,extreme,standard,standard], \n",
    "                                 fill=\"toself\", name=\"Incorrect Direction\", mode=\"lines\", line=dict(color=color)))\n",
    "        else:\n",
    "            fig.add_trace(go.Scatter(x=[start_shape,pred_date,end_shape,start_shape], \n",
    "                                 y=[standard,extreme,standard,standard], \n",
    "                                 fill=\"toself\", showlegend=False, mode=\"lines\", line=dict(color=color)))\n",
    "    \n",
    "    title = f\"Visualization of {dataset} Predictions\"\n",
    "    fig.update_xaxes(title_text=\"Date\")\n",
    "    fig.update_yaxes(title_text=\"Price\")\n",
    "    layout = dict(title=title, height=800, width=1500)\n",
    "    fig.update_layout(layout)\n",
    "#     config = dict({'scrollZoom': True})\n",
    "#     fig.show(config=config)\n",
    "    fig.show()\n",
    "\n",
    "filename = \"Dataset v3/Indices/S&P 500 Historical Data.csv\"\n",
    "candles_train, candles_val = retrieve_candles(filename, val_year, test_year) \n",
    "# plot_predictions_candles(x_train, y_train, candles_train, \"Training\")\n",
    "plot_predictions_candles(x_val, y_val, candles_val, \"Validation\")"
   ]
  },
  {
   "cell_type": "code",
   "execution_count": null,
   "metadata": {},
   "outputs": [],
   "source": []
  }
 ],
 "metadata": {
  "kernelspec": {
   "display_name": "Python 3 (ipykernel)",
   "language": "python",
   "name": "python3"
  },
  "language_info": {
   "codemirror_mode": {
    "name": "ipython",
    "version": 3
   },
   "file_extension": ".py",
   "mimetype": "text/x-python",
   "name": "python",
   "nbconvert_exporter": "python",
   "pygments_lexer": "ipython3",
   "version": "3.7.4"
  }
 },
 "nbformat": 4,
 "nbformat_minor": 2
}
