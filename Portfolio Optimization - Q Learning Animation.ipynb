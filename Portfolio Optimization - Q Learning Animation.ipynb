{
 "cells": [
  {
   "cell_type": "code",
   "execution_count": 2,
   "metadata": {},
   "outputs": [],
   "source": [
    "import pickle\n",
    "import seaborn as sns\n",
    "import matplotlib.pyplot as plt\n",
    "import ast\n",
    "from matplotlib import animation\n",
    "import numpy as np"
   ]
  },
  {
   "cell_type": "code",
   "execution_count": 5,
   "metadata": {},
   "outputs": [
    {
     "name": "stdout",
     "output_type": "stream",
     "text": [
      "64\n",
      "64\n",
      "64\n",
      "64\n",
      "64\n",
      "64\n",
      "64\n",
      "64\n",
      "64\n",
      "64\n",
      "64\n",
      "64\n",
      "64\n",
      "64\n",
      "64\n",
      "64\n",
      "64\n",
      "64\n",
      "64\n",
      "64\n",
      "64\n",
      "64\n",
      "64\n",
      "64\n",
      "64\n",
      "64\n",
      "64\n",
      "64\n",
      "64\n",
      "64\n",
      "64\n",
      "64\n",
      "64\n",
      "64\n",
      "64\n",
      "64\n",
      "64\n",
      "64\n",
      "64\n",
      "64\n",
      "64\n",
      "64\n",
      "64\n",
      "64\n",
      "64\n",
      "64\n",
      "64\n",
      "64\n",
      "64\n"
     ]
    },
    {
     "data": {
      "image/png": "[encoded data removed]",
      "text/plain": [
       "<Figure size 432x288 with 2 Axes>"
      ]
     },
     "metadata": {
      "needs_background": "light"
     },
     "output_type": "display_data"
    }
   ],
   "source": [
    "def get_states():\n",
    "    states = []\n",
    "    pdir = np.array([0,1])\n",
    "    pmag = np.array([0,1])\n",
    "\n",
    "    for i0 in pdir:\n",
    "        for i1 in pmag:\n",
    "            for i2 in pdir:\n",
    "                for i3 in pmag:\n",
    "                    for i4 in pdir:\n",
    "                        for i5 in pmag:\n",
    "                            sub = [i0, i1, i2, i3, i4, i5]\n",
    "                            states.append(str(sub))\n",
    "    return states\n",
    "\n",
    "def get_actions(granularity=0.2):\n",
    "    possible = []\n",
    "    for i in np.linspace(0, 1, int(1 / granularity + 1)).tolist():\n",
    "        possible.append(round(i,1))    \n",
    "    actions = []\n",
    "    for x in possible:\n",
    "        for y in possible:\n",
    "            for z in possible:\n",
    "                if x + y + z == 1:\n",
    "                    actions.append([x, y, z])\n",
    "    return actions\n",
    "\n",
    "def get_Q(path):\n",
    "    with open(path, \"rb\") as fp:\n",
    "        Q = pickle.load(fp)\n",
    "    labels = list(Q.keys())\n",
    "    \n",
    "#     for i in range(len(labels)):\n",
    "#         labels[i] = ast.literal_eval(labels[i])\n",
    "    values = []\n",
    "    for label in labels:\n",
    "        values.append(Q[str(label)])\n",
    "    return labels, values\n",
    "\n",
    "def animate(p):\n",
    "    global i\n",
    "    plt.clf()\n",
    "    actions = get_actions()\n",
    "    states, values = get_Q(f\"Models/Q/Q{i}.pickle\")\n",
    "#     print(len(states))\n",
    "    states = get_states()\n",
    "#     print(len(states))\n",
    "#     for i in range(len(states)):\n",
    "    print(len(values))\n",
    "#         states[i] = str(states[i])\n",
    "    ax = sns.heatmap(values, cmap=\"Blues\")\n",
    "#     ax.set_yticklabels(states)\n",
    "    ax.set_xticklabels(actions, rotation = 90)\n",
    "    ax.set_title(f\"Plot of Q-values - Episode {i + 1}\")\n",
    "    i += 1\n",
    "\n",
    "\n",
    "def animate_Q():\n",
    "#     plt.rcParams[\"figure.figsize\"] = (72, 20)\n",
    "    fig = plt.figure()\n",
    "    actions = get_actions()\n",
    "    labels, values = get_Q(f\"Models/Q/Q0.pickle\")\n",
    "    ax = sns.heatmap(values, cmap=\"Blues\")\n",
    "    ax.set_title(f\"Plot of Q-values - Episode 1\", fontsize=64)\n",
    "    global i\n",
    "    i = 1\n",
    "\n",
    "    anim = animation.FuncAnimation(fig, animate, frames=48, repeat=True)\n",
    "\n",
    "    savefile = f\"Models/Q/Q.gif\"\n",
    "    pillowwriter = animation.PillowWriter(fps=5)\n",
    "    anim.save(savefile, writer=pillowwriter)\n",
    "    plt.show()\n",
    "\n",
    "animate_Q()"
   ]
  },
  {
   "cell_type": "code",
   "execution_count": null,
   "metadata": {},
   "outputs": [],
   "source": []
  },
  {
   "cell_type": "code",
   "execution_count": null,
   "metadata": {},
   "outputs": [],
   "source": []
  },
  {
   "cell_type": "code",
   "execution_count": null,
   "metadata": {},
   "outputs": [],
   "source": []
  },
  {
   "cell_type": "code",
   "execution_count": null,
   "metadata": {},
   "outputs": [],
   "source": []
  },
  {
   "cell_type": "code",
   "execution_count": null,
   "metadata": {},
   "outputs": [],
   "source": []
  }
 ],
 "metadata": {
  "kernelspec": {
   "display_name": "Python 3 (ipykernel)",
   "language": "python",
   "name": "python3"
  },
  "language_info": {
   "codemirror_mode": {
    "name": "ipython",
    "version": 3
   },
   "file_extension": ".py",
   "mimetype": "text/x-python",
   "name": "python",
   "nbconvert_exporter": "python",
   "pygments_lexer": "ipython3",
   "version": "3.7.4"
  }
 },
 "nbformat": 4,
 "nbformat_minor": 2
}
